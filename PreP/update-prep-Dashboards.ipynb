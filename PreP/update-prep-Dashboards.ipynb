{
 "cells": [
  {
   "cell_type": "markdown",
   "id": "da31a3b3",
   "metadata": {},
   "source": [
    "# Prep work over dashboard data"
   ]
  },
  {
   "cell_type": "code",
   "execution_count": 1,
   "id": "46c2cc8a",
   "metadata": {},
   "outputs": [],
   "source": [
    "import requests\n",
    "import json"
   ]
  },
  {
   "cell_type": "code",
   "execution_count": 2,
   "id": "e1cb2dce",
   "metadata": {},
   "outputs": [
    {
     "name": "stdout",
     "output_type": "stream",
     "text": [
      "/home/jovyan/work/notebooks-wri/PreP\n",
      "builtins==None\n",
      "builtins==None\n",
      "requests==2.26.0\n",
      "json==2.0.9\n",
      "requests_toolbelt.sessions==None\n",
      "types==None\n",
      "logging==0.5.1.2\n",
      "getpass==None\n"
     ]
    }
   ],
   "source": [
    "# Load notebook with functions for RW api management\n",
    "\n",
    "%run '/home/jovyan/work/notebooks-wri/layer-migration-v4/RW-API_management_functions.ipynb'"
   ]
  },
  {
   "cell_type": "code",
   "execution_count": 27,
   "id": "55ac240a",
   "metadata": {
    "scrolled": true
   },
   "outputs": [
    {
     "name": "stdout",
     "output_type": "stream",
     "text": [
      "You are login into \u001b[95m\u001b[1mRW api\u001b[0m\n",
      "Email: alicia.arenzana@vizzuality.com\n",
      "Password: ········\n",
      "\u001b[92mSuccessfully logged into RW api\u001b[0m\n"
     ]
    }
   ],
   "source": [
    "# session for the RW api\n",
    "session = rwApiSession()"
   ]
  },
  {
   "cell_type": "code",
   "execution_count": 3,
   "id": "c4d13808",
   "metadata": {},
   "outputs": [],
   "source": [
    "dashboardsPrep = requests.get('https://prepdata.org/api/dashboards').json()"
   ]
  },
  {
   "cell_type": "code",
   "execution_count": 4,
   "id": "5160b921",
   "metadata": {
    "scrolled": true
   },
   "outputs": [
    {
     "data": {
      "text/plain": [
       "14"
      ]
     },
     "execution_count": 4,
     "metadata": {},
     "output_type": "execute_result"
    }
   ],
   "source": [
    "len(dashboardsPrep)"
   ]
  },
  {
   "cell_type": "code",
   "execution_count": 28,
   "id": "fe70080e",
   "metadata": {},
   "outputs": [],
   "source": [
    "def getPrepLayerList(session):\n",
    "    '''\n",
    "    Gets a list of assets from the selected env or from the constrained dataset list\n",
    "    For our needs we will ignore other includer than layer.\n",
    "    '''\n",
    "    url = '/v1/layer'\n",
    "    payload={\n",
    "        'env':'production',\n",
    "        'application':'prep',\n",
    "        'status':'saved',\n",
    "        'page[size]':100\n",
    "    }\n",
    "    response = []\n",
    "    data = session.get(url, params=payload).json()\n",
    "    \n",
    "    response.extend(data['data'])\n",
    "    \n",
    "    # If pagination is needed we will access the data chunk by chunk\n",
    "    if data['meta']['total-pages'] > 1:\n",
    "        for n in range(2, data['meta']['total-pages'] + 1):\n",
    "            payload['page[number]'] = n\n",
    "            response.extend(session.get(url, params=payload).json()['data'])\n",
    "    \n",
    "    return response"
   ]
  },
  {
   "cell_type": "code",
   "execution_count": 79,
   "id": "f90da9f9",
   "metadata": {},
   "outputs": [],
   "source": [
    "prepLayers = getPrepLayerList(session)"
   ]
  },
  {
   "cell_type": "code",
   "execution_count": 81,
   "id": "c9c62cea",
   "metadata": {},
   "outputs": [
    {
     "data": {
      "text/plain": [
       "160"
      ]
     },
     "execution_count": 81,
     "metadata": {},
     "output_type": "execute_result"
    }
   ],
   "source": [
    "problematicLayers = []\n",
    "\n",
    "for layer in prepLayers:\n",
    "    if layer.get('attributes').get('provider')  in ['loca', 'nexgddp']:\n",
    "        problematicLayers.append(layer.get('id'))\n",
    "        \n",
    "len(problematicLayers)"
   ]
  },
  {
   "cell_type": "code",
   "execution_count": 82,
   "id": "5c7a7435",
   "metadata": {},
   "outputs": [],
   "source": [
    "def tryRequest(url: str):\n",
    "    if 'nexgddp' in url or '/loca' in url:\n",
    "        print(url)\n",
    "    r = requests.get(url)\n",
    "    if r.status_code not in [200, 202]:\n",
    "        print(r.status_code)\n",
    "        print(url)"
   ]
  },
  {
   "cell_type": "code",
   "execution_count": 68,
   "id": "6b252612",
   "metadata": {},
   "outputs": [
    {
     "data": {
      "text/plain": [
       "{'data': {'id': '9054b065-769b-450f-bbab-e97877c28fdd',\n",
       "  'type': 'layer',\n",
       "  'attributes': {'name': '1971-2000 to 2051-2080 Increase in Number of Extreme Heat Days',\n",
       "   'slug': '1971-2000-to-2051-2080-Difference-in-Extreme-Heat-Days-RCP-45-Days-Change_1',\n",
       "   'dataset': '345a74e4-bc34-4077-b1e6-9096e5d44a9f',\n",
       "   'description': 'The projected change in extreme heat days in 2051-2080, relative to 1971-2000, under a lower emissions scenario (RCP 4.5). Extreme heat days represents the annual average count of days with heat greater than the 99th percentile of the baseline.',\n",
       "   'application': ['prep'],\n",
       "   'iso': [],\n",
       "   'provider': 'leaflet',\n",
       "   'userId': '594a8b5b3b0f7f271d303321',\n",
       "   'default': True,\n",
       "   'protected': False,\n",
       "   'published': True,\n",
       "   'env': 'production',\n",
       "   'layerConfig': {'type': 'tileLayer',\n",
       "    'service': 'leaflet',\n",
       "    'url': 'https://api.resourcewatch.org/v1/layer/a341796d-ac66-443c-9eb9-27918b315ff7/tile/nexgddp/{z}/{x}/{y}?year=1971-01-01T00:00:00.000Z&compareYear=2051-01-01T00:00:00.000Z',\n",
       "    'body': {'format': 'image/png', 'minZoom': 2, 'maxZoom': 13},\n",
       "    'id': 'e8ba6f1d-e983-45cd-aee9-805284719cd2'},\n",
       "   'legendConfig': {'items': [{'value': 'No Data', 'color': 'transparent'},\n",
       "     {'color': '#E5E0DD', 'value': 0},\n",
       "     {'color': '#fddbc7', 'value': 15},\n",
       "     {'color': '#f4a582', 'value': 30},\n",
       "     {'color': '#d6604d', 'value': 45},\n",
       "     {'color': '#b2182b', 'value': 60},\n",
       "     {'color': '#68021E', 'value': '90+'}],\n",
       "    'unit': 'days change',\n",
       "    'type': 'gradient'},\n",
       "   'interactionConfig': {},\n",
       "   'applicationConfig': {},\n",
       "   'staticImageConfig': {},\n",
       "   'createdAt': '2021-10-06T10:08:28.943Z',\n",
       "   'updatedAt': '2018-09-21T13:33:54.337Z'}}}"
      ]
     },
     "execution_count": 68,
     "metadata": {},
     "output_type": "execute_result"
    }
   ],
   "source": [
    "# lets first update this 2 problematic layers:\n",
    "\n",
    "session.get('/v1/layer/9054b065-769b-450f-bbab-e97877c28fdd').json()"
   ]
  },
  {
   "cell_type": "code",
   "execution_count": 74,
   "id": "684049bf",
   "metadata": {},
   "outputs": [
    {
     "data": {
      "text/plain": [
       "'{\"layerConfig\": {\"type\": \"tileLayer\", \"service\": \"leaflet\", \"url\": \"https://api.resourcewatch.org/v1/layer/8e896bf3-b445-4efc-a23d-5552637ad263/tile/gee/{z}/{x}/{y}\", \"body\": {\"format\": \"image/png\", \"minZoom\": 2, \"maxZoom\": 13}, \"id\": \"e8ba6f1d-e983-45cd-aee9-805284719cd2\"}}'"
      ]
     },
     "execution_count": 74,
     "metadata": {},
     "output_type": "execute_result"
    }
   ],
   "source": [
    "newLayerConfig = {\n",
    "    'layerConfig': {\n",
    "    'type': 'tileLayer',\n",
    "    'service': 'leaflet',\n",
    "    'url': 'https://api.resourcewatch.org/v1/layer/8e896bf3-b445-4efc-a23d-5552637ad263/tile/gee/{z}/{x}/{y}',\n",
    "    'body': {'format': 'image/png', 'minZoom': 2, 'maxZoom': 13},\n",
    "    'id': 'e8ba6f1d-e983-45cd-aee9-805284719cd2'\n",
    "    }\n",
    "}\n",
    "json.dumps(newLayerConfig)\n",
    "session.patch('/v1/dataset/345a74e4-bc34-4077-b1e6-9096e5d44a9f/layer/9054b065-769b-450f-bbab-e97877c28fdd', json = newLayerConfig).json()"
   ]
  },
  {
   "cell_type": "code",
   "execution_count": 75,
   "id": "5f6825c1",
   "metadata": {},
   "outputs": [
    {
     "data": {
      "text/plain": [
       "{'data': {'id': '831b208e-cd43-42c2-a8bc-a6e2316afdde',\n",
       "  'type': 'layer',\n",
       "  'attributes': {'name': '1971-2000 to 2021-2050 Increase in Number of Extreme Heat Days',\n",
       "   'slug': '1971-2000-to-2021-2050-Difference-in-Extreme-Heat-Days-RCP-45-Days-Change',\n",
       "   'dataset': 'd5358bba-a07c-47c9-ba7a-7b168a10cc75',\n",
       "   'description': 'The projected change in extreme heat days in 2021-2050, relative to 1971-2000, under a lower emissions scenario (RCP 4.5). Extreme heat days represents the annual average count of days with heat greater than the 99th percentile of the baseline.',\n",
       "   'application': ['prep'],\n",
       "   'iso': [],\n",
       "   'provider': 'leaflet',\n",
       "   'userId': '594a8b5b3b0f7f271d303321',\n",
       "   'default': True,\n",
       "   'protected': False,\n",
       "   'published': True,\n",
       "   'env': 'production',\n",
       "   'layerConfig': {'type': 'tileLayer',\n",
       "    'service': 'leaflet',\n",
       "    'url': 'https://api.resourcewatch.org/v1/layer/a341796d-ac66-443c-9eb9-27918b315ff7/tile/nexgddp/{z}/{x}/{y}?year=1971-01-01T00:00:00.000Z&compareYear=2021-01-01T00:00:00.000Z',\n",
       "    'body': {'format': 'image/png', 'minZoom': 2, 'maxZoom': 13},\n",
       "    'id': 'e8ba6f1d-e983-45cd-aee9-805284719cd2'},\n",
       "   'legendConfig': {'items': [{'value': 'No Data', 'color': 'transparent'},\n",
       "     {'color': '#E5E0DD', 'value': 0},\n",
       "     {'color': '#fddbc7', 'value': 15},\n",
       "     {'color': '#f4a582', 'value': 30},\n",
       "     {'color': '#d6604d', 'value': 45},\n",
       "     {'color': '#b2182b', 'value': 60},\n",
       "     {'color': '#68021E', 'value': '90+'}],\n",
       "    'unit': 'days change',\n",
       "    'type': 'gradient'},\n",
       "   'interactionConfig': {},\n",
       "   'applicationConfig': {},\n",
       "   'staticImageConfig': {},\n",
       "   'createdAt': '2021-10-06T10:44:22.840Z',\n",
       "   'updatedAt': '2018-09-21T13:34:09.316Z'}}}"
      ]
     },
     "execution_count": 75,
     "metadata": {},
     "output_type": "execute_result"
    }
   ],
   "source": [
    "session.get('/v1/layer/831b208e-cd43-42c2-a8bc-a6e2316afdde').json()"
   ]
  },
  {
   "cell_type": "code",
   "execution_count": 77,
   "id": "c343fd04",
   "metadata": {},
   "outputs": [
    {
     "data": {
      "text/plain": [
       "{'data': {'id': '831b208e-cd43-42c2-a8bc-a6e2316afdde',\n",
       "  'type': 'layer',\n",
       "  'attributes': {'name': '1971-2000 to 2021-2050 Increase in Number of Extreme Heat Days',\n",
       "   'slug': '1971-2000-to-2021-2050-Difference-in-Extreme-Heat-Days-RCP-45-Days-Change',\n",
       "   'dataset': 'd5358bba-a07c-47c9-ba7a-7b168a10cc75',\n",
       "   'description': 'The projected change in extreme heat days in 2021-2050, relative to 1971-2000, under a lower emissions scenario (RCP 4.5). Extreme heat days represents the annual average count of days with heat greater than the 99th percentile of the baseline.',\n",
       "   'application': ['prep'],\n",
       "   'iso': [],\n",
       "   'provider': 'leaflet',\n",
       "   'userId': '594a8b5b3b0f7f271d303321',\n",
       "   'default': True,\n",
       "   'protected': False,\n",
       "   'published': True,\n",
       "   'env': 'production',\n",
       "   'layerConfig': {'type': 'tileLayer',\n",
       "    'service': 'leaflet',\n",
       "    'url': 'https://api.resourcewatch.org/v1/layer/a51fabc9-d31b-49c9-b417-0d5a3adbbc39/tile/gee/{z}/{x}/{y}',\n",
       "    'body': {'format': 'image/png', 'minZoom': 2, 'maxZoom': 13},\n",
       "    'id': 'e8ba6f1d-e983-45cd-aee9-805284719cd2'},\n",
       "   'legendConfig': {'items': [{'value': 'No Data', 'color': 'transparent'},\n",
       "     {'color': '#E5E0DD', 'value': 0},\n",
       "     {'color': '#fddbc7', 'value': 15},\n",
       "     {'color': '#f4a582', 'value': 30},\n",
       "     {'color': '#d6604d', 'value': 45},\n",
       "     {'color': '#b2182b', 'value': 60},\n",
       "     {'color': '#68021E', 'value': '90+'}],\n",
       "    'unit': 'days change',\n",
       "    'type': 'gradient'},\n",
       "   'interactionConfig': {},\n",
       "   'applicationConfig': {},\n",
       "   'staticImageConfig': {},\n",
       "   'createdAt': '2021-10-06T10:52:39.650Z',\n",
       "   'updatedAt': '2021-10-06T10:52:39.652Z'}}}"
      ]
     },
     "execution_count": 77,
     "metadata": {},
     "output_type": "execute_result"
    }
   ],
   "source": [
    "newLayerConfig = {\n",
    "    'layerConfig': {\n",
    "    'type': 'tileLayer',\n",
    "    'service': 'leaflet',\n",
    "    'url': 'https://api.resourcewatch.org/v1/layer/a51fabc9-d31b-49c9-b417-0d5a3adbbc39/tile/gee/{z}/{x}/{y}',\n",
    "    'body': {'format': 'image/png', 'minZoom': 2, 'maxZoom': 13},\n",
    "    'id': 'e8ba6f1d-e983-45cd-aee9-805284719cd2'\n",
    "    }\n",
    "}\n",
    "json.dumps(newLayerConfig)\n",
    "session.patch('/v1/dataset/d5358bba-a07c-47c9-ba7a-7b168a10cc75/layer/831b208e-cd43-42c2-a8bc-a6e2316afdde', json = newLayerConfig).json()"
   ]
  },
  {
   "cell_type": "code",
   "execution_count": 83,
   "id": "8e3f099e",
   "metadata": {},
   "outputs": [],
   "source": [
    "def tryWidget(url: str):\n",
    "    r = requests.get(url)\n",
    "    if r.status_code not in [200, 202]:\n",
    "        print(r.status_code)\n",
    "        print(url)\n",
    "        print(r.text)\n",
    "    \n",
    "    if r.json().get('data',{}).get('attributes',{}).get('widgetConfig',{}).get('type') == 'map':\n",
    "        layerId = r.json().get('data',{}).get('attributes',{}).get('widgetConfig',{}).get('layer_id')\n",
    "        if layerId in problematicLayers:\n",
    "            print(f'https://api.resourcewatch.org/v1/layer/{layerId}')\n",
    "        # s = requests.get(f'https://api.resourcewatch.org/v1/layer/{layerId}')\n",
    "    \n",
    "    "
   ]
  },
  {
   "cell_type": "code",
   "execution_count": 84,
   "id": "981537ec",
   "metadata": {},
   "outputs": [],
   "source": [
    "def recursiveGridCheck(asset: list):\n",
    "    for gridContent in asset:\n",
    "        if gridContent is not None:\n",
    "            if type(gridContent) is list:\n",
    "                recursiveGridCheck(gridContent)\n",
    "            elif gridContent.get('type') == 'widget':\n",
    "                tryWidget(f'https://api.resourcewatch.org/v1/widget/{gridContent.get(\"content\").get(\"widgetId\")}')\n",
    "            elif gridContent.get('type') == 'embed':\n",
    "                 tryRequest(gridContent.get('content').get('src'))\n",
    "                "
   ]
  },
  {
   "cell_type": "code",
   "execution_count": 86,
   "id": "1237a6db",
   "metadata": {
    "scrolled": false
   },
   "outputs": [
    {
     "name": "stdout",
     "output_type": "stream",
     "text": [
      "229\n",
      "https://www.prepdata.org/embed/nexgddp/xpr_rcp45_decadal?zoom=7&lat=9.973659811686428&lng=-84.0075682103634&mapMode=side-by-side&graphMode=timeseries&scenario=rcp85&tempResolution=30_y&range1=1971-01-01T00%3A00%3A00.000Z&range2=2051-01-01T00%3A00%3A00.000Z&basemap=light&labels=light&boundaries=true&render=map\n",
      "{'text': 44, 'grid': 9, 'embed': 3, 'image': 1}\n",
      "______________________________________________________________________________\n",
      "263\n",
      "{'text': 43, 'grid': 9, 'embed': 4}\n",
      "______________________________________________________________________________\n",
      "50\n",
      "https://prepdata.org/embed/nexgddp/xpr_rcp45_decadal?zoom=7&lat=10.022948394510154&lng=-84.803466796875&markerLat=10.066220126753016&markerLng=-84.02893066406251&mapMode=difference&graphMode=timeseries&scenario=rcp85&tempResolution=30_y&range1=1971-01-01T00%3A00%3A00.000Z&range2=2021-01-01T00%3A00%3A00.000Z&labels=light&boundaries=true&render=map\n",
      "{'text': 16, 'embed': 3, 'grid': 3, 'widget': 1}\n",
      "______________________________________________________________________________\n",
      "278\n",
      "https://www.prepdata.org/embed/nexgddp/xs_rcp45_decadal?zoom=7&lat=9.806503561727128&lng=-83.96728578954938&mapMode=side-by-side&graphMode=timeseries&scenario=rcp85&tempResolution=30_y&range1=1971-01-01T00%3A00%3A00.000Z&range2=2051-01-01T00%3A00%3A00.000Z&labels=light&boundaries=true&render=map\n",
      "https://www.prepdata.org/embed/nexgddp/xpr_rcp45_decadal?zoom=7&lat=9.9123388170537&lng=-84.13940280675888&mapMode=side-by-side&graphMode=timeseries&scenario=rcp85&tempResolution=30_y&range1=1971-01-01T00%3A00%3A00.000Z&range2=2051-01-01T00%3A00%3A00.000Z&labels=light&boundaries=true&render=map\n",
      "{'text': 63, 'grid': 8, 'embed': 9, 'image': 1}\n",
      "______________________________________________________________________________\n",
      "303\n",
      "{'text': 3, 'embed': 2, 'grid': 2, 'image': 1}\n",
      "______________________________________________________________________________\n",
      "144\n",
      "{'text': 19, 'embed': 4, 'widget': 6}\n",
      "______________________________________________________________________________\n",
      "106\n",
      "https://prepdata.org/embed/nexgddp/xs_rcp45_decadal?zoom=7&lat=29.75483997251096&lng=79.24438476562501&mapMode=side-by-side&graphMode=timeseries&scenario=rcp45&tempResolution=30_y&range1=1971-01-01T00%3A00%3A00.000Z&range2=2021-01-01T00%3A00%3A00.000Z&labels=light&boundaries=true&render=map\n",
      "https://prepdata.org/embed/nexgddp/xs_rcp45_decadal?zoom=7&lat=29.75483997251096&lng=79.24438476562501&markerLat=30.240086360983426&markerLng=79.14001464843751&mapMode=difference&graphMode=timeseries&scenario=rcp45&tempResolution=30_y&range1=1971-01-01T00%3A00%3A00.000Z&range2=2021-01-01T00%3A00%3A00.000Z&labels=light&boundaries=true&render=chart\n",
      "{'text': 27, 'embed': 9, 'image': 1}\n",
      "______________________________________________________________________________\n",
      "105\n",
      "https://www.prepdata.org/embed/nexgddp/tasavg_rcp45_decadal?zoom=7&lat=29.878755346037977&lng=79.44213867187501&markerLat=30.05958569970824&markerLng=79.21691894531251&mapMode=side-by-side&graphMode=timeseries&scenario=rcp45&tempResolution=30_y&range1=1971-01-01T00%3A00%3A00.000Z&range2=2021-01-01T00%3A00%3A00.000Z&labels=light&boundaries=true&render=map\n",
      "{'text': 26, 'image': 1, 'grid': 3, 'embed': 5}\n",
      "______________________________________________________________________________\n",
      "70\n",
      "https://www.prepdata.org/embed/nexgddp/xpr_rcp45_decadal?zoom=6&lat=23.059516273509317&lng=78.4423828125&mapMode=side-by-side&graphMode=timeseries&scenario=rcp45&tempResolution=decadal&range1=2011-01-01T00%3A00%3A00.000Z&range2=2041-01-01T00%3A00%3A00.000Z&labels=light&boundaries=true&render=map\n",
      "https://www.prepdata.org/embed/nexgddp/xs_rcp45_decadal?zoom=6&lat=23.60426184707018&lng=78.21166992187501&mapMode=side-by-side&graphMode=timeseries&scenario=rcp85&tempResolution=decadal&range1=2001-01-01T00%3A00%3A00.000Z&range2=2021-01-01T00%3A00%3A00.000Z&labels=light&boundaries=true&render=map\n",
      "{'text': 37, 'grid': 8, 'embed': 7}\n",
      "______________________________________________________________________________\n",
      "71\n",
      "https://prepdata.org/embed/nexgddp/dry_rcp45_decadal?zoom=6&lat=23.543845136505844&lng=78.59619140625001&mapMode=difference&graphMode=timeseries&scenario=rcp85&tempResolution=30_y&range1=1971-01-01T00%3A00%3A00.000Z&range2=2051-01-01T00%3A00%3A00.000Z&labels=light&boundaries=true&render=map\n",
      "{'text': 13, 'embed': 2, 'widget': 2, 'grid': 2}\n",
      "______________________________________________________________________________\n",
      "52\n",
      "404\n",
      "https://api.resourcewatch.org/v1/widget/10c908f1-7941-487d-80fa-0329243168b9\n",
      "{\"errors\":[{\"status\":404,\"detail\":\"Widget not found with the id 10c908f1-7941-487d-80fa-0329243168b9\"}]}\n",
      "https://prepdata.org/embed/nexgddp/xpr_rcp45_decadal?zoom=5&lat=-5.484768018141262&lng=-76.88232421875001&markerLat=-13.62463343823614&markerLng=-71.82861328125001&mapMode=difference&graphMode=timeseries&scenario=rcp85&tempResolution=decadal&range1=2011-01-01T00%3A00%3A00.000Z&range2=2081-01-01T00%3A00%3A00.000Z&labels=light&boundaries=true&render=map\n",
      "{'text': 16, 'grid': 4, 'embed': 1, 'widget': 1}\n",
      "______________________________________________________________________________\n",
      "1\n",
      "{'text': 2, 'grid': 5, 'tool': 3}\n",
      "______________________________________________________________________________\n",
      "2\n",
      "{'text': 3, 'embed': 3, 'grid': 18, 'insight': 1, 'tool': 1}\n",
      "______________________________________________________________________________\n",
      "3\n",
      "{'text': 2, 'grid': 1, 'widget': 2, 'tool': 1, 'insight': 1}\n",
      "______________________________________________________________________________\n"
     ]
    }
   ],
   "source": [
    "for dashboard in dashboardsPrep:\n",
    "    print(dashboard['id'])\n",
    "    contentTypes = {}\n",
    "    for content in json.loads(dashboard.get('content')):\n",
    "        if content.get('type') in contentTypes.keys():\n",
    "            contentTypes[content.get('type')] += 1\n",
    "        else:\n",
    "            contentTypes[content.get('type')] = 1\n",
    "        \n",
    "        if content.get('type') == 'grid':\n",
    "            recursiveGridCheck(content.get('content'))\n",
    "        elif content.get('type') == 'embed':\n",
    "            tryRequest(content.get('content').get('src'))\n",
    "    \n",
    "    print(contentTypes)\n",
    "    print('______________________________________________________________________________')"
   ]
  },
  {
   "cell_type": "code",
   "execution_count": 30,
   "id": "6349d017",
   "metadata": {},
   "outputs": [
    {
     "data": {
      "text/plain": [
       "1750"
      ]
     },
     "execution_count": 30,
     "metadata": {},
     "output_type": "execute_result"
    }
   ],
   "source": [
    "len(prepLayers)"
   ]
  },
  {
   "cell_type": "code",
   "execution_count": 31,
   "id": "5b5e990a",
   "metadata": {},
   "outputs": [
    {
     "data": {
      "text/plain": [
       "{'arcgis': 102,\n",
       " 'gee': 859,\n",
       " 'cartodb': 539,\n",
       " 'loca': 80,\n",
       " 'nexgddp': 80,\n",
       " 'featureservice': 5,\n",
       " 'leaflet': 22,\n",
       " 'wms': 63}"
      ]
     },
     "execution_count": 31,
     "metadata": {},
     "output_type": "execute_result"
    }
   ],
   "source": [
    "providers = {}\n",
    "for layer in prepLayers:\n",
    "    if layer.get('attributes').get('provider') in providers.keys():\n",
    "        providers[layer.get('attributes',{}).get('provider')] += 1\n",
    "    else:\n",
    "        providers[layer.get('attributes',{}).get('provider')] = 1\n",
    "providers"
   ]
  },
  {
   "cell_type": "code",
   "execution_count": null,
   "id": "0f38f43c",
   "metadata": {},
   "outputs": [],
   "source": [
    "session.get('/v1/widget/acfd8195-9729-4c88-afbb-731deffd1e55').json()"
   ]
  },
  {
   "cell_type": "code",
   "execution_count": null,
   "id": "b6cdc1b6",
   "metadata": {},
   "outputs": [],
   "source": [
    "session.get('/v1/layer/9054b065-769b-450f-bbab-e97877c28fdd').json()"
   ]
  },
  {
   "cell_type": "code",
   "execution_count": null,
   "id": "b55d39e8",
   "metadata": {},
   "outputs": [],
   "source": []
  }
 ],
 "metadata": {
  "kernelspec": {
   "display_name": "Python 3 (ipykernel)",
   "language": "python",
   "name": "python3"
  },
  "language_info": {
   "codemirror_mode": {
    "name": "ipython",
    "version": 3
   },
   "file_extension": ".py",
   "mimetype": "text/x-python",
   "name": "python",
   "nbconvert_exporter": "python",
   "pygments_lexer": "ipython3",
   "version": "3.8.10"
  }
 },
 "nbformat": 4,
 "nbformat_minor": 5
}
