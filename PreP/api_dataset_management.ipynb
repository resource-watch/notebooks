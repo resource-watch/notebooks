{
 "cells": [
  {
   "cell_type": "markdown",
   "metadata": {
    "toc": "true"
   },
   "source": [
    "# Table of Contents\n",
    " <p>"
   ]
  },
  {
   "cell_type": "code",
   "execution_count": 2,
   "metadata": {
    "ExecuteTime": {
     "end_time": "2017-05-08T08:45:08.167009",
     "start_time": "2017-05-08T08:45:07.154024"
    },
    "collapsed": true
   },
   "outputs": [],
   "source": [
    "import requests\n",
    "import json\n",
    "import pandas as pd\n",
    "from pprint import pprint\n",
    "from multiprocessing import Pool"
   ]
  },
  {
   "cell_type": "markdown",
   "metadata": {},
   "source": [
    "This script will get all datasets from selected application with their layers, and it will check if they are working properly.  \n",
    "\n",
    "Finally, it will deliver a csv file as status report for each one of them.  \n",
    "\n",
    "| Column name | Description |\n",
    "|:---|:---|\n",
    "| connector_provider  | dataset connector provider |\n",
    "| connector_url  | if available url connected  |\n",
    "| connector_url_status | [status code](https://en.wikipedia.org/wiki/List_of_HTTP_status_codes) |\n",
    "| dataset_id  | api dataset id |\n",
    "| dataset_name  |  dataset name |\n",
    "| dataset_sql_error | sql endpoint error explained if available  |\n",
    "| dataset_sql_status  |  sql endpoint [status code](https://en.wikipedia.org/wiki/List_of_HTTP_status_codes) |\n",
    "| n_layers |  number of layers associated |\n",
    "| n_widgets |  number of widgets associated |"
   ]
  },
  {
   "cell_type": "code",
   "execution_count": 53,
   "metadata": {
    "ExecuteTime": {
     "end_time": "2017-05-08T09:14:44.171552",
     "start_time": "2017-05-08T09:14:44.119570"
    },
    "collapsed": true,
    "scrolled": false
   },
   "outputs": [],
   "source": [
    "def req_error_handler(url):\n",
    "    '''\n",
    "    Handle the url exceptions following: https://en.wikipedia.org/wiki/List_of_HTTP_status_codes\n",
    "    '''\n",
    "    try: \n",
    "        s = requests.get(url, timeout=20)\n",
    "        status = s.status_code\n",
    "    except requests.HTTPError as e:\n",
    "        s=None\n",
    "        status= e.response.status_code\n",
    "        pass\n",
    "    except:\n",
    "        s=None\n",
    "        status= 408\n",
    "        pass\n",
    "    finally:\n",
    "        return s, status\n",
    "\n",
    "def f(dataset):\n",
    "    '''\n",
    "    1º check if the sql query fails\n",
    "    2º if 1º fails checks the provider url fail and catch the errors.\n",
    "    '''\n",
    "    data={}\n",
    "    geometryUrl='https://api.resourcewatch.org/v1/query/{0}?sql=select * from {1} limit 1'\n",
    "    provider ={\n",
    "        'gee': {'url':'https://api.resourcewatch.org/v1/query/{0}?sql=select st_metadata(the_raster_webmercator) from \"{1}\" limit 1', 'connector_url':False},\n",
    "        'cartodb': {'url':geometryUrl,'connector_url':True},\n",
    "        'featureservice': {'url':geometryUrl,'connector_url':True},\n",
    "        'nexgddp':{'url':'https://api.resourcewatch.org/v1/query/{0}?sql=select * from {1} where year=1960 limit 1','connector_url':False},\n",
    "        'rasdaman':{'url':'https://api.resourcewatch.org/v1/query/{0}?wcps=FOR c in ({1}) return 1','connector_url':False},\n",
    "        'wms':{'connector_url':False},\n",
    "        'csv':{'url':geometryUrl,'connector_url':True},\n",
    "        'tsv':{'url':geometryUrl,'connector_url':True},\n",
    "        'json':{'url':geometryUrl,'connector_url':True}\n",
    "    }\n",
    "    \n",
    "    if dataset['attributes']['provider']!='wms'and dataset['attributes']['provider'] in provider.keys():\n",
    "         \n",
    "        url = geometryUrl if dataset['attributes']['provider']=='gee' and dataset['attributes']['tableName'][:3]=='ft:' else provider[dataset['attributes']['provider']]['url']\n",
    "        s, statusq = req_error_handler(url.format(dataset['id'], dataset['attributes']['tableName']))\n",
    "            \n",
    "        if s==None or statusq!=200:\n",
    "\n",
    "            connectorUrl = dataset['attributes']['connectorUrl'] if dataset['attributes']['connectorUrl'] is not None or dataset['attributes']['connectorUrl']!= '' else None\n",
    "            conn, status = req_error_handler(connectorUrl)\n",
    "\n",
    "            data['dataset_id']=dataset['id']\n",
    "            data['dataset_name']=dataset['attributes']['name']\n",
    "            data['dataset_sql_status']=statusq\n",
    "            data['dataset_sql_error']=s.text if s != None else None\n",
    "            data['connector_provider']=dataset['attributes']['provider']\n",
    "            data['connector_url_status']= status\n",
    "            data['connector_url']= connectorUrl if connectorUrl!= None or connectorUrl!= '' else None\n",
    "            data['n_layers'] = len(dataset['attributes']['layer'])\n",
    "            data['n_widgets'] = len(dataset['attributes']['widget'])\n",
    "            return data\n",
    "        \n",
    "    elif dataset['attributes']['provider']=='wms':\n",
    "        for layer in dataset['attributes']['layer']:\n",
    "                url = layer['attributes']['layerConfig']['body']['url'] if 'url' in layer['attributes']['layerConfig']['body'] else None\n",
    "                s, statusq = req_error_handler(url)\n",
    "                if statusq!=200 or s==None:\n",
    "                    data['dataset_id']=dataset['id']\n",
    "                    data['dataset_name']=dataset['attributes']['name']\n",
    "                    data['dataset_sql_status']=None\n",
    "                    data['dataset_sql_error']=None\n",
    "                    data['connector_provider']=dataset['attributes']['connectorUrl']\n",
    "                    data['connector_url_status']=statusq if s!=None else 408\n",
    "                    data['connector_url']=dataset['attributes']['connectorUrl']\n",
    "                    data['n_layers'] = len(dataset['attributes']['layer'])\n",
    "                    data['n_widgets'] = len(dataset['attributes']['widget'])\n",
    "                    return data\n",
    "\n"
   ]
  },
  {
   "cell_type": "code",
   "execution_count": 54,
   "metadata": {
    "ExecuteTime": {
     "end_time": "2017-05-08T09:20:25.300768",
     "start_time": "2017-05-08T09:20:25.259867"
    },
    "collapsed": true,
    "scrolled": true
   },
   "outputs": [],
   "source": [
    "def dataFrame(l,application):\n",
    "    '''\n",
    "    creates the dataframe from the datasets that are failing and exports it to csv\n",
    "    saves the file in the same folder the script is located.\n",
    "    '''\n",
    "    dDict={\n",
    "    'dataset_id': [x['dataset_id'] for x in l if x!=None],\n",
    "    'dataset_name': [x['dataset_name'] for x in l if x!=None],\n",
    "    'dataset_sql_status': [x['dataset_sql_status'] for x in l if x!=None],\n",
    "    'dataset_sql_error': [x['dataset_sql_error'] for x in l if x!=None],\n",
    "    'connector_provider': [x['connector_provider'] for x in l if x!=None],\n",
    "    'connector_url_status': [x['connector_url_status'] for x in l if x!=None],\n",
    "    'connector_url': [x['connector_url'] for x in l if x!=None],\n",
    "    'n_layers': [x['n_layers'] for x in l if x!=None],\n",
    "    'n_widgets': [x['n_widgets'] for x in l if x!=None]\n",
    "\n",
    "    }\n",
    "    pd.DataFrame(dDict).to_csv((application+'.csv'))\n",
    "    return 'done'"
   ]
  },
  {
   "cell_type": "code",
   "execution_count": 55,
   "metadata": {
    "ExecuteTime": {
     "end_time": "2017-05-08T09:22:16.783017",
     "start_time": "2017-05-08T09:22:16.761021"
    },
    "collapsed": true
   },
   "outputs": [],
   "source": [
    "def main(n, application):\n",
    "    '''\n",
    "    n: number of threads to use \n",
    "    application: api application we want to check its datasets\n",
    "    '''\n",
    "    try:\n",
    "        r = requests.get(\"https://api.resourcewatch.org/v1/dataset?application=\"+application+\"&status=saved&includes=widget,layer&page[size]=14914800\")\n",
    "    except requests.ConnectionError:\n",
    "        print(\"Unexpected error:\", requests.ConnectionError)\n",
    "        raise\n",
    "    else:\n",
    "        dataset_list = r.json()['data']\n",
    "        p = Pool(n)\n",
    "        l = p.map(f, dataset_list)\n",
    "        dataFrame(l,application)\n"
   ]
  },
  {
   "cell_type": "code",
   "execution_count": 56,
   "metadata": {
    "ExecuteTime": {
     "end_time": "2017-05-08T09:52:02.098318",
     "start_time": "2017-05-08T09:51:21.354225"
    },
    "scrolled": false
   },
   "outputs": [],
   "source": [
    "main(20,'prep')"
   ]
  },
  {
   "cell_type": "code",
   "execution_count": 58,
   "metadata": {
    "ExecuteTime": {
     "end_time": "2017-05-08T09:52:35.958261",
     "start_time": "2017-05-08T09:52:02.103538"
    }
   },
   "outputs": [],
   "source": [
    "main(20,'rw')"
   ]
  }
 ],
 "metadata": {
  "hide_input": false,
  "kernelspec": {
   "display_name": "Python 3",
   "language": "python",
   "name": "python3"
  },
  "toc": {
   "colors": {
    "hover_highlight": "#DAA520",
    "navigate_num": "#000000",
    "navigate_text": "#333333",
    "running_highlight": "#FF0000",
    "selected_highlight": "#FFD700",
    "sidebar_border": "#EEEEEE",
    "wrapper_background": "#FFFFFF"
   },
   "moveMenuLeft": true,
   "nav_menu": {
    "height": "12px",
    "width": "252px"
   },
   "navigate_menu": true,
   "number_sections": true,
   "sideBar": true,
   "threshold": "2",
   "toc_cell": true,
   "toc_position": {
    "height": "58px",
    "left": "0px",
    "right": "1162px",
    "top": "130px",
    "width": "100px"
   },
   "toc_section_display": "none",
   "toc_window_display": true,
   "widenNotebook": false
  },
  "varInspector": {
   "cols": {
    "lenName": 16,
    "lenType": 16,
    "lenVar": 40
   },
   "kernels_config": {
    "python": {
     "delete_cmd_postfix": "",
     "delete_cmd_prefix": "del ",
     "library": "var_list.py",
     "varRefreshCmd": "print(var_dic_list())"
    },
    "r": {
     "delete_cmd_postfix": ") ",
     "delete_cmd_prefix": "rm(",
     "library": "var_list.r",
     "varRefreshCmd": "cat(var_dic_list()) "
    }
   },
   "types_to_exclude": [
    "module",
    "function",
    "builtin_function_or_method",
    "instance",
    "_Feature"
   ],
   "window_display": false
  }
 },
 "nbformat": 4,
 "nbformat_minor": 2
}
