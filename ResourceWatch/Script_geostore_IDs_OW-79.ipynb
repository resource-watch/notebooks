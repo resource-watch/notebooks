{
 "cells": [
  {
   "cell_type": "markdown",
   "metadata": {},
   "source": [
    "# Provide geometries from CARTO with geostore IDs\n",
    "This script reads a CARTO table provides each feature with a geostore ID and writes back the table to CARTO.\n",
    "## Tables to read:\n",
    "- [River basins - level 3](https://resourcewatch.carto.com/u/wri-rw/tables/wat_068_rw0_watersheds_edit/public?redirected=true) `SELECT * FROM \"wri-rw\".wat_068_rw0_watersheds_edit WHERE level = 3`\n",
    "\n",
    "- [Country geometries - coastal](https://resourcewatch.carto.com/u/wri-rw/dataset/gadm36_0) `SELECT * FROM \"wri-rw\".gadm36_0 WHERE coastal = True`\n",
    "\n",
    "- [EEZ geometries](https://resourcewatch.carto.com/u/wri-rw/tables/com_011_1_maritime_boundaries_territorial_waters/public?redirected=true): WRI still working out a few discrepancies with the country iso codes used in the two datasets. We want to ensure consistency between the code columns so a country geometry can be matched with its EEZ geometry. We plan to make some edits to the gid_0 and iso_ter1 fields by next week (May31st week), but the underlying geometries should remain the same.\n",
    "\n",
    "## Methodology\n",
    "1. Create a geojson from the CARTO table in new row\n",
    "2. Get ID for geojson from Geostore in new row\n",
    "3. Publish to CARTO\n"
   ]
  },
  {
   "cell_type": "code",
   "execution_count": 1,
   "metadata": {},
   "outputs": [
    {
     "data": {
      "text/plain": [
       "True"
      ]
     },
     "execution_count": 1,
     "metadata": {},
     "output_type": "execute_result"
    }
   ],
   "source": [
    "import os\n",
    "from dotenv import load_dotenv\n",
    "import json\n",
    "import geojson\n",
    "import requests\n",
    "import pandas as pd\n",
    "import geopandas as gpd\n",
    "import cartoframes as cf\n",
    "load_dotenv(\"../.env\")\n",
    "# Cartoframes docs --> https://carto.com/developers/cartoframes/reference/"
   ]
  },
  {
   "cell_type": "markdown",
   "metadata": {},
   "source": [
    "## Functions"
   ]
  },
  {
   "cell_type": "code",
   "execution_count": null,
   "metadata": {},
   "outputs": [],
   "source": [
    "def shpToGeojson(s):\n",
    "    \"\"\"Using a Shapely object, we should build a Geometry object.\"\"\"\n",
    "    if s.geom_type in ['Polygon', 'Point', 'MultiPoint','MultiPolygon']:\n",
    "        atts={'geojson': {'type': 'FeatureCollection',\n",
    "                        'features': [{'type': 'Feature',\n",
    "                            'properties': {},\n",
    "                            'geometry': geojson.Feature(geometry=s, properties={}).get('geometry')\n",
    "                                    }]}}\n",
    "        return atts\n",
    "    else:\n",
    "        raise ValueError('shape object was not of suitable geometry type')\n",
    "    \n",
    "def registerGeostore(geojson, url = 'http://api.resourcewatch.org/v1/geostore'):\n",
    "        \"\"\"Register valid geojson to the geostore service. Return the geostore id.\n",
    "        \"\"\"\n",
    "        try:\n",
    "            r = requests.post(url, json=geojson)\n",
    "            r.raise_for_status()\n",
    "            return r.json().get('data', {}).get('id','')\n",
    "        except:\n",
    "            return ''\n",
    "        "
   ]
  },
  {
   "cell_type": "markdown",
   "metadata": {},
   "source": [
    "## Authentication"
   ]
  },
  {
   "cell_type": "code",
   "execution_count": null,
   "metadata": {},
   "outputs": [],
   "source": [
    "creds = cf.auth.Credentials(username=os.environ.get(\"RW_CARTO_ACCOUNT\"), \n",
    "                            api_key=os.environ.get(\"RW_CARTO_KEY\"))"
   ]
  },
  {
   "cell_type": "markdown",
   "metadata": {},
   "source": [
    "## Processing"
   ]
  },
  {
   "cell_type": "markdown",
   "metadata": {},
   "source": [
    "### Accessing the tables\n",
    "#### Countries geometry"
   ]
  },
  {
   "cell_type": "code",
   "execution_count": null,
   "metadata": {},
   "outputs": [],
   "source": [
    "countries_df = cf.io.carto.read_carto('SELECT * FROM \"wri-rw\".gadm36_0 WHERE coastal = True', credentials=creds)\n",
    "countries_df.head()"
   ]
  },
  {
   "cell_type": "code",
   "execution_count": null,
   "metadata": {},
   "outputs": [],
   "source": [
    "countries_df.info()"
   ]
  },
  {
   "cell_type": "markdown",
   "metadata": {},
   "source": [
    "#### Watersheds"
   ]
  },
  {
   "cell_type": "code",
   "execution_count": null,
   "metadata": {},
   "outputs": [],
   "source": [
    "watersheds_df = cf.io.carto.read_carto('SELECT * FROM \"wri-rw\".wat_068_rw0_watersheds_edit WHERE level = 3', credentials=creds)\n",
    "watersheds_df.head()"
   ]
  },
  {
   "cell_type": "markdown",
   "metadata": {},
   "source": [
    "#### EEZ "
   ]
  },
  {
   "cell_type": "code",
   "execution_count": null,
   "metadata": {},
   "outputs": [],
   "source": [
    "eez_table = 'com_011_1_maritime_boundaries_territorial_waters'\n",
    "eez_df = cf.io.carto.read_carto(eez_table, credentials=creds)\n",
    "\n",
    "eez_df.head()"
   ]
  },
  {
   "cell_type": "markdown",
   "metadata": {},
   "source": [
    "### Creating geojson and getting geostore id"
   ]
  },
  {
   "cell_type": "markdown",
   "metadata": {},
   "source": [
    "#### Countries geometries"
   ]
  },
  {
   "cell_type": "code",
   "execution_count": null,
   "metadata": {},
   "outputs": [],
   "source": [
    "countries_g_id_dict = {}\n",
    "countries_geojson_dict = {}\n",
    "#for index, row in countries_df.iterrows():\n",
    "for i in countries_df.index:\n",
    "    g = countries_df.loc[[i]].the_geom.to_json()\n",
    "    print(g)\n",
    "    #g_id = registerGeostore(g)\n",
    "    #if re.search('^Error ', g_id)!=None: #if there is an error with geostore\n",
    "    #    countries_geojson_dict[row.cartodb_id] = g\n",
    "    #else: \n",
    "    #    countries_g_id_dict[row.cartodb_id] = g_id\n",
    "    break"
   ]
  },
  {
   "cell_type": "code",
   "execution_count": null,
   "metadata": {},
   "outputs": [],
   "source": [
    "print(len(countries_g_id_dict))\n",
    "print(len(countries_geojson_dict))\n",
    "len(countries_g_id_dict)+len(countries_geojson_dict)"
   ]
  },
  {
   "cell_type": "code",
   "execution_count": null,
   "metadata": {},
   "outputs": [],
   "source": [
    "countries_df.shape"
   ]
  },
  {
   "cell_type": "code",
   "execution_count": null,
   "metadata": {},
   "outputs": [],
   "source": [
    "# save dicts locally\n",
    "with open('countries_g_id_dict.json', 'w') as fp:\n",
    "    json.dump(countries_g_id_dict, fp)\n",
    "with open('countries_geojson_dict.json', 'w') as fp:\n",
    "    json.dump(countries_geojson_dict, fp)"
   ]
  },
  {
   "cell_type": "code",
   "execution_count": null,
   "metadata": {},
   "outputs": [],
   "source": [
    "countries_df.to_csv(f'./countries_df_v20210528.csv')"
   ]
  },
  {
   "cell_type": "markdown",
   "metadata": {},
   "source": [
    "#### Watersheds"
   ]
  },
  {
   "cell_type": "code",
   "execution_count": null,
   "metadata": {},
   "outputs": [],
   "source": [
    "watershed_g_id_dict = {}\n",
    "watershed_geojson_dict = {}\n",
    "for index, row in watersheds_df.iterrows():\n",
    "    g = shpToGeojson(row.the_geom)\n",
    "    g_id = registerGeostore(g)\n",
    "    if re.search('^Error ', g_id)!=None: #if there is an error with geostore\n",
    "        watershed_geojson_dict[row.cartodb_id] = g\n",
    "    else: \n",
    "        watershed_g_id_dict[row.cartodb_id] = g_id"
   ]
  },
  {
   "cell_type": "code",
   "execution_count": null,
   "metadata": {},
   "outputs": [],
   "source": [
    "print(len(watershed_g_id_dict))\n",
    "print(len(watershed_geojson_dict))\n",
    "len(watershed_g_id_dict)+len(watershed_geojson_dict)"
   ]
  },
  {
   "cell_type": "code",
   "execution_count": null,
   "metadata": {},
   "outputs": [],
   "source": [
    "watersheds_df.shape"
   ]
  },
  {
   "cell_type": "code",
   "execution_count": null,
   "metadata": {},
   "outputs": [],
   "source": [
    "# save dicts locally\n",
    "with open('watershed_g_id_dict.json', 'w') as fp:\n",
    "    json.dump(watershed_g_id_dict, fp)\n"
   ]
  },
  {
   "cell_type": "code",
   "execution_count": null,
   "metadata": {},
   "outputs": [],
   "source": [
    "# transform dictionary to table with two columns and merge\n",
    "watershed_id_df = pd.DataFrame.from_dict(watershed_g_id_dict, orient = 'index', columns = [\"geo_id\"])\n",
    "watershed_id_df.reset_index(inplace=True)\n",
    "watershed_id_df = watershed_id_df.rename(columns = {'index':'cartodb_id'})\n",
    "watershed_id_df.merge(watersheds_df, left_on='cartodb_id', right_on='cartodb_id')\n",
    "watershed_id_df.head()"
   ]
  },
  {
   "cell_type": "code",
   "execution_count": null,
   "metadata": {},
   "outputs": [],
   "source": [
    "#save locally\n",
    "watershed_id_df.to_csv(f'./watersheds_df_id_v20210528.csv')"
   ]
  },
  {
   "cell_type": "markdown",
   "metadata": {},
   "source": [
    "#### EEZ"
   ]
  },
  {
   "cell_type": "code",
   "execution_count": null,
   "metadata": {},
   "outputs": [],
   "source": [
    "eez_g_id_dict = {}\n",
    "eez_geojson_dict = {}\n",
    "for index, row in eez_df.iterrows():\n",
    "    g = shpToGeojson(row.the_geom)\n",
    "    g_id = registerGeostore(g)\n",
    "    if re.search('^Error ', g_id)!=None: #if there is an error with geostore\n",
    "        eez_geojson_dict[row.cartodb_id] = g\n",
    "    else: \n",
    "        eez_g_id_dict[row.cartodb_id] = g_id"
   ]
  },
  {
   "cell_type": "code",
   "execution_count": null,
   "metadata": {},
   "outputs": [],
   "source": [
    "eez_df.shape"
   ]
  },
  {
   "cell_type": "code",
   "execution_count": null,
   "metadata": {},
   "outputs": [],
   "source": [
    "print(len(eez_g_id_dict))\n",
    "print(len(eez_geojson_dict))\n",
    "len(eez_g_id_dict)+len(eez_geojson_dict)"
   ]
  },
  {
   "cell_type": "code",
   "execution_count": null,
   "metadata": {},
   "outputs": [],
   "source": [
    "# save dicts locally\n",
    "with open('eez_g_id_dict.json', 'w') as fp:\n",
    "    json.dump(eez_g_id_dict, fp)\n",
    "with open('eez_geojson_dict.json', 'w') as fp:\n",
    "    json.dump(eez_geojson_dict, fp)\n"
   ]
  },
  {
   "cell_type": "code",
   "execution_count": null,
   "metadata": {},
   "outputs": [],
   "source": [
    "## save locally\n",
    "eez_df.to_csv(f'./{eez_table}_v20210528.csv')"
   ]
  },
  {
   "cell_type": "markdown",
   "metadata": {},
   "source": [
    "## check failed registration, `geostore_id  == ''`\n",
    "- for countries\n",
    "- for eez"
   ]
  },
  {
   "cell_type": "markdown",
   "metadata": {},
   "source": [
    "### Countries"
   ]
  },
  {
   "cell_type": "code",
   "execution_count": null,
   "metadata": {},
   "outputs": [],
   "source": [
    "## check failed registration, geostore_id  == ''\n",
    "## s.is_valid, s.make_valid / buffer(0)"
   ]
  },
  {
   "cell_type": "markdown",
   "metadata": {},
   "source": [
    "### EEZ"
   ]
  },
  {
   "cell_type": "code",
   "execution_count": null,
   "metadata": {},
   "outputs": [],
   "source": [
    "## check failed registration, geostore_id  == ''\n",
    "## s.is_valid, s.make_valid / buffer(0)"
   ]
  },
  {
   "cell_type": "markdown",
   "metadata": {},
   "source": [
    "## write carto table"
   ]
  },
  {
   "cell_type": "markdown",
   "metadata": {},
   "source": [
    "### Watersheds"
   ]
  },
  {
   "cell_type": "code",
   "execution_count": null,
   "metadata": {},
   "outputs": [],
   "source": [
    "# cf.io.carto.to_carto(df, <tablename>, if_exists='replace', credentials=creds)\n",
    "# cf.update_privacy_table(<tablename>, privacy='public', credentials=creds)"
   ]
  },
  {
   "cell_type": "markdown",
   "metadata": {},
   "source": [
    "#### Countries"
   ]
  },
  {
   "cell_type": "code",
   "execution_count": null,
   "metadata": {},
   "outputs": [],
   "source": [
    "# cf.io.carto.to_carto(df, <tablename>, if_exists='replace', credentials=creds)\n",
    "# cf.update_privacy_table(<tablename>, privacy='public', credentials=creds)"
   ]
  },
  {
   "cell_type": "markdown",
   "metadata": {},
   "source": [
    "#### EEZ"
   ]
  },
  {
   "cell_type": "code",
   "execution_count": null,
   "metadata": {},
   "outputs": [],
   "source": [
    "# cf.io.carto.to_carto(df, <tablename>, if_exists='replace', credentials=creds)\n",
    "# cf.update_privacy_table(<tablename>, privacy='public', credentials=creds)"
   ]
  },
  {
   "cell_type": "code",
   "execution_count": null,
   "metadata": {},
   "outputs": [],
   "source": []
  },
  {
   "cell_type": "markdown",
   "metadata": {},
   "source": [
    "## Normal use of carto sql API"
   ]
  },
  {
   "cell_type": "code",
   "execution_count": 1,
   "metadata": {},
   "outputs": [
    {
     "ename": "NameError",
     "evalue": "name 'requests' is not defined",
     "output_type": "error",
     "traceback": [
      "\u001b[0;31m---------------------------------------------------------------------------\u001b[0m",
      "\u001b[0;31mNameError\u001b[0m                                 Traceback (most recent call last)",
      "\u001b[0;32m<ipython-input-1-1cc08afc84d6>\u001b[0m in \u001b[0;36m<module>\u001b[0;34m\u001b[0m\n\u001b[1;32m      5\u001b[0m }\n\u001b[1;32m      6\u001b[0m \u001b[0;34m\u001b[0m\u001b[0m\n\u001b[0;32m----> 7\u001b[0;31m \u001b[0mresponse\u001b[0m \u001b[0;34m=\u001b[0m \u001b[0mrequests\u001b[0m\u001b[0;34m.\u001b[0m\u001b[0mget\u001b[0m\u001b[0;34m(\u001b[0m\u001b[0murl\u001b[0m\u001b[0;34m,\u001b[0m \u001b[0mparams\u001b[0m\u001b[0;34m=\u001b[0m\u001b[0mparams\u001b[0m\u001b[0;34m)\u001b[0m\u001b[0;34m\u001b[0m\u001b[0;34m\u001b[0m\u001b[0m\n\u001b[0m\u001b[1;32m      8\u001b[0m \u001b[0;34m\u001b[0m\u001b[0m\n\u001b[1;32m      9\u001b[0m \u001b[0mresponse\u001b[0m\u001b[0;34m.\u001b[0m\u001b[0mjson\u001b[0m\u001b[0;34m(\u001b[0m\u001b[0;34m)\u001b[0m\u001b[0;34m\u001b[0m\u001b[0;34m\u001b[0m\u001b[0m\n",
      "\u001b[0;31mNameError\u001b[0m: name 'requests' is not defined"
     ]
    }
   ],
   "source": [
    "url = 'https://wri-rw.carto.com/api/v2/sql'\n",
    "params = {\n",
    "    'q': \"select * from gadm36_0 limit 1\",\n",
    "    'format':'geojson'\n",
    "}\n",
    "\n",
    "response = requests.get(url, params=params)\n",
    "\n",
    "response.json()"
   ]
  },
  {
   "cell_type": "code",
   "execution_count": null,
   "metadata": {},
   "outputs": [],
   "source": [
    "sql = '''\n",
    "    ALTER TABLE gadm36_0 ADD COLUMN geostore_prod VARCHAR;\n",
    "'''\n",
    "# ALTER TABLE gadm36_0 ADD COLUMN geostore_staging VARCHAR;\n",
    "url = 'https://wri-rw.carto.com/api/v2/sql'\n",
    "params = {\n",
    "    'q': sql,\n",
    "    'api_key': os.environ.get(\"RW_CARTO_KEY\")\n",
    "}\n",
    "\n",
    "response = requests.get(url, params=params)"
   ]
  },
  {
   "cell_type": "code",
   "execution_count": null,
   "metadata": {},
   "outputs": [],
   "source": [
    "response.text"
   ]
  },
  {
   "cell_type": "code",
   "execution_count": null,
   "metadata": {},
   "outputs": [],
   "source": []
  }
 ],
 "metadata": {
  "kernelspec": {
   "display_name": "Python 3",
   "language": "python",
   "name": "python3"
  },
  "language_info": {
   "codemirror_mode": {
    "name": "ipython",
    "version": 3
   },
   "file_extension": ".py",
   "mimetype": "text/x-python",
   "name": "python",
   "nbconvert_exporter": "python",
   "pygments_lexer": "ipython3",
   "version": "3.8.8"
  }
 },
 "nbformat": 4,
 "nbformat_minor": 4
}
