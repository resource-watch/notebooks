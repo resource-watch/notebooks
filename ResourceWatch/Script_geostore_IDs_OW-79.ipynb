{
 "cells": [
  {
   "cell_type": "markdown",
   "metadata": {},
   "source": [
    "# Provide geometries from CARTO with geostore IDs\n",
    "This script reads a CARTO table provides each feature with a geostore ID and writes back the table to CARTO.\n",
    "## Tables to read:\n",
    "- [River basins - level 3](https://resourcewatch.carto.com/u/wri-rw/tables/wat_068_rw0_watersheds_edit/public?redirected=true) `SELECT * FROM \"wri-rw\".wat_068_rw0_watersheds_edit WHERE level = 3`\n",
    "\n",
    "- [Country geometries - coastal](https://resourcewatch.carto.com/u/wri-rw/dataset/gadm36_0) `SELECT * FROM \"wri-rw\".gadm36_0 WHERE coastal = True`\n",
    "\n",
    "- [EEZ geometries](https://resourcewatch.carto.com/u/wri-rw/tables/com_011_1_maritime_boundaries_territorial_waters/public?redirected=true): WRI still working out a few discrepancies with the country iso codes used in the two datasets. We want to ensure consistency between the code columns so a country geometry can be matched with its EEZ geometry. We plan to make some edits to the gid_0 and iso_ter1 fields by next week (May31st week), but the underlying geometries should remain the same.\n",
    "\n",
    "## Methodology\n",
    "1. Create a geojson from the CARTO table in new row\n",
    "2. Get ID for geojson from Geostore in new row\n",
    "3. Publish to CARTO\n"
   ]
  },
  {
   "cell_type": "code",
   "execution_count": 83,
   "metadata": {},
   "outputs": [],
   "source": [
    "import os\n",
    "import re\n",
    "import json\n",
    "import pandas as pd\n",
    "import geopandas as gpd\n",
    "import cartoframes as cf\n",
    "\n",
    "# Cartoframes docs --> https://carto.com/developers/cartoframes/reference/"
   ]
  },
  {
   "cell_type": "code",
   "execution_count": null,
   "metadata": {},
   "outputs": [],
   "source": [
    "os.listdir('./')"
   ]
  },
  {
   "cell_type": "code",
   "execution_count": 20,
   "metadata": {},
   "outputs": [
    {
     "data": {
      "text/plain": [
       "['RW_CARTO_KEY', 'RW_CARTO_ACCOUNT']"
      ]
     },
     "execution_count": 20,
     "metadata": {},
     "output_type": "execute_result"
    }
   ],
   "source": [
    "## env file for gcs upload\n",
    "env_path = \"../.env\"\n",
    "with open(env_path) as f:\n",
    "    env = {}\n",
    "    for line in f:\n",
    "        env_key, _val = line.split(\"=\", 1)\n",
    "        env_value = _val.split(\"\\n\")[0]\n",
    "        env[env_key] = env_value\n",
    "        \n",
    "list(env.keys())"
   ]
  },
  {
   "cell_type": "markdown",
   "metadata": {},
   "source": [
    "## Functions"
   ]
  },
  {
   "cell_type": "code",
   "execution_count": 44,
   "metadata": {},
   "outputs": [],
   "source": [
    "import geojson, json, requests\n",
    "\n",
    "def shpToGeojson(s):\n",
    "    \"\"\"Using a Shapely object, we should build a Geometry object.\"\"\"\n",
    "    if s.geom_type in ['Polygon', 'Point', 'MultiPoint','MultiPolygon']:\n",
    "        atts={'geojson': {'type': 'FeatureCollection',\n",
    "                        'features': [{'type': 'Feature',\n",
    "                            'properties': {},\n",
    "                            'geometry': geojson.Feature(geometry=s, properties={}).get('geometry')\n",
    "                                    }]}}\n",
    "        return atts\n",
    "    else:\n",
    "        raise ValueError('shape object was not of suitable geometry type')\n",
    "    \n",
    "def registerGeostore(geojson):\n",
    "        \"\"\"Register valid geojson to the geostore service. Return the geostore id.\n",
    "        \"\"\"\n",
    "        try:\n",
    "            body = json.loads(json.dumps(geojson))\n",
    "        except:\n",
    "            print('Failed to create body')\n",
    "            return ''\n",
    "        header= {\n",
    "                'Content-Type':'application/json'\n",
    "                }\n",
    "        url = 'http://api.resourcewatch.org/v1/geostore'\n",
    "        r = requests.post(url, headers=header, json=body)\n",
    "        if r.status_code == 200:\n",
    "            return r.json().get('data', {}).get('id','')\n",
    "        else:\n",
    "            print(f'Failed to register geostore. Error {r.status_code}')\n",
    "            return f'Error {r.status_code}'"
   ]
  },
  {
   "cell_type": "markdown",
   "metadata": {},
   "source": [
    "## Authentication"
   ]
  },
  {
   "cell_type": "code",
   "execution_count": 21,
   "metadata": {},
   "outputs": [],
   "source": [
    "creds = cf.auth.Credentials(username=env['RW_CARTO_ACCOUNT'], api_key=env['RW_CARTO_KEY'])"
   ]
  },
  {
   "cell_type": "markdown",
   "metadata": {},
   "source": [
    "## Processing"
   ]
  },
  {
   "cell_type": "markdown",
   "metadata": {},
   "source": [
    "### Accessing the tables\n",
    "#### Countries geometry"
   ]
  },
  {
   "cell_type": "code",
   "execution_count": 27,
   "metadata": {},
   "outputs": [
    {
     "data": {
      "text/html": [
       "<div>\n",
       "<style scoped>\n",
       "    .dataframe tbody tr th:only-of-type {\n",
       "        vertical-align: middle;\n",
       "    }\n",
       "\n",
       "    .dataframe tbody tr th {\n",
       "        vertical-align: top;\n",
       "    }\n",
       "\n",
       "    .dataframe thead th {\n",
       "        text-align: right;\n",
       "    }\n",
       "</style>\n",
       "<table border=\"1\" class=\"dataframe\">\n",
       "  <thead>\n",
       "    <tr style=\"text-align: right;\">\n",
       "      <th></th>\n",
       "      <th>cartodb_id</th>\n",
       "      <th>the_geom</th>\n",
       "      <th>gid_0</th>\n",
       "      <th>name_0</th>\n",
       "      <th>coastal</th>\n",
       "    </tr>\n",
       "  </thead>\n",
       "  <tbody>\n",
       "    <tr>\n",
       "      <th>0</th>\n",
       "      <td>147</td>\n",
       "      <td>MULTIPOLYGON (((14.41097 35.78847, 14.41097 35...</td>\n",
       "      <td>MLT</td>\n",
       "      <td>Malta</td>\n",
       "      <td>True</td>\n",
       "    </tr>\n",
       "    <tr>\n",
       "      <th>1</th>\n",
       "      <td>149</td>\n",
       "      <td>MULTIPOLYGON (((19.13928 41.99353, 19.13930 41...</td>\n",
       "      <td>MNE</td>\n",
       "      <td>Montenegro</td>\n",
       "      <td>True</td>\n",
       "    </tr>\n",
       "    <tr>\n",
       "      <th>2</th>\n",
       "      <td>148</td>\n",
       "      <td>MULTIPOLYGON (((97.79915 8.83028, 97.79944 8.8...</td>\n",
       "      <td>MMR</td>\n",
       "      <td>Myanmar</td>\n",
       "      <td>True</td>\n",
       "    </tr>\n",
       "    <tr>\n",
       "      <th>3</th>\n",
       "      <td>204</td>\n",
       "      <td>MULTIPOLYGON (((-56.13278 46.78750, -56.13306 ...</td>\n",
       "      <td>SPM</td>\n",
       "      <td>Saint Pierre and Miquelon</td>\n",
       "      <td>True</td>\n",
       "    </tr>\n",
       "    <tr>\n",
       "      <th>4</th>\n",
       "      <td>207</td>\n",
       "      <td>MULTIPOLYGON (((6.52930 0.00403, 6.52930 0.003...</td>\n",
       "      <td>STP</td>\n",
       "      <td>São Tomé and Príncipe</td>\n",
       "      <td>True</td>\n",
       "    </tr>\n",
       "  </tbody>\n",
       "</table>\n",
       "</div>"
      ],
      "text/plain": [
       "   cartodb_id                                           the_geom gid_0  \\\n",
       "0         147  MULTIPOLYGON (((14.41097 35.78847, 14.41097 35...   MLT   \n",
       "1         149  MULTIPOLYGON (((19.13928 41.99353, 19.13930 41...   MNE   \n",
       "2         148  MULTIPOLYGON (((97.79915 8.83028, 97.79944 8.8...   MMR   \n",
       "3         204  MULTIPOLYGON (((-56.13278 46.78750, -56.13306 ...   SPM   \n",
       "4         207  MULTIPOLYGON (((6.52930 0.00403, 6.52930 0.003...   STP   \n",
       "\n",
       "                      name_0  coastal  \n",
       "0                      Malta     True  \n",
       "1                 Montenegro     True  \n",
       "2                    Myanmar     True  \n",
       "3  Saint Pierre and Miquelon     True  \n",
       "4      São Tomé and Príncipe     True  "
      ]
     },
     "execution_count": 27,
     "metadata": {},
     "output_type": "execute_result"
    }
   ],
   "source": [
    "countries_df = cf.io.carto.read_carto('SELECT * FROM \"wri-rw\".gadm36_0 WHERE coastal = True', credentials=creds)\n",
    "countries_df.head()"
   ]
  },
  {
   "cell_type": "markdown",
   "metadata": {},
   "source": [
    "#### Watersheds"
   ]
  },
  {
   "cell_type": "code",
   "execution_count": 26,
   "metadata": {},
   "outputs": [
    {
     "data": {
      "text/html": [
       "<div>\n",
       "<style scoped>\n",
       "    .dataframe tbody tr th:only-of-type {\n",
       "        vertical-align: middle;\n",
       "    }\n",
       "\n",
       "    .dataframe tbody tr th {\n",
       "        vertical-align: top;\n",
       "    }\n",
       "\n",
       "    .dataframe thead th {\n",
       "        text-align: right;\n",
       "    }\n",
       "</style>\n",
       "<table border=\"1\" class=\"dataframe\">\n",
       "  <thead>\n",
       "    <tr style=\"text-align: right;\">\n",
       "      <th></th>\n",
       "      <th>cartodb_id</th>\n",
       "      <th>the_geom</th>\n",
       "      <th>hybas_id</th>\n",
       "      <th>next_down</th>\n",
       "      <th>next_sink</th>\n",
       "      <th>main_bas</th>\n",
       "      <th>dist_sink</th>\n",
       "      <th>dist_main</th>\n",
       "      <th>sub_area</th>\n",
       "      <th>up_area</th>\n",
       "      <th>pfaf_id</th>\n",
       "      <th>endo</th>\n",
       "      <th>coast</th>\n",
       "      <th>_order</th>\n",
       "      <th>sort</th>\n",
       "      <th>level</th>\n",
       "    </tr>\n",
       "  </thead>\n",
       "  <tbody>\n",
       "    <tr>\n",
       "      <th>0</th>\n",
       "      <td>7</td>\n",
       "      <td>MULTIPOLYGON (((35.44861 -23.82500, 35.44252 -...</td>\n",
       "      <td>1030011670</td>\n",
       "      <td>0</td>\n",
       "      <td>1030011670</td>\n",
       "      <td>1030011670</td>\n",
       "      <td>0.0</td>\n",
       "      <td>0.0</td>\n",
       "      <td>245186.1</td>\n",
       "      <td>245186.1</td>\n",
       "      <td>123</td>\n",
       "      <td>0</td>\n",
       "      <td>1</td>\n",
       "      <td>0</td>\n",
       "      <td>7</td>\n",
       "      <td>3</td>\n",
       "    </tr>\n",
       "    <tr>\n",
       "      <th>1</th>\n",
       "      <td>8</td>\n",
       "      <td>MULTIPOLYGON (((29.87083 -25.81250, 29.86998 -...</td>\n",
       "      <td>1030012590</td>\n",
       "      <td>0</td>\n",
       "      <td>1030012590</td>\n",
       "      <td>1030012590</td>\n",
       "      <td>0.0</td>\n",
       "      <td>0.0</td>\n",
       "      <td>412581.2</td>\n",
       "      <td>412581.2</td>\n",
       "      <td>124</td>\n",
       "      <td>0</td>\n",
       "      <td>0</td>\n",
       "      <td>1</td>\n",
       "      <td>8</td>\n",
       "      <td>3</td>\n",
       "    </tr>\n",
       "    <tr>\n",
       "      <th>2</th>\n",
       "      <td>9</td>\n",
       "      <td>MULTIPOLYGON (((26.29028 -33.84583, 26.28531 -...</td>\n",
       "      <td>1030012600</td>\n",
       "      <td>0</td>\n",
       "      <td>1030012600</td>\n",
       "      <td>1030012600</td>\n",
       "      <td>0.0</td>\n",
       "      <td>0.0</td>\n",
       "      <td>403562.0</td>\n",
       "      <td>403562.0</td>\n",
       "      <td>125</td>\n",
       "      <td>0</td>\n",
       "      <td>1</td>\n",
       "      <td>0</td>\n",
       "      <td>9</td>\n",
       "      <td>3</td>\n",
       "    </tr>\n",
       "    <tr>\n",
       "      <th>3</th>\n",
       "      <td>10</td>\n",
       "      <td>MULTIPOLYGON (((19.41944 -34.69167, 19.40928 -...</td>\n",
       "      <td>1030015030</td>\n",
       "      <td>0</td>\n",
       "      <td>1030015030</td>\n",
       "      <td>1030015030</td>\n",
       "      <td>0.0</td>\n",
       "      <td>0.0</td>\n",
       "      <td>111328.1</td>\n",
       "      <td>111328.1</td>\n",
       "      <td>126</td>\n",
       "      <td>0</td>\n",
       "      <td>1</td>\n",
       "      <td>0</td>\n",
       "      <td>10</td>\n",
       "      <td>3</td>\n",
       "    </tr>\n",
       "    <tr>\n",
       "      <th>4</th>\n",
       "      <td>11</td>\n",
       "      <td>MULTIPOLYGON (((22.97500 -31.57917, 22.97379 -...</td>\n",
       "      <td>1030015850</td>\n",
       "      <td>0</td>\n",
       "      <td>1030015850</td>\n",
       "      <td>1030015850</td>\n",
       "      <td>0.0</td>\n",
       "      <td>0.0</td>\n",
       "      <td>977324.0</td>\n",
       "      <td>977324.0</td>\n",
       "      <td>127</td>\n",
       "      <td>0</td>\n",
       "      <td>0</td>\n",
       "      <td>1</td>\n",
       "      <td>11</td>\n",
       "      <td>3</td>\n",
       "    </tr>\n",
       "  </tbody>\n",
       "</table>\n",
       "</div>"
      ],
      "text/plain": [
       "   cartodb_id                                           the_geom    hybas_id  \\\n",
       "0           7  MULTIPOLYGON (((35.44861 -23.82500, 35.44252 -...  1030011670   \n",
       "1           8  MULTIPOLYGON (((29.87083 -25.81250, 29.86998 -...  1030012590   \n",
       "2           9  MULTIPOLYGON (((26.29028 -33.84583, 26.28531 -...  1030012600   \n",
       "3          10  MULTIPOLYGON (((19.41944 -34.69167, 19.40928 -...  1030015030   \n",
       "4          11  MULTIPOLYGON (((22.97500 -31.57917, 22.97379 -...  1030015850   \n",
       "\n",
       "   next_down   next_sink    main_bas  dist_sink  dist_main  sub_area  \\\n",
       "0          0  1030011670  1030011670        0.0        0.0  245186.1   \n",
       "1          0  1030012590  1030012590        0.0        0.0  412581.2   \n",
       "2          0  1030012600  1030012600        0.0        0.0  403562.0   \n",
       "3          0  1030015030  1030015030        0.0        0.0  111328.1   \n",
       "4          0  1030015850  1030015850        0.0        0.0  977324.0   \n",
       "\n",
       "    up_area  pfaf_id  endo  coast  _order  sort  level  \n",
       "0  245186.1      123     0      1       0     7      3  \n",
       "1  412581.2      124     0      0       1     8      3  \n",
       "2  403562.0      125     0      1       0     9      3  \n",
       "3  111328.1      126     0      1       0    10      3  \n",
       "4  977324.0      127     0      0       1    11      3  "
      ]
     },
     "execution_count": 26,
     "metadata": {},
     "output_type": "execute_result"
    }
   ],
   "source": [
    "watersheds_df = cf.io.carto.read_carto('SELECT * FROM \"wri-rw\".wat_068_rw0_watersheds_edit WHERE level = 3', credentials=creds)\n",
    "watersheds_df.head()"
   ]
  },
  {
   "cell_type": "markdown",
   "metadata": {},
   "source": [
    "#### EEZ "
   ]
  },
  {
   "cell_type": "code",
   "execution_count": 28,
   "metadata": {},
   "outputs": [
    {
     "data": {
      "text/html": [
       "<div>\n",
       "<style scoped>\n",
       "    .dataframe tbody tr th:only-of-type {\n",
       "        vertical-align: middle;\n",
       "    }\n",
       "\n",
       "    .dataframe tbody tr th {\n",
       "        vertical-align: top;\n",
       "    }\n",
       "\n",
       "    .dataframe thead th {\n",
       "        text-align: right;\n",
       "    }\n",
       "</style>\n",
       "<table border=\"1\" class=\"dataframe\">\n",
       "  <thead>\n",
       "    <tr style=\"text-align: right;\">\n",
       "      <th></th>\n",
       "      <th>cartodb_id</th>\n",
       "      <th>the_geom</th>\n",
       "      <th>mrgid</th>\n",
       "      <th>geoname</th>\n",
       "      <th>pol_type</th>\n",
       "      <th>mrgid_ter1</th>\n",
       "      <th>territory1</th>\n",
       "      <th>mrgid_sov1</th>\n",
       "      <th>sovereign1</th>\n",
       "      <th>iso_ter1</th>\n",
       "      <th>x_1</th>\n",
       "      <th>y_1</th>\n",
       "      <th>mrgid_eez</th>\n",
       "      <th>area_km2</th>\n",
       "    </tr>\n",
       "  </thead>\n",
       "  <tbody>\n",
       "    <tr>\n",
       "      <th>0</th>\n",
       "      <td>160</td>\n",
       "      <td>MULTIPOLYGON (((-13.70488 9.52191, -13.70493 9...</td>\n",
       "      <td>49186</td>\n",
       "      <td>Guinean 12 NM</td>\n",
       "      <td>12NM</td>\n",
       "      <td>2122</td>\n",
       "      <td>Guinea</td>\n",
       "      <td>2122</td>\n",
       "      <td>Guinea</td>\n",
       "      <td>GIN</td>\n",
       "      <td>-14.185269</td>\n",
       "      <td>9.947250</td>\n",
       "      <td>8472</td>\n",
       "      <td>9306.0</td>\n",
       "    </tr>\n",
       "    <tr>\n",
       "      <th>1</th>\n",
       "      <td>161</td>\n",
       "      <td>MULTIPOLYGON (((-3.16821 4.89856, -3.17263 4.8...</td>\n",
       "      <td>49187</td>\n",
       "      <td>Ivory Coast 12 NM</td>\n",
       "      <td>12NM</td>\n",
       "      <td>2161</td>\n",
       "      <td>Ivory Coast</td>\n",
       "      <td>2161</td>\n",
       "      <td>Ivory Coast</td>\n",
       "      <td>CIV</td>\n",
       "      <td>-5.271691</td>\n",
       "      <td>4.895276</td>\n",
       "      <td>8473</td>\n",
       "      <td>12375.0</td>\n",
       "    </tr>\n",
       "    <tr>\n",
       "      <th>2</th>\n",
       "      <td>162</td>\n",
       "      <td>MULTIPOLYGON (((8.45250 4.61667, 8.44333 4.600...</td>\n",
       "      <td>49188</td>\n",
       "      <td>Nigerian 12 NM</td>\n",
       "      <td>12NM</td>\n",
       "      <td>2253</td>\n",
       "      <td>Nigeria</td>\n",
       "      <td>2253</td>\n",
       "      <td>Nigeria</td>\n",
       "      <td>NGA</td>\n",
       "      <td>5.607847</td>\n",
       "      <td>5.174516</td>\n",
       "      <td>8474</td>\n",
       "      <td>20404.0</td>\n",
       "    </tr>\n",
       "    <tr>\n",
       "      <th>3</th>\n",
       "      <td>166</td>\n",
       "      <td>MULTIPOLYGON (((12.39538 -6.32436, 12.39728 -6...</td>\n",
       "      <td>49192</td>\n",
       "      <td>Angolan 12 NM</td>\n",
       "      <td>12NM</td>\n",
       "      <td>2150</td>\n",
       "      <td>Angola</td>\n",
       "      <td>2150</td>\n",
       "      <td>Angola</td>\n",
       "      <td>AGO</td>\n",
       "      <td>12.684313</td>\n",
       "      <td>-11.326831</td>\n",
       "      <td>8478</td>\n",
       "      <td>34318.0</td>\n",
       "    </tr>\n",
       "    <tr>\n",
       "      <th>4</th>\n",
       "      <td>167</td>\n",
       "      <td>MULTIPOLYGON (((39.72996 -4.68341, 39.77037 -4...</td>\n",
       "      <td>49193</td>\n",
       "      <td>Tanzanian 12 NM</td>\n",
       "      <td>12NM</td>\n",
       "      <td>2205</td>\n",
       "      <td>Tanzania</td>\n",
       "      <td>2205</td>\n",
       "      <td>Tanzania</td>\n",
       "      <td>TZA</td>\n",
       "      <td>39.926449</td>\n",
       "      <td>-7.641209</td>\n",
       "      <td>8479</td>\n",
       "      <td>16008.0</td>\n",
       "    </tr>\n",
       "  </tbody>\n",
       "</table>\n",
       "</div>"
      ],
      "text/plain": [
       "   cartodb_id                                           the_geom  mrgid  \\\n",
       "0         160  MULTIPOLYGON (((-13.70488 9.52191, -13.70493 9...  49186   \n",
       "1         161  MULTIPOLYGON (((-3.16821 4.89856, -3.17263 4.8...  49187   \n",
       "2         162  MULTIPOLYGON (((8.45250 4.61667, 8.44333 4.600...  49188   \n",
       "3         166  MULTIPOLYGON (((12.39538 -6.32436, 12.39728 -6...  49192   \n",
       "4         167  MULTIPOLYGON (((39.72996 -4.68341, 39.77037 -4...  49193   \n",
       "\n",
       "             geoname pol_type  mrgid_ter1   territory1  mrgid_sov1  \\\n",
       "0      Guinean 12 NM     12NM        2122       Guinea        2122   \n",
       "1  Ivory Coast 12 NM     12NM        2161  Ivory Coast        2161   \n",
       "2     Nigerian 12 NM     12NM        2253      Nigeria        2253   \n",
       "3      Angolan 12 NM     12NM        2150       Angola        2150   \n",
       "4    Tanzanian 12 NM     12NM        2205     Tanzania        2205   \n",
       "\n",
       "    sovereign1 iso_ter1        x_1        y_1  mrgid_eez  area_km2  \n",
       "0       Guinea      GIN -14.185269   9.947250       8472    9306.0  \n",
       "1  Ivory Coast      CIV  -5.271691   4.895276       8473   12375.0  \n",
       "2      Nigeria      NGA   5.607847   5.174516       8474   20404.0  \n",
       "3       Angola      AGO  12.684313 -11.326831       8478   34318.0  \n",
       "4     Tanzania      TZA  39.926449  -7.641209       8479   16008.0  "
      ]
     },
     "execution_count": 28,
     "metadata": {},
     "output_type": "execute_result"
    }
   ],
   "source": [
    "eez_table = 'com_011_1_maritime_boundaries_territorial_waters'\n",
    "eez_df = cf.io.carto.read_carto(eez_table, credentials=creds)\n",
    "\n",
    "eez_df.head()"
   ]
  },
  {
   "cell_type": "markdown",
   "metadata": {},
   "source": [
    "### Creating geojson and getting geostore id"
   ]
  },
  {
   "cell_type": "markdown",
   "metadata": {},
   "source": [
    "#### Countries geometries"
   ]
  },
  {
   "cell_type": "code",
   "execution_count": 62,
   "metadata": {},
   "outputs": [
    {
     "name": "stdout",
     "output_type": "stream",
     "text": [
      "Failed to register geostore. Error 500\n",
      "Failed to register geostore. Error 500\n",
      "Failed to register geostore. Error 500\n",
      "Failed to register geostore. Error 500\n",
      "Failed to register geostore. Error 500\n",
      "Failed to register geostore. Error 500\n",
      "Failed to register geostore. Error 500\n",
      "Failed to register geostore. Error 500\n",
      "Failed to register geostore. Error 500\n",
      "Failed to register geostore. Error 500\n",
      "Failed to register geostore. Error 500\n",
      "Failed to register geostore. Error 500\n",
      "Failed to register geostore. Error 500\n",
      "Failed to register geostore. Error 500\n",
      "Failed to register geostore. Error 500\n",
      "Failed to register geostore. Error 500\n",
      "Failed to register geostore. Error 500\n",
      "Failed to register geostore. Error 413\n",
      "Failed to register geostore. Error 500\n",
      "Failed to register geostore. Error 500\n",
      "Failed to register geostore. Error 413\n",
      "Failed to register geostore. Error 500\n",
      "Failed to register geostore. Error 500\n",
      "Failed to register geostore. Error 500\n",
      "Failed to register geostore. Error 500\n",
      "Failed to register geostore. Error 500\n",
      "Failed to register geostore. Error 500\n",
      "Failed to register geostore. Error 500\n",
      "Failed to register geostore. Error 500\n",
      "Failed to register geostore. Error 500\n",
      "Failed to register geostore. Error 500\n",
      "Failed to register geostore. Error 500\n",
      "Failed to register geostore. Error 500\n",
      "Failed to register geostore. Error 500\n",
      "Failed to register geostore. Error 500\n",
      "Failed to register geostore. Error 500\n",
      "Failed to register geostore. Error 500\n",
      "Failed to register geostore. Error 502\n"
     ]
    }
   ],
   "source": [
    "countries_g_id_dict = {}\n",
    "countries_geojson_dict = {}\n",
    "for index, row in countries_df.iterrows():\n",
    "    g = shpToGeojson(row.the_geom)\n",
    "    g_id = registerGeostore(g)\n",
    "    if re.search('^Error ', g_id)!=None: #if there is an error with geostore\n",
    "        countries_geojson_dict[row.cartodb_id] = g\n",
    "    else: \n",
    "        countries_g_id_dict[row.cartodb_id] = g_id"
   ]
  },
  {
   "cell_type": "code",
   "execution_count": 61,
   "metadata": {},
   "outputs": [
    {
     "data": {
      "text/plain": [
       "208"
      ]
     },
     "execution_count": 61,
     "metadata": {},
     "output_type": "execute_result"
    }
   ],
   "source": [
    "print(len(countries_g_id_dict))\n",
    "print(len(countries_geojson_dict))\n",
    "len(countries_g_id_dict)+len(countries_geojson_dict)"
   ]
  },
  {
   "cell_type": "code",
   "execution_count": null,
   "metadata": {},
   "outputs": [],
   "source": [
    "countries_df.shape"
   ]
  },
  {
   "cell_type": "code",
   "execution_count": 86,
   "metadata": {},
   "outputs": [],
   "source": [
    "# save dicts locally\n",
    "with open('countries_g_id_dict.json', 'w') as fp:\n",
    "    json.dump(countries_g_id_dict, fp)\n",
    "with open('countries_geojson_dict.json', 'w') as fp:\n",
    "    json.dump(countries_geojson_dict, fp)"
   ]
  },
  {
   "cell_type": "code",
   "execution_count": 34,
   "metadata": {},
   "outputs": [],
   "source": [
    "countries_df.to_csv(f'./countries_df_v20210528.csv')"
   ]
  },
  {
   "cell_type": "markdown",
   "metadata": {},
   "source": [
    "#### Watersheds"
   ]
  },
  {
   "cell_type": "code",
   "execution_count": 46,
   "metadata": {},
   "outputs": [],
   "source": [
    "watershed_g_id_dict = {}\n",
    "watershed_geojson_dict = {}\n",
    "for index, row in watersheds_df.iterrows():\n",
    "    g = shpToGeojson(row.the_geom)\n",
    "    g_id = registerGeostore(g)\n",
    "    if re.search('^Error ', g_id)!=None: #if there is an error with geostore\n",
    "        watershed_geojson_dict[row.cartodb_id] = g\n",
    "    else: \n",
    "        watershed_g_id_dict[row.cartodb_id] = g_id"
   ]
  },
  {
   "cell_type": "code",
   "execution_count": 59,
   "metadata": {},
   "outputs": [
    {
     "name": "stdout",
     "output_type": "stream",
     "text": [
      "292\n",
      "0\n"
     ]
    },
    {
     "data": {
      "text/plain": [
       "292"
      ]
     },
     "execution_count": 59,
     "metadata": {},
     "output_type": "execute_result"
    }
   ],
   "source": [
    "print(len(watershed_g_id_dict))\n",
    "print(len(watershed_geojson_dict))\n",
    "len(watershed_g_id_dict)+len(watershed_geojson_dict)"
   ]
  },
  {
   "cell_type": "code",
   "execution_count": 60,
   "metadata": {},
   "outputs": [
    {
     "data": {
      "text/plain": [
       "(292, 16)"
      ]
     },
     "execution_count": 60,
     "metadata": {},
     "output_type": "execute_result"
    }
   ],
   "source": [
    "watersheds_df.shape"
   ]
  },
  {
   "cell_type": "code",
   "execution_count": 85,
   "metadata": {},
   "outputs": [],
   "source": [
    "# save dicts locally\n",
    "with open('watershed_g_id_dict.json', 'w') as fp:\n",
    "    json.dump(watershed_g_id_dict, fp)\n"
   ]
  },
  {
   "cell_type": "code",
   "execution_count": 81,
   "metadata": {},
   "outputs": [
    {
     "data": {
      "text/html": [
       "<div>\n",
       "<style scoped>\n",
       "    .dataframe tbody tr th:only-of-type {\n",
       "        vertical-align: middle;\n",
       "    }\n",
       "\n",
       "    .dataframe tbody tr th {\n",
       "        vertical-align: top;\n",
       "    }\n",
       "\n",
       "    .dataframe thead th {\n",
       "        text-align: right;\n",
       "    }\n",
       "</style>\n",
       "<table border=\"1\" class=\"dataframe\">\n",
       "  <thead>\n",
       "    <tr style=\"text-align: right;\">\n",
       "      <th></th>\n",
       "      <th>cartodb_id</th>\n",
       "      <th>geo_id</th>\n",
       "    </tr>\n",
       "  </thead>\n",
       "  <tbody>\n",
       "    <tr>\n",
       "      <th>0</th>\n",
       "      <td>7</td>\n",
       "      <td>5cc9febfda14763c2c4cfdea65eb3b18</td>\n",
       "    </tr>\n",
       "    <tr>\n",
       "      <th>1</th>\n",
       "      <td>8</td>\n",
       "      <td>e03ae30a0b3fa9d3bef7b68ec04f6977</td>\n",
       "    </tr>\n",
       "    <tr>\n",
       "      <th>2</th>\n",
       "      <td>9</td>\n",
       "      <td>ffd4ce51f1407a2bb64a6d719dc00106</td>\n",
       "    </tr>\n",
       "    <tr>\n",
       "      <th>3</th>\n",
       "      <td>10</td>\n",
       "      <td>4291c2aa881be2d025582cba57e9ce42</td>\n",
       "    </tr>\n",
       "    <tr>\n",
       "      <th>4</th>\n",
       "      <td>11</td>\n",
       "      <td>d1bd595eaa7ba2dbc65e09a4eab103f9</td>\n",
       "    </tr>\n",
       "  </tbody>\n",
       "</table>\n",
       "</div>"
      ],
      "text/plain": [
       "   cartodb_id                            geo_id\n",
       "0           7  5cc9febfda14763c2c4cfdea65eb3b18\n",
       "1           8  e03ae30a0b3fa9d3bef7b68ec04f6977\n",
       "2           9  ffd4ce51f1407a2bb64a6d719dc00106\n",
       "3          10  4291c2aa881be2d025582cba57e9ce42\n",
       "4          11  d1bd595eaa7ba2dbc65e09a4eab103f9"
      ]
     },
     "execution_count": 81,
     "metadata": {},
     "output_type": "execute_result"
    }
   ],
   "source": [
    "# transform dictionary to table with two columns and merge\n",
    "watershed_id_df = pd.DataFrame.from_dict(watershed_g_id_dict, orient = 'index', columns = [\"geo_id\"])\n",
    "watershed_id_df.reset_index(inplace=True)\n",
    "watershed_id_df = watershed_id_df.rename(columns = {'index':'cartodb_id'})\n",
    "watershed_id_df.merge(watersheds_df, left_on='cartodb_id', right_on='cartodb_id')\n",
    "watershed_id_df.head()"
   ]
  },
  {
   "cell_type": "code",
   "execution_count": 82,
   "metadata": {},
   "outputs": [],
   "source": [
    "#save locally\n",
    "watershed_id_df.to_csv(f'./watersheds_df_id_v20210528.csv')"
   ]
  },
  {
   "cell_type": "markdown",
   "metadata": {},
   "source": [
    "#### EEZ"
   ]
  },
  {
   "cell_type": "code",
   "execution_count": 50,
   "metadata": {},
   "outputs": [
    {
     "name": "stdout",
     "output_type": "stream",
     "text": [
      "Failed to register geostore. Error 500\n",
      "Failed to register geostore. Error 504\n",
      "Failed to register geostore. Error 500\n",
      "Failed to register geostore. Error 500\n"
     ]
    }
   ],
   "source": [
    "eez_g_id_dict = {}\n",
    "eez_geojson_dict = {}\n",
    "for index, row in eez_df.iterrows():\n",
    "    g = shpToGeojson(row.the_geom)\n",
    "    g_id = registerGeostore(g)\n",
    "    if re.search('^Error ', g_id)!=None: #if there is an error with geostore\n",
    "        eez_geojson_dict[row.cartodb_id] = g\n",
    "    else: \n",
    "        eez_g_id_dict[row.cartodb_id] = g_id"
   ]
  },
  {
   "cell_type": "code",
   "execution_count": 57,
   "metadata": {},
   "outputs": [
    {
     "data": {
      "text/plain": [
       "(233, 14)"
      ]
     },
     "execution_count": 57,
     "metadata": {},
     "output_type": "execute_result"
    }
   ],
   "source": [
    "eez_df.shape"
   ]
  },
  {
   "cell_type": "code",
   "execution_count": 58,
   "metadata": {},
   "outputs": [
    {
     "name": "stdout",
     "output_type": "stream",
     "text": [
      "229\n",
      "4\n"
     ]
    },
    {
     "data": {
      "text/plain": [
       "233"
      ]
     },
     "execution_count": 58,
     "metadata": {},
     "output_type": "execute_result"
    }
   ],
   "source": [
    "print(len(eez_g_id_dict))\n",
    "print(len(eez_geojson_dict))\n",
    "len(eez_g_id_dict)+len(eez_geojson_dict)"
   ]
  },
  {
   "cell_type": "code",
   "execution_count": 84,
   "metadata": {},
   "outputs": [],
   "source": [
    "# save dicts locally\n",
    "with open('eez_g_id_dict.json', 'w') as fp:\n",
    "    json.dump(eez_g_id_dict, fp)\n",
    "with open('eez_geojson_dict.json', 'w') as fp:\n",
    "    json.dump(eez_geojson_dict, fp)\n"
   ]
  },
  {
   "cell_type": "code",
   "execution_count": 23,
   "metadata": {},
   "outputs": [],
   "source": [
    "## save locally\n",
    "eez_df.to_csv(f'./{eez_table}_v20210528.csv')"
   ]
  },
  {
   "cell_type": "markdown",
   "metadata": {},
   "source": [
    "## check failed registration, `geostore_id  == ''`\n",
    "- for countries\n",
    "- for eez"
   ]
  },
  {
   "cell_type": "markdown",
   "metadata": {},
   "source": [
    "### Countries"
   ]
  },
  {
   "cell_type": "code",
   "execution_count": 63,
   "metadata": {},
   "outputs": [],
   "source": [
    "## check failed registration, geostore_id  == ''\n",
    "## s.is_valid, s.make_valid / buffer(0)"
   ]
  },
  {
   "cell_type": "markdown",
   "metadata": {},
   "source": [
    "### EEZ"
   ]
  },
  {
   "cell_type": "code",
   "execution_count": 64,
   "metadata": {},
   "outputs": [],
   "source": [
    "## check failed registration, geostore_id  == ''\n",
    "## s.is_valid, s.make_valid / buffer(0)"
   ]
  },
  {
   "cell_type": "markdown",
   "metadata": {},
   "source": [
    "## write carto table"
   ]
  },
  {
   "cell_type": "markdown",
   "metadata": {},
   "source": [
    "### Watersheds"
   ]
  },
  {
   "cell_type": "code",
   "execution_count": null,
   "metadata": {},
   "outputs": [],
   "source": [
    "# cf.io.carto.to_carto(df, <tablename>, if_exists='replace', credentials=creds)\n",
    "# cf.update_privacy_table(<tablename>, privacy='public', credentials=creds)"
   ]
  },
  {
   "cell_type": "markdown",
   "metadata": {},
   "source": [
    "#### Countries"
   ]
  },
  {
   "cell_type": "code",
   "execution_count": null,
   "metadata": {},
   "outputs": [],
   "source": [
    "# cf.io.carto.to_carto(df, <tablename>, if_exists='replace', credentials=creds)\n",
    "# cf.update_privacy_table(<tablename>, privacy='public', credentials=creds)"
   ]
  },
  {
   "cell_type": "markdown",
   "metadata": {},
   "source": [
    "#### EEZ"
   ]
  },
  {
   "cell_type": "code",
   "execution_count": null,
   "metadata": {},
   "outputs": [],
   "source": [
    "# cf.io.carto.to_carto(df, <tablename>, if_exists='replace', credentials=creds)\n",
    "# cf.update_privacy_table(<tablename>, privacy='public', credentials=creds)"
   ]
  },
  {
   "cell_type": "code",
   "execution_count": null,
   "metadata": {},
   "outputs": [],
   "source": []
  }
 ],
 "metadata": {
  "kernelspec": {
   "display_name": "Python 3",
   "language": "python",
   "name": "python3"
  },
  "language_info": {
   "codemirror_mode": {
    "name": "ipython",
    "version": 3
   },
   "file_extension": ".py",
   "mimetype": "text/x-python",
   "name": "python",
   "nbconvert_exporter": "python",
   "pygments_lexer": "ipython3",
   "version": "3.8.3"
  }
 },
 "nbformat": 4,
 "nbformat_minor": 4
}
