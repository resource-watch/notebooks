{
 "cells": [
  {
   "cell_type": "markdown",
   "metadata": {
    "toc": "true"
   },
   "source": [
    "# Table of Contents\n",
    " <p><div class=\"lev1 toc-item\"><a href=\"#Query\" data-toc-modified-id=\"Query-1\"><span class=\"toc-item-num\">1&nbsp;&nbsp;</span>Query</a></div>"
   ]
  },
  {
   "cell_type": "code",
   "execution_count": 15,
   "metadata": {
    "collapsed": true
   },
   "outputs": [],
   "source": [
    "%matplotlib inline\n",
    "import requests\n",
    "import json\n",
    "import pandas as pd\n",
    "from vega import Vega\n",
    "import ipywidgets as widgets\n",
    "carto_url =\"https://wri-rw.carto.com/api/v2/sql\"\n",
    "api_url = \"https://api.resourcewatch.org/v1/\""
   ]
  },
  {
   "cell_type": "markdown",
   "metadata": {},
   "source": [
    "## Query"
   ]
  },
  {
   "cell_type": "code",
   "execution_count": 32,
   "metadata": {},
   "outputs": [
    {
     "data": {
      "text/html": [
       "<div>\n",
       "<style>\n",
       "    .dataframe thead tr:only-child th {\n",
       "        text-align: right;\n",
       "    }\n",
       "\n",
       "    .dataframe thead th {\n",
       "        text-align: left;\n",
       "    }\n",
       "\n",
       "    .dataframe tbody tr th {\n",
       "        vertical-align: top;\n",
       "    }\n",
       "</style>\n",
       "<table border=\"1\" class=\"dataframe\">\n",
       "  <thead>\n",
       "    <tr style=\"text-align: right;\">\n",
       "      <th></th>\n",
       "      <th>_id</th>\n",
       "      <th>confidence</th>\n",
       "      <th>confidence_text_</th>\n",
       "      <th>country_iso</th>\n",
       "      <th>dist_id</th>\n",
       "      <th>julian_day</th>\n",
       "      <th>lat</th>\n",
       "      <th>long</th>\n",
       "      <th>state_id</th>\n",
       "      <th>the_geom</th>\n",
       "      <th>the_geom_point</th>\n",
       "      <th>year</th>\n",
       "    </tr>\n",
       "  </thead>\n",
       "  <tbody>\n",
       "    <tr>\n",
       "      <th>0</th>\n",
       "      <td>AVzuoOgB3gldqnB9pxvg</td>\n",
       "      <td>2</td>\n",
       "      <td>unconfirmed</td>\n",
       "      <td>PER</td>\n",
       "      <td>141</td>\n",
       "      <td>163</td>\n",
       "      <td>-1.826375</td>\n",
       "      <td>-73.160625</td>\n",
       "      <td>17</td>\n",
       "      <td>{'type': 'point', 'coordinates': [-73.160625, ...</td>\n",
       "      <td>{'lat': -1.826375, 'lon': -73.160625}</td>\n",
       "      <td>2017</td>\n",
       "    </tr>\n",
       "    <tr>\n",
       "      <th>1</th>\n",
       "      <td>AVzuoOgB3gldqnB9pxvh</td>\n",
       "      <td>2</td>\n",
       "      <td>unconfirmed</td>\n",
       "      <td>PER</td>\n",
       "      <td>141</td>\n",
       "      <td>163</td>\n",
       "      <td>-1.826625</td>\n",
       "      <td>-73.160625</td>\n",
       "      <td>17</td>\n",
       "      <td>{'type': 'point', 'coordinates': [-73.160625, ...</td>\n",
       "      <td>{'lat': -1.826625, 'lon': -73.160625}</td>\n",
       "      <td>2017</td>\n",
       "    </tr>\n",
       "    <tr>\n",
       "      <th>2</th>\n",
       "      <td>AVzuoP__3gldqnB9p6oL</td>\n",
       "      <td>2</td>\n",
       "      <td>unconfirmed</td>\n",
       "      <td>PER</td>\n",
       "      <td>141</td>\n",
       "      <td>163</td>\n",
       "      <td>-5.141125</td>\n",
       "      <td>-72.868875</td>\n",
       "      <td>17</td>\n",
       "      <td>{'type': 'point', 'coordinates': [-72.868875, ...</td>\n",
       "      <td>{'lat': -5.141125, 'lon': -72.868875}</td>\n",
       "      <td>2017</td>\n",
       "    </tr>\n",
       "  </tbody>\n",
       "</table>\n",
       "</div>"
      ],
      "text/plain": [
       "                    _id  confidence confidence_text_ country_iso  dist_id  \\\n",
       "0  AVzuoOgB3gldqnB9pxvg           2      unconfirmed         PER      141   \n",
       "1  AVzuoOgB3gldqnB9pxvh           2      unconfirmed         PER      141   \n",
       "2  AVzuoP__3gldqnB9p6oL           2      unconfirmed         PER      141   \n",
       "\n",
       "   julian_day       lat       long  state_id  \\\n",
       "0         163 -1.826375 -73.160625        17   \n",
       "1         163 -1.826625 -73.160625        17   \n",
       "2         163 -5.141125 -72.868875        17   \n",
       "\n",
       "                                            the_geom  \\\n",
       "0  {'type': 'point', 'coordinates': [-73.160625, ...   \n",
       "1  {'type': 'point', 'coordinates': [-73.160625, ...   \n",
       "2  {'type': 'point', 'coordinates': [-72.868875, ...   \n",
       "\n",
       "                          the_geom_point  year  \n",
       "0  {'lat': -1.826375, 'lon': -73.160625}  2017  \n",
       "1  {'lat': -1.826625, 'lon': -73.160625}  2017  \n",
       "2  {'lat': -5.141125, 'lon': -72.868875}  2017  "
      ]
     },
     "execution_count": 32,
     "metadata": {},
     "output_type": "execute_result"
    }
   ],
   "source": [
    "apiQuery = \"select * from index_e663eb0904de4f39b87135c6c2ed10b5 where year >2016 and julian_day >130 order by year desc, julian_day desc limit 1000\"\n",
    "payload={'sql': apiQuery}\n",
    "req = requests.get(api_url+\"query/e663eb09-04de-4f39-b871-35c6c2ed10b5\",params=payload,timeout=90)\n",
    "if req.status_code!=200:\n",
    "    print(req.text)\n",
    "    raise req.raise_for_status\n",
    "r = json.dumps(req.json()['data'])\n",
    "glad_alerts = pd.read_json(r, orient='records')\n",
    "glad_alerts.head(3)"
   ]
  },
  {
   "cell_type": "code",
   "execution_count": 34,
   "metadata": {},
   "outputs": [
    {
     "name": "stdout",
     "output_type": "stream",
     "text": [
      "https://api.resourcewatch.org/v1/query/e663eb09-04de-4f39-b871-35c6c2ed10b5?sql=select+%2A+from+index_e663eb0904de4f39b87135c6c2ed10b5+where+year+%3E2016+and+julian_day+%3E130+order+by+year+desc%2C+julian_day+desc+limit+1000\n"
     ]
    }
   ],
   "source": [
    "print(req.url)"
   ]
  },
  {
   "cell_type": "code",
   "execution_count": 41,
   "metadata": {
    "collapsed": true
   },
   "outputs": [],
   "source": [
    "vega_spec='''{\n",
    "  \"width\": 300,\n",
    "  \"height\": 200,\n",
    "  \"padding\": {\"top\": 10, \"left\": 50, \"bottom\": 30, \"right\": 10},\n",
    "  \"data\": [\n",
    "    {\n",
    "      \"name\": \"table\",\n",
    "      \"url\": \"https://api.resourcewatch.org/v1/query/e663eb09-04de-4f39-b871-35c6c2ed10b5?sql=select+%2A+from+index_e663eb0904de4f39b87135c6c2ed10b5+where+year+%3E2016+and+julian_day+%3E135+order+by+year+desc%2C+julian_day+desc limit 100000\",\n",
    "      \"format\": {\"type\": \"json\",\"property\": \"data\"},\n",
    "      \"transform\": [\n",
    "        {\"type\": \"sort\",\"by\": \"julian_day\"},\n",
    "        {\n",
    "          \"type\": \"aggregate\",\n",
    "          \"groupby\":\"julian_day\",\n",
    "          \"summarize\": [\n",
    "          {\"field\": \"julian_day\", \"ops\": [\"count\"], \"as\": [\"count_\"]}\n",
    "        ]\n",
    "      }\n",
    "      ]\n",
    "    }\n",
    "  ],\n",
    "  \"scales\": [\n",
    "    {\n",
    "      \"name\": \"x\",\n",
    "      \"type\": \"ordinal\",\n",
    "      \"range\": \"width\",\n",
    "      \"points\": true,\n",
    "      \"domain\": {\"data\": \"table\", \"field\": \"julian_day\"}\n",
    "    },\n",
    "    {\n",
    "      \"name\": \"y\",\n",
    "      \"type\": \"linear\",\n",
    "      \"range\": \"height\",\n",
    "      \"nice\": true,\n",
    "      \"domain\": {\"data\": \"table\", \"field\": \"count_\"}\n",
    "    }\n",
    "  ],\n",
    "  \"axes\": [\n",
    "    {\"type\": \"x\", \"scale\": \"x\"},\n",
    "    {\"type\": \"y\", \"scale\": \"y\"}\n",
    "  ],\n",
    "  \"marks\": [\n",
    "    {\n",
    "  \"type\": \"line\",\n",
    "  \"from\": {\"data\": \"table\"},\n",
    "  \"properties\": {\n",
    "    \"enter\": {\n",
    "        \"interpolate\": {\"value\": \"monotone\"},\n",
    "          \"x\": {\"scale\": \"x\",\"field\": \"julian_day\"},\n",
    "          \"y\": {\"scale\": \"y\",\"field\": \"count_\"},\n",
    "          \"stroke\": {\"value\": \"steelblue\"},\n",
    "          \"strokeWidth\": {\"value\": 3}\n",
    "        }\n",
    "      }\n",
    "    }\n",
    "  ]\n",
    "}'''"
   ]
  },
  {
   "cell_type": "code",
   "execution_count": 42,
   "metadata": {},
   "outputs": [
    {
     "data": {
      "text/html": [
       "<div class=\"vega-embed\" id=\"779fb06c-5792-4e9c-b5a2-a6a5f857ef48\"></div>\n",
       "\n",
       "<style>\n",
       ".vega-embed svg, .vega-embed canvas {\n",
       "  border: 1px dotted gray;\n",
       "}\n",
       "\n",
       ".vega-embed .vega-actions a {\n",
       "  margin-right: 6px;\n",
       "}\n",
       "</style>\n"
      ]
     },
     "metadata": {
      "jupyter-vega": "#779fb06c-5792-4e9c-b5a2-a6a5f857ef48"
     },
     "output_type": "display_data"
    },
    {
     "data": {
      "application/javascript": [
       "var spec = {\"width\": 300, \"height\": 200, \"padding\": {\"top\": 10, \"left\": 50, \"bottom\": 30, \"right\": 10}, \"data\": [{\"name\": \"table\", \"url\": \"https://api.resourcewatch.org/v1/query/e663eb09-04de-4f39-b871-35c6c2ed10b5?sql=select+%2A+from+index_e663eb0904de4f39b87135c6c2ed10b5+where+year+%3E2016+and+julian_day+%3E135+order+by+year+desc%2C+julian_day+desc limit 100000\", \"format\": {\"type\": \"json\", \"property\": \"data\"}, \"transform\": [{\"type\": \"sort\", \"by\": \"julian_day\"}, {\"type\": \"aggregate\", \"groupby\": \"julian_day\", \"summarize\": [{\"field\": \"julian_day\", \"ops\": [\"count\"], \"as\": [\"count_\"]}]}]}], \"scales\": [{\"name\": \"x\", \"type\": \"ordinal\", \"range\": \"width\", \"points\": true, \"domain\": {\"data\": \"table\", \"field\": \"julian_day\"}}, {\"name\": \"y\", \"type\": \"linear\", \"range\": \"height\", \"nice\": true, \"domain\": {\"data\": \"table\", \"field\": \"count_\"}}], \"axes\": [{\"type\": \"x\", \"scale\": \"x\"}, {\"type\": \"y\", \"scale\": \"y\"}], \"marks\": [{\"type\": \"line\", \"from\": {\"data\": \"table\"}, \"properties\": {\"enter\": {\"interpolate\": {\"value\": \"monotone\"}, \"x\": {\"scale\": \"x\", \"field\": \"julian_day\"}, \"y\": {\"scale\": \"y\", \"field\": \"count_\"}, \"stroke\": {\"value\": \"steelblue\"}, \"strokeWidth\": {\"value\": 3}}}}]};\n",
       "var selector = \"#779fb06c-5792-4e9c-b5a2-a6a5f857ef48\";\n",
       "var type = \"vega\";\n",
       "\n",
       "var output_area = this;\n",
       "require(['nbextensions/jupyter-vega/index'], function(vega) {\n",
       "  vega.render(selector, spec, type, output_area);\n",
       "}, function (err) {\n",
       "  if (err.requireType !== 'scripterror') {\n",
       "    throw(err);\n",
       "  }\n",
       "});\n"
      ]
     },
     "metadata": {
      "jupyter-vega": "#779fb06c-5792-4e9c-b5a2-a6a5f857ef48"
     },
     "output_type": "display_data"
    },
    {
     "data": {
      "image/png": "[encoded data removed]"
     },
     "metadata": {
      "jupyter-vega": "#779fb06c-5792-4e9c-b5a2-a6a5f857ef48"
     },
     "output_type": "display_data"
    }
   ],
   "source": [
    "\n",
    "Vega(json.loads(vega_spec))"
   ]
  },
  {
   "cell_type": "code",
   "execution_count": null,
   "metadata": {
    "collapsed": true
   },
   "outputs": [],
   "source": []
  }
 ],
 "metadata": {
  "kernelspec": {
   "display_name": "Python 3",
   "language": "python",
   "name": "python3"
  },
  "language_info": {
   "codemirror_mode": {
    "name": "ipython",
    "version": 3
   },
   "file_extension": ".py",
   "mimetype": "text/x-python",
   "name": "python",
   "nbconvert_exporter": "python",
   "pygments_lexer": "ipython3",
   "version": "3.6.1"
  },
  "toc": {
   "colors": {
    "hover_highlight": "#DAA520",
    "navigate_num": "#000000",
    "navigate_text": "#333333",
    "running_highlight": "#FF0000",
    "selected_highlight": "#FFD700",
    "sidebar_border": "#EEEEEE",
    "wrapper_background": "#FFFFFF"
   },
   "moveMenuLeft": true,
   "nav_menu": {
    "height": "30px",
    "width": "252px"
   },
   "navigate_menu": true,
   "number_sections": true,
   "sideBar": true,
   "threshold": "2",
   "toc_cell": true,
   "toc_section_display": "block",
   "toc_window_display": true,
   "widenNotebook": false
  },
  "varInspector": {
   "cols": {
    "lenName": 16,
    "lenType": 16,
    "lenVar": 40
   },
   "kernels_config": {
    "python": {
     "delete_cmd_postfix": "",
     "delete_cmd_prefix": "del ",
     "library": "var_list.py",
     "varRefreshCmd": "print(var_dic_list())"
    },
    "r": {
     "delete_cmd_postfix": ") ",
     "delete_cmd_prefix": "rm(",
     "library": "var_list.r",
     "varRefreshCmd": "cat(var_dic_list()) "
    }
   },
   "types_to_exclude": [
    "module",
    "function",
    "builtin_function_or_method",
    "instance",
    "_Feature"
   ],
   "window_display": false
  },
  "widgets": {
   "application/vnd.jupyter.widget-state+json": {
    "state": {},
    "version_major": 1,
    "version_minor": 0
   }
  }
 },
 "nbformat": 4,
 "nbformat_minor": 2
}
