{
 "cells": [
  {
   "cell_type": "code",
   "execution_count": null,
   "metadata": {
    "ExecuteTime": {
     "end_time": "2017-06-27T16:14:24.749007Z",
     "start_time": "2017-06-27T16:14:23.151017Z"
    },
    "scrolled": true
   },
   "outputs": [],
   "source": [
    "!pip install wget"
   ]
  },
  {
   "cell_type": "markdown",
   "metadata": {},
   "source": [
    "Information about this data: https://coralreefwatch.noaa.gov/satellite/bleaching5km/index.php"
   ]
  },
  {
   "cell_type": "code",
   "execution_count": 22,
   "metadata": {
    "ExecuteTime": {
     "end_time": "2017-06-28T11:46:29.344657Z",
     "start_time": "2017-06-28T11:46:29.250325Z"
    },
    "collapsed": true
   },
   "outputs": [],
   "source": [
    "from wget import download\n",
    "import os\n",
    "import requests\n",
    "import datetime\n",
    "import tinys3\n",
    "from netCDF4 import Dataset\n",
    "import numpy as np\n",
    "import rasterio\n",
    "from rasterio.transform import from_origin\n",
    "from rasterstats import zonal_stats\n",
    "import geojson"
   ]
  },
  {
   "cell_type": "markdown",
   "metadata": {},
   "source": [
    "Download last dataset (2 days in the past)"
   ]
  },
  {
   "cell_type": "code",
   "execution_count": 2,
   "metadata": {
    "ExecuteTime": {
     "end_time": "2017-06-28T08:15:22.574588Z",
     "start_time": "2017-06-28T08:15:22.526654Z"
    },
    "collapsed": true
   },
   "outputs": [],
   "source": [
    "def dataDownload(): \n",
    "    today = datetime.date.today()\n",
    "    url='ftp://ftp.star.nesdis.noaa.gov/pub/sod/mecb/crw/data/5km/nc/baa_max_comp_7day/2017/baa_max_r07d_b05kmnn_'+ str(today.year) +\"%02d\" % (today.month)+\"%02d\" % (today.day-2)+'.nc'\n",
    "    filename = download(url)\n",
    "    return filename\n"
   ]
  },
  {
   "cell_type": "markdown",
   "metadata": {},
   "source": [
    "Intersects nc data with reefs data to get the area per alert type listed."
   ]
  },
  {
   "cell_type": "markdown",
   "metadata": {
    "ExecuteTime": {
     "end_time": "2017-04-17T20:53:30.970577",
     "start_time": "2017-04-17T20:53:30.628849"
    }
   },
   "source": [
    "convert nc to geotiff"
   ]
  },
  {
   "cell_type": "code",
   "execution_count": 3,
   "metadata": {
    "ExecuteTime": {
     "end_time": "2017-06-28T08:15:25.252701Z",
     "start_time": "2017-06-28T08:15:25.160423Z"
    },
    "collapsed": true
   },
   "outputs": [],
   "source": [
    "def netcdf2tif(dst,outFile):\n",
    "    nc = Dataset(dst)\n",
    "    data = nc['CRW_BAA_max7d'][0,:,:].squeeze()\n",
    "    # Return lat info\n",
    "    south_lat = nc.geospatial_lat_min - nc.geospatial_lat_resolution/2  # Change pos.to edges of pxls (not center)\n",
    "    north_lat = nc.geospatial_lat_max + nc.geospatial_lat_resolution/2\n",
    "\n",
    "    # Return lon info\n",
    "    west_lon = nc.geospatial_lon_min - nc.geospatial_lon_resolution/2\n",
    "    east_lon = nc.geospatial_lon_max + nc.geospatial_lon_resolution/2\n",
    "    # Transformation function\n",
    "    transform = rasterio.transform.from_bounds(west_lon, south_lat, east_lon, north_lat, data.shape[1], data.shape[0])\n",
    "    # Profile\n",
    "    profile = {\n",
    "        'driver':'GTiff', \n",
    "        'height':data.shape[0], \n",
    "        'width':data.shape[1], \n",
    "        'count':1, \n",
    "        'dtype':np.int16, \n",
    "        'crs':'EPSG:4326', \n",
    "        'transform':transform, \n",
    "        'compress':'lzw', \n",
    "        'nodata':nc['CRW_BAA_max7d']._FillValue\n",
    "    }\n",
    "    with rasterio.open(outFile, 'w', **profile) as dst:\n",
    "        dst.write(data.astype(profile['dtype']), 1)\n",
    "    print('finish')\n"
   ]
  },
  {
   "cell_type": "markdown",
   "metadata": {},
   "source": [
    "S3 upload"
   ]
  },
  {
   "cell_type": "code",
   "execution_count": 4,
   "metadata": {
    "ExecuteTime": {
     "end_time": "2017-06-28T08:15:26.716863Z",
     "start_time": "2017-06-28T08:15:26.672573Z"
    },
    "collapsed": true
   },
   "outputs": [],
   "source": [
    "def s3Upload(outFile):\n",
    "    # Push to Amazon S3 instance\n",
    "    conn = tinys3.Connection(os.getenv('S3_ACCESS_KEY'),\n",
    "                             os.getenv('S3_SECRET_KEY'), \n",
    "                             tls=True)\n",
    "    # So we could skip the bucket parameter on every request\n",
    "    f = open(outFile, 'rb')\n",
    "    response = conn.upload(outFile, f, os.getenv('BUCKET'))\n",
    "    if response.status_code == 200:\n",
    "        print(Fore.GREEN + '\\r SUCCESS')\n",
    "    else:\n",
    "        print(Fore.RED + 'UPLOAD PROCESS FAILURE STATUS CODE: {0}'.format(\n",
    "            str(response.status_code)))\n",
    "        print('\\r {0}'.format(str(response.content)))"
   ]
  },
  {
   "cell_type": "markdown",
   "metadata": {
    "ExecuteTime": {
     "end_time": "2017-04-17T21:05:33.454713",
     "start_time": "2017-04-17T21:05:33.217113"
    }
   },
   "source": [
    "Execution"
   ]
  },
  {
   "cell_type": "code",
   "execution_count": 7,
   "metadata": {
    "ExecuteTime": {
     "end_time": "2017-06-28T11:26:41.165499Z",
     "start_time": "2017-06-28T11:26:18.886685Z"
    }
   },
   "outputs": [
    {
     "name": "stdout",
     "output_type": "stream",
     "text": [
      "finish\n"
     ]
    }
   ],
   "source": [
    "outFile ='CoralReefHotspots.tif'\n",
    "basePoligon='out.shp'\n",
    "PoligonFile ='reefs_alerts.geojson'\n",
    "file = dataDownload()\n",
    "netcdf2tif(file,outFile)\n",
    "coralReefsAlerts(outFile)\n",
    "#s3Upload(outFile)\n",
    "#s3Upload(PoligonFile)"
   ]
  },
  {
   "cell_type": "code",
   "execution_count": 28,
   "metadata": {
    "ExecuteTime": {
     "end_time": "2017-06-28T15:02:06.223296Z",
     "start_time": "2017-06-28T15:02:06.209349Z"
    }
   },
   "outputs": [],
   "source": [
    "def coralReefsAlerts(outFile):\n",
    "    #url = \n",
    "    #filename = wget.download(url)\n",
    "    filename = 'out.shp'\n",
    "    cmap = {0: 'no_data',1: 'no_stress', 2: 'watch', 3: 'warning',4: 'alert_1', 5: 'alert_2'}\n",
    "    dataset={\n",
    "         \"type\": \"FeatureCollection\",\n",
    "         \"features\":zonal_stats(filename, outFile,categorical=True, category_map=cmap, geojson_out=True)\n",
    "    }\n",
    "    with open('reefs_alerts.geojson', 'w') as outfile:\n",
    "        geojson.dump(dataset,outfile)\n",
    "    print('finish')\n",
    "    "
   ]
  },
  {
   "cell_type": "code",
   "execution_count": 29,
   "metadata": {
    "ExecuteTime": {
     "end_time": "2017-06-28T15:03:34.610741Z",
     "start_time": "2017-06-28T15:02:11.627328Z"
    }
   },
   "outputs": [
    {
     "name": "stdout",
     "output_type": "stream",
     "text": [
      "finish\n"
     ]
    }
   ],
   "source": [
    "coralReefsAlerts(outFile)"
   ]
  },
  {
   "cell_type": "code",
   "execution_count": null,
   "metadata": {
    "collapsed": true
   },
   "outputs": [],
   "source": []
  }
 ],
 "metadata": {
  "hide_input": false,
  "kernelspec": {
   "display_name": "Python 3",
   "language": "python",
   "name": "python3"
  },
  "language_info": {
   "codemirror_mode": {
    "name": "ipython",
    "version": 3
   },
   "file_extension": ".py",
   "mimetype": "text/x-python",
   "name": "python",
   "nbconvert_exporter": "python",
   "pygments_lexer": "ipython3",
   "version": "3.5.3"
  },
  "latex_envs": {
   "LaTeX_envs_menu_present": true,
   "autocomplete": true,
   "bibliofile": "biblio.bib",
   "cite_by": "apalike",
   "current_citInitial": 1,
   "eqLabelWithNumbers": true,
   "eqNumInitial": 1,
   "hotkeys": {
    "equation": "Ctrl-E",
    "itemize": "Ctrl-I"
   },
   "labels_anchors": false,
   "latex_user_defs": false,
   "report_style_numbering": false,
   "user_envs_cfg": false
  },
  "toc": {
   "colors": {
    "hover_highlight": "#DAA520",
    "running_highlight": "#FF0000",
    "selected_highlight": "#FFD700"
   },
   "moveMenuLeft": true,
   "nav_menu": {
    "height": "12px",
    "width": "252px"
   },
   "navigate_menu": true,
   "number_sections": true,
   "sideBar": true,
   "threshold": 4,
   "toc_cell": false,
   "toc_section_display": "block",
   "toc_window_display": false
  },
  "varInspector": {
   "cols": {
    "lenName": 16,
    "lenType": 16,
    "lenVar": 40
   },
   "kernels_config": {
    "python": {
     "delete_cmd_postfix": "",
     "delete_cmd_prefix": "del ",
     "library": "var_list.py",
     "varRefreshCmd": "print(var_dic_list())"
    },
    "r": {
     "delete_cmd_postfix": ") ",
     "delete_cmd_prefix": "rm(",
     "library": "var_list.r",
     "varRefreshCmd": "cat(var_dic_list()) "
    }
   },
   "types_to_exclude": [
    "module",
    "function",
    "builtin_function_or_method",
    "instance",
    "_Feature"
   ],
   "window_display": false
  }
 },
 "nbformat": 4,
 "nbformat_minor": 2
}
