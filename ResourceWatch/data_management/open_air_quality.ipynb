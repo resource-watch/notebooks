{
 "cells": [
  {
   "cell_type": "code",
   "execution_count": 2,
   "metadata": {
    "ExecuteTime": {
     "end_time": "2017-06-07T15:10:57.079536Z",
     "start_time": "2017-06-07T15:10:55.404846Z"
    },
    "collapsed": true
   },
   "outputs": [],
   "source": [
    "%matplotlib inline\n",
    "import requests\n",
    "import json\n",
    "import pandas as pd\n",
    "from geopandas import GeoDataFrame\n",
    "from shapely.geometry import Point\n",
    "import zipfile\n",
    "import os\n"
   ]
  },
  {
   "cell_type": "markdown",
   "metadata": {},
   "source": [
    "Todo-List\n",
    "- [X] Data exploration\n",
    "- [X] SHP export and upload\n"
   ]
  },
  {
   "cell_type": "code",
   "execution_count": 3,
   "metadata": {
    "ExecuteTime": {
     "end_time": "2017-06-07T15:10:57.129513Z",
     "start_time": "2017-06-07T15:10:57.114516Z"
    },
    "collapsed": true
   },
   "outputs": [],
   "source": [
    "def zipDir(path, ziph):\n",
    "    # ziph is zipfile handle\n",
    "    for root, dirs, files in os.walk(path):\n",
    "        for file in files:\n",
    "            print(os.path.join(root, file))\n",
    "            ziph.write(os.path.join(root, file))\n",
    "            os.remove(os.path.join(root, file))"
   ]
  },
  {
   "cell_type": "code",
   "execution_count": 4,
   "metadata": {
    "ExecuteTime": {
     "end_time": "2017-06-07T15:10:58.920531Z",
     "start_time": "2017-06-07T15:10:57.162300Z"
    }
   },
   "outputs": [
    {
     "data": {
      "text/plain": [
       "200"
      ]
     },
     "execution_count": 4,
     "metadata": {},
     "output_type": "execute_result"
    }
   ],
   "source": [
    "url='https://api.openaq.org/v1/latest'\n",
    "payload = {\n",
    "    'limit':10000,\n",
    "    'has_geo':True\n",
    "}\n",
    "r = requests.get(url, params=payload)\n",
    "r.status_code"
   ]
  },
  {
   "cell_type": "code",
   "execution_count": 5,
   "metadata": {
    "ExecuteTime": {
     "end_time": "2017-06-07T15:11:00.466983Z",
     "start_time": "2017-06-07T15:10:58.955904Z"
    },
    "collapsed": true
   },
   "outputs": [],
   "source": [
    "from pandas.io.json import json_normalize\n",
    "data = r.json()['results']\n",
    "df = json_normalize(data, ['measurements'],[['coordinates', 'latitude'], ['coordinates', 'longitude'],'location', 'city', 'country'])"
   ]
  },
  {
   "cell_type": "code",
   "execution_count": 6,
   "metadata": {
    "ExecuteTime": {
     "end_time": "2017-06-07T15:11:01.663226Z",
     "start_time": "2017-06-07T15:11:01.636793Z"
    }
   },
   "outputs": [
    {
     "name": "stdout",
     "output_type": "stream",
     "text": [
      "['lastUpdated' 'parameter' 'sourceName' 'unit' 'value' 'country'\n",
      " 'coordinates.longitude' 'coordinates.latitude' 'city' 'location']\n"
     ]
    },
    {
     "data": {
      "text/html": [
       "<div>\n",
       "<table border=\"1\" class=\"dataframe\">\n",
       "  <thead>\n",
       "    <tr style=\"text-align: right;\">\n",
       "      <th></th>\n",
       "      <th>lastUpdated</th>\n",
       "      <th>parameter</th>\n",
       "      <th>sourceName</th>\n",
       "      <th>unit</th>\n",
       "      <th>value</th>\n",
       "      <th>country</th>\n",
       "      <th>coordinates.longitude</th>\n",
       "      <th>coordinates.latitude</th>\n",
       "      <th>city</th>\n",
       "      <th>location</th>\n",
       "    </tr>\n",
       "  </thead>\n",
       "  <tbody>\n",
       "    <tr>\n",
       "      <th>0</th>\n",
       "      <td>2017-06-05T08:30:00.000Z</td>\n",
       "      <td>co</td>\n",
       "      <td>Agaar.mn</td>\n",
       "      <td>µg/m³</td>\n",
       "      <td>225.0</td>\n",
       "      <td>MN</td>\n",
       "      <td>106.921383</td>\n",
       "      <td>47.932906</td>\n",
       "      <td>Ulaanbaatar</td>\n",
       "      <td>100 ail</td>\n",
       "    </tr>\n",
       "    <tr>\n",
       "      <th>1</th>\n",
       "      <td>2017-06-05T08:30:00.000Z</td>\n",
       "      <td>no2</td>\n",
       "      <td>Agaar.mn</td>\n",
       "      <td>µg/m³</td>\n",
       "      <td>14.0</td>\n",
       "      <td>MN</td>\n",
       "      <td>106.921383</td>\n",
       "      <td>47.932906</td>\n",
       "      <td>Ulaanbaatar</td>\n",
       "      <td>100 ail</td>\n",
       "    </tr>\n",
       "  </tbody>\n",
       "</table>\n",
       "</div>"
      ],
      "text/plain": [
       "                lastUpdated parameter sourceName   unit  value country  \\\n",
       "0  2017-06-05T08:30:00.000Z        co   Agaar.mn  µg/m³  225.0      MN   \n",
       "1  2017-06-05T08:30:00.000Z       no2   Agaar.mn  µg/m³   14.0      MN   \n",
       "\n",
       "   coordinates.longitude  coordinates.latitude         city location  \n",
       "0             106.921383             47.932906  Ulaanbaatar  100 ail  \n",
       "1             106.921383             47.932906  Ulaanbaatar  100 ail  "
      ]
     },
     "execution_count": 6,
     "metadata": {},
     "output_type": "execute_result"
    }
   ],
   "source": [
    "print(df.columns.values)\n",
    "df.head(2)\n"
   ]
  },
  {
   "cell_type": "markdown",
   "metadata": {},
   "source": [
    "convert table into shapefile and export it :D "
   ]
  },
  {
   "cell_type": "code",
   "execution_count": 7,
   "metadata": {
    "ExecuteTime": {
     "end_time": "2017-06-07T15:11:04.053250Z",
     "start_time": "2017-06-07T15:11:03.787155Z"
    },
    "collapsed": true
   },
   "outputs": [],
   "source": [
    "geometry = [Point(xy) for xy in zip(df['coordinates.longitude'], df['coordinates.latitude'])]\n",
    "df = df.drop(['coordinates.longitude', 'coordinates.latitude'], axis=1)\n",
    "crs = {'init': 'epsg:4326'}\n",
    "geo_df = GeoDataFrame(df, crs=crs, geometry=geometry)"
   ]
  },
  {
   "cell_type": "code",
   "execution_count": 8,
   "metadata": {
    "ExecuteTime": {
     "end_time": "2017-06-07T15:11:04.963079Z",
     "start_time": "2017-06-07T15:11:04.935829Z"
    }
   },
   "outputs": [
    {
     "data": {
      "text/html": [
       "<div>\n",
       "<table border=\"1\" class=\"dataframe\">\n",
       "  <thead>\n",
       "    <tr style=\"text-align: right;\">\n",
       "      <th></th>\n",
       "      <th>lastUpdated</th>\n",
       "      <th>parameter</th>\n",
       "      <th>sourceName</th>\n",
       "      <th>unit</th>\n",
       "      <th>value</th>\n",
       "      <th>country</th>\n",
       "      <th>city</th>\n",
       "      <th>location</th>\n",
       "      <th>geometry</th>\n",
       "    </tr>\n",
       "  </thead>\n",
       "  <tbody>\n",
       "    <tr>\n",
       "      <th>0</th>\n",
       "      <td>2017-06-05T08:30:00.000Z</td>\n",
       "      <td>co</td>\n",
       "      <td>Agaar.mn</td>\n",
       "      <td>µg/m³</td>\n",
       "      <td>225.0</td>\n",
       "      <td>MN</td>\n",
       "      <td>Ulaanbaatar</td>\n",
       "      <td>100 ail</td>\n",
       "      <td>POINT (106.9213833 47.9329056)</td>\n",
       "    </tr>\n",
       "    <tr>\n",
       "      <th>1</th>\n",
       "      <td>2017-06-05T08:30:00.000Z</td>\n",
       "      <td>no2</td>\n",
       "      <td>Agaar.mn</td>\n",
       "      <td>µg/m³</td>\n",
       "      <td>14.0</td>\n",
       "      <td>MN</td>\n",
       "      <td>Ulaanbaatar</td>\n",
       "      <td>100 ail</td>\n",
       "      <td>POINT (106.9213833 47.9329056)</td>\n",
       "    </tr>\n",
       "  </tbody>\n",
       "</table>\n",
       "</div>"
      ],
      "text/plain": [
       "                lastUpdated parameter sourceName   unit  value country  \\\n",
       "0  2017-06-05T08:30:00.000Z        co   Agaar.mn  µg/m³  225.0      MN   \n",
       "1  2017-06-05T08:30:00.000Z       no2   Agaar.mn  µg/m³   14.0      MN   \n",
       "\n",
       "          city location                        geometry  \n",
       "0  Ulaanbaatar  100 ail  POINT (106.9213833 47.9329056)  \n",
       "1  Ulaanbaatar  100 ail  POINT (106.9213833 47.9329056)  "
      ]
     },
     "execution_count": 8,
     "metadata": {},
     "output_type": "execute_result"
    }
   ],
   "source": [
    "geo_df.head(2)"
   ]
  },
  {
   "cell_type": "code",
   "execution_count": 9,
   "metadata": {
    "ExecuteTime": {
     "end_time": "2017-06-07T15:11:05.630751Z",
     "start_time": "2017-06-07T15:11:05.626817Z"
    },
    "collapsed": true,
    "scrolled": false
   },
   "outputs": [],
   "source": [
    "#geo_df.plot();"
   ]
  },
  {
   "cell_type": "code",
   "execution_count": 10,
   "metadata": {
    "ExecuteTime": {
     "end_time": "2017-06-07T15:11:06.111551Z",
     "start_time": "2017-06-07T15:11:06.091447Z"
    }
   },
   "outputs": [
    {
     "data": {
      "text/plain": [
       "array(['co', 'no2', 'o3', 'pm10', 'so2', 'pm25', 'bc'], dtype=object)"
      ]
     },
     "execution_count": 10,
     "metadata": {},
     "output_type": "execute_result"
    }
   ],
   "source": [
    "geo_df.parameter.unique()"
   ]
  },
  {
   "cell_type": "code",
   "execution_count": 11,
   "metadata": {
    "ExecuteTime": {
     "end_time": "2017-06-07T15:11:07.096804Z",
     "start_time": "2017-06-07T15:11:07.081561Z"
    },
    "collapsed": true
   },
   "outputs": [],
   "source": [
    "def export2shp(data, outdir, outname):\n",
    "    current = os.getcwd()\n",
    "    path= current+outdir\n",
    "    os.mkdir(path)\n",
    "    data.to_file(filename=(path+'/'+outname+'.shp'),driver='ESRI Shapefile')\n",
    "    with zipfile.ZipFile(outname+'.zip', 'w', zipfile.ZIP_DEFLATED) as zipf:\n",
    "                zipDir(path, zipf)\n",
    "    os.rmdir(path)"
   ]
  },
  {
   "cell_type": "code",
   "execution_count": 12,
   "metadata": {
    "ExecuteTime": {
     "end_time": "2017-06-07T15:11:21.925989Z",
     "start_time": "2017-06-07T15:11:07.875145Z"
    }
   },
   "outputs": [
    {
     "name": "stdout",
     "output_type": "stream",
     "text": [
      "/home/jovyan/work/projects/wri-family/ResourceWatch/data_management/dst/test.cpg\n",
      "/home/jovyan/work/projects/wri-family/ResourceWatch/data_management/dst/test.dbf\n",
      "/home/jovyan/work/projects/wri-family/ResourceWatch/data_management/dst/test.prj\n",
      "/home/jovyan/work/projects/wri-family/ResourceWatch/data_management/dst/test.shp\n",
      "/home/jovyan/work/projects/wri-family/ResourceWatch/data_management/dst/test.shx\n"
     ]
    }
   ],
   "source": [
    "outdir='/dst'\n",
    "outname='test'\n",
    "export2shp(geo_df, outdir, outname)"
   ]
  },
  {
   "cell_type": "markdown",
   "metadata": {},
   "source": [
    "# Test with vega especification and adding maps"
   ]
  },
  {
   "cell_type": "code",
   "execution_count": 13,
   "metadata": {
    "ExecuteTime": {
     "end_time": "2017-06-07T15:11:24.527699Z",
     "start_time": "2017-06-07T15:11:23.885424Z"
    },
    "collapsed": true
   },
   "outputs": [],
   "source": [
    "import folium\n",
    "from vega import Vega"
   ]
  },
  {
   "cell_type": "code",
   "execution_count": 15,
   "metadata": {
    "ExecuteTime": {
     "end_time": "2017-06-07T15:11:37.324008Z",
     "start_time": "2017-06-07T15:11:36.585922Z"
    }
   },
   "outputs": [
    {
     "data": {
      "text/plain": [
       "{'axes': [{'properties': {'axis': {'stroke': {'value': '#9BA2AA'}},\n",
       "    'labels': {'text': {'template': ''}}},\n",
       "   'scale': 'x',\n",
       "   'tickSize': 0,\n",
       "   'type': 'x'},\n",
       "  {'properties': {'axis': {'stroke': {'value': 'transparent'}},\n",
       "    'labels': {'text': {'template': ''}}},\n",
       "   'scale': 'y',\n",
       "   'tickSize': 0,\n",
       "   'type': 'y'}],\n",
       " 'data': [{'format': {'property': 'rows', 'type': 'json'},\n",
       "   'name': 'table',\n",
       "   'url': \"https://insights.carto.com/api/v2/sql?q=select total as y, 1 as group, to_number(to_char(year, 'yyyy'), '9999') as x FROM cait_2_0_country_ghg_emissions_filtered\"}],\n",
       " 'height': 150,\n",
       " 'marks': [{'from': {'data': 'table',\n",
       "    'transform': [{'groupby': ['group'], 'type': 'facet'}]},\n",
       "   'marks': [{'properties': {'enter': {'stroke': {'field': 'group',\n",
       "        'scale': 'group'},\n",
       "       'strokeWidth': {'value': 2},\n",
       "       'x': {'field': 'x', 'scale': 'x'},\n",
       "       'y': {'field': 'y', 'scale': 'y'}}},\n",
       "     'type': 'line'}],\n",
       "   'type': 'group'}],\n",
       " 'name': 'Line vizzualitation',\n",
       " 'padding': {'bottom': 5, 'left': 5, 'right': 5, 'top': 5},\n",
       " 'scales': [{'domain': {'data': 'table', 'field': 'x'},\n",
       "   'name': 'x',\n",
       "   'range': 'width',\n",
       "   'type': 'linear',\n",
       "   'zero': False},\n",
       "  {'domain': {'data': 'table', 'field': 'y'},\n",
       "   'name': 'y',\n",
       "   'range': 'height',\n",
       "   'type': 'linear',\n",
       "   'zero': False},\n",
       "  {'domain': {'data': 'table', 'field': 'group'},\n",
       "   'name': 'group',\n",
       "   'range': 'colorRange1',\n",
       "   'type': 'ordinal'}],\n",
       " 'width': 150}"
      ]
     },
     "execution_count": 15,
     "metadata": {},
     "output_type": "execute_result"
    }
   ],
   "source": [
    "urlw='https://api.resourcewatch.org/widget/ea0ecd72-41f4-4ced-965c-c95204174048'\n",
    "wr = requests.get(urlw)\n",
    "wr.json()['data']['attributes']['widgetConfig']"
   ]
  },
  {
   "cell_type": "code",
   "execution_count": 16,
   "metadata": {
    "ExecuteTime": {
     "end_time": "2017-06-07T15:11:38.255200Z",
     "start_time": "2017-06-07T15:11:38.064018Z"
    }
   },
   "outputs": [],
   "source": [
    "conf = requests.get('https://raw.githubusercontent.com/resource-watch/resource-watch-app/master/src/utils/widgets/vega-theme-thumbnails.json').json()\n",
    "spec = wr.json()['data']['attributes']['widgetConfig']\n",
    "\n",
    "    \n",
    "t = Vega(spec)\n",
    "t.config = conf"
   ]
  },
  {
   "cell_type": "code",
   "execution_count": 17,
   "metadata": {
    "ExecuteTime": {
     "end_time": "2017-06-07T15:11:39.135177Z",
     "start_time": "2017-06-07T15:11:39.104454Z"
    },
    "scrolled": false
   },
   "outputs": [
    {
     "name": "stdout",
     "output_type": "stream",
     "text": [
      "['scales'][2]['range']\n"
     ]
    }
   ],
   "source": [
    "t = []\n",
    "path=''\n",
    "def find_value(dic, val, path):\n",
    "        for key, value in dic.items():\n",
    "            if value == val:\n",
    "                path = path +'[\\''+ key + '\\']'\n",
    "                t.append(path)\n",
    "            elif isinstance(dic[key], list):\n",
    "                for i, data in enumerate(dic[key]):\n",
    "                    if isinstance(data, dict):\n",
    "                        symnpath = path +'[\\''+ key +'\\']['+ str(i)+']'\n",
    "                        find_value(data, val, symnpath)\n",
    "            elif isinstance(dic[key], dict):\n",
    "                symnpath = path +'[\\''+ key+'\\']'\n",
    "                find_value(dic[key], val, symnpath)\n",
    "\n",
    "find_value(spec, 'colorRange1', path)\n",
    "print(t[0])\n",
    "fs = t[0]"
   ]
  },
  {
   "cell_type": "code",
   "execution_count": 18,
   "metadata": {
    "ExecuteTime": {
     "end_time": "2017-06-07T15:11:40.307861Z",
     "start_time": "2017-06-07T15:11:40.289107Z"
    }
   },
   "outputs": [
    {
     "name": "stdout",
     "output_type": "stream",
     "text": [
      "spec['scales'][2]['range']\n"
     ]
    },
    {
     "data": {
      "text/plain": [
       "'colorRange1'"
      ]
     },
     "execution_count": 18,
     "metadata": {},
     "output_type": "execute_result"
    }
   ],
   "source": [
    "d = 'spec' + t[0]\n",
    "print(d)\n",
    "sdf = eval(d)\n",
    "sdf"
   ]
  },
  {
   "cell_type": "code",
   "execution_count": 19,
   "metadata": {
    "ExecuteTime": {
     "end_time": "2017-06-07T15:11:41.354257Z",
     "start_time": "2017-06-07T15:11:41.349754Z"
    },
    "collapsed": true
   },
   "outputs": [],
   "source": [
    "exec(\"d=conf['range'][sdf]\")"
   ]
  },
  {
   "cell_type": "code",
   "execution_count": 20,
   "metadata": {
    "ExecuteTime": {
     "end_time": "2017-06-07T15:11:42.326287Z",
     "start_time": "2017-06-07T15:11:42.317875Z"
    },
    "collapsed": true
   },
   "outputs": [],
   "source": [
    "spec['scales'][2]['range']='category10'"
   ]
  },
  {
   "cell_type": "code",
   "execution_count": 21,
   "metadata": {
    "ExecuteTime": {
     "end_time": "2017-06-07T15:11:42.909323Z",
     "start_time": "2017-06-07T15:11:42.890785Z"
    },
    "scrolled": true
   },
   "outputs": [
    {
     "data": {
      "text/html": [
       "<div class=\"vega-embed\" id=\"c7455ac3-5757-4289-a061-6676b6528ee2\"></div>\n",
       "\n",
       "<style>\n",
       ".vega-embed svg, .vega-embed canvas {\n",
       "  border: 1px dotted gray;\n",
       "}\n",
       "\n",
       ".vega-embed .vega-actions a {\n",
       "  margin-right: 6px;\n",
       "}\n",
       "</style>\n"
      ]
     },
     "metadata": {
      "jupyter-vega": "#c7455ac3-5757-4289-a061-6676b6528ee2"
     },
     "output_type": "display_data"
    },
    {
     "data": {
      "application/javascript": [
       "var spec = {\"marks\": [{\"from\": {\"data\": \"table\", \"transform\": [{\"type\": \"facet\", \"groupby\": [\"group\"]}]}, \"marks\": [{\"type\": \"line\", \"properties\": {\"enter\": {\"strokeWidth\": {\"value\": 2}, \"x\": {\"scale\": \"x\", \"field\": \"x\"}, \"y\": {\"scale\": \"y\", \"field\": \"y\"}, \"stroke\": {\"scale\": \"group\", \"field\": \"group\"}}}}], \"type\": \"group\"}], \"axes\": [{\"scale\": \"x\", \"tickSize\": 0, \"type\": \"x\", \"properties\": {\"axis\": {\"stroke\": {\"value\": \"#9BA2AA\"}}, \"labels\": {\"text\": {\"template\": \"\"}}}}, {\"scale\": \"y\", \"tickSize\": 0, \"type\": \"y\", \"properties\": {\"axis\": {\"stroke\": {\"value\": \"transparent\"}}, \"labels\": {\"text\": {\"template\": \"\"}}}}], \"padding\": {\"right\": 5, \"bottom\": 5, \"top\": 5, \"left\": 5}, \"name\": \"Line vizzualitation\", \"height\": 150, \"data\": [{\"format\": {\"property\": \"rows\", \"type\": \"json\"}, \"url\": \"https://insights.carto.com/api/v2/sql?q=select total as y, 1 as group, to_number(to_char(year, 'yyyy'), '9999') as x FROM cait_2_0_country_ghg_emissions_filtered\", \"name\": \"table\"}], \"scales\": [{\"zero\": false, \"range\": \"width\", \"type\": \"linear\", \"name\": \"x\", \"domain\": {\"data\": \"table\", \"field\": \"x\"}}, {\"zero\": false, \"range\": \"height\", \"type\": \"linear\", \"name\": \"y\", \"domain\": {\"data\": \"table\", \"field\": \"y\"}}, {\"range\": \"category10\", \"type\": \"ordinal\", \"name\": \"group\", \"domain\": {\"data\": \"table\", \"field\": \"group\"}}], \"width\": 150};\n",
       "var selector = \"#c7455ac3-5757-4289-a061-6676b6528ee2\";\n",
       "var type = \"vega\";\n",
       "\n",
       "var output_area = this;\n",
       "require(['nbextensions/jupyter-vega/index'], function(vega) {\n",
       "  vega.render(selector, spec, type, output_area);\n",
       "}, function (err) {\n",
       "  if (err.requireType !== 'scripterror') {\n",
       "    throw(err);\n",
       "  }\n",
       "});\n"
      ]
     },
     "metadata": {
      "jupyter-vega": "#c7455ac3-5757-4289-a061-6676b6528ee2"
     },
     "output_type": "display_data"
    },
    {
     "data": {
      "image/png": "[encoded data removed]"
     },
     "metadata": {
      "jupyter-vega": "#c7455ac3-5757-4289-a061-6676b6528ee2"
     },
     "output_type": "display_data"
    }
   ],
   "source": [
    "Vega(spec)"
   ]
  },
  {
   "cell_type": "code",
   "execution_count": 22,
   "metadata": {
    "ExecuteTime": {
     "end_time": "2017-06-07T15:11:44.891779Z",
     "start_time": "2017-06-07T15:11:44.882178Z"
    },
    "collapsed": true
   },
   "outputs": [],
   "source": [
    "account = 'wri-rw'\n",
    "urlCarto = 'https://'+account+'.carto.com/api/v1/map'\n",
    "body = {\n",
    "    \"layers\": [{\n",
    "        \"type\": \"cartodb\",\n",
    "        \"options\": {\n",
    "            \"sql\": \"select * from countries\",\n",
    "            \"cartocss\":\"#layer {\\n  polygon-fill: #374C70;\\n  polygon-opacity: 0.9;\\n  polygon-gamma: 0.5;\\n  line-color: #FFF;\\n  line-width: 1;\\n  line-opacity: 0.5;\\n  line-comp-op: soft-light;\\n}\",\n",
    "            \"cartocss_version\": \"2.1.1\"\n",
    "        }\n",
    "    }]\n",
    "}"
   ]
  },
  {
   "cell_type": "code",
   "execution_count": 23,
   "metadata": {
    "ExecuteTime": {
     "end_time": "2017-06-07T15:11:48.590663Z",
     "start_time": "2017-06-07T15:11:47.565787Z"
    }
   },
   "outputs": [
    {
     "data": {
      "text/html": [
       "<div style=\"width:100%;\"><div style=\"position:relative;width:100%;height:0;padding-bottom:60%;\"><iframe src=\"data:text/html;charset=utf-8;base64,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\" style=\"position:absolute;width:100%;height:100%;left:0;top:0;border:none !important;\" allowfullscreen webkitallowfullscreen mozallowfullscreen></iframe></div></div>"
      ],
      "text/plain": [
       "<folium.folium.Map at 0x7fe60de88d68>"
      ]
     },
     "execution_count": 23,
     "metadata": {},
     "output_type": "execute_result"
    }
   ],
   "source": [
    "r = requests.post(urlCarto, data=json.dumps(body), headers={'content-type': 'application/json; charset=UTF-8'})\n",
    "tileUrl = 'https://'+account+'.carto.com/api/v1/map/' + r.json()['layergroupid'] + '/{z}/{x}/{y}.png32';\n",
    "\n",
    "map_osm = folium.Map(location=[45.5236, 0.6750], zoom_start=3)\n",
    "folium.TileLayer(\n",
    "    tiles=tileUrl,\n",
    "    attr='text',\n",
    "    name='text',\n",
    "    overlay=True\n",
    ").add_to(map_osm)\n",
    "map_osm"
   ]
  },
  {
   "cell_type": "code",
   "execution_count": null,
   "metadata": {
    "collapsed": true
   },
   "outputs": [],
   "source": []
  }
 ],
 "metadata": {
  "kernelspec": {
   "display_name": "Python 3",
   "language": "python",
   "name": "python3"
  },
  "language_info": {
   "codemirror_mode": {
    "name": "ipython",
    "version": 3
   },
   "file_extension": ".py",
   "mimetype": "text/x-python",
   "name": "python",
   "nbconvert_exporter": "python",
   "pygments_lexer": "ipython3",
   "version": "3.5.3"
  },
  "latex_envs": {
   "LaTeX_envs_menu_present": true,
   "autocomplete": true,
   "bibliofile": "biblio.bib",
   "cite_by": "apalike",
   "current_citInitial": 1,
   "eqLabelWithNumbers": true,
   "eqNumInitial": 1,
   "hotkeys": {
    "equation": "Ctrl-E",
    "itemize": "Ctrl-I"
   },
   "labels_anchors": false,
   "latex_user_defs": false,
   "report_style_numbering": false,
   "user_envs_cfg": false
  },
  "varInspector": {
   "cols": {
    "lenName": 16,
    "lenType": 16,
    "lenVar": 40
   },
   "kernels_config": {
    "python": {
     "delete_cmd_postfix": "",
     "delete_cmd_prefix": "del ",
     "library": "var_list.py",
     "varRefreshCmd": "print(var_dic_list())"
    },
    "r": {
     "delete_cmd_postfix": ") ",
     "delete_cmd_prefix": "rm(",
     "library": "var_list.r",
     "varRefreshCmd": "cat(var_dic_list()) "
    }
   },
   "types_to_exclude": [
    "module",
    "function",
    "builtin_function_or_method",
    "instance",
    "_Feature"
   ],
   "window_display": false
  }
 },
 "nbformat": 4,
 "nbformat_minor": 2
}
