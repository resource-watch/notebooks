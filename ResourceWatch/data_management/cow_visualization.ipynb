{
 "cells": [
  {
   "cell_type": "markdown",
   "metadata": {
    "toc": "true"
   },
   "source": [
    "# Table of Contents\n",
    " <p>"
   ]
  },
  {
   "cell_type": "code",
   "execution_count": 1,
   "metadata": {},
   "outputs": [],
   "source": [
    "import numpy as np\n",
    "from ipywidgets import interact_manual, Layout\n",
    "import ipywidgets as widgets\n",
    "from IPython.display import display"
   ]
  },
  {
   "cell_type": "markdown",
   "metadata": {},
   "source": [
    "Making use of the m-evo data for wri file shared with us in this basecamp link, i have calculated the linear regresion needed for the interactive chart.  \n",
    "We need to note that the baseflow is a percentage representation of the flow, that came from groundwaters."
   ]
  },
  {
   "cell_type": "code",
   "execution_count": 2,
   "metadata": {},
   "outputs": [
    {
     "data": {
      "application/vnd.jupyter.widget-view+json": {
       "model_id": "38f2249e57d541b09f1219128da877a6",
       "version_major": 2,
       "version_minor": 0
      },
      "text/plain": [
       "VBox(children=(IntSlider(value=0, continuous_update=False), Output()))"
      ]
     },
     "metadata": {},
     "output_type": "display_data"
    }
   ],
   "source": [
    "Cattle = widgets.IntSlider(min=0, max=100, step=1,continuous_update=False, value=0)\n",
    "\n",
    "def f(x):\n",
    "    d=x/100\n",
    "    Flow = 0.40326 + (d*(0.27296-0.40326))\n",
    "    \n",
    "    Baseflow = 0.7269 + (d*(0.55989493-0.7269))\n",
    "    \n",
    "    Evaporation = 1-Flow\n",
    "    print('Evaporation: ',round(Evaporation*100),' %')\n",
    "    print('Flow: ',round(Flow*100),' %')\n",
    "    print('Baseflow: ',round(Baseflow*100),' % of flow')\n",
    "    print('Which means: ')\n",
    "    print('ground water runoff:', round(Flow*Baseflow*100),' %')\n",
    "    print('surface runoff:', round(Flow*(1-Baseflow)*100),' %')\n",
    "out =widgets.interactive_output(f, {'x': Cattle})    \n",
    "ui = widgets.VBox([Cattle,out])\n",
    "display(ui)   "
   ]
  }
 ],
 "metadata": {
  "kernelspec": {
   "display_name": "Python 3",
   "language": "python",
   "name": "python3"
  },
  "language_info": {
   "codemirror_mode": {
    "name": "ipython",
    "version": 3
   },
   "file_extension": ".py",
   "mimetype": "text/x-python",
   "name": "python",
   "nbconvert_exporter": "python",
   "pygments_lexer": "ipython3",
   "version": "3.6.1"
  },
  "toc": {
   "colors": {
    "hover_highlight": "#DAA520",
    "navigate_num": "#000000",
    "navigate_text": "#333333",
    "running_highlight": "#FF0000",
    "selected_highlight": "#FFD700",
    "sidebar_border": "#EEEEEE",
    "wrapper_background": "#FFFFFF"
   },
   "moveMenuLeft": true,
   "nav_menu": {
    "height": "12px",
    "width": "252px"
   },
   "navigate_menu": true,
   "number_sections": true,
   "sideBar": true,
   "threshold": "2",
   "toc_cell": true,
   "toc_section_display": "block",
   "toc_window_display": true,
   "widenNotebook": false
  },
  "varInspector": {
   "cols": {
    "lenName": 16,
    "lenType": 16,
    "lenVar": 40
   },
   "kernels_config": {
    "python": {
     "delete_cmd_postfix": "",
     "delete_cmd_prefix": "del ",
     "library": "var_list.py",
     "varRefreshCmd": "print(var_dic_list())"
    },
    "r": {
     "delete_cmd_postfix": ") ",
     "delete_cmd_prefix": "rm(",
     "library": "var_list.r",
     "varRefreshCmd": "cat(var_dic_list()) "
    }
   },
   "types_to_exclude": [
    "module",
    "function",
    "builtin_function_or_method",
    "instance",
    "_Feature"
   ],
   "window_display": false
  },
  "widgets": {
   "application/vnd.jupyter.widget-state+json": {
    "state": {
     "03ab1be43bb04b5cb204a5b8a452184a": {
      "model_module": "@jupyter-widgets/base",
      "model_module_version": "1.0.0",
      "model_name": "LayoutModel",
      "state": {}
     },
     "04218fe6aee6452a8c9cd6e75d575305": {
      "model_module": "@jupyter-widgets/output",
      "model_module_version": "1.0.0",
      "model_name": "OutputModel",
      "state": {
       "layout": "IPY_MODEL_ab7ebedb4fac41d69527103657572448",
       "outputs": [
        {
         "name": "stdout",
         "output_type": "stream",
         "text": "Flow:  0  %\nEvaporation:  1  %\nBaseflow:  1  %\ntotal  1.316298986\n"
        }
       ]
      }
     },
     "0467fc05bcd848e698655b62374a2283": {
      "model_module": "@jupyter-widgets/base",
      "model_module_version": "1.0.0",
      "model_name": "LayoutModel",
      "state": {}
     },
     "0738a3b9872c46719115201731f8bbdf": {
      "model_module": "@jupyter-widgets/base",
      "model_module_version": "1.0.0",
      "model_name": "LayoutModel",
      "state": {}
     },
     "09b08cee08a344d1afb5b9622921019a": {
      "model_module": "@jupyter-widgets/base",
      "model_module_version": "1.0.0",
      "model_name": "LayoutModel",
      "state": {}
     },
     "0bcf1fe190d44df885b85430f2ee87e1": {
      "model_module": "@jupyter-widgets/controls",
      "model_module_version": "1.2.0",
      "model_name": "FloatSliderModel",
      "state": {
       "continuous_update": false,
       "layout": "IPY_MODEL_e434dd6ab8af4637963e596745a3cfef",
       "max": 1,
       "step": 0.1,
       "style": "IPY_MODEL_0ff6badd134a4f018067128143e31d64",
       "value": 0.3
      }
     },
     "0d21ba80bec94549bf87d3cb5689ec65": {
      "model_module": "@jupyter-widgets/controls",
      "model_module_version": "1.2.0",
      "model_name": "FloatSliderModel",
      "state": {
       "continuous_update": false,
       "layout": "IPY_MODEL_5325fb16ba76415c89ddc2559f7fe2bc",
       "max": 1,
       "step": 0.1,
       "style": "IPY_MODEL_7536c0c6958147d580d96ba6bfc69a17"
      }
     },
     "0d4ed91f9ca44a3f8f09cc53c72ba512": {
      "model_module": "@jupyter-widgets/controls",
      "model_module_version": "1.2.0",
      "model_name": "IntSliderModel",
      "state": {
       "continuous_update": false,
       "layout": "IPY_MODEL_73f16821f274473a97d0c03d67fcd851",
       "step": 10,
       "style": "IPY_MODEL_ae0a3826dfd74b8b8f81db78eb6a599d"
      }
     },
     "0d50a31a1e564444a19d96bafb5105d0": {
      "model_module": "@jupyter-widgets/base",
      "model_module_version": "1.0.0",
      "model_name": "LayoutModel",
      "state": {}
     },
     "0d595ec807c547ecab86cf6c17005a15": {
      "model_module": "@jupyter-widgets/output",
      "model_module_version": "1.0.0",
      "model_name": "OutputModel",
      "state": {
       "layout": "IPY_MODEL_0d50a31a1e564444a19d96bafb5105d0",
       "outputs": [
        {
         "name": "stdout",
         "output_type": "stream",
         "text": "Evaporation:  60  %\nFlow:  40  %\nBaseflow:  73  % of flow\nWhich means: \nground water runoff: 29  %\nsurface runoff: 11  %\n"
        }
       ]
      }
     },
     "0e19e3fb1aa644bab162d096ea01036d": {
      "model_module": "@jupyter-widgets/controls",
      "model_module_version": "1.2.0",
      "model_name": "VBoxModel",
      "state": {
       "children": [
        "IPY_MODEL_8adbd7f6ba9744309320a3c8c4b4797a",
        "IPY_MODEL_b62c61e843f94d1c90b7f4676dd96196"
       ],
       "layout": "IPY_MODEL_26f754b0764447febf9a8471c9130790"
      }
     },
     "0ff6badd134a4f018067128143e31d64": {
      "model_module": "@jupyter-widgets/controls",
      "model_module_version": "1.2.0",
      "model_name": "SliderStyleModel",
      "state": {
       "description_width": ""
      }
     },
     "103c91ac12aa4c83900f3851d2f80e12": {
      "model_module": "@jupyter-widgets/base",
      "model_module_version": "1.0.0",
      "model_name": "LayoutModel",
      "state": {}
     },
     "10fab29770604ce2b1a05f95003f7eb7": {
      "model_module": "@jupyter-widgets/base",
      "model_module_version": "1.0.0",
      "model_name": "LayoutModel",
      "state": {}
     },
     "110ac1e8928e4632b17a21275ff19a4a": {
      "model_module": "@jupyter-widgets/base",
      "model_module_version": "1.0.0",
      "model_name": "LayoutModel",
      "state": {}
     },
     "11eb490e63ea4344b184c36058e9ab74": {
      "model_module": "@jupyter-widgets/base",
      "model_module_version": "1.0.0",
      "model_name": "LayoutModel",
      "state": {}
     },
     "1490600762a045d48837b643d3540517": {
      "model_module": "@jupyter-widgets/base",
      "model_module_version": "1.0.0",
      "model_name": "LayoutModel",
      "state": {}
     },
     "15861c8506234696a62027d2a3c74763": {
      "model_module": "@jupyter-widgets/base",
      "model_module_version": "1.0.0",
      "model_name": "LayoutModel",
      "state": {}
     },
     "1ae53f3dd570451599a9c21e863beeac": {
      "model_module": "@jupyter-widgets/controls",
      "model_module_version": "1.2.0",
      "model_name": "SliderStyleModel",
      "state": {
       "description_width": ""
      }
     },
     "1beb0f5fda784a8582db702232969500": {
      "model_module": "@jupyter-widgets/base",
      "model_module_version": "1.0.0",
      "model_name": "LayoutModel",
      "state": {}
     },
     "1c35a136ad9246619dfa7c69da411548": {
      "model_module": "@jupyter-widgets/base",
      "model_module_version": "1.0.0",
      "model_name": "LayoutModel",
      "state": {}
     },
     "1d8d410e2c964ba3abfa9fb806c81ef7": {
      "model_module": "@jupyter-widgets/base",
      "model_module_version": "1.0.0",
      "model_name": "LayoutModel",
      "state": {}
     },
     "1ea86887d622492980f6d145fa5a3206": {
      "model_module": "@jupyter-widgets/controls",
      "model_module_version": "1.2.0",
      "model_name": "SliderStyleModel",
      "state": {
       "description_width": ""
      }
     },
     "22541db353094ea1b0c99dc52e2511a1": {
      "model_module": "@jupyter-widgets/controls",
      "model_module_version": "1.2.0",
      "model_name": "VBoxModel",
      "state": {
       "children": [
        "IPY_MODEL_88fdf0f3b5dc4fce8aa7f8ae54e1f006",
        "IPY_MODEL_37b01e7bed744b3d91265229919c54f4"
       ],
       "layout": "IPY_MODEL_10fab29770604ce2b1a05f95003f7eb7"
      }
     },
     "22e3f85f2fa4468eaa9394d4c550a439": {
      "model_module": "@jupyter-widgets/base",
      "model_module_version": "1.0.0",
      "model_name": "LayoutModel",
      "state": {}
     },
     "22ea873a04dd4f468f78e16d583e83c5": {
      "model_module": "@jupyter-widgets/base",
      "model_module_version": "1.0.0",
      "model_name": "LayoutModel",
      "state": {}
     },
     "2348c137701f4de78d838faa52ab3039": {
      "model_module": "@jupyter-widgets/controls",
      "model_module_version": "1.2.0",
      "model_name": "VBoxModel",
      "state": {
       "children": [
        "IPY_MODEL_33f7d290d6844a9993e70a23104a7727",
        "IPY_MODEL_bbaad3f3f59e4045b3bb18b5d7ae4a57"
       ],
       "layout": "IPY_MODEL_69cbdb6515f64c69ad67d7b012a28733"
      }
     },
     "26f754b0764447febf9a8471c9130790": {
      "model_module": "@jupyter-widgets/base",
      "model_module_version": "1.0.0",
      "model_name": "LayoutModel",
      "state": {}
     },
     "2e4630b5987548939eced67dc7930155": {
      "model_module": "@jupyter-widgets/base",
      "model_module_version": "1.0.0",
      "model_name": "LayoutModel",
      "state": {}
     },
     "2e4c5b2f09e047a4b322c4e5c7825122": {
      "model_module": "@jupyter-widgets/base",
      "model_module_version": "1.0.0",
      "model_name": "LayoutModel",
      "state": {}
     },
     "2ebc55f67515435b8ae8b1b4e926f91d": {
      "model_module": "@jupyter-widgets/base",
      "model_module_version": "1.0.0",
      "model_name": "LayoutModel",
      "state": {}
     },
     "33f7d290d6844a9993e70a23104a7727": {
      "model_module": "@jupyter-widgets/controls",
      "model_module_version": "1.2.0",
      "model_name": "IntSliderModel",
      "state": {
       "continuous_update": false,
       "layout": "IPY_MODEL_f431afefaf0e4594b0e0fce9a54a509c",
       "step": 10,
       "style": "IPY_MODEL_3c08d34647c64473a0b57746afa28199"
      }
     },
     "3529c19c925142c482b3829cabfa74ff": {
      "model_module": "@jupyter-widgets/base",
      "model_module_version": "1.0.0",
      "model_name": "LayoutModel",
      "state": {}
     },
     "36b3550e970f442ab2fe90efada35788": {
      "model_module": "@jupyter-widgets/controls",
      "model_module_version": "1.2.0",
      "model_name": "SliderStyleModel",
      "state": {
       "description_width": ""
      }
     },
     "376f71097664495784512ade2912cb57": {
      "model_module": "@jupyter-widgets/base",
      "model_module_version": "1.0.0",
      "model_name": "LayoutModel",
      "state": {}
     },
     "37b01e7bed744b3d91265229919c54f4": {
      "model_module": "@jupyter-widgets/output",
      "model_module_version": "1.0.0",
      "model_name": "OutputModel",
      "state": {
       "layout": "IPY_MODEL_59113c5b50ce4f84a0a11446c616d9fa",
       "outputs": [
        {
         "name": "stdout",
         "output_type": "stream",
         "text": "Flow:  -9956  %\nEvaporation:  10056  %\nBaseflow:  10027  %\ntotal  10100\n"
        }
       ]
      }
     },
     "38f2249e57d541b09f1219128da877a6": {
      "model_module": "@jupyter-widgets/controls",
      "model_module_version": "1.2.0",
      "model_name": "VBoxModel",
      "state": {
       "children": [
        "IPY_MODEL_68826c21342f4c8a80bf80f252b34a15",
        "IPY_MODEL_5f6df778e62d4ca3855cda2c1060aa0c"
       ],
       "layout": "IPY_MODEL_5f8e1080b4f4458fb8799699be8ceb58"
      }
     },
     "3991368c0f624c1499b0ac6ffadf1528": {
      "model_module": "@jupyter-widgets/controls",
      "model_module_version": "1.2.0",
      "model_name": "VBoxModel",
      "state": {
       "children": [
        "IPY_MODEL_beca983b795b48c7b2f14f8f33c4da27",
        "IPY_MODEL_555e5300dc124a8cb5874a380cfa7a7e"
       ],
       "layout": "IPY_MODEL_db6288f48212406586efd75d9ae4234d"
      }
     },
     "3c08d34647c64473a0b57746afa28199": {
      "model_module": "@jupyter-widgets/controls",
      "model_module_version": "1.2.0",
      "model_name": "SliderStyleModel",
      "state": {
       "description_width": ""
      }
     },
     "3e753f9f7f20462dbe688b9659571004": {
      "model_module": "@jupyter-widgets/base",
      "model_module_version": "1.0.0",
      "model_name": "LayoutModel",
      "state": {}
     },
     "3ee5daf435024e61b7187095ddb78079": {
      "model_module": "@jupyter-widgets/output",
      "model_module_version": "1.0.0",
      "model_name": "OutputModel",
      "state": {
       "layout": "IPY_MODEL_a2574b419c0b4ee0863928664d0c8c30",
       "outputs": [
        {
         "name": "stdout",
         "output_type": "stream",
         "text": "Evaporation:  67  %\nFlow:  33  %\nBaseflow:  63  % of flow\nWhich means: \nground water runoff: 20.372664710663997\nsurface runoff: 12.135335289335998\n"
        }
       ]
      }
     },
     "3f5eec217aa44a539dd07c778ba89df6": {
      "model_module": "@jupyter-widgets/output",
      "model_module_version": "1.0.0",
      "model_name": "OutputModel",
      "state": {
       "layout": "IPY_MODEL_15861c8506234696a62027d2a3c74763",
       "outputs": [
        {
         "name": "stdout",
         "output_type": "stream",
         "text": "Flow:  14\nEvaporation:  86\nBaseflow:  57\n"
        }
       ]
      }
     },
     "42ba2bf0d1264af4bc8450de070adfa6": {
      "model_module": "@jupyter-widgets/base",
      "model_module_version": "1.0.0",
      "model_name": "LayoutModel",
      "state": {}
     },
     "4403fff8533e4c55901dcc3f6dad0fd3": {
      "model_module": "@jupyter-widgets/controls",
      "model_module_version": "1.2.0",
      "model_name": "SliderStyleModel",
      "state": {
       "description_width": ""
      }
     },
     "4420b769153f4a878581b2f033bf2934": {
      "model_module": "@jupyter-widgets/base",
      "model_module_version": "1.0.0",
      "model_name": "LayoutModel",
      "state": {}
     },
     "449f236ad36c4fcea4f5492d5810279b": {
      "model_module": "@jupyter-widgets/base",
      "model_module_version": "1.0.0",
      "model_name": "LayoutModel",
      "state": {}
     },
     "46695324b2e546ac803262cbf0efb80b": {
      "model_module": "@jupyter-widgets/base",
      "model_module_version": "1.0.0",
      "model_name": "LayoutModel",
      "state": {}
     },
     "46e98c005bca41d4bc66e8e475dcab04": {
      "model_module": "@jupyter-widgets/base",
      "model_module_version": "1.0.0",
      "model_name": "LayoutModel",
      "state": {}
     },
     "488565a1379e4b4284ae6cb964efe1da": {
      "model_module": "@jupyter-widgets/controls",
      "model_module_version": "1.2.0",
      "model_name": "VBoxModel",
      "state": {
       "children": [
        "IPY_MODEL_f7dba889e913449abfde1c1dd0d7ddf4",
        "IPY_MODEL_5d94113cfd2f458b94c00b39f0ff065c"
       ],
       "layout": "IPY_MODEL_8ce4e35cc6264d098903d443dbb1eeed"
      }
     },
     "4905cc183940473fb0d153077e536bf3": {
      "model_module": "@jupyter-widgets/base",
      "model_module_version": "1.0.0",
      "model_name": "LayoutModel",
      "state": {}
     },
     "49738a5da7714b3ba1ad64e8179cd3d4": {
      "model_module": "@jupyter-widgets/controls",
      "model_module_version": "1.2.0",
      "model_name": "VBoxModel",
      "state": {
       "children": [
        "IPY_MODEL_b8ae50c5833a479088f1f9ec4d8476a8",
        "IPY_MODEL_944c7c48342047c3822823c08be1ed0f"
       ],
       "layout": "IPY_MODEL_4e928ef5579249e193c0df076be6add2"
      }
     },
     "4a13b86be2bf4c719b9ed139097b81ac": {
      "model_module": "@jupyter-widgets/controls",
      "model_module_version": "1.2.0",
      "model_name": "IntSliderModel",
      "state": {
       "continuous_update": false,
       "layout": "IPY_MODEL_2e4c5b2f09e047a4b322c4e5c7825122",
       "step": 10,
       "style": "IPY_MODEL_8511750afce94ca8b05b519491f5772b",
       "value": 100
      }
     },
     "4a20485dccd148b6afe5b32c02f32fdd": {
      "model_module": "@jupyter-widgets/controls",
      "model_module_version": "1.2.0",
      "model_name": "SliderStyleModel",
      "state": {
       "description_width": ""
      }
     },
     "4a376974882a4a318c22729f69c5b8d9": {
      "model_module": "@jupyter-widgets/base",
      "model_module_version": "1.0.0",
      "model_name": "LayoutModel",
      "state": {}
     },
     "4c73435a59c44bc08ab5b8005370deb3": {
      "model_module": "@jupyter-widgets/controls",
      "model_module_version": "1.2.0",
      "model_name": "VBoxModel",
      "state": {
       "children": [
        "IPY_MODEL_ff2a9ce1c8e043dea4e5a844e6e06ebe",
        "IPY_MODEL_7711f59049f14e159629dbe199e9636e"
       ],
       "layout": "IPY_MODEL_22e3f85f2fa4468eaa9394d4c550a439"
      }
     },
     "4e928ef5579249e193c0df076be6add2": {
      "model_module": "@jupyter-widgets/base",
      "model_module_version": "1.0.0",
      "model_name": "LayoutModel",
      "state": {}
     },
     "514a1d9b89b54a01912ebab0211e8133": {
      "model_module": "@jupyter-widgets/controls",
      "model_module_version": "1.2.0",
      "model_name": "IntSliderModel",
      "state": {
       "continuous_update": false,
       "layout": "IPY_MODEL_110ac1e8928e4632b17a21275ff19a4a",
       "step": 10,
       "style": "IPY_MODEL_4403fff8533e4c55901dcc3f6dad0fd3"
      }
     },
     "5325fb16ba76415c89ddc2559f7fe2bc": {
      "model_module": "@jupyter-widgets/base",
      "model_module_version": "1.0.0",
      "model_name": "LayoutModel",
      "state": {}
     },
     "542a907d50cd49e5b4d3c5c2d0d029b7": {
      "model_module": "@jupyter-widgets/base",
      "model_module_version": "1.0.0",
      "model_name": "LayoutModel",
      "state": {}
     },
     "555e5300dc124a8cb5874a380cfa7a7e": {
      "model_module": "@jupyter-widgets/output",
      "model_module_version": "1.0.0",
      "model_name": "OutputModel",
      "state": {
       "layout": "IPY_MODEL_ef23bb09b7314489bdf413cbebab751f",
       "outputs": [
        {
         "name": "stdout",
         "output_type": "stream",
         "text": "Evaporation:  67  %\nFlow:  33  %\nBaseflow:  64  % of flow\nWhich means: \nground water runoff: 21\nsurface runoff: 12\n"
        }
       ]
      }
     },
     "56f14cdcd29e4345b0dbfbac90e9b40f": {
      "model_module": "@jupyter-widgets/controls",
      "model_module_version": "1.2.0",
      "model_name": "VBoxModel",
      "state": {
       "children": [
        "IPY_MODEL_738a81ee582a4bc5b7f329d5114d0c04",
        "IPY_MODEL_e90b2947b8534d9fa475a1112eaa469e"
       ],
       "layout": "IPY_MODEL_4420b769153f4a878581b2f033bf2934"
      }
     },
     "59113c5b50ce4f84a0a11446c616d9fa": {
      "model_module": "@jupyter-widgets/base",
      "model_module_version": "1.0.0",
      "model_name": "LayoutModel",
      "state": {}
     },
     "595cf8fa4af440b889c94a6ebead27ea": {
      "model_module": "@jupyter-widgets/base",
      "model_module_version": "1.0.0",
      "model_name": "LayoutModel",
      "state": {}
     },
     "5c2f97e41e524c43bd8daf9e3858768e": {
      "model_module": "@jupyter-widgets/base",
      "model_module_version": "1.0.0",
      "model_name": "LayoutModel",
      "state": {}
     },
     "5d94113cfd2f458b94c00b39f0ff065c": {
      "model_module": "@jupyter-widgets/output",
      "model_module_version": "1.0.0",
      "model_name": "OutputModel",
      "state": {
       "layout": "IPY_MODEL_0467fc05bcd848e698655b62374a2283",
       "outputs": [
        {
         "name": "stdout",
         "output_type": "stream",
         "text": "Flow:  14  %\nEvaporation:  86  %\nBaseflow:  57  %\ntotal  200\n"
        }
       ]
      }
     },
     "5ed2d1f1e95f4109940f1da44356a478": {
      "model_module": "@jupyter-widgets/controls",
      "model_module_version": "1.2.0",
      "model_name": "IntSliderModel",
      "state": {
       "continuous_update": false,
       "layout": "IPY_MODEL_c764d3c85db94e3cb497e81aaf0006d3",
       "style": "IPY_MODEL_c269f488ea7843959762354594496d97",
       "value": 1
      }
     },
     "5f1d9a4488b94b68b790efe72532829a": {
      "model_module": "@jupyter-widgets/controls",
      "model_module_version": "1.2.0",
      "model_name": "VBoxModel",
      "state": {
       "children": [
        "IPY_MODEL_0d21ba80bec94549bf87d3cb5689ec65",
        "IPY_MODEL_f3bb4252f5ce4b3aa2b2e5ef70a10239"
       ],
       "layout": "IPY_MODEL_6394230170a04abda5147f426b8f0494"
      }
     },
     "5f6df778e62d4ca3855cda2c1060aa0c": {
      "model_module": "@jupyter-widgets/output",
      "model_module_version": "1.0.0",
      "model_name": "OutputModel",
      "state": {
       "layout": "IPY_MODEL_1c35a136ad9246619dfa7c69da411548",
       "outputs": [
        {
         "name": "stdout",
         "output_type": "stream",
         "text": "Evaporation:  60  %\nFlow:  40  %\nBaseflow:  73  % of flow\nWhich means: \nground water runoff: 29  %\nsurface runoff: 11  %\n"
        }
       ]
      }
     },
     "5f8e1080b4f4458fb8799699be8ceb58": {
      "model_module": "@jupyter-widgets/base",
      "model_module_version": "1.0.0",
      "model_name": "LayoutModel",
      "state": {}
     },
     "619e9b69f77641d6b74d2a8a6cf0b995": {
      "model_module": "@jupyter-widgets/output",
      "model_module_version": "1.0.0",
      "model_name": "OutputModel",
      "state": {
       "layout": "IPY_MODEL_fc07ee26cb814f34927f861119029e79",
       "outputs": [
        {
         "name": "stdout",
         "output_type": "stream",
         "text": "Evaporation:  67  %\nFlow:  33  %\nBaseflow:  63  % of flow\nWhich means: \nground water: 20.372664710663997\nescorrentia: 12.135335289335998\n"
        }
       ]
      }
     },
     "61e2089637794f3480c591f510e11db2": {
      "model_module": "@jupyter-widgets/output",
      "model_module_version": "1.0.0",
      "model_name": "OutputModel",
      "state": {
       "layout": "IPY_MODEL_5c2f97e41e524c43bd8daf9e3858768e",
       "outputs": [
        {
         "name": "stdout",
         "output_type": "stream",
         "text": "Flow:  34  %\nEvaporation:  66  %\nBaseflow:  35  %\ntotal  1\n"
        }
       ]
      }
     },
     "6248734f83864c908082d94ff82b09d1": {
      "model_module": "@jupyter-widgets/output",
      "model_module_version": "1.0.0",
      "model_name": "OutputModel",
      "state": {
       "layout": "IPY_MODEL_c65e1eac3f334b138f26cbf06f3d782a",
       "outputs": [
        {
         "name": "stdout",
         "output_type": "stream",
         "text": "Flow:  44  %\nEvaporation:  56  %\nBaseflow:  27  %\n"
        }
       ]
      }
     },
     "6394230170a04abda5147f426b8f0494": {
      "model_module": "@jupyter-widgets/base",
      "model_module_version": "1.0.0",
      "model_name": "LayoutModel",
      "state": {}
     },
     "68826c21342f4c8a80bf80f252b34a15": {
      "model_module": "@jupyter-widgets/controls",
      "model_module_version": "1.2.0",
      "model_name": "IntSliderModel",
      "state": {
       "continuous_update": false,
       "layout": "IPY_MODEL_a2a02b2ee2d040a99fb2d722ac54bb9d",
       "style": "IPY_MODEL_4a20485dccd148b6afe5b32c02f32fdd"
      }
     },
     "68dfffa13885438f8e118ba12d0850ea": {
      "model_module": "@jupyter-widgets/base",
      "model_module_version": "1.0.0",
      "model_name": "LayoutModel",
      "state": {}
     },
     "69cbdb6515f64c69ad67d7b012a28733": {
      "model_module": "@jupyter-widgets/base",
      "model_module_version": "1.0.0",
      "model_name": "LayoutModel",
      "state": {}
     },
     "6a7239946b61429ab12eaa0d03619e8e": {
      "model_module": "@jupyter-widgets/controls",
      "model_module_version": "1.2.0",
      "model_name": "VBoxModel",
      "state": {
       "children": [
        "IPY_MODEL_be49a31939c84d869cba9e245ee9badb",
        "IPY_MODEL_04218fe6aee6452a8c9cd6e75d575305"
       ],
       "layout": "IPY_MODEL_f99ff1c627ba449499980da58a7a8c98"
      }
     },
     "6b3953cf99124a3b944277bfa30471b8": {
      "model_module": "@jupyter-widgets/base",
      "model_module_version": "1.0.0",
      "model_name": "LayoutModel",
      "state": {}
     },
     "6c0323928a0540b4b539f3558ee4d67d": {
      "model_module": "@jupyter-widgets/controls",
      "model_module_version": "1.2.0",
      "model_name": "SliderStyleModel",
      "state": {
       "description_width": ""
      }
     },
     "6ef190129a5d4b0091b4351b5271c9c4": {
      "model_module": "@jupyter-widgets/output",
      "model_module_version": "1.0.0",
      "model_name": "OutputModel",
      "state": {
       "layout": "IPY_MODEL_fec74a17bde8461c88916228c52c9166",
       "outputs": [
        {
         "name": "stdout",
         "output_type": "stream",
         "text": "Evaporation:  60  %\nFlow:  40  %\nBaseflow:  73  %\ntotal  1.3236400000000001\n"
        }
       ]
      }
     },
     "6fb8f14fe840443b92b32c92924e35f0": {
      "model_module": "@jupyter-widgets/output",
      "model_module_version": "1.0.0",
      "model_name": "OutputModel",
      "state": {
       "layout": "IPY_MODEL_42ba2bf0d1264af4bc8450de070adfa6",
       "outputs": [
        {
         "name": "stdout",
         "output_type": "stream",
         "text": "Evaporation:  60  %\nFlow:  40  %\nBaseflow:  73  % of flow\nWhich means: \nground water: 29.15112547307801\nescorrentia: 11.044574526921993\n"
        }
       ]
      }
     },
     "7072917f05484247b12876a267b3c64d": {
      "model_module": "@jupyter-widgets/controls",
      "model_module_version": "1.2.0",
      "model_name": "SliderStyleModel",
      "state": {
       "description_width": ""
      }
     },
     "71febb214c2644c7b3c1d5c89215cf5a": {
      "model_module": "@jupyter-widgets/controls",
      "model_module_version": "1.2.0",
      "model_name": "IntSliderModel",
      "state": {
       "continuous_update": false,
       "layout": "IPY_MODEL_2e4630b5987548939eced67dc7930155",
       "step": 10,
       "style": "IPY_MODEL_8ea619f078774df89fcb7aba0c0f9545",
       "value": 80
      }
     },
     "72558f8e0ab54278b098c6451ea2c6fb": {
      "model_module": "@jupyter-widgets/controls",
      "model_module_version": "1.2.0",
      "model_name": "VBoxModel",
      "state": {
       "children": [
        "IPY_MODEL_0d4ed91f9ca44a3f8f09cc53c72ba512",
        "IPY_MODEL_6248734f83864c908082d94ff82b09d1"
       ],
       "layout": "IPY_MODEL_84ad4f657d1e44c5a8b01e9c252aefad"
      }
     },
     "738a81ee582a4bc5b7f329d5114d0c04": {
      "model_module": "@jupyter-widgets/controls",
      "model_module_version": "1.2.0",
      "model_name": "IntSliderModel",
      "state": {
       "continuous_update": false,
       "layout": "IPY_MODEL_8729175e1f9a44f7b2cd915205c7f61e",
       "step": 10,
       "style": "IPY_MODEL_ed207494fde24d249cb76937f3393d4b",
       "value": 70
      }
     },
     "73f16821f274473a97d0c03d67fcd851": {
      "model_module": "@jupyter-widgets/base",
      "model_module_version": "1.0.0",
      "model_name": "LayoutModel",
      "state": {}
     },
     "7536c0c6958147d580d96ba6bfc69a17": {
      "model_module": "@jupyter-widgets/controls",
      "model_module_version": "1.2.0",
      "model_name": "SliderStyleModel",
      "state": {
       "description_width": ""
      }
     },
     "7596b967931b4e799473297405e22e50": {
      "model_module": "@jupyter-widgets/output",
      "model_module_version": "1.0.0",
      "model_name": "OutputModel",
      "state": {
       "layout": "IPY_MODEL_11eb490e63ea4344b184c36058e9ab74",
       "outputs": [
        {
         "name": "stdout",
         "output_type": "stream",
         "text": "Evaporation:  60  %\nFlow:  40  %\nBaseflow:  73  % of flow\nWhich means:  1.3236400000000001\nground water: 0.293129694\nescorrentia: 0.11013030600000001\n"
        }
       ]
      }
     },
     "75c7b6eb5ee244368f2e7dad41531cf6": {
      "model_module": "@jupyter-widgets/base",
      "model_module_version": "1.0.0",
      "model_name": "LayoutModel",
      "state": {}
     },
     "766c9543cba1496eb6c367c6297ce6d0": {
      "model_module": "@jupyter-widgets/controls",
      "model_module_version": "1.2.0",
      "model_name": "SliderStyleModel",
      "state": {
       "description_width": ""
      }
     },
     "7711f59049f14e159629dbe199e9636e": {
      "model_module": "@jupyter-widgets/output",
      "model_module_version": "1.0.0",
      "model_name": "OutputModel",
      "state": {
       "layout": "IPY_MODEL_75c7b6eb5ee244368f2e7dad41531cf6",
       "outputs": [
        {
         "name": "stdout",
         "output_type": "stream",
         "text": "Flow:  44  %\nEvaporation:  56  %\nBaseflow:  27  %\ntotal  100\n"
        }
       ]
      }
     },
     "7b42db5003db491a827267fdbbb31ed6": {
      "model_module": "@jupyter-widgets/base",
      "model_module_version": "1.0.0",
      "model_name": "LayoutModel",
      "state": {}
     },
     "7db73b64eff84379a6bf02da52b499c6": {
      "model_module": "@jupyter-widgets/base",
      "model_module_version": "1.0.0",
      "model_name": "LayoutModel",
      "state": {}
     },
     "7e11a71f518042b9988bffe56bec04e9": {
      "model_module": "@jupyter-widgets/base",
      "model_module_version": "1.0.0",
      "model_name": "LayoutModel",
      "state": {}
     },
     "7f01c4d85aa7477f9b1cc136143617f9": {
      "model_module": "@jupyter-widgets/base",
      "model_module_version": "1.0.0",
      "model_name": "LayoutModel",
      "state": {}
     },
     "8063369863264f3f9b2d1f45f3915983": {
      "model_module": "@jupyter-widgets/controls",
      "model_module_version": "1.2.0",
      "model_name": "IntSliderModel",
      "state": {
       "continuous_update": false,
       "layout": "IPY_MODEL_b5ad06a3011c40ddbaf5073560e0aaaf",
       "step": 10,
       "style": "IPY_MODEL_766c9543cba1496eb6c367c6297ce6d0",
       "value": 100
      }
     },
     "8198c4eaa6b346aeb7a7c8a845fc7b94": {
      "model_module": "@jupyter-widgets/controls",
      "model_module_version": "1.2.0",
      "model_name": "IntSliderModel",
      "state": {
       "continuous_update": false,
       "layout": "IPY_MODEL_449f236ad36c4fcea4f5492d5810279b",
       "step": 10,
       "style": "IPY_MODEL_36b3550e970f442ab2fe90efada35788"
      }
     },
     "83132f27ea8346f6b5d717aa2fb83ded": {
      "model_module": "@jupyter-widgets/controls",
      "model_module_version": "1.2.0",
      "model_name": "VBoxModel",
      "state": {
       "children": [
        "IPY_MODEL_4a13b86be2bf4c719b9ed139097b81ac",
        "IPY_MODEL_cbf0ecb5e2024626b766c728c741f05b"
       ],
       "layout": "IPY_MODEL_3e753f9f7f20462dbe688b9659571004"
      }
     },
     "841f2338c4964df8ba4b8145b3dbd8f7": {
      "model_module": "@jupyter-widgets/controls",
      "model_module_version": "1.2.0",
      "model_name": "SliderStyleModel",
      "state": {
       "description_width": ""
      }
     },
     "84ad4f657d1e44c5a8b01e9c252aefad": {
      "model_module": "@jupyter-widgets/base",
      "model_module_version": "1.0.0",
      "model_name": "LayoutModel",
      "state": {}
     },
     "8511750afce94ca8b05b519491f5772b": {
      "model_module": "@jupyter-widgets/controls",
      "model_module_version": "1.2.0",
      "model_name": "SliderStyleModel",
      "state": {
       "description_width": ""
      }
     },
     "8729175e1f9a44f7b2cd915205c7f61e": {
      "model_module": "@jupyter-widgets/base",
      "model_module_version": "1.0.0",
      "model_name": "LayoutModel",
      "state": {}
     },
     "88fdf0f3b5dc4fce8aa7f8ae54e1f006": {
      "model_module": "@jupyter-widgets/controls",
      "model_module_version": "1.2.0",
      "model_name": "IntSliderModel",
      "state": {
       "continuous_update": false,
       "layout": "IPY_MODEL_f27923f90faa4570ac59b242f7d9954a",
       "step": 10,
       "style": "IPY_MODEL_e5c803d946c84de4a7b5ec9e4c8d42ff",
       "value": 100
      }
     },
     "8a441437fbbc4435804e27fa3dfc110f": {
      "model_module": "@jupyter-widgets/base",
      "model_module_version": "1.0.0",
      "model_name": "LayoutModel",
      "state": {}
     },
     "8adbd7f6ba9744309320a3c8c4b4797a": {
      "model_module": "@jupyter-widgets/controls",
      "model_module_version": "1.2.0",
      "model_name": "IntSliderModel",
      "state": {
       "continuous_update": false,
       "layout": "IPY_MODEL_1d8d410e2c964ba3abfa9fb806c81ef7",
       "style": "IPY_MODEL_6c0323928a0540b4b539f3558ee4d67d",
       "value": 72
      }
     },
     "8ce4e35cc6264d098903d443dbb1eeed": {
      "model_module": "@jupyter-widgets/base",
      "model_module_version": "1.0.0",
      "model_name": "LayoutModel",
      "state": {}
     },
     "8dc6e97dccc546a9bde65a6ccfa52246": {
      "model_module": "@jupyter-widgets/output",
      "model_module_version": "1.0.0",
      "model_name": "OutputModel",
      "state": {
       "layout": "IPY_MODEL_46695324b2e546ac803262cbf0efb80b",
       "outputs": [
        {
         "name": "stdout",
         "output_type": "stream",
         "text": "Flow:  41  %\nEvaporation:  59  %\nBaseflow:  30  %\ntotal  1.299028\n"
        }
       ]
      }
     },
     "8ea619f078774df89fcb7aba0c0f9545": {
      "model_module": "@jupyter-widgets/controls",
      "model_module_version": "1.2.0",
      "model_name": "SliderStyleModel",
      "state": {
       "description_width": ""
      }
     },
     "8f0f12bf466d4248b3e65d5bb148f918": {
      "model_module": "@jupyter-widgets/controls",
      "model_module_version": "1.2.0",
      "model_name": "VBoxModel",
      "state": {
       "children": [
        "IPY_MODEL_5ed2d1f1e95f4109940f1da44356a478",
        "IPY_MODEL_6fb8f14fe840443b92b32c92924e35f0"
       ],
       "layout": "IPY_MODEL_f2a7c3389c6f46ab919c76191674c99b"
      }
     },
     "8facd5f33a9544c985fb175d3610b5d5": {
      "model_module": "@jupyter-widgets/controls",
      "model_module_version": "1.2.0",
      "model_name": "VBoxModel",
      "state": {
       "children": [
        "IPY_MODEL_e5561f0289514336ac1aa42da3bd6493",
        "IPY_MODEL_3ee5daf435024e61b7187095ddb78079"
       ],
       "layout": "IPY_MODEL_8a441437fbbc4435804e27fa3dfc110f"
      }
     },
     "92a1b15d99a242a7a0c7519dd1dff401": {
      "model_module": "@jupyter-widgets/controls",
      "model_module_version": "1.2.0",
      "model_name": "SliderStyleModel",
      "state": {
       "description_width": ""
      }
     },
     "944c7c48342047c3822823c08be1ed0f": {
      "model_module": "@jupyter-widgets/output",
      "model_module_version": "1.0.0",
      "model_name": "OutputModel",
      "state": {
       "layout": "IPY_MODEL_3529c19c925142c482b3829cabfa74ff",
       "outputs": [
        {
         "name": "stdout",
         "output_type": "stream",
         "text": "Flow:  -5.989999999999984\nEvaporation:  105.98999999999998\nBaseflow:  77.297\n"
        }
       ]
      }
     },
     "94b1f89140214c7b8b3889c7b4121556": {
      "model_module": "@jupyter-widgets/controls",
      "model_module_version": "1.2.0",
      "model_name": "IntSliderModel",
      "state": {
       "continuous_update": false,
       "layout": "IPY_MODEL_f72e8937b26543cd9a8bfee4d9c0b9ed",
       "style": "IPY_MODEL_db04ebd9e7784380babacce193d12de2"
      }
     },
     "9b9e6a2ece6546d596c9614efd3482d7": {
      "model_module": "@jupyter-widgets/output",
      "model_module_version": "1.0.0",
      "model_name": "OutputModel",
      "state": {
       "layout": "IPY_MODEL_595cf8fa4af440b889c94a6ebead27ea",
       "outputs": [
        {
         "name": "stdout",
         "output_type": "stream",
         "text": "Evaporation:  73  %\nFlow:  27  %\nBaseflow:  56  % of flow\ntotal  1.2869349300000001\n"
        }
       ]
      }
     },
     "a2574b419c0b4ee0863928664d0c8c30": {
      "model_module": "@jupyter-widgets/base",
      "model_module_version": "1.0.0",
      "model_name": "LayoutModel",
      "state": {}
     },
     "a2a02b2ee2d040a99fb2d722ac54bb9d": {
      "model_module": "@jupyter-widgets/base",
      "model_module_version": "1.0.0",
      "model_name": "LayoutModel",
      "state": {}
     },
     "a7bcaa666c654a2ab1987d7fe3fedc8f": {
      "model_module": "@jupyter-widgets/controls",
      "model_module_version": "1.2.0",
      "model_name": "IntSliderModel",
      "state": {
       "continuous_update": false,
       "layout": "IPY_MODEL_7f01c4d85aa7477f9b1cc136143617f9",
       "step": 10,
       "style": "IPY_MODEL_c761196c9e3541a09fbffc5af356a74a",
       "value": 40
      }
     },
     "a90abe3f69344c0786335636457d6cb7": {
      "model_module": "@jupyter-widgets/controls",
      "model_module_version": "1.2.0",
      "model_name": "VBoxModel",
      "state": {
       "children": [
        "IPY_MODEL_f1e640a830714b0eb5e55925d8ec9767",
        "IPY_MODEL_619e9b69f77641d6b74d2a8a6cf0b995"
       ],
       "layout": "IPY_MODEL_4a376974882a4a318c22729f69c5b8d9"
      }
     },
     "a963560b26ca492db0d145a53b539b4b": {
      "model_module": "@jupyter-widgets/base",
      "model_module_version": "1.0.0",
      "model_name": "LayoutModel",
      "state": {}
     },
     "aa3c136a695948f98c559ebbd073ab82": {
      "model_module": "@jupyter-widgets/controls",
      "model_module_version": "1.2.0",
      "model_name": "VBoxModel",
      "state": {
       "children": [
        "IPY_MODEL_fb2128f4cb2e4b3ba49c7a12d0d4e5ed",
        "IPY_MODEL_6ef190129a5d4b0091b4351b5271c9c4"
       ],
       "layout": "IPY_MODEL_4905cc183940473fb0d153077e536bf3"
      }
     },
     "ab7ebedb4fac41d69527103657572448": {
      "model_module": "@jupyter-widgets/base",
      "model_module_version": "1.0.0",
      "model_name": "LayoutModel",
      "state": {}
     },
     "ad196156dd294535abac25e490183311": {
      "model_module": "@jupyter-widgets/controls",
      "model_module_version": "1.2.0",
      "model_name": "VBoxModel",
      "state": {
       "children": [
        "IPY_MODEL_94b1f89140214c7b8b3889c7b4121556",
        "IPY_MODEL_0d595ec807c547ecab86cf6c17005a15"
       ],
       "layout": "IPY_MODEL_103c91ac12aa4c83900f3851d2f80e12"
      }
     },
     "ae0a3826dfd74b8b8f81db78eb6a599d": {
      "model_module": "@jupyter-widgets/controls",
      "model_module_version": "1.2.0",
      "model_name": "SliderStyleModel",
      "state": {
       "description_width": ""
      }
     },
     "ae417fd8423c4451893dd5376f1c28d0": {
      "model_module": "@jupyter-widgets/controls",
      "model_module_version": "1.2.0",
      "model_name": "VBoxModel",
      "state": {
       "children": [
        "IPY_MODEL_71febb214c2644c7b3c1d5c89215cf5a",
        "IPY_MODEL_8dc6e97dccc546a9bde65a6ccfa52246"
       ],
       "layout": "IPY_MODEL_1beb0f5fda784a8582db702232969500"
      }
     },
     "b25a23966e024011a27e1494d505d6b9": {
      "model_module": "@jupyter-widgets/controls",
      "model_module_version": "1.2.0",
      "model_name": "VBoxModel",
      "state": {
       "children": [
        "IPY_MODEL_a7bcaa666c654a2ab1987d7fe3fedc8f",
        "IPY_MODEL_61e2089637794f3480c591f510e11db2"
       ],
       "layout": "IPY_MODEL_f18a157f5cc54bcea01e50568a7fe069"
      }
     },
     "b2d52eec3ac64d7892190437011c8519": {
      "model_module": "@jupyter-widgets/controls",
      "model_module_version": "1.2.0",
      "model_name": "VBoxModel",
      "state": {
       "children": [
        "IPY_MODEL_8198c4eaa6b346aeb7a7c8a845fc7b94",
        "IPY_MODEL_7596b967931b4e799473297405e22e50"
       ],
       "layout": "IPY_MODEL_46e98c005bca41d4bc66e8e475dcab04"
      }
     },
     "b5ad06a3011c40ddbaf5073560e0aaaf": {
      "model_module": "@jupyter-widgets/base",
      "model_module_version": "1.0.0",
      "model_name": "LayoutModel",
      "state": {}
     },
     "b62c61e843f94d1c90b7f4676dd96196": {
      "model_module": "@jupyter-widgets/output",
      "model_module_version": "1.0.0",
      "model_name": "OutputModel",
      "state": {
       "layout": "IPY_MODEL_ca7f953115824f649ec6f0b5e8bc6b68",
       "outputs": [
        {
         "name": "stdout",
         "output_type": "stream",
         "text": "Evaporation:  69  %\nFlow:  31  %\nBaseflow:  61  % of flow\nWhich means: \nground water runoff: 19  %\nsurface runoff: 12  %\n"
        }
       ]
      }
     },
     "b8ae50c5833a479088f1f9ec4d8476a8": {
      "model_module": "@jupyter-widgets/controls",
      "model_module_version": "1.2.0",
      "model_name": "FloatSliderModel",
      "state": {
       "continuous_update": false,
       "layout": "IPY_MODEL_376f71097664495784512ade2912cb57",
       "max": 1,
       "step": 0.1,
       "style": "IPY_MODEL_7072917f05484247b12876a267b3c64d",
       "value": 0.5
      }
     },
     "bbaad3f3f59e4045b3bb18b5d7ae4a57": {
      "model_module": "@jupyter-widgets/output",
      "model_module_version": "1.0.0",
      "model_name": "OutputModel",
      "state": {
       "layout": "IPY_MODEL_c2cc621a6b3848cda5f315ca282ff700",
       "outputs": [
        {
         "name": "stdout",
         "output_type": "stream",
         "text": "Flow:  44  %\nEvaporation:  56  %\nBaseflow:  27  %\ntotal  1.27297\n"
        }
       ]
      }
     },
     "be276b4071474e4fa789097b46cd8c42": {
      "model_module": "@jupyter-widgets/controls",
      "model_module_version": "1.2.0",
      "model_name": "FloatSliderModel",
      "state": {
       "continuous_update": false,
       "layout": "IPY_MODEL_7b42db5003db491a827267fdbbb31ed6",
       "max": 1,
       "step": 0.1,
       "style": "IPY_MODEL_1ea86887d622492980f6d145fa5a3206",
       "value": 0.3
      }
     },
     "be49a31939c84d869cba9e245ee9badb": {
      "model_module": "@jupyter-widgets/controls",
      "model_module_version": "1.2.0",
      "model_name": "IntSliderModel",
      "state": {
       "continuous_update": false,
       "layout": "IPY_MODEL_7e11a71f518042b9988bffe56bec04e9",
       "step": 10,
       "style": "IPY_MODEL_fbfed599d40b4df691eb8c560857b830",
       "value": 20
      }
     },
     "beca983b795b48c7b2f14f8f33c4da27": {
      "model_module": "@jupyter-widgets/controls",
      "model_module_version": "1.2.0",
      "model_name": "IntSliderModel",
      "state": {
       "continuous_update": false,
       "layout": "IPY_MODEL_7db73b64eff84379a6bf02da52b499c6",
       "style": "IPY_MODEL_f924faa12ecc43989ab773be6fa0669c",
       "value": 55
      }
     },
     "bf2cc08c75004335bccfbdf352f783d3": {
      "model_module": "@jupyter-widgets/controls",
      "model_module_version": "1.2.0",
      "model_name": "VBoxModel",
      "state": {
       "children": [
        "IPY_MODEL_514a1d9b89b54a01912ebab0211e8133",
        "IPY_MODEL_dcb9e02ab2df4427883b1cba609fcacb"
       ],
       "layout": "IPY_MODEL_6b3953cf99124a3b944277bfa30471b8"
      }
     },
     "c25a6a438e324ed9afab42d16b0678c9": {
      "model_module": "@jupyter-widgets/controls",
      "model_module_version": "1.2.0",
      "model_name": "VBoxModel",
      "state": {
       "children": [
        "IPY_MODEL_8063369863264f3f9b2d1f45f3915983",
        "IPY_MODEL_9b9e6a2ece6546d596c9614efd3482d7"
       ],
       "layout": "IPY_MODEL_0738a3b9872c46719115201731f8bbdf"
      }
     },
     "c269f488ea7843959762354594496d97": {
      "model_module": "@jupyter-widgets/controls",
      "model_module_version": "1.2.0",
      "model_name": "SliderStyleModel",
      "state": {
       "description_width": ""
      }
     },
     "c2cc621a6b3848cda5f315ca282ff700": {
      "model_module": "@jupyter-widgets/base",
      "model_module_version": "1.0.0",
      "model_name": "LayoutModel",
      "state": {}
     },
     "c65e1eac3f334b138f26cbf06f3d782a": {
      "model_module": "@jupyter-widgets/base",
      "model_module_version": "1.0.0",
      "model_name": "LayoutModel",
      "state": {}
     },
     "c761196c9e3541a09fbffc5af356a74a": {
      "model_module": "@jupyter-widgets/controls",
      "model_module_version": "1.2.0",
      "model_name": "SliderStyleModel",
      "state": {
       "description_width": ""
      }
     },
     "c764d3c85db94e3cb497e81aaf0006d3": {
      "model_module": "@jupyter-widgets/base",
      "model_module_version": "1.0.0",
      "model_name": "LayoutModel",
      "state": {}
     },
     "ca7f953115824f649ec6f0b5e8bc6b68": {
      "model_module": "@jupyter-widgets/base",
      "model_module_version": "1.0.0",
      "model_name": "LayoutModel",
      "state": {}
     },
     "cbf0ecb5e2024626b766c728c741f05b": {
      "model_module": "@jupyter-widgets/output",
      "model_module_version": "1.0.0",
      "model_name": "OutputModel",
      "state": {
       "layout": "IPY_MODEL_09b08cee08a344d1afb5b9622921019a",
       "outputs": [
        {
         "name": "stdout",
         "output_type": "stream",
         "text": "Flow:  -56  %\nEvaporation:  156  %\nBaseflow:  127  %\ntotal  2.8328699999999998\n"
        }
       ]
      }
     },
     "cebc934565b844f7a7e2ee03271387ed": {
      "model_module": "@jupyter-widgets/controls",
      "model_module_version": "1.2.0",
      "model_name": "SliderStyleModel",
      "state": {
       "description_width": ""
      }
     },
     "d58dbed9da5743c0bd57035ec8c67fdd": {
      "model_module": "@jupyter-widgets/controls",
      "model_module_version": "1.2.0",
      "model_name": "SliderStyleModel",
      "state": {
       "description_width": ""
      }
     },
     "da42f78c2ce045cfb46df04fad2e6d5e": {
      "model_module": "@jupyter-widgets/base",
      "model_module_version": "1.0.0",
      "model_name": "LayoutModel",
      "state": {}
     },
     "db04ebd9e7784380babacce193d12de2": {
      "model_module": "@jupyter-widgets/controls",
      "model_module_version": "1.2.0",
      "model_name": "SliderStyleModel",
      "state": {
       "description_width": ""
      }
     },
     "db6288f48212406586efd75d9ae4234d": {
      "model_module": "@jupyter-widgets/base",
      "model_module_version": "1.0.0",
      "model_name": "LayoutModel",
      "state": {}
     },
     "db8cfc3e98a943ce89fed3ad7efecc32": {
      "model_module": "@jupyter-widgets/base",
      "model_module_version": "1.0.0",
      "model_name": "LayoutModel",
      "state": {}
     },
     "dcb9e02ab2df4427883b1cba609fcacb": {
      "model_module": "@jupyter-widgets/output",
      "model_module_version": "1.0.0",
      "model_name": "OutputModel",
      "state": {
       "layout": "IPY_MODEL_e60c456036eb4a0286640f10235f5885",
       "outputs": [
        {
         "name": "stdout",
         "output_type": "stream",
         "text": "Evaporation:  60  %\nFlow:  40  %\nBaseflow:  73  % of flow\nWhich means:  1.3236400000000001\nground water: 29.3129694\nescorrentia: 11.0130306\n"
        }
       ]
      }
     },
     "de86326c1bbe44fc90a441c647bcaa45": {
      "model_module": "@jupyter-widgets/output",
      "model_module_version": "1.0.0",
      "model_name": "OutputModel",
      "state": {
       "layout": "IPY_MODEL_68dfffa13885438f8e118ba12d0850ea",
       "outputs": [
        {
         "name": "stdout",
         "output_type": "stream",
         "text": "Flow:  14.010000000000012\nEvaporation:  85.99\nBaseflow:  57.297\n"
        }
       ]
      }
     },
     "e434dd6ab8af4637963e596745a3cfef": {
      "model_module": "@jupyter-widgets/base",
      "model_module_version": "1.0.0",
      "model_name": "LayoutModel",
      "state": {}
     },
     "e5561f0289514336ac1aa42da3bd6493": {
      "model_module": "@jupyter-widgets/controls",
      "model_module_version": "1.2.0",
      "model_name": "IntSliderModel",
      "state": {
       "continuous_update": false,
       "layout": "IPY_MODEL_a963560b26ca492db0d145a53b539b4b",
       "style": "IPY_MODEL_1ae53f3dd570451599a9c21e863beeac",
       "value": 60
      }
     },
     "e5c803d946c84de4a7b5ec9e4c8d42ff": {
      "model_module": "@jupyter-widgets/controls",
      "model_module_version": "1.2.0",
      "model_name": "SliderStyleModel",
      "state": {
       "description_width": ""
      }
     },
     "e60c456036eb4a0286640f10235f5885": {
      "model_module": "@jupyter-widgets/base",
      "model_module_version": "1.0.0",
      "model_name": "LayoutModel",
      "state": {}
     },
     "e90b2947b8534d9fa475a1112eaa469e": {
      "model_module": "@jupyter-widgets/output",
      "model_module_version": "1.0.0",
      "model_name": "OutputModel",
      "state": {
       "layout": "IPY_MODEL_1490600762a045d48837b643d3540517",
       "outputs": [
        {
         "name": "stdout",
         "output_type": "stream",
         "text": "Flow:  31  %\nEvaporation:  69  %\nBaseflow:  61  %\ntotal  1.297946451\n"
        }
       ]
      }
     },
     "eb44e9c0a2cd45c8ae949119f23de3aa": {
      "model_module": "@jupyter-widgets/controls",
      "model_module_version": "1.2.0",
      "model_name": "VBoxModel",
      "state": {
       "children": [
        "IPY_MODEL_0bcf1fe190d44df885b85430f2ee87e1",
        "IPY_MODEL_3f5eec217aa44a539dd07c778ba89df6"
       ],
       "layout": "IPY_MODEL_da42f78c2ce045cfb46df04fad2e6d5e"
      }
     },
     "ed207494fde24d249cb76937f3393d4b": {
      "model_module": "@jupyter-widgets/controls",
      "model_module_version": "1.2.0",
      "model_name": "SliderStyleModel",
      "state": {
       "description_width": ""
      }
     },
     "ef23bb09b7314489bdf413cbebab751f": {
      "model_module": "@jupyter-widgets/base",
      "model_module_version": "1.0.0",
      "model_name": "LayoutModel",
      "state": {}
     },
     "f18a157f5cc54bcea01e50568a7fe069": {
      "model_module": "@jupyter-widgets/base",
      "model_module_version": "1.0.0",
      "model_name": "LayoutModel",
      "state": {}
     },
     "f1e640a830714b0eb5e55925d8ec9767": {
      "model_module": "@jupyter-widgets/controls",
      "model_module_version": "1.2.0",
      "model_name": "IntSliderModel",
      "state": {
       "continuous_update": false,
       "layout": "IPY_MODEL_03ab1be43bb04b5cb204a5b8a452184a",
       "step": 10,
       "style": "IPY_MODEL_92a1b15d99a242a7a0c7519dd1dff401",
       "value": 60
      }
     },
     "f27923f90faa4570ac59b242f7d9954a": {
      "model_module": "@jupyter-widgets/base",
      "model_module_version": "1.0.0",
      "model_name": "LayoutModel",
      "state": {}
     },
     "f2a7c3389c6f46ab919c76191674c99b": {
      "model_module": "@jupyter-widgets/base",
      "model_module_version": "1.0.0",
      "model_name": "LayoutModel",
      "state": {}
     },
     "f3bb4252f5ce4b3aa2b2e5ef70a10239": {
      "model_module": "@jupyter-widgets/output",
      "model_module_version": "1.0.0",
      "model_name": "OutputModel",
      "state": {
       "layout": "IPY_MODEL_2ebc55f67515435b8ae8b1b4e926f91d",
       "outputs": [
        {
         "name": "stdout",
         "output_type": "stream",
         "text": "Flow:  44  %\nEvaporation:  56  %\nBaseflow:  27  %\n"
        }
       ]
      }
     },
     "f431afefaf0e4594b0e0fce9a54a509c": {
      "model_module": "@jupyter-widgets/base",
      "model_module_version": "1.0.0",
      "model_name": "LayoutModel",
      "state": {}
     },
     "f72e8937b26543cd9a8bfee4d9c0b9ed": {
      "model_module": "@jupyter-widgets/base",
      "model_module_version": "1.0.0",
      "model_name": "LayoutModel",
      "state": {}
     },
     "f7dba889e913449abfde1c1dd0d7ddf4": {
      "model_module": "@jupyter-widgets/controls",
      "model_module_version": "1.2.0",
      "model_name": "IntSliderModel",
      "state": {
       "continuous_update": false,
       "layout": "IPY_MODEL_542a907d50cd49e5b4d3c5c2d0d029b7",
       "step": 10,
       "style": "IPY_MODEL_cebc934565b844f7a7e2ee03271387ed",
       "value": 30
      }
     },
     "f924faa12ecc43989ab773be6fa0669c": {
      "model_module": "@jupyter-widgets/controls",
      "model_module_version": "1.2.0",
      "model_name": "SliderStyleModel",
      "state": {
       "description_width": ""
      }
     },
     "f99ff1c627ba449499980da58a7a8c98": {
      "model_module": "@jupyter-widgets/base",
      "model_module_version": "1.0.0",
      "model_name": "LayoutModel",
      "state": {}
     },
     "fb2128f4cb2e4b3ba49c7a12d0d4e5ed": {
      "model_module": "@jupyter-widgets/controls",
      "model_module_version": "1.2.0",
      "model_name": "IntSliderModel",
      "state": {
       "continuous_update": false,
       "layout": "IPY_MODEL_22ea873a04dd4f468f78e16d583e83c5",
       "step": 10,
       "style": "IPY_MODEL_d58dbed9da5743c0bd57035ec8c67fdd"
      }
     },
     "fbfed599d40b4df691eb8c560857b830": {
      "model_module": "@jupyter-widgets/controls",
      "model_module_version": "1.2.0",
      "model_name": "SliderStyleModel",
      "state": {
       "description_width": ""
      }
     },
     "fc07ee26cb814f34927f861119029e79": {
      "model_module": "@jupyter-widgets/base",
      "model_module_version": "1.0.0",
      "model_name": "LayoutModel",
      "state": {}
     },
     "fec74a17bde8461c88916228c52c9166": {
      "model_module": "@jupyter-widgets/base",
      "model_module_version": "1.0.0",
      "model_name": "LayoutModel",
      "state": {}
     },
     "ff2a9ce1c8e043dea4e5a844e6e06ebe": {
      "model_module": "@jupyter-widgets/controls",
      "model_module_version": "1.2.0",
      "model_name": "IntSliderModel",
      "state": {
       "continuous_update": false,
       "layout": "IPY_MODEL_db8cfc3e98a943ce89fed3ad7efecc32",
       "step": 10,
       "style": "IPY_MODEL_841f2338c4964df8ba4b8145b3dbd8f7",
       "value": 100
      }
     }
    },
    "version_major": 2,
    "version_minor": 0
   }
  }
 },
 "nbformat": 4,
 "nbformat_minor": 2
}
