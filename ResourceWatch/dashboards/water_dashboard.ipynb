{
 "cells": [
  {
   "cell_type": "code",
   "execution_count": 1,
   "metadata": {
    "ExecuteTime": {
     "end_time": "2017-06-29T15:36:02.540527Z",
     "start_time": "2017-06-29T15:36:01.386286Z"
    },
    "collapsed": true
   },
   "outputs": [],
   "source": [
    "%matplotlib inline\n",
    "import requests\n",
    "import json\n",
    "import pandas as pd\n",
    "from vega import Vega\n",
    "import ipywidgets as widgets\n",
    "carto_url =\"https://wri-rw.carto.com/api/v2/sql\"\n",
    "api_url = \"https://api.resourcewatch.org/v1/\""
   ]
  },
  {
   "cell_type": "markdown",
   "metadata": {},
   "source": [
    "# Water dashboard widgets definition"
   ]
  },
  {
   "cell_type": "markdown",
   "metadata": {},
   "source": [
    "Widgets for a proof-of-concept water dashboard."
   ]
  },
  {
   "cell_type": "markdown",
   "metadata": {},
   "source": [
    "## Water + Cities"
   ]
  },
  {
   "cell_type": "markdown",
   "metadata": {},
   "source": [
    "| Statement    | 190 or 40% (190/417) of cities with > 1,000,000 people are in high water risk areas |  \n",
    "|--------------|:--------------|  \n",
    "| Visual       | Text         |  \n",
    "| Data         | - https://nordpil.com/resources/world-database-of-large-cities/     - Aqueduct water risk|  \n",
    "| Methodology  | (In QGIS) - urbanareas1_1 → filter “pop2015” >= 1000 (in thousand inhabitants) aqueduct_global_maps_21_shp → filter “_default” >= 3 (3-4 is high risk, 4-5 is extremely high risk) “Count points in Polygon” QGIS analysis → created NUMPOINTS attribute, basic summary stat = 190 cities with >1 mill people in high water risk areas Can clip by country? - Could, but would likely become 1-5 data points in a widget |   \n",
    "\n",
    "The data is stored in cartodb.\n",
    "The data came from the join of this 2 datasets:  \n",
    "* 5e156d22-7f84-4cd2-9724-c1a519a83e0a\n",
    "* 5903f1d7-2240-4591-b970-33b32fe3be54   \n",
    "\n",
    "\n",
    "\n",
    "* **Dataset_id:**  6d99441e-5faa-4c61-967f-01c9fe60624b\n",
    "* **widget_id:**"
   ]
  },
  {
   "cell_type": "markdown",
   "metadata": {},
   "source": [
    "### Widget definition\n",
    "\n",
    "```json\n",
    "\"widgetConfig\":{\n",
    "    \"type\":\"text\",\n",
    "    \"data\":{\n",
    "        \"url\":\"SELECT count(*) over () total, (count(*) Filter (where _default>=4) over ()) as n_cities,  (100*(count(*) Filter (where _default>=4) over ())/(count(*) over ()))::numeric perc  FROM water_plus_cities limit 1\"\n",
    "        }\n",
    "    \"template\": \"{{n_cities}} or {{perc}} ({{n_cities}}/{{total}}) of cities with 1,000,000 people or more are in high water risk areas\",\n",
    "    \"params_config\": [],\n",
    "    \"template_config\": [{\n",
    "        \"key\": \"n_cities\"\n",
    "        },\n",
    "        {\n",
    "        \"key\": \"perc_cities\",\n",
    "        \"suffix\": \"%\"\n",
    "        }]\n",
    "}\n",
    "```\n"
   ]
  },
  {
   "cell_type": "code",
   "execution_count": 2,
   "metadata": {
    "ExecuteTime": {
     "end_time": "2017-06-29T15:36:10.002815Z",
     "start_time": "2017-06-29T15:36:09.158676Z"
    }
   },
   "outputs": [
    {
     "data": {
      "text/html": [
       "<div>\n",
       "<table border=\"1\" class=\"dataframe\">\n",
       "  <thead>\n",
       "    <tr style=\"text-align: right;\">\n",
       "      <th></th>\n",
       "      <th>_default</th>\n",
       "      <th>name</th>\n",
       "      <th>pop_max</th>\n",
       "    </tr>\n",
       "  </thead>\n",
       "  <tbody>\n",
       "    <tr>\n",
       "      <th>0</th>\n",
       "      <td>4.639710</td>\n",
       "      <td>Sanaa</td>\n",
       "      <td>2008000</td>\n",
       "    </tr>\n",
       "    <tr>\n",
       "      <th>1</th>\n",
       "      <td>4.618374</td>\n",
       "      <td>Casablanca</td>\n",
       "      <td>3181000</td>\n",
       "    </tr>\n",
       "    <tr>\n",
       "      <th>2</th>\n",
       "      <td>4.563580</td>\n",
       "      <td>Agra</td>\n",
       "      <td>1592000</td>\n",
       "    </tr>\n",
       "  </tbody>\n",
       "</table>\n",
       "</div>"
      ],
      "text/plain": [
       "   _default        name  pop_max\n",
       "0  4.639710       Sanaa  2008000\n",
       "1  4.618374  Casablanca  3181000\n",
       "2  4.563580        Agra  1592000"
      ]
     },
     "execution_count": 2,
     "metadata": {},
     "output_type": "execute_result"
    }
   ],
   "source": [
    "cartoQuery = \"with r as (SELECT * FROM ne_10m_populated_places_simple where pop_max>1000000) SELECT s._default, r.name, r.pop_max FROM aqueduct_global_dl_20150409 s inner join r on st_intersects(r.the_geom, s.the_geom) order by _default desc\"\n",
    "payload={'q': cartoQuery}\n",
    "r = json.dumps(requests.get(carto_url,params=payload).json()['rows'])\n",
    "water_city = pd.read_json(r, orient='records')\n",
    "water_city.head(3)"
   ]
  },
  {
   "cell_type": "code",
   "execution_count": 3,
   "metadata": {
    "ExecuteTime": {
     "end_time": "2017-06-29T15:36:11.156784Z",
     "start_time": "2017-06-29T15:36:10.833336Z"
    }
   },
   "outputs": [
    {
     "data": {
      "text/plain": [
       "<matplotlib.axes._subplots.AxesSubplot at 0x7fba750ecbe0>"
      ]
     },
     "execution_count": 3,
     "metadata": {},
     "output_type": "execute_result"
    },
    {
     "data": {
      "image/png": "[encoded data removed]",
      "text/plain": [
       "<matplotlib.figure.Figure at 0x7fba7536c630>"
      ]
     },
     "metadata": {},
     "output_type": "display_data"
    }
   ],
   "source": [
    "water_city.plot(y='_default', x='pop_max', kind='scatter')"
   ]
  },
  {
   "cell_type": "markdown",
   "metadata": {},
   "source": [
    "## Water + Society"
   ]
  },
  {
   "cell_type": "markdown",
   "metadata": {},
   "source": [
    "| Statement    | Countries that will experience the greatest increase in projected water stress in the year 2040 if we continue business as usual |  \n",
    "|--------------|:---|  \n",
    "| Visual       | Country ranking  |  \n",
    "| Data         | Aqueduct Water Risk Atlas - water stress country rankings |  \n",
    "| Methodology  | http://www.wri.org/sites/default/files/aqueduct-water-stress-country-rankings-technical-note.pdf |  \n",
    "\n",
    "* **Dataset_id:**  eb33d4b8-26e2-48de-a153-82c9f86263b5\n",
    "* **widget_id:** "
   ]
  },
  {
   "cell_type": "markdown",
   "metadata": {},
   "source": [
    "### Widget definition"
   ]
  },
  {
   "cell_type": "code",
   "execution_count": 4,
   "metadata": {
    "ExecuteTime": {
     "end_time": "2017-06-29T15:36:14.664196Z",
     "start_time": "2017-06-29T15:36:14.518642Z"
    },
    "collapsed": true
   },
   "outputs": [],
   "source": [
    "vega_spec={\"height\":300,\n",
    "  \"padding\": {\"top\": 25,\"left\": 0,\"bottom\": 30,\"right\": 0},\n",
    "  \"data\": [\n",
    "    {\n",
    "      \"name\": \"table\",\n",
    "      \"url\": \"https://wri-rw.carto.com/api/v2/sql?q=SELECT country, values, iso, row_number() over (order by values desc) as rank FROM aqueduct_water_stress_country_ranking_bau where type = 'all' and year = '2040' and values!=0 order by values desc\",\n",
    "      \"format\": {\"type\": \"json\",\"property\": \"rows\"},\n",
    "      \"transform\": [{\"type\": \"sort\",\"by\": \"rank\"}]\n",
    "    },\n",
    "    {\n",
    "      \"name\": \"max\",\n",
    "      \"source\": \"table\",\n",
    "      \"transform\": [{\"type\": \"aggregate\",\"summarize\": {\"rank\": [\"max\"]}}]\n",
    "    },\n",
    "    {\n",
    "      \"name\": \"head\",\n",
    "      \"source\": \"table\",\n",
    "      \"transform\": [\n",
    "        {\n",
    "          \"type\": \"cross\",\n",
    "          \"with\": \"max\",\n",
    "          \"filter\": \"datum.a.rank===datum.b.max_rank || datum.a.rank<=10\"\n",
    "        },\n",
    "        {\"type\": \"sort\",\"by\": \"a.rank\"} \n",
    "      ]\n",
    "    }\n",
    "  ],\n",
    "  \"scales\": [\n",
    "    {\n",
    "      \"name\": \"bar\",\n",
    "      \"type\": \"linear\",\n",
    "      \"range\": \"width\",\n",
    "      \"domain\": {\"data\": \"table\",\"field\": \"values\"}\n",
    "    },\n",
    "    {\n",
    "      \"name\": \"vertical_head\",\n",
    "      \"type\": \"ordinal\",\n",
    "      \"range\": \"height\",\n",
    "      \"domain\": {\n",
    "        \"data\": \"head\",\n",
    "        \"field\": \"a.rank\"\n",
    "      }\n",
    "    }\n",
    "  ],\n",
    "  \"marks\": [\n",
    "        {\n",
    "          \"type\": \"text\",\n",
    "          \"from\": {\"data\": \"head\"},\n",
    "          \"properties\": {\n",
    "            \"enter\": {\n",
    "              \"x\": {\"value\": 20},\n",
    "              \"y\": {\"field\": \"a.rank\",\"scale\": \"vertical_head\"},\n",
    "              \"text\": {\n",
    "                \"template\": \"{{datum.a.rank}}.- {{datum.a.country}}\"\n",
    "              },\n",
    "              \"baseline\": {\"value\": \"middle\"},\n",
    "              \"fontSize\": {\"value\": 13},\n",
    "              \"fill\": {\"value\": \"#555555\"},\n",
    "              \"align\": {\"value\": \"left\"}\n",
    "            }\n",
    "          }\n",
    "        },\n",
    "        {\n",
    "          \"name\": \"head\",\n",
    "          \"type\": \"rect\",\n",
    "          \"from\": {\"data\": \"head\"},\n",
    "          \"properties\": {\n",
    "            \"enter\": {\n",
    "              \"x\":{\"field\": {\"group\": \"width\"},\"mult\": 0.35},\n",
    "              \"width\":{\"scale\": \"bar\", \"field\": \"a.values\",\"mult\": 0.5},\n",
    "              \"y\": {\n",
    "                \"field\": \"a.rank\",\n",
    "                \"scale\": \"vertical_head\",\n",
    "                \"offset\": -6\n",
    "              },\n",
    "              \"height\": {\"value\": 10},\n",
    "              \"fill\": {\"value\": \"#0055ff\"},\n",
    "              \"fillOpacity\": {\"value\": 1}\n",
    "     }\n",
    "     }\n",
    "     }   \n",
    "  ]\n",
    "}"
   ]
  },
  {
   "cell_type": "code",
   "execution_count": 5,
   "metadata": {
    "ExecuteTime": {
     "end_time": "2017-06-29T15:36:15.474308Z",
     "start_time": "2017-06-29T15:36:15.443459Z"
    }
   },
   "outputs": [
    {
     "data": {
      "text/html": [
       "<div class=\"vega-embed\" id=\"fd5c7092-9671-4770-b111-79bb7c9b3346\"></div>\n",
       "\n",
       "<style>\n",
       ".vega-embed svg, .vega-embed canvas {\n",
       "  border: 1px dotted gray;\n",
       "}\n",
       "\n",
       ".vega-embed .vega-actions a {\n",
       "  margin-right: 6px;\n",
       "}\n",
       "</style>\n"
      ]
     },
     "metadata": {
      "jupyter-vega": "#fd5c7092-9671-4770-b111-79bb7c9b3346"
     },
     "output_type": "display_data"
    },
    {
     "data": {
      "application/javascript": [
       "var spec = {\"marks\": [{\"properties\": {\"enter\": {\"baseline\": {\"value\": \"middle\"}, \"text\": {\"template\": \"{{datum.a.rank}}.- {{datum.a.country}}\"}, \"y\": {\"field\": \"a.rank\", \"scale\": \"vertical_head\"}, \"align\": {\"value\": \"left\"}, \"fill\": {\"value\": \"#555555\"}, \"x\": {\"value\": 20}, \"fontSize\": {\"value\": 13}}}, \"type\": \"text\", \"from\": {\"data\": \"head\"}}, {\"from\": {\"data\": \"head\"}, \"type\": \"rect\", \"properties\": {\"enter\": {\"height\": {\"value\": 10}, \"width\": {\"scale\": \"bar\", \"mult\": 0.5, \"field\": \"a.values\"}, \"y\": {\"field\": \"a.rank\", \"offset\": -6, \"scale\": \"vertical_head\"}, \"fill\": {\"value\": \"#0055ff\"}, \"x\": {\"field\": {\"group\": \"width\"}, \"mult\": 0.35}, \"fillOpacity\": {\"value\": 1}}}, \"name\": \"head\"}], \"padding\": {\"bottom\": 30, \"top\": 25, \"left\": 0, \"right\": 0}, \"height\": 300, \"scales\": [{\"type\": \"linear\", \"domain\": {\"field\": \"values\", \"data\": \"table\"}, \"range\": \"width\", \"name\": \"bar\"}, {\"type\": \"ordinal\", \"domain\": {\"field\": \"a.rank\", \"data\": \"head\"}, \"range\": \"height\", \"name\": \"vertical_head\"}], \"data\": [{\"format\": {\"type\": \"json\", \"property\": \"rows\"}, \"url\": \"https://wri-rw.carto.com/api/v2/sql?q=SELECT country, values, iso, row_number() over (order by values desc) as rank FROM aqueduct_water_stress_country_ranking_bau where type = 'all' and year = '2040' and values!=0 order by values desc\", \"transform\": [{\"type\": \"sort\", \"by\": \"rank\"}], \"name\": \"table\"}, {\"source\": \"table\", \"transform\": [{\"type\": \"aggregate\", \"summarize\": {\"rank\": [\"max\"]}}], \"name\": \"max\"}, {\"source\": \"table\", \"transform\": [{\"type\": \"cross\", \"filter\": \"datum.a.rank===datum.b.max_rank || datum.a.rank<=10\", \"with\": \"max\"}, {\"type\": \"sort\", \"by\": \"a.rank\"}], \"name\": \"head\"}]};\n",
       "var selector = \"#fd5c7092-9671-4770-b111-79bb7c9b3346\";\n",
       "var type = \"vega\";\n",
       "\n",
       "var output_area = this;\n",
       "require(['nbextensions/jupyter-vega/index'], function(vega) {\n",
       "  vega.render(selector, spec, type, output_area);\n",
       "}, function (err) {\n",
       "  if (err.requireType !== 'scripterror') {\n",
       "    throw(err);\n",
       "  }\n",
       "});\n"
      ]
     },
     "metadata": {
      "jupyter-vega": "#fd5c7092-9671-4770-b111-79bb7c9b3346"
     },
     "output_type": "display_data"
    },
    {
     "data": {
      "image/png": "[encoded data removed]"
     },
     "metadata": {
      "jupyter-vega": "#fd5c7092-9671-4770-b111-79bb7c9b3346"
     },
     "output_type": "display_data"
    }
   ],
   "source": [
    "Vega(vega_spec)"
   ]
  },
  {
   "cell_type": "markdown",
   "metadata": {},
   "source": [
    "## Water + Food "
   ]
  },
  {
   "cell_type": "markdown",
   "metadata": {},
   "source": [
    "| Statement    | % (or total area?) crop growing in high water risk areas by 2040 (Q for Vizzuality - can a widget be made on aqueduct food data that could be easily updated when they produce the new water indicators? Is it better to hold off on this?)|    \n",
    "|--------------|:---|  \n",
    "| Visual       | Bar Graph by crop type |  \n",
    "| Data         | Aqueduct Food |  \n",
    "| Methodology  | http://www.wri.org/sites/default/files/aqueduct-water-stress-country-rankings-technical-note.pdf |  \n",
    "\n",
    "* **Dataset_id:**  \n",
    "* **widget_id:** "
   ]
  },
  {
   "cell_type": "markdown",
   "metadata": {},
   "source": [
    "### Widget definition"
   ]
  },
  {
   "cell_type": "code",
   "execution_count": 6,
   "metadata": {
    "ExecuteTime": {
     "end_time": "2017-06-29T15:36:18.891782Z",
     "start_time": "2017-06-29T15:36:18.849745Z"
    }
   },
   "outputs": [
    {
     "data": {
      "application/vnd.jupyter.widget-view+json": {
       "model_id": "9f639bb0c54c40168eff1e5c9989df2e"
      }
     },
     "metadata": {},
     "output_type": "display_data"
    }
   ],
   "source": [
    "widgets.HTML(\n",
    "    value='<iframe src=\"http://aqueduct-water-food-security.herokuapp.com/embed?state=eyJmaWx0ZXJzIjp7ImNyb3AiOiJhbGwiLCJzY29wZSI6Imdsb2JhbCIsImNvdW50cnkiOiJJTkQiLCJwZXJpb2QiOiJ5ZWFyIiwicGVyaW9kX3ZhbHVlIjoiYmFzZWxpbmUiLCJ5ZWFyIjoiYmFzZWxpbmUiLCJmb29kIjoibm9uZSIsImluZGljYXRvciI6IjRiMDAwZGVkLTVmNGQtNGRiZC04M2M5LTAzZjJkZmNkMzZkYiIsImlycmlnYXRpb24iOlsiaXJyaWdhdGVkIiwicmFpbmZlZCJdLCJ0eXBlIjoiYWJzb2x1dGUifSwiZW1iZWQiOnsiaWQiOiI1YmUxNmZlYS01YjFhLTRkYWYtYTllOS05ZGMxZjZlYTZkNGUifX0=\" width=\"600\" height=\"420\" frameborder=\"0\" style=\"border:0\" allowfullscreen></iframe>',\n",
    "    disabled=False\n",
    ")"
   ]
  },
  {
   "cell_type": "markdown",
   "metadata": {},
   "source": [
    "## Water + Energy"
   ]
  },
  {
   "cell_type": "markdown",
   "metadata": {},
   "source": [
    "Pending a better data source  \n",
    "\n",
    "| Statement    | % (or number) of power plants exposed to water risk (much more interesting to do generation capacity at risk, but database not ready for that yet)|    \n",
    "|--------------|:---|  \n",
    "| Visual       | map |  \n",
    "| Data         | Aqueduct water risk, Power watch data|  \n",
    "| Methodology  | In power watch data - fuel1, fuel2, fuel3, or fuel4 attribute fields = thermal source (gas, oil, coal, geothermal, or nuclear)  Overlay thermal power plant locations with water risk data, count the number that are within high (>=3) water risk |  \n",
    "\n",
    "* **Dataset_id:**  \n",
    "* **widget_id:** \n"
   ]
  },
  {
   "cell_type": "markdown",
   "metadata": {},
   "source": [
    "### Widget definition"
   ]
  },
  {
   "cell_type": "markdown",
   "metadata": {},
   "source": []
  },
  {
   "cell_type": "code",
   "execution_count": null,
   "metadata": {
    "collapsed": true
   },
   "outputs": [],
   "source": []
  },
  {
   "cell_type": "code",
   "execution_count": null,
   "metadata": {
    "collapsed": true
   },
   "outputs": [],
   "source": []
  },
  {
   "cell_type": "markdown",
   "metadata": {},
   "source": [
    "## Water + Forests"
   ]
  },
  {
   "cell_type": "markdown",
   "metadata": {},
   "source": [
    "| Statement    |Watersheds are at risk due to deforestation|    \n",
    "|--------------|:---|  \n",
    "| Visual       | Pie chart of % watersheds with each risk category (1-5) due to recent forest loss Data |  \n",
    "| Data         | GFW Water |  \n",
    "| Methodology  | # of watersheds in each risk category ÷ total # watersheds - http://www.wri.org/sites/default/files/wri16_TECH_GFW-Water_draft7.pdf |  \n",
    "\n",
    "* **Dataset_id:**  \n",
    "* **widget_id:** "
   ]
  },
  {
   "cell_type": "markdown",
   "metadata": {},
   "source": [
    "### Widget definition"
   ]
  },
  {
   "cell_type": "code",
   "execution_count": 7,
   "metadata": {
    "ExecuteTime": {
     "end_time": "2017-06-29T15:37:12.818432Z",
     "start_time": "2017-06-29T15:37:12.808734Z"
    },
    "collapsed": true
   },
   "outputs": [],
   "source": [
    "query = 'SELECT count(rs_tl_c), rs_tl_c FROM river_basins group by rs_tl_c'"
   ]
  },
  {
   "cell_type": "code",
   "execution_count": 8,
   "metadata": {
    "ExecuteTime": {
     "end_time": "2017-06-29T15:37:13.633660Z",
     "start_time": "2017-06-29T15:37:13.592284Z"
    },
    "collapsed": true
   },
   "outputs": [],
   "source": [
    "vegaSpec={\n",
    "  \"data\": [\n",
    "    {\n",
    "      \"url\": \"https://wri-rw.carto.com/api/v2/sql?q=SELECT count(rs_tl_c) x, rs_tl_c as y FROM river_basins where rs_tl_c != 10  group by rs_tl_c\",\n",
    "      \"name\": \"table\",\n",
    "      \"format\": {\"type\": \"json\",\"property\": \"rows\"}\n",
    "    },\n",
    "    {\n",
    "      \"from\":\"table\",\n",
    "      \"name\": \"pie\",\n",
    "      \"transform\": [{\"type\": \"pie\",\"field\": \"x\"}]\n",
    "    }\n",
    "  ],\n",
    "  \"marks\": [\n",
    "    {\n",
    "      \"from\": {\n",
    "        \"data\": \"table\",\n",
    "        \"transform\": [{\"type\": \"pie\",\"field\": \"x\"}]\n",
    "      },\n",
    "      \"type\": \"arc\",\n",
    "      \"properties\": {\n",
    "        \"enter\": {\n",
    "          \"x\": {\"mult\": 0.5,\"field\": {\"group\": \"width\"}},\n",
    "          \"y\": {\"mult\": 0.5,\"field\": {\"group\": \"height\"}},\n",
    "          \"fill\": {\"field\": \"x\",\"scale\": \"color\"},\n",
    "          \"stroke\": {\"value\": \"white\"},\n",
    "          \"endAngle\": {\"field\": \"layout_end\"},\n",
    "          \"startAngle\": {\"field\": \"layout_start\"},\n",
    "          \"innerRadius\": {\"value\": 45},\n",
    "          \"outerRadius\": {\"value\": 65}\n",
    "        }\n",
    "      }\n",
    "    }\n",
    "  ],\n",
    "  \"width\": 300,\n",
    "  \"height\": 300,\n",
    "  \"scales\": [\n",
    "    {\n",
    "      \"name\": \"color\",\n",
    "      \"type\": \"ordinal\",\n",
    "      \"range\": \"category20c\",\n",
    "      \"domain\": {\"data\": \"table\",\"field\": \"x_percent\"}\n",
    "    }\n",
    "  ],\n",
    "  \"padding\": {\"top\": 0,\"left\": 0,\"right\": 0,\"bottom\": 0}\n",
    "}"
   ]
  },
  {
   "cell_type": "code",
   "execution_count": 9,
   "metadata": {
    "ExecuteTime": {
     "end_time": "2017-06-29T15:37:19.848999Z",
     "start_time": "2017-06-29T15:37:19.833612Z"
    }
   },
   "outputs": [
    {
     "data": {
      "text/html": [
       "<div class=\"vega-embed\" id=\"1629247d-1509-4876-858d-427912a88bf5\"></div>\n",
       "\n",
       "<style>\n",
       ".vega-embed svg, .vega-embed canvas {\n",
       "  border: 1px dotted gray;\n",
       "}\n",
       "\n",
       ".vega-embed .vega-actions a {\n",
       "  margin-right: 6px;\n",
       "}\n",
       "</style>\n"
      ]
     },
     "metadata": {
      "jupyter-vega": "#1629247d-1509-4876-858d-427912a88bf5"
     },
     "output_type": "display_data"
    },
    {
     "data": {
      "application/javascript": [
       "var spec = {\"height\": 300, \"data\": [{\"format\": {\"type\": \"json\", \"property\": \"rows\"}, \"url\": \"https://wri-rw.carto.com/api/v2/sql?q=SELECT count(rs_tl_c) x, rs_tl_c as y FROM river_basins where rs_tl_c != 10  group by rs_tl_c\", \"name\": \"table\"}, {\"from\": \"table\", \"transform\": [{\"type\": \"pie\", \"field\": \"x\"}], \"name\": \"pie\"}], \"width\": 300, \"marks\": [{\"properties\": {\"enter\": {\"outerRadius\": {\"value\": 65}, \"endAngle\": {\"field\": \"layout_end\"}, \"y\": {\"field\": {\"group\": \"height\"}, \"mult\": 0.5}, \"innerRadius\": {\"value\": 45}, \"fill\": {\"field\": \"x\", \"scale\": \"color\"}, \"startAngle\": {\"field\": \"layout_start\"}, \"x\": {\"field\": {\"group\": \"width\"}, \"mult\": 0.5}, \"stroke\": {\"value\": \"white\"}}}, \"from\": {\"transform\": [{\"type\": \"pie\", \"field\": \"x\"}], \"data\": \"table\"}, \"type\": \"arc\"}], \"padding\": {\"bottom\": 0, \"top\": 0, \"left\": 0, \"right\": 0}, \"scales\": [{\"type\": \"ordinal\", \"domain\": {\"field\": \"x_percent\", \"data\": \"table\"}, \"range\": \"category20c\", \"name\": \"color\"}]};\n",
       "var selector = \"#1629247d-1509-4876-858d-427912a88bf5\";\n",
       "var type = \"vega\";\n",
       "\n",
       "var output_area = this;\n",
       "require(['nbextensions/jupyter-vega/index'], function(vega) {\n",
       "  vega.render(selector, spec, type, output_area);\n",
       "}, function (err) {\n",
       "  if (err.requireType !== 'scripterror') {\n",
       "    throw(err);\n",
       "  }\n",
       "});\n"
      ]
     },
     "metadata": {
      "jupyter-vega": "#1629247d-1509-4876-858d-427912a88bf5"
     },
     "output_type": "display_data"
    },
    {
     "data": {
      "image/png": "[encoded data removed]"
     },
     "metadata": {
      "jupyter-vega": "#1629247d-1509-4876-858d-427912a88bf5"
     },
     "output_type": "display_data"
    }
   ],
   "source": [
    "Vega(vegaSpec)"
   ]
  },
  {
   "cell_type": "markdown",
   "metadata": {},
   "source": [
    "## Water + Forests"
   ]
  },
  {
   "cell_type": "markdown",
   "metadata": {},
   "source": [
    "| Statement    |Watersheds are at risk due to erosion|    \n",
    "|--------------|:---|  \n",
    "| Visual       | Map of top 10 watersheds facing highest risk of erosion (top 10 are all concentrated in SE asia + NZ, should be showable on a widget map) |  \n",
    "| Data         | GFW Water |  \n",
    "| Methodology  | http://www.wri.org/sites/default/files/wri16_TECH_GFW-Water_draft7.pdf - page 28 shows a map |  \n",
    "\n",
    "* **Dataset_id:**  \n",
    "* **widget_id:** "
   ]
  },
  {
   "cell_type": "markdown",
   "metadata": {},
   "source": [
    "### Widget definition"
   ]
  },
  {
   "cell_type": "markdown",
   "metadata": {},
   "source": []
  },
  {
   "cell_type": "code",
   "execution_count": 10,
   "metadata": {
    "ExecuteTime": {
     "end_time": "2017-06-29T15:37:26.959531Z",
     "start_time": "2017-06-29T15:37:26.931990Z"
    }
   },
   "outputs": [
    {
     "data": {
      "application/vnd.jupyter.widget-view+json": {
       "model_id": "62098febc18d434f99bc9bc07f8ed2bd"
      }
     },
     "metadata": {},
     "output_type": "display_data"
    }
   ],
   "source": [
    "widgets.HTML(\n",
    "    value='<iframe src=\"https://resourcewatch.carto.com/u/wri-rw/builder/27c585d4-da6e-42ea-9dee-49c554cdf3cd/embed\" width=\"800\" height=\"600\" frameborder=\"0\" style=\"border:0\" allowfullscreen></iframe>',\n",
    "    disabled=False\n",
    ")"
   ]
  },
  {
   "cell_type": "markdown",
   "metadata": {},
   "source": [
    "## Water + Biodiversity (and/or Climate)"
   ]
  },
  {
   "cell_type": "markdown",
   "metadata": {},
   "source": [
    "| Statement    |Bleaching events are bad and are increasingly likely to happen|    \n",
    "|--------------|:---|  \n",
    "| Visual       | # of bleaching events in the last 30 days within reef boundaries Data |  \n",
    "| Data         | GFW Water |  \n",
    "| Methodology  | http://www.wri.org/sites/default/files/wri16_TECH_GFW-Water_draft7.pdf - page 28 shows a map |  \n",
    "\n",
    "* **Dataset_id:**  \n",
    "* **widget_id:** "
   ]
  },
  {
   "cell_type": "markdown",
   "metadata": {},
   "source": [
    "Data management ---> nrt scrip that updates it\n",
    "\n",
    "https://resourcewatch.carto.com/u/wri-rw/dataset/reefs_alerts"
   ]
  },
  {
   "cell_type": "markdown",
   "metadata": {},
   "source": [
    "### Widget definition"
   ]
  },
  {
   "cell_type": "markdown",
   "metadata": {
    "ExecuteTime": {
     "end_time": "2017-06-29T15:43:12.600405Z",
     "start_time": "2017-06-29T15:43:12.586326Z"
    },
    "collapsed": true
   },
   "source": [
    "```json\n",
    "\"widgetConfig\":{\n",
    "    \"type\":\"text\",\n",
    "    \"data\":{\n",
    "        \"url\":\"SELECT alert_1 as alerts FROM reefs_alerts\"\n",
    "        }\n",
    "    \"template\": \"{{alerts}} of bleaching events in the last 30 days within reef boundaries Data\",\n",
    "    \"params_config\": [],\n",
    "    \"template_config\": [{\n",
    "        \"key\": \"alerts\"\n",
    "        }]\n",
    "}\n",
    "``` "
   ]
  },
  {
   "cell_type": "code",
   "execution_count": 15,
   "metadata": {
    "ExecuteTime": {
     "end_time": "2017-06-29T15:42:17.772332Z",
     "start_time": "2017-06-29T15:42:17.277758Z"
    }
   },
   "outputs": [
    {
     "data": {
      "text/html": [
       "<div>\n",
       "<table border=\"1\" class=\"dataframe\">\n",
       "  <thead>\n",
       "    <tr style=\"text-align: right;\">\n",
       "      <th></th>\n",
       "      <th>alert_1</th>\n",
       "    </tr>\n",
       "  </thead>\n",
       "  <tbody>\n",
       "    <tr>\n",
       "      <th>0</th>\n",
       "      <td>11</td>\n",
       "    </tr>\n",
       "  </tbody>\n",
       "</table>\n",
       "</div>"
      ],
      "text/plain": [
       "   alert_1\n",
       "0       11"
      ]
     },
     "execution_count": 15,
     "metadata": {},
     "output_type": "execute_result"
    }
   ],
   "source": [
    "cartoQuery = \"SELECT alert_1 as alerts FROM reefs_alerts\"\n",
    "payload={'q': cartoQuery}\n",
    "r = json.dumps(requests.get(carto_url,params=payload).json()['rows'])\n",
    "water_city = pd.read_json(r, orient='records')\n",
    "water_city.head(3)"
   ]
  },
  {
   "cell_type": "markdown",
   "metadata": {},
   "source": [
    "## Water + Disasters + Society"
   ]
  },
  {
   "cell_type": "markdown",
   "metadata": {},
   "source": [
    "| Statement    |Population at risk of flooding in 1/50 year events in 2030|    \n",
    "|--------------|:---|  \n",
    "| Visual       | Statement |  \n",
    "| Data         | Population affected by flood data for 1/50 year storm events - http://www.wri.org/resources/data-sets/aqueduct-global-flood-risk-maps |  \n",
    "| Methodology  | Total pop Column title: P30_24_50 (affected population, projected risks in 2030, SSP2, RCP4.5, 50 years), P30_28_50 (affected population, projected risks in 2030, SSP2, RCP8.5, 50 years), or P30_38_50 (affected population, projected risks in 2030, SSP3, RCP8.5, 50 years)? Ask Tianyi |  \n",
    "https://resourcewatch.carto.com/u/wri-rw/dataset/aqueduct_global_flood_risk_data_by_country_20150304\n",
    "* **Dataset_id:** 01ddff59-8cbc-4420-8c0d-9d8317a63292\n",
    "* **widget_id:** "
   ]
  },
  {
   "cell_type": "markdown",
   "metadata": {},
   "source": [
    "### Widget definition"
   ]
  },
  {
   "cell_type": "markdown",
   "metadata": {},
   "source": [
    "```json\n",
    "\"widgetConfig\":{\n",
    "    \"type\":\"text\",\n",
    "    \"data\":{\n",
    "        \"url\":\"SELECT round(sum(p30_24_50)/1000000) people FROM aqueduct_global_flood_risk_data_by_country_20150304\"\n",
    "        }\n",
    "    \"template\": \"{{people}} of people affected by floods for 1/50 year storm events in 2030\",\n",
    "    \"params_config\": [],\n",
    "    \"template_config\": [{\n",
    "        \"key\": \"people\",\n",
    "        \"suffix\": \"Millions\"\n",
    "        }]\n",
    "}\n",
    "``` "
   ]
  },
  {
   "cell_type": "code",
   "execution_count": 4,
   "metadata": {
    "ExecuteTime": {
     "end_time": "2017-06-29T09:23:34.393063Z",
     "start_time": "2017-06-29T09:23:33.812092Z"
    }
   },
   "outputs": [
    {
     "data": {
      "text/html": [
       "<div>\n",
       "<table border=\"1\" class=\"dataframe\">\n",
       "  <thead>\n",
       "    <tr style=\"text-align: right;\">\n",
       "      <th></th>\n",
       "      <th>people</th>\n",
       "    </tr>\n",
       "  </thead>\n",
       "  <tbody>\n",
       "    <tr>\n",
       "      <th>0</th>\n",
       "      <td>743</td>\n",
       "    </tr>\n",
       "  </tbody>\n",
       "</table>\n",
       "</div>"
      ],
      "text/plain": [
       "   people\n",
       "0     743"
      ]
     },
     "execution_count": 4,
     "metadata": {},
     "output_type": "execute_result"
    }
   ],
   "source": [
    "cartoQuery = \"SELECT round(sum(p30_24_50)/1000000) as people FROM aqueduct_global_flood_risk_data_by_country_20150304\"\n",
    "payload={'q': cartoQuery}\n",
    "r = json.dumps(requests.get(carto_url,params=payload).json()['rows'])\n",
    "water_city = pd.read_json(r, orient='records')\n",
    "water_city.head(3)"
   ]
  },
  {
   "cell_type": "markdown",
   "metadata": {},
   "source": [
    "## Water"
   ]
  },
  {
   "cell_type": "markdown",
   "metadata": {},
   "source": [
    "I will review the visual of this\n",
    "\n",
    "| Statement    |Surface water is changing over time|    \n",
    "|--------------|:---|  \n",
    "| Visual       | Statement |  \n",
    "| Data         | JRC Occurrence Change Intensity https://global-surface-water.appspot.com/download Absolute change in occurrence between 1984-1999 vs 2000-2015 |  \n",
    "| Methodology  | Count cells with positive and negative absolute change (above 50%?) |  \n",
    "\n",
    "* **Dataset_id:** 8ecf07f5-3cae-4275-adfe-918d04439a1a\n",
    "* **widget_id:** "
   ]
  },
  {
   "cell_type": "markdown",
   "metadata": {},
   "source": [
    "### Widget definition"
   ]
  },
  {
   "cell_type": "markdown",
   "metadata": {
    "collapsed": true
   },
   "source": []
  },
  {
   "cell_type": "code",
   "execution_count": 2,
   "metadata": {
    "ExecuteTime": {
     "end_time": "2017-06-29T15:44:39.844920Z",
     "start_time": "2017-06-29T15:44:27.701396Z"
    }
   },
   "outputs": [
    {
     "data": {
      "text/html": [
       "<div>\n",
       "<style>\n",
       "    .dataframe thead tr:only-child th {\n",
       "        text-align: right;\n",
       "    }\n",
       "\n",
       "    .dataframe thead th {\n",
       "        text-align: left;\n",
       "    }\n",
       "\n",
       "    .dataframe tbody tr th {\n",
       "        vertical-align: top;\n",
       "    }\n",
       "</style>\n",
       "<table border=\"1\" class=\"dataframe\">\n",
       "  <thead>\n",
       "    <tr style=\"text-align: right;\">\n",
       "      <th></th>\n",
       "      <th>0</th>\n",
       "      <th>1</th>\n",
       "    </tr>\n",
       "  </thead>\n",
       "  <tbody>\n",
       "    <tr>\n",
       "      <th>0</th>\n",
       "      <td>-128.0</td>\n",
       "      <td>263564</td>\n",
       "    </tr>\n",
       "    <tr>\n",
       "      <th>1</th>\n",
       "      <td>-105.1</td>\n",
       "      <td>24282</td>\n",
       "    </tr>\n",
       "    <tr>\n",
       "      <th>2</th>\n",
       "      <td>-82.2</td>\n",
       "      <td>41095</td>\n",
       "    </tr>\n",
       "    <tr>\n",
       "      <th>3</th>\n",
       "      <td>-59.3</td>\n",
       "      <td>110301</td>\n",
       "    </tr>\n",
       "    <tr>\n",
       "      <th>4</th>\n",
       "      <td>-36.4</td>\n",
       "      <td>255956</td>\n",
       "    </tr>\n",
       "  </tbody>\n",
       "</table>\n",
       "</div>"
      ],
      "text/plain": [
       "       0       1\n",
       "0 -128.0  263564\n",
       "1 -105.1   24282\n",
       "2  -82.2   41095\n",
       "3  -59.3  110301\n",
       "4  -36.4  255956"
      ]
     },
     "execution_count": 2,
     "metadata": {},
     "output_type": "execute_result"
    }
   ],
   "source": [
    "cartoQuery = 'SELECT%20ST_HISTOGRAM(raster,%20change_abs,%2010,%20true)%20FROM%20\"JRC/GSW1_0/GlobalSurfaceWater\"'\n",
    "payload={'sql': cartoQuery}\n",
    "r = json.dumps(requests.get('https://api.resourcewatch.org/query/8ecf07f5-3cae-4275-adfe-918d04439a1a',params=payload).json()['data'][0]['change_abs'])\n",
    "water_city = pd.read_json(r, orient='records')\n",
    "water_city.head()"
   ]
  },
  {
   "cell_type": "code",
   "execution_count": 19,
   "metadata": {
    "ExecuteTime": {
     "end_time": "2017-06-29T15:45:19.799031Z",
     "start_time": "2017-06-29T15:45:19.503790Z"
    }
   },
   "outputs": [
    {
     "data": {
      "image/png": "[encoded data removed]",
      "text/plain": [
       "<matplotlib.figure.Figure at 0x7fba720d92b0>"
      ]
     },
     "metadata": {},
     "output_type": "display_data"
    }
   ],
   "source": [
    "water_city.plot(x=0, y =1);"
   ]
  },
  {
   "cell_type": "code",
   "execution_count": null,
   "metadata": {
    "collapsed": true
   },
   "outputs": [],
   "source": []
  }
 ],
 "metadata": {
  "kernelspec": {
   "display_name": "Python 3",
   "language": "python",
   "name": "python3"
  },
  "language_info": {
   "codemirror_mode": {
    "name": "ipython",
    "version": 3
   },
   "file_extension": ".py",
   "mimetype": "text/x-python",
   "name": "python",
   "nbconvert_exporter": "python",
   "pygments_lexer": "ipython3",
   "version": "3.6.1"
  },
  "latex_envs": {
   "LaTeX_envs_menu_present": true,
   "autocomplete": true,
   "bibliofile": "biblio.bib",
   "cite_by": "apalike",
   "current_citInitial": 1,
   "eqLabelWithNumbers": true,
   "eqNumInitial": 1,
   "hotkeys": {
    "equation": "Ctrl-E",
    "itemize": "Ctrl-I"
   },
   "labels_anchors": false,
   "latex_user_defs": false,
   "report_style_numbering": false,
   "user_envs_cfg": false
  },
  "varInspector": {
   "cols": {
    "lenName": 16,
    "lenType": 16,
    "lenVar": 40
   },
   "kernels_config": {
    "python": {
     "delete_cmd_postfix": "",
     "delete_cmd_prefix": "del ",
     "library": "var_list.py",
     "varRefreshCmd": "print(var_dic_list())"
    },
    "r": {
     "delete_cmd_postfix": ") ",
     "delete_cmd_prefix": "rm(",
     "library": "var_list.r",
     "varRefreshCmd": "cat(var_dic_list()) "
    }
   },
   "types_to_exclude": [
    "module",
    "function",
    "builtin_function_or_method",
    "instance",
    "_Feature"
   ],
   "window_display": false
  },
  "widgets": {
   "application/vnd.jupyter.widget-state+json": {
    "state": {
     "5db6f35cf2d544e0979659ba2ab1c622": {
      "model_module": "jupyter-js-widgets",
      "model_module_version": "~2.1.4",
      "model_name": "LayoutModel",
      "state": {
       "_model_module_version": "~2.1.4",
       "_view_module_version": "~2.1.4"
      }
     },
     "62098febc18d434f99bc9bc07f8ed2bd": {
      "model_module": "jupyter-js-widgets",
      "model_module_version": "~2.1.4",
      "model_name": "HTMLModel",
      "state": {
       "_model_module_version": "~2.1.4",
       "_view_module_version": "~2.1.4",
       "layout": "IPY_MODEL_5db6f35cf2d544e0979659ba2ab1c622",
       "value": "<iframe src=\"https://resourcewatch.carto.com/u/wri-rw/builder/27c585d4-da6e-42ea-9dee-49c554cdf3cd/embed\" width=\"800\" height=\"600\" frameborder=\"0\" style=\"border:0\" allowfullscreen></iframe>"
      }
     },
     "9f639bb0c54c40168eff1e5c9989df2e": {
      "model_module": "jupyter-js-widgets",
      "model_module_version": "~2.1.4",
      "model_name": "HTMLModel",
      "state": {
       "_model_module_version": "~2.1.4",
       "_view_module_version": "~2.1.4",
       "layout": "IPY_MODEL_d68eb68710ad4daa8e6e437eba8821d6",
       "value": "<iframe src=\"http://aqueduct-water-food-security.herokuapp.com/embed?state=eyJmaWx0ZXJzIjp7ImNyb3AiOiJhbGwiLCJzY29wZSI6Imdsb2JhbCIsImNvdW50cnkiOiJJTkQiLCJwZXJpb2QiOiJ5ZWFyIiwicGVyaW9kX3ZhbHVlIjoiYmFzZWxpbmUiLCJ5ZWFyIjoiYmFzZWxpbmUiLCJmb29kIjoibm9uZSIsImluZGljYXRvciI6IjRiMDAwZGVkLTVmNGQtNGRiZC04M2M5LTAzZjJkZmNkMzZkYiIsImlycmlnYXRpb24iOlsiaXJyaWdhdGVkIiwicmFpbmZlZCJdLCJ0eXBlIjoiYWJzb2x1dGUifSwiZW1iZWQiOnsiaWQiOiI1YmUxNmZlYS01YjFhLTRkYWYtYTllOS05ZGMxZjZlYTZkNGUifX0=\" width=\"600\" height=\"420\" frameborder=\"0\" style=\"border:0\" allowfullscreen></iframe>"
      }
     },
     "d68eb68710ad4daa8e6e437eba8821d6": {
      "model_module": "jupyter-js-widgets",
      "model_module_version": "~2.1.4",
      "model_name": "LayoutModel",
      "state": {
       "_model_module_version": "~2.1.4",
       "_view_module_version": "~2.1.4"
      }
     }
    },
    "version_major": 1,
    "version_minor": 0
   }
  }
 },
 "nbformat": 4,
 "nbformat_minor": 2
}
