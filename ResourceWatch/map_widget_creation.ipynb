{
 "cells": [
  {
   "cell_type": "code",
   "execution_count": 1,
   "id": "e529cb49",
   "metadata": {},
   "outputs": [],
   "source": [
    "import getpass\n",
    "import requests as re\n",
    "import json\n",
    "from datetime import datetime\n",
    "import logging\n",
    "logger = logging.getLogger()\n",
    "logger.setLevel(logging.INFO)"
   ]
  },
  {
   "cell_type": "code",
   "execution_count": 2,
   "id": "2932f0c2",
   "metadata": {},
   "outputs": [],
   "source": [
    "staging_server = \"https://staging-api.globalforestwatch.org\"\n",
    "prod_server = \"https://api.resourcewatch.org\""
   ]
  },
  {
   "cell_type": "code",
   "execution_count": 3,
   "id": "3d0902dd",
   "metadata": {},
   "outputs": [],
   "source": [
    "class bcolors:\n",
    "    HEADER = '\\033[95m'\n",
    "    OKBLUE = '\\033[94m'\n",
    "    OKCYAN = '\\033[96m'\n",
    "    OKGREEN = '\\033[92m'\n",
    "    WARNING = '\\033[93m'\n",
    "    FAIL = '\\033[91m'\n",
    "    ENDC = '\\033[0m'\n",
    "    BOLD = '\\033[1m'\n",
    "    UNDERLINE = '\\033[4m'"
   ]
  },
  {
   "cell_type": "code",
   "execution_count": 4,
   "id": "a29b0aeb",
   "metadata": {},
   "outputs": [],
   "source": [
    "def auth(env='prod'):\n",
    "    serverUrl = {\n",
    "        'prod': prod_server,\n",
    "        'staging': staging_server\n",
    "    }\n",
    "    print(f'You are login into {bcolors.HEADER}{bcolors.BOLD}{env}{bcolors.ENDC}')\n",
    "    with re.Session() as s:\n",
    "        headers = {'Content-Type': 'application/json'}\n",
    "        payload = json.dumps({ 'email': f'{input(f\"Email: \")}',\n",
    "                               'password': f'{getpass.getpass(prompt=\"Password: \")}'})\n",
    "        response = s.post(f'{serverUrl[env]}/auth/login',  headers = headers,  data = payload)\n",
    "        response.raise_for_status()\n",
    "        print(f'{bcolors.OKGREEN}Successfully logged into {env}{bcolors.ENDC}')\n",
    "    return response.json().get('data').get('token')"
   ]
  },
  {
   "cell_type": "code",
   "execution_count": 5,
   "id": "147ac7e9",
   "metadata": {},
   "outputs": [
    {
     "name": "stdout",
     "output_type": "stream",
     "text": [
      "You are login into \u001b[95m\u001b[1mstaging\u001b[0m\n"
     ]
    },
    {
     "name": "stdin",
     "output_type": "stream",
     "text": [
      "Email:  alicia.arenzana@vizzuality.com\n",
      "Password:  ··········\n"
     ]
    },
    {
     "name": "stdout",
     "output_type": "stream",
     "text": [
      "\u001b[92mSuccessfully logged into staging\u001b[0m\n",
      "You are login into \u001b[95m\u001b[1mprod\u001b[0m\n"
     ]
    },
    {
     "name": "stdin",
     "output_type": "stream",
     "text": [
      "Email:  alicia.arenzana@vizzuality.com\n",
      "Password:  ··········\n"
     ]
    },
    {
     "name": "stdout",
     "output_type": "stream",
     "text": [
      "\u001b[92mSuccessfully logged into prod\u001b[0m\n"
     ]
    }
   ],
   "source": [
    "token = {\n",
    "    'staging': auth('staging'),\n",
    "    'prod':auth('prod')\n",
    "}"
   ]
  },
  {
   "cell_type": "code",
   "execution_count": 13,
   "id": "5d82c1d4",
   "metadata": {},
   "outputs": [],
   "source": [
    "def setTokenHeader(env, token=token):\n",
    "    '''\n",
    "    set up the token\n",
    "    '''\n",
    "    return {'Authorization':f'Bearer {token[env]}', \n",
    "            'Content-Type': 'application/json'}\n",
    "\n",
    "def logResponseErrors(status_code, response = None, url = None, body = None):\n",
    "    '''\n",
    "    log errors in http calls\n",
    "    '''\n",
    "    if status_code !=200:\n",
    "        logging.error('response: ')\n",
    "        logging.error(response)\n",
    "        logging.error(response.text) if response else None\n",
    "        logging.error(response.json()) if response else None\n",
    "        logging.error('url: ')\n",
    "        logging.error(url) if url else None\n",
    "        logging.error('body: ')\n",
    "        logging.error(json.dumps(body)) if body else None\n",
    "        \n",
    "def postAssets(url, body, headers, payloads = None):\n",
    "    '''\n",
    "    create asset operation\n",
    "    '''    \n",
    "    response = re.post(url, params = payloads, data=json.dumps(body), headers = headers)\n",
    "    \n",
    "    logResponseErrors(response.status_code, response, url, body)\n",
    "    \n",
    "    response.raise_for_status()\n",
    "    \n",
    "    return response.json()\n",
    "\n",
    "def createWidget(datasetId, body, toEnv = 'prod', destinationWidgetId = None):\n",
    "    '''\n",
    "    Copy the widget from one env to the other\n",
    "    '''\n",
    "    \n",
    "    serverUrl = {\n",
    "        'prod': prod_server,\n",
    "        'staging': staging_server\n",
    "    }\n",
    "    \n",
    "    headers = setTokenHeader(toEnv)\n",
    "    url = f'{serverUrl[toEnv]}/v1/dataset/{datasetId}/widget'\n",
    "    \n",
    "    if destinationWidgetId:\n",
    "        url = f'{url}/{destinationWidgetId}'\n",
    "    \n",
    "    return postAssets(url, body, headers)"
   ]
  },
  {
   "cell_type": "code",
   "execution_count": 14,
   "id": "3ad6c537",
   "metadata": {},
   "outputs": [],
   "source": [
    "widgetBody = json.loads('''\n",
    "    {\n",
    "    \"name\": \"Reduction in Life Expectancy Map\",\n",
    "    \"description\": \"\",\n",
    "    \"source\": \"\",\n",
    "    \"authors\": \"\",\n",
    "    \"application\": [\"rw\"],\n",
    "    \"verified\": false,\n",
    "    \"default\": false,\n",
    "    \"protected\": false,\n",
    "    \"defaultEditableWidget\": false,\n",
    "    \"published\": true,\n",
    "    \"freeze\": false,\n",
    "    \"env\": \"production\",\n",
    "    \"queryUrl\": \"\",\n",
    "    \"widgetConfig\": {\n",
    "        \"lng\": 4.504394531250001,\n",
    "        \"lat\": -28.497660832963472,\n",
    "        \"zoom\": 4,\n",
    "        \"type\": \"map\",\n",
    "        \"paramsConfig\": {\n",
    "            \"embed\": {\n",
    "                \"src\": \"\"\n",
    "                },\n",
    "            \"band\": null,\n",
    "            \"areaIntersection\": null,\n",
    "            \"filters\": [],\n",
    "            \"chartType\": null,\n",
    "            \"aggregateFunction\": null,\n",
    "            \"orderBy\": null,\n",
    "            \"size\": null,\n",
    "            \"color\": null,\n",
    "            \"category\": null,\n",
    "            \"value\": null,\n",
    "            \"limit\": 500,\n",
    "            \"visualizationType\": \"map\",\n",
    "            \"layer_id\": \"b0a8f63f-e3a3-4599-abd8-19120edd98b1\",\n",
    "            \"layer\": \"b0a8f63f-e3a3-4599-abd8-19120edd98b1\",\n",
    "            \"layers\": [\n",
    "                \"2a694289-fec9-4bfe-a6d2-56c3864ec349\",\n",
    "                \"155968b5-7c59-4065-9e3a-0a81d52d50de\",\n",
    "                \"00e688a8-086e-4206-9ea7-b47afca6913c\",\n",
    "                \"7890b4f2-502a-408b-8614-3f00e0b53ec2\"\n",
    "                  ]\n",
    "                }\n",
    "            }\n",
    "  }\n",
    "''')"
   ]
  },
  {
   "cell_type": "markdown",
   "id": "94b628ac",
   "metadata": {},
   "source": [
    "## Staging Layers OW"
   ]
  },
  {
   "cell_type": "markdown",
   "id": "5f991ffb",
   "metadata": {},
   "source": [
    "# Catchment Areas and Land cover"
   ]
  },
  {
   "cell_type": "markdown",
   "id": "0266f0ec",
   "metadata": {},
   "source": [
    "## Sediment Pressure"
   ]
  },
  {
   "cell_type": "code",
   "execution_count": 15,
   "id": "184f21f6",
   "metadata": {},
   "outputs": [
    {
     "data": {
      "text/plain": [
       "{'data': {'id': 'ac8fb011-b003-466e-ab5e-1ccd417bbc1d',\n",
       "  'type': 'widget',\n",
       "  'attributes': {'name': 'Sediment Pressure',\n",
       "   'dataset': 'ae3ffd82-19a8-4d7c-a974-cc6d7b512f86',\n",
       "   'slug': 'Sediment-Pressure',\n",
       "   'userId': '57a0aa1071e394dd32ffe137',\n",
       "   'description': '',\n",
       "   'source': '',\n",
       "   'authors': '',\n",
       "   'application': ['rw'],\n",
       "   'verified': False,\n",
       "   'default': False,\n",
       "   'protected': False,\n",
       "   'defaultEditableWidget': False,\n",
       "   'published': True,\n",
       "   'freeze': False,\n",
       "   'env': 'production',\n",
       "   'queryUrl': '',\n",
       "   'widgetConfig': {'lng': 4.504394531250001,\n",
       "    'lat': -28.497660832963472,\n",
       "    'zoom': 4,\n",
       "    'type': 'map',\n",
       "    'paramsConfig': {'embed': {'src': ''},\n",
       "     'band': None,\n",
       "     'areaIntersection': None,\n",
       "     'filters': [],\n",
       "     'chartType': None,\n",
       "     'aggregateFunction': None,\n",
       "     'orderBy': None,\n",
       "     'size': None,\n",
       "     'color': None,\n",
       "     'category': None,\n",
       "     'value': None,\n",
       "     'limit': 500,\n",
       "     'visualizationType': 'map',\n",
       "     'layer_id': 'c4c7b8e1-1d74-40fe-840c-e8aa185a4461',\n",
       "     'layer': 'c4c7b8e1-1d74-40fe-840c-e8aa185a4461',\n",
       "     'layers': ['c4c7b8e1-1d74-40fe-840c-e8aa185a4461',\n",
       "      '0f27b5ee-21e0-48d4-81ba-f8d33d773514',\n",
       "      '9b9fe210-f99d-452f-b5d8-9bae0b1a5ec2']}},\n",
       "   'template': False,\n",
       "   'createdAt': '2021-06-18T07:38:08.324Z',\n",
       "   'updatedAt': '2021-06-18T07:38:08.324Z'}}}"
      ]
     },
     "execution_count": 15,
     "metadata": {},
     "output_type": "execute_result"
    }
   ],
   "source": [
    "DatasetId = 'ae3ffd82-19a8-4d7c-a974-cc6d7b512f86'\n",
    "layers = ['c4c7b8e1-1d74-40fe-840c-e8aa185a4461', '0f27b5ee-21e0-48d4-81ba-f8d33d773514', '9b9fe210-f99d-452f-b5d8-9bae0b1a5ec2']\n",
    "widgetBody['name'] = \"Sediment Pressure\"\n",
    "widgetBody['widgetConfig']['paramsConfig']['layers'] = layers\n",
    "widgetBody['widgetConfig']['paramsConfig']['layer'] = layers[0]\n",
    "widgetBody['widgetConfig']['paramsConfig']['layer_id'] = layers[0]\n",
    "createWidget(DatasetId, widgetBody, 'staging')"
   ]
  },
  {
   "cell_type": "markdown",
   "id": "c719ed86",
   "metadata": {},
   "source": [
    "## Water Quality Pressure"
   ]
  },
  {
   "cell_type": "code",
   "execution_count": 16,
   "id": "31a195d4",
   "metadata": {},
   "outputs": [
    {
     "data": {
      "text/plain": [
       "{'data': {'id': '913ab9b7-5e5c-4830-a4c8-5e3b2d45db77',\n",
       "  'type': 'widget',\n",
       "  'attributes': {'name': 'Water Quality Pressure',\n",
       "   'dataset': 'f7bbc39e-81ab-4d91-be37-c12e33cd8436',\n",
       "   'slug': 'Water-Quality-Pressure',\n",
       "   'userId': '57a0aa1071e394dd32ffe137',\n",
       "   'description': '',\n",
       "   'source': '',\n",
       "   'authors': '',\n",
       "   'application': ['rw'],\n",
       "   'verified': False,\n",
       "   'default': False,\n",
       "   'protected': False,\n",
       "   'defaultEditableWidget': False,\n",
       "   'published': True,\n",
       "   'freeze': False,\n",
       "   'env': 'production',\n",
       "   'queryUrl': '',\n",
       "   'widgetConfig': {'lng': 4.504394531250001,\n",
       "    'lat': -28.497660832963472,\n",
       "    'zoom': 4,\n",
       "    'type': 'map',\n",
       "    'paramsConfig': {'embed': {'src': ''},\n",
       "     'band': None,\n",
       "     'areaIntersection': None,\n",
       "     'filters': [],\n",
       "     'chartType': None,\n",
       "     'aggregateFunction': None,\n",
       "     'orderBy': None,\n",
       "     'size': None,\n",
       "     'color': None,\n",
       "     'category': None,\n",
       "     'value': None,\n",
       "     'limit': 500,\n",
       "     'visualizationType': 'map',\n",
       "     'layer_id': '8339b4a5-b99f-4d64-8737-30f79325e106',\n",
       "     'layer': '8339b4a5-b99f-4d64-8737-30f79325e106',\n",
       "     'layers': ['8339b4a5-b99f-4d64-8737-30f79325e106',\n",
       "      'c4c7b8e1-1d74-40fe-840c-e8aa185a4461',\n",
       "      'abefb374-3355-4110-9c03-c7031f0b61b4',\n",
       "      'fe6315f7-e208-441d-9193-9dee6499b349']}},\n",
       "   'template': False,\n",
       "   'createdAt': '2021-06-18T07:39:25.735Z',\n",
       "   'updatedAt': '2021-06-18T07:39:25.735Z'}}}"
      ]
     },
     "execution_count": 16,
     "metadata": {},
     "output_type": "execute_result"
    }
   ],
   "source": [
    "DatasetId = 'f7bbc39e-81ab-4d91-be37-c12e33cd8436'\n",
    "layers = ['8339b4a5-b99f-4d64-8737-30f79325e106','c4c7b8e1-1d74-40fe-840c-e8aa185a4461','abefb374-3355-4110-9c03-c7031f0b61b4','fe6315f7-e208-441d-9193-9dee6499b349']\n",
    "widgetBody['name'] = \"Water Quality Pressure\"\n",
    "widgetBody['widgetConfig']['paramsConfig']['layers'] = layers\n",
    "widgetBody['widgetConfig']['paramsConfig']['layer'] = layers[0]\n",
    "widgetBody['widgetConfig']['paramsConfig']['layer_id'] = layers[0]\n",
    "createWidget(DatasetId, widgetBody, 'staging')"
   ]
  },
  {
   "cell_type": "markdown",
   "id": "281861ac",
   "metadata": {},
   "source": [
    "# River Water Quality"
   ]
  },
  {
   "cell_type": "markdown",
   "id": "ae8f6e1d",
   "metadata": {},
   "source": [
    "## Sediment Pressure TBD"
   ]
  },
  {
   "cell_type": "code",
   "execution_count": null,
   "id": "19a95b78",
   "metadata": {},
   "outputs": [],
   "source": [
    "DatasetId = ''\n",
    "layers = ['','','']\n",
    "widgetBody['name'] = \"Reduction in Life Expectancy Map\"\n",
    "widgetBody['widgetConfig']['paramsConfig']['layers'] = layers\n",
    "widgetBody['widgetConfig']['paramsConfig']['layer'] = layers[0]\n",
    "widgetBody['widgetConfig']['paramsConfig']['layer_id'] = layers[0]\n",
    "createWidget(datasetId, widgetBody, 'staging')"
   ]
  },
  {
   "cell_type": "markdown",
   "id": "3133c8c4",
   "metadata": {},
   "source": [
    "Water quality Pressuere TBD"
   ]
  },
  {
   "cell_type": "code",
   "execution_count": null,
   "id": "9d63125d",
   "metadata": {},
   "outputs": [],
   "source": [
    "DatasetId = ''\n",
    "layers = ['','','']\n",
    "widgetBody['name'] = \"Reduction in Life Expectancy Map\"\n",
    "widgetBody['widgetConfig']['paramsConfig']['layers'] = layers\n",
    "widgetBody['widgetConfig']['paramsConfig']['layer'] = layers[0]\n",
    "widgetBody['widgetConfig']['paramsConfig']['layer_id'] = layers[0]\n",
    "createWidget(datasetId, widgetBody, 'staging')"
   ]
  },
  {
   "cell_type": "code",
   "execution_count": null,
   "id": "9d266bdf",
   "metadata": {},
   "outputs": [],
   "source": []
  },
  {
   "cell_type": "markdown",
   "id": "14a4cdcf",
   "metadata": {},
   "source": [
    "Ecosystems"
   ]
  },
  {
   "cell_type": "code",
   "execution_count": null,
   "id": "84262d67",
   "metadata": {},
   "outputs": [],
   "source": [
    "DatasetId = ''\n",
    "layers = ['','','']\n",
    "widgetBody['name'] = \"Reduction in Life Expectancy Map\"\n",
    "widgetBody['widgetConfig']['paramsConfig']['layers'] = layers\n",
    "widgetBody['widgetConfig']['paramsConfig']['layer'] = layers[0]\n",
    "widgetBody['widgetConfig']['paramsConfig']['layer_id'] = layers[0]\n",
    "createWidget(datasetId, widgetBody, 'staging')"
   ]
  },
  {
   "cell_type": "markdown",
   "id": "d8e8f809",
   "metadata": {},
   "source": []
  },
  {
   "cell_type": "code",
   "execution_count": null,
   "id": "56dd2ddc",
   "metadata": {},
   "outputs": [],
   "source": [
    "DatasetId = ''\n",
    "layers = ['','','']\n",
    "widgetBody['name'] = \"Reduction in Life Expectancy Map\"\n",
    "widgetBody['widgetConfig']['paramsConfig']['layers'] = layers\n",
    "widgetBody['widgetConfig']['paramsConfig']['layer'] = layers[0]\n",
    "widgetBody['widgetConfig']['paramsConfig']['layer_id'] = layers[0]\n",
    "createWidget(datasetId, widgetBody, 'staging')"
   ]
  }
 ],
 "metadata": {
  "kernelspec": {
   "display_name": "Python 3",
   "language": "python",
   "name": "python3"
  },
  "language_info": {
   "codemirror_mode": {
    "name": "ipython",
    "version": 3
   },
   "file_extension": ".py",
   "mimetype": "text/x-python",
   "name": "python",
   "nbconvert_exporter": "python",
   "pygments_lexer": "ipython3",
   "version": "3.8.8"
  }
 },
 "nbformat": 4,
 "nbformat_minor": 5
}
