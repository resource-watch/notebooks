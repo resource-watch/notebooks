{
 "cells": [
  {
   "cell_type": "code",
   "execution_count": 1,
   "metadata": {},
   "outputs": [],
   "source": [
    "import getpass\n",
    "import requests as re\n",
    "import json\n",
    "from datetime import datetime\n",
    "import logging\n",
    "logger = logging.getLogger()\n",
    "logger.setLevel(logging.INFO)"
   ]
  },
  {
   "cell_type": "code",
   "execution_count": 2,
   "metadata": {},
   "outputs": [],
   "source": [
    "#staging_server = \"https://staging-api.globalforestwatch.org\"\n",
    "staging_server = \"https://staging-api.resourcewatch.org\"\n",
    "prod_server = \"https://api.resourcewatch.org\""
   ]
  },
  {
   "cell_type": "code",
   "execution_count": 3,
   "metadata": {},
   "outputs": [],
   "source": [
    "class bcolors:\n",
    "    HEADER = '\\033[95m'\n",
    "    OKBLUE = '\\033[94m'\n",
    "    OKCYAN = '\\033[96m'\n",
    "    OKGREEN = '\\033[92m'\n",
    "    WARNING = '\\033[93m'\n",
    "    FAIL = '\\033[91m'\n",
    "    ENDC = '\\033[0m'\n",
    "    BOLD = '\\033[1m'\n",
    "    UNDERLINE = '\\033[4m'"
   ]
  },
  {
   "cell_type": "code",
   "execution_count": 4,
   "metadata": {},
   "outputs": [],
   "source": [
    "def auth(env='prod'):\n",
    "    serverUrl = {\n",
    "        'prod': prod_server,\n",
    "        'staging': staging_server\n",
    "    }\n",
    "    print(f'You are login into {bcolors.HEADER}{bcolors.BOLD}{env}{bcolors.ENDC}')\n",
    "    with re.Session() as s:\n",
    "        headers = {'Content-Type': 'application/json'}\n",
    "        payload = json.dumps({ 'email': f'{input(f\"Email: \")}',\n",
    "                               'password': f'{getpass.getpass(prompt=\"Password: \")}'})\n",
    "        response = s.post(f'{serverUrl[env]}/auth/login',  headers = headers,  data = payload)\n",
    "        response.raise_for_status()\n",
    "        print(f'{bcolors.OKGREEN}Successfully logged into {env}{bcolors.ENDC}')\n",
    "    return response.json().get('data').get('token')"
   ]
  },
  {
   "cell_type": "code",
   "execution_count": 5,
   "metadata": {},
   "outputs": [
    {
     "name": "stdout",
     "output_type": "stream",
     "text": [
      "You are login into \u001b[95m\u001b[1mstaging\u001b[0m\n"
     ]
    },
    {
     "name": "stdin",
     "output_type": "stream",
     "text": [
      "Email:  tamara.huete@vizzuality.com\n",
      "Password:  ···········\n"
     ]
    },
    {
     "name": "stdout",
     "output_type": "stream",
     "text": [
      "\u001b[92mSuccessfully logged into staging\u001b[0m\n",
      "You are login into \u001b[95m\u001b[1mprod\u001b[0m\n"
     ]
    },
    {
     "name": "stdin",
     "output_type": "stream",
     "text": [
      "Email:  tamara.huete@vizzuality.com\n",
      "Password:  ········\n"
     ]
    },
    {
     "name": "stdout",
     "output_type": "stream",
     "text": [
      "\u001b[92mSuccessfully logged into prod\u001b[0m\n"
     ]
    }
   ],
   "source": [
    "token = {\n",
    "    'staging': auth('staging'),\n",
    "    'prod':auth('prod')\n",
    "}"
   ]
  },
  {
   "cell_type": "code",
   "execution_count": 6,
   "metadata": {},
   "outputs": [],
   "source": [
    "def setTokenHeader(env, token=token):\n",
    "    '''\n",
    "    set up the token\n",
    "    '''\n",
    "    return {'Authorization':f'Bearer {token[env]}', \n",
    "            'Content-Type': 'application/json'}\n",
    "\n",
    "def logResponseErrors(status_code, response = None, url = None, body = None):\n",
    "    '''\n",
    "    log errors in http calls\n",
    "    '''\n",
    "    if status_code !=200:\n",
    "        logging.error('response: ')\n",
    "        logging.error(response)\n",
    "        logging.error(response.text) if response else None\n",
    "        logging.error(response.json()) if response else None\n",
    "        logging.error('url: ')\n",
    "        logging.error(url) if url else None\n",
    "        logging.error('body: ')\n",
    "        logging.error(json.dumps(body)) if body else None\n",
    "        \n",
    "def postAssets(url, body, headers, payloads = None):\n",
    "    '''\n",
    "    create asset operation\n",
    "    '''    \n",
    "    response = re.post(url, params = payloads, data=json.dumps(body), headers = headers)\n",
    "    \n",
    "    logResponseErrors(response.status_code, response, url, body)\n",
    "    \n",
    "    response.raise_for_status()\n",
    "    \n",
    "    return response.json()\n",
    "\n",
    "def createWidget(datasetId, body, toEnv = 'prod', destinationWidgetId = None):\n",
    "    '''\n",
    "    Copy the widget from one env to the other\n",
    "    '''\n",
    "    \n",
    "    serverUrl = {\n",
    "        'prod': prod_server,\n",
    "        'staging': staging_server\n",
    "    }\n",
    "    \n",
    "    headers = setTokenHeader(toEnv)\n",
    "    url = f'{serverUrl[toEnv]}/v1/dataset/{datasetId}/widget'\n",
    "    \n",
    "    if destinationWidgetId:\n",
    "        url = f'{url}/{destinationWidgetId}'\n",
    "    \n",
    "    return postAssets(url, body, headers)"
   ]
  },
  {
   "cell_type": "code",
   "execution_count": 7,
   "metadata": {},
   "outputs": [],
   "source": [
    "widgetBody = json.loads('''\n",
    "    {\n",
    "    \"name\": \"Reduction in Life Expectancy Map\",\n",
    "    \"description\": \"\",\n",
    "    \"source\": \"\",\n",
    "    \"authors\": \"\",\n",
    "    \"application\": [\"rw\"],\n",
    "    \"verified\": false,\n",
    "    \"default\": false,\n",
    "    \"protected\": false,\n",
    "    \"defaultEditableWidget\": false,\n",
    "    \"published\": true,\n",
    "    \"freeze\": false,\n",
    "    \"env\": \"production\",\n",
    "    \"queryUrl\": \"\",\n",
    "    \"widgetConfig\": {\n",
    "        \"lng\": 4.504394531250001,\n",
    "        \"lat\": -28.497660832963472,\n",
    "        \"zoom\": 4,\n",
    "        \"type\": \"map\",\n",
    "        \"paramsConfig\": {\n",
    "            \"embed\": {\n",
    "                \"src\": \"\"\n",
    "                },\n",
    "            \"band\": null,\n",
    "            \"areaIntersection\": null,\n",
    "            \"filters\": [],\n",
    "            \"chartType\": null,\n",
    "            \"aggregateFunction\": null,\n",
    "            \"orderBy\": null,\n",
    "            \"size\": null,\n",
    "            \"color\": null,\n",
    "            \"category\": null,\n",
    "            \"value\": null,\n",
    "            \"limit\": 500,\n",
    "            \"visualizationType\": \"map\",\n",
    "            \"layer_id\": \"b0a8f63f-e3a3-4599-abd8-19120edd98b1\",\n",
    "            \"layer\": \"b0a8f63f-e3a3-4599-abd8-19120edd98b1\",\n",
    "            \"layers\": [\n",
    "                \"2a694289-fec9-4bfe-a6d2-56c3864ec349\",\n",
    "                \"155968b5-7c59-4065-9e3a-0a81d52d50de\",\n",
    "                \"00e688a8-086e-4206-9ea7-b47afca6913c\",\n",
    "                \"7890b4f2-502a-408b-8614-3f00e0b53ec2\"\n",
    "                  ]\n",
    "                }\n",
    "            }\n",
    "  }\n",
    "''')"
   ]
  },
  {
   "cell_type": "markdown",
   "metadata": {},
   "source": [
    "## Staging Layers OW"
   ]
  },
  {
   "cell_type": "markdown",
   "metadata": {},
   "source": [
    "# Catchment Areas and Land cover"
   ]
  },
  {
   "cell_type": "markdown",
   "metadata": {},
   "source": [
    "## Sediment Pressure"
   ]
  },
  {
   "cell_type": "code",
   "execution_count": 15,
   "metadata": {},
   "outputs": [
    {
     "data": {
      "text/plain": [
       "{'data': {'id': 'ac8fb011-b003-466e-ab5e-1ccd417bbc1d',\n",
       "  'type': 'widget',\n",
       "  'attributes': {'name': 'Sediment Pressure',\n",
       "   'dataset': 'ae3ffd82-19a8-4d7c-a974-cc6d7b512f86',\n",
       "   'slug': 'Sediment-Pressure',\n",
       "   'userId': '57a0aa1071e394dd32ffe137',\n",
       "   'description': '',\n",
       "   'source': '',\n",
       "   'authors': '',\n",
       "   'application': ['rw'],\n",
       "   'verified': False,\n",
       "   'default': False,\n",
       "   'protected': False,\n",
       "   'defaultEditableWidget': False,\n",
       "   'published': True,\n",
       "   'freeze': False,\n",
       "   'env': 'production',\n",
       "   'queryUrl': '',\n",
       "   'widgetConfig': {'lng': 4.504394531250001,\n",
       "    'lat': -28.497660832963472,\n",
       "    'zoom': 4,\n",
       "    'type': 'map',\n",
       "    'paramsConfig': {'embed': {'src': ''},\n",
       "     'band': None,\n",
       "     'areaIntersection': None,\n",
       "     'filters': [],\n",
       "     'chartType': None,\n",
       "     'aggregateFunction': None,\n",
       "     'orderBy': None,\n",
       "     'size': None,\n",
       "     'color': None,\n",
       "     'category': None,\n",
       "     'value': None,\n",
       "     'limit': 500,\n",
       "     'visualizationType': 'map',\n",
       "     'layer_id': 'c4c7b8e1-1d74-40fe-840c-e8aa185a4461',\n",
       "     'layer': 'c4c7b8e1-1d74-40fe-840c-e8aa185a4461',\n",
       "     'layers': ['c4c7b8e1-1d74-40fe-840c-e8aa185a4461',\n",
       "      '0f27b5ee-21e0-48d4-81ba-f8d33d773514',\n",
       "      '9b9fe210-f99d-452f-b5d8-9bae0b1a5ec2']}},\n",
       "   'template': False,\n",
       "   'createdAt': '2021-06-18T07:38:08.324Z',\n",
       "   'updatedAt': '2021-06-18T07:38:08.324Z'}}}"
      ]
     },
     "execution_count": 15,
     "metadata": {},
     "output_type": "execute_result"
    }
   ],
   "source": [
    "DatasetId = 'ae3ffd82-19a8-4d7c-a974-cc6d7b512f86'\n",
    "layers = ['c4c7b8e1-1d74-40fe-840c-e8aa185a4461', '0f27b5ee-21e0-48d4-81ba-f8d33d773514', '9b9fe210-f99d-452f-b5d8-9bae0b1a5ec2']\n",
    "widgetBody['name'] = \"Sediment Pressure\"\n",
    "widgetBody['widgetConfig']['paramsConfig']['layers'] = layers\n",
    "widgetBody['widgetConfig']['paramsConfig']['layer'] = layers[0]\n",
    "widgetBody['widgetConfig']['paramsConfig']['layer_id'] = layers[0]\n",
    "createWidget(DatasetId, widgetBody, 'staging')"
   ]
  },
  {
   "cell_type": "markdown",
   "metadata": {},
   "source": [
    "## Water Quality Pressure"
   ]
  },
  {
   "cell_type": "code",
   "execution_count": 16,
   "metadata": {},
   "outputs": [
    {
     "data": {
      "text/plain": [
       "{'data': {'id': '913ab9b7-5e5c-4830-a4c8-5e3b2d45db77',\n",
       "  'type': 'widget',\n",
       "  'attributes': {'name': 'Water Quality Pressure',\n",
       "   'dataset': 'f7bbc39e-81ab-4d91-be37-c12e33cd8436',\n",
       "   'slug': 'Water-Quality-Pressure',\n",
       "   'userId': '57a0aa1071e394dd32ffe137',\n",
       "   'description': '',\n",
       "   'source': '',\n",
       "   'authors': '',\n",
       "   'application': ['rw'],\n",
       "   'verified': False,\n",
       "   'default': False,\n",
       "   'protected': False,\n",
       "   'defaultEditableWidget': False,\n",
       "   'published': True,\n",
       "   'freeze': False,\n",
       "   'env': 'production',\n",
       "   'queryUrl': '',\n",
       "   'widgetConfig': {'lng': 4.504394531250001,\n",
       "    'lat': -28.497660832963472,\n",
       "    'zoom': 4,\n",
       "    'type': 'map',\n",
       "    'paramsConfig': {'embed': {'src': ''},\n",
       "     'band': None,\n",
       "     'areaIntersection': None,\n",
       "     'filters': [],\n",
       "     'chartType': None,\n",
       "     'aggregateFunction': None,\n",
       "     'orderBy': None,\n",
       "     'size': None,\n",
       "     'color': None,\n",
       "     'category': None,\n",
       "     'value': None,\n",
       "     'limit': 500,\n",
       "     'visualizationType': 'map',\n",
       "     'layer_id': '8339b4a5-b99f-4d64-8737-30f79325e106',\n",
       "     'layer': '8339b4a5-b99f-4d64-8737-30f79325e106',\n",
       "     'layers': ['8339b4a5-b99f-4d64-8737-30f79325e106',\n",
       "      'c4c7b8e1-1d74-40fe-840c-e8aa185a4461',\n",
       "      'abefb374-3355-4110-9c03-c7031f0b61b4',\n",
       "      'fe6315f7-e208-441d-9193-9dee6499b349']}},\n",
       "   'template': False,\n",
       "   'createdAt': '2021-06-18T07:39:25.735Z',\n",
       "   'updatedAt': '2021-06-18T07:39:25.735Z'}}}"
      ]
     },
     "execution_count": 16,
     "metadata": {},
     "output_type": "execute_result"
    }
   ],
   "source": [
    "DatasetId = 'f7bbc39e-81ab-4d91-be37-c12e33cd8436'\n",
    "layers = ['0f27b5ee-21e0-48d4-81ba-f8d33d773514','c4c7b8e1-1d74-40fe-840c-e8aa185a4461','abefb374-3355-4110-9c03-c7031f0b61b4','fe6315f7-e208-441d-9193-9dee6499b349']\n",
    "widgetBody['name'] = \"Water Quality Pressure\"\n",
    "widgetBody['widgetConfig']['paramsConfig']['layers'] = layers\n",
    "widgetBody['widgetConfig']['paramsConfig']['layer'] = layers[0]\n",
    "widgetBody['widgetConfig']['paramsConfig']['layer_id'] = layers[0]\n",
    "createWidget(DatasetId, widgetBody, 'staging')"
   ]
  },
  {
   "cell_type": "markdown",
   "metadata": {},
   "source": [
    "# River Water Quality"
   ]
  },
  {
   "cell_type": "markdown",
   "metadata": {},
   "source": [
    "## Sediment Pressure (type map slider)"
   ]
  },
  {
   "cell_type": "code",
   "execution_count": 30,
   "metadata": {},
   "outputs": [],
   "source": [
    "params_config = {'embed': {'src': ''},\n",
    " 'band': None,\n",
    " 'areaIntersection': None,\n",
    " 'filters': [],\n",
    " 'chartType': None,\n",
    " 'aggregateFunction': None,\n",
    " 'orderBy': None,\n",
    " 'size': None,\n",
    " 'color': None,\n",
    " 'category': None,\n",
    " 'value': None,\n",
    " 'limit': 500,\n",
    " 'visualizationType': 'map-slide',\n",
    " 'layer_id': '0f27b5ee-21e0-48d4-81ba-f8d33d773514',\n",
    " 'layer': '0f27b5ee-21e0-48d4-81ba-f8d33d773514',\n",
    " 'layerParams': {\n",
    "  '0f27b5ee-21e0-48d4-81ba-f8d33d773514': {'opacity': 0.01},\n",
    "  'f37d8246-ddb6-4dbb-a9db-715fa889a88b': {'opacity': 1},\n",
    "  '46f41568-dd10-44e8-861a-8a552a40339b': {'opacity': 1}},\n",
    " 'layersLeft': [\n",
    "  '0f27b5ee-21e0-48d4-81ba-f8d33d773514',\n",
    "  '46f41568-dd10-44e8-861a-8a552a40339b'],\n",
    " 'layersRight': [\n",
    "  'f37d8246-ddb6-4dbb-a9db-715fa889a88b',\n",
    "  '0f27b5ee-21e0-48d4-81ba-f8d33d773514'],\n",
    " 'mask': {'account': 'wri-rw',\n",
    "  'body': {'layers': [{'type': 'mapnik',\n",
    "     'options': {'sql': \"SELECT cartodb_id, the_geom_webmercator, st_intersects(the_geom, (select the_geom from gadm36_0 where {{geostore_env}} = '{{geostore_id}}')) as intersect FROM wat_068_rw0_watersheds_edit WHERE level = 3\"}}],\n",
    "   'vectorLayers': [{'filter': ['in', 'intersect', False],\n",
    "     'paint': {'fill-color': '#616161',\n",
    "      'fill-opacity': 1,\n",
    "      'fill-outline-color': '#616161'},\n",
    "     'source-layer': 'layer0',\n",
    "     'type': 'fill'},\n",
    "    {'filter': ['in', 'intersect', True],\n",
    "     'paint': {'line-color': '#ffa500', 'line-width': 1.5},\n",
    "     'source-layer': 'layer0',\n",
    "     'type': 'line'},\n",
    "    {'filter': ['in', 'intersect', True],\n",
    "     'paint': {'line-color': '#616161', 'line-width': 0.7},\n",
    "     'source-layer': 'layer0',\n",
    "     'type': 'line'}],\n",
    "   'layerType': 'vector'}}}"
   ]
  },
  {
   "cell_type": "code",
   "execution_count": 32,
   "metadata": {},
   "outputs": [
    {
     "data": {
      "text/plain": [
       "{'data': {'id': 'ab52220e-768f-4d02-93d3-feca04ff9381',\n",
       "  'type': 'widget',\n",
       "  'attributes': {'name': 'River Water Quality - Sedimet pressure Map',\n",
       "   'dataset': 'e16d6b2d-7084-4891-878c-ae47fc49da52',\n",
       "   'slug': 'River-Water-Quality-Sedimet-pressure-Map',\n",
       "   'userId': '60d1fc0d947dc2001bb5135d',\n",
       "   'description': '',\n",
       "   'source': '',\n",
       "   'authors': '',\n",
       "   'application': ['rw'],\n",
       "   'verified': False,\n",
       "   'default': False,\n",
       "   'protected': False,\n",
       "   'defaultEditableWidget': False,\n",
       "   'published': True,\n",
       "   'freeze': False,\n",
       "   'env': 'production',\n",
       "   'queryUrl': '',\n",
       "   'widgetConfig': {'lng': 4.504394531250001,\n",
       "    'lat': -28.497660832963472,\n",
       "    'zoom': 4,\n",
       "    'type': 'map',\n",
       "    'paramsConfig': {'embed': {'src': ''},\n",
       "     'band': None,\n",
       "     'areaIntersection': None,\n",
       "     'filters': [],\n",
       "     'chartType': None,\n",
       "     'aggregateFunction': None,\n",
       "     'orderBy': None,\n",
       "     'size': None,\n",
       "     'color': None,\n",
       "     'category': None,\n",
       "     'value': None,\n",
       "     'limit': 500,\n",
       "     'visualizationType': 'map-slide',\n",
       "     'layer_id': '0f27b5ee-21e0-48d4-81ba-f8d33d773514',\n",
       "     'layer': '0f27b5ee-21e0-48d4-81ba-f8d33d773514',\n",
       "     'layerParams': {'0f27b5ee-21e0-48d4-81ba-f8d33d773514': {'opacity': 0.01},\n",
       "      'f37d8246-ddb6-4dbb-a9db-715fa889a88b': {'opacity': 1},\n",
       "      '46f41568-dd10-44e8-861a-8a552a40339b': {'opacity': 1}},\n",
       "     'layersLeft': ['0f27b5ee-21e0-48d4-81ba-f8d33d773514',\n",
       "      '46f41568-dd10-44e8-861a-8a552a40339b'],\n",
       "     'layersRight': ['f37d8246-ddb6-4dbb-a9db-715fa889a88b',\n",
       "      '0f27b5ee-21e0-48d4-81ba-f8d33d773514'],\n",
       "     'mask': {'account': 'wri-rw',\n",
       "      'body': {'layers': [{'type': 'mapnik',\n",
       "         'options': {'sql': \"SELECT cartodb_id, the_geom_webmercator, st_intersects(the_geom, (select the_geom from gadm36_0 where {{geostore_env}} = '{{geostore_id}}')) as intersect FROM wat_068_rw0_watersheds_edit WHERE level = 3\"}}],\n",
       "       'vectorLayers': [{'filter': ['in', 'intersect', False],\n",
       "         'paint': {'fill-color': '#616161',\n",
       "          'fill-opacity': 1,\n",
       "          'fill-outline-color': '#616161'},\n",
       "         'source-layer': 'layer0',\n",
       "         'type': 'fill'},\n",
       "        {'filter': ['in', 'intersect', True],\n",
       "         'paint': {'line-color': '#ffa500', 'line-width': 1.5},\n",
       "         'source-layer': 'layer0',\n",
       "         'type': 'line'},\n",
       "        {'filter': ['in', 'intersect', True],\n",
       "         'paint': {'line-color': '#616161', 'line-width': 0.7},\n",
       "         'source-layer': 'layer0',\n",
       "         'type': 'line'}],\n",
       "       'layerType': 'vector'}}}},\n",
       "   'template': False,\n",
       "   'createdAt': '2021-07-26T09:32:44.660Z',\n",
       "   'updatedAt': '2021-07-26T09:32:44.660Z'}}}"
      ]
     },
     "execution_count": 32,
     "metadata": {},
     "output_type": "execute_result"
    }
   ],
   "source": [
    "DatasetId = 'e16d6b2d-7084-4891-878c-ae47fc49da52'\n",
    "widgetBody['name'] = \"River Water Quality - Sedimet pressure Map\"\n",
    "widgetBody['widgetConfig']['paramsConfig'] = params_config\n",
    "createWidget(DatasetId, widgetBody, 'staging')"
   ]
  },
  {
   "cell_type": "markdown",
   "metadata": {},
   "source": [
    "## Water Quality Pressure (type map slider)"
   ]
  },
  {
   "cell_type": "code",
   "execution_count": 33,
   "metadata": {},
   "outputs": [
    {
     "data": {
      "text/plain": [
       "{'data': {'id': 'c22b02ea-84e1-4325-8125-762188ace24a',\n",
       "  'type': 'widget',\n",
       "  'attributes': {'name': 'River Water Quality - Water quality pressure Map',\n",
       "   'dataset': 'cb75c884-7e0a-436d-89c8-c27bf6fb31dc',\n",
       "   'slug': 'River-Water-Quality-Water-quality-pressure-Map',\n",
       "   'userId': '60d1fc0d947dc2001bb5135d',\n",
       "   'description': '',\n",
       "   'source': '',\n",
       "   'authors': '',\n",
       "   'application': ['rw'],\n",
       "   'verified': False,\n",
       "   'default': False,\n",
       "   'protected': False,\n",
       "   'defaultEditableWidget': False,\n",
       "   'published': True,\n",
       "   'freeze': False,\n",
       "   'env': 'production',\n",
       "   'queryUrl': '',\n",
       "   'widgetConfig': {'lng': 4.504394531250001,\n",
       "    'lat': -28.497660832963472,\n",
       "    'zoom': 4,\n",
       "    'type': 'map',\n",
       "    'paramsConfig': {'embed': {'src': ''},\n",
       "     'band': None,\n",
       "     'areaIntersection': None,\n",
       "     'filters': [],\n",
       "     'chartType': None,\n",
       "     'aggregateFunction': None,\n",
       "     'orderBy': None,\n",
       "     'size': None,\n",
       "     'color': None,\n",
       "     'category': None,\n",
       "     'value': None,\n",
       "     'limit': 500,\n",
       "     'visualizationType': 'map-slide',\n",
       "     'layer_id': '',\n",
       "     'layer': '',\n",
       "     'layerParams': {'0f27b5ee-21e0-48d4-81ba-f8d33d773514': {'opacity': 0.01},\n",
       "      'f37d8246-ddb6-4dbb-a9db-715fa889a88b': {'opacity': 1},\n",
       "      '46f41568-dd10-44e8-861a-8a552a40339b': {'opacity': 1}},\n",
       "     'layersLeft': ['0f27b5ee-21e0-48d4-81ba-f8d33d773514',\n",
       "      '46f41568-dd10-44e8-861a-8a552a40339b'],\n",
       "     'layersRight': ['f37d8246-ddb6-4dbb-a9db-715fa889a88b',\n",
       "      '0f27b5ee-21e0-48d4-81ba-f8d33d773514'],\n",
       "     'mask': {'account': 'wri-rw',\n",
       "      'body': {'layers': [{'type': 'mapnik',\n",
       "         'options': {'sql': \"SELECT cartodb_id, the_geom_webmercator, st_intersects(the_geom, (select the_geom from gadm36_0 where {{geostore_env}} = '{{geostore_id}}')) as intersect FROM wat_068_rw0_watersheds_edit WHERE level = 3\"}}],\n",
       "       'vectorLayers': [{'filter': ['in', 'intersect', False],\n",
       "         'paint': {'fill-color': '#616161',\n",
       "          'fill-opacity': 1,\n",
       "          'fill-outline-color': '#616161'},\n",
       "         'source-layer': 'layer0',\n",
       "         'type': 'fill'},\n",
       "        {'filter': ['in', 'intersect', True],\n",
       "         'paint': {'line-color': '#ffa500', 'line-width': 1.5},\n",
       "         'source-layer': 'layer0',\n",
       "         'type': 'line'},\n",
       "        {'filter': ['in', 'intersect', True],\n",
       "         'paint': {'line-color': '#616161', 'line-width': 0.7},\n",
       "         'source-layer': 'layer0',\n",
       "         'type': 'line'}],\n",
       "       'layerType': 'vector'}},\n",
       "     'layers': ['', '', '']}},\n",
       "   'template': False,\n",
       "   'createdAt': '2021-07-26T09:40:14.688Z',\n",
       "   'updatedAt': '2021-07-26T09:40:14.688Z'}}}"
      ]
     },
     "execution_count": 33,
     "metadata": {},
     "output_type": "execute_result"
    }
   ],
   "source": [
    "DatasetId = 'cb75c884-7e0a-436d-89c8-c27bf6fb31dc'\n",
    "layersRight = [\n",
    "  '0f27b5ee-21e0-48d4-81ba-f8d33d773514',\n",
    "  'abefb374-3355-4110-9c03-c7031f0b61b4']\n",
    "layersLeft = [\n",
    "  '0f27b5ee-21e0-48d4-81ba-f8d33d773514',\n",
    "  'f065c648-7579-4034-9d6f-dd1fcbd1b550']\n",
    "layerParams = {\n",
    "  '0f27b5ee-21e0-48d4-81ba-f8d33d773514': {'opacity': 0.01},\n",
    "  'abefb374-3355-4110-9c03-c7031f0b61b4': {'opacity': 1},\n",
    "  'f065c648-7579-4034-9d6f-dd1fcbd1b550': {'opacity': 1}}\n",
    "widgetBody['name'] = \"River Water Quality - Water quality pressure Map\"\n",
    "widgetBody['widgetConfig']['paramsConfig']['layers'] = layers\n",
    "widgetBody['widgetConfig']['paramsConfig']['layer'] = layers[0]\n",
    "widgetBody['widgetConfig']['paramsConfig']['layer_id'] = layers[0]\n",
    "createWidget(DatasetId, widgetBody, 'staging')"
   ]
  },
  {
   "cell_type": "markdown",
   "metadata": {},
   "source": [
    "# Ecosystems and Pressures"
   ]
  },
  {
   "cell_type": "code",
   "execution_count": null,
   "metadata": {},
   "outputs": [],
   "source": [
    "DatasetId = ''\n",
    "layers = ['','','']\n",
    "widgetBody['name'] = \"Reduction in Life Expectancy Map\"\n",
    "widgetBody['widgetConfig']['paramsConfig']['layers'] = layers\n",
    "widgetBody['widgetConfig']['paramsConfig']['layer'] = layers[0]\n",
    "widgetBody['widgetConfig']['paramsConfig']['layer_id'] = layers[0]\n",
    "createWidget(DatasetId, widgetBody, 'staging')"
   ]
  },
  {
   "cell_type": "markdown",
   "metadata": {},
   "source": []
  },
  {
   "cell_type": "code",
   "execution_count": null,
   "metadata": {},
   "outputs": [],
   "source": []
  },
  {
   "cell_type": "markdown",
   "metadata": {},
   "source": [
    "# Values of Goods and Services"
   ]
  },
  {
   "cell_type": "markdown",
   "metadata": {},
   "source": [
    "### Tourism"
   ]
  },
  {
   "cell_type": "code",
   "execution_count": 9,
   "metadata": {},
   "outputs": [
    {
     "data": {
      "text/plain": [
       "{'data': {'id': '2a1db525-7352-4c88-a17e-5705e8860888',\n",
       "  'type': 'widget',\n",
       "  'attributes': {'name': 'Tourism',\n",
       "   'dataset': '6d377aa4-245f-425e-a3d8-e5014e3d8edf',\n",
       "   'slug': 'Tourism',\n",
       "   'userId': '60d1fc0d947dc2001bb5135d',\n",
       "   'description': '',\n",
       "   'source': '',\n",
       "   'authors': '',\n",
       "   'application': ['rw'],\n",
       "   'verified': False,\n",
       "   'default': False,\n",
       "   'protected': False,\n",
       "   'defaultEditableWidget': False,\n",
       "   'published': True,\n",
       "   'freeze': False,\n",
       "   'env': 'production',\n",
       "   'queryUrl': '',\n",
       "   'widgetConfig': {'lng': 4.504394531250001,\n",
       "    'lat': -28.497660832963472,\n",
       "    'zoom': 4,\n",
       "    'type': 'map',\n",
       "    'paramsConfig': {'embed': {'src': ''},\n",
       "     'band': None,\n",
       "     'areaIntersection': None,\n",
       "     'filters': [],\n",
       "     'chartType': None,\n",
       "     'aggregateFunction': None,\n",
       "     'orderBy': None,\n",
       "     'size': None,\n",
       "     'color': None,\n",
       "     'category': None,\n",
       "     'value': None,\n",
       "     'limit': 500,\n",
       "     'visualizationType': 'map',\n",
       "     'layer_id': 'c4c7b8e1-1d74-40fe-840c-e8aa185a4461',\n",
       "     'layer': 'c4c7b8e1-1d74-40fe-840c-e8aa185a4461',\n",
       "     'layers': ['c4c7b8e1-1d74-40fe-840c-e8aa185a4461',\n",
       "      'abefb374-3355-4110-9c03-c7031f0b61b4',\n",
       "      'd97de866-6e33-4893-ae1d-fa05703925fe']}},\n",
       "   'template': False,\n",
       "   'createdAt': '2021-08-02T18:46:48.109Z',\n",
       "   'updatedAt': '2021-08-02T18:46:48.109Z'}}}"
      ]
     },
     "execution_count": 9,
     "metadata": {},
     "output_type": "execute_result"
    }
   ],
   "source": [
    "DatasetId = '6d377aa4-245f-425e-a3d8-e5014e3d8edf'\n",
    "layers = ['c4c7b8e1-1d74-40fe-840c-e8aa185a4461','abefb374-3355-4110-9c03-c7031f0b61b4','d97de866-6e33-4893-ae1d-fa05703925fe']\n",
    "widgetBody['name'] = \"Tourism\"\n",
    "widgetBody['widgetConfig']['paramsConfig']['layers'] = layers\n",
    "widgetBody['widgetConfig']['paramsConfig']['layer'] = layers[0]\n",
    "widgetBody['widgetConfig']['paramsConfig']['layer_id'] = layers[0]\n",
    "createWidget(DatasetId, widgetBody, 'staging')"
   ]
  },
  {
   "cell_type": "markdown",
   "metadata": {},
   "source": [
    "### Fisheries (mang)"
   ]
  },
  {
   "cell_type": "code",
   "execution_count": 11,
   "metadata": {},
   "outputs": [
    {
     "data": {
      "text/plain": [
       "{'data': {'id': 'b191aed0-1f56-4273-b5f2-dd264f951f3d',\n",
       "  'type': 'widget',\n",
       "  'attributes': {'name': 'Fisheries (mang)',\n",
       "   'dataset': '10c26b23-b7cf-48fc-b5bf-dc3284fb8b1e',\n",
       "   'slug': 'Fisheries-mang',\n",
       "   'userId': '60d1fc0d947dc2001bb5135d',\n",
       "   'description': '',\n",
       "   'source': '',\n",
       "   'authors': '',\n",
       "   'application': ['rw'],\n",
       "   'verified': False,\n",
       "   'default': False,\n",
       "   'protected': False,\n",
       "   'defaultEditableWidget': False,\n",
       "   'published': True,\n",
       "   'freeze': False,\n",
       "   'env': 'production',\n",
       "   'queryUrl': '',\n",
       "   'widgetConfig': {'lng': 4.504394531250001,\n",
       "    'lat': -28.497660832963472,\n",
       "    'zoom': 4,\n",
       "    'type': 'map',\n",
       "    'paramsConfig': {'embed': {'src': ''},\n",
       "     'band': None,\n",
       "     'areaIntersection': None,\n",
       "     'filters': [],\n",
       "     'chartType': None,\n",
       "     'aggregateFunction': None,\n",
       "     'orderBy': None,\n",
       "     'size': None,\n",
       "     'color': None,\n",
       "     'category': None,\n",
       "     'value': None,\n",
       "     'limit': 500,\n",
       "     'visualizationType': 'map',\n",
       "     'layer_id': '52c01177-2aeb-400c-9171-eefef5529c66',\n",
       "     'layer': '52c01177-2aeb-400c-9171-eefef5529c66',\n",
       "     'layers': ['52c01177-2aeb-400c-9171-eefef5529c66',\n",
       "      'c4c7b8e1-1d74-40fe-840c-e8aa185a4461',\n",
       "      'd0569782-ca95-4821-853a-f8e37f77eec8']}},\n",
       "   'template': False,\n",
       "   'createdAt': '2021-08-02T18:49:39.582Z',\n",
       "   'updatedAt': '2021-08-02T18:49:39.582Z'}}}"
      ]
     },
     "execution_count": 11,
     "metadata": {},
     "output_type": "execute_result"
    }
   ],
   "source": [
    "DatasetId = '10c26b23-b7cf-48fc-b5bf-dc3284fb8b1e'\n",
    "layers = ['52c01177-2aeb-400c-9171-eefef5529c66','c4c7b8e1-1d74-40fe-840c-e8aa185a4461','d0569782-ca95-4821-853a-f8e37f77eec8']\n",
    "widgetBody['name'] = \"Fisheries (mang)\"\n",
    "widgetBody['widgetConfig']['paramsConfig']['layers'] = layers\n",
    "widgetBody['widgetConfig']['paramsConfig']['layer'] = layers[0]\n",
    "widgetBody['widgetConfig']['paramsConfig']['layer_id'] = layers[0]\n",
    "createWidget(DatasetId, widgetBody, 'staging')"
   ]
  },
  {
   "cell_type": "markdown",
   "metadata": {},
   "source": [
    "### Fisheries (coral)"
   ]
  },
  {
   "cell_type": "code",
   "execution_count": 12,
   "metadata": {},
   "outputs": [
    {
     "data": {
      "text/plain": [
       "{'data': {'id': '0d216610-b4d2-4c4e-a5d2-14f83112a2ee',\n",
       "  'type': 'widget',\n",
       "  'attributes': {'name': 'Fisheries (coral)',\n",
       "   'dataset': 'e935f438-b508-40af-b13c-e3b7f6d8651c',\n",
       "   'slug': 'Fisheries-coral',\n",
       "   'userId': '60d1fc0d947dc2001bb5135d',\n",
       "   'description': '',\n",
       "   'source': '',\n",
       "   'authors': '',\n",
       "   'application': ['rw'],\n",
       "   'verified': False,\n",
       "   'default': False,\n",
       "   'protected': False,\n",
       "   'defaultEditableWidget': False,\n",
       "   'published': True,\n",
       "   'freeze': False,\n",
       "   'env': 'production',\n",
       "   'queryUrl': '',\n",
       "   'widgetConfig': {'lng': 4.504394531250001,\n",
       "    'lat': -28.497660832963472,\n",
       "    'zoom': 4,\n",
       "    'type': 'map',\n",
       "    'paramsConfig': {'embed': {'src': ''},\n",
       "     'band': None,\n",
       "     'areaIntersection': None,\n",
       "     'filters': [],\n",
       "     'chartType': None,\n",
       "     'aggregateFunction': None,\n",
       "     'orderBy': None,\n",
       "     'size': None,\n",
       "     'color': None,\n",
       "     'category': None,\n",
       "     'value': None,\n",
       "     'limit': 500,\n",
       "     'visualizationType': 'map',\n",
       "     'layer_id': '2d5b79ae-32f7-4bef-ad38-ae9dcc6188db',\n",
       "     'layer': '2d5b79ae-32f7-4bef-ad38-ae9dcc6188db',\n",
       "     'layers': ['2d5b79ae-32f7-4bef-ad38-ae9dcc6188db',\n",
       "      '52c01177-2aeb-400c-9171-eefef5529c66',\n",
       "      'c4c7b8e1-1d74-40fe-840c-e8aa185a4461',\n",
       "      'd0569782-ca95-4821-853a-f8e37f77eec8']}},\n",
       "   'template': False,\n",
       "   'createdAt': '2021-08-02T18:56:09.042Z',\n",
       "   'updatedAt': '2021-08-02T18:56:09.042Z'}}}"
      ]
     },
     "execution_count": 12,
     "metadata": {},
     "output_type": "execute_result"
    }
   ],
   "source": [
    "DatasetId = 'e935f438-b508-40af-b13c-e3b7f6d8651c'\n",
    "layers = ['2d5b79ae-32f7-4bef-ad38-ae9dcc6188db','52c01177-2aeb-400c-9171-eefef5529c66',\n",
    "          'c4c7b8e1-1d74-40fe-840c-e8aa185a4461','d0569782-ca95-4821-853a-f8e37f77eec8']\n",
    "widgetBody['name'] = \"Fisheries (coral)\"\n",
    "widgetBody['widgetConfig']['paramsConfig']['layers'] = layers\n",
    "widgetBody['widgetConfig']['paramsConfig']['layer'] = layers[0]\n",
    "widgetBody['widgetConfig']['paramsConfig']['layer_id'] = layers[0]\n",
    "createWidget(DatasetId, widgetBody, 'staging')"
   ]
  },
  {
   "cell_type": "markdown",
   "metadata": {},
   "source": [
    "### Shoreline prot"
   ]
  },
  {
   "cell_type": "code",
   "execution_count": 14,
   "metadata": {},
   "outputs": [
    {
     "data": {
      "text/plain": [
       "{'data': {'id': 'd6331a40-57cd-40cf-9953-c966b6cb0e30',\n",
       "  'type': 'widget',\n",
       "  'attributes': {'name': 'Shoreline prot',\n",
       "   'dataset': 'cb75c884-7e0a-436d-89c8-c27bf6fb31dc',\n",
       "   'slug': 'Shoreline-prot',\n",
       "   'userId': '60d1fc0d947dc2001bb5135d',\n",
       "   'description': '',\n",
       "   'source': '',\n",
       "   'authors': '',\n",
       "   'application': ['rw'],\n",
       "   'verified': False,\n",
       "   'default': False,\n",
       "   'protected': False,\n",
       "   'defaultEditableWidget': False,\n",
       "   'published': True,\n",
       "   'freeze': False,\n",
       "   'env': 'production',\n",
       "   'queryUrl': '',\n",
       "   'widgetConfig': {'lng': 4.504394531250001,\n",
       "    'lat': -28.497660832963472,\n",
       "    'zoom': 4,\n",
       "    'type': 'map',\n",
       "    'paramsConfig': {'embed': {'src': ''},\n",
       "     'band': None,\n",
       "     'areaIntersection': None,\n",
       "     'filters': [],\n",
       "     'chartType': None,\n",
       "     'aggregateFunction': None,\n",
       "     'orderBy': None,\n",
       "     'size': None,\n",
       "     'color': None,\n",
       "     'category': None,\n",
       "     'value': None,\n",
       "     'limit': 500,\n",
       "     'visualizationType': 'map',\n",
       "     'layer_id': 'abefb374-3355-4110-9c03-c7031f0b61b4',\n",
       "     'layer': 'abefb374-3355-4110-9c03-c7031f0b61b4',\n",
       "     'layers': ['abefb374-3355-4110-9c03-c7031f0b61b4',\n",
       "      '52c01177-2aeb-400c-9171-eefef5529c66']}},\n",
       "   'template': False,\n",
       "   'createdAt': '2021-08-02T19:00:30.724Z',\n",
       "   'updatedAt': '2021-08-02T19:00:30.724Z'}}}"
      ]
     },
     "execution_count": 14,
     "metadata": {},
     "output_type": "execute_result"
    }
   ],
   "source": [
    "DatasetId = 'cb75c884-7e0a-436d-89c8-c27bf6fb31dc'\n",
    "layers = ['abefb374-3355-4110-9c03-c7031f0b61b4','52c01177-2aeb-400c-9171-eefef5529c66']\n",
    "widgetBody['name'] = \"Shoreline prot\"\n",
    "widgetBody['widgetConfig']['paramsConfig']['layers'] = layers\n",
    "widgetBody['widgetConfig']['paramsConfig']['layer'] = layers[0]\n",
    "widgetBody['widgetConfig']['paramsConfig']['layer_id'] = layers[0]\n",
    "createWidget(DatasetId, widgetBody, 'staging')"
   ]
  },
  {
   "cell_type": "markdown",
   "metadata": {},
   "source": [
    "### Blue Carbon"
   ]
  },
  {
   "cell_type": "code",
   "execution_count": 15,
   "metadata": {},
   "outputs": [
    {
     "data": {
      "text/plain": [
       "{'data': {'id': '2a054b7b-c42e-43d9-b6ad-f31fc67a82d4',\n",
       "  'type': 'widget',\n",
       "  'attributes': {'name': 'Blue Carbon',\n",
       "   'dataset': 'cb75c884-7e0a-436d-89c8-c27bf6fb31dc',\n",
       "   'slug': 'Blue-Carbon',\n",
       "   'userId': '60d1fc0d947dc2001bb5135d',\n",
       "   'description': '',\n",
       "   'source': '',\n",
       "   'authors': '',\n",
       "   'application': ['rw'],\n",
       "   'verified': False,\n",
       "   'default': False,\n",
       "   'protected': False,\n",
       "   'defaultEditableWidget': False,\n",
       "   'published': True,\n",
       "   'freeze': False,\n",
       "   'env': 'production',\n",
       "   'queryUrl': '',\n",
       "   'widgetConfig': {'lng': 4.504394531250001,\n",
       "    'lat': -28.497660832963472,\n",
       "    'zoom': 4,\n",
       "    'type': 'map',\n",
       "    'paramsConfig': {'embed': {'src': ''},\n",
       "     'band': None,\n",
       "     'areaIntersection': None,\n",
       "     'filters': [],\n",
       "     'chartType': None,\n",
       "     'aggregateFunction': None,\n",
       "     'orderBy': None,\n",
       "     'size': None,\n",
       "     'color': None,\n",
       "     'category': None,\n",
       "     'value': None,\n",
       "     'limit': 500,\n",
       "     'visualizationType': 'map',\n",
       "     'layer_id': '67b7b13f-f068-45c1-8f45-5c4147a38e69',\n",
       "     'layer': '67b7b13f-f068-45c1-8f45-5c4147a38e69',\n",
       "     'layers': ['67b7b13f-f068-45c1-8f45-5c4147a38e69',\n",
       "      'abefb374-3355-4110-9c03-c7031f0b61b4']}},\n",
       "   'template': False,\n",
       "   'createdAt': '2021-08-02T19:02:35.050Z',\n",
       "   'updatedAt': '2021-08-02T19:02:35.050Z'}}}"
      ]
     },
     "execution_count": 15,
     "metadata": {},
     "output_type": "execute_result"
    }
   ],
   "source": [
    "DatasetId = 'cb75c884-7e0a-436d-89c8-c27bf6fb31dc'\n",
    "layers = ['67b7b13f-f068-45c1-8f45-5c4147a38e69','abefb374-3355-4110-9c03-c7031f0b61b4']\n",
    "widgetBody['name'] = \"Blue Carbon\"\n",
    "widgetBody['widgetConfig']['paramsConfig']['layers'] = layers\n",
    "widgetBody['widgetConfig']['paramsConfig']['layer'] = layers[0]\n",
    "widgetBody['widgetConfig']['paramsConfig']['layer_id'] = layers[0]\n",
    "createWidget(DatasetId, widgetBody, 'staging')"
   ]
  },
  {
   "cell_type": "code",
   "execution_count": null,
   "metadata": {},
   "outputs": [],
   "source": []
  },
  {
   "cell_type": "code",
   "execution_count": null,
   "metadata": {},
   "outputs": [],
   "source": []
  },
  {
   "cell_type": "code",
   "execution_count": null,
   "metadata": {},
   "outputs": [],
   "source": []
  }
 ],
 "metadata": {
  "kernelspec": {
   "display_name": "Python 3",
   "language": "python",
   "name": "python3"
  },
  "language_info": {
   "codemirror_mode": {
    "name": "ipython",
    "version": 3
   },
   "file_extension": ".py",
   "mimetype": "text/x-python",
   "name": "python",
   "nbconvert_exporter": "python",
   "pygments_lexer": "ipython3",
   "version": "3.7.4"
  }
 },
 "nbformat": 4,
 "nbformat_minor": 5
}
