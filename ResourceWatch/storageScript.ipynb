{
 "cells": [
  {
   "cell_type": "markdown",
   "metadata": {
    "toc": "true"
   },
   "source": [
    "# Table of Contents\n",
    " <p>"
   ]
  },
  {
   "cell_type": "markdown",
   "metadata": {},
   "source": [
    "Script to connect to cloud storage upload a tif and then transfer it from storage to gee"
   ]
  },
  {
   "cell_type": "code",
   "execution_count": 110,
   "metadata": {},
   "outputs": [],
   "source": [
    "import ee\n",
    "from google.cloud import storage \n",
    "import os\n",
    "import rasterio\n",
    "\n",
    "class assetManagement(object):\n",
    "    ## Connects to bucket, upload the image and once it is ready transfers it to GEE associated collection.\n",
    "    def __init__(self,imageObject):\n",
    "        \"\"\"checks the image and sets up the properties \"\"\"\n",
    "        self.meta=imageObject\n",
    "        self.imageNames=self.getImageName()\n",
    "        self.sources = []\n",
    "        \n",
    "    def getImageName(self):\n",
    "        \"gets the listof names from sources\"\n",
    "        return [os.path.basename(name) for name in self.meta['sources']]\n",
    "    \n",
    "    def checksImages(self):\n",
    "        \"Checks the images that we will compose have the same nº bands as they are going to become one image and part of the image collection\"\n",
    "        metadata=[]\n",
    "        for image in self.meta['sources']:\n",
    "            with rasterio.open(image) as src:\n",
    "                metaData=src.meta\n",
    "                \n",
    "                assert metaData['driver'] == 'GTiff', \"Driver is not supported: {0}\".format(metaData['driver'])\n",
    "                assert metaData['count'] == len(self.meta['bandNames']), \"Nbands incorrect, expected: {0}, {1} provided\".format(metaData['count'],len(self.meta['bandNames']))\n",
    "                \n",
    "                metadata.append({'dtype': metaData['dtype'], 'driver': metaData['driver'], 'nodata': metaData['nodata'], 'nBands': metaData['count'],'crs': src.crs.to_string()})\n",
    "        \n",
    "        assert len(set([item['dtype'] for item in metadata])) == 1, \"Images list dtypes aren't compatibles. Expected: 1, {1} provided\".format(metaData['count'],len(set([item['dtype'] for item in metadata])))\n",
    "        assert len(set([item['driver'] for item in metadata])) == 1, \"Images list drivers aren't compatibles. Expected: 1, 1 provided\".format(metaData['count'],len(set([item['driver'] for item in metadata])))\n",
    "        assert len(set([item['nodata'] for item in metadata])) == 1, \"Images list nodata values aren't compatibles. Expected: 1, {1} provided\".format(metaData['count'],len(set([item['nodata'] for item in metadata])))\n",
    "        assert len(set([item['nBands'] for item in metadata])) == 1, \"Images list nBands number aren't compatibles. Expected: 1, {1} provided\".format(metaData['count'],len(set([item['nBands'] for item in metadata])))\n",
    "        assert len(set([item['crs'] for item in metadata])) == 1, \"Images list crs aren't compatibles. Expected: 1, {1} provided\".format(metaData['count'],len(set([item['crs'] for item in metadata])))       \n",
    "        return metadata[0]\n",
    "                    \n",
    "    \n",
    "    def setUpCredentials(self):\n",
    "        \"\"\"Sets up the credentials\"\"\"\n",
    "        credentials = ee.ServiceAccountCredentials(os.getenv(service_account), 'privatekey.json')\n",
    "        ee.Initialize(credentials)\n",
    "        #ee.Initialize()\n",
    "        storage_client=storage.Client.from_service_account_json('Resource Watch-da6fcba3f7f6.json')\n",
    "        return storage_client.get_bucket(self.meta['gcsBucket'])\n",
    "    \n",
    "    def uploadGCS(self, imageName):\n",
    "        \"Upload the image to google cloud storage\"\n",
    "        imageIndex = self.imageNames.index(imageName)\n",
    "        blob = self.gcsBucket.blob('{0}/{1}'.format(self.meta['collectionAsset'],imageName))\n",
    "        blob.upload_from_filename(self.meta['sources'][imageIndex])\n",
    "        blob.make_public()\n",
    "        \n",
    "        return {'primaryPath': 'gs://{gcsBucket}/{collectionName}/{imageNa}'.format(gcsBucket=self.meta['gcsBucket'],collectionName=self.meta['collectionAsset'],imageNa=imageName)}\n",
    "        \n",
    "    def transferGEE(self):\n",
    "        \"Transfers the images from google cloud storage to gee asset\"\n",
    "        task_id = ee.data.newTaskId()[0]\n",
    "        request = {\n",
    "            'id':'{collectionAsset}/{assetName}'.format(collectionAsset= self.meta['collectionAsset'],assetName =self.meta['assetName']),\n",
    "            'properties':self.meta['properties'],\n",
    "            'tilesets': [{'sources': self.sources}],\n",
    "            'pyramidingPolicy':self.meta['pyramidingPolicy'].upper(),\n",
    "            'bands':self.meta['bandNames']\n",
    "        }\n",
    "        print(request)\n",
    "        ee.data.startIngestion(task_id, request, True)\n",
    "        return task_id\n",
    "    \n",
    "    def execute(self):\n",
    "        #Checks if the images are correct\n",
    "        self.checksImages()\n",
    "        \n",
    "        #sets up credentials\n",
    "        self.gcsBucket=self.setUpCredentials()\n",
    "        \n",
    "        #Uploads file/s to GCS\n",
    "        self.sources = list(map(self.uploadGCS, self.imageNames))\n",
    "        \n",
    "        #Transfers it from GCS to GEE\n",
    "        task_id = self.transferGEE()\n",
    "        \n",
    "        print('TaskID: {0}'.format(task_id))\n",
    "        print('Status: {0}'.format(ee.data.getTaskStatus(task_id)[0]))\n",
    "        return 0\n",
    "        \n",
    "        "
   ]
  },
  {
   "cell_type": "code",
   "execution_count": 111,
   "metadata": {},
   "outputs": [],
   "source": [
    "myImage={\n",
    "    'sources':['/Users/alicia/Downloads/results%2Fhistorical%2Fdecadal_test_historical_1991_2000_hdds.tiff'],\n",
    "    'gcsBucket':'gee-image-transfer',\n",
    "    'collectionAsset':'users/Aliciaarenzana/testcollection',\n",
    "    'assetName':'t2000',\n",
    "    'bandNames':[{'id': 'R'}, {'id': 'G'}, {'id': 'B'}],\n",
    "    'pyramidingPolicy':'MODE',\n",
    "    'properties':{\n",
    "        'my_imageProperties':'to add to the collection'\n",
    "    }\n",
    "    \n",
    "}"
   ]
  },
  {
   "cell_type": "code",
   "execution_count": 112,
   "metadata": {},
   "outputs": [
    {
     "name": "stdout",
     "output_type": "stream",
     "text": [
      "{'dtype': 'float32', 'driver': 'GTiff', 'nodata': None, 'nBands': 3, 'crs': '+init=epsg:4326'}\n",
      "{'id': 'users/Aliciaarenzana/testcollection/t2000', 'properties': {'my_imageProperties': 'to add to the collection'}, 'tilesets': [{'sources': [{'primaryPath': 'gs://gee-image-transfer/users/Aliciaarenzana/testcollection/results%2Fhistorical%2Fdecadal_test_historical_1991_2000_hdds.tiff'}]}], 'pyramidingPolicy': 'MODE', 'bands': [{'id': 'R'}, {'id': 'G'}, {'id': 'B'}]}\n",
      "TaskID: DA5WIU4LFBT7L7AACGME5SBU\n",
      "Status: {'id': 'DA5WIU4LFBT7L7AACGME5SBU', 'state': 'READY', 'creation_timestamp_ms': 1514388886298, 'update_timestamp_ms': 1514388886298, 'description': 'Asset ingestion: users/Aliciaarenzana/testcollection/t2000', 'task_type': 'INGEST'}\n"
     ]
    },
    {
     "data": {
      "text/plain": [
       "0"
      ]
     },
     "execution_count": 112,
     "metadata": {},
     "output_type": "execute_result"
    }
   ],
   "source": [
    "test= assetManagement(myImage)\n",
    "print(test.checksImages())\n",
    "test.execute()"
   ]
  },
  {
   "cell_type": "markdown",
   "metadata": {},
   "source": [
    "### Upload file to google cloud storage"
   ]
  },
  {
   "cell_type": "code",
   "execution_count": 9,
   "metadata": {
    "scrolled": false
   },
   "outputs": [],
   "source": [
    "# Imports the Google Cloud client library\n",
    "\n",
    "# Instantiates a client\n",
    "storage_client = storage.Client.from_service_account_json('Resource Watch-da6fcba3f7f6.json')\n",
    "# The name for the new bucket\n",
    "bucket_name = 'gee-image-transfer'\n",
    "bucket = storage_client.get_bucket(bucket_name)\n",
    "# The upload!\n",
    "filename='test-collection/results_rcp85_30_y_test_rcp85_2021_2050_hdds.tiff'\n",
    "filepath='/Users/alicia/Downloads/results_rcp85_30_y_test_rcp85_2021_2050_hdds.tiff'\n",
    "blob = bucket.blob(filename)\n",
    "\n",
    "blob.upload_from_filename(filepath)\n",
    "blob.make_public()\n",
    "\n",
    "\n"
   ]
  },
  {
   "cell_type": "markdown",
   "metadata": {},
   "source": [
    "### Transfer file from GCS to GEE"
   ]
  },
  {
   "cell_type": "code",
   "execution_count": 7,
   "metadata": {},
   "outputs": [],
   "source": [
    "#service_account = 'my-service-account@...gserviceaccount.com'\n",
    "#credentials = ee.ServiceAccountCredentials(service_account, 'privatekey.json')\n",
    "#ee.Initialize(credentials)\n",
    "\n",
    "ee.Initialize()\n",
    "# Create task\n",
    "task_id = ee.data.newTaskId()[0]\n",
    "# Transfer from gcs to gee\n",
    "\"\"\"\n",
    "params: The object that describes the import task, which can\n",
    "        have these fields:\n",
    "          id (string) The destination asset id (e.g. users/foo/bar).\n",
    "          tilesets (array) A list of Google Cloud Storage source file paths\n",
    "            formatted like:\n",
    "              [{'sources': [\n",
    "                  {'primaryPath': 'foo.tif', 'additionalPaths': ['foo.prj']},\n",
    "                  {'primaryPath': 'bar.tif', 'additionalPaths': ['bar.prj'},\n",
    "              ]}]\n",
    "            Where path values correspond to source files' Google Cloud Storage\n",
    "            object names, e.g. 'gs://bucketname/filename.tif'\n",
    "          bands (array) An optional list of band names formatted like:\n",
    "            [{'id': 'R'}, {'id': 'G'}, {'id': 'B'}]\n",
    "            \n",
    "    ie: 'id':'users/Aliciaarenzana/testcollection/results_rcp85_30_y_test_rcp85_2021_2050_hdds',\n",
    "    'properties':{'test':'test2'},\n",
    "    'tilesets': [{'sources': [{'primaryPath': 'gs://gee-image-transfer/test-collection/results_rcp85_30_y_test_rcp85_2021_2050_hdds.tiff'}],\n",
    "                 'fileBands':[{'fileBandIndex': -1, 'maskForAllBands': True}]}],\n",
    "    'pyramidingPolicy':'MODE',\n",
    "    'missingData':5,\n",
    "    'crs':'crs',\n",
    "    'bands':[{'id': 't25','pyramidingPolicy':'','missingData':5}, {'id': 't50','pyramidingPolicy':'','missingData':5}, {'id': 't75','pyramidingPolicy':'','missingData':5}]\n",
    "\n",
    "\"\"\"\n",
    "request = {\n",
    "    'id':'users/Aliciaarenzana/testcollection/results_rcp85_30_y_test_rcp85_2021_2050_hdds',\n",
    "    'properties':{'test':'test2'},\n",
    "    'tilesets': [{'sources': [{'primaryPath': 'gs://gee-image-transfer/test-collection/results_rcp85_30_y_test_rcp85_2021_2050_hdds.tiff'}]}],\n",
    "    'pyramidingPolicy':'MODE',\n",
    "    'bands':[{'id': 't25'}, {'id': 't50'}, {'id': 't75'}]\n",
    "}\n",
    "\n",
    "ee.data.startIngestion(task_id, request, True)\n",
    "\n",
    "# setup acl properties\n"
   ]
  },
  {
   "cell_type": "code",
   "execution_count": 82,
   "metadata": {},
   "outputs": [
    {
     "name": "stdout",
     "output_type": "stream",
     "text": [
      "{'all_users_can_read': True, 'readers': [], 'writers': [], 'owners': ['alicia.arenzana@gmail.com']}\n"
     ]
    }
   ],
   "source": [
    "acl= {\n",
    "          \"all_users_can_read\" : True\n",
    "      }\n",
    "asset_id='users/Aliciaarenzana/testcollection'\n",
    "ee.data.setAssetAcl(asset_id, json.dumps(acl))\n",
    "\n",
    "print(ee.data.getAssetAcl(asset_id))"
   ]
  },
  {
   "cell_type": "code",
   "execution_count": 6,
   "metadata": {},
   "outputs": [
    {
     "name": "stdout",
     "output_type": "stream",
     "text": [
      "[<Bucket: api-backups>, <Bucket: gee-image-transfer>, <Bucket: gee-tiles>, <Bucket: nex-gddp>, <Bucket: nexgddp-tiles>, <Bucket: rw-usage-export>]\n"
     ]
    }
   ],
   "source": [
    "# List buckets\n",
    "\n",
    "buckets = list(storage_client.list_buckets())\n",
    "print(buckets)"
   ]
  }
 ],
 "metadata": {
  "kernelspec": {
   "display_name": "Python 3",
   "language": "python",
   "name": "python3"
  },
  "language_info": {
   "codemirror_mode": {
    "name": "ipython",
    "version": 3
   },
   "file_extension": ".py",
   "mimetype": "text/x-python",
   "name": "python",
   "nbconvert_exporter": "python",
   "pygments_lexer": "ipython3",
   "version": "3.6.1"
  },
  "toc": {
   "colors": {
    "hover_highlight": "#DAA520",
    "navigate_num": "#000000",
    "navigate_text": "#333333",
    "running_highlight": "#FF0000",
    "selected_highlight": "#FFD700",
    "sidebar_border": "#EEEEEE",
    "wrapper_background": "#FFFFFF"
   },
   "moveMenuLeft": true,
   "nav_menu": {
    "height": "12px",
    "width": "252px"
   },
   "navigate_menu": true,
   "number_sections": true,
   "sideBar": true,
   "threshold": "2",
   "toc_cell": true,
   "toc_section_display": "block",
   "toc_window_display": true,
   "widenNotebook": false
  },
  "varInspector": {
   "cols": {
    "lenName": 16,
    "lenType": 16,
    "lenVar": 40
   },
   "kernels_config": {
    "python": {
     "delete_cmd_postfix": "",
     "delete_cmd_prefix": "del ",
     "library": "var_list.py",
     "varRefreshCmd": "print(var_dic_list())"
    },
    "r": {
     "delete_cmd_postfix": ") ",
     "delete_cmd_prefix": "rm(",
     "library": "var_list.r",
     "varRefreshCmd": "cat(var_dic_list()) "
    }
   },
   "types_to_exclude": [
    "module",
    "function",
    "builtin_function_or_method",
    "instance",
    "_Feature"
   ],
   "window_display": false
  }
 },
 "nbformat": 4,
 "nbformat_minor": 2
}
