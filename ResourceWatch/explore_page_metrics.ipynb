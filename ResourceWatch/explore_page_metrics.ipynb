{
 "cells": [
  {
   "cell_type": "markdown",
   "metadata": {},
   "source": [
    "# Measuring Success of the New Explore Page\n",
    "\n",
    "In order to measure the success of new Explore page, the WRI came up with diff metrics.\n",
    "In particular:\n",
    "\n",
    "- Number of accounts created\n",
    "- Number of collections created"
   ]
  },
  {
   "cell_type": "code",
   "execution_count": 1,
   "metadata": {},
   "outputs": [],
   "source": [
    "import json\n",
    "import requests\n",
    "from pprint import pprint\n",
    "import getpass\n",
    "import pandas as pd\n",
    "import matplotlib.pyplot as plt\n",
    "from datetime import datetime"
   ]
  },
  {
   "cell_type": "code",
   "execution_count": 2,
   "metadata": {},
   "outputs": [],
   "source": [
    "def get_token(email):\n",
    "    api_url = 'http://api.resourcewatch.org'\n",
    "    password = getpass.getpass('Resource Watch login password:')\n",
    "\n",
    "    payload = {\n",
    "        \"email\": f\"{email}\",\n",
    "        \"password\": f\"{password}\"\n",
    "    }\n",
    "\n",
    "    url = f'{api_url}/auth/login'\n",
    "\n",
    "    headers = {'Content-Type': 'application/json'}\n",
    "\n",
    "    r = requests.post(url, data=json.dumps(payload), headers=headers)\n",
    "    \n",
    "    return r.json().get('data').get('token')"
   ]
  },
  {
   "cell_type": "code",
   "execution_count": 3,
   "metadata": {},
   "outputs": [
    {
     "name": "stdin",
     "output_type": "stream",
     "text": [
      "Resource Watch login password: ·········\n"
     ]
    }
   ],
   "source": [
    "OAUTH = get_token(email='iker.sanchez@vizzuality.com')"
   ]
  },
  {
   "cell_type": "markdown",
   "metadata": {},
   "source": [
    "### Number of accounts created"
   ]
  },
  {
   "cell_type": "code",
   "execution_count": 4,
   "metadata": {},
   "outputs": [],
   "source": [
    "#Post new dataset\n",
    "\n",
    "url = f'https://api.resourcewatch.org/auth/user?app=rw&page[number]=1&page[size]=2000\",'\n",
    "\n",
    "headers = {'Authorization': 'Bearer ' + OAUTH, 'Content-Type': 'application/json', 'Cache-Control': 'no-cache'}\n",
    "\n",
    "r = requests.get(url, headers=headers)\n",
    "\n",
    "data = pd.DataFrame(r.json().get('data'))"
   ]
  },
  {
   "cell_type": "code",
   "execution_count": 5,
   "metadata": {},
   "outputs": [],
   "source": [
    "data['nUsers'] = 1"
   ]
  },
  {
   "cell_type": "code",
   "execution_count": 6,
   "metadata": {},
   "outputs": [],
   "source": [
    "data['createdAt'] =  pd.to_datetime(data['createdAt'])"
   ]
  },
  {
   "cell_type": "code",
   "execution_count": 7,
   "metadata": {},
   "outputs": [
    {
     "data": {
      "text/html": [
       "<div>\n",
       "<style scoped>\n",
       "    .dataframe tbody tr th:only-of-type {\n",
       "        vertical-align: middle;\n",
       "    }\n",
       "\n",
       "    .dataframe tbody tr th {\n",
       "        vertical-align: top;\n",
       "    }\n",
       "\n",
       "    .dataframe thead th {\n",
       "        text-align: right;\n",
       "    }\n",
       "</style>\n",
       "<table border=\"1\" class=\"dataframe\">\n",
       "  <thead>\n",
       "    <tr style=\"text-align: right;\">\n",
       "      <th></th>\n",
       "      <th>id</th>\n",
       "      <th>email</th>\n",
       "      <th>name</th>\n",
       "      <th>photo</th>\n",
       "      <th>createdAt</th>\n",
       "      <th>updatedAt</th>\n",
       "      <th>role</th>\n",
       "      <th>extraUserData</th>\n",
       "      <th>nUsers</th>\n",
       "    </tr>\n",
       "  </thead>\n",
       "  <tbody>\n",
       "    <tr>\n",
       "      <th>0</th>\n",
       "      <td>57bc261ff098ce980079879f</td>\n",
       "      <td>andres.gnlez@gmail.com</td>\n",
       "      <td>Andrés</td>\n",
       "      <td></td>\n",
       "      <td>2017-12-04 12:03:36.928000+00:00</td>\n",
       "      <td>2019-11-12T17:23:18.131Z</td>\n",
       "      <td>USER</td>\n",
       "      <td>{'apps': ['gfw', 'prep', 'rw']}</td>\n",
       "      <td>1</td>\n",
       "    </tr>\n",
       "    <tr>\n",
       "      <th>1</th>\n",
       "      <td>57bc260ef098ce9800798660</td>\n",
       "      <td>james.harris.anderson@gmail.com</td>\n",
       "      <td>James Anderson</td>\n",
       "      <td></td>\n",
       "      <td>2018-03-07 17:23:44.964000+00:00</td>\n",
       "      <td>2020-05-11T10:43:01.265Z</td>\n",
       "      <td>USER</td>\n",
       "      <td>{'apps': ['gfw', 'rw']}</td>\n",
       "      <td>1</td>\n",
       "    </tr>\n",
       "    <tr>\n",
       "      <th>2</th>\n",
       "      <td>57bc260ff098ce980079866a</td>\n",
       "      <td>alicia.arenzana@vizzuality.com</td>\n",
       "      <td>NaN</td>\n",
       "      <td>NaN</td>\n",
       "      <td>2017-09-08 09:45:59.474000+00:00</td>\n",
       "      <td>2020-05-11T10:43:01.265Z</td>\n",
       "      <td>USER</td>\n",
       "      <td>{'apps': ['gfw', 'rw', 'prep']}</td>\n",
       "      <td>1</td>\n",
       "    </tr>\n",
       "    <tr>\n",
       "      <th>3</th>\n",
       "      <td>57bc2622f098ce98007987d6</td>\n",
       "      <td>hugozerda@gmail.com</td>\n",
       "      <td>NaN</td>\n",
       "      <td>NaN</td>\n",
       "      <td>2017-12-04 19:50:29.322000+00:00</td>\n",
       "      <td>2020-05-11T10:43:01.265Z</td>\n",
       "      <td>USER</td>\n",
       "      <td>{'apps': ['gfw', 'rw']}</td>\n",
       "      <td>1</td>\n",
       "    </tr>\n",
       "    <tr>\n",
       "      <th>4</th>\n",
       "      <td>57bc2614f098ce98007986cb</td>\n",
       "      <td>adammulligan@fastmail.fm</td>\n",
       "      <td>NaN</td>\n",
       "      <td>NaN</td>\n",
       "      <td>2018-04-11 20:24:24.205000+00:00</td>\n",
       "      <td>2020-05-11T10:43:01.265Z</td>\n",
       "      <td>USER</td>\n",
       "      <td>{'apps': ['gfw', 'rw']}</td>\n",
       "      <td>1</td>\n",
       "    </tr>\n",
       "  </tbody>\n",
       "</table>\n",
       "</div>"
      ],
      "text/plain": [
       "                         id                            email            name  \\\n",
       "0  57bc261ff098ce980079879f           andres.gnlez@gmail.com          Andrés   \n",
       "1  57bc260ef098ce9800798660  james.harris.anderson@gmail.com  James Anderson   \n",
       "2  57bc260ff098ce980079866a   alicia.arenzana@vizzuality.com             NaN   \n",
       "3  57bc2622f098ce98007987d6              hugozerda@gmail.com             NaN   \n",
       "4  57bc2614f098ce98007986cb         adammulligan@fastmail.fm             NaN   \n",
       "\n",
       "  photo                        createdAt                 updatedAt  role  \\\n",
       "0       2017-12-04 12:03:36.928000+00:00  2019-11-12T17:23:18.131Z  USER   \n",
       "1       2018-03-07 17:23:44.964000+00:00  2020-05-11T10:43:01.265Z  USER   \n",
       "2   NaN 2017-09-08 09:45:59.474000+00:00  2020-05-11T10:43:01.265Z  USER   \n",
       "3   NaN 2017-12-04 19:50:29.322000+00:00  2020-05-11T10:43:01.265Z  USER   \n",
       "4   NaN 2018-04-11 20:24:24.205000+00:00  2020-05-11T10:43:01.265Z  USER   \n",
       "\n",
       "                     extraUserData  nUsers  \n",
       "0  {'apps': ['gfw', 'prep', 'rw']}       1  \n",
       "1          {'apps': ['gfw', 'rw']}       1  \n",
       "2  {'apps': ['gfw', 'rw', 'prep']}       1  \n",
       "3          {'apps': ['gfw', 'rw']}       1  \n",
       "4          {'apps': ['gfw', 'rw']}       1  "
      ]
     },
     "execution_count": 7,
     "metadata": {},
     "output_type": "execute_result"
    }
   ],
   "source": [
    "data.head()"
   ]
  },
  {
   "cell_type": "code",
   "execution_count": 8,
   "metadata": {},
   "outputs": [
    {
     "data": {
      "text/html": [
       "<div>\n",
       "<style scoped>\n",
       "    .dataframe tbody tr th:only-of-type {\n",
       "        vertical-align: middle;\n",
       "    }\n",
       "\n",
       "    .dataframe tbody tr th {\n",
       "        vertical-align: top;\n",
       "    }\n",
       "\n",
       "    .dataframe thead th {\n",
       "        text-align: right;\n",
       "    }\n",
       "</style>\n",
       "<table border=\"1\" class=\"dataframe\">\n",
       "  <thead>\n",
       "    <tr style=\"text-align: right;\">\n",
       "      <th></th>\n",
       "      <th>createdAt</th>\n",
       "      <th>nUsers</th>\n",
       "    </tr>\n",
       "  </thead>\n",
       "  <tbody>\n",
       "    <tr>\n",
       "      <th>0</th>\n",
       "      <td>2016-08-31 00:00:00+00:00</td>\n",
       "      <td>7</td>\n",
       "    </tr>\n",
       "    <tr>\n",
       "      <th>1</th>\n",
       "      <td>2016-09-30 00:00:00+00:00</td>\n",
       "      <td>2</td>\n",
       "    </tr>\n",
       "    <tr>\n",
       "      <th>2</th>\n",
       "      <td>2016-10-31 00:00:00+00:00</td>\n",
       "      <td>0</td>\n",
       "    </tr>\n",
       "    <tr>\n",
       "      <th>3</th>\n",
       "      <td>2016-11-30 00:00:00+00:00</td>\n",
       "      <td>0</td>\n",
       "    </tr>\n",
       "    <tr>\n",
       "      <th>4</th>\n",
       "      <td>2016-12-31 00:00:00+00:00</td>\n",
       "      <td>3</td>\n",
       "    </tr>\n",
       "  </tbody>\n",
       "</table>\n",
       "</div>"
      ],
      "text/plain": [
       "                  createdAt  nUsers\n",
       "0 2016-08-31 00:00:00+00:00       7\n",
       "1 2016-09-30 00:00:00+00:00       2\n",
       "2 2016-10-31 00:00:00+00:00       0\n",
       "3 2016-11-30 00:00:00+00:00       0\n",
       "4 2016-12-31 00:00:00+00:00       3"
      ]
     },
     "execution_count": 8,
     "metadata": {},
     "output_type": "execute_result"
    }
   ],
   "source": [
    "df = data.groupby([pd.Grouper(key='createdAt', freq='M')]).sum().reset_index()\n",
    "df.head()"
   ]
  },
  {
   "cell_type": "code",
   "execution_count": 9,
   "metadata": {},
   "outputs": [
    {
     "data": {
      "image/png": "[encoded data removed]",
      "text/plain": [
       "<Figure size 720x360 with 1 Axes>"
      ]
     },
     "metadata": {
      "needs_background": "light"
     },
     "output_type": "display_data"
    }
   ],
   "source": [
    "# Create figure and plot space\n",
    "fig, ax = plt.subplots(figsize=(10, 5))\n",
    "\n",
    "dates = ['2018-04-30', '2018-10-31', '2019-05-31']\n",
    "\n",
    "for date in dates:\n",
    "    label = date[:7]\n",
    "    date = datetime.strptime(date, '%Y-%m-%d')\n",
    "    ax.plot([date, date],[0, 175], color='k', linestyle ='--', label=label)\n",
    "\n",
    "# Add x-axis and y-axis\n",
    "ax.plot(df['createdAt'],\n",
    "        df['nUsers'],\n",
    "        color='#c52469')\n",
    "\n",
    "# Set title and labels for axes\n",
    "ax.set(xlabel=\"Date\",\n",
    "       ylabel=\"# Users\",\n",
    "       title=f'New accounts created over time (total accounts = {str(len(data))})')\n",
    "\n",
    "ax.legend()\n",
    "plt.show()\n"
   ]
  },
  {
   "cell_type": "code",
   "execution_count": null,
   "metadata": {},
   "outputs": [],
   "source": []
  }
 ],
 "metadata": {
  "kernelspec": {
   "display_name": "Python 3",
   "language": "python",
   "name": "python3"
  },
  "language_info": {
   "codemirror_mode": {
    "name": "ipython",
    "version": 3
   },
   "file_extension": ".py",
   "mimetype": "text/x-python",
   "name": "python",
   "nbconvert_exporter": "python",
   "pygments_lexer": "ipython3",
   "version": "3.8.2"
  }
 },
 "nbformat": 4,
 "nbformat_minor": 4
}
