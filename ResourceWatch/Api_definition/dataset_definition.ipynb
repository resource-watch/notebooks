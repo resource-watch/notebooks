{
 "cells": [
  {
   "cell_type": "markdown",
   "metadata": {
    "collapsed": true
   },
   "source": [
    "# Dataset object definition"
   ]
  },
  {
   "cell_type": "markdown",
   "metadata": {},
   "source": [
    "** Dataset definition is well coverage on the [documentation](https://resource-watch.github.io/doc-api/#dataset)\n",
    "\n",
    "Here there is a Postman collection that covers dataset manipulation as exposed on the documentation:  \n",
    "[RW postman collection](https://www.getpostman.com/collections/5f3e83c82ad5a6066657)\n",
    "\n",
    "[subscriptions](./Subscriptions2nrt_datasets.ipynb)\n",
    "\n",
    "\n",
    "\n",
    "\n",
    "\n",
    "\n",
    "```json\n",
    "{\n",
    "\"id\": \"...\",\n",
    "\"type\": \"dataset\",\n",
    "    \"attributes\": {\n",
    "        \"name\": \"...\",\n",
    "        \"slug\": \"...\",\n",
    "        \"type\": null,\n",
    "        \"subtitle\": \"...\",\n",
    "        \"application\": [ ...],\n",
    "        \"dataPath\": null,\n",
    "        \"attributesPath\": null,\n",
    "        \"connectorType\": \"...\",\n",
    "        \"provider\": \"...\",\n",
    "        \"userId\": \"...\",\n",
    "        \"connectorUrl\": \"...\",\n",
    "        \"tableName\": \"...\",\n",
    "        \"status\": \"saved\",\n",
    "        \"published\": true,\n",
    "        \"overwrite\": false,\n",
    "        \"verified\": false,\n",
    "        \"blockchain\": {},\n",
    "        \"subscribable\": {},\n",
    "        \"env\": \"production\",\n",
    "        \"geoInfo\": true,\n",
    "        \"legend\": {\n",
    "            \"date\": [],\n",
    "            \"region\": [],\n",
    "            \"country\": []\n",
    "        },\n",
    "        \"clonedHost\": {},\n",
    "        \"errorMessage\": null,\n",
    "        \"updatedAt\": \"2017-09-04T15:34:07.127Z\",\n",
    "        \"widgetRelevantProps\": [ ...],\n",
    "        \"layerRelevantProps\": [ ...]\n",
    "    }\n",
    "},\n",
    "```"
   ]
  }
 ],
 "metadata": {
  "hide_input": false,
  "kernelspec": {
   "display_name": "Python 3",
   "language": "python",
   "name": "python3"
  },
  "language_info": {
   "codemirror_mode": {
    "name": "ipython",
    "version": 3
   },
   "file_extension": ".py",
   "mimetype": "text/x-python",
   "name": "python",
   "nbconvert_exporter": "python",
   "pygments_lexer": "ipython3",
   "version": "3.6.1"
  },
  "latex_envs": {
   "LaTeX_envs_menu_present": true,
   "autocomplete": true,
   "bibliofile": "biblio.bib",
   "cite_by": "apalike",
   "current_citInitial": 1,
   "eqLabelWithNumbers": true,
   "eqNumInitial": 1,
   "hotkeys": {
    "equation": "Ctrl-E",
    "itemize": "Ctrl-I"
   },
   "labels_anchors": false,
   "latex_user_defs": false,
   "report_style_numbering": false,
   "user_envs_cfg": false
  },
  "toc": {
   "colors": {
    "hover_highlight": "#DAA520",
    "navigate_num": "#000000",
    "navigate_text": "#333333",
    "running_highlight": "#FF0000",
    "selected_highlight": "#FFD700",
    "sidebar_border": "#EEEEEE",
    "wrapper_background": "#FFFFFF"
   },
   "moveMenuLeft": true,
   "nav_menu": {
    "height": "12px",
    "width": "252px"
   },
   "navigate_menu": true,
   "number_sections": true,
   "sideBar": true,
   "threshold": "2",
   "toc_cell": false,
   "toc_section_display": "block",
   "toc_window_display": false,
   "widenNotebook": false
  },
  "varInspector": {
   "cols": {
    "lenName": 16,
    "lenType": 16,
    "lenVar": 40
   },
   "kernels_config": {
    "python": {
     "delete_cmd_postfix": "",
     "delete_cmd_prefix": "del ",
     "library": "var_list.py",
     "varRefreshCmd": "print(var_dic_list())"
    },
    "r": {
     "delete_cmd_postfix": ") ",
     "delete_cmd_prefix": "rm(",
     "library": "var_list.r",
     "varRefreshCmd": "cat(var_dic_list()) "
    }
   },
   "types_to_exclude": [
    "module",
    "function",
    "builtin_function_or_method",
    "instance",
    "_Feature"
   ],
   "window_display": false
  }
 },
 "nbformat": 4,
 "nbformat_minor": 2
}
