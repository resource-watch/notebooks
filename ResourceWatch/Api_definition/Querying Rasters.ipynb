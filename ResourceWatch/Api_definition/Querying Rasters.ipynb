{
 "cells": [
  {
   "cell_type": "code",
   "execution_count": 1,
   "metadata": {},
   "outputs": [],
   "source": [
    "# Import another usefull things\n",
    "from IPython.display import display\n",
    "from IPython.display import Markdown\n",
    "# Import the modules\n",
    "import requests\n",
    "import json"
   ]
  },
  {
   "cell_type": "markdown",
   "metadata": {},
   "source": [
    "RW [prior work](https://docs.google.com/document/d/1Z1-vWOPv_iqa6GxJ7KKiujJ4O-jKnNu2avtXY_q8rx8/edit#)\n",
    "## Querying API\n",
    "\n",
    "##### The API is not supporting subqueries and some postgis functions in this moment. We would try to do some queries and if any is not implemented, we will do it directly to Carto"
   ]
  },
  {
   "cell_type": "code",
   "execution_count": 2,
   "metadata": {},
   "outputs": [],
   "source": [
    "#Simple query to the API\n",
    "def queryRaster(datasetId: str, query: str, geostore: str=None)-> dict:\n",
    "    try:\n",
    "        # fc8cf356-f4be-4635-a896-fb468aaaa832?sql=SELECT+ST_METADATA(rast)+FROM+users/resourcewatch/for_013_forest_landscape_restoration_opportunity\n",
    "        URL = f'https://api.resourcewatch.org/v1/query/{datasetId}'\n",
    "        params ={\n",
    "            'sql':f'{query}'\n",
    "        }\n",
    "        if geostore:\n",
    "            params['geostore']=geostore\n",
    "            \n",
    "        r = requests.get(URL, params = params)\n",
    "        r.raise_for_status()\n",
    "        return r.json()\n",
    "    except requests.exceptions.HTTPError as err:\n",
    "        print(err)"
   ]
  },
  {
   "cell_type": "markdown",
   "metadata": {},
   "source": [
    "## Raster \n",
    "### Gee image and Carto rasters Remember no joins or subqueries allowed; "
   ]
  },
  {
   "cell_type": "code",
   "execution_count": 52,
   "metadata": {},
   "outputs": [
    {
     "data": {
      "text/markdown": [
       "#### Function ST_METADATA"
      ],
      "text/plain": [
       "<IPython.core.display.Markdown object>"
      ]
     },
     "metadata": {},
     "output_type": "display_data"
    },
    {
     "data": {
      "text/plain": [
       "{'data': [{'st_metadata': {'bands': [{'dataType': {'precision': 'INT',\n",
       "       'range': {'max': 255}},\n",
       "      'grid': {'affineTransform': {'scaleX': 0.00833333333333333,\n",
       "        'scaleY': -0.00833333333333333,\n",
       "        'translateX': -180.00000000000003,\n",
       "        'translateY': 90.00000000000001},\n",
       "       'crsCode': 'EPSG:4326',\n",
       "       'dimensions': {'height': 21600, 'width': 43200}},\n",
       "      'id': 'b1',\n",
       "      'pyramidingPolicy': 'MEAN'}],\n",
       "    'geometry': {'coordinates': [[['-Infinity', '-Infinity'],\n",
       "       ['Infinity', '-Infinity'],\n",
       "       ['Infinity', 'Infinity'],\n",
       "       ['-Infinity', 'Infinity'],\n",
       "       ['-Infinity', '-Infinity']]],\n",
       "     'type': 'Polygon'},\n",
       "    'id': 'users/resourcewatch/for_013_forest_landscape_restoration_opportunity',\n",
       "    'name': 'projects/earthengine-legacy/assets/users/resourcewatch/for_013_forest_landscape_restoration_opportunity',\n",
       "    'sizeBytes': '19815070',\n",
       "    'type': 'IMAGE',\n",
       "    'updateTime': '2017-10-04T17:39:00.405273Z'}}],\n",
       " 'meta': {}}"
      ]
     },
     "execution_count": 52,
     "metadata": {},
     "output_type": "execute_result"
    }
   ],
   "source": [
    "display(Markdown('#### Function ST_METADATA'))\n",
    "queryRaster('fc8cf356-f4be-4635-a896-fb468aaaa832', \"SELECT ST_METADATA(rast) FROM 'users/resourcewatch/for_013_forest_landscape_restoration_opportunity'\")"
   ]
  },
  {
   "cell_type": "code",
   "execution_count": 53,
   "metadata": {},
   "outputs": [
    {
     "data": {
      "text/markdown": [
       "#### Function ST_BANDMETADATA"
      ],
      "text/plain": [
       "<IPython.core.display.Markdown object>"
      ]
     },
     "metadata": {},
     "output_type": "display_data"
    },
    {
     "data": {
      "text/plain": [
       "{'data': [{'st_bandmetadata': {'dataType': {'precision': 'INT',\n",
       "     'range': {'max': 255}},\n",
       "    'grid': {'affineTransform': {'scaleX': 0.00833333333333333,\n",
       "      'scaleY': -0.00833333333333333,\n",
       "      'translateX': -180.00000000000003,\n",
       "      'translateY': 90.00000000000001},\n",
       "     'crsCode': 'EPSG:4326',\n",
       "     'dimensions': {'height': 21600, 'width': 43200}},\n",
       "    'id': 'b1',\n",
       "    'pyramidingPolicy': 'MEAN'}}],\n",
       " 'meta': {}}"
      ]
     },
     "execution_count": 53,
     "metadata": {},
     "output_type": "execute_result"
    }
   ],
   "source": [
    "display(Markdown('#### Function ST_BANDMETADATA'))\n",
    "queryRaster('fc8cf356-f4be-4635-a896-fb468aaaa832', \"SELECT ST_BANDMETADATA(rast, b1) FROM 'users/resourcewatch/for_013_forest_landscape_restoration_opportunity'\")"
   ]
  },
  {
   "cell_type": "code",
   "execution_count": 54,
   "metadata": {},
   "outputs": [
    {
     "data": {
      "text/markdown": [
       "#### Function st_summarystats"
      ],
      "text/plain": [
       "<IPython.core.display.Markdown object>"
      ]
     },
     "metadata": {},
     "output_type": "display_data"
    },
    {
     "data": {
      "text/plain": [
       "{'data': [{'st_summarystats': {'b1': {'count': 100044,\n",
       "     'max': 4,\n",
       "     'mean': 1.3628535231081242,\n",
       "     'min': 0,\n",
       "     'stdev': 1.0964333119818819,\n",
       "     'sum': 135432.10980392157}}}],\n",
       " 'meta': {}}"
      ]
     },
     "execution_count": 54,
     "metadata": {},
     "output_type": "execute_result"
    }
   ],
   "source": [
    "display(Markdown('#### Function st_summarystats'))\n",
    "queryRaster('fc8cf356-f4be-4635-a896-fb468aaaa832', \"SELECT st_summarystats(rast, 1, true) FROM 'users/resourcewatch/for_013_forest_landscape_restoration_opportunity'\", '605fcf0e44c02de39fcaa7e30884be07')"
   ]
  },
  {
   "cell_type": "code",
   "execution_count": 55,
   "metadata": {},
   "outputs": [
    {
     "data": {
      "text/markdown": [
       "#### Function ST_HISTOGRAM"
      ],
      "text/plain": [
       "<IPython.core.display.Markdown object>"
      ]
     },
     "metadata": {},
     "output_type": "display_data"
    },
    {
     "data": {
      "text/plain": [
       "{'data': [{'st_histogram': {'b1': [[0, 29656.164705882355],\n",
       "     [1, 16358.619607843137],\n",
       "     [2, 47181.54509803922],\n",
       "     [3, 0],\n",
       "     [4, 6177.6]]}}],\n",
       " 'meta': {}}"
      ]
     },
     "execution_count": 55,
     "metadata": {},
     "output_type": "execute_result"
    }
   ],
   "source": [
    "display(Markdown('#### Function ST_HISTOGRAM'))\n",
    "queryRaster('fc8cf356-f4be-4635-a896-fb468aaaa832', \"SELECT ST_HISTOGRAM(rast, 1, auto, true) FROM 'users/resourcewatch/for_013_forest_landscape_restoration_opportunity'\", '605fcf0e44c02de39fcaa7e30884be07')"
   ]
  },
  {
   "cell_type": "code",
   "execution_count": 56,
   "metadata": {},
   "outputs": [
    {
     "data": {
      "text/markdown": [
       "#### Function ST_valueCount"
      ],
      "text/plain": [
       "<IPython.core.display.Markdown object>"
      ]
     },
     "metadata": {},
     "output_type": "display_data"
    },
    {
     "data": {
      "text/plain": [
       "{'data': [{'st_valuecount': {'b1': {'0': 29658,\n",
       "     '1': 16322,\n",
       "     '2': 47187,\n",
       "     '4': 6178}}}],\n",
       " 'meta': {}}"
      ]
     },
     "execution_count": 56,
     "metadata": {},
     "output_type": "execute_result"
    }
   ],
   "source": [
    "display(Markdown('#### Function ST_valueCount'))\n",
    "queryRaster('fc8cf356-f4be-4635-a896-fb468aaaa832', \"SELECT ST_valueCount(rast, 1, true) FROM 'users/resourcewatch/for_013_forest_landscape_restoration_opportunity'\", '605fcf0e44c02de39fcaa7e30884be07')"
   ]
  },
  {
   "cell_type": "markdown",
   "metadata": {},
   "source": [
    "### Image Collections"
   ]
  },
  {
   "cell_type": "markdown",
   "metadata": {},
   "source": [
    "ST_METADATA, st_SUMMARYSTATS are not supported per se; you can obtain the same results using count and count, max, mean, min, sum, stdev functions. or accessing the fields endpoint"
   ]
  },
  {
   "cell_type": "markdown",
   "metadata": {},
   "source": [
    "Supported functions based on band:  \n",
    "'avg': ee.Reducer.mean,  \n",
    "'mean': ee.Reducer.mean,  \n",
    "'max': ee.Reducer.max,  \n",
    "'min': ee.Reducer.min,  \n",
    "'var': ee.Reducer.variance,  \n",
    "'stdev': ee.Reducer.stdDev,  \n",
    "'count': ee.Reducer.count,  \n",
    "'sum': ee.Reducer.sum,  \n",
    "'mode': ee.Reducer.mode,  \n",
    "'st_histogram': ee.Reducer.autoHistogram,  \n",
    "'st_valuecount': ee.Reducer.frequencyHistogram,  \n",
    "'every': ee.Reducer.countEvery,  \n",
    "'first': ee.Reducer.first,  \n",
    "'last': ee.Reducer.last,  \n",
    "'frequency': ee.Reducer.frequencyHistogram,  \n",
    "'array_agg': ee.Reducer.toList  \n",
    "\n",
    "Capabilities to filter, reduce and aggregate based on properties."
   ]
  },
  {
   "cell_type": "markdown",
   "metadata": {},
   "source": [
    "http://api.resourcewatch.org/v1/fields/997a440a-fdb8-48c4-9eea-60619c934914"
   ]
  },
  {
   "cell_type": "code",
   "execution_count": 70,
   "metadata": {},
   "outputs": [
    {
     "data": {
      "text/markdown": [
       "#### Function st_summarystats replacement:"
      ],
      "text/plain": [
       "<IPython.core.display.Markdown object>"
      ]
     },
     "metadata": {},
     "output_type": "display_data"
    },
    {
     "data": {
      "text/plain": [
       "{'data': [{'RCP': '4.5',\n",
       "   'q25_mean': 17.010589599609375,\n",
       "   'q50_min': 17.079345703125,\n",
       "   'q75_mean': 17.116851806640625},\n",
       "  {'RCP': '4.5',\n",
       "   'q25_mean': 17.131103515625,\n",
       "   'q50_min': 17.2337646484375,\n",
       "   'q75_mean': 17.407867431640625},\n",
       "  {'RCP': '4.5',\n",
       "   'q25_mean': 17.238983154296875,\n",
       "   'q50_min': 17.408050537109375,\n",
       "   'q75_mean': 17.558563232421875},\n",
       "  {'RCP': '4.5',\n",
       "   'q25_mean': 17.380615234375,\n",
       "   'q50_min': 17.566375732421875,\n",
       "   'q75_mean': 17.704620361328125},\n",
       "  {'RCP': '4.5',\n",
       "   'q25_mean': 17.625030517578125,\n",
       "   'q50_min': 17.812835693359375,\n",
       "   'q75_mean': 17.905487060546875},\n",
       "  {'RCP': '4.5',\n",
       "   'q25_mean': 17.845703125,\n",
       "   'q50_min': 18.024505615234375,\n",
       "   'q75_mean': 18.21923828125},\n",
       "  {'RCP': '4.5',\n",
       "   'q25_mean': 17.944183349609375,\n",
       "   'q50_min': 18.10992431640625,\n",
       "   'q75_mean': 18.425750732421875},\n",
       "  {'RCP': '4.5',\n",
       "   'q25_mean': 18.03387451171875,\n",
       "   'q50_min': 18.143646240234375,\n",
       "   'q75_mean': 18.621307373046875},\n",
       "  {'RCP': '4.5',\n",
       "   'q25_mean': 18.0120849609375,\n",
       "   'q50_min': 18.1910400390625,\n",
       "   'q75_mean': 18.70947265625},\n",
       "  {'RCP': '8.5',\n",
       "   'q25_mean': 16.974945068359375,\n",
       "   'q50_min': 17.010162353515625,\n",
       "   'q75_mean': 17.139678955078125},\n",
       "  {'RCP': '8.5',\n",
       "   'q25_mean': 17.15570068359375,\n",
       "   'q50_min': 17.311859130859375,\n",
       "   'q75_mean': 17.40338134765625},\n",
       "  {'RCP': '8.5',\n",
       "   'q25_mean': 17.313323974609375,\n",
       "   'q50_min': 17.451751708984375,\n",
       "   'q75_mean': 17.627471923828125},\n",
       "  {'RCP': '8.5',\n",
       "   'q25_mean': 17.581787109375,\n",
       "   'q50_min': 17.75115966796875,\n",
       "   'q75_mean': 17.808135986328125},\n",
       "  {'RCP': '8.5',\n",
       "   'q25_mean': 17.815673828125,\n",
       "   'q50_min': 18.043731689453125,\n",
       "   'q75_mean': 18.174468994140625},\n",
       "  {'RCP': '8.5',\n",
       "   'q25_mean': 18.0738525390625,\n",
       "   'q50_min': 18.328216552734375,\n",
       "   'q75_mean': 18.536224365234375},\n",
       "  {'RCP': '8.5',\n",
       "   'q25_mean': 18.427734375,\n",
       "   'q50_min': 18.638702392578125,\n",
       "   'q75_mean': 19.110870361328125},\n",
       "  {'RCP': '8.5',\n",
       "   'q25_mean': 18.815185546875,\n",
       "   'q50_min': 19.03668212890625,\n",
       "   'q75_mean': 19.49908447265625},\n",
       "  {'RCP': '8.5',\n",
       "   'q25_mean': 19.133392333984375,\n",
       "   'q50_min': 19.475555419921875,\n",
       "   'q75_mean': 20.0343017578125}],\n",
       " 'meta': {}}"
      ]
     },
     "execution_count": 70,
     "metadata": {},
     "output_type": "execute_result"
    }
   ],
   "source": [
    "display(Markdown('#### Function st_summarystats replacement:'))\n",
    "queryRaster('997a440a-fdb8-48c4-9eea-60619c934914', \"select avg(q25), min(q50), avg(q75), 'system:index', RCP from 'projects/resource-watch-gee/cli_051_nexgddp_annual_tasmin' where ST_INTERSECTS(ST_SetSRID(ST_GeomFromGeoJSON('{\\\"type\\\":\\\"Point\\\",\\\"coordinates\\\":[-110.220,19.986]}'),4326),the_geom) GROUP BY system:index\")"
   ]
  },
  {
   "cell_type": "code",
   "execution_count": 67,
   "metadata": {},
   "outputs": [
    {
     "data": {
      "text/markdown": [
       "#### Function st_summarystats replacement:"
      ],
      "text/plain": [
       "<IPython.core.display.Markdown object>"
      ]
     },
     "metadata": {},
     "output_type": "display_data"
    },
    {
     "data": {
      "text/plain": [
       "{'data': [{'q25_mean_mean': 1.338038881996025,\n",
       "   'q50_min_min': -38.278350830078125,\n",
       "   'q75_mean_mean': 2.097723852852547}],\n",
       " 'meta': {}}"
      ]
     },
     "execution_count": 67,
     "metadata": {},
     "output_type": "execute_result"
    }
   ],
   "source": [
    "display(Markdown('#### Function st_summarystats replacement:'))\n",
    "queryRaster('997a440a-fdb8-48c4-9eea-60619c934914', \"select avg(q25), min(q50), avg(q75) from 'projects/resource-watch-gee/cli_051_nexgddp_annual_tasmin'\")"
   ]
  },
  {
   "cell_type": "code",
   "execution_count": 56,
   "metadata": {},
   "outputs": [
    {
     "data": {
      "text/markdown": [
       "#### Function st_histogram replacement:"
      ],
      "text/plain": [
       "<IPython.core.display.Markdown object>"
      ]
     },
     "metadata": {},
     "output_type": "display_data"
    },
    {
     "data": {
      "text/plain": [
       "{'data': [{'RCP': '4.5',\n",
       "   'q25': [[-38.5, 1237],\n",
       "    [-38, 618],\n",
       "    [-37.5, 619],\n",
       "    [-37, 618],\n",
       "    [-36.5, 310],\n",
       "    [-36, 927],\n",
       "    [-35.5, 619],\n",
       "    [-35, 309],\n",
       "    [-34.5, 1237],\n",
       "    [-34, 1236],\n",
       "    [-33.5, 1546],\n",
       "    [-33, 1237],\n",
       "    [-32.5, 619],\n",
       "    [-32, 619],\n",
       "    [-31.5, 928],\n",
       "    [-31, 618],\n",
       "    [-30.5, 1236],\n",
       "    [-30, 619],\n",
       "    [-29.5, 927],\n",
       "    [-29, 928],\n",
       "    [-28.5, 619],\n",
       "    [-28, 618],\n",
       "    [-27.5, 1237],\n",
       "    [-27, 6184],\n",
       "    [-26.5, 8349],\n",
       "    [-26, 1856],\n",
       "    [-25.5, 2782],\n",
       "    [-25, 2784],\n",
       "    [-24.5, 1855],\n",
       "    [-24, 927],\n",
       "    [-23.5, 619],\n",
       "    [-23, 619],\n",
       "    [-22.5, 618],\n",
       "    [-22, 1236],\n",
       "    [-21.5, 619],\n",
       "    [-21, 310],\n",
       "    [-20.5, 928],\n",
       "    [-20, 1237],\n",
       "    [-19.5, 618],\n",
       "    [-19, 618],\n",
       "    [-18.5, 309],\n",
       "    [-18, 0],\n",
       "    [-17.5, 927],\n",
       "    [-17, 0],\n",
       "    [-16.5, 929],\n",
       "    [-16, 927],\n",
       "    [-15.5, 1237],\n",
       "    [-15, 618],\n",
       "    [-14.5, 1545],\n",
       "    [-14, 309],\n",
       "    [-13.5, 1238],\n",
       "    [-13, 1547],\n",
       "    [-12.5, 618],\n",
       "    [-12, 0],\n",
       "    [-11.5, 309],\n",
       "    [-11, 928],\n",
       "    [-10.5, 619],\n",
       "    [-10, 618],\n",
       "    [-9.5, 309],\n",
       "    [-9, 618],\n",
       "    [-8.5, 928],\n",
       "    [-8, 927],\n",
       "    [-7.5, 3402],\n",
       "    [-7, 1856],\n",
       "    [-6.5, 927],\n",
       "    [-6, 1238],\n",
       "    [-5.5, 1546],\n",
       "    [-5, 1237],\n",
       "    [-4.5, 2164],\n",
       "    [-4, 2165],\n",
       "    [-3.5, 2473],\n",
       "    [-3, 1237],\n",
       "    [-2.5, 1236],\n",
       "    [-2, 1547],\n",
       "    [-1.5, 2474],\n",
       "    [-1, 3092],\n",
       "    [-0.5, 3092],\n",
       "    [0, 2163],\n",
       "    [0.5, 1548],\n",
       "    [1, 1237],\n",
       "    [1.5, 1546],\n",
       "    [2, 1236],\n",
       "    [2.5, 3402],\n",
       "    [3, 3403],\n",
       "    [3.5, 2782],\n",
       "    [4, 2474],\n",
       "    [4.5, 1236],\n",
       "    [5, 1547],\n",
       "    [5.5, 1545],\n",
       "    [6, 1238],\n",
       "    [6.5, 1545],\n",
       "    [7, 929],\n",
       "    [7.5, 927],\n",
       "    [8, 928],\n",
       "    [8.5, 1236],\n",
       "    [9, 927],\n",
       "    [9.5, 1546],\n",
       "    [10, 3094],\n",
       "    [10.5, 2472],\n",
       "    [11, 2166],\n",
       "    [11.5, 3092],\n",
       "    [12, 2473],\n",
       "    [12.5, 1237],\n",
       "    [13, 3712],\n",
       "    [13.5, 3709],\n",
       "    [14, 2475],\n",
       "    [14.5, 2473],\n",
       "    [15, 2164],\n",
       "    [15.5, 2165],\n",
       "    [16, 1855],\n",
       "    [16.5, 1856],\n",
       "    [17, 2165],\n",
       "    [17.5, 2473],\n",
       "    [18, 2474],\n",
       "    [18.5, 3711],\n",
       "    [19, 4947],\n",
       "    [19.5, 5567],\n",
       "    [20, 17316],\n",
       "    [20.5, 6493],\n",
       "    [21, 1857],\n",
       "    [21.5, 2474],\n",
       "    [22, 1547],\n",
       "    [22.5, 1236],\n",
       "    [23, 1236],\n",
       "    [23.5, 927],\n",
       "    [24, 619],\n",
       "    [24.5, 309],\n",
       "    [25, 618],\n",
       "    [25.5, 1546]]}],\n",
       " 'meta': {}}"
      ]
     },
     "execution_count": 56,
     "metadata": {},
     "output_type": "execute_result"
    }
   ],
   "source": [
    "display(Markdown('#### Function st_histogram replacement:'))\n",
    "queryRaster('997a440a-fdb8-48c4-9eea-60619c934914', \"select st_histogram(q25, auto), 'system:index', RCP from 'projects/resource-watch-gee/cli_051_nexgddp_annual_tasmin' GROUP BY system:index limit 1\")"
   ]
  },
  {
   "cell_type": "code",
   "execution_count": 55,
   "metadata": {},
   "outputs": [
    {
     "data": {
      "text/markdown": [
       "#### Function st_histogram replacement:"
      ],
      "text/plain": [
       "<IPython.core.display.Markdown object>"
      ]
     },
     "metadata": {},
     "output_type": "display_data"
    },
    {
     "name": "stdout",
     "output_type": "stream",
     "text": [
      "500 Server Error: Internal Server Error for url: https://api.resourcewatch.org/v1/query/b75d8398-34f2-447d-832d-ea570451995a?sql=select+st_histogram%28tropospheric_NO2_column_number_density%2C+auto%29+as+t+from+%27projects%2Fresource-watch-gee%2Fcit_035_tropomi_atmospheric_chemistry_model_30day_avg%2FNO2%27+where+system%3Atime_start+%3E%3D+1533448800000&geostore=605fcf0e44c02de39fcaa7e30884be07\n"
     ]
    }
   ],
   "source": [
    "display(Markdown('#### Function st_histogram replacement:'))\n",
    "\n",
    "queryRaster('b75d8398-34f2-447d-832d-ea570451995a',\n",
    "            \"select st_histogram(tropospheric_NO2_column_number_density, auto) as t from 'projects/resource-watch-gee/cit_035_tropomi_atmospheric_chemistry_model_30day_avg/NO2' where system:time_start >= 1533448800000\", \n",
    "            '605fcf0e44c02de39fcaa7e30884be07' )"
   ]
  },
  {
   "cell_type": "code",
   "execution_count": null,
   "metadata": {},
   "outputs": [],
   "source": []
  }
 ],
 "metadata": {
  "kernelspec": {
   "display_name": "Python 3",
   "language": "python",
   "name": "python3"
  },
  "language_info": {
   "codemirror_mode": {
    "name": "ipython",
    "version": 3
   },
   "file_extension": ".py",
   "mimetype": "text/x-python",
   "name": "python",
   "nbconvert_exporter": "python",
   "pygments_lexer": "ipython3",
   "version": "3.8.8"
  }
 },
 "nbformat": 4,
 "nbformat_minor": 4
}
