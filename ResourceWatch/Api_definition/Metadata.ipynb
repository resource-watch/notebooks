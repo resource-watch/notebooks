{
 "cells": [
  {
   "cell_type": "markdown",
   "metadata": {
    "toc": "true"
   },
   "source": [
    "# Table of Contents\n",
    " <p>"
   ]
  },
  {
   "cell_type": "markdown",
   "metadata": {},
   "source": [
    "```\n",
    "{\n",
    "\"language\": \"en\",\n",
    "\"name\": \"\",\n",
    "\"description\": \"\",\n",
    "\"source\": \"\",\n",
    "\"info\": {\n",
    "    \"technical_title\":\"\",\n",
    "    \"name\": \"\",\n",
    "    \"functions\": \"\",\n",
    "    \"source_organization\": \"\",\n",
    "    \"source_organization_link\":\"\",\n",
    "    \"learn_more_link\": \"\",\n",
    "    \"function\": \"\",\n",
    "    \"cautions\": \"\",\n",
    "    \"geographic_coverage\": \"\",\n",
    "    \"spatial_resolution\": \"\",\n",
    "    \"date_of_content\": \"\",\n",
    "    \"frequency_of_updates\": \"\",\n",
    "    \"data_download_link\": \"\"\n",
    "},\n",
    "\"columns\": {\n",
    "    \"<column_name>\": {\n",
    "        \"description\": \"\",\n",
    "        \"alias\": \"\",\n",
    "        \"type\":\"\"\n",
    "    },\n",
    "     \"forest_loss\": {\n",
    "        \"description\": \"defore\",\n",
    "        \"alias\": \"Forest loss\",\n",
    "        \"type\":\"categoric\"\n",
    "    },\n",
    "    \"0\": {\n",
    "        \"description\": \"defore\",\n",
    "        \"alias\": \"Forest loss\",\n",
    "        \"type\":\"categoric\"\n",
    "    },\n",
    "    ...\n",
    "    }\n",
    "}\n",
    "``` \n"
   ]
  },
  {
   "cell_type": "code",
   "execution_count": null,
   "metadata": {
    "collapsed": true
   },
   "outputs": [],
   "source": []
  }
 ],
 "metadata": {
  "kernelspec": {
   "display_name": "Python 3",
   "language": "python",
   "name": "python3"
  },
  "language_info": {
   "codemirror_mode": {
    "name": "ipython",
    "version": 3
   },
   "file_extension": ".py",
   "mimetype": "text/x-python",
   "name": "python",
   "nbconvert_exporter": "python",
   "pygments_lexer": "ipython3",
   "version": "3.6.1"
  },
  "toc": {
   "colors": {
    "hover_highlight": "#DAA520",
    "navigate_num": "#000000",
    "navigate_text": "#333333",
    "running_highlight": "#FF0000",
    "selected_highlight": "#FFD700",
    "sidebar_border": "#EEEEEE",
    "wrapper_background": "#FFFFFF"
   },
   "moveMenuLeft": true,
   "nav_menu": {
    "height": "12px",
    "width": "252px"
   },
   "navigate_menu": true,
   "number_sections": true,
   "sideBar": true,
   "threshold": "2",
   "toc_cell": true,
   "toc_section_display": "block",
   "toc_window_display": true,
   "widenNotebook": false
  },
  "varInspector": {
   "cols": {
    "lenName": 16,
    "lenType": 16,
    "lenVar": 40
   },
   "kernels_config": {
    "python": {
     "delete_cmd_postfix": "",
     "delete_cmd_prefix": "del ",
     "library": "var_list.py",
     "varRefreshCmd": "print(var_dic_list())"
    },
    "r": {
     "delete_cmd_postfix": ") ",
     "delete_cmd_prefix": "rm(",
     "library": "var_list.r",
     "varRefreshCmd": "cat(var_dic_list()) "
    }
   },
   "types_to_exclude": [
    "module",
    "function",
    "builtin_function_or_method",
    "instance",
    "_Feature"
   ],
   "window_display": false
  }
 },
 "nbformat": 4,
 "nbformat_minor": 2
}
