{
 "cells": [
  {
   "cell_type": "markdown",
   "id": "4bb0fd80",
   "metadata": {},
   "source": [
    "# RW - API management functions"
   ]
  },
  {
   "cell_type": "markdown",
   "id": "a2a5815c",
   "metadata": {},
   "source": [
    "These functions will cover the functions need to manage assets within the RW-API and will be base on the code develop for [OW migration from staging to db](https://github.com/resource-watch/notebooks/blob/develop/ResourceWatch/example_migrate_script.ipynb)"
   ]
  },
  {
   "cell_type": "code",
   "execution_count": 13,
   "id": "234a4612",
   "metadata": {},
   "outputs": [],
   "source": [
    "%run './pydantic_data_classes_rw.ipynb'"
   ]
  },
  {
   "cell_type": "code",
   "execution_count": 14,
   "id": "08ea455a",
   "metadata": {},
   "outputs": [
    {
     "name": "stdout",
     "output_type": "stream",
     "text": [
      "builtins==None\n",
      "builtins==None\n",
      "requests_toolbelt.sessions==None\n",
      "types==None\n",
      "json==2.0.9\n",
      "logging==0.5.1.2\n",
      "getpass==None\n"
     ]
    }
   ],
   "source": [
    "from requests_toolbelt import sessions\n",
    "from requests_toolbelt.auth.handler import AuthHandler\n",
    "from requests.adapters import HTTPAdapter\n",
    "from requests import Session\n",
    "from requests.packages.urllib3.util.retry import Retry\n",
    "from datetime import datetime\n",
    "\n",
    "import types\n",
    "import json\n",
    "import logging\n",
    "import getpass\n",
    "\n",
    "from pydantic import parse_obj_as\n",
    "\n",
    "logger = logging.getLogger()\n",
    "logger.setLevel(logging.INFO)\n",
    "\n",
    "print('\\n'.join(f'{module.__name__}=={getattr(module, \"__version__\", None)}' for  i, module in globals().items() if isinstance(module, types.ModuleType)))"
   ]
  },
  {
   "cell_type": "code",
   "execution_count": 15,
   "id": "48eb6529",
   "metadata": {},
   "outputs": [],
   "source": [
    "class bcolors:\n",
    "    '''\n",
    "    Color definitions for printing\n",
    "    {bcolors.color}{string}{bcolors.ENDC}\n",
    "    '''\n",
    "    HEADER = '\\033[95m'\n",
    "    OKBLUE = '\\033[94m'\n",
    "    OKCYAN = '\\033[96m'\n",
    "    OKGREEN = '\\033[92m'\n",
    "    WARNING = '\\033[93m'\n",
    "    FAIL = '\\033[91m'\n",
    "    BOLD = '\\033[1m'\n",
    "    UNDERLINE = '\\033[4m'\n",
    "    ENDC = '\\033[0m'\n"
   ]
  },
  {
   "cell_type": "code",
   "execution_count": 16,
   "id": "d6dbe61b",
   "metadata": {},
   "outputs": [],
   "source": [
    "DEFAULT_TIMEOUT = 60 # seconds\n",
    "\n",
    "class TimeoutHTTPAdapter(HTTPAdapter):\n",
    "    '''\n",
    "    \n",
    "    '''\n",
    "    def __init__(self, *args, **kwargs):\n",
    "        self.timeout = DEFAULT_TIMEOUT\n",
    "        if \"timeout\" in kwargs:\n",
    "            self.timeout = kwargs[\"timeout\"]\n",
    "            del kwargs[\"timeout\"]\n",
    "        super().__init__(*args, **kwargs)\n",
    "\n",
    "    def send(self, request, **kwargs):\n",
    "        timeout = kwargs.get(\"timeout\")\n",
    "        if timeout is None:\n",
    "            kwargs[\"timeout\"] = self.timeout\n",
    "        return super().send(request, **kwargs)"
   ]
  },
  {
   "cell_type": "code",
   "execution_count": 17,
   "id": "12160fcd",
   "metadata": {},
   "outputs": [],
   "source": [
    "def auth(session: Session):\n",
    "    '''\n",
    "    Authenticates into the RW API\n",
    "    '''\n",
    "    print(f'You are login into {bcolors.HEADER}{bcolors.BOLD}RW api{bcolors.ENDC}')\n",
    "    \n",
    "    headers = {'Content-Type': 'application/json'}\n",
    "    payload = json.dumps({ 'email': f'{input(f\"Email: \")}',\n",
    "                           'password': f'{getpass.getpass(prompt=\"Password: \")}'})\n",
    "    response = session.post('/auth/login',  headers = headers,  data = payload)\n",
    "    \n",
    "    print(f'{bcolors.OKGREEN}Successfully logged into RW api{bcolors.ENDC}')\n",
    "    \n",
    "    return response.json().get('data').get('token')"
   ]
  },
  {
   "cell_type": "code",
   "execution_count": 18,
   "id": "5ad1e6b6",
   "metadata": {},
   "outputs": [],
   "source": [
    "def rwApiSession(serverUrl: str = \"https://api.resourcewatch.org\"):\n",
    "    '''\n",
    "    Creates a sesion object for making calls to the RW api.\n",
    "    '''\n",
    "    retries = Retry(total=3, backoff_factor=1, status_forcelist=[429, 500, 502, 503, 504])\n",
    "    \n",
    "    assert_status_hook = lambda response, *args, **kwargs: response.raise_for_status()\n",
    "\n",
    "    httpsSession = sessions.BaseUrlSession(base_url = serverUrl )\n",
    "    \n",
    "    httpsSession.mount(\"https://\", TimeoutHTTPAdapter(max_retries=retries))\n",
    "    httpsSession.hooks[\"response\"] = [assert_status_hook]\n",
    "    \n",
    "    token = auth(httpsSession)\n",
    "    \n",
    "    httpsSession.headers['Authorization'] = f'Bearer {token}'\n",
    "    \n",
    "    return httpsSession"
   ]
  },
  {
   "cell_type": "code",
   "execution_count": 19,
   "id": "26d114af",
   "metadata": {},
   "outputs": [],
   "source": [
    "def copyAssetBody(asset: dict, excludeList: List[str] = ['createdAt', 'updatedAt','clonedHost',\n",
    "                                                         'errorMessage', 'taskId', 'status', 'sources',\n",
    "                                                         'userId', 'slug', 'dataset', 'layer', \n",
    "                                                         'widget', 'metadata', 'vocabulary']):\n",
    "    '''\n",
    "    Copy a body dict to a new dict excluding some keys or not defined values.\n",
    "    '''\n",
    "    response = {}\n",
    "    response.update(asset)\n",
    "    \n",
    "    for key, value in asset.items():\n",
    "        if (key in excludeList or value is None or (type(value) == dict and len(value) == 0) ):\n",
    "            response.pop(key, None)\n",
    "    \n",
    "    if 'provider' in response.keys() and response['provider'] =='cartodb':\n",
    "        response.pop('tableName', None)\n",
    "    \n",
    "    return response"
   ]
  },
  {
   "cell_type": "code",
   "execution_count": 20,
   "id": "425b8c49",
   "metadata": {},
   "outputs": [],
   "source": [
    "def getApiResource(session: Session, url: str, payload: dict, \n",
    "                resourceType: Union[List[APIRESOURCE], APIRESOURCE],\n",
    "                pagination: bool = False\n",
    "                ) -> Union[List[APIRESOURCE], APIRESOURCE]:\n",
    "    '''\n",
    "    Gets an API resource from the selected env or from the \n",
    "    constrained dataset list for our needs we will ignore \n",
    "    other include than layer.\n",
    "\n",
    "    Parameters\n",
    "    ----------\n",
    "    session : Session object, Session object for making \n",
    "              requests to the RW api\n",
    "    url : str, url to the api resource\n",
    "    payload : dict, payload to be sent to the api\n",
    "    resourceType : Union[List[APIRESOURCE], APIRESOURCE], \n",
    "                type of resource to be returned\n",
    "    pagination : bool, if True returns a list of resources\n",
    "\n",
    "    Returns\n",
    "    -------\n",
    "    Union[List[APIRESOURCE], APIRESOURCE], list of resources\n",
    "    or a single resource\n",
    "\n",
    "    '''\n",
    "    response: Union[List[dict], dict]\n",
    "    \n",
    "    data = session.get(url, params=payload).json()\n",
    "    \n",
    "    response = data.get('data').copy()\n",
    "    \n",
    "    # If pagination is needed we will access the data chunk by chunk\n",
    "    if data.get('meta',{}).get('total-pages',0) > 1 and pagination:\n",
    "        for n in range(2, data['meta']['total-pages'] + 1):\n",
    "            payload['page[number]'] = n\n",
    "            response.extend(session.get(url, params=payload)\n",
    "                                   .json()\n",
    "                                   .get('data'))\n",
    "    \n",
    "    return parse_obj_as(resourceType, response)\n",
    "    "
   ]
  },
  {
   "cell_type": "code",
   "execution_count": 21,
   "id": "8be32c1e",
   "metadata": {},
   "outputs": [],
   "source": [
    "def getAssetList(session: Session, application: List[APPLICATION] = ['rw'], \n",
    "                 env: ENVIRONMENT = 'production', \n",
    "                 includes: List[INCLUDES] = 'layer') -> List[Dataset]:\n",
    "    '''\n",
    "    Gets a list of assets from the selected env or from the constrained dataset list\n",
    "    For our needs we will ignore other includer than layer.\n",
    "    '''\n",
    "    url = '/v1/dataset'\n",
    "    payload={\n",
    "        'env': env,\n",
    "        'application':application,\n",
    "        'status':'saved',\n",
    "        'includes': includes,\n",
    "        'page[size]':100\n",
    "    }\n",
    "    \n",
    "    return getApiResource(session, url, payload, List[Dataset])"
   ]
  },
  {
   "cell_type": "code",
   "execution_count": 22,
   "id": "8a6edde5",
   "metadata": {},
   "outputs": [],
   "source": [
    "def getLayerList(session: Session):\n",
    "    '''\n",
    "    Gets a list of assets from the selected env or from the layers.\n",
    "    '''\n",
    "    url = '/v1/layer'\n",
    "    payload={\n",
    "        'env':'production',\n",
    "        'application':'rw',\n",
    "        'status':'saved',\n",
    "        'page[size]':100\n",
    "    }\n",
    "    \n",
    "    return getApiResource(session, url, payload, List[Layer])"
   ]
  },
  {
   "cell_type": "code",
   "execution_count": 23,
   "id": "7faafdc5",
   "metadata": {},
   "outputs": [],
   "source": [
    "def getWidgetList(session: Session):\n",
    "    '''\n",
    "    Gets a list of assets from the selected env or from the layers.\n",
    "    '''\n",
    "    url = '/v1/widget'\n",
    "    payload={\n",
    "        'env':'production',\n",
    "        'application':'rw',\n",
    "        'status':'saved',\n",
    "        'page[size]':100\n",
    "    }\n",
    "    \n",
    "    return getApiResource(session, url, payload, List[Widget])"
   ]
  },
  {
   "cell_type": "code",
   "execution_count": 24,
   "id": "cef5daeb",
   "metadata": {},
   "outputs": [],
   "source": [
    "def backupAssets(session: Session, env: ENVIRONMENT = 'prod'):\n",
    "    '''\n",
    "    save a backup of production data just in case we need to recreate it again\n",
    "    '''\n",
    "    data = getAssetList(session)\n",
    "\n",
    "    with open(f'RW_{env}_backup_{datetime.now().strftime(\"%Y%m%d-%H%M%S\")}.json', 'w') as outfile:\n",
    "        json.dump(data, outfile)"
   ]
  },
  {
   "cell_type": "code",
   "execution_count": 25,
   "id": "7160a051",
   "metadata": {},
   "outputs": [],
   "source": [
    "def createOrUpdatedataset(session: Session, dataset: Dataset, toEnv: ENVIRONMENT = 'staging', \n",
    "                          destinationDatasetId: Optional[Union[UUID, None]] = None):\n",
    "    '''\n",
    "    Copy the dataset from one env to the other\n",
    "    '''\n",
    "    if dataset.get('type')!='dataset':\n",
    "        return None\n",
    "    \n",
    "    baseDatasetUrl = f'/v1/dataset'\n",
    "\n",
    "    body = {'dataset': copyAssetBody(dataset.get('attributes'))}\n",
    "    \n",
    "    logger.debug(body)\n",
    "    \n",
    "    # Upsert operation\n",
    "    if destinationDatasetId: \n",
    "        return session.patch(f'{baseDatasetUrl}/{destinationDatasetId}',json = body['dataset']).json()\n",
    "    else:\n",
    "        return session.post(baseDatasetUrl, body['dataset']).json()"
   ]
  },
  {
   "cell_type": "code",
   "execution_count": 26,
   "id": "8e133649",
   "metadata": {},
   "outputs": [],
   "source": [
    "def createOrUpdateLayer(session: Session, datasetId: UUID, layer: Layer, \n",
    "                        toEnv: ENVIRONMENT = 'staging', destinationLayerId: Optional[Union[UUID, None]] = None):\n",
    "    '''\n",
    "    Copy the layer from one env to the other\n",
    "    '''\n",
    "    if layer.get('type')!='layer':\n",
    "        return None\n",
    "    baseDatasetUrl = f'/v1/dataset/{datasetId}/layer'\n",
    "\n",
    "    body = copyAssetBody(layer.get('attributes'))\n",
    "    \n",
    "    logger.debug(body)\n",
    "    \n",
    "    # Upsert operation\n",
    "    if destinationLayerId: \n",
    "        return session.patch(f'{baseDatasetUrl}/{destinationLayerId}', json = body['dataset']).json()\n",
    "    else:\n",
    "        return session.post(baseDatasetUrl, body['dataset']).json()"
   ]
  }
 ],
 "metadata": {
  "kernelspec": {
   "display_name": "Python 3 (ipykernel)",
   "language": "python",
   "name": "python3"
  },
  "language_info": {
   "codemirror_mode": {
    "name": "ipython",
    "version": 3
   },
   "file_extension": ".py",
   "mimetype": "text/x-python",
   "name": "python",
   "nbconvert_exporter": "python",
   "pygments_lexer": "ipython3",
   "version": "3.9.10"
  }
 },
 "nbformat": 4,
 "nbformat_minor": 5
}
