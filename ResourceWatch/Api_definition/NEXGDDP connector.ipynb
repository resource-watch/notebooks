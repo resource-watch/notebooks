{
 "cells": [
  {
   "cell_type": "markdown",
   "metadata": {
    "toc": "true"
   },
   "source": [
    "# Table of Contents\n",
    " <p><div class=\"lev1 toc-item\"><a href=\"#User-story\" data-toc-modified-id=\"User-story-1\"><span class=\"toc-item-num\">1&nbsp;&nbsp;</span>User story</a></div><div class=\"lev1 toc-item\"><a href=\"#Dataset-creation:\" data-toc-modified-id=\"Dataset-creation:-2\"><span class=\"toc-item-num\">2&nbsp;&nbsp;</span>Dataset creation:</a></div><div class=\"lev2 toc-item\"><a href=\"#Example-dataset-we-are-working-with:\" data-toc-modified-id=\"Example-dataset-we-are-working-with:-21\"><span class=\"toc-item-num\">2.1&nbsp;&nbsp;</span>Example dataset we are working with:</a></div><div class=\"lev1 toc-item\"><a href=\"#Queries-availables-through-the-query-api\" data-toc-modified-id=\"Queries-availables-through-the-query-api-3\"><span class=\"toc-item-num\">3&nbsp;&nbsp;</span>Queries availables through the query api</a></div><div class=\"lev2 toc-item\"><a href=\"#selected-point-table-view-of-all-variables-columns-\" data-toc-modified-id=\"selected-point-table-view-of-all-variables-columns--31\"><span class=\"toc-item-num\">3.1&nbsp;&nbsp;</span>Selected point table view of all variables (columns)</a></div><div class=\"lev2 toc-item\"><a href=\"#selected-point-table-view-of-selected-columns-filtering-by-date\" data-toc-modified-id=\"selected-point-table-view-of-selected-columns-filtering-by-date-32\"><span class=\"toc-item-num\">3.2&nbsp;&nbsp;</span>Selected point table view of selected columns filtering by date</a></div><div class=\"lev2 toc-item\"><a href=\"#selected-point-min-and-max-year-available\" data-toc-modified-id=\"selected-point-min-and-max-year-available-33\"><span class=\"toc-item-num\">3.3&nbsp;&nbsp;</span>Selected point min and max year available</a></div><div class=\"lev2 toc-item\"><a href=\"#selected-point-agg-statistics-for-selected-columns\" data-toc-modified-id=\"selected-point-agg-statistics-for-selected-columns-34\"><span class=\"toc-item-num\">3.4&nbsp;&nbsp;</span>Selected point agg statistics for selected columns</a></div><div class=\"lev2 toc-item\"><a href=\"#histograms-range-of-years\" data-toc-modified-id=\"histograms-range-of-years-35\"><span class=\"toc-item-num\">3.5&nbsp;&nbsp;</span>Histograms: range of years</a></div>"
   ]
  },
  {
   "cell_type": "code",
   "execution_count": 1,
   "metadata": {
    "collapsed": true
   },
   "outputs": [],
   "source": [
    "import requests\n",
    "import json\n",
    "import pandas as pd \n",
    "from pprint import pprint\n",
    "from IPython.display import display, Markdown, HTML\n",
    "import matplotlib.pyplot as plt\n",
    "from numpy import arange"
   ]
  },
  {
   "cell_type": "code",
   "execution_count": 17,
   "metadata": {
    "collapsed": true
   },
   "outputs": [],
   "source": [
    "prod_env= 'https://api.resourcewatch.org'\n",
    "staging_env='https://staging-api.globalforestwatch.org'\n",
    "api_post= prod_env + '/v1/{endpoint}'\n",
    "api_baseurl= prod_env + '/v1/{endpoint}/{dataset_id}'\n",
    "\n",
    "def query(sql, dataset_id, geostore):\n",
    "    display(Markdown(\">#### Sql applied:  \"))\n",
    "    display(Markdown(\">>```sql {0}  ```\".format(sql)))\n",
    "    payload = {\"sql\": sql,\n",
    "              \"geostore\": geostore,\n",
    "              \"geoagg\": \"max\"}\n",
    "    r = requests.get(api_baseurl.format(endpoint='query',dataset_id=dataset_id), params=payload)\n",
    "    if r.status_code != 200:\n",
    "        return print(r.json())\n",
    "    else:\n",
    "        return pd.read_json(json.dumps(r.json()['data']), orient='records')"
   ]
  },
  {
   "cell_type": "markdown",
   "metadata": {},
   "source": [
    "# User story"
   ]
  },
  {
   "cell_type": "markdown",
   "metadata": {},
   "source": [
    "#### Dataset creation\n",
    "* User should be able to create nexgddp datasets - as many as needed. (different time aggregation level, scenarios and models)\n",
    "\n",
    "#### Widget editor:  \n",
    "* User should be able to select a point in space (latitude + longitude). In the future we will allow to select a bounding box (in which case user needs to select the type of aggregation)\n",
    "* User can filter the range of years from the available years. Available years will be implemented in the /fields response\n",
    "* User can select type of chart (line or bar) and display it. Years should be ordered asc by default\n",
    "* User has the Category, Value and Filters option (no order, no limit). \n",
    "* User can save the widget and embed it elsewhere\n",
    "\n",
    "****Once Bounding Box selection is implemented:*** User can select different aggregation functions over the original data: avg, min, max, std, plus st_histogram and temporal series.\n",
    "\n",
    "#### Layers creation, edition and visualization.\n",
    "* Layer definition:\n",
    "    - Users should be able to choose an indicator, a year or a set of precalculated temporal agregations like temperature change in the last 20 years or the average precipitation expected under rcp45 scenario in the period 2020-2050.\n",
    "    - Users should be able to style their layers; Changing coloring ramp and values.\n",
    " \n",
    "* Layer Creation and visualization\n",
    "    - Define layer config so users are able to add it to the layer creation step in the backoffice.\n",
    "    - Tilelive for visualizing it so users can see them: `https://api.resourcewatch.org/v1/layer/<layer_id>/tile/nexgddp/{z}/{x}/{y}` \n",
    "    - Add the new specification in the front so users are able to visualize the layer in the explore pages of prep and rw\n",
    "* Add interactivity so users are able to click on any part of the map an get back and infowindow with the value of the point selected.\n",
    "\n",
    "\n",
    "*[Source document](https://docs.google.com/document/d/1psuVjlVYmgUx7ba_1B9aUw5VuNtP3zp8dERPgExV098/edit?ts=59c0e980)*"
   ]
  },
  {
   "cell_type": "markdown",
   "metadata": {
    "heading_collapsed": true
   },
   "source": [
    "# Dataset creation:\n",
    "\n",
    "```json\n",
    "{\n",
    "    \"connectorType\":\"rest\",\n",
    "    \"provider\":\"nexgddp\",\n",
    "    \"tableName\": \"historical/ACCESS1_0\"\n",
    "    \"application\":[\n",
    "     \"rw\"\n",
    "    ],\n",
    "    \"name\":\"Nexgddp\"\n",
    "    ...\n",
    "}\n",
    "```\n",
    "Dataset aggregated by year. The table name will be the `<scenario/model>` all in lowercase and `_` istead of `-`.  \n",
    "F.E: `historical/access1_0`\n",
    "\n",
    "### List of scenarios\n",
    "* historical\n",
    "* rcp45\n",
    "* rcp85\n",
    "\n",
    "### List of models available\n",
    "* ACCESS1-0 \n",
    "* CSIRO-MK3-6-0 \n",
    "* MIROC-ESM\n",
    "* BCC-CSM1-1 \n",
    "* GFDL-CM3 \n",
    "* MIROC-ESM-CHEM\n",
    "* BNU-ESM \n",
    "* GFDL-ESM2G \n",
    "* MIROC5\n",
    "* CanESM2 \n",
    "* GFDL-ESM2M \n",
    "* MPI-ESM-LR\n",
    "* CCSM4 \n",
    "* INMCM4 \n",
    "* MPI-ESM-MR\n",
    "* CESM1-BGC \n",
    "* IPSL-CM5A-LR \n",
    "* MRI-CGCM3\n",
    "* CNRM-CM5 \n",
    "* IPSL-CM5A-MR \n",
    "* NorESM1-M\n"
   ]
  },
  {
   "cell_type": "markdown",
   "metadata": {
    "hidden": true
   },
   "source": [
    "### Columns description"
   ]
  },
  {
   "cell_type": "markdown",
   "metadata": {
    "hidden": true
   },
   "source": [
    "|column name| name| units|\n",
    "|---|                                            ---|---|\n",
    "|tmax| Daily maximum temperature                    | K|  \n",
    "|tmin| Daily minimum temperature                    | K|  \n",
    "|tavg| Daily average temperature                    | K|  \n",
    "|tmax90F| Annual number of days > 90F               | Days|  \n",
    "|tmax95F| Annual number of days > 95F               | Days|  \n",
    "|tmax100F| Annual number of days > 100F             | Days|  \n",
    "|icing_days| Annual number of icing days            | Days|  \n",
    "|frost_days| Annual number of frost days            | Days|  \n",
    "|pr2in| Annual number of days > 2 inches            | Days|  \n",
    "|pr3in| Annual number of days > 3 inches            | Days|  \n",
    "|pr4in| Annual number of days > 4 inches            | Days|  \n",
    "|tmax5day| Annual highest 5-day maximum temperature | F|  \n",
    "|tmin5day| Annual lowest 5-day minimum temperature  | F|  \n",
    "|tmax99p| Threshold tmax value for 99th percentile  | K|  \n",
    "|tmax1p| Threshold tmax value for 1st percentile    | K|  \n",
    "|tmin99p| Threshold tmin value for 99th percentile  | K|  \n",
    "|tmin1p| Threshold tmin value for 1st percentile    | K|  \n",
    "|pr99p| Threshold pr value for 99th percentile      | K|  \n",
    "|pr1p| Threshold pr value for 1st percentile        | K|  \n",
    "|prmax1day| Annual maximum 1-day precipitation      | mm|  \n",
    "|cdd| Cooling degree days                           | F|  \n",
    "|hdd| Heating degree days                           | F|  \n"
   ]
  },
  {
   "cell_type": "markdown",
   "metadata": {
    "hidden": true
   },
   "source": [
    "## Example dataset we are working with:"
   ]
  },
  {
   "cell_type": "code",
   "execution_count": 13,
   "metadata": {
    "hidden": true
   },
   "outputs": [
    {
     "name": "stdout",
     "output_type": "stream",
     "text": [
      "{'data': {'attributes': {'application': ['prep', 'rw'],\n",
      "                         'attributesPath': None,\n",
      "                         'blockchain': {},\n",
      "                         'clonedHost': {},\n",
      "                         'connectorType': 'rest',\n",
      "                         'connectorUrl': '',\n",
      "                         'dataPath': None,\n",
      "                         'env': 'production',\n",
      "                         'errorMessage': None,\n",
      "                         'geoInfo': True,\n",
      "                         'layerRelevantProps': [],\n",
      "                         'legend': {'country': [], 'date': [], 'region': []},\n",
      "                         'name': 'nexgddp-historical-ACCESS1_0',\n",
      "                         'overwrite': False,\n",
      "                         'provider': 'nexgddp',\n",
      "                         'published': True,\n",
      "                         'slug': 'nexgddp-historical-ACCESS1_0',\n",
      "                         'status': 'saved',\n",
      "                         'subtitle': None,\n",
      "                         'tableName': 'historical/ACCESS1_0',\n",
      "                         'type': 'tabular',\n",
      "                         'updatedAt': '2017-09-21T10:20:41.771Z',\n",
      "                         'userId': '5890618d35c8259767ed3855',\n",
      "                         'verified': False,\n",
      "                         'widgetRelevantProps': []},\n",
      "          'id': '5e11f2ae-77e8-4f1a-bd28-ad9e4ec97f01',\n",
      "          'type': 'dataset'}}\n"
     ]
    }
   ],
   "source": [
    "dataset_id='5e11f2ae-77e8-4f1a-bd28-ad9e4ec97f01'\n",
    "geojson={\"type\":\"FeatureCollection\",\"features\":[{\"type\":\"Feature\",\"properties\":{},\"geometry\":{\"type\":\"Point\",\"coordinates\":[-3.6749267578125,40.43858586704331]}}]}\n",
    "\n",
    "r = requests.get(api_baseurl.format(endpoint='dataset',dataset_id=dataset_id))\n",
    "pprint(r.json())    "
   ]
  },
  {
   "cell_type": "code",
   "execution_count": 14,
   "metadata": {
    "hidden": true
   },
   "outputs": [
    {
     "data": {
      "text/markdown": [
       "> #### Geojson to display:  \n",
       "\n",
       ">> ```json \n",
       "{'type': 'FeatureCollection', 'features': [{'type': 'Feature', 'properties': {}, 'geometry': {'type': 'Point', 'coordinates': [-3.6749267578125, 40.43858586704331]}}]} \n",
       "```"
      ],
      "text/plain": [
       "<IPython.core.display.Markdown object>"
      ]
     },
     "metadata": {},
     "output_type": "display_data"
    },
    {
     "data": {
      "text/markdown": [
       "> ### Geostore creation:  "
      ],
      "text/plain": [
       "<IPython.core.display.Markdown object>"
      ]
     },
     "metadata": {},
     "output_type": "display_data"
    },
    {
     "name": "stdout",
     "output_type": "stream",
     "text": [
      "{'data': {'attributes': {'areaHa': 0,\n",
      "                         'bbox': [-3.6749267578125,\n",
      "                                  40.43858586704331,\n",
      "                                  -3.6749267578125,\n",
      "                                  40.43858586704331],\n",
      "                         'geojson': {'crs': {},\n",
      "                                     'features': [{'geometry': {'coordinates': [-3.6749267578125,\n",
      "                                                                                40.43858586704331],\n",
      "                                                                'type': 'Point'},\n",
      "                                                   'type': 'Feature'}],\n",
      "                                     'type': 'FeatureCollection'},\n",
      "                         'hash': 'e669023a10c35364e0b1780c181bd06b',\n",
      "                         'lock': False,\n",
      "                         'provider': {}},\n",
      "          'id': 'e669023a10c35364e0b1780c181bd06b',\n",
      "          'type': 'geoStore'}}\n"
     ]
    }
   ],
   "source": [
    "payload = {\"geojson\":geojson}\n",
    "r = requests.post(api_post.format(endpoint='geostore'),json=payload)\n",
    "geostore=r.json()['data']['id']\n",
    "\n",
    "display(Markdown(\"\"\"> #### Geojson to display:  \n",
    "\n",
    ">> ```json \n",
    "{0} \n",
    "```\"\"\".format(geojson)))\n",
    "display(Markdown(\"> ### Geostore creation:  \"))\n",
    "pprint(r.json())"
   ]
  },
  {
   "cell_type": "code",
   "execution_count": 15,
   "metadata": {
    "hidden": true
   },
   "outputs": [
    {
     "data": {
      "text/markdown": [
       "> ### Dataset fields metadata: "
      ],
      "text/plain": [
       "<IPython.core.display.Markdown object>"
      ]
     },
     "metadata": {},
     "output_type": "display_data"
    },
    {
     "name": "stdout",
     "output_type": "stream",
     "text": [
      "{'fields': {'cdd': {'type': 'number', 'uom': '10^0'},\n",
      "            'cwd': {'type': 'number', 'uom': '10^0'},\n",
      "            'frost_days': {'type': 'number', 'uom': '10^0'},\n",
      "            'icing_days': {'type': 'number', 'uom': '10^0'},\n",
      "            'pr1p': {'type': 'number', 'uom': '10^0'},\n",
      "            'pr2in': {'type': 'number', 'uom': '10^0'},\n",
      "            'pr3in': {'type': 'number', 'uom': '10^0'},\n",
      "            'pr4in': {'type': 'number', 'uom': '10^0'},\n",
      "            'pr99p': {'type': 'number', 'uom': '10^0'},\n",
      "            'prmaxday': {'type': 'number', 'uom': '10^0'},\n",
      "            'tmax100F': {'type': 'number', 'uom': '10^0'},\n",
      "            'tmax1p': {'type': 'number', 'uom': '10^0'},\n",
      "            'tmax5day': {'type': 'number', 'uom': '10^0'},\n",
      "            'tmax90F': {'type': 'number', 'uom': '10^0'},\n",
      "            'tmax95F': {'type': 'number', 'uom': '10^0'},\n",
      "            'tmax99p': {'type': 'number', 'uom': '10^0'},\n",
      "            'tmin1p': {'type': 'number', 'uom': '10^0'},\n",
      "            'tmin5day': {'type': 'number', 'uom': '10^0'},\n",
      "            'tmin99p': {'type': 'number', 'uom': '10^0'},\n",
      "            'year': {'type': 'date'}},\n",
      " 'tableName': 'historical/ACCESS1_0'}\n"
     ]
    }
   ],
   "source": [
    "r = requests.get(api_baseurl.format(endpoint='fields',dataset_id=dataset_id))\n",
    "display(Markdown(\"> ### Dataset fields metadata: \"))\n",
    "pprint(r.json())"
   ]
  },
  {
   "cell_type": "code",
   "execution_count": 16,
   "metadata": {
    "hidden": true
   },
   "outputs": [
    {
     "data": {
      "text/markdown": [
       "> ### Geostore"
      ],
      "text/plain": [
       "<IPython.core.display.Markdown object>"
      ]
     },
     "metadata": {},
     "output_type": "display_data"
    },
    {
     "name": "stdout",
     "output_type": "stream",
     "text": [
      "{'data': {'attributes': {'areaHa': 0,\n",
      "                         'bbox': [-3.6749267578125,\n",
      "                                  40.43858586704331,\n",
      "                                  -3.6749267578125,\n",
      "                                  40.43858586704331],\n",
      "                         'geojson': {'crs': {},\n",
      "                                     'features': [{'geometry': {'coordinates': [-3.6749267578125,\n",
      "                                                                                40.43858586704331],\n",
      "                                                                'type': 'Point'},\n",
      "                                                   'type': 'Feature'}],\n",
      "                                     'type': 'FeatureCollection'},\n",
      "                         'hash': 'e669023a10c35364e0b1780c181bd06b',\n",
      "                         'lock': False,\n",
      "                         'provider': {}},\n",
      "          'id': 'e669023a10c35364e0b1780c181bd06b',\n",
      "          'type': 'geoStore'}}\n"
     ]
    }
   ],
   "source": [
    "r = requests.get(api_baseurl.format(endpoint='geostore',dataset_id=geostore))\n",
    "display(Markdown(\"> ### Geostore\"))\n",
    "pprint(r.json())"
   ]
  },
  {
   "cell_type": "markdown",
   "metadata": {},
   "source": [
    "# Queries availables through the query api"
   ]
  },
  {
   "cell_type": "markdown",
   "metadata": {},
   "source": [
    "It is mandatory to send a geostore representing a point (in the future also bbox will be allowed to evaluate a region of interest).  \n",
    "In order to test it we are going to use the next geostore code: `e669023a10c35364e0b1780c181bd06b`"
   ]
  },
  {
   "cell_type": "code",
   "execution_count": 30,
   "metadata": {
    "scrolled": false
   },
   "outputs": [
    {
     "data": {
      "text/markdown": [
       "> ## Selected point table view of all variables (columns)"
      ],
      "text/plain": [
       "<IPython.core.display.Markdown object>"
      ]
     },
     "metadata": {},
     "output_type": "display_data"
    },
    {
     "data": {
      "text/markdown": [
       ">#### Sql applied:  "
      ],
      "text/plain": [
       "<IPython.core.display.Markdown object>"
      ]
     },
     "metadata": {},
     "output_type": "display_data"
    },
    {
     "data": {
      "text/markdown": [
       ">>```sql \n",
       "select * from nexgddp-historical-ACCESS1_0\n",
       "  ```"
      ],
      "text/plain": [
       "<IPython.core.display.Markdown object>"
      ]
     },
     "metadata": {},
     "output_type": "display_data"
    },
    {
     "data": {
      "text/html": [
       "<div>\n",
       "<style>\n",
       "    .dataframe thead tr:only-child th {\n",
       "        text-align: right;\n",
       "    }\n",
       "\n",
       "    .dataframe thead th {\n",
       "        text-align: left;\n",
       "    }\n",
       "\n",
       "    .dataframe tbody tr th {\n",
       "        vertical-align: top;\n",
       "    }\n",
       "</style>\n",
       "<table border=\"1\" class=\"dataframe\">\n",
       "  <thead>\n",
       "    <tr style=\"text-align: right;\">\n",
       "      <th></th>\n",
       "      <th>cdd</th>\n",
       "      <th>cwd</th>\n",
       "      <th>frost_days</th>\n",
       "      <th>icing_days</th>\n",
       "      <th>pr1p</th>\n",
       "      <th>pr2in</th>\n",
       "      <th>pr3in</th>\n",
       "      <th>pr4in</th>\n",
       "      <th>pr99p</th>\n",
       "      <th>prmaxday</th>\n",
       "      <th>tmax100F</th>\n",
       "      <th>tmax1p</th>\n",
       "      <th>tmax5day</th>\n",
       "      <th>tmax90F</th>\n",
       "      <th>tmax95F</th>\n",
       "      <th>tmax99p</th>\n",
       "      <th>tmin1p</th>\n",
       "      <th>tmin5day</th>\n",
       "      <th>tmin99p</th>\n",
       "      <th>year</th>\n",
       "    </tr>\n",
       "  </thead>\n",
       "  <tbody>\n",
       "    <tr>\n",
       "      <th>0</th>\n",
       "      <td>44</td>\n",
       "      <td>24</td>\n",
       "      <td>0</td>\n",
       "      <td>0</td>\n",
       "      <td>0</td>\n",
       "      <td>2</td>\n",
       "      <td>0</td>\n",
       "      <td>0</td>\n",
       "      <td>0.000450</td>\n",
       "      <td>70.5369</td>\n",
       "      <td>0</td>\n",
       "      <td>301.399</td>\n",
       "      <td>307.361</td>\n",
       "      <td>77</td>\n",
       "      <td>0</td>\n",
       "      <td>307.344</td>\n",
       "      <td>292.648</td>\n",
       "      <td>297.358</td>\n",
       "      <td>297.521</td>\n",
       "      <td>1950</td>\n",
       "    </tr>\n",
       "    <tr>\n",
       "      <th>1</th>\n",
       "      <td>16</td>\n",
       "      <td>28</td>\n",
       "      <td>0</td>\n",
       "      <td>0</td>\n",
       "      <td>0</td>\n",
       "      <td>0</td>\n",
       "      <td>0</td>\n",
       "      <td>0</td>\n",
       "      <td>0.000293</td>\n",
       "      <td>44.4796</td>\n",
       "      <td>0</td>\n",
       "      <td>300.916</td>\n",
       "      <td>307.234</td>\n",
       "      <td>104</td>\n",
       "      <td>0</td>\n",
       "      <td>307.230</td>\n",
       "      <td>293.458</td>\n",
       "      <td>297.741</td>\n",
       "      <td>297.891</td>\n",
       "      <td>1951</td>\n",
       "    </tr>\n",
       "    <tr>\n",
       "      <th>2</th>\n",
       "      <td>19</td>\n",
       "      <td>28</td>\n",
       "      <td>0</td>\n",
       "      <td>0</td>\n",
       "      <td>0</td>\n",
       "      <td>0</td>\n",
       "      <td>0</td>\n",
       "      <td>0</td>\n",
       "      <td>0.000261</td>\n",
       "      <td>25.7500</td>\n",
       "      <td>0</td>\n",
       "      <td>300.583</td>\n",
       "      <td>307.375</td>\n",
       "      <td>112</td>\n",
       "      <td>0</td>\n",
       "      <td>307.340</td>\n",
       "      <td>293.156</td>\n",
       "      <td>297.235</td>\n",
       "      <td>297.486</td>\n",
       "      <td>1952</td>\n",
       "    </tr>\n",
       "    <tr>\n",
       "      <th>3</th>\n",
       "      <td>20</td>\n",
       "      <td>35</td>\n",
       "      <td>0</td>\n",
       "      <td>0</td>\n",
       "      <td>0</td>\n",
       "      <td>1</td>\n",
       "      <td>1</td>\n",
       "      <td>0</td>\n",
       "      <td>0.000389</td>\n",
       "      <td>83.7281</td>\n",
       "      <td>0</td>\n",
       "      <td>299.218</td>\n",
       "      <td>307.470</td>\n",
       "      <td>52</td>\n",
       "      <td>0</td>\n",
       "      <td>307.293</td>\n",
       "      <td>291.349</td>\n",
       "      <td>297.731</td>\n",
       "      <td>297.713</td>\n",
       "      <td>1953</td>\n",
       "    </tr>\n",
       "    <tr>\n",
       "      <th>4</th>\n",
       "      <td>15</td>\n",
       "      <td>27</td>\n",
       "      <td>0</td>\n",
       "      <td>0</td>\n",
       "      <td>0</td>\n",
       "      <td>0</td>\n",
       "      <td>0</td>\n",
       "      <td>0</td>\n",
       "      <td>0.000334</td>\n",
       "      <td>32.4476</td>\n",
       "      <td>0</td>\n",
       "      <td>298.573</td>\n",
       "      <td>306.799</td>\n",
       "      <td>57</td>\n",
       "      <td>0</td>\n",
       "      <td>306.737</td>\n",
       "      <td>290.550</td>\n",
       "      <td>296.996</td>\n",
       "      <td>297.089</td>\n",
       "      <td>1954</td>\n",
       "    </tr>\n",
       "    <tr>\n",
       "      <th>5</th>\n",
       "      <td>28</td>\n",
       "      <td>36</td>\n",
       "      <td>0</td>\n",
       "      <td>0</td>\n",
       "      <td>0</td>\n",
       "      <td>1</td>\n",
       "      <td>0</td>\n",
       "      <td>0</td>\n",
       "      <td>0.000226</td>\n",
       "      <td>58.4660</td>\n",
       "      <td>0</td>\n",
       "      <td>300.649</td>\n",
       "      <td>307.198</td>\n",
       "      <td>93</td>\n",
       "      <td>0</td>\n",
       "      <td>307.136</td>\n",
       "      <td>291.851</td>\n",
       "      <td>298.121</td>\n",
       "      <td>298.034</td>\n",
       "      <td>1955</td>\n",
       "    </tr>\n",
       "  </tbody>\n",
       "</table>\n",
       "</div>"
      ],
      "text/plain": [
       "   cdd  cwd  frost_days  icing_days  pr1p  pr2in  pr3in  pr4in     pr99p  \\\n",
       "0   44   24           0           0     0      2      0      0  0.000450   \n",
       "1   16   28           0           0     0      0      0      0  0.000293   \n",
       "2   19   28           0           0     0      0      0      0  0.000261   \n",
       "3   20   35           0           0     0      1      1      0  0.000389   \n",
       "4   15   27           0           0     0      0      0      0  0.000334   \n",
       "5   28   36           0           0     0      1      0      0  0.000226   \n",
       "\n",
       "   prmaxday  tmax100F   tmax1p  tmax5day  tmax90F  tmax95F  tmax99p   tmin1p  \\\n",
       "0   70.5369         0  301.399   307.361       77        0  307.344  292.648   \n",
       "1   44.4796         0  300.916   307.234      104        0  307.230  293.458   \n",
       "2   25.7500         0  300.583   307.375      112        0  307.340  293.156   \n",
       "3   83.7281         0  299.218   307.470       52        0  307.293  291.349   \n",
       "4   32.4476         0  298.573   306.799       57        0  306.737  290.550   \n",
       "5   58.4660         0  300.649   307.198       93        0  307.136  291.851   \n",
       "\n",
       "   tmin5day  tmin99p  year  \n",
       "0   297.358  297.521  1950  \n",
       "1   297.741  297.891  1951  \n",
       "2   297.235  297.486  1952  \n",
       "3   297.731  297.713  1953  \n",
       "4   296.996  297.089  1954  \n",
       "5   298.121  298.034  1955  "
      ]
     },
     "metadata": {},
     "output_type": "display_data"
    }
   ],
   "source": [
    "display(Markdown(\"> ## Selected point table view of all variables (columns)\"))\n",
    "sql = '''\n",
    "select * from nexgddp-historical-ACCESS1_0\n",
    "'''\n",
    "dataset = query(sql, dataset_id, geostore)\n",
    "display(dataset.head(6))\n",
    "#display(Markdown(\"> ### Visual\"))\n",
    "#display(dataset.plot.bar(x='x',y='y',figsize=(10, 10)));"
   ]
  },
  {
   "cell_type": "code",
   "execution_count": 40,
   "metadata": {
    "scrolled": false
   },
   "outputs": [
    {
     "data": {
      "text/markdown": [
       "> ## Selected point table view of selected columns filtering by date"
      ],
      "text/plain": [
       "<IPython.core.display.Markdown object>"
      ]
     },
     "metadata": {},
     "output_type": "display_data"
    },
    {
     "data": {
      "text/markdown": [
       ">#### Sql applied:  "
      ],
      "text/plain": [
       "<IPython.core.display.Markdown object>"
      ]
     },
     "metadata": {},
     "output_type": "display_data"
    },
    {
     "data": {
      "text/markdown": [
       ">>```sql \n",
       "SELECT year as x, tmax99p as y FROM historical/ACCESS1_0 LIMIT 500\n",
       "  ```"
      ],
      "text/plain": [
       "<IPython.core.display.Markdown object>"
      ]
     },
     "metadata": {},
     "output_type": "display_data"
    },
    {
     "data": {
      "text/html": [
       "<div>\n",
       "<style>\n",
       "    .dataframe thead tr:only-child th {\n",
       "        text-align: right;\n",
       "    }\n",
       "\n",
       "    .dataframe thead th {\n",
       "        text-align: left;\n",
       "    }\n",
       "\n",
       "    .dataframe tbody tr th {\n",
       "        vertical-align: top;\n",
       "    }\n",
       "</style>\n",
       "<table border=\"1\" class=\"dataframe\">\n",
       "  <thead>\n",
       "    <tr style=\"text-align: right;\">\n",
       "      <th></th>\n",
       "      <th>x</th>\n",
       "      <th>y</th>\n",
       "    </tr>\n",
       "  </thead>\n",
       "  <tbody>\n",
       "    <tr>\n",
       "      <th>0</th>\n",
       "      <td>1950-01-01T00:00:00</td>\n",
       "      <td>307.344</td>\n",
       "    </tr>\n",
       "    <tr>\n",
       "      <th>1</th>\n",
       "      <td>1951-01-01T00:00:00</td>\n",
       "      <td>307.230</td>\n",
       "    </tr>\n",
       "    <tr>\n",
       "      <th>2</th>\n",
       "      <td>1952-01-01T00:00:00</td>\n",
       "      <td>307.340</td>\n",
       "    </tr>\n",
       "    <tr>\n",
       "      <th>3</th>\n",
       "      <td>1953-01-01T00:00:00</td>\n",
       "      <td>307.293</td>\n",
       "    </tr>\n",
       "    <tr>\n",
       "      <th>4</th>\n",
       "      <td>1954-01-01T00:00:00</td>\n",
       "      <td>306.737</td>\n",
       "    </tr>\n",
       "    <tr>\n",
       "      <th>5</th>\n",
       "      <td>1955-01-01T00:00:00</td>\n",
       "      <td>307.136</td>\n",
       "    </tr>\n",
       "  </tbody>\n",
       "</table>\n",
       "</div>"
      ],
      "text/plain": [
       "                     x        y\n",
       "0  1950-01-01T00:00:00  307.344\n",
       "1  1951-01-01T00:00:00  307.230\n",
       "2  1952-01-01T00:00:00  307.340\n",
       "3  1953-01-01T00:00:00  307.293\n",
       "4  1954-01-01T00:00:00  306.737\n",
       "5  1955-01-01T00:00:00  307.136"
      ]
     },
     "metadata": {},
     "output_type": "display_data"
    },
    {
     "data": {
      "text/markdown": [
       "> ### Visual"
      ],
      "text/plain": [
       "<IPython.core.display.Markdown object>"
      ]
     },
     "metadata": {},
     "output_type": "display_data"
    }
   ],
   "source": [
    "display(Markdown(\"> ## Selected point table view of selected columns filtering by date\"))\n",
    "sql = '''\n",
    "SELECT year as x, tmax99p as y FROM historical/ACCESS1_0 LIMIT 500\n",
    "'''\n",
    "dataset = query(sql, dataset_id, geostore)\n",
    "display(dataset.head(6))\n",
    "display(Markdown(\"> ### Visual\"))"
   ]
  },
  {
   "cell_type": "code",
   "execution_count": 41,
   "metadata": {},
   "outputs": [
    {
     "data": {
      "application/javascript": [
       "/* Put everything inside the global mpl namespace */\n",
       "window.mpl = {};\n",
       "\n",
       "\n",
       "mpl.get_websocket_type = function() {\n",
       "    if (typeof(WebSocket) !== 'undefined') {\n",
       "        return WebSocket;\n",
       "    } else if (typeof(MozWebSocket) !== 'undefined') {\n",
       "        return MozWebSocket;\n",
       "    } else {\n",
       "        alert('Your browser does not have WebSocket support.' +\n",
       "              'Please try Chrome, Safari or Firefox ≥ 6. ' +\n",
       "              'Firefox 4 and 5 are also supported but you ' +\n",
       "              'have to enable WebSockets in about:config.');\n",
       "    };\n",
       "}\n",
       "\n",
       "mpl.figure = function(figure_id, websocket, ondownload, parent_element) {\n",
       "    this.id = figure_id;\n",
       "\n",
       "    this.ws = websocket;\n",
       "\n",
       "    this.supports_binary = (this.ws.binaryType != undefined);\n",
       "\n",
       "    if (!this.supports_binary) {\n",
       "        var warnings = document.getElementById(\"mpl-warnings\");\n",
       "        if (warnings) {\n",
       "            warnings.style.display = 'block';\n",
       "            warnings.textContent = (\n",
       "                \"This browser does not support binary websocket messages. \" +\n",
       "                    \"Performance may be slow.\");\n",
       "        }\n",
       "    }\n",
       "\n",
       "    this.imageObj = new Image();\n",
       "\n",
       "    this.context = undefined;\n",
       "    this.message = undefined;\n",
       "    this.canvas = undefined;\n",
       "    this.rubberband_canvas = undefined;\n",
       "    this.rubberband_context = undefined;\n",
       "    this.format_dropdown = undefined;\n",
       "\n",
       "    this.image_mode = 'full';\n",
       "\n",
       "    this.root = $('<div/>');\n",
       "    this._root_extra_style(this.root)\n",
       "    this.root.attr('style', 'display: inline-block');\n",
       "\n",
       "    $(parent_element).append(this.root);\n",
       "\n",
       "    this._init_header(this);\n",
       "    this._init_canvas(this);\n",
       "    this._init_toolbar(this);\n",
       "\n",
       "    var fig = this;\n",
       "\n",
       "    this.waiting = false;\n",
       "\n",
       "    this.ws.onopen =  function () {\n",
       "            fig.send_message(\"supports_binary\", {value: fig.supports_binary});\n",
       "            fig.send_message(\"send_image_mode\", {});\n",
       "            if (mpl.ratio != 1) {\n",
       "                fig.send_message(\"set_dpi_ratio\", {'dpi_ratio': mpl.ratio});\n",
       "            }\n",
       "            fig.send_message(\"refresh\", {});\n",
       "        }\n",
       "\n",
       "    this.imageObj.onload = function() {\n",
       "            if (fig.image_mode == 'full') {\n",
       "                // Full images could contain transparency (where diff images\n",
       "                // almost always do), so we need to clear the canvas so that\n",
       "                // there is no ghosting.\n",
       "                fig.context.clearRect(0, 0, fig.canvas.width, fig.canvas.height);\n",
       "            }\n",
       "            fig.context.drawImage(fig.imageObj, 0, 0);\n",
       "        };\n",
       "\n",
       "    this.imageObj.onunload = function() {\n",
       "        this.ws.close();\n",
       "    }\n",
       "\n",
       "    this.ws.onmessage = this._make_on_message_function(this);\n",
       "\n",
       "    this.ondownload = ondownload;\n",
       "}\n",
       "\n",
       "mpl.figure.prototype._init_header = function() {\n",
       "    var titlebar = $(\n",
       "        '<div class=\"ui-dialog-titlebar ui-widget-header ui-corner-all ' +\n",
       "        'ui-helper-clearfix\"/>');\n",
       "    var titletext = $(\n",
       "        '<div class=\"ui-dialog-title\" style=\"width: 100%; ' +\n",
       "        'text-align: center; padding: 3px;\"/>');\n",
       "    titlebar.append(titletext)\n",
       "    this.root.append(titlebar);\n",
       "    this.header = titletext[0];\n",
       "}\n",
       "\n",
       "\n",
       "\n",
       "mpl.figure.prototype._canvas_extra_style = function(canvas_div) {\n",
       "\n",
       "}\n",
       "\n",
       "\n",
       "mpl.figure.prototype._root_extra_style = function(canvas_div) {\n",
       "\n",
       "}\n",
       "\n",
       "mpl.figure.prototype._init_canvas = function() {\n",
       "    var fig = this;\n",
       "\n",
       "    var canvas_div = $('<div/>');\n",
       "\n",
       "    canvas_div.attr('style', 'position: relative; clear: both; outline: 0');\n",
       "\n",
       "    function canvas_keyboard_event(event) {\n",
       "        return fig.key_event(event, event['data']);\n",
       "    }\n",
       "\n",
       "    canvas_div.keydown('key_press', canvas_keyboard_event);\n",
       "    canvas_div.keyup('key_release', canvas_keyboard_event);\n",
       "    this.canvas_div = canvas_div\n",
       "    this._canvas_extra_style(canvas_div)\n",
       "    this.root.append(canvas_div);\n",
       "\n",
       "    var canvas = $('<canvas/>');\n",
       "    canvas.addClass('mpl-canvas');\n",
       "    canvas.attr('style', \"left: 0; top: 0; z-index: 0; outline: 0\")\n",
       "\n",
       "    this.canvas = canvas[0];\n",
       "    this.context = canvas[0].getContext(\"2d\");\n",
       "\n",
       "    var backingStore = this.context.backingStorePixelRatio ||\n",
       "\tthis.context.webkitBackingStorePixelRatio ||\n",
       "\tthis.context.mozBackingStorePixelRatio ||\n",
       "\tthis.context.msBackingStorePixelRatio ||\n",
       "\tthis.context.oBackingStorePixelRatio ||\n",
       "\tthis.context.backingStorePixelRatio || 1;\n",
       "\n",
       "    mpl.ratio = (window.devicePixelRatio || 1) / backingStore;\n",
       "\n",
       "    var rubberband = $('<canvas/>');\n",
       "    rubberband.attr('style', \"position: absolute; left: 0; top: 0; z-index: 1;\")\n",
       "\n",
       "    var pass_mouse_events = true;\n",
       "\n",
       "    canvas_div.resizable({\n",
       "        start: function(event, ui) {\n",
       "            pass_mouse_events = false;\n",
       "        },\n",
       "        resize: function(event, ui) {\n",
       "            fig.request_resize(ui.size.width, ui.size.height);\n",
       "        },\n",
       "        stop: function(event, ui) {\n",
       "            pass_mouse_events = true;\n",
       "            fig.request_resize(ui.size.width, ui.size.height);\n",
       "        },\n",
       "    });\n",
       "\n",
       "    function mouse_event_fn(event) {\n",
       "        if (pass_mouse_events)\n",
       "            return fig.mouse_event(event, event['data']);\n",
       "    }\n",
       "\n",
       "    rubberband.mousedown('button_press', mouse_event_fn);\n",
       "    rubberband.mouseup('button_release', mouse_event_fn);\n",
       "    // Throttle sequential mouse events to 1 every 20ms.\n",
       "    rubberband.mousemove('motion_notify', mouse_event_fn);\n",
       "\n",
       "    rubberband.mouseenter('figure_enter', mouse_event_fn);\n",
       "    rubberband.mouseleave('figure_leave', mouse_event_fn);\n",
       "\n",
       "    canvas_div.on(\"wheel\", function (event) {\n",
       "        event = event.originalEvent;\n",
       "        event['data'] = 'scroll'\n",
       "        if (event.deltaY < 0) {\n",
       "            event.step = 1;\n",
       "        } else {\n",
       "            event.step = -1;\n",
       "        }\n",
       "        mouse_event_fn(event);\n",
       "    });\n",
       "\n",
       "    canvas_div.append(canvas);\n",
       "    canvas_div.append(rubberband);\n",
       "\n",
       "    this.rubberband = rubberband;\n",
       "    this.rubberband_canvas = rubberband[0];\n",
       "    this.rubberband_context = rubberband[0].getContext(\"2d\");\n",
       "    this.rubberband_context.strokeStyle = \"#000000\";\n",
       "\n",
       "    this._resize_canvas = function(width, height) {\n",
       "        // Keep the size of the canvas, canvas container, and rubber band\n",
       "        // canvas in synch.\n",
       "        canvas_div.css('width', width)\n",
       "        canvas_div.css('height', height)\n",
       "\n",
       "        canvas.attr('width', width * mpl.ratio);\n",
       "        canvas.attr('height', height * mpl.ratio);\n",
       "        canvas.attr('style', 'width: ' + width + 'px; height: ' + height + 'px;');\n",
       "\n",
       "        rubberband.attr('width', width);\n",
       "        rubberband.attr('height', height);\n",
       "    }\n",
       "\n",
       "    // Set the figure to an initial 600x600px, this will subsequently be updated\n",
       "    // upon first draw.\n",
       "    this._resize_canvas(600, 600);\n",
       "\n",
       "    // Disable right mouse context menu.\n",
       "    $(this.rubberband_canvas).bind(\"contextmenu\",function(e){\n",
       "        return false;\n",
       "    });\n",
       "\n",
       "    function set_focus () {\n",
       "        canvas.focus();\n",
       "        canvas_div.focus();\n",
       "    }\n",
       "\n",
       "    window.setTimeout(set_focus, 100);\n",
       "}\n",
       "\n",
       "mpl.figure.prototype._init_toolbar = function() {\n",
       "    var fig = this;\n",
       "\n",
       "    var nav_element = $('<div/>')\n",
       "    nav_element.attr('style', 'width: 100%');\n",
       "    this.root.append(nav_element);\n",
       "\n",
       "    // Define a callback function for later on.\n",
       "    function toolbar_event(event) {\n",
       "        return fig.toolbar_button_onclick(event['data']);\n",
       "    }\n",
       "    function toolbar_mouse_event(event) {\n",
       "        return fig.toolbar_button_onmouseover(event['data']);\n",
       "    }\n",
       "\n",
       "    for(var toolbar_ind in mpl.toolbar_items) {\n",
       "        var name = mpl.toolbar_items[toolbar_ind][0];\n",
       "        var tooltip = mpl.toolbar_items[toolbar_ind][1];\n",
       "        var image = mpl.toolbar_items[toolbar_ind][2];\n",
       "        var method_name = mpl.toolbar_items[toolbar_ind][3];\n",
       "\n",
       "        if (!name) {\n",
       "            // put a spacer in here.\n",
       "            continue;\n",
       "        }\n",
       "        var button = $('<button/>');\n",
       "        button.addClass('ui-button ui-widget ui-state-default ui-corner-all ' +\n",
       "                        'ui-button-icon-only');\n",
       "        button.attr('role', 'button');\n",
       "        button.attr('aria-disabled', 'false');\n",
       "        button.click(method_name, toolbar_event);\n",
       "        button.mouseover(tooltip, toolbar_mouse_event);\n",
       "\n",
       "        var icon_img = $('<span/>');\n",
       "        icon_img.addClass('ui-button-icon-primary ui-icon');\n",
       "        icon_img.addClass(image);\n",
       "        icon_img.addClass('ui-corner-all');\n",
       "\n",
       "        var tooltip_span = $('<span/>');\n",
       "        tooltip_span.addClass('ui-button-text');\n",
       "        tooltip_span.html(tooltip);\n",
       "\n",
       "        button.append(icon_img);\n",
       "        button.append(tooltip_span);\n",
       "\n",
       "        nav_element.append(button);\n",
       "    }\n",
       "\n",
       "    var fmt_picker_span = $('<span/>');\n",
       "\n",
       "    var fmt_picker = $('<select/>');\n",
       "    fmt_picker.addClass('mpl-toolbar-option ui-widget ui-widget-content');\n",
       "    fmt_picker_span.append(fmt_picker);\n",
       "    nav_element.append(fmt_picker_span);\n",
       "    this.format_dropdown = fmt_picker[0];\n",
       "\n",
       "    for (var ind in mpl.extensions) {\n",
       "        var fmt = mpl.extensions[ind];\n",
       "        var option = $(\n",
       "            '<option/>', {selected: fmt === mpl.default_extension}).html(fmt);\n",
       "        fmt_picker.append(option)\n",
       "    }\n",
       "\n",
       "    // Add hover states to the ui-buttons\n",
       "    $( \".ui-button\" ).hover(\n",
       "        function() { $(this).addClass(\"ui-state-hover\");},\n",
       "        function() { $(this).removeClass(\"ui-state-hover\");}\n",
       "    );\n",
       "\n",
       "    var status_bar = $('<span class=\"mpl-message\"/>');\n",
       "    nav_element.append(status_bar);\n",
       "    this.message = status_bar[0];\n",
       "}\n",
       "\n",
       "mpl.figure.prototype.request_resize = function(x_pixels, y_pixels) {\n",
       "    // Request matplotlib to resize the figure. Matplotlib will then trigger a resize in the client,\n",
       "    // which will in turn request a refresh of the image.\n",
       "    this.send_message('resize', {'width': x_pixels, 'height': y_pixels});\n",
       "}\n",
       "\n",
       "mpl.figure.prototype.send_message = function(type, properties) {\n",
       "    properties['type'] = type;\n",
       "    properties['figure_id'] = this.id;\n",
       "    this.ws.send(JSON.stringify(properties));\n",
       "}\n",
       "\n",
       "mpl.figure.prototype.send_draw_message = function() {\n",
       "    if (!this.waiting) {\n",
       "        this.waiting = true;\n",
       "        this.ws.send(JSON.stringify({type: \"draw\", figure_id: this.id}));\n",
       "    }\n",
       "}\n",
       "\n",
       "\n",
       "mpl.figure.prototype.handle_save = function(fig, msg) {\n",
       "    var format_dropdown = fig.format_dropdown;\n",
       "    var format = format_dropdown.options[format_dropdown.selectedIndex].value;\n",
       "    fig.ondownload(fig, format);\n",
       "}\n",
       "\n",
       "\n",
       "mpl.figure.prototype.handle_resize = function(fig, msg) {\n",
       "    var size = msg['size'];\n",
       "    if (size[0] != fig.canvas.width || size[1] != fig.canvas.height) {\n",
       "        fig._resize_canvas(size[0], size[1]);\n",
       "        fig.send_message(\"refresh\", {});\n",
       "    };\n",
       "}\n",
       "\n",
       "mpl.figure.prototype.handle_rubberband = function(fig, msg) {\n",
       "    var x0 = msg['x0'] / mpl.ratio;\n",
       "    var y0 = (fig.canvas.height - msg['y0']) / mpl.ratio;\n",
       "    var x1 = msg['x1'] / mpl.ratio;\n",
       "    var y1 = (fig.canvas.height - msg['y1']) / mpl.ratio;\n",
       "    x0 = Math.floor(x0) + 0.5;\n",
       "    y0 = Math.floor(y0) + 0.5;\n",
       "    x1 = Math.floor(x1) + 0.5;\n",
       "    y1 = Math.floor(y1) + 0.5;\n",
       "    var min_x = Math.min(x0, x1);\n",
       "    var min_y = Math.min(y0, y1);\n",
       "    var width = Math.abs(x1 - x0);\n",
       "    var height = Math.abs(y1 - y0);\n",
       "\n",
       "    fig.rubberband_context.clearRect(\n",
       "        0, 0, fig.canvas.width, fig.canvas.height);\n",
       "\n",
       "    fig.rubberband_context.strokeRect(min_x, min_y, width, height);\n",
       "}\n",
       "\n",
       "mpl.figure.prototype.handle_figure_label = function(fig, msg) {\n",
       "    // Updates the figure title.\n",
       "    fig.header.textContent = msg['label'];\n",
       "}\n",
       "\n",
       "mpl.figure.prototype.handle_cursor = function(fig, msg) {\n",
       "    var cursor = msg['cursor'];\n",
       "    switch(cursor)\n",
       "    {\n",
       "    case 0:\n",
       "        cursor = 'pointer';\n",
       "        break;\n",
       "    case 1:\n",
       "        cursor = 'default';\n",
       "        break;\n",
       "    case 2:\n",
       "        cursor = 'crosshair';\n",
       "        break;\n",
       "    case 3:\n",
       "        cursor = 'move';\n",
       "        break;\n",
       "    }\n",
       "    fig.rubberband_canvas.style.cursor = cursor;\n",
       "}\n",
       "\n",
       "mpl.figure.prototype.handle_message = function(fig, msg) {\n",
       "    fig.message.textContent = msg['message'];\n",
       "}\n",
       "\n",
       "mpl.figure.prototype.handle_draw = function(fig, msg) {\n",
       "    // Request the server to send over a new figure.\n",
       "    fig.send_draw_message();\n",
       "}\n",
       "\n",
       "mpl.figure.prototype.handle_image_mode = function(fig, msg) {\n",
       "    fig.image_mode = msg['mode'];\n",
       "}\n",
       "\n",
       "mpl.figure.prototype.updated_canvas_event = function() {\n",
       "    // Called whenever the canvas gets updated.\n",
       "    this.send_message(\"ack\", {});\n",
       "}\n",
       "\n",
       "// A function to construct a web socket function for onmessage handling.\n",
       "// Called in the figure constructor.\n",
       "mpl.figure.prototype._make_on_message_function = function(fig) {\n",
       "    return function socket_on_message(evt) {\n",
       "        if (evt.data instanceof Blob) {\n",
       "            /* FIXME: We get \"Resource interpreted as Image but\n",
       "             * transferred with MIME type text/plain:\" errors on\n",
       "             * Chrome.  But how to set the MIME type?  It doesn't seem\n",
       "             * to be part of the websocket stream */\n",
       "            evt.data.type = \"image/png\";\n",
       "\n",
       "            /* Free the memory for the previous frames */\n",
       "            if (fig.imageObj.src) {\n",
       "                (window.URL || window.webkitURL).revokeObjectURL(\n",
       "                    fig.imageObj.src);\n",
       "            }\n",
       "\n",
       "            fig.imageObj.src = (window.URL || window.webkitURL).createObjectURL(\n",
       "                evt.data);\n",
       "            fig.updated_canvas_event();\n",
       "            fig.waiting = false;\n",
       "            return;\n",
       "        }\n",
       "        else if (typeof evt.data === 'string' && evt.data.slice(0, 21) == \"data:image/png;base64\") {\n",
       "            fig.imageObj.src = evt.data;\n",
       "            fig.updated_canvas_event();\n",
       "            fig.waiting = false;\n",
       "            return;\n",
       "        }\n",
       "\n",
       "        var msg = JSON.parse(evt.data);\n",
       "        var msg_type = msg['type'];\n",
       "\n",
       "        // Call the  \"handle_{type}\" callback, which takes\n",
       "        // the figure and JSON message as its only arguments.\n",
       "        try {\n",
       "            var callback = fig[\"handle_\" + msg_type];\n",
       "        } catch (e) {\n",
       "            console.log(\"No handler for the '\" + msg_type + \"' message type: \", msg);\n",
       "            return;\n",
       "        }\n",
       "\n",
       "        if (callback) {\n",
       "            try {\n",
       "                // console.log(\"Handling '\" + msg_type + \"' message: \", msg);\n",
       "                callback(fig, msg);\n",
       "            } catch (e) {\n",
       "                console.log(\"Exception inside the 'handler_\" + msg_type + \"' callback:\", e, e.stack, msg);\n",
       "            }\n",
       "        }\n",
       "    };\n",
       "}\n",
       "\n",
       "// from http://stackoverflow.com/questions/1114465/getting-mouse-location-in-canvas\n",
       "mpl.findpos = function(e) {\n",
       "    //this section is from http://www.quirksmode.org/js/events_properties.html\n",
       "    var targ;\n",
       "    if (!e)\n",
       "        e = window.event;\n",
       "    if (e.target)\n",
       "        targ = e.target;\n",
       "    else if (e.srcElement)\n",
       "        targ = e.srcElement;\n",
       "    if (targ.nodeType == 3) // defeat Safari bug\n",
       "        targ = targ.parentNode;\n",
       "\n",
       "    // jQuery normalizes the pageX and pageY\n",
       "    // pageX,Y are the mouse positions relative to the document\n",
       "    // offset() returns the position of the element relative to the document\n",
       "    var x = e.pageX - $(targ).offset().left;\n",
       "    var y = e.pageY - $(targ).offset().top;\n",
       "\n",
       "    return {\"x\": x, \"y\": y};\n",
       "};\n",
       "\n",
       "/*\n",
       " * return a copy of an object with only non-object keys\n",
       " * we need this to avoid circular references\n",
       " * http://stackoverflow.com/a/24161582/3208463\n",
       " */\n",
       "function simpleKeys (original) {\n",
       "  return Object.keys(original).reduce(function (obj, key) {\n",
       "    if (typeof original[key] !== 'object')\n",
       "        obj[key] = original[key]\n",
       "    return obj;\n",
       "  }, {});\n",
       "}\n",
       "\n",
       "mpl.figure.prototype.mouse_event = function(event, name) {\n",
       "    var canvas_pos = mpl.findpos(event)\n",
       "\n",
       "    if (name === 'button_press')\n",
       "    {\n",
       "        this.canvas.focus();\n",
       "        this.canvas_div.focus();\n",
       "    }\n",
       "\n",
       "    var x = canvas_pos.x * mpl.ratio;\n",
       "    var y = canvas_pos.y * mpl.ratio;\n",
       "\n",
       "    this.send_message(name, {x: x, y: y, button: event.button,\n",
       "                             step: event.step,\n",
       "                             guiEvent: simpleKeys(event)});\n",
       "\n",
       "    /* This prevents the web browser from automatically changing to\n",
       "     * the text insertion cursor when the button is pressed.  We want\n",
       "     * to control all of the cursor setting manually through the\n",
       "     * 'cursor' event from matplotlib */\n",
       "    event.preventDefault();\n",
       "    return false;\n",
       "}\n",
       "\n",
       "mpl.figure.prototype._key_event_extra = function(event, name) {\n",
       "    // Handle any extra behaviour associated with a key event\n",
       "}\n",
       "\n",
       "mpl.figure.prototype.key_event = function(event, name) {\n",
       "\n",
       "    // Prevent repeat events\n",
       "    if (name == 'key_press')\n",
       "    {\n",
       "        if (event.which === this._key)\n",
       "            return;\n",
       "        else\n",
       "            this._key = event.which;\n",
       "    }\n",
       "    if (name == 'key_release')\n",
       "        this._key = null;\n",
       "\n",
       "    var value = '';\n",
       "    if (event.ctrlKey && event.which != 17)\n",
       "        value += \"ctrl+\";\n",
       "    if (event.altKey && event.which != 18)\n",
       "        value += \"alt+\";\n",
       "    if (event.shiftKey && event.which != 16)\n",
       "        value += \"shift+\";\n",
       "\n",
       "    value += 'k';\n",
       "    value += event.which.toString();\n",
       "\n",
       "    this._key_event_extra(event, name);\n",
       "\n",
       "    this.send_message(name, {key: value,\n",
       "                             guiEvent: simpleKeys(event)});\n",
       "    return false;\n",
       "}\n",
       "\n",
       "mpl.figure.prototype.toolbar_button_onclick = function(name) {\n",
       "    if (name == 'download') {\n",
       "        this.handle_save(this, null);\n",
       "    } else {\n",
       "        this.send_message(\"toolbar_button\", {name: name});\n",
       "    }\n",
       "};\n",
       "\n",
       "mpl.figure.prototype.toolbar_button_onmouseover = function(tooltip) {\n",
       "    this.message.textContent = tooltip;\n",
       "};\n",
       "mpl.toolbar_items = [[\"Home\", \"Reset original view\", \"fa fa-home icon-home\", \"home\"], [\"Back\", \"Back to  previous view\", \"fa fa-arrow-left icon-arrow-left\", \"back\"], [\"Forward\", \"Forward to next view\", \"fa fa-arrow-right icon-arrow-right\", \"forward\"], [\"\", \"\", \"\", \"\"], [\"Pan\", \"Pan axes with left mouse, zoom with right\", \"fa fa-arrows icon-move\", \"pan\"], [\"Zoom\", \"Zoom to rectangle\", \"fa fa-square-o icon-check-empty\", \"zoom\"], [\"\", \"\", \"\", \"\"], [\"Download\", \"Download plot\", \"fa fa-floppy-o icon-save\", \"download\"]];\n",
       "\n",
       "mpl.extensions = [\"eps\", \"pdf\", \"png\", \"ps\", \"raw\", \"svg\"];\n",
       "\n",
       "mpl.default_extension = \"png\";var comm_websocket_adapter = function(comm) {\n",
       "    // Create a \"websocket\"-like object which calls the given IPython comm\n",
       "    // object with the appropriate methods. Currently this is a non binary\n",
       "    // socket, so there is still some room for performance tuning.\n",
       "    var ws = {};\n",
       "\n",
       "    ws.close = function() {\n",
       "        comm.close()\n",
       "    };\n",
       "    ws.send = function(m) {\n",
       "        //console.log('sending', m);\n",
       "        comm.send(m);\n",
       "    };\n",
       "    // Register the callback with on_msg.\n",
       "    comm.on_msg(function(msg) {\n",
       "        //console.log('receiving', msg['content']['data'], msg);\n",
       "        // Pass the mpl event to the overriden (by mpl) onmessage function.\n",
       "        ws.onmessage(msg['content']['data'])\n",
       "    });\n",
       "    return ws;\n",
       "}\n",
       "\n",
       "mpl.mpl_figure_comm = function(comm, msg) {\n",
       "    // This is the function which gets called when the mpl process\n",
       "    // starts-up an IPython Comm through the \"matplotlib\" channel.\n",
       "\n",
       "    var id = msg.content.data.id;\n",
       "    // Get hold of the div created by the display call when the Comm\n",
       "    // socket was opened in Python.\n",
       "    var element = $(\"#\" + id);\n",
       "    var ws_proxy = comm_websocket_adapter(comm)\n",
       "\n",
       "    function ondownload(figure, format) {\n",
       "        window.open(figure.imageObj.src);\n",
       "    }\n",
       "\n",
       "    var fig = new mpl.figure(id, ws_proxy,\n",
       "                           ondownload,\n",
       "                           element.get(0));\n",
       "\n",
       "    // Call onopen now - mpl needs it, as it is assuming we've passed it a real\n",
       "    // web socket which is closed, not our websocket->open comm proxy.\n",
       "    ws_proxy.onopen();\n",
       "\n",
       "    fig.parent_element = element.get(0);\n",
       "    fig.cell_info = mpl.find_output_cell(\"<div id='\" + id + \"'></div>\");\n",
       "    if (!fig.cell_info) {\n",
       "        console.error(\"Failed to find cell for figure\", id, fig);\n",
       "        return;\n",
       "    }\n",
       "\n",
       "    var output_index = fig.cell_info[2]\n",
       "    var cell = fig.cell_info[0];\n",
       "\n",
       "};\n",
       "\n",
       "mpl.figure.prototype.handle_close = function(fig, msg) {\n",
       "    var width = fig.canvas.width/mpl.ratio\n",
       "    fig.root.unbind('remove')\n",
       "\n",
       "    // Update the output cell to use the data from the current canvas.\n",
       "    fig.push_to_output();\n",
       "    var dataURL = fig.canvas.toDataURL();\n",
       "    // Re-enable the keyboard manager in IPython - without this line, in FF,\n",
       "    // the notebook keyboard shortcuts fail.\n",
       "    IPython.keyboard_manager.enable()\n",
       "    $(fig.parent_element).html('<img src=\"' + dataURL + '\" width=\"' + width + '\">');\n",
       "    fig.close_ws(fig, msg);\n",
       "}\n",
       "\n",
       "mpl.figure.prototype.close_ws = function(fig, msg){\n",
       "    fig.send_message('closing', msg);\n",
       "    // fig.ws.close()\n",
       "}\n",
       "\n",
       "mpl.figure.prototype.push_to_output = function(remove_interactive) {\n",
       "    // Turn the data on the canvas into data in the output cell.\n",
       "    var width = this.canvas.width/mpl.ratio\n",
       "    var dataURL = this.canvas.toDataURL();\n",
       "    this.cell_info[1]['text/html'] = '<img src=\"' + dataURL + '\" width=\"' + width + '\">';\n",
       "}\n",
       "\n",
       "mpl.figure.prototype.updated_canvas_event = function() {\n",
       "    // Tell IPython that the notebook contents must change.\n",
       "    IPython.notebook.set_dirty(true);\n",
       "    this.send_message(\"ack\", {});\n",
       "    var fig = this;\n",
       "    // Wait a second, then push the new image to the DOM so\n",
       "    // that it is saved nicely (might be nice to debounce this).\n",
       "    setTimeout(function () { fig.push_to_output() }, 1000);\n",
       "}\n",
       "\n",
       "mpl.figure.prototype._init_toolbar = function() {\n",
       "    var fig = this;\n",
       "\n",
       "    var nav_element = $('<div/>')\n",
       "    nav_element.attr('style', 'width: 100%');\n",
       "    this.root.append(nav_element);\n",
       "\n",
       "    // Define a callback function for later on.\n",
       "    function toolbar_event(event) {\n",
       "        return fig.toolbar_button_onclick(event['data']);\n",
       "    }\n",
       "    function toolbar_mouse_event(event) {\n",
       "        return fig.toolbar_button_onmouseover(event['data']);\n",
       "    }\n",
       "\n",
       "    for(var toolbar_ind in mpl.toolbar_items){\n",
       "        var name = mpl.toolbar_items[toolbar_ind][0];\n",
       "        var tooltip = mpl.toolbar_items[toolbar_ind][1];\n",
       "        var image = mpl.toolbar_items[toolbar_ind][2];\n",
       "        var method_name = mpl.toolbar_items[toolbar_ind][3];\n",
       "\n",
       "        if (!name) { continue; };\n",
       "\n",
       "        var button = $('<button class=\"btn btn-default\" href=\"#\" title=\"' + name + '\"><i class=\"fa ' + image + ' fa-lg\"></i></button>');\n",
       "        button.click(method_name, toolbar_event);\n",
       "        button.mouseover(tooltip, toolbar_mouse_event);\n",
       "        nav_element.append(button);\n",
       "    }\n",
       "\n",
       "    // Add the status bar.\n",
       "    var status_bar = $('<span class=\"mpl-message\" style=\"text-align:right; float: right;\"/>');\n",
       "    nav_element.append(status_bar);\n",
       "    this.message = status_bar[0];\n",
       "\n",
       "    // Add the close button to the window.\n",
       "    var buttongrp = $('<div class=\"btn-group inline pull-right\"></div>');\n",
       "    var button = $('<button class=\"btn btn-mini btn-primary\" href=\"#\" title=\"Stop Interaction\"><i class=\"fa fa-power-off icon-remove icon-large\"></i></button>');\n",
       "    button.click(function (evt) { fig.handle_close(fig, {}); } );\n",
       "    button.mouseover('Stop Interaction', toolbar_mouse_event);\n",
       "    buttongrp.append(button);\n",
       "    var titlebar = this.root.find($('.ui-dialog-titlebar'));\n",
       "    titlebar.prepend(buttongrp);\n",
       "}\n",
       "\n",
       "mpl.figure.prototype._root_extra_style = function(el){\n",
       "    var fig = this\n",
       "    el.on(\"remove\", function(){\n",
       "\tfig.close_ws(fig, {});\n",
       "    });\n",
       "}\n",
       "\n",
       "mpl.figure.prototype._canvas_extra_style = function(el){\n",
       "    // this is important to make the div 'focusable\n",
       "    el.attr('tabindex', 0)\n",
       "    // reach out to IPython and tell the keyboard manager to turn it's self\n",
       "    // off when our div gets focus\n",
       "\n",
       "    // location in version 3\n",
       "    if (IPython.notebook.keyboard_manager) {\n",
       "        IPython.notebook.keyboard_manager.register_events(el);\n",
       "    }\n",
       "    else {\n",
       "        // location in version 2\n",
       "        IPython.keyboard_manager.register_events(el);\n",
       "    }\n",
       "\n",
       "}\n",
       "\n",
       "mpl.figure.prototype._key_event_extra = function(event, name) {\n",
       "    var manager = IPython.notebook.keyboard_manager;\n",
       "    if (!manager)\n",
       "        manager = IPython.keyboard_manager;\n",
       "\n",
       "    // Check for shift+enter\n",
       "    if (event.shiftKey && event.which == 13) {\n",
       "        this.canvas_div.blur();\n",
       "        // select the cell after this one\n",
       "        var index = IPython.notebook.find_cell_index(this.cell_info[0]);\n",
       "        IPython.notebook.select(index + 1);\n",
       "    }\n",
       "}\n",
       "\n",
       "mpl.figure.prototype.handle_save = function(fig, msg) {\n",
       "    fig.ondownload(fig, null);\n",
       "}\n",
       "\n",
       "\n",
       "mpl.find_output_cell = function(html_output) {\n",
       "    // Return the cell and output element which can be found *uniquely* in the notebook.\n",
       "    // Note - this is a bit hacky, but it is done because the \"notebook_saving.Notebook\"\n",
       "    // IPython event is triggered only after the cells have been serialised, which for\n",
       "    // our purposes (turning an active figure into a static one), is too late.\n",
       "    var cells = IPython.notebook.get_cells();\n",
       "    var ncells = cells.length;\n",
       "    for (var i=0; i<ncells; i++) {\n",
       "        var cell = cells[i];\n",
       "        if (cell.cell_type === 'code'){\n",
       "            for (var j=0; j<cell.output_area.outputs.length; j++) {\n",
       "                var data = cell.output_area.outputs[j];\n",
       "                if (data.data) {\n",
       "                    // IPython >= 3 moved mimebundle to data attribute of output\n",
       "                    data = data.data;\n",
       "                }\n",
       "                if (data['text/html'] == html_output) {\n",
       "                    return [cell, data, j];\n",
       "                }\n",
       "            }\n",
       "        }\n",
       "    }\n",
       "}\n",
       "\n",
       "// Register the function which deals with the matplotlib target/channel.\n",
       "// The kernel may be null if the page has been refreshed.\n",
       "if (IPython.notebook.kernel != null) {\n",
       "    IPython.notebook.kernel.comm_manager.register_target('matplotlib', mpl.mpl_figure_comm);\n",
       "}\n"
      ],
      "text/plain": [
       "<IPython.core.display.Javascript object>"
      ]
     },
     "metadata": {},
     "output_type": "display_data"
    },
    {
     "data": {
      "text/html": [
       "<img src=\"data:image/png;base64,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\" width=\"1405\">"
      ],
      "text/plain": [
       "<IPython.core.display.HTML object>"
      ]
     },
     "metadata": {},
     "output_type": "display_data"
    }
   ],
   "source": [
    "dataset.plot.bar(x='x',y='y',figsize=(6, 6));"
   ]
  },
  {
   "cell_type": "code",
   "execution_count": 39,
   "metadata": {},
   "outputs": [
    {
     "data": {
      "text/markdown": [
       "> ## Selected point min and max year available"
      ],
      "text/plain": [
       "<IPython.core.display.Markdown object>"
      ]
     },
     "metadata": {},
     "output_type": "display_data"
    },
    {
     "data": {
      "text/markdown": [
       ">#### Sql applied:  "
      ],
      "text/plain": [
       "<IPython.core.display.Markdown object>"
      ]
     },
     "metadata": {},
     "output_type": "display_data"
    },
    {
     "data": {
      "text/markdown": [
       ">>```sql \n",
       "Select max(year) as max, min(year) as min from from nexgddp-historical-ACCESS1_0\n",
       "  ```"
      ],
      "text/plain": [
       "<IPython.core.display.Markdown object>"
      ]
     },
     "metadata": {},
     "output_type": "display_data"
    },
    {
     "data": {
      "text/html": [
       "<div>\n",
       "<style>\n",
       "    .dataframe thead tr:only-child th {\n",
       "        text-align: right;\n",
       "    }\n",
       "\n",
       "    .dataframe thead th {\n",
       "        text-align: left;\n",
       "    }\n",
       "\n",
       "    .dataframe tbody tr th {\n",
       "        vertical-align: top;\n",
       "    }\n",
       "</style>\n",
       "<table border=\"1\" class=\"dataframe\">\n",
       "  <thead>\n",
       "    <tr style=\"text-align: right;\">\n",
       "      <th></th>\n",
       "      <th>max(year)</th>\n",
       "      <th>min(year)</th>\n",
       "    </tr>\n",
       "  </thead>\n",
       "  <tbody>\n",
       "    <tr>\n",
       "      <th>0</th>\n",
       "      <td>1999-01-01T00:00:00+00:00</td>\n",
       "      <td>1950-01-01T00:00:00+00:00</td>\n",
       "    </tr>\n",
       "  </tbody>\n",
       "</table>\n",
       "</div>"
      ],
      "text/plain": [
       "                   max(year)                  min(year)\n",
       "0  1999-01-01T00:00:00+00:00  1950-01-01T00:00:00+00:00"
      ]
     },
     "metadata": {},
     "output_type": "display_data"
    }
   ],
   "source": [
    "display(Markdown(\"> ## Selected point min and max year available\"))\n",
    "sql = '''\n",
    "Select max(year) as max, min(year) as min from from nexgddp-historical-ACCESS1_0\n",
    "'''\n",
    "dataset = query(sql, dataset_id, None)\n",
    "display(dataset.head(6))\n",
    "#display(Markdown(\"> ### Visual\"))\n",
    "#display(dataset.plot.bar(x='x',y='y',figsize=(10, 10)));"
   ]
  },
  {
   "cell_type": "code",
   "execution_count": 29,
   "metadata": {
    "scrolled": false
   },
   "outputs": [
    {
     "data": {
      "text/markdown": [
       "> ## Selected point agg statistics for selected columns"
      ],
      "text/plain": [
       "<IPython.core.display.Markdown object>"
      ]
     },
     "metadata": {},
     "output_type": "display_data"
    },
    {
     "data": {
      "text/markdown": [
       ">  Available aggregation functions:\n",
       "* `avg(<column>)`\n",
       "* `min(<column>)`\n",
       "* `max(<column>)`\n",
       "* `std(<column>)` \n",
       "\n",
       "> ***`Group by <column>`  operation is not currently available*\n"
      ],
      "text/plain": [
       "<IPython.core.display.Markdown object>"
      ]
     },
     "metadata": {},
     "output_type": "display_data"
    },
    {
     "data": {
      "text/markdown": [
       ">#### Sql applied:  "
      ],
      "text/plain": [
       "<IPython.core.display.Markdown object>"
      ]
     },
     "metadata": {},
     "output_type": "display_data"
    },
    {
     "data": {
      "text/markdown": [
       ">>```sql \n",
       "Select avg(prmaxday) from nexgddp-historical-ACCESS1_0 where year between 1950 and 1955\n",
       "  ```"
      ],
      "text/plain": [
       "<IPython.core.display.Markdown object>"
      ]
     },
     "metadata": {},
     "output_type": "display_data"
    },
    {
     "data": {
      "text/html": [
       "<div>\n",
       "<style>\n",
       "    .dataframe thead tr:only-child th {\n",
       "        text-align: right;\n",
       "    }\n",
       "\n",
       "    .dataframe thead th {\n",
       "        text-align: left;\n",
       "    }\n",
       "\n",
       "    .dataframe tbody tr th {\n",
       "        vertical-align: top;\n",
       "    }\n",
       "</style>\n",
       "<table border=\"1\" class=\"dataframe\">\n",
       "  <thead>\n",
       "    <tr style=\"text-align: right;\">\n",
       "      <th></th>\n",
       "      <th>avg(prmaxday)</th>\n",
       "    </tr>\n",
       "  </thead>\n",
       "  <tbody>\n",
       "    <tr>\n",
       "      <th>0</th>\n",
       "      <td>52.568</td>\n",
       "    </tr>\n",
       "  </tbody>\n",
       "</table>\n",
       "</div>"
      ],
      "text/plain": [
       "   avg(prmaxday)\n",
       "0         52.568"
      ]
     },
     "metadata": {},
     "output_type": "display_data"
    }
   ],
   "source": [
    "display(Markdown(\"> ## Selected point agg statistics for selected columns\"))\n",
    "display(Markdown(\"\"\">  Available aggregation functions:\n",
    "* `avg(<column>)`\n",
    "* `min(<column>)`\n",
    "* `max(<column>)`\n",
    "* `std(<column>)` \n",
    "\n",
    "> ***`Group by <column>`  operation is not currently available*\n",
    "\"\"\"))\n",
    "sql = '''\n",
    "Select avg(prmaxday) from nexgddp-historical-ACCESS1_0 where year between 1950 and 1955\n",
    "'''\n",
    "dataset = query(sql, dataset_id, geostore)\n",
    "display(dataset.head(6))\n",
    "#display(Markdown(\"> ### Visual\"))\n",
    "#display(dataset.plot.bar(x='x',y='y',figsize=(10, 10)));"
   ]
  },
  {
   "cell_type": "code",
   "execution_count": 25,
   "metadata": {},
   "outputs": [
    {
     "data": {
      "text/markdown": [
       "> ## Histograms: range of years"
      ],
      "text/plain": [
       "<IPython.core.display.Markdown object>"
      ]
     },
     "metadata": {},
     "output_type": "display_data"
    },
    {
     "data": {
      "text/markdown": [
       "> **disclaimer: this will only make sesnse for bbox"
      ],
      "text/plain": [
       "<IPython.core.display.Markdown object>"
      ]
     },
     "metadata": {},
     "output_type": "display_data"
    },
    {
     "data": {
      "text/markdown": [
       "> #### Geojson to display:  \n",
       "\n",
       ">> ```json \n",
       "{'type': 'FeatureCollection', 'features': [{'type': 'Feature', 'properties': {}, 'geometry': {'type': 'Point', 'coordinates': [-3.6749267578125, 40.43858586704331]}}]} \n",
       "```"
      ],
      "text/plain": [
       "<IPython.core.display.Markdown object>"
      ]
     },
     "metadata": {},
     "output_type": "display_data"
    },
    {
     "data": {
      "text/markdown": [
       "> ### Geostore creation:  "
      ],
      "text/plain": [
       "<IPython.core.display.Markdown object>"
      ]
     },
     "metadata": {},
     "output_type": "display_data"
    },
    {
     "data": {
      "text/markdown": [
       ">#### Sql applied:  "
      ],
      "text/plain": [
       "<IPython.core.display.Markdown object>"
      ]
     },
     "metadata": {},
     "output_type": "display_data"
    },
    {
     "data": {
      "text/markdown": [
       ">>```sql \n",
       "Select st_histogram(prmaxday) from nexgddp-historical-ACCESS1_0 where year between 1950 and 1952\n",
       "  ```"
      ],
      "text/plain": [
       "<IPython.core.display.Markdown object>"
      ]
     },
     "metadata": {},
     "output_type": "display_data"
    },
    {
     "name": "stdout",
     "output_type": "stream",
     "text": [
      "{'errors': [{'detail': 'Internal Server Error', 'status': 500}]}\n"
     ]
    },
    {
     "ename": "AttributeError",
     "evalue": "'NoneType' object has no attribute 'head'",
     "output_type": "error",
     "traceback": [
      "\u001b[0;31m---------------------------------------------------------------------------\u001b[0m",
      "\u001b[0;31mAttributeError\u001b[0m                            Traceback (most recent call last)",
      "\u001b[0;32m<ipython-input-25-770fb570bcf6>\u001b[0m in \u001b[0;36m<module>\u001b[0;34m()\u001b[0m\n\u001b[1;32m     17\u001b[0m '''\n\u001b[1;32m     18\u001b[0m \u001b[0mdataset\u001b[0m \u001b[0;34m=\u001b[0m \u001b[0mquery\u001b[0m\u001b[0;34m(\u001b[0m\u001b[0msql\u001b[0m\u001b[0;34m,\u001b[0m \u001b[0mdataset_id\u001b[0m\u001b[0;34m,\u001b[0m \u001b[0mgeostore\u001b[0m\u001b[0;34m)\u001b[0m\u001b[0;34m\u001b[0m\u001b[0m\n\u001b[0;32m---> 19\u001b[0;31m \u001b[0mdisplay\u001b[0m\u001b[0;34m(\u001b[0m\u001b[0mdataset\u001b[0m\u001b[0;34m.\u001b[0m\u001b[0mhead\u001b[0m\u001b[0;34m(\u001b[0m\u001b[0;36m6\u001b[0m\u001b[0;34m)\u001b[0m\u001b[0;34m)\u001b[0m\u001b[0;34m\u001b[0m\u001b[0m\n\u001b[0m",
      "\u001b[0;31mAttributeError\u001b[0m: 'NoneType' object has no attribute 'head'"
     ]
    }
   ],
   "source": [
    "display(Markdown(\"> ## Histograms: range of years\"))\n",
    "display(Markdown(\"> **disclaimer: this will only make sesnse for bbox\"))\n",
    "\n",
    "payload = {\"geojson\":{\"type\":\"FeatureCollection\",\"features\":[{\"type\":\"Feature\",\"properties\":{},\"geometry\":{\"type\":\"Polygon\",\"coordinates\":[[[-4.4000244140625,40.14109012528468],[-2.955322265625,40.14109012528468],[-2.955322265625,40.65563874006118],[-4.4000244140625,40.65563874006118],[-4.4000244140625,40.14109012528468]]]}}]}}\n",
    "r = requests.post(api_post.format(endpoint='geostore'),json=payload)\n",
    "geostore=r.json()['data']['id']\n",
    "\n",
    "display(Markdown(\"\"\"> #### Geojson to display:  \n",
    "\n",
    ">> ```json \n",
    "{0} \n",
    "```\"\"\".format(geojson)))\n",
    "display(Markdown(\"> ### Geostore creation:  \"))\n",
    "\n",
    "sql = '''\n",
    "Select st_histogram(prmaxday) from nexgddp-historical-ACCESS1_0 where year between 1950 and 1952\n",
    "'''\n",
    "dataset = query(sql, dataset_id, geostore)\n",
    "display(dataset.head(6))"
   ]
  },
  {
   "cell_type": "code",
   "execution_count": null,
   "metadata": {
    "collapsed": true,
    "scrolled": false
   },
   "outputs": [],
   "source": [
    "display(Markdown(\"> ## Histograms: select one year\"))\n",
    "sql = '''\n",
    "Select st_histogram(prmaxday) from nexgddp-historical-ACCESS1_0 where year=1998\n",
    "'''\n",
    "dataset = query(sql, dataset_id, geostore)\n",
    "display(dataset.head(6))\n",
    "display(Markdown(\"> ### Visual\"))\n",
    "steps = (dataset['max'][0]-dataset['min'][0])/dataset['buckets'][0]\n",
    "print(dataset['min'][0], dataset['max'][0],steps)"
   ]
  },
  {
   "cell_type": "code",
   "execution_count": null,
   "metadata": {
    "collapsed": true
   },
   "outputs": [],
   "source": [
    "plt.plot(arange(dataset['min'][0], dataset['max'][0],steps),dataset['st_histogram'][0])\n",
    "plt.show()"
   ]
  },
  {
   "cell_type": "markdown",
   "metadata": {
    "heading_collapsed": true
   },
   "source": [
    "### Nexgddp layers "
   ]
  },
  {
   "cell_type": "markdown",
   "metadata": {
    "hidden": true
   },
   "source": []
  }
 ],
 "metadata": {
  "kernelspec": {
   "display_name": "Python 3",
   "language": "python",
   "name": "python3"
  },
  "language_info": {
   "codemirror_mode": {
    "name": "ipython",
    "version": 3
   },
   "file_extension": ".py",
   "mimetype": "text/x-python",
   "name": "python",
   "nbconvert_exporter": "python",
   "pygments_lexer": "ipython3",
   "version": "3.6.1"
  },
  "toc": {
   "colors": {
    "hover_highlight": "#DAA520",
    "navigate_num": "#000000",
    "navigate_text": "#333333",
    "running_highlight": "#FF0000",
    "selected_highlight": "#FFD700",
    "sidebar_border": "#EEEEEE",
    "wrapper_background": "#FFFFFF"
   },
   "moveMenuLeft": true,
   "nav_menu": {
    "height": "207px",
    "width": "252px"
   },
   "navigate_menu": true,
   "number_sections": true,
   "sideBar": false,
   "threshold": "2",
   "toc_cell": true,
   "toc_position": {
    "height": "49px",
    "left": "3px",
    "right": "20px",
    "top": "131px",
    "width": "150px"
   },
   "toc_section_display": "none",
   "toc_window_display": true,
   "widenNotebook": false
  },
  "varInspector": {
   "cols": {
    "lenName": 16,
    "lenType": 16,
    "lenVar": 40
   },
   "kernels_config": {
    "python": {
     "delete_cmd_postfix": "",
     "delete_cmd_prefix": "del ",
     "library": "var_list.py",
     "varRefreshCmd": "print(var_dic_list())"
    },
    "r": {
     "delete_cmd_postfix": ") ",
     "delete_cmd_prefix": "rm(",
     "library": "var_list.r",
     "varRefreshCmd": "cat(var_dic_list()) "
    }
   },
   "types_to_exclude": [
    "module",
    "function",
    "builtin_function_or_method",
    "instance",
    "_Feature"
   ],
   "window_display": false
  }
 },
 "nbformat": 4,
 "nbformat_minor": 2
}
