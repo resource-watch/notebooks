{
 "cells": [
  {
   "cell_type": "markdown",
   "metadata": {
    "toc": "true"
   },
   "source": [
    "# Table of Contents\n",
    " <p><div class=\"lev1 toc-item\"><a href=\"#Widget-object-definition\" data-toc-modified-id=\"Widget-object-definition-1\"><span class=\"toc-item-num\">1&nbsp;&nbsp;</span>Widget object definition</a></div><div class=\"lev2 toc-item\"><a href=\"#Index\" data-toc-modified-id=\"Index-11\"><span class=\"toc-item-num\">1.1&nbsp;&nbsp;</span>Index</a></div><div class=\"lev2 toc-item\"><a href=\"#Basic-object-definition\" data-toc-modified-id=\"Basic-object-definition-12\"><span class=\"toc-item-num\">1.2&nbsp;&nbsp;</span>Basic object definition</a></div><div class=\"lev2 toc-item\"><a href=\"#Definition:-widgetConfig\" data-toc-modified-id=\"Definition:-widgetConfig-13\"><span class=\"toc-item-num\">1.3&nbsp;&nbsp;</span>Definition: widgetConfig</a></div><div class=\"lev2 toc-item\"><a href=\"#Templates-definition\" data-toc-modified-id=\"Templates-definition-14\"><span class=\"toc-item-num\">1.4&nbsp;&nbsp;</span>Templates definition</a></div>"
   ]
  },
  {
   "cell_type": "markdown",
   "metadata": {},
   "source": [
    "# Widget object definition"
   ]
  },
  {
   "cell_type": "markdown",
   "metadata": {},
   "source": [
    "## Index\n",
    "\n",
    "* [Basic object definition](#Basic object definition)\n",
    "* [Widget types](#Widget types)\n",
    "* Definition: [widgetConfig](#layerConfig)\n",
    "    * Definition: [interaction_config](#interactionConfig)\n",
    "    * Definition: [sql_config](#pulseConfig)\n",
    "    * Definition: [params_config](#pulseConfig)  \n",
    "    \n",
    "\n",
    "* Templates definition"
   ]
  },
  {
   "cell_type": "markdown",
   "metadata": {},
   "source": [
    "The aim of this document is to define a common widget object across all projects powered by the RW-API. For most cases Vega v2.3 is the vizzualization grammar used to generate the charts.\n",
    "\n",
    "Also as requested we will provide a couple of Widget templates for the most common used\n",
    "Right now we have identify 4 types of widgets:  \n",
    "\n",
    "* Vega charts widgets\n",
    "* embed widgets\n",
    "* Map widgets\n",
    "* text widgets\n",
    "\n",
    "We are going to cover all of them on our proposal.  \n",
    "\n",
    "For more information here there is a compendium of documantation: \n",
    "\n",
    "[RW postman collection](https://www.getpostman.com/collections/5f3e83c82ad5a6066657)  \n",
    "[RW documentation](https://resource-watch.github.io/doc-api/)  \n",
    "[Vega](https://carto.com/docs/carto-engine/cartocss/properties/)  \n",
    "[Vega editor v2](https://vizz-vega-editor.herokuapp.com/?mode=vega&renderer=svg)"
   ]
  },
  {
   "cell_type": "markdown",
   "metadata": {},
   "source": [
    "## Basic object definition"
   ]
  },
  {
   "cell_type": "markdown",
   "metadata": {},
   "source": [
    "```json\n",
    "{\n",
    "\"data\": {\n",
    "    \"id\": <widget_id>,\n",
    "    \"type\": \"widget\",\n",
    "    \"attributes\": {\n",
    "        \"userId\": <user_id>,\n",
    "        \"dataset\": <dataset_id>,\n",
    "        \"application\": [\"rw\"],\n",
    "        \"name\": <widget_name>,\n",
    "        \"slug\": <widget_slug>,\n",
    "        \"queryUrl\": \"query/5725b51a-f966-46f9-ac53-7e25fe052c00?sql=select * from combined01_prepared limit 100\",\n",
    "        \"widgetConfig\": {...}\n",
    "        \"template\": false,\n",
    "        \"default\": false\n",
    "        }\n",
    "    }\n",
    "}\n",
    "``` \n",
    "\n",
    "Where each key parameter:  \n",
    "\n",
    "| Field | Description | Type | Accepted values | Required |\n",
    "|:-------|:-------------|:------|:--------:|:----------|\n",
    "|**application**|Application to which the layer belongs|Array|gfw, forest-atlas, rw, prep, aqueduct, data4sdg|Yes|\n",
    "|**name**|Administrative name of the layer|Text|Any Text|Yes|\n",
    "|**slug**|human redeable identifier of the layer|Text|Any Text|Yes|\n",
    "|**queryUrl**|query to access the data|Text|Valid Text|Yes|\n",
    "|**widgetConfig**|widget definition|Object|Valid object|Yes|  \n",
    "|**default**|Especifies if the layer is the main layer visualization of the dataset. There can only be one by default per dataset and per application|Boolean|true, false|Yes|  \n",
    "|**template**|If it is an app template |Boolean|true, false|Yes|"
   ]
  },
  {
   "cell_type": "markdown",
   "metadata": {},
   "source": [
    "## Definition: widgetConfig"
   ]
  },
  {
   "cell_type": "markdown",
   "metadata": {},
   "source": [
    "Depend on the type of widget we will find 2 different schemas:\n",
    "* **Schema for text, embed and map types:**\n",
    "\n",
    "```json\n",
    "\"widgetConfig\":{\n",
    "    \"type\":\"map\",\n",
    "    \"layer_id\": \"\",\n",
    "    ...\n",
    "}\n",
    "```\n",
    "```json\n",
    "\"widgetConfig\":{\n",
    "    \"type\":\"embed\",\n",
    "    \"url\": \"\",\n",
    "    ...\n",
    "}\n",
    "```\n",
    "```json\n",
    "\"widgetConfig\":{\n",
    "    \"type\":\"text\",\n",
    "    \"data\":{\n",
    "        \"url\":\"select * from table where year = {{year}}\"\n",
    "        }\n",
    "    \"template\": \"{{value}} blabla {{verb}} bla bla.\",\n",
    "    \"params_config\": [{\n",
    "        \"key\": \"year\",\n",
    "        \"required\": true\n",
    "        },\n",
    "        ...\n",
    "       ],\n",
    "    \"template_config\": [{\n",
    "        \"key\": \"verb\"\n",
    "        },\n",
    "        {\n",
    "        \"key\": \"value\",\n",
    "        \"suffix\": \"%\"\n",
    "        },\n",
    "        ...\n",
    "    ]\n",
    "\n",
    "    ...\n",
    "}\n",
    "```\n",
    "\n",
    "| Field | Description | Type | Accepted values | Required |\n",
    "|:-------|:-------------|:------|:--------:|:----------|\n",
    "|**type**|widget type|text|one of: map, embed, text|Yes|\n",
    "|**layer_id**|id of the layer that want to be displayed as a widget|text|valid layer_id|Yes for type: map|\n",
    "|**url**|embed link|text|valid url|Yes for type: embed|\n",
    "|**data**|widget type|object|valid object|Yes for type: text|\n",
    "|->**url**|data url|text|one of: map, embed, text|Yes for type: text|\n",
    "|**template**|text as template to be displayed|text|valid text template|Yes for type: text|\n",
    "|**params_config**|Template definition for data url|object array|valid object array|Yes for type: text|\n",
    "|**template_config**|Template definition for text template to be displayed|object array|valid object array|Yes for type: text|\n",
    "\n",
    "\n",
    "\n",
    "\n",
    "* **[Vega 2.x chart schema:](https://github.com/vega/vega/wiki/Visualization)**  \n",
    "\n",
    "```json\n",
    "\"widgetConfig\":{\n",
    "    \"name\": \"\", // vega 2.3 param\n",
    "    \"width\": 100, // vega 2.3 param\n",
    "    \"height\": 600, // vega 2.3 param\n",
    "    \"viewport\": [90,500], // vega 2.3 param\n",
    "    \"padding\": <{top, left, right, bottom}/\"auto\"/\"strict\"/100>, // vega 2.3 param\n",
    "    \"background\":\"\", // vega 2.3 param\n",
    "    \"scene\":{...}, // vega 2.3 param\n",
    "    \"signals\": [...], // vega 2.3 param\n",
    "    \"data\": [...], // vega 2.3 param\n",
    "    \"scales\": [...], // vega 2.3 param\n",
    "    \"axes\": [...], // vega 2.3 param\n",
    "    \"legends\": [...], // vega 2.3 param\n",
    "    \"marks\": [...], // vega 2.3 param\n",
    "    ...\n",
    "    \n",
    "    \"interaction_config\":[...],\n",
    "    \"sql_config\":[...], // Aqueduct app specific\n",
    "    \"params_config\":[...], // Aqueduct app specific\n",
    "    \n",
    "}\n",
    "```"
   ]
  },
  {
   "cell_type": "markdown",
   "metadata": {},
   "source": [
    "### Definition: interaction_config"
   ]
  },
  {
   "cell_type": "markdown",
   "metadata": {},
   "source": [
    "```json\n",
    "  \"interaction_config\":[\n",
    "      {\n",
    "    \"name\": \"tooltip\",\n",
    "    \"config\": {\n",
    "        \"fields\": [\n",
    "            {\n",
    "            \"key\": \"name\",\n",
    "            \"label\": \"Impact\"\n",
    "            },\n",
    "            {\n",
    "            \"key\": \"y\",\n",
    "            \"label\": \"Value\",\n",
    "            \"format\": \".3s\"\n",
    "            }\n",
    "        ]\n",
    "       }\n",
    "    },\n",
    "  ...\n",
    "  ],\n",
    "```\n",
    "\n",
    "| Field | Description | Type | Accepted values | Required |\n",
    "|:-------|:-------------|:------|:--------:|:----------|\n",
    "|**type**|widget type|text|one of: map, embed, text|Yes|"
   ]
  },
  {
   "cell_type": "markdown",
   "metadata": {},
   "source": [
    "### Definition: sql_config"
   ]
  },
  {
   "cell_type": "markdown",
   "metadata": {},
   "source": [
    "*Aqueduct app specific\n",
    "```json\n",
    "\"sql_config\":[\n",
    "    {\n",
    "    \"key\": \"and\",\n",
    "    \"key_params\": [\n",
    "        {\n",
    "            \"key\": \"year\",\n",
    "            \"required\": true\n",
    "        },\n",
    "        {\n",
    "            \"key\": \"iso\",\n",
    "            \"required\": true\n",
    "        },\n",
    "        ...\n",
    "        ]\n",
    "    },\n",
    "    ...\n",
    "],\n",
    "```\n",
    "\n",
    "| Field | Description | Type | Accepted values | Required |\n",
    "|:-------|:-------------|:------|:--------:|:----------|\n",
    "|**key**|key to look for|text|valid text|Yes|\n",
    "|**key_params**| |object array|object array|Yes|\n",
    "|->**key**|key to look for|text|valid text|Yes|\n",
    "|->**required**|widget type|boolean|true, false|Yes|"
   ]
  },
  {
   "cell_type": "markdown",
   "metadata": {},
   "source": [
    "### Definition: params_config"
   ]
  },
  {
   "cell_type": "markdown",
   "metadata": {},
   "source": [
    "*app specific: depending the application the use may change\n",
    "- Aqueduct: it is used to parametrize parts of aquery\n",
    "```json\n",
    "\"params_config\":[\n",
    "    {\n",
    "    \"key\": \"year\",\n",
    "    \"required\": true\n",
    "    },\n",
    "    ...\n",
    "],\n",
    "```\n",
    "\n",
    "| Field | Description | Type | Accepted values | Required |\n",
    "|:-------|:-------------|:------|:--------:|:----------|\n",
    "|**key**|key to look for|text|valid text|Yes|\n",
    "|**required**|widget type|boolean|true, false|Yes|"
   ]
  },
  {
   "cell_type": "markdown",
   "metadata": {},
   "source": [
    "## Templates definition"
   ]
  },
  {
   "cell_type": "code",
   "execution_count": null,
   "metadata": {
    "collapsed": true
   },
   "outputs": [],
   "source": []
  }
 ],
 "metadata": {
  "kernelspec": {
   "display_name": "Python 3",
   "language": "python",
   "name": "python3"
  },
  "language_info": {
   "codemirror_mode": {
    "name": "ipython",
    "version": 3
   },
   "file_extension": ".py",
   "mimetype": "text/x-python",
   "name": "python",
   "nbconvert_exporter": "python",
   "pygments_lexer": "ipython3",
   "version": "3.6.1"
  },
  "latex_envs": {
   "LaTeX_envs_menu_present": true,
   "autocomplete": true,
   "bibliofile": "biblio.bib",
   "cite_by": "apalike",
   "current_citInitial": 1,
   "eqLabelWithNumbers": true,
   "eqNumInitial": 1,
   "hotkeys": {
    "equation": "Ctrl-E",
    "itemize": "Ctrl-I"
   },
   "labels_anchors": false,
   "latex_user_defs": false,
   "report_style_numbering": false,
   "user_envs_cfg": false
  },
  "toc": {
   "colors": {
    "hover_highlight": "#DAA520",
    "navigate_num": "#000000",
    "navigate_text": "#333333",
    "running_highlight": "#FF0000",
    "selected_highlight": "#FFD700",
    "sidebar_border": "#EEEEEE",
    "wrapper_background": "#FFFFFF"
   },
   "moveMenuLeft": true,
   "nav_menu": {
    "height": "102px",
    "width": "252px"
   },
   "navigate_menu": true,
   "number_sections": true,
   "sideBar": true,
   "threshold": "2",
   "toc_cell": true,
   "toc_section_display": "block",
   "toc_window_display": true,
   "widenNotebook": false
  },
  "varInspector": {
   "cols": {
    "lenName": 16,
    "lenType": 16,
    "lenVar": 40
   },
   "kernels_config": {
    "python": {
     "delete_cmd_postfix": "",
     "delete_cmd_prefix": "del ",
     "library": "var_list.py",
     "varRefreshCmd": "print(var_dic_list())"
    },
    "r": {
     "delete_cmd_postfix": ") ",
     "delete_cmd_prefix": "rm(",
     "library": "var_list.r",
     "varRefreshCmd": "cat(var_dic_list()) "
    }
   },
   "types_to_exclude": [
    "module",
    "function",
    "builtin_function_or_method",
    "instance",
    "_Feature"
   ],
   "window_display": false
  }
 },
 "nbformat": 4,
 "nbformat_minor": 2
}
