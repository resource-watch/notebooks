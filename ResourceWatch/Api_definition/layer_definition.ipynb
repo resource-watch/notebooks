{
 "cells": [
  {
   "cell_type": "markdown",
   "metadata": {
    "toc": "true"
   },
   "source": [
    "# Table of Contents\n",
    " <p><div class=\"lev1 toc-item\"><a href=\"#Layer-object-definition\" data-toc-modified-id=\"Layer-object-definition-1\"><span class=\"toc-item-num\">1&nbsp;&nbsp;</span>Layer object definition</a></div><div class=\"lev2 toc-item\"><a href=\"#Index\" data-toc-modified-id=\"Index-11\"><span class=\"toc-item-num\">1.1&nbsp;&nbsp;</span>Index</a></div><div class=\"lev2 toc-item\"><a href=\"#Basic-object-definition-\" data-toc-modified-id=\"Basic-object-definition--12\"><span class=\"toc-item-num\">1.2&nbsp;&nbsp;</span>Basic object definition </a></div><div class=\"lev2 toc-item\"><a href=\"#Layer-Provider-&amp;-Layer-Type-definition-\" data-toc-modified-id=\"Layer-Provider-&amp;-Layer-Type-definition--13\"><span class=\"toc-item-num\">1.3&nbsp;&nbsp;</span>Layer Provider &amp; Layer Type definition </a></div><div class=\"lev2 toc-item\"><a href=\"#Definition:-layerConfig-object-\" data-toc-modified-id=\"Definition:-layerConfig-object--14\"><span class=\"toc-item-num\">1.4&nbsp;&nbsp;</span>Definition: layerConfig object </a></div><div class=\"lev2 toc-item\"><a href=\"#interactionConfig-definition--\" data-toc-modified-id=\"interactionConfig-definition---15\"><span class=\"toc-item-num\">1.5&nbsp;&nbsp;</span>interactionConfig definition  </a></div><div class=\"lev2 toc-item\"><a href=\"#Definition:-legendConfig-object-\" data-toc-modified-id=\"Definition:-legendConfig-object--16\"><span class=\"toc-item-num\">1.6&nbsp;&nbsp;</span>Definition: legendConfig object </a></div>"
   ]
  },
  {
   "cell_type": "markdown",
   "metadata": {},
   "source": [
    "# Layer object definition"
   ]
  },
  {
   "cell_type": "markdown",
   "metadata": {},
   "source": [
    "## Index\n",
    "\n",
    "*  [Basic object definition](#Basic_object_definition)\n",
    "*  [Layer Provider](#Layer_Provider)\n",
    "* Definition: [layerConfig](#layerConfig)\n",
    "    * Definition: [pulseConfig](#pulseConfig)\n",
    "* Definition: [interactionConfig](#interactionConfig)\n",
    "* Definition: [legendConfig](#legendConfig)"
   ]
  },
  {
   "cell_type": "markdown",
   "metadata": {},
   "source": [
    "The aim of this document is to define a common layer object across all projects powered by the RW-API (for our own sanity)  \n",
    "\n",
    "Right now we have identify 6 types of layers:  \n",
    "\n",
    "* Raster tile\n",
    "* WMS\n",
    "* Vector tile\n",
    "* Geojson\n",
    "* Image overlay\n",
    "* Canvas layer\n",
    "\n",
    "We are going to try to cover all of them on our proposal.\n",
    "For more information here there is a compendium of documantation:  \n",
    "[RW postman collection](https://www.getpostman.com/collections/5f3e83c82ad5a6066657)  \n",
    "[RW documentation](https://resource-watch.github.io/doc-api/)   \n",
    "[Leaflet](http://leafletjs.com/reference-1.0.3.html)    \n",
    "[CARTOcss](https://carto.com/docs/carto-engine/cartocss/properties/)  \n",
    "[Wms sld styling](http://server.arcgis.com/es/server/latest/publish-services/linux/customizing-a-wms-getfeatureinfo-response.htm)  \n",
    "[Feature and image service styling](http://resources.arcgis.com/en/help/arcgis-rest-api/#/The_ArcGIS_REST_API/02r300000054000000/)  "
   ]
  },
  {
   "cell_type": "markdown",
   "metadata": {},
   "source": [
    "## Basic object definition <a name=\"Basic object definition\"></a>"
   ]
  },
  {
   "cell_type": "markdown",
   "metadata": {},
   "source": [
    "Our proposal for the new basic layer definition is:  \n",
    "\n",
    "```json\n",
    "{ \"id\": \"<layer-id>\",\n",
    "  \"type\": \"layer\",\n",
    "  \"attributes\": {\n",
    "      \"slug\": \"<slug>\",\n",
    "      \"userId\": \"<user-id>\",\n",
    "      \"dataset\": \"<dataset-id>\",\n",
    "      \"application\":[\"apps\"],\n",
    "      \"name\":\"Example layer\",\n",
    "      \"default\": true,\n",
    "      \"published\": true,\n",
    "      \"layerProvider\": \"carto\",\n",
    "      \"layerType\": \"raster-tile\",\n",
    "      \"layerConfig\":{\n",
    "              \"body\":{...},\n",
    "              \"pulseConfig\": {...},\n",
    "              ...\n",
    "          },\n",
    "      \"legendConfig\":{...},\n",
    "      \"interactionConfig\":{...}\n",
    "   }\n",
    "}\n",
    "```\n",
    "\n",
    "Where each key parameter:  \n",
    "\n",
    "| Field | Description | Type | Accepted values | Required |\n",
    "|:-------|:-------------|:------|:--------:|:----------|\n",
    "|**application**|Application to which the layer belongs|Array|gfw, forest-atlas, rw, prep, aqueduct, data4sdg|Yes|\n",
    "|**name**|Administrative name of the layer|Text|Any Text|Yes|\n",
    "|**default**|Especifies if the layer is the main layer visualization of the dataset.   There can only be one by default per dataset and per application|Boolean|true, false|Yes|\n",
    "|**published**|If it is published within the app |Boolean|true, false|Yes|\n",
    "|**layerProvider**|Service used to retrive the visualization|Text|Any Text|Yes|\n",
    "|**layerType**|Type of layer|Text|Any Text|Yes|\n",
    "|**layerConfig**|Layer definition|Object|Valid object|Yes|\n",
    "|**legendConfig**|Legend configuration|Object|Valid object|Yes|\n",
    "|**interactionConfig**|Interaction configuration for the layer|Object|Valid object|Yes|  \n",
    "\n",
    "\n",
    "This will work like:  \n",
    "1.- Each ```layerProvider``` will have its own ```layerType```  \n",
    "2.- Each ```layerType``` will define ```layerConfig``` possibilities  \n",
    "3.- ```layerType``` will also define the ```inteactionConfig```  \n",
    "4.- Depend on the data we will have a different set of ```legendConfig``` definition  \n",
    "\n",
    "\n"
   ]
  },
  {
   "cell_type": "markdown",
   "metadata": {},
   "source": [
    "## Layer Provider & Layer Type definition <a name=\"Layer Provider\"></a>"
   ]
  },
  {
   "cell_type": "markdown",
   "metadata": {},
   "source": [
    "|layerProvider|layerType accepted values|\n",
    "|:------------|:------------------------|\n",
    "|carto|tile, canvas, geojson|\n",
    "|esriFeatureService|geojson|\n",
    "|esriMapService|tile|\n",
    "|esriImageService|tile, canvas, overlay|\n",
    "|esriVectorService|vector|\n",
    "|tileService|tile, canvas|\n",
    "|wmsService|wms, wfs|\n",
    "|mapbox|vector|\n",
    "|gee (not yet especified)|tile, canvas, geojson|\n",
    "|nasaGibs|tile|"
   ]
  },
  {
   "cell_type": "markdown",
   "metadata": {
    "collapsed": true
   },
   "source": [
    "## Definition: layerConfig object <a name=\"layerConfig\"></a>"
   ]
  },
  {
   "cell_type": "markdown",
   "metadata": {},
   "source": [
    "```json\n",
    "{\n",
    "  \"body\":{...},\n",
    "  \"pulseConfig\": {...},\n",
    "  ...\n",
    "}\n",
    "``` \n",
    "\n",
    "Depending on the ```layerProvider``` and ```layerType``` there are variations over whats inside body and pulseConfig and also other parameters can be added."
   ]
  },
  {
   "cell_type": "markdown",
   "metadata": {},
   "source": [
    "|provider|type (accepted values)|\n",
    "|:------------|:------------------------|\n",
    "|cartodb|Carto tile layers,tileLayer, canvas, geojson, wms|\n",
    "|featureservice|featureLayer, dynamicMapLayer, imageMapLayer, Vector.Layer, tileLayer, wms|\n",
    "|esriMapService|tile|\n",
    "|esriImageService|tile, canvas, overlay|\n",
    "|esriVectorService|vector|\n",
    "|tileService|tile, canvas|\n",
    "|wmsService|wms, wfs|\n",
    "|mapbox|vector|\n",
    "|gee (not yet especified)|tile, canvas, geojson|\n",
    "|nasaGibs|tile|\n",
    "\n",
    "\n"
   ]
  },
  {
   "cell_type": "markdown",
   "metadata": {},
   "source": [
    "### Diferent layers definition"
   ]
  },
  {
   "cell_type": "markdown",
   "metadata": {},
   "source": [
    "#### [Carto tile layer](https://carto.com/docs/carto-engine/maps-api/mapconfig)  \n",
    "\n",
    "This layers relays on the carto maps api definition. Inside body, we should use it. outside, we should have the account, and depend on the app there can be other params associated like in aqueduct or global forest watch.  \n",
    "This layer configuration accepts gridjson as interactivity.\n",
    "\n",
    "```json\n",
    "{\n",
    "    \"account\": \"insight\",\n",
    "    \"body\":{\n",
    "        \"maxzoom\": 18,\n",
    "        \"minzoom\": 3,\n",
    "        \"layers\": [{\n",
    "          \"type\": \"cartodb\",\n",
    "          \"options\": {\n",
    "              \"sql\": \"\",\n",
    "              \"cartocss\": \"\",\n",
    "              \"cartocss_version\": \"2.3.0\",\n",
    "              \"interactivity\": [\"cartodb_id\", \"iso3\"]\n",
    "              ...\n",
    "                }\n",
    "            }]    \n",
    "        },\n",
    "    \"pulseConfig\": {...}\n",
    "}\n",
    "``` \n",
    "\n",
    "\n",
    "|Field|Description|Type|Accepted values|Required|\n",
    "|:----|:----------|:---|:--------------|:-------|\n",
    "|```account```|Carto account hosting data|text|Any valid account name|yes|\n",
    "|```body```|Visualization configuration|object|[Valid Layergroup configurations](https://carto.com/docs/carto-engine/maps-api/mapconfig)|yes|\n",
    "|```pulseConfig```|if exists how to visualize this layer in planet pulse|object|valid planet pulse object|no|\n"
   ]
  },
  {
   "cell_type": "markdown",
   "metadata": {},
   "source": [
    "#### Carto canvas."
   ]
  },
  {
   "cell_type": "markdown",
   "metadata": {},
   "source": [
    "#### [esriFeatureService Layer](http://esri.github.io/esri-leaflet/api-reference/layers/feature-layer.html)\n",
    "\n",
    "```json\n",
    "{\n",
    "    \"type\": \"featureLayer\",\n",
    "    \"body\": {\n",
    "        \"url\": \"http://services5.arcgis.com/jPWpe1SD1RQyeOMy/ArcGIS/rest/services/Areas_de_Risco/FeatureServer/0\",\n",
    "\t    \"style\": \"function (feature) { var c,o = 0.8; switch (feature.properties.GRAU_RISCO) { case 'Alto':  c = '#ffdb5d';  break; case 'Muito Alto':  c = '#c15467'; break;default:  c = '#ffdb5d'; return {color: c, opacity: o, weight: 5};}}\",\n",
    "\t    \"useCors\": false\n",
    "\t  },\n",
    "    \"pulseConfig\": {...}\n",
    "\t}\n",
    "``` \n",
    "|Field|Description|Type|Accepted values|Required|\n",
    "|:----|:----------|:---|:--------------|:-------|\n",
    "|```type```|Contructor name|Text|\"featureLayer\"|yes|\n",
    "|```body```|Visualization configuration|object|[Valid configuration](http://esri.github.io/esri-leaflet/api-reference/layers/feature-layer.html)|yes|\n",
    "|```pulseConfig```|if exists how to visualize this layer in planet pulse|object|valid planet pulse object|no|\n"
   ]
  },
  {
   "cell_type": "markdown",
   "metadata": {},
   "source": [
    "#### [esriMapService tiles](http://esri.github.io/esri-leaflet/api-reference/layers/dynamic-map-layer.html)\n",
    "\n",
    "```json\n",
    "{\n",
    "\t  \"type\": \"dynamicMapLayer\",\n",
    "\t  \"body\": {\n",
    "\t    \"url\": \"https://services.arcgisonline.com/ArcGIS/rest/services/USA_Topo_Maps/MapServer\",\n",
    "\t    \"layers\": [8],\n",
    "\t    \"useCors\": false\n",
    "\t  }\n",
    "      \"pulseConfig\": {...}\n",
    "\t}\n",
    "``` \n",
    "|Field|Description|Type|Accepted values|Required|\n",
    "|:----|:----------|:---|:--------------|:-------|\n",
    "|```type```|Contructor name|Text|\"dynamicMapLayer\"|yes|\n",
    "|```body```|Visualization configuration|object|[Valid configuration](http://esri.github.io/esri-leaflet/api-reference/layers/dynamic-map-layer.html)|yes|\n",
    "|```pulseConfig```|if exists how to visualize this layer in planet pulse|object|valid planet pulse object|no|\n"
   ]
  },
  {
   "cell_type": "markdown",
   "metadata": {},
   "source": [
    "#### [esriImageService](http://esri.github.io/esri-leaflet/api-reference/layers/image-map-layer.html)\n",
    "\n",
    "```json\n",
    "{\n",
    "  \"type\": \"imageMapLayer\",\n",
    "  \"body\": {\n",
    "    \"url\": \"http://sampleserver3.arcgisonline.com/ArcGIS/rest/services/World/Temperature/ImageServer\",\n",
    "    \"mosaicRule\": {\n",
    "        \"mosaicMethod\": \"esriMosaicLockRaster\",\n",
    "        \"lockRasterIds\": [8]\n",
    "    },\n",
    "    \"useCors\": false\n",
    "  },\n",
    "  \"pulseConfig\": {...}\n",
    "}\n",
    "``` \n",
    "|Field|Description|Type|Accepted values|Required|\n",
    "|:----|:----------|:---|:--------------|:-------|\n",
    "|```type```|Contructor name|Text|\"imageMapLayer\"|yes|\n",
    "|```body```|Visualization configuration|object|[Valid configuration](http://esri.github.io/esri-leaflet/api-reference/layers/image-map-layer.html)|yes|\n",
    "|```pulseConfig```|if exists how to visualize this layer in planet pulse|object|valid planet pulse object|no|"
   ]
  },
  {
   "cell_type": "markdown",
   "metadata": {},
   "source": [
    "#### [esriVectorService](http://esri.github.io/esri-leaflet/api-reference/layers/vector-layer.html)\n",
    "\n",
    "```json\n",
    "{\n",
    "  \"type\": \"Vector.Layer\",\n",
    "  \"body\": {\n",
    "    \"id\":\"bd505ce3efff479bb4e87b182f180159\"\n",
    "  },\n",
    "  \"pulseConfig\": {...}\n",
    "}\n",
    "``` \n",
    "|Field|Description|Type|Accepted values|Required|\n",
    "|:----|:----------|:---|:--------------|:-------|\n",
    "|```type```|Contructor name|Text|\"Vector.Layer\"|yes|\n",
    "|```body```|Visualization configuration|object|[Valid configuration](http://esri.github.io/esri-leaflet/api-reference/layers/vector-layer.html)|yes|\n",
    "|```pulseConfig```|if exists how to visualize this layer in planet pulse|object|valid planet pulse object|no|"
   ]
  },
  {
   "cell_type": "markdown",
   "metadata": {},
   "source": [
    "#### [tileService](http://leafletjs.com/reference-1.0.3.html#tilelayer)\n",
    "\n",
    "```json\n",
    "{\n",
    "\"type\": \"tileLayer\",\n",
    "\"url\": \"https://storage.googleapis.com/global-surface-water/maptiles/transitions/{z}/{x}/{y}.png\",\n",
    "\"body\": {\n",
    "    \"format\": \"image/png\",\n",
    "    \"maxZoom\": 13,\n",
    "    \"errorTileUrl\" : \"https://storage.googleapis.com/global-surface-water/downloads_ancillary/blank.png\",\n",
    "    \"attribution\": \"2016 EC JRC/Google\",\n",
    "    \"transparent\": true\n",
    "         },\n",
    "\"pulseConfig\": {...}\n",
    "}\n",
    "``` \n",
    "|Field|Description|Type|Accepted values|Required|\n",
    "|:----|:----------|:---|:--------------|:-------|\n",
    "|```type```|Contructor name|Text|\"tileLayer\"|yes|\n",
    "|```url```|Tileset url|Text|valid url|yes|\n",
    "|```body```|Visualization configuration options|object|[Valid configuration](http://leafletjs.com/reference-1.0.3.html#tilelayer)|yes|\n",
    "|```pulseConfig```|if exists how to visualize this layer in planet pulse|object|valid planet pulse object|no|"
   ]
  },
  {
   "cell_type": "markdown",
   "metadata": {},
   "source": [
    "#### [wmsService](http://leafletjs.com/reference-1.0.3.html#tilelayer-wms)\n",
    "```json\n",
    "{\n",
    "\"type\": \"wms\",\n",
    "\"url\": \"http://raster.nationalmap.gov/arcgis/services/LandCover/USGS_EROS_LandCover_NLCD/MapServer/WMSServer\",\n",
    "\"body\": {\n",
    "    \"layers\": \"5\",\n",
    "    \"format\": \"image/png\",\n",
    "    \"transparent\": true\n",
    "    },\n",
    "\"pulseConfig\": {...}\n",
    "}\n",
    "``` \n",
    "|Field|Description|Type|Accepted values|Required|\n",
    "|:----|:----------|:---|:--------------|:-------|\n",
    "|```type```|Contructor name|Text|\"wms\"|yes|\n",
    "|```url```|Tileset url|Text|valid url|yes|\n",
    "|```body```|Visualization configuration options|object|[Valid configuration](http://leafletjs.com/reference-1.0.3.html#tilelayer-wms)|yes|\n",
    "|```pulseConfig```|if exists how to visualize this layer in planet pulse|object|valid planet pulse object|no|"
   ]
  },
  {
   "cell_type": "markdown",
   "metadata": {},
   "source": [
    "#### [Vector tiles](http://leaflet.github.io/Leaflet.VectorGrid/vectorgrid-api-docs.html#vectorgrid-protobuf)\n",
    "```json\n",
    "{\n",
    "\"type\": \"vector\",\n",
    "\"url\": \"https://www.tilehosting.com/data/v3/{z}/{x}/{y}.pbf\",\n",
    "\"body\": {\n",
    "    \"vectorTileLayerStyles\": { ... },\n",
    "    \"maxNativeZoom\": 14\n",
    "    },\n",
    "\"pulseConfig\": {...}\n",
    "}\n",
    "``` \n",
    "|Field|Description|Type|Accepted values|Required|\n",
    "|:----|:----------|:---|:--------------|:-------|\n",
    "|```type```|Contructor name|Text|\"vector\"|yes|\n",
    "|```url```|Tileset url|Text|valid url|yes|\n",
    "|```body```|Visualization configuration options|object|[Valid configuration](http://leaflet.github.io/Leaflet.VectorGrid/vectorgrid-api-docs.html#vectorgrid-protobuf)|yes|\n",
    "|```pulseConfig```|if exists how to visualize this layer in planet pulse|object|valid planet pulse object|no|"
   ]
  },
  {
   "cell_type": "markdown",
   "metadata": {},
   "source": [
    "#### [NasaGIBS](https://github.com/aparshin/leaflet-GIBS)\n",
    "```json\n",
    "{\n",
    "\"type\": \"nasaGibs\",\n",
    "\"gibsLayerId\": \"MODIS_Aqua_SurfaceReflectance_Bands721\",\n",
    "\"body\": {\n",
    "    \"date\": \"2015/04/01\",\n",
    "    \"transparent\": 14\n",
    "    },\n",
    "\"pulseConfig\": {...}\n",
    "}\n",
    "``` \n",
    "|Field|Description|Type|Accepted values|Required|\n",
    "|:----|:----------|:---|:--------------|:-------|\n",
    "|```type```|Contructor name|Text|\"wms\"|yes|\n",
    "|```gibsLayerId```|datasetId|Text|[valid name](https://wiki.earthdata.nasa.gov/display/GIBS/GIBS+Available+Imagery+Products)|yes|\n",
    "|```body```|Visualization configuration options|object|[Valid configuration](https://github.com/aparshin/leaflet-GIBS)|yes|\n",
    "|```pulseConfig```|if exists how to visualize this layer in planet pulse|object|valid planet pulse object|no|"
   ]
  },
  {
   "cell_type": "markdown",
   "metadata": {},
   "source": [
    "#### [EE livetiles](https://earthengine.google.com)\n",
    "```json\n",
    "{\n",
    "\"type\": \"gee\",\n",
    "\"asset_id\": \"landsat/blabla\",\n",
    "\"body\": {\n",
    "    \"style_type\": \"standard\",\n",
    "    \"sld_value\": \"sld definition\"\n",
    "    \"standard_value\": {}\n",
    "    },\n",
    "\"pulseConfig\": {...}\n",
    "}\n",
    "``` \n",
    "|Field|Description|Type|Accepted values|Required|\n",
    "|:----|:----------|:---|:--------------|:-------|\n",
    "|```type```|Contructor name|Text|\"gee\"|yes|\n",
    "|```asset_id```|datasetId|Text|[valid name](https://wiki.earthdata.nasa.gov/display/GIBS/GIBS+Available+Imagery+Products)|yes|\n",
    "|```body```|Visualization configuration options|object|[Valid configuration]()|yes|\n",
    "|```pulseConfig```|if exists how to visualize this layer in planet pulse|object|valid planet pulse object|no|\n",
    "\n",
    "****To be able to access it we will load a tilelayer: `api.resourcewatch.org/v1/layer/<layer-id>/tile/gee/{z}/{x}/{y}`\n",
    "##### Valid ee layer configuration\n",
    "|Field|Description|Type|Accepted values|Required|\n",
    "|:----|:----------|:---|:--------------|:-------|\n",
    "|```style_type```|style type name|Text|\"standard\"/\"sld\"|yes|\n",
    "|```sld_value```|datasetId|Text|[valid name](https://wiki.earthdata.nasa.gov/display/GIBS/GIBS+Available+Imagery+Products)|yes|"
   ]
  },
  {
   "cell_type": "markdown",
   "metadata": {},
   "source": [
    "#### [NEXGDDP layers]()\n",
    "```json\n",
    "{\n",
    "\"type\": \"gee\",\n",
    "\"asset_id\": \"landsat/blabla\",\n",
    "\"body\": {\n",
    "    \"style_type\": \"standard\",\n",
    "    \"sld_value\": \"sld definition\"\n",
    "    \"standard_value\": {}\n",
    "    },\n",
    "\"pulseConfig\": {...}\n",
    "}\n",
    "``` \n",
    "|Field|Description|Type|Accepted values|Required|\n",
    "|:----|:----------|:---|:--------------|:-------|\n",
    "|```type```|Contructor name|Text|\"gee\"|yes|\n",
    "|```asset_id```|datasetId|Text|[valid name](https://wiki.earthdata.nasa.gov/display/GIBS/GIBS+Available+Imagery+Products)|yes|\n",
    "|```body```|Visualization configuration options|object|[Valid configuration]()|yes|\n",
    "|```pulseConfig```|if exists how to visualize this layer in planet pulse|object|valid planet pulse object|no|\n",
    "\n",
    "***To be able to access it we will load a tilelayer: `api.resourcewatch.org/v1/layer/<layer-id>/tile/gee/{z}/{x}/{y}`\n",
    "##### Valid ee layer configuration\n",
    "|Field|Description|Type|Accepted values|Required|\n",
    "|:----|:----------|:---|:--------------|:-------|\n",
    "|```style_type```|style type name|Text|\"standard\"/\"sld\"|yes|\n",
    "|```sld_value```|datasetId|Text|[valid name](https://wiki.earthdata.nasa.gov/display/GIBS/GIBS+Available+Imagery+Products)|yes|"
   ]
  },
  {
   "cell_type": "code",
   "execution_count": null,
   "metadata": {
    "collapsed": true
   },
   "outputs": [],
   "source": []
  },
  {
   "cell_type": "markdown",
   "metadata": {},
   "source": [
    "### Definition: pulseConfig object <a name=\"pulseConfig\"></a>"
   ]
  },
  {
   "cell_type": "markdown",
   "metadata": {},
   "source": [
    "\n",
    "#### Image overlay\n",
    "* **layerProvider**: carto   \n",
    "```json\n",
    "{ \n",
    "\"type\":\"imageOverlay\",\n",
    "\"values\": {\n",
    "    \"format\": \"png\",\n",
    "    \"bbox\": [-110, -65, 110, 65],\n",
    "    \"width\": 2048,\n",
    "    \"height\": 1024\n",
    "      },\n",
    "\"sql\":\"\",\n",
    "\"urlTemplate\": \"https://{{account}}.carto.com/api/v1/map/static/bbox/{{token_groupid}}/{{bbox}}/{{width}}/{{height}}.{{format}}\"\n",
    "}\n",
    "```  \n",
    "\n",
    "|Field|Description|Type|Accepted values|Required|\n",
    "|:----|:----------|:---|:--------------|:-------|\n",
    "|```type```|Pulse object type|Text|\"imageOverlay\"|yes|\n",
    "|```values```|params to be substitute|object||yes|\n",
    "|-> ```format```|image format|Text|\"png\"|yes|\n",
    "|-> ```bbox```|bbox|Text|[-110, -65, 110, 65]|yes|\n",
    "|-> ```width```|output image width|Text|2048|yes|\n",
    "|-> ```height```|output image height|Text|1024|yes|\n",
    "|```urlTemplate```|url template|text|https://{{account}}.carto.com/api/v1/map/static/bbox/{{token_groupid}}/{{bbox}}/{{width}}/{{height}}.{{format}}|yes|\n",
    "|```sql```|reproyect sql|text|valid planet pulse sql|yes|\n",
    "\n",
    "* **layerProvider**: [esriImageService](http://resources.arcgis.com/en/help/arcgis-rest-api/#/Export_Image/02r3000000wm000000/)     \n",
    "```json\n",
    "{\n",
    "\"type\":\"imageOverlay\",\n",
    "\"url\":\"http://gis-gfw.wri.org/arcgis/rest/services/image_services/glad_alerts/ImageServer/exportImage\",\n",
    "\"params\":{\n",
    "    \"f\":\"image\"\n",
    "    \"format\":\"png8\",\n",
    "    \"pixelType\":\"U1\"\n",
    "    \"bbox\":[-180,-90,180,90],\n",
    "    \"bboxSR\":{\"wkid\":4326},\n",
    "    \"size\":\"2048, 1024\",\n",
    "    \"imageSR\":{\"wkid\":4326},\n",
    "    \"noData\":0,\n",
    "    \"interpolation\":\"RSP_Majority\",\n",
    "    \"renderingRule\":{\"rasterFunction\" : \"Colormap\", \"rasterFunctionArguments\" : { \"Colormap\" : [[0, 0, 0, 0, 0], [1, 219,101,152,1], [1000, 219,101,152,1]]}, \"variableName\" : \"Raster\"}\n",
    "    }\n",
    "}\n",
    "```  \n",
    "\n",
    "|Field|Description|Type|Accepted values|Required|\n",
    "|:----|:----------|:---|:--------------|:-------|\n",
    "|```type```|Pulse object type|Text|\"imageOverlay\"|yes|\n",
    "|```params```|params to be substitute|object|[valid request parameters](http://resources.arcgis.com/en/help/arcgis-rest-api/#/Export_Image/02r3000000wm000000/)|yes|\n",
    "|```url```|url|text|valid Arcgis export image|yes|\n",
    "\n",
    "\n",
    "* **layerProvider**: s3   \n",
    "```json\n",
    "{\n",
    "\"type\":\"imageOverlay\",\n",
    "\"url\":\"https://s3.amazonaws.com/mybucket/image.png\",\n",
    "}\n",
    "```  \n",
    "\n",
    "|Field|Description|Type|Accepted values|Required|\n",
    "|:----|:----------|:---|:--------------|:-------|\n",
    "|```type```|Pulse object type|Text|\"imageOverlay\"|yes|\n",
    "|```url```|s3 url to image|text|valid s3 url|yes|\n",
    "\n",
    "#### 3d data overlay\n",
    "* **layerProvider**: carto   \n",
    "```json\n",
    "{\n",
    "\"type\":\"3d\",\n",
    "\"url\": \"\",\n",
    "\"markerType\": \"<type>\"\n",
    "}\n",
    "```   \n",
    "\n",
    "\n",
    "|Field|Description|Type|Accepted values|Required|\n",
    "|:----|:----------|:---|:--------------|:-------|\n",
    "|```type```|Pulse object type|Text|\"3d\"|yes|\n",
    "|```url```|url call from where to fetch the data|text|valid url|yes|\n",
    "|```markerType```|Valid marker type visualization for 3d rendering|text|`\"hemisphere\",\"bar\",\"volcano\"`|yes|"
   ]
  },
  {
   "cell_type": "markdown",
   "metadata": {},
   "source": [
    "## interactionConfig definition  <a name=\"interactionConfig\"></a>"
   ]
  },
  {
   "cell_type": "markdown",
   "metadata": {},
   "source": [
    "This object will define the interaction and will control the information appearance.\n",
    "\n",
    "\n",
    "```json\n",
    "{\n",
    "  \"type\": \"gridjson\",\n",
    "  \"config\": {...},\n",
    "  \"output\": [...]\n",
    "}\n",
    "``` \n",
    "\n",
    "|Field|Description|Type|Accepted values|Required|\n",
    "|:----|:----------|:---|:--------------|:-------|\n",
    "|```type```|type of interaction for the layer|text|null, gridjson, intersection, geojson|yes|\n",
    "|```config```|how to access the interaction|object|valid object|yes|\n",
    "|```output```|visual format representation for the infowindow|array of objects||yes|"
   ]
  },
  {
   "cell_type": "markdown",
   "metadata": {},
   "source": [
    "### config object definition"
   ]
  },
  {
   "cell_type": "markdown",
   "metadata": {
    "heading_collapsed": true
   },
   "source": [
    "#### gridjson\n",
    "\n",
    "```json\n",
    "{ \n",
    "  // if the grid layer doesnt belong to carto provider we will add this property\n",
    "  \"url\":\"<>/x/y/z.json\"\n",
    "}\n",
    "``` \n",
    "\n",
    "\n",
    "#### intersection\n",
    "\n",
    "```json\n",
    "{\n",
    "    \"url\": \"queryURL\"\n",
    "}\n",
    "``` \n",
    "\n",
    "\n",
    "#### geojson\n",
    "\n",
    "```json\n",
    "{\n",
    "    \n",
    "}\n",
    "``` \n",
    "\n"
   ]
  },
  {
   "cell_type": "markdown",
   "metadata": {},
   "source": [
    "### Output object definition"
   ]
  },
  {
   "cell_type": "markdown",
   "metadata": {},
   "source": [
    "```json\n",
    "// We will need to move this as an object instead of an array\n",
    "[{  \n",
    "    \"column\": \"name\",\n",
    "    \"property\":\"name of whatever:\"\n",
    "    \"prefix\":\"\",\n",
    "    \"suffix: \"\",\n",
    "    \"type\": \"string\",\n",
    "    \"format\": null\n",
    "  }, {\n",
    "    \"column\": \"value\",\n",
    "    \"property\":\"name of whatever:\"\n",
    "    \"type\": \"number\",\n",
    "    \"format\": \"$ %s M\"\n",
    "  },{\n",
    "    \"column\": \"date\",\n",
    "    \"property\":\"name of whatever:\"\n",
    "    \"type\": \"date\",\n",
    "    \"format\": \"YYYY\"\n",
    "  },\n",
    "  ...\n",
    "]\n",
    "```\n",
    "|Field|Description|Type|Accepted values|Required|\n",
    "|:----|:----------|:---|:--------------|:-------|\n",
    "|```column```|property or column name to get the data from|text|valid column name|yes|\n",
    "|```property```|displayable text for the property|text|valid text|yes|\n",
    "|```type```|data type|text|valid datatype|yes|\n",
    "|```format```|data representation format to be displayed in the infowindow|text|valid format syntax|yes|\n"
   ]
  },
  {
   "cell_type": "markdown",
   "metadata": {},
   "source": [
    "## Definition: legendConfig object <a name=\"legendConfig\"></a>"
   ]
  },
  {
   "cell_type": "markdown",
   "metadata": {},
   "source": [
    "* **Basic legend**:  This type of legend can be used for single and for categorical legends \n",
    "```json\n",
    "{\n",
    "  \"type\": \"basic\",\n",
    "  \"items\": [{\n",
    "      \"name\": \"name\", \n",
    "      \"color\": \"#ff0000\", \n",
    "      \"icon\": \"URL/SVG/string\"},\n",
    "      ...\n",
    "      ],\n",
    "  \"unit\": \"m.\"\n",
    "}\n",
    "``` \n",
    "* **Gradient**: This type of legend can be used for gradient blending legends\n",
    "```json\n",
    "{\n",
    "  \"type\": \"gradient\",\n",
    "  \"items\": [{\n",
    "      \"name\": \"name\", \n",
    "      \"value\": \"1\", \n",
    "      \"color\": \"#ff0000\"},\n",
    "      ...\n",
    "      ],\n",
    "  \"unit\": \"m.\"\n",
    "}\n",
    "``` \n",
    "* **Choropleth**:  \n",
    "```json\n",
    "{\n",
    "  \"type\": \"choropleth\",\n",
    "  \"items\": [{\n",
    "      \"name\": \"name\", \n",
    "      \"value\": \"1\", \n",
    "      \"color\": \"#ff0000\"},\n",
    "      ...\n",
    "      ],\n",
    "  \"unit\": \"m.\"\n",
    "}\n",
    "``` \n",
    "\n"
   ]
  },
  {
   "cell_type": "markdown",
   "metadata": {},
   "source": [
    "### Decode function"
   ]
  },
  {
   "cell_type": "markdown",
   "metadata": {},
   "source": [
    " ```json\n",
    " \"layerConfig\": {\n",
    "        \"type\": \"deck\",\n",
    "        \"deck\": [\n",
    "            {\n",
    "                \"type\": \"TileLayer\",\n",
    "                \"params\": {\n",
    "                    \"decodeFunction\": \"\",\n",
    "                    \"decodeParams\": {},\n",
    "                    \"minZoom\": 3,\n",
    "                    \"maxZoom\": 12\n",
    "                },\n",
    "                \"data\": \"https://example.com/tiles/{z}/{x}/{y}.png\",\n",
    "                \"subtype\": \"DecodedRasterLayer\"\n",
    "            }\n",
    "        ]\n",
    "    }\n",
    "```"
   ]
  },
  {
   "cell_type": "code",
   "execution_count": 1,
   "metadata": {
    "collapsed": true
   },
   "outputs": [
    {
     "name": "stdout",
     "output_type": "stream",
     "text": [
      "builtins==None\n",
      "builtins==None\n",
      "sys==None\n",
      "os==None\n",
      "requests_toolbelt.sessions==None\n",
      "types==None\n",
      "json==2.0.9\n",
      "logging==0.5.1.2\n",
      "getpass==None\n"
     ]
    }
   ],
   "source": [
    "%run './pydantic_data_classes_rw.ipynb'\n",
    "%run './RW-API_management_functions.ipynb'\n",
    "from IPython.display import JSON, display\n",
    "from requests.exceptions import HTTPError"
   ]
  },
  {
   "cell_type": "code",
   "execution_count": 2,
   "metadata": {},
   "outputs": [
    {
     "name": "stdout",
     "output_type": "stream",
     "text": [
      "You are login into \u001b[95m\u001b[1mRW api\u001b[0m\n",
      "\u001b[92mSuccessfully logged into RW api\u001b[0m\n"
     ]
    }
   ],
   "source": [
    "session = rwApiSession()"
   ]
  },
  {
   "cell_type": "code",
   "execution_count": 3,
   "metadata": {},
   "outputs": [
    {
     "data": {
      "text/markdown": [
       "**Layer**: [June 30, 2022 04:00 CT NO₂ Concentration (ppb)](https://api.resourcewatch.org/v1/dataset/918ba6bc-69ed-44fb-9b29-5fb445fdfef6/layer/ca17eef5-b750-472c-87bb-167e7d3fcbab)"
      ],
      "text/plain": [
       "Layer(id=UUID('ca17eef5-b750-472c-87bb-167e7d3fcbab'), type='layer', attributes=LayerAttributes(name='June 30, 2022 04:00 CT NO₂ Concentration (ppb)', description='Air quality forecast for nitrogen dioxide (NO₂) concentrations at Earth’s surface on indicated date, expressed in parts per billion (ppb).', application=['rw'], iso=[], provider='gee', type=None, default=False, protected=False, published=True, env='production', layerConfig=LayerConfigV4(type='raster', lmMetadata={'version': '4.0', 'legacy-keys': ['timeline', 'timelineLabel', 'order', 'body', 'assetId']}, source={'provider': {'type': 'gee', 'options': {}}, 'type': 'raster', 'tiles': [], 'minzoom': 3, 'maxzoom': 12}, render=None, deck=None, body={'sldValue': '<RasterSymbolizer><ChannelSelection>   <GrayChannel>   <SourceChannelName>b1</SourceChannelName>        </GrayChannel>        </ChannelSelection> <ColorMap type=\"ramp\" extended=\"false\" ><ColorMapEntry color=\"#08519c\" quantity=\"0\" label=\"\" opacity=\"1\" /><ColorMapEntry color=\"#3182bd\" quantity=\"10\" label=\"\" opacity=\"1\" /><ColorMapEntry color=\"#6baed6\" quantity=\"20\" label=\"\" /><ColorMapEntry color=\"#9ecae1\" quantity=\"30\" label=\"\" /><ColorMapEntry color=\"#c6dbef\" quantity=\"40\" label=\"\" /><ColorMapEntry color=\"#eff3ff\" quantity=\"50\" label=\"\" /></ColorMap></RasterSymbolizer>', 'styleType': 'sld'}, order=28, assetId='projects/resource-watch-gee/loc_mcaqf_mexico_city_aq_forecast/NO2/loc_mcaqf_mexico_city_aq_forecast_NO2_20220629_28', timeline=True, timelineLabel='028'), legendConfig={'items': [{'color': '#08519c', 'name': '0', 'id': 0}, {'color': '#3182bd', 'name': '10', 'id': 1}, {'color': '#6baed6', 'name': '20', 'id': 2}, {'color': '#9ecae1', 'name': '30', 'id': 3}, {'color': '#c6dbef', 'name': '40', 'id': 4}, {'color': '#eff3ff', 'name': '≥50', 'id': 5}], 'type': 'gradient'}, interactionConfig={'type': 'intersection', 'config': {'url': 'https://api.resourcewatch.org/v1/query/ca17eef5-b750-472c-87bb-167e7d3fcbab?sql=select st_summarystats(rast, \\'b1\\', false) as x from \\'projects/resource-watch-gee/loc_mcaqf_mexico_city_aq_forecast/NO2/loc_mcaqf_mexico_city_aq_forecast_NO2_20220629_28\\' where ST_INTERSECTS(ST_SetSRID(ST_GeomFromGeoJSON(\\'{\"type\":\"Point\",\"coordinates\":[{{lng}},{{lat}}]}\\'),4326),the_geom)'}, 'output': [{'column': 'x.b1.mean', 'property': 'Nitrogen dioxide concentration', 'type': 'number', 'format': '0.00', 'prefix': ' ', 'suffix': ' ppb'}]}, applicationConfig={}, staticImageConfig={}, createdAt='2020-09-22T23:46:01.111Z', updatedAt='2022-06-29T17:24:03.393Z'), _url='https://api.resourcewatch.org/v1/dataset/918ba6bc-69ed-44fb-9b29-5fb445fdfef6/layer/ca17eef5-b750-472c-87bb-167e7d3fcbab')"
      ]
     },
     "execution_count": 3,
     "metadata": {},
     "output_type": "execute_result"
    }
   ],
   "source": [
    "url = '/v1/layer/'\n",
    "payload={}\n",
    "\n",
    "layers = getApiResource(session, url, payload, List[Layer])\n",
    "layers[0]"
   ]
  },
  {
   "cell_type": "code",
   "execution_count": 4,
   "metadata": {},
   "outputs": [
    {
     "data": {
      "text/plain": [
       "{'type': 'raster',\n",
       " 'lmMetadata': {'version': '4.0',\n",
       "  'legacy-keys': ['timeline', 'timelineLabel', 'order', 'body', 'assetId']},\n",
       " 'source': {'provider': {'type': 'gee', 'options': {}},\n",
       "  'type': 'raster',\n",
       "  'tiles': [],\n",
       "  'minzoom': 3,\n",
       "  'maxzoom': 12},\n",
       " 'render': None,\n",
       " 'deck': None,\n",
       " 'body': {'sldValue': '<RasterSymbolizer><ChannelSelection>   <GrayChannel>   <SourceChannelName>b1</SourceChannelName>        </GrayChannel>        </ChannelSelection> <ColorMap type=\"ramp\" extended=\"false\" ><ColorMapEntry color=\"#08519c\" quantity=\"0\" label=\"\" opacity=\"1\" /><ColorMapEntry color=\"#3182bd\" quantity=\"10\" label=\"\" opacity=\"1\" /><ColorMapEntry color=\"#6baed6\" quantity=\"20\" label=\"\" /><ColorMapEntry color=\"#9ecae1\" quantity=\"30\" label=\"\" /><ColorMapEntry color=\"#c6dbef\" quantity=\"40\" label=\"\" /><ColorMapEntry color=\"#eff3ff\" quantity=\"50\" label=\"\" /></ColorMap></RasterSymbolizer>',\n",
       "  'styleType': 'sld'},\n",
       " 'order': 28,\n",
       " 'assetId': 'projects/resource-watch-gee/loc_mcaqf_mexico_city_aq_forecast/NO2/loc_mcaqf_mexico_city_aq_forecast_NO2_20220629_28',\n",
       " 'timeline': True,\n",
       " 'timelineLabel': '028'}"
      ]
     },
     "execution_count": 4,
     "metadata": {},
     "output_type": "execute_result"
    }
   ],
   "source": [
    "layers[0].attributes.layerConfig.dict(exclude={'attributes': {'createdAt', 'updatedAt'}, '_url':True})"
   ]
  },
  {
   "cell_type": "code",
   "execution_count": 33,
   "metadata": {},
   "outputs": [],
   "source": [
    "decode_function = '''\n",
    "\n",
    "// values for creating power scale, domain (input), and range (output)\n",
    "      float day = color.r * 255. * 255. + (color.g * 255.);\n",
    "      float confidence = color.b * 255.;\n",
    "\n",
    "      if (\n",
    "        day > 0. &&\n",
    "        day >= startDayIndex &&\n",
    "        day <= endDayIndex\n",
    "      ) {\n",
    "        // get intensity\n",
    "        float intensity = mod(confidence, 100.) * 50.;\n",
    "        if (intensity > 255.) {\n",
    "          intensity = 255.;\n",
    "        }\n",
    "        if (confidence < 200.) {\n",
    "          color.r = 237. / 255.;\n",
    "          color.g = 164. / 255.;\n",
    "          color.b = 194. / 255.;\n",
    "          alpha = intensity / 255.;\n",
    "        } else {\n",
    "          color.r = 220. / 255.;\n",
    "          color.g = 102. / 255.;\n",
    "          color.b = 153. / 255.;\n",
    "          alpha = intensity / 255.;\n",
    "        }\n",
    "      } else {\n",
    "        alpha = 0.;\n",
    "      }\n",
    "    \n",
    "    \n",
    "      \n",
    "  '''"
   ]
  },
  {
   "cell_type": "code",
   "execution_count": 34,
   "metadata": {},
   "outputs": [],
   "source": [
    "lconfig ={\n",
    "    'attributes':{\n",
    "        'name': 'test_layer',\n",
    "        'description': 'test layer',\n",
    "        'type': 'raster',\n",
    "        'env': 'staging',\n",
    "        'dataset':'e663eb09-04de-4f39-b871-35c6c2ed10b5',\n",
    "        'layerConfig': {\n",
    "            'type': 'deck',\n",
    "            'deck': [{\n",
    "                \"type\": \"TileLayer\",\n",
    "                \"params\":{\n",
    "                    \"decodeFunction\": decode_function,\n",
    "                    \"decodeParams\":{\n",
    "                                \"startDayIndex\" : 0,\n",
    "                                \"endDayIndex\" : 1150\n",
    "                                },\n",
    "                    \"minZoom\": 3,\n",
    "                    \"maxZoom\": 12\n",
    "                },\n",
    "                \"data\": \"https://tiles.globalforestwatch.org/glad_prod/tiles/{z}/{x}/{y}.png\",\n",
    "                \"subtype\": \"DecodedRasterLayer\"\n",
    "            }]\n",
    "        }\n",
    "    }\n",
    "}"
   ]
  },
  {
   "cell_type": "code",
   "execution_count": 35,
   "metadata": {},
   "outputs": [],
   "source": [
    "new_layer = Layer.parse_obj(lconfig)\n",
    "\n",
    "# add provider\n",
    "new_layer.attributes.provider = 'vector'\n",
    "new_layer\n"
   ]
  },
  {
   "cell_type": "code",
   "execution_count": 36,
   "metadata": {},
   "outputs": [],
   "source": [
    "def createAsset(session: Session, path: str, asset: APIRESOURCE):\n",
    "    payload = asset.attributes.json(exclude={'createdAt': True, 'updatedAt': True})\n",
    "    print(payload)\n",
    "    response = session.post(path, data=payload)\n",
    "    return response.json()"
   ]
  },
  {
   "cell_type": "code",
   "execution_count": 37,
   "metadata": {},
   "outputs": [
    {
     "name": "stdout",
     "output_type": "stream",
     "text": [
      "{\"name\": \"test_layer\", \"description\": \"test layer\", \"application\": [\"rw\"], \"iso\": [], \"provider\": \"vector\", \"type\": \"raster\", \"default\": false, \"protected\": false, \"published\": false, \"env\": \"staging\", \"layerConfig\": {\"type\": \"deck\", \"lmMetadata\": {\"version\": \"4.0\"}, \"source\": null, \"render\": null, \"deck\": [{\"type\": \"TileLayer\", \"params\": {\"decodeFunction\": \"\\n\\n// values for creating power scale, domain (input), and range (output)\\n      float day = color.r * 255. * 255. + (color.g * 255.);\\n      float confidence = color.b * 255.;\\n\\n      if (\\n        day > 0. &&\\n        day >= startDayIndex &&\\n        day <= endDayIndex\\n      ) {\\n        // get intensity\\n        float intensity = mod(confidence, 100.) * 50.;\\n        if (intensity > 255.) {\\n          intensity = 255.;\\n        }\\n        if (confidence < 200.) {\\n          color.r = 237. / 255.;\\n          color.g = 164. / 255.;\\n          color.b = 194. / 255.;\\n          alpha = intensity / 255.;\\n        } else {\\n          color.r = 220. / 255.;\\n          color.g = 102. / 255.;\\n          color.b = 153. / 255.;\\n          alpha = intensity / 255.;\\n        }\\n      } else {\\n        alpha = 0.;\\n      }\\n    \\n    \\n      \\n  \", \"decodeParams\": {\"startDayIndex\": 0, \"endDayIndex\": 1150}, \"minZoom\": 3, \"maxZoom\": 12}, \"data\": \"https://tiles.globalforestwatch.org/glad_prod/tiles/{z}/{x}/{y}.png\", \"subtype\": \"DecodedRasterLayer\"}]}, \"legendConfig\": {}, \"interactionConfig\": {}, \"applicationConfig\": {}, \"staticImageConfig\": {}}\n"
     ]
    },
    {
     "data": {
      "text/plain": [
       "{'data': {'id': 'e6406b35-d58d-4e04-843f-7741eea4bc56',\n",
       "  'type': 'layer',\n",
       "  'attributes': {'name': 'test_layer',\n",
       "   'slug': 'test_layer_6',\n",
       "   'dataset': 'e663eb09-04de-4f39-b871-35c6c2ed10b5',\n",
       "   'description': 'test layer',\n",
       "   'application': ['rw'],\n",
       "   'iso': [],\n",
       "   'provider': 'vector',\n",
       "   'type': 'raster',\n",
       "   'userId': '61c2fbbecdc846001a774ddc',\n",
       "   'default': False,\n",
       "   'protected': False,\n",
       "   'published': False,\n",
       "   'env': 'staging',\n",
       "   'layerConfig': {'type': 'deck',\n",
       "    'lmMetadata': {'version': '4.0'},\n",
       "    'source': None,\n",
       "    'render': None,\n",
       "    'deck': [{'type': 'TileLayer',\n",
       "      'params': {'decodeFunction': '\\n\\n// values for creating power scale, domain (input), and range (output)\\n      float day = color.r * 255. * 255. + (color.g * 255.);\\n      float confidence = color.b * 255.;\\n\\n      if (\\n        day > 0. &&\\n        day >= startDayIndex &&\\n        day <= endDayIndex\\n      ) {\\n        // get intensity\\n        float intensity = mod(confidence, 100.) * 50.;\\n        if (intensity > 255.) {\\n          intensity = 255.;\\n        }\\n        if (confidence < 200.) {\\n          color.r = 237. / 255.;\\n          color.g = 164. / 255.;\\n          color.b = 194. / 255.;\\n          alpha = intensity / 255.;\\n        } else {\\n          color.r = 220. / 255.;\\n          color.g = 102. / 255.;\\n          color.b = 153. / 255.;\\n          alpha = intensity / 255.;\\n        }\\n      } else {\\n        alpha = 0.;\\n      }\\n    \\n    \\n      \\n  ',\n",
       "       'decodeParams': {'startDayIndex': 0, 'endDayIndex': 1150},\n",
       "       'minZoom': 3,\n",
       "       'maxZoom': 12},\n",
       "      'data': 'https://tiles.globalforestwatch.org/glad_prod/tiles/{z}/{x}/{y}.png',\n",
       "      'subtype': 'DecodedRasterLayer'}]},\n",
       "   'legendConfig': {},\n",
       "   'interactionConfig': {},\n",
       "   'applicationConfig': {},\n",
       "   'staticImageConfig': {},\n",
       "   'createdAt': '2022-07-01T09:43:08.907Z',\n",
       "   'updatedAt': '2022-07-01T09:43:08.907Z'}}}"
      ]
     },
     "execution_count": 37,
     "metadata": {},
     "output_type": "execute_result"
    }
   ],
   "source": [
    "url = f'/v1/dataset/{new_layer.attributes._datasetId}/layer'\n",
    "createAsset(session, url, new_layer)"
   ]
  }
 ],
 "metadata": {
  "hide_input": false,
  "kernelspec": {
   "display_name": "Python 3 (ipykernel)",
   "language": "python",
   "name": "python3"
  },
  "language_info": {
   "codemirror_mode": {
    "name": "ipython",
    "version": 3
   },
   "file_extension": ".py",
   "mimetype": "text/x-python",
   "name": "python",
   "nbconvert_exporter": "python",
   "pygments_lexer": "ipython3",
   "version": "3.9.10"
  },
  "toc": {
   "colors": {
    "hover_highlight": "#DAA520",
    "navigate_num": "#000000",
    "navigate_text": "#333333",
    "running_highlight": "#FF0000",
    "selected_highlight": "#FFD700",
    "sidebar_border": "#EEEEEE",
    "wrapper_background": "#FFFFFF"
   },
   "moveMenuLeft": true,
   "nav_menu": {
    "height": "153px",
    "width": "252px"
   },
   "navigate_menu": true,
   "number_sections": true,
   "sideBar": true,
   "threshold": "2",
   "toc_cell": true,
   "toc_section_display": "block",
   "toc_window_display": true,
   "widenNotebook": false
  },
  "varInspector": {
   "cols": {
    "lenName": 16,
    "lenType": 16,
    "lenVar": 40
   },
   "kernels_config": {
    "python": {
     "delete_cmd_postfix": "",
     "delete_cmd_prefix": "del ",
     "library": "var_list.py",
     "varRefreshCmd": "print(var_dic_list())"
    },
    "r": {
     "delete_cmd_postfix": ") ",
     "delete_cmd_prefix": "rm(",
     "library": "var_list.r",
     "varRefreshCmd": "cat(var_dic_list()) "
    }
   },
   "types_to_exclude": [
    "module",
    "function",
    "builtin_function_or_method",
    "instance",
    "_Feature"
   ],
   "window_display": false
  }
 },
 "nbformat": 4,
 "nbformat_minor": 2
}
