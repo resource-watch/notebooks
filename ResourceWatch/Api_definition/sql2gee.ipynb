{
 "cells": [
  {
   "cell_type": "markdown",
   "metadata": {
    "toc": "true"
   },
   "source": [
    "# Table of Contents\n",
    " <p><div class=\"lev1 toc-item\"><a href=\"#SQL2GEE\" data-toc-modified-id=\"SQL2GEE-1\"><span class=\"toc-item-num\">1&nbsp;&nbsp;</span>SQL2GEE</a></div><div class=\"lev2 toc-item\"><a href=\"#SQL2json-response:\" data-toc-modified-id=\"SQL2json-response:-11\"><span class=\"toc-item-num\">1.1&nbsp;&nbsp;</span>SQL2json response:</a></div><div class=\"lev2 toc-item\"><a href=\"#Feature-Collections;-data-tables\" data-toc-modified-id=\"Feature-Collections;-data-tables-12\"><span class=\"toc-item-num\">1.2&nbsp;&nbsp;</span>Feature Collections; data tables</a></div><div class=\"lev2 toc-item\"><a href=\"#Images\" data-toc-modified-id=\"Images-13\"><span class=\"toc-item-num\">1.3&nbsp;&nbsp;</span>Images</a></div><div class=\"lev2 toc-item\"><a href=\"#Image-Collections\" data-toc-modified-id=\"Image-Collections-14\"><span class=\"toc-item-num\">1.4&nbsp;&nbsp;</span>Image Collections</a></div><div class=\"lev2 toc-item\"><a href=\"#Map-display;-tiles-&amp;-geojsons\" data-toc-modified-id=\"Map-display;-tiles-&amp;-geojsons-15\"><span class=\"toc-item-num\">1.5&nbsp;&nbsp;</span>Map display; tiles &amp; geojsons</a></div><div class=\"lev2 toc-item\"><a href=\"#NRT-Image-generation\" data-toc-modified-id=\"NRT-Image-generation-16\"><span class=\"toc-item-num\">1.6&nbsp;&nbsp;</span>NRT Image generation</a></div>"
   ]
  },
  {
   "cell_type": "code",
   "execution_count": 35,
   "metadata": {},
   "outputs": [],
   "source": [
    "import json\n",
    "import ee\n",
    "import folium\n",
    "import requests\n",
    "import numpy as np\n",
    "ee.Initialize()\n",
    "\n",
    "def tile_url(image, viz_params=None):\n",
    "    \"\"\"Create a target url for tiles for an image.\n",
    "    e.g.\n",
    "    im = ee.Image(\"LE7_TOA_1YEAR/\" + year).select(\"B3\",\"B2\",\"B1\")\n",
    "    viz = {'opacity': 1, 'gain':3.5, 'bias':4, 'gamma':1.5}\n",
    "    url = tile_url(image=im),viz_params=viz)\n",
    "    \"\"\"\n",
    "    if viz_params:\n",
    "        d = image.getMapId(viz_params)\n",
    "    else:\n",
    "        d = image.getMapId()\n",
    "    base_url = 'https://earthengine.googleapis.com'\n",
    "    url = (base_url + '/map/' + d['mapid'] + '/{z}/{x}/{y}?token=' + d['token'])\n",
    "    return url\n",
    "\n"
   ]
  },
  {
   "cell_type": "markdown",
   "metadata": {},
   "source": [
    "# SQL2GEE"
   ]
  },
  {
   "cell_type": "markdown",
   "metadata": {},
   "source": [
    "## SQL2json response:"
   ]
  },
  {
   "cell_type": "code",
   "execution_count": 36,
   "metadata": {},
   "outputs": [
    {
     "data": {
      "text/plain": [
       "{'data': {'attributes': {'jsonSql': {'from': \"'USDOS/LSIB/2013'\",\n",
       "    'group': [{'type': 'literal', 'value': 'x'}],\n",
       "    'limit': 1,\n",
       "    'select': [{'alias': None, 'type': 'literal', 'value': 'a'},\n",
       "     {'alias': 'x',\n",
       "      'arguments': [{'type': 'literal', 'value': 'b'}],\n",
       "      'type': 'function',\n",
       "      'value': 'sum'},\n",
       "     {'alias': None, 'type': 'wildcard', 'value': '*'}],\n",
       "    'where': {'left': {'left': {'alias': None,\n",
       "       'arguments': [{'alias': None,\n",
       "         'arguments': [{'alias': None,\n",
       "           'arguments': [{'type': 'string',\n",
       "             'value': '\\'{\"type\":\"Polygon\",\"coordinates\":[[[-5.273512601852417,42.81137220349083],[-5.273512601852417,42.811803118457306],[-5.272732079029083,42.811803118457306],[-5.272732079029083,42.81137220349083],[-5.273512601852417,42.81137220349083]]]}\\''}],\n",
       "           'type': 'function',\n",
       "           'value': 'ST_GeomFromGeoJSON'},\n",
       "          {'type': 'number', 'value': 4326}],\n",
       "         'type': 'function',\n",
       "         'value': 'ST_SetSRID'},\n",
       "        {'type': 'literal', 'value': 'the_geom'}],\n",
       "       'type': 'function',\n",
       "       'value': 'ST_INTERSECTS'},\n",
       "      'right': {'left': {'type': 'literal', 'value': 'iso_num'},\n",
       "       'right': {'type': 'number', 'value': 2},\n",
       "       'type': 'operator',\n",
       "       'value': '>'},\n",
       "      'type': 'conditional',\n",
       "      'value': 'and'},\n",
       "     'right': {'type': 'bracket',\n",
       "      'value': {'left': {'left': {'type': 'literal', 'value': 'iso_num'},\n",
       "        'right': {'type': 'number', 'value': 10},\n",
       "        'type': 'operator',\n",
       "        'value': '<'},\n",
       "       'right': {'left': {'type': 'literal', 'value': 'iso_num'},\n",
       "        'right': {'type': 'number', 'value': 2},\n",
       "        'type': 'operator',\n",
       "        'value': '='},\n",
       "       'type': 'conditional',\n",
       "       'value': 'or'}},\n",
       "     'type': 'conditional',\n",
       "     'value': 'and'}},\n",
       "   'query': 'SELECT a, sum(b) AS x, * FROM \\'USDOS/LSIB/2013\\' WHERE ST_INTERSECTS(ST_SetSRID(ST_GeomFromGeoJSON(\\'{\"type\":\"Polygon\",\"coordinates\":[[[-5.273512601852417,42.81137220349083],[-5.273512601852417,42.811803118457306],[-5.272732079029083,42.811803118457306],[-5.272732079029083,42.81137220349083],[-5.273512601852417,42.81137220349083]]]}\\'), 4326), the_geom) and iso_num > 2 and (iso_num < 10 or iso_num = 2) GROUP BY x LIMIT 1'},\n",
       "  'id': 'undefined',\n",
       "  'relationships': {},\n",
       "  'type': 'result'}}"
      ]
     },
     "execution_count": 36,
     "metadata": {},
     "output_type": "execute_result"
    }
   ],
   "source": [
    "sql=\"\"\"\n",
    "SELECT a, sum(b) AS x, * \n",
    "FROM 'USDOS/LSIB/2013'\n",
    "WHERE ST_INTERSECTS(ST_SetSRID(ST_GeomFromGeoJSON('{\\\"type\\\":\\\"Polygon\\\",\\\"coordinates\\\":[[[-5.273512601852417,42.81137220349083],[-5.273512601852417,42.811803118457306],[-5.272732079029083,42.811803118457306],[-5.272732079029083,42.81137220349083],[-5.273512601852417,42.81137220349083]]]}'), 4326), the_geom) \n",
    "and iso_num > 2 \n",
    "and (iso_num < 10 or iso_num = 2) \n",
    "GROUP BY x LIMIT 1\n",
    "\"\"\"\n",
    "url='https://api.resourcewatch.org/v1/convert/sql2SQL'\n",
    "payload={\n",
    "    'sql':sql\n",
    "}\n",
    "r=requests.get(url, params=payload)\n",
    "r.json()"
   ]
  },
  {
   "cell_type": "code",
   "execution_count": 37,
   "metadata": {},
   "outputs": [
    {
     "data": {
      "text/plain": [
       "[{'alias': None, 'type': 'literal', 'value': 'a'},\n",
       " {'alias': 'x',\n",
       "  'arguments': [{'type': 'literal', 'value': 'b'}],\n",
       "  'type': 'function',\n",
       "  'value': 'sum'},\n",
       " {'alias': None, 'type': 'wildcard', 'value': '*'}]"
      ]
     },
     "execution_count": 37,
     "metadata": {},
     "output_type": "execute_result"
    }
   ],
   "source": [
    "r.json()['data']['attributes']['jsonSql']['select']"
   ]
  },
  {
   "cell_type": "code",
   "execution_count": 38,
   "metadata": {},
   "outputs": [
    {
     "data": {
      "text/plain": [
       "'conditional'"
      ]
     },
     "execution_count": 38,
     "metadata": {},
     "output_type": "execute_result"
    }
   ],
   "source": [
    "r.json()['data']['attributes']['jsonSql']['where']['type']"
   ]
  },
  {
   "cell_type": "code",
   "execution_count": 39,
   "metadata": {
    "scrolled": true
   },
   "outputs": [
    {
     "data": {
      "text/plain": [
       "{'type': 'bracket',\n",
       " 'value': {'left': {'left': {'type': 'literal', 'value': 'iso_num'},\n",
       "   'right': {'type': 'number', 'value': 10},\n",
       "   'type': 'operator',\n",
       "   'value': '<'},\n",
       "  'right': {'left': {'type': 'literal', 'value': 'iso_num'},\n",
       "   'right': {'type': 'number', 'value': 2},\n",
       "   'type': 'operator',\n",
       "   'value': '='},\n",
       "  'type': 'conditional',\n",
       "  'value': 'or'}}"
      ]
     },
     "execution_count": 39,
     "metadata": {},
     "output_type": "execute_result"
    }
   ],
   "source": [
    "r.json()['data']['attributes']['jsonSql']['where']['right']"
   ]
  },
  {
   "cell_type": "markdown",
   "metadata": {},
   "source": [
    "Once we get the sql that we want to perform we will need to build it up for GEE."
   ]
  },
  {
   "cell_type": "markdown",
   "metadata": {},
   "source": [
    "In order to check the dataset type we can use `ee.data.getInfo(id, callback)`.   \n",
    "If we are dealing with Fusion table dataset, the asset-id will start with `ft:` and will not run using that function."
   ]
  },
  {
   "cell_type": "code",
   "execution_count": 40,
   "metadata": {},
   "outputs": [
    {
     "name": "stdout",
     "output_type": "stream",
     "text": [
      "ee data type:  FeatureCollection\n",
      "keys:  dict_keys(['type', 'columns', 'id', 'version', 'properties'])\n",
      "******************************\n",
      "keys:  {'type': 'FeatureCollection', 'columns': {'cc': 'String', 'iso_alpha2': 'String', 'iso_alpha3': 'String', 'iso_num': 'Float', 'name': 'String', 'region': 'String', 'system:index': 'String', 'tld': 'String'}, 'id': 'USDOS/LSIB/2013', 'version': 1509487966253039, 'properties': {'date_range': [1362700800000.0, 1362700800000.0], 'period': 0.0, 'thumb': 'https://mw1.google.com/ges/dd/images/LSIB_thumb.png', 'description': '<p>\\nThe United States Office of the Geographer provides the Large Scale\\nInternational Boundary Lines, an international boundary-line vector file. The\\ninterior lines reflect U.S. government policy and thus do not necessarily\\ncorrespond to de facto control.  The 1:250,000 scale World Vector Shoreline\\nlines are generally accurate from between several hundred meters to over a\\nkilometer. Each feature is the polygonal area enclosed by interior boundaries\\nand exterior sea lines where applicable, and so many countries consist of\\nmultiple features, one per disjoint region.\\n\\n<p>There are no restrictions on use of this US public domain data.\\n\\n\\n<p>Each of the 180,741 features provides part of the total boundary for one\\nof the 247 countries described in this dataset, with the following attributes:\\n</p>\\n\\n<table class=\"eecat\">\\n<tr>\\n  <th scope=\"col\">Name</th>\\n  <th scope=\"col\">Type</th>\\n  <th scope=\"col\">Description</th>\\n</tr>\\n<tr>\\n  <td><strong>cc</strong></td>\\n  <td>string</td>\\n  <td>\\n    <a target=\"_blank\"\\n    href=\"https://en.wikipedia.org/wiki/List_of_FIPS_country_codes\">\\n    Two-letter FIPS country code</a>\\n  </td>\\n</tr>\\n<tr>\\n  <td><strong>iso_alpha2</strong></td>\\n  <td>string</td>\\n  <td>ISO 3166-1 alpha-2 country code</td>\\n</tr>\\n<tr>\\n  <td><strong>iso_alpha3</strong></td>\\n  <td>string</td>\\n  <td>ISO 3166-1 alpha-3 country code</td>\\n</tr>\\n<tr>\\n  <td><strong>iso_num</strong></td>\\n  <td>number</td>\\n  <td>Country record ID</td>\\n</tr>\\n<tr>\\n  <td><strong>name</strong></td>\\n  <td>string</td>\\n  <td>US-recognized country name</td>\\n</tr>\\n<tr>\\n  <td><strong>region</strong></td>\\n  <td>string</td>\\n  <td>Abbreviated continental region, e.g. EUROPE-SW ASIA</td>\\n</tr>\\n<tr>\\n  <td><strong>tld</strong></td>\\n  <td>string</td>\\n  <td>Internet top-level domain</td>\\n</tr>\\n</table>\\n<style>\\ntable.eecat { border: 1px solid black; border-collapse: collapse; }\\ntable.eecat td, tr, th { text-align: left; vertical-align: top;\\n  border: 1px solid gray; padding: 3px;}\\ntd.nobreak { white-space: nowrap; }\\n</style>\\n\\n<style>\\ntable.eecat {\\n  text-align: center;\\n}\\ntable.eecat th, tr, td {\\n  text-align: center;\\n  border-collapse: collapse;\\n}\\n</style>\\n', 'source_tags': ['dos', 'usdos'], 'provider_url': 'http://geonode.state.gov/search/?keywords__slug__in=lsib&limit=100&offset=0', 'title': 'LSIB: Large Scale International Boundary Lines', 'sample': 'https://mw1.google.com/ges/dd/images/LSIB_sample.png', 'tags': ['dos', 'usdos', 'boundary', 'boundaries', 'border', 'country', 'countries', 'political'], 'product_tags': ['boundary', 'boundaries', 'border', 'country', 'countries', 'political'], 'provider': 'United States Department of State, Office of the Geographer', 'system:asset_size': 114849056}}\n",
      "-----------------\n",
      "None\n",
      "-----------------\n",
      "ee data type:  ImageCollection\n",
      "keys:  dict_keys(['type', 'bands', 'id', 'version', 'properties'])\n",
      "******************************\n",
      "keys:  {'type': 'ImageCollection', 'bands': [], 'id': 'NOAA/DMSP-OLS/NIGHTTIME_LIGHTS', 'version': 1509484869949711, 'properties': {'date_range': [694224000000.0, 1388534400000.0], 'period_mapping': [694224000000.0, 725846400000.0, 725846400000.0, 757382400000.0, 757382400000.0, 788918400000.0, 788918400000.0, 820454400000.0, 820454400000.0, 852076800000.0, 852076800000.0, 883612800000.0, 883612800000.0, 915148800000.0, 915148800000.0, 946684800000.0, 946684800000.0, 978307200000.0, 978307200000.0, 1009843200000.0, 1009843200000.0, 1041379200000.0, 1041379200000.0, 1072915200000.0, 1072915200000.0, 1104537600000.0, 1104537600000.0, 1136073600000.0, 1136073600000.0, 1167609600000.0, 1167609600000.0, 1199145600000.0, 1199145600000.0, 1230768000000.0, 1230768000000.0, 1262304000000.0, 1262304000000.0, 1293840000000.0, 1293840000000.0, 1325376000000.0, 1325376000000.0, 1356998400000.0, 1356998400000.0, 1388534400000.0], 'period': 365.0, 'system:visualization_0_min': 0.0, 'system:visualization_0_bands': 'stable_lights', 'system:is_global': 1, 'thumb': 'https://mw1.google.com/ges/dd/images/NIGHTTIME_thumb.png', 'description': \"<p>The Defense Meteorological Program (DMSP) Operational\\nLinescan System (OLS) has a unique capability to detect visible and\\nnear-infrared (VNIR) emission sources at night.<p>\\n\\n<p>Version 4 of the DMSP-OLS Nighttime Lights Time Series consists of\\ncloud-free composites made using all the available archived DMSP-OLS smooth\\nresolution data for calendar years. In cases where two satellites were\\ncollecting data - two composites were produced. The products are 30 arc second\\ngrids, spanning -180 to 180 degrees longitude and -65 to 75 degrees\\nlatitude.<p>\\n\\n<p>Each image in the collection contains the following bands:\\n\\n<ul>\\n\\n<li>avg_vis: The average of the visible band digital number values with no\\nfurther filtering. </li>\\n\\n<li>stable_lights: The cleaned up avg_vis contains the lights from cities,\\ntowns, and other sites with persistent lighting, including gas flares.\\nEphemeral events, such as fires have been discarded. The background noise was\\nidentified and replaced with values of zero.</li>\\n\\n<li>cf_cvg: Cloud-free coverages tally the total number of observations that\\nwent into each 30 arc second grid cell. This image can be used to identify\\nareas with low numbers of observations where the quality is reduced.</li>\\n\\n<li>avg_lights_x_pct: The average visible band digital number (DN) of cloud-free\\nlight detections multiplied by the percent frequency of light detection. The\\ninclusion of the percent frequency of detection term normalizes the resulting\\ndigital values for variations in the persistence of lighting. For instance, the\\nvalue for a light only detected half the time is discounted by 50%. Note that\\nthis product contains detections from fires and a variable amount of background\\nnoise.</li>\\n\\n</ul>\\n</p>\\n\\n<p>Image and data processing by NOAA's National Geophysical Data Center. DMSP data collected by US Air Force Weather Agency.</p>\\n\", 'source_tags': ['noaa', 'dmsp', 'ols', 'yearly'], 'provider_url': 'http://ngdc.noaa.gov/eog/dmsp/downloadV4composites.html', 'title': 'DMSP-OLS Nighttime Lights Time Series Version 4', 'sample': 'https://mw1.google.com/ges/dd/images/NIGHTTIME_sample.png', 'tags': ['noaa', 'dmsp', 'ols', 'yearly', 'nighttime', 'visible', 'lights', 'imagery'], 'system:visualization_0_max': 63.0, 'product_tags': ['nighttime', 'visible', 'lights', 'imagery'], 'provider': 'NOAA', 'system:visualization_0_name': 'Stable Lights'}}\n",
      "-----------------\n",
      "ee data type:  Image\n",
      "keys:  dict_keys(['type', 'bands', 'version', 'id', 'properties'])\n",
      "******************************\n",
      "keys:  {'type': 'Image', 'bands': [{'id': 'avg_vis', 'data_type': {'type': 'PixelType', 'precision': 'int', 'min': 0, 'max': 255}, 'dimensions': [43201, 16801], 'crs': 'EPSG:4326', 'crs_transform': [0.0083333333, 0.0, -180.00416666665, 0.0, -0.0083333333, 75.00416666665]}, {'id': 'stable_lights', 'data_type': {'type': 'PixelType', 'precision': 'int', 'min': 0, 'max': 255}, 'dimensions': [43201, 16801], 'crs': 'EPSG:4326', 'crs_transform': [0.0083333333, 0.0, -180.00416666665, 0.0, -0.0083333333, 75.00416666665]}, {'id': 'cf_cvg', 'data_type': {'type': 'PixelType', 'precision': 'int', 'min': 0, 'max': 255}, 'dimensions': [43201, 16801], 'crs': 'EPSG:4326', 'crs_transform': [0.0083333333, 0.0, -180.00416666665, 0.0, -0.0083333333, 75.00416666665]}, {'id': 'avg_lights_x_pct', 'data_type': {'type': 'PixelType', 'precision': 'float'}, 'dimensions': [43201, 16801], 'crs': 'EPSG:4326', 'crs_transform': [0.0083333333, 0.0, -180.00416666665, 0.0, -0.0083333333, 75.00416666665]}], 'version': 1504844073185976, 'id': 'NOAA/DMSP-OLS/NIGHTTIME_LIGHTS/F182012', 'properties': {'system:time_start': 1325376000000, 'system:time_end': 1356998400000, 'system:asset_size': 1538263570, 'system:index': 'F182012'}}\n",
      "-----------------\n"
     ]
    },
    {
     "name": "stdout",
     "output_type": "stream",
     "text": [
      "None\n",
      "-----------------\n"
     ]
    }
   ],
   "source": [
    "#      [FeatureCollection,fusion table id(ft:<id>), image collection, image]\n",
    "\n",
    "\n",
    "assets = ['USDOS/LSIB/2013','1tdSwUL7MVpOauSgRzqVTOwdfy17KDbw-1d9omPw','NOAA/DMSP-OLS/NIGHTTIME_LIGHTS','NOAA/DMSP-OLS/NIGHTTIME_LIGHTS/F182012','blalbal']\n",
    "for f in assets:\n",
    "    t=ee.data.getInfo(f)\n",
    "    if t!=None:\n",
    "        \n",
    "        print('ee data type: ',t['type'])\n",
    "        print('keys: ',t.keys())\n",
    "        print('******************************')\n",
    "        print('keys: ',t)\n",
    "    else:\n",
    "        print(t)\n",
    "    print('-----------------')"
   ]
  },
  {
   "cell_type": "markdown",
   "metadata": {},
   "source": [
    "## Feature Collections; data tables"
   ]
  },
  {
   "cell_type": "code",
   "execution_count": 41,
   "metadata": {
    "scrolled": true
   },
   "outputs": [
    {
     "data": {
      "text/plain": [
       "<function ee.apifunction.ApiFunction.importApi.<locals>.MakeBoundFunction.<locals>.<lambda>>"
      ]
     },
     "execution_count": 41,
     "metadata": {},
     "output_type": "execute_result"
    }
   ],
   "source": [
    "ee.Filter.rangeContains"
   ]
  },
  {
   "cell_type": "code",
   "execution_count": 42,
   "metadata": {},
   "outputs": [
    {
     "data": {
      "text/plain": [
       "dict_keys(['type', 'columns', 'properties', 'features'])"
      ]
     },
     "execution_count": 42,
     "metadata": {},
     "output_type": "execute_result"
    }
   ],
   "source": [
    "## myFeature = ee.FeatureCollection('USDOS/LSIB/2013')\n",
    "myFeature = ee.FeatureCollection('ft:1_RZgjlcqixp-L9hyS6NYGqLaKOlnhSC35AB5M5Ll') \n",
    "## Dictionay respone object example\n",
    "myFeature.limit(1).getInfo().keys()"
   ]
  },
  {
   "cell_type": "markdown",
   "metadata": {},
   "source": [
    "Query structure for tables:\n",
    "```sql\n",
    "SELECT <wildcard(*)>|<columns>|<function<column>>|**<agg_functions<columns>>\n",
    "FROM <asset_id>\n",
    "WHERE (<filter_condictions> <conditional> <filter_condictions>)\n",
    "**GROUP BY <columns>\n",
    "ORDER BY <columns>\n",
    "LIMIT <output_nRows>\n",
    "```  \n",
    " \n",
    "The order for GEE will be `FCollection.<filters>.<functions>.<sorts>.limit(n).getInfo()`  \n",
    "We should allways give back the size of the computed collection\n",
    "\n",
    "We can paginate the colection with `this.toList(count, offset)`"
   ]
  },
  {
   "cell_type": "markdown",
   "metadata": {},
   "source": [
    "#### To be able to check all columns on a table"
   ]
  },
  {
   "cell_type": "code",
   "execution_count": 43,
   "metadata": {},
   "outputs": [
    {
     "data": {
      "text/plain": [
       "dict_keys(['AREA', 'DAYCLASS', 'MODE', 'PATH', 'PERIMETER', 'PR', 'PR_', 'PR_ID', 'RINGS_NOK', 'RINGS_OK', 'ROW', 'SEQUENCE', 'WRSPR'])"
      ]
     },
     "execution_count": 43,
     "metadata": {},
     "output_type": "execute_result"
    }
   ],
   "source": [
    "myFeature.limit(0).getInfo()['columns'].keys()"
   ]
  },
  {
   "cell_type": "markdown",
   "metadata": {},
   "source": [
    "### SELECT"
   ]
  },
  {
   "cell_type": "code",
   "execution_count": 44,
   "metadata": {
    "scrolled": true
   },
   "outputs": [
    {
     "name": "stdout",
     "output_type": "stream",
     "text": [
      "{'AREA': 15.74326, 'DAYCLASS': 1.0, 'MODE': 'D', 'PATH': 13.0, 'PERIMETER': 26.98611, 'PR': 13001.0, 'PR_': 1.0, 'PR_ID': 1.0, 'RINGS_NOK': 0.0, 'RINGS_OK': 1.0, 'ROW': 1.0, 'SEQUENCE': 2233.0, 'WRSPR': 13001.0}\n",
      "{'DAYCLASS': 1.0, 'MODE': 'D'}\n"
     ]
    }
   ],
   "source": [
    "# WILDCARD\n",
    "print(myFeature.limit(1).getInfo()['features'][0]['properties'])\n",
    "# COLUMN SELECTION\n",
    "print(myFeature.select('DAYCLASS', 'MODE').limit(1).getInfo()['features'][0]['properties'])"
   ]
  },
  {
   "cell_type": "code",
   "execution_count": 45,
   "metadata": {},
   "outputs": [
    {
     "name": "stdout",
     "output_type": "stream",
     "text": [
      "{'DAYCLASS': 1.0, 'MODE': 'D'}\n"
     ]
    }
   ],
   "source": [
    "print(myFeature.select(['DAYCLASS', 'MODE']).limit(1).getInfo()['features'][0]['properties'])"
   ]
  },
  {
   "cell_type": "code",
   "execution_count": 46,
   "metadata": {
    "code_folding": []
   },
   "outputs": [],
   "source": [
    "# FUNCTION\n"
   ]
  },
  {
   "cell_type": "markdown",
   "metadata": {},
   "source": [
    "AGG - FUNCTIONS"
   ]
  },
  {
   "cell_type": "code",
   "execution_count": 47,
   "metadata": {},
   "outputs": [
    {
     "name": "stdout",
     "output_type": "stream",
     "text": [
      "1.0\n",
      "246140.0\n"
     ]
    }
   ],
   "source": [
    "# WITHOUT GROUPBY\n",
    "## array, count, count_distinct, first, histogram, max, mean, min, product, sample_sd, sample_var, stats, sum, total_sd, total_var\n",
    "print(myFeature.select('DAYCLASS','PR_ID').aggregate_min('DAYCLASS').getInfo())\n",
    "print(myFeature.select('DAYCLASS','PR_ID').aggregate_sum('DAYCLASS').getInfo())"
   ]
  },
  {
   "cell_type": "markdown",
   "metadata": {},
   "source": [
    "### FROM"
   ]
  },
  {
   "cell_type": "markdown",
   "metadata": {},
   "source": [
    "we will get asset id"
   ]
  },
  {
   "cell_type": "markdown",
   "metadata": {},
   "source": [
    "### WHERE"
   ]
  },
  {
   "cell_type": "code",
   "execution_count": 48,
   "metadata": {
    "code_folding": [],
    "scrolled": false
   },
   "outputs": [
    {
     "data": {
      "text/plain": [
       "{'columns': {'AREA': 'Number',\n",
       "  'DAYCLASS': 'Number',\n",
       "  'MODE': 'String',\n",
       "  'PATH': 'Number',\n",
       "  'PERIMETER': 'Number',\n",
       "  'PR': 'Number',\n",
       "  'PR_': 'Number',\n",
       "  'PR_ID': 'Number',\n",
       "  'RINGS_NOK': 'Number',\n",
       "  'RINGS_OK': 'Number',\n",
       "  'ROW': 'Number',\n",
       "  'SEQUENCE': 'Number',\n",
       "  'WRSPR': 'Number'},\n",
       " 'features': [{'geometry': {'coordinates': [[[-10.803414, 80.9888],\n",
       "      [-11.410384900000002, 81.203407],\n",
       "      [-11.681594000000002, 81.29929790000001],\n",
       "      [-13.2360839, 81.848918],\n",
       "      [-13.254700000000001, 81.85550000000002],\n",
       "      [-13.487837899999997, 81.83563],\n",
       "      [-13.716189900000002, 81.816168],\n",
       "      [-16.4464359, 81.58347300000001],\n",
       "      [-16.943174000000003, 81.541136],\n",
       "      [-21.730125, 81.133151],\n",
       "      [-21.78798, 81.12822],\n",
       "      [-22.005462, 81.109684],\n",
       "      [-22.215300000000006, 81.0918],\n",
       "      [-22.194578, 81.086242],\n",
       "      [-21.941443000000007, 81.01834399999998],\n",
       "      [-21.364428000000007, 80.8635709],\n",
       "      [-20.5893919, 80.6556839],\n",
       "      [-19.05658, 80.244539],\n",
       "      [-19.019894, 80.234699],\n",
       "      [-18.841471000000002, 80.18684],\n",
       "      [-16.9847, 79.6888],\n",
       "      [-16.793425, 79.704397],\n",
       "      [-16.174145, 79.7548939],\n",
       "      [-11.681552899999993, 80.121227],\n",
       "      [-9.179188, 80.3252739],\n",
       "      [-8.97407, 80.342],\n",
       "      [-10.803414, 80.9888]]],\n",
       "    'geodesic': True,\n",
       "    'type': 'Polygon'},\n",
       "   'id': '2',\n",
       "   'properties': {'AREA': 15.74326,\n",
       "    'DAYCLASS': 1.0,\n",
       "    'MODE': 'D',\n",
       "    'PATH': 13.0,\n",
       "    'PERIMETER': 26.98611,\n",
       "    'PR': 13001.0,\n",
       "    'PR_': 1.0,\n",
       "    'PR_ID': 1.0,\n",
       "    'RINGS_NOK': 0.0,\n",
       "    'RINGS_OK': 1.0,\n",
       "    'ROW': 1.0,\n",
       "    'SEQUENCE': 2233.0,\n",
       "    'WRSPR': 13001.0},\n",
       "   'type': 'Feature'}],\n",
       " 'properties': {'DocID': '1_RZgjlcqixp-L9hyS6NYGqLaKOlnhSC35AB5M5Ll',\n",
       "  'name': 'wrs2_descending'},\n",
       " 'type': 'FeatureCollection'}"
      ]
     },
     "execution_count": 48,
     "metadata": {},
     "output_type": "execute_result"
    }
   ],
   "source": [
    "# Conditional with this.filter(ee.Filter.and(...)|ee.Filter.or(...))\n",
    "myFeature.filter(ee.Filter([ee.Filter.neq('DAYCLASS', 5)])).limit(1).getInfo()"
   ]
  },
  {
   "cell_type": "code",
   "execution_count": 49,
   "metadata": {},
   "outputs": [],
   "source": [
    "# Filter with this.filter(ee.Filter.<>(...))"
   ]
  },
  {
   "cell_type": "code",
   "execution_count": 50,
   "metadata": {},
   "outputs": [
    {
     "data": {
      "text/plain": [
       "{'columns': {'AREA': 'Number',\n",
       "  'DAYCLASS': 'Number',\n",
       "  'MODE': 'String',\n",
       "  'PATH': 'Number',\n",
       "  'PERIMETER': 'Number',\n",
       "  'PR': 'Number',\n",
       "  'PR_': 'Number',\n",
       "  'PR_ID': 'Number',\n",
       "  'RINGS_NOK': 'Number',\n",
       "  'RINGS_OK': 'Number',\n",
       "  'ROW': 'Number',\n",
       "  'SEQUENCE': 'Number',\n",
       "  'WRSPR': 'Number'},\n",
       " 'features': [{'geometry': {'coordinates': [[[-10.803414, 80.9888],\n",
       "      [-11.410384900000002, 81.203407],\n",
       "      [-11.681594000000002, 81.29929790000001],\n",
       "      [-13.2360839, 81.848918],\n",
       "      [-13.254700000000001, 81.85550000000002],\n",
       "      [-13.487837899999997, 81.83563],\n",
       "      [-13.716189900000002, 81.816168],\n",
       "      [-16.4464359, 81.58347300000001],\n",
       "      [-16.943174000000003, 81.541136],\n",
       "      [-21.730125, 81.133151],\n",
       "      [-21.78798, 81.12822],\n",
       "      [-22.005462, 81.109684],\n",
       "      [-22.215300000000006, 81.0918],\n",
       "      [-22.194578, 81.086242],\n",
       "      [-21.941443000000007, 81.01834399999998],\n",
       "      [-21.364428000000007, 80.8635709],\n",
       "      [-20.5893919, 80.6556839],\n",
       "      [-19.05658, 80.244539],\n",
       "      [-19.019894, 80.234699],\n",
       "      [-18.841471000000002, 80.18684],\n",
       "      [-16.9847, 79.6888],\n",
       "      [-16.793425, 79.704397],\n",
       "      [-16.174145, 79.7548939],\n",
       "      [-11.681552899999993, 80.121227],\n",
       "      [-9.179188, 80.3252739],\n",
       "      [-8.97407, 80.342],\n",
       "      [-10.803414, 80.9888]]],\n",
       "    'geodesic': True,\n",
       "    'type': 'Polygon'},\n",
       "   'id': '2',\n",
       "   'properties': {'AREA': 15.74326,\n",
       "    'DAYCLASS': 1.0,\n",
       "    'MODE': 'D',\n",
       "    'PATH': 13.0,\n",
       "    'PERIMETER': 26.98611,\n",
       "    'PR': 13001.0,\n",
       "    'PR_': 1.0,\n",
       "    'PR_ID': 1.0,\n",
       "    'RINGS_NOK': 0.0,\n",
       "    'RINGS_OK': 1.0,\n",
       "    'ROW': 1.0,\n",
       "    'SEQUENCE': 2233.0,\n",
       "    'WRSPR': 13001.0},\n",
       "   'type': 'Feature'}],\n",
       " 'properties': {'DocID': '1_RZgjlcqixp-L9hyS6NYGqLaKOlnhSC35AB5M5Ll',\n",
       "  'name': 'wrs2_descending'},\n",
       " 'type': 'FeatureCollection'}"
      ]
     },
     "execution_count": 50,
     "metadata": {},
     "output_type": "execute_result"
    }
   ],
   "source": [
    "myFeature.filter(ee.Filter.Or([ee.Filter.neq('DAYCLASS', 5),ee.Filter.gt('DAYCLASS', 9)])).limit(1).getInfo()"
   ]
  },
  {
   "cell_type": "markdown",
   "metadata": {},
   "source": [
    "###  GROUP BY + agg column "
   ]
  },
  {
   "cell_type": "code",
   "execution_count": 51,
   "metadata": {},
   "outputs": [
    {
     "data": {
      "text/plain": [
       "{'groups': [{'PR_ID': 'D',\n",
       "   'count': [28892, 28892],\n",
       "   'sum': [246140.0, 50513198.0]}]}"
      ]
     },
     "execution_count": 51,
     "metadata": {},
     "output_type": "execute_result"
    }
   ],
   "source": [
    "# GROUPING BY\n",
    "## array, count, count_distinct, first, histogram, max, mean, min, product, sample_sd, sample_var, stats, sum, total_sd, total_var ...\n",
    "\n",
    "myReducer= {\n",
    "     'reducer': ee.Reducer.count().combine(ee.Reducer.sum(), outputPrefix='', sharedInputs=True).repeat(2).group(**{\n",
    "            'groupField': 2,\n",
    "            'groupName': 'PR_ID',\n",
    "    }),\n",
    "    'selectors': ['DAYCLASS','PR_ID','MODE']\n",
    "}\n",
    "myFeature.select('DAYCLASS','PR_ID','MODE').reduceColumns(**myReducer).getInfo()"
   ]
  },
  {
   "cell_type": "markdown",
   "metadata": {
    "heading_collapsed": true
   },
   "source": [
    "### ORDER BY"
   ]
  },
  {
   "cell_type": "code",
   "execution_count": null,
   "metadata": {
    "hidden": true
   },
   "outputs": [],
   "source": [
    "#this.sort(property, ascending)\n"
   ]
  },
  {
   "cell_type": "markdown",
   "metadata": {
    "heading_collapsed": true
   },
   "source": [
    "### LIMIT"
   ]
  },
  {
   "cell_type": "code",
   "execution_count": null,
   "metadata": {
    "hidden": true
   },
   "outputs": [],
   "source": [
    "#this.limit(number)\n"
   ]
  },
  {
   "cell_type": "markdown",
   "metadata": {},
   "source": [
    "## Images"
   ]
  },
  {
   "cell_type": "code",
   "execution_count": 52,
   "metadata": {},
   "outputs": [],
   "source": [
    "myImg = ee.Image('NOAA/DMSP-OLS/NIGHTTIME_LIGHTS/F182012') "
   ]
  },
  {
   "cell_type": "code",
   "execution_count": 53,
   "metadata": {},
   "outputs": [
    {
     "name": "stdout",
     "output_type": "stream",
     "text": [
      "dict_keys(['type', 'bands', 'version', 'id', 'properties'])\n"
     ]
    }
   ],
   "source": [
    "print(myImg.getInfo().keys())"
   ]
  },
  {
   "cell_type": "markdown",
   "metadata": {},
   "source": [
    "Capabilities:\n",
    "* Fix a region (x,y axes) and be able to filter and calculate zonal statistics within temporal axes or date available\n",
    "\n",
    "* Fix a date/category (z axes) and be able to work as if it is a simple image\n",
    "\n",
    "It will depend on the asset that we will be able to filter over each image in the collection or the values on the images bands.\n",
    "\n",
    "Query structure for Image collection which its output should be a table with n columns and rows:\n",
    "```sql  \n",
    "SELECT <bands>|<functions<bands>>|**<agg_functions<bands>>\n",
    "FROM <asset_id>\n",
    "WHERE (<filter_condictions> <conditional> <filter_condictions>)\n",
    "**GROUP BY <columns>\n",
    "ORDER BY <columns>\n",
    "LIMIT <output_nRows>\n",
    "```  \n",
    "\n",
    "Output:  \n",
    " ```\n",
    " {\"data\":[\n",
    "     {\"col_a\": 12,\"col_b\":\"asdas\"},\n",
    "     {\"col_a\": 12,\"col_b\":\"asdas\"},\n",
    "     ...\n",
    "     ]\n",
    " }\n",
    " ```\n",
    " \n",
    "| column a  |  ... | column n |\n",
    "|---|---|---|\n",
    "| ..  | ..  |  .. |\n",
    "\n",
    " \n",
    "The order for GEE will be `Image.<filters>.<functions>.<imageReducers>.getInfo().<sorts>.limit()`  \n",
    "We should allways give back the size `this.size()` of the computed collection\n",
    "\n",
    "We will need to give back in the metadata this: \n",
    "size, metadata for the image, bands available and the data type stored in there.\n",
    "\n",
    "***Images doesn't have `this.limit()` or `this.sort()` so we need to limit and sort after the reduction** "
   ]
  },
  {
   "cell_type": "code",
   "execution_count": null,
   "metadata": {},
   "outputs": [],
   "source": []
  },
  {
   "cell_type": "markdown",
   "metadata": {},
   "source": [
    "## Image Collections"
   ]
  },
  {
   "cell_type": "code",
   "execution_count": 54,
   "metadata": {},
   "outputs": [
    {
     "name": "stdout",
     "output_type": "stream",
     "text": [
      "dict_keys(['type', 'bands', 'id', 'version', 'properties', 'features'])\n",
      "[]\n",
      "dict_keys(['date_range', 'period', 'system:visualization_0_bands', 'system:is_global', 'description', 'source_tags', 'provider_url', 'title', 'tags', 'product_tags', 'provider', 'system:visualization_0_name'])\n",
      "dict_keys(['type', 'bands', 'version', 'id', 'properties'])\n",
      "dict_keys(['system:time_start', 'month', 'scenario', 'year', 'system:footprint', 'model', 'system:asset_size', 'day', 'system:index'])\n"
     ]
    }
   ],
   "source": [
    "myImCol = ee.ImageCollection('NASA/NEX-GDDP') \n",
    "## Dictionay respone object example\n",
    "print(myImCol.limit(1).getInfo().keys())\n",
    "\n",
    "print(myImCol.limit(1).getInfo()['bands'])\n",
    "print(myImCol.limit(1).getInfo()['properties'].keys())\n",
    "print(myImCol.limit(1).getInfo()['features'][0].keys())\n",
    "print(myImCol.limit(1).getInfo()['features'][0]['properties'].keys())"
   ]
  },
  {
   "cell_type": "markdown",
   "metadata": {},
   "source": [
    "Image collections are similar to ndarrays with 4 dimensions. (x,y,(bands),z)\n",
    "Where z could be a temporal dimension or a categorical one.\n",
    "For the minimum viable product we intend to build capabilities under the temporal dimension, but probably it will be possible to extend it to diferent dimensions.\n",
    "\n",
    "Capabilities:\n",
    "* Fix a region (x,y axes) and be able to filter and calculate zonal statistics within temporal axes or date available\n",
    "\n",
    "* Fix a date/category (z axes) and be able to work as if it is a simple image\n",
    "\n",
    "It will depend on the asset that we will be able to filter over each image in the collection or the values on the images bands.\n",
    "\n",
    "Query structure for Image collection which its output should be a table with n columns and rows:\n",
    "```sql  \n",
    "SELECT <columns/Image & bands>|<functions<column>>|**<agg_functions<columns>>\n",
    "FROM <asset_id>\n",
    "WHERE (<filter_condictions> <conditional> <filter_condictions>)\n",
    "**GROUP BY <columns>\n",
    "ORDER BY <columns>\n",
    "LIMIT <output_nRows>\n",
    "```  \n",
    " Output:  \n",
    " ```\n",
    " {\"data\":[\n",
    "     {\"col_a\": 12,\"col_b\":\"asdas\"},\n",
    "     {\"col_a\": 12,\"col_b\":\"asdas\"},\n",
    "     ...\n",
    "     ]\n",
    " }\n",
    " ```\n",
    " \n",
    "| column a  |  ... | column n |\n",
    "|---|---|---|\n",
    "| ..  | ..  |  .. |\n",
    "\n",
    " \n",
    "The order for GEE will be `imageCollection.<filters>.<functions>.<sorts>.<imageReducers>.limit(n).getInfo()`  \n",
    "We should allways give back the size `this.size()` of the computed collection\n",
    "\n",
    "We will need to give back in the metadata this: \n",
    "size, metadata/columns for the collection, bands available and the data type stored in there."
   ]
  },
  {
   "cell_type": "code",
   "execution_count": 55,
   "metadata": {
    "scrolled": true
   },
   "outputs": [
    {
     "name": "stdout",
     "output_type": "stream",
     "text": [
      "[-631152000000.0, 4102358400000.0]\n",
      "0.0\n",
      "['pr', 'tasmin', 'tasmax']\n",
      "dict_keys(['system:time_start', 'month', 'scenario', 'year', 'system:footprint', 'model', 'system:asset_size', 'day', 'system:index'])\n"
     ]
    }
   ],
   "source": [
    "print(myImCol.limit(1).getInfo()['properties']['date_range'])\n",
    "print(myImCol.limit(1).getInfo()['properties']['period'])\n",
    "print([band['id'] for band in myImCol.limit(1).getInfo()['features'][0]['bands']])\n",
    "print(myImCol.limit(1).getInfo()['features'][0]['properties'].keys())"
   ]
  },
  {
   "cell_type": "markdown",
   "metadata": {},
   "source": [
    "### SELECT"
   ]
  },
  {
   "cell_type": "code",
   "execution_count": 56,
   "metadata": {
    "scrolled": true
   },
   "outputs": [
    {
     "name": "stdout",
     "output_type": "stream",
     "text": [
      "dict_keys(['system:time_start', 'month', 'scenario', 'year', 'system:footprint', 'model', 'system:asset_size', 'day', 'system:index'])\n",
      "['pr', 'tasmin', 'tasmax']\n",
      "[{'id': 'pr', 'data_type': {'type': 'PixelType', 'precision': 'float'}, 'dimensions': [1441, 720], 'crs': 'EPSG:4326', 'crs_transform': [0.25, 0.0, -180.0, 0.0, -0.25, 90.0]}]\n"
     ]
    }
   ],
   "source": [
    "# WILDCARD will get the bands, and each image metadata\n",
    "print(myImCol.limit(1).getInfo()['features'][0]['properties'].keys())\n",
    "print([band['id'] for band in myImCol.limit(1).getInfo()['features'][0]['bands']])\n",
    "\n",
    "# COLUMN & BAND SELECTION\n",
    "print(myImCol.select('pr').limit(1).getInfo()['features'][0]['bands']) ## Selects a band\n"
   ]
  },
  {
   "cell_type": "code",
   "execution_count": 15,
   "metadata": {
    "scrolled": false
   },
   "outputs": [
    {
     "name": "stdout",
     "output_type": "stream",
     "text": [
      "[{'type': 'Image', 'bands': [{'id': 'pr', 'data_type': {'type': 'PixelType', 'precision': 'float'}, 'dimensions': [1441, 720], 'crs': 'EPSG:4326', 'crs_transform': [0.25, 0.0, -180.0, 0.0, -0.25, 90.0]}, {'id': 'tasmin', 'data_type': {'type': 'PixelType', 'precision': 'float'}, 'dimensions': [1441, 720], 'crs': 'EPSG:4326', 'crs_transform': [0.25, 0.0, -180.0, 0.0, -0.25, 90.0]}, {'id': 'tasmax', 'data_type': {'type': 'PixelType', 'precision': 'float'}, 'dimensions': [1441, 720], 'crs': 'EPSG:4326', 'crs_transform': [0.25, 0.0, -180.0, 0.0, -0.25, 90.0]}], 'version': 1494551250391000, 'id': 'NASA/NEX-GDDP/historical_ACCESS1-0_19500101', 'properties': {'system:time_start': -631152000000.0, 'month': 1.0, 'scenario': 'historical', 'year': 1950.0, 'system:footprint': {'type': 'LinearRing', 'coordinates': [[-180.0, -90.0], [180.0, -90.0], [180.0, 90.0], [-180.0, 90.0], [-180.0, -90.0]]}, 'model': 'ACCESS1-0', 'system:asset_size': 10740266, 'day': 1.0, 'system:index': 'historical_ACCESS1-0_19500101'}}]\n"
     ]
    }
   ],
   "source": [
    "print(myImCol.limit(1).toList(3).getInfo()) ## Selects columns"
   ]
  },
  {
   "cell_type": "code",
   "execution_count": null,
   "metadata": {},
   "outputs": [],
   "source": [
    "# Agg Functions"
   ]
  },
  {
   "cell_type": "markdown",
   "metadata": {},
   "source": [
    "### FROM "
   ]
  },
  {
   "cell_type": "markdown",
   "metadata": {},
   "source": [
    "img collection asset id"
   ]
  },
  {
   "cell_type": "markdown",
   "metadata": {},
   "source": [
    "### WHERE"
   ]
  },
  {
   "cell_type": "code",
   "execution_count": 16,
   "metadata": {},
   "outputs": [
    {
     "name": "stdout",
     "output_type": "stream",
     "text": [
      "7672\n"
     ]
    }
   ],
   "source": [
    "# Where filter by date and geometry\n",
    "geometry =ee.Geometry.Polygon(\n",
    "         [[[-114.8291015625, 34.27083595164997],\n",
    "          [-115.2685546875, 32.65787573695528],\n",
    "          [-113.8623046875, 33.79740876757251]]]);\n",
    "\n",
    "\n",
    "\n",
    "filtered=myImCol.filter(ee.Filter([ee.Filter.eq('scenario','historical'),\n",
    "                                   ee.Filter.date('1996-01-01','1997-01-01')])).filterBounds(geometry).select('pr').sort('system:time_start')\n",
    "print(filtered.size().getInfo())"
   ]
  },
  {
   "cell_type": "markdown",
   "metadata": {},
   "source": [
    "Issues:\n",
    " * Region size under reduction, i have to check if there is a way for GEE to split the computations chunks to reduce computing time\n",
    " * Check its capabilities with Arrays "
   ]
  },
  {
   "cell_type": "code",
   "execution_count": 29,
   "metadata": {
    "scrolled": true
   },
   "outputs": [
    {
     "name": "stdout",
     "output_type": "stream",
     "text": [
      "ee.Image({\n",
      "  \"type\": \"ArgumentRef\",\n",
      "  \"value\": null\n",
      "})\n",
      "ee.Image({\n",
      "  \"type\": \"ArgumentRef\",\n",
      "  \"value\": \"_MAPPING_VAR_0_0\"\n",
      "})\n"
     ]
    },
    {
     "ename": "KeyboardInterrupt",
     "evalue": "",
     "output_type": "error",
     "traceback": [
      "\u001b[0;31m---------------------------------------------------------------------------\u001b[0m",
      "\u001b[0;31mKeyboardInterrupt\u001b[0m                         Traceback (most recent call last)",
      "\u001b[0;32m<ipython-input-29-d55a6ee9bbc3>\u001b[0m in \u001b[0;36m<module>\u001b[0;34m()\u001b[0m\n\u001b[1;32m     16\u001b[0m \u001b[0;34m\u001b[0m\u001b[0m\n\u001b[1;32m     17\u001b[0m \u001b[0mchart_data\u001b[0m \u001b[0;34m=\u001b[0m \u001b[0mfiltered\u001b[0m\u001b[0;34m.\u001b[0m\u001b[0mmap\u001b[0m\u001b[0;34m(\u001b[0m\u001b[0mComputeMean\u001b[0m\u001b[0;34m)\u001b[0m\u001b[0;34m\u001b[0m\u001b[0m\n\u001b[0;32m---> 18\u001b[0;31m \u001b[0mprint\u001b[0m\u001b[0;34m(\u001b[0m\u001b[0mchart_data\u001b[0m\u001b[0;34m.\u001b[0m\u001b[0mtoList\u001b[0m\u001b[0;34m(\u001b[0m\u001b[0;36m8000\u001b[0m\u001b[0;34m)\u001b[0m\u001b[0;34m.\u001b[0m\u001b[0mgetInfo\u001b[0m\u001b[0;34m(\u001b[0m\u001b[0;34m)\u001b[0m\u001b[0;34m)\u001b[0m\u001b[0;34m\u001b[0m\u001b[0m\n\u001b[0m",
      "\u001b[0;32m~/miniconda3/lib/python3.6/site-packages/ee/computedobject.py\u001b[0m in \u001b[0;36mgetInfo\u001b[0;34m(self)\u001b[0m\n\u001b[1;32m     93\u001b[0m       \u001b[0mThe\u001b[0m \u001b[0mobject\u001b[0m \u001b[0mcan\u001b[0m \u001b[0mevaluate\u001b[0m \u001b[0mto\u001b[0m \u001b[0manything\u001b[0m\u001b[0;34m.\u001b[0m\u001b[0;34m\u001b[0m\u001b[0m\n\u001b[1;32m     94\u001b[0m     \"\"\"\n\u001b[0;32m---> 95\u001b[0;31m     \u001b[0;32mreturn\u001b[0m \u001b[0mdata\u001b[0m\u001b[0;34m.\u001b[0m\u001b[0mgetValue\u001b[0m\u001b[0;34m(\u001b[0m\u001b[0;34m{\u001b[0m\u001b[0;34m'json'\u001b[0m\u001b[0;34m:\u001b[0m \u001b[0mself\u001b[0m\u001b[0;34m.\u001b[0m\u001b[0mserialize\u001b[0m\u001b[0;34m(\u001b[0m\u001b[0;34m)\u001b[0m\u001b[0;34m}\u001b[0m\u001b[0;34m)\u001b[0m\u001b[0;34m\u001b[0m\u001b[0m\n\u001b[0m\u001b[1;32m     96\u001b[0m \u001b[0;34m\u001b[0m\u001b[0m\n\u001b[1;32m     97\u001b[0m   \u001b[0;32mdef\u001b[0m \u001b[0mencode\u001b[0m\u001b[0;34m(\u001b[0m\u001b[0mself\u001b[0m\u001b[0;34m,\u001b[0m \u001b[0mencoder\u001b[0m\u001b[0;34m)\u001b[0m\u001b[0;34m:\u001b[0m\u001b[0;34m\u001b[0m\u001b[0m\n",
      "\u001b[0;32m~/miniconda3/lib/python3.6/site-packages/ee/data.py\u001b[0m in \u001b[0;36mgetValue\u001b[0;34m(params)\u001b[0m\n\u001b[1;32m    261\u001b[0m   \"\"\"\n\u001b[1;32m    262\u001b[0m   \u001b[0mparams\u001b[0m\u001b[0;34m[\u001b[0m\u001b[0;34m'json_format'\u001b[0m\u001b[0;34m]\u001b[0m \u001b[0;34m=\u001b[0m \u001b[0;34m'v2'\u001b[0m\u001b[0;34m\u001b[0m\u001b[0m\n\u001b[0;32m--> 263\u001b[0;31m   \u001b[0;32mreturn\u001b[0m \u001b[0msend_\u001b[0m\u001b[0;34m(\u001b[0m\u001b[0;34m'/value'\u001b[0m\u001b[0;34m,\u001b[0m \u001b[0mparams\u001b[0m\u001b[0;34m)\u001b[0m\u001b[0;34m\u001b[0m\u001b[0m\n\u001b[0m\u001b[1;32m    264\u001b[0m \u001b[0;34m\u001b[0m\u001b[0m\n\u001b[1;32m    265\u001b[0m \u001b[0;34m\u001b[0m\u001b[0m\n",
      "\u001b[0;32m~/miniconda3/lib/python3.6/site-packages/ee/data.py\u001b[0m in \u001b[0;36msend_\u001b[0;34m(path, params, opt_method, opt_raw)\u001b[0m\n\u001b[1;32m    783\u001b[0m     \u001b[0;32mreturn\u001b[0m \u001b[0mresponse\u001b[0m\u001b[0;34m,\u001b[0m \u001b[0mcontent\u001b[0m\u001b[0;34m\u001b[0m\u001b[0m\n\u001b[1;32m    784\u001b[0m \u001b[0;34m\u001b[0m\u001b[0m\n\u001b[0;32m--> 785\u001b[0;31m   \u001b[0mresponse\u001b[0m\u001b[0;34m,\u001b[0m \u001b[0mcontent\u001b[0m \u001b[0;34m=\u001b[0m \u001b[0msend_with_backoff\u001b[0m\u001b[0;34m(\u001b[0m\u001b[0;34m)\u001b[0m\u001b[0;34m\u001b[0m\u001b[0m\n\u001b[0m\u001b[1;32m    786\u001b[0m \u001b[0;34m\u001b[0m\u001b[0m\n\u001b[1;32m    787\u001b[0m   \u001b[0;31m# Call the profile hook if present. Note that this is done before we handle\u001b[0m\u001b[0;34m\u001b[0m\u001b[0;34m\u001b[0m\u001b[0m\n",
      "\u001b[0;32m~/miniconda3/lib/python3.6/site-packages/ee/data.py\u001b[0m in \u001b[0;36msend_with_backoff\u001b[0;34m(retries)\u001b[0m\n\u001b[1;32m    773\u001b[0m     \u001b[0;32mtry\u001b[0m\u001b[0;34m:\u001b[0m\u001b[0;34m\u001b[0m\u001b[0m\n\u001b[1;32m    774\u001b[0m       response, content = http.request(url, method=opt_method, body=payload,\n\u001b[0;32m--> 775\u001b[0;31m                                        headers=headers)\n\u001b[0m\u001b[1;32m    776\u001b[0m       \u001b[0;32mif\u001b[0m \u001b[0mresponse\u001b[0m\u001b[0;34m.\u001b[0m\u001b[0mstatus\u001b[0m \u001b[0;34m==\u001b[0m \u001b[0;36m429\u001b[0m\u001b[0;34m:\u001b[0m\u001b[0;34m\u001b[0m\u001b[0m\n\u001b[1;32m    777\u001b[0m         \u001b[0;32mif\u001b[0m \u001b[0mretries\u001b[0m \u001b[0;34m<\u001b[0m \u001b[0mMAX_RETRIES\u001b[0m\u001b[0;34m:\u001b[0m\u001b[0;34m\u001b[0m\u001b[0m\n",
      "\u001b[0;32m~/miniconda3/lib/python3.6/site-packages/oauth2client/transport.py\u001b[0m in \u001b[0;36mnew_request\u001b[0;34m(uri, method, body, headers, redirections, connection_type)\u001b[0m\n\u001b[1;32m    173\u001b[0m         resp, content = request(orig_request_method, uri, method, body,\n\u001b[1;32m    174\u001b[0m                                 \u001b[0mclean_headers\u001b[0m\u001b[0;34m(\u001b[0m\u001b[0mheaders\u001b[0m\u001b[0;34m)\u001b[0m\u001b[0;34m,\u001b[0m\u001b[0;34m\u001b[0m\u001b[0m\n\u001b[0;32m--> 175\u001b[0;31m                                 redirections, connection_type)\n\u001b[0m\u001b[1;32m    176\u001b[0m \u001b[0;34m\u001b[0m\u001b[0m\n\u001b[1;32m    177\u001b[0m         \u001b[0;31m# A stored token may expire between the time it is retrieved and\u001b[0m\u001b[0;34m\u001b[0m\u001b[0;34m\u001b[0m\u001b[0m\n",
      "\u001b[0;32m~/miniconda3/lib/python3.6/site-packages/oauth2client/transport.py\u001b[0m in \u001b[0;36mrequest\u001b[0;34m(http, uri, method, body, headers, redirections, connection_type)\u001b[0m\n\u001b[1;32m    280\u001b[0m     return http_callable(uri, method=method, body=body, headers=headers,\n\u001b[1;32m    281\u001b[0m                          \u001b[0mredirections\u001b[0m\u001b[0;34m=\u001b[0m\u001b[0mredirections\u001b[0m\u001b[0;34m,\u001b[0m\u001b[0;34m\u001b[0m\u001b[0m\n\u001b[0;32m--> 282\u001b[0;31m                          connection_type=connection_type)\n\u001b[0m\u001b[1;32m    283\u001b[0m \u001b[0;34m\u001b[0m\u001b[0m\n\u001b[1;32m    284\u001b[0m \u001b[0;34m\u001b[0m\u001b[0m\n",
      "\u001b[0;32m~/miniconda3/lib/python3.6/site-packages/httplib2/__init__.py\u001b[0m in \u001b[0;36mrequest\u001b[0;34m(self, uri, method, body, headers, redirections, connection_type)\u001b[0m\n\u001b[1;32m   1320\u001b[0m                     \u001b[0mcontent\u001b[0m \u001b[0;34m=\u001b[0m \u001b[0;34mb\"\"\u001b[0m\u001b[0;34m\u001b[0m\u001b[0m\n\u001b[1;32m   1321\u001b[0m                 \u001b[0;32melse\u001b[0m\u001b[0;34m:\u001b[0m\u001b[0;34m\u001b[0m\u001b[0m\n\u001b[0;32m-> 1322\u001b[0;31m                     \u001b[0;34m(\u001b[0m\u001b[0mresponse\u001b[0m\u001b[0;34m,\u001b[0m \u001b[0mcontent\u001b[0m\u001b[0;34m)\u001b[0m \u001b[0;34m=\u001b[0m \u001b[0mself\u001b[0m\u001b[0;34m.\u001b[0m\u001b[0m_request\u001b[0m\u001b[0;34m(\u001b[0m\u001b[0mconn\u001b[0m\u001b[0;34m,\u001b[0m \u001b[0mauthority\u001b[0m\u001b[0;34m,\u001b[0m \u001b[0muri\u001b[0m\u001b[0;34m,\u001b[0m \u001b[0mrequest_uri\u001b[0m\u001b[0;34m,\u001b[0m \u001b[0mmethod\u001b[0m\u001b[0;34m,\u001b[0m \u001b[0mbody\u001b[0m\u001b[0;34m,\u001b[0m \u001b[0mheaders\u001b[0m\u001b[0;34m,\u001b[0m \u001b[0mredirections\u001b[0m\u001b[0;34m,\u001b[0m \u001b[0mcachekey\u001b[0m\u001b[0;34m)\u001b[0m\u001b[0;34m\u001b[0m\u001b[0m\n\u001b[0m\u001b[1;32m   1323\u001b[0m         \u001b[0;32mexcept\u001b[0m \u001b[0mException\u001b[0m \u001b[0;32mas\u001b[0m \u001b[0me\u001b[0m\u001b[0;34m:\u001b[0m\u001b[0;34m\u001b[0m\u001b[0m\n\u001b[1;32m   1324\u001b[0m             \u001b[0;32mif\u001b[0m \u001b[0mself\u001b[0m\u001b[0;34m.\u001b[0m\u001b[0mforce_exception_to_status_code\u001b[0m\u001b[0;34m:\u001b[0m\u001b[0;34m\u001b[0m\u001b[0m\n",
      "\u001b[0;32m~/miniconda3/lib/python3.6/site-packages/httplib2/__init__.py\u001b[0m in \u001b[0;36m_request\u001b[0;34m(self, conn, host, absolute_uri, request_uri, method, body, headers, redirections, cachekey)\u001b[0m\n\u001b[1;32m   1070\u001b[0m             \u001b[0mauth\u001b[0m\u001b[0;34m.\u001b[0m\u001b[0mrequest\u001b[0m\u001b[0;34m(\u001b[0m\u001b[0mmethod\u001b[0m\u001b[0;34m,\u001b[0m \u001b[0mrequest_uri\u001b[0m\u001b[0;34m,\u001b[0m \u001b[0mheaders\u001b[0m\u001b[0;34m,\u001b[0m \u001b[0mbody\u001b[0m\u001b[0;34m)\u001b[0m\u001b[0;34m\u001b[0m\u001b[0m\n\u001b[1;32m   1071\u001b[0m \u001b[0;34m\u001b[0m\u001b[0m\n\u001b[0;32m-> 1072\u001b[0;31m         \u001b[0;34m(\u001b[0m\u001b[0mresponse\u001b[0m\u001b[0;34m,\u001b[0m \u001b[0mcontent\u001b[0m\u001b[0;34m)\u001b[0m \u001b[0;34m=\u001b[0m \u001b[0mself\u001b[0m\u001b[0;34m.\u001b[0m\u001b[0m_conn_request\u001b[0m\u001b[0;34m(\u001b[0m\u001b[0mconn\u001b[0m\u001b[0;34m,\u001b[0m \u001b[0mrequest_uri\u001b[0m\u001b[0;34m,\u001b[0m \u001b[0mmethod\u001b[0m\u001b[0;34m,\u001b[0m \u001b[0mbody\u001b[0m\u001b[0;34m,\u001b[0m \u001b[0mheaders\u001b[0m\u001b[0;34m)\u001b[0m\u001b[0;34m\u001b[0m\u001b[0m\n\u001b[0m\u001b[1;32m   1073\u001b[0m \u001b[0;34m\u001b[0m\u001b[0m\n\u001b[1;32m   1074\u001b[0m         \u001b[0;32mif\u001b[0m \u001b[0mauth\u001b[0m\u001b[0;34m:\u001b[0m\u001b[0;34m\u001b[0m\u001b[0m\n",
      "\u001b[0;32m~/miniconda3/lib/python3.6/site-packages/httplib2/__init__.py\u001b[0m in \u001b[0;36m_conn_request\u001b[0;34m(self, conn, request_uri, method, body, headers)\u001b[0m\n\u001b[1;32m   1023\u001b[0m                 \u001b[0;32mpass\u001b[0m\u001b[0;34m\u001b[0m\u001b[0m\n\u001b[1;32m   1024\u001b[0m             \u001b[0;32mtry\u001b[0m\u001b[0;34m:\u001b[0m\u001b[0;34m\u001b[0m\u001b[0m\n\u001b[0;32m-> 1025\u001b[0;31m                 \u001b[0mresponse\u001b[0m \u001b[0;34m=\u001b[0m \u001b[0mconn\u001b[0m\u001b[0;34m.\u001b[0m\u001b[0mgetresponse\u001b[0m\u001b[0;34m(\u001b[0m\u001b[0;34m)\u001b[0m\u001b[0;34m\u001b[0m\u001b[0m\n\u001b[0m\u001b[1;32m   1026\u001b[0m             \u001b[0;32mexcept\u001b[0m \u001b[0;34m(\u001b[0m\u001b[0mhttp\u001b[0m\u001b[0;34m.\u001b[0m\u001b[0mclient\u001b[0m\u001b[0;34m.\u001b[0m\u001b[0mBadStatusLine\u001b[0m\u001b[0;34m,\u001b[0m \u001b[0mhttp\u001b[0m\u001b[0;34m.\u001b[0m\u001b[0mclient\u001b[0m\u001b[0;34m.\u001b[0m\u001b[0mResponseNotReady\u001b[0m\u001b[0;34m)\u001b[0m\u001b[0;34m:\u001b[0m\u001b[0;34m\u001b[0m\u001b[0m\n\u001b[1;32m   1027\u001b[0m                 \u001b[0;31m# If we get a BadStatusLine on the first try then that means\u001b[0m\u001b[0;34m\u001b[0m\u001b[0;34m\u001b[0m\u001b[0m\n",
      "\u001b[0;32m~/miniconda3/lib/python3.6/http/client.py\u001b[0m in \u001b[0;36mgetresponse\u001b[0;34m(self)\u001b[0m\n\u001b[1;32m   1329\u001b[0m         \u001b[0;32mtry\u001b[0m\u001b[0;34m:\u001b[0m\u001b[0;34m\u001b[0m\u001b[0m\n\u001b[1;32m   1330\u001b[0m             \u001b[0;32mtry\u001b[0m\u001b[0;34m:\u001b[0m\u001b[0;34m\u001b[0m\u001b[0m\n\u001b[0;32m-> 1331\u001b[0;31m                 \u001b[0mresponse\u001b[0m\u001b[0;34m.\u001b[0m\u001b[0mbegin\u001b[0m\u001b[0;34m(\u001b[0m\u001b[0;34m)\u001b[0m\u001b[0;34m\u001b[0m\u001b[0m\n\u001b[0m\u001b[1;32m   1332\u001b[0m             \u001b[0;32mexcept\u001b[0m \u001b[0mConnectionError\u001b[0m\u001b[0;34m:\u001b[0m\u001b[0;34m\u001b[0m\u001b[0m\n\u001b[1;32m   1333\u001b[0m                 \u001b[0mself\u001b[0m\u001b[0;34m.\u001b[0m\u001b[0mclose\u001b[0m\u001b[0;34m(\u001b[0m\u001b[0;34m)\u001b[0m\u001b[0;34m\u001b[0m\u001b[0m\n",
      "\u001b[0;32m~/miniconda3/lib/python3.6/http/client.py\u001b[0m in \u001b[0;36mbegin\u001b[0;34m(self)\u001b[0m\n\u001b[1;32m    295\u001b[0m         \u001b[0;31m# read until we get a non-100 response\u001b[0m\u001b[0;34m\u001b[0m\u001b[0;34m\u001b[0m\u001b[0m\n\u001b[1;32m    296\u001b[0m         \u001b[0;32mwhile\u001b[0m \u001b[0;32mTrue\u001b[0m\u001b[0;34m:\u001b[0m\u001b[0;34m\u001b[0m\u001b[0m\n\u001b[0;32m--> 297\u001b[0;31m             \u001b[0mversion\u001b[0m\u001b[0;34m,\u001b[0m \u001b[0mstatus\u001b[0m\u001b[0;34m,\u001b[0m \u001b[0mreason\u001b[0m \u001b[0;34m=\u001b[0m \u001b[0mself\u001b[0m\u001b[0;34m.\u001b[0m\u001b[0m_read_status\u001b[0m\u001b[0;34m(\u001b[0m\u001b[0;34m)\u001b[0m\u001b[0;34m\u001b[0m\u001b[0m\n\u001b[0m\u001b[1;32m    298\u001b[0m             \u001b[0;32mif\u001b[0m \u001b[0mstatus\u001b[0m \u001b[0;34m!=\u001b[0m \u001b[0mCONTINUE\u001b[0m\u001b[0;34m:\u001b[0m\u001b[0;34m\u001b[0m\u001b[0m\n\u001b[1;32m    299\u001b[0m                 \u001b[0;32mbreak\u001b[0m\u001b[0;34m\u001b[0m\u001b[0m\n",
      "\u001b[0;32m~/miniconda3/lib/python3.6/http/client.py\u001b[0m in \u001b[0;36m_read_status\u001b[0;34m(self)\u001b[0m\n\u001b[1;32m    256\u001b[0m \u001b[0;34m\u001b[0m\u001b[0m\n\u001b[1;32m    257\u001b[0m     \u001b[0;32mdef\u001b[0m \u001b[0m_read_status\u001b[0m\u001b[0;34m(\u001b[0m\u001b[0mself\u001b[0m\u001b[0;34m)\u001b[0m\u001b[0;34m:\u001b[0m\u001b[0;34m\u001b[0m\u001b[0m\n\u001b[0;32m--> 258\u001b[0;31m         \u001b[0mline\u001b[0m \u001b[0;34m=\u001b[0m \u001b[0mstr\u001b[0m\u001b[0;34m(\u001b[0m\u001b[0mself\u001b[0m\u001b[0;34m.\u001b[0m\u001b[0mfp\u001b[0m\u001b[0;34m.\u001b[0m\u001b[0mreadline\u001b[0m\u001b[0;34m(\u001b[0m\u001b[0m_MAXLINE\u001b[0m \u001b[0;34m+\u001b[0m \u001b[0;36m1\u001b[0m\u001b[0;34m)\u001b[0m\u001b[0;34m,\u001b[0m \u001b[0;34m\"iso-8859-1\"\u001b[0m\u001b[0;34m)\u001b[0m\u001b[0;34m\u001b[0m\u001b[0m\n\u001b[0m\u001b[1;32m    259\u001b[0m         \u001b[0;32mif\u001b[0m \u001b[0mlen\u001b[0m\u001b[0;34m(\u001b[0m\u001b[0mline\u001b[0m\u001b[0;34m)\u001b[0m \u001b[0;34m>\u001b[0m \u001b[0m_MAXLINE\u001b[0m\u001b[0;34m:\u001b[0m\u001b[0;34m\u001b[0m\u001b[0m\n\u001b[1;32m    260\u001b[0m             \u001b[0;32mraise\u001b[0m \u001b[0mLineTooLong\u001b[0m\u001b[0;34m(\u001b[0m\u001b[0;34m\"status line\"\u001b[0m\u001b[0;34m)\u001b[0m\u001b[0;34m\u001b[0m\u001b[0m\n",
      "\u001b[0;32m~/miniconda3/lib/python3.6/socket.py\u001b[0m in \u001b[0;36mreadinto\u001b[0;34m(self, b)\u001b[0m\n\u001b[1;32m    584\u001b[0m         \u001b[0;32mwhile\u001b[0m \u001b[0;32mTrue\u001b[0m\u001b[0;34m:\u001b[0m\u001b[0;34m\u001b[0m\u001b[0m\n\u001b[1;32m    585\u001b[0m             \u001b[0;32mtry\u001b[0m\u001b[0;34m:\u001b[0m\u001b[0;34m\u001b[0m\u001b[0m\n\u001b[0;32m--> 586\u001b[0;31m                 \u001b[0;32mreturn\u001b[0m \u001b[0mself\u001b[0m\u001b[0;34m.\u001b[0m\u001b[0m_sock\u001b[0m\u001b[0;34m.\u001b[0m\u001b[0mrecv_into\u001b[0m\u001b[0;34m(\u001b[0m\u001b[0mb\u001b[0m\u001b[0;34m)\u001b[0m\u001b[0;34m\u001b[0m\u001b[0m\n\u001b[0m\u001b[1;32m    587\u001b[0m             \u001b[0;32mexcept\u001b[0m \u001b[0mtimeout\u001b[0m\u001b[0;34m:\u001b[0m\u001b[0;34m\u001b[0m\u001b[0m\n\u001b[1;32m    588\u001b[0m                 \u001b[0mself\u001b[0m\u001b[0;34m.\u001b[0m\u001b[0m_timeout_occurred\u001b[0m \u001b[0;34m=\u001b[0m \u001b[0;32mTrue\u001b[0m\u001b[0;34m\u001b[0m\u001b[0m\n",
      "\u001b[0;32m~/miniconda3/lib/python3.6/ssl.py\u001b[0m in \u001b[0;36mrecv_into\u001b[0;34m(self, buffer, nbytes, flags)\u001b[0m\n\u001b[1;32m   1000\u001b[0m                   \u001b[0;34m\"non-zero flags not allowed in calls to recv_into() on %s\"\u001b[0m \u001b[0;34m%\u001b[0m\u001b[0;34m\u001b[0m\u001b[0m\n\u001b[1;32m   1001\u001b[0m                   self.__class__)\n\u001b[0;32m-> 1002\u001b[0;31m             \u001b[0;32mreturn\u001b[0m \u001b[0mself\u001b[0m\u001b[0;34m.\u001b[0m\u001b[0mread\u001b[0m\u001b[0;34m(\u001b[0m\u001b[0mnbytes\u001b[0m\u001b[0;34m,\u001b[0m \u001b[0mbuffer\u001b[0m\u001b[0;34m)\u001b[0m\u001b[0;34m\u001b[0m\u001b[0m\n\u001b[0m\u001b[1;32m   1003\u001b[0m         \u001b[0;32melse\u001b[0m\u001b[0;34m:\u001b[0m\u001b[0;34m\u001b[0m\u001b[0m\n\u001b[1;32m   1004\u001b[0m             \u001b[0;32mreturn\u001b[0m \u001b[0msocket\u001b[0m\u001b[0;34m.\u001b[0m\u001b[0mrecv_into\u001b[0m\u001b[0;34m(\u001b[0m\u001b[0mself\u001b[0m\u001b[0;34m,\u001b[0m \u001b[0mbuffer\u001b[0m\u001b[0;34m,\u001b[0m \u001b[0mnbytes\u001b[0m\u001b[0;34m,\u001b[0m \u001b[0mflags\u001b[0m\u001b[0;34m)\u001b[0m\u001b[0;34m\u001b[0m\u001b[0m\n",
      "\u001b[0;32m~/miniconda3/lib/python3.6/ssl.py\u001b[0m in \u001b[0;36mread\u001b[0;34m(self, len, buffer)\u001b[0m\n\u001b[1;32m    863\u001b[0m             \u001b[0;32mraise\u001b[0m \u001b[0mValueError\u001b[0m\u001b[0;34m(\u001b[0m\u001b[0;34m\"Read on closed or unwrapped SSL socket.\"\u001b[0m\u001b[0;34m)\u001b[0m\u001b[0;34m\u001b[0m\u001b[0m\n\u001b[1;32m    864\u001b[0m         \u001b[0;32mtry\u001b[0m\u001b[0;34m:\u001b[0m\u001b[0;34m\u001b[0m\u001b[0m\n\u001b[0;32m--> 865\u001b[0;31m             \u001b[0;32mreturn\u001b[0m \u001b[0mself\u001b[0m\u001b[0;34m.\u001b[0m\u001b[0m_sslobj\u001b[0m\u001b[0;34m.\u001b[0m\u001b[0mread\u001b[0m\u001b[0;34m(\u001b[0m\u001b[0mlen\u001b[0m\u001b[0;34m,\u001b[0m \u001b[0mbuffer\u001b[0m\u001b[0;34m)\u001b[0m\u001b[0;34m\u001b[0m\u001b[0m\n\u001b[0m\u001b[1;32m    866\u001b[0m         \u001b[0;32mexcept\u001b[0m \u001b[0mSSLError\u001b[0m \u001b[0;32mas\u001b[0m \u001b[0mx\u001b[0m\u001b[0;34m:\u001b[0m\u001b[0;34m\u001b[0m\u001b[0m\n\u001b[1;32m    867\u001b[0m             \u001b[0;32mif\u001b[0m \u001b[0mx\u001b[0m\u001b[0;34m.\u001b[0m\u001b[0margs\u001b[0m\u001b[0;34m[\u001b[0m\u001b[0;36m0\u001b[0m\u001b[0;34m]\u001b[0m \u001b[0;34m==\u001b[0m \u001b[0mSSL_ERROR_EOF\u001b[0m \u001b[0;32mand\u001b[0m \u001b[0mself\u001b[0m\u001b[0;34m.\u001b[0m\u001b[0msuppress_ragged_eofs\u001b[0m\u001b[0;34m:\u001b[0m\u001b[0;34m\u001b[0m\u001b[0m\n",
      "\u001b[0;32m~/miniconda3/lib/python3.6/ssl.py\u001b[0m in \u001b[0;36mread\u001b[0;34m(self, len, buffer)\u001b[0m\n\u001b[1;32m    623\u001b[0m         \"\"\"\n\u001b[1;32m    624\u001b[0m         \u001b[0;32mif\u001b[0m \u001b[0mbuffer\u001b[0m \u001b[0;32mis\u001b[0m \u001b[0;32mnot\u001b[0m \u001b[0;32mNone\u001b[0m\u001b[0;34m:\u001b[0m\u001b[0;34m\u001b[0m\u001b[0m\n\u001b[0;32m--> 625\u001b[0;31m             \u001b[0mv\u001b[0m \u001b[0;34m=\u001b[0m \u001b[0mself\u001b[0m\u001b[0;34m.\u001b[0m\u001b[0m_sslobj\u001b[0m\u001b[0;34m.\u001b[0m\u001b[0mread\u001b[0m\u001b[0;34m(\u001b[0m\u001b[0mlen\u001b[0m\u001b[0;34m,\u001b[0m \u001b[0mbuffer\u001b[0m\u001b[0;34m)\u001b[0m\u001b[0;34m\u001b[0m\u001b[0m\n\u001b[0m\u001b[1;32m    626\u001b[0m         \u001b[0;32melse\u001b[0m\u001b[0;34m:\u001b[0m\u001b[0;34m\u001b[0m\u001b[0m\n\u001b[1;32m    627\u001b[0m             \u001b[0mv\u001b[0m \u001b[0;34m=\u001b[0m \u001b[0mself\u001b[0m\u001b[0;34m.\u001b[0m\u001b[0m_sslobj\u001b[0m\u001b[0;34m.\u001b[0m\u001b[0mread\u001b[0m\u001b[0;34m(\u001b[0m\u001b[0mlen\u001b[0m\u001b[0;34m)\u001b[0m\u001b[0;34m\u001b[0m\u001b[0m\n",
      "\u001b[0;31mKeyboardInterrupt\u001b[0m: "
     ]
    }
   ],
   "source": [
    "# Compute the mean precipitation in the region in each image. this redice the x/y axis acros a z axis for the nbands available\n",
    "def ComputeMean(img):\n",
    "    reducer={\n",
    "        'reducer': ee.Reducer.sum(), \n",
    "        'geometry': geometry, \n",
    "        'bestEffort': True,\n",
    "        'tileScale':4,\n",
    "        'scale': 90\n",
    "    }\n",
    "    reduction = img.reduceRegion(**reducer)\n",
    "    return ee.Feature(None, {\n",
    "        'result': reduction,\n",
    "        'system:time_start': img.get('system:time_start')\n",
    "    })\n",
    "\n",
    "chart_data = filtered.map(ComputeMean)\n",
    "print(chart_data.toList(8000).getInfo())"
   ]
  },
  {
   "cell_type": "markdown",
   "metadata": {},
   "source": [
    "this.toArray() allow band parallel computation and reduction in a single image. For temporal ranges we will need to use the above reducer"
   ]
  },
  {
   "cell_type": "markdown",
   "metadata": {},
   "source": [
    "#### Try to reduce on the z-axe image stacks. Lets check differences between reduce/reduceImage/reduceColumns in image collections"
   ]
  },
  {
   "cell_type": "code",
   "execution_count": 281,
   "metadata": {
    "scrolled": true
   },
   "outputs": [
    {
     "name": "stdout",
     "output_type": "stream",
     "text": [
      "7672\n",
      "{'type': 'Image', 'bands': [{'id': 'pr_sum', 'data_type': {'type': 'PixelType', 'precision': 'double'}, 'crs': 'EPSG:4326', 'crs_transform': [1.0, 0.0, 0.0, 0.0, 1.0, 0.0]}]}\n"
     ]
    },
    {
     "data": {
      "text/html": [
       "<div style=\"width:100%;\"><div style=\"position:relative;width:100%;height:0;padding-bottom:60%;\"><iframe src=\"data:text/html;charset=utf-8;base64,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\" style=\"position:absolute;width:100%;height:100%;left:0;top:0;border:none !important;\" allowfullscreen webkitallowfullscreen mozallowfullscreen></iframe></div></div>"
      ],
      "text/plain": [
       "<folium.folium.Map at 0x1126e3c88>"
      ]
     },
     "execution_count": 281,
     "metadata": {},
     "output_type": "execute_result"
    }
   ],
   "source": [
    "# Reduce\n",
    "filtered=myImCol.filter(ee.Filter([ee.Filter.eq('scenario','historical'),\n",
    "                                   ee.Filter.date('1996-01-01','1997-01-01')])).filterBounds(geometry).select('pr').sort('system:time_start')\n",
    "print(filtered.size().getInfo())\n",
    "myReducer= {\n",
    "     'reducer': ee.Reducer.sum()\n",
    "}\n",
    "image_test = filtered.reduce(**myReducer)\n",
    "print(image_test.getInfo())\n",
    "\n",
    "\n",
    "tilesa = tile_url(image_test.clip(geometry),{'opacity': 1})\n",
    "# map.add_tile_layer(tiles=tiles_lc, attr=\"LandCover\")\n",
    "map = folium.Map(tiles='Mapbox Bright', location=[34.27083595164997,-114.8291015625], zoom_start = 7, width=300,height=300)\n",
    "map.add_tile_layer(tiles=tilesa, attr=\"Reduce\")\n",
    "map"
   ]
  },
  {
   "cell_type": "code",
   "execution_count": 152,
   "metadata": {
    "scrolled": true
   },
   "outputs": [
    {
     "name": "stdout",
     "output_type": "stream",
     "text": [
      "7672\n",
      "{'type': 'Image', 'bands': [{'id': 'sum', 'data_type': {'type': 'PixelType', 'precision': 'double'}, 'crs': 'EPSG:4326', 'crs_transform': [1.0, 0.0, 0.0, 0.0, 1.0, 0.0]}]}\n"
     ]
    },
    {
     "data": {
      "text/html": [
       "<div style=\"width:100%;\"><div style=\"position:relative;width:100%;height:0;padding-bottom:60%;\"><iframe src=\"data:text/html;charset=utf-8;base64,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\" style=\"position:absolute;width:100%;height:100%;left:0;top:0;border:none !important;\" allowfullscreen webkitallowfullscreen mozallowfullscreen></iframe></div></div>"
      ],
      "text/plain": [
       "<folium.folium.Map at 0x11a161ef0>"
      ]
     },
     "execution_count": 152,
     "metadata": {},
     "output_type": "execute_result"
    }
   ],
   "source": [
    "# ReduceToImage\n",
    "filtered=myImCol.filter(ee.Filter([ee.Filter.eq('scenario','historical'),ee.Filter.date('1996-01-01','1997-01-01')])).filterBounds(geometry).sort('system:time_start')\n",
    "print(filtered.size().getInfo())\n",
    "myReducer= {\n",
    "     'reducer': ee.Reducer.sum(),\n",
    "    'properties':['month']\n",
    "}\n",
    "image_test = filtered.select('pr').reduceToImage(**myReducer)\n",
    "print(image_test.getInfo())\n",
    "\n",
    "\n",
    "tilesa = tile_url(image_test.clip(geometry),{'opacity': 1})\n",
    "# map.add_tile_layer(tiles=tiles_lc, attr=\"LandCover\")\n",
    "map = folium.Map(tiles='Mapbox Bright', location=[34.27083595164997,-114.8291015625], zoom_start = 5, width=300,height=300)\n",
    "map.add_tile_layer(tiles=tilesa, attr=\"Reduce\")\n",
    "map"
   ]
  },
  {
   "cell_type": "code",
   "execution_count": 17,
   "metadata": {
    "scrolled": false
   },
   "outputs": [
    {
     "name": "stdout",
     "output_type": "stream",
     "text": [
      "76664\n"
     ]
    }
   ],
   "source": [
    "# Filter example\n",
    "filtered=myImCol.filter(ee.Filter([ee.Filter.eq('scenario','historical'),\n",
    "                                   ee.Filter.date('1990-01-01','2000-01-01')])).select('pr').sort('system:time_start')\n",
    "print(filtered.size().getInfo())\n",
    "\n",
    "# Reduce Column as expected only operates in the properties; lets use it for cross product calculation\n",
    "# Reducer \n",
    "# 'month', 'scenario', 'year', 'model'\n",
    "myReducer= {\n",
    "      'reducer': ee.Reducer.count().repeat(1).group(**{\n",
    "            'groupField': 0,\n",
    "            'groupName': 'model',\n",
    "    }).group(**{\n",
    "            'groupField': 0,\n",
    "            'groupName': 'month',\n",
    "    }).group(**{\n",
    "            'groupField': 0,\n",
    "            'groupName': 'year',\n",
    "    }),\n",
    "    'selectors': ['year','month','model','year']\n",
    "}"
   ]
  },
  {
   "cell_type": "code",
   "execution_count": 18,
   "metadata": {
    "code_folding": [
     4
    ]
   },
   "outputs": [],
   "source": [
    "\"\"\"\n",
    "For filter generation the input shoud be the where tree generated by sql2json\n",
    "\"\"\"\n",
    "\n",
    "def filterGen(data, parents=[]):\n",
    "    _filters = {\n",
    "            '<': ee.Filter.lt,\n",
    "            '<=': ee.Filter.lte,\n",
    "            '>': ee.Filter.gt,\n",
    "            '>=': ee.Filter.gte,\n",
    "            '<>': ee.Filter.neq,\n",
    "            '=': ee.Filter.eq,\n",
    "            '!=': ee.Filter.neq,\n",
    "            'bedate': ee.Filter.date,\n",
    "            'between': ee.Filter.rangeContains,\n",
    "            'like': ee.Filter.eq,\n",
    "            '%like%': ee.Filter.stringContains,\n",
    "            '%like': ee.Filter.stringEndsWith,\n",
    "            'like%': ee.Filter.stringStartsWith\n",
    "            \n",
    "        }\n",
    "    _comparisons = {\n",
    "            'and': ee.Filter.And,\n",
    "            'or': ee.Filter.Or\n",
    "        }\n",
    "    left = None\n",
    "    right = None\n",
    "    result =[]\n",
    "    dparents=list(parents)\n",
    "    if 'type' in [*data] and data['type']=='conditional': ########---------------------------- Leaf with groups l and r:\n",
    "        left = data['left']\n",
    "        right = data['right']\n",
    "        dparents=[data['value']]\n",
    "    elif 'type' in [*data] and data['type']=='operator': ########------------------------------------------- Latests leaf we will want to return  \n",
    "        return _filters[data['value']](data['left']['value'],data['right']['value'])\n",
    "    \n",
    "    if left and right: ########-------------------------------------- leaf group iteration\n",
    "        #for l in left:\n",
    "        partialL=filterGen(left, dparents)\n",
    "        #for r in right:\n",
    "        partialR=filterGen(right, dparents)\n",
    "        result=_comparisons[dparents[0]](partialR,partialL)\n",
    "        \n",
    "    return result ########----------------------------------- Return result in:[[ee.Filter.eq('month','historical'),ee.Filter.eq('model','historical'),...],...]   \n",
    "\n",
    "#\"\"\"\n",
    "#For reducer generation the input shoud be the groupby and select function generated by sql2json\n",
    "#\"\"\"    \n",
    "##def reducerGen():\n",
    "#    \"\"\"\n",
    "#    Operation + groupby columns\n",
    "#    \"\"\"\n",
    "#    reducTyDict={\n",
    "#        \"\":\n",
    "#    }\n",
    "#    reducDict={\n",
    "#        \"\":\n",
    "#    }"
   ]
  },
  {
   "cell_type": "code",
   "execution_count": null,
   "metadata": {},
   "outputs": [],
   "source": []
  },
  {
   "cell_type": "code",
   "execution_count": 31,
   "metadata": {
    "scrolled": false
   },
   "outputs": [],
   "source": [
    "filtered=myImCol.filter(ee.Filter([ee.Filter.eq('scenario','historical'), ee.Filter.date('1996-01-01','1997-01-01')])).filterBounds(geometry).sort('system:time_start')\n",
    "def myPrint(data, parents=[]):\n",
    "    keys=[*data]\n",
    "    groups = None\n",
    "    result =[]\n",
    "    dparents=list(parents)\n",
    "    if 'groups' in keys: ########---------------------------- Leaf with groups:\n",
    "        groups = data['groups']\n",
    "        if (len(keys) > 1): ########------------------------- If groups not alone:\n",
    "            keys.remove('groups')\n",
    "            dparents.append(ee.Filter.eq(keys[0],data[keys[0]]))\n",
    "    else: ########------------------------------------------- Latests leaf we will want to return  \n",
    "        keys.remove('count')\n",
    "        return [ee.Filter.eq(keys[0],data[keys[0]]),*dparents]\n",
    "    \n",
    "    if groups: ########-------------------------------------- leaf group iteration\n",
    "        for group in groups:\n",
    "            partialR=myPrint(group, dparents)\n",
    "            ##----------------------------------------------- to keep it in a 2d array\n",
    "            if isinstance(partialR[0], list):\n",
    "                result.extend(partialR)\n",
    "            else:\n",
    "                result.append(partialR)\n",
    "    return result ########----------------------------------- Return result in:[[ee.Filter.eq('month','historical'),ee.Filter.eq('model','historical'),...],...] \n",
    "\n",
    "def ComputeMean(img):\n",
    "    reducer={\n",
    "        'reducer': ee.Reducer.mean(), \n",
    "        'geometry': geometry, \n",
    "        'bestEffort': True,\n",
    "        'tileScale':4,\n",
    "        'scale': 90\n",
    "    }\n",
    "    reduction = img.reduceRegion(**reducer)\n",
    "    return ee.Feature(None, {\n",
    "        'result': reduction,\n",
    "        'system:time_start': img.get('system:time_start')\n",
    "    })\n",
    "#def imageReduce(subCollection):\n",
    "#    myReducer={\n",
    "#      'reducer': ee.Reducer.mean(),\n",
    "#      'parallelScale':4\n",
    "#    }\n",
    "#    print(subCollection.evaluate())\n",
    "#    print('n')\n",
    "#    return subCollection.reduce(**myReducer)    \n",
    "    \n",
    "def collection_reducer(collection):\n",
    "    myReducer= {\n",
    "      'reducer': ee.Reducer.count().repeat(1).group(**{\n",
    "            'groupField': 0,\n",
    "            'groupName': 'year',\n",
    "    }).group(**{\n",
    "            'groupField': 0,\n",
    "            'groupName': 'month',\n",
    "    }),\n",
    "    'selectors': ['month','year','model']\n",
    "    }\n",
    "    myReducer2={\n",
    "      'reducer': ee.Reducer.mean(),\n",
    "      'parallelScale':4\n",
    "    }\n",
    "    crossP=collection.reduceColumns(**myReducer)\n",
    "    mysubsets=myPrint(crossP.getInfo())\n",
    "    myList=ee.List([collection.filter(ee.Filter(filters)).reduce(**myReducer2).set()  for filters in mysubsets])\n",
    "    return ee.ImageCollection(myList)"
   ]
  },
  {
   "cell_type": "code",
   "execution_count": 32,
   "metadata": {},
   "outputs": [],
   "source": [
    "imgn=collection_reducer(filtered)"
   ]
  },
  {
   "cell_type": "code",
   "execution_count": 33,
   "metadata": {
    "scrolled": true
   },
   "outputs": [
    {
     "data": {
      "text/plain": [
       "{'bands': [],\n",
       " 'features': [{'bands': [{'crs': 'EPSG:4326',\n",
       "     'crs_transform': [1.0, 0.0, 0.0, 0.0, 1.0, 0.0],\n",
       "     'data_type': {'precision': 'float', 'type': 'PixelType'},\n",
       "     'id': 'pr_mean'},\n",
       "    {'crs': 'EPSG:4326',\n",
       "     'crs_transform': [1.0, 0.0, 0.0, 0.0, 1.0, 0.0],\n",
       "     'data_type': {'precision': 'float', 'type': 'PixelType'},\n",
       "     'id': 'tasmin_mean'},\n",
       "    {'crs': 'EPSG:4326',\n",
       "     'crs_transform': [1.0, 0.0, 0.0, 0.0, 1.0, 0.0],\n",
       "     'data_type': {'precision': 'float', 'type': 'PixelType'},\n",
       "     'id': 'tasmax_mean'}],\n",
       "   'properties': {'system:index': '0'},\n",
       "   'type': 'Image'},\n",
       "  {'bands': [{'crs': 'EPSG:4326',\n",
       "     'crs_transform': [1.0, 0.0, 0.0, 0.0, 1.0, 0.0],\n",
       "     'data_type': {'precision': 'float', 'type': 'PixelType'},\n",
       "     'id': 'pr_mean'},\n",
       "    {'crs': 'EPSG:4326',\n",
       "     'crs_transform': [1.0, 0.0, 0.0, 0.0, 1.0, 0.0],\n",
       "     'data_type': {'precision': 'float', 'type': 'PixelType'},\n",
       "     'id': 'tasmin_mean'},\n",
       "    {'crs': 'EPSG:4326',\n",
       "     'crs_transform': [1.0, 0.0, 0.0, 0.0, 1.0, 0.0],\n",
       "     'data_type': {'precision': 'float', 'type': 'PixelType'},\n",
       "     'id': 'tasmax_mean'}],\n",
       "   'properties': {'system:index': '1'},\n",
       "   'type': 'Image'},\n",
       "  {'bands': [{'crs': 'EPSG:4326',\n",
       "     'crs_transform': [1.0, 0.0, 0.0, 0.0, 1.0, 0.0],\n",
       "     'data_type': {'precision': 'float', 'type': 'PixelType'},\n",
       "     'id': 'pr_mean'},\n",
       "    {'crs': 'EPSG:4326',\n",
       "     'crs_transform': [1.0, 0.0, 0.0, 0.0, 1.0, 0.0],\n",
       "     'data_type': {'precision': 'float', 'type': 'PixelType'},\n",
       "     'id': 'tasmin_mean'},\n",
       "    {'crs': 'EPSG:4326',\n",
       "     'crs_transform': [1.0, 0.0, 0.0, 0.0, 1.0, 0.0],\n",
       "     'data_type': {'precision': 'float', 'type': 'PixelType'},\n",
       "     'id': 'tasmax_mean'}],\n",
       "   'properties': {'system:index': '2'},\n",
       "   'type': 'Image'},\n",
       "  {'bands': [{'crs': 'EPSG:4326',\n",
       "     'crs_transform': [1.0, 0.0, 0.0, 0.0, 1.0, 0.0],\n",
       "     'data_type': {'precision': 'float', 'type': 'PixelType'},\n",
       "     'id': 'pr_mean'},\n",
       "    {'crs': 'EPSG:4326',\n",
       "     'crs_transform': [1.0, 0.0, 0.0, 0.0, 1.0, 0.0],\n",
       "     'data_type': {'precision': 'float', 'type': 'PixelType'},\n",
       "     'id': 'tasmin_mean'},\n",
       "    {'crs': 'EPSG:4326',\n",
       "     'crs_transform': [1.0, 0.0, 0.0, 0.0, 1.0, 0.0],\n",
       "     'data_type': {'precision': 'float', 'type': 'PixelType'},\n",
       "     'id': 'tasmax_mean'}],\n",
       "   'properties': {'system:index': '3'},\n",
       "   'type': 'Image'},\n",
       "  {'bands': [{'crs': 'EPSG:4326',\n",
       "     'crs_transform': [1.0, 0.0, 0.0, 0.0, 1.0, 0.0],\n",
       "     'data_type': {'precision': 'float', 'type': 'PixelType'},\n",
       "     'id': 'pr_mean'},\n",
       "    {'crs': 'EPSG:4326',\n",
       "     'crs_transform': [1.0, 0.0, 0.0, 0.0, 1.0, 0.0],\n",
       "     'data_type': {'precision': 'float', 'type': 'PixelType'},\n",
       "     'id': 'tasmin_mean'},\n",
       "    {'crs': 'EPSG:4326',\n",
       "     'crs_transform': [1.0, 0.0, 0.0, 0.0, 1.0, 0.0],\n",
       "     'data_type': {'precision': 'float', 'type': 'PixelType'},\n",
       "     'id': 'tasmax_mean'}],\n",
       "   'properties': {'system:index': '4'},\n",
       "   'type': 'Image'},\n",
       "  {'bands': [{'crs': 'EPSG:4326',\n",
       "     'crs_transform': [1.0, 0.0, 0.0, 0.0, 1.0, 0.0],\n",
       "     'data_type': {'precision': 'float', 'type': 'PixelType'},\n",
       "     'id': 'pr_mean'},\n",
       "    {'crs': 'EPSG:4326',\n",
       "     'crs_transform': [1.0, 0.0, 0.0, 0.0, 1.0, 0.0],\n",
       "     'data_type': {'precision': 'float', 'type': 'PixelType'},\n",
       "     'id': 'tasmin_mean'},\n",
       "    {'crs': 'EPSG:4326',\n",
       "     'crs_transform': [1.0, 0.0, 0.0, 0.0, 1.0, 0.0],\n",
       "     'data_type': {'precision': 'float', 'type': 'PixelType'},\n",
       "     'id': 'tasmax_mean'}],\n",
       "   'properties': {'system:index': '5'},\n",
       "   'type': 'Image'},\n",
       "  {'bands': [{'crs': 'EPSG:4326',\n",
       "     'crs_transform': [1.0, 0.0, 0.0, 0.0, 1.0, 0.0],\n",
       "     'data_type': {'precision': 'float', 'type': 'PixelType'},\n",
       "     'id': 'pr_mean'},\n",
       "    {'crs': 'EPSG:4326',\n",
       "     'crs_transform': [1.0, 0.0, 0.0, 0.0, 1.0, 0.0],\n",
       "     'data_type': {'precision': 'float', 'type': 'PixelType'},\n",
       "     'id': 'tasmin_mean'},\n",
       "    {'crs': 'EPSG:4326',\n",
       "     'crs_transform': [1.0, 0.0, 0.0, 0.0, 1.0, 0.0],\n",
       "     'data_type': {'precision': 'float', 'type': 'PixelType'},\n",
       "     'id': 'tasmax_mean'}],\n",
       "   'properties': {'system:index': '6'},\n",
       "   'type': 'Image'},\n",
       "  {'bands': [{'crs': 'EPSG:4326',\n",
       "     'crs_transform': [1.0, 0.0, 0.0, 0.0, 1.0, 0.0],\n",
       "     'data_type': {'precision': 'float', 'type': 'PixelType'},\n",
       "     'id': 'pr_mean'},\n",
       "    {'crs': 'EPSG:4326',\n",
       "     'crs_transform': [1.0, 0.0, 0.0, 0.0, 1.0, 0.0],\n",
       "     'data_type': {'precision': 'float', 'type': 'PixelType'},\n",
       "     'id': 'tasmin_mean'},\n",
       "    {'crs': 'EPSG:4326',\n",
       "     'crs_transform': [1.0, 0.0, 0.0, 0.0, 1.0, 0.0],\n",
       "     'data_type': {'precision': 'float', 'type': 'PixelType'},\n",
       "     'id': 'tasmax_mean'}],\n",
       "   'properties': {'system:index': '7'},\n",
       "   'type': 'Image'},\n",
       "  {'bands': [{'crs': 'EPSG:4326',\n",
       "     'crs_transform': [1.0, 0.0, 0.0, 0.0, 1.0, 0.0],\n",
       "     'data_type': {'precision': 'float', 'type': 'PixelType'},\n",
       "     'id': 'pr_mean'},\n",
       "    {'crs': 'EPSG:4326',\n",
       "     'crs_transform': [1.0, 0.0, 0.0, 0.0, 1.0, 0.0],\n",
       "     'data_type': {'precision': 'float', 'type': 'PixelType'},\n",
       "     'id': 'tasmin_mean'},\n",
       "    {'crs': 'EPSG:4326',\n",
       "     'crs_transform': [1.0, 0.0, 0.0, 0.0, 1.0, 0.0],\n",
       "     'data_type': {'precision': 'float', 'type': 'PixelType'},\n",
       "     'id': 'tasmax_mean'}],\n",
       "   'properties': {'system:index': '8'},\n",
       "   'type': 'Image'},\n",
       "  {'bands': [{'crs': 'EPSG:4326',\n",
       "     'crs_transform': [1.0, 0.0, 0.0, 0.0, 1.0, 0.0],\n",
       "     'data_type': {'precision': 'float', 'type': 'PixelType'},\n",
       "     'id': 'pr_mean'},\n",
       "    {'crs': 'EPSG:4326',\n",
       "     'crs_transform': [1.0, 0.0, 0.0, 0.0, 1.0, 0.0],\n",
       "     'data_type': {'precision': 'float', 'type': 'PixelType'},\n",
       "     'id': 'tasmin_mean'},\n",
       "    {'crs': 'EPSG:4326',\n",
       "     'crs_transform': [1.0, 0.0, 0.0, 0.0, 1.0, 0.0],\n",
       "     'data_type': {'precision': 'float', 'type': 'PixelType'},\n",
       "     'id': 'tasmax_mean'}],\n",
       "   'properties': {'system:index': '9'},\n",
       "   'type': 'Image'},\n",
       "  {'bands': [{'crs': 'EPSG:4326',\n",
       "     'crs_transform': [1.0, 0.0, 0.0, 0.0, 1.0, 0.0],\n",
       "     'data_type': {'precision': 'float', 'type': 'PixelType'},\n",
       "     'id': 'pr_mean'},\n",
       "    {'crs': 'EPSG:4326',\n",
       "     'crs_transform': [1.0, 0.0, 0.0, 0.0, 1.0, 0.0],\n",
       "     'data_type': {'precision': 'float', 'type': 'PixelType'},\n",
       "     'id': 'tasmin_mean'},\n",
       "    {'crs': 'EPSG:4326',\n",
       "     'crs_transform': [1.0, 0.0, 0.0, 0.0, 1.0, 0.0],\n",
       "     'data_type': {'precision': 'float', 'type': 'PixelType'},\n",
       "     'id': 'tasmax_mean'}],\n",
       "   'properties': {'system:index': '10'},\n",
       "   'type': 'Image'},\n",
       "  {'bands': [{'crs': 'EPSG:4326',\n",
       "     'crs_transform': [1.0, 0.0, 0.0, 0.0, 1.0, 0.0],\n",
       "     'data_type': {'precision': 'float', 'type': 'PixelType'},\n",
       "     'id': 'pr_mean'},\n",
       "    {'crs': 'EPSG:4326',\n",
       "     'crs_transform': [1.0, 0.0, 0.0, 0.0, 1.0, 0.0],\n",
       "     'data_type': {'precision': 'float', 'type': 'PixelType'},\n",
       "     'id': 'tasmin_mean'},\n",
       "    {'crs': 'EPSG:4326',\n",
       "     'crs_transform': [1.0, 0.0, 0.0, 0.0, 1.0, 0.0],\n",
       "     'data_type': {'precision': 'float', 'type': 'PixelType'},\n",
       "     'id': 'tasmax_mean'}],\n",
       "   'properties': {'system:index': '11'},\n",
       "   'type': 'Image'}],\n",
       " 'type': 'ImageCollection'}"
      ]
     },
     "execution_count": 33,
     "metadata": {},
     "output_type": "execute_result"
    }
   ],
   "source": [
    "imgn.getInfo()"
   ]
  },
  {
   "cell_type": "code",
   "execution_count": 34,
   "metadata": {},
   "outputs": [
    {
     "name": "stdout",
     "output_type": "stream",
     "text": [
      "[{'type': 'Feature', 'geometry': None, 'id': '0', 'properties': {'result': {'pr_mean': 2.418801815260752e-06, 'tasmax_mean': 293.35888747809923, 'tasmin_mean': 278.2260322798954}}}, {'type': 'Feature', 'geometry': None, 'id': '1', 'properties': {'result': {'pr_mean': 6.321651352080455e-06, 'tasmax_mean': 295.5712528670049, 'tasmin_mean': 280.0673959194391}}}, {'type': 'Feature', 'geometry': None, 'id': '2', 'properties': {'result': {'pr_mean': 2.77826147372122e-06, 'tasmax_mean': 297.89602939536934, 'tasmin_mean': 281.79534290900926}}}, {'type': 'Feature', 'geometry': None, 'id': '3', 'properties': {'result': {'pr_mean': 7.799395538504405e-07, 'tasmax_mean': 301.94299686527506, 'tasmin_mean': 284.49844900298194}}}, {'type': 'Feature', 'geometry': None, 'id': '4', 'properties': {'result': {'pr_mean': 3.349269122031681e-10, 'tasmax_mean': 306.50344557937035, 'tasmin_mean': 288.5175437028879}}}, {'type': 'Feature', 'geometry': None, 'id': '5', 'properties': {'result': {'pr_mean': 4.605523907035517e-11, 'tasmax_mean': 311.93498797682804, 'tasmin_mean': 293.06151752743716}}}, {'type': 'Feature', 'geometry': None, 'id': '6', 'properties': {'result': {'pr_mean': 3.112615050674478e-06, 'tasmax_mean': 314.0268130609166, 'tasmin_mean': 297.5635190683251}}}, {'type': 'Feature', 'geometry': None, 'id': '7', 'properties': {'result': {'pr_mean': 2.4108974740676072e-06, 'tasmax_mean': 313.64321755699575, 'tasmin_mean': 297.5471714155067}}}, {'type': 'Feature', 'geometry': None, 'id': '8', 'properties': {'result': {'pr_mean': 1.743432934163228e-06, 'tasmax_mean': 310.4454620290799, 'tasmin_mean': 293.52477766674446}}}, {'type': 'Feature', 'geometry': None, 'id': '9', 'properties': {'result': {'pr_mean': 7.190081663937692e-07, 'tasmax_mean': 304.98351401684164, 'tasmin_mean': 287.65020786538463}}}, {'type': 'Feature', 'geometry': None, 'id': '10', 'properties': {'result': {'pr_mean': 1.8061762423645642e-06, 'tasmax_mean': 296.70235253933464, 'tasmin_mean': 281.69608945379645}}}, {'type': 'Feature', 'geometry': None, 'id': '11', 'properties': {'result': {'pr_mean': 2.424685810979227e-06, 'tasmax_mean': 293.18615198109416, 'tasmin_mean': 278.8855134908808}}}]\n"
     ]
    }
   ],
   "source": [
    "# Compute the mean precipitation in the region in each image. this redice the x/y axis acros a z axis for the nbands available\n",
    "timeSeries=imgn.map(ComputeMean).toList(800).getInfo()\n",
    "print(timeSeries)"
   ]
  },
  {
   "cell_type": "code",
   "execution_count": 21,
   "metadata": {},
   "outputs": [
    {
     "data": {
      "text/html": [
       "<div style=\"width:100%;\"><div style=\"position:relative;width:100%;height:0;padding-bottom:60%;\"><iframe src=\"data:text/html;charset=utf-8;base64,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\" style=\"position:absolute;width:100%;height:100%;left:0;top:0;border:none !important;\" allowfullscreen webkitallowfullscreen mozallowfullscreen></iframe></div></div>"
      ],
      "text/plain": [
       "<folium.folium.Map at 0x11acf7c50>"
      ]
     },
     "execution_count": 21,
     "metadata": {},
     "output_type": "execute_result"
    }
   ],
   "source": [
    "img=collection_reducer(filtered)\n",
    "#print(img.map(ComputeMean).getInfo())\n",
    "tilesa = tile_url(ee.Image(img.first()),{'min':0,'max':0.00001,'opacity': 1})\n",
    "# map.add_tile_layer(tiles=tiles_lc, attr=\"LandCover\")\n",
    "map = folium.Map(tiles='Mapbox Bright', location=[33.29083595164997,-113.8291015625], zoom_start = 7, width=800,height=300)\n",
    "map.add_tile_layer(tiles=tilesa, attr=\"Reduce\")\n",
    "map"
   ]
  },
  {
   "cell_type": "code",
   "execution_count": 228,
   "metadata": {},
   "outputs": [
    {
     "data": {
      "text/plain": [
       "{'bands': [{'crs': 'EPSG:4326',\n",
       "   'crs_transform': [1.0, 0.0, 0.0, 0.0, 1.0, 0.0],\n",
       "   'data_type': {'dimensions': 1, 'precision': 'double', 'type': 'PixelType'},\n",
       "   'id': 'array'}],\n",
       " 'type': 'Image'}"
      ]
     },
     "execution_count": 228,
     "metadata": {},
     "output_type": "execute_result"
    }
   ],
   "source": [
    "farray.arrayReduce(**reducer).arrayProject([imageAxis]).getInfo()"
   ]
  },
  {
   "cell_type": "code",
   "execution_count": 229,
   "metadata": {
    "scrolled": true
   },
   "outputs": [
    {
     "data": {
      "text/plain": [
       "{'bands': [{'crs': 'EPSG:4326',\n",
       "   'crs_transform': [1.0, 0.0, 0.0, 0.0, 1.0, 0.0],\n",
       "   'data_type': {'precision': 'float', 'type': 'PixelType'},\n",
       "   'id': 'pr'}],\n",
       " 'type': 'Image'}"
      ]
     },
     "execution_count": 229,
     "metadata": {},
     "output_type": "execute_result"
    }
   ],
   "source": [
    "filtered.max().getInfo()"
   ]
  },
  {
   "cell_type": "code",
   "execution_count": 290,
   "metadata": {},
   "outputs": [
    {
     "name": "stdout",
     "output_type": "stream",
     "text": [
      "{'type': 'DateRange', 'dates': [820454400000, 852076800000]}\n",
      "{'type': 'Date', 'value': 642297600000}\n",
      "{'type': 'DateRange', 'dates': [820454400000, 852076800000]}\n",
      "1996-00-01\n",
      "1997-00-01\n",
      "1882359\n"
     ]
    }
   ],
   "source": [
    "###DateTime management in GEE\n",
    "print(ee.DateRange(ee.Date('1996-01-01'), ee.Date('1997-01-01')).getInfo())\n",
    "rangeD=ee.DateRange(ee.Date('1996-01-01'), ee.Date('1997-01-01')).getInfo()['dates']\n",
    "print(ee.Date.fromYMD(1990, 5, 10).getInfo())\n",
    "angeD=myImCol.limit(1).getInfo()['properties']['date_range']\n",
    "print(ee.DateRange(rangeD[0],rangeD[1]).getInfo())\n",
    "print(ee.Date(rangeD[0]).format('yyyy-mm-dd').getInfo())\n",
    "print(ee.Date(rangeD[1]).format('yyyy-mm-dd').getInfo())\n",
    "print(myImCol.size().getInfo())"
   ]
  },
  {
   "cell_type": "markdown",
   "metadata": {
    "heading_collapsed": true
   },
   "source": [
    "## Map display; tiles & geojsons"
   ]
  },
  {
   "cell_type": "markdown",
   "metadata": {
    "hidden": true
   },
   "source": [
    "### Feature Collection"
   ]
  },
  {
   "cell_type": "markdown",
   "metadata": {
    "hidden": true
   },
   "source": [
    "Depends on what we want we can get the geojson associated or the tiles\n",
    "\n",
    "* Tiles: We will need to pass asset_id and the styles (in the future maybe a function to be applied to all polygons?) this.getMap(visParams, callback) or this.style().getMap()\n",
    "\n",
    "* Geojson: We will need to pass asset_id and the styles (in the future maybe a function to be applied to all polygons?) this.toList()"
   ]
  },
  {
   "cell_type": "markdown",
   "metadata": {
    "hidden": true
   },
   "source": [
    "### Image"
   ]
  },
  {
   "cell_type": "markdown",
   "metadata": {
    "hidden": true
   },
   "source": [
    "We will need to pass asset_id and the styles (in the future maybe a function to be applied to all polygons?)"
   ]
  },
  {
   "cell_type": "markdown",
   "metadata": {
    "hidden": true
   },
   "source": [
    "### Image Collection"
   ]
  },
  {
   "cell_type": "markdown",
   "metadata": {
    "hidden": true
   },
   "source": [
    "we need to composite the image Collection first so there is a set of params that we will want to pass: filter columns, time range and the composite method (first image by default).\n",
    "\n",
    "We will allow to pass params or a sql to be able to reduce/select an image and then the colorizing methodology will be the same as the one used for images"
   ]
  },
  {
   "cell_type": "code",
   "execution_count": null,
   "metadata": {
    "hidden": true
   },
   "outputs": [],
   "source": [
    "#ee.Image(imgC.first())"
   ]
  },
  {
   "cell_type": "markdown",
   "metadata": {
    "heading_collapsed": true
   },
   "source": [
    "## NRT Image generation"
   ]
  },
  {
   "cell_type": "markdown",
   "metadata": {
    "hidden": true
   },
   "source": [
    "The process can be summarize here:\n",
    "* Image upload to CloudStorage\n",
    "* move the image into the Collection while adding some basic Metadata"
   ]
  },
  {
   "cell_type": "markdown",
   "metadata": {
    "hidden": true
   },
   "source": [
    "1.- We create our collection:\n",
    "\n",
    ">```bash\n",
    "earthengine create collection users/username/collection_id\n",
    "```\n",
    "We set it to public access:\n",
    "```bash\n",
    "earthengine acl set public  users/username/collection_id\n",
    "```\n",
    "And we add it's metadata:\n",
    "```bash\n",
    "earthengine asset set --time_start YYYY-MM-DDThh:mm:ss --time_end YYYY-MM-DDThh:mm:ss -p name=value users/username/collection_id\n",
    "``` \n",
    "\n",
    "2.- On our script once we have manipulate/create our tif, we will upload it to our Google cloud storage bucket:\n",
    ">```bash\n",
    "gsutil mb gs://[YOUR-BUCKET-NAME]\n",
    "gsutil defacl set public-read gs://[YOUR-BUCKET-NAME]\n",
    "gsutil cp users/mypath/myraster.tif gs://my-awesome-bucket\n",
    "``` \n",
    "\n",
    "3.- Now that our image is on cloud storage we will move it to our collection\n",
    "mean (the default), sample, mode, min, or max\n",
    ">```bash\n",
    "earthengine upload image --asset_id=users/username/collection_id/asset_id --nodata_value=<nodata> --pyramiding_policy=sample gs://bucket/image.tif\n",
    "``` \n",
    "And finally we will set the properties for that image\n",
    "e\n",
    "```bash\n",
    "earthengine asset set --time_start YYYY-MM-DDThh:mm:ss -p name=value users/username/collection_id/asset_id\n",
    "``` "
   ]
  },
  {
   "cell_type": "markdown",
   "metadata": {
    "hidden": true
   },
   "source": [
    "For more info:\n",
    "* https://github.com/Vizzuality/data_sci_tutorials/blob/master/work/INGESTING_EARTH_ENGINE_ASSETS.md#earth-engine-data-ingress\n",
    "* https://developers.google.com/earth-engine/command_line\n",
    "* https://cloud.google.com/python/getting-started/using-cloud-storage"
   ]
  }
 ],
 "metadata": {
  "kernelspec": {
   "display_name": "Python 3",
   "language": "python",
   "name": "python3"
  },
  "language_info": {
   "codemirror_mode": {
    "name": "ipython",
    "version": 3
   },
   "file_extension": ".py",
   "mimetype": "text/x-python",
   "name": "python",
   "nbconvert_exporter": "python",
   "pygments_lexer": "ipython3",
   "version": "3.6.1"
  },
  "toc": {
   "colors": {
    "hover_highlight": "#DAA520",
    "navigate_num": "#000000",
    "navigate_text": "#333333",
    "running_highlight": "#FF0000",
    "selected_highlight": "#FFD700",
    "sidebar_border": "#EEEEEE",
    "wrapper_background": "#FFFFFF"
   },
   "moveMenuLeft": true,
   "nav_menu": {
    "height": "120px",
    "width": "252px"
   },
   "navigate_menu": true,
   "number_sections": true,
   "sideBar": true,
   "threshold": "2",
   "toc_cell": true,
   "toc_position": {
    "height": "820px",
    "left": "0px",
    "right": "20px",
    "top": "159px",
    "width": "123px"
   },
   "toc_section_display": "block",
   "toc_window_display": true,
   "widenNotebook": false
  },
  "varInspector": {
   "cols": {
    "lenName": 16,
    "lenType": 16,
    "lenVar": 40
   },
   "kernels_config": {
    "python": {
     "delete_cmd_postfix": "",
     "delete_cmd_prefix": "del ",
     "library": "var_list.py",
     "varRefreshCmd": "print(var_dic_list())"
    },
    "r": {
     "delete_cmd_postfix": ") ",
     "delete_cmd_prefix": "rm(",
     "library": "var_list.r",
     "varRefreshCmd": "cat(var_dic_list()) "
    }
   },
   "types_to_exclude": [
    "module",
    "function",
    "builtin_function_or_method",
    "instance",
    "_Feature"
   ],
   "window_display": false
  }
 },
 "nbformat": 4,
 "nbformat_minor": 2
}
