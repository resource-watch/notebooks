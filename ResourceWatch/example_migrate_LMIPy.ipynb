{
 "cells": [
  {
   "cell_type": "markdown",
   "metadata": {},
   "source": [
    "# Migrate from production to staging and viceversa using LMIPy"
   ]
  },
  {
   "cell_type": "markdown",
   "metadata": {},
   "source": [
    "Here is some sample text, and a first block of code"
   ]
  },
  {
   "cell_type": "code",
   "execution_count": null,
   "metadata": {},
   "outputs": [],
   "source": [
    "import LMIPy\n",
    "import numpy as np\n",
    "import requests\n",
    "import json\n",
    "import getpass\n",
    "import os\n",
    "from pprint import pprint\n",
    "print(LMIPy.__version__)\n"
   ]
  },
  {
   "cell_type": "code",
   "execution_count": null,
   "metadata": {},
   "outputs": [],
   "source": [
    "def login(email, password, env = 'production'):\n",
    "    urlEnvirionments = {\n",
    "        'production': f'https://api.resourcewatch.org/auth/login'\n",
    "        'staging': f'https://staging-api.resourcewatch.org/auth/login'\n",
    "    }\n",
    "    headers = {'Content-Type': 'application/json'}\n",
    "    payload = {\n",
    "    \"email\": f\"{email}\",\n",
    "    \"password\": f\"{password}\"\n",
    "    }\n",
    "    r = requests.post(url, data=json.dumps(payload), headers=headers)\n",
    "\n",
    "    return r.json().get('data').get('token')"
   ]
  },
  {
   "cell_type": "markdown",
   "metadata": {},
   "source": [
    "## Login into the rw production Api"
   ]
  },
  {
   "cell_type": "code",
   "execution_count": null,
   "metadata": {},
   "outputs": [],
   "source": [
    "email = 'alicia.arenzana@vizzuality.com'\n",
    "password = getpass.getpass('Login password:')"
   ]
  },
  {
   "cell_type": "code",
   "execution_count": null,
   "metadata": {},
   "outputs": [],
   "source": [
    "tokenProduction = login(email, password)"
   ]
  },
  {
   "cell_type": "markdown",
   "metadata": {},
   "source": [
    "## Login into the rw staging Api"
   ]
  },
  {
   "cell_type": "code",
   "execution_count": null,
   "metadata": {},
   "outputs": [],
   "source": [
    "email = 'alicia.arenzana@vizzuality.com'\n",
    "password = getpass.getpass('Login password:')"
   ]
  },
  {
   "cell_type": "code",
   "execution_count": null,
   "metadata": {},
   "outputs": [],
   "source": [
    "tokenStaging = login(email, password, env = 'staging')"
   ]
  },
  {
   "cell_type": "markdown",
   "metadata": {},
   "source": [
    "## Using LMIPy"
   ]
  },
  {
   "cell_type": "markdown",
   "metadata": {},
   "source": [
    "### Check `aqueduct-water-risk` datasets"
   ]
  },
  {
   "cell_type": "code",
   "execution_count": null,
   "metadata": {},
   "outputs": [],
   "source": [
    "prod_server = \"https://api.resourcewatch.org\"\n",
    "app = [\"rw\"]\n",
    "env = 'production'\n",
    "\n",
    "collection = LMIPy.Collection(app=app, env=env, server=prod_server, limit=1000)"
   ]
  },
  {
   "cell_type": "code",
   "execution_count": null,
   "metadata": {},
   "outputs": [],
   "source": [
    "collection[0]"
   ]
  },
  {
   "cell_type": "markdown",
   "metadata": {},
   "source": [
    "### Creating a local backup of `aqueduct-water-risk` production Data objects"
   ]
  },
  {
   "cell_type": "code",
   "execution_count": null,
   "metadata": {},
   "outputs": [],
   "source": [
    "path = 'RW-PROD-BACKUP'\n",
    "\n",
    "collection.save(path)"
   ]
  },
  {
   "cell_type": "markdown",
   "metadata": {},
   "source": [
    "**Load data objects from local backup**"
   ]
  },
  {
   "cell_type": "code",
   "execution_count": null,
   "metadata": {},
   "outputs": [],
   "source": [
    "files = os.listdir(path)\n",
    "\n",
    "with open(path+'/'+files[0]) as json_file:\n",
    "    data = json.load(json_file)\n",
    "    \n",
    "pprint(data)"
   ]
  },
  {
   "cell_type": "markdown",
   "metadata": {},
   "source": [
    "### Delete production Data objects\n",
    "\n",
    "**Delete layers**"
   ]
  },
  {
   "cell_type": "code",
   "execution_count": null,
   "metadata": {},
   "outputs": [],
   "source": [
    "prod_server = \"https://api.resourcewatch.org\"\n",
    "app = [\"aqueduct-water-risk\"]\n",
    "env = 'production'\n",
    "object_type = ['layer']\n",
    "\n",
    "collection = LMIPy.Collection(app=app, env=env, object_type=object_type, server=prod_server, limit=1000)\n",
    "\n",
    "for n in range(len(collection)):\n",
    "    ly = LMIPy.Layer(id_hash=collection[n].id)\n",
    "    ly.delete(token=token, force=True)"
   ]
  },
  {
   "cell_type": "markdown",
   "metadata": {},
   "source": [
    "**Delete datasets**"
   ]
  },
  {
   "cell_type": "code",
   "execution_count": null,
   "metadata": {},
   "outputs": [],
   "source": [
    "prod_server = \"https://api.resourcewatch.org\"\n",
    "app = [\"aqueduct-water-risk\"]\n",
    "env = 'production'\n",
    "object_type = ['dataset']\n",
    "\n",
    "collection = LMIPy.Collection(app=app, env=env, object_type=object_type, server=prod_server, limit=1000)\n",
    "\n",
    "for n in range(len(collection)):\n",
    "    ds = LMIPy.Dataset(id_hash=collection[n].id)\n",
    "    ds.delete(token=token, force=True)"
   ]
  },
  {
   "cell_type": "markdown",
   "metadata": {},
   "source": [
    "### Clone staging Data objects into production\n",
    "\n",
    "**Clone Water Risk datasets abd layers**"
   ]
  },
  {
   "cell_type": "code",
   "execution_count": null,
   "metadata": {},
   "outputs": [],
   "source": [
    "staging_server = \"https://staging-api.globalforestwatch.org\"\n",
    "prod_server = \"https://api.resourcewatch.org\"\n",
    "env = 'production'"
   ]
  },
  {
   "cell_type": "code",
   "execution_count": null,
   "metadata": {},
   "outputs": [],
   "source": [
    "datasets_ids = [\n",
    "]\n",
    "\n",
    "datasets = []\n",
    "for id in datasets_ids:\n",
    "    ds = LMIPy.Dataset(id, server=staging_server)\n",
    "    print(ds)\n",
    "    datasets.append(ds)"
   ]
  },
  {
   "cell_type": "code",
   "execution_count": null,
   "metadata": {},
   "outputs": [],
   "source": [
    "for dataset in datasets:\n",
    "    dataset.clone(token=token, env=env, clone_server=prod_server, dataset_params=dataset.attributes, clone_children=True)"
   ]
  }
 ],
 "metadata": {
  "kernelspec": {
   "display_name": "Python 3",
   "language": "python",
   "name": "python3"
  },
  "language_info": {
   "codemirror_mode": {
    "name": "ipython",
    "version": 3
   },
   "file_extension": ".py",
   "mimetype": "text/x-python",
   "name": "python",
   "nbconvert_exporter": "python",
   "pygments_lexer": "ipython3",
   "version": "3.8.8"
  }
 },
 "nbformat": 4,
 "nbformat_minor": 4
}
