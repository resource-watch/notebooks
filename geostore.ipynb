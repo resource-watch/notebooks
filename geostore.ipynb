{
 "cells": [
  {
   "cell_type": "markdown",
   "metadata": {
    "toc": true
   },
   "source": [
    "<h1>Table of Contents<span class=\"tocSkip\"></span></h1>\n",
    "<div class=\"toc\"><ul class=\"toc-item\"></ul></div>"
   ]
  },
  {
   "cell_type": "code",
   "execution_count": 48,
   "metadata": {},
   "outputs": [
    {
     "data": {
      "application/json": {
       "Software versions": [
        {
         "module": "Python",
         "version": "3.7.4 64bit [Clang 10.0.1 (clang-1001.0.46.4)]"
        },
        {
         "module": "IPython",
         "version": "7.7.0"
        },
        {
         "module": "OS",
         "version": "Darwin 18.7.0 x86_64 i386 64bit"
        },
        {
         "module": "folium",
         "version": "0.10.0"
        },
        {
         "module": "json",
         "version": "2.0.9"
        },
        {
         "module": "IPython",
         "version": "7.7.0"
        },
        {
         "module": "ipywidgets",
         "version": "7.5.1"
        },
        {
         "module": "requests",
         "version": "2.22.0"
        }
       ]
      },
      "text/html": [
       "<table><tr><th>Software</th><th>Version</th></tr><tr><td>Python</td><td>3.7.4 64bit [Clang 10.0.1 (clang-1001.0.46.4)]</td></tr><tr><td>IPython</td><td>7.7.0</td></tr><tr><td>OS</td><td>Darwin 18.7.0 x86_64 i386 64bit</td></tr><tr><td>folium</td><td>0.10.0</td></tr><tr><td>json</td><td>2.0.9</td></tr><tr><td>IPython</td><td>7.7.0</td></tr><tr><td>ipywidgets</td><td>7.5.1</td></tr><tr><td>requests</td><td>2.22.0</td></tr><tr><td colspan='2'>Thu Sep 12 13:57:09 2019 CEST</td></tr></table>"
      ],
      "text/latex": [
       "\\begin{tabular}{|l|l|}\\hline\n",
       "{\\bf Software} & {\\bf Version} \\\\ \\hline\\hline\n",
       "Python & 3.7.4 64bit [Clang 10.0.1 (clang-1001.0.46.4)] \\\\ \\hline\n",
       "IPython & 7.7.0 \\\\ \\hline\n",
       "OS & Darwin 18.7.0 x86\\_64 i386 64bit \\\\ \\hline\n",
       "folium & 0.10.0 \\\\ \\hline\n",
       "json & 2.0.9 \\\\ \\hline\n",
       "IPython & 7.7.0 \\\\ \\hline\n",
       "ipywidgets & 7.5.1 \\\\ \\hline\n",
       "requests & 2.22.0 \\\\ \\hline\n",
       "\\hline \\multicolumn{2}{|l|}{Thu Sep 12 13:57:09 2019 CEST} \\\\ \\hline\n",
       "\\end{tabular}\n"
      ],
      "text/plain": [
       "Software versions\n",
       "Python 3.7.4 64bit [Clang 10.0.1 (clang-1001.0.46.4)]\n",
       "IPython 7.7.0\n",
       "OS Darwin 18.7.0 x86_64 i386 64bit\n",
       "folium 0.10.0\n",
       "json 2.0.9\n",
       "IPython 7.7.0\n",
       "ipywidgets 7.5.1\n",
       "requests 2.22.0\n",
       "Thu Sep 12 13:57:09 2019 CEST"
      ]
     },
     "execution_count": 48,
     "metadata": {},
     "output_type": "execute_result"
    }
   ],
   "source": [
    "import requests\n",
    "import json\n",
    "import folium\n",
    "import ipywidgets as widgets\n",
    "from IPython.display import display, Markdown\n",
    "%reload_ext version_information\n",
    "%version_information folium, json, IPython, ipywidgets, requests"
   ]
  },
  {
   "cell_type": "code",
   "execution_count": 58,
   "metadata": {},
   "outputs": [
    {
     "data": {
      "application/vnd.jupyter.widget-view+json": {
       "model_id": "620df9e5bfa8413b992d262edb6e0307",
       "version_major": 2,
       "version_minor": 0
      },
      "text/plain": [
       "AppLayout(children=(VBox(children=(Dropdown(description='Env: ', options={'Production': 'https://api.resourcew…"
      ]
     },
     "metadata": {},
     "output_type": "display_data"
    }
   ],
   "source": [
    "def app():\n",
    "    wEnv=widgets.Dropdown(\n",
    "        options={'Production': 'https://api.resourcewatch.org', 'Staging': 'https://staging-api.globalforestwatch.org', 'Local':'http://0.0.0.0:9000'},\n",
    "        value='https://api.resourcewatch.org',\n",
    "        description='Env: ',\n",
    "    )\n",
    "\n",
    "    wIso=widgets.Dropdown(\n",
    "        description='Country: ',\n",
    "        options={'COG': 'COG', 'COD': 'COD', 'CAF':'CAF'},\n",
    "        value='COG',\n",
    "    )\n",
    "\n",
    "    #mapArea = widgets.Output()\n",
    "    \n",
    "    def updateMap(env, iso):\n",
    "        url = f'{env}/v1/geostore/admin/{iso}'\n",
    "        r = requests.get(url)\n",
    "        if r.status_code == 200:\n",
    "\n",
    "            m = folium.Map()\n",
    "            folium.GeoJson(\n",
    "                r.json()['data']['attributes'][\"geojson\"], name='geostore'\n",
    "            ).add_to(m)\n",
    "\n",
    "            folium.LayerControl().add_to(m)\n",
    "            bbox = r.json()['data']['attributes'][\"bbox\"]\n",
    "            m.fit_bounds([[bbox[1],bbox[0]],[bbox[3],bbox[2]]])\n",
    "            display(m)\n",
    "            display(Markdown(f\"\"\"```json\n",
    "            {json.dumps(r.json()['data']['attributes']['info'], sort_keys=True, indent=2)}``` \"\"\"))\n",
    "\n",
    "        else:\n",
    "            raise r.status_code\n",
    "\n",
    "        \n",
    "\n",
    "    out = widgets.interactive_output(updateMap, {'env':wEnv,'iso':wIso})\n",
    "    header = widgets.VBox([wEnv,wIso])\n",
    "    app = widgets.AppLayout(header=header,\n",
    "          left_sidebar=header,\n",
    "          center=out,\n",
    "          footer=None)\n",
    "    return app\n",
    "app()"
   ]
  },
  {
   "cell_type": "code",
   "execution_count": null,
   "metadata": {},
   "outputs": [],
   "source": []
  },
  {
   "cell_type": "code",
   "execution_count": null,
   "metadata": {},
   "outputs": [],
   "source": []
  }
 ],
 "metadata": {
  "hide_input": false,
  "kernelspec": {
   "display_name": "Python 3",
   "language": "python",
   "name": "python3"
  },
  "language_info": {
   "codemirror_mode": {
    "name": "ipython",
    "version": 3
   },
   "file_extension": ".py",
   "mimetype": "text/x-python",
   "name": "python",
   "nbconvert_exporter": "python",
   "pygments_lexer": "ipython3",
   "version": "3.7.4"
  },
  "toc": {
   "base_numbering": 1,
   "nav_menu": {},
   "number_sections": true,
   "sideBar": true,
   "skip_h1_title": false,
   "title_cell": "Table of Contents",
   "title_sidebar": "Contents",
   "toc_cell": true,
   "toc_position": {},
   "toc_section_display": true,
   "toc_window_display": true
  },
  "varInspector": {
   "cols": {
    "lenName": 16,
    "lenType": 16,
    "lenVar": 40
   },
   "kernels_config": {
    "python": {
     "delete_cmd_postfix": "",
     "delete_cmd_prefix": "del ",
     "library": "var_list.py",
     "varRefreshCmd": "print(var_dic_list())"
    },
    "r": {
     "delete_cmd_postfix": ") ",
     "delete_cmd_prefix": "rm(",
     "library": "var_list.r",
     "varRefreshCmd": "cat(var_dic_list()) "
    }
   },
   "types_to_exclude": [
    "module",
    "function",
    "builtin_function_or_method",
    "instance",
    "_Feature"
   ],
   "window_display": false
  }
 },
 "nbformat": 4,
 "nbformat_minor": 2
}
