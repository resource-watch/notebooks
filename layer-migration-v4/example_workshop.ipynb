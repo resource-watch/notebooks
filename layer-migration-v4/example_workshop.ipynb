{
 "cells": [
  {
   "cell_type": "code",
   "execution_count": 1,
   "id": "4a8e1fd6",
   "metadata": {},
   "outputs": [
    {
     "name": "stdout",
     "output_type": "stream",
     "text": [
      "builtins==None\n",
      "builtins==None\n",
      "requests_toolbelt.sessions==None\n",
      "types==None\n",
      "json==2.0.9\n",
      "logging==0.5.1.2\n",
      "getpass==None\n"
     ]
    }
   ],
   "source": [
    "### Run functions developed in the notebooks\n",
    "%run './pydantic_data_classes_rw.ipynb'\n",
    "%run './RW-API_management_functions.ipynb'"
   ]
  },
  {
   "cell_type": "code",
   "execution_count": null,
   "id": "d362bb7e",
   "metadata": {},
   "outputs": [],
   "source": []
  }
 ],
 "metadata": {
  "kernelspec": {
   "display_name": "Python 3 (ipykernel)",
   "language": "python",
   "name": "python3"
  },
  "language_info": {
   "codemirror_mode": {
    "name": "ipython",
    "version": 3
   },
   "file_extension": ".py",
   "mimetype": "text/x-python",
   "name": "python",
   "nbconvert_exporter": "python",
   "pygments_lexer": "ipython3",
   "version": "3.9.10"
  }
 },
 "nbformat": 4,
 "nbformat_minor": 5
}
