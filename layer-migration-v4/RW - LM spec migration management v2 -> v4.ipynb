{
 "cells": [
  {
   "cell_type": "markdown",
   "id": "bd88a508",
   "metadata": {},
   "source": [
    "# RW - LM spec migration management v2 -> v4."
   ]
  },
  {
   "cell_type": "markdown",
   "id": "04295896",
   "metadata": {},
   "source": [
    "The aim of this script is to programatically allow us to move from the v2 layer spec from layer manager used in RW layers to the v4.\n",
    "\n",
    "We will take as started point rw past migration and latest migration done by gfw. plus scripts develop for OW migration management from staging and productions\n",
    "\n",
    "\n",
    "Tasks prior running the process:\n",
    "\n",
    "* RW management functions\n",
    "* Develop functions/code to move from spect v2 to v4\n",
    "* Develop test to ensure functions works as expected\n",
    "\n",
    "Finally the workflow will be excecuted one provider type at a time, and will be as follows:  \n",
    "\n",
    "* Migrate to staging 5 layers of each provider\n",
    "* For those 5 layers we will run the script to migrate and validate.\n",
    "* Once Front is happy with the results we will trigger the full migration"
   ]
  },
  {
   "cell_type": "code",
   "execution_count": 3,
   "id": "f64603f3",
   "metadata": {},
   "outputs": [
    {
     "name": "stdout",
     "output_type": "stream",
     "text": [
      "builtins==None\n",
      "builtins==None\n",
      "requests_toolbelt.sessions==None\n",
      "types==None\n",
      "json==2.0.9\n",
      "logging==0.5.1.2\n",
      "getpass==None\n"
     ]
    }
   ],
   "source": [
    "### Run functions developed in the notebooks\n",
    "\n",
    "%run './RW-API_management_functions.ipynb'\n",
    "%run './RW-LM4_migration_functions.ipynb'\n",
    "%run './pydantic_data_classes_rw.ipynb'"
   ]
  },
  {
   "cell_type": "code",
   "execution_count": 2,
   "id": "9ac9fde1",
   "metadata": {},
   "outputs": [],
   "source": [
    "from devtools import debug"
   ]
  },
  {
   "cell_type": "code",
   "execution_count": 21,
   "id": "bdcbb88f",
   "metadata": {},
   "outputs": [],
   "source": [
    "from IPython.display import JSON, display"
   ]
  },
  {
   "cell_type": "code",
   "execution_count": 5,
   "id": "5d64e35e",
   "metadata": {},
   "outputs": [
    {
     "name": "stdout",
     "output_type": "stream",
     "text": [
      "You are login into \u001b[95m\u001b[1mRW api\u001b[0m\n",
      "Email: alicia.arenzana@vizzuality.com\n",
      "Password: ········\n",
      "\u001b[92mSuccessfully logged into RW api\u001b[0m\n"
     ]
    }
   ],
   "source": [
    "session = rwApiSession()"
   ]
  },
  {
   "cell_type": "markdown",
   "id": "b06baac6",
   "metadata": {},
   "source": [
    "### Explore and get some metrics about the layers currently in RW"
   ]
  },
  {
   "cell_type": "code",
   "execution_count": 6,
   "id": "4ad3d23e",
   "metadata": {},
   "outputs": [],
   "source": [
    "layerList = getLayerList(session)"
   ]
  },
  {
   "cell_type": "code",
   "execution_count": 25,
   "id": "80c784ee",
   "metadata": {
    "scrolled": true
   },
   "outputs": [
    {
     "name": "stdout",
     "output_type": "stream",
     "text": [
      " currently available 5427 layers in the api\n"
     ]
    }
   ],
   "source": [
    "display(f' currently available {len(layerList)} layers in the api')"
   ]
  },
  {
   "cell_type": "code",
   "execution_count": 8,
   "id": "a52e90df",
   "metadata": {},
   "outputs": [
    {
     "data": {
      "text/markdown": [
       "**Layer**: [1993 Electricity Distribution Losses (kWh, billions)](https://api.resourcewatch.org/v1/dataset/a36bf77b-4d10-4855-8ef6-aece72e23971/layer/b9d1b315-efc3-433a-82ad-22e841c34f5a)"
      ],
      "text/plain": [
       "Layer(id=UUID('b9d1b315-efc3-433a-82ad-22e841c34f5a'), type='layer', attributes=LayerAttributes(name='1993 Electricity Distribution Losses (kWh, billions)', description='Electricity distribution losses in billion kilowatthours for 1993', application=['rw'], iso=[], provider='cartodb', type=None, default=False, protected=False, published=True, env='production', layerConfig={'body': {'layers': [{'options': {'cartocss_version': '2.3.0', 'cartocss': '#ene_040_rw0_electricity_distribution_losses_edit {polygon-opacity: 1; line-width: 0.5; line-opacity: 0.8; line-color:#969696;} [yr_data>=100]{polygon-fill: #045a8d;} [yr_data>=40][yr_data<100]{polygon-fill:#2b8cbe;} [yr_data>=10][yr_data<40]{polygon-fill:#74a9cf;} [yr_data>=4][yr_data<0]{polygon-fill:#bdc9e1;} [yr_data<4]{polygon-fill: #f1eef6;}', 'sql': 'SELECT wri.cartodb_id, ST_Transform(wri.the_geom, 3857) AS the_geom_webmercator, wri.name, data.country, data.year, data.yr_data FROM ene_040_rw0_electricity_distribution_losses_edit data LEFT OUTER JOIN wri_countries_a wri ON wri.name ILIKE TRIM(data.country) WHERE data.year = 1993 AND wri.iso_a3 IS NOT NULL AND data.yr_data IS NOT NULL UNION SELECT wri.cartodb_id, ST_Transform(wri.the_geom, 3857) AS the_geom_webmercator, wri.name, data.country, data.year, data.yr_data FROM ene_040_rw0_electricity_distribution_losses_edit data INNER JOIN rw_aliasing_countries aliasing ON TRIM(data.country) ILIKE aliasing.alias INNER JOIN wri_countries_a wri ON wri.iso_a3 = aliasing.iso WHERE data.year = 1993 AND wri.iso_a3 IS NOT NULL AND data.yr_data IS NOT NULL'}, 'type': 'mapnik'}], 'maxzoom': 18, 'vectorLayers': [{'paint': {'fill-color': ['step', ['to-number', ['get', 'yr_data']], '#f1eef6', 4, '#bdc9e1', 10, '#74a9cf', 40, '#2b8cbe', 100, '#045a8d'], 'fill-opacity': 1}, 'source-layer': 'layer0', 'type': 'fill', 'filter': ['all']}, {'paint': {'line-width': 0.5, 'line-color': '#969696', 'line-opacity': 0.8}, 'source-layer': 'layer0', 'type': 'line', 'filter': ['all']}]}, 'account': 'wri-rw', 'timelineLabel': '1993', 'order': 1993, 'timeline': True, 'layerType': 'vector'}, legendConfig={'items': [{'color': '#f1eef6', 'name': '<4', 'id': 0}, {'color': '#bdc9e1', 'name': '<10', 'id': 1}, {'color': '#74a9cf', 'name': '<40', 'id': 2}, {'color': '#2b8cbe', 'name': '<100', 'id': 3}, {'color': '#045a8d', 'name': '≥100', 'id': 4}], 'type': 'choropleth'}, interactionConfig={'output': [{'column': 'year', 'format': None, 'prefix': '', 'property': 'Year', 'suffix': '', 'type': 'number'}, {'column': 'country', 'format': None, 'prefix': '', 'property': 'Country', 'suffix': '', 'type': 'string'}, {'column': 'yr_data', 'format': '0,0.0[0]', 'prefix': '', 'property': 'Electricity Distribution Losses', 'suffix': '  billion kWh', 'type': 'number'}]}, applicationConfig={}, staticImageConfig={}, createdAt='2021-09-20T18:16:56.989Z', updatedAt='2021-09-20T18:16:59.721Z'), _url='https://api.resourcewatch.org/v1/dataset/a36bf77b-4d10-4855-8ef6-aece72e23971/layer/b9d1b315-efc3-433a-82ad-22e841c34f5a')"
      ]
     },
     "execution_count": 8,
     "metadata": {},
     "output_type": "execute_result"
    }
   ],
   "source": [
    "display(layerList[0])\n",
    "JSON(layerList[0].json(exclude_none=True))"
   ]
  },
  {
   "cell_type": "code",
   "execution_count": 33,
   "id": "11fe90b9",
   "metadata": {},
   "outputs": [
    {
     "name": "stdout",
     "output_type": "stream",
     "text": [
      "cartodb: 3501\n",
      "gee: 1591\n",
      "leaflet: 280\n",
      "featureservice: 19\n",
      "wms: 35\n",
      "None: 1\n"
     ]
    }
   ],
   "source": [
    "providers = {}\n",
    "for layer in layerList:\n",
    "    if layer.attributes.provider in providers.keys():\n",
    "        providers[layer.attributes.provider]['count'] += 1\n",
    "        providers[layer.attributes.provider]['ids'].append(layer.id)\n",
    "    else:\n",
    "        providers[layer.attributes.provider] = {'count': 1, 'ids':[layer.id]} \n",
    "\n",
    "for k,v in providers.items():\n",
    "    print(f'{k}: {v[\"count\"]}')"
   ]
  },
  {
   "cell_type": "markdown",
   "id": "f5d4e915",
   "metadata": {},
   "source": [
    "This means in our migration we will need to only take care of 5 type of connectors"
   ]
  },
  {
   "cell_type": "markdown",
   "id": "7341903b",
   "metadata": {},
   "source": [
    "#### Review the layer with None as provider and exclude it from our migration"
   ]
  },
  {
   "cell_type": "code",
   "execution_count": 38,
   "id": "a423deee",
   "metadata": {},
   "outputs": [
    {
     "data": {
      "text/markdown": [
       "**Layer**: [Brazilian Amazon Deforestation Alerts](https://api.resourcewatch.org/v1/dataset/8870d62f-0240-4275-910a-361f0ef347e0/layer/0c07f80c-129d-47b3-9099-99036883a215)"
      ],
      "text/plain": [
       "Layer(id=UUID('0c07f80c-129d-47b3-9099-99036883a215'), type='layer', attributes=LayerAttributes(name='Brazilian Amazon Deforestation Alerts', description=None, application=['rw'], iso=['BRA'], provider=None, type=None, default=False, protected=False, published=True, env='production', layerConfig={'account': 'wri-01', 'body': {'maxzoom': 18, 'minzoom': 3, 'layers': [{'type': 'cartodb', 'options': {'sql': 'SELECT the_geom_webmercator, orig_fname, orig_oid, data_type,round(st_area_sh::numeric,2) as st_area_sh, round(st_length_::numeric,2) as st_length_, date FROM imazon_sad', 'cartocss': '#imazon_sad{  polygon-fill: #cb1f5e;  polygon-opacity: 1;  line-color: #cb1f5e;  line-width: 1.5;  line-opacity: 1;}', 'cartocss_version': '2.3.0'}}], 'vectorLayers': [{'paint': {'line-color': ' #cb1f5e', 'line-width': 1.5, 'line-opacity': 1}, 'source-layer': 'layer0', 'type': 'line', 'filter': ['all']}, {'paint': {'fill-color': ' #cb1f5e', 'fill-opacity': 1}, 'source-layer': 'layer0', 'type': 'fill', 'filter': ['all']}]}, 'pulseConfig': {'sql': \"SELECT the_geom_webmercator, orig_fname, orig_oid, data_type,round(st_area_sh::numeric,2) as st_area_sh, round(st_length_::numeric,2) as st_length_, date FROM imazon_sad where date > (CURRENT_DATE - interval '120 day')\", 'type': 'imageOverlay'}}, legendConfig={'items': [{'color': '#cb1f5e', 'name': 'Deforestation zones'}], 'type': 'basic'}, interactionConfig={'type': 'intersection', 'pulseConfig': {'url': 'https://api.resourcewatch.org/v1/query/e8f5b4e8-454e-488d-8b4a-b60ad02bce36?sql=SELECT orig_fname, orig_oid, data_type,round(st_area_sh::numeric,2) as st_area_sh, round(st_length_::numeric,2) as st_length_, date FROM imazon_sad WHERE date > (CURRENT_DATE - interval \\'90 day\\') and st_intersects(the_geom,st_buffer(ST_SetSRID(st_geomfromgeojson(\\'{\"type\":\"Point\",\"coordinates\":{{point}}}\\'),4326),1))'}, 'config': {'url': 'https://api.resourcewatch.org/v1/query/e8f5b4e8-454e-488d-8b4a-b60ad02bce36?sql=SELECT st_transform(the_geom_webmercator,32663) as the_geom_webmercator, orig_fname, orig_oid, data_type, round(st_area_sh::numeric,2) as st_area_sh, round(st_length_::numeric,2) as st_length_, date FROM imazon_sad WHERE date > (CURRENT_DATE - interval \\'90 day\\') and st_intersects(the_geom,st_buffer(ST_SetSRID(st_geomfromgeojson(\\'{\"type\":\"Point\",\"coordinates\":{{point}}}\\'),4326),1))'}, 'output': [{'suffix': 'ha', 'column': 'st_area_sh', 'property': 'Area', 'type': 'number', 'format': '0,0'}, {'column': 'st_length_', 'property': 'Length', 'type': 'number', 'format': '0a'}]}, applicationConfig={'metadata': 'imazon_sad', 'global': False, 'active': True, 'default': True}, staticImageConfig={}, createdAt='2021-10-28T10:42:12.189Z', updatedAt='2019-07-23T14:13:45.739Z'), _url='https://api.resourcewatch.org/v1/dataset/8870d62f-0240-4275-910a-361f0ef347e0/layer/0c07f80c-129d-47b3-9099-99036883a215')"
      ]
     },
     "metadata": {},
     "output_type": "display_data"
    },
    {
     "data": {
      "application/json": {
       "data": {
        "attributes": {
         "application": [
          "rw"
         ],
         "applicationConfig": {
          "active": true,
          "default": true,
          "global": false,
          "metadata": "imazon_sad"
         },
         "createdAt": "2021-10-28T11:18:16.718Z",
         "dataset": "8870d62f-0240-4275-910a-361f0ef347e0",
         "default": false,
         "env": "production",
         "interactionConfig": {
          "config": {
           "url": "https://api.resourcewatch.org/v1/query/e8f5b4e8-454e-488d-8b4a-b60ad02bce36?sql=SELECT st_transform(the_geom_webmercator,32663) as the_geom_webmercator, orig_fname, orig_oid, data_type, round(st_area_sh::numeric,2) as st_area_sh, round(st_length_::numeric,2) as st_length_, date FROM imazon_sad WHERE date > (CURRENT_DATE - interval '90 day') and st_intersects(the_geom,st_buffer(ST_SetSRID(st_geomfromgeojson('{\"type\":\"Point\",\"coordinates\":{{point}}}'),4326),1))"
          },
          "output": [
           {
            "column": "st_area_sh",
            "format": "0,0",
            "property": "Area",
            "suffix": "ha",
            "type": "number"
           },
           {
            "column": "st_length_",
            "format": "0a",
            "property": "Length",
            "type": "number"
           }
          ],
          "pulseConfig": {
           "url": "https://api.resourcewatch.org/v1/query/e8f5b4e8-454e-488d-8b4a-b60ad02bce36?sql=SELECT orig_fname, orig_oid, data_type,round(st_area_sh::numeric,2) as st_area_sh, round(st_length_::numeric,2) as st_length_, date FROM imazon_sad WHERE date > (CURRENT_DATE - interval '90 day') and st_intersects(the_geom,st_buffer(ST_SetSRID(st_geomfromgeojson('{\"type\":\"Point\",\"coordinates\":{{point}}}'),4326),1))"
          },
          "type": "intersection"
         },
         "iso": [
          "BRA"
         ],
         "layerConfig": {
          "account": "wri-01",
          "body": {
           "layers": [
            {
             "options": {
              "cartocss": "#imazon_sad{  polygon-fill: #cb1f5e;  polygon-opacity: 1;  line-color: #cb1f5e;  line-width: 1.5;  line-opacity: 1;}",
              "cartocss_version": "2.3.0",
              "sql": "SELECT the_geom_webmercator, orig_fname, orig_oid, data_type,round(st_area_sh::numeric,2) as st_area_sh, round(st_length_::numeric,2) as st_length_, date FROM imazon_sad"
             },
             "type": "cartodb"
            }
           ],
           "maxzoom": 18,
           "minzoom": 3,
           "vectorLayers": [
            {
             "filter": [
              "all"
             ],
             "paint": {
              "line-color": " #cb1f5e",
              "line-opacity": 1,
              "line-width": 1.5
             },
             "source-layer": "layer0",
             "type": "line"
            },
            {
             "filter": [
              "all"
             ],
             "paint": {
              "fill-color": " #cb1f5e",
              "fill-opacity": 1
             },
             "source-layer": "layer0",
             "type": "fill"
            }
           ]
          },
          "pulseConfig": {
           "sql": "SELECT the_geom_webmercator, orig_fname, orig_oid, data_type,round(st_area_sh::numeric,2) as st_area_sh, round(st_length_::numeric,2) as st_length_, date FROM imazon_sad where date > (CURRENT_DATE - interval '120 day')",
           "type": "imageOverlay"
          }
         },
         "legendConfig": {
          "items": [
           {
            "color": "#cb1f5e",
            "name": "Deforestation zones"
           }
          ],
          "type": "basic"
         },
         "name": "Brazilian Amazon Deforestation Alerts",
         "protected": false,
         "published": true,
         "slug": "Brazilian-Amazon-Deforestation-Alerts",
         "staticImageConfig": {},
         "updatedAt": "2019-07-23T14:13:45.739Z",
         "userId": "59db4eace9c1380001d6e4c3"
        },
        "id": "0c07f80c-129d-47b3-9099-99036883a215",
        "type": "layer"
       }
      },
      "text/plain": [
       "<IPython.core.display.JSON object>"
      ]
     },
     "metadata": {
      "application/json": {
       "expanded": false,
       "root": "root"
      }
     },
     "output_type": "display_data"
    }
   ],
   "source": [
    "for layer in layerList:\n",
    "    if layer.attributes.provider is None:\n",
    "        display(layer)\n",
    "        display(JSON(layer._url))"
   ]
  },
  {
   "cell_type": "markdown",
   "id": "344b6d4d",
   "metadata": {},
   "source": [
    "#### Lets have a look at the layerType that indicates a successfull migration from v1 to v2"
   ]
  },
  {
   "cell_type": "code",
   "execution_count": 39,
   "id": "1a35c0b2",
   "metadata": {},
   "outputs": [
    {
     "data": {
      "text/plain": [
       "{'vector': 2730, None: 1871, 'raster': 826}"
      ]
     },
     "execution_count": 39,
     "metadata": {},
     "output_type": "execute_result"
    }
   ],
   "source": [
    "layerTypes = {}\n",
    "for layer in layerList:\n",
    "    if layer.attributes.layerConfig.get('layerType') in layerTypes.keys():\n",
    "        layerTypes[layer.attributes.layerConfig.get('layerType')] += 1\n",
    "    else:\n",
    "        layerTypes[layer.attributes.layerConfig.get('layerType')] = 1\n",
    "layerTypes"
   ]
  },
  {
   "cell_type": "markdown",
   "id": "0af38c5e",
   "metadata": {},
   "source": [
    "#### From those that look unsusscessfull lets have a look at the providers, we will need to be extra carefull with this ones:"
   ]
  },
  {
   "cell_type": "code",
   "execution_count": 40,
   "id": "813bbf74",
   "metadata": {},
   "outputs": [
    {
     "data": {
      "text/plain": [
       "{'gee': 1432,\n",
       " 'cartodb': 282,\n",
       " 'featureservice': 18,\n",
       " 'wms': 15,\n",
       " 'leaflet': 123,\n",
       " None: 1}"
      ]
     },
     "execution_count": 40,
     "metadata": {},
     "output_type": "execute_result"
    }
   ],
   "source": [
    "layer2Types = {}\n",
    "for layer in layerList:\n",
    "    if layer.attributes.layerConfig.get('layerType') is None:\n",
    "        if layer.attributes.provider in layer2Types.keys():\n",
    "            layer2Types[layer.attributes.provider] += 1\n",
    "        else:\n",
    "            layer2Types[layer.attributes.provider] = 1\n",
    "layer2Types"
   ]
  },
  {
   "cell_type": "markdown",
   "id": "be0f6929",
   "metadata": {},
   "source": [
    "#### Add some testing layers from prod to staging from each different type so we can have some testing data."
   ]
  },
  {
   "cell_type": "code",
   "execution_count": 58,
   "id": "08900978",
   "metadata": {},
   "outputs": [
    {
     "name": "stdout",
     "output_type": "stream",
     "text": [
      "cartodb: \n"
     ]
    },
    {
     "data": {
      "text/markdown": [
       "**Layer**: [1993 Electricity Distribution Losses (kWh, billions)](https://api.resourcewatch.org/v1/dataset/a36bf77b-4d10-4855-8ef6-aece72e23971/layer/b9d1b315-efc3-433a-82ad-22e841c34f5a)"
      ],
      "text/plain": [
       "Layer(id=UUID('b9d1b315-efc3-433a-82ad-22e841c34f5a'), type='layer', attributes=LayerAttributes(name='1993 Electricity Distribution Losses (kWh, billions)', description='Electricity distribution losses in billion kilowatthours for 1993', application=['rw'], iso=[], provider='cartodb', type=None, default=False, protected=False, published=True, env='production', layerConfig={'body': {'layers': [{'options': {'cartocss_version': '2.3.0', 'cartocss': '#ene_040_rw0_electricity_distribution_losses_edit {polygon-opacity: 1; line-width: 0.5; line-opacity: 0.8; line-color:#969696;} [yr_data>=100]{polygon-fill: #045a8d;} [yr_data>=40][yr_data<100]{polygon-fill:#2b8cbe;} [yr_data>=10][yr_data<40]{polygon-fill:#74a9cf;} [yr_data>=4][yr_data<0]{polygon-fill:#bdc9e1;} [yr_data<4]{polygon-fill: #f1eef6;}', 'sql': 'SELECT wri.cartodb_id, ST_Transform(wri.the_geom, 3857) AS the_geom_webmercator, wri.name, data.country, data.year, data.yr_data FROM ene_040_rw0_electricity_distribution_losses_edit data LEFT OUTER JOIN wri_countries_a wri ON wri.name ILIKE TRIM(data.country) WHERE data.year = 1993 AND wri.iso_a3 IS NOT NULL AND data.yr_data IS NOT NULL UNION SELECT wri.cartodb_id, ST_Transform(wri.the_geom, 3857) AS the_geom_webmercator, wri.name, data.country, data.year, data.yr_data FROM ene_040_rw0_electricity_distribution_losses_edit data INNER JOIN rw_aliasing_countries aliasing ON TRIM(data.country) ILIKE aliasing.alias INNER JOIN wri_countries_a wri ON wri.iso_a3 = aliasing.iso WHERE data.year = 1993 AND wri.iso_a3 IS NOT NULL AND data.yr_data IS NOT NULL'}, 'type': 'mapnik'}], 'maxzoom': 18, 'vectorLayers': [{'paint': {'fill-color': ['step', ['to-number', ['get', 'yr_data']], '#f1eef6', 4, '#bdc9e1', 10, '#74a9cf', 40, '#2b8cbe', 100, '#045a8d'], 'fill-opacity': 1}, 'source-layer': 'layer0', 'type': 'fill', 'filter': ['all']}, {'paint': {'line-width': 0.5, 'line-color': '#969696', 'line-opacity': 0.8}, 'source-layer': 'layer0', 'type': 'line', 'filter': ['all']}]}, 'account': 'wri-rw', 'timelineLabel': '1993', 'order': 1993, 'timeline': True, 'layerType': 'vector'}, legendConfig={'items': [{'color': '#f1eef6', 'name': '<4', 'id': 0}, {'color': '#bdc9e1', 'name': '<10', 'id': 1}, {'color': '#74a9cf', 'name': '<40', 'id': 2}, {'color': '#2b8cbe', 'name': '<100', 'id': 3}, {'color': '#045a8d', 'name': '≥100', 'id': 4}], 'type': 'choropleth'}, interactionConfig={'output': [{'column': 'year', 'format': None, 'prefix': '', 'property': 'Year', 'suffix': '', 'type': 'number'}, {'column': 'country', 'format': None, 'prefix': '', 'property': 'Country', 'suffix': '', 'type': 'string'}, {'column': 'yr_data', 'format': '0,0.0[0]', 'prefix': '', 'property': 'Electricity Distribution Losses', 'suffix': '  billion kWh', 'type': 'number'}]}, applicationConfig={}, staticImageConfig={}, createdAt='2021-09-20T18:16:56.989Z', updatedAt='2021-09-20T18:16:59.721Z'), _url='https://api.resourcewatch.org/v1/dataset/a36bf77b-4d10-4855-8ef6-aece72e23971/layer/b9d1b315-efc3-433a-82ad-22e841c34f5a')"
      ]
     },
     "metadata": {},
     "output_type": "display_data"
    },
    {
     "data": {
      "text/plain": [
       "'staging'"
      ]
     },
     "metadata": {},
     "output_type": "display_data"
    },
    {
     "data": {
      "text/plain": [
       "'production'"
      ]
     },
     "metadata": {},
     "output_type": "display_data"
    }
   ],
   "source": [
    "testing_layers = []\n",
    "for k,v in providers.items():\n",
    "    print(f'{k}: ')\n",
    "    for ID in v[\"ids\"][:5]:\n",
    "        layer = parse_obj_as(Layer, session.get(f'v1/layer/{ID}').json().get('data'))\n",
    "        display(layer)\n",
    "        copyLayer = layer.copy(deep=True)\n",
    "        copyLayer.attributes.env = 'staging'\n",
    "        testing_layers.append(session.post(f'v1/dataset/{copyLayer.attributes._datasetId}/layer', data = copyLayer.attributes.json(exclude_none=True))\\\n",
    "                              .json().get('data').get('id'))"
   ]
  },
  {
   "cell_type": "markdown",
   "id": "5311fc89",
   "metadata": {},
   "source": [
    "#### Start migration on the testing layers"
   ]
  },
  {
   "cell_type": "code",
   "execution_count": null,
   "id": "1f5bde5b",
   "metadata": {},
   "outputs": [],
   "source": [
    "createUpdatelayerSchemas(session, testing_layers)"
   ]
  },
  {
   "cell_type": "markdown",
   "id": "4b62f023",
   "metadata": {},
   "source": [
    "#### Once we are happy with the layer we will proceed to migrate all +5000 of them:"
   ]
  },
  {
   "cell_type": "code",
   "execution_count": null,
   "id": "a99443f8",
   "metadata": {},
   "outputs": [],
   "source": [
    "for k,v in providers:\n",
    "    print(k)\n",
    "    createUpdatelayerSchemas(session, v[\"ids\"])"
   ]
  },
  {
   "cell_type": "markdown",
   "id": "191ea98e",
   "metadata": {},
   "source": [
    "### Aside:\n",
    "##### encode/decode vector tiles for testing data purpouses"
   ]
  },
  {
   "cell_type": "code",
   "execution_count": 49,
   "id": "c85c0571",
   "metadata": {},
   "outputs": [],
   "source": [
    "import mapbox_vector_tile\n",
    "import requests"
   ]
  },
  {
   "cell_type": "code",
   "execution_count": null,
   "id": "dd562559",
   "metadata": {},
   "outputs": [],
   "source": [
    "mapbox_vector_tile.encode([\n",
    "    {\n",
    "        \"name\": \"errorTileSquareLayer\",\n",
    "        \"features\": [{ \"geometry\":\"POLYGON ((0 0, 0 4096, 4096 4096, 4096 0, 0 0))\" }]\n",
    "    },\n",
    "    {\n",
    "        \"name\": \"errorTileStripesLayer\",\n",
    "        \"features\": [{ \"geometry\":\"POLYGON ((0 0, 0 4096, 4096 4096, 4096 0, 0 0))\" }]\n",
    "    }\n",
    "])"
   ]
  },
  {
   "cell_type": "code",
   "execution_count": 51,
   "id": "d92783bd",
   "metadata": {},
   "outputs": [
    {
     "data": {
      "text/plain": [
       "{'layer0': {'extent': 4096,\n",
       "  'version': 2,\n",
       "  'features': [{'geometry': {'type': 'Polygon',\n",
       "     'coordinates': [[[3978, 3191],\n",
       "       [4063, 3320],\n",
       "       [4232, 3320],\n",
       "       [4316, 3191],\n",
       "       [4232, 3061],\n",
       "       [4063, 3061],\n",
       "       [3978, 3191]]]},\n",
       "    'properties': {'puGeomId': '337a2b08-3fdc-46ea-9580-2ac5ee93b5c8',\n",
       "     'scenarioPuId': '6424c619-6ccf-454b-ae50-bccf0c6645de',\n",
       "     'puid': 27,\n",
       "     'parseKeys': 'valuePosition,featureList',\n",
       "     'costValue': 1.0},\n",
       "    'id': 0,\n",
       "    'type': 3},\n",
       "   {'geometry': {'type': 'Polygon',\n",
       "     'coordinates': [[[3978, 2930],\n",
       "       [4063, 3061],\n",
       "       [4232, 3061],\n",
       "       [4316, 2930],\n",
       "       [4232, 2800],\n",
       "       [4063, 2800],\n",
       "       [3978, 2930]]]},\n",
       "    'properties': {'puGeomId': '12a227a2-e017-4335-afae-cfba9d381442',\n",
       "     'scenarioPuId': '6f962395-48aa-492c-9ef8-d971b86259e2',\n",
       "     'puid': 29,\n",
       "     'parseKeys': 'valuePosition,featureList',\n",
       "     'costValue': 1.0},\n",
       "    'id': 0,\n",
       "    'type': 3},\n",
       "   {'geometry': {'type': 'Polygon',\n",
       "     'coordinates': [[[3978, 3191],\n",
       "       [4063, 3320],\n",
       "       [4232, 3320],\n",
       "       [4316, 3191],\n",
       "       [4232, 3061],\n",
       "       [4063, 3061],\n",
       "       [3978, 3191]]]},\n",
       "    'properties': {'puGeomId': '7156f4e7-781b-4dc2-8427-3168f511af3b',\n",
       "     'scenarioPuId': '99806761-0e33-41b5-9d6c-647b2eb09d2d',\n",
       "     'puid': 30,\n",
       "     'parseKeys': 'valuePosition,featureList',\n",
       "     'costValue': 1.0},\n",
       "    'id': 0,\n",
       "    'type': 3},\n",
       "   {'geometry': {'type': 'Polygon',\n",
       "     'coordinates': [[[3978, 2930],\n",
       "       [4063, 3061],\n",
       "       [4232, 3061],\n",
       "       [4316, 2930],\n",
       "       [4232, 2800],\n",
       "       [4063, 2800],\n",
       "       [3978, 2930]]]},\n",
       "    'properties': {'puGeomId': '4f393c68-e2af-4bb9-9d58-d8add7f18406',\n",
       "     'scenarioPuId': '9aef7af1-49f6-4cfb-9169-f0be07c7a715',\n",
       "     'puid': 26,\n",
       "     'parseKeys': 'valuePosition,featureList',\n",
       "     'costValue': 1.0},\n",
       "    'id': 0,\n",
       "    'type': 3},\n",
       "   {'geometry': {'type': 'Polygon',\n",
       "     'coordinates': [[[3978, 3707],\n",
       "       [4063, 3836],\n",
       "       [4232, 3836],\n",
       "       [4316, 3707],\n",
       "       [4232, 3579],\n",
       "       [4063, 3579],\n",
       "       [3978, 3707]]]},\n",
       "    'properties': {'puGeomId': '37f8277a-cfaf-4c1b-8994-508ac6117ee4',\n",
       "     'scenarioPuId': 'ae424f7e-fc36-40b7-a94d-5c0318655b94',\n",
       "     'puid': 28,\n",
       "     'parseKeys': 'valuePosition,featureList',\n",
       "     'costValue': 1.0},\n",
       "    'id': 0,\n",
       "    'type': 3},\n",
       "   {'geometry': {'type': 'Polygon',\n",
       "     'coordinates': [[[3978, 3707],\n",
       "       [4063, 3836],\n",
       "       [4232, 3836],\n",
       "       [4316, 3707],\n",
       "       [4232, 3579],\n",
       "       [4063, 3579],\n",
       "       [3978, 3707]]]},\n",
       "    'properties': {'puGeomId': '2f7cf5ae-a3fa-4f49-8073-4ca8ac837666',\n",
       "     'scenarioPuId': 'c11a1425-ab33-4af8-879c-702634476ddf',\n",
       "     'puid': 31,\n",
       "     'parseKeys': 'valuePosition,featureList',\n",
       "     'costValue': 1.0},\n",
       "    'id': 0,\n",
       "    'type': 3}]}}"
      ]
     },
     "execution_count": 51,
     "metadata": {},
     "output_type": "execute_result"
    }
   ],
   "source": [
    "response = requests.get('<url>')\n",
    "mapbox_vector_tile.decode(response.content)"
   ]
  }
 ],
 "metadata": {
  "kernelspec": {
   "display_name": "Python 3 (ipykernel)",
   "language": "python",
   "name": "python3"
  },
  "language_info": {
   "codemirror_mode": {
    "name": "ipython",
    "version": 3
   },
   "file_extension": ".py",
   "mimetype": "text/x-python",
   "name": "python",
   "nbconvert_exporter": "python",
   "pygments_lexer": "ipython3",
   "version": "3.8.12"
  }
 },
 "nbformat": 4,
 "nbformat_minor": 5
}
