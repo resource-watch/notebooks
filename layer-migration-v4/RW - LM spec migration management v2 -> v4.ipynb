{
 "cells": [
  {
   "cell_type": "markdown",
   "id": "bd88a508",
   "metadata": {},
   "source": [
    "# RW - LM spec migration management v2 -> v4."
   ]
  },
  {
   "cell_type": "markdown",
   "id": "04295896",
   "metadata": {},
   "source": [
    "The aim of this script is to programatically allow us to move from the v2 layer spec from layer manager used in RW layers to the v4.\n",
    "\n",
    "We will take as started point rw past migration and latest migration done by gfw. plus scripts develop for OW migration management from staging and productions\n",
    "\n",
    "\n",
    "Tasks prior running the process:\n",
    "\n",
    "* RW management functions\n",
    "* Develop functions/code to move from spect v2 to v4\n",
    "* Develop test to ensure functions works as expected\n",
    "\n",
    "Finally the workflow will be excecuted one provider type at a time, and will be as follows:  \n",
    "\n",
    "* Migrate to staging 5 layers of each provider\n",
    "* For those 5 layers we will run the script to migrate and validate.\n",
    "* Once Front is happy with the results we will trigger the full migration"
   ]
  },
  {
   "cell_type": "code",
   "execution_count": 54,
   "id": "f64603f3",
   "metadata": {},
   "outputs": [],
   "source": [
    "### Run functions developed in the notebooks\n",
    "%run './pydantic_data_classes_rw.ipynb'"
   ]
  },
  {
   "cell_type": "code",
   "execution_count": 55,
   "id": "8459cca6",
   "metadata": {},
   "outputs": [
    {
     "name": "stdout",
     "output_type": "stream",
     "text": [
      "builtins==None\n",
      "builtins==None\n",
      "requests_toolbelt.sessions==None\n",
      "types==None\n",
      "json==2.0.9\n",
      "logging==0.5.1.2\n",
      "getpass==None\n",
      "os==None\n",
      "subprocess==None\n",
      "ipykernel==6.4.1\n",
      "debugpy==1.4.1\n",
      "json==2.0.9\n",
      "builtins==None\n"
     ]
    }
   ],
   "source": [
    "%run './RW-API_management_functions.ipynb'"
   ]
  },
  {
   "cell_type": "code",
   "execution_count": 80,
   "id": "44eff481",
   "metadata": {},
   "outputs": [],
   "source": [
    "%run './RW-LM4_migration_functions.ipynb'\n"
   ]
  },
  {
   "cell_type": "code",
   "execution_count": 2,
   "id": "9ac9fde1",
   "metadata": {},
   "outputs": [],
   "source": [
    "from devtools import debug"
   ]
  },
  {
   "cell_type": "code",
   "execution_count": 3,
   "id": "bdcbb88f",
   "metadata": {},
   "outputs": [],
   "source": [
    "from IPython.display import JSON, display"
   ]
  },
  {
   "cell_type": "code",
   "execution_count": 7,
   "id": "5d64e35e",
   "metadata": {},
   "outputs": [
    {
     "name": "stdout",
     "output_type": "stream",
     "text": [
      "You are login into \u001b[95m\u001b[1mRW api\u001b[0m\n",
      "\u001b[92mSuccessfully logged into RW api\u001b[0m\n"
     ]
    }
   ],
   "source": [
    "session = rwApiSession()"
   ]
  },
  {
   "cell_type": "markdown",
   "id": "b06baac6",
   "metadata": {},
   "source": [
    "### Explore and get some metrics about the layers currently in RW"
   ]
  },
  {
   "cell_type": "code",
   "execution_count": 8,
   "id": "4ad3d23e",
   "metadata": {},
   "outputs": [],
   "source": [
    "layerList = getLayerList(session)"
   ]
  },
  {
   "cell_type": "code",
   "execution_count": 9,
   "id": "80c784ee",
   "metadata": {
    "scrolled": true
   },
   "outputs": [
    {
     "data": {
      "text/plain": [
       "' currently available 5437 layers in the api'"
      ]
     },
     "metadata": {},
     "output_type": "display_data"
    }
   ],
   "source": [
    "display(f' currently available {len(layerList)} layers in the api')"
   ]
  },
  {
   "cell_type": "code",
   "execution_count": 64,
   "id": "a52e90df",
   "metadata": {},
   "outputs": [
    {
     "data": {
      "text/markdown": [
       "**Layer**: [December 12, 2021 00:00 CT O₃ Concentration (ppb)](https://api.resourcewatch.org/v1/dataset/00d6bae1-e105-4165-8230-ee73a8128538/layer/50168169-0ce3-41e7-8056-29d87a18e66d)"
      ],
      "text/plain": [
       "Layer(id=UUID('50168169-0ce3-41e7-8056-29d87a18e66d'), type='layer', attributes=LayerAttributes(name='December 12, 2021 00:00 CT O₃ Concentration (ppb)', description='Air quality forecast for ozone (O₃) concentrations at Earth’s surface on indicated date, expressed in parts per billion (ppb).', application=['rw'], iso=[], provider='gee', type='layer', default=False, protected=False, published=True, env='production', layerConfig={'body': {'sldValue': '<RasterSymbolizer><ChannelSelection>   <GrayChannel>   <SourceChannelName>b1</SourceChannelName>        </GrayChannel>        </ChannelSelection> <ColorMap type=\"ramp\" extended=\"false\" ><ColorMapEntry color=\"#a50f15\" quantity=\"0\" label=\"\" opacity=\"1\" /><ColorMapEntry color=\"#de2d26\" quantity=\"20\" label=\"\" opacity=\"1\" /><ColorMapEntry color=\"#fb6a4a\" quantity=\"40\" label=\"\" /><ColorMapEntry color=\"#fcae91\" quantity=\"60\" label=\"\" /><ColorMapEntry color=\"#fee5d9\" quantity=\"80\" label=\"\" /></ColorMap></RasterSymbolizer>', 'styleType': 'sld'}, 'assetId': 'projects/resource-watch-gee/loc_mcaqf_mexico_city_aq_forecast/O3/loc_mcaqf_mexico_city_aq_forecast_O3_20211211_24', 'timelineLabel': '024', 'order': 24, 'timeline': True, 'type': 'gee'}, legendConfig={'items': [{'color': '#a50f15', 'name': '0', 'id': 0}, {'color': '#de2d26', 'name': '20', 'id': 1}, {'color': '#fb6a4a', 'name': '40', 'id': 2}, {'color': '#fcae91', 'name': '60', 'id': 3}, {'color': '#fee5d9', 'name': '≥80', 'id': 4}], 'type': 'gradient'}, interactionConfig={'type': 'intersection', 'config': {'url': 'https://api.resourcewatch.org/v1/query/50168169-0ce3-41e7-8056-29d87a18e66d?sql=select st_summarystats(rast, \\'b1\\', false) as x from \\'projects/resource-watch-gee/loc_mcaqf_mexico_city_aq_forecast/O3/loc_mcaqf_mexico_city_aq_forecast_O3_20211211_24\\' where ST_INTERSECTS(ST_SetSRID(ST_GeomFromGeoJSON(\\'{\"type\":\"Point\",\"coordinates\":[{{lng}},{{lat}}]}\\'),4326),the_geom)'}, 'output': [{'column': 'x.b1.mean', 'property': 'Ozone concentration', 'type': 'number', 'format': '0.00', 'prefix': ' ', 'suffix': ' ppb'}]}, applicationConfig={}, staticImageConfig={}, createdAt='2020-08-13T21:57:12.704Z', updatedAt='2021-12-11T17:27:45.179Z'), _url='https://api.resourcewatch.org/v1/dataset/00d6bae1-e105-4165-8230-ee73a8128538/layer/50168169-0ce3-41e7-8056-29d87a18e66d')"
      ]
     },
     "metadata": {},
     "output_type": "display_data"
    },
    {
     "name": "stderr",
     "output_type": "stream",
     "text": [
      "/opt/conda/lib/python3.8/site-packages/IPython/core/display.py:911: UserWarning: JSON expects JSONable dict or list, not JSON strings\n",
      "  warnings.warn(\"JSON expects JSONable dict or list, not JSON strings\")\n"
     ]
    },
    {
     "data": {
      "application/json": {
       "_url": "https://api.resourcewatch.org/v1/dataset/00d6bae1-e105-4165-8230-ee73a8128538/layer/50168169-0ce3-41e7-8056-29d87a18e66d",
       "attributes": {
        "application": [
         "rw"
        ],
        "applicationConfig": {},
        "createdAt": "2020-08-13T21:57:12.704Z",
        "default": false,
        "description": "Air quality forecast for ozone (O₃) concentrations at Earth’s surface on indicated date, expressed in parts per billion (ppb).",
        "env": "production",
        "interactionConfig": {
         "config": {
          "url": "https://api.resourcewatch.org/v1/query/50168169-0ce3-41e7-8056-29d87a18e66d?sql=select st_summarystats(rast, 'b1', false) as x from 'projects/resource-watch-gee/loc_mcaqf_mexico_city_aq_forecast/O3/loc_mcaqf_mexico_city_aq_forecast_O3_20211211_24' where ST_INTERSECTS(ST_SetSRID(ST_GeomFromGeoJSON('{\"type\":\"Point\",\"coordinates\":[{{lng}},{{lat}}]}'),4326),the_geom)"
         },
         "output": [
          {
           "column": "x.b1.mean",
           "format": "0.00",
           "prefix": " ",
           "property": "Ozone concentration",
           "suffix": " ppb",
           "type": "number"
          }
         ],
         "type": "intersection"
        },
        "iso": [],
        "layerConfig": {
         "assetId": "projects/resource-watch-gee/loc_mcaqf_mexico_city_aq_forecast/O3/loc_mcaqf_mexico_city_aq_forecast_O3_20211211_24",
         "body": {
          "sldValue": "<RasterSymbolizer><ChannelSelection>   <GrayChannel>   <SourceChannelName>b1</SourceChannelName>        </GrayChannel>        </ChannelSelection> <ColorMap type=\"ramp\" extended=\"false\" ><ColorMapEntry color=\"#a50f15\" quantity=\"0\" label=\"\" opacity=\"1\" /><ColorMapEntry color=\"#de2d26\" quantity=\"20\" label=\"\" opacity=\"1\" /><ColorMapEntry color=\"#fb6a4a\" quantity=\"40\" label=\"\" /><ColorMapEntry color=\"#fcae91\" quantity=\"60\" label=\"\" /><ColorMapEntry color=\"#fee5d9\" quantity=\"80\" label=\"\" /></ColorMap></RasterSymbolizer>",
          "styleType": "sld"
         },
         "order": 24,
         "timeline": true,
         "timelineLabel": "024",
         "type": "gee"
        },
        "legendConfig": {
         "items": [
          {
           "color": "#a50f15",
           "id": 0,
           "name": "0"
          },
          {
           "color": "#de2d26",
           "id": 1,
           "name": "20"
          },
          {
           "color": "#fb6a4a",
           "id": 2,
           "name": "40"
          },
          {
           "color": "#fcae91",
           "id": 3,
           "name": "60"
          },
          {
           "color": "#fee5d9",
           "id": 4,
           "name": "≥80"
          }
         ],
         "type": "gradient"
        },
        "name": "December 12, 2021 00:00 CT O₃ Concentration (ppb)",
        "protected": false,
        "provider": "gee",
        "published": true,
        "staticImageConfig": {},
        "type": "layer",
        "updatedAt": "2021-12-11T17:27:45.179Z"
       },
       "id": "50168169-0ce3-41e7-8056-29d87a18e66d",
       "type": "layer"
      },
      "text/plain": [
       "<IPython.core.display.JSON object>"
      ]
     },
     "execution_count": 64,
     "metadata": {
      "application/json": {
       "expanded": false,
       "root": "root"
      }
     },
     "output_type": "execute_result"
    }
   ],
   "source": [
    "display(layerList[0])\n",
    "JSON(layerList[0].json(exclude_none=True))"
   ]
  },
  {
   "cell_type": "code",
   "execution_count": 11,
   "id": "11fe90b9",
   "metadata": {},
   "outputs": [
    {
     "name": "stdout",
     "output_type": "stream",
     "text": [
      "gee: 1594\n",
      "cartodb: 3506\n",
      "leaflet: 302\n",
      "featureservice: 19\n",
      "wms: 15\n",
      "None: 1\n"
     ]
    }
   ],
   "source": [
    "providers = {}\n",
    "for layer in layerList:\n",
    "    if layer.attributes.provider in providers.keys():\n",
    "        providers[layer.attributes.provider]['count'] += 1\n",
    "        providers[layer.attributes.provider]['ids'].append(layer.id)\n",
    "    else:\n",
    "        providers[layer.attributes.provider] = {'count': 1, 'ids':[layer.id]} \n",
    "\n",
    "for k,v in providers.items():\n",
    "    print(f'{k}: {v[\"count\"]}')"
   ]
  },
  {
   "cell_type": "markdown",
   "id": "f5d4e915",
   "metadata": {},
   "source": [
    "This means in our migration we will need to only take care of 5 type of connectors"
   ]
  },
  {
   "cell_type": "markdown",
   "id": "7341903b",
   "metadata": {},
   "source": [
    "#### Review the layer with None as provider and exclude it from our migration"
   ]
  },
  {
   "cell_type": "code",
   "execution_count": 38,
   "id": "a423deee",
   "metadata": {},
   "outputs": [
    {
     "data": {
      "text/markdown": [
       "**Layer**: [Brazilian Amazon Deforestation Alerts](https://api.resourcewatch.org/v1/dataset/8870d62f-0240-4275-910a-361f0ef347e0/layer/0c07f80c-129d-47b3-9099-99036883a215)"
      ],
      "text/plain": [
       "Layer(id=UUID('0c07f80c-129d-47b3-9099-99036883a215'), type='layer', attributes=LayerAttributes(name='Brazilian Amazon Deforestation Alerts', description=None, application=['rw'], iso=['BRA'], provider=None, type=None, default=False, protected=False, published=True, env='production', layerConfig={'account': 'wri-01', 'body': {'maxzoom': 18, 'minzoom': 3, 'layers': [{'type': 'cartodb', 'options': {'sql': 'SELECT the_geom_webmercator, orig_fname, orig_oid, data_type,round(st_area_sh::numeric,2) as st_area_sh, round(st_length_::numeric,2) as st_length_, date FROM imazon_sad', 'cartocss': '#imazon_sad{  polygon-fill: #cb1f5e;  polygon-opacity: 1;  line-color: #cb1f5e;  line-width: 1.5;  line-opacity: 1;}', 'cartocss_version': '2.3.0'}}], 'vectorLayers': [{'paint': {'line-color': ' #cb1f5e', 'line-width': 1.5, 'line-opacity': 1}, 'source-layer': 'layer0', 'type': 'line', 'filter': ['all']}, {'paint': {'fill-color': ' #cb1f5e', 'fill-opacity': 1}, 'source-layer': 'layer0', 'type': 'fill', 'filter': ['all']}]}, 'pulseConfig': {'sql': \"SELECT the_geom_webmercator, orig_fname, orig_oid, data_type,round(st_area_sh::numeric,2) as st_area_sh, round(st_length_::numeric,2) as st_length_, date FROM imazon_sad where date > (CURRENT_DATE - interval '120 day')\", 'type': 'imageOverlay'}}, legendConfig={'items': [{'color': '#cb1f5e', 'name': 'Deforestation zones'}], 'type': 'basic'}, interactionConfig={'type': 'intersection', 'pulseConfig': {'url': 'https://api.resourcewatch.org/v1/query/e8f5b4e8-454e-488d-8b4a-b60ad02bce36?sql=SELECT orig_fname, orig_oid, data_type,round(st_area_sh::numeric,2) as st_area_sh, round(st_length_::numeric,2) as st_length_, date FROM imazon_sad WHERE date > (CURRENT_DATE - interval \\'90 day\\') and st_intersects(the_geom,st_buffer(ST_SetSRID(st_geomfromgeojson(\\'{\"type\":\"Point\",\"coordinates\":{{point}}}\\'),4326),1))'}, 'config': {'url': 'https://api.resourcewatch.org/v1/query/e8f5b4e8-454e-488d-8b4a-b60ad02bce36?sql=SELECT st_transform(the_geom_webmercator,32663) as the_geom_webmercator, orig_fname, orig_oid, data_type, round(st_area_sh::numeric,2) as st_area_sh, round(st_length_::numeric,2) as st_length_, date FROM imazon_sad WHERE date > (CURRENT_DATE - interval \\'90 day\\') and st_intersects(the_geom,st_buffer(ST_SetSRID(st_geomfromgeojson(\\'{\"type\":\"Point\",\"coordinates\":{{point}}}\\'),4326),1))'}, 'output': [{'suffix': 'ha', 'column': 'st_area_sh', 'property': 'Area', 'type': 'number', 'format': '0,0'}, {'column': 'st_length_', 'property': 'Length', 'type': 'number', 'format': '0a'}]}, applicationConfig={'metadata': 'imazon_sad', 'global': False, 'active': True, 'default': True}, staticImageConfig={}, createdAt='2021-10-28T10:42:12.189Z', updatedAt='2019-07-23T14:13:45.739Z'), _url='https://api.resourcewatch.org/v1/dataset/8870d62f-0240-4275-910a-361f0ef347e0/layer/0c07f80c-129d-47b3-9099-99036883a215')"
      ]
     },
     "metadata": {},
     "output_type": "display_data"
    },
    {
     "data": {
      "application/json": {
       "data": {
        "attributes": {
         "application": [
          "rw"
         ],
         "applicationConfig": {
          "active": true,
          "default": true,
          "global": false,
          "metadata": "imazon_sad"
         },
         "createdAt": "2021-10-28T11:18:16.718Z",
         "dataset": "8870d62f-0240-4275-910a-361f0ef347e0",
         "default": false,
         "env": "production",
         "interactionConfig": {
          "config": {
           "url": "https://api.resourcewatch.org/v1/query/e8f5b4e8-454e-488d-8b4a-b60ad02bce36?sql=SELECT st_transform(the_geom_webmercator,32663) as the_geom_webmercator, orig_fname, orig_oid, data_type, round(st_area_sh::numeric,2) as st_area_sh, round(st_length_::numeric,2) as st_length_, date FROM imazon_sad WHERE date > (CURRENT_DATE - interval '90 day') and st_intersects(the_geom,st_buffer(ST_SetSRID(st_geomfromgeojson('{\"type\":\"Point\",\"coordinates\":{{point}}}'),4326),1))"
          },
          "output": [
           {
            "column": "st_area_sh",
            "format": "0,0",
            "property": "Area",
            "suffix": "ha",
            "type": "number"
           },
           {
            "column": "st_length_",
            "format": "0a",
            "property": "Length",
            "type": "number"
           }
          ],
          "pulseConfig": {
           "url": "https://api.resourcewatch.org/v1/query/e8f5b4e8-454e-488d-8b4a-b60ad02bce36?sql=SELECT orig_fname, orig_oid, data_type,round(st_area_sh::numeric,2) as st_area_sh, round(st_length_::numeric,2) as st_length_, date FROM imazon_sad WHERE date > (CURRENT_DATE - interval '90 day') and st_intersects(the_geom,st_buffer(ST_SetSRID(st_geomfromgeojson('{\"type\":\"Point\",\"coordinates\":{{point}}}'),4326),1))"
          },
          "type": "intersection"
         },
         "iso": [
          "BRA"
         ],
         "layerConfig": {
          "account": "wri-01",
          "body": {
           "layers": [
            {
             "options": {
              "cartocss": "#imazon_sad{  polygon-fill: #cb1f5e;  polygon-opacity: 1;  line-color: #cb1f5e;  line-width: 1.5;  line-opacity: 1;}",
              "cartocss_version": "2.3.0",
              "sql": "SELECT the_geom_webmercator, orig_fname, orig_oid, data_type,round(st_area_sh::numeric,2) as st_area_sh, round(st_length_::numeric,2) as st_length_, date FROM imazon_sad"
             },
             "type": "cartodb"
            }
           ],
           "maxzoom": 18,
           "minzoom": 3,
           "vectorLayers": [
            {
             "filter": [
              "all"
             ],
             "paint": {
              "line-color": " #cb1f5e",
              "line-opacity": 1,
              "line-width": 1.5
             },
             "source-layer": "layer0",
             "type": "line"
            },
            {
             "filter": [
              "all"
             ],
             "paint": {
              "fill-color": " #cb1f5e",
              "fill-opacity": 1
             },
             "source-layer": "layer0",
             "type": "fill"
            }
           ]
          },
          "pulseConfig": {
           "sql": "SELECT the_geom_webmercator, orig_fname, orig_oid, data_type,round(st_area_sh::numeric,2) as st_area_sh, round(st_length_::numeric,2) as st_length_, date FROM imazon_sad where date > (CURRENT_DATE - interval '120 day')",
           "type": "imageOverlay"
          }
         },
         "legendConfig": {
          "items": [
           {
            "color": "#cb1f5e",
            "name": "Deforestation zones"
           }
          ],
          "type": "basic"
         },
         "name": "Brazilian Amazon Deforestation Alerts",
         "protected": false,
         "published": true,
         "slug": "Brazilian-Amazon-Deforestation-Alerts",
         "staticImageConfig": {},
         "updatedAt": "2019-07-23T14:13:45.739Z",
         "userId": "59db4eace9c1380001d6e4c3"
        },
        "id": "0c07f80c-129d-47b3-9099-99036883a215",
        "type": "layer"
       }
      },
      "text/plain": [
       "<IPython.core.display.JSON object>"
      ]
     },
     "metadata": {
      "application/json": {
       "expanded": false,
       "root": "root"
      }
     },
     "output_type": "display_data"
    }
   ],
   "source": [
    "for layer in layerList:\n",
    "    if layer.attributes.provider is None:\n",
    "        display(layer)\n",
    "        display(JSON(layer._url))"
   ]
  },
  {
   "cell_type": "markdown",
   "id": "344b6d4d",
   "metadata": {},
   "source": [
    "#### Lets have a look at the layerType that indicates a successfull migration from v1 to v2"
   ]
  },
  {
   "cell_type": "code",
   "execution_count": 39,
   "id": "1a35c0b2",
   "metadata": {},
   "outputs": [
    {
     "data": {
      "text/plain": [
       "{'vector': 2730, None: 1871, 'raster': 826}"
      ]
     },
     "execution_count": 39,
     "metadata": {},
     "output_type": "execute_result"
    }
   ],
   "source": [
    "layerTypes = {}\n",
    "for layer in layerList:\n",
    "    if layer.attributes.layerConfig.get('layerType') in layerTypes.keys():\n",
    "        layerTypes[layer.attributes.layerConfig.get('layerType')] += 1\n",
    "    else:\n",
    "        layerTypes[layer.attributes.layerConfig.get('layerType')] = 1\n",
    "layerTypes"
   ]
  },
  {
   "cell_type": "markdown",
   "id": "0af38c5e",
   "metadata": {},
   "source": [
    "#### From those that look unsusscessfull lets have a look at the providers, we will need to be extra carefull with this ones:"
   ]
  },
  {
   "cell_type": "code",
   "execution_count": 40,
   "id": "813bbf74",
   "metadata": {},
   "outputs": [
    {
     "data": {
      "text/plain": [
       "{'gee': 1432,\n",
       " 'cartodb': 282,\n",
       " 'featureservice': 18,\n",
       " 'wms': 15,\n",
       " 'leaflet': 123,\n",
       " None: 1}"
      ]
     },
     "execution_count": 40,
     "metadata": {},
     "output_type": "execute_result"
    }
   ],
   "source": [
    "layer2Types = {}\n",
    "for layer in layerList:\n",
    "    if layer.attributes.layerConfig.get('layerType') is None:\n",
    "        if layer.attributes.provider in layer2Types.keys():\n",
    "            layer2Types[layer.attributes.provider] += 1\n",
    "        else:\n",
    "            layer2Types[layer.attributes.provider] = 1\n",
    "layer2Types"
   ]
  },
  {
   "cell_type": "markdown",
   "id": "be0f6929",
   "metadata": {},
   "source": [
    "#### Add some testing layers from prod to staging from each different type so we can have some testing data."
   ]
  },
  {
   "cell_type": "code",
   "execution_count": 14,
   "id": "08900978",
   "metadata": {},
   "outputs": [
    {
     "name": "stdout",
     "output_type": "stream",
     "text": [
      "gee: \n"
     ]
    },
    {
     "data": {
      "text/markdown": [
       "**Layer**: [December 12, 2021 00:00 CT O₃ Concentration (ppb)](https://api.resourcewatch.org/v1/dataset/00d6bae1-e105-4165-8230-ee73a8128538/layer/50168169-0ce3-41e7-8056-29d87a18e66d)"
      ],
      "text/plain": [
       "Layer(id=UUID('50168169-0ce3-41e7-8056-29d87a18e66d'), type='layer', attributes=LayerAttributes(name='December 12, 2021 00:00 CT O₃ Concentration (ppb)', description='Air quality forecast for ozone (O₃) concentrations at Earth’s surface on indicated date, expressed in parts per billion (ppb).', application=['rw'], iso=[], provider='gee', type='layer', default=False, protected=False, published=True, env='production', layerConfig={'body': {'sldValue': '<RasterSymbolizer><ChannelSelection>   <GrayChannel>   <SourceChannelName>b1</SourceChannelName>        </GrayChannel>        </ChannelSelection> <ColorMap type=\"ramp\" extended=\"false\" ><ColorMapEntry color=\"#a50f15\" quantity=\"0\" label=\"\" opacity=\"1\" /><ColorMapEntry color=\"#de2d26\" quantity=\"20\" label=\"\" opacity=\"1\" /><ColorMapEntry color=\"#fb6a4a\" quantity=\"40\" label=\"\" /><ColorMapEntry color=\"#fcae91\" quantity=\"60\" label=\"\" /><ColorMapEntry color=\"#fee5d9\" quantity=\"80\" label=\"\" /></ColorMap></RasterSymbolizer>', 'styleType': 'sld'}, 'assetId': 'projects/resource-watch-gee/loc_mcaqf_mexico_city_aq_forecast/O3/loc_mcaqf_mexico_city_aq_forecast_O3_20211211_24', 'timelineLabel': '024', 'order': 24, 'timeline': True, 'type': 'gee'}, legendConfig={'items': [{'color': '#a50f15', 'name': '0', 'id': 0}, {'color': '#de2d26', 'name': '20', 'id': 1}, {'color': '#fb6a4a', 'name': '40', 'id': 2}, {'color': '#fcae91', 'name': '60', 'id': 3}, {'color': '#fee5d9', 'name': '≥80', 'id': 4}], 'type': 'gradient'}, interactionConfig={'type': 'intersection', 'config': {'url': 'https://api.resourcewatch.org/v1/query/50168169-0ce3-41e7-8056-29d87a18e66d?sql=select st_summarystats(rast, \\'b1\\', false) as x from \\'projects/resource-watch-gee/loc_mcaqf_mexico_city_aq_forecast/O3/loc_mcaqf_mexico_city_aq_forecast_O3_20211211_24\\' where ST_INTERSECTS(ST_SetSRID(ST_GeomFromGeoJSON(\\'{\"type\":\"Point\",\"coordinates\":[{{lng}},{{lat}}]}\\'),4326),the_geom)'}, 'output': [{'column': 'x.b1.mean', 'property': 'Ozone concentration', 'type': 'number', 'format': '0.00', 'prefix': ' ', 'suffix': ' ppb'}]}, applicationConfig={}, staticImageConfig={}, createdAt='2020-08-13T21:57:12.704Z', updatedAt='2021-12-11T17:27:45.179Z'), _url='https://api.resourcewatch.org/v1/dataset/00d6bae1-e105-4165-8230-ee73a8128538/layer/50168169-0ce3-41e7-8056-29d87a18e66d')"
      ]
     },
     "metadata": {},
     "output_type": "display_data"
    },
    {
     "data": {
      "text/markdown": [
       "**Layer**: [December 12, 2021 05:00 CT O₃ Concentration (ppb)](https://api.resourcewatch.org/v1/dataset/00d6bae1-e105-4165-8230-ee73a8128538/layer/ac3c0d6e-32c5-4044-9f6a-8b340794dae1)"
      ],
      "text/plain": [
       "Layer(id=UUID('ac3c0d6e-32c5-4044-9f6a-8b340794dae1'), type='layer', attributes=LayerAttributes(name='December 12, 2021 05:00 CT O₃ Concentration (ppb)', description='Air quality forecast for ozone (O₃) concentrations at Earth’s surface on indicated date, expressed in parts per billion (ppb).', application=['rw'], iso=[], provider='gee', type='layer', default=False, protected=False, published=True, env='production', layerConfig={'body': {'sldValue': '<RasterSymbolizer><ChannelSelection>   <GrayChannel>   <SourceChannelName>b1</SourceChannelName>        </GrayChannel>        </ChannelSelection> <ColorMap type=\"ramp\" extended=\"false\" ><ColorMapEntry color=\"#a50f15\" quantity=\"0\" label=\"\" opacity=\"1\" /><ColorMapEntry color=\"#de2d26\" quantity=\"20\" label=\"\" opacity=\"1\" /><ColorMapEntry color=\"#fb6a4a\" quantity=\"40\" label=\"\" /><ColorMapEntry color=\"#fcae91\" quantity=\"60\" label=\"\" /><ColorMapEntry color=\"#fee5d9\" quantity=\"80\" label=\"\" /></ColorMap></RasterSymbolizer>', 'styleType': 'sld'}, 'assetId': 'projects/resource-watch-gee/loc_mcaqf_mexico_city_aq_forecast/O3/loc_mcaqf_mexico_city_aq_forecast_O3_20211211_29', 'timelineLabel': '029', 'order': 29, 'timeline': True, 'type': 'gee'}, legendConfig={'items': [{'color': '#a50f15', 'name': '0', 'id': 0}, {'color': '#de2d26', 'name': '20', 'id': 1}, {'color': '#fb6a4a', 'name': '40', 'id': 2}, {'color': '#fcae91', 'name': '60', 'id': 3}, {'color': '#fee5d9', 'name': '≥80', 'id': 4}], 'type': 'gradient'}, interactionConfig={'type': 'intersection', 'config': {'url': 'https://api.resourcewatch.org/v1/query/ac3c0d6e-32c5-4044-9f6a-8b340794dae1?sql=select st_summarystats(rast, \\'b1\\', false) as x from \\'projects/resource-watch-gee/loc_mcaqf_mexico_city_aq_forecast/O3/loc_mcaqf_mexico_city_aq_forecast_O3_20211211_29\\' where ST_INTERSECTS(ST_SetSRID(ST_GeomFromGeoJSON(\\'{\"type\":\"Point\",\"coordinates\":[{{lng}},{{lat}}]}\\'),4326),the_geom)'}, 'output': [{'column': 'x.b1.mean', 'property': 'Ozone concentration', 'type': 'number', 'format': '0.00', 'prefix': ' ', 'suffix': ' ppb'}]}, applicationConfig={}, staticImageConfig={}, createdAt='2020-08-13T22:02:57.643Z', updatedAt='2021-12-11T17:27:45.227Z'), _url='https://api.resourcewatch.org/v1/dataset/00d6bae1-e105-4165-8230-ee73a8128538/layer/ac3c0d6e-32c5-4044-9f6a-8b340794dae1')"
      ]
     },
     "metadata": {},
     "output_type": "display_data"
    },
    {
     "data": {
      "text/markdown": [
       "**Layer**: [December 12, 2021 20:00 CT O₃ Concentration (ppb)](https://api.resourcewatch.org/v1/dataset/00d6bae1-e105-4165-8230-ee73a8128538/layer/15c0e0b6-0625-448f-8f8e-f0ec31726f92)"
      ],
      "text/plain": [
       "Layer(id=UUID('15c0e0b6-0625-448f-8f8e-f0ec31726f92'), type='layer', attributes=LayerAttributes(name='December 12, 2021 20:00 CT O₃ Concentration (ppb)', description='Air quality forecast for ozone (O₃) concentrations at Earth’s surface on indicated date, expressed in parts per billion (ppb).', application=['rw'], iso=[], provider='gee', type='layer', default=False, protected=False, published=True, env='production', layerConfig={'body': {'sldValue': '<RasterSymbolizer><ChannelSelection>   <GrayChannel>   <SourceChannelName>b1</SourceChannelName>        </GrayChannel>        </ChannelSelection> <ColorMap type=\"ramp\" extended=\"false\" ><ColorMapEntry color=\"#a50f15\" quantity=\"0\" label=\"\" opacity=\"1\" /><ColorMapEntry color=\"#de2d26\" quantity=\"20\" label=\"\" opacity=\"1\" /><ColorMapEntry color=\"#fb6a4a\" quantity=\"40\" label=\"\" /><ColorMapEntry color=\"#fcae91\" quantity=\"60\" label=\"\" /><ColorMapEntry color=\"#fee5d9\" quantity=\"80\" label=\"\" /></ColorMap></RasterSymbolizer>', 'styleType': 'sld'}, 'assetId': 'projects/resource-watch-gee/loc_mcaqf_mexico_city_aq_forecast/O3/loc_mcaqf_mexico_city_aq_forecast_O3_20211211_44', 'timelineLabel': '044', 'order': 44, 'timeline': True, 'type': 'gee'}, legendConfig={'items': [{'color': '#a50f15', 'name': '0', 'id': 0}, {'color': '#de2d26', 'name': '20', 'id': 1}, {'color': '#fb6a4a', 'name': '40', 'id': 2}, {'color': '#fcae91', 'name': '60', 'id': 3}, {'color': '#fee5d9', 'name': '≥80', 'id': 4}], 'type': 'gradient'}, interactionConfig={'type': 'intersection', 'config': {'url': 'https://api.resourcewatch.org/v1/query/15c0e0b6-0625-448f-8f8e-f0ec31726f92?sql=select st_summarystats(rast, \\'b1\\', false) as x from \\'projects/resource-watch-gee/loc_mcaqf_mexico_city_aq_forecast/O3/loc_mcaqf_mexico_city_aq_forecast_O3_20211211_44\\' where ST_INTERSECTS(ST_SetSRID(ST_GeomFromGeoJSON(\\'{\"type\":\"Point\",\"coordinates\":[{{lng}},{{lat}}]}\\'),4326),the_geom)'}, 'output': [{'column': 'x.b1.mean', 'property': 'Ozone concentration', 'type': 'number', 'format': '0.00', 'prefix': ' ', 'suffix': ' ppb'}]}, applicationConfig={}, staticImageConfig={}, createdAt='2020-08-13T22:31:59.025Z', updatedAt='2021-12-11T17:27:45.232Z'), _url='https://api.resourcewatch.org/v1/dataset/00d6bae1-e105-4165-8230-ee73a8128538/layer/15c0e0b6-0625-448f-8f8e-f0ec31726f92')"
      ]
     },
     "metadata": {},
     "output_type": "display_data"
    },
    {
     "data": {
      "text/markdown": [
       "**Layer**: [December 11, 2021 08:00 CT O₃ Concentration (ppb)](https://api.resourcewatch.org/v1/dataset/00d6bae1-e105-4165-8230-ee73a8128538/layer/8a668d09-10ba-4bd9-977d-6ae78629410f)"
      ],
      "text/plain": [
       "Layer(id=UUID('8a668d09-10ba-4bd9-977d-6ae78629410f'), type='layer', attributes=LayerAttributes(name='December 11, 2021 08:00 CT O₃ Concentration (ppb)', description='Air quality forecast for ozone (O₃) concentrations at Earth’s surface on indicated date, expressed in parts per billion (ppb).', application=['rw'], iso=[], provider='gee', type='layer', default=False, protected=False, published=True, env='production', layerConfig={'body': {'sldValue': '<RasterSymbolizer><ChannelSelection>   <GrayChannel>   <SourceChannelName>b1</SourceChannelName>        </GrayChannel>        </ChannelSelection> <ColorMap type=\"ramp\" extended=\"false\" ><ColorMapEntry color=\"#a50f15\" quantity=\"0\" label=\"\" opacity=\"1\" /><ColorMapEntry color=\"#de2d26\" quantity=\"20\" label=\"\" opacity=\"1\" /><ColorMapEntry color=\"#fb6a4a\" quantity=\"40\" label=\"\" /><ColorMapEntry color=\"#fcae91\" quantity=\"60\" label=\"\" /><ColorMapEntry color=\"#fee5d9\" quantity=\"80\" label=\"\" /></ColorMap></RasterSymbolizer>', 'styleType': 'sld'}, 'assetId': 'projects/resource-watch-gee/loc_mcaqf_mexico_city_aq_forecast/O3/loc_mcaqf_mexico_city_aq_forecast_O3_20211211_08', 'timelineLabel': '08', 'order': 8, 'timeline': True, 'type': 'gee'}, legendConfig={'items': [{'color': '#a50f15', 'name': '0', 'id': 0}, {'color': '#de2d26', 'name': '20', 'id': 1}, {'color': '#fb6a4a', 'name': '40', 'id': 2}, {'color': '#fcae91', 'name': '60', 'id': 3}, {'color': '#fee5d9', 'name': '≥80', 'id': 4}], 'type': 'gradient'}, interactionConfig={'type': 'intersection', 'config': {'url': 'https://api.resourcewatch.org/v1/query/8a668d09-10ba-4bd9-977d-6ae78629410f?sql=select st_summarystats(rast, \\'b1\\', false) as x from \\'projects/resource-watch-gee/loc_mcaqf_mexico_city_aq_forecast/O3/loc_mcaqf_mexico_city_aq_forecast_O3_20211211_08\\' where ST_INTERSECTS(ST_SetSRID(ST_GeomFromGeoJSON(\\'{\"type\":\"Point\",\"coordinates\":[{{lng}},{{lat}}]}\\'),4326),the_geom)'}, 'output': [{'column': 'x.b1.mean', 'property': 'Ozone concentration', 'type': 'number', 'format': '0.00', 'prefix': ' ', 'suffix': ' ppb'}]}, applicationConfig={}, staticImageConfig={}, createdAt='2020-04-14T14:57:52.269Z', updatedAt='2021-12-11T17:27:45.233Z'), _url='https://api.resourcewatch.org/v1/dataset/00d6bae1-e105-4165-8230-ee73a8128538/layer/8a668d09-10ba-4bd9-977d-6ae78629410f')"
      ]
     },
     "metadata": {},
     "output_type": "display_data"
    },
    {
     "data": {
      "text/markdown": [
       "**Layer**: [December 11, 2021 22:00 CT O₃ Concentration (ppb)](https://api.resourcewatch.org/v1/dataset/00d6bae1-e105-4165-8230-ee73a8128538/layer/6ba3b860-5b6a-457f-9364-58e15e71fa20)"
      ],
      "text/plain": [
       "Layer(id=UUID('6ba3b860-5b6a-457f-9364-58e15e71fa20'), type='layer', attributes=LayerAttributes(name='December 11, 2021 22:00 CT O₃ Concentration (ppb)', description='Air quality forecast for ozone (O₃) concentrations at Earth’s surface on indicated date, expressed in parts per billion (ppb).', application=['rw'], iso=[], provider='gee', type='layer', default=False, protected=False, published=True, env='production', layerConfig={'body': {'sldValue': '<RasterSymbolizer><ChannelSelection>   <GrayChannel>   <SourceChannelName>b1</SourceChannelName>        </GrayChannel>        </ChannelSelection> <ColorMap type=\"ramp\" extended=\"false\" ><ColorMapEntry color=\"#a50f15\" quantity=\"0\" label=\"\" opacity=\"1\" /><ColorMapEntry color=\"#de2d26\" quantity=\"20\" label=\"\" opacity=\"1\" /><ColorMapEntry color=\"#fb6a4a\" quantity=\"40\" label=\"\" /><ColorMapEntry color=\"#fcae91\" quantity=\"60\" label=\"\" /><ColorMapEntry color=\"#fee5d9\" quantity=\"80\" label=\"\" /></ColorMap></RasterSymbolizer>', 'styleType': 'sld'}, 'assetId': 'projects/resource-watch-gee/loc_mcaqf_mexico_city_aq_forecast/O3/loc_mcaqf_mexico_city_aq_forecast_O3_20211211_22', 'timelineLabel': '022', 'order': 22, 'timeline': True, 'type': 'gee'}, legendConfig={'items': [{'color': '#a50f15', 'name': '≤0', 'id': 0}, {'color': '#de2d26', 'name': '20', 'id': 1}, {'color': '#fb6a4a', 'name': '40', 'id': 2}, {'color': '#fcae91', 'name': '60', 'id': 3}, {'color': '#fee5d9', 'name': '≥80', 'id': 4}], 'type': 'gradient'}, interactionConfig={'type': 'intersection', 'config': {'url': 'https://api.resourcewatch.org/v1/query/6ba3b860-5b6a-457f-9364-58e15e71fa20?sql=select st_summarystats(rast, \\'b1\\', false) as x from \\'projects/resource-watch-gee/loc_mcaqf_mexico_city_aq_forecast/O3/loc_mcaqf_mexico_city_aq_forecast_O3_20211211_22\\' where ST_INTERSECTS(ST_SetSRID(ST_GeomFromGeoJSON(\\'{\"type\":\"Point\",\"coordinates\":[{{lng}},{{lat}}]}\\'),4326),the_geom)'}, 'output': [{'column': 'x.b1.mean', 'property': 'Ozone concentration', 'type': 'number', 'format': '0.00', 'prefix': ' ', 'suffix': ' ppb'}]}, applicationConfig={}, staticImageConfig={}, createdAt='2020-04-14T15:01:52.508Z', updatedAt='2021-12-11T17:27:45.243Z'), _url='https://api.resourcewatch.org/v1/dataset/00d6bae1-e105-4165-8230-ee73a8128538/layer/6ba3b860-5b6a-457f-9364-58e15e71fa20')"
      ]
     },
     "metadata": {},
     "output_type": "display_data"
    },
    {
     "name": "stdout",
     "output_type": "stream",
     "text": [
      "cartodb: \n"
     ]
    },
    {
     "data": {
      "text/markdown": [
       "**Layer**: [1993 Electricity Distribution Losses (kWh, billions)](https://api.resourcewatch.org/v1/dataset/a36bf77b-4d10-4855-8ef6-aece72e23971/layer/b9d1b315-efc3-433a-82ad-22e841c34f5a)"
      ],
      "text/plain": [
       "Layer(id=UUID('b9d1b315-efc3-433a-82ad-22e841c34f5a'), type='layer', attributes=LayerAttributes(name='1993 Electricity Distribution Losses (kWh, billions)', description='Electricity distribution losses in billion kilowatthours for 1993', application=['rw'], iso=[], provider='cartodb', type=None, default=False, protected=False, published=True, env='production', layerConfig={'body': {'layers': [{'options': {'cartocss_version': '2.3.0', 'cartocss': '#ene_040_rw0_electricity_distribution_losses_edit {polygon-opacity: 1; line-width: 0.5; line-opacity: 0.8; line-color:#969696;} [yr_data>=100]{polygon-fill: #045a8d;} [yr_data>=40][yr_data<100]{polygon-fill:#2b8cbe;} [yr_data>=10][yr_data<40]{polygon-fill:#74a9cf;} [yr_data>=4][yr_data<0]{polygon-fill:#bdc9e1;} [yr_data<4]{polygon-fill: #f1eef6;}', 'sql': 'SELECT wri.cartodb_id, ST_Transform(wri.the_geom, 3857) AS the_geom_webmercator, wri.name, data.country, data.year, data.yr_data FROM ene_040_rw0_electricity_distribution_losses_edit data LEFT OUTER JOIN wri_countries_a wri ON wri.name ILIKE TRIM(data.country) WHERE data.year = 1993 AND wri.iso_a3 IS NOT NULL AND data.yr_data IS NOT NULL UNION SELECT wri.cartodb_id, ST_Transform(wri.the_geom, 3857) AS the_geom_webmercator, wri.name, data.country, data.year, data.yr_data FROM ene_040_rw0_electricity_distribution_losses_edit data INNER JOIN rw_aliasing_countries aliasing ON TRIM(data.country) ILIKE aliasing.alias INNER JOIN wri_countries_a wri ON wri.iso_a3 = aliasing.iso WHERE data.year = 1993 AND wri.iso_a3 IS NOT NULL AND data.yr_data IS NOT NULL'}, 'type': 'mapnik'}], 'maxzoom': 18, 'vectorLayers': [{'paint': {'fill-color': ['step', ['to-number', ['get', 'yr_data']], '#f1eef6', 4, '#bdc9e1', 10, '#74a9cf', 40, '#2b8cbe', 100, '#045a8d'], 'fill-opacity': 1}, 'source-layer': 'layer0', 'type': 'fill', 'filter': ['all']}, {'paint': {'line-width': 0.5, 'line-color': '#969696', 'line-opacity': 0.8}, 'source-layer': 'layer0', 'type': 'line', 'filter': ['all']}]}, 'account': 'wri-rw', 'timelineLabel': '1993', 'order': 1993, 'timeline': True, 'layerType': 'vector'}, legendConfig={'items': [{'color': '#f1eef6', 'name': '<4', 'id': 0}, {'color': '#bdc9e1', 'name': '<10', 'id': 1}, {'color': '#74a9cf', 'name': '<40', 'id': 2}, {'color': '#2b8cbe', 'name': '<100', 'id': 3}, {'color': '#045a8d', 'name': '≥100', 'id': 4}], 'type': 'choropleth'}, interactionConfig={'output': [{'column': 'year', 'format': None, 'prefix': '', 'property': 'Year', 'suffix': '', 'type': 'number'}, {'column': 'country', 'format': None, 'prefix': '', 'property': 'Country', 'suffix': '', 'type': 'string'}, {'column': 'yr_data', 'format': '0,0.0[0]', 'prefix': '', 'property': 'Electricity Distribution Losses', 'suffix': '  billion kWh', 'type': 'number'}]}, applicationConfig={}, staticImageConfig={}, createdAt='2021-09-20T18:16:56.989Z', updatedAt='2021-09-20T18:16:59.721Z'), _url='https://api.resourcewatch.org/v1/dataset/a36bf77b-4d10-4855-8ef6-aece72e23971/layer/b9d1b315-efc3-433a-82ad-22e841c34f5a')"
      ]
     },
     "metadata": {},
     "output_type": "display_data"
    },
    {
     "data": {
      "text/markdown": [
       "**Layer**: [1994 Electricity Distribution Losses (kWh, billions)](https://api.resourcewatch.org/v1/dataset/a36bf77b-4d10-4855-8ef6-aece72e23971/layer/1a2fb600-95f6-4aaa-b2cc-7d18c4510cd8)"
      ],
      "text/plain": [
       "Layer(id=UUID('1a2fb600-95f6-4aaa-b2cc-7d18c4510cd8'), type='layer', attributes=LayerAttributes(name='1994 Electricity Distribution Losses (kWh, billions)', description='Electricity distribution losses in billion kilowatthours for 1994', application=['rw'], iso=[], provider='cartodb', type=None, default=False, protected=False, published=True, env='production', layerConfig={'body': {'layers': [{'options': {'cartocss_version': '2.3.0', 'cartocss': '#ene_040_rw0_electricity_distribution_losses_edit {polygon-opacity: 1; line-width: 0.5; line-opacity: 0.8; line-color:#969696;} [yr_data>=100]{polygon-fill: #045a8d;} [yr_data>=40][yr_data<100]{polygon-fill:#2b8cbe;} [yr_data>=10][yr_data<40]{polygon-fill:#74a9cf;} [yr_data>=4][yr_data<0]{polygon-fill:#bdc9e1;} [yr_data<4]{polygon-fill: #f1eef6;}', 'sql': 'SELECT wri.cartodb_id, ST_Transform(wri.the_geom, 3857) AS the_geom_webmercator, wri.name, data.country, data.year, data.yr_data FROM ene_040_rw0_electricity_distribution_losses_edit data LEFT OUTER JOIN wri_countries_a wri ON wri.name ILIKE TRIM(data.country) WHERE data.year = 1994 AND wri.iso_a3 IS NOT NULL AND data.yr_data IS NOT NULL UNION SELECT wri.cartodb_id, ST_Transform(wri.the_geom, 3857) AS the_geom_webmercator, wri.name, data.country, data.year, data.yr_data FROM ene_040_rw0_electricity_distribution_losses_edit data INNER JOIN rw_aliasing_countries aliasing ON TRIM(data.country) ILIKE aliasing.alias INNER JOIN wri_countries_a wri ON wri.iso_a3 = aliasing.iso WHERE data.year = 1994 AND wri.iso_a3 IS NOT NULL AND data.yr_data IS NOT NULL'}, 'type': 'mapnik'}], 'maxzoom': 18, 'vectorLayers': [{'paint': {'fill-color': ['step', ['to-number', ['get', 'yr_data']], '#f1eef6', 4, '#bdc9e1', 10, '#74a9cf', 40, '#2b8cbe', 100, '#045a8d'], 'fill-opacity': 1}, 'source-layer': 'layer0', 'type': 'fill', 'filter': ['all']}, {'paint': {'line-width': 0.5, 'line-color': '#969696', 'line-opacity': 0.8}, 'source-layer': 'layer0', 'type': 'line', 'filter': ['all']}]}, 'account': 'wri-rw', 'timelineLabel': '1994', 'order': 1994, 'timeline': True, 'layerType': 'vector'}, legendConfig={'items': [{'color': '#f1eef6', 'name': '<4', 'id': 0}, {'color': '#bdc9e1', 'name': '<10', 'id': 1}, {'color': '#74a9cf', 'name': '<40', 'id': 2}, {'color': '#2b8cbe', 'name': '<100', 'id': 3}, {'color': '#045a8d', 'name': '≥100', 'id': 4}], 'type': 'choropleth'}, interactionConfig={'output': [{'column': 'year', 'format': None, 'prefix': '', 'property': 'Year', 'suffix': '', 'type': 'number'}, {'column': 'country', 'format': None, 'prefix': '', 'property': 'Country', 'suffix': '', 'type': 'string'}, {'column': 'yr_data', 'format': '0,0.0[0]', 'prefix': '', 'property': 'Electricity Distribution Losses', 'suffix': '  billion kWh', 'type': 'number'}]}, applicationConfig={}, staticImageConfig={}, createdAt='2021-09-20T18:17:02.263Z', updatedAt='2021-09-20T18:17:04.862Z'), _url='https://api.resourcewatch.org/v1/dataset/a36bf77b-4d10-4855-8ef6-aece72e23971/layer/1a2fb600-95f6-4aaa-b2cc-7d18c4510cd8')"
      ]
     },
     "metadata": {},
     "output_type": "display_data"
    },
    {
     "data": {
      "text/markdown": [
       "**Layer**: [1995 Electricity Distribution Losses (kWh, billions)](https://api.resourcewatch.org/v1/dataset/a36bf77b-4d10-4855-8ef6-aece72e23971/layer/115ea29a-0dde-4dd8-8c1f-7084c90936f5)"
      ],
      "text/plain": [
       "Layer(id=UUID('115ea29a-0dde-4dd8-8c1f-7084c90936f5'), type='layer', attributes=LayerAttributes(name='1995 Electricity Distribution Losses (kWh, billions)', description='Electricity distribution losses in billion kilowatthours for 1995', application=['rw'], iso=[], provider='cartodb', type=None, default=False, protected=False, published=True, env='production', layerConfig={'body': {'layers': [{'options': {'cartocss_version': '2.3.0', 'cartocss': '#ene_040_rw0_electricity_distribution_losses_edit {polygon-opacity: 1; line-width: 0.5; line-opacity: 0.8; line-color:#969696;} [yr_data>=100]{polygon-fill: #045a8d;} [yr_data>=40][yr_data<100]{polygon-fill:#2b8cbe;} [yr_data>=10][yr_data<40]{polygon-fill:#74a9cf;} [yr_data>=4][yr_data<0]{polygon-fill:#bdc9e1;} [yr_data<4]{polygon-fill: #f1eef6;}', 'sql': 'SELECT wri.cartodb_id, ST_Transform(wri.the_geom, 3857) AS the_geom_webmercator, wri.name, data.country, data.year, data.yr_data FROM ene_040_rw0_electricity_distribution_losses_edit data LEFT OUTER JOIN wri_countries_a wri ON wri.name ILIKE TRIM(data.country) WHERE data.year = 1995 AND wri.iso_a3 IS NOT NULL AND data.yr_data IS NOT NULL UNION SELECT wri.cartodb_id, ST_Transform(wri.the_geom, 3857) AS the_geom_webmercator, wri.name, data.country, data.year, data.yr_data FROM ene_040_rw0_electricity_distribution_losses_edit data INNER JOIN rw_aliasing_countries aliasing ON TRIM(data.country) ILIKE aliasing.alias INNER JOIN wri_countries_a wri ON wri.iso_a3 = aliasing.iso WHERE data.year = 1995 AND wri.iso_a3 IS NOT NULL AND data.yr_data IS NOT NULL'}, 'type': 'mapnik'}], 'maxzoom': 18, 'vectorLayers': [{'paint': {'fill-color': ['step', ['to-number', ['get', 'yr_data']], '#f1eef6', 4, '#bdc9e1', 10, '#74a9cf', 40, '#2b8cbe', 100, '#045a8d'], 'fill-opacity': 1}, 'source-layer': 'layer0', 'type': 'fill', 'filter': ['all']}, {'paint': {'line-width': 0.5, 'line-color': '#969696', 'line-opacity': 0.8}, 'source-layer': 'layer0', 'type': 'line', 'filter': ['all']}]}, 'account': 'wri-rw', 'timelineLabel': '1995', 'order': 1995, 'timeline': True, 'layerType': 'vector'}, legendConfig={'items': [{'color': '#f1eef6', 'name': '<4', 'id': 0}, {'color': '#bdc9e1', 'name': '<10', 'id': 1}, {'color': '#74a9cf', 'name': '<40', 'id': 2}, {'color': '#2b8cbe', 'name': '<100', 'id': 3}, {'color': '#045a8d', 'name': '≥100', 'id': 4}], 'type': 'choropleth'}, interactionConfig={'output': [{'column': 'year', 'format': None, 'prefix': '', 'property': 'Year', 'suffix': '', 'type': 'number'}, {'column': 'country', 'format': None, 'prefix': '', 'property': 'Country', 'suffix': '', 'type': 'string'}, {'column': 'yr_data', 'format': '0,0.0[0]', 'prefix': '', 'property': 'Electricity Distribution Losses', 'suffix': '  billion kWh', 'type': 'number'}]}, applicationConfig={}, staticImageConfig={}, createdAt='2021-09-20T18:17:07.779Z', updatedAt='2021-09-20T18:17:10.338Z'), _url='https://api.resourcewatch.org/v1/dataset/a36bf77b-4d10-4855-8ef6-aece72e23971/layer/115ea29a-0dde-4dd8-8c1f-7084c90936f5')"
      ]
     },
     "metadata": {},
     "output_type": "display_data"
    },
    {
     "data": {
      "text/markdown": [
       "**Layer**: [1996 Electricity Distribution Losses (kWh, billions)](https://api.resourcewatch.org/v1/dataset/a36bf77b-4d10-4855-8ef6-aece72e23971/layer/e7f1da28-0a28-43bd-a7eb-b56c664e7fc7)"
      ],
      "text/plain": [
       "Layer(id=UUID('e7f1da28-0a28-43bd-a7eb-b56c664e7fc7'), type='layer', attributes=LayerAttributes(name='1996 Electricity Distribution Losses (kWh, billions)', description='Electricity distribution losses in billion kilowatthours for 1996', application=['rw'], iso=[], provider='cartodb', type=None, default=False, protected=False, published=True, env='production', layerConfig={'body': {'layers': [{'options': {'cartocss_version': '2.3.0', 'cartocss': '#ene_040_rw0_electricity_distribution_losses_edit {polygon-opacity: 1; line-width: 0.5; line-opacity: 0.8; line-color:#969696;} [yr_data>=100]{polygon-fill: #045a8d;} [yr_data>=40][yr_data<100]{polygon-fill:#2b8cbe;} [yr_data>=10][yr_data<40]{polygon-fill:#74a9cf;} [yr_data>=4][yr_data<0]{polygon-fill:#bdc9e1;} [yr_data<4]{polygon-fill: #f1eef6;}', 'sql': 'SELECT wri.cartodb_id, ST_Transform(wri.the_geom, 3857) AS the_geom_webmercator, wri.name, data.country, data.year, data.yr_data FROM ene_040_rw0_electricity_distribution_losses_edit data LEFT OUTER JOIN wri_countries_a wri ON wri.name ILIKE TRIM(data.country) WHERE data.year = 1996 AND wri.iso_a3 IS NOT NULL AND data.yr_data IS NOT NULL UNION SELECT wri.cartodb_id, ST_Transform(wri.the_geom, 3857) AS the_geom_webmercator, wri.name, data.country, data.year, data.yr_data FROM ene_040_rw0_electricity_distribution_losses_edit data INNER JOIN rw_aliasing_countries aliasing ON TRIM(data.country) ILIKE aliasing.alias INNER JOIN wri_countries_a wri ON wri.iso_a3 = aliasing.iso WHERE data.year = 1996 AND wri.iso_a3 IS NOT NULL AND data.yr_data IS NOT NULL'}, 'type': 'mapnik'}], 'maxzoom': 18, 'vectorLayers': [{'paint': {'fill-color': ['step', ['to-number', ['get', 'yr_data']], '#f1eef6', 4, '#bdc9e1', 10, '#74a9cf', 40, '#2b8cbe', 100, '#045a8d'], 'fill-opacity': 1}, 'source-layer': 'layer0', 'type': 'fill', 'filter': ['all']}, {'paint': {'line-width': 0.5, 'line-color': '#969696', 'line-opacity': 0.8}, 'source-layer': 'layer0', 'type': 'line', 'filter': ['all']}]}, 'account': 'wri-rw', 'timelineLabel': '1996', 'order': 1996, 'timeline': True, 'layerType': 'vector'}, legendConfig={'items': [{'color': '#f1eef6', 'name': '<4', 'id': 0}, {'color': '#bdc9e1', 'name': '<10', 'id': 1}, {'color': '#74a9cf', 'name': '<40', 'id': 2}, {'color': '#2b8cbe', 'name': '<100', 'id': 3}, {'color': '#045a8d', 'name': '≥100', 'id': 4}], 'type': 'choropleth'}, interactionConfig={'output': [{'column': 'year', 'format': None, 'prefix': '', 'property': 'Year', 'suffix': '', 'type': 'number'}, {'column': 'country', 'format': None, 'prefix': '', 'property': 'Country', 'suffix': '', 'type': 'string'}, {'column': 'yr_data', 'format': '0,0.0[0]', 'prefix': '', 'property': 'Electricity Distribution Losses', 'suffix': '  billion kWh', 'type': 'number'}]}, applicationConfig={}, staticImageConfig={}, createdAt='2021-09-20T18:17:13.258Z', updatedAt='2021-09-20T18:17:15.953Z'), _url='https://api.resourcewatch.org/v1/dataset/a36bf77b-4d10-4855-8ef6-aece72e23971/layer/e7f1da28-0a28-43bd-a7eb-b56c664e7fc7')"
      ]
     },
     "metadata": {},
     "output_type": "display_data"
    },
    {
     "data": {
      "text/markdown": [
       "**Layer**: [1997 Electricity Distribution Losses (kWh, billions)](https://api.resourcewatch.org/v1/dataset/a36bf77b-4d10-4855-8ef6-aece72e23971/layer/1e258780-d8a9-44b3-86c4-ed56c34febda)"
      ],
      "text/plain": [
       "Layer(id=UUID('1e258780-d8a9-44b3-86c4-ed56c34febda'), type='layer', attributes=LayerAttributes(name='1997 Electricity Distribution Losses (kWh, billions)', description='Electricity distribution losses in billion kilowatthours for 1997', application=['rw'], iso=[], provider='cartodb', type=None, default=False, protected=False, published=True, env='production', layerConfig={'body': {'layers': [{'options': {'cartocss_version': '2.3.0', 'cartocss': '#ene_040_rw0_electricity_distribution_losses_edit {polygon-opacity: 1; line-width: 0.5; line-opacity: 0.8; line-color:#969696;} [yr_data>=100]{polygon-fill: #045a8d;} [yr_data>=40][yr_data<100]{polygon-fill:#2b8cbe;} [yr_data>=10][yr_data<40]{polygon-fill:#74a9cf;} [yr_data>=4][yr_data<0]{polygon-fill:#bdc9e1;} [yr_data<4]{polygon-fill: #f1eef6;}', 'sql': 'SELECT wri.cartodb_id, ST_Transform(wri.the_geom, 3857) AS the_geom_webmercator, wri.name, data.country, data.year, data.yr_data FROM ene_040_rw0_electricity_distribution_losses_edit data LEFT OUTER JOIN wri_countries_a wri ON wri.name ILIKE TRIM(data.country) WHERE data.year = 1997 AND wri.iso_a3 IS NOT NULL AND data.yr_data IS NOT NULL UNION SELECT wri.cartodb_id, ST_Transform(wri.the_geom, 3857) AS the_geom_webmercator, wri.name, data.country, data.year, data.yr_data FROM ene_040_rw0_electricity_distribution_losses_edit data INNER JOIN rw_aliasing_countries aliasing ON TRIM(data.country) ILIKE aliasing.alias INNER JOIN wri_countries_a wri ON wri.iso_a3 = aliasing.iso WHERE data.year = 1997 AND wri.iso_a3 IS NOT NULL AND data.yr_data IS NOT NULL'}, 'type': 'mapnik'}], 'maxzoom': 18, 'vectorLayers': [{'paint': {'fill-color': ['step', ['to-number', ['get', 'yr_data']], '#f1eef6', 4, '#bdc9e1', 10, '#74a9cf', 40, '#2b8cbe', 100, '#045a8d'], 'fill-opacity': 1}, 'source-layer': 'layer0', 'type': 'fill', 'filter': ['all']}, {'paint': {'line-width': 0.5, 'line-color': '#969696', 'line-opacity': 0.8}, 'source-layer': 'layer0', 'type': 'line', 'filter': ['all']}]}, 'account': 'wri-rw', 'timelineLabel': '1997', 'order': 1997, 'timeline': True, 'layerType': 'vector'}, legendConfig={'items': [{'color': '#f1eef6', 'name': '<4', 'id': 0}, {'color': '#bdc9e1', 'name': '<10', 'id': 1}, {'color': '#74a9cf', 'name': '<40', 'id': 2}, {'color': '#2b8cbe', 'name': '<100', 'id': 3}, {'color': '#045a8d', 'name': '≥100', 'id': 4}], 'type': 'choropleth'}, interactionConfig={'output': [{'column': 'year', 'format': None, 'prefix': '', 'property': 'Year', 'suffix': '', 'type': 'number'}, {'column': 'country', 'format': None, 'prefix': '', 'property': 'Country', 'suffix': '', 'type': 'string'}, {'column': 'yr_data', 'format': '0,0.0[0]', 'prefix': '', 'property': 'Electricity Distribution Losses', 'suffix': '  billion kWh', 'type': 'number'}]}, applicationConfig={}, staticImageConfig={}, createdAt='2021-09-20T18:17:19.684Z', updatedAt='2021-09-20T18:17:22.110Z'), _url='https://api.resourcewatch.org/v1/dataset/a36bf77b-4d10-4855-8ef6-aece72e23971/layer/1e258780-d8a9-44b3-86c4-ed56c34febda')"
      ]
     },
     "metadata": {},
     "output_type": "display_data"
    },
    {
     "name": "stdout",
     "output_type": "stream",
     "text": [
      "leaflet: \n"
     ]
    },
    {
     "data": {
      "text/markdown": [
       "**Layer**: [2003 Landsat Imagery](https://api.resourcewatch.org/v1/dataset/41397376-593d-4bfc-95c2-f18bb9ddaf71/layer/99f2c082-f40d-43b5-ae85-0ee02ba2fe09)"
      ],
      "text/plain": [
       "Layer(id=UUID('99f2c082-f40d-43b5-ae85-0ee02ba2fe09'), type='layer', attributes=LayerAttributes(name='2003 Landsat Imagery', description='Composite of the best Landsat satellite imagery in 2003.', application=['rw'], iso=[], provider='leaflet', type='layer', default=False, protected=False, published=False, env='production', layerConfig={'body': {'maxZoom': 13, 'format': 'image/png'}, 'url': 'http://api.globalforestwatch.org//gee/landsat_composites/{z}/{x}/{y}.png?year=2003', 'service': 'leaflet', 'type': 'tileLayer', 'timeline': True, 'order': 2003, 'timelineLabel': '2003', 'layerType': 'raster'}, legendConfig={}, interactionConfig={'output': []}, applicationConfig={}, staticImageConfig={}, createdAt='2020-02-14T14:05:22.645Z', updatedAt='2020-12-01T22:02:37.141Z'), _url='https://api.resourcewatch.org/v1/dataset/41397376-593d-4bfc-95c2-f18bb9ddaf71/layer/99f2c082-f40d-43b5-ae85-0ee02ba2fe09')"
      ]
     },
     "metadata": {},
     "output_type": "display_data"
    },
    {
     "data": {
      "text/markdown": [
       "**Layer**: [2002 Landsat Imagery](https://api.resourcewatch.org/v1/dataset/41397376-593d-4bfc-95c2-f18bb9ddaf71/layer/3c79e16a-13fd-44f8-bcd7-a466eaa593a6)"
      ],
      "text/plain": [
       "Layer(id=UUID('3c79e16a-13fd-44f8-bcd7-a466eaa593a6'), type='layer', attributes=LayerAttributes(name='2002 Landsat Imagery', description='Composite of the best Landsat satellite imagery in 2002.', application=['rw'], iso=[], provider='leaflet', type='layer', default=False, protected=False, published=False, env='production', layerConfig={'body': {'maxZoom': 13, 'format': 'image/png'}, 'url': 'http://api.globalforestwatch.org//gee/landsat_composites/{z}/{x}/{y}.png?year=2002', 'service': 'leaflet', 'type': 'tileLayer', 'timeline': True, 'order': 2002, 'timelineLabel': '2002', 'layerType': 'raster'}, legendConfig={}, interactionConfig={'output': []}, applicationConfig={}, staticImageConfig={}, createdAt='2020-02-14T14:05:24.168Z', updatedAt='2020-12-01T22:01:51.647Z'), _url='https://api.resourcewatch.org/v1/dataset/41397376-593d-4bfc-95c2-f18bb9ddaf71/layer/3c79e16a-13fd-44f8-bcd7-a466eaa593a6')"
      ]
     },
     "metadata": {},
     "output_type": "display_data"
    },
    {
     "data": {
      "text/markdown": [
       "**Layer**: [2020 Land Cover](https://api.resourcewatch.org/v1/dataset/06e734af-66f0-4c3e-ac71-1b99f3cbfe1d/layer/c97026f5-4c78-4ea9-8636-15b0d5515c0a)"
      ],
      "text/plain": [
       "Layer(id=UUID('c97026f5-4c78-4ea9-8636-15b0d5515c0a'), type='layer', attributes=LayerAttributes(name='2020 Land Cover', description='Global land cover map of 2020 with 10 classes shown. Unknown and ocean classes are not shown.', application=['rw'], iso=[], provider='leaflet', type='layer', default=True, protected=False, published=True, env='production', layerConfig={'body': {'transparent': True, 'attribution': 'UMD', 'maxZoom': 12, 'format': 'image/png'}, 'url': 'https://storage.googleapis.com/lcl_tiles/GLCLU2020/composite2020/{z}/{x}/{y}.png', 'service': 'leaflet', 'type': 'tileLayer', 'layerType': 'raster', 'timelineLabel': '2020', 'order': 2020, 'timeline': True}, legendConfig={'items': [{'color': '#FEFECC', 'name': 'Bare Ground', 'id': 0}, {'color': '#B9B91E', 'name': 'Short Vegetation', 'id': 1}, {'color': '#347834', 'name': 'Forest', 'id': 2}, {'color': '#0D570D', 'name': 'Tall Forest (20m+)', 'id': 3}, {'color': '#88CAAD', 'name': 'Wetland - Short Vegetation', 'id': 4}, {'color': '#589558', 'name': 'Wetland - Forest', 'id': 5}, {'color': '#6baed6', 'name': 'Water', 'id': 6}, {'color': '#acd1e8', 'name': 'Snow/Ice', 'id': 7}, {'color': '#fff183', 'name': 'Cropland', 'id': 8}, {'color': '#e8765d', 'name': 'Built-up Area', 'id': 9}], 'type': 'basic'}, interactionConfig={}, applicationConfig={}, staticImageConfig={}, createdAt='2021-10-25T18:20:18.462Z', updatedAt='2021-11-02T15:18:45.900Z'), _url='https://api.resourcewatch.org/v1/dataset/06e734af-66f0-4c3e-ac71-1b99f3cbfe1d/layer/c97026f5-4c78-4ea9-8636-15b0d5515c0a')"
      ]
     },
     "metadata": {},
     "output_type": "display_data"
    },
    {
     "data": {
      "text/markdown": [
       "**Layer**: [Percent Tree Cover in Mosaic Landscapes [Beta]](https://api.resourcewatch.org/v1/dataset/db84dd39-54e1-4a70-a9fc-ae90809cefa3/layer/c1e97a36-a16e-46de-8705-9b7a1c645f71)"
      ],
      "text/plain": [
       "Layer(id=UUID('c1e97a36-a16e-46de-8705-9b7a1c645f71'), type='layer', attributes=LayerAttributes(name='Percent Tree Cover in Mosaic Landscapes [Beta]', description='Displays tree extent at the ten-meter scale to enable accurate monitoring of trees in urban areas, agricultural lands, and in open canopy and dry forest ecosystems. Note: This dataset is in draft form and is subject to change.', application=['rw'], iso=[], provider='leaflet', type='layer', default=True, protected=False, published=True, env='production', layerConfig={'body': {'transparent': True, 'attribution': 'WRI', 'maxZoom': 14, 'format': 'image/png'}, 'url': 'https://tiles.globalforestwatch.org/wri_trees_in_mosaic_landscapes/v20210930/default/{z}/{x}/{y}.png', 'service': 'leaflet', 'type': 'tileLayer', 'layerType': 'raster'}, legendConfig={'type': 'choropleth', 'items': [{'name': '0-20%', 'color': '#edf8e9', 'id': 0}, {'name': '20-40%', 'color': '#a0d796', 'id': 1}, {'name': '40-60%', 'color': '#68b869', 'id': 2}, {'name': '60-80%', 'color': '#2c8e49', 'id': 3}, {'name': '80-100%', 'color': '#076f2f', 'id': 4}]}, interactionConfig={}, applicationConfig={}, staticImageConfig={}, createdAt='2021-10-14T03:18:43.704Z', updatedAt='2021-10-26T13:57:55.252Z'), _url='https://api.resourcewatch.org/v1/dataset/db84dd39-54e1-4a70-a9fc-ae90809cefa3/layer/c1e97a36-a16e-46de-8705-9b7a1c645f71')"
      ]
     },
     "metadata": {},
     "output_type": "display_data"
    },
    {
     "data": {
      "text/markdown": [
       "**Layer**: [1971-2000 to 2051-2080 Difference in Dry Spells, RCP 8.5 (# of 5-Day Periods Change)](https://api.resourcewatch.org/v1/dataset/5c434a8b-71cc-4841-a80e-49161fb222d3/layer/895973d7-281e-41dc-b7aa-aa79c1a7af70)"
      ],
      "text/plain": [
       "Layer(id=UUID('895973d7-281e-41dc-b7aa-aa79c1a7af70'), type='layer', attributes=LayerAttributes(name='1971-2000 to 2051-2080 Difference in Dry Spells, RCP 8.5 (# of 5-Day Periods Change)', description='The projected change in dry spells in 2051-2080, relative to 1971-2000, under a higher emissions scenario (RCP 8.5). Dry spells represent the annual average count of 5-day periods without precipitation.', application=['rw'], iso=[], provider='leaflet', type=None, default=True, protected=False, published=True, env='production', layerConfig={'type': 'tileLayer', 'service': 'leaflet', 'url': 'https://api.resourcewatch.org/v1/layer/136fa733-e76d-4418-9371-54b94afd92df/tile/nexgddp/{z}/{x}/{y}?year=1971-01-01T00:00:00.000Z&compareYear=2051-01-01T00:00:00.000Z', 'body': {'format': 'image/png', 'maxZoom': 13}, 'id': 'a92b3919-19f2-4431-8c0c-8ddc91ad0168', 'layerType': 'raster'}, legendConfig={'type': 'gradient', 'unit': 'nº 5-day periods change', 'items': [{'color': '#2166ac', 'value': -10}, {'color': '#4393c3', 'value': -5}, {'color': '#92c5de', 'value': -2}, {'color': '#d1e5f0', 'value': 0}, {'color': '#fddbc7', 'value': 2}, {'color': '#f4a582', 'value': 5}, {'color': '#d6604d', 'value': 10}, {'color': '#b2182b', 'value': 15}]}, interactionConfig={'output': []}, applicationConfig={}, staticImageConfig={}, createdAt='2020-02-14T14:05:38.309Z', updatedAt='2020-02-14T14:05:38.309Z'), _url='https://api.resourcewatch.org/v1/dataset/5c434a8b-71cc-4841-a80e-49161fb222d3/layer/895973d7-281e-41dc-b7aa-aa79c1a7af70')"
      ]
     },
     "metadata": {},
     "output_type": "display_data"
    },
    {
     "name": "stdout",
     "output_type": "stream",
     "text": [
      "featureservice: \n"
     ]
    },
    {
     "data": {
      "text/markdown": [
       "**Layer**: [Community Natural Resource Rights](https://api.resourcewatch.org/v1/dataset/163f7cee-2406-4fdc-b91d-91d24c5d5248/layer/42ff0260-7b0f-4fb2-92dd-c4988b5a529a)"
      ],
      "text/plain": [
       "Layer(id=UUID('42ff0260-7b0f-4fb2-92dd-c4988b5a529a'), type='layer', attributes=LayerAttributes(name='Community Natural Resource Rights', description='', application=['rw'], iso=[], provider='featureservice', type='layer', default=True, protected=False, published=True, env='production', layerConfig={'body': {'useCors': True, 'metadata': 'https://services.arcgis.com/hBEMHCkbQdfV906F/ArcGIS/rest/services/CommunityNaturalResourceRights/FeatureServer/info/metadata', 'url': 'https://services.arcgis.com/hBEMHCkbQdfV906F/ArcGIS/rest/services/CommunityNaturalResourceRights/FeatureServer/0'}, 'type': 'featureLayer'}, legendConfig={}, interactionConfig={}, applicationConfig={}, staticImageConfig={}, createdAt='2021-07-09T13:21:20.560Z', updatedAt='2021-07-09T14:44:40.083Z'), _url='https://api.resourcewatch.org/v1/dataset/163f7cee-2406-4fdc-b91d-91d24c5d5248/layer/42ff0260-7b0f-4fb2-92dd-c4988b5a529a')"
      ]
     },
     "metadata": {},
     "output_type": "display_data"
    },
    {
     "data": {
      "text/markdown": [
       "**Layer**: [HOLD](https://api.resourcewatch.org/v1/dataset/3f213928-19fe-488a-ab67-e9a72e50f2a3/layer/26cd1e22-fe24-4d19-ad00-71cdd235a517)"
      ],
      "text/plain": [
       "Layer(id=UUID('26cd1e22-fe24-4d19-ad00-71cdd235a517'), type='layer', attributes=LayerAttributes(name='HOLD', description='HOLD', application=['rw'], iso=[], provider='featureservice', type='layer', default=True, protected=False, published=True, env='production', layerConfig={'body': {'transparent': True, 'attribution': '', 'errorTileUrl': 'https://services.arcgis.com/hBEMHCkbQdfV906F/arcgis/rest/services/CommunityNaturalResourceRights/MapServer/tile/{0}/{0}/{0}', 'maxZoom': 15, 'format': 'image/png'}, 'url': 'https://services.arcgis.com/hBEMHCkbQdfV906F/arcgis/rest/services/CommunityNaturalResourceRights/MapServer/tile/{z}/{y}/{x}', 'type': 'tileLayer', 'layerType': 'raster'}, legendConfig={}, interactionConfig={}, applicationConfig={}, staticImageConfig={}, createdAt='2021-06-04T14:42:19.687Z', updatedAt='2021-07-08T20:31:44.725Z'), _url='https://api.resourcewatch.org/v1/dataset/3f213928-19fe-488a-ab67-e9a72e50f2a3/layer/26cd1e22-fe24-4d19-ad00-71cdd235a517')"
      ]
     },
     "metadata": {},
     "output_type": "display_data"
    },
    {
     "data": {
      "text/markdown": [
       "**Layer**: [Projected Change (2041-2070) in Average Annual Precipitation Lower Emissions](https://api.resourcewatch.org/v1/dataset/ffe316c8-c059-4ed6-a5c9-bc640afe4d0e/layer/1e0931ef-39d3-4d30-ac56-923bf065ab45)"
      ],
      "text/plain": [
       "Layer(id=UUID('1e0931ef-39d3-4d30-ac56-923bf065ab45'), type='layer', attributes=LayerAttributes(name='Projected Change (2041-2070) in Average Annual Precipitation Lower Emissions', description='The NASA Earth Exchange Global Daily Downscaled Projections (NEX-GDDP) dataset is comprised of downscaled climate scenarios for the globe that are derived from the General Circulation Model (GCM) runs conducted under the Coupled Model Intercomparison Project Phase 5 (CMIP5) and across two of the four greenhouse gas emissions scenarios known as Representative Concentration Pathways (RCPs). The CMIP5 GCM runs were developed in support of the Fifth Assessment Report of the Intergovernmental Panel on Climate Change (IPCC AR5). The NEX-GDDP dataset includes downscaled projections for RCP 4.5 and RCP 8.5 from the 21 models and scenarios for which daily scenarios were produced and distributed under CMIP5. Further information on the methodology can be found at https://nex.nasa.gov/nex/static/media/other/NEX-GDDP_Tech_Note_v1_08June2015.pdf.', application=['rw'], iso=[], provider='featureservice', type=None, default=True, protected=False, published=True, env='production', layerConfig={'type': 'dynamicMapLayer', 'body': {'url': 'https://gis-gfw.wri.org/arcgis/rest/services/prep/nex_gddp_indicators/MapServer', 'layers': [0], 'useCors': False}}, legendConfig={'type': 'gradient', 'items': [{'value': '-300', 'color': '#8c510a'}, {'value': '-100', 'color': '#f6e8c3'}, {'value': '100', 'color': '#c7eae5'}, {'value': '300', 'color': '#01665e'}], 'unit': 'mm/yr'}, interactionConfig={}, applicationConfig={}, staticImageConfig={}, createdAt='2017-07-12T13:36:02.497Z', updatedAt='2020-02-13T02:57:10.267Z'), _url='https://api.resourcewatch.org/v1/dataset/ffe316c8-c059-4ed6-a5c9-bc640afe4d0e/layer/1e0931ef-39d3-4d30-ac56-923bf065ab45')"
      ]
     },
     "metadata": {},
     "output_type": "display_data"
    },
    {
     "data": {
      "text/markdown": [
       "**Layer**: [Projected Average Annual Precipitation (2041_2070) Higher Emissions](https://api.resourcewatch.org/v1/dataset/90ff981d-200e-4010-be0e-b7b00768fa50/layer/4de30682-f19e-4d78-a568-5139ce38b376)"
      ],
      "text/plain": [
       "Layer(id=UUID('4de30682-f19e-4d78-a568-5139ce38b376'), type='layer', attributes=LayerAttributes(name='Projected Average Annual Precipitation (2041_2070) Higher Emissions', description='The NASA Earth Exchange Global Daily Downscaled Projections (NEX-GDDP) dataset is comprised of downscaled climate scenarios for the globe that are derived from the General Circulation Model (GCM) runs conducted under the Coupled Model Intercomparison Project Phase 5 (CMIP5) and across two of the four greenhouse gas emissions scenarios known as Representative Concentration Pathways (RCPs). The CMIP5 GCM runs were developed in support of the Fifth Assessment Report of the Intergovernmental Panel on Climate Change (IPCC AR5). The NEX-GDDP dataset includes downscaled projections for RCP 4.5 and RCP 8.5 from the 21 models and scenarios for which daily scenarios were produced and distributed under CMIP5. Further information on the methodology can be found at https://nex.nasa.gov/nex/static/media/other/NEX-GDDP_Tech_Note_v1_08June2015.pdf.', application=['rw'], iso=[], provider='featureservice', type=None, default=True, protected=False, published=True, env='production', layerConfig={'type': 'dynamicMapLayer', 'body': {'url': 'https://gis-gfw.wri.org/arcgis/rest/services/prep/nex_gddp_indicators/MapServer', 'layers': [8], 'useCors': False}}, legendConfig={'type': 'choropleth', 'items': [{'value': '0-200', 'color': '#ffffd9'}, {'value': '400-800', 'color': '#edf8b1'}, {'value': '800-1200', 'color': '#c7e9b4'}, {'value': '1200-1600', 'color': '#7fcdbb'}, {'value': '1600-2000', 'color': '#41b6c4'}, {'value': '2000-2400', 'color': '#1d91c0'}, {'value': '2400-2800', 'color': '#225ea8'}, {'value': '2800-3200', 'color': '#253494'}, {'value': '>3200', 'color': '#081d58'}], 'unit': 'mm/yr'}, interactionConfig={}, applicationConfig={}, staticImageConfig={}, createdAt='2017-07-12T07:57:53.637Z', updatedAt='2020-02-13T02:57:11.954Z'), _url='https://api.resourcewatch.org/v1/dataset/90ff981d-200e-4010-be0e-b7b00768fa50/layer/4de30682-f19e-4d78-a568-5139ce38b376')"
      ]
     },
     "metadata": {},
     "output_type": "display_data"
    },
    {
     "data": {
      "text/markdown": [
       "**Layer**: [Hurricane Tracks (Cat 3_5 Hurricanes Small Scale)](https://api.resourcewatch.org/v1/dataset/303bd52b-020f-4744-87c5-8da38fffd738/layer/a4c7856a-ac31-4b61-9e46-5be586bda386)"
      ],
      "text/plain": [
       "Layer(id=UUID('a4c7856a-ac31-4b61-9e46-5be586bda386'), type='layer', attributes=LayerAttributes(name='Hurricane Tracks (Cat 3_5 Hurricanes Small Scale)', description=None, application=['rw'], iso=['USA'], provider='featureservice', type=None, default=True, protected=False, published=True, env='production', layerConfig={'type': 'dynamicMapLayer', 'body': {'url': 'https://coast.noaa.gov/arcgis/rest/services/Hurricanes/AllHurricanes/MapServer', 'layers': [0], 'useCors': False}}, legendConfig={'type': 'basic', 'items': [{'name': 'H5', 'value': 'H5', 'color': '#6A1ED2', 'lineType': 'dash'}, {'name': 'H4', 'value': 'H4', 'color': '#DC14DC', 'lineType': 'dash'}, {'name': 'H3', 'value': 'H3', 'color': '#FF0000', 'lineType': 'dash'}, {'name': 'H2', 'value': 'H2', 'color': '#FF7B00', 'lineType': 'dash'}, {'name': 'H1', 'value': 'H1', 'color': '#FFE000', 'lineType': 'dash'}, {'name': 'SS; TS', 'value': 'T5', 'color': '#39E41B', 'lineType': 'dash'}, {'name': 'SD; TD', 'value': 'SD', 'color': '#95CEE2', 'lineType': 'dash'}, {'name': 'DS; ET', 'value': 'DS', 'color': '#808080', 'lineType': 'dash'}, {'name': 'MX; N/A', 'value': 'N/A', 'color': '#000000', 'lineType': 'dash'}]}, interactionConfig={}, applicationConfig={}, staticImageConfig={}, createdAt='2017-07-12T13:31:13.573Z', updatedAt='2020-02-13T02:57:14.517Z'), _url='https://api.resourcewatch.org/v1/dataset/303bd52b-020f-4744-87c5-8da38fffd738/layer/a4c7856a-ac31-4b61-9e46-5be586bda386')"
      ]
     },
     "metadata": {},
     "output_type": "display_data"
    },
    {
     "name": "stdout",
     "output_type": "stream",
     "text": [
      "wms: \n"
     ]
    },
    {
     "data": {
      "text/markdown": [
       "**Layer**: [South America try 4](https://api.resourcewatch.org/v1/dataset/33156582-1d90-48d7-9db8-17330cae3afc/layer/db597954-9ec3-4b59-b60d-ac61e6e21ed2)"
      ],
      "text/plain": [
       "Layer(id=UUID('db597954-9ec3-4b59-b60d-ac61e6e21ed2'), type='layer', attributes=LayerAttributes(name='South America try 4', description='', application=['rw'], iso=[], provider='wms', type=None, default=False, protected=False, published=True, env='production', layerConfig={'type': 'wms', 'url': 'http://floodobservatory.colorado.edu/geoserver/DFO_2wk_current_SA/wms?service=WMS&version=1.1.0&request=GetMap', 'body': {'transparent': True, 'format': 'image/png', 'layers': 'DFO_2wk_current_SA:DFO_2wk_current_SA'}}, legendConfig={}, interactionConfig={}, applicationConfig={}, staticImageConfig={}, createdAt='2021-12-13T11:33:49.037Z', updatedAt='2018-02-05T21:53:16.808Z'), _url='https://api.resourcewatch.org/v1/dataset/33156582-1d90-48d7-9db8-17330cae3afc/layer/db597954-9ec3-4b59-b60d-ac61e6e21ed2')"
      ]
     },
     "metadata": {},
     "output_type": "display_data"
    }
   ],
   "source": [
    "testing_layers = []\n",
    "try:\n",
    "    for k,v in providers.items():\n",
    "        print(f'{k}: ')\n",
    "        for ID in v[\"ids\"][:5]:\n",
    "            layer = parse_obj_as(Layer, session.get(f'v1/layer/{ID}').json().get('data'))\n",
    "            display(layer)\n",
    "            copyLayer = layer.copy(deep=True)\n",
    "            copyLayer.attributes.env = 'staging'\n",
    "            testing_layers.append(session.post(f'v1/dataset/{copyLayer.attributes._datasetId}/layer', \n",
    "                                data = copyLayer.attributes.json(exclude_none=True))\\\n",
    "                                .json().get('data').get('id'))\n",
    "except:\n",
    "    pass"
   ]
  },
  {
   "cell_type": "code",
   "execution_count": 15,
   "id": "3c387adb",
   "metadata": {},
   "outputs": [
    {
     "data": {
      "text/plain": [
       "['9cd806aa-8a9f-490b-a039-373ba37867b9',\n",
       " '8049a6b8-d6db-4c20-a618-dc02cb1a3fc1',\n",
       " 'db926aa3-8d41-4f51-bdf8-76f02503f516',\n",
       " '37f33e70-a3e0-4297-b11b-6f806df8a80e',\n",
       " 'ee2b7885-b9de-4a79-9786-7092b04f9f0d',\n",
       " '36b7182f-0121-4315-90d6-3c5e7709f094',\n",
       " '7eff62f0-a556-4fdc-982c-c6f537259f25',\n",
       " 'a5d6989f-7924-44c0-8425-5667161ecf2a',\n",
       " 'eb8ba80d-546b-4bd9-8895-b666a21cc7d4',\n",
       " '4d60a15c-44a2-4c1f-b166-6e6f3b1bccb5',\n",
       " 'f06d1d2a-6aac-4eef-b492-76cbccd28cb2',\n",
       " '45350970-50b1-420e-9e27-7849e86c9e31',\n",
       " '251ce297-b4eb-4e0e-aa1a-16118e52cdf8',\n",
       " '105229af-fa6c-4765-b394-db3ee38767e9',\n",
       " '4f1429cd-f175-42b9-87f7-ede9cfff7a36',\n",
       " 'fe7e5ffb-6ed9-4702-9673-c30a421d0b6f',\n",
       " 'c828cb09-fac6-417a-8bbd-e7e9aba78a52',\n",
       " '03f5b60c-d7af-47b6-bb78-507e261b5c37',\n",
       " '88098435-baec-4063-bc0a-5c57d8855b9d',\n",
       " 'fae5a0cb-c138-4f10-8ee0-2e4e8e1b7b9e']"
      ]
     },
     "execution_count": 15,
     "metadata": {},
     "output_type": "execute_result"
    }
   ],
   "source": [
    "testing_layers"
   ]
  },
  {
   "cell_type": "markdown",
   "id": "5311fc89",
   "metadata": {},
   "source": [
    "#### Start migration on the testing layers"
   ]
  },
  {
   "cell_type": "code",
   "execution_count": 82,
   "id": "1f5bde5b",
   "metadata": {},
   "outputs": [
    {
     "name": "stderr",
     "output_type": "stream",
     "text": [
      "  0%|          | 0/20 [00:00<?, ?it/s]"
     ]
    },
    {
     "name": "stdout",
     "output_type": "stream",
     "text": [
      "yarn install v1.22.17\n",
      "[1/4] Resolving packages...\n",
      "success Already up-to-date.\n",
      "Done in 0.09s.\n"
     ]
    },
    {
     "name": "stderr",
     "output_type": "stream",
     "text": [
      "warning Skipping preferred cache folder \"/home/jovyan/.cache/yarn\" because it is not writable.\n",
      "warning Selected the next writable cache folder in the list, will be \"/tmp/.yarn-cache-1000\".\n",
      "  5%|▌         | 1/20 [00:03<01:05,  3.46s/it]"
     ]
    },
    {
     "name": "stdout",
     "output_type": "stream",
     "text": [
      "yarn install v1.22.17\n",
      "[1/4] Resolving packages...\n",
      "success Already up-to-date.\n",
      "Done in 0.08s.\n"
     ]
    },
    {
     "name": "stderr",
     "output_type": "stream",
     "text": [
      "warning Skipping preferred cache folder \"/home/jovyan/.cache/yarn\" because it is not writable.\n",
      "warning Selected the next writable cache folder in the list, will be \"/tmp/.yarn-cache-1000\".\n",
      " 10%|█         | 2/20 [00:07<01:05,  3.61s/it]"
     ]
    },
    {
     "name": "stdout",
     "output_type": "stream",
     "text": [
      "yarn install v1.22.17\n",
      "[1/4] Resolving packages...\n",
      "success Already up-to-date.\n",
      "Done in 0.09s.\n"
     ]
    },
    {
     "name": "stderr",
     "output_type": "stream",
     "text": [
      "warning Skipping preferred cache folder \"/home/jovyan/.cache/yarn\" because it is not writable.\n",
      "warning Selected the next writable cache folder in the list, will be \"/tmp/.yarn-cache-1000\".\n",
      " 15%|█▌        | 3/20 [00:10<00:59,  3.50s/it]"
     ]
    },
    {
     "name": "stdout",
     "output_type": "stream",
     "text": [
      "yarn install v1.22.17\n",
      "[1/4] Resolving packages...\n",
      "success Already up-to-date.\n",
      "Done in 0.08s.\n"
     ]
    },
    {
     "name": "stderr",
     "output_type": "stream",
     "text": [
      "warning Skipping preferred cache folder \"/home/jovyan/.cache/yarn\" because it is not writable.\n",
      "warning Selected the next writable cache folder in the list, will be \"/tmp/.yarn-cache-1000\".\n",
      " 20%|██        | 4/20 [00:13<00:54,  3.40s/it]"
     ]
    },
    {
     "name": "stdout",
     "output_type": "stream",
     "text": [
      "yarn install v1.22.17\n",
      "[1/4] Resolving packages...\n",
      "success Already up-to-date.\n",
      "Done in 0.08s.\n"
     ]
    },
    {
     "name": "stderr",
     "output_type": "stream",
     "text": [
      "warning Skipping preferred cache folder \"/home/jovyan/.cache/yarn\" because it is not writable.\n",
      "warning Selected the next writable cache folder in the list, will be \"/tmp/.yarn-cache-1000\".\n",
      " 25%|██▌       | 5/20 [00:17<00:51,  3.42s/it]"
     ]
    },
    {
     "name": "stdout",
     "output_type": "stream",
     "text": [
      "yarn install v1.22.17\n",
      "[1/4] Resolving packages...\n",
      "success Already up-to-date.\n",
      "Done in 0.10s.\n"
     ]
    },
    {
     "name": "stderr",
     "output_type": "stream",
     "text": [
      "warning Skipping preferred cache folder \"/home/jovyan/.cache/yarn\" because it is not writable.\n",
      "warning Selected the next writable cache folder in the list, will be \"/tmp/.yarn-cache-1000\".\n",
      " 30%|███       | 6/20 [00:19<00:43,  3.13s/it]"
     ]
    },
    {
     "name": "stdout",
     "output_type": "stream",
     "text": [
      "yarn install v1.22.17\n",
      "[1/4] Resolving packages...\n",
      "success Already up-to-date.\n",
      "Done in 0.08s.\n"
     ]
    },
    {
     "name": "stderr",
     "output_type": "stream",
     "text": [
      "warning Skipping preferred cache folder \"/home/jovyan/.cache/yarn\" because it is not writable.\n",
      "warning Selected the next writable cache folder in the list, will be \"/tmp/.yarn-cache-1000\".\n",
      " 35%|███▌      | 7/20 [00:21<00:34,  2.62s/it]"
     ]
    },
    {
     "name": "stdout",
     "output_type": "stream",
     "text": [
      "yarn install v1.22.17\n",
      "[1/4] Resolving packages...\n",
      "success Already up-to-date.\n",
      "Done in 0.09s.\n"
     ]
    },
    {
     "name": "stderr",
     "output_type": "stream",
     "text": [
      "warning Skipping preferred cache folder \"/home/jovyan/.cache/yarn\" because it is not writable.\n",
      "warning Selected the next writable cache folder in the list, will be \"/tmp/.yarn-cache-1000\".\n",
      " 40%|████      | 8/20 [00:23<00:28,  2.37s/it]"
     ]
    },
    {
     "name": "stdout",
     "output_type": "stream",
     "text": [
      "yarn install v1.22.17\n",
      "[1/4] Resolving packages...\n",
      "success Already up-to-date.\n",
      "Done in 0.08s.\n"
     ]
    },
    {
     "name": "stderr",
     "output_type": "stream",
     "text": [
      "warning Skipping preferred cache folder \"/home/jovyan/.cache/yarn\" because it is not writable.\n",
      "warning Selected the next writable cache folder in the list, will be \"/tmp/.yarn-cache-1000\".\n",
      " 45%|████▌     | 9/20 [00:24<00:23,  2.16s/it]"
     ]
    },
    {
     "name": "stdout",
     "output_type": "stream",
     "text": [
      "yarn install v1.22.17\n",
      "[1/4] Resolving packages...\n",
      "success Already up-to-date.\n",
      "Done in 0.09s.\n"
     ]
    },
    {
     "name": "stderr",
     "output_type": "stream",
     "text": [
      "warning Skipping preferred cache folder \"/home/jovyan/.cache/yarn\" because it is not writable.\n",
      "warning Selected the next writable cache folder in the list, will be \"/tmp/.yarn-cache-1000\".\n",
      " 50%|█████     | 10/20 [00:26<00:20,  2.01s/it]"
     ]
    },
    {
     "name": "stdout",
     "output_type": "stream",
     "text": [
      "yarn install v1.22.17\n",
      "[1/4] Resolving packages...\n",
      "success Already up-to-date.\n",
      "Done in 0.08s.\n"
     ]
    },
    {
     "name": "stderr",
     "output_type": "stream",
     "text": [
      "warning Skipping preferred cache folder \"/home/jovyan/.cache/yarn\" because it is not writable.\n",
      "warning Selected the next writable cache folder in the list, will be \"/tmp/.yarn-cache-1000\".\n",
      " 55%|█████▌    | 11/20 [00:28<00:17,  1.91s/it]"
     ]
    },
    {
     "name": "stdout",
     "output_type": "stream",
     "text": [
      "yarn install v1.22.17\n",
      "[1/4] Resolving packages...\n",
      "success Already up-to-date.\n",
      "Done in 0.09s.\n"
     ]
    },
    {
     "name": "stderr",
     "output_type": "stream",
     "text": [
      "warning Skipping preferred cache folder \"/home/jovyan/.cache/yarn\" because it is not writable.\n",
      "warning Selected the next writable cache folder in the list, will be \"/tmp/.yarn-cache-1000\".\n",
      " 60%|██████    | 12/20 [00:30<00:14,  1.85s/it]"
     ]
    },
    {
     "name": "stdout",
     "output_type": "stream",
     "text": [
      "yarn install v1.22.17\n",
      "[1/4] Resolving packages...\n",
      "success Already up-to-date.\n",
      "Done in 0.08s.\n"
     ]
    },
    {
     "name": "stderr",
     "output_type": "stream",
     "text": [
      "warning Skipping preferred cache folder \"/home/jovyan/.cache/yarn\" because it is not writable.\n",
      "warning Selected the next writable cache folder in the list, will be \"/tmp/.yarn-cache-1000\".\n",
      " 65%|██████▌   | 13/20 [00:31<00:12,  1.73s/it]"
     ]
    },
    {
     "name": "stdout",
     "output_type": "stream",
     "text": [
      "yarn install v1.22.17\n",
      "[1/4] Resolving packages...\n",
      "success Already up-to-date.\n",
      "Done in 0.08s.\n"
     ]
    },
    {
     "name": "stderr",
     "output_type": "stream",
     "text": [
      "warning Skipping preferred cache folder \"/home/jovyan/.cache/yarn\" because it is not writable.\n",
      "warning Selected the next writable cache folder in the list, will be \"/tmp/.yarn-cache-1000\".\n",
      " 70%|███████   | 14/20 [00:33<00:11,  1.92s/it]"
     ]
    },
    {
     "name": "stdout",
     "output_type": "stream",
     "text": [
      "yarn install v1.22.17\n",
      "[1/4] Resolving packages...\n",
      "success Already up-to-date.\n",
      "Done in 0.09s.\n"
     ]
    },
    {
     "name": "stderr",
     "output_type": "stream",
     "text": [
      "warning Skipping preferred cache folder \"/home/jovyan/.cache/yarn\" because it is not writable.\n",
      "warning Selected the next writable cache folder in the list, will be \"/tmp/.yarn-cache-1000\".\n",
      " 75%|███████▌  | 15/20 [00:35<00:09,  1.88s/it]"
     ]
    },
    {
     "name": "stdout",
     "output_type": "stream",
     "text": [
      "yarn install v1.22.17\n",
      "[1/4] Resolving packages...\n",
      "success Already up-to-date.\n",
      "Done in 0.08s.\n"
     ]
    },
    {
     "name": "stderr",
     "output_type": "stream",
     "text": [
      "warning Skipping preferred cache folder \"/home/jovyan/.cache/yarn\" because it is not writable.\n",
      "warning Selected the next writable cache folder in the list, will be \"/tmp/.yarn-cache-1000\".\n",
      " 80%|████████  | 16/20 [00:37<00:07,  1.77s/it]"
     ]
    },
    {
     "name": "stdout",
     "output_type": "stream",
     "text": [
      "yarn install v1.22.17\n",
      "[1/4] Resolving packages...\n",
      "success Already up-to-date.\n",
      "Done in 0.08s.\n"
     ]
    },
    {
     "name": "stderr",
     "output_type": "stream",
     "text": [
      "warning Skipping preferred cache folder \"/home/jovyan/.cache/yarn\" because it is not writable.\n",
      "warning Selected the next writable cache folder in the list, will be \"/tmp/.yarn-cache-1000\".\n",
      " 85%|████████▌ | 17/20 [00:39<00:05,  1.84s/it]"
     ]
    },
    {
     "name": "stdout",
     "output_type": "stream",
     "text": [
      "yarn install v1.22.17\n",
      "[1/4] Resolving packages...\n",
      "success Already up-to-date.\n",
      "Done in 0.08s.\n"
     ]
    },
    {
     "name": "stderr",
     "output_type": "stream",
     "text": [
      "warning Skipping preferred cache folder \"/home/jovyan/.cache/yarn\" because it is not writable.\n",
      "warning Selected the next writable cache folder in the list, will be \"/tmp/.yarn-cache-1000\".\n",
      " 90%|█████████ | 18/20 [00:41<00:03,  1.89s/it]"
     ]
    },
    {
     "name": "stdout",
     "output_type": "stream",
     "text": [
      "yarn install v1.22.17\n",
      "[1/4] Resolving packages...\n",
      "success Already up-to-date.\n",
      "Done in 0.08s.\n"
     ]
    },
    {
     "name": "stderr",
     "output_type": "stream",
     "text": [
      "warning Skipping preferred cache folder \"/home/jovyan/.cache/yarn\" because it is not writable.\n",
      "warning Selected the next writable cache folder in the list, will be \"/tmp/.yarn-cache-1000\".\n",
      " 95%|█████████▌| 19/20 [00:43<00:01,  1.98s/it]"
     ]
    },
    {
     "name": "stdout",
     "output_type": "stream",
     "text": [
      "yarn install v1.22.17\n",
      "[1/4] Resolving packages...\n",
      "success Already up-to-date.\n",
      "Done in 0.08s.\n"
     ]
    },
    {
     "name": "stderr",
     "output_type": "stream",
     "text": [
      "warning Skipping preferred cache folder \"/home/jovyan/.cache/yarn\" because it is not writable.\n",
      "warning Selected the next writable cache folder in the list, will be \"/tmp/.yarn-cache-1000\".\n",
      "100%|██████████| 20/20 [00:45<00:00,  2.27s/it]"
     ]
    },
    {
     "name": "stdout",
     "output_type": "stream",
     "text": [
      "Done! 0 / 20  failed, 0 flagged.\n"
     ]
    },
    {
     "name": "stderr",
     "output_type": "stream",
     "text": [
      "\n"
     ]
    },
    {
     "data": {
      "text/plain": [
       "{'flagged': [],\n",
       " 'failed': [],\n",
       " 'success': ['9cd806aa-8a9f-490b-a039-373ba37867b9',\n",
       "  '8049a6b8-d6db-4c20-a618-dc02cb1a3fc1',\n",
       "  'db926aa3-8d41-4f51-bdf8-76f02503f516',\n",
       "  '37f33e70-a3e0-4297-b11b-6f806df8a80e',\n",
       "  'ee2b7885-b9de-4a79-9786-7092b04f9f0d',\n",
       "  '36b7182f-0121-4315-90d6-3c5e7709f094',\n",
       "  '7eff62f0-a556-4fdc-982c-c6f537259f25',\n",
       "  'a5d6989f-7924-44c0-8425-5667161ecf2a',\n",
       "  'eb8ba80d-546b-4bd9-8895-b666a21cc7d4',\n",
       "  '4d60a15c-44a2-4c1f-b166-6e6f3b1bccb5',\n",
       "  'f06d1d2a-6aac-4eef-b492-76cbccd28cb2',\n",
       "  '45350970-50b1-420e-9e27-7849e86c9e31',\n",
       "  '251ce297-b4eb-4e0e-aa1a-16118e52cdf8',\n",
       "  '105229af-fa6c-4765-b394-db3ee38767e9',\n",
       "  '4f1429cd-f175-42b9-87f7-ede9cfff7a36',\n",
       "  'fe7e5ffb-6ed9-4702-9673-c30a421d0b6f',\n",
       "  'c828cb09-fac6-417a-8bbd-e7e9aba78a52',\n",
       "  '03f5b60c-d7af-47b6-bb78-507e261b5c37',\n",
       "  '88098435-baec-4063-bc0a-5c57d8855b9d',\n",
       "  'fae5a0cb-c138-4f10-8ee0-2e4e8e1b7b9e']}"
      ]
     },
     "execution_count": 82,
     "metadata": {},
     "output_type": "execute_result"
    }
   ],
   "source": [
    "createUpdatelayerSchemas(session, testing_layers)"
   ]
  },
  {
   "cell_type": "markdown",
   "id": "4b62f023",
   "metadata": {},
   "source": [
    "#### Once we are happy with the layer we will proceed to migrate all +5000 of them:"
   ]
  },
  {
   "cell_type": "code",
   "execution_count": null,
   "id": "a99443f8",
   "metadata": {},
   "outputs": [],
   "source": [
    "for k,v in providers:\n",
    "    print(k)\n",
    "    createUpdatelayerSchemas(session, v[\"ids\"])"
   ]
  },
  {
   "cell_type": "markdown",
   "id": "191ea98e",
   "metadata": {},
   "source": [
    "### Aside:\n",
    "##### encode/decode vector tiles for testing data purpouses"
   ]
  },
  {
   "cell_type": "code",
   "execution_count": 49,
   "id": "c85c0571",
   "metadata": {},
   "outputs": [],
   "source": [
    "import mapbox_vector_tile\n",
    "import requests"
   ]
  },
  {
   "cell_type": "code",
   "execution_count": null,
   "id": "dd562559",
   "metadata": {},
   "outputs": [],
   "source": [
    "mapbox_vector_tile.encode([\n",
    "    {\n",
    "        \"name\": \"errorTileSquareLayer\",\n",
    "        \"features\": [{ \"geometry\":\"POLYGON ((0 0, 0 4096, 4096 4096, 4096 0, 0 0))\" }]\n",
    "    },\n",
    "    {\n",
    "        \"name\": \"errorTileStripesLayer\",\n",
    "        \"features\": [{ \"geometry\":\"POLYGON ((0 0, 0 4096, 4096 4096, 4096 0, 0 0))\" }]\n",
    "    }\n",
    "])"
   ]
  },
  {
   "cell_type": "code",
   "execution_count": 51,
   "id": "d92783bd",
   "metadata": {},
   "outputs": [
    {
     "data": {
      "text/plain": [
       "{'layer0': {'extent': 4096,\n",
       "  'version': 2,\n",
       "  'features': [{'geometry': {'type': 'Polygon',\n",
       "     'coordinates': [[[3978, 3191],\n",
       "       [4063, 3320],\n",
       "       [4232, 3320],\n",
       "       [4316, 3191],\n",
       "       [4232, 3061],\n",
       "       [4063, 3061],\n",
       "       [3978, 3191]]]},\n",
       "    'properties': {'puGeomId': '337a2b08-3fdc-46ea-9580-2ac5ee93b5c8',\n",
       "     'scenarioPuId': '6424c619-6ccf-454b-ae50-bccf0c6645de',\n",
       "     'puid': 27,\n",
       "     'parseKeys': 'valuePosition,featureList',\n",
       "     'costValue': 1.0},\n",
       "    'id': 0,\n",
       "    'type': 3},\n",
       "   {'geometry': {'type': 'Polygon',\n",
       "     'coordinates': [[[3978, 2930],\n",
       "       [4063, 3061],\n",
       "       [4232, 3061],\n",
       "       [4316, 2930],\n",
       "       [4232, 2800],\n",
       "       [4063, 2800],\n",
       "       [3978, 2930]]]},\n",
       "    'properties': {'puGeomId': '12a227a2-e017-4335-afae-cfba9d381442',\n",
       "     'scenarioPuId': '6f962395-48aa-492c-9ef8-d971b86259e2',\n",
       "     'puid': 29,\n",
       "     'parseKeys': 'valuePosition,featureList',\n",
       "     'costValue': 1.0},\n",
       "    'id': 0,\n",
       "    'type': 3},\n",
       "   {'geometry': {'type': 'Polygon',\n",
       "     'coordinates': [[[3978, 3191],\n",
       "       [4063, 3320],\n",
       "       [4232, 3320],\n",
       "       [4316, 3191],\n",
       "       [4232, 3061],\n",
       "       [4063, 3061],\n",
       "       [3978, 3191]]]},\n",
       "    'properties': {'puGeomId': '7156f4e7-781b-4dc2-8427-3168f511af3b',\n",
       "     'scenarioPuId': '99806761-0e33-41b5-9d6c-647b2eb09d2d',\n",
       "     'puid': 30,\n",
       "     'parseKeys': 'valuePosition,featureList',\n",
       "     'costValue': 1.0},\n",
       "    'id': 0,\n",
       "    'type': 3},\n",
       "   {'geometry': {'type': 'Polygon',\n",
       "     'coordinates': [[[3978, 2930],\n",
       "       [4063, 3061],\n",
       "       [4232, 3061],\n",
       "       [4316, 2930],\n",
       "       [4232, 2800],\n",
       "       [4063, 2800],\n",
       "       [3978, 2930]]]},\n",
       "    'properties': {'puGeomId': '4f393c68-e2af-4bb9-9d58-d8add7f18406',\n",
       "     'scenarioPuId': '9aef7af1-49f6-4cfb-9169-f0be07c7a715',\n",
       "     'puid': 26,\n",
       "     'parseKeys': 'valuePosition,featureList',\n",
       "     'costValue': 1.0},\n",
       "    'id': 0,\n",
       "    'type': 3},\n",
       "   {'geometry': {'type': 'Polygon',\n",
       "     'coordinates': [[[3978, 3707],\n",
       "       [4063, 3836],\n",
       "       [4232, 3836],\n",
       "       [4316, 3707],\n",
       "       [4232, 3579],\n",
       "       [4063, 3579],\n",
       "       [3978, 3707]]]},\n",
       "    'properties': {'puGeomId': '37f8277a-cfaf-4c1b-8994-508ac6117ee4',\n",
       "     'scenarioPuId': 'ae424f7e-fc36-40b7-a94d-5c0318655b94',\n",
       "     'puid': 28,\n",
       "     'parseKeys': 'valuePosition,featureList',\n",
       "     'costValue': 1.0},\n",
       "    'id': 0,\n",
       "    'type': 3},\n",
       "   {'geometry': {'type': 'Polygon',\n",
       "     'coordinates': [[[3978, 3707],\n",
       "       [4063, 3836],\n",
       "       [4232, 3836],\n",
       "       [4316, 3707],\n",
       "       [4232, 3579],\n",
       "       [4063, 3579],\n",
       "       [3978, 3707]]]},\n",
       "    'properties': {'puGeomId': '2f7cf5ae-a3fa-4f49-8073-4ca8ac837666',\n",
       "     'scenarioPuId': 'c11a1425-ab33-4af8-879c-702634476ddf',\n",
       "     'puid': 31,\n",
       "     'parseKeys': 'valuePosition,featureList',\n",
       "     'costValue': 1.0},\n",
       "    'id': 0,\n",
       "    'type': 3}]}}"
      ]
     },
     "execution_count": 51,
     "metadata": {},
     "output_type": "execute_result"
    }
   ],
   "source": [
    "response = requests.get('<url>')\n",
    "mapbox_vector_tile.decode(response.content)"
   ]
  }
 ],
 "metadata": {
  "kernelspec": {
   "display_name": "Python 3 (ipykernel)",
   "language": "python",
   "name": "python3"
  },
  "language_info": {
   "codemirror_mode": {
    "name": "ipython",
    "version": 3
   },
   "file_extension": ".py",
   "mimetype": "text/x-python",
   "name": "python",
   "nbconvert_exporter": "python",
   "pygments_lexer": "ipython3",
   "version": "3.8.12"
  }
 },
 "nbformat": 4,
 "nbformat_minor": 5
}
