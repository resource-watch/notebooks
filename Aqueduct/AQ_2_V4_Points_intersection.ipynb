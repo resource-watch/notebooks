{
 "cells": [
  {
   "cell_type": "code",
   "execution_count": 2,
   "metadata": {
    "ExecuteTime": {
     "end_time": "2019-09-17T11:01:11.846332Z",
     "start_time": "2019-09-17T11:01:11.796971Z"
    }
   },
   "outputs": [],
   "source": [
    "import requests\n",
    "import numpy as np\n",
    "import pandas as pd\n",
    "import getpass"
   ]
  },
  {
   "cell_type": "code",
   "execution_count": 3,
   "metadata": {},
   "outputs": [
    {
     "name": "stdout",
     "output_type": "stream",
     "text": [
      "carto token id:········\n"
     ]
    }
   ],
   "source": [
    "apiKey = getpass.getpass('carto token id:')"
   ]
  },
  {
   "cell_type": "code",
   "execution_count": 8,
   "metadata": {},
   "outputs": [],
   "source": [
    "cartoUrl=\"https://wri-rw.carto.com/api/v2/sql\"\n",
    "def get_carto(sql):\n",
    "    payload = {'q': sql,\n",
    "              'api_key':apiKey}\n",
    "    r = requests.post(cartoUrl, data=payload, headers= {'api_key':apiKey})\n",
    "    print(r.headers)\n",
    "    return r.json()"
   ]
  },
  {
   "cell_type": "code",
   "execution_count": 9,
   "metadata": {},
   "outputs": [],
   "source": [
    "def randomLocations(n):\n",
    "    t = 64*(np.random.rand(n,2))\n",
    "    example1=[]\n",
    "    for point in t:\n",
    "        example1.append(\"\\'POINT({0[0]} {0[1]})\\'\".format(point))\n",
    "    return ['[{0}]'.format(', '.join(example1)), '[{0}]'.format(', '.join([\"'lol'\"] * n)), '[{0}]'.format(', '.join([\"'lol'\"] * n)), '[{0}]'.format(', '.join([\"'lol'\"] * n))]"
   ]
  },
  {
   "cell_type": "code",
   "execution_count": 11,
   "metadata": {
    "code_folding": [],
    "scrolled": false
   },
   "outputs": [
    {
     "name": "stdout",
     "output_type": "stream",
     "text": [
      "{'Date': 'Fri, 04 Oct 2019 09:17:06 GMT', 'Content-Type': 'application/json; charset=utf-8', 'Transfer-Encoding': 'chunked', 'Connection': 'keep-alive', 'Vary': 'Accept-Encoding, Authorization', 'Access-Control-Allow-Origin': '*', 'Access-Control-Allow-Headers': 'X-Requested-With, X-Prototype-Version, X-CSRF-Token, Authorization', 'Access-Control-Expose-Headers': 'Carto-Rate-Limit-Limit, Carto-Rate-Limit-Remaining, Carto-Rate-Limit-Reset, Retry-After', 'Carto-Rate-Limit-Limit': '81', 'Carto-Rate-Limit-Remaining': '80', 'Carto-Rate-Limit-Reset': '0', 'X-SQLAPI-Log': '{\"request\":{\"sql\":{\"type\":\"query\",\"sql\":\" with r as  SELECT unnest Array  POINT 54 085142886177714 63 55394446821241     POINT 26 838042244153797 46 03881906949353     POINT 60 79548664522468 6 733249650369039     POINT 43 25553342425745 33 402912843789174     POINT 16 52658182894347 32 035115189759395     POINT 32 1072486757363 52 16133855605716     POINT 38 731010535316365 31 988350388996174     POINT 48 24285580413237 1 353989608991455     POINT 1 569390449929763 6 457661774693506     POINT 55 12277205244668 14 31896635946184     POINT 8 155357\"}}}', 'Cache-Control': 'no-cache,max-age=31536000,must-revalidate,public', 'Surrogate-Key': 't:3D5Wlw t:5Pz/I6 t:82h1Cl t:nK174Q t:yyrKu5', 'Last-Modified': 'Fri, 10 May 2019 11:47:47 GMT', 'Content-Disposition': 'inline; filename=cartodb-query.json; modification-date=\"Fri, 04 Oct 2019 09:16:50 GMT\";', 'X-SQLAPI-Profiler': '{\"authorization\":2,\"getConnectionParams\":1,\"queryExplain\":213,\"init\":2,\"eventedQuery\":3,\"beforeSink\":15560,\"total\":15781}', 'Content-Encoding': 'gzip'}\n",
      "(15685, 271)\n",
      "38.811\n"
     ]
    }
   ],
   "source": [
    "test = \"\"\"\n",
    "with r as (SELECT unnest(Array{0[0]}) as points,\n",
    "                  unnest(Array{0[1]}) as location_name,\n",
    "                  unnest(Array{0[2]}) as input_address,\n",
    "                  unnest(Array{0[3]}) as match_address),\n",
    "points as (SELECT row_number() over () as points_id, location_name, input_address, match_address, st_setsrid(st_geomfromtext(points),4326) as the_geom      FROM r) SELECT points.points_id::int, points.location_name::text, points.input_address::text, points.match_address::text, ST_y(points.the_geom)::numeric as latitude, ST_x(points.the_geom)::numeric as longitude,  hn.maj_name::text as major_basin_name,  hn.sub_name::text as minor_basin_name, aq.major_aquifer_system_name::text as aquifer_name, rn.string_id::text, rn.aq30_id::numeric, rn.pfaf_id::numeric, rn.gid_1::text, rn.aqid::numeric, rn.gid_0::text, w.name_0::text, w.name_1::text, rn.area_km2::numeric, rn.bws_raw::numeric, rn.bws_score::numeric, rn.bws_cat::numeric, rn.bws_label::text, rn.bwd_raw::numeric, rn.bwd_score::numeric, rn.bwd_cat::numeric, rn.bwd_label::text, rn.iav_raw::numeric, rn.iav_score::numeric, rn.iav_cat::numeric, rn.iav_label::text, rn.sev_raw::numeric, rn.sev_score::numeric, rn.sev_cat::numeric, rn.sev_label::text, rn.gtd_raw::numeric, rn.gtd_score::numeric, rn.gtd_cat::numeric, rn.gtd_label::text, rn.rfr_raw::numeric, rn.rfr_score::numeric, rn.rfr_cat::numeric, rn.rfr_label::text, rn.cfr_raw::numeric, rn.cfr_score::numeric, rn.cfr_cat::numeric, rn.cfr_label::text, rn.drr_raw::numeric, rn.drr_score::numeric, rn.drr_cat::numeric, rn.drr_label::text, rn.ucw_raw::numeric, rn.ucw_score::numeric, rn.ucw_cat::numeric, rn.ucw_label::text, rn.cep_raw::numeric, rn.cep_score::numeric, rn.cep_cat::numeric, rn.cep_label::text, rn.udw_raw::numeric, rn.udw_score::numeric, rn.udw_cat::numeric, rn.udw_label::text, rn.usa_raw::numeric, rn.usa_score::numeric, rn.usa_cat::numeric, rn.usa_label::text, rn.rri_raw::numeric, rn.rri_score::numeric, rn.rri_cat::numeric, rn.rri_label::text, rn.w_awr_def_qan_raw::numeric, rn.w_awr_def_qan_score::numeric, rn.w_awr_def_qan_cat::numeric, rn.w_awr_def_qan_label::text, rn.w_awr_def_qan_weight_fraction::numeric, rn.w_awr_def_qal_raw::numeric, rn.w_awr_def_qal_score::numeric, rn.w_awr_def_qal_cat::numeric, rn.w_awr_def_qal_label::text, rn.w_awr_def_qal_weight_fraction::numeric, rn.w_awr_def_rrr_raw::numeric, rn.w_awr_def_rrr_score::numeric, rn.w_awr_def_rrr_cat::numeric, rn.w_awr_def_rrr_label::text, rn.w_awr_def_rrr_weight_fraction::numeric, rn.w_awr_def_tot_raw::numeric, rn.w_awr_def_tot_score::numeric, rn.w_awr_def_tot_cat::numeric, rn.w_awr_def_tot_label::text, rn.w_awr_def_tot_weight_fraction::numeric, rn.w_awr_agr_qan_raw::numeric, rn.w_awr_agr_qan_score::numeric, rn.w_awr_agr_qan_cat::numeric, rn.w_awr_agr_qan_label::text, rn.w_awr_agr_qan_weight_fraction::numeric, rn.w_awr_agr_qal_raw::numeric, rn.w_awr_agr_qal_score::numeric, rn.w_awr_agr_qal_cat::numeric, rn.w_awr_agr_qal_label::text, rn.w_awr_agr_qal_weight_fraction::numeric, rn.w_awr_agr_rrr_raw::numeric, rn.w_awr_agr_rrr_score::numeric, rn.w_awr_agr_rrr_cat::numeric, rn.w_awr_agr_rrr_label::text, rn.w_awr_agr_rrr_weight_fraction::numeric, rn.w_awr_agr_tot_raw::numeric, rn.w_awr_agr_tot_score::numeric, rn.w_awr_agr_tot_cat::numeric, rn.w_awr_agr_tot_label::text, rn.w_awr_agr_tot_weight_fraction::numeric, rn.w_awr_che_qan_raw::numeric, rn.w_awr_che_qan_score::numeric, rn.w_awr_che_qan_cat::numeric, rn.w_awr_che_qan_label::text, rn.w_awr_che_qan_weight_fraction::numeric, rn.w_awr_che_qal_raw::numeric, rn.w_awr_che_qal_score::numeric, rn.w_awr_che_qal_cat::numeric, rn.w_awr_che_qal_label::text, rn.w_awr_che_qal_weight_fraction::numeric, rn.w_awr_che_rrr_raw::numeric, rn.w_awr_che_rrr_score::numeric, rn.w_awr_che_rrr_cat::numeric, rn.w_awr_che_rrr_label::text, rn.w_awr_che_rrr_weight_fraction::numeric, rn.w_awr_che_tot_raw::numeric, rn.w_awr_che_tot_score::numeric, rn.w_awr_che_tot_cat::numeric, rn.w_awr_che_tot_label::text, rn.w_awr_che_tot_weight_fraction::numeric, rn.w_awr_con_qan_raw::numeric, rn.w_awr_con_qan_score::numeric, rn.w_awr_con_qan_cat::numeric, rn.w_awr_con_qan_label::text, rn.w_awr_con_qan_weight_fraction::numeric, rn.w_awr_con_qal_raw::numeric, rn.w_awr_con_qal_score::numeric, rn.w_awr_con_qal_cat::numeric, rn.w_awr_con_qal_label::text, rn.w_awr_con_qal_weight_fraction::numeric, rn.w_awr_con_rrr_raw::numeric, rn.w_awr_con_rrr_score::numeric, rn.w_awr_con_rrr_cat::numeric, rn.w_awr_con_rrr_label::text, rn.w_awr_con_rrr_weight_fraction::numeric, rn.w_awr_con_tot_raw::numeric, rn.w_awr_con_tot_score::numeric, rn.w_awr_con_tot_cat::numeric, rn.w_awr_con_tot_label::text, rn.w_awr_con_tot_weight_fraction::numeric, rn.w_awr_elp_qan_raw::numeric, rn.w_awr_elp_qan_score::numeric, rn.w_awr_elp_qan_cat::numeric, rn.w_awr_elp_qan_label::text, rn.w_awr_elp_qan_weight_fraction::numeric, rn.w_awr_elp_qal_raw::numeric, rn.w_awr_elp_qal_score::numeric, rn.w_awr_elp_qal_cat::numeric, rn.w_awr_elp_qal_label::text, rn.w_awr_elp_qal_weight_fraction::numeric, rn.w_awr_elp_rrr_raw::numeric, rn.w_awr_elp_rrr_score::numeric, rn.w_awr_elp_rrr_cat::numeric, rn.w_awr_elp_rrr_label::text, rn.w_awr_elp_rrr_weight_fraction::numeric, rn.w_awr_elp_tot_raw::numeric, rn.w_awr_elp_tot_score::numeric, rn.w_awr_elp_tot_cat::numeric, rn.w_awr_elp_tot_label::text, rn.w_awr_elp_tot_weight_fraction::numeric, rn.w_awr_fnb_qan_raw::numeric, rn.w_awr_fnb_qan_score::numeric, rn.w_awr_fnb_qan_cat::numeric, rn.w_awr_fnb_qan_label::text, rn.w_awr_fnb_qan_weight_fraction::numeric, rn.w_awr_fnb_qal_raw::numeric, rn.w_awr_fnb_qal_score::numeric, rn.w_awr_fnb_qal_cat::numeric, rn.w_awr_fnb_qal_label::text, rn.w_awr_fnb_qal_weight_fraction::numeric, rn.w_awr_fnb_rrr_raw::numeric, rn.w_awr_fnb_rrr_score::numeric, rn.w_awr_fnb_rrr_cat::numeric, rn.w_awr_fnb_rrr_label::text, rn.w_awr_fnb_rrr_weight_fraction::numeric, rn.w_awr_fnb_tot_raw::numeric, rn.w_awr_fnb_tot_score::numeric, rn.w_awr_fnb_tot_cat::numeric, rn.w_awr_fnb_tot_label::text, rn.w_awr_fnb_tot_weight_fraction::numeric, rn.w_awr_min_qan_raw::numeric, rn.w_awr_min_qan_score::numeric, rn.w_awr_min_qan_cat::numeric, rn.w_awr_min_qan_label::text, rn.w_awr_min_qan_weight_fraction::numeric, rn.w_awr_min_qal_raw::numeric, rn.w_awr_min_qal_score::numeric, rn.w_awr_min_qal_cat::numeric, rn.w_awr_min_qal_label::text, rn.w_awr_min_qal_weight_fraction::numeric, rn.w_awr_min_rrr_raw::numeric, rn.w_awr_min_rrr_score::numeric, rn.w_awr_min_rrr_cat::numeric, rn.w_awr_min_rrr_label::text, rn.w_awr_min_rrr_weight_fraction::numeric, rn.w_awr_min_tot_raw::numeric, rn.w_awr_min_tot_score::numeric, rn.w_awr_min_tot_cat::numeric, rn.w_awr_min_tot_label::text, rn.w_awr_min_tot_weight_fraction::numeric, rn.w_awr_ong_qan_raw::numeric, rn.w_awr_ong_qan_score::numeric, rn.w_awr_ong_qan_cat::numeric, rn.w_awr_ong_qan_label::text, rn.w_awr_ong_qan_weight_fraction::numeric, rn.w_awr_ong_qal_raw::numeric, rn.w_awr_ong_qal_score::numeric, rn.w_awr_ong_qal_cat::numeric, rn.w_awr_ong_qal_label::text, rn.w_awr_ong_qal_weight_fraction::numeric, rn.w_awr_ong_rrr_raw::numeric, rn.w_awr_ong_rrr_score::numeric, rn.w_awr_ong_rrr_cat::numeric, rn.w_awr_ong_rrr_label::text, rn.w_awr_ong_rrr_weight_fraction::numeric, rn.w_awr_ong_tot_raw::numeric, rn.w_awr_ong_tot_score::numeric, rn.w_awr_ong_tot_cat::numeric, rn.w_awr_ong_tot_label::text, rn.w_awr_ong_tot_weight_fraction::numeric, rn.w_awr_smc_qan_raw::numeric, rn.w_awr_smc_qan_score::numeric, rn.w_awr_smc_qan_cat::numeric, rn.w_awr_smc_qan_label::text, rn.w_awr_smc_qan_weight_fraction::numeric, rn.w_awr_smc_qal_raw::numeric, rn.w_awr_smc_qal_score::numeric, rn.w_awr_smc_qal_cat::numeric, rn.w_awr_smc_qal_label::text, rn.w_awr_smc_qal_weight_fraction::numeric, rn.w_awr_smc_rrr_raw::numeric, rn.w_awr_smc_rrr_score::numeric, rn.w_awr_smc_rrr_cat::numeric, rn.w_awr_smc_rrr_label::text, rn.w_awr_smc_rrr_weight_fraction::numeric, rn.w_awr_smc_tot_raw::numeric, rn.w_awr_smc_tot_score::numeric, rn.w_awr_smc_tot_cat::numeric, rn.w_awr_smc_tot_label::text, rn.w_awr_smc_tot_weight_fraction::numeric, rn.w_awr_tex_qan_raw::numeric, rn.w_awr_tex_qan_score::numeric, rn.w_awr_tex_qan_cat::numeric, rn.w_awr_tex_qan_label::text, rn.w_awr_tex_qan_weight_fraction::numeric, rn.w_awr_tex_qal_raw::numeric, rn.w_awr_tex_qal_score::numeric, rn.w_awr_tex_qal_cat::numeric, rn.w_awr_tex_qal_label::text, rn.w_awr_tex_qal_weight_fraction::numeric, rn.w_awr_tex_rrr_raw::numeric, rn.w_awr_tex_rrr_score::numeric, rn.w_awr_tex_rrr_cat::numeric, rn.w_awr_tex_rrr_label::text, rn.w_awr_tex_rrr_weight_fraction::numeric, rn.w_awr_tex_tot_raw::numeric, rn.w_awr_tex_tot_score::numeric, rn.w_awr_tex_tot_cat::numeric, rn.w_awr_tex_tot_label::text, rn.w_awr_tex_tot_weight_fraction::numeric, points.the_geom::geometry     FROM  points     LEFT JOIN y2018m12d06_rh_master_shape_v01 g on  st_intersects(g.the_geom , points.the_geom)     LEFT JOIN hydrobasins_fao_fiona_merged_v01 hn on st_intersects(points.the_geom , hn.the_geom)     LEFT JOIN aquifer_names_simple_v01 aq on st_intersects(aq.the_geom , points.the_geom)     LEFT JOIN water_risk_indicators_annual_all rn on (rn.aq30_id=g.aq30_id)     LEFT JOIN gadm_wri w on (rn.gid_1=w.gid_1)           \n",
    "\"\"\".format(randomLocations(20000))\n",
    "\n",
    "data = get_carto(test)\n",
    "if 'rows' in data:\n",
    "    result = pd.DataFrame(data['rows'])\n",
    "    result.dropna(subset=['string_id'], inplace=True)\n",
    "    print(result.shape)\n",
    "    print(data['time'])\n",
    "else:\n",
    "    print(data)"
   ]
  },
  {
   "cell_type": "markdown",
   "metadata": {},
   "source": [
    "**Create a function**\n",
    "\n",
    "We create a function in carto to deal with all this operations.\n",
    "\n",
    "```sql\n",
    "DROP FUNCTION get_aqpoints_annual_test(points_array TEXT, locations_array TEXT, input_address_array TEXT, match_address_array TEXT);\n",
    "\n",
    "DROP TYPE point_intersection_annual_test;\n",
    "\n",
    "CREATE TYPE point_intersection_annual_test AS (points_id int,location_name text, input_address text, match_address text, latitude numeric, longitude numeric,  major_basin_name text,  minor_basin_name text, aquifer_name text, string_id text, aq30_id numeric, pfaf_id numeric, gid_1 text, aqid numeric, gid_0 text, name_0 text, name_1 text, area_km2 numeric, bws_raw numeric, bws_score numeric, bws_cat numeric, bws_label text, bwd_raw numeric, bwd_score numeric, bwd_cat numeric, bwd_label text, iav_raw numeric, iav_score numeric, iav_cat numeric, iav_label text, sev_raw numeric, sev_score numeric, sev_cat numeric, sev_label text, gtd_raw numeric, gtd_score numeric, gtd_cat numeric, gtd_label text, rfr_raw numeric, rfr_score numeric, rfr_cat numeric, rfr_label text, cfr_raw numeric, cfr_score numeric, cfr_cat numeric, cfr_label text, drr_raw numeric, drr_score numeric, drr_cat numeric, drr_label text, ucw_raw numeric, ucw_score numeric, ucw_cat numeric, ucw_label text, cep_raw numeric, cep_score numeric, cep_cat numeric, cep_label text, udw_raw numeric, udw_score numeric, udw_cat numeric, udw_label text, usa_raw numeric, usa_score numeric, usa_cat numeric, usa_label text, rri_raw numeric, rri_score numeric, rri_cat numeric, rri_label text, w_awr_def_qan_raw numeric, w_awr_def_qan_score numeric, w_awr_def_qan_cat numeric, w_awr_def_qan_label text, w_awr_def_qan_weight_fraction numeric, w_awr_def_qal_raw numeric, w_awr_def_qal_score numeric, w_awr_def_qal_cat numeric, w_awr_def_qal_label text, w_awr_def_qal_weight_fraction numeric, w_awr_def_rrr_raw numeric, w_awr_def_rrr_score numeric, w_awr_def_rrr_cat numeric, w_awr_def_rrr_label text, w_awr_def_rrr_weight_fraction numeric, w_awr_def_tot_raw numeric, w_awr_def_tot_score numeric, w_awr_def_tot_cat numeric, w_awr_def_tot_label text, w_awr_def_tot_weight_fraction numeric, w_awr_agr_qan_raw numeric, w_awr_agr_qan_score numeric, w_awr_agr_qan_cat numeric, w_awr_agr_qan_label text, w_awr_agr_qan_weight_fraction numeric, w_awr_agr_qal_raw numeric, w_awr_agr_qal_score numeric, w_awr_agr_qal_cat numeric, w_awr_agr_qal_label text, w_awr_agr_qal_weight_fraction numeric, w_awr_agr_rrr_raw numeric, w_awr_agr_rrr_score numeric, w_awr_agr_rrr_cat numeric, w_awr_agr_rrr_label text, w_awr_agr_rrr_weight_fraction numeric, w_awr_agr_tot_raw numeric, w_awr_agr_tot_score numeric, w_awr_agr_tot_cat numeric, w_awr_agr_tot_label text, w_awr_agr_tot_weight_fraction numeric, w_awr_che_qan_raw numeric, w_awr_che_qan_score numeric, w_awr_che_qan_cat numeric, w_awr_che_qan_label text, w_awr_che_qan_weight_fraction numeric, w_awr_che_qal_raw numeric, w_awr_che_qal_score numeric, w_awr_che_qal_cat numeric, w_awr_che_qal_label text, w_awr_che_qal_weight_fraction numeric, w_awr_che_rrr_raw numeric, w_awr_che_rrr_score numeric, w_awr_che_rrr_cat numeric, w_awr_che_rrr_label text, w_awr_che_rrr_weight_fraction numeric, w_awr_che_tot_raw numeric, w_awr_che_tot_score numeric, w_awr_che_tot_cat numeric, w_awr_che_tot_label text, w_awr_che_tot_weight_fraction numeric, w_awr_con_qan_raw numeric, w_awr_con_qan_score numeric, w_awr_con_qan_cat numeric, w_awr_con_qan_label text, w_awr_con_qan_weight_fraction numeric, w_awr_con_qal_raw numeric, w_awr_con_qal_score numeric, w_awr_con_qal_cat numeric, w_awr_con_qal_label text, w_awr_con_qal_weight_fraction numeric, w_awr_con_rrr_raw numeric, w_awr_con_rrr_score numeric, w_awr_con_rrr_cat numeric, w_awr_con_rrr_label text, w_awr_con_rrr_weight_fraction numeric, w_awr_con_tot_raw numeric, w_awr_con_tot_score numeric, w_awr_con_tot_cat numeric, w_awr_con_tot_label text, w_awr_con_tot_weight_fraction numeric, w_awr_elp_qan_raw numeric, w_awr_elp_qan_score numeric, w_awr_elp_qan_cat numeric, w_awr_elp_qan_label text, w_awr_elp_qan_weight_fraction numeric, w_awr_elp_qal_raw numeric, w_awr_elp_qal_score numeric, w_awr_elp_qal_cat numeric, w_awr_elp_qal_label text, w_awr_elp_qal_weight_fraction numeric, w_awr_elp_rrr_raw numeric, w_awr_elp_rrr_score numeric, w_awr_elp_rrr_cat numeric, w_awr_elp_rrr_label text, w_awr_elp_rrr_weight_fraction numeric, w_awr_elp_tot_raw numeric, w_awr_elp_tot_score numeric, w_awr_elp_tot_cat numeric, w_awr_elp_tot_label text, w_awr_elp_tot_weight_fraction numeric, w_awr_fnb_qan_raw numeric, w_awr_fnb_qan_score numeric, w_awr_fnb_qan_cat numeric, w_awr_fnb_qan_label text, w_awr_fnb_qan_weight_fraction numeric, w_awr_fnb_qal_raw numeric, w_awr_fnb_qal_score numeric, w_awr_fnb_qal_cat numeric, w_awr_fnb_qal_label text, w_awr_fnb_qal_weight_fraction numeric, w_awr_fnb_rrr_raw numeric, w_awr_fnb_rrr_score numeric, w_awr_fnb_rrr_cat numeric, w_awr_fnb_rrr_label text, w_awr_fnb_rrr_weight_fraction numeric, w_awr_fnb_tot_raw numeric, w_awr_fnb_tot_score numeric, w_awr_fnb_tot_cat numeric, w_awr_fnb_tot_label text, w_awr_fnb_tot_weight_fraction numeric, w_awr_min_qan_raw numeric, w_awr_min_qan_score numeric, w_awr_min_qan_cat numeric, w_awr_min_qan_label text, w_awr_min_qan_weight_fraction numeric, w_awr_min_qal_raw numeric, w_awr_min_qal_score numeric, w_awr_min_qal_cat numeric, w_awr_min_qal_label text, w_awr_min_qal_weight_fraction numeric, w_awr_min_rrr_raw numeric, w_awr_min_rrr_score numeric, w_awr_min_rrr_cat numeric, w_awr_min_rrr_label text, w_awr_min_rrr_weight_fraction numeric, w_awr_min_tot_raw numeric, w_awr_min_tot_score numeric, w_awr_min_tot_cat numeric, w_awr_min_tot_label text, w_awr_min_tot_weight_fraction numeric, w_awr_ong_qan_raw numeric, w_awr_ong_qan_score numeric, w_awr_ong_qan_cat numeric, w_awr_ong_qan_label text, w_awr_ong_qan_weight_fraction numeric, w_awr_ong_qal_raw numeric, w_awr_ong_qal_score numeric, w_awr_ong_qal_cat numeric, w_awr_ong_qal_label text, w_awr_ong_qal_weight_fraction numeric, w_awr_ong_rrr_raw numeric, w_awr_ong_rrr_score numeric, w_awr_ong_rrr_cat numeric, w_awr_ong_rrr_label text, w_awr_ong_rrr_weight_fraction numeric, w_awr_ong_tot_raw numeric, w_awr_ong_tot_score numeric, w_awr_ong_tot_cat numeric, w_awr_ong_tot_label text, w_awr_ong_tot_weight_fraction numeric, w_awr_smc_qan_raw numeric, w_awr_smc_qan_score numeric, w_awr_smc_qan_cat numeric, w_awr_smc_qan_label text, w_awr_smc_qan_weight_fraction numeric, w_awr_smc_qal_raw numeric, w_awr_smc_qal_score numeric, w_awr_smc_qal_cat numeric, w_awr_smc_qal_label text, w_awr_smc_qal_weight_fraction numeric, w_awr_smc_rrr_raw numeric, w_awr_smc_rrr_score numeric, w_awr_smc_rrr_cat numeric, w_awr_smc_rrr_label text, w_awr_smc_rrr_weight_fraction numeric, w_awr_smc_tot_raw numeric, w_awr_smc_tot_score numeric, w_awr_smc_tot_cat numeric, w_awr_smc_tot_label text, w_awr_smc_tot_weight_fraction numeric, w_awr_tex_qan_raw numeric, w_awr_tex_qan_score numeric, w_awr_tex_qan_cat numeric, w_awr_tex_qan_label text, w_awr_tex_qan_weight_fraction numeric, w_awr_tex_qal_raw numeric, w_awr_tex_qal_score numeric, w_awr_tex_qal_cat numeric, w_awr_tex_qal_label text, w_awr_tex_qal_weight_fraction numeric, w_awr_tex_rrr_raw numeric, w_awr_tex_rrr_score numeric, w_awr_tex_rrr_cat numeric, w_awr_tex_rrr_label text, w_awr_tex_rrr_weight_fraction numeric, w_awr_tex_tot_raw numeric, w_awr_tex_tot_score numeric, w_awr_tex_tot_cat numeric, w_awr_tex_tot_label text, w_awr_tex_tot_weight_fraction numeric, the_geom geometry);\n",
    "\n",
    "CREATE OR REPLACE FUNCTION get_aqpoints_annual_test(points_array TEXT, locations_array TEXT, input_address_array TEXT, match_address_array TEXT)\n",
    "\tRETURNS SETOF point_intersection_annual_test as $$\n",
    "\tBEGIN\n",
    "\tRETURN query EXECUTE  'with r as (SELECT unnest(Array'|| points_array ||') as points, unnest(Array'|| locations_array ||') as location_name, unnest(Array'|| input_address_array ||') as input_address, unnest(Array'|| match_address_array ||') as match_address), points as (SELECT row_number() over () as points_id, location_name, input_address, match_address, st_setsrid(st_geomfromtext(points),4326) as the_geom      FROM r) SELECT points.points_id::int, points.location_name::text, points.input_address::text, points.match_address::text, ST_y(points.the_geom)::numeric as latitude, ST_x(points.the_geom)::numeric as longitude,  hn.maj_name::text as major_basin_name,  hn.sub_name::text as minor_basin_name, aq.major_aquifer_system_name::text as aquifer_name, rn.string_id::text, rn.aq30_id::numeric, rn.pfaf_id::numeric, rn.gid_1::text, rn.aqid::numeric, rn.gid_0::text, w.name_0::text, w.name_1::text, rn.area_km2::numeric, rn.bws_raw::numeric, rn.bws_score::numeric, rn.bws_cat::numeric, rn.bws_label::text, rn.bwd_raw::numeric, rn.bwd_score::numeric, rn.bwd_cat::numeric, rn.bwd_label::text, rn.iav_raw::numeric, rn.iav_score::numeric, rn.iav_cat::numeric, rn.iav_label::text, rn.sev_raw::numeric, rn.sev_score::numeric, rn.sev_cat::numeric, rn.sev_label::text, rn.gtd_raw::numeric, rn.gtd_score::numeric, rn.gtd_cat::numeric, rn.gtd_label::text, rn.rfr_raw::numeric, rn.rfr_score::numeric, rn.rfr_cat::numeric, rn.rfr_label::text, rn.cfr_raw::numeric, rn.cfr_score::numeric, rn.cfr_cat::numeric, rn.cfr_label::text, rn.drr_raw::numeric, rn.drr_score::numeric, rn.drr_cat::numeric, rn.drr_label::text, rn.ucw_raw::numeric, rn.ucw_score::numeric, rn.ucw_cat::numeric, rn.ucw_label::text, rn.cep_raw::numeric, rn.cep_score::numeric, rn.cep_cat::numeric, rn.cep_label::text, rn.udw_raw::numeric, rn.udw_score::numeric, rn.udw_cat::numeric, rn.udw_label::text, rn.usa_raw::numeric, rn.usa_score::numeric, rn.usa_cat::numeric, rn.usa_label::text, rn.rri_raw::numeric, rn.rri_score::numeric, rn.rri_cat::numeric, rn.rri_label::text, rn.w_awr_def_qan_raw::numeric, rn.w_awr_def_qan_score::numeric, rn.w_awr_def_qan_cat::numeric, rn.w_awr_def_qan_label::text, rn.w_awr_def_qan_weight_fraction::numeric, rn.w_awr_def_qal_raw::numeric, rn.w_awr_def_qal_score::numeric, rn.w_awr_def_qal_cat::numeric, rn.w_awr_def_qal_label::text, rn.w_awr_def_qal_weight_fraction::numeric, rn.w_awr_def_rrr_raw::numeric, rn.w_awr_def_rrr_score::numeric, rn.w_awr_def_rrr_cat::numeric, rn.w_awr_def_rrr_label::text, rn.w_awr_def_rrr_weight_fraction::numeric, rn.w_awr_def_tot_raw::numeric, rn.w_awr_def_tot_score::numeric, rn.w_awr_def_tot_cat::numeric, rn.w_awr_def_tot_label::text, rn.w_awr_def_tot_weight_fraction::numeric, rn.w_awr_agr_qan_raw::numeric, rn.w_awr_agr_qan_score::numeric, rn.w_awr_agr_qan_cat::numeric, rn.w_awr_agr_qan_label::text, rn.w_awr_agr_qan_weight_fraction::numeric, rn.w_awr_agr_qal_raw::numeric, rn.w_awr_agr_qal_score::numeric, rn.w_awr_agr_qal_cat::numeric, rn.w_awr_agr_qal_label::text, rn.w_awr_agr_qal_weight_fraction::numeric, rn.w_awr_agr_rrr_raw::numeric, rn.w_awr_agr_rrr_score::numeric, rn.w_awr_agr_rrr_cat::numeric, rn.w_awr_agr_rrr_label::text, rn.w_awr_agr_rrr_weight_fraction::numeric, rn.w_awr_agr_tot_raw::numeric, rn.w_awr_agr_tot_score::numeric, rn.w_awr_agr_tot_cat::numeric, rn.w_awr_agr_tot_label::text, rn.w_awr_agr_tot_weight_fraction::numeric, rn.w_awr_che_qan_raw::numeric, rn.w_awr_che_qan_score::numeric, rn.w_awr_che_qan_cat::numeric, rn.w_awr_che_qan_label::text, rn.w_awr_che_qan_weight_fraction::numeric, rn.w_awr_che_qal_raw::numeric, rn.w_awr_che_qal_score::numeric, rn.w_awr_che_qal_cat::numeric, rn.w_awr_che_qal_label::text, rn.w_awr_che_qal_weight_fraction::numeric, rn.w_awr_che_rrr_raw::numeric, rn.w_awr_che_rrr_score::numeric, rn.w_awr_che_rrr_cat::numeric, rn.w_awr_che_rrr_label::text, rn.w_awr_che_rrr_weight_fraction::numeric, rn.w_awr_che_tot_raw::numeric, rn.w_awr_che_tot_score::numeric, rn.w_awr_che_tot_cat::numeric, rn.w_awr_che_tot_label::text, rn.w_awr_che_tot_weight_fraction::numeric, rn.w_awr_con_qan_raw::numeric, rn.w_awr_con_qan_score::numeric, rn.w_awr_con_qan_cat::numeric, rn.w_awr_con_qan_label::text, rn.w_awr_con_qan_weight_fraction::numeric, rn.w_awr_con_qal_raw::numeric, rn.w_awr_con_qal_score::numeric, rn.w_awr_con_qal_cat::numeric, rn.w_awr_con_qal_label::text, rn.w_awr_con_qal_weight_fraction::numeric, rn.w_awr_con_rrr_raw::numeric, rn.w_awr_con_rrr_score::numeric, rn.w_awr_con_rrr_cat::numeric, rn.w_awr_con_rrr_label::text, rn.w_awr_con_rrr_weight_fraction::numeric, rn.w_awr_con_tot_raw::numeric, rn.w_awr_con_tot_score::numeric, rn.w_awr_con_tot_cat::numeric, rn.w_awr_con_tot_label::text, rn.w_awr_con_tot_weight_fraction::numeric, rn.w_awr_elp_qan_raw::numeric, rn.w_awr_elp_qan_score::numeric, rn.w_awr_elp_qan_cat::numeric, rn.w_awr_elp_qan_label::text, rn.w_awr_elp_qan_weight_fraction::numeric, rn.w_awr_elp_qal_raw::numeric, rn.w_awr_elp_qal_score::numeric, rn.w_awr_elp_qal_cat::numeric, rn.w_awr_elp_qal_label::text, rn.w_awr_elp_qal_weight_fraction::numeric, rn.w_awr_elp_rrr_raw::numeric, rn.w_awr_elp_rrr_score::numeric, rn.w_awr_elp_rrr_cat::numeric, rn.w_awr_elp_rrr_label::text, rn.w_awr_elp_rrr_weight_fraction::numeric, rn.w_awr_elp_tot_raw::numeric, rn.w_awr_elp_tot_score::numeric, rn.w_awr_elp_tot_cat::numeric, rn.w_awr_elp_tot_label::text, rn.w_awr_elp_tot_weight_fraction::numeric, rn.w_awr_fnb_qan_raw::numeric, rn.w_awr_fnb_qan_score::numeric, rn.w_awr_fnb_qan_cat::numeric, rn.w_awr_fnb_qan_label::text, rn.w_awr_fnb_qan_weight_fraction::numeric, rn.w_awr_fnb_qal_raw::numeric, rn.w_awr_fnb_qal_score::numeric, rn.w_awr_fnb_qal_cat::numeric, rn.w_awr_fnb_qal_label::text, rn.w_awr_fnb_qal_weight_fraction::numeric, rn.w_awr_fnb_rrr_raw::numeric, rn.w_awr_fnb_rrr_score::numeric, rn.w_awr_fnb_rrr_cat::numeric, rn.w_awr_fnb_rrr_label::text, rn.w_awr_fnb_rrr_weight_fraction::numeric, rn.w_awr_fnb_tot_raw::numeric, rn.w_awr_fnb_tot_score::numeric, rn.w_awr_fnb_tot_cat::numeric, rn.w_awr_fnb_tot_label::text, rn.w_awr_fnb_tot_weight_fraction::numeric, rn.w_awr_min_qan_raw::numeric, rn.w_awr_min_qan_score::numeric, rn.w_awr_min_qan_cat::numeric, rn.w_awr_min_qan_label::text, rn.w_awr_min_qan_weight_fraction::numeric, rn.w_awr_min_qal_raw::numeric, rn.w_awr_min_qal_score::numeric, rn.w_awr_min_qal_cat::numeric, rn.w_awr_min_qal_label::text, rn.w_awr_min_qal_weight_fraction::numeric, rn.w_awr_min_rrr_raw::numeric, rn.w_awr_min_rrr_score::numeric, rn.w_awr_min_rrr_cat::numeric, rn.w_awr_min_rrr_label::text, rn.w_awr_min_rrr_weight_fraction::numeric, rn.w_awr_min_tot_raw::numeric, rn.w_awr_min_tot_score::numeric, rn.w_awr_min_tot_cat::numeric, rn.w_awr_min_tot_label::text, rn.w_awr_min_tot_weight_fraction::numeric, rn.w_awr_ong_qan_raw::numeric, rn.w_awr_ong_qan_score::numeric, rn.w_awr_ong_qan_cat::numeric, rn.w_awr_ong_qan_label::text, rn.w_awr_ong_qan_weight_fraction::numeric, rn.w_awr_ong_qal_raw::numeric, rn.w_awr_ong_qal_score::numeric, rn.w_awr_ong_qal_cat::numeric, rn.w_awr_ong_qal_label::text, rn.w_awr_ong_qal_weight_fraction::numeric, rn.w_awr_ong_rrr_raw::numeric, rn.w_awr_ong_rrr_score::numeric, rn.w_awr_ong_rrr_cat::numeric, rn.w_awr_ong_rrr_label::text, rn.w_awr_ong_rrr_weight_fraction::numeric, rn.w_awr_ong_tot_raw::numeric, rn.w_awr_ong_tot_score::numeric, rn.w_awr_ong_tot_cat::numeric, rn.w_awr_ong_tot_label::text, rn.w_awr_ong_tot_weight_fraction::numeric, rn.w_awr_smc_qan_raw::numeric, rn.w_awr_smc_qan_score::numeric, rn.w_awr_smc_qan_cat::numeric, rn.w_awr_smc_qan_label::text, rn.w_awr_smc_qan_weight_fraction::numeric, rn.w_awr_smc_qal_raw::numeric, rn.w_awr_smc_qal_score::numeric, rn.w_awr_smc_qal_cat::numeric, rn.w_awr_smc_qal_label::text, rn.w_awr_smc_qal_weight_fraction::numeric, rn.w_awr_smc_rrr_raw::numeric, rn.w_awr_smc_rrr_score::numeric, rn.w_awr_smc_rrr_cat::numeric, rn.w_awr_smc_rrr_label::text, rn.w_awr_smc_rrr_weight_fraction::numeric, rn.w_awr_smc_tot_raw::numeric, rn.w_awr_smc_tot_score::numeric, rn.w_awr_smc_tot_cat::numeric, rn.w_awr_smc_tot_label::text, rn.w_awr_smc_tot_weight_fraction::numeric, rn.w_awr_tex_qan_raw::numeric, rn.w_awr_tex_qan_score::numeric, rn.w_awr_tex_qan_cat::numeric, rn.w_awr_tex_qan_label::text, rn.w_awr_tex_qan_weight_fraction::numeric, rn.w_awr_tex_qal_raw::numeric, rn.w_awr_tex_qal_score::numeric, rn.w_awr_tex_qal_cat::numeric, rn.w_awr_tex_qal_label::text, rn.w_awr_tex_qal_weight_fraction::numeric, rn.w_awr_tex_rrr_raw::numeric, rn.w_awr_tex_rrr_score::numeric, rn.w_awr_tex_rrr_cat::numeric, rn.w_awr_tex_rrr_label::text, rn.w_awr_tex_rrr_weight_fraction::numeric, rn.w_awr_tex_tot_raw::numeric, rn.w_awr_tex_tot_score::numeric, rn.w_awr_tex_tot_cat::numeric, rn.w_awr_tex_tot_label::text, rn.w_awr_tex_tot_weight_fraction::numeric, points.the_geom::geometry     FROM  points     LEFT JOIN y2018m12d06_rh_master_shape_v01 g on  st_intersects(g.the_geom , points.the_geom)     LEFT JOIN hydrobasins_fao_fiona_merged_v01 hn on st_intersects(points.the_geom , hn.the_geom)     LEFT JOIN aquifer_names_simple_v01 aq on st_intersects(aq.the_geom , points.the_geom)     LEFT JOIN water_risk_indicators_annual_all rn on (rn.aq30_id=g.aq30_id)     LEFT JOIN gadm_wri w on (rn.gid_1=w.gid_1)';\n",
    "\n",
    "\tEND\n",
    "\n",
    "$$ language 'plpgsql';\n",
    "```                                    \n",
    "\n",
    "**Final query**\n",
    "\n",
    "`Sql Example:`\n",
    "```sql\n",
    "SELECT * FROM get_aqpoints_annual_test('[''POINT(0.3515 41.3768)'', ''POINT(2.4169 49.7528)'', ''POINT(-16.3037 14.9023)'']',\n",
    "                                     '[''Location_1'', ''Location_2'', ''Location_3'']',\n",
    "                                     '[''address_1'', ''address_2'', ''address_3'']',\n",
    "                                     '[''address_1'', ''address_2'', ''address_3'']')\n",
    "```\n",
    "\n",
    "`Sql Template:`\n",
    "``` sql\n",
    "SELECT * FROM get_aqpoints_annual_test({points_array}, {locations_array}, {input_address_array}, {match_address_array})\n",
    "```"
   ]
  },
  {
   "cell_type": "code",
   "execution_count": 6,
   "metadata": {
    "scrolled": false
   },
   "outputs": [],
   "source": [
    "def randomLocationsF(n):\n",
    "    t = 64*(np.random.rand(n,2))\n",
    "    example1=[]\n",
    "    for point in t:\n",
    "        example1.append(\"\\'\\'POINT({0[0]} {0[1]})\\'\\'\".format(point))\n",
    "    return ['[{0}]'.format(', '.join(example1)), '[{0}]'.format(', '.join([\"''lol''\"] * n)), '[{0}]'.format(', '.join([\"''lol''\"] * n)), '[{0}]'.format(', '.join([\"''lol''\"] * n))]"
   ]
  },
  {
   "cell_type": "code",
   "execution_count": null,
   "metadata": {},
   "outputs": [],
   "source": [
    "data = get_carto(\"SELECT * FROM get_aqpoints_annual_test('{0[0]}', '{0[1]}', '{0[2]}', '{0[3]}')\".format(randomLocationsF(3000)))\n",
    "\n",
    "if 'rows' in data:\n",
    "    result = pd.DataFrame(data['rows'])\n",
    "    result.dropna(subset=['string_id'], inplace=True)\n",
    "    print(result.shape)\n",
    "    print(data['time'])\n",
    "else:\n",
    "    print(data)"
   ]
  },
  {
   "cell_type": "code",
   "execution_count": 27,
   "metadata": {
    "scrolled": false
   },
   "outputs": [
    {
     "name": "stdout",
     "output_type": "stream",
     "text": [
      "{'Date': 'Wed, 18 Sep 2019 16:55:19 GMT', 'Content-Type': 'application/json; charset=utf-8', 'Transfer-Encoding': 'chunked', 'Connection': 'keep-alive', 'Vary': 'Accept-Encoding, Authorization', 'Access-Control-Allow-Origin': '*', 'Access-Control-Allow-Headers': 'X-Requested-With, X-Prototype-Version, X-CSRF-Token, Authorization', 'Carto-Rate-Limit-Limit': '81', 'Carto-Rate-Limit-Remaining': '80', 'Carto-Rate-Limit-Reset': '0', 'X-SQLAPI-Log': '{\"request\":{\"sql\":{\"type\":\"query\",\"sql\":\" with points as  SELECT row number   over    as points id  location name  input address  match address  st setsrid st geomfromtext points  4326  as the geom                  FROM  SELECT unnest Array  POINT 1 371580257646876 52 78945211013002     POINT 9 7690166730724 53 69942566636997     POINT 2 0797830335810303 10 637368687653463     POINT 22 225439640628927 50 9866569794066     POINT 14 24134012105123 36 348737434911754     POINT 33 392886427883134 17 133271213281546     POINT 27 196235137196922 11 6471\"}}}', 'Cache-Control': 'no-cache,max-age=31536000,must-revalidate,public', 'Surrogate-Key': 't:3D5Wlw t:82h1Cl t:iFu6/X t:nK174Q t:yyrKu5', 'Last-Modified': 'Fri, 10 May 2019 11:47:47 GMT', 'Content-Disposition': 'inline; filename=cartodb-query.json; modification-date=\"Wed, 18 Sep 2019 16:55:11 GMT\";', 'X-SQLAPI-Profiler': '{\"authorization\":1,\"getConnectionParams\":1,\"getUserTimeoutLimits\":1,\"queryExplain\":33,\"eventedQuery\":2,\"beforeSink\":8057,\"total\":8095}', 'Content-Encoding': 'gzip'}\n",
      "(1561, 18)\n",
      "9.798\n"
     ]
    }
   ],
   "source": [
    "query= \"\"\"\n",
    "with points as (SELECT row_number() over () as points_id, location_name, input_address, match_address, st_setsrid(st_geomfromtext(points),4326) as the_geom \n",
    "                FROM (SELECT unnest(Array{0[0]}) as points,\n",
    "                             unnest(Array{0[1]}) as location_name,\n",
    "                             unnest(Array{0[2]}) as input_address,\n",
    "                             unnest(Array{0[3]}) as match_address) a),\n",
    "    \n",
    "    r as (SELECT * FROM (SELECT unnest(Array[4.0, 4.0, 2.0, 0.5, 4.0, 4.0, 1.0, 1.0, null, null, null, null, null]) as weights,unnest(Array['bws', 'bwd', 'iav', 'sev', 'gtd', 'drr', 'rfr', 'cfr', 'ucw', 'cep', 'udw', 'usa', 'rri']) as indicator) as a \n",
    "          WHERE weights is not null ),\n",
    "          \n",
    "    s as (SELECT indicator, weights/sum_weights as weight_fraction\n",
    "                FROM (\n",
    "                 SELECT sum(weights) over () as sum_weights,  weights, indicator\n",
    "                 FROM r\n",
    "                     ) as a\n",
    "                ),\n",
    "          u as (SELECT aq30_id, string_id, sum(weight_fraction) as weight_fraction, sum(weighted_score) as weighted_score\n",
    "                FROM (\n",
    "                      SELECT t.group_short, t.indicator, t.score, t.aq30_id, t.string_id, s.weight_fraction, t.score*s.weight_fraction as weighted_score\n",
    "                      FROM water_risk_indicators_normalized t\n",
    "                      LEFT JOIN s on t.indicator=s.indicator\n",
    "                     ) as u\n",
    "                GROUP BY aq30_id, string_id\n",
    "               ),\n",
    "         w as  (SELECT aq30_id, string_id, weighted_score/weight_fraction as raw\n",
    "               FROM u\n",
    "               ),   \n",
    "         v as  (SELECT w.*,\n",
    "                CASE \n",
    "                    WHEN (w.raw <= 5) and  (w.raw > 2.675) THEN 'High'\n",
    "                    WHEN (w.raw <= 2.675) and  (w.raw > 2.101) THEN 'Medium - High'\n",
    "                    WHEN (w.raw <= 2.101) and  (w.raw > 1.607) THEN 'Medium'\n",
    "                    WHEN (w.raw <= 1.607) and  (w.raw > 1.000) THEN 'Low - Medium'\n",
    "                    WHEN (w.raw <= 1.000) and  (w.raw > 0) THEN 'Low'\n",
    "                    WHEN (w.raw <= 0) and  (w.raw > -1) THEN 'Arid and Low Water Use'\n",
    "                    WHEN w.raw <= -1 THEN 'No Data'\n",
    "                END as label\n",
    "               FROM w\n",
    "               )\n",
    "               SELECT \n",
    "               points.points_id::numeric,\n",
    "               points.location_name,\n",
    "               points.input_address,\n",
    "               points.match_address,\n",
    "               ST_y(points.the_geom) as latitude,\n",
    "               ST_x(points.the_geom) as longitude, \n",
    "               hn.maj_name as major_basin_name, \n",
    "               hn.sub_name as minor_basin_name,\n",
    "               aq.major_aquifer_system_name as aquifer_name,\n",
    "               rn.string_id,\n",
    "               v.aq30_id,\n",
    "               rn.gid_1,\n",
    "               rn.gid_0,\n",
    "               rn.name_0,\n",
    "               rn.name_1,\n",
    "               v.raw::numeric, \n",
    "               v.label,\n",
    "               points.the_geom\n",
    "                FROM  Points\n",
    "                LEFT JOIN y2018m12d06_rh_master_shape_v01 g on  st_intersects(g.the_geom, points.the_geom)\n",
    "                LEFT JOIN v on (v.aq30_id=g.aq30_id)\n",
    "                LEFT JOIN hydrobasins_fao_fiona_merged_v01 hn on st_intersects(points.the_geom, hn.the_geom)\n",
    "                LEFT JOIN aquifer_names_simple_v01 aq on st_intersects(aq.the_geom, points.the_geom)     \n",
    "                LEFT JOIN water_risk_indicators_annual_all rn on (rn.aq30_id=g.aq30_id)     \n",
    "                \n",
    "\"\"\".format(randomLocations(2000))\n",
    "\n",
    "data = get_carto(query)\n",
    "if 'rows' in data:\n",
    "    result = pd.DataFrame(data['rows'])\n",
    "    result.dropna(subset=['string_id'], inplace=True)\n",
    "    print(result.shape)\n",
    "    print(data['time'])\n",
    "else:\n",
    "    print(data)"
   ]
  },
  {
   "cell_type": "markdown",
   "metadata": {},
   "source": [
    "**Create a function**\n",
    "\n",
    "We create a function in carto to deal with all this operations.\n",
    "\n",
    "```sql\n",
    "DROP FUNCTION get_aqpoints_annual_custom_02(weights_array TEXT, points_array TEXT, locations_array TEXT, input_address_array TEXT, match_address_array TEXT);\n",
    "\n",
    "DROP TYPE point_intersection_annual_custom_02;\n",
    "\n",
    "CREATE TYPE point_intersection_annual_custom_02 AS (location_name text, input_address text, match_address text, latitude numeric, longitude numeric,  major_basin_name text,  minor_basin_name text, aquifer_name text, string_id text, aq30_id numeric, gid_1 text, gid_0 text, name_0 text, name_1 text, raw numeric, label text, the_geom geometry);\n",
    "\n",
    "CREATE OR REPLACE FUNCTION get_aqpoints_annual_custom_02(weights_array TEXT, points_array TEXT, locations_array TEXT, input_address_array TEXT, match_address_array TEXT)\n",
    "\tRETURNS SETOF point_intersection_annual_custom_02 as $$\n",
    "\tBEGIN\n",
    "\tRETURN query EXECUTE  'with a as (SELECT unnest(Array'|| points_array ||') as points, unnest(Array'|| locations_array ||') as location_name, unnest(Array'|| input_address_array ||') as input_address, unnest(Array'|| match_address_array ||') as match_address), points as (SELECT row_number() over () as points_id, location_name, input_address, match_address, st_setsrid(st_geomfromtext(points),4326) as the_geom FROM a), r as (SELECT * FROM (SELECT unnest(Array'|| weights_array ||') as weights, unnest(Array[''bws'', ''bwd'', ''iav'', ''sev'', ''gtd'', ''drr'', ''rfr'', ''cfr'', ''ucw'', ''cep'', ''udw'', ''usa'', ''rri'']) as indicator) as a WHERE weights is not null), s as (SELECT indicator, weights/sum_weights as weight_fraction FROM (SELECT sum(weights) over () as sum_weights,  weights, indicator FROM r) as a), u as (SELECT aq30_id, string_id, sum(weight_fraction) as weight_fraction, sum(weighted_score) as weighted_score FROM (SELECT t.group_short, t.indicator, t.score, t.aq30_id, t.string_id, s.weight_fraction, t.score*s.weight_fraction as weighted_score FROM water_risk_indicators_normalized t LEFT JOIN s on t.indicator=s.indicator) as u GROUP BY aq30_id, string_id), w as  (SELECT aq30_id, string_id, weighted_score/weight_fraction as raw FROM u), v as  (SELECT w.*, CASE WHEN (w.raw <= 5) and  (w.raw > 2.674522) THEN ''High'' WHEN (w.raw <= 2.674522) and  (w.raw > 2.101208) THEN ''Medium - High'' WHEN (w.raw <= 2.101208) and  (w.raw > 1.607256) THEN ''Medium'' WHEN (w.raw <= 1.607256) and  (w.raw > 1.000960) THEN ''Low - Medium'' WHEN (w.raw <= 1.000960) and  (w.raw > 0) THEN ''Low'' WHEN (w.raw <= 0) and  (w.raw > -1) THEN ''Arid and Low Water Use'' WHEN w.raw <= -1 THEN ''No Data'' END as label FROM w), wri as (SELECT points_id::numeric, v.* FROM v LEFT JOIN y2018m12d06_rh_master_shape_v01 g on v.aq30_id=g.aq30_id RIGHT JOIN points on  st_intersects(g.the_geom, points.the_geom) ORDER BY aq30_id ), countries as (SELECT points_id::numeric, points.the_geom, r.name_0, r.name_1, r.gid_0, r.gid_1 FROM gadm_wri r RIGHT JOIN points on  st_intersects(r.the_geom, points.the_geom)), basins as (SELECT points_id::numeric, points.the_geom, points.location_name, points.input_address, points.match_address, r.maj_name as major_basin_name, r.sub_name as minor_basin_name FROM hydrobasins_fao_fiona_merged_v01 r RIGHT JOIN points on  st_intersects(r.the_geom, points.the_geom)), aquifers as (SELECT points_id::numeric, r.major_aquifer_system_name FROM aquifer_names_simple_v01 r RIGHT JOIN points on  st_intersects(r.the_geom, points.the_geom)), cty_bsn_aqui as (SELECT a.points_id, a.the_geom, a.location_name, a.input_address, a.match_address, a.major_basin_name, a.minor_basin_name, b.major_aquifer_system_name as aquifer_name, c.name_0, c.name_1, c.gid_0, c.gid_1  FROM basins a LEFT JOIN aquifers b on a.points_id=b.points_id LEFT JOIN countries c on a.points_id=c.points_id) SELECT location_name, input_address, match_address, ST_y(b.the_geom)::numeric as latitude, ST_x(b.the_geom)::numeric as longitude, major_basin_name, minor_basin_name, aquifer_name, string_id, aq30_id::numeric, gid_1, gid_0, name_0, name_1,raw::numeric, label, b.the_geom::geometry FROM wri a LEFT JOIN cty_bsn_aqui b on a.points_id=b.points_id\n",
    "';\n",
    "\n",
    "\tEND\n",
    "\n",
    "$$ language 'plpgsql';\n",
    "```\n",
    "\n",
    "**Final query**\n",
    "\n",
    "`Sql Example:`\n",
    "```sql\n",
    "SELECT * FROM get_aqpoints_annual_custom_02('[4.0, 4.0, 2.0, 0.5, 4.0, 4.0, 1.0, 1.0, null, null, null, null, null]', \n",
    "                                         '[''POINT(0.3515 41.3768)'', ''POINT(2.4169 49.7528)'', ''POINT(-16.3037 14.9023)'']',\n",
    "                                         '[''Location_1'', ''Location_2'', ''Location_3'']',\n",
    "                                         '[''address_1'', ''address_2'', ''address_3'']',\n",
    "                                         '[''address_1'', ''address_2'', ''address_3'']')\n",
    "```\n",
    "\n",
    "`Sql Template:`\n",
    "``` sql\n",
    "SELECT * FROM get_aqpoints_annual_custom_02({weights_array}, {points_array}, {locations_array}, {input_address_array}, {match_address_array})"
   ]
  },
  {
   "cell_type": "code",
   "execution_count": null,
   "metadata": {},
   "outputs": [],
   "source": []
  }
 ],
 "metadata": {
  "kernelspec": {
   "display_name": "Python 3",
   "language": "python",
   "name": "python3"
  },
  "language_info": {
   "codemirror_mode": {
    "name": "ipython",
    "version": 3
   },
   "file_extension": ".py",
   "mimetype": "text/x-python",
   "name": "python",
   "nbconvert_exporter": "python",
   "pygments_lexer": "ipython3",
   "version": "3.7.3"
  },
  "toc": {
   "base_numbering": 1,
   "nav_menu": {},
   "number_sections": true,
   "sideBar": true,
   "skip_h1_title": false,
   "title_cell": "Table of Contents",
   "title_sidebar": "Contents",
   "toc_cell": false,
   "toc_position": {},
   "toc_section_display": true,
   "toc_window_display": false
  },
  "varInspector": {
   "cols": {
    "lenName": 16,
    "lenType": 16,
    "lenVar": 40
   },
   "kernels_config": {
    "python": {
     "delete_cmd_postfix": "",
     "delete_cmd_prefix": "del ",
     "library": "var_list.py",
     "varRefreshCmd": "print(var_dic_list())"
    },
    "r": {
     "delete_cmd_postfix": ") ",
     "delete_cmd_prefix": "rm(",
     "library": "var_list.r",
     "varRefreshCmd": "cat(var_dic_list()) "
    }
   },
   "types_to_exclude": [
    "module",
    "function",
    "builtin_function_or_method",
    "instance",
    "_Feature"
   ],
   "window_display": false
  }
 },
 "nbformat": 4,
 "nbformat_minor": 2
}
