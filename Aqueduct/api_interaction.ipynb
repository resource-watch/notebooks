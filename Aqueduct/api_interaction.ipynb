{
 "cells": [
  {
   "cell_type": "markdown",
   "metadata": {
    "toc": "true"
   },
   "source": [
    "# Table of Contents\n",
    " <p>"
   ]
  },
  {
   "cell_type": "code",
   "execution_count": 1,
   "metadata": {},
   "outputs": [],
   "source": [
    "from ipywidgets import interact, interactive, fixed, interact_manual, Layout\n",
    "import ipywidgets as widgets\n",
    "from IPython.display import display, HTML, JSON\n",
    "from vega import Vega\n",
    "from vega3 import Vega as Vega3\n",
    "import requests\n",
    "import json\n",
    "import re"
   ]
  },
  {
   "cell_type": "code",
   "execution_count": 2,
   "metadata": {},
   "outputs": [],
   "source": [
    "def patchWidget(widgetId, datasetId, body):\n",
    "    return\n",
    "\n",
    "def formatWidget2read(widgetConfig):\n",
    "    object2format= [\n",
    "       {'pattern':r\"({{([^}}]*)(year)}})\", 'sub':'2020'},\n",
    "       {'pattern':r\"({{([^}}]*)(water_column)}})\", 'sub':'ws2028tl'},\n",
    "       {'pattern':r\"({{([^}}]*)(crop)}})\", 'sub':'maize'}\n",
    "                   ]\n",
    "    \n",
    "    n=json.dumps(widgetConfig)\n",
    "    for paterns in object2format:\n",
    "        n = re.compile(paterns['pattern']).sub(paterns['sub'], n)\n",
    "    return json.loads(n)\n",
    "\n"
   ]
  },
  {
   "cell_type": "code",
   "execution_count": 9,
   "metadata": {
    "code_folding": [],
    "scrolled": false
   },
   "outputs": [
    {
     "data": {
      "application/vnd.jupyter.widget-view+json": {
       "model_id": "c1cd7c430ae4402cb68972936dc17463",
       "version_major": 2,
       "version_minor": 0
      },
      "text/plain": [
       "VBox(children=(HBox(children=(Dropdown(description='Choose Aaplication:', index=1, options={'Resource Watch': …"
      ]
     },
     "metadata": {},
     "output_type": "display_data"
    }
   ],
   "source": [
    "wApp=widgets.Dropdown(\n",
    "    options={'Resource Watch': 'rw', 'Aqueduct': 'aqueduct', 'Prep': 'prep'},\n",
    "    value='aqueduct',\n",
    "    description='Choose Aaplication:',\n",
    ")\n",
    "wsize=widgets.IntSlider(min=1, max=1e3, step=1,continuous_update=False, value=1000)\n",
    "\n",
    "wWidgets=widgets.Dropdown(\n",
    "    description='Choose widgets:',\n",
    ")\n",
    "box_layout = Layout(display='flex',\n",
    "                    flex_flow='column',\n",
    "                    height='500px',\n",
    "                    width='auto')\n",
    "wCodeBox= widgets.Textarea(\n",
    "    value='',\n",
    "    placeholder='Type something',\n",
    "    description='Widget:',\n",
    "    disabled=False,\n",
    "    layout=box_layout\n",
    ")\n",
    "wCodeBox2= widgets.Textarea(\n",
    "    value='',\n",
    "    placeholder='Type something',\n",
    "    description='Widget:',\n",
    "    disabled=False,\n",
    "    layout=box_layout\n",
    ")\n",
    "\n",
    "def f(x, y, z, w):\n",
    "    widgetsUrl=\"https://api.resourcewatch.org/v1/widget?app={app}&page[size]={size}\".format(app=x, size=y)\n",
    "    \n",
    "    r=requests.get(widgetsUrl)\n",
    "    if r.status_code == 200:\n",
    "        opt = {widget['attributes']['name']: widget['id'] for widget in r.json()['data']}\n",
    "        wWidgets.options = opt\n",
    "        \n",
    "        widgetUrl=\"https://api.resourcewatch.org/v1/widget/{widgetId}\".format(widgetId=z)\n",
    "        s=requests.get(widgetUrl)\n",
    "        if s.status_code == 200:\n",
    "            mywidget = s.json()['data']['attributes']['widgetConfig']\n",
    "            mywidget['width']=300\n",
    "            mywidget['height']=300\n",
    "            if x=='aqueduct':\n",
    "                \n",
    "                display(Vega(formatWidget2read(mywidget)))\n",
    "                wCodeBox.value = json.dumps(formatWidget2read(mywidget))\n",
    "                #wCodeBox2.value = json.dumps(mywidget)\n",
    "            else:\n",
    "                \n",
    "                display(Vega3(mywidget))\n",
    "                   \n",
    "\n",
    "out = widgets.interactive_output(f, {'x': wApp, 'y':wsize, 'z':wWidgets, 'w':wCodeBox})\n",
    "ui = widgets.VBox([widgets.HBox([wApp,wsize]),wWidgets,widgets.HBox([wCodeBox,wCodeBox2,out])])\n",
    "display(ui)\n",
    "#out.observe(handle_slider_change, names='All')\n"
   ]
  },
  {
   "cell_type": "code",
   "execution_count": null,
   "metadata": {},
   "outputs": [],
   "source": []
  }
 ],
 "metadata": {
  "kernelspec": {
   "display_name": "Python 3",
   "language": "python",
   "name": "python3"
  },
  "language_info": {
   "codemirror_mode": {
    "name": "ipython",
    "version": 3
   },
   "file_extension": ".py",
   "mimetype": "text/x-python",
   "name": "python",
   "nbconvert_exporter": "python",
   "pygments_lexer": "ipython3",
   "version": "3.6.1"
  },
  "toc": {
   "colors": {
    "hover_highlight": "#DAA520",
    "navigate_num": "#000000",
    "navigate_text": "#333333",
    "running_highlight": "#FF0000",
    "selected_highlight": "#FFD700",
    "sidebar_border": "#EEEEEE",
    "wrapper_background": "#FFFFFF"
   },
   "moveMenuLeft": true,
   "nav_menu": {
    "height": "12px",
    "width": "252px"
   },
   "navigate_menu": true,
   "number_sections": true,
   "sideBar": true,
   "threshold": "2",
   "toc_cell": true,
   "toc_section_display": "block",
   "toc_window_display": true,
   "widenNotebook": false
  },
  "varInspector": {
   "cols": {
    "lenName": 16,
    "lenType": 16,
    "lenVar": 40
   },
   "kernels_config": {
    "python": {
     "delete_cmd_postfix": "",
     "delete_cmd_prefix": "del ",
     "library": "var_list.py",
     "varRefreshCmd": "print(var_dic_list())"
    },
    "r": {
     "delete_cmd_postfix": ") ",
     "delete_cmd_prefix": "rm(",
     "library": "var_list.r",
     "varRefreshCmd": "cat(var_dic_list()) "
    }
   },
   "types_to_exclude": [
    "module",
    "function",
    "builtin_function_or_method",
    "instance",
    "_Feature"
   ],
   "window_display": false
  }
 },
 "nbformat": 4,
 "nbformat_minor": 2
}
