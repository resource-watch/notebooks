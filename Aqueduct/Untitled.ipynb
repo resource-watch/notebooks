{
 "cells": [
  {
   "cell_type": "code",
   "execution_count": 4,
   "metadata": {},
   "outputs": [],
   "source": [
    "import pandas as pd"
   ]
  },
  {
   "cell_type": "code",
   "execution_count": 5,
   "metadata": {},
   "outputs": [
    {
     "data": {
      "text/html": [
       "<div>\n",
       "<style scoped>\n",
       "    .dataframe tbody tr th:only-of-type {\n",
       "        vertical-align: middle;\n",
       "    }\n",
       "\n",
       "    .dataframe tbody tr th {\n",
       "        vertical-align: top;\n",
       "    }\n",
       "\n",
       "    .dataframe thead th {\n",
       "        text-align: right;\n",
       "    }\n",
       "</style>\n",
       "<table border=\"1\" class=\"dataframe\">\n",
       "  <thead>\n",
       "    <tr style=\"text-align: right;\">\n",
       "      <th></th>\n",
       "      <th>Unnamed: 0</th>\n",
       "      <th>location name</th>\n",
       "      <th>address</th>\n",
       "    </tr>\n",
       "  </thead>\n",
       "  <tbody>\n",
       "    <tr>\n",
       "      <th>0</th>\n",
       "      <td>1</td>\n",
       "      <td>TMMAL</td>\n",
       "      <td>1 Cottonvalley Dr NW, Huntsville, AL 35810 Uni...</td>\n",
       "    </tr>\n",
       "    <tr>\n",
       "      <th>1</th>\n",
       "      <td>2</td>\n",
       "      <td>MTMUS</td>\n",
       "      <td>9000 Greenbriar Parkway, Huntsville, AL 35756 ...</td>\n",
       "    </tr>\n",
       "    <tr>\n",
       "      <th>2</th>\n",
       "      <td>3</td>\n",
       "      <td>DC II Phoenix</td>\n",
       "      <td>120 East Van Buren Street, Phoenix, AZ 85004 U...</td>\n",
       "    </tr>\n",
       "    <tr>\n",
       "      <th>3</th>\n",
       "      <td>4</td>\n",
       "      <td>Phoenix Satellite Training</td>\n",
       "      <td>4008 S. 23rd Street, Phoenix, AZ 85040 United ...</td>\n",
       "    </tr>\n",
       "    <tr>\n",
       "      <th>4</th>\n",
       "      <td>5</td>\n",
       "      <td>TAPG</td>\n",
       "      <td>30700 West Patton Rd, Wittmann, AZ 85316 Unite...</td>\n",
       "    </tr>\n",
       "  </tbody>\n",
       "</table>\n",
       "</div>"
      ],
      "text/plain": [
       "   Unnamed: 0               location name  \\\n",
       "0           1                       TMMAL   \n",
       "1           2                       MTMUS   \n",
       "2           3               DC II Phoenix   \n",
       "3           4  Phoenix Satellite Training   \n",
       "4           5                        TAPG   \n",
       "\n",
       "                                             address  \n",
       "0  1 Cottonvalley Dr NW, Huntsville, AL 35810 Uni...  \n",
       "1  9000 Greenbriar Parkway, Huntsville, AL 35756 ...  \n",
       "2  120 East Van Buren Street, Phoenix, AZ 85004 U...  \n",
       "3  4008 S. 23rd Street, Phoenix, AZ 85040 United ...  \n",
       "4  30700 West Patton Rd, Wittmann, AZ 85316 Unite...  "
      ]
     },
     "execution_count": 5,
     "metadata": {},
     "output_type": "execute_result"
    }
   ],
   "source": [
    "excel = pd.read_excel('/Users/alicia/Downloads/2019_05_10 TMNA Master Site  Aqueduct Input 2019_08_19 (1).xlsx')\n",
    "excel.head()"
   ]
  },
  {
   "cell_type": "code",
   "execution_count": 6,
   "metadata": {},
   "outputs": [
    {
     "data": {
      "text/plain": [
       "Index(['Unnamed: 0', 'location name', 'address'], dtype='object')"
      ]
     },
     "execution_count": 6,
     "metadata": {},
     "output_type": "execute_result"
    }
   ],
   "source": [
    "excel.columns"
   ]
  },
  {
   "cell_type": "code",
   "execution_count": null,
   "metadata": {},
   "outputs": [],
   "source": []
  }
 ],
 "metadata": {
  "kernelspec": {
   "display_name": "Python 3",
   "language": "python",
   "name": "python3"
  },
  "language_info": {
   "codemirror_mode": {
    "name": "ipython",
    "version": 3
   },
   "file_extension": ".py",
   "mimetype": "text/x-python",
   "name": "python",
   "nbconvert_exporter": "python",
   "pygments_lexer": "ipython3",
   "version": "3.7.4"
  }
 },
 "nbformat": 4,
 "nbformat_minor": 4
}
