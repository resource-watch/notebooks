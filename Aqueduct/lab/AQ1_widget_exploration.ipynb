{
 "cells": [
  {
   "cell_type": "code",
   "execution_count": 4,
   "metadata": {
    "collapsed": true,
    "init_cell": true
   },
   "outputs": [],
   "source": [
    "%matplotlib inline\n",
    "import pandas as pd\n",
    "import seaborn\n",
    "from IPython.display import display, Markdown\n",
    "import json\n",
    "import requests\n",
    "import numpy as np\n",
    "import ipywidgets as widgets\n",
    "import matplotlib.pyplot as plt"
   ]
  },
  {
   "cell_type": "code",
   "execution_count": 5,
   "metadata": {
    "code_folding": [],
    "collapsed": true,
    "init_cell": true
   },
   "outputs": [],
   "source": [
    "account = 'wri-rw'\n",
    "carto_baseurl = 'http://{0}.carto.com'.format(account)\n",
    "\n",
    "\n",
    "def query(sql):\n",
    "    display(Markdown(\">#### Sql applied:  \"))\n",
    "    display(Markdown(\">>```sql {0}  ```\".format(sql)))\n",
    "    carto_sqlapi = carto_baseurl + '/api/v2/sql'\n",
    "    payload = {\"q\": sql}\n",
    "    r = requests.get(carto_sqlapi, params=payload)\n",
    "    if r.status_code != 200:\n",
    "        return print(r.json())\n",
    "    else:\n",
    "        return pd.read_json(json.dumps(r.json()['rows']), orient='records')"
   ]
  },
  {
   "cell_type": "markdown",
   "metadata": {},
   "source": [
    "<a id=\"index\"></a>"
   ]
  },
  {
   "cell_type": "markdown",
   "metadata": {
    "heading_collapsed": true,
    "toc": "true"
   },
   "source": [
    "# Table of Contents\n",
    " <p><div class=\"lev1 toc-item\"><a href=\"#Global,-all-crops\" data-toc-modified-id=\"Global,-all-crops-1\"><span class=\"toc-item-num\">1&nbsp;&nbsp;</span>Global, all crops</a></div><div class=\"lev2 toc-item\"><a href=\"#groundwater-table-hot-spots,-the-top-5-irrigated-crops-at-risk\" data-toc-modified-id=\"groundwater-table-hot-spots,-the-top-5-irrigated-crops-at-risk-11\"><span class=\"toc-item-num\">1.1&nbsp;&nbsp;</span>groundwater table hot spots, the top 5 irrigated crops at risk</a></div><div class=\"lev2 toc-item\"><a href=\"#drought-severity-soil,-the-top-5-irrigated-crops-at-risk\" data-toc-modified-id=\"drought-severity-soil,-the-top-5-irrigated-crops-at-risk-12\"><span class=\"toc-item-num\">1.2&nbsp;&nbsp;</span>drought severity-soil, the top 5 irrigated crops at risk</a></div><div class=\"lev2 toc-item\"><a href=\"#Top-10-countries-with-highest-ag-water-stress-scores-(which-Tianyi-will-provide-this-week)\" data-toc-modified-id=\"Top-10-countries-with-highest-ag-water-stress-scores-(which-Tianyi-will-provide-this-week)-13\"><span class=\"toc-item-num\">1.3&nbsp;&nbsp;</span>Top 10 countries with highest ag water stress scores (which Tianyi will provide this week)</a></div><div class=\"lev2 toc-item\"><a href=\"#Top-10-countries-with-highest-ag-drought-severity-risk-scores-(which-Tianyi-will-provide-this-week)\" data-toc-modified-id=\"Top-10-countries-with-highest-ag-drought-severity-risk-scores-(which-Tianyi-will-provide-this-week)-14\"><span class=\"toc-item-num\">1.4&nbsp;&nbsp;</span>Top 10 countries with highest ag drought severity risk scores (which Tianyi will provide this week)</a></div><div class=\"lev1 toc-item\"><a href=\"#Global,-one-crop\" data-toc-modified-id=\"Global,-one-crop-2\"><span class=\"toc-item-num\">2&nbsp;&nbsp;</span>Global, one crop</a></div><div class=\"lev2 toc-item\"><a href=\"#Top-5-10-net-importers-and-net-exporters\" data-toc-modified-id=\"Top-5-10-net-importers-and-net-exporters-21\"><span class=\"toc-item-num\">2.1&nbsp;&nbsp;</span>Top 5-10 net importers and net exporters</a></div><div class=\"lev2 toc-item\"><a href=\"#Yield,-area,-production,-price,-demand-change-over-time\" data-toc-modified-id=\"Yield,-area,-production,-price,-demand-change-over-time-22\"><span class=\"toc-item-num\">2.2&nbsp;&nbsp;</span>Yield, area, production, price, demand change over time</a></div><div class=\"lev2 toc-item\"><a href=\"#Top-5-countries-with-greatest-projected-irrigated-yield-increases-through-[future-selected-year]-(shaded-by-water-stress-risk)\" data-toc-modified-id=\"Top-5-countries-with-greatest-projected-irrigated-yield-increases-through-[future-selected-year]-(shaded-by-water-stress-risk)-23\"><span class=\"toc-item-num\">2.3&nbsp;&nbsp;</span>Top 5 countries with greatest projected irrigated yield increases through [future selected year] (shaded by water stress risk)</a></div><div class=\"lev2 toc-item\"><a href=\"#Top-5-countries-with-greatest-projected-rainfed-yield-increases-through-[future-selected-year]-(shaded-by-drought-severity-risk)\" data-toc-modified-id=\"Top-5-countries-with-greatest-projected-rainfed-yield-increases-through-[future-selected-year]-(shaded-by-drought-severity-risk)-24\"><span class=\"toc-item-num\">2.4&nbsp;&nbsp;</span>Top 5 countries with greatest projected rainfed yield increases through [future selected year] (shaded by drought severity risk)</a></div><div class=\"lev2 toc-item\"><a href=\"#Top-10-countries-with-highest-ag-water-stress-scores-(which-Tianyi-will-provide-this-week)\" data-toc-modified-id=\"Top-10-countries-with-highest-ag-water-stress-scores-(which-Tianyi-will-provide-this-week)-25\"><span class=\"toc-item-num\">2.5&nbsp;&nbsp;</span>Top 10 countries with highest ag water stress scores (which Tianyi will provide this week)</a></div><div class=\"lev2 toc-item\"><a href=\"#Top-10-countries-with-highest-ag-drought-severity-risk-scores-(which-Tianyi-will-provide-this-week)\" data-toc-modified-id=\"Top-10-countries-with-highest-ag-drought-severity-risk-scores-(which-Tianyi-will-provide-this-week)-26\"><span class=\"toc-item-num\">2.6&nbsp;&nbsp;</span>Top 10 countries with highest ag drought severity risk scores (which Tianyi will provide this week)</a></div><div class=\"lev2 toc-item\"><a href=\"#Top-5-crop-producing-countries-(by-level-of-production)-shaded-by-water-risk-score\" data-toc-modified-id=\"Top-5-crop-producing-countries-(by-level-of-production)-shaded-by-water-risk-score-27\"><span class=\"toc-item-num\">2.7&nbsp;&nbsp;</span>Top 5 crop-producing countries (by level of production) shaded by water risk score</a></div><div class=\"lev2 toc-item\"><a href=\"#Text-widget:\" data-toc-modified-id=\"Text-widget:-28\"><span class=\"toc-item-num\">2.8&nbsp;&nbsp;</span>Text widget:</a></div><div class=\"lev1 toc-item\"><a href=\"#Country,-all-crops\" data-toc-modified-id=\"Country,-all-crops-3\"><span class=\"toc-item-num\">3&nbsp;&nbsp;</span>Country, all crops</a></div><div class=\"lev2 toc-item\"><a href=\"#Top-5-irrigated-crops-by-level-of-production-that-are-grown-in-high-water-stress-areas\" data-toc-modified-id=\"Top-5-irrigated-crops-by-level-of-production-that-are-grown-in-high-water-stress-areas-31\"><span class=\"toc-item-num\">3.1&nbsp;&nbsp;</span>Top 5 irrigated crops by level of production that are grown in high water stress areas</a></div><div class=\"lev2 toc-item\"><a href=\"#Top-5-irrigated-crops-by-level-of-production-that-are-grown-in-groundwater-decline-hot-spots\" data-toc-modified-id=\"Top-5-irrigated-crops-by-level-of-production-that-are-grown-in-groundwater-decline-hot-spots-32\"><span class=\"toc-item-num\">3.2&nbsp;&nbsp;</span>Top 5 irrigated crops by level of production that are grown in groundwater decline hot spots</a></div><div class=\"lev2 toc-item\"><a href=\"#Top-5-rainfed-crops-by-level-of-production-that-are-grown-in-high-drought-severity-risk-areas\" data-toc-modified-id=\"Top-5-rainfed-crops-by-level-of-production-that-are-grown-in-high-drought-severity-risk-areas-33\"><span class=\"toc-item-num\">3.3&nbsp;&nbsp;</span>Top 5 rainfed crops by level of production that are grown in high drought severity risk areas</a></div><div class=\"lev2 toc-item\"><a href=\"#Change-in-net-trade-over-time-for-top-5-crops-in-highest-demand\" data-toc-modified-id=\"Change-in-net-trade-over-time-for-top-5-crops-in-highest-demand-34\"><span class=\"toc-item-num\">3.4&nbsp;&nbsp;</span>Change in net trade over time for top 5 crops in highest demand</a></div><div class=\"lev1 toc-item\"><a href=\"#Country,-one-crop\" data-toc-modified-id=\"Country,-one-crop-4\"><span class=\"toc-item-num\">4&nbsp;&nbsp;</span>Country, one crop</a></div><div class=\"lev2 toc-item\"><a href=\"#Yield,-area,-production,-price,-demand-change-over-time\" data-toc-modified-id=\"Yield,-area,-production,-price,-demand-change-over-time-41\"><span class=\"toc-item-num\">4.1&nbsp;&nbsp;</span>Yield, area, production, price, demand change over time</a></div><div class=\"lev2 toc-item\"><a href=\"#Change-in-net-trade-over-time\" data-toc-modified-id=\"Change-in-net-trade-over-time-42\"><span class=\"toc-item-num\">4.2&nbsp;&nbsp;</span>Change in net trade over time</a></div><div class=\"lev2 toc-item\"><a href=\"#Text-widget:\" data-toc-modified-id=\"Text-widget:-43\"><span class=\"toc-item-num\">4.3&nbsp;&nbsp;</span>Text widget:</a></div>"
   ]
  },
  {
   "cell_type": "markdown",
   "metadata": {},
   "source": [
    "# Global, all crops"
   ]
  },
  {
   "cell_type": "markdown",
   "metadata": {},
   "source": [
    "<a id=\"global_all_crops_1\"></a>\n",
    ">## groundwater table hot spots, the top 5 irrigated crops at risk"
   ]
  },
  {
   "cell_type": "markdown",
   "metadata": {},
   "source": [
    ">* hot spots: >2 cm/year in groundwater decline\n",
    ">* Could show amount of production of crops that are at risk\n",
    ">* Could show % of global crop production that is at risk (if number is significant)\n",
    ">* Bar graph?"
   ]
  },
  {
   "cell_type": "code",
   "execution_count": 29,
   "metadata": {
    "collapsed": true,
    "scrolled": false
   },
   "outputs": [],
   "source": [
    "sql = '''\n",
    "\n",
    "'''\n",
    "dataset = query(sql)\n",
    "display(dataset.head(3))\n",
    "display(dataset.shape)\n",
    "dataset.plot.barh(y='value', x='region');"
   ]
  },
  {
   "cell_type": "markdown",
   "metadata": {},
   "source": [
    "<div style=\"text-align: right\"> [return index](#index) </div>"
   ]
  },
  {
   "cell_type": "markdown",
   "metadata": {},
   "source": [
    ">## drought severity-soil, the top 5 irrigated crops at risk"
   ]
  },
  {
   "cell_type": "markdown",
   "metadata": {},
   "source": [
    ">* “hot spots”: high or very high risk\n",
    ">* Could show amount of production of crops that are at risk\n",
    ">* Could show % of global crop production that is at risk (if number is significant)\n",
    ">* Bar graph?"
   ]
  },
  {
   "cell_type": "code",
   "execution_count": 29,
   "metadata": {
    "collapsed": true,
    "scrolled": false
   },
   "outputs": [],
   "source": [
    "sql = '''\n",
    "\n",
    "'''\n",
    "dataset = query(sql)\n",
    "display(dataset.head(3))\n",
    "display(dataset.shape)\n",
    "dataset.plot.barh(y='value', x='region');"
   ]
  },
  {
   "cell_type": "markdown",
   "metadata": {},
   "source": [
    "<div style=\"text-align: right\"> [return index](#index) </div>"
   ]
  },
  {
   "cell_type": "markdown",
   "metadata": {},
   "source": [
    ">## Top 10 countries with highest ag water stress scores (which Tianyi will provide this week)"
   ]
  },
  {
   "cell_type": "code",
   "execution_count": 10,
   "metadata": {
    "scrolled": false
   },
   "outputs": [
    {
     "data": {
      "text/markdown": [
       ">#### Sql applied:  "
      ],
      "text/plain": [
       "<IPython.core.display.Markdown object>"
      ]
     },
     "metadata": {},
     "output_type": "display_data"
    },
    {
     "data": {
      "text/markdown": [
       ">>```sql \n",
       "SELECT iso,name_iso, max(weight_count) as value FROM \"wri-rw\".water_risk_rankings_v3 where year = 2014 and indicator= 'water_stress' and weight_sum is not null group by iso,name_iso order by value desc limit 10\n",
       "  ```"
      ],
      "text/plain": [
       "<IPython.core.display.Markdown object>"
      ]
     },
     "metadata": {},
     "output_type": "display_data"
    },
    {
     "data": {
      "text/html": [
       "<div>\n",
       "<style>\n",
       "    .dataframe thead tr:only-child th {\n",
       "        text-align: right;\n",
       "    }\n",
       "\n",
       "    .dataframe thead th {\n",
       "        text-align: left;\n",
       "    }\n",
       "\n",
       "    .dataframe tbody tr th {\n",
       "        vertical-align: top;\n",
       "    }\n",
       "</style>\n",
       "<table border=\"1\" class=\"dataframe\">\n",
       "  <thead>\n",
       "    <tr style=\"text-align: right;\">\n",
       "      <th></th>\n",
       "      <th>iso</th>\n",
       "      <th>name_iso</th>\n",
       "      <th>value</th>\n",
       "    </tr>\n",
       "  </thead>\n",
       "  <tbody>\n",
       "    <tr>\n",
       "      <th>0</th>\n",
       "      <td>USA</td>\n",
       "      <td>UNITED STATES</td>\n",
       "      <td>70445</td>\n",
       "    </tr>\n",
       "    <tr>\n",
       "      <th>1</th>\n",
       "      <td>RUS</td>\n",
       "      <td>RUSSIAN FEDERATION</td>\n",
       "      <td>66931</td>\n",
       "    </tr>\n",
       "    <tr>\n",
       "      <th>2</th>\n",
       "      <td>CHN</td>\n",
       "      <td>CHINA</td>\n",
       "      <td>66633</td>\n",
       "    </tr>\n",
       "  </tbody>\n",
       "</table>\n",
       "</div>"
      ],
      "text/plain": [
       "   iso            name_iso  value\n",
       "0  USA       UNITED STATES  70445\n",
       "1  RUS  RUSSIAN FEDERATION  66931\n",
       "2  CHN               CHINA  66633"
      ]
     },
     "metadata": {},
     "output_type": "display_data"
    },
    {
     "data": {
      "text/plain": [
       "(10, 3)"
      ]
     },
     "metadata": {},
     "output_type": "display_data"
    },
    {
     "data": {
      "image/png": "[encoded data removed]",
      "text/plain": [
       "<matplotlib.figure.Figure at 0x114c02748>"
      ]
     },
     "metadata": {},
     "output_type": "display_data"
    }
   ],
   "source": [
    "sql = '''\n",
    "SELECT iso,name_iso, max(weight_count) as value FROM \"wri-rw\".water_risk_rankings_v3 where year = 2014 and indicator= 'water_stress' and weight_sum is not null group by iso,name_iso order by value desc limit 10\n",
    "'''\n",
    "dataset = query(sql)\n",
    "display(dataset.head(3))\n",
    "display(dataset.shape)\n",
    "dataset.sort_values('value').plot.barh(y='value', x='name_iso');"
   ]
  },
  {
   "cell_type": "markdown",
   "metadata": {},
   "source": [
    "<div style=\"text-align: right\"> [return index](#index) </div>"
   ]
  },
  {
   "cell_type": "markdown",
   "metadata": {},
   "source": [
    ">## Top 10 countries with highest ag drought severity risk scores (which Tianyi will provide this week)"
   ]
  },
  {
   "cell_type": "code",
   "execution_count": 11,
   "metadata": {
    "scrolled": false
   },
   "outputs": [
    {
     "data": {
      "text/markdown": [
       ">#### Sql applied:  "
      ],
      "text/plain": [
       "<IPython.core.display.Markdown object>"
      ]
     },
     "metadata": {},
     "output_type": "display_data"
    },
    {
     "data": {
      "text/markdown": [
       ">>```sql \n",
       "SELECT iso,name_iso, max(weight_count) as value FROM \"wri-rw\".water_risk_rankings_v3 where year = 2014 and indicator= 'drought_stress' and weight_sum is not null group by iso,name_iso order by value desc limit 10\n",
       "  ```"
      ],
      "text/plain": [
       "<IPython.core.display.Markdown object>"
      ]
     },
     "metadata": {},
     "output_type": "display_data"
    },
    {
     "data": {
      "text/html": [
       "<div>\n",
       "<style>\n",
       "    .dataframe thead tr:only-child th {\n",
       "        text-align: right;\n",
       "    }\n",
       "\n",
       "    .dataframe thead th {\n",
       "        text-align: left;\n",
       "    }\n",
       "\n",
       "    .dataframe tbody tr th {\n",
       "        vertical-align: top;\n",
       "    }\n",
       "</style>\n",
       "<table border=\"1\" class=\"dataframe\">\n",
       "  <thead>\n",
       "    <tr style=\"text-align: right;\">\n",
       "      <th></th>\n",
       "      <th>iso</th>\n",
       "      <th>name_iso</th>\n",
       "      <th>value</th>\n",
       "    </tr>\n",
       "  </thead>\n",
       "  <tbody>\n",
       "    <tr>\n",
       "      <th>0</th>\n",
       "      <td>USA</td>\n",
       "      <td>UNITED STATES</td>\n",
       "      <td>70445</td>\n",
       "    </tr>\n",
       "    <tr>\n",
       "      <th>1</th>\n",
       "      <td>RUS</td>\n",
       "      <td>RUSSIAN FEDERATION</td>\n",
       "      <td>66931</td>\n",
       "    </tr>\n",
       "    <tr>\n",
       "      <th>2</th>\n",
       "      <td>CHN</td>\n",
       "      <td>CHINA</td>\n",
       "      <td>66633</td>\n",
       "    </tr>\n",
       "  </tbody>\n",
       "</table>\n",
       "</div>"
      ],
      "text/plain": [
       "   iso            name_iso  value\n",
       "0  USA       UNITED STATES  70445\n",
       "1  RUS  RUSSIAN FEDERATION  66931\n",
       "2  CHN               CHINA  66633"
      ]
     },
     "metadata": {},
     "output_type": "display_data"
    },
    {
     "data": {
      "text/plain": [
       "(10, 3)"
      ]
     },
     "metadata": {},
     "output_type": "display_data"
    },
    {
     "data": {
      "image/png": "[encoded data removed]",
      "text/plain": [
       "<matplotlib.figure.Figure at 0x114bd9ba8>"
      ]
     },
     "metadata": {},
     "output_type": "display_data"
    }
   ],
   "source": [
    "sql = '''\n",
    "SELECT iso,name_iso, max(weight_count) as value FROM \"wri-rw\".water_risk_rankings_v3 where year = 2014 and indicator= 'drought_stress' and weight_sum is not null group by iso,name_iso order by value desc limit 10\n",
    "'''\n",
    "dataset = query(sql)\n",
    "display(dataset.head(3))\n",
    "display(dataset.shape)\n",
    "dataset.sort_values('value').plot.barh(y='value', x='name_iso');"
   ]
  },
  {
   "cell_type": "markdown",
   "metadata": {},
   "source": [
    "<div style=\"text-align: right\"> [return index](#index) </div>\n",
    "\n",
    "***"
   ]
  },
  {
   "cell_type": "markdown",
   "metadata": {},
   "source": [
    "# Global, one crop"
   ]
  },
  {
   "cell_type": "markdown",
   "metadata": {},
   "source": [
    ">## Top 5-10 net importers and net exporters"
   ]
  },
  {
   "cell_type": "code",
   "execution_count": 27,
   "metadata": {
    "scrolled": false
   },
   "outputs": [
    {
     "data": {
      "text/markdown": [
       ">#### Sql applied: "
      ],
      "text/plain": [
       "<IPython.core.display.Markdown object>"
      ]
     },
     "metadata": {},
     "output_type": "display_data"
    },
    {
     "data": {
      "text/markdown": [
       ">>```sql \n",
       "with data as (SELECT *\n",
       "FROM combined01_prepared\n",
       "WHERE year = 2005 and impactparameter = 'Net trade' and scenario = 'SSP2-MIRO' and commodity='All Cereals' order by value)\n",
       "(SELECT *\n",
       "FROM data\n",
       "order by value desc limit 5)\n",
       "union all\n",
       "(SELECT *\n",
       "FROM data\n",
       "order by value asc limit 5)\n",
       "                     ```"
      ],
      "text/plain": [
       "<IPython.core.display.Markdown object>"
      ]
     },
     "metadata": {},
     "output_type": "display_data"
    },
    {
     "data": {
      "text/html": [
       "<div>\n",
       "<style>\n",
       "    .dataframe thead tr:only-child th {\n",
       "        text-align: right;\n",
       "    }\n",
       "\n",
       "    .dataframe thead th {\n",
       "        text-align: left;\n",
       "    }\n",
       "\n",
       "    .dataframe tbody tr th {\n",
       "        vertical-align: top;\n",
       "    }\n",
       "</style>\n",
       "<table border=\"1\" class=\"dataframe\">\n",
       "  <thead>\n",
       "    <tr style=\"text-align: right;\">\n",
       "      <th></th>\n",
       "      <th>cartodb_id</th>\n",
       "      <th>commodity</th>\n",
       "      <th>gcm_type</th>\n",
       "      <th>impactparameter</th>\n",
       "      <th>irrigation</th>\n",
       "      <th>iso</th>\n",
       "      <th>region</th>\n",
       "      <th>scenario</th>\n",
       "      <th>the_geom</th>\n",
       "      <th>the_geom_webmercator</th>\n",
       "      <th>value</th>\n",
       "      <th>year</th>\n",
       "    </tr>\n",
       "  </thead>\n",
       "  <tbody>\n",
       "    <tr>\n",
       "      <th>0</th>\n",
       "      <td>259879</td>\n",
       "      <td>All Cereals</td>\n",
       "      <td>miro</td>\n",
       "      <td>Net trade</td>\n",
       "      <td></td>\n",
       "      <td>USA</td>\n",
       "      <td>USA</td>\n",
       "      <td>SSP2-MIRO</td>\n",
       "      <td>NaN</td>\n",
       "      <td>NaN</td>\n",
       "      <td>81917.585938</td>\n",
       "      <td>2005</td>\n",
       "    </tr>\n",
       "    <tr>\n",
       "      <th>1</th>\n",
       "      <td>260167</td>\n",
       "      <td>All Cereals</td>\n",
       "      <td>miro</td>\n",
       "      <td>Net trade</td>\n",
       "      <td></td>\n",
       "      <td>FRA</td>\n",
       "      <td>France</td>\n",
       "      <td>SSP2-MIRO</td>\n",
       "      <td>NaN</td>\n",
       "      <td>NaN</td>\n",
       "      <td>29196.542969</td>\n",
       "      <td>2005</td>\n",
       "    </tr>\n",
       "    <tr>\n",
       "      <th>2</th>\n",
       "      <td>259903</td>\n",
       "      <td>All Cereals</td>\n",
       "      <td>miro</td>\n",
       "      <td>Net trade</td>\n",
       "      <td></td>\n",
       "      <td>ARG</td>\n",
       "      <td>Argentina</td>\n",
       "      <td>SSP2-MIRO</td>\n",
       "      <td>NaN</td>\n",
       "      <td>NaN</td>\n",
       "      <td>21170.955078</td>\n",
       "      <td>2005</td>\n",
       "    </tr>\n",
       "  </tbody>\n",
       "</table>\n",
       "</div>"
      ],
      "text/plain": [
       "   cartodb_id    commodity gcm_type impactparameter irrigation  iso  \\\n",
       "0      259879  All Cereals     miro       Net trade             USA   \n",
       "1      260167  All Cereals     miro       Net trade             FRA   \n",
       "2      259903  All Cereals     miro       Net trade             ARG   \n",
       "\n",
       "      region   scenario  the_geom  the_geom_webmercator         value  year  \n",
       "0        USA  SSP2-MIRO       NaN                   NaN  81917.585938  2005  \n",
       "1     France  SSP2-MIRO       NaN                   NaN  29196.542969  2005  \n",
       "2  Argentina  SSP2-MIRO       NaN                   NaN  21170.955078  2005  "
      ]
     },
     "metadata": {},
     "output_type": "display_data"
    },
    {
     "data": {
      "text/plain": [
       "(10, 12)"
      ]
     },
     "metadata": {},
     "output_type": "display_data"
    },
    {
     "data": {
      "image/png": "[encoded data removed]",
      "text/plain": [
       "<matplotlib.figure.Figure at 0x136dfafd0>"
      ]
     },
     "metadata": {},
     "output_type": "display_data"
    }
   ],
   "source": [
    "sql = '''\n",
    "with data as (SELECT *\n",
    "FROM combined01_prepared\n",
    "WHERE year = 2005 and impactparameter = 'Net trade' and scenario = 'SSP2-MIRO' and commodity='All Cereals' order by value)\n",
    "(SELECT *\n",
    "FROM data\n",
    "order by value desc limit 5)\n",
    "union all\n",
    "(SELECT *\n",
    "FROM data\n",
    "order by value asc limit 5)\n",
    "'''\n",
    "dataset = query(sql)\n",
    "display(dataset.head(3))\n",
    "display(dataset.shape)\n",
    "dataset.sort_values('value').plot.barh(y='value', x='name_iso');"
   ]
  },
  {
   "cell_type": "markdown",
   "metadata": {},
   "source": [
    "<div style=\"text-align: right\"> [return index](#index) </div>\n"
   ]
  },
  {
   "cell_type": "markdown",
   "metadata": {},
   "source": [
    ">## Yield, area, production, price, demand change over time"
   ]
  },
  {
   "cell_type": "markdown",
   "metadata": {},
   "source": [
    ">* Line graph with separate-colored lines for each IFPRI dataset\n",
    ">* % change on y-axis; time on x-axis"
   ]
  },
  {
   "cell_type": "code",
   "execution_count": 20,
   "metadata": {
    "scrolled": false
   },
   "outputs": [
    {
     "data": {
      "text/markdown": [
       ">#### Sql applied: "
      ],
      "text/plain": [
       "<IPython.core.display.Markdown object>"
      ]
     },
     "metadata": {},
     "output_type": "display_data"
    },
    {
     "data": {
      "text/markdown": [
       ">>```sql \n",
       "WITH data as (\n",
       "    SELECT impactparameter, sum(value) as value, year\n",
       "    FROM combined01_prepared\n",
       "    WHERE impactparameter  in ('Food Demand','Yield','Area', 'Production', 'World price') \n",
       "    AND scenario = 'SSP2-MIRO' \n",
       "    AND commodity='Soybean' \n",
       "    GROUP BY impactparameter, year\n",
       "    ORDER BY year ASC),\n",
       "    baseline AS (\n",
       "    SELECT impactparameter, value as baseline\n",
       "    FROM data\n",
       "    WHERE year =2005 \n",
       "    order by year asc)\n",
       "SELECT data.impactparameter, 100*((value-baseline.baseline)/baseline.baseline) as value, year \n",
       "FROM data inner join baseline on data.impactparameter=baseline.impactparameter \n",
       "order by year asc, data.impactparameter asc\n",
       "                     ```"
      ],
      "text/plain": [
       "<IPython.core.display.Markdown object>"
      ]
     },
     "metadata": {},
     "output_type": "display_data"
    },
    {
     "data": {
      "text/html": [
       "<div>\n",
       "<style>\n",
       "    .dataframe thead tr:only-child th {\n",
       "        text-align: right;\n",
       "    }\n",
       "\n",
       "    .dataframe thead th {\n",
       "        text-align: left;\n",
       "    }\n",
       "\n",
       "    .dataframe tbody tr th {\n",
       "        vertical-align: top;\n",
       "    }\n",
       "</style>\n",
       "<table border=\"1\" class=\"dataframe\">\n",
       "  <thead>\n",
       "    <tr style=\"text-align: right;\">\n",
       "      <th></th>\n",
       "      <th>impactparameter</th>\n",
       "      <th>value</th>\n",
       "      <th>year</th>\n",
       "    </tr>\n",
       "  </thead>\n",
       "  <tbody>\n",
       "    <tr>\n",
       "      <th>0</th>\n",
       "      <td>Area</td>\n",
       "      <td>0.000000</td>\n",
       "      <td>2005</td>\n",
       "    </tr>\n",
       "    <tr>\n",
       "      <th>1</th>\n",
       "      <td>Food Demand</td>\n",
       "      <td>0.000000</td>\n",
       "      <td>2005</td>\n",
       "    </tr>\n",
       "    <tr>\n",
       "      <th>2</th>\n",
       "      <td>Production</td>\n",
       "      <td>0.000000</td>\n",
       "      <td>2005</td>\n",
       "    </tr>\n",
       "    <tr>\n",
       "      <th>3</th>\n",
       "      <td>World price</td>\n",
       "      <td>0.000000</td>\n",
       "      <td>2005</td>\n",
       "    </tr>\n",
       "    <tr>\n",
       "      <th>4</th>\n",
       "      <td>Yield</td>\n",
       "      <td>0.000000</td>\n",
       "      <td>2005</td>\n",
       "    </tr>\n",
       "    <tr>\n",
       "      <th>5</th>\n",
       "      <td>Area</td>\n",
       "      <td>4.073071</td>\n",
       "      <td>2010</td>\n",
       "    </tr>\n",
       "  </tbody>\n",
       "</table>\n",
       "</div>"
      ],
      "text/plain": [
       "  impactparameter     value  year\n",
       "0            Area  0.000000  2005\n",
       "1     Food Demand  0.000000  2005\n",
       "2      Production  0.000000  2005\n",
       "3     World price  0.000000  2005\n",
       "4           Yield  0.000000  2005\n",
       "5            Area  4.073071  2010"
      ]
     },
     "metadata": {},
     "output_type": "display_data"
    },
    {
     "data": {
      "text/plain": [
       "(30, 3)"
      ]
     },
     "metadata": {},
     "output_type": "display_data"
    },
    {
     "data": {
      "image/png": "[encoded data removed]",
      "text/plain": [
       "<matplotlib.figure.Figure at 0x13d8beda0>"
      ]
     },
     "metadata": {},
     "output_type": "display_data"
    }
   ],
   "source": [
    "sql = '''\n",
    "WITH data as (\n",
    "    SELECT impactparameter, sum(value) as value, year\n",
    "    FROM combined01_prepared\n",
    "    WHERE impactparameter  in ('Food Demand','Yield','Area', 'Production', 'World price') \n",
    "    AND scenario = 'SSP2-MIRO' \n",
    "    AND commodity='Soybean' \n",
    "    GROUP BY impactparameter, year\n",
    "    ORDER BY year ASC),\n",
    "    baseline AS (\n",
    "    SELECT impactparameter, value as baseline\n",
    "    FROM data\n",
    "    WHERE year =2005 \n",
    "    order by year asc)\n",
    "SELECT data.impactparameter, 100*((value-baseline.baseline)/baseline.baseline) as value, year \n",
    "FROM data inner join baseline on data.impactparameter=baseline.impactparameter \n",
    "order by year asc, data.impactparameter asc\n",
    "'''\n",
    "dataset = query(sql)\n",
    "display(dataset.head(6))\n",
    "display(dataset.shape)\n",
    "fig, ax = plt.subplots(figsize=(8,6))\n",
    "for label, df in dataset.groupby('impactparameter'):\n",
    "    df.plot(kind=\"line\", ax=ax, label=label, x='year', y = 'value')\n",
    "plt.legend();"
   ]
  },
  {
   "cell_type": "markdown",
   "metadata": {},
   "source": [
    "<div style=\"text-align: right\"> [return index](#index) </div>"
   ]
  },
  {
   "cell_type": "markdown",
   "metadata": {},
   "source": [
    ">## Top 5 countries with greatest projected irrigated yield increases through [future selected year] (shaded by water stress risk)"
   ]
  },
  {
   "cell_type": "code",
   "execution_count": 24,
   "metadata": {
    "scrolled": false
   },
   "outputs": [
    {
     "data": {
      "text/markdown": [
       ">#### Sql applied: "
      ],
      "text/plain": [
       "<IPython.core.display.Markdown object>"
      ]
     },
     "metadata": {},
     "output_type": "display_data"
    },
    {
     "data": {
      "text/markdown": [
       ">>```sql \n",
       "WITH data as (\n",
       "    SELECT impactparameter, value, year, region\n",
       "    FROM combined01_prepared\n",
       "    WHERE impactparameter  in ('Yield') \n",
       "    AND scenario = 'SSP2-MIRO' \n",
       "    AND commodity='Soybean' \n",
       "    AND irrigation = 'irrigated'\n",
       "    AND year in (2005, 2050)\n",
       "    ORDER BY year ASC),\n",
       "    baseline AS (\n",
       "    SELECT region, impactparameter, value as baseline\n",
       "    FROM data\n",
       "    WHERE year =2005 \n",
       "    order by year asc)\n",
       "SELECT data.region, data.impactparameter, 100*((value-baseline.baseline)/baseline.baseline) as value, year \n",
       "FROM data inner join baseline on data.impactparameter=baseline.impactparameter and data.region=baseline.region\n",
       "order by value desc limit 5\n",
       "                     ```"
      ],
      "text/plain": [
       "<IPython.core.display.Markdown object>"
      ]
     },
     "metadata": {},
     "output_type": "display_data"
    },
    {
     "data": {
      "text/html": [
       "<div>\n",
       "<style>\n",
       "    .dataframe thead tr:only-child th {\n",
       "        text-align: right;\n",
       "    }\n",
       "\n",
       "    .dataframe thead th {\n",
       "        text-align: left;\n",
       "    }\n",
       "\n",
       "    .dataframe tbody tr th {\n",
       "        vertical-align: top;\n",
       "    }\n",
       "</style>\n",
       "<table border=\"1\" class=\"dataframe\">\n",
       "  <thead>\n",
       "    <tr style=\"text-align: right;\">\n",
       "      <th></th>\n",
       "      <th>impactparameter</th>\n",
       "      <th>region</th>\n",
       "      <th>value</th>\n",
       "      <th>year</th>\n",
       "    </tr>\n",
       "  </thead>\n",
       "  <tbody>\n",
       "    <tr>\n",
       "      <th>0</th>\n",
       "      <td>Yield</td>\n",
       "      <td>Uruguay</td>\n",
       "      <td>139.050508</td>\n",
       "      <td>2050</td>\n",
       "    </tr>\n",
       "    <tr>\n",
       "      <th>1</th>\n",
       "      <td>Yield</td>\n",
       "      <td>Argentina</td>\n",
       "      <td>79.118605</td>\n",
       "      <td>2050</td>\n",
       "    </tr>\n",
       "    <tr>\n",
       "      <th>2</th>\n",
       "      <td>Yield</td>\n",
       "      <td>Russia</td>\n",
       "      <td>73.999569</td>\n",
       "      <td>2050</td>\n",
       "    </tr>\n",
       "  </tbody>\n",
       "</table>\n",
       "</div>"
      ],
      "text/plain": [
       "  impactparameter     region       value  year\n",
       "0           Yield    Uruguay  139.050508  2050\n",
       "1           Yield  Argentina   79.118605  2050\n",
       "2           Yield     Russia   73.999569  2050"
      ]
     },
     "metadata": {},
     "output_type": "display_data"
    },
    {
     "data": {
      "text/plain": [
       "(5, 4)"
      ]
     },
     "metadata": {},
     "output_type": "display_data"
    },
    {
     "data": {
      "image/png": "[encoded data removed]",
      "text/plain": [
       "<matplotlib.figure.Figure at 0x12fc73780>"
      ]
     },
     "metadata": {},
     "output_type": "display_data"
    }
   ],
   "source": [
    "sql = '''\n",
    "WITH data as (\n",
    "    SELECT impactparameter, value, year, region\n",
    "    FROM combined01_prepared\n",
    "    WHERE impactparameter  in ('Yield') \n",
    "    AND scenario = 'SSP2-MIRO' \n",
    "    AND commodity='Soybean' \n",
    "    AND irrigation = 'irrigated'\n",
    "    AND year in (2005, 2050)\n",
    "    ORDER BY year ASC),\n",
    "    baseline AS (\n",
    "    SELECT region, impactparameter, value as baseline\n",
    "    FROM data\n",
    "    WHERE year =2005 \n",
    "    order by year asc)\n",
    "SELECT data.region, data.impactparameter, 100*((value-baseline.baseline)/baseline.baseline) as value, year \n",
    "FROM data inner join baseline on data.impactparameter=baseline.impactparameter and data.region=baseline.region\n",
    "order by value desc limit 5\n",
    "'''\n",
    "dataset = query(sql)\n",
    "display(dataset.head(3))\n",
    "display(dataset.shape)\n",
    "dataset.plot.barh(y='value', x='region');"
   ]
  },
  {
   "cell_type": "markdown",
   "metadata": {},
   "source": [
    "<div style=\"text-align: right\"> [return index](#index) </div>\n",
    "\n",
    "***"
   ]
  },
  {
   "cell_type": "markdown",
   "metadata": {},
   "source": [
    ">## Top 5 countries with greatest projected rainfed yield increases through [future selected year] (shaded by drought severity risk)"
   ]
  },
  {
   "cell_type": "code",
   "execution_count": 15,
   "metadata": {
    "scrolled": false
   },
   "outputs": [
    {
     "data": {
      "text/markdown": [
       ">#### Sql applied:  "
      ],
      "text/plain": [
       "<IPython.core.display.Markdown object>"
      ]
     },
     "metadata": {},
     "output_type": "display_data"
    },
    {
     "data": {
      "text/markdown": [
       ">>```sql \n",
       "WITH data as (\n",
       "    SELECT impactparameter, value, year, region\n",
       "    FROM combined01_prepared\n",
       "    WHERE impactparameter  in ('Yield') \n",
       "    AND scenario = 'SSP2-MIRO' \n",
       "    AND commodity='Soybean' \n",
       "    AND irrigation = 'rainfed'\n",
       "    AND year in (2005, 2050)\n",
       "    ORDER BY year ASC),\n",
       "    baseline AS (\n",
       "    SELECT region, impactparameter, value as baseline\n",
       "    FROM data\n",
       "    WHERE year =2005 \n",
       "    order by year asc)\n",
       "SELECT data.region, data.impactparameter, 100*((value-baseline.baseline)/baseline.baseline) as value, year \n",
       "FROM data inner join baseline on data.impactparameter=baseline.impactparameter and data.region=baseline.region\n",
       "order by value desc limit 5\n",
       "  ```"
      ],
      "text/plain": [
       "<IPython.core.display.Markdown object>"
      ]
     },
     "metadata": {},
     "output_type": "display_data"
    },
    {
     "data": {
      "text/html": [
       "<div>\n",
       "<style>\n",
       "    .dataframe thead tr:only-child th {\n",
       "        text-align: right;\n",
       "    }\n",
       "\n",
       "    .dataframe thead th {\n",
       "        text-align: left;\n",
       "    }\n",
       "\n",
       "    .dataframe tbody tr th {\n",
       "        vertical-align: top;\n",
       "    }\n",
       "</style>\n",
       "<table border=\"1\" class=\"dataframe\">\n",
       "  <thead>\n",
       "    <tr style=\"text-align: right;\">\n",
       "      <th></th>\n",
       "      <th>impactparameter</th>\n",
       "      <th>region</th>\n",
       "      <th>value</th>\n",
       "      <th>year</th>\n",
       "    </tr>\n",
       "  </thead>\n",
       "  <tbody>\n",
       "    <tr>\n",
       "      <th>0</th>\n",
       "      <td>Yield</td>\n",
       "      <td>Mali</td>\n",
       "      <td>90.286893</td>\n",
       "      <td>2050</td>\n",
       "    </tr>\n",
       "    <tr>\n",
       "      <th>1</th>\n",
       "      <td>Yield</td>\n",
       "      <td>Germany</td>\n",
       "      <td>90.204620</td>\n",
       "      <td>2050</td>\n",
       "    </tr>\n",
       "    <tr>\n",
       "      <th>2</th>\n",
       "      <td>Yield</td>\n",
       "      <td>Slovenia</td>\n",
       "      <td>80.495688</td>\n",
       "      <td>2050</td>\n",
       "    </tr>\n",
       "  </tbody>\n",
       "</table>\n",
       "</div>"
      ],
      "text/plain": [
       "  impactparameter    region      value  year\n",
       "0           Yield      Mali  90.286893  2050\n",
       "1           Yield   Germany  90.204620  2050\n",
       "2           Yield  Slovenia  80.495688  2050"
      ]
     },
     "metadata": {},
     "output_type": "display_data"
    },
    {
     "data": {
      "text/plain": [
       "(5, 4)"
      ]
     },
     "metadata": {},
     "output_type": "display_data"
    },
    {
     "data": {
      "image/png": "[encoded data removed]",
      "text/plain": [
       "<matplotlib.figure.Figure at 0x117fb8b70>"
      ]
     },
     "metadata": {},
     "output_type": "display_data"
    }
   ],
   "source": [
    "sql = '''\n",
    "WITH data as (\n",
    "    SELECT impactparameter, value, year, region\n",
    "    FROM combined01_prepared\n",
    "    WHERE impactparameter  in ('Yield') \n",
    "    AND scenario = 'SSP2-MIRO' \n",
    "    AND commodity='Soybean' \n",
    "    AND irrigation = 'rainfed'\n",
    "    AND year in (2005, 2050)\n",
    "    ORDER BY year ASC),\n",
    "    baseline AS (\n",
    "    SELECT region, impactparameter, value as baseline\n",
    "    FROM data\n",
    "    WHERE year =2005 \n",
    "    order by year asc)\n",
    "SELECT data.region, data.impactparameter, 100*((value-baseline.baseline)/baseline.baseline) as value, year \n",
    "FROM data inner join baseline on data.impactparameter=baseline.impactparameter and data.region=baseline.region\n",
    "order by value desc limit 5\n",
    "'''\n",
    "dataset = query(sql)\n",
    "display(dataset.head(3))\n",
    "display(dataset.shape)\n",
    "dataset.sort_values('value').plot.barh(y='value', x='region');"
   ]
  },
  {
   "cell_type": "markdown",
   "metadata": {},
   "source": [
    "<div style=\"text-align: right\"> [return index](#index) </div>"
   ]
  },
  {
   "cell_type": "markdown",
   "metadata": {},
   "source": [
    ">## Top 10 countries with highest ag water stress scores (which Tianyi will provide this week)"
   ]
  },
  {
   "cell_type": "code",
   "execution_count": 16,
   "metadata": {
    "scrolled": false
   },
   "outputs": [
    {
     "data": {
      "text/markdown": [
       ">#### Sql applied:  "
      ],
      "text/plain": [
       "<IPython.core.display.Markdown object>"
      ]
     },
     "metadata": {},
     "output_type": "display_data"
    },
    {
     "data": {
      "text/markdown": [
       ">>```sql \n",
       "SELECT iso,name_iso, max(weight_count) as value \n",
       "FROM \"wri-rw\".water_risk_rankings_v3 \n",
       "where year = 2014 \n",
       "and indicator= 'water_stress'\n",
       "and crop like 'banana' \n",
       "and weight_sum is not null \n",
       "group by iso,name_iso \n",
       "order by value desc \n",
       "limit 10\n",
       "  ```"
      ],
      "text/plain": [
       "<IPython.core.display.Markdown object>"
      ]
     },
     "metadata": {},
     "output_type": "display_data"
    },
    {
     "data": {
      "text/html": [
       "<div>\n",
       "<style>\n",
       "    .dataframe thead tr:only-child th {\n",
       "        text-align: right;\n",
       "    }\n",
       "\n",
       "    .dataframe thead th {\n",
       "        text-align: left;\n",
       "    }\n",
       "\n",
       "    .dataframe tbody tr th {\n",
       "        vertical-align: top;\n",
       "    }\n",
       "</style>\n",
       "<table border=\"1\" class=\"dataframe\">\n",
       "  <thead>\n",
       "    <tr style=\"text-align: right;\">\n",
       "      <th></th>\n",
       "      <th>iso</th>\n",
       "      <th>name_iso</th>\n",
       "      <th>value</th>\n",
       "    </tr>\n",
       "  </thead>\n",
       "  <tbody>\n",
       "    <tr>\n",
       "      <th>0</th>\n",
       "      <td>USA</td>\n",
       "      <td>UNITED STATES</td>\n",
       "      <td>70445</td>\n",
       "    </tr>\n",
       "    <tr>\n",
       "      <th>1</th>\n",
       "      <td>RUS</td>\n",
       "      <td>RUSSIAN FEDERATION</td>\n",
       "      <td>66931</td>\n",
       "    </tr>\n",
       "    <tr>\n",
       "      <th>2</th>\n",
       "      <td>CHN</td>\n",
       "      <td>CHINA</td>\n",
       "      <td>66633</td>\n",
       "    </tr>\n",
       "  </tbody>\n",
       "</table>\n",
       "</div>"
      ],
      "text/plain": [
       "   iso            name_iso  value\n",
       "0  USA       UNITED STATES  70445\n",
       "1  RUS  RUSSIAN FEDERATION  66931\n",
       "2  CHN               CHINA  66633"
      ]
     },
     "metadata": {},
     "output_type": "display_data"
    },
    {
     "data": {
      "text/plain": [
       "(10, 3)"
      ]
     },
     "metadata": {},
     "output_type": "display_data"
    },
    {
     "data": {
      "image/png": "[encoded data removed]",
      "text/plain": [
       "<matplotlib.figure.Figure at 0x1181b6908>"
      ]
     },
     "metadata": {},
     "output_type": "display_data"
    }
   ],
   "source": [
    "sql = '''\n",
    "SELECT iso,name_iso, max(weight_count) as value \n",
    "FROM \"wri-rw\".water_risk_rankings_v3 \n",
    "where year = 2014 \n",
    "and indicator= 'water_stress'\n",
    "and crop like 'banana' \n",
    "and weight_sum is not null \n",
    "group by iso,name_iso \n",
    "order by value desc \n",
    "limit 10\n",
    "'''\n",
    "dataset = query(sql)\n",
    "display(dataset.head(3))\n",
    "display(dataset.shape)\n",
    "dataset.sort_values('value').plot.barh(y='value', x='name_iso');"
   ]
  },
  {
   "cell_type": "markdown",
   "metadata": {},
   "source": [
    "<div style=\"text-align: right\"> [return index](#index) </div>"
   ]
  },
  {
   "cell_type": "markdown",
   "metadata": {},
   "source": [
    ">## Top 10 countries with highest ag drought severity risk scores (which Tianyi will provide this week)"
   ]
  },
  {
   "cell_type": "code",
   "execution_count": 17,
   "metadata": {
    "scrolled": false
   },
   "outputs": [
    {
     "data": {
      "text/markdown": [
       ">#### Sql applied:  "
      ],
      "text/plain": [
       "<IPython.core.display.Markdown object>"
      ]
     },
     "metadata": {},
     "output_type": "display_data"
    },
    {
     "data": {
      "text/markdown": [
       ">>```sql \n",
       "SELECT iso,name_iso, max(weight_count) as value \n",
       "FROM \"wri-rw\".water_risk_rankings_v3 \n",
       "where year = 2014 \n",
       "and indicator= 'drought_stress'\n",
       "and crop like 'banana' \n",
       "and weight_sum is not null \n",
       "group by iso,name_iso \n",
       "order by value desc \n",
       "limit 10\n",
       "\n",
       "  ```"
      ],
      "text/plain": [
       "<IPython.core.display.Markdown object>"
      ]
     },
     "metadata": {},
     "output_type": "display_data"
    },
    {
     "data": {
      "text/html": [
       "<div>\n",
       "<style>\n",
       "    .dataframe thead tr:only-child th {\n",
       "        text-align: right;\n",
       "    }\n",
       "\n",
       "    .dataframe thead th {\n",
       "        text-align: left;\n",
       "    }\n",
       "\n",
       "    .dataframe tbody tr th {\n",
       "        vertical-align: top;\n",
       "    }\n",
       "</style>\n",
       "<table border=\"1\" class=\"dataframe\">\n",
       "  <thead>\n",
       "    <tr style=\"text-align: right;\">\n",
       "      <th></th>\n",
       "      <th>iso</th>\n",
       "      <th>name_iso</th>\n",
       "      <th>value</th>\n",
       "    </tr>\n",
       "  </thead>\n",
       "  <tbody>\n",
       "    <tr>\n",
       "      <th>0</th>\n",
       "      <td>USA</td>\n",
       "      <td>UNITED STATES</td>\n",
       "      <td>70445</td>\n",
       "    </tr>\n",
       "    <tr>\n",
       "      <th>1</th>\n",
       "      <td>RUS</td>\n",
       "      <td>RUSSIAN FEDERATION</td>\n",
       "      <td>66931</td>\n",
       "    </tr>\n",
       "    <tr>\n",
       "      <th>2</th>\n",
       "      <td>CHN</td>\n",
       "      <td>CHINA</td>\n",
       "      <td>66633</td>\n",
       "    </tr>\n",
       "  </tbody>\n",
       "</table>\n",
       "</div>"
      ],
      "text/plain": [
       "   iso            name_iso  value\n",
       "0  USA       UNITED STATES  70445\n",
       "1  RUS  RUSSIAN FEDERATION  66931\n",
       "2  CHN               CHINA  66633"
      ]
     },
     "metadata": {},
     "output_type": "display_data"
    },
    {
     "data": {
      "text/plain": [
       "(10, 3)"
      ]
     },
     "metadata": {},
     "output_type": "display_data"
    },
    {
     "data": {
      "image/png": "[encoded data removed]",
      "text/plain": [
       "<matplotlib.figure.Figure at 0x114b25908>"
      ]
     },
     "metadata": {},
     "output_type": "display_data"
    }
   ],
   "source": [
    "sql = '''\n",
    "SELECT iso,name_iso, max(weight_count) as value \n",
    "FROM \"wri-rw\".water_risk_rankings_v3 \n",
    "where year = 2014 \n",
    "and indicator= 'drought_stress'\n",
    "and crop like 'banana' \n",
    "and weight_sum is not null \n",
    "group by iso,name_iso \n",
    "order by value desc \n",
    "limit 10\n",
    "\n",
    "'''\n",
    "dataset = query(sql)\n",
    "display(dataset.head(3))\n",
    "display(dataset.shape)\n",
    "dataset.sort_values('value').plot.barh(y='value', x='name_iso');"
   ]
  },
  {
   "cell_type": "markdown",
   "metadata": {},
   "source": [
    "<div style=\"text-align: right\"> [return index](#index) </div>"
   ]
  },
  {
   "cell_type": "markdown",
   "metadata": {},
   "source": [
    ">## Top 5 crop-producing countries (by level of production) shaded by water risk score"
   ]
  },
  {
   "cell_type": "markdown",
   "metadata": {},
   "source": [
    ">> * Have bars for each water risk indicator for which we have aggregate country scores"
   ]
  },
  {
   "cell_type": "code",
   "execution_count": 29,
   "metadata": {
    "collapsed": true,
    "scrolled": false
   },
   "outputs": [],
   "source": [
    "sql = '''\n",
    "\n",
    "'''\n",
    "dataset = query(sql)\n",
    "display(dataset.head(3))\n",
    "display(dataset.shape)\n",
    "dataset.plot.barh(y='value', x='region');"
   ]
  },
  {
   "cell_type": "markdown",
   "metadata": {},
   "source": [
    "<div style=\"text-align: right\"> [return index](#index) </div>"
   ]
  },
  {
   "cell_type": "markdown",
   "metadata": {},
   "source": [
    ">## Text widget:\n",
    "\n",
    ">> On average, groundwater tables have declined by x% in areas where [crop] is grown since 1990.  \n",
    ">> On average, risk of water stress will increase in areas where [crop] is grown by x% through [future year selected].  \n",
    ">> On average, risk of seasonal variability will increase in areas where [crop] is grown by x% through [future year selected].\n"
   ]
  },
  {
   "cell_type": "code",
   "execution_count": 29,
   "metadata": {
    "collapsed": true,
    "scrolled": false
   },
   "outputs": [],
   "source": [
    "sql = '''\n",
    "\n",
    "'''\n",
    "dataset = query(sql)\n",
    "display(dataset.head(3))\n",
    "display(dataset.shape)\n",
    "text=\"\"\"\n",
    "On average, groundwater tables have declined by {value1}% in areas where {crop} is grown since 1990.  \n",
    "\n",
    "On average, risk of water stress will increase in areas where {crop} is grown by {value2}% through {year}.  \n",
    "\n",
    "On average, risk of seasonal variability will increase in areas where {crop} is grown by {value3}% through {year}.\n",
    "\"\"\"\n",
    "Markdown(text.format(value1=,value2=, value3= ,year=,crop=));"
   ]
  },
  {
   "cell_type": "markdown",
   "metadata": {},
   "source": [
    "<div style=\"text-align: right\"> [return index](#index) </div>\n",
    "\n",
    "***"
   ]
  },
  {
   "cell_type": "markdown",
   "metadata": {},
   "source": [
    "# Country, all crops"
   ]
  },
  {
   "cell_type": "markdown",
   "metadata": {},
   "source": [
    ">## Top 5 irrigated crops by level of production that are grown in high water stress areas"
   ]
  },
  {
   "cell_type": "code",
   "execution_count": 29,
   "metadata": {
    "collapsed": true,
    "scrolled": false
   },
   "outputs": [],
   "source": [
    "sql = '''\n",
    "\n",
    "'''\n",
    "dataset = query(sql)\n",
    "display(dataset.head(3))\n",
    "display(dataset.shape)\n",
    "dataset.plot.barh(y='value', x='region');"
   ]
  },
  {
   "cell_type": "markdown",
   "metadata": {},
   "source": [
    "<div style=\"text-align: right\"> [return index](#index) </div>\n"
   ]
  },
  {
   "cell_type": "markdown",
   "metadata": {},
   "source": [
    ">## Top 5 irrigated crops by level of production that are grown in groundwater decline hot spots"
   ]
  },
  {
   "cell_type": "code",
   "execution_count": 29,
   "metadata": {
    "collapsed": true,
    "scrolled": false
   },
   "outputs": [],
   "source": [
    "sql = '''\n",
    "\n",
    "'''\n",
    "dataset = query(sql)\n",
    "display(dataset.head(3))\n",
    "display(dataset.shape)\n",
    "dataset.plot.barh(y='value', x='region');"
   ]
  },
  {
   "cell_type": "markdown",
   "metadata": {},
   "source": [
    "<div style=\"text-align: right\"> [return index](#index) </div>\n"
   ]
  },
  {
   "cell_type": "markdown",
   "metadata": {},
   "source": [
    ">## Top 5 rainfed crops by level of production that are grown in high drought severity risk areas"
   ]
  },
  {
   "cell_type": "code",
   "execution_count": 29,
   "metadata": {
    "collapsed": true,
    "scrolled": false
   },
   "outputs": [],
   "source": [
    "sql = '''\n",
    "\n",
    "'''\n",
    "dataset = query(sql)\n",
    "display(dataset.head(3))\n",
    "display(dataset.shape)\n",
    "dataset.plot.barh(y='value', x='region');"
   ]
  },
  {
   "cell_type": "markdown",
   "metadata": {},
   "source": [
    "<div style=\"text-align: right\"> [return index](#index) </div>\n"
   ]
  },
  {
   "cell_type": "markdown",
   "metadata": {},
   "source": [
    ">## Change in net trade over time for top 5 crops in highest demand"
   ]
  },
  {
   "cell_type": "code",
   "execution_count": 49,
   "metadata": {
    "scrolled": false
   },
   "outputs": [
    {
     "data": {
      "text/markdown": [
       ">#### Sql applied: "
      ],
      "text/plain": [
       "<IPython.core.display.Markdown object>"
      ]
     },
     "metadata": {},
     "output_type": "display_data"
    },
    {
     "data": {
      "text/markdown": [
       ">>```sql \n",
       "WITH top as (\n",
       "    select max(value),  commodity \n",
       "    from combined01_prepared \n",
       "    where iso = 'ESP' AND scenario = 'SSP2-MIRO' and impactparameter = 'Food Demand' \n",
       "    group by commodity order by max desc limit 5\n",
       "),\n",
       "data as (\n",
       "    SELECT commodity, value, year\n",
       "    FROM combined01_prepared\n",
       "    WHERE impactparameter = 'Net trade'\n",
       "    AND scenario = 'SSP2-MIRO' \n",
       "    AND iso = 'ESP' \n",
       "    AND commodity in (select commodity from top) \n",
       "    ORDER BY year ASC),\n",
       "baseline AS (\n",
       "    SELECT commodity, value as baseline\n",
       "    FROM data\n",
       "    WHERE year =2005 \n",
       "    order by year asc)\n",
       "SELECT data.commodity, 100*((value-baseline.baseline)/baseline.baseline) as value, value as raw, year \n",
       "FROM data inner join baseline on data.commodity=baseline.commodity \n",
       "order by year asc, data.commodity asc\n",
       "                     ```"
      ],
      "text/plain": [
       "<IPython.core.display.Markdown object>"
      ]
     },
     "metadata": {},
     "output_type": "display_data"
    },
    {
     "data": {
      "text/html": [
       "<div>\n",
       "<style>\n",
       "    .dataframe thead tr:only-child th {\n",
       "        text-align: right;\n",
       "    }\n",
       "\n",
       "    .dataframe thead th {\n",
       "        text-align: left;\n",
       "    }\n",
       "\n",
       "    .dataframe tbody tr th {\n",
       "        vertical-align: top;\n",
       "    }\n",
       "</style>\n",
       "<table border=\"1\" class=\"dataframe\">\n",
       "  <thead>\n",
       "    <tr style=\"text-align: right;\">\n",
       "      <th></th>\n",
       "      <th>commodity</th>\n",
       "      <th>raw</th>\n",
       "      <th>value</th>\n",
       "      <th>year</th>\n",
       "    </tr>\n",
       "  </thead>\n",
       "  <tbody>\n",
       "    <tr>\n",
       "      <th>0</th>\n",
       "      <td>All Cereals</td>\n",
       "      <td>-10934.788086</td>\n",
       "      <td>0.000000</td>\n",
       "      <td>2005</td>\n",
       "    </tr>\n",
       "    <tr>\n",
       "      <th>1</th>\n",
       "      <td>All Pulses</td>\n",
       "      <td>-1025.171265</td>\n",
       "      <td>0.000000</td>\n",
       "      <td>2005</td>\n",
       "    </tr>\n",
       "    <tr>\n",
       "      <th>2</th>\n",
       "      <td>Banana</td>\n",
       "      <td>-29.533503</td>\n",
       "      <td>0.000000</td>\n",
       "      <td>2005</td>\n",
       "    </tr>\n",
       "    <tr>\n",
       "      <th>3</th>\n",
       "      <td>Potato</td>\n",
       "      <td>-1214.660645</td>\n",
       "      <td>0.000000</td>\n",
       "      <td>2005</td>\n",
       "    </tr>\n",
       "    <tr>\n",
       "      <th>4</th>\n",
       "      <td>Wheat</td>\n",
       "      <td>-5020.781738</td>\n",
       "      <td>0.000000</td>\n",
       "      <td>2005</td>\n",
       "    </tr>\n",
       "    <tr>\n",
       "      <th>5</th>\n",
       "      <td>All Cereals</td>\n",
       "      <td>-12555.882812</td>\n",
       "      <td>14.825113</td>\n",
       "      <td>2010</td>\n",
       "    </tr>\n",
       "  </tbody>\n",
       "</table>\n",
       "</div>"
      ],
      "text/plain": [
       "     commodity           raw      value  year\n",
       "0  All Cereals -10934.788086   0.000000  2005\n",
       "1   All Pulses  -1025.171265   0.000000  2005\n",
       "2       Banana    -29.533503   0.000000  2005\n",
       "3       Potato  -1214.660645   0.000000  2005\n",
       "4        Wheat  -5020.781738   0.000000  2005\n",
       "5  All Cereals -12555.882812  14.825113  2010"
      ]
     },
     "metadata": {},
     "output_type": "display_data"
    },
    {
     "data": {
      "text/plain": [
       "(30, 4)"
      ]
     },
     "metadata": {},
     "output_type": "display_data"
    },
    {
     "data": {
      "image/png": "[encoded data removed]",
      "text/plain": [
       "<matplotlib.figure.Figure at 0x13685b208>"
      ]
     },
     "metadata": {},
     "output_type": "display_data"
    }
   ],
   "source": [
    "sql = '''\n",
    "WITH top as (\n",
    "    select max(value),  commodity \n",
    "    from combined01_prepared \n",
    "    where iso = 'ESP' AND scenario = 'SSP2-MIRO' and impactparameter = 'Food Demand' \n",
    "    group by commodity order by max desc limit 5\n",
    "),\n",
    "data as (\n",
    "    SELECT commodity, value, year\n",
    "    FROM combined01_prepared\n",
    "    WHERE impactparameter = 'Net trade'\n",
    "    AND scenario = 'SSP2-MIRO' \n",
    "    AND iso = 'ESP' \n",
    "    AND commodity in (select commodity from top) \n",
    "    ORDER BY year ASC),\n",
    "baseline AS (\n",
    "    SELECT commodity, value as baseline\n",
    "    FROM data\n",
    "    WHERE year =2005 \n",
    "    order by year asc)\n",
    "SELECT data.commodity, 100*((value-baseline.baseline)/baseline.baseline) as value, value as raw, year \n",
    "FROM data inner join baseline on data.commodity=baseline.commodity \n",
    "order by year asc, data.commodity asc\n",
    "'''\n",
    "dataset = query(sql)\n",
    "display(dataset.head(6))\n",
    "display(dataset.shape)\n",
    "fig, ax = plt.subplots(figsize=(8,6))\n",
    "for label, df in dataset.groupby('commodity'):\n",
    "    df.plot(kind=\"line\", ax=ax, label=label, x='year', y = 'value')\n",
    "plt.legend();"
   ]
  },
  {
   "cell_type": "markdown",
   "metadata": {},
   "source": [
    "<div style=\"text-align: right\"> [return index](#index) </div>\n",
    "\n",
    "***"
   ]
  },
  {
   "cell_type": "markdown",
   "metadata": {},
   "source": [
    "# Country, one crop"
   ]
  },
  {
   "cell_type": "markdown",
   "metadata": {},
   "source": [
    ">## Yield, area, production, price, demand change over time"
   ]
  },
  {
   "cell_type": "markdown",
   "metadata": {},
   "source": [
    ">* Line graph with separate lines for each dataset?\n",
    ">* % change on y-axis"
   ]
  },
  {
   "cell_type": "code",
   "execution_count": 48,
   "metadata": {
    "scrolled": false
   },
   "outputs": [
    {
     "data": {
      "text/markdown": [
       ">#### Sql applied: "
      ],
      "text/plain": [
       "<IPython.core.display.Markdown object>"
      ]
     },
     "metadata": {},
     "output_type": "display_data"
    },
    {
     "data": {
      "text/markdown": [
       ">>```sql \n",
       "WITH data as (\n",
       "    SELECT impactparameter, sum(value) as value, year\n",
       "    FROM combined01_prepared\n",
       "    WHERE impactparameter  in ('Food Demand','Yield','Area', 'Production', 'World price') \n",
       "    AND scenario = 'SSP2-MIRO' \n",
       "    AND iso = 'BRA' \n",
       "    AND commodity='Banana' \n",
       "    GROUP BY impactparameter, year\n",
       "    ORDER BY year ASC),\n",
       "    baseline AS (\n",
       "    SELECT impactparameter, value as baseline\n",
       "    FROM data\n",
       "    WHERE year =2005 \n",
       "    order by year asc)\n",
       "SELECT data.impactparameter, 100*((value-baseline.baseline)/baseline.baseline) as value, year \n",
       "FROM data inner join baseline on data.impactparameter=baseline.impactparameter \n",
       "order by year asc, data.impactparameter asc\n",
       "                     ```"
      ],
      "text/plain": [
       "<IPython.core.display.Markdown object>"
      ]
     },
     "metadata": {},
     "output_type": "display_data"
    },
    {
     "data": {
      "text/html": [
       "<div>\n",
       "<style>\n",
       "    .dataframe thead tr:only-child th {\n",
       "        text-align: right;\n",
       "    }\n",
       "\n",
       "    .dataframe thead th {\n",
       "        text-align: left;\n",
       "    }\n",
       "\n",
       "    .dataframe tbody tr th {\n",
       "        vertical-align: top;\n",
       "    }\n",
       "</style>\n",
       "<table border=\"1\" class=\"dataframe\">\n",
       "  <thead>\n",
       "    <tr style=\"text-align: right;\">\n",
       "      <th></th>\n",
       "      <th>impactparameter</th>\n",
       "      <th>value</th>\n",
       "      <th>year</th>\n",
       "    </tr>\n",
       "  </thead>\n",
       "  <tbody>\n",
       "    <tr>\n",
       "      <th>0</th>\n",
       "      <td>Area</td>\n",
       "      <td>0.000000</td>\n",
       "      <td>2005</td>\n",
       "    </tr>\n",
       "    <tr>\n",
       "      <th>1</th>\n",
       "      <td>Food Demand</td>\n",
       "      <td>0.000000</td>\n",
       "      <td>2005</td>\n",
       "    </tr>\n",
       "    <tr>\n",
       "      <th>2</th>\n",
       "      <td>Production</td>\n",
       "      <td>0.000000</td>\n",
       "      <td>2005</td>\n",
       "    </tr>\n",
       "    <tr>\n",
       "      <th>3</th>\n",
       "      <td>Yield</td>\n",
       "      <td>0.000000</td>\n",
       "      <td>2005</td>\n",
       "    </tr>\n",
       "    <tr>\n",
       "      <th>4</th>\n",
       "      <td>Area</td>\n",
       "      <td>12.129330</td>\n",
       "      <td>2010</td>\n",
       "    </tr>\n",
       "    <tr>\n",
       "      <th>5</th>\n",
       "      <td>Food Demand</td>\n",
       "      <td>7.386269</td>\n",
       "      <td>2010</td>\n",
       "    </tr>\n",
       "  </tbody>\n",
       "</table>\n",
       "</div>"
      ],
      "text/plain": [
       "  impactparameter      value  year\n",
       "0            Area   0.000000  2005\n",
       "1     Food Demand   0.000000  2005\n",
       "2      Production   0.000000  2005\n",
       "3           Yield   0.000000  2005\n",
       "4            Area  12.129330  2010\n",
       "5     Food Demand   7.386269  2010"
      ]
     },
     "metadata": {},
     "output_type": "display_data"
    },
    {
     "data": {
      "text/plain": [
       "(24, 3)"
      ]
     },
     "metadata": {},
     "output_type": "display_data"
    },
    {
     "data": {
      "text/plain": [
       "<matplotlib.legend.Legend at 0x149fa5828>"
      ]
     },
     "execution_count": 48,
     "metadata": {},
     "output_type": "execute_result"
    },
    {
     "data": {
      "image/png": "[encoded data removed]",
      "text/plain": [
       "<matplotlib.figure.Figure at 0x149fa5710>"
      ]
     },
     "metadata": {},
     "output_type": "display_data"
    }
   ],
   "source": [
    "sql = '''\n",
    "WITH data as (\n",
    "    SELECT impactparameter, sum(value) as value, year\n",
    "    FROM combined01_prepared\n",
    "    WHERE impactparameter  in ('Food Demand','Yield','Area', 'Production', 'World price') \n",
    "    AND scenario = 'SSP2-MIRO' \n",
    "    AND iso = 'BRA' \n",
    "    AND commodity='Banana' \n",
    "    GROUP BY impactparameter, year\n",
    "    ORDER BY year ASC),\n",
    "    baseline AS (\n",
    "    SELECT impactparameter, value as baseline\n",
    "    FROM data\n",
    "    WHERE year =2005 \n",
    "    order by year asc)\n",
    "SELECT data.impactparameter, 100*((value-baseline.baseline)/baseline.baseline) as value, year \n",
    "FROM data inner join baseline on data.impactparameter=baseline.impactparameter \n",
    "order by year asc, data.impactparameter asc\n",
    "'''\n",
    "dataset = query(sql)\n",
    "display(dataset.head(6))\n",
    "display(dataset.shape)\n",
    "fig, ax = plt.subplots(figsize=(8,6))\n",
    "for label, df in dataset.groupby('impactparameter'):\n",
    "    df.plot(kind=\"line\", ax=ax, label=label, x='year', y = 'value')\n",
    "plt.legend()"
   ]
  },
  {
   "cell_type": "markdown",
   "metadata": {},
   "source": [
    "<div style=\"text-align: right\"> [return index](#index) </div>\n"
   ]
  },
  {
   "cell_type": "markdown",
   "metadata": {},
   "source": [
    ">## Change in net trade over time"
   ]
  },
  {
   "cell_type": "code",
   "execution_count": 39,
   "metadata": {
    "scrolled": false
   },
   "outputs": [
    {
     "data": {
      "text/markdown": [
       ">#### Sql applied: "
      ],
      "text/plain": [
       "<IPython.core.display.Markdown object>"
      ]
     },
     "metadata": {},
     "output_type": "display_data"
    },
    {
     "data": {
      "text/markdown": [
       ">>```sql \n",
       "WITH data as (\n",
       "    SELECT impactparameter, value, year\n",
       "    FROM combined01_prepared\n",
       "    WHERE impactparameter  in ('Net trade') \n",
       "    AND scenario = 'SSP2-MIRO' \n",
       "    AND iso = 'ESP' \n",
       "    AND commodity='Soybean' \n",
       "    ORDER BY year ASC),\n",
       "    baseline AS (\n",
       "    SELECT impactparameter, value as baseline\n",
       "    FROM data\n",
       "    WHERE year =2005 \n",
       "    order by year asc)\n",
       "SELECT data.impactparameter, 100*((value-baseline.baseline)/baseline.baseline) as value, value as raw, year \n",
       "FROM data inner join baseline on data.impactparameter=baseline.impactparameter \n",
       "order by year asc, data.impactparameter asc\n",
       "                     ```"
      ],
      "text/plain": [
       "<IPython.core.display.Markdown object>"
      ]
     },
     "metadata": {},
     "output_type": "display_data"
    },
    {
     "data": {
      "text/html": [
       "<div>\n",
       "<style>\n",
       "    .dataframe thead tr:only-child th {\n",
       "        text-align: right;\n",
       "    }\n",
       "\n",
       "    .dataframe thead th {\n",
       "        text-align: left;\n",
       "    }\n",
       "\n",
       "    .dataframe tbody tr th {\n",
       "        vertical-align: top;\n",
       "    }\n",
       "</style>\n",
       "<table border=\"1\" class=\"dataframe\">\n",
       "  <thead>\n",
       "    <tr style=\"text-align: right;\">\n",
       "      <th></th>\n",
       "      <th>impactparameter</th>\n",
       "      <th>raw</th>\n",
       "      <th>value</th>\n",
       "      <th>year</th>\n",
       "    </tr>\n",
       "  </thead>\n",
       "  <tbody>\n",
       "    <tr>\n",
       "      <th>0</th>\n",
       "      <td>Net trade</td>\n",
       "      <td>-2471.730713</td>\n",
       "      <td>0.000000</td>\n",
       "      <td>2005</td>\n",
       "    </tr>\n",
       "    <tr>\n",
       "      <th>1</th>\n",
       "      <td>Net trade</td>\n",
       "      <td>-2479.403564</td>\n",
       "      <td>0.310424</td>\n",
       "      <td>2010</td>\n",
       "    </tr>\n",
       "    <tr>\n",
       "      <th>2</th>\n",
       "      <td>Net trade</td>\n",
       "      <td>-2487.455566</td>\n",
       "      <td>0.636188</td>\n",
       "      <td>2020</td>\n",
       "    </tr>\n",
       "    <tr>\n",
       "      <th>3</th>\n",
       "      <td>Net trade</td>\n",
       "      <td>-2525.162109</td>\n",
       "      <td>2.161700</td>\n",
       "      <td>2030</td>\n",
       "    </tr>\n",
       "    <tr>\n",
       "      <th>4</th>\n",
       "      <td>Net trade</td>\n",
       "      <td>-2547.566162</td>\n",
       "      <td>3.068111</td>\n",
       "      <td>2040</td>\n",
       "    </tr>\n",
       "    <tr>\n",
       "      <th>5</th>\n",
       "      <td>Net trade</td>\n",
       "      <td>-2567.186768</td>\n",
       "      <td>3.861912</td>\n",
       "      <td>2050</td>\n",
       "    </tr>\n",
       "  </tbody>\n",
       "</table>\n",
       "</div>"
      ],
      "text/plain": [
       "  impactparameter          raw     value  year\n",
       "0       Net trade -2471.730713  0.000000  2005\n",
       "1       Net trade -2479.403564  0.310424  2010\n",
       "2       Net trade -2487.455566  0.636188  2020\n",
       "3       Net trade -2525.162109  2.161700  2030\n",
       "4       Net trade -2547.566162  3.068111  2040\n",
       "5       Net trade -2567.186768  3.861912  2050"
      ]
     },
     "metadata": {},
     "output_type": "display_data"
    },
    {
     "data": {
      "text/plain": [
       "(6, 4)"
      ]
     },
     "metadata": {},
     "output_type": "display_data"
    },
    {
     "data": {
      "text/plain": [
       "<matplotlib.legend.Legend at 0x136901358>"
      ]
     },
     "execution_count": 39,
     "metadata": {},
     "output_type": "execute_result"
    },
    {
     "data": {
      "image/png": "[encoded data removed]",
      "text/plain": [
       "<matplotlib.figure.Figure at 0x12cb38dd8>"
      ]
     },
     "metadata": {},
     "output_type": "display_data"
    }
   ],
   "source": [
    "sql = '''\n",
    "WITH data as (\n",
    "    SELECT impactparameter, value, year\n",
    "    FROM combined01_prepared\n",
    "    WHERE impactparameter  in ('Net trade') \n",
    "    AND scenario = 'SSP2-MIRO' \n",
    "    AND iso = 'ESP' \n",
    "    AND commodity='Banana' \n",
    "    ORDER BY year ASC),\n",
    "    baseline AS (\n",
    "    SELECT impactparameter, value as baseline\n",
    "    FROM data\n",
    "    WHERE year =2005 \n",
    "    order by year asc)\n",
    "SELECT data.impactparameter, 100*((value-baseline.baseline)/baseline.baseline) as value, value as raw, year \n",
    "FROM data inner join baseline on data.impactparameter=baseline.impactparameter \n",
    "order by year asc, data.impactparameter asc\n",
    "'''\n",
    "dataset = query(sql)\n",
    "display(dataset.head(6))\n",
    "display(dataset.shape)\n",
    "fig, ax = plt.subplots(figsize=(8,6))\n",
    "for label, df in dataset.groupby('impactparameter'):\n",
    "    df.plot(kind=\"area\", ax=ax, label=label, x='year', y = 'value')\n",
    "plt.legend()"
   ]
  },
  {
   "cell_type": "markdown",
   "metadata": {},
   "source": [
    "<div style=\"text-align: right\"> [return index](#index) </div>\n"
   ]
  },
  {
   "cell_type": "markdown",
   "metadata": {},
   "source": [
    ">## Text widget:\n",
    "\n",
    ">> “On average, groundwater tables have declined by x% in areas where [crop] is grown since 1990.”   \n",
    ">> “On average, risk of water stress will increase in areas where [crop] is grown by x% through [future year selected].”  \n",
    ">> “On average, risk of seasonal variability will increase in areas where [crop] is grown by x% through [future year selected].”\n"
   ]
  },
  {
   "cell_type": "code",
   "execution_count": 29,
   "metadata": {
    "collapsed": true,
    "scrolled": false
   },
   "outputs": [],
   "source": [
    "sql = '''\n",
    "\n",
    "'''\n",
    "dataset = query(sql)\n",
    "display(dataset.head(3))\n",
    "display(dataset.shape)\n",
    "text=\"\"\"\n",
    "On average, groundwater tables have declined by {value1}% in areas where {crop} is grown since 1990.  \n",
    "\n",
    "On average, risk of water stress will increase in areas where {crop} is grown by {value2}% through {year}.  \n",
    "\n",
    "On average, risk of seasonal variability will increase in areas where {crop} is grown by {value3}% through {year}.\n",
    "\"\"\"\n",
    "Markdown(text.format(value1=,value2=, value3= ,year=,crop=));"
   ]
  },
  {
   "cell_type": "markdown",
   "metadata": {},
   "source": [
    "<div style=\"text-align: right\"> [return index](#index) </div>\n"
   ]
  },
  {
   "cell_type": "markdown",
   "metadata": {},
   "source": [
    "<div style=\"text-align: right\"> [return index](#index) </div>\n"
   ]
  }
 ],
 "metadata": {
  "kernelspec": {
   "display_name": "Python 3",
   "language": "python",
   "name": "python3"
  },
  "language_info": {
   "codemirror_mode": {
    "name": "ipython",
    "version": 3
   },
   "file_extension": ".py",
   "mimetype": "text/x-python",
   "name": "python",
   "nbconvert_exporter": "python",
   "pygments_lexer": "ipython3",
   "version": "3.6.1"
  },
  "toc": {
   "colors": {
    "hover_highlight": "#DAA520",
    "navigate_num": "#000000",
    "navigate_text": "#333333",
    "running_highlight": "#FF0000",
    "selected_highlight": "#FFD700",
    "sidebar_border": "#EEEEEE",
    "wrapper_background": "#FFFFFF"
   },
   "moveMenuLeft": true,
   "nav_menu": {
    "height": "141px",
    "width": "865px"
   },
   "navigate_menu": true,
   "number_sections": true,
   "sideBar": true,
   "threshold": "2",
   "toc_cell": true,
   "toc_section_display": "block",
   "toc_window_display": true,
   "widenNotebook": false
  },
  "varInspector": {
   "cols": {
    "lenName": 16,
    "lenType": 16,
    "lenVar": 40
   },
   "kernels_config": {
    "python": {
     "delete_cmd_postfix": "",
     "delete_cmd_prefix": "del ",
     "library": "var_list.py",
     "varRefreshCmd": "print(var_dic_list())"
    },
    "r": {
     "delete_cmd_postfix": ") ",
     "delete_cmd_prefix": "rm(",
     "library": "var_list.r",
     "varRefreshCmd": "cat(var_dic_list()) "
    }
   },
   "types_to_exclude": [
    "module",
    "function",
    "builtin_function_or_method",
    "instance",
    "_Feature"
   ],
   "window_display": false
  },
  "widgets": {
   "application/vnd.jupyter.widget-state+json": {
    "state": {},
    "version_major": 1,
    "version_minor": 0
   }
  }
 },
 "nbformat": 4,
 "nbformat_minor": 2
}
