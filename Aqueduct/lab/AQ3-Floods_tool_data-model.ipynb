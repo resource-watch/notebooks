{
 "cells": [
  {
   "cell_type": "markdown",
   "metadata": {
    "toc": "true"
   },
   "source": [
    "# Table of Contents\n",
    " <p>"
   ]
  },
  {
   "cell_type": "markdown",
   "metadata": {},
   "source": [
    "The idea of this notebook is to propose WRI - AQ floods team, a schema for the database where to store the data and at the same time a simple overview of the schema for the analysis microservice.\n",
    "\n",
    "First of all we are going to check all csv files stored in folder flood data.  \n",
    "Second we are going to understand what the scripts stored in script folder does.  \n",
    "Finally propose the model."
   ]
  },
  {
   "cell_type": "code",
   "execution_count": 39,
   "metadata": {},
   "outputs": [],
   "source": [
    "import pandas as pd\n",
    "import json\n",
    "import os\n",
    "import configparser\n",
    "from sqlalchemy import *\n",
    "from sqlalchemy_schemadisplay import create_schema_graph\n",
    "from IPython.display import Image, display\n",
    "\n",
    "#### Global varible configuration\n",
    "workPath = '/Users/alicia/Projects/jupyter-geotools-alpine/work/data/aqueduct/data_source/floods/floods_vizzuality/Flood_Data' "
   ]
  },
  {
   "cell_type": "code",
   "execution_count": 38,
   "metadata": {
    "scrolled": false
   },
   "outputs": [
    {
     "name": "stdout",
     "output_type": "stream",
     "text": [
      "[{'path': '/Users/alicia/Projects/jupyter-geotools-alpine/work/data/aqueduct/data_source/floods/floods_vizzuality/Flood_Data/lookup_assets_Basin.csv', 'fileName': 'lookup_assets_Basin.csv'}, {'path': '/Users/alicia/Projects/jupyter-geotools-alpine/work/data/aqueduct/data_source/floods/floods_vizzuality/Flood_Data/lookup_assets_City.csv', 'fileName': 'lookup_assets_City.csv'}, {'path': '/Users/alicia/Projects/jupyter-geotools-alpine/work/data/aqueduct/data_source/floods/floods_vizzuality/Flood_Data/lookup_assets_Country.csv', 'fileName': 'lookup_assets_Country.csv'}, {'path': '/Users/alicia/Projects/jupyter-geotools-alpine/work/data/aqueduct/data_source/floods/floods_vizzuality/Flood_Data/lookup_assets_State.csv', 'fileName': 'lookup_assets_State.csv'}, {'path': '/Users/alicia/Projects/jupyter-geotools-alpine/work/data/aqueduct/data_source/floods/floods_vizzuality/Flood_Data/lookup_construction_factors_geogunit_108.csv', 'fileName': 'lookup_construction_factors_geogunit_108.csv'}, {'path': '/Users/alicia/Projects/jupyter-geotools-alpine/work/data/aqueduct/data_source/floods/floods_vizzuality/Flood_Data/lookup_geogunit_101.csv', 'fileName': 'lookup_geogunit_101.csv'}, {'path': '/Users/alicia/Projects/jupyter-geotools-alpine/work/data/aqueduct/data_source/floods/floods_vizzuality/Flood_Data/lookup_geogunit_103.csv', 'fileName': 'lookup_geogunit_103.csv'}, {'path': '/Users/alicia/Projects/jupyter-geotools-alpine/work/data/aqueduct/data_source/floods/floods_vizzuality/Flood_Data/lookup_geogunit_108.csv', 'fileName': 'lookup_geogunit_108.csv'}, {'path': '/Users/alicia/Projects/jupyter-geotools-alpine/work/data/aqueduct/data_source/floods/floods_vizzuality/Flood_Data/lookup_geogunit_110.csv', 'fileName': 'lookup_geogunit_110.csv'}, {'path': '/Users/alicia/Projects/jupyter-geotools-alpine/work/data/aqueduct/data_source/floods/floods_vizzuality/Flood_Data/lookup_master.csv', 'fileName': 'lookup_master.csv'}, {'path': '/Users/alicia/Projects/jupyter-geotools-alpine/work/data/aqueduct/data_source/floods/floods_vizzuality/Flood_Data/Precalc_agg_Coastal_City_nosub.csv', 'fileName': 'Precalc_agg_Coastal_City_nosub.csv'}, {'path': '/Users/alicia/Projects/jupyter-geotools-alpine/work/data/aqueduct/data_source/floods/floods_vizzuality/Flood_Data/Precalc_agg_Coastal_City_wtsub.csv', 'fileName': 'Precalc_agg_Coastal_City_wtsub.csv'}, {'path': '/Users/alicia/Projects/jupyter-geotools-alpine/work/data/aqueduct/data_source/floods/floods_vizzuality/Flood_Data/Precalc_agg_Coastal_Country_nosub.csv', 'fileName': 'Precalc_agg_Coastal_Country_nosub.csv'}, {'path': '/Users/alicia/Projects/jupyter-geotools-alpine/work/data/aqueduct/data_source/floods/floods_vizzuality/Flood_Data/Precalc_agg_Coastal_Country_wtsub.csv', 'fileName': 'Precalc_agg_Coastal_Country_wtsub.csv'}, {'path': '/Users/alicia/Projects/jupyter-geotools-alpine/work/data/aqueduct/data_source/floods/floods_vizzuality/Flood_Data/Precalc_agg_Coastal_State_nosub.csv', 'fileName': 'Precalc_agg_Coastal_State_nosub.csv'}, {'path': '/Users/alicia/Projects/jupyter-geotools-alpine/work/data/aqueduct/data_source/floods/floods_vizzuality/Flood_Data/Precalc_agg_Coastal_State_wtsub.csv', 'fileName': 'Precalc_agg_Coastal_State_wtsub.csv'}, {'path': '/Users/alicia/Projects/jupyter-geotools-alpine/work/data/aqueduct/data_source/floods/floods_vizzuality/Flood_Data/Precalc_agg_Riverine_Basin_nosub.csv', 'fileName': 'Precalc_agg_Riverine_Basin_nosub.csv'}, {'path': '/Users/alicia/Projects/jupyter-geotools-alpine/work/data/aqueduct/data_source/floods/floods_vizzuality/Flood_Data/Precalc_agg_Riverine_City_nosub.csv', 'fileName': 'Precalc_agg_Riverine_City_nosub.csv'}, {'path': '/Users/alicia/Projects/jupyter-geotools-alpine/work/data/aqueduct/data_source/floods/floods_vizzuality/Flood_Data/Precalc_agg_Riverine_Country_nosub.csv', 'fileName': 'Precalc_agg_Riverine_Country_nosub.csv'}, {'path': '/Users/alicia/Projects/jupyter-geotools-alpine/work/data/aqueduct/data_source/floods/floods_vizzuality/Flood_Data/Precalc_agg_Riverine_State_nosub.csv', 'fileName': 'Precalc_agg_Riverine_State_nosub.csv'}, {'path': '/Users/alicia/Projects/jupyter-geotools-alpine/work/data/aqueduct/data_source/floods/floods_vizzuality/Flood_Data/Precalc_Coastal_geogunit_103_nosub.csv', 'fileName': 'Precalc_Coastal_geogunit_103_nosub.csv'}, {'path': '/Users/alicia/Projects/jupyter-geotools-alpine/work/data/aqueduct/data_source/floods/floods_vizzuality/Flood_Data/Precalc_Coastal_geogunit_103_wtsub.csv', 'fileName': 'Precalc_Coastal_geogunit_103_wtsub.csv'}, {'path': '/Users/alicia/Projects/jupyter-geotools-alpine/work/data/aqueduct/data_source/floods/floods_vizzuality/Flood_Data/Precalc_Coastal_geogunit_108_nosub.csv', 'fileName': 'Precalc_Coastal_geogunit_108_nosub.csv'}, {'path': '/Users/alicia/Projects/jupyter-geotools-alpine/work/data/aqueduct/data_source/floods/floods_vizzuality/Flood_Data/Precalc_Coastal_geogunit_108_wtsub.csv', 'fileName': 'Precalc_Coastal_geogunit_108_wtsub.csv'}, {'path': '/Users/alicia/Projects/jupyter-geotools-alpine/work/data/aqueduct/data_source/floods/floods_vizzuality/Flood_Data/Precalc_Riverine_geogunit_103_nosub.csv', 'fileName': 'Precalc_Riverine_geogunit_103_nosub.csv'}, {'path': '/Users/alicia/Projects/jupyter-geotools-alpine/work/data/aqueduct/data_source/floods/floods_vizzuality/Flood_Data/Precalc_Riverine_geogunit_108_nosub.csv', 'fileName': 'Precalc_Riverine_geogunit_108_nosub.csv'}, {'path': '/Users/alicia/Projects/jupyter-geotools-alpine/work/data/aqueduct/data_source/floods/floods_vizzuality/Flood_Data/Raw_agg_Coastal_City_GDPexp.csv', 'fileName': 'Raw_agg_Coastal_City_GDPexp.csv'}, {'path': '/Users/alicia/Projects/jupyter-geotools-alpine/work/data/aqueduct/data_source/floods/floods_vizzuality/Flood_Data/Raw_agg_Coastal_City_POPexp.csv', 'fileName': 'Raw_agg_Coastal_City_POPexp.csv'}, {'path': '/Users/alicia/Projects/jupyter-geotools-alpine/work/data/aqueduct/data_source/floods/floods_vizzuality/Flood_Data/Raw_agg_Coastal_City_Urban_Damage_v2.csv', 'fileName': 'Raw_agg_Coastal_City_Urban_Damage_v2.csv'}, {'path': '/Users/alicia/Projects/jupyter-geotools-alpine/work/data/aqueduct/data_source/floods/floods_vizzuality/Flood_Data/Raw_agg_Coastal_Country_GDPexp.csv', 'fileName': 'Raw_agg_Coastal_Country_GDPexp.csv'}, {'path': '/Users/alicia/Projects/jupyter-geotools-alpine/work/data/aqueduct/data_source/floods/floods_vizzuality/Flood_Data/Raw_agg_Coastal_Country_POPexp.csv', 'fileName': 'Raw_agg_Coastal_Country_POPexp.csv'}, {'path': '/Users/alicia/Projects/jupyter-geotools-alpine/work/data/aqueduct/data_source/floods/floods_vizzuality/Flood_Data/Raw_agg_Coastal_Country_Urban_Damage_v2.csv', 'fileName': 'Raw_agg_Coastal_Country_Urban_Damage_v2.csv'}, {'path': '/Users/alicia/Projects/jupyter-geotools-alpine/work/data/aqueduct/data_source/floods/floods_vizzuality/Flood_Data/Raw_agg_Coastal_State_GDPexp.csv', 'fileName': 'Raw_agg_Coastal_State_GDPexp.csv'}, {'path': '/Users/alicia/Projects/jupyter-geotools-alpine/work/data/aqueduct/data_source/floods/floods_vizzuality/Flood_Data/Raw_agg_Coastal_State_POPexp.csv', 'fileName': 'Raw_agg_Coastal_State_POPexp.csv'}, {'path': '/Users/alicia/Projects/jupyter-geotools-alpine/work/data/aqueduct/data_source/floods/floods_vizzuality/Flood_Data/Raw_agg_Coastal_State_Urban_Damage_v2.csv', 'fileName': 'Raw_agg_Coastal_State_Urban_Damage_v2.csv'}, {'path': '/Users/alicia/Projects/jupyter-geotools-alpine/work/data/aqueduct/data_source/floods/floods_vizzuality/Flood_Data/Raw_agg_Riverine_Basin_GDPexp.csv', 'fileName': 'Raw_agg_Riverine_Basin_GDPexp.csv'}, {'path': '/Users/alicia/Projects/jupyter-geotools-alpine/work/data/aqueduct/data_source/floods/floods_vizzuality/Flood_Data/Raw_agg_Riverine_Basin_POPexp.csv', 'fileName': 'Raw_agg_Riverine_Basin_POPexp.csv'}, {'path': '/Users/alicia/Projects/jupyter-geotools-alpine/work/data/aqueduct/data_source/floods/floods_vizzuality/Flood_Data/Raw_agg_Riverine_Basin_Urban_Damage_v2.csv', 'fileName': 'Raw_agg_Riverine_Basin_Urban_Damage_v2.csv'}, {'path': '/Users/alicia/Projects/jupyter-geotools-alpine/work/data/aqueduct/data_source/floods/floods_vizzuality/Flood_Data/Raw_agg_Riverine_City_GDPexp.csv', 'fileName': 'Raw_agg_Riverine_City_GDPexp.csv'}, {'path': '/Users/alicia/Projects/jupyter-geotools-alpine/work/data/aqueduct/data_source/floods/floods_vizzuality/Flood_Data/Raw_agg_Riverine_City_POPexp.csv', 'fileName': 'Raw_agg_Riverine_City_POPexp.csv'}, {'path': '/Users/alicia/Projects/jupyter-geotools-alpine/work/data/aqueduct/data_source/floods/floods_vizzuality/Flood_Data/Raw_agg_Riverine_City_Urban_Damage_v2.csv', 'fileName': 'Raw_agg_Riverine_City_Urban_Damage_v2.csv'}, {'path': '/Users/alicia/Projects/jupyter-geotools-alpine/work/data/aqueduct/data_source/floods/floods_vizzuality/Flood_Data/Raw_agg_Riverine_Country_GDPexp.csv', 'fileName': 'Raw_agg_Riverine_Country_GDPexp.csv'}, {'path': '/Users/alicia/Projects/jupyter-geotools-alpine/work/data/aqueduct/data_source/floods/floods_vizzuality/Flood_Data/Raw_agg_Riverine_Country_POPexp.csv', 'fileName': 'Raw_agg_Riverine_Country_POPexp.csv'}, {'path': '/Users/alicia/Projects/jupyter-geotools-alpine/work/data/aqueduct/data_source/floods/floods_vizzuality/Flood_Data/Raw_agg_Riverine_Country_Urban_Damage_v2.csv', 'fileName': 'Raw_agg_Riverine_Country_Urban_Damage_v2.csv'}, {'path': '/Users/alicia/Projects/jupyter-geotools-alpine/work/data/aqueduct/data_source/floods/floods_vizzuality/Flood_Data/Raw_agg_Riverine_State_GDPexp.csv', 'fileName': 'Raw_agg_Riverine_State_GDPexp.csv'}, {'path': '/Users/alicia/Projects/jupyter-geotools-alpine/work/data/aqueduct/data_source/floods/floods_vizzuality/Flood_Data/Raw_agg_Riverine_State_POPexp.csv', 'fileName': 'Raw_agg_Riverine_State_POPexp.csv'}, {'path': '/Users/alicia/Projects/jupyter-geotools-alpine/work/data/aqueduct/data_source/floods/floods_vizzuality/Flood_Data/Raw_agg_Riverine_State_Urban_Damage_v2.csv', 'fileName': 'Raw_agg_Riverine_State_Urban_Damage_v2.csv'}, {'path': '/Users/alicia/Projects/jupyter-geotools-alpine/work/data/aqueduct/data_source/floods/floods_vizzuality/Flood_Data/Raw_Coastal_geogunit_103_GDPexp.csv', 'fileName': 'Raw_Coastal_geogunit_103_GDPexp.csv'}, {'path': '/Users/alicia/Projects/jupyter-geotools-alpine/work/data/aqueduct/data_source/floods/floods_vizzuality/Flood_Data/Raw_Coastal_geogunit_103_POPexp.csv', 'fileName': 'Raw_Coastal_geogunit_103_POPexp.csv'}, {'path': '/Users/alicia/Projects/jupyter-geotools-alpine/work/data/aqueduct/data_source/floods/floods_vizzuality/Flood_Data/Raw_Coastal_geogunit_103_Urban_Damage_v2.csv', 'fileName': 'Raw_Coastal_geogunit_103_Urban_Damage_v2.csv'}, {'path': '/Users/alicia/Projects/jupyter-geotools-alpine/work/data/aqueduct/data_source/floods/floods_vizzuality/Flood_Data/Raw_Coastal_geogunit_108_GDPexp.csv', 'fileName': 'Raw_Coastal_geogunit_108_GDPexp.csv'}, {'path': '/Users/alicia/Projects/jupyter-geotools-alpine/work/data/aqueduct/data_source/floods/floods_vizzuality/Flood_Data/Raw_Coastal_geogunit_108_POPexp.csv', 'fileName': 'Raw_Coastal_geogunit_108_POPexp.csv'}, {'path': '/Users/alicia/Projects/jupyter-geotools-alpine/work/data/aqueduct/data_source/floods/floods_vizzuality/Flood_Data/Raw_Coastal_geogunit_108_Urban_Damage_v2.csv', 'fileName': 'Raw_Coastal_geogunit_108_Urban_Damage_v2.csv'}, {'path': '/Users/alicia/Projects/jupyter-geotools-alpine/work/data/aqueduct/data_source/floods/floods_vizzuality/Flood_Data/Raw_Riverine_geogunit_101_GDPexp.csv', 'fileName': 'Raw_Riverine_geogunit_101_GDPexp.csv'}, {'path': '/Users/alicia/Projects/jupyter-geotools-alpine/work/data/aqueduct/data_source/floods/floods_vizzuality/Flood_Data/Raw_Riverine_geogunit_101_POPexp.csv', 'fileName': 'Raw_Riverine_geogunit_101_POPexp.csv'}, {'path': '/Users/alicia/Projects/jupyter-geotools-alpine/work/data/aqueduct/data_source/floods/floods_vizzuality/Flood_Data/Raw_Riverine_geogunit_101_Urban_Damage_v2.csv', 'fileName': 'Raw_Riverine_geogunit_101_Urban_Damage_v2.csv'}, {'path': '/Users/alicia/Projects/jupyter-geotools-alpine/work/data/aqueduct/data_source/floods/floods_vizzuality/Flood_Data/Raw_Riverine_geogunit_103_GDPexp.csv', 'fileName': 'Raw_Riverine_geogunit_103_GDPexp.csv'}, {'path': '/Users/alicia/Projects/jupyter-geotools-alpine/work/data/aqueduct/data_source/floods/floods_vizzuality/Flood_Data/Raw_Riverine_geogunit_103_POPexp.csv', 'fileName': 'Raw_Riverine_geogunit_103_POPexp.csv'}, {'path': '/Users/alicia/Projects/jupyter-geotools-alpine/work/data/aqueduct/data_source/floods/floods_vizzuality/Flood_Data/Raw_Riverine_geogunit_103_Urban_Damage_v2.csv', 'fileName': 'Raw_Riverine_geogunit_103_Urban_Damage_v2.csv'}, {'path': '/Users/alicia/Projects/jupyter-geotools-alpine/work/data/aqueduct/data_source/floods/floods_vizzuality/Flood_Data/Raw_Riverine_geogunit_108_GDPexp.csv', 'fileName': 'Raw_Riverine_geogunit_108_GDPexp.csv'}, {'path': '/Users/alicia/Projects/jupyter-geotools-alpine/work/data/aqueduct/data_source/floods/floods_vizzuality/Flood_Data/Raw_Riverine_geogunit_108_POPexp.csv', 'fileName': 'Raw_Riverine_geogunit_108_POPexp.csv'}, {'path': '/Users/alicia/Projects/jupyter-geotools-alpine/work/data/aqueduct/data_source/floods/floods_vizzuality/Flood_Data/Raw_Riverine_geogunit_108_Urban_Damage_v2.csv', 'fileName': 'Raw_Riverine_geogunit_108_Urban_Damage_v2.csv'}, {'path': '/Users/alicia/Projects/jupyter-geotools-alpine/work/data/aqueduct/data_source/floods/floods_vizzuality/Flood_Data/Costs/lookup_cost_rural_BAU_2030_geogunit_110.csv', 'fileName': 'lookup_cost_rural_BAU_2030_geogunit_110.csv'}, {'path': '/Users/alicia/Projects/jupyter-geotools-alpine/work/data/aqueduct/data_source/floods/floods_vizzuality/Flood_Data/Costs/lookup_cost_rural_BAU_2050_geogunit_110.csv', 'fileName': 'lookup_cost_rural_BAU_2050_geogunit_110.csv'}, {'path': '/Users/alicia/Projects/jupyter-geotools-alpine/work/data/aqueduct/data_source/floods/floods_vizzuality/Flood_Data/Costs/lookup_cost_rural_BAU_2080_geogunit_110.csv', 'fileName': 'lookup_cost_rural_BAU_2080_geogunit_110.csv'}, {'path': '/Users/alicia/Projects/jupyter-geotools-alpine/work/data/aqueduct/data_source/floods/floods_vizzuality/Flood_Data/Costs/lookup_cost_rural_OPT_2030_geogunit_110.csv', 'fileName': 'lookup_cost_rural_OPT_2030_geogunit_110.csv'}, {'path': '/Users/alicia/Projects/jupyter-geotools-alpine/work/data/aqueduct/data_source/floods/floods_vizzuality/Flood_Data/Costs/lookup_cost_rural_OPT_2050_geogunit_110.csv', 'fileName': 'lookup_cost_rural_OPT_2050_geogunit_110.csv'}, {'path': '/Users/alicia/Projects/jupyter-geotools-alpine/work/data/aqueduct/data_source/floods/floods_vizzuality/Flood_Data/Costs/lookup_cost_rural_OPT_2080_geogunit_110.csv', 'fileName': 'lookup_cost_rural_OPT_2080_geogunit_110.csv'}, {'path': '/Users/alicia/Projects/jupyter-geotools-alpine/work/data/aqueduct/data_source/floods/floods_vizzuality/Flood_Data/Costs/lookup_cost_rural_PES_2030_geogunit_110.csv', 'fileName': 'lookup_cost_rural_PES_2030_geogunit_110.csv'}, {'path': '/Users/alicia/Projects/jupyter-geotools-alpine/work/data/aqueduct/data_source/floods/floods_vizzuality/Flood_Data/Costs/lookup_cost_rural_PES_2050_geogunit_110.csv', 'fileName': 'lookup_cost_rural_PES_2050_geogunit_110.csv'}, {'path': '/Users/alicia/Projects/jupyter-geotools-alpine/work/data/aqueduct/data_source/floods/floods_vizzuality/Flood_Data/Costs/lookup_cost_rural_PES_2080_geogunit_110.csv', 'fileName': 'lookup_cost_rural_PES_2080_geogunit_110.csv'}, {'path': '/Users/alicia/Projects/jupyter-geotools-alpine/work/data/aqueduct/data_source/floods/floods_vizzuality/Flood_Data/Costs/lookup_cost_urban_BAU_2030_geogunit_110.csv', 'fileName': 'lookup_cost_urban_BAU_2030_geogunit_110.csv'}, {'path': '/Users/alicia/Projects/jupyter-geotools-alpine/work/data/aqueduct/data_source/floods/floods_vizzuality/Flood_Data/Costs/lookup_cost_urban_BAU_2050_geogunit_110.csv', 'fileName': 'lookup_cost_urban_BAU_2050_geogunit_110.csv'}, {'path': '/Users/alicia/Projects/jupyter-geotools-alpine/work/data/aqueduct/data_source/floods/floods_vizzuality/Flood_Data/Costs/lookup_cost_urban_BAU_2080_geogunit_110.csv', 'fileName': 'lookup_cost_urban_BAU_2080_geogunit_110.csv'}, {'path': '/Users/alicia/Projects/jupyter-geotools-alpine/work/data/aqueduct/data_source/floods/floods_vizzuality/Flood_Data/Costs/lookup_cost_urban_OPT_2030_geogunit_110.csv', 'fileName': 'lookup_cost_urban_OPT_2030_geogunit_110.csv'}, {'path': '/Users/alicia/Projects/jupyter-geotools-alpine/work/data/aqueduct/data_source/floods/floods_vizzuality/Flood_Data/Costs/lookup_cost_urban_OPT_2050_geogunit_110.csv', 'fileName': 'lookup_cost_urban_OPT_2050_geogunit_110.csv'}, {'path': '/Users/alicia/Projects/jupyter-geotools-alpine/work/data/aqueduct/data_source/floods/floods_vizzuality/Flood_Data/Costs/lookup_cost_urban_OPT_2080_geogunit_110.csv', 'fileName': 'lookup_cost_urban_OPT_2080_geogunit_110.csv'}, {'path': '/Users/alicia/Projects/jupyter-geotools-alpine/work/data/aqueduct/data_source/floods/floods_vizzuality/Flood_Data/Costs/lookup_cost_urban_PES_2030_geogunit_110.csv', 'fileName': 'lookup_cost_urban_PES_2030_geogunit_110.csv'}, {'path': '/Users/alicia/Projects/jupyter-geotools-alpine/work/data/aqueduct/data_source/floods/floods_vizzuality/Flood_Data/Costs/lookup_cost_urban_PES_2050_geogunit_110.csv', 'fileName': 'lookup_cost_urban_PES_2050_geogunit_110.csv'}, {'path': '/Users/alicia/Projects/jupyter-geotools-alpine/work/data/aqueduct/data_source/floods/floods_vizzuality/Flood_Data/Costs/lookup_cost_urban_PES_2080_geogunit_110.csv', 'fileName': 'lookup_cost_urban_PES_2080_geogunit_110.csv'}]\n"
     ]
    }
   ],
   "source": [
    "files = []\n",
    "for (dirpath, dirnames, filenames) in os.walk(workPath):\n",
    "    files.extend([{'path':os.path.join(dirpath,file), 'fileName': file} for file in filenames if '.csv' in file])\n",
    "list_of_dfs = [{'data': pd.read_csv(file['path']), \n",
    "                'fileName': file['path'],\n",
    "                'path':file['path']\n",
    "               } for file in files]"
   ]
  },
  {
   "cell_type": "code",
   "execution_count": 47,
   "metadata": {
    "scrolled": false
   },
   "outputs": [
    {
     "name": "stdout",
     "output_type": "stream",
     "text": [
      "lookup_assets_Basin.csv\n"
     ]
    },
    {
     "data": {
      "text/plain": [
       "(230, 37)"
      ]
     },
     "metadata": {},
     "output_type": "display_data"
    },
    {
     "data": {
      "text/plain": [
       "Index(['Unnamed: 0', 'POPexp_PES_AST_2010_tot', 'POPexp_PES_AST_2030_tot',\n",
       "       'POPexp_PES_AST_2050_tot', 'POPexp_PES_AST_2080_tot',\n",
       "       'POPexp_BAU_AST_2010_tot', 'POPexp_BAU_AST_2030_tot',\n",
       "       'POPexp_BAU_AST_2050_tot', 'POPexp_BAU_AST_2080_tot',\n",
       "       'POPexp_OPT_AST_2010_tot', 'POPexp_OPT_AST_2030_tot',\n",
       "       'POPexp_OPT_AST_2050_tot', 'POPexp_OPT_AST_2080_tot',\n",
       "       'GDPexp_PES_AST_2010_tot', 'GDPexp_PES_AST_2030_tot',\n",
       "       'GDPexp_PES_AST_2050_tot', 'GDPexp_PES_AST_2080_tot',\n",
       "       'GDPexp_BAU_AST_2010_tot', 'GDPexp_BAU_AST_2030_tot',\n",
       "       'GDPexp_BAU_AST_2050_tot', 'GDPexp_BAU_AST_2080_tot',\n",
       "       'GDPexp_OPT_AST_2010_tot', 'GDPexp_OPT_AST_2030_tot',\n",
       "       'GDPexp_OPT_AST_2050_tot', 'GDPexp_OPT_AST_2080_tot',\n",
       "       'Urban_Damage_v2_PES_AST_2010_tot', 'Urban_Damage_v2_PES_AST_2030_tot',\n",
       "       'Urban_Damage_v2_PES_AST_2050_tot', 'Urban_Damage_v2_PES_AST_2080_tot',\n",
       "       'Urban_Damage_v2_BAU_AST_2010_tot', 'Urban_Damage_v2_BAU_AST_2030_tot',\n",
       "       'Urban_Damage_v2_BAU_AST_2050_tot', 'Urban_Damage_v2_BAU_AST_2080_tot',\n",
       "       'Urban_Damage_v2_OPT_AST_2010_tot', 'Urban_Damage_v2_OPT_AST_2030_tot',\n",
       "       'Urban_Damage_v2_OPT_AST_2050_tot', 'Urban_Damage_v2_OPT_AST_2080_tot'],\n",
       "      dtype='object')"
      ]
     },
     "metadata": {},
     "output_type": "display_data"
    },
    {
     "name": "stdout",
     "output_type": "stream",
     "text": [
      "lookup_assets_City.csv\n"
     ]
    },
    {
     "data": {
      "text/plain": [
       "(120, 37)"
      ]
     },
     "metadata": {},
     "output_type": "display_data"
    },
    {
     "data": {
      "text/plain": [
       "Index(['Unnamed: 0', 'POPexp_PES_AST_2010_tot', 'POPexp_PES_AST_2030_tot',\n",
       "       'POPexp_PES_AST_2050_tot', 'POPexp_PES_AST_2080_tot',\n",
       "       'POPexp_BAU_AST_2010_tot', 'POPexp_BAU_AST_2030_tot',\n",
       "       'POPexp_BAU_AST_2050_tot', 'POPexp_BAU_AST_2080_tot',\n",
       "       'POPexp_OPT_AST_2010_tot', 'POPexp_OPT_AST_2030_tot',\n",
       "       'POPexp_OPT_AST_2050_tot', 'POPexp_OPT_AST_2080_tot',\n",
       "       'GDPexp_PES_AST_2010_tot', 'GDPexp_PES_AST_2030_tot',\n",
       "       'GDPexp_PES_AST_2050_tot', 'GDPexp_PES_AST_2080_tot',\n",
       "       'GDPexp_BAU_AST_2010_tot', 'GDPexp_BAU_AST_2030_tot',\n",
       "       'GDPexp_BAU_AST_2050_tot', 'GDPexp_BAU_AST_2080_tot',\n",
       "       'GDPexp_OPT_AST_2010_tot', 'GDPexp_OPT_AST_2030_tot',\n",
       "       'GDPexp_OPT_AST_2050_tot', 'GDPexp_OPT_AST_2080_tot',\n",
       "       'Urban_Damage_v2_PES_AST_2010_tot', 'Urban_Damage_v2_PES_AST_2030_tot',\n",
       "       'Urban_Damage_v2_PES_AST_2050_tot', 'Urban_Damage_v2_PES_AST_2080_tot',\n",
       "       'Urban_Damage_v2_BAU_AST_2010_tot', 'Urban_Damage_v2_BAU_AST_2030_tot',\n",
       "       'Urban_Damage_v2_BAU_AST_2050_tot', 'Urban_Damage_v2_BAU_AST_2080_tot',\n",
       "       'Urban_Damage_v2_OPT_AST_2010_tot', 'Urban_Damage_v2_OPT_AST_2030_tot',\n",
       "       'Urban_Damage_v2_OPT_AST_2050_tot', 'Urban_Damage_v2_OPT_AST_2080_tot'],\n",
       "      dtype='object')"
      ]
     },
     "metadata": {},
     "output_type": "display_data"
    },
    {
     "name": "stdout",
     "output_type": "stream",
     "text": [
      "lookup_assets_Country.csv\n"
     ]
    },
    {
     "data": {
      "text/plain": [
       "(234, 37)"
      ]
     },
     "metadata": {},
     "output_type": "display_data"
    },
    {
     "data": {
      "text/plain": [
       "Index(['Unnamed: 0', 'POPexp_PES_AST_2010_tot', 'POPexp_PES_AST_2030_tot',\n",
       "       'POPexp_PES_AST_2050_tot', 'POPexp_PES_AST_2080_tot',\n",
       "       'POPexp_BAU_AST_2010_tot', 'POPexp_BAU_AST_2030_tot',\n",
       "       'POPexp_BAU_AST_2050_tot', 'POPexp_BAU_AST_2080_tot',\n",
       "       'POPexp_OPT_AST_2010_tot', 'POPexp_OPT_AST_2030_tot',\n",
       "       'POPexp_OPT_AST_2050_tot', 'POPexp_OPT_AST_2080_tot',\n",
       "       'GDPexp_PES_AST_2010_tot', 'GDPexp_PES_AST_2030_tot',\n",
       "       'GDPexp_PES_AST_2050_tot', 'GDPexp_PES_AST_2080_tot',\n",
       "       'GDPexp_BAU_AST_2010_tot', 'GDPexp_BAU_AST_2030_tot',\n",
       "       'GDPexp_BAU_AST_2050_tot', 'GDPexp_BAU_AST_2080_tot',\n",
       "       'GDPexp_OPT_AST_2010_tot', 'GDPexp_OPT_AST_2030_tot',\n",
       "       'GDPexp_OPT_AST_2050_tot', 'GDPexp_OPT_AST_2080_tot',\n",
       "       'Urban_Damage_v2_PES_AST_2010_tot', 'Urban_Damage_v2_PES_AST_2030_tot',\n",
       "       'Urban_Damage_v2_PES_AST_2050_tot', 'Urban_Damage_v2_PES_AST_2080_tot',\n",
       "       'Urban_Damage_v2_BAU_AST_2010_tot', 'Urban_Damage_v2_BAU_AST_2030_tot',\n",
       "       'Urban_Damage_v2_BAU_AST_2050_tot', 'Urban_Damage_v2_BAU_AST_2080_tot',\n",
       "       'Urban_Damage_v2_OPT_AST_2010_tot', 'Urban_Damage_v2_OPT_AST_2030_tot',\n",
       "       'Urban_Damage_v2_OPT_AST_2050_tot', 'Urban_Damage_v2_OPT_AST_2080_tot'],\n",
       "      dtype='object')"
      ]
     },
     "metadata": {},
     "output_type": "display_data"
    },
    {
     "name": "stdout",
     "output_type": "stream",
     "text": [
      "lookup_assets_State.csv\n"
     ]
    },
    {
     "data": {
      "text/plain": [
       "(3490, 37)"
      ]
     },
     "metadata": {},
     "output_type": "display_data"
    },
    {
     "data": {
      "text/plain": [
       "Index(['Unnamed: 0', 'POPexp_PES_AST_2010_tot', 'POPexp_PES_AST_2030_tot',\n",
       "       'POPexp_PES_AST_2050_tot', 'POPexp_PES_AST_2080_tot',\n",
       "       'POPexp_BAU_AST_2010_tot', 'POPexp_BAU_AST_2030_tot',\n",
       "       'POPexp_BAU_AST_2050_tot', 'POPexp_BAU_AST_2080_tot',\n",
       "       'POPexp_OPT_AST_2010_tot', 'POPexp_OPT_AST_2030_tot',\n",
       "       'POPexp_OPT_AST_2050_tot', 'POPexp_OPT_AST_2080_tot',\n",
       "       'GDPexp_PES_AST_2010_tot', 'GDPexp_PES_AST_2030_tot',\n",
       "       'GDPexp_PES_AST_2050_tot', 'GDPexp_PES_AST_2080_tot',\n",
       "       'GDPexp_BAU_AST_2010_tot', 'GDPexp_BAU_AST_2030_tot',\n",
       "       'GDPexp_BAU_AST_2050_tot', 'GDPexp_BAU_AST_2080_tot',\n",
       "       'GDPexp_OPT_AST_2010_tot', 'GDPexp_OPT_AST_2030_tot',\n",
       "       'GDPexp_OPT_AST_2050_tot', 'GDPexp_OPT_AST_2080_tot',\n",
       "       'Urban_Damage_v2_PES_AST_2010_tot', 'Urban_Damage_v2_PES_AST_2030_tot',\n",
       "       'Urban_Damage_v2_PES_AST_2050_tot', 'Urban_Damage_v2_PES_AST_2080_tot',\n",
       "       'Urban_Damage_v2_BAU_AST_2010_tot', 'Urban_Damage_v2_BAU_AST_2030_tot',\n",
       "       'Urban_Damage_v2_BAU_AST_2050_tot', 'Urban_Damage_v2_BAU_AST_2080_tot',\n",
       "       'Urban_Damage_v2_OPT_AST_2010_tot', 'Urban_Damage_v2_OPT_AST_2030_tot',\n",
       "       'Urban_Damage_v2_OPT_AST_2050_tot', 'Urban_Damage_v2_OPT_AST_2080_tot'],\n",
       "      dtype='object')"
      ]
     },
     "metadata": {},
     "output_type": "display_data"
    },
    {
     "name": "stdout",
     "output_type": "stream",
     "text": [
      "lookup_construction_factors_geogunit_108.csv\n"
     ]
    },
    {
     "data": {
      "text/plain": [
       "(5422, 4)"
      ]
     },
     "metadata": {},
     "output_type": "display_data"
    },
    {
     "data": {
      "text/plain": [
       "Index(['FID', 'COUNTRY_ID', 'construction_cost_index',\n",
       "       'PPP_MER_rate_2005_index'],\n",
       "      dtype='object')"
      ]
     },
     "metadata": {},
     "output_type": "display_data"
    },
    {
     "name": "stdout",
     "output_type": "stream",
     "text": [
      "lookup_geogunit_101.csv\n"
     ]
    },
    {
     "data": {
      "text/plain": [
       "(16397, 3)"
      ]
     },
     "metadata": {},
     "output_type": "display_data"
    },
    {
     "data": {
      "text/plain": [
       "Index(['Unnamed: 0', 'LVL6_ID', 'PFAF_ID'], dtype='object')"
      ]
     },
     "metadata": {},
     "output_type": "display_data"
    },
    {
     "name": "stdout",
     "output_type": "stream",
     "text": [
      "lookup_geogunit_103.csv\n"
     ]
    },
    {
     "data": {
      "text/plain": [
       "(120, 7)"
      ]
     },
     "metadata": {},
     "output_type": "display_data"
    },
    {
     "data": {
      "text/plain": [
       "Index(['FID', 'City', 'STATE_ID', 'FID_Aque_107', 'COUNTRY_ID', 'Riverine',\n",
       "       'Coastal'],\n",
       "      dtype='object')"
      ]
     },
     "metadata": {},
     "output_type": "display_data"
    },
    {
     "name": "stdout",
     "output_type": "stream",
     "text": [
      "lookup_geogunit_108.csv\n"
     ]
    },
    {
     "data": {
      "text/plain": [
       "(5422, 12)"
      ]
     },
     "metadata": {},
     "output_type": "display_data"
    },
    {
     "data": {
      "text/plain": [
       "Index(['Unnamed: 0', 'BASIN_ID', 'Basin', 'STATE_ID', 'COUNTRY_ID', 'Country',\n",
       "       'State', 'FID_Aque_105', 'FID_Aque_107', 'FID_Aque_109', 'Riverine',\n",
       "       'Coastal'],\n",
       "      dtype='object')"
      ]
     },
     "metadata": {},
     "output_type": "display_data"
    },
    {
     "name": "stdout",
     "output_type": "stream",
     "text": [
      "lookup_geogunit_110.csv\n"
     ]
    },
    {
     "data": {
      "text/plain": [
       "(33123, 14)"
      ]
     },
     "metadata": {},
     "output_type": "display_data"
    },
    {
     "data": {
      "text/plain": [
       "Index(['Unnamed: 0', 'HYBAS_ID', 'PFAF_ID', 'STATE_ID', 'COUNTRY_ID',\n",
       "       'Country', 'Basin', 'BASIN_ID', 'State', 'FID_Aque_105', 'FID_Aque_107',\n",
       "       'FID_Aque_109', 'Riverine', 'Coastal'],\n",
       "      dtype='object')"
      ]
     },
     "metadata": {},
     "output_type": "display_data"
    },
    {
     "name": "stdout",
     "output_type": "stream",
     "text": [
      "lookup_master.csv\n"
     ]
    },
    {
     "data": {
      "text/plain": [
       "(4074, 5)"
      ]
     },
     "metadata": {},
     "output_type": "display_data"
    },
    {
     "data": {
      "text/plain": [
       "Index(['Unnamed: 0', 'Name', 'Type', 'FIDS', 'UniqueName'], dtype='object')"
      ]
     },
     "metadata": {},
     "output_type": "display_data"
    },
    {
     "name": "stdout",
     "output_type": "stream",
     "text": [
      "Precalc_agg_Coastal_City_nosub.csv\n"
     ]
    },
    {
     "data": {
      "text/plain": [
       "(120, 442)"
      ]
     },
     "metadata": {},
     "output_type": "display_data"
    },
    {
     "data": {
      "text/plain": [
       "Index(['Unnamed: 0', 'GDPexp_2010_PES_tot_avg', 'GDPexp_2030_PES_tot_avg',\n",
       "       'GDPexp_2030_PES_tot_min', 'GDPexp_2030_PES_tot_max',\n",
       "       'GDPexp_2030_PES_cc_avg', 'GDPexp_2030_PES_cc_min',\n",
       "       'GDPexp_2030_PES_cc_max', 'GDPexp_2030_PES_soc_avg',\n",
       "       'GDPexp_2030_PES_sub_avg',\n",
       "       ...\n",
       "       'Urban_Damage_v2_2030_OPT_per_min', 'Urban_Damage_v2_2030_OPT_per_max',\n",
       "       'Urban_Damage_v2_2050_OPT_AST_tot', 'Urban_Damage_v2_2050_OPT_per_avg',\n",
       "       'Urban_Damage_v2_2050_OPT_per_min', 'Urban_Damage_v2_2050_OPT_per_max',\n",
       "       'Urban_Damage_v2_2080_OPT_AST_tot', 'Urban_Damage_v2_2080_OPT_per_avg',\n",
       "       'Urban_Damage_v2_2080_OPT_per_min', 'Urban_Damage_v2_2080_OPT_per_max'],\n",
       "      dtype='object', length=442)"
      ]
     },
     "metadata": {},
     "output_type": "display_data"
    },
    {
     "name": "stdout",
     "output_type": "stream",
     "text": [
      "Precalc_agg_Coastal_City_wtsub.csv\n"
     ]
    },
    {
     "data": {
      "text/plain": [
       "(120, 442)"
      ]
     },
     "metadata": {},
     "output_type": "display_data"
    },
    {
     "data": {
      "text/plain": [
       "Index(['Unnamed: 0', 'GDPexp_2010_PES_tot_avg', 'GDPexp_2030_PES_tot_avg',\n",
       "       'GDPexp_2030_PES_tot_min', 'GDPexp_2030_PES_tot_max',\n",
       "       'GDPexp_2030_PES_cc_avg', 'GDPexp_2030_PES_cc_min',\n",
       "       'GDPexp_2030_PES_cc_max', 'GDPexp_2030_PES_soc_avg',\n",
       "       'GDPexp_2030_PES_sub_avg',\n",
       "       ...\n",
       "       'Urban_Damage_v2_2030_OPT_per_min', 'Urban_Damage_v2_2030_OPT_per_max',\n",
       "       'Urban_Damage_v2_2050_OPT_AST_tot', 'Urban_Damage_v2_2050_OPT_per_avg',\n",
       "       'Urban_Damage_v2_2050_OPT_per_min', 'Urban_Damage_v2_2050_OPT_per_max',\n",
       "       'Urban_Damage_v2_2080_OPT_AST_tot', 'Urban_Damage_v2_2080_OPT_per_avg',\n",
       "       'Urban_Damage_v2_2080_OPT_per_min', 'Urban_Damage_v2_2080_OPT_per_max'],\n",
       "      dtype='object', length=442)"
      ]
     },
     "metadata": {},
     "output_type": "display_data"
    },
    {
     "name": "stdout",
     "output_type": "stream",
     "text": [
      "Precalc_agg_Coastal_Country_nosub.csv\n"
     ]
    },
    {
     "data": {
      "text/plain": [
       "(234, 442)"
      ]
     },
     "metadata": {},
     "output_type": "display_data"
    },
    {
     "data": {
      "text/plain": [
       "Index(['Unnamed: 0', 'GDPexp_2010_PES_tot_avg', 'GDPexp_2030_PES_tot_avg',\n",
       "       'GDPexp_2030_PES_tot_min', 'GDPexp_2030_PES_tot_max',\n",
       "       'GDPexp_2030_PES_cc_avg', 'GDPexp_2030_PES_cc_min',\n",
       "       'GDPexp_2030_PES_cc_max', 'GDPexp_2030_PES_soc_avg',\n",
       "       'GDPexp_2030_PES_sub_avg',\n",
       "       ...\n",
       "       'Urban_Damage_v2_2030_OPT_per_min', 'Urban_Damage_v2_2030_OPT_per_max',\n",
       "       'Urban_Damage_v2_2050_OPT_AST_tot', 'Urban_Damage_v2_2050_OPT_per_avg',\n",
       "       'Urban_Damage_v2_2050_OPT_per_min', 'Urban_Damage_v2_2050_OPT_per_max',\n",
       "       'Urban_Damage_v2_2080_OPT_AST_tot', 'Urban_Damage_v2_2080_OPT_per_avg',\n",
       "       'Urban_Damage_v2_2080_OPT_per_min', 'Urban_Damage_v2_2080_OPT_per_max'],\n",
       "      dtype='object', length=442)"
      ]
     },
     "metadata": {},
     "output_type": "display_data"
    },
    {
     "name": "stdout",
     "output_type": "stream",
     "text": [
      "Precalc_agg_Coastal_Country_wtsub.csv\n"
     ]
    },
    {
     "data": {
      "text/plain": [
       "(234, 442)"
      ]
     },
     "metadata": {},
     "output_type": "display_data"
    },
    {
     "data": {
      "text/plain": [
       "Index(['Unnamed: 0', 'GDPexp_2010_PES_tot_avg', 'GDPexp_2030_PES_tot_avg',\n",
       "       'GDPexp_2030_PES_tot_min', 'GDPexp_2030_PES_tot_max',\n",
       "       'GDPexp_2030_PES_cc_avg', 'GDPexp_2030_PES_cc_min',\n",
       "       'GDPexp_2030_PES_cc_max', 'GDPexp_2030_PES_soc_avg',\n",
       "       'GDPexp_2030_PES_sub_avg',\n",
       "       ...\n",
       "       'Urban_Damage_v2_2030_OPT_per_min', 'Urban_Damage_v2_2030_OPT_per_max',\n",
       "       'Urban_Damage_v2_2050_OPT_AST_tot', 'Urban_Damage_v2_2050_OPT_per_avg',\n",
       "       'Urban_Damage_v2_2050_OPT_per_min', 'Urban_Damage_v2_2050_OPT_per_max',\n",
       "       'Urban_Damage_v2_2080_OPT_AST_tot', 'Urban_Damage_v2_2080_OPT_per_avg',\n",
       "       'Urban_Damage_v2_2080_OPT_per_min', 'Urban_Damage_v2_2080_OPT_per_max'],\n",
       "      dtype='object', length=442)"
      ]
     },
     "metadata": {},
     "output_type": "display_data"
    },
    {
     "name": "stdout",
     "output_type": "stream",
     "text": [
      "Precalc_agg_Coastal_State_nosub.csv\n"
     ]
    },
    {
     "data": {
      "text/plain": [
       "(3490, 442)"
      ]
     },
     "metadata": {},
     "output_type": "display_data"
    },
    {
     "data": {
      "text/plain": [
       "Index(['Unnamed: 0', 'GDPexp_2010_PES_tot_avg', 'GDPexp_2030_PES_tot_avg',\n",
       "       'GDPexp_2030_PES_tot_min', 'GDPexp_2030_PES_tot_max',\n",
       "       'GDPexp_2030_PES_cc_avg', 'GDPexp_2030_PES_cc_min',\n",
       "       'GDPexp_2030_PES_cc_max', 'GDPexp_2030_PES_soc_avg',\n",
       "       'GDPexp_2030_PES_sub_avg',\n",
       "       ...\n",
       "       'Urban_Damage_v2_2030_OPT_per_min', 'Urban_Damage_v2_2030_OPT_per_max',\n",
       "       'Urban_Damage_v2_2050_OPT_AST_tot', 'Urban_Damage_v2_2050_OPT_per_avg',\n",
       "       'Urban_Damage_v2_2050_OPT_per_min', 'Urban_Damage_v2_2050_OPT_per_max',\n",
       "       'Urban_Damage_v2_2080_OPT_AST_tot', 'Urban_Damage_v2_2080_OPT_per_avg',\n",
       "       'Urban_Damage_v2_2080_OPT_per_min', 'Urban_Damage_v2_2080_OPT_per_max'],\n",
       "      dtype='object', length=442)"
      ]
     },
     "metadata": {},
     "output_type": "display_data"
    },
    {
     "name": "stdout",
     "output_type": "stream",
     "text": [
      "Precalc_agg_Coastal_State_wtsub.csv\n"
     ]
    },
    {
     "data": {
      "text/plain": [
       "(3490, 442)"
      ]
     },
     "metadata": {},
     "output_type": "display_data"
    },
    {
     "data": {
      "text/plain": [
       "Index(['Unnamed: 0', 'GDPexp_2010_PES_tot_avg', 'GDPexp_2030_PES_tot_avg',\n",
       "       'GDPexp_2030_PES_tot_min', 'GDPexp_2030_PES_tot_max',\n",
       "       'GDPexp_2030_PES_cc_avg', 'GDPexp_2030_PES_cc_min',\n",
       "       'GDPexp_2030_PES_cc_max', 'GDPexp_2030_PES_soc_avg',\n",
       "       'GDPexp_2030_PES_sub_avg',\n",
       "       ...\n",
       "       'Urban_Damage_v2_2030_OPT_per_min', 'Urban_Damage_v2_2030_OPT_per_max',\n",
       "       'Urban_Damage_v2_2050_OPT_AST_tot', 'Urban_Damage_v2_2050_OPT_per_avg',\n",
       "       'Urban_Damage_v2_2050_OPT_per_min', 'Urban_Damage_v2_2050_OPT_per_max',\n",
       "       'Urban_Damage_v2_2080_OPT_AST_tot', 'Urban_Damage_v2_2080_OPT_per_avg',\n",
       "       'Urban_Damage_v2_2080_OPT_per_min', 'Urban_Damage_v2_2080_OPT_per_max'],\n",
       "      dtype='object', length=442)"
      ]
     },
     "metadata": {},
     "output_type": "display_data"
    },
    {
     "name": "stdout",
     "output_type": "stream",
     "text": [
      "Precalc_agg_Riverine_Basin_nosub.csv\n"
     ]
    },
    {
     "data": {
      "text/plain": [
       "(230, 442)"
      ]
     },
     "metadata": {},
     "output_type": "display_data"
    },
    {
     "data": {
      "text/plain": [
       "Index(['Unnamed: 0', 'GDPexp_2010_PES_tot_avg', 'GDPexp_2030_PES_tot_avg',\n",
       "       'GDPexp_2030_PES_tot_min', 'GDPexp_2030_PES_tot_max',\n",
       "       'GDPexp_2030_PES_cc_avg', 'GDPexp_2030_PES_cc_min',\n",
       "       'GDPexp_2030_PES_cc_max', 'GDPexp_2030_PES_soc_avg',\n",
       "       'GDPexp_2030_PES_sub_avg',\n",
       "       ...\n",
       "       'Urban_Damage_v2_2030_OPT_per_min', 'Urban_Damage_v2_2030_OPT_per_max',\n",
       "       'Urban_Damage_v2_2050_OPT_AST_tot', 'Urban_Damage_v2_2050_OPT_per_avg',\n",
       "       'Urban_Damage_v2_2050_OPT_per_min', 'Urban_Damage_v2_2050_OPT_per_max',\n",
       "       'Urban_Damage_v2_2080_OPT_AST_tot', 'Urban_Damage_v2_2080_OPT_per_avg',\n",
       "       'Urban_Damage_v2_2080_OPT_per_min', 'Urban_Damage_v2_2080_OPT_per_max'],\n",
       "      dtype='object', length=442)"
      ]
     },
     "metadata": {},
     "output_type": "display_data"
    },
    {
     "name": "stdout",
     "output_type": "stream",
     "text": [
      "Precalc_agg_Riverine_City_nosub.csv\n"
     ]
    },
    {
     "data": {
      "text/plain": [
       "(120, 442)"
      ]
     },
     "metadata": {},
     "output_type": "display_data"
    },
    {
     "data": {
      "text/plain": [
       "Index(['Unnamed: 0', 'GDPexp_2010_PES_tot_avg', 'GDPexp_2030_PES_tot_avg',\n",
       "       'GDPexp_2030_PES_tot_min', 'GDPexp_2030_PES_tot_max',\n",
       "       'GDPexp_2030_PES_cc_avg', 'GDPexp_2030_PES_cc_min',\n",
       "       'GDPexp_2030_PES_cc_max', 'GDPexp_2030_PES_soc_avg',\n",
       "       'GDPexp_2030_PES_sub_avg',\n",
       "       ...\n",
       "       'Urban_Damage_v2_2030_OPT_per_min', 'Urban_Damage_v2_2030_OPT_per_max',\n",
       "       'Urban_Damage_v2_2050_OPT_AST_tot', 'Urban_Damage_v2_2050_OPT_per_avg',\n",
       "       'Urban_Damage_v2_2050_OPT_per_min', 'Urban_Damage_v2_2050_OPT_per_max',\n",
       "       'Urban_Damage_v2_2080_OPT_AST_tot', 'Urban_Damage_v2_2080_OPT_per_avg',\n",
       "       'Urban_Damage_v2_2080_OPT_per_min', 'Urban_Damage_v2_2080_OPT_per_max'],\n",
       "      dtype='object', length=442)"
      ]
     },
     "metadata": {},
     "output_type": "display_data"
    },
    {
     "name": "stdout",
     "output_type": "stream",
     "text": [
      "Precalc_agg_Riverine_Country_nosub.csv\n"
     ]
    },
    {
     "data": {
      "text/plain": [
       "(234, 442)"
      ]
     },
     "metadata": {},
     "output_type": "display_data"
    },
    {
     "data": {
      "text/plain": [
       "Index(['Unnamed: 0', 'GDPexp_2010_PES_tot_avg', 'GDPexp_2030_PES_tot_avg',\n",
       "       'GDPexp_2030_PES_tot_min', 'GDPexp_2030_PES_tot_max',\n",
       "       'GDPexp_2030_PES_cc_avg', 'GDPexp_2030_PES_cc_min',\n",
       "       'GDPexp_2030_PES_cc_max', 'GDPexp_2030_PES_soc_avg',\n",
       "       'GDPexp_2030_PES_sub_avg',\n",
       "       ...\n",
       "       'Urban_Damage_v2_2030_OPT_per_min', 'Urban_Damage_v2_2030_OPT_per_max',\n",
       "       'Urban_Damage_v2_2050_OPT_AST_tot', 'Urban_Damage_v2_2050_OPT_per_avg',\n",
       "       'Urban_Damage_v2_2050_OPT_per_min', 'Urban_Damage_v2_2050_OPT_per_max',\n",
       "       'Urban_Damage_v2_2080_OPT_AST_tot', 'Urban_Damage_v2_2080_OPT_per_avg',\n",
       "       'Urban_Damage_v2_2080_OPT_per_min', 'Urban_Damage_v2_2080_OPT_per_max'],\n",
       "      dtype='object', length=442)"
      ]
     },
     "metadata": {},
     "output_type": "display_data"
    },
    {
     "name": "stdout",
     "output_type": "stream",
     "text": [
      "Precalc_agg_Riverine_State_nosub.csv\n"
     ]
    },
    {
     "data": {
      "text/plain": [
       "(3490, 442)"
      ]
     },
     "metadata": {},
     "output_type": "display_data"
    },
    {
     "data": {
      "text/plain": [
       "Index(['Unnamed: 0', 'GDPexp_2010_PES_tot_avg', 'GDPexp_2030_PES_tot_avg',\n",
       "       'GDPexp_2030_PES_tot_min', 'GDPexp_2030_PES_tot_max',\n",
       "       'GDPexp_2030_PES_cc_avg', 'GDPexp_2030_PES_cc_min',\n",
       "       'GDPexp_2030_PES_cc_max', 'GDPexp_2030_PES_soc_avg',\n",
       "       'GDPexp_2030_PES_sub_avg',\n",
       "       ...\n",
       "       'Urban_Damage_v2_2030_OPT_per_min', 'Urban_Damage_v2_2030_OPT_per_max',\n",
       "       'Urban_Damage_v2_2050_OPT_AST_tot', 'Urban_Damage_v2_2050_OPT_per_avg',\n",
       "       'Urban_Damage_v2_2050_OPT_per_min', 'Urban_Damage_v2_2050_OPT_per_max',\n",
       "       'Urban_Damage_v2_2080_OPT_AST_tot', 'Urban_Damage_v2_2080_OPT_per_avg',\n",
       "       'Urban_Damage_v2_2080_OPT_per_min', 'Urban_Damage_v2_2080_OPT_per_max'],\n",
       "      dtype='object', length=442)"
      ]
     },
     "metadata": {},
     "output_type": "display_data"
    },
    {
     "name": "stdout",
     "output_type": "stream",
     "text": [
      "Precalc_Coastal_geogunit_103_nosub.csv\n"
     ]
    },
    {
     "data": {
      "text/plain": [
       "(120, 433)"
      ]
     },
     "metadata": {},
     "output_type": "display_data"
    },
    {
     "data": {
      "text/plain": [
       "Index(['Unnamed: 0', 'GDPexp_PES_05_cc_2010', 'GDPexp_PES_05_cc_2030',\n",
       "       'GDPexp_PES_05_cc_2050', 'GDPexp_PES_05_cc_2080',\n",
       "       'GDPexp_PES_05_soc_2010', 'GDPexp_PES_05_soc_2030',\n",
       "       'GDPexp_PES_05_soc_2050', 'GDPexp_PES_05_soc_2080',\n",
       "       'GDPexp_PES_05_sub_2010',\n",
       "       ...\n",
       "       'Urban_Damage_v2_OPT_95_soc_2050', 'Urban_Damage_v2_OPT_95_soc_2080',\n",
       "       'Urban_Damage_v2_OPT_95_sub_2010', 'Urban_Damage_v2_OPT_95_sub_2030',\n",
       "       'Urban_Damage_v2_OPT_95_sub_2050', 'Urban_Damage_v2_OPT_95_sub_2080',\n",
       "       'Urban_Damage_v2_OPT_95_tot_2010', 'Urban_Damage_v2_OPT_95_tot_2030',\n",
       "       'Urban_Damage_v2_OPT_95_tot_2050', 'Urban_Damage_v2_OPT_95_tot_2080'],\n",
       "      dtype='object', length=433)"
      ]
     },
     "metadata": {},
     "output_type": "display_data"
    },
    {
     "name": "stdout",
     "output_type": "stream",
     "text": [
      "Precalc_Coastal_geogunit_103_wtsub.csv\n"
     ]
    },
    {
     "data": {
      "text/plain": [
       "(120, 433)"
      ]
     },
     "metadata": {},
     "output_type": "display_data"
    },
    {
     "data": {
      "text/plain": [
       "Index(['Unnamed: 0', 'GDPexp_PES_05_cc_2010', 'GDPexp_PES_05_cc_2030',\n",
       "       'GDPexp_PES_05_cc_2050', 'GDPexp_PES_05_cc_2080',\n",
       "       'GDPexp_PES_05_soc_2010', 'GDPexp_PES_05_soc_2030',\n",
       "       'GDPexp_PES_05_soc_2050', 'GDPexp_PES_05_soc_2080',\n",
       "       'GDPexp_PES_05_sub_2010',\n",
       "       ...\n",
       "       'Urban_Damage_v2_OPT_95_soc_2050', 'Urban_Damage_v2_OPT_95_soc_2080',\n",
       "       'Urban_Damage_v2_OPT_95_sub_2010', 'Urban_Damage_v2_OPT_95_sub_2030',\n",
       "       'Urban_Damage_v2_OPT_95_sub_2050', 'Urban_Damage_v2_OPT_95_sub_2080',\n",
       "       'Urban_Damage_v2_OPT_95_tot_2010', 'Urban_Damage_v2_OPT_95_tot_2030',\n",
       "       'Urban_Damage_v2_OPT_95_tot_2050', 'Urban_Damage_v2_OPT_95_tot_2080'],\n",
       "      dtype='object', length=433)"
      ]
     },
     "metadata": {},
     "output_type": "display_data"
    },
    {
     "name": "stdout",
     "output_type": "stream",
     "text": [
      "Precalc_Coastal_geogunit_108_nosub.csv\n"
     ]
    },
    {
     "data": {
      "text/plain": [
       "(5422, 433)"
      ]
     },
     "metadata": {},
     "output_type": "display_data"
    },
    {
     "data": {
      "text/plain": [
       "Index(['Unnamed: 0', 'GDPexp_PES_05_cc_2010', 'GDPexp_PES_05_cc_2030',\n",
       "       'GDPexp_PES_05_cc_2050', 'GDPexp_PES_05_cc_2080',\n",
       "       'GDPexp_PES_05_soc_2010', 'GDPexp_PES_05_soc_2030',\n",
       "       'GDPexp_PES_05_soc_2050', 'GDPexp_PES_05_soc_2080',\n",
       "       'GDPexp_PES_05_sub_2010',\n",
       "       ...\n",
       "       'Urban_Damage_v2_OPT_95_soc_2050', 'Urban_Damage_v2_OPT_95_soc_2080',\n",
       "       'Urban_Damage_v2_OPT_95_sub_2010', 'Urban_Damage_v2_OPT_95_sub_2030',\n",
       "       'Urban_Damage_v2_OPT_95_sub_2050', 'Urban_Damage_v2_OPT_95_sub_2080',\n",
       "       'Urban_Damage_v2_OPT_95_tot_2010', 'Urban_Damage_v2_OPT_95_tot_2030',\n",
       "       'Urban_Damage_v2_OPT_95_tot_2050', 'Urban_Damage_v2_OPT_95_tot_2080'],\n",
       "      dtype='object', length=433)"
      ]
     },
     "metadata": {},
     "output_type": "display_data"
    },
    {
     "name": "stdout",
     "output_type": "stream",
     "text": [
      "Precalc_Coastal_geogunit_108_wtsub.csv\n"
     ]
    },
    {
     "data": {
      "text/plain": [
       "(5422, 433)"
      ]
     },
     "metadata": {},
     "output_type": "display_data"
    },
    {
     "data": {
      "text/plain": [
       "Index(['Unnamed: 0', 'GDPexp_PES_05_cc_2010', 'GDPexp_PES_05_cc_2030',\n",
       "       'GDPexp_PES_05_cc_2050', 'GDPexp_PES_05_cc_2080',\n",
       "       'GDPexp_PES_05_soc_2010', 'GDPexp_PES_05_soc_2030',\n",
       "       'GDPexp_PES_05_soc_2050', 'GDPexp_PES_05_soc_2080',\n",
       "       'GDPexp_PES_05_sub_2010',\n",
       "       ...\n",
       "       'Urban_Damage_v2_OPT_95_soc_2050', 'Urban_Damage_v2_OPT_95_soc_2080',\n",
       "       'Urban_Damage_v2_OPT_95_sub_2010', 'Urban_Damage_v2_OPT_95_sub_2030',\n",
       "       'Urban_Damage_v2_OPT_95_sub_2050', 'Urban_Damage_v2_OPT_95_sub_2080',\n",
       "       'Urban_Damage_v2_OPT_95_tot_2010', 'Urban_Damage_v2_OPT_95_tot_2030',\n",
       "       'Urban_Damage_v2_OPT_95_tot_2050', 'Urban_Damage_v2_OPT_95_tot_2080'],\n",
       "      dtype='object', length=433)"
      ]
     },
     "metadata": {},
     "output_type": "display_data"
    },
    {
     "name": "stdout",
     "output_type": "stream",
     "text": [
      "Precalc_Riverine_geogunit_103_nosub.csv\n"
     ]
    },
    {
     "data": {
      "text/plain": [
       "(120, 721)"
      ]
     },
     "metadata": {},
     "output_type": "display_data"
    },
    {
     "data": {
      "text/plain": [
       "Index(['Unnamed: 0', 'GDPexp_PES_gf_cc_2010', 'GDPexp_PES_gf_cc_2030',\n",
       "       'GDPexp_PES_gf_cc_2050', 'GDPexp_PES_gf_cc_2080',\n",
       "       'GDPexp_PES_gf_soc_2010', 'GDPexp_PES_gf_soc_2030',\n",
       "       'GDPexp_PES_gf_soc_2050', 'GDPexp_PES_gf_soc_2080',\n",
       "       'GDPexp_PES_gf_sub_2010',\n",
       "       ...\n",
       "       'Urban_Damage_v2_OPT_nr_soc_2050', 'Urban_Damage_v2_OPT_nr_soc_2080',\n",
       "       'Urban_Damage_v2_OPT_nr_sub_2010', 'Urban_Damage_v2_OPT_nr_sub_2030',\n",
       "       'Urban_Damage_v2_OPT_nr_sub_2050', 'Urban_Damage_v2_OPT_nr_sub_2080',\n",
       "       'Urban_Damage_v2_OPT_nr_tot_2010', 'Urban_Damage_v2_OPT_nr_tot_2030',\n",
       "       'Urban_Damage_v2_OPT_nr_tot_2050', 'Urban_Damage_v2_OPT_nr_tot_2080'],\n",
       "      dtype='object', length=721)"
      ]
     },
     "metadata": {},
     "output_type": "display_data"
    },
    {
     "name": "stdout",
     "output_type": "stream",
     "text": [
      "Precalc_Riverine_geogunit_108_nosub.csv\n"
     ]
    },
    {
     "data": {
      "text/plain": [
       "(5422, 721)"
      ]
     },
     "metadata": {},
     "output_type": "display_data"
    },
    {
     "data": {
      "text/plain": [
       "Index(['Unnamed: 0', 'GDPexp_PES_gf_cc_2010', 'GDPexp_PES_gf_cc_2030',\n",
       "       'GDPexp_PES_gf_cc_2050', 'GDPexp_PES_gf_cc_2080',\n",
       "       'GDPexp_PES_gf_soc_2010', 'GDPexp_PES_gf_soc_2030',\n",
       "       'GDPexp_PES_gf_soc_2050', 'GDPexp_PES_gf_soc_2080',\n",
       "       'GDPexp_PES_gf_sub_2010',\n",
       "       ...\n",
       "       'Urban_Damage_v2_OPT_nr_soc_2050', 'Urban_Damage_v2_OPT_nr_soc_2080',\n",
       "       'Urban_Damage_v2_OPT_nr_sub_2010', 'Urban_Damage_v2_OPT_nr_sub_2030',\n",
       "       'Urban_Damage_v2_OPT_nr_sub_2050', 'Urban_Damage_v2_OPT_nr_sub_2080',\n",
       "       'Urban_Damage_v2_OPT_nr_tot_2010', 'Urban_Damage_v2_OPT_nr_tot_2030',\n",
       "       'Urban_Damage_v2_OPT_nr_tot_2050', 'Urban_Damage_v2_OPT_nr_tot_2080'],\n",
       "      dtype='object', length=721)"
      ]
     },
     "metadata": {},
     "output_type": "display_data"
    },
    {
     "name": "stdout",
     "output_type": "stream",
     "text": [
      "Raw_agg_Coastal_City_GDPexp.csv\n"
     ]
    },
    {
     "data": {
      "text/plain": [
       "(120, 1101)"
      ]
     },
     "metadata": {},
     "output_type": "display_data"
    },
    {
     "data": {
      "text/plain": [
       "Index(['Unnamed: 0', 'rcp8p5_95_base_nosub_2030_rp00001',\n",
       "       'rcp8p5_95_base_nosub_2030_rp00002',\n",
       "       'rcp8p5_95_base_nosub_2030_rp00005',\n",
       "       'rcp8p5_95_base_nosub_2030_rp00010',\n",
       "       'rcp8p5_95_base_nosub_2030_rp00025',\n",
       "       'rcp8p5_95_base_nosub_2030_rp00050',\n",
       "       'rcp8p5_95_base_nosub_2030_rp00100',\n",
       "       'rcp8p5_95_base_nosub_2030_rp00250',\n",
       "       'rcp8p5_95_base_nosub_2030_rp00500',\n",
       "       ...\n",
       "       'rcp4p5_05_ssp2_wtsub_2080_rp00001',\n",
       "       'rcp4p5_05_ssp2_wtsub_2080_rp00002',\n",
       "       'rcp4p5_05_ssp2_wtsub_2080_rp00005',\n",
       "       'rcp4p5_05_ssp2_wtsub_2080_rp00010',\n",
       "       'rcp4p5_05_ssp2_wtsub_2080_rp00025',\n",
       "       'rcp4p5_05_ssp2_wtsub_2080_rp00050',\n",
       "       'rcp4p5_05_ssp2_wtsub_2080_rp00100',\n",
       "       'rcp4p5_05_ssp2_wtsub_2080_rp00250',\n",
       "       'rcp4p5_05_ssp2_wtsub_2080_rp00500',\n",
       "       'rcp4p5_05_ssp2_wtsub_2080_rp01000'],\n",
       "      dtype='object', length=1101)"
      ]
     },
     "metadata": {},
     "output_type": "display_data"
    },
    {
     "name": "stdout",
     "output_type": "stream",
     "text": [
      "Raw_agg_Coastal_City_POPexp.csv\n"
     ]
    },
    {
     "data": {
      "text/plain": [
       "(120, 1101)"
      ]
     },
     "metadata": {},
     "output_type": "display_data"
    },
    {
     "data": {
      "text/plain": [
       "Index(['Unnamed: 0', 'rcp8p5_95_base_nosub_2030_rp00001',\n",
       "       'rcp8p5_95_base_nosub_2030_rp00002',\n",
       "       'rcp8p5_95_base_nosub_2030_rp00005',\n",
       "       'rcp8p5_95_base_nosub_2030_rp00010',\n",
       "       'rcp8p5_95_base_nosub_2030_rp00025',\n",
       "       'rcp8p5_95_base_nosub_2030_rp00050',\n",
       "       'rcp8p5_95_base_nosub_2030_rp00100',\n",
       "       'rcp8p5_95_base_nosub_2030_rp00250',\n",
       "       'rcp8p5_95_base_nosub_2030_rp00500',\n",
       "       ...\n",
       "       'rcp4p5_05_ssp2_wtsub_2080_rp00001',\n",
       "       'rcp4p5_05_ssp2_wtsub_2080_rp00002',\n",
       "       'rcp4p5_05_ssp2_wtsub_2080_rp00005',\n",
       "       'rcp4p5_05_ssp2_wtsub_2080_rp00010',\n",
       "       'rcp4p5_05_ssp2_wtsub_2080_rp00025',\n",
       "       'rcp4p5_05_ssp2_wtsub_2080_rp00050',\n",
       "       'rcp4p5_05_ssp2_wtsub_2080_rp00100',\n",
       "       'rcp4p5_05_ssp2_wtsub_2080_rp00250',\n",
       "       'rcp4p5_05_ssp2_wtsub_2080_rp00500',\n",
       "       'rcp4p5_05_ssp2_wtsub_2080_rp01000'],\n",
       "      dtype='object', length=1101)"
      ]
     },
     "metadata": {},
     "output_type": "display_data"
    },
    {
     "name": "stdout",
     "output_type": "stream",
     "text": [
      "Raw_agg_Coastal_City_Urban_Damage_v2.csv\n"
     ]
    },
    {
     "data": {
      "text/plain": [
       "(120, 1101)"
      ]
     },
     "metadata": {},
     "output_type": "display_data"
    },
    {
     "data": {
      "text/plain": [
       "Index(['Unnamed: 0', 'rcp8p5_95_base_nosub_2030_rp00001',\n",
       "       'rcp8p5_95_base_nosub_2030_rp00002',\n",
       "       'rcp8p5_95_base_nosub_2030_rp00005',\n",
       "       'rcp8p5_95_base_nosub_2030_rp00010',\n",
       "       'rcp8p5_95_base_nosub_2030_rp00025',\n",
       "       'rcp8p5_95_base_nosub_2030_rp00050',\n",
       "       'rcp8p5_95_base_nosub_2030_rp00100',\n",
       "       'rcp8p5_95_base_nosub_2030_rp00250',\n",
       "       'rcp8p5_95_base_nosub_2030_rp00500',\n",
       "       ...\n",
       "       'rcp4p5_05_ssp2_wtsub_2080_rp00001',\n",
       "       'rcp4p5_05_ssp2_wtsub_2080_rp00002',\n",
       "       'rcp4p5_05_ssp2_wtsub_2080_rp00005',\n",
       "       'rcp4p5_05_ssp2_wtsub_2080_rp00010',\n",
       "       'rcp4p5_05_ssp2_wtsub_2080_rp00025',\n",
       "       'rcp4p5_05_ssp2_wtsub_2080_rp00050',\n",
       "       'rcp4p5_05_ssp2_wtsub_2080_rp00100',\n",
       "       'rcp4p5_05_ssp2_wtsub_2080_rp00250',\n",
       "       'rcp4p5_05_ssp2_wtsub_2080_rp00500',\n",
       "       'rcp4p5_05_ssp2_wtsub_2080_rp01000'],\n",
       "      dtype='object', length=1101)"
      ]
     },
     "metadata": {},
     "output_type": "display_data"
    },
    {
     "name": "stdout",
     "output_type": "stream",
     "text": [
      "Raw_agg_Coastal_Country_GDPexp.csv\n"
     ]
    },
    {
     "data": {
      "text/plain": [
       "(234, 1101)"
      ]
     },
     "metadata": {},
     "output_type": "display_data"
    },
    {
     "data": {
      "text/plain": [
       "Index(['Unnamed: 0', 'rcp8p5_95_base_nosub_2030_rp00001',\n",
       "       'rcp8p5_95_base_nosub_2030_rp00002',\n",
       "       'rcp8p5_95_base_nosub_2030_rp00005',\n",
       "       'rcp8p5_95_base_nosub_2030_rp00010',\n",
       "       'rcp8p5_95_base_nosub_2030_rp00025',\n",
       "       'rcp8p5_95_base_nosub_2030_rp00050',\n",
       "       'rcp8p5_95_base_nosub_2030_rp00100',\n",
       "       'rcp8p5_95_base_nosub_2030_rp00250',\n",
       "       'rcp8p5_95_base_nosub_2030_rp00500',\n",
       "       ...\n",
       "       'rcp4p5_05_ssp2_wtsub_2080_rp00001',\n",
       "       'rcp4p5_05_ssp2_wtsub_2080_rp00002',\n",
       "       'rcp4p5_05_ssp2_wtsub_2080_rp00005',\n",
       "       'rcp4p5_05_ssp2_wtsub_2080_rp00010',\n",
       "       'rcp4p5_05_ssp2_wtsub_2080_rp00025',\n",
       "       'rcp4p5_05_ssp2_wtsub_2080_rp00050',\n",
       "       'rcp4p5_05_ssp2_wtsub_2080_rp00100',\n",
       "       'rcp4p5_05_ssp2_wtsub_2080_rp00250',\n",
       "       'rcp4p5_05_ssp2_wtsub_2080_rp00500',\n",
       "       'rcp4p5_05_ssp2_wtsub_2080_rp01000'],\n",
       "      dtype='object', length=1101)"
      ]
     },
     "metadata": {},
     "output_type": "display_data"
    },
    {
     "name": "stdout",
     "output_type": "stream",
     "text": [
      "Raw_agg_Coastal_Country_POPexp.csv\n"
     ]
    },
    {
     "data": {
      "text/plain": [
       "(234, 1101)"
      ]
     },
     "metadata": {},
     "output_type": "display_data"
    },
    {
     "data": {
      "text/plain": [
       "Index(['Unnamed: 0', 'rcp8p5_95_base_nosub_2030_rp00001',\n",
       "       'rcp8p5_95_base_nosub_2030_rp00002',\n",
       "       'rcp8p5_95_base_nosub_2030_rp00005',\n",
       "       'rcp8p5_95_base_nosub_2030_rp00010',\n",
       "       'rcp8p5_95_base_nosub_2030_rp00025',\n",
       "       'rcp8p5_95_base_nosub_2030_rp00050',\n",
       "       'rcp8p5_95_base_nosub_2030_rp00100',\n",
       "       'rcp8p5_95_base_nosub_2030_rp00250',\n",
       "       'rcp8p5_95_base_nosub_2030_rp00500',\n",
       "       ...\n",
       "       'rcp4p5_05_ssp2_wtsub_2080_rp00001',\n",
       "       'rcp4p5_05_ssp2_wtsub_2080_rp00002',\n",
       "       'rcp4p5_05_ssp2_wtsub_2080_rp00005',\n",
       "       'rcp4p5_05_ssp2_wtsub_2080_rp00010',\n",
       "       'rcp4p5_05_ssp2_wtsub_2080_rp00025',\n",
       "       'rcp4p5_05_ssp2_wtsub_2080_rp00050',\n",
       "       'rcp4p5_05_ssp2_wtsub_2080_rp00100',\n",
       "       'rcp4p5_05_ssp2_wtsub_2080_rp00250',\n",
       "       'rcp4p5_05_ssp2_wtsub_2080_rp00500',\n",
       "       'rcp4p5_05_ssp2_wtsub_2080_rp01000'],\n",
       "      dtype='object', length=1101)"
      ]
     },
     "metadata": {},
     "output_type": "display_data"
    },
    {
     "name": "stdout",
     "output_type": "stream",
     "text": [
      "Raw_agg_Coastal_Country_Urban_Damage_v2.csv\n"
     ]
    },
    {
     "data": {
      "text/plain": [
       "(234, 1101)"
      ]
     },
     "metadata": {},
     "output_type": "display_data"
    },
    {
     "data": {
      "text/plain": [
       "Index(['Unnamed: 0', 'rcp8p5_95_base_nosub_2030_rp00001',\n",
       "       'rcp8p5_95_base_nosub_2030_rp00002',\n",
       "       'rcp8p5_95_base_nosub_2030_rp00005',\n",
       "       'rcp8p5_95_base_nosub_2030_rp00010',\n",
       "       'rcp8p5_95_base_nosub_2030_rp00025',\n",
       "       'rcp8p5_95_base_nosub_2030_rp00050',\n",
       "       'rcp8p5_95_base_nosub_2030_rp00100',\n",
       "       'rcp8p5_95_base_nosub_2030_rp00250',\n",
       "       'rcp8p5_95_base_nosub_2030_rp00500',\n",
       "       ...\n",
       "       'rcp4p5_05_ssp2_wtsub_2080_rp00001',\n",
       "       'rcp4p5_05_ssp2_wtsub_2080_rp00002',\n",
       "       'rcp4p5_05_ssp2_wtsub_2080_rp00005',\n",
       "       'rcp4p5_05_ssp2_wtsub_2080_rp00010',\n",
       "       'rcp4p5_05_ssp2_wtsub_2080_rp00025',\n",
       "       'rcp4p5_05_ssp2_wtsub_2080_rp00050',\n",
       "       'rcp4p5_05_ssp2_wtsub_2080_rp00100',\n",
       "       'rcp4p5_05_ssp2_wtsub_2080_rp00250',\n",
       "       'rcp4p5_05_ssp2_wtsub_2080_rp00500',\n",
       "       'rcp4p5_05_ssp2_wtsub_2080_rp01000'],\n",
       "      dtype='object', length=1101)"
      ]
     },
     "metadata": {},
     "output_type": "display_data"
    },
    {
     "name": "stdout",
     "output_type": "stream",
     "text": [
      "Raw_agg_Coastal_State_GDPexp.csv\n"
     ]
    },
    {
     "data": {
      "text/plain": [
       "(3490, 1101)"
      ]
     },
     "metadata": {},
     "output_type": "display_data"
    },
    {
     "data": {
      "text/plain": [
       "Index(['Unnamed: 0', 'rcp8p5_95_base_nosub_2030_rp00001',\n",
       "       'rcp8p5_95_base_nosub_2030_rp00002',\n",
       "       'rcp8p5_95_base_nosub_2030_rp00005',\n",
       "       'rcp8p5_95_base_nosub_2030_rp00010',\n",
       "       'rcp8p5_95_base_nosub_2030_rp00025',\n",
       "       'rcp8p5_95_base_nosub_2030_rp00050',\n",
       "       'rcp8p5_95_base_nosub_2030_rp00100',\n",
       "       'rcp8p5_95_base_nosub_2030_rp00250',\n",
       "       'rcp8p5_95_base_nosub_2030_rp00500',\n",
       "       ...\n",
       "       'rcp4p5_05_ssp2_wtsub_2080_rp00001',\n",
       "       'rcp4p5_05_ssp2_wtsub_2080_rp00002',\n",
       "       'rcp4p5_05_ssp2_wtsub_2080_rp00005',\n",
       "       'rcp4p5_05_ssp2_wtsub_2080_rp00010',\n",
       "       'rcp4p5_05_ssp2_wtsub_2080_rp00025',\n",
       "       'rcp4p5_05_ssp2_wtsub_2080_rp00050',\n",
       "       'rcp4p5_05_ssp2_wtsub_2080_rp00100',\n",
       "       'rcp4p5_05_ssp2_wtsub_2080_rp00250',\n",
       "       'rcp4p5_05_ssp2_wtsub_2080_rp00500',\n",
       "       'rcp4p5_05_ssp2_wtsub_2080_rp01000'],\n",
       "      dtype='object', length=1101)"
      ]
     },
     "metadata": {},
     "output_type": "display_data"
    },
    {
     "name": "stdout",
     "output_type": "stream",
     "text": [
      "Raw_agg_Coastal_State_POPexp.csv\n"
     ]
    },
    {
     "data": {
      "text/plain": [
       "(3490, 1101)"
      ]
     },
     "metadata": {},
     "output_type": "display_data"
    },
    {
     "data": {
      "text/plain": [
       "Index(['Unnamed: 0', 'rcp8p5_95_base_nosub_2030_rp00001',\n",
       "       'rcp8p5_95_base_nosub_2030_rp00002',\n",
       "       'rcp8p5_95_base_nosub_2030_rp00005',\n",
       "       'rcp8p5_95_base_nosub_2030_rp00010',\n",
       "       'rcp8p5_95_base_nosub_2030_rp00025',\n",
       "       'rcp8p5_95_base_nosub_2030_rp00050',\n",
       "       'rcp8p5_95_base_nosub_2030_rp00100',\n",
       "       'rcp8p5_95_base_nosub_2030_rp00250',\n",
       "       'rcp8p5_95_base_nosub_2030_rp00500',\n",
       "       ...\n",
       "       'rcp4p5_05_ssp2_wtsub_2080_rp00001',\n",
       "       'rcp4p5_05_ssp2_wtsub_2080_rp00002',\n",
       "       'rcp4p5_05_ssp2_wtsub_2080_rp00005',\n",
       "       'rcp4p5_05_ssp2_wtsub_2080_rp00010',\n",
       "       'rcp4p5_05_ssp2_wtsub_2080_rp00025',\n",
       "       'rcp4p5_05_ssp2_wtsub_2080_rp00050',\n",
       "       'rcp4p5_05_ssp2_wtsub_2080_rp00100',\n",
       "       'rcp4p5_05_ssp2_wtsub_2080_rp00250',\n",
       "       'rcp4p5_05_ssp2_wtsub_2080_rp00500',\n",
       "       'rcp4p5_05_ssp2_wtsub_2080_rp01000'],\n",
       "      dtype='object', length=1101)"
      ]
     },
     "metadata": {},
     "output_type": "display_data"
    },
    {
     "name": "stdout",
     "output_type": "stream",
     "text": [
      "Raw_agg_Coastal_State_Urban_Damage_v2.csv\n"
     ]
    },
    {
     "data": {
      "text/plain": [
       "(3490, 1101)"
      ]
     },
     "metadata": {},
     "output_type": "display_data"
    },
    {
     "data": {
      "text/plain": [
       "Index(['Unnamed: 0', 'rcp8p5_95_base_nosub_2030_rp00001',\n",
       "       'rcp8p5_95_base_nosub_2030_rp00002',\n",
       "       'rcp8p5_95_base_nosub_2030_rp00005',\n",
       "       'rcp8p5_95_base_nosub_2030_rp00010',\n",
       "       'rcp8p5_95_base_nosub_2030_rp00025',\n",
       "       'rcp8p5_95_base_nosub_2030_rp00050',\n",
       "       'rcp8p5_95_base_nosub_2030_rp00100',\n",
       "       'rcp8p5_95_base_nosub_2030_rp00250',\n",
       "       'rcp8p5_95_base_nosub_2030_rp00500',\n",
       "       ...\n",
       "       'rcp4p5_05_ssp2_wtsub_2080_rp00001',\n",
       "       'rcp4p5_05_ssp2_wtsub_2080_rp00002',\n",
       "       'rcp4p5_05_ssp2_wtsub_2080_rp00005',\n",
       "       'rcp4p5_05_ssp2_wtsub_2080_rp00010',\n",
       "       'rcp4p5_05_ssp2_wtsub_2080_rp00025',\n",
       "       'rcp4p5_05_ssp2_wtsub_2080_rp00050',\n",
       "       'rcp4p5_05_ssp2_wtsub_2080_rp00100',\n",
       "       'rcp4p5_05_ssp2_wtsub_2080_rp00250',\n",
       "       'rcp4p5_05_ssp2_wtsub_2080_rp00500',\n",
       "       'rcp4p5_05_ssp2_wtsub_2080_rp01000'],\n",
       "      dtype='object', length=1101)"
      ]
     },
     "metadata": {},
     "output_type": "display_data"
    },
    {
     "name": "stdout",
     "output_type": "stream",
     "text": [
      "Raw_agg_Riverine_Basin_GDPexp.csv\n"
     ]
    },
    {
     "data": {
      "text/plain": [
       "(230, 739)"
      ]
     },
     "metadata": {},
     "output_type": "display_data"
    },
    {
     "data": {
      "text/plain": [
       "Index(['Unnamed: 0', 'rcp4p5_gf_ssp2_nosub_2030_rp00002',\n",
       "       'rcp4p5_gf_ssp2_nosub_2030_rp00005',\n",
       "       'rcp4p5_gf_ssp2_nosub_2030_rp00010',\n",
       "       'rcp4p5_gf_ssp2_nosub_2030_rp00025',\n",
       "       'rcp4p5_gf_ssp2_nosub_2030_rp00050',\n",
       "       'rcp4p5_gf_ssp2_nosub_2030_rp00100',\n",
       "       'rcp4p5_gf_ssp2_nosub_2030_rp00250',\n",
       "       'rcp4p5_gf_ssp2_nosub_2030_rp00500',\n",
       "       'rcp4p5_gf_ssp2_nosub_2030_rp01000',\n",
       "       ...\n",
       "       'histor_wt_ssp3_nosub_2080_rp01000',\n",
       "       'histor_wt_base_nosub_2010_rp00002',\n",
       "       'histor_wt_base_nosub_2010_rp00005',\n",
       "       'histor_wt_base_nosub_2010_rp00010',\n",
       "       'histor_wt_base_nosub_2010_rp00025',\n",
       "       'histor_wt_base_nosub_2010_rp00050',\n",
       "       'histor_wt_base_nosub_2010_rp00100',\n",
       "       'histor_wt_base_nosub_2010_rp00250',\n",
       "       'histor_wt_base_nosub_2010_rp00500',\n",
       "       'histor_wt_base_nosub_2010_rp01000'],\n",
       "      dtype='object', length=739)"
      ]
     },
     "metadata": {},
     "output_type": "display_data"
    },
    {
     "name": "stdout",
     "output_type": "stream",
     "text": [
      "Raw_agg_Riverine_Basin_POPexp.csv\n"
     ]
    },
    {
     "data": {
      "text/plain": [
       "(230, 739)"
      ]
     },
     "metadata": {},
     "output_type": "display_data"
    },
    {
     "data": {
      "text/plain": [
       "Index(['Unnamed: 0', 'rcp4p5_gf_ssp2_nosub_2030_rp00002',\n",
       "       'rcp4p5_gf_ssp2_nosub_2030_rp00005',\n",
       "       'rcp4p5_gf_ssp2_nosub_2030_rp00010',\n",
       "       'rcp4p5_gf_ssp2_nosub_2030_rp00025',\n",
       "       'rcp4p5_gf_ssp2_nosub_2030_rp00050',\n",
       "       'rcp4p5_gf_ssp2_nosub_2030_rp00100',\n",
       "       'rcp4p5_gf_ssp2_nosub_2030_rp00250',\n",
       "       'rcp4p5_gf_ssp2_nosub_2030_rp00500',\n",
       "       'rcp4p5_gf_ssp2_nosub_2030_rp01000',\n",
       "       ...\n",
       "       'histor_wt_ssp3_nosub_2080_rp01000',\n",
       "       'histor_wt_base_nosub_2010_rp00002',\n",
       "       'histor_wt_base_nosub_2010_rp00005',\n",
       "       'histor_wt_base_nosub_2010_rp00010',\n",
       "       'histor_wt_base_nosub_2010_rp00025',\n",
       "       'histor_wt_base_nosub_2010_rp00050',\n",
       "       'histor_wt_base_nosub_2010_rp00100',\n",
       "       'histor_wt_base_nosub_2010_rp00250',\n",
       "       'histor_wt_base_nosub_2010_rp00500',\n",
       "       'histor_wt_base_nosub_2010_rp01000'],\n",
       "      dtype='object', length=739)"
      ]
     },
     "metadata": {},
     "output_type": "display_data"
    },
    {
     "name": "stdout",
     "output_type": "stream",
     "text": [
      "Raw_agg_Riverine_Basin_Urban_Damage_v2.csv\n"
     ]
    },
    {
     "data": {
      "text/plain": [
       "(230, 739)"
      ]
     },
     "metadata": {},
     "output_type": "display_data"
    },
    {
     "data": {
      "text/plain": [
       "Index(['Unnamed: 0', 'rcp4p5_gf_ssp2_nosub_2030_rp00002',\n",
       "       'rcp4p5_gf_ssp2_nosub_2030_rp00005',\n",
       "       'rcp4p5_gf_ssp2_nosub_2030_rp00010',\n",
       "       'rcp4p5_gf_ssp2_nosub_2030_rp00025',\n",
       "       'rcp4p5_gf_ssp2_nosub_2030_rp00050',\n",
       "       'rcp4p5_gf_ssp2_nosub_2030_rp00100',\n",
       "       'rcp4p5_gf_ssp2_nosub_2030_rp00250',\n",
       "       'rcp4p5_gf_ssp2_nosub_2030_rp00500',\n",
       "       'rcp4p5_gf_ssp2_nosub_2030_rp01000',\n",
       "       ...\n",
       "       'histor_wt_ssp3_nosub_2080_rp01000',\n",
       "       'histor_wt_base_nosub_2010_rp00002',\n",
       "       'histor_wt_base_nosub_2010_rp00005',\n",
       "       'histor_wt_base_nosub_2010_rp00010',\n",
       "       'histor_wt_base_nosub_2010_rp00025',\n",
       "       'histor_wt_base_nosub_2010_rp00050',\n",
       "       'histor_wt_base_nosub_2010_rp00100',\n",
       "       'histor_wt_base_nosub_2010_rp00250',\n",
       "       'histor_wt_base_nosub_2010_rp00500',\n",
       "       'histor_wt_base_nosub_2010_rp01000'],\n",
       "      dtype='object', length=739)"
      ]
     },
     "metadata": {},
     "output_type": "display_data"
    },
    {
     "name": "stdout",
     "output_type": "stream",
     "text": [
      "Raw_agg_Riverine_City_GDPexp.csv\n"
     ]
    },
    {
     "data": {
      "text/plain": [
       "(120, 739)"
      ]
     },
     "metadata": {},
     "output_type": "display_data"
    },
    {
     "data": {
      "text/plain": [
       "Index(['Unnamed: 0', 'rcp4p5_gf_ssp2_nosub_2030_rp00002',\n",
       "       'rcp4p5_gf_ssp2_nosub_2030_rp00005',\n",
       "       'rcp4p5_gf_ssp2_nosub_2030_rp00010',\n",
       "       'rcp4p5_gf_ssp2_nosub_2030_rp00025',\n",
       "       'rcp4p5_gf_ssp2_nosub_2030_rp00050',\n",
       "       'rcp4p5_gf_ssp2_nosub_2030_rp00100',\n",
       "       'rcp4p5_gf_ssp2_nosub_2030_rp00250',\n",
       "       'rcp4p5_gf_ssp2_nosub_2030_rp00500',\n",
       "       'rcp4p5_gf_ssp2_nosub_2030_rp01000',\n",
       "       ...\n",
       "       'histor_wt_ssp3_nosub_2080_rp01000',\n",
       "       'histor_wt_base_nosub_2010_rp00002',\n",
       "       'histor_wt_base_nosub_2010_rp00005',\n",
       "       'histor_wt_base_nosub_2010_rp00010',\n",
       "       'histor_wt_base_nosub_2010_rp00025',\n",
       "       'histor_wt_base_nosub_2010_rp00050',\n",
       "       'histor_wt_base_nosub_2010_rp00100',\n",
       "       'histor_wt_base_nosub_2010_rp00250',\n",
       "       'histor_wt_base_nosub_2010_rp00500',\n",
       "       'histor_wt_base_nosub_2010_rp01000'],\n",
       "      dtype='object', length=739)"
      ]
     },
     "metadata": {},
     "output_type": "display_data"
    },
    {
     "name": "stdout",
     "output_type": "stream",
     "text": [
      "Raw_agg_Riverine_City_POPexp.csv\n"
     ]
    },
    {
     "data": {
      "text/plain": [
       "(120, 739)"
      ]
     },
     "metadata": {},
     "output_type": "display_data"
    },
    {
     "data": {
      "text/plain": [
       "Index(['Unnamed: 0', 'rcp4p5_gf_ssp2_nosub_2030_rp00002',\n",
       "       'rcp4p5_gf_ssp2_nosub_2030_rp00005',\n",
       "       'rcp4p5_gf_ssp2_nosub_2030_rp00010',\n",
       "       'rcp4p5_gf_ssp2_nosub_2030_rp00025',\n",
       "       'rcp4p5_gf_ssp2_nosub_2030_rp00050',\n",
       "       'rcp4p5_gf_ssp2_nosub_2030_rp00100',\n",
       "       'rcp4p5_gf_ssp2_nosub_2030_rp00250',\n",
       "       'rcp4p5_gf_ssp2_nosub_2030_rp00500',\n",
       "       'rcp4p5_gf_ssp2_nosub_2030_rp01000',\n",
       "       ...\n",
       "       'histor_wt_ssp3_nosub_2080_rp01000',\n",
       "       'histor_wt_base_nosub_2010_rp00002',\n",
       "       'histor_wt_base_nosub_2010_rp00005',\n",
       "       'histor_wt_base_nosub_2010_rp00010',\n",
       "       'histor_wt_base_nosub_2010_rp00025',\n",
       "       'histor_wt_base_nosub_2010_rp00050',\n",
       "       'histor_wt_base_nosub_2010_rp00100',\n",
       "       'histor_wt_base_nosub_2010_rp00250',\n",
       "       'histor_wt_base_nosub_2010_rp00500',\n",
       "       'histor_wt_base_nosub_2010_rp01000'],\n",
       "      dtype='object', length=739)"
      ]
     },
     "metadata": {},
     "output_type": "display_data"
    },
    {
     "name": "stdout",
     "output_type": "stream",
     "text": [
      "Raw_agg_Riverine_City_Urban_Damage_v2.csv\n"
     ]
    },
    {
     "data": {
      "text/plain": [
       "(120, 739)"
      ]
     },
     "metadata": {},
     "output_type": "display_data"
    },
    {
     "data": {
      "text/plain": [
       "Index(['Unnamed: 0', 'rcp4p5_gf_ssp2_nosub_2030_rp00002',\n",
       "       'rcp4p5_gf_ssp2_nosub_2030_rp00005',\n",
       "       'rcp4p5_gf_ssp2_nosub_2030_rp00010',\n",
       "       'rcp4p5_gf_ssp2_nosub_2030_rp00025',\n",
       "       'rcp4p5_gf_ssp2_nosub_2030_rp00050',\n",
       "       'rcp4p5_gf_ssp2_nosub_2030_rp00100',\n",
       "       'rcp4p5_gf_ssp2_nosub_2030_rp00250',\n",
       "       'rcp4p5_gf_ssp2_nosub_2030_rp00500',\n",
       "       'rcp4p5_gf_ssp2_nosub_2030_rp01000',\n",
       "       ...\n",
       "       'histor_wt_ssp3_nosub_2080_rp01000',\n",
       "       'histor_wt_base_nosub_2010_rp00002',\n",
       "       'histor_wt_base_nosub_2010_rp00005',\n",
       "       'histor_wt_base_nosub_2010_rp00010',\n",
       "       'histor_wt_base_nosub_2010_rp00025',\n",
       "       'histor_wt_base_nosub_2010_rp00050',\n",
       "       'histor_wt_base_nosub_2010_rp00100',\n",
       "       'histor_wt_base_nosub_2010_rp00250',\n",
       "       'histor_wt_base_nosub_2010_rp00500',\n",
       "       'histor_wt_base_nosub_2010_rp01000'],\n",
       "      dtype='object', length=739)"
      ]
     },
     "metadata": {},
     "output_type": "display_data"
    },
    {
     "name": "stdout",
     "output_type": "stream",
     "text": [
      "Raw_agg_Riverine_Country_GDPexp.csv\n"
     ]
    },
    {
     "data": {
      "text/plain": [
       "(234, 739)"
      ]
     },
     "metadata": {},
     "output_type": "display_data"
    },
    {
     "data": {
      "text/plain": [
       "Index(['Unnamed: 0', 'rcp4p5_gf_ssp2_nosub_2030_rp00002',\n",
       "       'rcp4p5_gf_ssp2_nosub_2030_rp00005',\n",
       "       'rcp4p5_gf_ssp2_nosub_2030_rp00010',\n",
       "       'rcp4p5_gf_ssp2_nosub_2030_rp00025',\n",
       "       'rcp4p5_gf_ssp2_nosub_2030_rp00050',\n",
       "       'rcp4p5_gf_ssp2_nosub_2030_rp00100',\n",
       "       'rcp4p5_gf_ssp2_nosub_2030_rp00250',\n",
       "       'rcp4p5_gf_ssp2_nosub_2030_rp00500',\n",
       "       'rcp4p5_gf_ssp2_nosub_2030_rp01000',\n",
       "       ...\n",
       "       'histor_wt_ssp3_nosub_2080_rp01000',\n",
       "       'histor_wt_base_nosub_2010_rp00002',\n",
       "       'histor_wt_base_nosub_2010_rp00005',\n",
       "       'histor_wt_base_nosub_2010_rp00010',\n",
       "       'histor_wt_base_nosub_2010_rp00025',\n",
       "       'histor_wt_base_nosub_2010_rp00050',\n",
       "       'histor_wt_base_nosub_2010_rp00100',\n",
       "       'histor_wt_base_nosub_2010_rp00250',\n",
       "       'histor_wt_base_nosub_2010_rp00500',\n",
       "       'histor_wt_base_nosub_2010_rp01000'],\n",
       "      dtype='object', length=739)"
      ]
     },
     "metadata": {},
     "output_type": "display_data"
    },
    {
     "name": "stdout",
     "output_type": "stream",
     "text": [
      "Raw_agg_Riverine_Country_POPexp.csv\n"
     ]
    },
    {
     "data": {
      "text/plain": [
       "(234, 739)"
      ]
     },
     "metadata": {},
     "output_type": "display_data"
    },
    {
     "data": {
      "text/plain": [
       "Index(['Unnamed: 0', 'rcp4p5_gf_ssp2_nosub_2030_rp00002',\n",
       "       'rcp4p5_gf_ssp2_nosub_2030_rp00005',\n",
       "       'rcp4p5_gf_ssp2_nosub_2030_rp00010',\n",
       "       'rcp4p5_gf_ssp2_nosub_2030_rp00025',\n",
       "       'rcp4p5_gf_ssp2_nosub_2030_rp00050',\n",
       "       'rcp4p5_gf_ssp2_nosub_2030_rp00100',\n",
       "       'rcp4p5_gf_ssp2_nosub_2030_rp00250',\n",
       "       'rcp4p5_gf_ssp2_nosub_2030_rp00500',\n",
       "       'rcp4p5_gf_ssp2_nosub_2030_rp01000',\n",
       "       ...\n",
       "       'histor_wt_ssp3_nosub_2080_rp01000',\n",
       "       'histor_wt_base_nosub_2010_rp00002',\n",
       "       'histor_wt_base_nosub_2010_rp00005',\n",
       "       'histor_wt_base_nosub_2010_rp00010',\n",
       "       'histor_wt_base_nosub_2010_rp00025',\n",
       "       'histor_wt_base_nosub_2010_rp00050',\n",
       "       'histor_wt_base_nosub_2010_rp00100',\n",
       "       'histor_wt_base_nosub_2010_rp00250',\n",
       "       'histor_wt_base_nosub_2010_rp00500',\n",
       "       'histor_wt_base_nosub_2010_rp01000'],\n",
       "      dtype='object', length=739)"
      ]
     },
     "metadata": {},
     "output_type": "display_data"
    },
    {
     "name": "stdout",
     "output_type": "stream",
     "text": [
      "Raw_agg_Riverine_Country_Urban_Damage_v2.csv\n"
     ]
    },
    {
     "data": {
      "text/plain": [
       "(234, 739)"
      ]
     },
     "metadata": {},
     "output_type": "display_data"
    },
    {
     "data": {
      "text/plain": [
       "Index(['Unnamed: 0', 'rcp4p5_gf_ssp2_nosub_2030_rp00002',\n",
       "       'rcp4p5_gf_ssp2_nosub_2030_rp00005',\n",
       "       'rcp4p5_gf_ssp2_nosub_2030_rp00010',\n",
       "       'rcp4p5_gf_ssp2_nosub_2030_rp00025',\n",
       "       'rcp4p5_gf_ssp2_nosub_2030_rp00050',\n",
       "       'rcp4p5_gf_ssp2_nosub_2030_rp00100',\n",
       "       'rcp4p5_gf_ssp2_nosub_2030_rp00250',\n",
       "       'rcp4p5_gf_ssp2_nosub_2030_rp00500',\n",
       "       'rcp4p5_gf_ssp2_nosub_2030_rp01000',\n",
       "       ...\n",
       "       'histor_wt_ssp3_nosub_2080_rp01000',\n",
       "       'histor_wt_base_nosub_2010_rp00002',\n",
       "       'histor_wt_base_nosub_2010_rp00005',\n",
       "       'histor_wt_base_nosub_2010_rp00010',\n",
       "       'histor_wt_base_nosub_2010_rp00025',\n",
       "       'histor_wt_base_nosub_2010_rp00050',\n",
       "       'histor_wt_base_nosub_2010_rp00100',\n",
       "       'histor_wt_base_nosub_2010_rp00250',\n",
       "       'histor_wt_base_nosub_2010_rp00500',\n",
       "       'histor_wt_base_nosub_2010_rp01000'],\n",
       "      dtype='object', length=739)"
      ]
     },
     "metadata": {},
     "output_type": "display_data"
    },
    {
     "name": "stdout",
     "output_type": "stream",
     "text": [
      "Raw_agg_Riverine_State_GDPexp.csv\n"
     ]
    },
    {
     "data": {
      "text/plain": [
       "(3490, 739)"
      ]
     },
     "metadata": {},
     "output_type": "display_data"
    },
    {
     "data": {
      "text/plain": [
       "Index(['Unnamed: 0', 'rcp4p5_gf_ssp2_nosub_2030_rp00002',\n",
       "       'rcp4p5_gf_ssp2_nosub_2030_rp00005',\n",
       "       'rcp4p5_gf_ssp2_nosub_2030_rp00010',\n",
       "       'rcp4p5_gf_ssp2_nosub_2030_rp00025',\n",
       "       'rcp4p5_gf_ssp2_nosub_2030_rp00050',\n",
       "       'rcp4p5_gf_ssp2_nosub_2030_rp00100',\n",
       "       'rcp4p5_gf_ssp2_nosub_2030_rp00250',\n",
       "       'rcp4p5_gf_ssp2_nosub_2030_rp00500',\n",
       "       'rcp4p5_gf_ssp2_nosub_2030_rp01000',\n",
       "       ...\n",
       "       'histor_wt_ssp3_nosub_2080_rp01000',\n",
       "       'histor_wt_base_nosub_2010_rp00002',\n",
       "       'histor_wt_base_nosub_2010_rp00005',\n",
       "       'histor_wt_base_nosub_2010_rp00010',\n",
       "       'histor_wt_base_nosub_2010_rp00025',\n",
       "       'histor_wt_base_nosub_2010_rp00050',\n",
       "       'histor_wt_base_nosub_2010_rp00100',\n",
       "       'histor_wt_base_nosub_2010_rp00250',\n",
       "       'histor_wt_base_nosub_2010_rp00500',\n",
       "       'histor_wt_base_nosub_2010_rp01000'],\n",
       "      dtype='object', length=739)"
      ]
     },
     "metadata": {},
     "output_type": "display_data"
    },
    {
     "name": "stdout",
     "output_type": "stream",
     "text": [
      "Raw_agg_Riverine_State_POPexp.csv\n"
     ]
    },
    {
     "data": {
      "text/plain": [
       "(3490, 739)"
      ]
     },
     "metadata": {},
     "output_type": "display_data"
    },
    {
     "data": {
      "text/plain": [
       "Index(['Unnamed: 0', 'rcp4p5_gf_ssp2_nosub_2030_rp00002',\n",
       "       'rcp4p5_gf_ssp2_nosub_2030_rp00005',\n",
       "       'rcp4p5_gf_ssp2_nosub_2030_rp00010',\n",
       "       'rcp4p5_gf_ssp2_nosub_2030_rp00025',\n",
       "       'rcp4p5_gf_ssp2_nosub_2030_rp00050',\n",
       "       'rcp4p5_gf_ssp2_nosub_2030_rp00100',\n",
       "       'rcp4p5_gf_ssp2_nosub_2030_rp00250',\n",
       "       'rcp4p5_gf_ssp2_nosub_2030_rp00500',\n",
       "       'rcp4p5_gf_ssp2_nosub_2030_rp01000',\n",
       "       ...\n",
       "       'histor_wt_ssp3_nosub_2080_rp01000',\n",
       "       'histor_wt_base_nosub_2010_rp00002',\n",
       "       'histor_wt_base_nosub_2010_rp00005',\n",
       "       'histor_wt_base_nosub_2010_rp00010',\n",
       "       'histor_wt_base_nosub_2010_rp00025',\n",
       "       'histor_wt_base_nosub_2010_rp00050',\n",
       "       'histor_wt_base_nosub_2010_rp00100',\n",
       "       'histor_wt_base_nosub_2010_rp00250',\n",
       "       'histor_wt_base_nosub_2010_rp00500',\n",
       "       'histor_wt_base_nosub_2010_rp01000'],\n",
       "      dtype='object', length=739)"
      ]
     },
     "metadata": {},
     "output_type": "display_data"
    },
    {
     "name": "stdout",
     "output_type": "stream",
     "text": [
      "Raw_agg_Riverine_State_Urban_Damage_v2.csv\n"
     ]
    },
    {
     "data": {
      "text/plain": [
       "(3490, 739)"
      ]
     },
     "metadata": {},
     "output_type": "display_data"
    },
    {
     "data": {
      "text/plain": [
       "Index(['Unnamed: 0', 'rcp4p5_gf_ssp2_nosub_2030_rp00002',\n",
       "       'rcp4p5_gf_ssp2_nosub_2030_rp00005',\n",
       "       'rcp4p5_gf_ssp2_nosub_2030_rp00010',\n",
       "       'rcp4p5_gf_ssp2_nosub_2030_rp00025',\n",
       "       'rcp4p5_gf_ssp2_nosub_2030_rp00050',\n",
       "       'rcp4p5_gf_ssp2_nosub_2030_rp00100',\n",
       "       'rcp4p5_gf_ssp2_nosub_2030_rp00250',\n",
       "       'rcp4p5_gf_ssp2_nosub_2030_rp00500',\n",
       "       'rcp4p5_gf_ssp2_nosub_2030_rp01000',\n",
       "       ...\n",
       "       'histor_wt_ssp3_nosub_2080_rp01000',\n",
       "       'histor_wt_base_nosub_2010_rp00002',\n",
       "       'histor_wt_base_nosub_2010_rp00005',\n",
       "       'histor_wt_base_nosub_2010_rp00010',\n",
       "       'histor_wt_base_nosub_2010_rp00025',\n",
       "       'histor_wt_base_nosub_2010_rp00050',\n",
       "       'histor_wt_base_nosub_2010_rp00100',\n",
       "       'histor_wt_base_nosub_2010_rp00250',\n",
       "       'histor_wt_base_nosub_2010_rp00500',\n",
       "       'histor_wt_base_nosub_2010_rp01000'],\n",
       "      dtype='object', length=739)"
      ]
     },
     "metadata": {},
     "output_type": "display_data"
    },
    {
     "name": "stdout",
     "output_type": "stream",
     "text": [
      "Raw_Coastal_geogunit_103_GDPexp.csv\n"
     ]
    },
    {
     "data": {
      "text/plain": [
       "(120, 1101)"
      ]
     },
     "metadata": {},
     "output_type": "display_data"
    },
    {
     "data": {
      "text/plain": [
       "Index(['FID', 'rcp8p5_95_base_nosub_2030_rp00001',\n",
       "       'rcp8p5_95_base_nosub_2030_rp00002',\n",
       "       'rcp8p5_95_base_nosub_2030_rp00005',\n",
       "       'rcp8p5_95_base_nosub_2030_rp00010',\n",
       "       'rcp8p5_95_base_nosub_2030_rp00025',\n",
       "       'rcp8p5_95_base_nosub_2030_rp00050',\n",
       "       'rcp8p5_95_base_nosub_2030_rp00100',\n",
       "       'rcp8p5_95_base_nosub_2030_rp00250',\n",
       "       'rcp8p5_95_base_nosub_2030_rp00500',\n",
       "       ...\n",
       "       'rcp4p5_05_ssp2_wtsub_2080_rp00001',\n",
       "       'rcp4p5_05_ssp2_wtsub_2080_rp00002',\n",
       "       'rcp4p5_05_ssp2_wtsub_2080_rp00005',\n",
       "       'rcp4p5_05_ssp2_wtsub_2080_rp00010',\n",
       "       'rcp4p5_05_ssp2_wtsub_2080_rp00025',\n",
       "       'rcp4p5_05_ssp2_wtsub_2080_rp00050',\n",
       "       'rcp4p5_05_ssp2_wtsub_2080_rp00100',\n",
       "       'rcp4p5_05_ssp2_wtsub_2080_rp00250',\n",
       "       'rcp4p5_05_ssp2_wtsub_2080_rp00500',\n",
       "       'rcp4p5_05_ssp2_wtsub_2080_rp01000'],\n",
       "      dtype='object', length=1101)"
      ]
     },
     "metadata": {},
     "output_type": "display_data"
    },
    {
     "name": "stdout",
     "output_type": "stream",
     "text": [
      "Raw_Coastal_geogunit_103_POPexp.csv\n"
     ]
    },
    {
     "data": {
      "text/plain": [
       "(120, 1101)"
      ]
     },
     "metadata": {},
     "output_type": "display_data"
    },
    {
     "data": {
      "text/plain": [
       "Index(['FID', 'rcp8p5_95_base_nosub_2030_rp00001',\n",
       "       'rcp8p5_95_base_nosub_2030_rp00002',\n",
       "       'rcp8p5_95_base_nosub_2030_rp00005',\n",
       "       'rcp8p5_95_base_nosub_2030_rp00010',\n",
       "       'rcp8p5_95_base_nosub_2030_rp00025',\n",
       "       'rcp8p5_95_base_nosub_2030_rp00050',\n",
       "       'rcp8p5_95_base_nosub_2030_rp00100',\n",
       "       'rcp8p5_95_base_nosub_2030_rp00250',\n",
       "       'rcp8p5_95_base_nosub_2030_rp00500',\n",
       "       ...\n",
       "       'rcp4p5_05_ssp2_wtsub_2080_rp00001',\n",
       "       'rcp4p5_05_ssp2_wtsub_2080_rp00002',\n",
       "       'rcp4p5_05_ssp2_wtsub_2080_rp00005',\n",
       "       'rcp4p5_05_ssp2_wtsub_2080_rp00010',\n",
       "       'rcp4p5_05_ssp2_wtsub_2080_rp00025',\n",
       "       'rcp4p5_05_ssp2_wtsub_2080_rp00050',\n",
       "       'rcp4p5_05_ssp2_wtsub_2080_rp00100',\n",
       "       'rcp4p5_05_ssp2_wtsub_2080_rp00250',\n",
       "       'rcp4p5_05_ssp2_wtsub_2080_rp00500',\n",
       "       'rcp4p5_05_ssp2_wtsub_2080_rp01000'],\n",
       "      dtype='object', length=1101)"
      ]
     },
     "metadata": {},
     "output_type": "display_data"
    },
    {
     "name": "stdout",
     "output_type": "stream",
     "text": [
      "Raw_Coastal_geogunit_103_Urban_Damage_v2.csv\n"
     ]
    },
    {
     "data": {
      "text/plain": [
       "(120, 1101)"
      ]
     },
     "metadata": {},
     "output_type": "display_data"
    },
    {
     "data": {
      "text/plain": [
       "Index(['FID', 'rcp8p5_95_base_nosub_2030_rp00001',\n",
       "       'rcp8p5_95_base_nosub_2030_rp00002',\n",
       "       'rcp8p5_95_base_nosub_2030_rp00005',\n",
       "       'rcp8p5_95_base_nosub_2030_rp00010',\n",
       "       'rcp8p5_95_base_nosub_2030_rp00025',\n",
       "       'rcp8p5_95_base_nosub_2030_rp00050',\n",
       "       'rcp8p5_95_base_nosub_2030_rp00100',\n",
       "       'rcp8p5_95_base_nosub_2030_rp00250',\n",
       "       'rcp8p5_95_base_nosub_2030_rp00500',\n",
       "       ...\n",
       "       'rcp4p5_05_ssp2_wtsub_2080_rp00001',\n",
       "       'rcp4p5_05_ssp2_wtsub_2080_rp00002',\n",
       "       'rcp4p5_05_ssp2_wtsub_2080_rp00005',\n",
       "       'rcp4p5_05_ssp2_wtsub_2080_rp00010',\n",
       "       'rcp4p5_05_ssp2_wtsub_2080_rp00025',\n",
       "       'rcp4p5_05_ssp2_wtsub_2080_rp00050',\n",
       "       'rcp4p5_05_ssp2_wtsub_2080_rp00100',\n",
       "       'rcp4p5_05_ssp2_wtsub_2080_rp00250',\n",
       "       'rcp4p5_05_ssp2_wtsub_2080_rp00500',\n",
       "       'rcp4p5_05_ssp2_wtsub_2080_rp01000'],\n",
       "      dtype='object', length=1101)"
      ]
     },
     "metadata": {},
     "output_type": "display_data"
    },
    {
     "name": "stdout",
     "output_type": "stream",
     "text": [
      "Raw_Coastal_geogunit_108_GDPexp.csv\n"
     ]
    },
    {
     "data": {
      "text/plain": [
       "(5422, 1101)"
      ]
     },
     "metadata": {},
     "output_type": "display_data"
    },
    {
     "data": {
      "text/plain": [
       "Index(['FID', 'rcp8p5_95_base_nosub_2030_rp00001',\n",
       "       'rcp8p5_95_base_nosub_2030_rp00002',\n",
       "       'rcp8p5_95_base_nosub_2030_rp00005',\n",
       "       'rcp8p5_95_base_nosub_2030_rp00010',\n",
       "       'rcp8p5_95_base_nosub_2030_rp00025',\n",
       "       'rcp8p5_95_base_nosub_2030_rp00050',\n",
       "       'rcp8p5_95_base_nosub_2030_rp00100',\n",
       "       'rcp8p5_95_base_nosub_2030_rp00250',\n",
       "       'rcp8p5_95_base_nosub_2030_rp00500',\n",
       "       ...\n",
       "       'rcp4p5_05_ssp2_wtsub_2080_rp00001',\n",
       "       'rcp4p5_05_ssp2_wtsub_2080_rp00002',\n",
       "       'rcp4p5_05_ssp2_wtsub_2080_rp00005',\n",
       "       'rcp4p5_05_ssp2_wtsub_2080_rp00010',\n",
       "       'rcp4p5_05_ssp2_wtsub_2080_rp00025',\n",
       "       'rcp4p5_05_ssp2_wtsub_2080_rp00050',\n",
       "       'rcp4p5_05_ssp2_wtsub_2080_rp00100',\n",
       "       'rcp4p5_05_ssp2_wtsub_2080_rp00250',\n",
       "       'rcp4p5_05_ssp2_wtsub_2080_rp00500',\n",
       "       'rcp4p5_05_ssp2_wtsub_2080_rp01000'],\n",
       "      dtype='object', length=1101)"
      ]
     },
     "metadata": {},
     "output_type": "display_data"
    },
    {
     "name": "stdout",
     "output_type": "stream",
     "text": [
      "Raw_Coastal_geogunit_108_POPexp.csv\n"
     ]
    },
    {
     "data": {
      "text/plain": [
       "(5422, 1101)"
      ]
     },
     "metadata": {},
     "output_type": "display_data"
    },
    {
     "data": {
      "text/plain": [
       "Index(['FID', 'rcp8p5_95_base_nosub_2030_rp00001',\n",
       "       'rcp8p5_95_base_nosub_2030_rp00002',\n",
       "       'rcp8p5_95_base_nosub_2030_rp00005',\n",
       "       'rcp8p5_95_base_nosub_2030_rp00010',\n",
       "       'rcp8p5_95_base_nosub_2030_rp00025',\n",
       "       'rcp8p5_95_base_nosub_2030_rp00050',\n",
       "       'rcp8p5_95_base_nosub_2030_rp00100',\n",
       "       'rcp8p5_95_base_nosub_2030_rp00250',\n",
       "       'rcp8p5_95_base_nosub_2030_rp00500',\n",
       "       ...\n",
       "       'rcp4p5_05_ssp2_wtsub_2080_rp00001',\n",
       "       'rcp4p5_05_ssp2_wtsub_2080_rp00002',\n",
       "       'rcp4p5_05_ssp2_wtsub_2080_rp00005',\n",
       "       'rcp4p5_05_ssp2_wtsub_2080_rp00010',\n",
       "       'rcp4p5_05_ssp2_wtsub_2080_rp00025',\n",
       "       'rcp4p5_05_ssp2_wtsub_2080_rp00050',\n",
       "       'rcp4p5_05_ssp2_wtsub_2080_rp00100',\n",
       "       'rcp4p5_05_ssp2_wtsub_2080_rp00250',\n",
       "       'rcp4p5_05_ssp2_wtsub_2080_rp00500',\n",
       "       'rcp4p5_05_ssp2_wtsub_2080_rp01000'],\n",
       "      dtype='object', length=1101)"
      ]
     },
     "metadata": {},
     "output_type": "display_data"
    },
    {
     "name": "stdout",
     "output_type": "stream",
     "text": [
      "Raw_Coastal_geogunit_108_Urban_Damage_v2.csv\n"
     ]
    },
    {
     "data": {
      "text/plain": [
       "(5422, 1101)"
      ]
     },
     "metadata": {},
     "output_type": "display_data"
    },
    {
     "data": {
      "text/plain": [
       "Index(['Unnamed: 0', 'rcp8p5_95_base_nosub_2030_rp00001',\n",
       "       'rcp8p5_95_base_nosub_2030_rp00002',\n",
       "       'rcp8p5_95_base_nosub_2030_rp00005',\n",
       "       'rcp8p5_95_base_nosub_2030_rp00010',\n",
       "       'rcp8p5_95_base_nosub_2030_rp00025',\n",
       "       'rcp8p5_95_base_nosub_2030_rp00050',\n",
       "       'rcp8p5_95_base_nosub_2030_rp00100',\n",
       "       'rcp8p5_95_base_nosub_2030_rp00250',\n",
       "       'rcp8p5_95_base_nosub_2030_rp00500',\n",
       "       ...\n",
       "       'rcp4p5_05_ssp2_wtsub_2080_rp00001',\n",
       "       'rcp4p5_05_ssp2_wtsub_2080_rp00002',\n",
       "       'rcp4p5_05_ssp2_wtsub_2080_rp00005',\n",
       "       'rcp4p5_05_ssp2_wtsub_2080_rp00010',\n",
       "       'rcp4p5_05_ssp2_wtsub_2080_rp00025',\n",
       "       'rcp4p5_05_ssp2_wtsub_2080_rp00050',\n",
       "       'rcp4p5_05_ssp2_wtsub_2080_rp00100',\n",
       "       'rcp4p5_05_ssp2_wtsub_2080_rp00250',\n",
       "       'rcp4p5_05_ssp2_wtsub_2080_rp00500',\n",
       "       'rcp4p5_05_ssp2_wtsub_2080_rp01000'],\n",
       "      dtype='object', length=1101)"
      ]
     },
     "metadata": {},
     "output_type": "display_data"
    },
    {
     "name": "stdout",
     "output_type": "stream",
     "text": [
      "Raw_Riverine_geogunit_101_GDPexp.csv\n"
     ]
    },
    {
     "data": {
      "text/plain": [
       "(16397, 739)"
      ]
     },
     "metadata": {},
     "output_type": "display_data"
    },
    {
     "data": {
      "text/plain": [
       "Index(['Unnamed: 0', 'rcp4p5_gf_ssp2_nosub_2030_rp00002',\n",
       "       'rcp4p5_gf_ssp2_nosub_2030_rp00005',\n",
       "       'rcp4p5_gf_ssp2_nosub_2030_rp00010',\n",
       "       'rcp4p5_gf_ssp2_nosub_2030_rp00025',\n",
       "       'rcp4p5_gf_ssp2_nosub_2030_rp00050',\n",
       "       'rcp4p5_gf_ssp2_nosub_2030_rp00100',\n",
       "       'rcp4p5_gf_ssp2_nosub_2030_rp00250',\n",
       "       'rcp4p5_gf_ssp2_nosub_2030_rp00500',\n",
       "       'rcp4p5_gf_ssp2_nosub_2030_rp01000',\n",
       "       ...\n",
       "       'histor_wt_ssp3_nosub_2080_rp01000',\n",
       "       'histor_wt_base_nosub_2010_rp00002',\n",
       "       'histor_wt_base_nosub_2010_rp00005',\n",
       "       'histor_wt_base_nosub_2010_rp00010',\n",
       "       'histor_wt_base_nosub_2010_rp00025',\n",
       "       'histor_wt_base_nosub_2010_rp00050',\n",
       "       'histor_wt_base_nosub_2010_rp00100',\n",
       "       'histor_wt_base_nosub_2010_rp00250',\n",
       "       'histor_wt_base_nosub_2010_rp00500',\n",
       "       'histor_wt_base_nosub_2010_rp01000'],\n",
       "      dtype='object', length=739)"
      ]
     },
     "metadata": {},
     "output_type": "display_data"
    },
    {
     "name": "stdout",
     "output_type": "stream",
     "text": [
      "Raw_Riverine_geogunit_101_POPexp.csv\n"
     ]
    },
    {
     "data": {
      "text/plain": [
       "(16397, 739)"
      ]
     },
     "metadata": {},
     "output_type": "display_data"
    },
    {
     "data": {
      "text/plain": [
       "Index(['Unnamed: 0', 'rcp4p5_gf_ssp2_nosub_2030_rp00002',\n",
       "       'rcp4p5_gf_ssp2_nosub_2030_rp00005',\n",
       "       'rcp4p5_gf_ssp2_nosub_2030_rp00010',\n",
       "       'rcp4p5_gf_ssp2_nosub_2030_rp00025',\n",
       "       'rcp4p5_gf_ssp2_nosub_2030_rp00050',\n",
       "       'rcp4p5_gf_ssp2_nosub_2030_rp00100',\n",
       "       'rcp4p5_gf_ssp2_nosub_2030_rp00250',\n",
       "       'rcp4p5_gf_ssp2_nosub_2030_rp00500',\n",
       "       'rcp4p5_gf_ssp2_nosub_2030_rp01000',\n",
       "       ...\n",
       "       'histor_wt_ssp3_nosub_2080_rp01000',\n",
       "       'histor_wt_base_nosub_2010_rp00002',\n",
       "       'histor_wt_base_nosub_2010_rp00005',\n",
       "       'histor_wt_base_nosub_2010_rp00010',\n",
       "       'histor_wt_base_nosub_2010_rp00025',\n",
       "       'histor_wt_base_nosub_2010_rp00050',\n",
       "       'histor_wt_base_nosub_2010_rp00100',\n",
       "       'histor_wt_base_nosub_2010_rp00250',\n",
       "       'histor_wt_base_nosub_2010_rp00500',\n",
       "       'histor_wt_base_nosub_2010_rp01000'],\n",
       "      dtype='object', length=739)"
      ]
     },
     "metadata": {},
     "output_type": "display_data"
    },
    {
     "name": "stdout",
     "output_type": "stream",
     "text": [
      "Raw_Riverine_geogunit_101_Urban_Damage_v2.csv\n"
     ]
    },
    {
     "data": {
      "text/plain": [
       "(16397, 739)"
      ]
     },
     "metadata": {},
     "output_type": "display_data"
    },
    {
     "data": {
      "text/plain": [
       "Index(['Unnamed: 0', 'rcp4p5_gf_ssp2_nosub_2030_rp00002',\n",
       "       'rcp4p5_gf_ssp2_nosub_2030_rp00005',\n",
       "       'rcp4p5_gf_ssp2_nosub_2030_rp00010',\n",
       "       'rcp4p5_gf_ssp2_nosub_2030_rp00025',\n",
       "       'rcp4p5_gf_ssp2_nosub_2030_rp00050',\n",
       "       'rcp4p5_gf_ssp2_nosub_2030_rp00100',\n",
       "       'rcp4p5_gf_ssp2_nosub_2030_rp00250',\n",
       "       'rcp4p5_gf_ssp2_nosub_2030_rp00500',\n",
       "       'rcp4p5_gf_ssp2_nosub_2030_rp01000',\n",
       "       ...\n",
       "       'histor_wt_ssp3_nosub_2080_rp01000',\n",
       "       'histor_wt_base_nosub_2010_rp00002',\n",
       "       'histor_wt_base_nosub_2010_rp00005',\n",
       "       'histor_wt_base_nosub_2010_rp00010',\n",
       "       'histor_wt_base_nosub_2010_rp00025',\n",
       "       'histor_wt_base_nosub_2010_rp00050',\n",
       "       'histor_wt_base_nosub_2010_rp00100',\n",
       "       'histor_wt_base_nosub_2010_rp00250',\n",
       "       'histor_wt_base_nosub_2010_rp00500',\n",
       "       'histor_wt_base_nosub_2010_rp01000'],\n",
       "      dtype='object', length=739)"
      ]
     },
     "metadata": {},
     "output_type": "display_data"
    },
    {
     "name": "stdout",
     "output_type": "stream",
     "text": [
      "Raw_Riverine_geogunit_103_GDPexp.csv\n"
     ]
    },
    {
     "data": {
      "text/plain": [
       "(120, 739)"
      ]
     },
     "metadata": {},
     "output_type": "display_data"
    },
    {
     "data": {
      "text/plain": [
       "Index(['FID', 'rcp4p5_gf_ssp2_nosub_2030_rp00002',\n",
       "       'rcp4p5_gf_ssp2_nosub_2030_rp00005',\n",
       "       'rcp4p5_gf_ssp2_nosub_2030_rp00010',\n",
       "       'rcp4p5_gf_ssp2_nosub_2030_rp00025',\n",
       "       'rcp4p5_gf_ssp2_nosub_2030_rp00050',\n",
       "       'rcp4p5_gf_ssp2_nosub_2030_rp00100',\n",
       "       'rcp4p5_gf_ssp2_nosub_2030_rp00250',\n",
       "       'rcp4p5_gf_ssp2_nosub_2030_rp00500',\n",
       "       'rcp4p5_gf_ssp2_nosub_2030_rp01000',\n",
       "       ...\n",
       "       'histor_wt_ssp3_nosub_2080_rp01000',\n",
       "       'histor_wt_base_nosub_2010_rp00002',\n",
       "       'histor_wt_base_nosub_2010_rp00005',\n",
       "       'histor_wt_base_nosub_2010_rp00010',\n",
       "       'histor_wt_base_nosub_2010_rp00025',\n",
       "       'histor_wt_base_nosub_2010_rp00050',\n",
       "       'histor_wt_base_nosub_2010_rp00100',\n",
       "       'histor_wt_base_nosub_2010_rp00250',\n",
       "       'histor_wt_base_nosub_2010_rp00500',\n",
       "       'histor_wt_base_nosub_2010_rp01000'],\n",
       "      dtype='object', length=739)"
      ]
     },
     "metadata": {},
     "output_type": "display_data"
    },
    {
     "name": "stdout",
     "output_type": "stream",
     "text": [
      "Raw_Riverine_geogunit_103_POPexp.csv\n"
     ]
    },
    {
     "data": {
      "text/plain": [
       "(120, 739)"
      ]
     },
     "metadata": {},
     "output_type": "display_data"
    },
    {
     "data": {
      "text/plain": [
       "Index(['FID', 'rcp4p5_gf_ssp2_nosub_2030_rp00002',\n",
       "       'rcp4p5_gf_ssp2_nosub_2030_rp00005',\n",
       "       'rcp4p5_gf_ssp2_nosub_2030_rp00010',\n",
       "       'rcp4p5_gf_ssp2_nosub_2030_rp00025',\n",
       "       'rcp4p5_gf_ssp2_nosub_2030_rp00050',\n",
       "       'rcp4p5_gf_ssp2_nosub_2030_rp00100',\n",
       "       'rcp4p5_gf_ssp2_nosub_2030_rp00250',\n",
       "       'rcp4p5_gf_ssp2_nosub_2030_rp00500',\n",
       "       'rcp4p5_gf_ssp2_nosub_2030_rp01000',\n",
       "       ...\n",
       "       'histor_wt_ssp3_nosub_2080_rp01000',\n",
       "       'histor_wt_base_nosub_2010_rp00002',\n",
       "       'histor_wt_base_nosub_2010_rp00005',\n",
       "       'histor_wt_base_nosub_2010_rp00010',\n",
       "       'histor_wt_base_nosub_2010_rp00025',\n",
       "       'histor_wt_base_nosub_2010_rp00050',\n",
       "       'histor_wt_base_nosub_2010_rp00100',\n",
       "       'histor_wt_base_nosub_2010_rp00250',\n",
       "       'histor_wt_base_nosub_2010_rp00500',\n",
       "       'histor_wt_base_nosub_2010_rp01000'],\n",
       "      dtype='object', length=739)"
      ]
     },
     "metadata": {},
     "output_type": "display_data"
    },
    {
     "name": "stdout",
     "output_type": "stream",
     "text": [
      "Raw_Riverine_geogunit_103_Urban_Damage_v2.csv\n"
     ]
    },
    {
     "data": {
      "text/plain": [
       "(120, 739)"
      ]
     },
     "metadata": {},
     "output_type": "display_data"
    },
    {
     "data": {
      "text/plain": [
       "Index(['FID', 'rcp4p5_gf_ssp2_nosub_2030_rp00002',\n",
       "       'rcp4p5_gf_ssp2_nosub_2030_rp00005',\n",
       "       'rcp4p5_gf_ssp2_nosub_2030_rp00010',\n",
       "       'rcp4p5_gf_ssp2_nosub_2030_rp00025',\n",
       "       'rcp4p5_gf_ssp2_nosub_2030_rp00050',\n",
       "       'rcp4p5_gf_ssp2_nosub_2030_rp00100',\n",
       "       'rcp4p5_gf_ssp2_nosub_2030_rp00250',\n",
       "       'rcp4p5_gf_ssp2_nosub_2030_rp00500',\n",
       "       'rcp4p5_gf_ssp2_nosub_2030_rp01000',\n",
       "       ...\n",
       "       'histor_wt_ssp3_nosub_2080_rp01000',\n",
       "       'histor_wt_base_nosub_2010_rp00002',\n",
       "       'histor_wt_base_nosub_2010_rp00005',\n",
       "       'histor_wt_base_nosub_2010_rp00010',\n",
       "       'histor_wt_base_nosub_2010_rp00025',\n",
       "       'histor_wt_base_nosub_2010_rp00050',\n",
       "       'histor_wt_base_nosub_2010_rp00100',\n",
       "       'histor_wt_base_nosub_2010_rp00250',\n",
       "       'histor_wt_base_nosub_2010_rp00500',\n",
       "       'histor_wt_base_nosub_2010_rp01000'],\n",
       "      dtype='object', length=739)"
      ]
     },
     "metadata": {},
     "output_type": "display_data"
    },
    {
     "name": "stdout",
     "output_type": "stream",
     "text": [
      "Raw_Riverine_geogunit_108_GDPexp.csv\n"
     ]
    },
    {
     "data": {
      "text/plain": [
       "(5422, 739)"
      ]
     },
     "metadata": {},
     "output_type": "display_data"
    },
    {
     "data": {
      "text/plain": [
       "Index(['Unnamed: 0', 'rcp4p5_gf_ssp2_nosub_2030_rp00002',\n",
       "       'rcp4p5_gf_ssp2_nosub_2030_rp00005',\n",
       "       'rcp4p5_gf_ssp2_nosub_2030_rp00010',\n",
       "       'rcp4p5_gf_ssp2_nosub_2030_rp00025',\n",
       "       'rcp4p5_gf_ssp2_nosub_2030_rp00050',\n",
       "       'rcp4p5_gf_ssp2_nosub_2030_rp00100',\n",
       "       'rcp4p5_gf_ssp2_nosub_2030_rp00250',\n",
       "       'rcp4p5_gf_ssp2_nosub_2030_rp00500',\n",
       "       'rcp4p5_gf_ssp2_nosub_2030_rp01000',\n",
       "       ...\n",
       "       'histor_wt_ssp3_nosub_2080_rp01000',\n",
       "       'histor_wt_base_nosub_2010_rp00002',\n",
       "       'histor_wt_base_nosub_2010_rp00005',\n",
       "       'histor_wt_base_nosub_2010_rp00010',\n",
       "       'histor_wt_base_nosub_2010_rp00025',\n",
       "       'histor_wt_base_nosub_2010_rp00050',\n",
       "       'histor_wt_base_nosub_2010_rp00100',\n",
       "       'histor_wt_base_nosub_2010_rp00250',\n",
       "       'histor_wt_base_nosub_2010_rp00500',\n",
       "       'histor_wt_base_nosub_2010_rp01000'],\n",
       "      dtype='object', length=739)"
      ]
     },
     "metadata": {},
     "output_type": "display_data"
    },
    {
     "name": "stdout",
     "output_type": "stream",
     "text": [
      "Raw_Riverine_geogunit_108_POPexp.csv\n"
     ]
    },
    {
     "data": {
      "text/plain": [
       "(5422, 739)"
      ]
     },
     "metadata": {},
     "output_type": "display_data"
    },
    {
     "data": {
      "text/plain": [
       "Index(['Unnamed: 0', 'rcp4p5_gf_ssp2_nosub_2030_rp00002',\n",
       "       'rcp4p5_gf_ssp2_nosub_2030_rp00005',\n",
       "       'rcp4p5_gf_ssp2_nosub_2030_rp00010',\n",
       "       'rcp4p5_gf_ssp2_nosub_2030_rp00025',\n",
       "       'rcp4p5_gf_ssp2_nosub_2030_rp00050',\n",
       "       'rcp4p5_gf_ssp2_nosub_2030_rp00100',\n",
       "       'rcp4p5_gf_ssp2_nosub_2030_rp00250',\n",
       "       'rcp4p5_gf_ssp2_nosub_2030_rp00500',\n",
       "       'rcp4p5_gf_ssp2_nosub_2030_rp01000',\n",
       "       ...\n",
       "       'histor_wt_ssp3_nosub_2080_rp01000',\n",
       "       'histor_wt_base_nosub_2010_rp00002',\n",
       "       'histor_wt_base_nosub_2010_rp00005',\n",
       "       'histor_wt_base_nosub_2010_rp00010',\n",
       "       'histor_wt_base_nosub_2010_rp00025',\n",
       "       'histor_wt_base_nosub_2010_rp00050',\n",
       "       'histor_wt_base_nosub_2010_rp00100',\n",
       "       'histor_wt_base_nosub_2010_rp00250',\n",
       "       'histor_wt_base_nosub_2010_rp00500',\n",
       "       'histor_wt_base_nosub_2010_rp01000'],\n",
       "      dtype='object', length=739)"
      ]
     },
     "metadata": {},
     "output_type": "display_data"
    },
    {
     "name": "stdout",
     "output_type": "stream",
     "text": [
      "Raw_Riverine_geogunit_108_Urban_Damage_v2.csv\n"
     ]
    },
    {
     "data": {
      "text/plain": [
       "(5422, 739)"
      ]
     },
     "metadata": {},
     "output_type": "display_data"
    },
    {
     "data": {
      "text/plain": [
       "Index(['Unnamed: 0', 'rcp4p5_gf_ssp2_nosub_2030_rp00002',\n",
       "       'rcp4p5_gf_ssp2_nosub_2030_rp00005',\n",
       "       'rcp4p5_gf_ssp2_nosub_2030_rp00010',\n",
       "       'rcp4p5_gf_ssp2_nosub_2030_rp00025',\n",
       "       'rcp4p5_gf_ssp2_nosub_2030_rp00050',\n",
       "       'rcp4p5_gf_ssp2_nosub_2030_rp00100',\n",
       "       'rcp4p5_gf_ssp2_nosub_2030_rp00250',\n",
       "       'rcp4p5_gf_ssp2_nosub_2030_rp00500',\n",
       "       'rcp4p5_gf_ssp2_nosub_2030_rp01000',\n",
       "       ...\n",
       "       'histor_wt_ssp3_nosub_2080_rp01000',\n",
       "       'histor_wt_base_nosub_2010_rp00002',\n",
       "       'histor_wt_base_nosub_2010_rp00005',\n",
       "       'histor_wt_base_nosub_2010_rp00010',\n",
       "       'histor_wt_base_nosub_2010_rp00025',\n",
       "       'histor_wt_base_nosub_2010_rp00050',\n",
       "       'histor_wt_base_nosub_2010_rp00100',\n",
       "       'histor_wt_base_nosub_2010_rp00250',\n",
       "       'histor_wt_base_nosub_2010_rp00500',\n",
       "       'histor_wt_base_nosub_2010_rp01000'],\n",
       "      dtype='object', length=739)"
      ]
     },
     "metadata": {},
     "output_type": "display_data"
    },
    {
     "name": "stdout",
     "output_type": "stream",
     "text": [
      "lookup_cost_rural_BAU_2030_geogunit_110.csv\n"
     ]
    },
    {
     "data": {
      "text/plain": [
       "(33123, 408)"
      ]
     },
     "metadata": {},
     "output_type": "display_data"
    },
    {
     "data": {
      "text/plain": [
       "Index(['Unnamed: 0', 'Unnamed: 0.1',\n",
       "       'rcp8p5_gf_ssp2_2030_startrp00002_endrp00002',\n",
       "       'rcp8p5_gf_ssp2_2030_startrp00002_endrp00005',\n",
       "       'rcp8p5_gf_ssp2_2030_startrp00002_endrp00010',\n",
       "       'rcp8p5_gf_ssp2_2030_startrp00002_endrp00025',\n",
       "       'rcp8p5_gf_ssp2_2030_startrp00002_endrp00050',\n",
       "       'rcp8p5_gf_ssp2_2030_startrp00002_endrp00100',\n",
       "       'rcp8p5_gf_ssp2_2030_startrp00002_endrp00250',\n",
       "       'rcp8p5_gf_ssp2_2030_startrp00002_endrp00500',\n",
       "       ...\n",
       "       'rcp8p5_nr_ssp2_2030_startrp01000_endrp00002',\n",
       "       'rcp8p5_nr_ssp2_2030_startrp01000_endrp00005',\n",
       "       'rcp8p5_nr_ssp2_2030_startrp01000_endrp00010',\n",
       "       'rcp8p5_nr_ssp2_2030_startrp01000_endrp00025',\n",
       "       'rcp8p5_nr_ssp2_2030_startrp01000_endrp00050',\n",
       "       'rcp8p5_nr_ssp2_2030_startrp01000_endrp00100',\n",
       "       'rcp8p5_nr_ssp2_2030_startrp01000_endrp00250',\n",
       "       'rcp8p5_nr_ssp2_2030_startrp01000_endrp00500',\n",
       "       'rcp8p5_nr_ssp2_2030_startrp01000_endrp01000', 'Mask'],\n",
       "      dtype='object', length=408)"
      ]
     },
     "metadata": {},
     "output_type": "display_data"
    },
    {
     "name": "stdout",
     "output_type": "stream",
     "text": [
      "lookup_cost_rural_BAU_2050_geogunit_110.csv\n"
     ]
    },
    {
     "data": {
      "text/plain": [
       "(33123, 408)"
      ]
     },
     "metadata": {},
     "output_type": "display_data"
    },
    {
     "data": {
      "text/plain": [
       "Index(['Unnamed: 0', 'Unnamed: 0.1',\n",
       "       'rcp8p5_gf_ssp2_2050_startrp00002_endrp00002',\n",
       "       'rcp8p5_gf_ssp2_2050_startrp00002_endrp00005',\n",
       "       'rcp8p5_gf_ssp2_2050_startrp00002_endrp00010',\n",
       "       'rcp8p5_gf_ssp2_2050_startrp00002_endrp00025',\n",
       "       'rcp8p5_gf_ssp2_2050_startrp00002_endrp00050',\n",
       "       'rcp8p5_gf_ssp2_2050_startrp00002_endrp00100',\n",
       "       'rcp8p5_gf_ssp2_2050_startrp00002_endrp00250',\n",
       "       'rcp8p5_gf_ssp2_2050_startrp00002_endrp00500',\n",
       "       ...\n",
       "       'rcp8p5_nr_ssp2_2050_startrp01000_endrp00002',\n",
       "       'rcp8p5_nr_ssp2_2050_startrp01000_endrp00005',\n",
       "       'rcp8p5_nr_ssp2_2050_startrp01000_endrp00010',\n",
       "       'rcp8p5_nr_ssp2_2050_startrp01000_endrp00025',\n",
       "       'rcp8p5_nr_ssp2_2050_startrp01000_endrp00050',\n",
       "       'rcp8p5_nr_ssp2_2050_startrp01000_endrp00100',\n",
       "       'rcp8p5_nr_ssp2_2050_startrp01000_endrp00250',\n",
       "       'rcp8p5_nr_ssp2_2050_startrp01000_endrp00500',\n",
       "       'rcp8p5_nr_ssp2_2050_startrp01000_endrp01000', 'Mask'],\n",
       "      dtype='object', length=408)"
      ]
     },
     "metadata": {},
     "output_type": "display_data"
    },
    {
     "name": "stdout",
     "output_type": "stream",
     "text": [
      "lookup_cost_rural_BAU_2080_geogunit_110.csv\n"
     ]
    },
    {
     "data": {
      "text/plain": [
       "(33123, 408)"
      ]
     },
     "metadata": {},
     "output_type": "display_data"
    },
    {
     "data": {
      "text/plain": [
       "Index(['Unnamed: 0', 'Unnamed: 0.1',\n",
       "       'rcp8p5_gf_ssp2_2080_startrp00002_endrp00002',\n",
       "       'rcp8p5_gf_ssp2_2080_startrp00002_endrp00005',\n",
       "       'rcp8p5_gf_ssp2_2080_startrp00002_endrp00010',\n",
       "       'rcp8p5_gf_ssp2_2080_startrp00002_endrp00025',\n",
       "       'rcp8p5_gf_ssp2_2080_startrp00002_endrp00050',\n",
       "       'rcp8p5_gf_ssp2_2080_startrp00002_endrp00100',\n",
       "       'rcp8p5_gf_ssp2_2080_startrp00002_endrp00250',\n",
       "       'rcp8p5_gf_ssp2_2080_startrp00002_endrp00500',\n",
       "       ...\n",
       "       'rcp8p5_nr_ssp2_2080_startrp01000_endrp00002',\n",
       "       'rcp8p5_nr_ssp2_2080_startrp01000_endrp00005',\n",
       "       'rcp8p5_nr_ssp2_2080_startrp01000_endrp00010',\n",
       "       'rcp8p5_nr_ssp2_2080_startrp01000_endrp00025',\n",
       "       'rcp8p5_nr_ssp2_2080_startrp01000_endrp00050',\n",
       "       'rcp8p5_nr_ssp2_2080_startrp01000_endrp00100',\n",
       "       'rcp8p5_nr_ssp2_2080_startrp01000_endrp00250',\n",
       "       'rcp8p5_nr_ssp2_2080_startrp01000_endrp00500',\n",
       "       'rcp8p5_nr_ssp2_2080_startrp01000_endrp01000', 'Mask'],\n",
       "      dtype='object', length=408)"
      ]
     },
     "metadata": {},
     "output_type": "display_data"
    },
    {
     "name": "stdout",
     "output_type": "stream",
     "text": [
      "lookup_cost_rural_OPT_2030_geogunit_110.csv\n"
     ]
    },
    {
     "data": {
      "text/plain": [
       "(33123, 408)"
      ]
     },
     "metadata": {},
     "output_type": "display_data"
    },
    {
     "data": {
      "text/plain": [
       "Index(['Unnamed: 0', 'Unnamed: 0.1',\n",
       "       'rcp4p5_gf_ssp2_2030_startrp00002_endrp00002',\n",
       "       'rcp4p5_gf_ssp2_2030_startrp00002_endrp00005',\n",
       "       'rcp4p5_gf_ssp2_2030_startrp00002_endrp00010',\n",
       "       'rcp4p5_gf_ssp2_2030_startrp00002_endrp00025',\n",
       "       'rcp4p5_gf_ssp2_2030_startrp00002_endrp00050',\n",
       "       'rcp4p5_gf_ssp2_2030_startrp00002_endrp00100',\n",
       "       'rcp4p5_gf_ssp2_2030_startrp00002_endrp00250',\n",
       "       'rcp4p5_gf_ssp2_2030_startrp00002_endrp00500',\n",
       "       ...\n",
       "       'rcp4p5_nr_ssp2_2030_startrp01000_endrp00002',\n",
       "       'rcp4p5_nr_ssp2_2030_startrp01000_endrp00005',\n",
       "       'rcp4p5_nr_ssp2_2030_startrp01000_endrp00010',\n",
       "       'rcp4p5_nr_ssp2_2030_startrp01000_endrp00025',\n",
       "       'rcp4p5_nr_ssp2_2030_startrp01000_endrp00050',\n",
       "       'rcp4p5_nr_ssp2_2030_startrp01000_endrp00100',\n",
       "       'rcp4p5_nr_ssp2_2030_startrp01000_endrp00250',\n",
       "       'rcp4p5_nr_ssp2_2030_startrp01000_endrp00500',\n",
       "       'rcp4p5_nr_ssp2_2030_startrp01000_endrp01000', 'Mask'],\n",
       "      dtype='object', length=408)"
      ]
     },
     "metadata": {},
     "output_type": "display_data"
    },
    {
     "name": "stdout",
     "output_type": "stream",
     "text": [
      "lookup_cost_rural_OPT_2050_geogunit_110.csv\n"
     ]
    },
    {
     "data": {
      "text/plain": [
       "(33123, 408)"
      ]
     },
     "metadata": {},
     "output_type": "display_data"
    },
    {
     "data": {
      "text/plain": [
       "Index(['Unnamed: 0', 'Unnamed: 0.1',\n",
       "       'rcp4p5_gf_ssp2_2050_startrp00002_endrp00002',\n",
       "       'rcp4p5_gf_ssp2_2050_startrp00002_endrp00005',\n",
       "       'rcp4p5_gf_ssp2_2050_startrp00002_endrp00010',\n",
       "       'rcp4p5_gf_ssp2_2050_startrp00002_endrp00025',\n",
       "       'rcp4p5_gf_ssp2_2050_startrp00002_endrp00050',\n",
       "       'rcp4p5_gf_ssp2_2050_startrp00002_endrp00100',\n",
       "       'rcp4p5_gf_ssp2_2050_startrp00002_endrp00250',\n",
       "       'rcp4p5_gf_ssp2_2050_startrp00002_endrp00500',\n",
       "       ...\n",
       "       'rcp4p5_nr_ssp2_2050_startrp01000_endrp00002',\n",
       "       'rcp4p5_nr_ssp2_2050_startrp01000_endrp00005',\n",
       "       'rcp4p5_nr_ssp2_2050_startrp01000_endrp00010',\n",
       "       'rcp4p5_nr_ssp2_2050_startrp01000_endrp00025',\n",
       "       'rcp4p5_nr_ssp2_2050_startrp01000_endrp00050',\n",
       "       'rcp4p5_nr_ssp2_2050_startrp01000_endrp00100',\n",
       "       'rcp4p5_nr_ssp2_2050_startrp01000_endrp00250',\n",
       "       'rcp4p5_nr_ssp2_2050_startrp01000_endrp00500',\n",
       "       'rcp4p5_nr_ssp2_2050_startrp01000_endrp01000', 'Mask'],\n",
       "      dtype='object', length=408)"
      ]
     },
     "metadata": {},
     "output_type": "display_data"
    },
    {
     "name": "stdout",
     "output_type": "stream",
     "text": [
      "lookup_cost_rural_OPT_2080_geogunit_110.csv\n"
     ]
    },
    {
     "data": {
      "text/plain": [
       "(33123, 408)"
      ]
     },
     "metadata": {},
     "output_type": "display_data"
    },
    {
     "data": {
      "text/plain": [
       "Index(['Unnamed: 0', 'Unnamed: 0.1',\n",
       "       'rcp4p5_gf_ssp2_2080_startrp00002_endrp00002',\n",
       "       'rcp4p5_gf_ssp2_2080_startrp00002_endrp00005',\n",
       "       'rcp4p5_gf_ssp2_2080_startrp00002_endrp00010',\n",
       "       'rcp4p5_gf_ssp2_2080_startrp00002_endrp00025',\n",
       "       'rcp4p5_gf_ssp2_2080_startrp00002_endrp00050',\n",
       "       'rcp4p5_gf_ssp2_2080_startrp00002_endrp00100',\n",
       "       'rcp4p5_gf_ssp2_2080_startrp00002_endrp00250',\n",
       "       'rcp4p5_gf_ssp2_2080_startrp00002_endrp00500',\n",
       "       ...\n",
       "       'rcp4p5_nr_ssp2_2080_startrp01000_endrp00002',\n",
       "       'rcp4p5_nr_ssp2_2080_startrp01000_endrp00005',\n",
       "       'rcp4p5_nr_ssp2_2080_startrp01000_endrp00010',\n",
       "       'rcp4p5_nr_ssp2_2080_startrp01000_endrp00025',\n",
       "       'rcp4p5_nr_ssp2_2080_startrp01000_endrp00050',\n",
       "       'rcp4p5_nr_ssp2_2080_startrp01000_endrp00100',\n",
       "       'rcp4p5_nr_ssp2_2080_startrp01000_endrp00250',\n",
       "       'rcp4p5_nr_ssp2_2080_startrp01000_endrp00500',\n",
       "       'rcp4p5_nr_ssp2_2080_startrp01000_endrp01000', 'Mask'],\n",
       "      dtype='object', length=408)"
      ]
     },
     "metadata": {},
     "output_type": "display_data"
    },
    {
     "name": "stdout",
     "output_type": "stream",
     "text": [
      "lookup_cost_rural_PES_2030_geogunit_110.csv\n"
     ]
    },
    {
     "data": {
      "text/plain": [
       "(33123, 408)"
      ]
     },
     "metadata": {},
     "output_type": "display_data"
    },
    {
     "data": {
      "text/plain": [
       "Index(['Unnamed: 0', 'Unnamed: 0.1',\n",
       "       'rcp8p5_gf_ssp3_2030_startrp00002_endrp00002',\n",
       "       'rcp8p5_gf_ssp3_2030_startrp00002_endrp00005',\n",
       "       'rcp8p5_gf_ssp3_2030_startrp00002_endrp00010',\n",
       "       'rcp8p5_gf_ssp3_2030_startrp00002_endrp00025',\n",
       "       'rcp8p5_gf_ssp3_2030_startrp00002_endrp00050',\n",
       "       'rcp8p5_gf_ssp3_2030_startrp00002_endrp00100',\n",
       "       'rcp8p5_gf_ssp3_2030_startrp00002_endrp00250',\n",
       "       'rcp8p5_gf_ssp3_2030_startrp00002_endrp00500',\n",
       "       ...\n",
       "       'rcp8p5_nr_ssp3_2030_startrp01000_endrp00002',\n",
       "       'rcp8p5_nr_ssp3_2030_startrp01000_endrp00005',\n",
       "       'rcp8p5_nr_ssp3_2030_startrp01000_endrp00010',\n",
       "       'rcp8p5_nr_ssp3_2030_startrp01000_endrp00025',\n",
       "       'rcp8p5_nr_ssp3_2030_startrp01000_endrp00050',\n",
       "       'rcp8p5_nr_ssp3_2030_startrp01000_endrp00100',\n",
       "       'rcp8p5_nr_ssp3_2030_startrp01000_endrp00250',\n",
       "       'rcp8p5_nr_ssp3_2030_startrp01000_endrp00500',\n",
       "       'rcp8p5_nr_ssp3_2030_startrp01000_endrp01000', 'Mask'],\n",
       "      dtype='object', length=408)"
      ]
     },
     "metadata": {},
     "output_type": "display_data"
    },
    {
     "name": "stdout",
     "output_type": "stream",
     "text": [
      "lookup_cost_rural_PES_2050_geogunit_110.csv\n"
     ]
    },
    {
     "data": {
      "text/plain": [
       "(33123, 408)"
      ]
     },
     "metadata": {},
     "output_type": "display_data"
    },
    {
     "data": {
      "text/plain": [
       "Index(['Unnamed: 0', 'Unnamed: 0.1',\n",
       "       'rcp8p5_gf_ssp3_2050_startrp00002_endrp00002',\n",
       "       'rcp8p5_gf_ssp3_2050_startrp00002_endrp00005',\n",
       "       'rcp8p5_gf_ssp3_2050_startrp00002_endrp00010',\n",
       "       'rcp8p5_gf_ssp3_2050_startrp00002_endrp00025',\n",
       "       'rcp8p5_gf_ssp3_2050_startrp00002_endrp00050',\n",
       "       'rcp8p5_gf_ssp3_2050_startrp00002_endrp00100',\n",
       "       'rcp8p5_gf_ssp3_2050_startrp00002_endrp00250',\n",
       "       'rcp8p5_gf_ssp3_2050_startrp00002_endrp00500',\n",
       "       ...\n",
       "       'rcp8p5_nr_ssp3_2050_startrp01000_endrp00002',\n",
       "       'rcp8p5_nr_ssp3_2050_startrp01000_endrp00005',\n",
       "       'rcp8p5_nr_ssp3_2050_startrp01000_endrp00010',\n",
       "       'rcp8p5_nr_ssp3_2050_startrp01000_endrp00025',\n",
       "       'rcp8p5_nr_ssp3_2050_startrp01000_endrp00050',\n",
       "       'rcp8p5_nr_ssp3_2050_startrp01000_endrp00100',\n",
       "       'rcp8p5_nr_ssp3_2050_startrp01000_endrp00250',\n",
       "       'rcp8p5_nr_ssp3_2050_startrp01000_endrp00500',\n",
       "       'rcp8p5_nr_ssp3_2050_startrp01000_endrp01000', 'Mask'],\n",
       "      dtype='object', length=408)"
      ]
     },
     "metadata": {},
     "output_type": "display_data"
    },
    {
     "name": "stdout",
     "output_type": "stream",
     "text": [
      "lookup_cost_rural_PES_2080_geogunit_110.csv\n"
     ]
    },
    {
     "data": {
      "text/plain": [
       "(33123, 408)"
      ]
     },
     "metadata": {},
     "output_type": "display_data"
    },
    {
     "data": {
      "text/plain": [
       "Index(['Unnamed: 0', 'Unnamed: 0.1',\n",
       "       'rcp8p5_gf_ssp3_2080_startrp00002_endrp00002',\n",
       "       'rcp8p5_gf_ssp3_2080_startrp00002_endrp00005',\n",
       "       'rcp8p5_gf_ssp3_2080_startrp00002_endrp00010',\n",
       "       'rcp8p5_gf_ssp3_2080_startrp00002_endrp00025',\n",
       "       'rcp8p5_gf_ssp3_2080_startrp00002_endrp00050',\n",
       "       'rcp8p5_gf_ssp3_2080_startrp00002_endrp00100',\n",
       "       'rcp8p5_gf_ssp3_2080_startrp00002_endrp00250',\n",
       "       'rcp8p5_gf_ssp3_2080_startrp00002_endrp00500',\n",
       "       ...\n",
       "       'rcp8p5_nr_ssp3_2080_startrp01000_endrp00002',\n",
       "       'rcp8p5_nr_ssp3_2080_startrp01000_endrp00005',\n",
       "       'rcp8p5_nr_ssp3_2080_startrp01000_endrp00010',\n",
       "       'rcp8p5_nr_ssp3_2080_startrp01000_endrp00025',\n",
       "       'rcp8p5_nr_ssp3_2080_startrp01000_endrp00050',\n",
       "       'rcp8p5_nr_ssp3_2080_startrp01000_endrp00100',\n",
       "       'rcp8p5_nr_ssp3_2080_startrp01000_endrp00250',\n",
       "       'rcp8p5_nr_ssp3_2080_startrp01000_endrp00500',\n",
       "       'rcp8p5_nr_ssp3_2080_startrp01000_endrp01000', 'Mask'],\n",
       "      dtype='object', length=408)"
      ]
     },
     "metadata": {},
     "output_type": "display_data"
    },
    {
     "name": "stdout",
     "output_type": "stream",
     "text": [
      "lookup_cost_urban_BAU_2030_geogunit_110.csv\n"
     ]
    },
    {
     "data": {
      "text/plain": [
       "(33123, 408)"
      ]
     },
     "metadata": {},
     "output_type": "display_data"
    },
    {
     "data": {
      "text/plain": [
       "Index(['Unnamed: 0', 'Unnamed: 0.1',\n",
       "       'rcp8p5_gf_ssp2_2030_startrp00002_endrp00002',\n",
       "       'rcp8p5_gf_ssp2_2030_startrp00002_endrp00005',\n",
       "       'rcp8p5_gf_ssp2_2030_startrp00002_endrp00010',\n",
       "       'rcp8p5_gf_ssp2_2030_startrp00002_endrp00025',\n",
       "       'rcp8p5_gf_ssp2_2030_startrp00002_endrp00050',\n",
       "       'rcp8p5_gf_ssp2_2030_startrp00002_endrp00100',\n",
       "       'rcp8p5_gf_ssp2_2030_startrp00002_endrp00250',\n",
       "       'rcp8p5_gf_ssp2_2030_startrp00002_endrp00500',\n",
       "       ...\n",
       "       'rcp8p5_nr_ssp2_2030_startrp01000_endrp00002',\n",
       "       'rcp8p5_nr_ssp2_2030_startrp01000_endrp00005',\n",
       "       'rcp8p5_nr_ssp2_2030_startrp01000_endrp00010',\n",
       "       'rcp8p5_nr_ssp2_2030_startrp01000_endrp00025',\n",
       "       'rcp8p5_nr_ssp2_2030_startrp01000_endrp00050',\n",
       "       'rcp8p5_nr_ssp2_2030_startrp01000_endrp00100',\n",
       "       'rcp8p5_nr_ssp2_2030_startrp01000_endrp00250',\n",
       "       'rcp8p5_nr_ssp2_2030_startrp01000_endrp00500',\n",
       "       'rcp8p5_nr_ssp2_2030_startrp01000_endrp01000', 'Mask'],\n",
       "      dtype='object', length=408)"
      ]
     },
     "metadata": {},
     "output_type": "display_data"
    },
    {
     "name": "stdout",
     "output_type": "stream",
     "text": [
      "lookup_cost_urban_BAU_2050_geogunit_110.csv\n"
     ]
    },
    {
     "data": {
      "text/plain": [
       "(33123, 408)"
      ]
     },
     "metadata": {},
     "output_type": "display_data"
    },
    {
     "data": {
      "text/plain": [
       "Index(['Unnamed: 0', 'Unnamed: 0.1',\n",
       "       'rcp8p5_gf_ssp2_2050_startrp00002_endrp00002',\n",
       "       'rcp8p5_gf_ssp2_2050_startrp00002_endrp00005',\n",
       "       'rcp8p5_gf_ssp2_2050_startrp00002_endrp00010',\n",
       "       'rcp8p5_gf_ssp2_2050_startrp00002_endrp00025',\n",
       "       'rcp8p5_gf_ssp2_2050_startrp00002_endrp00050',\n",
       "       'rcp8p5_gf_ssp2_2050_startrp00002_endrp00100',\n",
       "       'rcp8p5_gf_ssp2_2050_startrp00002_endrp00250',\n",
       "       'rcp8p5_gf_ssp2_2050_startrp00002_endrp00500',\n",
       "       ...\n",
       "       'rcp8p5_nr_ssp2_2050_startrp01000_endrp00002',\n",
       "       'rcp8p5_nr_ssp2_2050_startrp01000_endrp00005',\n",
       "       'rcp8p5_nr_ssp2_2050_startrp01000_endrp00010',\n",
       "       'rcp8p5_nr_ssp2_2050_startrp01000_endrp00025',\n",
       "       'rcp8p5_nr_ssp2_2050_startrp01000_endrp00050',\n",
       "       'rcp8p5_nr_ssp2_2050_startrp01000_endrp00100',\n",
       "       'rcp8p5_nr_ssp2_2050_startrp01000_endrp00250',\n",
       "       'rcp8p5_nr_ssp2_2050_startrp01000_endrp00500',\n",
       "       'rcp8p5_nr_ssp2_2050_startrp01000_endrp01000', 'Mask'],\n",
       "      dtype='object', length=408)"
      ]
     },
     "metadata": {},
     "output_type": "display_data"
    },
    {
     "name": "stdout",
     "output_type": "stream",
     "text": [
      "lookup_cost_urban_BAU_2080_geogunit_110.csv\n"
     ]
    },
    {
     "data": {
      "text/plain": [
       "(33123, 408)"
      ]
     },
     "metadata": {},
     "output_type": "display_data"
    },
    {
     "data": {
      "text/plain": [
       "Index(['Unnamed: 0', 'Unnamed: 0.1',\n",
       "       'rcp8p5_gf_ssp2_2080_startrp00002_endrp00002',\n",
       "       'rcp8p5_gf_ssp2_2080_startrp00002_endrp00005',\n",
       "       'rcp8p5_gf_ssp2_2080_startrp00002_endrp00010',\n",
       "       'rcp8p5_gf_ssp2_2080_startrp00002_endrp00025',\n",
       "       'rcp8p5_gf_ssp2_2080_startrp00002_endrp00050',\n",
       "       'rcp8p5_gf_ssp2_2080_startrp00002_endrp00100',\n",
       "       'rcp8p5_gf_ssp2_2080_startrp00002_endrp00250',\n",
       "       'rcp8p5_gf_ssp2_2080_startrp00002_endrp00500',\n",
       "       ...\n",
       "       'rcp8p5_nr_ssp2_2080_startrp01000_endrp00002',\n",
       "       'rcp8p5_nr_ssp2_2080_startrp01000_endrp00005',\n",
       "       'rcp8p5_nr_ssp2_2080_startrp01000_endrp00010',\n",
       "       'rcp8p5_nr_ssp2_2080_startrp01000_endrp00025',\n",
       "       'rcp8p5_nr_ssp2_2080_startrp01000_endrp00050',\n",
       "       'rcp8p5_nr_ssp2_2080_startrp01000_endrp00100',\n",
       "       'rcp8p5_nr_ssp2_2080_startrp01000_endrp00250',\n",
       "       'rcp8p5_nr_ssp2_2080_startrp01000_endrp00500',\n",
       "       'rcp8p5_nr_ssp2_2080_startrp01000_endrp01000', 'Mask'],\n",
       "      dtype='object', length=408)"
      ]
     },
     "metadata": {},
     "output_type": "display_data"
    },
    {
     "name": "stdout",
     "output_type": "stream",
     "text": [
      "lookup_cost_urban_OPT_2030_geogunit_110.csv\n"
     ]
    },
    {
     "data": {
      "text/plain": [
       "(33123, 408)"
      ]
     },
     "metadata": {},
     "output_type": "display_data"
    },
    {
     "data": {
      "text/plain": [
       "Index(['Unnamed: 0', 'Unnamed: 0.1',\n",
       "       'rcp4p5_gf_ssp2_2030_startrp00002_endrp00002',\n",
       "       'rcp4p5_gf_ssp2_2030_startrp00002_endrp00005',\n",
       "       'rcp4p5_gf_ssp2_2030_startrp00002_endrp00010',\n",
       "       'rcp4p5_gf_ssp2_2030_startrp00002_endrp00025',\n",
       "       'rcp4p5_gf_ssp2_2030_startrp00002_endrp00050',\n",
       "       'rcp4p5_gf_ssp2_2030_startrp00002_endrp00100',\n",
       "       'rcp4p5_gf_ssp2_2030_startrp00002_endrp00250',\n",
       "       'rcp4p5_gf_ssp2_2030_startrp00002_endrp00500',\n",
       "       ...\n",
       "       'rcp4p5_nr_ssp2_2030_startrp01000_endrp00002',\n",
       "       'rcp4p5_nr_ssp2_2030_startrp01000_endrp00005',\n",
       "       'rcp4p5_nr_ssp2_2030_startrp01000_endrp00010',\n",
       "       'rcp4p5_nr_ssp2_2030_startrp01000_endrp00025',\n",
       "       'rcp4p5_nr_ssp2_2030_startrp01000_endrp00050',\n",
       "       'rcp4p5_nr_ssp2_2030_startrp01000_endrp00100',\n",
       "       'rcp4p5_nr_ssp2_2030_startrp01000_endrp00250',\n",
       "       'rcp4p5_nr_ssp2_2030_startrp01000_endrp00500',\n",
       "       'rcp4p5_nr_ssp2_2030_startrp01000_endrp01000', 'Mask'],\n",
       "      dtype='object', length=408)"
      ]
     },
     "metadata": {},
     "output_type": "display_data"
    },
    {
     "name": "stdout",
     "output_type": "stream",
     "text": [
      "lookup_cost_urban_OPT_2050_geogunit_110.csv\n"
     ]
    },
    {
     "data": {
      "text/plain": [
       "(33123, 408)"
      ]
     },
     "metadata": {},
     "output_type": "display_data"
    },
    {
     "data": {
      "text/plain": [
       "Index(['Unnamed: 0', 'Unnamed: 0.1',\n",
       "       'rcp4p5_gf_ssp2_2050_startrp00002_endrp00002',\n",
       "       'rcp4p5_gf_ssp2_2050_startrp00002_endrp00005',\n",
       "       'rcp4p5_gf_ssp2_2050_startrp00002_endrp00010',\n",
       "       'rcp4p5_gf_ssp2_2050_startrp00002_endrp00025',\n",
       "       'rcp4p5_gf_ssp2_2050_startrp00002_endrp00050',\n",
       "       'rcp4p5_gf_ssp2_2050_startrp00002_endrp00100',\n",
       "       'rcp4p5_gf_ssp2_2050_startrp00002_endrp00250',\n",
       "       'rcp4p5_gf_ssp2_2050_startrp00002_endrp00500',\n",
       "       ...\n",
       "       'rcp4p5_nr_ssp2_2050_startrp01000_endrp00002',\n",
       "       'rcp4p5_nr_ssp2_2050_startrp01000_endrp00005',\n",
       "       'rcp4p5_nr_ssp2_2050_startrp01000_endrp00010',\n",
       "       'rcp4p5_nr_ssp2_2050_startrp01000_endrp00025',\n",
       "       'rcp4p5_nr_ssp2_2050_startrp01000_endrp00050',\n",
       "       'rcp4p5_nr_ssp2_2050_startrp01000_endrp00100',\n",
       "       'rcp4p5_nr_ssp2_2050_startrp01000_endrp00250',\n",
       "       'rcp4p5_nr_ssp2_2050_startrp01000_endrp00500',\n",
       "       'rcp4p5_nr_ssp2_2050_startrp01000_endrp01000', 'Mask'],\n",
       "      dtype='object', length=408)"
      ]
     },
     "metadata": {},
     "output_type": "display_data"
    },
    {
     "name": "stdout",
     "output_type": "stream",
     "text": [
      "lookup_cost_urban_OPT_2080_geogunit_110.csv\n"
     ]
    },
    {
     "data": {
      "text/plain": [
       "(33123, 408)"
      ]
     },
     "metadata": {},
     "output_type": "display_data"
    },
    {
     "data": {
      "text/plain": [
       "Index(['Unnamed: 0', 'Unnamed: 0.1',\n",
       "       'rcp4p5_gf_ssp2_2080_startrp00002_endrp00002',\n",
       "       'rcp4p5_gf_ssp2_2080_startrp00002_endrp00005',\n",
       "       'rcp4p5_gf_ssp2_2080_startrp00002_endrp00010',\n",
       "       'rcp4p5_gf_ssp2_2080_startrp00002_endrp00025',\n",
       "       'rcp4p5_gf_ssp2_2080_startrp00002_endrp00050',\n",
       "       'rcp4p5_gf_ssp2_2080_startrp00002_endrp00100',\n",
       "       'rcp4p5_gf_ssp2_2080_startrp00002_endrp00250',\n",
       "       'rcp4p5_gf_ssp2_2080_startrp00002_endrp00500',\n",
       "       ...\n",
       "       'rcp4p5_nr_ssp2_2080_startrp01000_endrp00002',\n",
       "       'rcp4p5_nr_ssp2_2080_startrp01000_endrp00005',\n",
       "       'rcp4p5_nr_ssp2_2080_startrp01000_endrp00010',\n",
       "       'rcp4p5_nr_ssp2_2080_startrp01000_endrp00025',\n",
       "       'rcp4p5_nr_ssp2_2080_startrp01000_endrp00050',\n",
       "       'rcp4p5_nr_ssp2_2080_startrp01000_endrp00100',\n",
       "       'rcp4p5_nr_ssp2_2080_startrp01000_endrp00250',\n",
       "       'rcp4p5_nr_ssp2_2080_startrp01000_endrp00500',\n",
       "       'rcp4p5_nr_ssp2_2080_startrp01000_endrp01000', 'Mask'],\n",
       "      dtype='object', length=408)"
      ]
     },
     "metadata": {},
     "output_type": "display_data"
    },
    {
     "name": "stdout",
     "output_type": "stream",
     "text": [
      "lookup_cost_urban_PES_2030_geogunit_110.csv\n"
     ]
    },
    {
     "data": {
      "text/plain": [
       "(33123, 408)"
      ]
     },
     "metadata": {},
     "output_type": "display_data"
    },
    {
     "data": {
      "text/plain": [
       "Index(['Unnamed: 0', 'Unnamed: 0.1',\n",
       "       'rcp8p5_gf_ssp3_2030_startrp00002_endrp00002',\n",
       "       'rcp8p5_gf_ssp3_2030_startrp00002_endrp00005',\n",
       "       'rcp8p5_gf_ssp3_2030_startrp00002_endrp00010',\n",
       "       'rcp8p5_gf_ssp3_2030_startrp00002_endrp00025',\n",
       "       'rcp8p5_gf_ssp3_2030_startrp00002_endrp00050',\n",
       "       'rcp8p5_gf_ssp3_2030_startrp00002_endrp00100',\n",
       "       'rcp8p5_gf_ssp3_2030_startrp00002_endrp00250',\n",
       "       'rcp8p5_gf_ssp3_2030_startrp00002_endrp00500',\n",
       "       ...\n",
       "       'rcp8p5_nr_ssp3_2030_startrp01000_endrp00002',\n",
       "       'rcp8p5_nr_ssp3_2030_startrp01000_endrp00005',\n",
       "       'rcp8p5_nr_ssp3_2030_startrp01000_endrp00010',\n",
       "       'rcp8p5_nr_ssp3_2030_startrp01000_endrp00025',\n",
       "       'rcp8p5_nr_ssp3_2030_startrp01000_endrp00050',\n",
       "       'rcp8p5_nr_ssp3_2030_startrp01000_endrp00100',\n",
       "       'rcp8p5_nr_ssp3_2030_startrp01000_endrp00250',\n",
       "       'rcp8p5_nr_ssp3_2030_startrp01000_endrp00500',\n",
       "       'rcp8p5_nr_ssp3_2030_startrp01000_endrp01000', 'Mask'],\n",
       "      dtype='object', length=408)"
      ]
     },
     "metadata": {},
     "output_type": "display_data"
    },
    {
     "name": "stdout",
     "output_type": "stream",
     "text": [
      "lookup_cost_urban_PES_2050_geogunit_110.csv\n"
     ]
    },
    {
     "data": {
      "text/plain": [
       "(33123, 408)"
      ]
     },
     "metadata": {},
     "output_type": "display_data"
    },
    {
     "data": {
      "text/plain": [
       "Index(['Unnamed: 0', 'Unnamed: 0.1',\n",
       "       'rcp8p5_gf_ssp3_2050_startrp00002_endrp00002',\n",
       "       'rcp8p5_gf_ssp3_2050_startrp00002_endrp00005',\n",
       "       'rcp8p5_gf_ssp3_2050_startrp00002_endrp00010',\n",
       "       'rcp8p5_gf_ssp3_2050_startrp00002_endrp00025',\n",
       "       'rcp8p5_gf_ssp3_2050_startrp00002_endrp00050',\n",
       "       'rcp8p5_gf_ssp3_2050_startrp00002_endrp00100',\n",
       "       'rcp8p5_gf_ssp3_2050_startrp00002_endrp00250',\n",
       "       'rcp8p5_gf_ssp3_2050_startrp00002_endrp00500',\n",
       "       ...\n",
       "       'rcp8p5_nr_ssp3_2050_startrp01000_endrp00002',\n",
       "       'rcp8p5_nr_ssp3_2050_startrp01000_endrp00005',\n",
       "       'rcp8p5_nr_ssp3_2050_startrp01000_endrp00010',\n",
       "       'rcp8p5_nr_ssp3_2050_startrp01000_endrp00025',\n",
       "       'rcp8p5_nr_ssp3_2050_startrp01000_endrp00050',\n",
       "       'rcp8p5_nr_ssp3_2050_startrp01000_endrp00100',\n",
       "       'rcp8p5_nr_ssp3_2050_startrp01000_endrp00250',\n",
       "       'rcp8p5_nr_ssp3_2050_startrp01000_endrp00500',\n",
       "       'rcp8p5_nr_ssp3_2050_startrp01000_endrp01000', 'Mask'],\n",
       "      dtype='object', length=408)"
      ]
     },
     "metadata": {},
     "output_type": "display_data"
    },
    {
     "name": "stdout",
     "output_type": "stream",
     "text": [
      "lookup_cost_urban_PES_2080_geogunit_110.csv\n"
     ]
    },
    {
     "data": {
      "text/plain": [
       "(33123, 408)"
      ]
     },
     "metadata": {},
     "output_type": "display_data"
    },
    {
     "data": {
      "text/plain": [
       "Index(['Unnamed: 0', 'Unnamed: 0.1',\n",
       "       'rcp8p5_gf_ssp3_2080_startrp00002_endrp00002',\n",
       "       'rcp8p5_gf_ssp3_2080_startrp00002_endrp00005',\n",
       "       'rcp8p5_gf_ssp3_2080_startrp00002_endrp00010',\n",
       "       'rcp8p5_gf_ssp3_2080_startrp00002_endrp00025',\n",
       "       'rcp8p5_gf_ssp3_2080_startrp00002_endrp00050',\n",
       "       'rcp8p5_gf_ssp3_2080_startrp00002_endrp00100',\n",
       "       'rcp8p5_gf_ssp3_2080_startrp00002_endrp00250',\n",
       "       'rcp8p5_gf_ssp3_2080_startrp00002_endrp00500',\n",
       "       ...\n",
       "       'rcp8p5_nr_ssp3_2080_startrp01000_endrp00002',\n",
       "       'rcp8p5_nr_ssp3_2080_startrp01000_endrp00005',\n",
       "       'rcp8p5_nr_ssp3_2080_startrp01000_endrp00010',\n",
       "       'rcp8p5_nr_ssp3_2080_startrp01000_endrp00025',\n",
       "       'rcp8p5_nr_ssp3_2080_startrp01000_endrp00050',\n",
       "       'rcp8p5_nr_ssp3_2080_startrp01000_endrp00100',\n",
       "       'rcp8p5_nr_ssp3_2080_startrp01000_endrp00250',\n",
       "       'rcp8p5_nr_ssp3_2080_startrp01000_endrp00500',\n",
       "       'rcp8p5_nr_ssp3_2080_startrp01000_endrp01000', 'Mask'],\n",
       "      dtype='object', length=408)"
      ]
     },
     "metadata": {},
     "output_type": "display_data"
    }
   ],
   "source": [
    "for dataset in list_of_dfs:\n",
    "    print(dataset['fileName'].split('/')[-1])\n",
    "    display(dataset['data'].shape)\n",
    "    display(dataset['data'].columns)"
   ]
  },
  {
   "cell_type": "code",
   "execution_count": 24,
   "metadata": {},
   "outputs": [],
   "source": []
  },
  {
   "cell_type": "code",
   "execution_count": 28,
   "metadata": {},
   "outputs": [
    {
     "data": {
      "image/png": "[encoded data removed]",
      "text/plain": [
       "<IPython.core.display.Image object>"
      ]
     },
     "execution_count": 28,
     "metadata": {},
     "output_type": "execute_result"
    }
   ],
   "source": [
    "metadata = MetaData()\n",
    "lookup_assets = Table('lookup_assets', metadata,\n",
    "    Column('geo_id', Integer, primary_key=True),\n",
    "    Column('year', Integer, nullable=False),\n",
    "    Column('model', String(60), nullable=False),\n",
    "    Column('geom_type', String(20), nullable=False)\n",
    ")\n",
    "\n",
    "precalc_agg = Table('precalc_agg', metadata,\n",
    "    Column('pref_id', Integer, primary_key=True),\n",
    "    Column('user_id', Integer, ForeignKey(\"user.user_id\"), nullable=False),\n",
    "    Column('pref_name', String(40), nullable=False),\n",
    "    Column('pref_value', String(100))\n",
    ")\n",
    "\n",
    "graph = create_schema_graph(metadata=metadata,\n",
    "                 show_datatypes=True,\n",
    "                 show_indexes=True,\n",
    "                 rankdir='LR',\n",
    "                 concentrate=False)\n",
    "\n",
    "##Generate png image                 \n",
    "graph.write_png('dbschema.png')\n",
    "Image('dbschema.png')"
   ]
  }
 ],
 "metadata": {
  "kernelspec": {
   "display_name": "Python 3",
   "language": "python",
   "name": "python3"
  },
  "language_info": {
   "codemirror_mode": {
    "name": "ipython",
    "version": 3
   },
   "file_extension": ".py",
   "mimetype": "text/x-python",
   "name": "python",
   "nbconvert_exporter": "python",
   "pygments_lexer": "ipython3",
   "version": "3.6.5"
  },
  "toc": {
   "colors": {
    "hover_highlight": "#DAA520",
    "navigate_num": "#000000",
    "navigate_text": "#333333",
    "running_highlight": "#FF0000",
    "selected_highlight": "#FFD700",
    "sidebar_border": "#EEEEEE",
    "wrapper_background": "#FFFFFF"
   },
   "moveMenuLeft": true,
   "nav_menu": {
    "height": "12px",
    "width": "252px"
   },
   "navigate_menu": true,
   "number_sections": true,
   "sideBar": true,
   "threshold": "2",
   "toc_cell": true,
   "toc_section_display": "block",
   "toc_window_display": true,
   "widenNotebook": false
  },
  "varInspector": {
   "cols": {
    "lenName": 16,
    "lenType": 16,
    "lenVar": 40
   },
   "kernels_config": {
    "python": {
     "delete_cmd_postfix": "",
     "delete_cmd_prefix": "del ",
     "library": "var_list.py",
     "varRefreshCmd": "print(var_dic_list())"
    },
    "r": {
     "delete_cmd_postfix": ") ",
     "delete_cmd_prefix": "rm(",
     "library": "var_list.r",
     "varRefreshCmd": "cat(var_dic_list()) "
    }
   },
   "types_to_exclude": [
    "module",
    "function",
    "builtin_function_or_method",
    "instance",
    "_Feature"
   ],
   "window_display": false
  }
 },
 "nbformat": 4,
 "nbformat_minor": 2
}
