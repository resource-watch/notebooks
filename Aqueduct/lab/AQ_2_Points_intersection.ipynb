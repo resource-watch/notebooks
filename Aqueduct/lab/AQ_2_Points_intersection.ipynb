{
 "cells": [
  {
   "cell_type": "code",
   "execution_count": 1,
   "metadata": {
    "ExecuteTime": {
     "end_time": "2017-03-28T10:12:17.698794",
     "start_time": "2017-03-28T10:12:17.689545"
    },
    "collapsed": true
   },
   "outputs": [],
   "source": [
    "import pandas as pd\n",
    "import json\n",
    "import requests\n",
    "import numpy as np"
   ]
  },
  {
   "cell_type": "markdown",
   "metadata": {},
   "source": [
    "# Points intersecction"
   ]
  },
  {
   "cell_type": "markdown",
   "metadata": {},
   "source": [
    "Procedure definition:\n",
    "\n",
    "\n",
    "```sql\n",
    "\n",
    "DROP FUNCTION get_aqpoints(weights_raw TEXT, points_array TEXT); \n",
    "\n",
    "DROP TYPE weight_intersection;\n",
    "\n",
    "CREATE TYPE weight_intersection AS (points_id numeric, basinid numeric, the_geom geometry, water_risk numeric, water_stress numeric, interannual_variability numeric, seasonal_variability numeric, flood_occurrence numeric, drought_severity numeric, upstream_storage numeric, groundwater_stress numeric, return_flow_ratio numeric, upstream_protected_land numeric, media_coverage numeric, access_to_water numeric, threatened_amphibians numeric);\n",
    "\n",
    "CREATE OR REPLACE FUNCTION get_aqpoints(weights_raw TEXT, points_array TEXT) \n",
    "\tRETURNS SETOF weight_intersection as $$\n",
    "\tDECLARE\n",
    "    query1 TEXT;\n",
    "    weights TEXT;\n",
    "    weights_sum TEXT;\n",
    "\tBEGIN\n",
    "        query1:='select array_to_string(array_agg(col::text ||''*''|| weights::text), ''+ '') as weights, sum(weights)::text as weights_sum from (select unnest(Array'|| weights_raw||') as weights, unnest(array[''bws_s'', ''wsv_s'', ''sv_s'', ''hfo_s'', ''dro_s'', ''stor_s'', ''gw_s'', ''wri_s'', ''eco_s_s'', ''mc_s'', ''wcg_s'', ''eco_v_s'']) as col) as tables where weights is not null';\n",
    "        \n",
    "        EXECUTE query1 into weights, weights_sum;\n",
    "        \n",
    "\t\tRETURN query EXECUTE 'with points as (SELECT st_setsrid(st_geomfromtext(points),4326) as the_geom, row_number() over () as points_id FROM unnest(Array'|| points_array ||') as points), ranges as (select basinid, average, min(average) over (), max(average) over (), bws_s, wsv_s, sv_s, hfo_s, dro_s, stor_s, gw_s, wri_s, eco_s_s, mc_s, wcg_s, eco_v_s from (SELECT basinid, ('|| weights ||')/('|| weights_sum ||') as average, bws_s, wsv_s, sv_s, hfo_s, dro_s, stor_s, gw_s, wri_s, eco_s_s, mc_s, wcg_s, eco_v_s FROM water_risk_weights) initial) select points_id::numeric, ranges.basinid::numeric, points.the_geom, (((average-min)/(max-min))*5)::numeric as water_risk, bws_s::numeric as baseline_water_stress, wsv_s::numeric as interannual_variability, sv_s::numeric as seasonal_variability, hfo_s::numeric as flood_occurrence, dro_s::numeric as drought_severity, stor_s::numeric as upstream_storage, gw_s::numeric as groundwater_stress, wri_s::numeric as return_flow_ratio, eco_s_s::numeric as upstream_protected_land, mc_s::numeric as media_coverage, wcg_s::numeric as access_to_water, eco_v_s::numeric as threatened_amphibians from ranges inner join wri_subcatchements on ranges.basinid=wri_subcatchements.basinid right join points on  st_intersects(wri_subcatchements.the_geom, points.the_geom)';\n",
    "\t\n",
    "\tEND\n",
    "$$ language 'plpgsql';\n",
    "\n",
    "```\n",
    "\n"
   ]
  },
  {
   "cell_type": "markdown",
   "metadata": {},
   "source": [
    "Sql Example:\n",
    "\n",
    "```sql\n",
    "Select * from get_aqpoints('[4, 1, 0.5, 1, 1, 2, 2, 1, 0.5, 1, 2, 0.5]','[''POINT(84.8085584935 -14.20067639)'', ''POINT(54.0392656274 -70.8898132233)'', ''POINT(-28.5832686897 -7.71134965117)'', ''POINT(47.9458596199 82.5599787066)'', ''POINT(50.8126903314 -46.0154993389)'', ''POINT(-62.5229253542 -9.68983337791)'', ''POINT(-34.7977234627 84.9984574252)'', ''POINT(-80.1102876685 -33.9286081419)'', ''POINT(22.6686500117 -85.6713992254)'', ''POINT(44.359802466 -27.7294728889)'']')\n",
    "```\n",
    "\n",
    "\n",
    "\n",
    "Sql Template:\n",
    "\n",
    "``` sql\n",
    "Select * from get_aqpoints({weights_scheeme},{points array})\n",
    "\n",
    "```\n",
    "\n",
    "\n",
    "\n"
   ]
  },
  {
   "cell_type": "code",
   "execution_count": 3,
   "metadata": {
    "ExecuteTime": {
     "end_time": "2017-03-29T10:01:04.674829",
     "start_time": "2017-03-29T10:01:04.004822"
    }
   },
   "outputs": [
    {
     "data": {
      "text/html": [
       "<div>\n",
       "<table border=\"1\" class=\"dataframe\">\n",
       "  <thead>\n",
       "    <tr style=\"text-align: right;\">\n",
       "      <th></th>\n",
       "      <th>access_to_water</th>\n",
       "      <th>basinid</th>\n",
       "      <th>drought_severity</th>\n",
       "      <th>flood_occurrence</th>\n",
       "      <th>groundwater_stress</th>\n",
       "      <th>interannual_variability</th>\n",
       "      <th>media_coverage</th>\n",
       "      <th>points_id</th>\n",
       "      <th>return_flow_ratio</th>\n",
       "      <th>seasonal_variability</th>\n",
       "      <th>the_geom</th>\n",
       "      <th>threatened_amphibians</th>\n",
       "      <th>upstream_protected_land</th>\n",
       "      <th>upstream_storage</th>\n",
       "      <th>water_risk</th>\n",
       "      <th>water_stress</th>\n",
       "    </tr>\n",
       "  </thead>\n",
       "  <tbody>\n",
       "  </tbody>\n",
       "</table>\n",
       "</div>"
      ],
      "text/plain": [
       "Empty DataFrame\n",
       "Columns: [access_to_water, basinid, drought_severity, flood_occurrence, groundwater_stress, interannual_variability, media_coverage, points_id, return_flow_ratio, seasonal_variability, the_geom, threatened_amphibians, upstream_protected_land, upstream_storage, water_risk, water_stress]\n",
       "Index: []"
      ]
     },
     "execution_count": 3,
     "metadata": {},
     "output_type": "execute_result"
    }
   ],
   "source": [
    "payload = {'q': \"Select * from get_aqpoints('[4, 1, 0.5, 1, 1, 2, 2, 1, 0.5, 1, 2, 0.5]','[''POINT(84.8085584935 -14.20067639)'', ''POINT(54.0392656274 -70.8898132233)'', ''POINT(-28.5832686897 -7.71134965117)'', ''POINT(47.9458596199 82.5599787066)'', ''POINT(50.8126903314 -46.0154993389)'', ''POINT(-62.5229253542 -9.68983337791)'', ''POINT(-34.7977234627 84.9984574252)'', ''POINT(-80.1102876685 -33.9286081419)'', ''POINT(22.6686500117 -85.6713992254)'', ''POINT(44.359802466 -27.7294728889)'']')\"}\n",
    "r = requests.get('https://wri-01.carto.com/api/v2/sql', params=payload)\n",
    "tableStructure= pd.read_json(json.dumps(r.json()['rows']), orient='records')\n",
    "tableStructure.head(0)"
   ]
  },
  {
   "cell_type": "markdown",
   "metadata": {},
   "source": [
    "# Anexo: Points stress test"
   ]
  },
  {
   "cell_type": "markdown",
   "metadata": {},
   "source": [
    "test points; 100; 500; 1000; 100000;"
   ]
  },
  {
   "cell_type": "code",
   "execution_count": 4,
   "metadata": {
    "ExecuteTime": {
     "end_time": "2017-03-29T10:06:28.144027",
     "start_time": "2017-03-29T10:06:27.341342"
    },
    "collapsed": true
   },
   "outputs": [],
   "source": [
    "t = 180 * np.random.rand(1000000,2) - 90"
   ]
  },
  {
   "cell_type": "markdown",
   "metadata": {},
   "source": [
    "'POINT(-72.0 42.2)'"
   ]
  },
  {
   "cell_type": "code",
   "execution_count": 5,
   "metadata": {
    "ExecuteTime": {
     "end_time": "2017-03-29T10:06:39.474865",
     "start_time": "2017-03-29T10:06:33.081646"
    },
    "collapsed": true
   },
   "outputs": [],
   "source": [
    "example1=[]\n",
    "for point in t:\n",
    "    example1.append('\\'\\'POINT(' +str(point[0])+ ' ' + str(point[1]) +')\\'\\'')"
   ]
  },
  {
   "cell_type": "code",
   "execution_count": 6,
   "metadata": {
    "ExecuteTime": {
     "end_time": "2017-03-29T10:10:49.386536",
     "start_time": "2017-03-29T10:10:49.362773"
    }
   },
   "outputs": [
    {
     "name": "stdout",
     "output_type": "stream",
     "text": [
      "[''POINT(43.9701276111 11.1301394129)'', ''POINT(86.0466406701 13.2688619157)'', ''POINT(-53.8696343831 64.6113269282)'', ''POINT(87.4130123196 -23.032929918)'', ''POINT(57.2656143129 -88.2644839221)'', ''POINT(74.5658970947 -7.62928716917)'', ''POINT(3.51858671798 -12.3788819738)'', ''POINT(-18.5802293632 41.4033717967)'', ''POINT(16.2846733241 55.3067910163)'', ''POINT(78.6515080867 -49.5037394613)'']\n",
      "406\n",
      "4075\n",
      "40809\n",
      "407990\n"
     ]
    }
   ],
   "source": [
    "t10 = '['+', '.join(example1[:10])+']'\n",
    "t100 = '['+', '.join(example1[:100])+']'\n",
    "t1000 = '['+', '.join(example1[:1000])+']'\n",
    "t10000 = '['+', '.join(example1[:10000])+']'\n",
    "print(t10)\n",
    "print(len(t10))\n",
    "print(len(t100))\n",
    "print(len(t1000))\n",
    "print(len(t10000))"
   ]
  },
  {
   "cell_type": "code",
   "execution_count": 8,
   "metadata": {
    "ExecuteTime": {
     "end_time": "2017-03-29T10:11:37.605866",
     "start_time": "2017-03-29T10:11:36.923622"
    }
   },
   "outputs": [
    {
     "data": {
      "text/html": [
       "<div>\n",
       "<table border=\"1\" class=\"dataframe\">\n",
       "  <thead>\n",
       "    <tr style=\"text-align: right;\">\n",
       "      <th></th>\n",
       "      <th>access_to_water</th>\n",
       "      <th>basinid</th>\n",
       "      <th>drought_severity</th>\n",
       "      <th>flood_occurrence</th>\n",
       "      <th>groundwater_stress</th>\n",
       "      <th>interannual_variability</th>\n",
       "      <th>media_coverage</th>\n",
       "      <th>points_id</th>\n",
       "      <th>return_flow_ratio</th>\n",
       "      <th>seasonal_variability</th>\n",
       "      <th>the_geom</th>\n",
       "      <th>threatened_amphibians</th>\n",
       "      <th>upstream_protected_land</th>\n",
       "      <th>upstream_storage</th>\n",
       "      <th>water_risk</th>\n",
       "      <th>water_stress</th>\n",
       "    </tr>\n",
       "  </thead>\n",
       "  <tbody>\n",
       "    <tr>\n",
       "      <th>0</th>\n",
       "      <td>NaN</td>\n",
       "      <td>NaN</td>\n",
       "      <td>NaN</td>\n",
       "      <td>NaN</td>\n",
       "      <td>NaN</td>\n",
       "      <td>NaN</td>\n",
       "      <td>NaN</td>\n",
       "      <td>1</td>\n",
       "      <td>NaN</td>\n",
       "      <td>NaN</td>\n",
       "      <td>0101000020E6100000804F3D242DFC4540FCA614A2A142...</td>\n",
       "      <td>NaN</td>\n",
       "      <td>NaN</td>\n",
       "      <td>NaN</td>\n",
       "      <td>NaN</td>\n",
       "      <td>NaN</td>\n",
       "    </tr>\n",
       "    <tr>\n",
       "      <th>1</th>\n",
       "      <td>NaN</td>\n",
       "      <td>NaN</td>\n",
       "      <td>NaN</td>\n",
       "      <td>NaN</td>\n",
       "      <td>NaN</td>\n",
       "      <td>NaN</td>\n",
       "      <td>NaN</td>\n",
       "      <td>2</td>\n",
       "      <td>NaN</td>\n",
       "      <td>NaN</td>\n",
       "      <td>0101000020E61000008E2F2629FC8255409024DE44A889...</td>\n",
       "      <td>NaN</td>\n",
       "      <td>NaN</td>\n",
       "      <td>NaN</td>\n",
       "      <td>NaN</td>\n",
       "      <td>NaN</td>\n",
       "    </tr>\n",
       "  </tbody>\n",
       "</table>\n",
       "</div>"
      ],
      "text/plain": [
       "   access_to_water  basinid  drought_severity  flood_occurrence  \\\n",
       "0              NaN      NaN               NaN               NaN   \n",
       "1              NaN      NaN               NaN               NaN   \n",
       "\n",
       "   groundwater_stress  interannual_variability  media_coverage  points_id  \\\n",
       "0                 NaN                      NaN             NaN          1   \n",
       "1                 NaN                      NaN             NaN          2   \n",
       "\n",
       "   return_flow_ratio  seasonal_variability  \\\n",
       "0                NaN                   NaN   \n",
       "1                NaN                   NaN   \n",
       "\n",
       "                                            the_geom  threatened_amphibians  \\\n",
       "0  0101000020E6100000804F3D242DFC4540FCA614A2A142...                    NaN   \n",
       "1  0101000020E61000008E2F2629FC8255409024DE44A889...                    NaN   \n",
       "\n",
       "   upstream_protected_land  upstream_storage  water_risk  water_stress  \n",
       "0                      NaN               NaN         NaN           NaN  \n",
       "1                      NaN               NaN         NaN           NaN  "
      ]
     },
     "execution_count": 8,
     "metadata": {},
     "output_type": "execute_result"
    }
   ],
   "source": [
    "payload = {'q': \"\"}\n",
    "payload['q']=\"Select * from get_aqpoints('[4, 1, 0.5, 1, 1, 2, 2, 1, 0.5, 1, 2, 0.5]',\\'\"+ t10 +\"\\')\"\n",
    "\n",
    "r = requests.get('https://wri-01.carto.com/api/v2/sql', params=payload)\n",
    "tableStructure= pd.read_json(json.dumps(r.json()['rows']), orient='records')\n",
    "tableStructure.head(2)"
   ]
  },
  {
   "cell_type": "code",
   "execution_count": 63,
   "metadata": {
    "ExecuteTime": {
     "end_time": "2017-03-29T10:12:43.090983",
     "start_time": "2017-03-29T10:12:42.185335"
    }
   },
   "outputs": [
    {
     "name": "stdout",
     "output_type": "stream",
     "text": [
      "<Response [200]>\n"
     ]
    },
    {
     "data": {
      "text/html": [
       "<div>\n",
       "<table border=\"1\" class=\"dataframe\">\n",
       "  <thead>\n",
       "    <tr style=\"text-align: right;\">\n",
       "      <th></th>\n",
       "      <th>access_to_water</th>\n",
       "      <th>basinid</th>\n",
       "      <th>drought_severity</th>\n",
       "      <th>flood_occurrence</th>\n",
       "      <th>groundwater_stress</th>\n",
       "      <th>interannual_variability</th>\n",
       "      <th>media_coverage</th>\n",
       "      <th>points_id</th>\n",
       "      <th>return_flow_ratio</th>\n",
       "      <th>seasonal_variability</th>\n",
       "      <th>the_geom</th>\n",
       "      <th>threatened_amphibians</th>\n",
       "      <th>upstream_protected_land</th>\n",
       "      <th>upstream_storage</th>\n",
       "      <th>water_risk</th>\n",
       "      <th>water_stress</th>\n",
       "    </tr>\n",
       "  </thead>\n",
       "  <tbody>\n",
       "  </tbody>\n",
       "</table>\n",
       "</div>"
      ],
      "text/plain": [
       "Empty DataFrame\n",
       "Columns: [access_to_water, basinid, drought_severity, flood_occurrence, groundwater_stress, interannual_variability, media_coverage, points_id, return_flow_ratio, seasonal_variability, the_geom, threatened_amphibians, upstream_protected_land, upstream_storage, water_risk, water_stress]\n",
       "Index: []"
      ]
     },
     "execution_count": 63,
     "metadata": {},
     "output_type": "execute_result"
    }
   ],
   "source": [
    "payload = {'q': \"\"}\n",
    "payload['q']=\"Select * from get_aqpoints('[4, 1, 0.5, 1, 1, 2, 2, 1, 0.5, 1, 2, 0.5]',\\'\"+ t100 +\"\\')\"\n",
    "r = requests.get('https://wri-01.carto.com/api/v2/sql', params=payload)\n",
    "\n",
    "tableStructure= pd.read_json(json.dumps(r.json()['rows']), orient='records')\n",
    "tableStructure.head(0)"
   ]
  },
  {
   "cell_type": "code",
   "execution_count": 5,
   "metadata": {
    "ExecuteTime": {
     "end_time": "2017-03-29T10:23:52.203811",
     "start_time": "2017-03-29T10:23:35.903470"
    }
   },
   "outputs": [
    {
     "name": "stdout",
     "output_type": "stream",
     "text": [
      "{'error': ['parse error - invalid geometry'], 'hint': '\"Point(72.421875, \" <-- parse error at position 17 within geometry'}\n"
     ]
    }
   ],
   "source": [
    "payload = {'q': \"\"}\n",
    "payload['q']=\"Select * from get_aqpoints('[1, 1, 1, 1, 1, 1, 1, 1, 1, 1, 1, 1]','[''Point(72.421875, 56.559482)'', ''Point(18.6328125, 10.8333059)'', ''Point(-109.6875, 42.03297)'']')\"\n",
    "r = requests.post('https://wri-01.carto.com/api/v2/sql', data=payload)\n",
    "if r.status_code != 200:\n",
    "    issue = json.loads(r.text)\n",
    "    print(issue)\n",
    "else:\n",
    "    tableStructure= pd.read_json(json.dumps(r.json()['rows']), orient='records')\n",
    "    tableStructure.head(10)\n",
    "        \n",
    "\n"
   ]
  },
  {
   "cell_type": "markdown",
   "metadata": {},
   "source": []
  }
 ],
 "metadata": {
  "kernelspec": {
   "display_name": "Python 3",
   "language": "python",
   "name": "python3"
  },
  "language_info": {
   "codemirror_mode": {
    "name": "ipython",
    "version": 3
   },
   "file_extension": ".py",
   "mimetype": "text/x-python",
   "name": "python",
   "nbconvert_exporter": "python",
   "pygments_lexer": "ipython3",
   "version": "3.6.8"
  },
  "latex_envs": {
   "LaTeX_envs_menu_present": true,
   "autocomplete": true,
   "bibliofile": "biblio.bib",
   "cite_by": "apalike",
   "current_citInitial": 1,
   "eqLabelWithNumbers": true,
   "eqNumInitial": 1,
   "hotkeys": {
    "equation": "Ctrl-E",
    "itemize": "Ctrl-I"
   },
   "labels_anchors": false,
   "latex_user_defs": false,
   "report_style_numbering": false,
   "user_envs_cfg": false
  },
  "varInspector": {
   "cols": {
    "lenName": 16,
    "lenType": 16,
    "lenVar": 40
   },
   "kernels_config": {
    "python": {
     "delete_cmd_postfix": "",
     "delete_cmd_prefix": "del ",
     "library": "var_list.py",
     "varRefreshCmd": "print(var_dic_list())"
    },
    "r": {
     "delete_cmd_postfix": ") ",
     "delete_cmd_prefix": "rm(",
     "library": "var_list.r",
     "varRefreshCmd": "cat(var_dic_list()) "
    }
   },
   "types_to_exclude": [
    "module",
    "function",
    "builtin_function_or_method",
    "instance",
    "_Feature"
   ],
   "window_display": false
  }
 },
 "nbformat": 4,
 "nbformat_minor": 2
}
