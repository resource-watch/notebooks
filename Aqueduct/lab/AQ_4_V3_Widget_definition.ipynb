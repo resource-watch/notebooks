{
 "cells": [
  {
   "cell_type": "markdown",
   "metadata": {},
   "source": [
    "# Aqueduct Country and Province Rankings\n",
    "## Widget definition\n",
    "\n",
    "Check this [doc](https://onewri-my.sharepoint.com/:w:/g/personal/rutger_hofste_wri_org/EWbmrDU6VHdEg_o85iiaI5QB-2pdtpaVLEv_xwEQ2cs9nQ?rtime=Tt0B_9Po1kg) for a description\n",
    "\n",
    "**Weighting used:**\n",
    "\n",
    "|Indicator | total gross withdrawal  | domestic gross withdrawal  | industrial gross withdrawal  | irrigation gross withdrawal | livestock gross withdrawal | Population | \n",
    "|:---|:---|:---|:---|:---|:---|:---|\n",
    "| Baseline Water Stress | 1 | 1 | 1 | 1 | 1 | - | \n",
    "| Drought Risk          | 1 | 1 | 1 | 1 | 1 | - | \n",
    "| Riverine Flood Risk   | - | - | - | - | - | 1 | \n",
    "\n",
    "**Parametrization:**\n",
    "\n",
    "|Indicator | indicator_name  | \n",
    "|:---|:---|\n",
    "| Baseline Water Stress | bws |\n",
    "| Drought Risk          | drr |\n",
    "| Riverine Flood Risk   | rfr |\n",
    "\n",
    "\n",
    "|Weight | weight_name  | \n",
    "|:---|:---|\n",
    "| Total gross withdrawal      | Tot |\n",
    "| Domestic gross withdrawal   | Dom |\n",
    "| Industrial gross withdrawal | Ind |\n",
    "| Irrigation gross withdrawal | Irr |\n",
    "| Livestock gross withdrawal  | Liv |\n",
    "| Population                  | Pop |"
   ]
  },
  {
   "cell_type": "markdown",
   "metadata": {},
   "source": [
    "## Country ranking widget\n",
    "\n",
    "* **Account:** wri-rw\n",
    "* **Table Name:** aqueduct_results_v01_country_v03\n",
    "* **Dataset_id:** [fd4b4ba5-a16a-45a4-bc6b-954397e37bda](https://staging-api.globalforestwatch.org/v1/dataset/fd4b4ba5-a16a-45a4-bc6b-954397e37bda)\n",
    "* **Widget_id:** [e6e5d286-212b-48d8-b5f4-1678cded82bc](https://staging-api.globalforestwatch.org/v1/widget/e6e5d286-212b-48d8-b5f4-1678cded82bc)\n",
    "\n",
    "`Sql Template:`\n",
    "```sql\n",
    "SELECT gid_0 as iso, name_0 as country, indicator_name, weight, score, score_ranked\n",
    "FROM aqueduct_results_v01_country_v06\n",
    "WHERE indicator_name = {{indicator}} and weight in ('Tot', 'Irr', 'Dom', 'Ind', 'Pop') and score != -9999\n",
    "ORDER BY score_ranked\n",
    "```\n",
    "\n",
    "`params_config:`\n",
    "```json\n",
    "\"params_config\": [\n",
    "    {\n",
    "        \"required\": true,\n",
    "        \"key\": \"indicator\"\n",
    "    }\n",
    "],\n",
    "```"
   ]
  },
  {
   "cell_type": "markdown",
   "metadata": {},
   "source": [
    "## Province ranking layer\n",
    "\n",
    "* **Account:** wri-rw\n",
    "* **Table Name:** aqueduct_results_v01_province_v03\n",
    "* **Dataset_id:** [e0adfbfb-441d-4ec5-9e4c-7d051d0f7b22](https://staging-api.globalforestwatch.org/v1/dataset/e0adfbfb-441d-4ec5-9e4c-7d051d0f7b22)\n",
    "* **Widget_id:** [4b3d6e89-869c-45b6-88e3-28735d2b60fe](https://staging-api.globalforestwatch.org/v1/widget/4b3d6e89-869c-45b6-88e3-28735d2b60fe)\n",
    "\n",
    "`Sql Template:`\n",
    "```sql\n",
    "SELECT gid_0 as iso, name_0 as country, name_1 as province, indicator_name, weight, score, score_ranked \n",
    "FROM aqueduct_results_v01_province_v06\n",
    "WHERE indicator_name = {{indicator}} and gid_0 = {{iso}} and weight in ('Tot', 'Irr', 'Dom', 'Ind', 'Pop') and score != -9999\n",
    "ORDER BY score_ranked \n",
    "```\n",
    "\n",
    "`params_config:`\n",
    "```json\n",
    "\"params_config\": [\n",
    "    {\n",
    "        \"required\": true,\n",
    "        \"key\": \"indicator\"\n",
    "    },\n",
    "    {\n",
    "        \"required\": true,\n",
    "        \"key\": \"iso\"\n",
    "    }\n",
    "],\n",
    "```"
   ]
  },
  {
   "cell_type": "code",
   "execution_count": null,
   "metadata": {},
   "outputs": [],
   "source": []
  }
 ],
 "metadata": {
  "kernelspec": {
   "display_name": "Python 3",
   "language": "python",
   "name": "python3"
  },
  "language_info": {
   "codemirror_mode": {
    "name": "ipython",
    "version": 3
   },
   "file_extension": ".py",
   "mimetype": "text/x-python",
   "name": "python",
   "nbconvert_exporter": "python",
   "pygments_lexer": "ipython3",
   "version": "3.6.8"
  },
  "latex_envs": {
   "LaTeX_envs_menu_present": true,
   "autocomplete": true,
   "bibliofile": "biblio.bib",
   "cite_by": "apalike",
   "current_citInitial": 1,
   "eqLabelWithNumbers": true,
   "eqNumInitial": 1,
   "hotkeys": {
    "equation": "Ctrl-E",
    "itemize": "Ctrl-I"
   },
   "labels_anchors": false,
   "latex_user_defs": false,
   "report_style_numbering": false,
   "user_envs_cfg": false
  },
  "toc": {
   "colors": {
    "hover_highlight": "#DAA520",
    "navigate_num": "#000000",
    "navigate_text": "#333333",
    "running_highlight": "#FF0000",
    "selected_highlight": "#FFD700",
    "sidebar_border": "#EEEEEE",
    "wrapper_background": "#FFFFFF"
   },
   "moveMenuLeft": true,
   "nav_menu": {
    "height": "99px",
    "width": "252px"
   },
   "navigate_menu": true,
   "number_sections": true,
   "sideBar": true,
   "threshold": "2",
   "toc_cell": true,
   "toc_section_display": "block",
   "toc_window_display": true,
   "widenNotebook": false
  },
  "varInspector": {
   "cols": {
    "lenName": 16,
    "lenType": 16,
    "lenVar": 40
   },
   "kernels_config": {
    "python": {
     "delete_cmd_postfix": "",
     "delete_cmd_prefix": "del ",
     "library": "var_list.py",
     "varRefreshCmd": "print(var_dic_list())"
    },
    "r": {
     "delete_cmd_postfix": ") ",
     "delete_cmd_prefix": "rm(",
     "library": "var_list.r",
     "varRefreshCmd": "cat(var_dic_list()) "
    }
   },
   "types_to_exclude": [
    "module",
    "function",
    "builtin_function_or_method",
    "instance",
    "_Feature"
   ],
   "window_display": false
  }
 },
 "nbformat": 4,
 "nbformat_minor": 2
}
