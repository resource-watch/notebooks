{
 "cells": [
  {
   "cell_type": "markdown",
   "metadata": {
    "toc": "true"
   },
   "source": [
    "# Table of Contents\n",
    " <p><div class=\"lev1 toc-item\"><a href=\"#Aqueduct-data-3.0\" data-toc-modified-id=\"Aqueduct-data-3.0-1\"><span class=\"toc-item-num\">1&nbsp;&nbsp;</span>Aqueduct data 3.0</a></div><div class=\"lev2 toc-item\"><a href=\"#Data-status\" data-toc-modified-id=\"Data-status-11\"><span class=\"toc-item-num\">1.1&nbsp;&nbsp;</span><a href=\"https://docs.google.com/spreadsheets/d/1U7He0q8KBcOuZBNO_65XuUo_1TxCYVGYiuylESOoIPk/edit\" target=\"_blank\">Data status</a></a></div><div class=\"lev2 toc-item\"><a href=\"#Data-exploration:\" data-toc-modified-id=\"Data-exploration:-12\"><span class=\"toc-item-num\">1.2&nbsp;&nbsp;</span>Data exploration:</a></div><div class=\"lev2 toc-item\"><a href=\"#Zonal-statistics,-generate-subasin-level-stats\" data-toc-modified-id=\"Zonal-statistics,-generate-subasin-level-stats-13\"><span class=\"toc-item-num\">1.3&nbsp;&nbsp;</span>Zonal statistics, generate subasin level stats</a></div><div class=\"lev2 toc-item\"><a href=\"#Baseline-Water-stress-reconfiguration\" data-toc-modified-id=\"Baseline-Water-stress-reconfiguration-14\"><span class=\"toc-item-num\">1.4&nbsp;&nbsp;</span>Baseline Water stress reconfiguration</a></div><div class=\"lev2 toc-item\"><a href=\"#GroundWater\" data-toc-modified-id=\"GroundWater-15\"><span class=\"toc-item-num\">1.5&nbsp;&nbsp;</span>GroundWater</a></div><div class=\"lev2 toc-item\"><a href=\"#Arid-and-low-water-use-basins\" data-toc-modified-id=\"Arid-and-low-water-use-basins-16\"><span class=\"toc-item-num\">1.6&nbsp;&nbsp;</span>Arid and low water use basins</a></div><div class=\"lev2 toc-item\"><a href=\"#Merge-indicators-tables-into-one-big-table\" data-toc-modified-id=\"Merge-indicators-tables-into-one-big-table-17\"><span class=\"toc-item-num\">1.7&nbsp;&nbsp;</span>Merge indicators tables into one big table</a></div><div class=\"lev2 toc-item\"><a href=\"#Categorization-computation\" data-toc-modified-id=\"Categorization-computation-18\"><span class=\"toc-item-num\">1.8&nbsp;&nbsp;</span>Categorization computation</a></div><div class=\"lev2 toc-item\"><a href=\"#Raster-reclassification\" data-toc-modified-id=\"Raster-reclassification-19\"><span class=\"toc-item-num\">1.9&nbsp;&nbsp;</span>Raster reclassification</a></div><div class=\"lev2 toc-item\"><a href=\"#Rankings\" data-toc-modified-id=\"Rankings-110\"><span class=\"toc-item-num\">1.10&nbsp;&nbsp;</span>Rankings</a></div><div class=\"lev2 toc-item\"><a href=\"#Data-Migration-from-wri-01-account-to-wri-rw\" data-toc-modified-id=\"Data-Migration-from-wri-01-account-to-wri-rw-111\"><span class=\"toc-item-num\">1.11&nbsp;&nbsp;</span>Data Migration from wri-01 account to wri-rw</a></div>"
   ]
  },
  {
   "cell_type": "markdown",
   "metadata": {},
   "source": [
    "# Aqueduct data 3.0"
   ]
  },
  {
   "cell_type": "markdown",
   "metadata": {},
   "source": [
    "Todo List: \n",
    "- [X] Explore data \n",
    "- [X] Zonal statisticts at basin level for the raster datasets\n",
    "- [X] Convert everything to our current format\n",
    "- [X] Add categorization and export table as csv\n",
    "- [X] Rasters visual reclasification 0-5 \n",
    "- [x] Arid - low water use classification\n",
    "- [X] Ground water\n",
    "- [X] Migrate data to RW cartoData account.\n",
    "\n",
    "\n",
    "Maybe rework to obtain 2 tables one for the platform and the other one with the data?\n",
    "    - "
   ]
  },
  {
   "cell_type": "code",
   "execution_count": 31,
   "metadata": {
    "ExecuteTime": {
     "end_time": "2017-06-05T10:54:33.473401Z",
     "start_time": "2017-06-05T10:54:33.441375Z"
    },
    "collapsed": true
   },
   "outputs": [],
   "source": [
    "\n",
    "%matplotlib inline\n",
    "import __future__\n",
    "from IPython.display import display, Markdown\n",
    "import matplotlib.pyplot as plt\n",
    "from matplotlib.pyplot import cm\n",
    "import pandas as pd\n",
    "import numpy\n",
    "import geopandas as gpd\n",
    "import rasterio\n",
    "import fiona\n",
    "from rasterio.mask import mask\n",
    "from rasterio.plot import show\n",
    "from rasterstats import zonal_stats\n",
    "from math import log, ceil, floor\n",
    "import os"
   ]
  },
  {
   "cell_type": "code",
   "execution_count": 32,
   "metadata": {
    "collapsed": true
   },
   "outputs": [],
   "source": [
    "base_path=os.getcwd().split('/work')[0]\n",
    "data_path='/work/data/aqueduct/data_source/aqueduct/v3/toAlicia/calculatedWS03.csv'"
   ]
  },
  {
   "cell_type": "markdown",
   "metadata": {},
   "source": [
    "## [Data status](https://docs.google.com/spreadsheets/d/1U7He0q8KBcOuZBNO_65XuUo_1TxCYVGYiuylESOoIPk/edit)"
   ]
  },
  {
   "cell_type": "markdown",
   "metadata": {},
   "source": [
    "<img  src=\"HL5Y510A14UMVLTW6EINVGT83ATDHN25.png\"/>"
   ]
  },
  {
   "cell_type": "markdown",
   "metadata": {},
   "source": [
    "## Data exploration:"
   ]
  },
  {
   "cell_type": "markdown",
   "metadata": {},
   "source": [
    "##### Datasets:\n",
    "\n",
    "Dataset list currently available\n",
    "###### Tables:\n",
    "\n",
    "* baseline water stress monthly and yearly [dimensionless]\n",
    "    * calculatedWS03.csv: Contains the next data attached to it\n",
    "* Ground water stress [dimensionless m^3/m^3 or m/m]\n",
    "    * aquifer_table_sorted.txt: Contains:\n",
    "* Groundwater table Declining Trend [cm/year]\n",
    "    * aquifer_table_sorted.txt: Contains  \n",
    "\n",
    "###### rasters:\n",
    "\n",
    "* drought severity [dimensionless]:\n",
    "    * global_droughtseveritystandardisedsoilmoisture_5min_1960-2014.tif\n",
    "    * global_droughtseveritystandardisedstreamflow_5min_1960-2014.tif\n",
    "* Interannual variability [dimensionless]: \n",
    "    * global_interannualvariabilitywatersupply_5min_1960-2014.tif\n",
    "* Seasonal variability [dimensionless]: \n",
    "    * global_q1seasonalvariabilitywatersupply_5min_1960-2014.tif\n",
    "    * global_q2seasonalvariabilitywatersupply_5min_1960-2014.tif\n",
    "    * global_q3seasonalvariabilitywatersupply_5min_1960-2014.tif\n",
    "    * global_q4seasonalvariabilitywatersupply_5min_1960-2014.tif  \n",
    "    \n",
    "###### Geometries:\n",
    "* **hybas_merged_custom_level6_V01.shp**: contains the geometries of HYDRO BASIN level 6.\n",
    "* **unionADM01Hybas6V02WHYMAPV05.shp**: Merge between aquifers, admin levels 0,1 and HYDRO BASIN level 6.\n"
   ]
  },
  {
   "cell_type": "markdown",
   "metadata": {},
   "source": [
    "### Baseline water stress, Yearly and monthly"
   ]
  },
  {
   "cell_type": "code",
   "execution_count": 44,
   "metadata": {
    "collapsed": true,
    "scrolled": true
   },
   "outputs": [],
   "source": [
    "inData = pd.read_csv(base_path+data_path)"
   ]
  },
  {
   "cell_type": "code",
   "execution_count": null,
   "metadata": {
    "collapsed": true,
    "scrolled": true
   },
   "outputs": [],
   "source": [
    "print(inData.shape)\n",
    "display(inData.head(2))"
   ]
  },
  {
   "cell_type": "code",
   "execution_count": null,
   "metadata": {
    "collapsed": true,
    "scrolled": true
   },
   "outputs": [],
   "source": [
    "print(inData.columns.values)"
   ]
  },
  {
   "cell_type": "markdown",
   "metadata": {},
   "source": [
    "* Columns to be keept for the data visualization and to be transform into indicators table:   "
   ]
  },
  {
   "cell_type": "code",
   "execution_count": 33,
   "metadata": {
    "scrolled": true
   },
   "outputs": [
    {
     "data": {
      "text/plain": [
       "['PFAF_ID',\n",
       " 'ws_yearY2014',\n",
       " 'ws_monthY2014M01',\n",
       " 'ws_monthY2014M02',\n",
       " 'ws_monthY2014M03',\n",
       " 'ws_monthY2014M04',\n",
       " 'ws_monthY2014M05',\n",
       " 'ws_monthY2014M06',\n",
       " 'ws_monthY2014M07',\n",
       " 'ws_monthY2014M08',\n",
       " 'ws_monthY2014M09',\n",
       " 'ws_monthY2014M10',\n",
       " 'ws_monthY2014M11',\n",
       " 'ws_monthY2014M12']"
      ]
     },
     "execution_count": 33,
     "metadata": {},
     "output_type": "execute_result"
    }
   ],
   "source": [
    "column_list = ['PFAF_ID','ws_yearY2014']\n",
    "for month in list(range(1,13)):\n",
    "    column_list.append(\"ws_monthY2014M%02d\" % (month))\n",
    "column_list"
   ]
  },
  {
   "cell_type": "markdown",
   "metadata": {},
   "source": [
    "* Columns to use as a Arid and low water use"
   ]
  },
  {
   "cell_type": "code",
   "execution_count": 34,
   "metadata": {},
   "outputs": [
    {
     "data": {
      "text/plain": [
       "['PFAF_ID',\n",
       " 'local_sum_volumem3_TotWW_yearY2014',\n",
       " 'local_sum_volumem3_Runoff_yearY2014',\n",
       " 'upstream_sum_volumem3runoff_annua',\n",
       " 'upstream_sum_volumem3_TotWN_yearY2014',\n",
       " 'meanarea30sm2',\n",
       " 'countarea30sm2']"
      ]
     },
     "execution_count": 34,
     "metadata": {},
     "output_type": "execute_result"
    }
   ],
   "source": [
    "col_list = ['PFAF_ID','local_sum_volumem3_TotWW_yearY2014','local_sum_volumem3_Runoff_yearY2014', 'upstream_sum_volumem3runoff_annua','upstream_sum_volumem3_TotWN_yearY2014', 'meanarea30sm2', 'countarea30sm2']\n",
    "col_list"
   ]
  },
  {
   "cell_type": "markdown",
   "metadata": {},
   "source": [
    "### Ground water stress"
   ]
  },
  {
   "cell_type": "code",
   "execution_count": 35,
   "metadata": {},
   "outputs": [
    {
     "data": {
      "text/html": [
       "<div>\n",
       "<style>\n",
       "    .dataframe thead tr:only-child th {\n",
       "        text-align: right;\n",
       "    }\n",
       "\n",
       "    .dataframe thead th {\n",
       "        text-align: left;\n",
       "    }\n",
       "\n",
       "    .dataframe tbody tr th {\n",
       "        vertical-align: top;\n",
       "    }\n",
       "</style>\n",
       "<table border=\"1\" class=\"dataframe\">\n",
       "  <thead>\n",
       "    <tr style=\"text-align: right;\">\n",
       "      <th></th>\n",
       "      <th>AqID_spatial_unit</th>\n",
       "      <th>groundwater_stress</th>\n",
       "      <th>slope_of_decline_cm.year-1</th>\n",
       "      <th>p_value</th>\n",
       "      <th>r_squared</th>\n",
       "    </tr>\n",
       "  </thead>\n",
       "  <tbody>\n",
       "    <tr>\n",
       "      <th>0</th>\n",
       "      <td>0</td>\n",
       "      <td>-9999.0</td>\n",
       "      <td>-9999.0</td>\n",
       "      <td>-9999.0</td>\n",
       "      <td>-9999.0</td>\n",
       "    </tr>\n",
       "    <tr>\n",
       "      <th>1</th>\n",
       "      <td>1</td>\n",
       "      <td>-9999.0</td>\n",
       "      <td>-9999.0</td>\n",
       "      <td>-9999.0</td>\n",
       "      <td>-9999.0</td>\n",
       "    </tr>\n",
       "    <tr>\n",
       "      <th>2</th>\n",
       "      <td>2</td>\n",
       "      <td>-9999.0</td>\n",
       "      <td>-9999.0</td>\n",
       "      <td>-9999.0</td>\n",
       "      <td>-9999.0</td>\n",
       "    </tr>\n",
       "    <tr>\n",
       "      <th>3</th>\n",
       "      <td>3</td>\n",
       "      <td>-9999.0</td>\n",
       "      <td>-9999.0</td>\n",
       "      <td>-9999.0</td>\n",
       "      <td>-9999.0</td>\n",
       "    </tr>\n",
       "    <tr>\n",
       "      <th>4</th>\n",
       "      <td>5</td>\n",
       "      <td>-9999.0</td>\n",
       "      <td>-9999.0</td>\n",
       "      <td>-9999.0</td>\n",
       "      <td>-9999.0</td>\n",
       "    </tr>\n",
       "  </tbody>\n",
       "</table>\n",
       "</div>"
      ],
      "text/plain": [
       "   AqID_spatial_unit  groundwater_stress  slope_of_decline_cm.year-1  p_value  \\\n",
       "0                  0             -9999.0                     -9999.0  -9999.0   \n",
       "1                  1             -9999.0                     -9999.0  -9999.0   \n",
       "2                  2             -9999.0                     -9999.0  -9999.0   \n",
       "3                  3             -9999.0                     -9999.0  -9999.0   \n",
       "4                  5             -9999.0                     -9999.0  -9999.0   \n",
       "\n",
       "   r_squared  \n",
       "0    -9999.0  \n",
       "1    -9999.0  \n",
       "2    -9999.0  \n",
       "3    -9999.0  \n",
       "4    -9999.0  "
      ]
     },
     "metadata": {},
     "output_type": "display_data"
    }
   ],
   "source": [
    "groundData = pd.read_csv(base_path+'/work/data/aqueduct/data_source/aqueduct/v3/toAlicia/ground_water/aquifer_table_sorted.txt',sep=';')\n",
    "\n",
    "display(groundData.head())\n",
    "\n",
    "grwcolumns=['AqID_spatial_unit','groundwater_stress','slope_of_decline_cm.year-1']"
   ]
  },
  {
   "cell_type": "markdown",
   "metadata": {},
   "source": [
    "### Geometries"
   ]
  },
  {
   "cell_type": "markdown",
   "metadata": {},
   "source": [
    "#### Basins intersected with aquifers and two administrative levels\n",
    "only for visual purpouses in the platform"
   ]
  },
  {
   "cell_type": "code",
   "execution_count": null,
   "metadata": {
    "collapsed": true
   },
   "outputs": [],
   "source": [
    "geoVisualData = gpd.read_file(base_path+'/work/data/aqueduct/data_source/aqueduct/v3/toAlicia/shape/unionADM01Hybas6V02WHYMAPV05.shp')\n",
    "\n",
    "display(geoVisualData.head(2))"
   ]
  },
  {
   "cell_type": "markdown",
   "metadata": {},
   "source": [
    "#### Basins geometries"
   ]
  },
  {
   "cell_type": "code",
   "execution_count": 36,
   "metadata": {},
   "outputs": [
    {
     "data": {
      "text/html": [
       "<div>\n",
       "<style>\n",
       "    .dataframe thead tr:only-child th {\n",
       "        text-align: right;\n",
       "    }\n",
       "\n",
       "    .dataframe thead th {\n",
       "        text-align: left;\n",
       "    }\n",
       "\n",
       "    .dataframe tbody tr th {\n",
       "        vertical-align: top;\n",
       "    }\n",
       "</style>\n",
       "<table border=\"1\" class=\"dataframe\">\n",
       "  <thead>\n",
       "    <tr style=\"text-align: right;\">\n",
       "      <th></th>\n",
       "      <th>COAST</th>\n",
       "      <th>DIST_MAIN</th>\n",
       "      <th>DIST_SINK</th>\n",
       "      <th>ENDO</th>\n",
       "      <th>HYBAS_ID</th>\n",
       "      <th>HYBAS_IDIn</th>\n",
       "      <th>MAIN_BAS</th>\n",
       "      <th>NEXT_DOWN</th>\n",
       "      <th>NEXT_DOWNI</th>\n",
       "      <th>NEXT_SINK</th>\n",
       "      <th>ORDER_</th>\n",
       "      <th>PFAF_ID</th>\n",
       "      <th>SORT</th>\n",
       "      <th>SUB_AREA</th>\n",
       "      <th>UP_AREA</th>\n",
       "      <th>geometry</th>\n",
       "    </tr>\n",
       "  </thead>\n",
       "  <tbody>\n",
       "    <tr>\n",
       "      <th>0</th>\n",
       "      <td>1</td>\n",
       "      <td>0.0</td>\n",
       "      <td>0.0</td>\n",
       "      <td>0</td>\n",
       "      <td>1.060000e+09</td>\n",
       "      <td>1.060000e+09</td>\n",
       "      <td>1.060000e+09</td>\n",
       "      <td>0.0</td>\n",
       "      <td>0.0</td>\n",
       "      <td>1.060000e+09</td>\n",
       "      <td>0</td>\n",
       "      <td>111011</td>\n",
       "      <td>1.0</td>\n",
       "      <td>1890.8</td>\n",
       "      <td>1890.8</td>\n",
       "      <td>POLYGON ((32.36666666666668 29.6791666666667, ...</td>\n",
       "    </tr>\n",
       "    <tr>\n",
       "      <th>1</th>\n",
       "      <td>0</td>\n",
       "      <td>0.0</td>\n",
       "      <td>0.0</td>\n",
       "      <td>0</td>\n",
       "      <td>1.060000e+09</td>\n",
       "      <td>1.060000e+09</td>\n",
       "      <td>1.060000e+09</td>\n",
       "      <td>0.0</td>\n",
       "      <td>0.0</td>\n",
       "      <td>1.060000e+09</td>\n",
       "      <td>1</td>\n",
       "      <td>111012</td>\n",
       "      <td>2.0</td>\n",
       "      <td>2925.9</td>\n",
       "      <td>2925.9</td>\n",
       "      <td>POLYGON ((31.73333333333336 29.88333333333337,...</td>\n",
       "    </tr>\n",
       "  </tbody>\n",
       "</table>\n",
       "</div>"
      ],
      "text/plain": [
       "   COAST  DIST_MAIN  DIST_SINK  ENDO      HYBAS_ID    HYBAS_IDIn  \\\n",
       "0      1        0.0        0.0     0  1.060000e+09  1.060000e+09   \n",
       "1      0        0.0        0.0     0  1.060000e+09  1.060000e+09   \n",
       "\n",
       "       MAIN_BAS  NEXT_DOWN  NEXT_DOWNI     NEXT_SINK  ORDER_  PFAF_ID  SORT  \\\n",
       "0  1.060000e+09        0.0         0.0  1.060000e+09       0   111011   1.0   \n",
       "1  1.060000e+09        0.0         0.0  1.060000e+09       1   111012   2.0   \n",
       "\n",
       "   SUB_AREA  UP_AREA                                           geometry  \n",
       "0    1890.8   1890.8  POLYGON ((32.36666666666668 29.6791666666667, ...  \n",
       "1    2925.9   2925.9  POLYGON ((31.73333333333336 29.88333333333337,...  "
      ]
     },
     "metadata": {},
     "output_type": "display_data"
    }
   ],
   "source": [
    "geoInData = gpd.read_file(base_path+'/work/data/aqueduct/data_source/aqueduct/v3/toAlicia/shape/hybas_merged_custom_level6_V01.shp')\n",
    "\n",
    "display(geoInData.head(2))"
   ]
  },
  {
   "cell_type": "code",
   "execution_count": null,
   "metadata": {
    "ExecuteTime": {
     "end_time": "2017-06-05T11:03:23.347745Z",
     "start_time": "2017-06-05T10:54:52.480271Z"
    },
    "collapsed": true,
    "scrolled": true
   },
   "outputs": [],
   "source": [
    "#geoInData.plot()"
   ]
  },
  {
   "cell_type": "code",
   "execution_count": null,
   "metadata": {
    "collapsed": true,
    "scrolled": true
   },
   "outputs": [],
   "source": [
    "for column in geoInData.columns.values:\n",
    "    print(column)"
   ]
  },
  {
   "cell_type": "markdown",
   "metadata": {},
   "source": [
    "Keep all columns; "
   ]
  },
  {
   "cell_type": "markdown",
   "metadata": {},
   "source": [
    "### Pixel level datasets: \n",
    "\n",
    "* drought severity:\n",
    "    * soil moisture\n",
    "    * streamflow\n",
    "* interannual variability:\n",
    "* seasonal variability:\n",
    "    * q1\n",
    "    * q2\n",
    "    * q3\n",
    "    * q4"
   ]
  },
  {
   "cell_type": "markdown",
   "metadata": {},
   "source": [
    "#### Generator"
   ]
  },
  {
   "cell_type": "code",
   "execution_count": 38,
   "metadata": {
    "collapsed": true,
    "scrolled": false
   },
   "outputs": [],
   "source": [
    "\"\"\"\n",
    "Tiff config object:\n",
    "[\n",
    "{'dataset': , 'indicator': , \n",
    "'period': , 'period_value': , \n",
    "'year': 2014, \n",
    "'data_type': 'absolute', \n",
    "'scenario': 'historic'}\n",
    "]\n",
    "\"\"\"\n",
    "baseLocation = base_path+'/work/data/aqueduct/data_source/aqueduct/v3/pixelIndicatorsAlicia/' \n",
    "\n",
    "tifss= [{'dataset': \"global_droughtseveritystandardisedsoilmoisture_5min_1960-2014.tif\", 'indicator': 'drought_severity_soil', 'period': 'year', 'period_value': None, 'year': 2014, 'data_type': 'absolute', 'scenario': 'historic'},\n",
    "        {'dataset': \"global_droughtseveritystandardisedstreamflow_5min_1960-2014.tif\", 'indicator': 'drought_severity_flow', 'period': 'year', 'period_value': None, 'year': 2014, 'data_type': 'absolute', 'scenario': 'historic'},\n",
    "        {'dataset': \"global_interannualvariabilitywatersupply_5min_1960-2014.tif\", 'indicator': 'interannual_variability', 'period': 'year', 'period_value': None, 'year': 2014, 'data_type': 'absolute', 'scenario': 'historic'},\n",
    "        {'dataset': \"global_q1seasonalvariabilitywatersupply_5min_1960-2014.tif\", 'indicator': 'seasonal_variability', 'period': 'quarter', 'period_value': 1, 'year': 2014, 'data_type': 'absolute', 'scenario': 'historic'},\n",
    "        {'dataset': \"global_q2seasonalvariabilitywatersupply_5min_1960-2014.tif\", 'indicator': 'seasonal_variability', 'period': 'quarter', 'period_value': 2, 'year': 2014, 'data_type': 'absolute', 'scenario': 'historic'},\n",
    "        {'dataset': \"global_q3seasonalvariabilitywatersupply_5min_1960-2014.tif\", 'indicator': 'seasonal_variability', 'period': 'quarter', 'period_value': 3, 'year': 2014, 'data_type': 'absolute', 'scenario': 'historic'},\n",
    "        {'dataset': \"global_q4seasonalvariabilitywatersupply_5min_1960-2014.tif\", 'indicator': 'seasonal_variability', 'period': 'quarter', 'period_value': 4, 'year': 2014, 'data_type': 'absolute', 'scenario': 'historic'}\n",
    "] \n",
    "\n",
    "#tifss= [{'dataset': \"global_interannualvariabilitywatersupply_5min_1960-2014.tif\", 'indicator': 'interannual_variability', 'period': 'year', 'period_value': None, 'year': 2014, 'data_type': 'absolute', 'scenario': 'historic'},\n",
    " #       ] "
   ]
  },
  {
   "cell_type": "code",
   "execution_count": null,
   "metadata": {
    "collapsed": true,
    "scrolled": false
   },
   "outputs": [],
   "source": [
    "n = 1\n",
    "for image in tifss:\n",
    "    with rasterio.open(baseLocation+image['dataset']) as tif:\n",
    "        display(Markdown('### '+image['dataset'].split('.')[0]))\n",
    "        print(tif.profile)\n",
    "        rasterData=tif.read(1, masked=True)\n",
    "        print(rasterData)\n",
    "        profile = tif.profile\n",
    "        f1 = plt.figure(n)\n",
    "        plt.imshow(rasterData[:,:],  cmap='pink')\n",
    "        f1.show()\n",
    "        f2= plt.figure(n+1)\n",
    "        plt.hist(rasterData.compressed().ravel(),bins=[0,0.1,0.2,0.3,0.4,0.5,0.6,0.7,0.8,0.9,1,1.5,2])\n",
    "        f2.show()\n",
    "    n=n+2\n",
    "    \n",
    "    "
   ]
  },
  {
   "cell_type": "markdown",
   "metadata": {},
   "source": [
    "## Zonal statistics, generate subasin level stats"
   ]
  },
  {
   "cell_type": "markdown",
   "metadata": {},
   "source": [
    "What's are the stats? The mean  \n"
   ]
  },
  {
   "cell_type": "code",
   "execution_count": 39,
   "metadata": {
    "collapsed": true
   },
   "outputs": [],
   "source": [
    "def zonal_statistics(baseLocation, geomDatasets, cfgTif):\n",
    "    \"\"\"\n",
    "    This function generates the zonal statistics (mean) between the rasters and the basins.\n",
    "    \"\"\"\n",
    "    dataset=[]\n",
    "    with rasterio.open(baseLocation + cfgTif['dataset']) as tif:\n",
    "        rasterData=tif.read(1)\n",
    "        profile = tif.profile\n",
    "    for index, row in geoInData.iterrows():\n",
    "        mean = zonal_stats(row['geometry'], rasterData, stats=['mean'], band=1, all_touched=True,raster_out=False, affine=profile['transform'], nodata=profile['nodata'])\n",
    "        dataset.append({'indicator': cfgTif['indicator'], \n",
    "                        'value': mean[0]['mean'], \n",
    "                        'basinid':row['PFAF_ID'],\n",
    "                        'aqid':None,\n",
    "                        'period': cfgTif['period'], \n",
    "                        'period_value': cfgTif['period_value'], \n",
    "                        'year': cfgTif['year'], \n",
    "                        'data_type': cfgTif['data_type'], \n",
    "                        'scenario': cfgTif['scenario']\n",
    "                       })\n",
    "    return pd.DataFrame(dataset, columns=dataset[0].keys())\n",
    "\n",
    "\n"
   ]
  },
  {
   "cell_type": "markdown",
   "metadata": {},
   "source": [
    "## Baseline Water stress reconfiguration"
   ]
  },
  {
   "cell_type": "code",
   "execution_count": 40,
   "metadata": {
    "collapsed": true
   },
   "outputs": [],
   "source": [
    "def unpivot(frame):\n",
    "    \"\"\"\n",
    "    This function unpivot water indicators selected (converts columns into rows in an ordered way).\n",
    "    \"\"\"\n",
    "    mapK={\n",
    "        'ws':'water_stess'\n",
    "    }\n",
    "    N, K = frame.shape\n",
    "    indicator = [mapK[i.split('_')[0]] for  i in frame.columns]\n",
    "    period = [i.split('_')[1].split('Y')[0] for  i in frame.columns]\n",
    "    period_value = [int(i.split('_')[1].split('Y')[1].split('M')[1]) if len(i.split('_')[1].split('Y')[1].split('M')) > 1 else None for  i in frame.columns]\n",
    "    year= [int(i.split('_')[1].split('Y')[1].split('M')[0]) for  i in frame.columns]\n",
    "\n",
    "    \n",
    "    data = {'value' : frame.values.ravel('F'),\n",
    "            'indicator' : numpy.array(indicator).repeat(N),\n",
    "            'aqid': None,\n",
    "            'basinid' : numpy.tile(numpy.asarray(frame.index), K),\n",
    "            'period': numpy.array(period).repeat(N),\n",
    "            'period_value': numpy.asarray(period_value).repeat(N),\n",
    "            'year': numpy.array(year).repeat(N),\n",
    "            'data_type': 'absolute',\n",
    "            'scenario': 'historic'\n",
    "           }\n",
    "    return pd.DataFrame(data, columns=['basinid','aqid','indicator', 'period','period_value','year','data_type','scenario','value'])\n"
   ]
  },
  {
   "cell_type": "markdown",
   "metadata": {},
   "source": [
    "## GroundWater"
   ]
  },
  {
   "cell_type": "code",
   "execution_count": 41,
   "metadata": {
    "collapsed": true
   },
   "outputs": [],
   "source": [
    "def GroundWaterData(frame):\n",
    "    \"\"\"\n",
    "    This function unpivot Groundwater indicators selected (converts columns into rows in an ordered way).\n",
    "    \"\"\"\n",
    "    mapK={\n",
    "        'groundwater_stress':'groundwater_stress',\n",
    "        'slope_of_decline_cm.year-1':'groundwater_decline_trend'\n",
    "        \n",
    "    }\n",
    "    N, K = frame.shape\n",
    "    indicator = [mapK[i] for  i in frame.columns]\n",
    "    \n",
    "    data = {'value' : frame.values.ravel('F'),\n",
    "            'indicator' : numpy.array(indicator).repeat(N),\n",
    "            'aqid': numpy.tile(numpy.asarray(frame.index), K),\n",
    "            'basinid' : None,\n",
    "            'period': 'year',\n",
    "            'period_value': None,\n",
    "            'year': 2014,\n",
    "            'data_type': 'absolute',\n",
    "            'scenario': 'historic'\n",
    "           }\n",
    "    return pd.DataFrame(data, columns=['basinid', 'aqid','indicator', 'period','period_value','year','data_type','scenario','value'])\n"
   ]
  },
  {
   "cell_type": "markdown",
   "metadata": {},
   "source": [
    "## Arid and low water use basins"
   ]
  },
  {
   "cell_type": "markdown",
   "metadata": {},
   "source": [
    "Calculous information provided in the [following notebook](http://nbviewer.jupyter.org/gist/rutgerhofste/f38debeea3bd6106b7acdc2c77ecf69e).  \n",
    "\n",
    "\n",
    "* Arid : Available Blue Water** : $$ A\\color{blue}BWater  <0.03 m/(m^2*year)$$  \n",
    "* Low water use:  $$waterWithdrawal(WW) < 0.012 m/(m^2*year) $$\n",
    "\n",
    "*A basin needs to satisfy both (AND) conditions to be masked as Arid AND low water use.*  \n",
    "\\*\\* **Available blue water calculation:** $$ A\\color{blue}BWater = upstreamRunoff – upstreamConsumption(WN) + localRunoff $$\n",
    " "
   ]
  },
  {
   "cell_type": "code",
   "execution_count": 42,
   "metadata": {
    "collapsed": true
   },
   "outputs": [],
   "source": [
    "def Blue_water(x):\n",
    "    '''\n",
    "    Will generate Available blue water column \n",
    "    '''  \n",
    "    return (x['upstream_sum_volumem3runoff_annua']-x['upstream_sum_volumem3_TotWN_yearY2014']+x['local_sum_volumem3_Runoff_yearY2014'])/x['area_m2']\n",
    "\n",
    "def arLoWa(x):\n",
    "    '''\n",
    "    Will generate a boolean column that will indicate if that geometry is arid or not \n",
    "    '''  \n",
    "    if (x['local_sum_volumem3_TotWW_yearY2014']/x['area_m2'])<0.012 and x['ABWater']<0.03:\n",
    "        return True\n",
    "    else:\n",
    "        return False\n",
    "\n",
    "def arid(dataframe):\n",
    "    '''\n",
    "    Will return f dataframe with ['PFAF_ID', 'is_AridLoW'] columns\n",
    "    '''\n",
    "    dataframe['area_m2']= dataframe['meanarea30sm2']*dataframe['countarea30sm2']\n",
    "    dataframe['ABWater']=dataframe.apply(Blue_water, axis=1)\n",
    "    dataframe['is_AridLoW']=dataframe.apply(arLoWa, axis=1)\n",
    "    \n",
    "    return dataframe[['PFAF_ID','ABWater', 'is_AridLoW']] "
   ]
  },
  {
   "cell_type": "code",
   "execution_count": 45,
   "metadata": {},
   "outputs": [
    {
     "name": "stderr",
     "output_type": "stream",
     "text": [
      "/Users/alicia/miniconda3/lib/python3.6/site-packages/ipykernel_launcher.py:20: SettingWithCopyWarning: \n",
      "A value is trying to be set on a copy of a slice from a DataFrame.\n",
      "Try using .loc[row_indexer,col_indexer] = value instead\n",
      "\n",
      "See the caveats in the documentation: http://pandas.pydata.org/pandas-docs/stable/indexing.html#indexing-view-versus-copy\n",
      "/Users/alicia/miniconda3/lib/python3.6/site-packages/ipykernel_launcher.py:21: SettingWithCopyWarning: \n",
      "A value is trying to be set on a copy of a slice from a DataFrame.\n",
      "Try using .loc[row_indexer,col_indexer] = value instead\n",
      "\n",
      "See the caveats in the documentation: http://pandas.pydata.org/pandas-docs/stable/indexing.html#indexing-view-versus-copy\n",
      "/Users/alicia/miniconda3/lib/python3.6/site-packages/ipykernel_launcher.py:22: SettingWithCopyWarning: \n",
      "A value is trying to be set on a copy of a slice from a DataFrame.\n",
      "Try using .loc[row_indexer,col_indexer] = value instead\n",
      "\n",
      "See the caveats in the documentation: http://pandas.pydata.org/pandas-docs/stable/indexing.html#indexing-view-versus-copy\n"
     ]
    },
    {
     "data": {
      "text/html": [
       "<div>\n",
       "<style>\n",
       "    .dataframe thead tr:only-child th {\n",
       "        text-align: right;\n",
       "    }\n",
       "\n",
       "    .dataframe thead th {\n",
       "        text-align: left;\n",
       "    }\n",
       "\n",
       "    .dataframe tbody tr th {\n",
       "        vertical-align: top;\n",
       "    }\n",
       "</style>\n",
       "<table border=\"1\" class=\"dataframe\">\n",
       "  <thead>\n",
       "    <tr style=\"text-align: right;\">\n",
       "      <th></th>\n",
       "      <th>PFAF_ID</th>\n",
       "      <th>ABWater</th>\n",
       "      <th>is_AridLoW</th>\n",
       "    </tr>\n",
       "  </thead>\n",
       "  <tbody>\n",
       "    <tr>\n",
       "      <th>16392</th>\n",
       "      <td>312042</td>\n",
       "      <td>0.081694</td>\n",
       "      <td>False</td>\n",
       "    </tr>\n",
       "    <tr>\n",
       "      <th>16393</th>\n",
       "      <td>312016</td>\n",
       "      <td>0.076486</td>\n",
       "      <td>False</td>\n",
       "    </tr>\n",
       "    <tr>\n",
       "      <th>16394</th>\n",
       "      <td>312804</td>\n",
       "      <td>0.012636</td>\n",
       "      <td>True</td>\n",
       "    </tr>\n",
       "    <tr>\n",
       "      <th>16395</th>\n",
       "      <td>322660</td>\n",
       "      <td>0.052839</td>\n",
       "      <td>False</td>\n",
       "    </tr>\n",
       "    <tr>\n",
       "      <th>16396</th>\n",
       "      <td>312670</td>\n",
       "      <td>0.103450</td>\n",
       "      <td>False</td>\n",
       "    </tr>\n",
       "  </tbody>\n",
       "</table>\n",
       "</div>"
      ],
      "text/plain": [
       "       PFAF_ID   ABWater  is_AridLoW\n",
       "16392   312042  0.081694       False\n",
       "16393   312016  0.076486       False\n",
       "16394   312804  0.012636        True\n",
       "16395   322660  0.052839       False\n",
       "16396   312670  0.103450       False"
      ]
     },
     "metadata": {},
     "output_type": "display_data"
    },
    {
     "data": {
      "text/plain": [
       "is_AridLoW\n",
       "False    13383\n",
       "True      3014\n",
       "Name: is_AridLoW, dtype: int64"
      ]
     },
     "metadata": {},
     "output_type": "display_data"
    }
   ],
   "source": [
    "wv_arid = arid(inData[col_list])\n",
    "display(wv_arid.tail(5))\n",
    "display(wv_arid.groupby('is_AridLoW')['is_AridLoW'].count())\n",
    "arid_list=wv_arid.loc[wv_arid['is_AridLoW']==True]['PFAF_ID'].values"
   ]
  },
  {
   "cell_type": "markdown",
   "metadata": {},
   "source": [
    "### Negative Available Blue water\n",
    "in the dat from Utrecht University it is possible to have negative local runoff values, leading to a negative available blue water value. These areas are water stressed and should have a categroy 5. This will affect 278 basins that have negative water, 486 basins with 0 water availabel and hence 764 basins in total (<=0)"
   ]
  },
  {
   "cell_type": "code",
   "execution_count": 46,
   "metadata": {
    "collapsed": true
   },
   "outputs": [],
   "source": [
    "stresed_list=[]\n",
    "\n",
    "stresed_list = wv_arid.loc[wv_arid['ABWater']<= 0]['PFAF_ID'].values\n",
    "\n"
   ]
  },
  {
   "cell_type": "markdown",
   "metadata": {},
   "source": [
    "## Merge indicators tables into one big table"
   ]
  },
  {
   "cell_type": "code",
   "execution_count": 47,
   "metadata": {
    "scrolled": true
   },
   "outputs": [
    {
     "name": "stdout",
     "output_type": "stream",
     "text": [
      "(334510, 9)\n"
     ]
    }
   ],
   "source": [
    "outData=[]\n",
    "for dataset in tifss:\n",
    "    outData.append(zonal_statistics(baseLocation, geoInData, dataset))\n",
    "outData.append(unpivot(inData[column_list].set_index(['PFAF_ID'])))\n",
    "outData.append(GroundWaterData(groundData[grwcolumns].set_index(['AqID_spatial_unit'])))\n",
    "f = pd.concat(outData)\n",
    "print(f.shape)"
   ]
  },
  {
   "cell_type": "markdown",
   "metadata": {},
   "source": [
    "## Categorization computation "
   ]
  },
  {
   "cell_type": "markdown",
   "metadata": {},
   "source": [
    "[Threshold functions](https://github.com/rutgerhofste/Aqueduct30Docker/tree/master/notebooks/thresholds)\n",
    "\n",
    "\n",
    "\n",
    "* **Baseline water stress:** $$f(x) = \\frac{{LN(x)-LN(0.1)}}{LN(2) } + 1$$\n",
    "    - 0.1 represents minimum interest value  \n",
    "    - 2 represent the maximum interest value  \n",
    "    ##### Arid & low water use:\n",
    "\n",
    "    * Arid : Available Blue Water** : $$ A\\color{blue}BWater  <0.03 m/(m^2*year)$$  \n",
    "    * Low water use:  $$waterWithdrawal(WW) < 0.012 m/(m^2*year) $$\n",
    "\n",
    "    *A basin needs to satisfy both (AND) conditions to be masked as Arid AND low water use.*  \n",
    "    \\*\\* **Available blue water calculation:** $$ A\\color{blue}BWater = upstreamRunoff – upstreamConsumption(WN) + localRunoff $$\n",
    " \n",
    "* **Drought severity:** $$f(x) = 5\\frac{{x-min}}{max-min} + 1$$\n",
    "* **Interannual variability:** $$f(x) = 5\\frac{{x-min}}{max-min} + 1$$\n",
    "* **Seasonal variability:** $$f(x) = 5\\frac{{x-min}}{max-min} + 1$$\n",
    "\n",
    "* **Groundwater stress:** $$f(x)=\\begin{cases}null & x = -9999\\\\ 1 & -9999>x< 1\\\\2 & 1>x< 5\\\\3 & 5 >x < 10\\\\4 & 10>x\\leq20\\\\5 & x\\geq20\\end{cases}$$\n",
    "* **Groundwater Declining Trend:** $$f(x)=\\begin{cases}null & x = -9998\\\\ 1 & x< 0\\\\2 & 0>x< 2\\\\3 & 2 >x < 8\\\\4 & x\\geq8\\end{cases}$$\n",
    "\n",
    "*where x is the raw value*\n"
   ]
  },
  {
   "cell_type": "code",
   "execution_count": 48,
   "metadata": {
    "scrolled": false
   },
   "outputs": [
    {
     "data": {
      "text/html": [
       "<div>\n",
       "<style>\n",
       "    .dataframe thead tr:only-child th {\n",
       "        text-align: right;\n",
       "    }\n",
       "\n",
       "    .dataframe thead th {\n",
       "        text-align: left;\n",
       "    }\n",
       "\n",
       "    .dataframe tbody tr th {\n",
       "        vertical-align: top;\n",
       "    }\n",
       "</style>\n",
       "<table border=\"1\" class=\"dataframe\">\n",
       "  <thead>\n",
       "    <tr style=\"text-align: right;\">\n",
       "      <th></th>\n",
       "      <th>aqid</th>\n",
       "      <th>basinid</th>\n",
       "      <th>data_type</th>\n",
       "      <th>indicator</th>\n",
       "      <th>period</th>\n",
       "      <th>period_value</th>\n",
       "      <th>scenario</th>\n",
       "      <th>value</th>\n",
       "      <th>year</th>\n",
       "    </tr>\n",
       "  </thead>\n",
       "  <tbody>\n",
       "    <tr>\n",
       "      <th>0</th>\n",
       "      <td>None</td>\n",
       "      <td>111011</td>\n",
       "      <td>absolute</td>\n",
       "      <td>drought_severity_soil</td>\n",
       "      <td>year</td>\n",
       "      <td>None</td>\n",
       "      <td>historic</td>\n",
       "      <td>0.442394</td>\n",
       "      <td>2014</td>\n",
       "    </tr>\n",
       "    <tr>\n",
       "      <th>1</th>\n",
       "      <td>None</td>\n",
       "      <td>111012</td>\n",
       "      <td>absolute</td>\n",
       "      <td>drought_severity_soil</td>\n",
       "      <td>year</td>\n",
       "      <td>None</td>\n",
       "      <td>historic</td>\n",
       "      <td>0.224826</td>\n",
       "      <td>2014</td>\n",
       "    </tr>\n",
       "    <tr>\n",
       "      <th>2</th>\n",
       "      <td>None</td>\n",
       "      <td>111013</td>\n",
       "      <td>absolute</td>\n",
       "      <td>drought_severity_soil</td>\n",
       "      <td>year</td>\n",
       "      <td>None</td>\n",
       "      <td>historic</td>\n",
       "      <td>0.204518</td>\n",
       "      <td>2014</td>\n",
       "    </tr>\n",
       "    <tr>\n",
       "      <th>3</th>\n",
       "      <td>None</td>\n",
       "      <td>111014</td>\n",
       "      <td>absolute</td>\n",
       "      <td>drought_severity_soil</td>\n",
       "      <td>year</td>\n",
       "      <td>None</td>\n",
       "      <td>historic</td>\n",
       "      <td>0.243267</td>\n",
       "      <td>2014</td>\n",
       "    </tr>\n",
       "    <tr>\n",
       "      <th>4</th>\n",
       "      <td>None</td>\n",
       "      <td>111015</td>\n",
       "      <td>absolute</td>\n",
       "      <td>drought_severity_soil</td>\n",
       "      <td>year</td>\n",
       "      <td>None</td>\n",
       "      <td>historic</td>\n",
       "      <td>0.181155</td>\n",
       "      <td>2014</td>\n",
       "    </tr>\n",
       "    <tr>\n",
       "      <th>5</th>\n",
       "      <td>None</td>\n",
       "      <td>111016</td>\n",
       "      <td>absolute</td>\n",
       "      <td>drought_severity_soil</td>\n",
       "      <td>year</td>\n",
       "      <td>None</td>\n",
       "      <td>historic</td>\n",
       "      <td>0.421237</td>\n",
       "      <td>2014</td>\n",
       "    </tr>\n",
       "    <tr>\n",
       "      <th>6</th>\n",
       "      <td>None</td>\n",
       "      <td>111017</td>\n",
       "      <td>absolute</td>\n",
       "      <td>drought_severity_soil</td>\n",
       "      <td>year</td>\n",
       "      <td>None</td>\n",
       "      <td>historic</td>\n",
       "      <td>0.176668</td>\n",
       "      <td>2014</td>\n",
       "    </tr>\n",
       "    <tr>\n",
       "      <th>7</th>\n",
       "      <td>None</td>\n",
       "      <td>111018</td>\n",
       "      <td>absolute</td>\n",
       "      <td>drought_severity_soil</td>\n",
       "      <td>year</td>\n",
       "      <td>None</td>\n",
       "      <td>historic</td>\n",
       "      <td>0.165748</td>\n",
       "      <td>2014</td>\n",
       "    </tr>\n",
       "  </tbody>\n",
       "</table>\n",
       "</div>"
      ],
      "text/plain": [
       "   aqid basinid data_type              indicator period period_value  \\\n",
       "0  None  111011  absolute  drought_severity_soil   year         None   \n",
       "1  None  111012  absolute  drought_severity_soil   year         None   \n",
       "2  None  111013  absolute  drought_severity_soil   year         None   \n",
       "3  None  111014  absolute  drought_severity_soil   year         None   \n",
       "4  None  111015  absolute  drought_severity_soil   year         None   \n",
       "5  None  111016  absolute  drought_severity_soil   year         None   \n",
       "6  None  111017  absolute  drought_severity_soil   year         None   \n",
       "7  None  111018  absolute  drought_severity_soil   year         None   \n",
       "\n",
       "   scenario     value  year  \n",
       "0  historic  0.442394  2014  \n",
       "1  historic  0.224826  2014  \n",
       "2  historic  0.204518  2014  \n",
       "3  historic  0.243267  2014  \n",
       "4  historic  0.181155  2014  \n",
       "5  historic  0.421237  2014  \n",
       "6  historic  0.176668  2014  \n",
       "7  historic  0.165748  2014  "
      ]
     },
     "execution_count": 48,
     "metadata": {},
     "output_type": "execute_result"
    }
   ],
   "source": [
    "f.head(8)"
   ]
  },
  {
   "cell_type": "code",
   "execution_count": 49,
   "metadata": {
    "collapsed": true,
    "scrolled": false
   },
   "outputs": [],
   "source": [
    "def indicatorStc(frame):\n",
    "    '''\n",
    "    Calculates the basic statistics needed for categorization definition\n",
    "    '''\n",
    "    indicator_stats = {}\n",
    "    fig=plt.figure()\n",
    "    for indicator in frame.indicator.unique():\n",
    "        subsample = frame[frame['indicator'] == indicator]\n",
    "        indicator_stats[indicator]={'min':subsample.value.min(),'max':subsample.value.max()}\n",
    "        print(indicator,': ', indicator_stats[indicator]['min'],', ', indicator_stats[indicator]['max']) \n",
    "    return indicator_stats"
   ]
  },
  {
   "cell_type": "code",
   "execution_count": 66,
   "metadata": {
    "collapsed": true
   },
   "outputs": [],
   "source": [
    "\"\"\"\n",
    "Categorization functions\n",
    "\"\"\"\n",
    "def slope(row):\n",
    "    \"\"\"slope one\"\"\"\n",
    "    return 5*((row['value']-indicator_stats[row['indicator']]['min'])/(indicator_stats[row['indicator']]['max']-indicator_stats[row['indicator']]['min']))+1\n",
    "\n",
    "def ws_cat(row):\n",
    "    \"\"\"baseline water stress\"\"\"\n",
    "\n",
    "    if row['value'] == 0:\n",
    "        return 1\n",
    "    elif row['value'] < 0:\n",
    "        return None\n",
    "    else: \n",
    "        return max(0,min(5,((log(row['value'])-log(0.1))/(log(2)))))\n",
    "\n",
    "def droughtsoil_cat(row):\n",
    "    \"\"\"baseline water stress\"\"\"\n",
    "    if row['value'] < 0:\n",
    "        return 0\n",
    "    elif row['value'] <= 0.1:\n",
    "        return 1\n",
    "    elif row['value'] > 0.1 and row['value']<=0.25:\n",
    "        return 2\n",
    "    elif row['value'] > 0.25 and  row['value'] <=0.5:\n",
    "        return 3\n",
    "    elif row['value'] > 0.5 and row['value']<=0.75:\n",
    "        return 4\n",
    "    elif row['value'] > 0.75:\n",
    "        return 5\n",
    "\n",
    "    \n",
    "def gws_cat(row):\n",
    "    \"\"\"Ground water stress\"\"\"\n",
    "    if row['value'] == -9999:\n",
    "        return None\n",
    "    elif row['value'] < 1 and row['value'] >= 0 :\n",
    "        return 1\n",
    "    elif row['value'] < 5 and row['value'] >= 1 :\n",
    "        return 2\n",
    "    elif row['value'] < 10 and row['value'] >= 5 :\n",
    "        return 3\n",
    "    elif row['value'] < 20 and row['value'] >= 10 :\n",
    "        return 4\n",
    "    elif row['value'] < 9999 and row['value'] >= 20 :\n",
    "        return 5\n",
    "def gwt_cat(row):\n",
    "    \"\"\"Ground water decline trend\"\"\"\n",
    "    if row['value'] == -9999:\n",
    "        return None\n",
    "    elif row['value'] < 0 :\n",
    "        return 1\n",
    "    elif row['value'] < 2 and row['value'] >= 0 :\n",
    "        return 2\n",
    "    elif row['value'] < 5 and row['value'] >= 2 :\n",
    "        return 3\n",
    "    elif row['value'] < 8 and row['value'] >= 5 :\n",
    "        return 4\n",
    "    elif row['value'] >= 8 :\n",
    "        return 5\n",
    "    "
   ]
  },
  {
   "cell_type": "code",
   "execution_count": 67,
   "metadata": {
    "collapsed": true
   },
   "outputs": [],
   "source": [
    "def categorize(row):\n",
    "    '''\n",
    "    Categorize the raw data on 0-5 range\n",
    "    '''\n",
    "    if row['basinid'] in arid_list:\n",
    "        return -1\n",
    "    elif row['basinid'] in stresed_list:\n",
    "        return 5\n",
    "    elif row['indicator']=='groundwater_stress':\n",
    "        return gws_cat(row)\n",
    "    elif row['indicator']=='groundwater_decline_trend':\n",
    "        return gwt_cat(row)\n",
    "    elif row['indicator']=='water_stess':\n",
    "        return ws_cat(row)\n",
    "    elif row['indicator']=='drought_severity_soil':\n",
    "        return droughtsoil_cat(row)\n",
    "    else:\n",
    "        return slope(row)\n",
    "    \n",
    "    "
   ]
  },
  {
   "cell_type": "code",
   "execution_count": 68,
   "metadata": {
    "scrolled": true
   },
   "outputs": [
    {
     "name": "stdout",
     "output_type": "stream",
     "text": [
      "drought_severity_soil :  0.0 ,  5.16510901732\n",
      "drought_severity_flow :  0.0 ,  53.4934771611\n",
      "interannual_variability :  0.0 ,  7.0371393057\n",
      "seasonal_variability :  0.0 ,  11.9822691404\n",
      "water_stess :  -3.67572715908e+25 ,  inf\n",
      "groundwater_stress :  -9999.0 ,  293.02\n",
      "groundwater_decline_trend :  -9999.0 ,  44.0978\n"
     ]
    },
    {
     "data": {
      "text/plain": [
       "<matplotlib.figure.Figure at 0x1b0c4d390>"
      ]
     },
     "metadata": {},
     "output_type": "display_data"
    }
   ],
   "source": [
    "indicator_stats = indicatorStc(f)\n",
    "f['cat'] = f.apply(categorize, axis=1)"
   ]
  },
  {
   "cell_type": "code",
   "execution_count": 53,
   "metadata": {},
   "outputs": [
    {
     "data": {
      "text/html": [
       "<div>\n",
       "<style>\n",
       "    .dataframe thead tr:only-child th {\n",
       "        text-align: right;\n",
       "    }\n",
       "\n",
       "    .dataframe thead th {\n",
       "        text-align: left;\n",
       "    }\n",
       "\n",
       "    .dataframe tbody tr th {\n",
       "        vertical-align: top;\n",
       "    }\n",
       "</style>\n",
       "<table border=\"1\" class=\"dataframe\">\n",
       "  <thead>\n",
       "    <tr style=\"text-align: right;\">\n",
       "      <th></th>\n",
       "      <th>aqid</th>\n",
       "      <th>basinid</th>\n",
       "      <th>data_type</th>\n",
       "      <th>indicator</th>\n",
       "      <th>period</th>\n",
       "      <th>period_value</th>\n",
       "      <th>scenario</th>\n",
       "      <th>value</th>\n",
       "      <th>year</th>\n",
       "      <th>cat</th>\n",
       "    </tr>\n",
       "  </thead>\n",
       "  <tbody>\n",
       "    <tr>\n",
       "      <th>0</th>\n",
       "      <td>None</td>\n",
       "      <td>111011</td>\n",
       "      <td>absolute</td>\n",
       "      <td>drought_severity_soil</td>\n",
       "      <td>year</td>\n",
       "      <td>None</td>\n",
       "      <td>historic</td>\n",
       "      <td>0.442394</td>\n",
       "      <td>2014</td>\n",
       "      <td>3.0</td>\n",
       "    </tr>\n",
       "    <tr>\n",
       "      <th>1</th>\n",
       "      <td>None</td>\n",
       "      <td>111012</td>\n",
       "      <td>absolute</td>\n",
       "      <td>drought_severity_soil</td>\n",
       "      <td>year</td>\n",
       "      <td>None</td>\n",
       "      <td>historic</td>\n",
       "      <td>0.224826</td>\n",
       "      <td>2014</td>\n",
       "      <td>-1.0</td>\n",
       "    </tr>\n",
       "  </tbody>\n",
       "</table>\n",
       "</div>"
      ],
      "text/plain": [
       "   aqid basinid data_type              indicator period period_value  \\\n",
       "0  None  111011  absolute  drought_severity_soil   year         None   \n",
       "1  None  111012  absolute  drought_severity_soil   year         None   \n",
       "\n",
       "   scenario     value  year  cat  \n",
       "0  historic  0.442394  2014  3.0  \n",
       "1  historic  0.224826  2014 -1.0  "
      ]
     },
     "execution_count": 53,
     "metadata": {},
     "output_type": "execute_result"
    }
   ],
   "source": [
    "f.head(2)"
   ]
  },
  {
   "cell_type": "code",
   "execution_count": 69,
   "metadata": {
    "scrolled": true
   },
   "outputs": [
    {
     "name": "stdout",
     "output_type": "stream",
     "text": [
      "drought_severity_soil :  -1.0 ,  5.0\n",
      "drought_severity_flow :  -1.0 ,  5.0\n",
      "interannual_variability :  -1.0 ,  5.70974723561\n",
      "seasonal_variability :  -1.0 ,  5.65672640592\n",
      "water_stess :  -1.0 ,  5.0\n",
      "groundwater_stress :  1.0 ,  5.0\n",
      "groundwater_decline_trend :  1.0 ,  5.0\n"
     ]
    }
   ],
   "source": [
    "for indicator in f.indicator.unique():\n",
    "    subsample = f[f['indicator'] == indicator]\n",
    "    print(indicator,': ', subsample.cat.min(),', ', subsample.cat.max())"
   ]
  },
  {
   "cell_type": "code",
   "execution_count": 70,
   "metadata": {
    "collapsed": true
   },
   "outputs": [],
   "source": [
    "f.to_csv(base_path+'/work/data/aqueduct/dst/aqueduct/v3/water_risk_indicators_v3.csv')"
   ]
  },
  {
   "cell_type": "markdown",
   "metadata": {},
   "source": [
    "## Raster reclassification"
   ]
  },
  {
   "cell_type": "markdown",
   "metadata": {},
   "source": [
    "For those indicators that are going to be shown at pixel level on the visualization we need to agreed on a name convention so we can call them independenly and reclasify them following the same categorization formulas used for the basin level data."
   ]
  },
  {
   "cell_type": "markdown",
   "metadata": {},
   "source": [
    "* **Drought severity:** $$x = 5\\frac{{[rawValue]}}{1} $$\n",
    "* **Interannual variability:** $$x = 5\\frac{{[rawValue]-min}}{max-min} + 1$$\n",
    "* **Seasonal variability:** $$x = 5\\frac{{[rawValue]-min}}{max-min} + 1$$"
   ]
  },
  {
   "cell_type": "code",
   "execution_count": 28,
   "metadata": {
    "collapsed": true
   },
   "outputs": [],
   "source": [
    "def droughtsoil_rcat(x):\n",
    "    \"\"\"baseline water stress\"\"\"\n",
    "    if x < 0:\n",
    "        return 0\n",
    "    elif x <= 0.1:\n",
    "        return 1\n",
    "    elif x > 0.1 and x<=0.25:\n",
    "        return 2\n",
    "    elif x > 0.25 and  x <=0.5:\n",
    "        return 3\n",
    "    elif x > 0.5 and x<=0.75:\n",
    "        return 4\n",
    "    elif x > 0.75:\n",
    "        return 5\n",
    "    \n",
    "def rCat(x):\n",
    "    if data['indicator']=='drought_severity_soil':\n",
    "        if x < 0:\n",
    "            return 0\n",
    "        elif x <= 0.1:\n",
    "            return 1\n",
    "        elif x > 0.1 and x<=0.25:\n",
    "            return 2\n",
    "        elif x > 0.25 and  x <=0.5:\n",
    "            return 3\n",
    "        elif x > 0.5 and x<=0.75:\n",
    "            return 4\n",
    "        elif x > 0.75:\n",
    "            return 5\n",
    "    elif x < 0:\n",
    "        return 0\n",
    "    else:\n",
    "        return floor(5*((x-data['min'])/(data['max']-data['min'])) + 1)\n",
    "\n"
   ]
  },
  {
   "cell_type": "code",
   "execution_count": 29,
   "metadata": {},
   "outputs": [
    {
     "name": "stdout",
     "output_type": "stream",
     "text": [
      "[{'dataset': 'global_interannualvariabilitywatersupply_5min_1960-2014.tif', 'indicator': 'interannual_variability', 'period': 'year', 'period_value': None, 'year': 2014, 'data_type': 'absolute', 'scenario': 'historic', 'min': 0.0, 'max': 7.6268301}]\n"
     ]
    },
    {
     "data": {
      "text/plain": [
       "[{'data_type': 'absolute',\n",
       "  'dataset': 'global_interannualvariabilitywatersupply_5min_1960-2014.tif',\n",
       "  'indicator': 'interannual_variability',\n",
       "  'max': 7.6268301,\n",
       "  'min': 0.0,\n",
       "  'period': 'year',\n",
       "  'period_value': None,\n",
       "  'scenario': 'historic',\n",
       "  'year': 2014}]"
      ]
     },
     "execution_count": 29,
     "metadata": {},
     "output_type": "execute_result"
    }
   ],
   "source": [
    "tifStats = []\n",
    "for data in tifss:\n",
    "    with rasterio.open(baseLocation + data['dataset']) as tif:\n",
    "        dataset = tif.read(1, masked=True)\n",
    "        data['min'] = numpy.amin(dataset)\n",
    "        data['max'] = numpy.amax(dataset)\n",
    "        tifStats.append(data)\n",
    "    \n",
    "print(tifStats)    \n",
    "asdf={x:{'min':[],'max':[]} for x in numpy.unique([x['indicator'] for x in tifss])} \n",
    "\n",
    "for data in tifStats:\n",
    "    asdf[data['indicator']]['min'].append(data['min'])\n",
    "    asdf[data['indicator']]['max'].append(data['max'])\n",
    "asdf\n",
    "tifStats"
   ]
  },
  {
   "cell_type": "code",
   "execution_count": 30,
   "metadata": {
    "scrolled": false
   },
   "outputs": [
    {
     "name": "stdout",
     "output_type": "stream",
     "text": [
      "global_interannualvariabilitywatersupply_5min_1960-2014.tif\n"
     ]
    }
   ],
   "source": [
    "rCat = numpy.vectorize(rCat)\n",
    "for data in tifStats:\n",
    "    with rasterio.open(baseLocation + data['dataset']) as tif:\n",
    "        print(data['dataset'])\n",
    "        dataset = tif.read(1)\n",
    "        f = numpy.vectorize(rCat)\n",
    "        result_dataset = f(dataset)\n",
    "        profile = tif.profile\n",
    "        profile['dtype']=rasterio.uint8\n",
    "        profile['compress']='lzw'\n",
    "        profile['nodata']=0\n",
    "        fileName = '{0}-{1}-{2}-{3}{4}.tif'.format(data['indicator'],data['scenario'],data['period'],str(data['year']),('-'+str(data['period_value'])) if data['period_value']!= None else '')\n",
    "        filedir=base_path + '/work/data/aqueduct/dst/aqueduct/v3/' +  fileName\n",
    "        with rasterio.open(filedir, 'w', **profile) as dst:\n",
    "            dst.write(result_dataset.astype(profile['dtype']), 1)\n"
   ]
  },
  {
   "cell_type": "markdown",
   "metadata": {},
   "source": [
    "## Rankings"
   ]
  },
  {
   "cell_type": "code",
   "execution_count": 16,
   "metadata": {
    "collapsed": true
   },
   "outputs": [],
   "source": [
    "xlsfiles = []\n",
    "for dirpath, subdirs, files in os.walk(base_path+'/work/data/aqueduct/data_source/aqueduct/v3/rankings'):\n",
    "    for x in files:\n",
    "        if x.endswith(\".xls\"):\n",
    "            info = x.split('.')[0].split('-')\n",
    "            xlsfiles.append({\"path\":os.path.join(dirpath, x),\"crop\":info[1], \"indicator\":info[0][:2], \"year\":(2000+int(info[0][2:4])), \"irrigation\":info[2]})"
   ]
  },
  {
   "cell_type": "code",
   "execution_count": 18,
   "metadata": {
    "collapsed": true
   },
   "outputs": [],
   "source": [
    "dict_ind={\"ws\":\"water_stress\",\n",
    "          \"ds\":\"drought_stress\"}\n",
    "dataframes = []\n",
    "for file in xlsfiles:\n",
    "    data = pd.read_excel(file[\"path\"])\n",
    "    data['crop']= file[\"crop\"]\n",
    "    data['year']= file[\"year\"]\n",
    "    data['irrigation']= file[\"irrigation\"]\n",
    "    data['value']= data['AGGR_VALUES']\n",
    "    data['indicator']= dict_ind[file[\"indicator\"]]\n",
    "    dataframes.append(data)\n",
    "d=pd.concat(dataframes)\n",
    "d[['crop','irrigation','year','value','indicator','ISO', 'NAME_ISO', 'POP2000', 'SQKM']].to_csv(base_path+'/work/data/aqueduct/dst/aqueduct/v3/water_risk_rankings_v3.csv')"
   ]
  },
  {
   "cell_type": "markdown",
   "metadata": {
    "heading_collapsed": true
   },
   "source": [
    "## Data Migration from wri-01 account to wri-rw"
   ]
  },
  {
   "cell_type": "markdown",
   "metadata": {
    "hidden": true
   },
   "source": [
    "Carto has an issue with big tables > 1000000 rows tables. In order to ingest\n",
    "### todolist\n",
    "- [x] split crops, and crops_geo table\n",
    "- [x] upload it to carto"
   ]
  },
  {
   "cell_type": "code",
   "execution_count": null,
   "metadata": {
    "collapsed": true,
    "hidden": true
   },
   "outputs": [],
   "source": [
    "import requests\n",
    "import json"
   ]
  },
  {
   "cell_type": "code",
   "execution_count": null,
   "metadata": {
    "collapsed": true,
    "hidden": true,
    "scrolled": false
   },
   "outputs": [],
   "source": [
    "url = 'https://wri-rw.carto.com/api/v1/viz/?tag_name=aqueduct&type=&exclude_shared=false&per_page=1000&tags=aqueduct&types=table'\n",
    "r = requests.get(url)\n",
    "tableStructure= pd.read_json(json.dumps(r.json()['visualizations']), orient='records')\n",
    "tableStructure.head(17)"
   ]
  },
  {
   "cell_type": "code",
   "execution_count": null,
   "metadata": {
    "collapsed": true,
    "hidden": true
   },
   "outputs": [],
   "source": [
    "\"\"\"\n",
    "https://carto.com/docs/carto-engine/import-api/quickstart\n",
    "\"\"\"\n",
    "import_url= \"https://wri-rw.carto.com/api/v1/imports/\"\n",
    "payload = {\n",
    "    \"api_key\":\"\"\n",
    "}\n",
    "def split_table(dataset_url, name):\n",
    "    \"\"\"\n",
    "    this function splits a table in x datasets to make it uploable to a carto account\n",
    "    \"\"\"\n",
    "    size=1000000\n",
    "    dataset_data=[]\n",
    "    format_file = dataset_url.split('.')[1]\n",
    "    geometry_formats=['shp']\n",
    "    nongeo_formats=['csv']\n",
    "    print('---------------------')\n",
    "    if format_file in nongeo_formats:\n",
    "        dataset = pd.read_file(dataset_url)\n",
    "        rows, columns = dataset.shape\n",
    "        ra=list(range(0, rows+1, size))\n",
    "        if (rows%size)>0:\n",
    "            ra.append(rows+1)\n",
    "        print('---------------------')\n",
    "        for i, data in enumerate(ra):\n",
    "            if i<(len(ra)-1):\n",
    "                split_dataset_name = 'split'+'_'+name+'_'+str(i)+'.csv'\n",
    "                full_d_path = base_path+'/work/data/aqueduct/dst/aqueduct/v3/'+split_dataset_name\n",
    "                dataset.iloc[:,ra[i]:ra[i+1]].to_csv(full_d_path)\n",
    "                dataset_data.append({\"part_name\":split_dataset_name,\"path\":full_d_path})\n",
    "        return {\"table_name\":name,\"parts\":dataset_data}\n",
    "    elif format_file in geometry_formats:\n",
    "        dataset = gpd.read_file(dataset_url)\n",
    "        rows, columns = dataset.shape\n",
    "        ra=list(range(0, rows+1, size))\n",
    "        if (rows%size)>0:\n",
    "            ra.append(rows+1)\n",
    "        print('---------------------')\n",
    "        for i, data in enumerate(ra):\n",
    "            if i<(len(ra)-1):\n",
    "                split_dataset_name = 'split'+'_'+name+'_'+str(i)+'.shp'\n",
    "                full_d_path = base_path+'/work/data/aqueduct/dst/aqueduct/v3/'+split_dataset_name\n",
    "                dataset.iloc[:,ra[i]:ra[i+1]].to_file(full_d_path)\n",
    "                dataset_data.append({\"part_name\":split_dataset_name,\"path\":full_d_path})\n",
    "        return {\"table_name\":name,\"parts\":dataset_data}\n",
    "    else:\n",
    "        raise ValueError\n",
    "        print('format not supported')\n",
    "    \n",
    "    \n",
    "    \n",
    "def upload_carto(parts):\n",
    "    \"\"\"\n",
    "    this function will upload a dataset into carto\n",
    "    \"\"\"\n",
    "    dict_response = []\n",
    "    for x in parts:\n",
    "        files = {'file': (x['part_name'], open(x['path'], 'rb'), 'application/zip', {'Expires': '0'})}\n",
    "        r = requests.post(url, params=payload, files=files) \n",
    "        response = { **x, **r.json()}\n",
    "        dict_response.append(response)\n",
    "    return dict_response\n",
    "    \n",
    "    \n",
    "def merge_carto(parts):\n",
    "    \"\"\"\n",
    "    this function will merge datasets into carto\n",
    "    \"\"\"\n",
    "    meta_sql = \"SELECT * INTO job_result FROM ({{query}}) AS job\"\n",
    "    sql=\"select {{columns}} from {{datasets}}\"\n",
    "    union = \"UNION ALL\"\n",
    "\n",
    "def daterwwer(file, name):\n",
    "    d = split_table(file, name)\n",
    "    #t = upload_carto(d['parts'])"
   ]
  },
  {
   "cell_type": "code",
   "execution_count": null,
   "metadata": {
    "collapsed": true,
    "hidden": true,
    "scrolled": true
   },
   "outputs": [],
   "source": [
    "daterwwer(base_path + '/work/data/aqueduct/data_source/spamdata/crops/crops.shp', 'crops')"
   ]
  },
  {
   "cell_type": "code",
   "execution_count": null,
   "metadata": {
    "collapsed": true,
    "hidden": true
   },
   "outputs": [],
   "source": [
    "dataset_url=base_path + '/work/data/aqueduct/data_source/spamdata/crops/crops.shp'\n",
    "\n",
    "dataset = gpd.read_file(dataset_url)"
   ]
  },
  {
   "cell_type": "code",
   "execution_count": null,
   "metadata": {
    "collapsed": true,
    "hidden": true
   },
   "outputs": [],
   "source": [
    "rows, columns = dataset.shape\n",
    "\n",
    "\n",
    "print(rows)"
   ]
  },
  {
   "cell_type": "code",
   "execution_count": null,
   "metadata": {
    "collapsed": true,
    "hidden": true
   },
   "outputs": [],
   "source": [
    "rows, columns = dataset.shape\n",
    "ra=list(range(0, rows+1, size))\n",
    "if (rows%size)>0:\n",
    "    ra.append(rows+1)\n",
    "print('---------------------')\n",
    "for i, data in enumerate(ra):\n",
    "    if i<(len(ra)-1):\n",
    "        split_dataset_name = 'split'+'_crops_'+str(i)+'.shp'\n",
    "        full_d_path = base_path+'/work/data/aqueduct/dst/aqueduct/v3/'+split_dataset_name\n",
    "        dataset.iloc[:,ra[i]:ra[i+1]].to_file(full_d_path)\n",
    "        dataset_data.append({\"part_name\":split_dataset_name,\"path\":full_d_path})"
   ]
  },
  {
   "cell_type": "code",
   "execution_count": null,
   "metadata": {
    "collapsed": true,
    "hidden": true
   },
   "outputs": [],
   "source": [
    "os.getcwd()"
   ]
  },
  {
   "cell_type": "code",
   "execution_count": null,
   "metadata": {
    "collapsed": true,
    "hidden": true
   },
   "outputs": [],
   "source": []
  }
 ],
 "metadata": {
  "kernelspec": {
   "display_name": "Python 3",
   "language": "python",
   "name": "python3"
  },
  "language_info": {
   "codemirror_mode": {
    "name": "ipython",
    "version": 3
   },
   "file_extension": ".py",
   "mimetype": "text/x-python",
   "name": "python",
   "nbconvert_exporter": "python",
   "pygments_lexer": "ipython3",
   "version": "3.6.1"
  },
  "latex_envs": {
   "LaTeX_envs_menu_present": true,
   "autocomplete": true,
   "bibliofile": "biblio.bib",
   "cite_by": "apalike",
   "current_citInitial": 1,
   "eqLabelWithNumbers": true,
   "eqNumInitial": 1,
   "hotkeys": {
    "equation": "Ctrl-E",
    "itemize": "Ctrl-I"
   },
   "labels_anchors": false,
   "latex_user_defs": false,
   "report_style_numbering": false,
   "user_envs_cfg": false
  },
  "toc": {
   "colors": {
    "hover_highlight": "#DAA520",
    "navigate_num": "#000000",
    "navigate_text": "#333333",
    "running_highlight": "#FF0000",
    "selected_highlight": "#FFD700",
    "sidebar_border": "#EEEEEE",
    "wrapper_background": "#FFFFFF"
   },
   "moveMenuLeft": true,
   "nav_menu": {
    "height": "225px",
    "width": "252px"
   },
   "navigate_menu": true,
   "number_sections": true,
   "sideBar": true,
   "threshold": "2",
   "toc_cell": true,
   "toc_position": {
    "height": "848px",
    "left": "0px",
    "right": "1708px",
    "top": "130px",
    "width": "212px"
   },
   "toc_section_display": "block",
   "toc_window_display": true,
   "widenNotebook": false
  },
  "varInspector": {
   "cols": {
    "lenName": 16,
    "lenType": 16,
    "lenVar": 40
   },
   "kernels_config": {
    "python": {
     "delete_cmd_postfix": "",
     "delete_cmd_prefix": "del ",
     "library": "var_list.py",
     "varRefreshCmd": "print(var_dic_list())"
    },
    "r": {
     "delete_cmd_postfix": ") ",
     "delete_cmd_prefix": "rm(",
     "library": "var_list.r",
     "varRefreshCmd": "cat(var_dic_list()) "
    }
   },
   "types_to_exclude": [
    "module",
    "function",
    "builtin_function_or_method",
    "instance",
    "_Feature"
   ],
   "window_display": false
  }
 },
 "nbformat": 4,
 "nbformat_minor": 2
}
