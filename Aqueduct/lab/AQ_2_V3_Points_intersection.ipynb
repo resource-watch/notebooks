{
 "cells": [
  {
   "cell_type": "markdown",
   "metadata": {},
   "source": [
    "# Points intersecction"
   ]
  },
  {
   "cell_type": "code",
   "execution_count": 5,
   "metadata": {
    "ExecuteTime": {
     "end_time": "2017-03-28T10:12:17.698794",
     "start_time": "2017-03-28T10:12:17.689545"
    }
   },
   "outputs": [],
   "source": [
    "import pandas as pd\n",
    "import json\n",
    "import requests\n",
    "import numpy as np"
   ]
  },
  {
   "cell_type": "markdown",
   "metadata": {},
   "source": [
    "## Predifined annual\n",
    "\n",
    "**Group names**\n",
    "\n",
    "|Group full \t               |Group short    |Column name          |\n",
    "|------------------------------|---------------|---------------------|\n",
    "|Overall Water Risk            |TOT            |w_awr_def_tot_label  |\n",
    "|Water Quantity Risk           |QAN            |w_awr_def_qan_label  |\n",
    "|Water Quality Risk            |QAL            |w_awr_def_qal_label  |\n",
    "|Regulatory and Reputational   |RRR            |w_awr_def_rrr_label  |\n",
    "\n",
    "**Indicator names**\n",
    "\n",
    "|Indicator full \t                 |Indicator short    |Column name  |\n",
    "|------------------------------------|-------------------|-------------|\n",
    "|Baseline Water Stress               |bws                |bws_label    |    \n",
    "|Baseline Water Depletion            |bwd                |bwd_label    |\n",
    "|Groundwater Table Decline           |gtd                |gtd_label    |\n",
    "|Interannual Variability             |iav                |iav_label    |\n",
    "|Seasonal Variability                |sev                |sev_label    |\n",
    "|Drought Risk                        |drr                |drr_label    |\n",
    "|Riverine Flood Risk                 |rfr                |rfr_label    |\n",
    "|Coastal Flood Risk                  |cfr                |cfr_label    |\n",
    "|Untreated Collected Wastewater      |ucw                |ucw_label    |\n",
    "|Coastal Eutrophication Potential    |cep                |cep_label    |\n",
    "|Unimproved/no drinking water        |udw                |udw_label    |\n",
    "|Unimproved/no sanitation            |usa                |usa_label    |\n",
    "|RepRisk Index                       |rri                |rri_label    |\n",
    "\n",
    "\n",
    "`Sql:`\n",
    "\n",
    "```sql\n",
    "with points as (SELECT st_setsrid(st_geomfromtext(points),4326) as the_geom, row_number() over () as points_id \n",
    "                FROM unnest(Array['POINT(-4.04296875 39.90973623453719)', 'POINT(10.01953125 51.39920565355378)', 'POINT(-6.50390625 32.84267363195431)', 'POINT(0.3515625 41.376808565702355)']) as points\n",
    "               )\n",
    "\n",
    "SELECT points_id::numeric, points.the_geom, r.string_id, w.name_0 as country, w.name_1 as province, b.maj_name as basin,\n",
    "       w_awr_def_tot_label::text as overall_water_risk,             \n",
    "       w_awr_def_qan_label::text as water_quantity_risk,            \n",
    "       w_awr_def_qal_label::text as water_quality_risk,            \n",
    "       w_awr_def_rrr_label::text as regulatory_and_reputational,    \n",
    "       bws_label::text as baseline_water_stress,                       \n",
    "       bwd_label::text as baseline_water_depletion,                \n",
    "       gtd_label::text as groundwater_table_decline,               \n",
    "       iav_label::text as interannual_variability,                 \n",
    "       sev_label::text as seasonal_variability,                    \n",
    "       drr_label::text as drought_risk,                            \n",
    "       rfr_label::text as riverine_flood_risk,                     \n",
    "       cfr_label::text as coastal_flood_risk,                      \n",
    "       ucw_label::text as untreated_collected_wastewater,          \n",
    "       cep_label::text as coastal_eutrophication_potential,        \n",
    "       udw_label::text as nnimproved_drinking_water,            \n",
    "       usa_label::text as unimproved_sanitation,                \n",
    "       rri_label::text as repRisk_index                                                             \n",
    "FROM water_risk_indicators_annual r\n",
    "LEFT JOIN y2018m12d06_rh_master_shape_v01 g on r.aq30_id=g.aq30_id\n",
    "RIGHT JOIN points on  st_intersects(g.the_geom, points.the_geom)\n",
    "LEFT JOIN gadm_wri w on r.gid_1=w.gid_1 \n",
    "LEFT JOIN basin_names b on r.pfaf_id=b.pfaf_id                                \n",
    "```\n",
    "\n",
    "**Create a function**\n",
    "\n",
    "We create a function in carto to deal with all this operations.\n",
    "\n",
    "```sql\n",
    "DROP FUNCTION get_aqpoints_annual(points_array TEXT);\n",
    "\n",
    "DROP TYPE point_intersection_annual;\n",
    "\n",
    "CREATE TYPE point_intersection_annual AS (points_id numeric, the_geom geometry, string_id text, country text, region text, basin text, overall_water_risk text, water_quantity_risk text, water_quality_risk text, regulatory_and_reputational text, baseline_water_stress text, baseline_water_depletion text, groundwater_table_decline text, interannual_variability text, seasonal_variability text, drought_risk text, riverine_flood_risk text, coastal_flood_risk text, untreated_collected_wastewater text, coastal_eutrophication_potential text, unimproved_drinking_water text, unimproved_sanitation text, reprisk_index text);\n",
    "\n",
    "CREATE OR REPLACE FUNCTION get_aqpoints_annual(points_array TEXT)\n",
    "\tRETURNS SETOF point_intersection_annual as $$\n",
    "\tBEGIN\n",
    "\tRETURN query EXECUTE  'with points as (SELECT st_setsrid(st_geomfromtext(points),4326) as the_geom, row_number() over () as points_id FROM unnest(Array'|| points_array ||') as points ) SELECT points_id::numeric, points.the_geom, r.string_id, w.name_0 as country, w.name_1 as province, b.maj_name as basin, w_awr_def_tot_label::text as overall_water_risk, w_awr_def_qan_label::text as water_quantity_risk, w_awr_def_qal_label::text as water_quality_risk, w_awr_def_rrr_label::text as regulatory_and_reputational, bws_label::text as baseline_water_stress, bwd_label::text as baseline_water_depletion, gtd_label::text as groundwater_table_decline, iav_label::text as interannual_variability, sev_label::text as seasonal_variability, drr_label::text as drought_risk, rfr_label::text as riverine_flood_risk, cfr_label::text as coastal_flood_risk, ucw_label::text as untreated_collected_wastewater, cep_label::text as coastal_eutrophication_potential, udw_label::text as nnimproved_drinking_water, usa_label::text as unimproved_sanitation, rri_label::text as repRisk_index FROM water_risk_indicators_annual r LEFT JOIN y2018m12d06_rh_master_shape_v01 g on r.aq30_id=g.aq30_id RIGHT JOIN points on  st_intersects(g.the_geom, points.the_geom) LEFT JOIN gadm_wri w on r.gid_1=w.gid_1 LEFT JOIN basin_names b on r.pfaf_id=b.pfaf_id';\n",
    "\n",
    "\tEND\n",
    "\n",
    "$$ language 'plpgsql';\n",
    "```\n",
    "**Final query**\n",
    "\n",
    "`Sql Example:`\n",
    "```sql\n",
    "SELECT * FROM get_aqpoints_annual('[''POINT(-4.04296875 39.90973623453719)'', ''POINT(0.3515625 41.376808565702355)'', ''POINT(10.01953125 51.39920565355378)'', ''POINT(-6.50390625 32.84267363195431)'']')\n",
    "```\n",
    "\n",
    "`Sql Template:`\n",
    "``` sql\n",
    "SELECT * FROM get_aqpoints_annual({points_array})\n",
    "```"
   ]
  },
  {
   "cell_type": "markdown",
   "metadata": {},
   "source": [
    "## Monthly\n",
    "\n",
    "`Sql:`\n",
    "\n",
    "```sql\n",
    "with points as (SELECT st_setsrid(st_geomfromtext(points),4326) as the_geom, row_number() over () as points_id \n",
    "                FROM unnest(Array['POINT(-4.04296875 39.90973623453719)', 'POINT(10.01953125 51.39920565355378)', 'POINT(-6.50390625 32.84267363195431)', 'POINT(0.3515625 41.376808565702355)']) as points\n",
    "               )\n",
    "\n",
    "SELECT pfaf_id::numeric, points.the_geom, \n",
    "       bws_label as baseline_water_stress,\n",
    "       bwd_label as baseline_water_depletion,\n",
    "       iav_label as interannual_variability\n",
    "                                                            \n",
    "FROM water_risk_indicators_monthly r\n",
    "WHERE month = 1\n",
    "LEFT JOIN y2018m12d06_rh_master_shape_v01 g on r.pfaf_id=g.pfaf_id\n",
    "RIGHT JOIN points on  st_intersects(g.the_geom, points.the_geom)                                  \n",
    "```"
   ]
  },
  {
   "cell_type": "code",
   "execution_count": null,
   "metadata": {},
   "outputs": [],
   "source": []
  },
  {
   "cell_type": "markdown",
   "metadata": {},
   "source": [
    "## Custom and Predifined  annual\n",
    "`Sql:`\n",
    "```sql\n",
    "with r as (SELECT * FROM (\n",
    "                          SELECT unnest(Array[4.0, 4.0, 2.0, 0.5, 4.0, 4.0, 1.0, 1.0, null, null, null, null, null]) as weights,\n",
    "                                 unnest(Array['bws', 'bwd', 'iav', 'sev', 'gtd', 'drr', 'rfr', 'cfr', 'ucw', 'cep', 'udw', 'usa', 'rri']) as indicator\n",
    "                         ) as a \n",
    "           WHERE weights is not null\n",
    "          ),\n",
    "     s as (SELECT indicator, weights/sum_weights as weight_fraction\n",
    "           FROM (\n",
    "                 SELECT sum(weights) over () as sum_weights,  weights, indicator\n",
    "                 FROM r\n",
    "                ) as a\n",
    "          ),\n",
    "     u as (SELECT aq30_id, sum(weight_fraction) as weight_fraction, sum(weighted_score) as weighted_score\n",
    "           FROM (\n",
    "                 SELECT t.group_short, t.indicator, t.score, t.aq30_id, s.weight_fraction, t.score*s.weight_fraction as weighted_score\n",
    "                 FROM water_risk_indicators_normalized t\n",
    "                 LEFT JOIN s on t.indicator=s.indicator\n",
    "                ) as u\n",
    "            GROUP BY aq30_id\n",
    "          ),\n",
    "     v as (SELECT aq30_id, weighted_score, weight_fraction, weighted_score/weight_fraction as raw\n",
    "           FROM u\n",
    "          ),\n",
    "points as (SELECT st_setsrid(st_geomfromtext(points),4326) as the_geom, row_number() over () as points_id \n",
    "           FROM unnest(Array['POINT(3.515625 47.040182144)', 'POINT(30.5859374 53.5403073)', 'POINT(43.59375 30.145127)', 'POINT(22.8515625 9.449061826)']) as points\n",
    "          )\n",
    "          \n",
    "SELECT v.aq30_id, round(v.raw::numeric,6) as water_risk, points.the_geom\n",
    "FROM v                                              \n",
    "LEFT JOIN y2018m12d06_rh_master_shape_v01 g on v.aq30_id=g.aq30_id\n",
    "RIGHT JOIN points on  st_intersects(g.the_geom, points.the_geom)                             \n",
    "ORDER BY aq30_id\n",
    "```    \n",
    "\n",
    "**Create a function**\n",
    "\n",
    "We create a function in carto to deal with all this operations.\n",
    "\n",
    "```sql\n",
    "DROP FUNCTION get_aqpoints_annual(weights_array TEXT, points_array TEXT);\n",
    "\n",
    "DROP TYPE point_intersection_annual;\n",
    "\n",
    "CREATE TYPE point_intersection_annual AS (aq30_id integer, water_risk numeric, the_geom geometry);\n",
    "\n",
    "CREATE OR REPLACE FUNCTION get_aqpoints_annual(weights_array TEXT, points_array TEXT)\n",
    "\tRETURNS SETOF point_intersection_annual as $$\n",
    "\tBEGIN\n",
    "\tRETURN query EXECUTE  'with r as (SELECT * FROM (SELECT unnest(Array'|| weights_array ||') as weights, unnest(Array[''bws'', ''bwd'', ''iav'', ''sev'', ''gtd'', ''drr'', ''rfr'', ''cfr'', ''ucw'', ''cep'', ''udw'', ''usa'', ''rri'']) as indicator) as a WHERE weights is not null), s as (SELECT indicator, weights/sum_weights as weight_fraction FROM (SELECT sum(weights) over () as sum_weights,  weights, indicator FROM r) as a), u as (SELECT aq30_id, sum(weight_fraction) as weight_fraction, sum(weighted_score) as weighted_score FROM (SELECT t.group_short, t.indicator, t.score, t.aq30_id, s.weight_fraction, t.score*s.weight_fraction as weighted_score FROM water_risk_indicators_normalized t LEFT JOIN s on t.indicator=s.indicator) as u GROUP BY aq30_id), v as (SELECT aq30_id, weighted_score, weight_fraction, weighted_score/weight_fraction as raw FROM u), points as (SELECT st_setsrid(st_geomfromtext(points),4326) as the_geom, row_number() over () as points_id FROM unnest(Array'|| points_array ||') as points) SELECT v.aq30_id, round(v.raw::numeric,6) as water_risk, points.the_geom FROM v LEFT JOIN y2018m12d06_rh_master_shape_v01 g on v.aq30_id=g.aq30_id RIGHT JOIN points on  st_intersects(g.the_geom, points.the_geom) ORDER BY aq30_id';\n",
    "\n",
    "\tEND\n",
    "\n",
    "$$ language 'plpgsql';\n",
    "```\n",
    "**Final query**\n",
    "\n",
    "`Sql Example:`\n",
    "```sql\n",
    "SELECT * FROM get_aqpoints_annual('[4.0, 4.0, 2.0, 0.5, 4.0, 4.0, 1.0, 1.0, null, null, null, null, null]','[''POINT(3.515625 47.040182144)'', ''POINT(30.5859374 53.5403073)'', ''POINT(43.59375 30.145127)'', ''POINT(22.8515625 9.449061826)'']')\n",
    "```\n",
    "\n",
    "`Sql Template:`\n",
    "``` sql\n",
    "SELECT * FROM get_aqpoints_annual({weights_array},{points_array})\n",
    "```"
   ]
  },
  {
   "cell_type": "markdown",
   "metadata": {},
   "source": [
    "## Predifined monthly\n",
    "`Sql:`\n",
    "```sql\n",
    "with r as (SELECT pfaf_id, bws_cat, bwd_cat, iav_cat  \n",
    "           FROM water_risk_indicators_monthly WHERE month = 1\n",
    "          ),\n",
    "points as (SELECT st_setsrid(st_geomfromtext(points),4326) as the_geom, row_number() over () as points_id \n",
    "           FROM unnest(Array['POINT(3.515625 47.040182144)', 'POINT(30.5859374 53.5403073)', 'POINT(43.59375 30.145127)', 'POINT(22.8515625 9.449061826)']) as points\n",
    "          )\n",
    "\n",
    "SELECT r.pfaf_id, r.bws_cat::numeric as baseline_water_stress, r.bwd_cat::numeric as baseline_water_depletion, r.iav_cat::numeric as interannual_variability, points.the_geom\n",
    "FROM r\n",
    "LEFT JOIN y2018m12d06_rh_master_shape_v01 g on r.pfaf_id=g.pfaf_id\n",
    "RIGHT JOIN points on  st_intersects(g.the_geom, points.the_geom)  \n",
    "ORDER BY r.pfaf_id                        \n",
    "```\n",
    "\n",
    "**Create a function**\n",
    "\n",
    "We create a function in carto to deal with all this operations.\n",
    "\n",
    "```sql\n",
    "DROP FUNCTION get_aqpoints_monthly(month TEXT, points_array TEXT);\n",
    "\n",
    "DROP TYPE point_intersection_monthly;\n",
    "\n",
    "CREATE TYPE point_intersection_monthly AS (pfaf_id integer, baseline_water_stress numeric, baseline_water_depletion numeric, interannual_variability numeric, the_geom geometry);\n",
    "\n",
    "CREATE OR REPLACE FUNCTION get_aqpoints_monthly(month TEXT, points_array TEXT)\n",
    "\tRETURNS SETOF point_intersection_monthly as $$\n",
    "\tBEGIN\n",
    "\tRETURN query EXECUTE  'with r as (SELECT pfaf_id, bws_cat, bwd_cat, iav_cat FROM water_risk_indicators_monthly WHERE month = '|| month ||'), points as (SELECT st_setsrid(st_geomfromtext(points),4326) as the_geom, row_number() over () as points_id FROM unnest(Array'|| points_array ||') as points) SELECT r.pfaf_id, r.bws_cat::numeric as baseline_water_stress, r.bwd_cat::numeric as baseline_water_depletion, r.iav_cat::numeric as interannual_variability, points.the_geom FROM r LEFT JOIN y2018m12d06_rh_master_shape_v01 g on r.pfaf_id=g.pfaf_id RIGHT JOIN points on  st_intersects(g.the_geom, points.the_geom) ORDER BY r.pfaf_id';\n",
    "\n",
    "\tEND\n",
    "\n",
    "$$ language 'plpgsql';\n",
    "```\n",
    "\n",
    "`Sql Example:`\n",
    "```sql\n",
    "SELECT * FROM get_aqpoints_monthly('1','[''POINT(3.515625 47.040182144)'', ''POINT(30.5859374 53.5403073)'', ''POINT(43.59375 30.145127)'', ''POINT(22.8515625 9.449061826)'']')\n",
    "```\n",
    "\n",
    "`Sql Template:`\n",
    "``` sql\n",
    "SELECT * FROM  get_aqpoints_monthly({month},{points_array})\n",
    "```"
   ]
  },
  {
   "cell_type": "markdown",
   "metadata": {},
   "source": [
    "## Projected Changes\n",
    "`Sql:`\n",
    "```sql\n",
    "with r as (SELECT basinid, type, model, indicator, label, value, year FROM water_risk_indicators \n",
    "           WHERE year = 2030 and type = 'absolute' and indicator = 'seasonal_variability' and model = 'pessimistic'\n",
    "          ),\n",
    "points as (SELECT st_setsrid(st_geomfromtext(points),4326) as the_geom, row_number() over () as points_id \n",
    "           FROM unnest(Array['POINT(3.515625 47.040182144)', 'POINT(30.5859374 53.5403073)', 'POINT(43.59375 30.145127)', 'POINT(22.8515625 9.449061826)']) as points\n",
    "          )\n",
    "\n",
    "SELECT r.basinid, r.value, r.label, points.the_geom\n",
    "FROM r\n",
    "LEFT JOIN wri_subcatchements g on r.basinid=g.basinid\n",
    "RIGHT JOIN points on  st_intersects(g.the_geom, points.the_geom)  \n",
    "ORDER BY r.basinid\n",
    "```\n",
    "\n",
    "**Create a function**\n",
    "\n",
    "We create a function in carto to deal with all this operations.\n",
    "\n",
    "```sql\n",
    "DROP FUNCTION get_aqpoints_projected(year TEXT, type TEXT, indicator TEXT, model TEXT, points_array TEXT);\n",
    "\n",
    "DROP TYPE point_intersection_projected;\n",
    "\n",
    "CREATE TYPE point_intersection_projected AS (basinid integer, value numeric, label text, the_geom geometry);\n",
    "\n",
    "CREATE OR REPLACE FUNCTION get_aqpoints_projected(year TEXT, type TEXT, indicator TEXT, model TEXT, points_array TEXT)\n",
    "\tRETURNS SETOF point_intersection_projected as $$\n",
    "\tBEGIN\n",
    "\tRETURN query EXECUTE  'with r as (SELECT basinid, type, model, indicator, label, value, year FROM water_risk_indicators WHERE year = '|| year ||' and type = type and indicator = indicator and model = model), points as (SELECT st_setsrid(st_geomfromtext(points),4326) as the_geom, row_number() over () as points_id FROM unnest(Array'|| points_array ||') as points) SELECT r.basinid, r.value, r.label, points.the_geom FROM r LEFT JOIN wri_subcatchements g on r.basinid=g.basinid RIGHT JOIN points on  st_intersects(g.the_geom, points.the_geom) ORDER BY r.basinid';\n",
    "\n",
    "\tEND\n",
    "\n",
    "$$ language 'plpgsql';\n",
    "```\n",
    "\n",
    "`Sql Example:`\n",
    "```sql\n",
    "SELECT * FROM get_aqpoints_projected('2030', ''absolute'', ''seasonal_variability'', ''pessimistic'', '[''POINT(3.515625 47.040182144)'', ''POINT(30.5859374 53.5403073)'', ''POINT(43.59375 30.145127)'', ''POINT(22.8515625 9.449061826)'']')\n",
    "```"
   ]
  },
  {
   "cell_type": "markdown",
   "metadata": {},
   "source": [
    "'with r as (SELECT basinid, type, model, indicator, label, value, year FROM water_risk_indicators WHERE year = '|| year ||' and type = '|| type ||' and indicator = '|| indicator ||' and model = '|| model ||'), points as (SELECT st_setsrid(st_geomfromtext(points),4326) as the_geom, row_number() over () as points_id FROM unnest(Array'|| points_array ||') as points) SELECT r.basinid, r.value, r.label, points.the_geom FROM r LEFT JOIN wri_subcatchements g on r.basinid=g.basinid RIGHT JOIN points on  st_intersects(g.the_geom, points.the_geom) ORDER BY r.basinid'"
   ]
  },
  {
   "cell_type": "markdown",
   "metadata": {},
   "source": [
    "# Points intersecction"
   ]
  },
  {
   "cell_type": "markdown",
   "metadata": {},
   "source": [
    "```sql\n",
    "with points as (SELECT st_setsrid(st_geomfromtext(points),4326) as the_geom, row_number() over () as points_id \n",
    "                FROM unnest(Array'|| points_array ||') as points), \n",
    "     ranges as (SELECT basinid, average, min(average) over (), max(average) over (), \n",
    "                       bws_s, wsv_s, sv_s, hfo_s, dro_s, stor_s, gw_s, wri_s, eco_s_s, mc_s, wcg_s, eco_v_s \n",
    "                FROM (SELECT basinid, ('|| weights ||')/('|| weights_sum ||') as average, \n",
    "                             bws_s, wsv_s, sv_s, hfo_s, dro_s, stor_s, gw_s, wri_s, eco_s_s, mc_s, wcg_s, eco_v_s \n",
    "                      FROM water_risk_weights) initial) \n",
    "                      \n",
    "SELECT points_id::numeric, ranges.basinid::numeric, points.the_geom, (((average-min)/(max-min))*5)::numeric as water_risk, \n",
    "       bws_s::numeric as baseline_water_stress, wsv_s::numeric as interannual_variability, sv_s::numeric as seasonal_variability, \n",
    "       hfo_s::numeric as flood_occurrence, dro_s::numeric as drought_severity, stor_s::numeric as upstream_storage, \n",
    "       gw_s::numeric as groundwater_stress, wri_s::numeric as return_flow_ratio, eco_s_s::numeric as upstream_protected_land, \n",
    "       mc_s::numeric as media_coverage, wcg_s::numeric as access_to_water, eco_v_s::numeric as threatened_amphibians \n",
    "FROM ranges \n",
    "INNER JOIN wri_subcatchements on ranges.basinid=wri_subcatchements.basinid \n",
    "RIGHT JOIN points on  st_intersects(wri_subcatchements.the_geom, points.the_geom)\n",
    "```"
   ]
  },
  {
   "cell_type": "markdown",
   "metadata": {},
   "source": [
    "Procedure definition:\n",
    "\n",
    "\n",
    "```sql\n",
    "\n",
    "DROP FUNCTION get_aqpoints(weights_raw TEXT, points_array TEXT); \n",
    "\n",
    "DROP TYPE weight_intersection;\n",
    "\n",
    "CREATE TYPE weight_intersection AS (points_id numeric, basinid numeric, the_geom geometry, water_risk numeric, water_stress numeric, interannual_variability numeric, seasonal_variability numeric, flood_occurrence numeric, drought_severity numeric, upstream_storage numeric, groundwater_stress numeric, return_flow_ratio numeric, upstream_protected_land numeric, media_coverage numeric, access_to_water numeric, threatened_amphibians numeric);\n",
    "\n",
    "CREATE OR REPLACE FUNCTION get_aqpoints(weights_raw TEXT, points_array TEXT) \n",
    "\tRETURNS SETOF weight_intersection as $$\n",
    "\tDECLARE\n",
    "    query1 TEXT;\n",
    "    weights TEXT;\n",
    "    weights_sum TEXT;\n",
    "\tBEGIN\n",
    "        query1:='select array_to_string(array_agg(col::text ||''*''|| weights::text), ''+ '') as weights, sum(weights)::text as weights_sum from (select unnest(Array'|| weights_raw||') as weights, unnest(array[''bws_s'', ''wsv_s'', ''sv_s'', ''hfo_s'', ''dro_s'', ''stor_s'', ''gw_s'', ''wri_s'', ''eco_s_s'', ''mc_s'', ''wcg_s'', ''eco_v_s'']) as col) as tables where weights is not null';\n",
    "        \n",
    "        EXECUTE query1 into weights, weights_sum;\n",
    "        \n",
    "\t\tRETURN query EXECUTE 'with points as (SELECT st_setsrid(st_geomfromtext(points),4326) as the_geom, row_number() over () as points_id FROM unnest(Array'|| points_array ||') as points), ranges as (select basinid, average, min(average) over (), max(average) over (), bws_s, wsv_s, sv_s, hfo_s, dro_s, stor_s, gw_s, wri_s, eco_s_s, mc_s, wcg_s, eco_v_s from (SELECT basinid, ('|| weights ||')/('|| weights_sum ||') as average, bws_s, wsv_s, sv_s, hfo_s, dro_s, stor_s, gw_s, wri_s, eco_s_s, mc_s, wcg_s, eco_v_s FROM water_risk_weights) initial) select points_id::numeric, ranges.basinid::numeric, points.the_geom, (((average-min)/(max-min))*5)::numeric as water_risk, bws_s::numeric as baseline_water_stress, wsv_s::numeric as interannual_variability, sv_s::numeric as seasonal_variability, hfo_s::numeric as flood_occurrence, dro_s::numeric as drought_severity, stor_s::numeric as upstream_storage, gw_s::numeric as groundwater_stress, wri_s::numeric as return_flow_ratio, eco_s_s::numeric as upstream_protected_land, mc_s::numeric as media_coverage, wcg_s::numeric as access_to_water, eco_v_s::numeric as threatened_amphibians from ranges inner join wri_subcatchements on ranges.basinid=wri_subcatchements.basinid right join points on  st_intersects(wri_subcatchements.the_geom, points.the_geom)';\n",
    "\t\n",
    "\tEND\n",
    "$$ language 'plpgsql';\n",
    "\n",
    "```\n",
    "\n"
   ]
  },
  {
   "cell_type": "markdown",
   "metadata": {},
   "source": [
    "Sql Example:\n",
    "\n",
    "```sql\n",
    "Select * from get_aqpoints('[4, 1, 0.5, 1, 1, 2, 2, 1, 0.5, 1, 2, 0.5]','[''POINT(84.8085584935 -14.20067639)'', ''POINT(54.0392656274 -70.8898132233)'', ''POINT(-28.5832686897 -7.71134965117)'', ''POINT(47.9458596199 82.5599787066)'', ''POINT(50.8126903314 -46.0154993389)'', ''POINT(-62.5229253542 -9.68983337791)'', ''POINT(-34.7977234627 84.9984574252)'', ''POINT(-80.1102876685 -33.9286081419)'', ''POINT(22.6686500117 -85.6713992254)'', ''POINT(44.359802466 -27.7294728889)'']')\n",
    "```\n",
    "\n",
    "\n",
    "\n",
    "Sql Template:\n",
    "\n",
    "``` sql\n",
    "Select * from get_aqpoints({weights_scheeme},{points array})\n",
    "\n",
    "```\n",
    "\n",
    "\n",
    "\n"
   ]
  },
  {
   "cell_type": "code",
   "execution_count": 4,
   "metadata": {
    "ExecuteTime": {
     "end_time": "2017-03-29T10:01:04.674829",
     "start_time": "2017-03-29T10:01:04.004822"
    }
   },
   "outputs": [
    {
     "data": {
      "text/html": [
       "<div>\n",
       "<style scoped>\n",
       "    .dataframe tbody tr th:only-of-type {\n",
       "        vertical-align: middle;\n",
       "    }\n",
       "\n",
       "    .dataframe tbody tr th {\n",
       "        vertical-align: top;\n",
       "    }\n",
       "\n",
       "    .dataframe thead th {\n",
       "        text-align: right;\n",
       "    }\n",
       "</style>\n",
       "<table border=\"1\" class=\"dataframe\">\n",
       "  <thead>\n",
       "    <tr style=\"text-align: right;\">\n",
       "      <th></th>\n",
       "      <th>access_to_water</th>\n",
       "      <th>basinid</th>\n",
       "      <th>drought_severity</th>\n",
       "      <th>flood_occurrence</th>\n",
       "      <th>groundwater_stress</th>\n",
       "      <th>interannual_variability</th>\n",
       "      <th>media_coverage</th>\n",
       "      <th>points_id</th>\n",
       "      <th>return_flow_ratio</th>\n",
       "      <th>seasonal_variability</th>\n",
       "      <th>the_geom</th>\n",
       "      <th>threatened_amphibians</th>\n",
       "      <th>upstream_protected_land</th>\n",
       "      <th>upstream_storage</th>\n",
       "      <th>water_risk</th>\n",
       "      <th>water_stress</th>\n",
       "    </tr>\n",
       "  </thead>\n",
       "  <tbody>\n",
       "    <tr>\n",
       "      <th>0</th>\n",
       "      <td>NaN</td>\n",
       "      <td>NaN</td>\n",
       "      <td>NaN</td>\n",
       "      <td>NaN</td>\n",
       "      <td>NaN</td>\n",
       "      <td>NaN</td>\n",
       "      <td>NaN</td>\n",
       "      <td>1</td>\n",
       "      <td>NaN</td>\n",
       "      <td>NaN</td>\n",
       "      <td>0101000020E6100000139F1F6CBF3355403942480EBF66...</td>\n",
       "      <td>NaN</td>\n",
       "      <td>NaN</td>\n",
       "      <td>NaN</td>\n",
       "      <td>NaN</td>\n",
       "      <td>NaN</td>\n",
       "    </tr>\n",
       "  </tbody>\n",
       "</table>\n",
       "</div>"
      ],
      "text/plain": [
       "   access_to_water  basinid  drought_severity  flood_occurrence  \\\n",
       "0              NaN      NaN               NaN               NaN   \n",
       "\n",
       "   groundwater_stress  interannual_variability  media_coverage  points_id  \\\n",
       "0                 NaN                      NaN             NaN          1   \n",
       "\n",
       "   return_flow_ratio  seasonal_variability  \\\n",
       "0                NaN                   NaN   \n",
       "\n",
       "                                            the_geom  threatened_amphibians  \\\n",
       "0  0101000020E6100000139F1F6CBF3355403942480EBF66...                    NaN   \n",
       "\n",
       "   upstream_protected_land  upstream_storage  water_risk  water_stress  \n",
       "0                      NaN               NaN         NaN           NaN  "
      ]
     },
     "execution_count": 4,
     "metadata": {},
     "output_type": "execute_result"
    }
   ],
   "source": [
    "payload = {'q': \"Select * from get_aqpoints('[4, 1, 0.5, 1, 1, 2, 2, 1, 0.5, 1, 2, 0.5]','[''POINT(84.8085584935 -14.20067639)'', ''POINT(54.0392656274 -70.8898132233)'', ''POINT(-28.5832686897 -7.71134965117)'', ''POINT(47.9458596199 82.5599787066)'', ''POINT(50.8126903314 -46.0154993389)'', ''POINT(-62.5229253542 -9.68983337791)'', ''POINT(-34.7977234627 84.9984574252)'', ''POINT(-80.1102876685 -33.9286081419)'', ''POINT(22.6686500117 -85.6713992254)'', ''POINT(44.359802466 -27.7294728889)'']')\"}\n",
    "r = requests.get('https://wri-01.carto.com/api/v2/sql', params=payload)\n",
    "tableStructure= pd.read_json(json.dumps(r.json()['rows']), orient='records')\n",
    "tableStructure.head(1)"
   ]
  },
  {
   "cell_type": "markdown",
   "metadata": {},
   "source": [
    "# Anexo: Points stress test"
   ]
  },
  {
   "cell_type": "markdown",
   "metadata": {},
   "source": [
    "test points; 100; 500; 1000; 100000;"
   ]
  },
  {
   "cell_type": "code",
   "execution_count": 4,
   "metadata": {
    "ExecuteTime": {
     "end_time": "2017-03-29T10:06:28.144027",
     "start_time": "2017-03-29T10:06:27.341342"
    },
    "collapsed": true
   },
   "outputs": [],
   "source": [
    "t = 180 * np.random.rand(1000000,2) - 90"
   ]
  },
  {
   "cell_type": "markdown",
   "metadata": {},
   "source": [
    "'POINT(-72.0 42.2)'"
   ]
  },
  {
   "cell_type": "code",
   "execution_count": 5,
   "metadata": {
    "ExecuteTime": {
     "end_time": "2017-03-29T10:06:39.474865",
     "start_time": "2017-03-29T10:06:33.081646"
    },
    "collapsed": true
   },
   "outputs": [],
   "source": [
    "example1=[]\n",
    "for point in t:\n",
    "    example1.append('\\'\\'POINT(' +str(point[0])+ ' ' + str(point[1]) +')\\'\\'')"
   ]
  },
  {
   "cell_type": "code",
   "execution_count": 6,
   "metadata": {
    "ExecuteTime": {
     "end_time": "2017-03-29T10:10:49.386536",
     "start_time": "2017-03-29T10:10:49.362773"
    }
   },
   "outputs": [
    {
     "name": "stdout",
     "output_type": "stream",
     "text": [
      "[''POINT(43.9701276111 11.1301394129)'', ''POINT(86.0466406701 13.2688619157)'', ''POINT(-53.8696343831 64.6113269282)'', ''POINT(87.4130123196 -23.032929918)'', ''POINT(57.2656143129 -88.2644839221)'', ''POINT(74.5658970947 -7.62928716917)'', ''POINT(3.51858671798 -12.3788819738)'', ''POINT(-18.5802293632 41.4033717967)'', ''POINT(16.2846733241 55.3067910163)'', ''POINT(78.6515080867 -49.5037394613)'']\n",
      "406\n",
      "4075\n",
      "40809\n",
      "407990\n"
     ]
    }
   ],
   "source": [
    "t10 = '['+', '.join(example1[:10])+']'\n",
    "t100 = '['+', '.join(example1[:100])+']'\n",
    "t1000 = '['+', '.join(example1[:1000])+']'\n",
    "t10000 = '['+', '.join(example1[:10000])+']'\n",
    "print(t10)\n",
    "print(len(t10))\n",
    "print(len(t100))\n",
    "print(len(t1000))\n",
    "print(len(t10000))"
   ]
  },
  {
   "cell_type": "code",
   "execution_count": 8,
   "metadata": {
    "ExecuteTime": {
     "end_time": "2017-03-29T10:11:37.605866",
     "start_time": "2017-03-29T10:11:36.923622"
    }
   },
   "outputs": [
    {
     "data": {
      "text/html": [
       "<div>\n",
       "<table border=\"1\" class=\"dataframe\">\n",
       "  <thead>\n",
       "    <tr style=\"text-align: right;\">\n",
       "      <th></th>\n",
       "      <th>access_to_water</th>\n",
       "      <th>basinid</th>\n",
       "      <th>drought_severity</th>\n",
       "      <th>flood_occurrence</th>\n",
       "      <th>groundwater_stress</th>\n",
       "      <th>interannual_variability</th>\n",
       "      <th>media_coverage</th>\n",
       "      <th>points_id</th>\n",
       "      <th>return_flow_ratio</th>\n",
       "      <th>seasonal_variability</th>\n",
       "      <th>the_geom</th>\n",
       "      <th>threatened_amphibians</th>\n",
       "      <th>upstream_protected_land</th>\n",
       "      <th>upstream_storage</th>\n",
       "      <th>water_risk</th>\n",
       "      <th>water_stress</th>\n",
       "    </tr>\n",
       "  </thead>\n",
       "  <tbody>\n",
       "    <tr>\n",
       "      <th>0</th>\n",
       "      <td>NaN</td>\n",
       "      <td>NaN</td>\n",
       "      <td>NaN</td>\n",
       "      <td>NaN</td>\n",
       "      <td>NaN</td>\n",
       "      <td>NaN</td>\n",
       "      <td>NaN</td>\n",
       "      <td>1</td>\n",
       "      <td>NaN</td>\n",
       "      <td>NaN</td>\n",
       "      <td>0101000020E6100000804F3D242DFC4540FCA614A2A142...</td>\n",
       "      <td>NaN</td>\n",
       "      <td>NaN</td>\n",
       "      <td>NaN</td>\n",
       "      <td>NaN</td>\n",
       "      <td>NaN</td>\n",
       "    </tr>\n",
       "    <tr>\n",
       "      <th>1</th>\n",
       "      <td>NaN</td>\n",
       "      <td>NaN</td>\n",
       "      <td>NaN</td>\n",
       "      <td>NaN</td>\n",
       "      <td>NaN</td>\n",
       "      <td>NaN</td>\n",
       "      <td>NaN</td>\n",
       "      <td>2</td>\n",
       "      <td>NaN</td>\n",
       "      <td>NaN</td>\n",
       "      <td>0101000020E61000008E2F2629FC8255409024DE44A889...</td>\n",
       "      <td>NaN</td>\n",
       "      <td>NaN</td>\n",
       "      <td>NaN</td>\n",
       "      <td>NaN</td>\n",
       "      <td>NaN</td>\n",
       "    </tr>\n",
       "  </tbody>\n",
       "</table>\n",
       "</div>"
      ],
      "text/plain": [
       "   access_to_water  basinid  drought_severity  flood_occurrence  \\\n",
       "0              NaN      NaN               NaN               NaN   \n",
       "1              NaN      NaN               NaN               NaN   \n",
       "\n",
       "   groundwater_stress  interannual_variability  media_coverage  points_id  \\\n",
       "0                 NaN                      NaN             NaN          1   \n",
       "1                 NaN                      NaN             NaN          2   \n",
       "\n",
       "   return_flow_ratio  seasonal_variability  \\\n",
       "0                NaN                   NaN   \n",
       "1                NaN                   NaN   \n",
       "\n",
       "                                            the_geom  threatened_amphibians  \\\n",
       "0  0101000020E6100000804F3D242DFC4540FCA614A2A142...                    NaN   \n",
       "1  0101000020E61000008E2F2629FC8255409024DE44A889...                    NaN   \n",
       "\n",
       "   upstream_protected_land  upstream_storage  water_risk  water_stress  \n",
       "0                      NaN               NaN         NaN           NaN  \n",
       "1                      NaN               NaN         NaN           NaN  "
      ]
     },
     "execution_count": 8,
     "metadata": {},
     "output_type": "execute_result"
    }
   ],
   "source": [
    "payload = {'q': \"\"}\n",
    "payload['q']=\"Select * from get_aqpoints('[4, 1, 0.5, 1, 1, 2, 2, 1, 0.5, 1, 2, 0.5]',\\'\"+ t10 +\"\\')\"\n",
    "\n",
    "r = requests.get('https://wri-01.carto.com/api/v2/sql', params=payload)\n",
    "tableStructure= pd.read_json(json.dumps(r.json()['rows']), orient='records')\n",
    "tableStructure.head(2)"
   ]
  },
  {
   "cell_type": "code",
   "execution_count": 63,
   "metadata": {
    "ExecuteTime": {
     "end_time": "2017-03-29T10:12:43.090983",
     "start_time": "2017-03-29T10:12:42.185335"
    }
   },
   "outputs": [
    {
     "name": "stdout",
     "output_type": "stream",
     "text": [
      "<Response [200]>\n"
     ]
    },
    {
     "data": {
      "text/html": [
       "<div>\n",
       "<table border=\"1\" class=\"dataframe\">\n",
       "  <thead>\n",
       "    <tr style=\"text-align: right;\">\n",
       "      <th></th>\n",
       "      <th>access_to_water</th>\n",
       "      <th>basinid</th>\n",
       "      <th>drought_severity</th>\n",
       "      <th>flood_occurrence</th>\n",
       "      <th>groundwater_stress</th>\n",
       "      <th>interannual_variability</th>\n",
       "      <th>media_coverage</th>\n",
       "      <th>points_id</th>\n",
       "      <th>return_flow_ratio</th>\n",
       "      <th>seasonal_variability</th>\n",
       "      <th>the_geom</th>\n",
       "      <th>threatened_amphibians</th>\n",
       "      <th>upstream_protected_land</th>\n",
       "      <th>upstream_storage</th>\n",
       "      <th>water_risk</th>\n",
       "      <th>water_stress</th>\n",
       "    </tr>\n",
       "  </thead>\n",
       "  <tbody>\n",
       "  </tbody>\n",
       "</table>\n",
       "</div>"
      ],
      "text/plain": [
       "Empty DataFrame\n",
       "Columns: [access_to_water, basinid, drought_severity, flood_occurrence, groundwater_stress, interannual_variability, media_coverage, points_id, return_flow_ratio, seasonal_variability, the_geom, threatened_amphibians, upstream_protected_land, upstream_storage, water_risk, water_stress]\n",
       "Index: []"
      ]
     },
     "execution_count": 63,
     "metadata": {},
     "output_type": "execute_result"
    }
   ],
   "source": [
    "payload = {'q': \"\"}\n",
    "payload['q']=\"Select * from get_aqpoints('[4, 1, 0.5, 1, 1, 2, 2, 1, 0.5, 1, 2, 0.5]',\\'\"+ t100 +\"\\')\"\n",
    "r = requests.get('https://wri-01.carto.com/api/v2/sql', params=payload)\n",
    "\n",
    "tableStructure= pd.read_json(json.dumps(r.json()['rows']), orient='records')\n",
    "tableStructure.head(0)"
   ]
  },
  {
   "cell_type": "code",
   "execution_count": 5,
   "metadata": {
    "ExecuteTime": {
     "end_time": "2017-03-29T10:23:52.203811",
     "start_time": "2017-03-29T10:23:35.903470"
    }
   },
   "outputs": [
    {
     "name": "stdout",
     "output_type": "stream",
     "text": [
      "{'error': ['parse error - invalid geometry'], 'hint': '\"Point(72.421875, \" <-- parse error at position 17 within geometry'}\n"
     ]
    }
   ],
   "source": [
    "payload = {'q': \"\"}\n",
    "payload['q']=\"Select * from get_aqpoints('[1, 1, 1, 1, 1, 1, 1, 1, 1, 1, 1, 1]','[''Point(72.421875, 56.559482)'', ''Point(18.6328125, 10.8333059)'', ''Point(-109.6875, 42.03297)'']')\"\n",
    "r = requests.post('https://wri-01.carto.com/api/v2/sql', data=payload)\n",
    "if r.status_code != 200:\n",
    "    issue = json.loads(r.text)\n",
    "    print(issue)\n",
    "else:\n",
    "    tableStructure= pd.read_json(json.dumps(r.json()['rows']), orient='records')\n",
    "    tableStructure.head(10)\n",
    "        \n",
    "\n"
   ]
  }
 ],
 "metadata": {
  "kernelspec": {
   "display_name": "Python 3",
   "language": "python",
   "name": "python3"
  },
  "language_info": {
   "codemirror_mode": {
    "name": "ipython",
    "version": 3
   },
   "file_extension": ".py",
   "mimetype": "text/x-python",
   "name": "python",
   "nbconvert_exporter": "python",
   "pygments_lexer": "ipython3",
   "version": "3.6.4"
  },
  "latex_envs": {
   "LaTeX_envs_menu_present": true,
   "autocomplete": true,
   "bibliofile": "biblio.bib",
   "cite_by": "apalike",
   "current_citInitial": 1,
   "eqLabelWithNumbers": true,
   "eqNumInitial": 1,
   "hotkeys": {
    "equation": "Ctrl-E",
    "itemize": "Ctrl-I"
   },
   "labels_anchors": false,
   "latex_user_defs": false,
   "report_style_numbering": false,
   "user_envs_cfg": false
  },
  "varInspector": {
   "cols": {
    "lenName": 16,
    "lenType": 16,
    "lenVar": 40
   },
   "kernels_config": {
    "python": {
     "delete_cmd_postfix": "",
     "delete_cmd_prefix": "del ",
     "library": "var_list.py",
     "varRefreshCmd": "print(var_dic_list())"
    },
    "r": {
     "delete_cmd_postfix": ") ",
     "delete_cmd_prefix": "rm(",
     "library": "var_list.r",
     "varRefreshCmd": "cat(var_dic_list()) "
    }
   },
   "types_to_exclude": [
    "module",
    "function",
    "builtin_function_or_method",
    "instance",
    "_Feature"
   ],
   "window_display": false
  }
 },
 "nbformat": 4,
 "nbformat_minor": 2
}
