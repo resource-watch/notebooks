{
 "cells": [
  {
   "cell_type": "markdown",
   "metadata": {},
   "source": [
    "# Migrating Datasets, Layers, Widgets, Metadata and Vocabularies to production\n",
    "**Setup software libraries**"
   ]
  },
  {
   "cell_type": "code",
   "execution_count": 48,
   "metadata": {},
   "outputs": [
    {
     "name": "stdout",
     "output_type": "stream",
     "text": [
      "0.3.14\n"
     ]
    }
   ],
   "source": [
    "import LMIPy\n",
    "import numpy as np\n",
    "import requests\n",
    "import json\n",
    "import getpass\n",
    "import os\n",
    "from pprint import pprint\n",
    "print(LMIPy.__version__)"
   ]
  },
  {
   "cell_type": "markdown",
   "metadata": {},
   "source": [
    "### Get the token"
   ]
  },
  {
   "cell_type": "code",
   "execution_count": 2,
   "metadata": {},
   "outputs": [
    {
     "name": "stdin",
     "output_type": "stream",
     "text": [
      "Login password: ·········\n"
     ]
    }
   ],
   "source": [
    "email = 'iker.sanchez@vizzuality.com'\n",
    "password = getpass.getpass('Login password:')"
   ]
  },
  {
   "cell_type": "code",
   "execution_count": 3,
   "metadata": {},
   "outputs": [],
   "source": [
    "payload = {\n",
    "    \"email\": f\"{email}\",\n",
    "    \"password\": f\"{password}\"\n",
    "}"
   ]
  },
  {
   "cell_type": "code",
   "execution_count": 4,
   "metadata": {},
   "outputs": [],
   "source": [
    "url = f'https://api.resourcewatch.org/auth/login'\n",
    "\n",
    "headers = {'Content-Type': 'application/json'}\n",
    "\n",
    "r = requests.post(url, data=json.dumps(payload), headers=headers)\n",
    "\n",
    "token = r.json().get('data').get('token')"
   ]
  },
  {
   "cell_type": "markdown",
   "metadata": {},
   "source": [
    "### Check `aqueduct-water-risk` datasets"
   ]
  },
  {
   "cell_type": "code",
   "execution_count": 5,
   "metadata": {},
   "outputs": [],
   "source": [
    "prod_server = \"https://api.resourcewatch.org\"\n",
    "app = [\"aqueduct-water-risk\"]\n",
    "env = 'production'\n",
    "\n",
    "collection = LMIPy.Collection(app=app, env=env, server=prod_server, limit=1000)"
   ]
  },
  {
   "cell_type": "code",
   "execution_count": 6,
   "metadata": {},
   "outputs": [
    {
     "data": {
      "text/html": [
       "<div class='item_container' style='height: auto; overflow: hidden; border: 1px solid #80ceb9;border-radius: 2px; background: #f2fffb; line-height: 1.21429em; padding: 10px;''><div class='item_left' style='width: 210px; float: left;''><a href='https://resourcewatch.org/' target='_blank'><img class='itemThumbnail' src='https://resourcewatch.org/static/images/logo-embed.png'></a></div><div class='item_right' style='float: none; width: auto; overflow: hidden;''><a href=https://api.resourcewatch.org/v1/layer/b0564e43-2eca-4c22-8784-d0724e9f9ebe?includes=vocabulary,metadata target='_blank'><b>Annual indicator layer</b></a><br> Data source cartodb 🗺Layer in AQUEDUCT-WATER-RISK.<br>Last Modified: 2019-10-10T12:15:09.605Z<br>Connector: cartodb | Published: True </div> </div>"
      ],
      "text/plain": [
       "Layer b0564e43-2eca-4c22-8784-d0724e9f9ebe Annual indicator layer"
      ]
     },
     "execution_count": 6,
     "metadata": {},
     "output_type": "execute_result"
    }
   ],
   "source": [
    "collection[0]"
   ]
  },
  {
   "cell_type": "markdown",
   "metadata": {},
   "source": [
    "### Creating a local backup of `aqueduct-water-risk` production Data objects"
   ]
  },
  {
   "cell_type": "code",
   "execution_count": 7,
   "metadata": {},
   "outputs": [
    {
     "name": "stderr",
     "output_type": "stream",
     "text": [
      "  6%|▋         | 2/32 [00:00<00:01, 18.90it/s]"
     ]
    },
    {
     "name": "stdout",
     "output_type": "stream",
     "text": [
      "Saving to path: aqueduct-water-risk-PROD-BACKUP\n"
     ]
    },
    {
     "name": "stderr",
     "output_type": "stream",
     "text": [
      "100%|██████████| 32/32 [00:01<00:00, 16.70it/s]"
     ]
    },
    {
     "name": "stdout",
     "output_type": "stream",
     "text": [
      "Save complete!\n"
     ]
    },
    {
     "name": "stderr",
     "output_type": "stream",
     "text": [
      "\n"
     ]
    }
   ],
   "source": [
    "path = 'aqueduct-water-risk-PROD-BACKUP'\n",
    "\n",
    "collection.save(path)"
   ]
  },
  {
   "cell_type": "markdown",
   "metadata": {},
   "source": [
    "**Load data objects from local backup**"
   ]
  },
  {
   "cell_type": "code",
   "execution_count": 8,
   "metadata": {
    "collapsed": true,
    "jupyter": {
     "outputs_hidden": true
    }
   },
   "outputs": [
    {
     "name": "stdout",
     "output_type": "stream",
     "text": [
      "{'attributes': {'application': ['aqueduct-water-risk'],\n",
      "                'attributesPath': None,\n",
      "                'blockchain': {},\n",
      "                'clonedHost': {},\n",
      "                'connectorType': 'rest',\n",
      "                'connectorUrl': 'https://wri-rw.carto.com/tables/aquifer_names_simple_v01/public',\n",
      "                'createdAt': '2019-10-10T12:15:12.133Z',\n",
      "                'dataLastUpdated': None,\n",
      "                'dataPath': None,\n",
      "                'env': 'production',\n",
      "                'errorMessage': '',\n",
      "                'geoInfo': False,\n",
      "                'layer': [{'attributes': {'application': ['aqueduct-water-risk'],\n",
      "                                          'applicationConfig': {},\n",
      "                                          'createdAt': '2019-10-10T12:15:13.576Z',\n",
      "                                          'dataset': '36b49fae-b790-4f1f-a9e0-cbe39aa89800',\n",
      "                                          'default': False,\n",
      "                                          'description': '',\n",
      "                                          'env': 'production',\n",
      "                                          'interactionConfig': {'output': [{'column': 'major_aquifer_system_name',\n",
      "                                                                            'format': None,\n",
      "                                                                            'prefix': '',\n",
      "                                                                            'property': 'Aquifer',\n",
      "                                                                            'suffix': '',\n",
      "                                                                            'type': 'string'}]},\n",
      "                                          'iso': [],\n",
      "                                          'layerConfig': {'account': 'wri-rw',\n",
      "                                                          'body': {'layers': [{'options': {'cartocss': '#aquifer_names_simple_v01 '\n",
      "                                                                                                       '{ '\n",
      "                                                                                                       'polygon-fill: '\n",
      "                                                                                                       'transparent; '\n",
      "                                                                                                       'polygon-opacity: '\n",
      "                                                                                                       '0; '\n",
      "                                                                                                       'polygon-comp-op: '\n",
      "                                                                                                       'overlay; '\n",
      "                                                                                                       '} '\n",
      "                                                                                                       '#aquifer_names_simple_v01::outline '\n",
      "                                                                                                       '{ '\n",
      "                                                                                                       'line-width: '\n",
      "                                                                                                       '0.5; '\n",
      "                                                                                                       'line-color: '\n",
      "                                                                                                       '#C0C0C0; '\n",
      "                                                                                                       'line-opacity: '\n",
      "                                                                                                       '0;}',\n",
      "                                                                                           'cartocss_version': '2.3.0',\n",
      "                                                                                           'sql': 'SELECT '\n",
      "                                                                                                  '* '\n",
      "                                                                                                  'FROM '\n",
      "                                                                                                  'aquifer_names_simple_v01'},\n",
      "                                                                               'type': 'cartodb'}]}},\n",
      "                                          'legendConfig': {},\n",
      "                                          'name': 'Aquifers',\n",
      "                                          'protected': False,\n",
      "                                          'provider': 'cartodb',\n",
      "                                          'published': True,\n",
      "                                          'slug': 'Aquifers',\n",
      "                                          'staticImageConfig': {},\n",
      "                                          'updatedAt': '2019-10-10T12:15:13.576Z',\n",
      "                                          'userId': '5936af3802d342203186ab99'},\n",
      "                           'id': '3996294a-5875-4e3b-bfae-5b89325639f7',\n",
      "                           'type': 'layer'}],\n",
      "                'layerRelevantProps': [],\n",
      "                'legend': {'binary': [],\n",
      "                           'boolean': [],\n",
      "                           'byte': [],\n",
      "                           'country': [],\n",
      "                           'date': [],\n",
      "                           'double': [],\n",
      "                           'float': [],\n",
      "                           'half_float': [],\n",
      "                           'integer': [],\n",
      "                           'keyword': [],\n",
      "                           'nested': [],\n",
      "                           'region': [],\n",
      "                           'scaled_float': [],\n",
      "                           'short': [],\n",
      "                           'text': []},\n",
      "                'mainDateField': None,\n",
      "                'metadata': [],\n",
      "                'name': 'Aquifers',\n",
      "                'overwrite': False,\n",
      "                'protected': False,\n",
      "                'provider': 'cartodb',\n",
      "                'published': True,\n",
      "                'slug': 'Aquifers',\n",
      "                'sources': [],\n",
      "                'status': 'saved',\n",
      "                'subtitle': None,\n",
      "                'tableName': 'aquifer_names_simple_v01',\n",
      "                'taskId': None,\n",
      "                'type': None,\n",
      "                'updatedAt': '2019-10-10T12:15:12.467Z',\n",
      "                'userId': '5936af3802d342203186ab99',\n",
      "                'verified': False,\n",
      "                'vocabulary': [],\n",
      "                'widget': [],\n",
      "                'widgetRelevantProps': []},\n",
      " 'id': '36b49fae-b790-4f1f-a9e0-cbe39aa89800',\n",
      " 'server': 'https://api.resourcewatch.org',\n",
      " 'type': 'dataset'}\n"
     ]
    }
   ],
   "source": [
    "files = os.listdir(path)\n",
    "\n",
    "with open(path+'/'+files[0]) as json_file:\n",
    "    data = json.load(json_file)\n",
    "    \n",
    "pprint(data)"
   ]
  },
  {
   "cell_type": "markdown",
   "metadata": {},
   "source": [
    "### Delete `aqueduct-water-risk` production Data objects\n",
    "\n",
    "**Delete layers**"
   ]
  },
  {
   "cell_type": "code",
   "execution_count": 9,
   "metadata": {},
   "outputs": [],
   "source": [
    "prod_server = \"https://api.resourcewatch.org\"\n",
    "app = [\"aqueduct-water-risk\"]\n",
    "env = 'production'\n",
    "object_type = ['layer']\n",
    "\n",
    "collection = LMIPy.Collection(app=app, env=env, object_type=object_type, server=prod_server, limit=1000)\n",
    "\n",
    "for n in range(len(collection)):\n",
    "    ly = LMIPy.Layer(id_hash=collection[n].id)\n",
    "    ly.delete(token=token, force=True)"
   ]
  },
  {
   "cell_type": "markdown",
   "metadata": {},
   "source": [
    "**Delete datasets**"
   ]
  },
  {
   "cell_type": "code",
   "execution_count": 15,
   "metadata": {},
   "outputs": [
    {
     "name": "stdout",
     "output_type": "stream",
     "text": [
      "https://api.resourcewatch.org/dataset/5d6b664e-259d-4e38-b825-1abd00075bba\n",
      "Deletion successful!\n",
      "https://api.resourcewatch.org/dataset/36b49fae-b790-4f1f-a9e0-cbe39aa89800\n",
      "Deletion successful!\n",
      "https://api.resourcewatch.org/dataset/39f4f7a8-288b-4758-9aaf-51e77e9346f5\n",
      "Deletion successful!\n",
      "https://api.resourcewatch.org/dataset/d2ab2b61-6576-4e14-9cfb-faa82d98bbcf\n",
      "Deletion successful!\n",
      "https://api.resourcewatch.org/dataset/a8a2d3b6-5c0e-4107-86f7-218dcc9cbb1d\n",
      "Deletion successful!\n",
      "https://api.resourcewatch.org/dataset/8720b22c-34dc-4ae4-bd1e-586d7a0a6f76\n",
      "Deletion successful!\n",
      "https://api.resourcewatch.org/dataset/758b1daf-c9ed-4657-b716-8154d84465ce\n",
      "Deletion successful!\n",
      "https://api.resourcewatch.org/dataset/ef793652-d05e-47f4-862e-e47b007bab01\n",
      "Deletion successful!\n",
      "https://api.resourcewatch.org/dataset/92792fce-e3b3-4f9a-97ef-48e50e596563\n",
      "Deletion successful!\n",
      "https://api.resourcewatch.org/dataset/03342e33-fd78-47d2-9111-7f81119ca83f\n",
      "Deletion successful!\n",
      "https://api.resourcewatch.org/dataset/94e7e046-96d6-4084-9f4e-68c873431e27/layer/0d1d22eb-bbb9-446a-83a0-d30c5ea7d293\n",
      "Deletion successful!\n",
      "https://api.resourcewatch.org/dataset/94e7e046-96d6-4084-9f4e-68c873431e27/layer/572026a1-b2f5-4287-9d7f-ba6e3f27db29\n",
      "Deletion successful!\n",
      "https://api.resourcewatch.org/dataset/94e7e046-96d6-4084-9f4e-68c873431e27/layer/d0cf86bb-3ca9-4129-80d8-fc0c490ff031\n",
      "Deletion successful!\n",
      "https://api.resourcewatch.org/dataset/94e7e046-96d6-4084-9f4e-68c873431e27\n",
      "Deletion successful!\n",
      "https://api.resourcewatch.org/dataset/04e11825-2aaa-4e8f-bb63-5ecfc1449474/layer/3249b91c-90ce-4526-89d8-f732cb68e2b1\n",
      "Deletion successful!\n",
      "https://api.resourcewatch.org/dataset/04e11825-2aaa-4e8f-bb63-5ecfc1449474/layer/5d35b110-fbef-4442-a80b-bbb64382814d\n",
      "Deletion successful!\n",
      "https://api.resourcewatch.org/dataset/04e11825-2aaa-4e8f-bb63-5ecfc1449474/layer/75cc563c-e751-45ec-9a9f-d86a9ec0703c\n",
      "Deletion successful!\n",
      "https://api.resourcewatch.org/dataset/04e11825-2aaa-4e8f-bb63-5ecfc1449474\n",
      "Deletion successful!\n",
      "https://api.resourcewatch.org/dataset/3e805013-b311-4010-81c2-c035d19b87de\n",
      "Deletion successful!\n"
     ]
    }
   ],
   "source": [
    "prod_server = \"https://api.resourcewatch.org\"\n",
    "app = [\"aqueduct-water-risk\"]\n",
    "env = 'production'\n",
    "object_type = ['dataset']\n",
    "\n",
    "collection = LMIPy.Collection(app=app, env=env, object_type=object_type, server=prod_server, limit=1000)\n",
    "\n",
    "for n in range(len(collection)):\n",
    "    ds = LMIPy.Dataset(id_hash=collection[n].id)\n",
    "    ds.delete(token=token, force=True)"
   ]
  },
  {
   "cell_type": "markdown",
   "metadata": {},
   "source": [
    "### Clone `aqueduct-water-risk` staging Data objects into production\n",
    "\n",
    "**Clone Water Risk datasets abd layers**"
   ]
  },
  {
   "cell_type": "code",
   "execution_count": 86,
   "metadata": {},
   "outputs": [],
   "source": [
    "staging_server = \"https://staging-api.globalforestwatch.org\"\n",
    "prod_server = \"https://api.resourcewatch.org\"\n",
    "env = 'production'"
   ]
  },
  {
   "cell_type": "code",
   "execution_count": 88,
   "metadata": {},
   "outputs": [
    {
     "name": "stdout",
     "output_type": "stream",
     "text": [
      "Dataset 529e614f-9192-43a5-a890-ce1dc3630aa6 Annual indicator layers\n",
      "Dataset bd965bd5-9568-4637-a873-2872f39c4803 Monthly indicator layers\n",
      "Dataset 17f3b259-b3b9-4bd6-910d-852fb3c1c510 Projected indicator layers\n",
      "Dataset dee362f5-6631-46b2-a8e3-bdd05d5605ce Predefined weights layers\n",
      "Dataset cbe7cee3-b44b-4e56-8233-9111b4076fe0 Custom weights layers\n",
      "Dataset 57de0a79-caaa-4caa-bcfd-a1faff7103b8 FAO hydrobasins\n",
      "Dataset f239298f-25a1-430d-9723-f0a853b81184 Aquifers\n"
     ]
    }
   ],
   "source": [
    "datasets_ids = [\n",
    "    '529e614f-9192-43a5-a890-ce1dc3630aa6',\n",
    "    'bd965bd5-9568-4637-a873-2872f39c4803',\n",
    "    '17f3b259-b3b9-4bd6-910d-852fb3c1c510',\n",
    "    'dee362f5-6631-46b2-a8e3-bdd05d5605ce',\n",
    "    'cbe7cee3-b44b-4e56-8233-9111b4076fe0',\n",
    "    '57de0a79-caaa-4caa-bcfd-a1faff7103b8',\n",
    "    'f239298f-25a1-430d-9723-f0a853b81184'\n",
    "]\n",
    "\n",
    "datasets = []\n",
    "for id in datasets_ids:\n",
    "    ds = LMIPy.Dataset(id, server=staging_server)\n",
    "    print(ds)\n",
    "    datasets.append(ds)"
   ]
  },
  {
   "cell_type": "code",
   "execution_count": 94,
   "metadata": {},
   "outputs": [
    {
     "name": "stdout",
     "output_type": "stream",
     "text": [
      "Creating clone dataset\n",
      "https://api.resourcewatch.org/v1/dataset/5152c286-53c1-4583-9519-816a6e41889d\n",
      "Creating clone layer on target dataset\n",
      "https://api.resourcewatch.org/v1/dataset/5152c286-53c1-4583-9519-816a6e41889d/layer/d98ed153-b1d4-4793-bf4c-44cecbd63e53\n",
      "No child widgets to clone!\n",
      "Creating clone dataset\n",
      "https://api.resourcewatch.org/v1/dataset/3e79974e-35bd-49b5-83f8-7abf46fbc3b0\n",
      "Creating clone layer on target dataset\n",
      "https://api.resourcewatch.org/v1/dataset/3e79974e-35bd-49b5-83f8-7abf46fbc3b0/layer/26bebe12-64bc-416f-a6d9-855d73be2ece\n",
      "No child widgets to clone!\n",
      "Creating clone dataset\n",
      "https://api.resourcewatch.org/v1/dataset/e66d3f7b-6919-4a37-a3aa-74d7ba37ec0b\n",
      "Creating clone layer on target dataset\n",
      "https://api.resourcewatch.org/v1/dataset/e66d3f7b-6919-4a37-a3aa-74d7ba37ec0b/layer/a7c3ffe1-aa0e-46ed-b947-d3cbafa2a5d1\n",
      "Creating clone layer on target dataset\n",
      "https://api.resourcewatch.org/v1/dataset/e66d3f7b-6919-4a37-a3aa-74d7ba37ec0b/layer/3ad0a9aa-36e7-476b-9f78-113f1d76144a\n",
      "Creating clone layer on target dataset\n",
      "https://api.resourcewatch.org/v1/dataset/e66d3f7b-6919-4a37-a3aa-74d7ba37ec0b/layer/4bbc7f03-c5fd-46d6-8212-318f3f3d85a3\n",
      "Creating clone layer on target dataset\n",
      "https://api.resourcewatch.org/v1/dataset/e66d3f7b-6919-4a37-a3aa-74d7ba37ec0b/layer/0157ee28-48a2-43e7-8d68-b0f1d4a39bb1\n",
      "Creating clone layer on target dataset\n",
      "https://api.resourcewatch.org/v1/dataset/e66d3f7b-6919-4a37-a3aa-74d7ba37ec0b/layer/ff7f5739-b2ef-4930-a7ab-7205a72a7dc3\n",
      "Creating clone layer on target dataset\n",
      "https://api.resourcewatch.org/v1/dataset/e66d3f7b-6919-4a37-a3aa-74d7ba37ec0b/layer/870edc4d-8112-4e3f-a823-3f6d0f02bf79\n",
      "Creating clone layer on target dataset\n",
      "https://api.resourcewatch.org/v1/dataset/e66d3f7b-6919-4a37-a3aa-74d7ba37ec0b/layer/9a59e767-c50a-4f05-9b71-6104acaa4108\n",
      "Creating clone layer on target dataset\n",
      "https://api.resourcewatch.org/v1/dataset/e66d3f7b-6919-4a37-a3aa-74d7ba37ec0b/layer/c7c4d3b7-b6f6-46dc-bb03-311cc2a5557d\n",
      "No child widgets to clone!\n",
      "Creating clone dataset\n",
      "https://api.resourcewatch.org/v1/dataset/75f2301c-1455-4fb2-bf18-519ff9fb8c83\n",
      "Creating clone layer on target dataset\n",
      "https://api.resourcewatch.org/v1/dataset/75f2301c-1455-4fb2-bf18-519ff9fb8c83/layer/604fce20-1804-4e72-95bb-0817874c4d19\n",
      "No child widgets to clone!\n",
      "Creating clone dataset\n",
      "https://api.resourcewatch.org/v1/dataset/ceee5125-f9f5-4aab-acc8-50cbae469178\n",
      "Creating clone layer on target dataset\n",
      "https://api.resourcewatch.org/v1/dataset/ceee5125-f9f5-4aab-acc8-50cbae469178/layer/2b01fed5-7e1a-458e-bd35-41953e81799d\n",
      "No child widgets to clone!\n",
      "Creating clone dataset\n",
      "https://api.resourcewatch.org/v1/dataset/14a65097-974b-4084-932d-c7bdc5fe70f3\n",
      "Creating clone layer on target dataset\n",
      "https://api.resourcewatch.org/v1/dataset/14a65097-974b-4084-932d-c7bdc5fe70f3/layer/c3844335-db59-4a42-94fa-77ff47adc731\n",
      "No child widgets to clone!\n",
      "Creating clone dataset\n",
      "https://api.resourcewatch.org/v1/dataset/d491f094-ad6e-4015-b248-1d1cd83667fa\n",
      "Creating clone layer on target dataset\n",
      "https://api.resourcewatch.org/v1/dataset/d491f094-ad6e-4015-b248-1d1cd83667fa/layer/695a26a0-92d3-4a5f-98e5-1ebc4d55ba27\n",
      "No child widgets to clone!\n"
     ]
    }
   ],
   "source": [
    "for dataset in datasets:\n",
    "    dataset.clone(token=token, env=env, clone_server=prod_server, dataset_params=dataset.attributes, clone_children=True)"
   ]
  },
  {
   "cell_type": "markdown",
   "metadata": {},
   "source": [
    "**Clone Country and Province Rankings datasets and layers**"
   ]
  },
  {
   "cell_type": "code",
   "execution_count": 106,
   "metadata": {},
   "outputs": [
    {
     "name": "stdout",
     "output_type": "stream",
     "text": [
      "Dataset fd4b4ba5-a16a-45a4-bc6b-954397e37bda Country rankings\n",
      "Dataset e0adfbfb-441d-4ec5-9e4c-7d051d0f7b22 Province rankings\n"
     ]
    }
   ],
   "source": [
    "datasets_ids = [\n",
    "    'fd4b4ba5-a16a-45a4-bc6b-954397e37bda',\n",
    "    'e0adfbfb-441d-4ec5-9e4c-7d051d0f7b22'\n",
    "]\n",
    "\n",
    "datasets = []\n",
    "for id in datasets_ids:\n",
    "    ds = LMIPy.Dataset(id, server=staging_server)\n",
    "    print(ds)\n",
    "    datasets.append(ds)"
   ]
  },
  {
   "cell_type": "code",
   "execution_count": 110,
   "metadata": {},
   "outputs": [
    {
     "name": "stdout",
     "output_type": "stream",
     "text": [
      "Creating clone dataset\n",
      "https://api.resourcewatch.org/v1/dataset/4d47ebba-0d4f-4e5e-9b67-4b4ed3fb6e37\n",
      "Creating clone layer on target dataset\n",
      "https://api.resourcewatch.org/v1/dataset/4d47ebba-0d4f-4e5e-9b67-4b4ed3fb6e37/layer/bb40538f-9613-4254-b51b-18de552b4b60\n",
      "Creating clone layer on target dataset\n",
      "https://api.resourcewatch.org/v1/dataset/4d47ebba-0d4f-4e5e-9b67-4b4ed3fb6e37/layer/417ccff6-4207-48e7-8e4c-56e2de89c4c2\n",
      "Creating clone layer on target dataset\n",
      "https://api.resourcewatch.org/v1/dataset/4d47ebba-0d4f-4e5e-9b67-4b4ed3fb6e37/layer/46fdbe15-4689-40d2-bc19-2d92ad10a43a\n",
      "https://api.resourcewatch.org/v1/dataset/4d47ebba-0d4f-4e5e-9b67-4b4ed3fb6e37/widget\n",
      "{'data': {'id': 'e6331e46-ef72-44a3-b2a6-345493980c3f', 'type': 'widget', 'attributes': {'name': 'Country rankings', 'dataset': '4d47ebba-0d4f-4e5e-9b67-4b4ed3fb6e37', 'slug': 'Country-rankings', 'userId': '5b60606f5a4e04a7f54ff857', 'description': '', 'application': ['aqueduct-water-risk'], 'verified': False, 'default': False, 'protected': False, 'defaultEditableWidget': False, 'published': True, 'freeze': False, 'env': 'production', 'widgetConfig': {'data': [{'url': \"https://wri-rw.carto.com/api/v2/sql?q=SELECT gid_0 as iso, name_0 as country, indicator_name, weight, score, score_ranked FROM aqueduct_results_v01_country_v06 WHERE indicator_name = {{indicator}} and weight in ('Tot', 'Irr', 'Dom', 'Ind', 'Pop') and score != -9999 ORDER BY score_ranked&hash=40736\"}], 'params_config': [{'key': 'indicator', 'required': True}]}, 'template': False, 'createdAt': '2020-02-07T14:36:43.777Z', 'updatedAt': '2020-02-07T14:36:43.778Z'}}}\n",
      "Widget created.\n",
      "Creating clone dataset\n",
      "https://api.resourcewatch.org/v1/dataset/460d7079-b934-4926-b542-96a44b18c741\n",
      "Creating clone layer on target dataset\n",
      "https://api.resourcewatch.org/v1/dataset/460d7079-b934-4926-b542-96a44b18c741/layer/d9747537-7c9e-42c5-a5ac-a3a070d4f9b3\n",
      "Creating clone layer on target dataset\n",
      "https://api.resourcewatch.org/v1/dataset/460d7079-b934-4926-b542-96a44b18c741/layer/8c6db798-f54a-456c-94d1-edce5abd4c68\n",
      "Creating clone layer on target dataset\n",
      "https://api.resourcewatch.org/v1/dataset/460d7079-b934-4926-b542-96a44b18c741/layer/1b17ea58-6e3e-421c-8855-fc0bd6da07c0\n",
      "https://api.resourcewatch.org/v1/dataset/460d7079-b934-4926-b542-96a44b18c741/widget\n",
      "{'data': {'id': '4ffde21c-f7da-44fb-9d34-5354698d2dcb', 'type': 'widget', 'attributes': {'name': 'Province rankings', 'dataset': '460d7079-b934-4926-b542-96a44b18c741', 'slug': 'Province-rankings', 'userId': '5b60606f5a4e04a7f54ff857', 'description': '', 'application': ['aqueduct-water-risk'], 'verified': False, 'default': False, 'protected': False, 'defaultEditableWidget': False, 'published': True, 'freeze': False, 'env': 'production', 'widgetConfig': {'data': [{'url': \"https://wri-rw.carto.com/api/v2/sql?q=SELECT gid_0 as iso, name_0 as country, name_1 as province, indicator_name, weight, score, score_ranked FROM aqueduct_results_v01_province_v06 WHERE indicator_name = {{indicator}} and gid_0 = {{iso}} and weight in ('Tot', 'Irr', 'Dom', 'Ind', 'Pop') and score != -9999 ORDER BY score_ranked&hash=55695\"}], 'params_config': [{'key': 'indicator', 'required': True}, {'key': 'iso', 'required': True}]}, 'template': False, 'createdAt': '2020-02-07T14:36:54.725Z', 'updatedAt': '2020-02-07T14:36:54.725Z'}}}\n",
      "Widget created.\n"
     ]
    }
   ],
   "source": [
    "for dataset in datasets:\n",
    "    \n",
    "    attr = dataset.attributes\n",
    "    attr['application'] = ['aqueduct-water-risk']\n",
    "    \n",
    "    dataset.clone(token=token, env=env, clone_server=prod_server, dataset_params=attr, clone_children=True)"
   ]
  },
  {
   "cell_type": "markdown",
   "metadata": {},
   "source": [
    "**Check cloned datasets**"
   ]
  },
  {
   "cell_type": "code",
   "execution_count": 111,
   "metadata": {},
   "outputs": [
    {
     "data": {
      "text/html": [
       "<div class='item_container' style='height: auto; overflow: hidden; border: 1px solid #80ceb9;border-radius: 2px; background: #f2fffb; line-height: 1.21429em; padding: 10px;''><div class='item_left' style='width: 210px; float: left;''><a href='https://resourcewatch.org/' target='_blank'><img class='itemThumbnail' src='https://resourcewatch.org/static/images/logo-embed.png'></a></div><div class='item_right' style='float: none; width: auto; overflow: hidden;''><b>0. </b><a href=https://api.resourcewatch.org/v1/dataset/5152c286-53c1-4583-9519-816a6e41889d?includes=vocabulary,metadata,layer,widget target='_blank'><b>Annual indicator layers</b></a><br> Carto table: <a href=https://wri-rw.carto.com/tables/water_risk_indicators_annual/public target='_blank'>water_risk_indicators_annual</a> 🗺Dataset in AQUEDUCT-WATER-RISK.<br>Last Modified: 2020-02-07T14:06:35.509Z<br>Connector: cartodb | Published: True </div> </div><p></p><div class='item_container' style='height: auto; overflow: hidden; border: 1px solid #80ceb9;border-radius: 2px; background: #f2fffb; line-height: 1.21429em; padding: 10px;''><div class='item_left' style='width: 210px; float: left;''><a href='https://resourcewatch.org/' target='_blank'><img class='itemThumbnail' src='https://resourcewatch.org/static/images/logo-embed.png'></a></div><div class='item_right' style='float: none; width: auto; overflow: hidden;''><b>1. </b><a href=https://api.resourcewatch.org/v1/dataset/d491f094-ad6e-4015-b248-1d1cd83667fa?includes=vocabulary,metadata,layer,widget target='_blank'><b>Aquifers</b></a><br> Carto table: <a href=https://wri-rw.carto.com/tables/aquifer_names_simple_v01/public target='_blank'>aquifer_names_simple_v01</a> 🗺Dataset in AQUEDUCT-WATER-RISK.<br>Last Modified: 2020-02-07T14:07:27.873Z<br>Connector: cartodb | Published: True </div> </div><p></p><div class='item_container' style='height: auto; overflow: hidden; border: 1px solid #80ceb9;border-radius: 2px; background: #f2fffb; line-height: 1.21429em; padding: 10px;''><div class='item_left' style='width: 210px; float: left;''><a href='https://resourcewatch.org/' target='_blank'><img class='itemThumbnail' src='https://resourcewatch.org/static/images/logo-embed.png'></a></div><div class='item_right' style='float: none; width: auto; overflow: hidden;''><b>2. </b><a href=https://api.resourcewatch.org/v1/dataset/4d47ebba-0d4f-4e5e-9b67-4b4ed3fb6e37?includes=vocabulary,metadata,layer,widget target='_blank'><b>Country rankings</b></a><br> Carto table: <a href=https://wri-rw.carto.com/tables/aqueduct_results_v01_country_v03/public target='_blank'>aqueduct_results_v01_country_v03</a> 🗺Dataset in AQUEDUCT-WATER-RISK.<br>Last Modified: 2020-02-07T14:36:31.828Z<br>Connector: cartodb | Published: True </div> </div><p></p><div class='item_container' style='height: auto; overflow: hidden; border: 1px solid #80ceb9;border-radius: 2px; background: #f2fffb; line-height: 1.21429em; padding: 10px;''><div class='item_left' style='width: 210px; float: left;''><a href='https://resourcewatch.org/' target='_blank'><img class='itemThumbnail' src='https://resourcewatch.org/static/images/logo-embed.png'></a></div><div class='item_right' style='float: none; width: auto; overflow: hidden;''><b>3. </b><a href=https://api.resourcewatch.org/v1/dataset/ceee5125-f9f5-4aab-acc8-50cbae469178?includes=vocabulary,metadata,layer,widget target='_blank'><b>Custom weights layers</b></a><br> Carto table: <a href=https://wri-rw.carto.com/tables/water_risk_indicators_annual/public target='_blank'>water_risk_indicators_annual</a> 🗺Dataset in AQUEDUCT-WATER-RISK.<br>Last Modified: 2020-02-07T14:07:19.330Z<br>Connector: cartodb | Published: True </div> </div><p></p><div class='item_container' style='height: auto; overflow: hidden; border: 1px solid #80ceb9;border-radius: 2px; background: #f2fffb; line-height: 1.21429em; padding: 10px;''><div class='item_left' style='width: 210px; float: left;''><a href='https://resourcewatch.org/' target='_blank'><img class='itemThumbnail' src='https://resourcewatch.org/static/images/logo-embed.png'></a></div><div class='item_right' style='float: none; width: auto; overflow: hidden;''><b>4. </b><a href=https://api.resourcewatch.org/v1/dataset/14a65097-974b-4084-932d-c7bdc5fe70f3?includes=vocabulary,metadata,layer,widget target='_blank'><b>FAO hydrobasins</b></a><br> Carto table: <a href=https://wri-rw.carto.com/tables/hydrobasins_fao_fiona_merged_v01/public target='_blank'>hydrobasins_fao_fiona_merged_v01</a> 🗺Dataset in AQUEDUCT-WATER-RISK.<br>Last Modified: 2020-02-07T14:07:22.680Z<br>Connector: cartodb | Published: True </div> </div><p></p><div class='item_container' style='height: auto; overflow: hidden; border: 1px solid #80ceb9;border-radius: 2px; background: #f2fffb; line-height: 1.21429em; padding: 10px;''><div class='item_left' style='width: 210px; float: left;''><a href='https://resourcewatch.org/' target='_blank'><img class='itemThumbnail' src='https://resourcewatch.org/static/images/logo-embed.png'></a></div><div class='item_right' style='float: none; width: auto; overflow: hidden;''><b>5. </b><a href=https://api.resourcewatch.org/v1/dataset/3e79974e-35bd-49b5-83f8-7abf46fbc3b0?includes=vocabulary,metadata,layer,widget target='_blank'><b>Monthly indicator layers</b></a><br> Carto table: <a href=https://wri-rw.carto.com/tables/water_risk_indicators_monthly/public target='_blank'>water_risk_indicators_monthly</a> 🗺Dataset in AQUEDUCT-WATER-RISK.<br>Last Modified: 2020-02-07T14:06:40.263Z<br>Connector: cartodb | Published: True </div> </div><p></p><div class='item_container' style='height: auto; overflow: hidden; border: 1px solid #80ceb9;border-radius: 2px; background: #f2fffb; line-height: 1.21429em; padding: 10px;''><div class='item_left' style='width: 210px; float: left;''><a href='https://resourcewatch.org/' target='_blank'><img class='itemThumbnail' src='https://resourcewatch.org/static/images/logo-embed.png'></a></div><div class='item_right' style='float: none; width: auto; overflow: hidden;''><b>6. </b><a href=https://api.resourcewatch.org/v1/dataset/75f2301c-1455-4fb2-bf18-519ff9fb8c83?includes=vocabulary,metadata,layer,widget target='_blank'><b>Predefined weights layers</b></a><br> Carto table: <a href=https://wri-rw.carto.com/tables/water_risk_indicators_annual/public target='_blank'>water_risk_indicators_annual</a> 🗺Dataset in AQUEDUCT-WATER-RISK.<br>Last Modified: 2020-02-07T14:07:16.860Z<br>Connector: cartodb | Published: True </div> </div><p></p><div class='item_container' style='height: auto; overflow: hidden; border: 1px solid #80ceb9;border-radius: 2px; background: #f2fffb; line-height: 1.21429em; padding: 10px;''><div class='item_left' style='width: 210px; float: left;''><a href='https://resourcewatch.org/' target='_blank'><img class='itemThumbnail' src='https://resourcewatch.org/static/images/logo-embed.png'></a></div><div class='item_right' style='float: none; width: auto; overflow: hidden;''><b>7. </b><a href=https://api.resourcewatch.org/v1/dataset/e66d3f7b-6919-4a37-a3aa-74d7ba37ec0b?includes=vocabulary,metadata,layer,widget target='_blank'><b>Projected indicator layers</b></a><br> Carto table: <a href=https://wri-rw.carto.com/tables/water_risk_indicators_projections/public target='_blank'>water_risk_indicators_projections</a> 🗺Dataset in AQUEDUCT-WATER-RISK.<br>Last Modified: 2020-02-07T14:06:47.001Z<br>Connector: cartodb | Published: True </div> </div><p></p><div class='item_container' style='height: auto; overflow: hidden; border: 1px solid #80ceb9;border-radius: 2px; background: #f2fffb; line-height: 1.21429em; padding: 10px;''><div class='item_left' style='width: 210px; float: left;''><a href='https://resourcewatch.org/' target='_blank'><img class='itemThumbnail' src='https://resourcewatch.org/static/images/logo-embed.png'></a></div><div class='item_right' style='float: none; width: auto; overflow: hidden;''><b>8. </b><a href=https://api.resourcewatch.org/v1/dataset/460d7079-b934-4926-b542-96a44b18c741?includes=vocabulary,metadata,layer,widget target='_blank'><b>Province rankings</b></a><br> Carto table: <a href=https://wri-rw.carto.com/tables/aqueduct_results_v01_province_v03/public target='_blank'>aqueduct_results_v01_province_v03</a> 🗺Dataset in AQUEDUCT-WATER-RISK.<br>Last Modified: 2020-02-07T14:36:46.252Z<br>Connector: cartodb | Published: True </div> </div>"
      ],
      "text/plain": [
       "[0. Dataset 5152c286-53c1-4583-9519-816a6e41889d Annual indicator layers,\n",
       " 1. Dataset d491f094-ad6e-4015-b248-1d1cd83667fa Aquifers,\n",
       " 2. Dataset 4d47ebba-0d4f-4e5e-9b67-4b4ed3fb6e37 Country rankings,\n",
       " 3. Dataset ceee5125-f9f5-4aab-acc8-50cbae469178 Custom weights layers,\n",
       " 4. Dataset 14a65097-974b-4084-932d-c7bdc5fe70f3 FAO hydrobasins,\n",
       " 5. Dataset 3e79974e-35bd-49b5-83f8-7abf46fbc3b0 Monthly indicator layers,\n",
       " 6. Dataset 75f2301c-1455-4fb2-bf18-519ff9fb8c83 Predefined weights layers,\n",
       " 7. Dataset e66d3f7b-6919-4a37-a3aa-74d7ba37ec0b Projected indicator layers,\n",
       " 8. Dataset 460d7079-b934-4926-b542-96a44b18c741 Province rankings]"
      ]
     },
     "execution_count": 111,
     "metadata": {},
     "output_type": "execute_result"
    }
   ],
   "source": [
    "prod_server = \"https://api.resourcewatch.org\"\n",
    "app = [\"aqueduct-water-risk\"]\n",
    "env = 'production'\n",
    "\n",
    "collection = LMIPy.Collection(app=app, object_type = ['dataset'], env=env, server=prod_server, limit=1000)\n",
    "\n",
    "collection"
   ]
  },
  {
   "cell_type": "markdown",
   "metadata": {},
   "source": [
    "**Cloned datasets ids**"
   ]
  },
  {
   "cell_type": "code",
   "execution_count": 115,
   "metadata": {},
   "outputs": [
    {
     "name": "stdout",
     "output_type": "stream",
     "text": [
      "['5152c286-53c1-4583-9519-816a6e41889d', 'd491f094-ad6e-4015-b248-1d1cd83667fa', '4d47ebba-0d4f-4e5e-9b67-4b4ed3fb6e37', 'ceee5125-f9f5-4aab-acc8-50cbae469178', '14a65097-974b-4084-932d-c7bdc5fe70f3', '3e79974e-35bd-49b5-83f8-7abf46fbc3b0', '75f2301c-1455-4fb2-bf18-519ff9fb8c83', 'e66d3f7b-6919-4a37-a3aa-74d7ba37ec0b', '460d7079-b934-4926-b542-96a44b18c741']\n"
     ]
    }
   ],
   "source": [
    "datasets_ids = []\n",
    "for n in range(len(collection)):\n",
    "    datasets_ids.append(collection[n].id)\n",
    "    \n",
    "print(datasets_ids)"
   ]
  }
 ],
 "metadata": {
  "kernelspec": {
   "display_name": "Python 3",
   "language": "python",
   "name": "python3"
  },
  "language_info": {
   "codemirror_mode": {
    "name": "ipython",
    "version": 3
   },
   "file_extension": ".py",
   "mimetype": "text/x-python",
   "name": "python",
   "nbconvert_exporter": "python",
   "pygments_lexer": "ipython3",
   "version": "3.7.4"
  }
 },
 "nbformat": 4,
 "nbformat_minor": 4
}
