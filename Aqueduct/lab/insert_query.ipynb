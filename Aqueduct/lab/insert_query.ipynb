{
 "cells": [
  {
   "cell_type": "markdown",
   "metadata": {},
   "source": [
    "# Migration of old table structure to the new one\n"
   ]
  },
  {
   "cell_type": "markdown",
   "metadata": {},
   "source": [
    "### Table columns:"
   ]
  },
  {
   "cell_type": "code",
   "execution_count": 14,
   "metadata": {},
   "outputs": [],
   "source": [
    "import requests\n",
    "import numpy as np\n",
    "from itertools import product\n",
    "import pandas as pd\n",
    "import json"
   ]
  },
  {
   "cell_type": "code",
   "execution_count": 22,
   "metadata": {},
   "outputs": [
    {
     "data": {
      "text/html": [
       "<div>\n",
       "<table border=\"1\" class=\"dataframe\">\n",
       "  <thead>\n",
       "    <tr style=\"text-align: right;\">\n",
       "      <th></th>\n",
       "      <th>basinid</th>\n",
       "      <th>cartodb_id</th>\n",
       "      <th>indicator</th>\n",
       "      <th>label</th>\n",
       "      <th>model</th>\n",
       "      <th>period</th>\n",
       "      <th>period_value</th>\n",
       "      <th>the_geom</th>\n",
       "      <th>the_geom_webmercator</th>\n",
       "      <th>type</th>\n",
       "      <th>value</th>\n",
       "      <th>year</th>\n",
       "    </tr>\n",
       "  </thead>\n",
       "  <tbody>\n",
       "  </tbody>\n",
       "</table>\n",
       "</div>"
      ],
      "text/plain": [
       "Empty DataFrame\n",
       "Columns: [basinid, cartodb_id, indicator, label, model, period, period_value, the_geom, the_geom_webmercator, type, value, year]\n",
       "Index: []"
      ]
     },
     "execution_count": 22,
     "metadata": {},
     "output_type": "execute_result"
    }
   ],
   "source": [
    "payload = {'q': 'select * from water_risk_indicators limit 2'}\n",
    "r = requests.get('https://wri-01.carto.com/api/v2/sql', params=payload)\n",
    "tableStructure= pd.read_json(json.dumps(r.json()['rows']), orient='records')\n",
    "tableStructure.head(0)"
   ]
  },
  {
   "cell_type": "markdown",
   "metadata": {},
   "source": [
    "### Template sql that we will use to generate the migration query"
   ]
  },
  {
   "cell_type": "markdown",
   "metadata": {},
   "source": [
    "Sql example for projected data:\n",
    "```sql\n",
    "SELECT  basinid, 'water supply' as indicator, bt2024tl as label,'optimistic' as model, 'year' as period, null as period_value, 'absolute' as type, bt2024tl as value, 2020 as year  FROM aqueduct_projections_20150309\n",
    "```\n",
    "\n",
    "Sql template for projected data:\n",
    "```sql\n",
    "SELECT  basinid, {{indicator}} as indicator, {II}{YY}{SS}{R}l as label, {{scenario}} as model, {{period}} as period, {{period_value}} as period_value, {{data_type}} as type, {II}{YY}{SS}{R}r as value, {{year}} as year  FROM aqueduct_projections_20150309\n",
    "```\n",
    "\n",
    "Sql example for projected data:\n",
    "```sql\n",
    "SELECT  basinid, 'water supply' as indicator, bws_cat  as label,'historic' as model, 'year' as period, null as period_value, 'absolute' as type, bws as value, 2014 as year  FROM aqueduct_global_dl_20150409\n",
    "```\n",
    "Sql template for current conditions data:\n",
    "\n",
    "```sql\n",
    "SELECT  basinid, {{indicator}} as indicator, {II}_cat  as label,'historic' as model, 'year' as period, null as period_value, 'absolute' as type, {II} as value, 2014 as year  FROM aqueduct_global_dl_20150409\n",
    "```"
   ]
  },
  {
   "cell_type": "markdown",
   "metadata": {},
   "source": [
    "\n",
    "{{indicator}}  \n",
    "{{scenario}}  \n",
    "{{period_type}}  \n",
    "{{period_value}}  \n",
    "{{data_type}}  \n",
    "{{year}}  \n",
    " \n",
    "For future projections: \n",
    " \n",
    "{II}{YY}{SS}{T}{X}  \n",
    "{II}\tindicator code  \n",
    "{YY}\tyear code  \n",
    "{SS}\tscenario code  \n",
    "{T}\tdata type code  \n",
    "{X}\tsuffix  \n",
    "\n",
    "{{indicator}} / {II}\tIndicator codes\n",
    "\n",
    "\twater stress (ws)\n",
    "\tseasonal variability (sv)\n",
    "\twater demand (ut)\n",
    "\twater supply (bt)\n",
    "\n",
    "{{period}} will be one of this: \n",
    "\n",
    "    month, \n",
    "    year, \n",
    "    quarter\n",
    "    \n",
    "{{period_value}} will depend on period_type value:\n",
    "\n",
    "    month: 1:12 \n",
    "    year: null\n",
    "    quarter: 1:4\n",
    "    \n",
    "{{scenario}} / {SS}\tScenario codes:\n",
    "\n",
    "    historic ( bs ) \n",
    "    pessimistic ( 38 ) ssp3 rcp85\n",
    "    optimistic ( 24 ) ssp2 rcp45\n",
    "    bau ( 28 ) ssp2 rcp85\n",
    "\n",
    "{{data_type}} / {T}\tData types:\n",
    "\n",
    "    absolute ( t )\n",
    "    change from baseline ( c )\n",
    "    uncertainity ( u )\n",
    "    \n",
    "{{year}} / {YY}\tYear codes:\n",
    "\n",
    "    2014 ( 00 )\n",
    "\t2020 ( 20 )\n",
    "\t2030 ( 30 )\n",
    "\t2040 ( 40 )\n",
    "\t\n",
    "\t\n",
    "{X}\tSuffixes\n",
    "\n",
    "    l\tlabel string\n",
    "    r\traw value"
   ]
  },
  {
   "cell_type": "code",
   "execution_count": 5,
   "metadata": {
    "scrolled": true
   },
   "outputs": [],
   "source": [
    "## 'SELECT  basinid, {{indicator}} as indicator, {II}{YY}{SS}{R}l as label, {{scenario}} as model, {{period_type}} as period, {{period_value}} as period_value, {{data_type}} as type, {II}{YY}{SS}{R}r as value, {{year}} as year  FROM aqueduct_projections_20150309'\n",
    "sqlTemplate =[\"SELECT  basinid, \",' as indicator, ', 'l::text as label, ', ' as model, ', ' as period, ', ' as period_value, ',' as type, ','r as value, ', ' as year  FROM aqueduct_projections_20150309']\n",
    "freplacedict={\n",
    "    'indicator':{\n",
    "        '{{indicator}}': ['\\'water_stress\\'', '\\'seasonal_variability\\'', '\\'water_demand\\'', '\\'water_supply\\''],\n",
    "        '{II}': ['ws', 'sv', 'ut', 'bt']\n",
    "                },\n",
    "    'scenario':{\n",
    "        '{{scenario}}': ['\\'historic\\'','\\'pessimistic\\'','\\'optimistic\\'','\\'bau\\''],\n",
    "        '{SS}': ['00','38','24','28']\n",
    "    },\n",
    "    'period_type':{\n",
    "        '{{period_type}}': [ '\\'year\\'','\\'month\\'', '\\'quarter\\'']\n",
    "    },\n",
    "    'period_value':{\n",
    "        '{{period_value}}': {\n",
    "            'month':{\n",
    "                'min': 1,\n",
    "                'max': 12\n",
    "                }, \n",
    "            'year': 'NULL', \n",
    "            'quarter':{\n",
    "                'min': 1,\n",
    "                'max': 4\n",
    "                }\n",
    "        }\n",
    "    },\n",
    "    'data_type':{\n",
    "        '{{data_type}}': ['\\'absolute\\'','\\'change_from_baseline\\'','\\'uncertainity\\''],\n",
    "        '{T}': ['t','c','u']\n",
    "    },\n",
    "    'year':{\n",
    "        '{{year}}': [2014, 2020, 2030, 2040],\n",
    "        '{YY}': ['bs','20','30','40']\n",
    "    },  \n",
    "};\n"
   ]
  },
  {
   "cell_type": "code",
   "execution_count": 6,
   "metadata": {},
   "outputs": [
    {
     "name": "stdout",
     "output_type": "stream",
     "text": [
      "[\"'baseline_water_stress'\", \"'interannual_variability'\", \"'seasonal_variability'\", \"'flood_occurrence'\", \"'drought_severity'\", \"'upstream_storage'\", \"'groundwater_stress'\", \"'return_flow_ratio'\", \"'upstream_protected_land'\", \"'media_coverage'\", \"'access_to_water'\", \"'threatened_amphibians'\"]\n"
     ]
    }
   ],
   "source": [
    "d = ['\\'Baseline Water Stress\\'',\n",
    "'\\'Interannual Variability\\'',\n",
    "'\\'Seasonal Variability\\'',\n",
    "'\\'Flood Occurrence\\'',\n",
    "'\\'Drought Severity\\'',\n",
    "'\\'Upstream Storage\\'',\n",
    "'\\'Groundwater Stress\\'',\n",
    "'\\'Return Flow Ratio\\'',\n",
    "'\\'Upstream Protected Land\\'',\n",
    "'\\'Media Coverage\\'',\n",
    "'\\'Access to Water\\'',\n",
    "'\\'Threatened Amphibians\\'']\n",
    "r=[]\n",
    "for l in d:\n",
    "    r.append(l.lower().strip(' \\t\\n\\r').replace(' ', '_'))\n",
    "print(r)"
   ]
  },
  {
   "cell_type": "code",
   "execution_count": 22,
   "metadata": {},
   "outputs": [],
   "source": [
    "#SELECT  basinid, {{indicator}} as indicator, {II}_cat  as label,'historic' as model, 'year' as period, null as period_value, 'absolute' as type, {II} as value, 2014 as year  FROM aqueduct_global_dl_20150409\n",
    "\n",
    "current_sqlTemplate=['SELECT  basinid, ',' as indicator, ', '_cat  as label,\\'historic\\' as model, \\'year\\' as period, null as period_value, \\'absolute\\' as type, ', ' as value, 2014 as year  FROM aqueduct_global_dl_20150409', '']\n",
    "currentplacedict={\n",
    "    'indicator':{\n",
    "        '{{indicator}}': [\"'baseline_water_stress'\", \"'interannual_variability'\", \"'seasonal_variability'\", \"'flood_occurrence'\", \"'drought_severity'\", \"'upstream_storage'\", \"'groundwater_stress'\", \"'return_flow_ratio'\", \"'upstream_protected_land'\", \"'media_coverage'\", \"'access_to_water'\", \"'threatened_amphibians'\"],\n",
    "        '{II}': ['bws','wsv','sv','hfo','dro','stor','gw','wri','eco_s','mc','wcg','eco_v']\n",
    "        \n",
    "                },\n",
    "    'scenario':{\n",
    "        '{{scenario}}': ['\\'historic\\''],\n",
    "    },\n",
    "    'period_type':{\n",
    "        '{{period_type}}': [ '\\'year\\'','\\'month\\'', '\\'quarter\\'']\n",
    "    },\n",
    "    'period_value':{\n",
    "        '{{period_value}}': {\n",
    "            'month':{\n",
    "                'min': 1,\n",
    "                'max': 12\n",
    "                }, \n",
    "            'year': 'NULL', \n",
    "            'quarter':{\n",
    "                'min': 1,\n",
    "                'max': 4\n",
    "                }\n",
    "        }\n",
    "    },\n",
    "    'data_type':{\n",
    "        '{{data_type}}': ['\\'absolute\\'','\\'scores\\''],\n",
    "        '{T}': ['','s']\n",
    "    },\n",
    "    'year':{\n",
    "        '{{year}}': [2014]\n",
    "    },  \n",
    "};"
   ]
  },
  {
   "cell_type": "code",
   "execution_count": 23,
   "metadata": {},
   "outputs": [],
   "source": [
    "#{{indicator}},{II},{II} \n",
    "\n",
    "def iter_items_c(dictionary):\n",
    "    replaceList=[]\n",
    "    for x in range(len(dictionary['indicator']['{II}'])):\n",
    "        if (dictionary['indicator']['{II}'][x]!='bws'):\n",
    "            replaceList.append([dictionary['indicator']['{{indicator}}'][x],\n",
    "                           dictionary['indicator']['{II}'][x],\n",
    "                           dictionary['indicator']['{II}'][x],\n",
    "                          ''\n",
    "                          ]) \n",
    "                \n",
    "    return replaceList\n",
    "       "
   ]
  },
  {
   "cell_type": "code",
   "execution_count": 9,
   "metadata": {},
   "outputs": [],
   "source": [
    "## 'SELECT  basinid, {{indicator}} as indicator, {II}{YY}{SS}{R}l as label, {{scenario}} as model, {{period_type}} as period, {{period_value}} as period_value, {{data_type}} as type, {II}{YY}{SS}{R}r as value, {{year}} as year  FROM aqueduct_projections_20150309'\n",
    "\n",
    "def iter_items(dictionary):\n",
    "    replaceList=[]\n",
    "    for t in range(3):\n",
    "        for x, y, s in product(range(4), repeat=3):\n",
    "            if ( (dictionary['year']['{YY}'][y]!='bs' and dictionary['scenario']['{SS}'][s]!='00') or (dictionary['year']['{YY}'][y] =='bs' and dictionary['scenario']['{SS}'][s] =='00' and (dictionary['indicator']['{II}'][x]!='sv' and dictionary['indicator']['{II}'][x]!='bt' and dictionary['indicator']['{II}'][x]!='ut' and dictionary['data_type']['{T}'][t]!='c' and dictionary['data_type']['{T}'][t]!='u'))):\n",
    "                column = dictionary['indicator']['{II}'][x] + dictionary['year']['{YY}'][y] + dictionary['scenario']['{SS}'][s] + dictionary['data_type']['{T}'][t]\n",
    "                replaceList.append([dictionary['indicator']['{{indicator}}'][x],\n",
    "                           column,\n",
    "                           dictionary['scenario']['{{scenario}}'][s],\n",
    "                           dictionary['period_type']['{{period_type}}'][0],\n",
    "                           dictionary['period_value']['{{period_value}}']['year'],\n",
    "                           dictionary['data_type']['{{data_type}}'][t],\n",
    "                           column,\n",
    "                           dictionary['year']['{{year}}'][y],\n",
    "                          ''\n",
    "                          ]) \n",
    "                \n",
    "    return replaceList"
   ]
  },
  {
   "cell_type": "code",
   "execution_count": 10,
   "metadata": {
    "collapsed": true
   },
   "outputs": [],
   "source": [
    "def sql_generator(sql_sentence, replacement):\n",
    "    return ''.join([str(a) + str(b) for a,b in zip(sql_sentence,replacement)])"
   ]
  },
  {
   "cell_type": "code",
   "execution_count": 11,
   "metadata": {},
   "outputs": [
    {
     "data": {
      "text/plain": [
       "<module 'itertools' (built-in)>"
      ]
     },
     "execution_count": 11,
     "metadata": {},
     "output_type": "execute_result"
    }
   ],
   "source": [
    "import sys\n",
    "sys.modules['itertools']"
   ]
  },
  {
   "cell_type": "code",
   "execution_count": 25,
   "metadata": {},
   "outputs": [],
   "source": [
    "items = iter_items(freplacedict)\n",
    "sql_sentences = []\n",
    "for item in items:\n",
    "    sql_sentences.append(sql_generator(sqlTemplate, item))"
   ]
  },
  {
   "cell_type": "code",
   "execution_count": 24,
   "metadata": {
    "scrolled": true
   },
   "outputs": [
    {
     "data": {
      "text/plain": [
       "\"SELECT  basinid, 'interannual_variability' as indicator, wsv_cat  as label,'historic' as model, 'year' as period, null as period_value, 'absolute' as type, wsv as value, 2014 as year  FROM aqueduct_global_dl_20150409 UNION ALL SELECT  basinid, 'seasonal_variability' as indicator, sv_cat  as label,'historic' as model, 'year' as period, null as period_value, 'absolute' as type, sv as value, 2014 as year  FROM aqueduct_global_dl_20150409 UNION ALL SELECT  basinid, 'flood_occurrence' as indicator, hfo_cat  as label,'historic' as model, 'year' as period, null as period_value, 'absolute' as type, hfo as value, 2014 as year  FROM aqueduct_global_dl_20150409 UNION ALL SELECT  basinid, 'drought_severity' as indicator, dro_cat  as label,'historic' as model, 'year' as period, null as period_value, 'absolute' as type, dro as value, 2014 as year  FROM aqueduct_global_dl_20150409 UNION ALL SELECT  basinid, 'upstream_storage' as indicator, stor_cat  as label,'historic' as model, 'year' as period, null as period_value, 'absolute' as type, stor as value, 2014 as year  FROM aqueduct_global_dl_20150409 UNION ALL SELECT  basinid, 'groundwater_stress' as indicator, gw_cat  as label,'historic' as model, 'year' as period, null as period_value, 'absolute' as type, gw as value, 2014 as year  FROM aqueduct_global_dl_20150409 UNION ALL SELECT  basinid, 'return_flow_ratio' as indicator, wri_cat  as label,'historic' as model, 'year' as period, null as period_value, 'absolute' as type, wri as value, 2014 as year  FROM aqueduct_global_dl_20150409 UNION ALL SELECT  basinid, 'upstream_protected_land' as indicator, eco_s_cat  as label,'historic' as model, 'year' as period, null as period_value, 'absolute' as type, eco_s as value, 2014 as year  FROM aqueduct_global_dl_20150409 UNION ALL SELECT  basinid, 'media_coverage' as indicator, mc_cat  as label,'historic' as model, 'year' as period, null as period_value, 'absolute' as type, mc as value, 2014 as year  FROM aqueduct_global_dl_20150409 UNION ALL SELECT  basinid, 'access_to_water' as indicator, wcg_cat  as label,'historic' as model, 'year' as period, null as period_value, 'absolute' as type, wcg as value, 2014 as year  FROM aqueduct_global_dl_20150409 UNION ALL SELECT  basinid, 'threatened_amphibians' as indicator, eco_v_cat  as label,'historic' as model, 'year' as period, null as period_value, 'absolute' as type, eco_v as value, 2014 as year  FROM aqueduct_global_dl_20150409\""
      ]
     },
     "execution_count": 24,
     "metadata": {},
     "output_type": "execute_result"
    }
   ],
   "source": [
    "citems = iter_items_c(currentplacedict)\n",
    "sql_sentences = []\n",
    "for item in citems:\n",
    "    sql_sentences.append(sql_generator(current_sqlTemplate, item))\n",
    "    \n",
    "' UNION ALL '.join(sql_sentences)\n",
    "    \n",
    "        "
   ]
  },
  {
   "cell_type": "markdown",
   "metadata": {
    "collapsed": true
   },
   "source": [
    "gu\n",
    "shape_leng\n",
    "shape_area\n",
    "basinid\n",
    "country\n",
    "basin_name\n",
    "withdrawal\n",
    "consumptio\n",
    "ba\n",
    "bws\n",
    "bws_s\n",
    "bws_cat\n",
    "wsv\n",
    "wsv_s\n",
    "wsv_cat\n",
    "sv\n",
    "sv_s\n",
    "sv_cat\n",
    "hfo\n",
    "hfo_s\n",
    "hfo_cat\n",
    "dro\n",
    "dro_s\n",
    "dro_cat\n",
    "bt\n",
    "stor\n",
    "stor_s\n",
    "stor_cat\n",
    "gw\n",
    "gw_s\n",
    "gw_cat\n",
    "wri\n",
    "wri_s\n",
    "wri_cat\n",
    "eco_s\n",
    "eco_s_s\n",
    "eco_s_cat\n",
    "mc\n",
    "mc_s\n",
    "mc_cat\n",
    "eco_v\n",
    "eco_v_s\n",
    "eco_v_cat\n",
    "wcg\n",
    "wcg_s\n",
    "wcg_cat\n",
    "def_pqual\n",
    "def_regrep\n",
    "w_semico\n",
    "_default\n",
    "w_constr\n",
    "w_chem\n",
    "w_power\n",
    "w_mine\n",
    "w_oilgas\n",
    "def_pquant\n",
    "w_agr\n",
    "w_foodbv\n",
    "w_tex\n",
    "owr_cat"
   ]
  },
  {
   "cell_type": "markdown",
   "metadata": {
    "collapsed": true
   },
   "source": [
    "|  to mantain  | to Change  | \n",
    "|---|---|\n",
    "|5. Extremely high (>1.0)    |  Extremely high (>80%) |\n",
    "|4. High (0.75-1.0)          |  High (40-80%) |\n",
    "|3. Medium to high (0.5-0.75)|  Medium-high (20-40%) |\n",
    "|2. Low to medium (0.25-0.5) |  Low-medium (10-20%) |\n",
    "|1. Low (<0.25)              |  Low (<10%) |\n",
    "|Arid and low water use |  | \n",
    "|No data |  |"
   ]
  },
  {
   "cell_type": "code",
   "execution_count": null,
   "metadata": {
    "collapsed": true
   },
   "outputs": [],
   "source": []
  }
 ],
 "metadata": {
  "kernelspec": {
   "display_name": "Python 3",
   "language": "python",
   "name": "python3"
  },
  "language_info": {
   "codemirror_mode": {
    "name": "ipython",
    "version": 3
   },
   "file_extension": ".py",
   "mimetype": "text/x-python",
   "name": "python",
   "nbconvert_exporter": "python",
   "pygments_lexer": "ipython3",
   "version": "3.6.1"
  },
  "varInspector": {
   "cols": {
    "lenName": 16,
    "lenType": 16,
    "lenVar": 40
   },
   "kernels_config": {
    "python": {
     "delete_cmd_postfix": "",
     "delete_cmd_prefix": "del ",
     "library": "var_list.py",
     "varRefreshCmd": "print(var_dic_list())"
    },
    "r": {
     "delete_cmd_postfix": ") ",
     "delete_cmd_prefix": "rm(",
     "library": "var_list.r",
     "varRefreshCmd": "cat(var_dic_list()) "
    }
   },
   "types_to_exclude": [
    "module",
    "function",
    "builtin_function_or_method",
    "instance",
    "_Feature"
   ],
   "window_display": false
  }
 },
 "nbformat": 4,
 "nbformat_minor": 2
}
