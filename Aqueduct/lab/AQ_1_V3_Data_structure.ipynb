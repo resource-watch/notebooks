{
 "cells": [
  {
   "cell_type": "markdown",
   "metadata": {},
   "source": [
    "# Data structure\n",
    "\n",
    "- All Aqueduct datasets: https://api.resourcewatch.org/v1/dataset?application=aqueduct&status=saved&page[size]=1000\n",
    "\n",
    "- All Aqueduct layers: https://api.resourcewatch.org/v1/layer?application=aqueduct&status=saved&page[size]=1000"
   ]
  },
  {
   "cell_type": "markdown",
   "metadata": {
    "hide_input": false
   },
   "source": [
    "## Crop layers (Water Risk & Food Security unselected) \n",
    "### All crops layer\n",
    "\n",
    "* **Account:** wri-rw\n",
    "* **Table Name:** crops\n",
    "* **Dataset_id:** [b7bf012f-4b8b-4478-b5c9-6af3075ca1e4](https://api.resourcewatch.org/v1/dataset/b7bf012f-4b8b-4478-b5c9-6af3075ca1e4)\n",
    "* **Layer_id:** [7a46cc6f-a54d-4385-be60-46a18c437a3b](https://api.resourcewatch.org/v1/layer/7a46cc6f-a54d-4385-be60-46a18c437a3b)\n",
    "\n",
    "### One crop layer\n",
    "\n",
    "* **Account:** wri-rw\n",
    "* **Table Name:** crops\n",
    "* **Dataset_id:** [b7bf012f-4b8b-4478-b5c9-6af3075ca1e4](https://api.resourcewatch.org/v1/dataset/b7bf012f-4b8b-4478-b5c9-6af3075ca1e4)\n",
    "* **Layer_id:** [59d07525-b7ab-4cea-96b8-2abb839a4f12](https://api.resourcewatch.org/v1/layer/59d07525-b7ab-4cea-96b8-2abb839a4f12)"
   ]
  },
  {
   "cell_type": "markdown",
   "metadata": {},
   "source": [
    "## Water risk layers\n",
    "### **Absolute values**\n",
    "\n",
    "* **Account:** wri-01\n",
    "* **Table Name:**\n",
    "    * Baseline (AQv3): water_risk_indicators_v3\n",
    "    * Future projections (AQv2): water_risk_indicators_v2\n",
    "* **Geometry tables**\n",
    "    * Baseline (AQv3): wri_subcatchments_v2\n",
    "    * Future projections (AQv2): wri_subcatchments_v3\n",
    "\n",
    "* **id**\n",
    "    * ground water: aqid\n",
    "    * rest: basinid\n",
    "\n",
    "* **Raster tables**\n",
    "    * drought severity:\n",
    "        * soil moisture: drought_severity_soil_historic_year_2014.tif\n",
    "        * streamflow: drought_severity_flow_historic_year_2014.tif\n",
    "    * interannual variability: interannual_variability_historic_year_2014.tif \n",
    "    * seasonal variability:\n",
    "        * q1: seasonal_variability_historic_quarter_2014_1.tif\n",
    "        * q2: seasonal_variability_historic_quarter_2014_2.tif\n",
    "        * q3: seasonal_variability_historic_quarter_2014_3.tif\n",
    "        * q4: seasonal_variability_historic_quarter_2014_4.tif\n",
    "\n",
    "####  Water stress\n",
    "* **Account:** wri-rw\n",
    "* **Table Names:** water_risk_indicators, wri_subcatchements_v2, crops\n",
    "* **Dataset_id:** [4b000ded-5f4d-4dbd-83c9-03f2dfcd36db](https://api.resourcewatch.org/v1/dataset/4b000ded-5f4d-4dbd-83c9-03f2dfcd36db)\n",
    "* **Layer_id:** [d556ab99-3064-4148-9c9f-3e3fb1e0c0f1](https://api.resourcewatch.org/v1/layer/d556ab99-3064-4148-9c9f-3e3fb1e0c0f1)\n",
    "\n",
    "#### Seasonal variability \n",
    "\n",
    "* **Account:** wri-rw\n",
    "* **Table Names:** water_risk_indicators, wri_subcatchements_v2, crops\n",
    "* **Dataset_id:** [d9785282-2140-463f-a82d-f7296687055a](https://api.resourcewatch.org/v1/dataset/d9785282-2140-463f-a82d-f7296687055a)\n",
    "* **Layer_id:** [e35cdf8e-0601-477c-9a0d-8d4874d296a7](https://api.resourcewatch.org/v1/layer/e35cdf8e-0601-477c-9a0d-8d4874d296a7)\n",
    "\n",
    "#### Inter Annual Variability\n",
    "* **Account:** wri-rw\n",
    "* **Table Names:** o_2_nterannual_variability_historic_year_2014, crops\n",
    "* **Dataset_id:** [bf657e60-de9c-4b7e-8736-d573d38e3ce1](https://api.resourcewatch.org/v1/dataset/bf657e60-de9c-4b7e-8736-d573d38e3ce1)\n",
    "* **Layer_id:** [db89786d-0862-44f7-8a21-9d21cd52ab15](https://api.resourcewatch.org/v1/layer/db89786d-0862-44f7-8a21-9d21cd52ab15)\n",
    "\n",
    "#### Drought Severity Soil Moisture\n",
    "* **Account:** wri-rw\n",
    "* **Table Names:** o_2_rought_severity_soil_historic_year_2014, crops\n",
    "* **Dataset_id:** [9c450642-f976-40eb-96b4-0c904d519578](https://api.resourcewatch.org/v1/dataset/9c450642-f976-40eb-96b4-0c904d519578)\n",
    "* **Layer_id:** [39c5649f-aaf7-4d32-9493-26441d8f80f0](https://api.resourcewatch.org/v1/layer/39c5649f-aaf7-4d32-9493-26441d8f80f0)\n",
    "\n",
    "#### Groundwater stress\n",
    "* **Account:** wri-rw\n",
    "* **Table Names:** water_risk_indicators_v3, wri_subcatchements_v3, crops\n",
    "* **Dataset_id:** [b53ef8c5-8554-4a4a-a100-fdf5a022cb4e](https://api.resourcewatch.org/v1/dataset/b53ef8c5-8554-4a4a-a100-fdf5a022cb4e)\n",
    "* **Layer_id:** [a1007109-4462-43ac-8412-e1acc6c84174](https://api.resourcewatch.org/v1/layer/a1007109-4462-43ac-8412-e1acc6c84174)\n",
    "\n",
    "#### Groundwater decline trend\n",
    "* **Account:** wri-rw\n",
    "* **Table Names:** water_risk_indicators_v3, wri_subcatchements_v3, crops\n",
    "* **Dataset_id:** [cbd0d0f8-edf9-47bc-93ef-71c1a5e5fed7](https://api.resourcewatch.org/v1/dataset/cbd0d0f8-edf9-47bc-93ef-71c1a5e5fed7)\n",
    "* **Layer_id:** [1c825957-f34f-4f49-8c19-20c952722ba9](https://api.resourcewatch.org/v1/layer/1c825957-f34f-4f49-8c19-20c952722ba9)\n",
    "\n",
    "\n",
    "### **Change from baseline**\n",
    "\n",
    "####  Water stress\n",
    "* **Account:** wri-rw\n",
    "* **Table Names:** water_risk_indicators, wri_subcatchements_v2, crops\n",
    "* **Dataset_id:** [4b000ded-5f4d-4dbd-83c9-03f2dfcd36db](https://api.resourcewatch.org/v1/dataset/4b000ded-5f4d-4dbd-83c9-03f2dfcd36db)\n",
    "* **Layer_id:** [7c16a991-cd4f-4421-8789-0f8763bc1176](https://api.resourcewatch.org/v1/layer/7c16a991-cd4f-4421-8789-0f8763bc1176)\n",
    "    \n",
    "#### Seasonal variability \n",
    "* **Account:** wri-rw\n",
    "* **Table Names:** water_risk_indicators, wri_subcatchements_v2, crops\n",
    "* **Dataset_id:** [d9785282-2140-463f-a82d-f7296687055a](https://api.resourcewatch.org/v1/dataset/d9785282-2140-463f-a82d-f7296687055a)\n",
    "* **Layer_id:** [83b9c999-22f3-4413-9793-5eb806630117](https://api.resourcewatch.org/v1/layer/83b9c999-22f3-4413-9793-5eb806630117)"
   ]
  },
  {
   "cell_type": "markdown",
   "metadata": {},
   "source": [
    "## Food Security\n",
    "\n",
    "#### Food demand for crop\n",
    "* **Account:** wri-rw\n",
    "* **Table Names:** combined01_prepared, impact_regions_159\n",
    "* **Dataset_id:** [76f53ba4-b1d9-4385-8bab-f56aa707d961](https://api.resourcewatch.org/v1/dataset/76f53ba4-b1d9-4385-8bab-f56aa707d961)\n",
    "* **Layer_id:** [0699ced2-960f-4f06-8792-62f6c34b4e39](https://api.resourcewatch.org/v1/layer/0699ced2-960f-4f06-8792-62f6c34b4e39)\n",
    "\n",
    "#### Total crop production\n",
    "* **Account:** wri-rw\n",
    "* **Table Names:** combined01_prepared, impact_regions_159\n",
    "* **Dataset_id:** [0eb7ef57-037b-4356-8902-04a39cf4bd24](https://api.resourcewatch.org/v1/dataset/0eb7ef57-037b-4356-8902-04a39cf4bd24)\n",
    "* **Layer_id:** [efafaa9f-37ec-4f51-be7d-999f58e6823b](https://api.resourcewatch.org/v1/layer/efafaa9f-37ec-4f51-be7d-999f58e6823b)\n",
    "\n",
    "#### Crop net trade\n",
    "* **Account:** wri-rw\n",
    "* **Table Names:** combined01_prepared, impact_regions_159\n",
    "* **Dataset_id:** [bc60a695-ab95-4264-8058-bd61d13c4918](https://api.resourcewatch.org/v1/dataset/bc60a695-ab95-4264-8058-bd61d13c4918)\n",
    "* **Layer_id:** [b8e135d2-b64f-4ea3-93e9-9f8d1245fb2a](https://api.resourcewatch.org/v1/layer/b8e135d2-b64f-4ea3-93e9-9f8d1245fb2a)\n",
    "\n",
    "#### Kilocalories per person\n",
    "* **Account:** wri-rw\n",
    "* **Table Names:** combined01_prepared, impact_regions_159\n",
    "* **Dataset_id:** [ccdaede2-5343-49d6-8ea9-769528c3ab92](https://api.resourcewatch.org/v1/dataset/ccdaede2-5343-49d6-8ea9-769528c3ab92)\n",
    "* **Layer_id:** [c29b190b-6801-49ed-a101-6770525467c4](https://api.resourcewatch.org/v1/layer/c29b190b-6801-49ed-a101-6770525467c4)\n",
    "\n",
    "#### Population at risk of hunger\n",
    "* **Account:** wri-rw\n",
    "* **Table Names:** combined01_prepared, impact_regions_159\n",
    "* **Dataset_id:** [1c9a1e4f-455b-4c03-ac88-dd2242a2e4b1](https://api.resourcewatch.org/v1/dataset/1c9a1e4f-455b-4c03-ac88-dd2242a2e4b1)\n",
    "* **Layer_id:** [63976c45-d991-4495-a318-45950912510a](https://api.resourcewatch.org/v1/layer/63976c45-d991-4495-a318-45950912510a)"
   ]
  }
 ],
 "metadata": {
  "kernelspec": {
   "display_name": "Python 3",
   "language": "python",
   "name": "python3"
  },
  "language_info": {
   "codemirror_mode": {
    "name": "ipython",
    "version": 3
   },
   "file_extension": ".py",
   "mimetype": "text/x-python",
   "name": "python",
   "nbconvert_exporter": "python",
   "pygments_lexer": "ipython3",
   "version": "3.6.8"
  },
  "latex_envs": {
   "LaTeX_envs_menu_present": true,
   "autocomplete": true,
   "bibliofile": "biblio.bib",
   "cite_by": "apalike",
   "current_citInitial": 1,
   "eqLabelWithNumbers": true,
   "eqNumInitial": 1,
   "hotkeys": {
    "equation": "Ctrl-E",
    "itemize": "Ctrl-I"
   },
   "labels_anchors": false,
   "latex_user_defs": false,
   "report_style_numbering": false,
   "user_envs_cfg": false
  },
  "toc": {
   "colors": {
    "hover_highlight": "#DAA520",
    "navigate_num": "#000000",
    "navigate_text": "#333333",
    "running_highlight": "#FF0000",
    "selected_highlight": "#FFD700",
    "sidebar_border": "#EEEEEE",
    "wrapper_background": "#FFFFFF"
   },
   "moveMenuLeft": true,
   "nav_menu": {
    "height": "99px",
    "width": "252px"
   },
   "navigate_menu": true,
   "number_sections": true,
   "sideBar": true,
   "threshold": "2",
   "toc_cell": true,
   "toc_section_display": "block",
   "toc_window_display": true,
   "widenNotebook": false
  },
  "varInspector": {
   "cols": {
    "lenName": 16,
    "lenType": 16,
    "lenVar": 40
   },
   "kernels_config": {
    "python": {
     "delete_cmd_postfix": "",
     "delete_cmd_prefix": "del ",
     "library": "var_list.py",
     "varRefreshCmd": "print(var_dic_list())"
    },
    "r": {
     "delete_cmd_postfix": ") ",
     "delete_cmd_prefix": "rm(",
     "library": "var_list.r",
     "varRefreshCmd": "cat(var_dic_list()) "
    }
   },
   "types_to_exclude": [
    "module",
    "function",
    "builtin_function_or_method",
    "instance",
    "_Feature"
   ],
   "window_display": false
  }
 },
 "nbformat": 4,
 "nbformat_minor": 2
}
