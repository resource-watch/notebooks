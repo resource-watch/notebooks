{
 "cells": [
  {
   "cell_type": "markdown",
   "metadata": {},
   "source": [
    "# Ifript data management"
   ]
  },
  {
   "cell_type": "raw",
   "metadata": {},
   "source": [
    "Project configuration"
   ]
  },
  {
   "cell_type": "code",
   "execution_count": 20,
   "metadata": {
    "ExecuteTime": {
     "end_time": "2017-03-28T14:53:17.091307",
     "start_time": "2017-03-28T14:53:16.956817"
    },
    "collapsed": true
   },
   "outputs": [],
   "source": [
    "%matplotlib inline"
   ]
  },
  {
   "cell_type": "markdown",
   "metadata": {},
   "source": [
    "for console comments..."
   ]
  },
  {
   "cell_type": "code",
   "execution_count": 21,
   "metadata": {
    "ExecuteTime": {
     "end_time": "2017-03-28T14:53:17.629802",
     "start_time": "2017-03-28T14:53:17.617983"
    },
    "collapsed": true
   },
   "outputs": [],
   "source": [
    "class bcolors:\n",
    "    OKBLUE = '\\033[94m'\n",
    "    OKGREEN = '\\033[92m'\n",
    "    WARNING = '\\033[93m'\n",
    "    ENDC = '\\033[0m'\n",
    "    UNDERLINE = '\\033[4m'"
   ]
  },
  {
   "cell_type": "code",
   "execution_count": 22,
   "metadata": {
    "ExecuteTime": {
     "end_time": "2017-03-28T14:53:18.062737",
     "start_time": "2017-03-28T14:53:18.051030"
    },
    "collapsed": true
   },
   "outputs": [],
   "source": [
    "import os, fnmatch, zipfile, shutil, sys\n",
    "import pandas as pd, re\n"
   ]
  },
  {
   "cell_type": "code",
   "execution_count": 23,
   "metadata": {
    "ExecuteTime": {
     "end_time": "2017-03-28T14:53:19.740260",
     "start_time": "2017-03-28T14:53:19.344874"
    }
   },
   "outputs": [
    {
     "data": {
      "application/json": {
       "Software versions": [
        {
         "module": "Python",
         "version": "3.5.3 64bit [GCC 4.4.7 20120313 (Red Hat 4.4.7-1)]"
        },
        {
         "module": "IPython",
         "version": "5.3.0"
        },
        {
         "module": "OS",
         "version": "Linux 4.9.12 moby x86_64 with glibc2.2.5"
        },
        {
         "module": "pandas",
         "version": "0.19.2"
        },
        {
         "module": "re",
         "version": "2.2.1"
        }
       ]
      },
      "text/html": [
       "<table><tr><th>Software</th><th>Version</th></tr><tr><td>Python</td><td>3.5.3 64bit [GCC 4.4.7 20120313 (Red Hat 4.4.7-1)]</td></tr><tr><td>IPython</td><td>5.3.0</td></tr><tr><td>OS</td><td>Linux 4.9.12 moby x86_64 with glibc2.2.5</td></tr><tr><td>pandas</td><td>0.19.2</td></tr><tr><td>re</td><td>2.2.1</td></tr><tr><td colspan='2'>Tue Mar 28 14:53:19 2017 UTC</td></tr></table>"
      ],
      "text/latex": [
       "\\begin{tabular}{|l|l|}\\hline\n",
       "{\\bf Software} & {\\bf Version} \\\\ \\hline\\hline\n",
       "Python & 3.5.3 64bit [GCC 4.4.7 20120313 (Red Hat 4.4.7-1)] \\\\ \\hline\n",
       "IPython & 5.3.0 \\\\ \\hline\n",
       "OS & Linux 4.9.12 moby x86\\_64 with glibc2.2.5 \\\\ \\hline\n",
       "pandas & 0.19.2 \\\\ \\hline\n",
       "re & 2.2.1 \\\\ \\hline\n",
       "\\hline \\multicolumn{2}{|l|}{Tue Mar 28 14:53:19 2017 UTC} \\\\ \\hline\n",
       "\\end{tabular}\n"
      ],
      "text/plain": [
       "Software versions\n",
       "Python 3.5.3 64bit [GCC 4.4.7 20120313 (Red Hat 4.4.7-1)]\n",
       "IPython 5.3.0\n",
       "OS Linux 4.9.12 moby x86_64 with glibc2.2.5\n",
       "pandas 0.19.2\n",
       "re 2.2.1\n",
       "Tue Mar 28 14:53:19 2017 UTC"
      ]
     },
     "execution_count": 23,
     "metadata": {},
     "output_type": "execute_result"
    }
   ],
   "source": [
    "%reload_ext version_information\n",
    "%version_information pandas, re"
   ]
  },
  {
   "cell_type": "markdown",
   "metadata": {},
   "source": [
    "Initialize the variables used."
   ]
  },
  {
   "cell_type": "code",
   "execution_count": 24,
   "metadata": {
    "ExecuteTime": {
     "end_time": "2017-03-28T14:53:21.050292",
     "start_time": "2017-03-28T14:53:21.042958"
    },
    "collapsed": true
   },
   "outputs": [],
   "source": [
    "inDataset=[]\n",
    "columns_out =['commodity', 'gcm_type', 'impactparameter', 'iso', 'irrigation', 'region', 'scenario', 'value', 'year']\n"
   ]
  },
  {
   "cell_type": "code",
   "execution_count": 25,
   "metadata": {
    "ExecuteTime": {
     "end_time": "2017-03-28T14:53:21.590169",
     "start_time": "2017-03-28T14:53:21.578498"
    },
    "collapsed": true
   },
   "outputs": [],
   "source": [
    "def main(cwd, dirOut, sysargv):\n",
    "    ensure_dir(dirOut)\n",
    "    dataList = find_files(cwd, sysargv)\n",
    "    print(dataList)\n",
    "    print(bcolors.OKBLUE + 'crops' + bcolors.ENDC)\n",
    "    writeIndicator('combined_prepared', dataList, dirOut)\n",
    "    print(bcolors.OKGREEN+bcolors.UNDERLINE+'Done, EXIT'+ bcolors.ENDC)"
   ]
  },
  {
   "cell_type": "code",
   "execution_count": 26,
   "metadata": {
    "ExecuteTime": {
     "end_time": "2017-03-28T14:53:22.113387",
     "start_time": "2017-03-28T14:53:22.106508"
    },
    "collapsed": true
   },
   "outputs": [],
   "source": [
    "def ensure_dir(f):\n",
    "    d = os.path.dirname(f)\n",
    "    if not os.path.exists(d):\n",
    "        os.mkdir(d)"
   ]
  },
  {
   "cell_type": "code",
   "execution_count": 27,
   "metadata": {
    "ExecuteTime": {
     "end_time": "2017-03-28T14:53:22.713106",
     "start_time": "2017-03-28T14:53:22.700568"
    },
    "collapsed": true
   },
   "outputs": [],
   "source": [
    "def find_files(directory, name):\n",
    "    for root, dirs, files in os.walk(directory):\n",
    "        for basename in files:\n",
    "            if fnmatch.fnmatch(basename, name):\n",
    "                filesource = os.path.join(root, basename)\n",
    "                base_prnt = (basename.rsplit('.')[0]).rsplit('_')\n",
    "                item = {'filePath': filesource, 'indicator':base_prnt[0].lower()}\n",
    "                if len(item) > 0:\n",
    "                    inDataset.append(item)\n",
    "    return inDataset"
   ]
  },
  {
   "cell_type": "code",
   "execution_count": 28,
   "metadata": {
    "ExecuteTime": {
     "end_time": "2017-03-28T14:53:23.180899",
     "start_time": "2017-03-28T14:53:23.169024"
    },
    "collapsed": true
   },
   "outputs": [],
   "source": [
    "def writeIndicator(indicatorName, inDatas, dirOut):\n",
    "    frames = []\n",
    "    outData = dirOut + indicatorName +'.csv'\n",
    "    for data in inDatas:\n",
    "        print(data['indicator'])\n",
    "        x = openXls(data['filePath'], data['indicator'])\n",
    "        frames.append(x)\n",
    "    f= pd.concat(frames)\n",
    "    f.to_csv(outData)\n",
    "    print(bcolors.OKGREEN + \"SUCCESS\" + bcolors.ENDC)"
   ]
  },
  {
   "cell_type": "code",
   "execution_count": 29,
   "metadata": {
    "ExecuteTime": {
     "end_time": "2017-03-28T14:53:23.898695",
     "start_time": "2017-03-28T14:53:23.886996"
    },
    "collapsed": true
   },
   "outputs": [],
   "source": [
    "def openXls(filePath, indicator):\n",
    "    with pd.ExcelFile(filePath) as xls:\n",
    "        data = pd.read_excel(xls, 0)\n",
    "        data.rename(columns={'impactparameter': 'impactparameter', 'scenario': 'scenario', 'commodity':'commodity', 'region':'region', 'productiontype':'irrigation', 'year':'year', 'Value':'value'}, inplace=True)\n",
    "        data[\"gcm_type\"]=indicator\n",
    "        data[\"iso\"]=None\n",
    "        response = pd.DataFrame(data, columns=columns_out)\n",
    "        return response"
   ]
  },
  {
   "cell_type": "markdown",
   "metadata": {},
   "source": [
    "```python\n",
    "# party time\n",
    "if __name__ == \"__main__\":\n",
    "\n",
    "    # check for correct args: data location\n",
    "    if len(sys.argv) < 4:\n",
    "        print \"python main.py 'dirIn' 'dirOut' '*.xlsx'\"\n",
    "        exit()\n",
    "\n",
    "    if os.path.exists(sys.argv[2]):\n",
    "        shutil.rmtree(sys.argv[2])\n",
    "\n",
    "    main(sys.argv[1], sys.argv[2], sys.argv[3])\n",
    "```\n"
   ]
  },
  {
   "cell_type": "code",
   "execution_count": 30,
   "metadata": {
    "ExecuteTime": {
     "end_time": "2017-03-28T14:54:12.456961",
     "start_time": "2017-03-28T14:53:25.095971"
    }
   },
   "outputs": [
    {
     "name": "stdout",
     "output_type": "stream",
     "text": [
      "[{'indicator': 'gfdl', 'filePath': '/home/jovyan/work/data/aqueduct/data_source/compose_country_crops/20170224_IMPACT_data/country_data/gfdl_cty_updated.xlsx'}, {'indicator': 'hgem', 'filePath': '/home/jovyan/work/data/aqueduct/data_source/compose_country_crops/20170224_IMPACT_data/country_data/hgem_cty_updated.xlsx'}, {'indicator': 'ipsl', 'filePath': '/home/jovyan/work/data/aqueduct/data_source/compose_country_crops/20170224_IMPACT_data/country_data/ipsl_cty_updated.xlsx'}, {'indicator': 'miro', 'filePath': '/home/jovyan/work/data/aqueduct/data_source/compose_country_crops/20170224_IMPACT_data/country_data/miro_cty_updated.xlsx'}, {'indicator': 'nocc', 'filePath': '/home/jovyan/work/data/aqueduct/data_source/compose_country_crops/20170224_IMPACT_data/country_data/NoCC_cty_updated.xlsx'}]\n",
      "\u001b[94mcrops\u001b[0m\n",
      "gfdl\n",
      "hgem\n",
      "ipsl\n",
      "miro\n",
      "nocc\n",
      "\u001b[92mSUCCESS\u001b[0m\n",
      "\u001b[92m\u001b[4mDone, EXIT\u001b[0m\n"
     ]
    }
   ],
   "source": [
    "main('/home/jovyan/work/data/aqueduct/data_source/compose_country_crops/20170224_IMPACT_data/country_data','/home/jovyan/work/data/aqueduct/dst/ifrit/', '*.xlsx')"
   ]
  }
 ],
 "metadata": {
  "kernelspec": {
   "display_name": "Python 3",
   "language": "python",
   "name": "python3"
  },
  "language_info": {
   "codemirror_mode": {
    "name": "ipython",
    "version": 3
   },
   "file_extension": ".py",
   "mimetype": "text/x-python",
   "name": "python",
   "nbconvert_exporter": "python",
   "pygments_lexer": "ipython3",
   "version": "3.6.1"
  },
  "latex_envs": {
   "LaTeX_envs_menu_present": true,
   "autocomplete": true,
   "bibliofile": "biblio.bib",
   "cite_by": "apalike",
   "current_citInitial": 1,
   "eqLabelWithNumbers": true,
   "eqNumInitial": 1,
   "hotkeys": {
    "equation": "Ctrl-E",
    "itemize": "Ctrl-I"
   },
   "labels_anchors": false,
   "latex_user_defs": false,
   "report_style_numbering": false,
   "user_envs_cfg": false
  },
  "varInspector": {
   "cols": {
    "lenName": 16,
    "lenType": 16,
    "lenVar": 40
   },
   "kernels_config": {
    "python": {
     "delete_cmd_postfix": "",
     "delete_cmd_prefix": "del ",
     "library": "var_list.py",
     "varRefreshCmd": "print(var_dic_list())"
    },
    "r": {
     "delete_cmd_postfix": ") ",
     "delete_cmd_prefix": "rm(",
     "library": "var_list.r",
     "varRefreshCmd": "cat(var_dic_list()) "
    }
   },
   "types_to_exclude": [
    "module",
    "function",
    "builtin_function_or_method",
    "instance",
    "_Feature"
   ],
   "window_display": false
  }
 },
 "nbformat": 4,
 "nbformat_minor": 2
}
