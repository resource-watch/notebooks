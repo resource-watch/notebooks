{
 "cells": [
  {
   "cell_type": "code",
   "execution_count": 1,
   "metadata": {
    "ExecuteTime": {
     "end_time": "2017-03-23T09:38:17.912518",
     "start_time": "2017-03-23T09:38:17.902977"
    },
    "collapsed": true
   },
   "outputs": [],
   "source": [
    "import pandas as pd\n",
    "import json\n",
    "import requests\n",
    "import numpy as np\n",
    "import folium\n",
    "import IPython\n",
    "\n",
    "carto_acc='wri-01'\n",
    "sql_endpoint='https://{0}.carto.com/api/v2/sql'.format(carto_acc)\n",
    "map_endpoint='https://{0}.carto.com/api/v1/map'.format(carto_acc)"
   ]
  },
  {
   "cell_type": "markdown",
   "metadata": {},
   "source": [
    "## Data layers structure "
   ]
  },
  {
   "cell_type": "markdown",
   "metadata": {},
   "source": [
    "### Data table"
   ]
  },
  {
   "cell_type": "code",
   "execution_count": 2,
   "metadata": {
    "ExecuteTime": {
     "end_time": "2017-03-23T09:41:11.613528",
     "start_time": "2017-03-23T09:41:10.773431"
    }
   },
   "outputs": [
    {
     "data": {
      "text/html": [
       "<div>\n",
       "<style scoped>\n",
       "    .dataframe tbody tr th:only-of-type {\n",
       "        vertical-align: middle;\n",
       "    }\n",
       "\n",
       "    .dataframe tbody tr th {\n",
       "        vertical-align: top;\n",
       "    }\n",
       "\n",
       "    .dataframe thead th {\n",
       "        text-align: right;\n",
       "    }\n",
       "</style>\n",
       "<table border=\"1\" class=\"dataframe\">\n",
       "  <thead>\n",
       "    <tr style=\"text-align: right;\">\n",
       "      <th></th>\n",
       "      <th>basinid</th>\n",
       "      <th>cartodb_id</th>\n",
       "      <th>indicator</th>\n",
       "      <th>label</th>\n",
       "      <th>model</th>\n",
       "      <th>period</th>\n",
       "      <th>period_value</th>\n",
       "      <th>the_geom</th>\n",
       "      <th>the_geom_webmercator</th>\n",
       "      <th>type</th>\n",
       "      <th>value</th>\n",
       "      <th>year</th>\n",
       "    </tr>\n",
       "  </thead>\n",
       "  <tbody>\n",
       "    <tr>\n",
       "      <th>0</th>\n",
       "      <td>4774</td>\n",
       "      <td>451</td>\n",
       "      <td>water_stress</td>\n",
       "      <td>NaN</td>\n",
       "      <td>historic</td>\n",
       "      <td>year</td>\n",
       "      <td>0</td>\n",
       "      <td>NaN</td>\n",
       "      <td>NaN</td>\n",
       "      <td>absolute</td>\n",
       "      <td>0</td>\n",
       "      <td>2014</td>\n",
       "    </tr>\n",
       "  </tbody>\n",
       "</table>\n",
       "</div>"
      ],
      "text/plain": [
       "   basinid  cartodb_id     indicator  label     model period  period_value  \\\n",
       "0     4774         451  water_stress    NaN  historic   year             0   \n",
       "\n",
       "   the_geom  the_geom_webmercator      type  value  year  \n",
       "0       NaN                   NaN  absolute      0  2014  "
      ]
     },
     "execution_count": 2,
     "metadata": {},
     "output_type": "execute_result"
    }
   ],
   "source": [
    "payload = {'q': \"SELECT * FROM water_risk_indicators limit 1\"}\n",
    "r = requests.get(sql_endpoint, params=payload)\n",
    "\n",
    "tableStructure= pd.read_json(json.dumps(r.json()['rows']), orient='records')\n",
    "tableStructure.head()"
   ]
  },
  {
   "cell_type": "markdown",
   "metadata": {},
   "source": [
    "### Geometry table"
   ]
  },
  {
   "cell_type": "markdown",
   "metadata": {},
   "source": [
    "#### WWF hydrobasins level 6:\n",
    "Used for aqueduct v3.x the id used is PFAF_ID  that correspond to [Pfafstetter Coding System](https://en.wikipedia.org/wiki/Pfafstetter_Coding_System) "
   ]
  },
  {
   "cell_type": "code",
   "execution_count": null,
   "metadata": {},
   "outputs": [],
   "source": [
    "\n",
    "iframe = '<iframe width=\"100%\" height=\"520\" frameborder=\"0\" src=\"https://resourcewatch.carto.com/u/wri-rw/builder/db3c53be-4787-11e7-9eb1-0ee66e2c9693/embed\" allowfullscreen webkitallowfullscreen mozallowfullscreen oallowfullscreen msallowfullscreen></iframe>'\n",
    "IPython.display.HTML(iframe)"
   ]
  },
  {
   "cell_type": "markdown",
   "metadata": {},
   "source": [
    "#### GDBD:\n",
    "\n",
    "Currently used for aqueduct v2.x; on the platform they will cover projected data until we recived v3 projected data."
   ]
  },
  {
   "cell_type": "code",
   "execution_count": null,
   "metadata": {
    "ExecuteTime": {
     "end_time": "2017-03-23T09:43:13.827542",
     "start_time": "2017-03-23T09:43:13.053066"
    }
   },
   "outputs": [],
   "source": [
    "payload = {'q': \"SELECT * FROM wri_subcatchements Limit 1\"}\n",
    "r = requests.get(sql_endpoint, params=payload)\n",
    "\n",
    "tableStructure= pd.read_json(json.dumps(r.json()['rows']), orient='records')\n",
    "tableStructure.head(0)"
   ]
  },
  {
   "cell_type": "markdown",
   "metadata": {},
   "source": [
    "**Key column for joins:** basinid\n",
    "\n",
    "Parameters definition:  \n",
    "\n",
    "* **{{indicator}}:**  \n",
    "    [Indicator list](#cell2)\n",
    "\n",
    "\n",
    "* **{{scenario}}:**  \n",
    "    historic ( bs )  \n",
    "    pessimistic ( 38 ) ssp3 rcp85  \n",
    "    optimistic ( 24 ) ssp2 rcp45  \n",
    "    bau ( 28 ) ssp2 rcp85 \n",
    " \n",
    " \n",
    "* **{{period_type}}:**  \n",
    "    month,  \n",
    "    year,   \n",
    "    quarter \n",
    "    \n",
    "    \n",
    "* **{{period_value}}:**  \n",
    "    month: 1:12   \n",
    "    year: null  \n",
    "    quarter: 1:4\n",
    "    \n",
    "    \n",
    "* **{{year}}:**  \n",
    "    2014   \n",
    "    2020   \n",
    "    2030   \n",
    "    2040  \n",
    "    \n",
    "    \n",
    "* **{{data_type}}:**  \n",
    "    absolute  \n",
    "    change from baseline  \n",
    "    uncertainity\n",
    "\n",
    "#### Raster layers \n",
    "The table naming convention will follow this structure:\n",
    "```\n",
    "{{indicator}}-{{scenario}}-{{period_type}}-{{year}}-{{period_value}}.tif\n",
    "``` \n",
    "example:  \n",
    "drought_severity_flow-historic-year-2014.tif"
   ]
  },
  {
   "cell_type": "markdown",
   "metadata": {
    "ExecuteTime": {
     "end_time": "2017-03-27T09:39:34.444676",
     "start_time": "2017-03-27T09:39:34.412881"
    }
   },
   "source": [
    "#### Example geometry map\n",
    "\n",
    "```sql\n",
    "with r as (SELECT basinid, label, value FROM water_risk_indicators where indicator = 'water_stress' and model = 'historic' and period = 'year' and period_value is null and year =2014 and type = 'absolute')\n",
    "\n",
    "select s.*, label, value from wri_subcatchements s left join r on s.basinid=r.basinid\n",
    "\n",
    "```\n",
    "\n",
    "``` css\n",
    "#water_risk_indicators{\n",
    "  polygon-fill:transparent;\n",
    "  polygon-opacity: 1;\n",
    "  line-color:transparent;\n",
    "  line-width: 1;\n",
    "  line-opacity: 1;\n",
    "}\n",
    "\n",
    "#water_risk_indicators [ label='5. Extremely high (>80%)'] {\n",
    "   polygon-fill:#B10026;\n",
    "  line-color:#B10026\n",
    "}\n",
    "#water_risk_indicators [ label='4. High (40-80%)'] {\n",
    "   polygon-fill:  #FC4E2A;\n",
    "  line-color:  #FC4E2A\n",
    "}\n",
    "#water_risk_indicators [ label='3. Medium to high (20-40%)'] {\n",
    "   polygon-fill: #FD8D3C;\n",
    "  line-color: #FD8D3C\n",
    "}\n",
    "#water_risk_indicators [ label='2. Low to medium (10-20%)'] {\n",
    "   polygon-fill: #FED976;\n",
    "  line-color:  #FED976\n",
    "}\n",
    "#water_risk_indicators [label='1. Low (<10%)'] {\n",
    "   polygon-fill: #FFFFB2;\n",
    "  line-color:  #FFFFB2\n",
    "}\n",
    "\n",
    "#water_risk_indicators [label='Arid & low water use'] {\n",
    "   polygon-fill: #eee;\n",
    "  line-color:  #eee\n",
    "}\n",
    "```"
   ]
  },
  {
   "cell_type": "code",
   "execution_count": null,
   "metadata": {
    "collapsed": true
   },
   "outputs": [],
   "source": [
    "api_endpoint = "
   ]
  },
  {
   "cell_type": "markdown",
   "metadata": {},
   "source": [
    "#### Example raster map\n",
    "\n",
    "```sql\n",
    "select * from drought_severity_flow-historic-year-2014\n",
    "\n",
    "```\n",
    "\n",
    "``` css\n",
    "#water_risk_indicators{\n",
    "  raster-opacity:1;\n",
    "  raster-scaling:near;\n",
    "  raster-colorizer-default-mode: exact;\n",
    "  raster-colorizer-default-color:  transparent;\n",
    "  raster-colorizer-epsilon:0.11;\n",
    "  raster-colorizer-stops:\n",
    "    stop(0, #eee) /* Arid & low water use */ \n",
    "    stop(1, #D2A965) /* 1. Low */\n",
    "    stop(2, #FED976) /* 2. Low to medium */\n",
    "    stop(3, #FD8D3C) /* 3. Medium to high */\n",
    "    stop(4, #FC4E2A) /* 4. High */\n",
    "    stop(5, #B10026) /* 5. Extremely high */\n",
    "}\n",
    "``` "
   ]
  },
  {
   "cell_type": "code",
   "execution_count": null,
   "metadata": {
    "collapsed": true
   },
   "outputs": [],
   "source": []
  },
  {
   "cell_type": "markdown",
   "metadata": {},
   "source": [
    "<a id=\"cell2\"></a>"
   ]
  },
  {
   "cell_type": "markdown",
   "metadata": {},
   "source": [
    "## Old indicators\n",
    "\n",
    "| Family |Indicator name| slug |\n",
    "|---|---|--- |\n",
    "| Physical Risk Quantity |Baseline Water Stress  | water_stress |\n",
    "| Physical Risk Quantity |Interannual Variability  |  interannual_variability |\n",
    "| Physical Risk Quantity |Seasonal Variability  | seasonal_variability  |\n",
    "| Physical Risk Quantity |Flood Occurrence  |  flood_occurrence |\n",
    "| Physical Risk Quantity |Drought Severity  | drought_severity  |\n",
    "| Physical Risk Quantity |Upstream Storage  | upstream_storage |\n",
    "| Physical Risk Quantity |Groundwater Stress  | groundwater_stress|\n",
    "| Physical Risk Quality |Return Flow Ratio  | return_flow_ratio |\n",
    "| Physical Risk Quality |Upstream Protected Land  | upstream_protected_land |\n",
    "| Regulatory & Reputational Risk |Media Coverage   |media_coverage  |\n",
    "| Regulatory & Reputational Risk |Access to Water   |access_to_water  |\n",
    "| Regulatory & Reputational Risk |Threatened Amphibians  |threatened_amphibians|\n",
    "\n",
    "### Old indicators correspondence with new ones\n",
    "[Indicator list reference](https://docs.google.com/spreadsheets/d/11GWSY4HZdskCFoVpGCTmzMw8evifIZfHDi6_UaoGQFE/edit#gid=0)\n",
    "\n",
    "|New Indicators|Old Indicators slug |\n",
    "|---|--- |\n",
    "|Baseline Water Stress && Future Water Stress  |water_stress |\n",
    "|Inter Annual Variability  |  interannual_variability |\n",
    "|Seasonal variability && Projected Change in Seasonal variability  | seasonal_variability  |\n",
    "|Drought Severity  | drought_severity  |\n",
    "|Groundwater Stress  | groundwater_stress  |\n",
    "|Groundwater Table Declining Trend  | -\n",
    "|Probability of inundation from river floods  |  -\n",
    "|Index for Coastal eutrophication Potential (ICEP)  | -\n",
    "|Reprisk Index (RRI)  | -\n",
    "|Threatened Amphibians  |threatened_amphibians  |\n",
    "|Access to water  |access_to_water  |\n",
    "|Flood Occurrence  |flood_occurrence|\n",
    "\n",
    "### Not included in the new ones\n",
    "upstream_protected_land  \n",
    "upstream_storage  \n",
    "return_flow_ratio   \n",
    "water_demand  \n",
    "media_coverage  \n",
    "water_supply  \n",
    "\n",
    "### AQ.v3 indicators\n",
    "| Family |Indicator name|slug|visual resolution|temporal resolution|\n",
    "|---|---|---|---|---|\n",
    "| Physical Risk Quantity |Baseline Water Stress  | water_stress |Sub-basin | year, month |\n",
    "| Physical Risk Quantity |Interannual Variability  |  interannual_variability |Pixel | year, month |\n",
    "| Physical Risk Quantity |Seasonal Variability  | seasonal_variability  |Pixel | year |\n",
    "| Physical Risk Quantity |Flood Occurrence  |  flood_occurrence | - | - |\n",
    "| Physical Risk Quantity |Drought Severity  | drought_severity  | Pixel |year, month |\n",
    "| Physical Risk Quantity |Groundwater Stress  | groundwater_stress| Aquifer | year |\n",
    "| Physical Risk Quality |Primary waste water treatment  | p_waste_w_ratio | Country | year |\n",
    "| Physical Risk Quality |Indicator of Coastal Eutrophication Potential (ICEP)  | icep | Sub-Basin | year |\n",
    "| Regulatory & Reputational Risk |RepRisk Index   |media_coverage  | Country | year |\n",
    "| Regulatory & Reputational Risk |Access to Improved Drinking Water   |access_drink_water  | Country | year |\n",
    "| Regulatory & Reputational Risk |IUCN Red List of Threatened Freshwater Species  |threatened_freshw_species| Pixel | year |"
   ]
  },
  {
   "cell_type": "code",
   "execution_count": null,
   "metadata": {
    "collapsed": true
   },
   "outputs": [],
   "source": []
  }
 ],
 "metadata": {
  "kernelspec": {
   "display_name": "Python 3",
   "language": "python",
   "name": "python3"
  },
  "language_info": {
   "codemirror_mode": {
    "name": "ipython",
    "version": 3
   },
   "file_extension": ".py",
   "mimetype": "text/x-python",
   "name": "python",
   "nbconvert_exporter": "python",
   "pygments_lexer": "ipython3",
   "version": "3.6.4"
  }
 },
 "nbformat": 4,
 "nbformat_minor": 2
}
