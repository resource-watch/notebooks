{
 "cells": [
  {
   "cell_type": "code",
   "execution_count": 19,
   "metadata": {},
   "outputs": [],
   "source": [
    "import json\n",
    "import requests\n",
    "from pprint import pprint\n",
    "import random\n",
    "import getpass"
   ]
  },
  {
   "cell_type": "code",
   "execution_count": 11,
   "metadata": {},
   "outputs": [
    {
     "name": "stdin",
     "output_type": "stream",
     "text": [
      "RW Token_ID: ·······························································································································································································································································································································································································\n"
     ]
    }
   ],
   "source": [
    "OAUTH = getpass.getpass('RW Token_ID:')"
   ]
  },
  {
   "cell_type": "markdown",
   "metadata": {},
   "source": [
    "## Updating Widget"
   ]
  },
  {
   "cell_type": "code",
   "execution_count": 254,
   "metadata": {},
   "outputs": [],
   "source": [
    "\"\"\" Copy the old one and change desired values (in this case attributes.description)\n",
    "    NOTE that you cannot update id, or type, only attributes!\n",
    "\"\"\"\n",
    "\n",
    "payload = {\n",
    "\n",
    "    \n",
    "}"
   ]
  },
  {
   "cell_type": "code",
   "execution_count": 335,
   "metadata": {},
   "outputs": [],
   "source": [
    "\"\"\" Copy the old one and change desired values (in this case attributes.description)\n",
    "    NOTE that you cannot update id, or type, only attributes!\n",
    "\"\"\"\n",
    "\n",
    "payload = {\n",
    "\n",
    "            \"widgetConfig\": {\n",
    "                \"data\": [\n",
    "                    {\n",
    "                        \"url\": \"https://wri-rw.carto.com/api/v2/sql?q=SELECT gid_0 as iso, name_0 as country, name_1 as province, indicator_name, weight, score, score_ranked FROM aqueduct_results_v01_province_v03 WHERE indicator_name = {{indicator}} and gid_0 = {{iso}} and weight in ('Tot', 'Irr', 'Dom', 'Ind', 'Pop') ORDER BY score_ranked \"\n",
    "                    }\n",
    "                ],\n",
    "                \"params_config\": [\n",
    "                    {\n",
    "                        \"key\": \"indicator\",\n",
    "                        \"required\": True\n",
    "                    },\n",
    "                    {\n",
    "                        \"key\": \"iso\",\n",
    "                        \"required\": True\n",
    "                    }\n",
    "                ]\n",
    "            },\n",
    "    \n",
    "}"
   ]
  },
  {
   "cell_type": "code",
   "execution_count": 336,
   "metadata": {},
   "outputs": [
    {
     "name": "stdout",
     "output_type": "stream",
     "text": [
      "{'data': {'attributes': {'application': ['aqueduct'],\n",
      "                         'authors': '',\n",
      "                         'createdAt': '2019-07-10T11:04:25.902Z',\n",
      "                         'dataset': 'e0adfbfb-441d-4ec5-9e4c-7d051d0f7b22',\n",
      "                         'default': False,\n",
      "                         'defaultEditableWidget': False,\n",
      "                         'description': '',\n",
      "                         'env': 'production',\n",
      "                         'freeze': False,\n",
      "                         'name': 'Province rankings',\n",
      "                         'protected': False,\n",
      "                         'published': True,\n",
      "                         'slug': 'Province-rankings',\n",
      "                         'source': '',\n",
      "                         'template': False,\n",
      "                         'thumbnailUrl': 'http://wri-api-backups.s3.amazonaws.com/resourcewatch/staging/thumbnails/4b3d6e89-869c-45b6-88e3-28735d2b60fe-1562756665947.png',\n",
      "                         'updatedAt': '2019-07-11T14:35:00.467Z',\n",
      "                         'userId': '5b60606f5a4e04a7f54ff857',\n",
      "                         'verified': False,\n",
      "                         'widgetConfig': {'data': [{'url': 'https://wri-rw.carto.com/api/v2/sql?q=SELECT '\n",
      "                                                           'gid_0 as iso, '\n",
      "                                                           'name_0 as country, '\n",
      "                                                           'name_1 as '\n",
      "                                                           'province, '\n",
      "                                                           'indicator_name, '\n",
      "                                                           'weight, score, '\n",
      "                                                           'score_ranked FROM '\n",
      "                                                           'aqueduct_results_v01_province_v03 '\n",
      "                                                           'WHERE '\n",
      "                                                           'indicator_name = '\n",
      "                                                           '{{indicator}} and '\n",
      "                                                           'gid_0 = {{iso}} '\n",
      "                                                           'and weight in '\n",
      "                                                           \"('Tot', 'Irr', \"\n",
      "                                                           \"'Dom', 'Ind', \"\n",
      "                                                           \"'Pop') ORDER BY \"\n",
      "                                                           'score_ranked '}],\n",
      "                                          'params_config': [{'key': 'indicator',\n",
      "                                                             'required': True},\n",
      "                                                            {'key': 'iso',\n",
      "                                                             'required': True}]}},\n",
      "          'id': '4b3d6e89-869c-45b6-88e3-28735d2b60fe',\n",
      "          'type': 'widget'}}\n"
     ]
    }
   ],
   "source": [
    "#Update widget\n",
    "dataset_id = 'e0adfbfb-441d-4ec5-9e4c-7d051d0f7b22'\n",
    "widget_id = '4b3d6e89-869c-45b6-88e3-28735d2b60fe'\n",
    "\n",
    "url = f'https://staging-api.globalforestwatch.org/v1/dataset/{dataset_id}/widget/{widget_id}'\n",
    "\n",
    "headers = {'Authorization': 'Bearer ' + OAUTH, 'Content-Type': 'application/json'}\n",
    "\n",
    "r = requests.patch(url, data=json.dumps(payload), headers=headers)\n",
    "\n",
    "pprint(r.json())"
   ]
  },
  {
   "cell_type": "code",
   "execution_count": null,
   "metadata": {},
   "outputs": [],
   "source": []
  }
 ],
 "metadata": {
  "kernelspec": {
   "display_name": "Python 3",
   "language": "python",
   "name": "python3"
  },
  "language_info": {
   "codemirror_mode": {
    "name": "ipython",
    "version": 3
   },
   "file_extension": ".py",
   "mimetype": "text/x-python",
   "name": "python",
   "nbconvert_exporter": "python",
   "pygments_lexer": "ipython3",
   "version": "3.7.3"
  },
  "latex_envs": {
   "LaTeX_envs_menu_present": true,
   "autocomplete": true,
   "bibliofile": "biblio.bib",
   "cite_by": "apalike",
   "current_citInitial": 1,
   "eqLabelWithNumbers": true,
   "eqNumInitial": 1,
   "hotkeys": {
    "equation": "Ctrl-E",
    "itemize": "Ctrl-I"
   },
   "labels_anchors": false,
   "latex_user_defs": false,
   "report_style_numbering": false,
   "user_envs_cfg": false
  },
  "toc": {
   "colors": {
    "hover_highlight": "#DAA520",
    "navigate_num": "#000000",
    "navigate_text": "#333333",
    "running_highlight": "#FF0000",
    "selected_highlight": "#FFD700",
    "sidebar_border": "#EEEEEE",
    "wrapper_background": "#FFFFFF"
   },
   "moveMenuLeft": true,
   "nav_menu": {
    "height": "99px",
    "width": "252px"
   },
   "navigate_menu": true,
   "number_sections": true,
   "sideBar": true,
   "threshold": "2",
   "toc_cell": true,
   "toc_section_display": "block",
   "toc_window_display": true,
   "widenNotebook": false
  },
  "varInspector": {
   "cols": {
    "lenName": 16,
    "lenType": 16,
    "lenVar": 40
   },
   "kernels_config": {
    "python": {
     "delete_cmd_postfix": "",
     "delete_cmd_prefix": "del ",
     "library": "var_list.py",
     "varRefreshCmd": "print(var_dic_list())"
    },
    "r": {
     "delete_cmd_postfix": ") ",
     "delete_cmd_prefix": "rm(",
     "library": "var_list.r",
     "varRefreshCmd": "cat(var_dic_list()) "
    }
   },
   "types_to_exclude": [
    "module",
    "function",
    "builtin_function_or_method",
    "instance",
    "_Feature"
   ],
   "window_display": false
  }
 },
 "nbformat": 4,
 "nbformat_minor": 2
}
