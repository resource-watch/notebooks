{
 "cells": [
  {
   "cell_type": "markdown",
   "metadata": {},
   "source": [
    "# Registering Datasets and Layers into the API\n",
    "\n",
    "- All Aqueduct Water Risk Atlas datasets: https://staging-api.globalforestwatch.org/v1/dataset?application=aqueduct-water-risk&status=saved&page[size]=1000\n",
    "\n",
    "- All Aqueduct Water Risk Atlas layers: https://staging-api.globalforestwatch.org/v1/layer?application=aqueduct-water-risk&status=saved&page[size]=1000"
   ]
  },
  {
   "cell_type": "code",
   "execution_count": 1,
   "metadata": {},
   "outputs": [],
   "source": [
    "import json\n",
    "import requests\n",
    "from pprint import pprint\n",
    "import random\n",
    "import getpass"
   ]
  },
  {
   "cell_type": "code",
   "execution_count": 2,
   "metadata": {},
   "outputs": [],
   "source": [
    "s = requests.session()\n",
    "s.cookies.clear()"
   ]
  },
  {
   "cell_type": "code",
   "execution_count": 3,
   "metadata": {},
   "outputs": [
    {
     "name": "stdin",
     "output_type": "stream",
     "text": [
      "RW Token_ID: ·······························································································································································································································································································································································································\n"
     ]
    }
   ],
   "source": [
    "OAUTH = getpass.getpass('RW Token_ID:')"
   ]
  },
  {
   "cell_type": "markdown",
   "metadata": {},
   "source": [
    "## Register Dataset"
   ]
  },
  {
   "cell_type": "markdown",
   "metadata": {},
   "source": [
    "**Annual indicator layers**"
   ]
  },
  {
   "cell_type": "code",
   "execution_count": 8,
   "metadata": {},
   "outputs": [],
   "source": [
    "payload = {\"dataset\": {\n",
    "            \"name\": \"Annual indicator layers\",\n",
    "            \"application\": [\"aqueduct-water-risk\"],\n",
    "            \"connectorType\": \"rest\",\n",
    "            \"provider\": \"cartodb\",\n",
    "            \"connectorUrl\": \"https://wri-rw.carto.com/tables/water_risk_indicators_annual/public\",\n",
    "            \"tableName\": \"water_risk_indicators_annual\",\n",
    "            \"status\": \"saved\",\n",
    "            \"published\": True,\n",
    "            \"overwrite\": False,\n",
    "            \"verified\": False,\n",
    "            \"env\": \"production\",\n",
    "        }\n",
    "}"
   ]
  },
  {
   "cell_type": "markdown",
   "metadata": {},
   "source": [
    "**Monthly indicator layers**"
   ]
  },
  {
   "cell_type": "code",
   "execution_count": 33,
   "metadata": {},
   "outputs": [],
   "source": [
    "payload = {\"dataset\": {\n",
    "            \"name\": \"Monthly indicator layers\",\n",
    "            \"application\": [\"aqueduct-water-risk\"],\n",
    "            \"connectorType\": \"rest\",\n",
    "            \"provider\": \"cartodb\",\n",
    "            \"connectorUrl\": \"https://wri-rw.carto.com/tables/water_risk_indicators_monthly/public\",\n",
    "            \"tableName\": \"water_risk_indicators_monthly\",\n",
    "            \"status\": \"saved\",\n",
    "            \"published\": True,\n",
    "            \"overwrite\": False,\n",
    "            \"verified\": False,\n",
    "            \"env\": \"production\",\n",
    "        }\n",
    "}"
   ]
  },
  {
   "cell_type": "markdown",
   "metadata": {},
   "source": [
    "**Projected indicator layers**"
   ]
  },
  {
   "cell_type": "code",
   "execution_count": 43,
   "metadata": {},
   "outputs": [],
   "source": [
    "payload = {\"dataset\": {\n",
    "            \"name\": \"Projected indicator layers\",\n",
    "            \"application\": [\"aqueduct-water-risk\"],\n",
    "            \"connectorType\": \"rest\",\n",
    "            \"provider\": \"cartodb\",\n",
    "            \"connectorUrl\": \"https://wri-rw.carto.com/tables/water_risk_indicators_projections/public\",\n",
    "            \"tableName\": \"water_risk_indicators_projections\",\n",
    "            \"status\": \"saved\",\n",
    "            \"published\": True,\n",
    "            \"overwrite\": False,\n",
    "            \"verified\": False,\n",
    "            \"env\": \"production\",\n",
    "        }\n",
    "}"
   ]
  },
  {
   "cell_type": "markdown",
   "metadata": {},
   "source": [
    "**Predefined weights layers**"
   ]
  },
  {
   "cell_type": "code",
   "execution_count": 5,
   "metadata": {},
   "outputs": [],
   "source": [
    "payload = {\"dataset\": {\n",
    "            \"name\": \"Predefined weights layers\",\n",
    "            \"application\": [\"aqueduct-water-risk\"],\n",
    "            \"connectorType\": \"rest\",\n",
    "            \"provider\": \"cartodb\",\n",
    "            \"connectorUrl\": \"https://wri-rw.carto.com/tables/water_risk_indicators_annual/public\",\n",
    "            \"tableName\": \"water_risk_indicators_annual\",\n",
    "            \"status\": \"saved\",\n",
    "            \"published\": True,\n",
    "            \"overwrite\": False,\n",
    "            \"verified\": False,\n",
    "            \"env\": \"production\",\n",
    "        }\n",
    "}"
   ]
  },
  {
   "cell_type": "markdown",
   "metadata": {},
   "source": [
    "**Custom weights layers**"
   ]
  },
  {
   "cell_type": "code",
   "execution_count": 4,
   "metadata": {},
   "outputs": [],
   "source": [
    "payload = {\"dataset\": {\n",
    "            \"name\": \"Custom weights layers\",\n",
    "            \"application\": [\"aqueduct-water-risk\"],\n",
    "            \"connectorType\": \"rest\",\n",
    "            \"provider\": \"cartodb\",\n",
    "            \"connectorUrl\": \"https://wri-rw.carto.com/tables/water_risk_indicators_annual/public\",\n",
    "            \"tableName\": \"water_risk_indicators_normalized\",\n",
    "            \"status\": \"saved\",\n",
    "            \"published\": True,\n",
    "            \"overwrite\": False,\n",
    "            \"verified\": False,\n",
    "            \"env\": \"production\",\n",
    "        }\n",
    "}"
   ]
  },
  {
   "cell_type": "markdown",
   "metadata": {},
   "source": [
    "**FAO hydrobasins layer**"
   ]
  },
  {
   "cell_type": "code",
   "execution_count": 17,
   "metadata": {},
   "outputs": [],
   "source": [
    "payload = {\"dataset\": {\n",
    "            \"name\": \"FAO hydrobasins\",\n",
    "            \"application\": [\"aqueduct-water-risk\"],\n",
    "            \"connectorType\": \"rest\",\n",
    "            \"provider\": \"cartodb\",\n",
    "            \"connectorUrl\": \"https://wri-rw.carto.com/tables/hydrobasins_fao_fiona_merged_v01/public\",\n",
    "            \"tableName\": \"hydrobasins_fao_fiona_merged_v01\",\n",
    "            \"status\": \"saved\",\n",
    "            \"published\": True,\n",
    "            \"overwrite\": False,\n",
    "            \"verified\": False,\n",
    "            \"env\": \"production\",\n",
    "        }\n",
    "}"
   ]
  },
  {
   "cell_type": "markdown",
   "metadata": {},
   "source": [
    "**Aquifers layer**"
   ]
  },
  {
   "cell_type": "code",
   "execution_count": 18,
   "metadata": {},
   "outputs": [],
   "source": [
    "payload = {\"dataset\": {\n",
    "            \"name\": \"Aquifers\",\n",
    "            \"application\": [\"aqueduct-water-risk\"],\n",
    "            \"connectorType\": \"rest\",\n",
    "            \"provider\": \"cartodb\",\n",
    "            \"connectorUrl\": \"https://wri-rw.carto.com/tables/aquifer_names_simple_v01/public\",\n",
    "            \"tableName\": \"aquifer_names_simple_v01\",\n",
    "            \"status\": \"saved\",\n",
    "            \"published\": True,\n",
    "            \"overwrite\": False,\n",
    "            \"verified\": False,\n",
    "            \"env\": \"production\",\n",
    "        }\n",
    "}"
   ]
  },
  {
   "cell_type": "code",
   "execution_count": 19,
   "metadata": {},
   "outputs": [
    {
     "name": "stdout",
     "output_type": "stream",
     "text": [
      "{'data': {'id': 'f239298f-25a1-430d-9723-f0a853b81184', 'type': 'dataset', 'attributes': {'name': 'Aquifers', 'slug': 'Aquifers', 'type': None, 'subtitle': None, 'application': ['aqueduct-water-risk'], 'dataPath': None, 'attributesPath': None, 'connectorType': 'rest', 'provider': 'cartodb', 'userId': '5b60606f5a4e04a7f54ff857', 'connectorUrl': 'https://wri-rw.carto.com/tables/aquifer_names_simple_v01/public', 'tableName': 'aquifer_names_simple_v01', 'status': 'pending', 'published': True, 'overwrite': False, 'verified': False, 'blockchain': {}, 'mainDateField': None, 'env': 'production', 'geoInfo': False, 'protected': False, 'legend': {'date': [], 'region': [], 'country': [], 'nested': []}, 'clonedHost': {}, 'errorMessage': None, 'taskId': None, 'updatedAt': '2019-04-02T07:51:51.447Z', 'dataLastUpdated': None, 'widgetRelevantProps': [], 'layerRelevantProps': []}}}\n"
     ]
    }
   ],
   "source": [
    "#Post new dataset\n",
    "\n",
    "url = f'https://staging-api.globalforestwatch.org/v1/dataset'\n",
    "\n",
    "headers = {'Authorization': 'Bearer ' + OAUTH, 'Content-Type': 'application/json', 'Cache-Control': 'no-cache'}\n",
    "\n",
    "r = requests.post(url, data=json.dumps(payload), headers=headers)\n",
    "print(r.json())"
   ]
  },
  {
   "cell_type": "markdown",
   "metadata": {},
   "source": [
    "## Updating Datasets"
   ]
  },
  {
   "cell_type": "code",
   "execution_count": 11,
   "metadata": {},
   "outputs": [],
   "source": [
    "\"\"\" Copy the old one and change desired values (in this case attributes.description)\n",
    "    NOTE that you cannot update id, or type, only attributes!\n",
    "\"\"\"\n",
    "\n",
    "payload = {\n",
    "        \"tableName\": \"water_risk_indicators_normalized\",\n",
    "}\n"
   ]
  },
  {
   "cell_type": "code",
   "execution_count": 12,
   "metadata": {},
   "outputs": [
    {
     "name": "stdout",
     "output_type": "stream",
     "text": [
      "{'data': {'attributes': {'application': ['aqueduct-water-risk'],\n",
      "                         'attributesPath': None,\n",
      "                         'blockchain': {},\n",
      "                         'clonedHost': {},\n",
      "                         'connectorType': 'rest',\n",
      "                         'connectorUrl': 'https://wri-rw.carto.com/tables/water_risk_indicators_annual/public',\n",
      "                         'dataLastUpdated': None,\n",
      "                         'dataPath': None,\n",
      "                         'env': 'production',\n",
      "                         'errorMessage': '',\n",
      "                         'geoInfo': False,\n",
      "                         'layerRelevantProps': [],\n",
      "                         'legend': {'country': [],\n",
      "                                    'date': [],\n",
      "                                    'nested': [],\n",
      "                                    'region': []},\n",
      "                         'mainDateField': None,\n",
      "                         'name': 'Custom weights layers',\n",
      "                         'overwrite': False,\n",
      "                         'protected': False,\n",
      "                         'provider': 'cartodb',\n",
      "                         'published': True,\n",
      "                         'slug': 'Custom-weights-layers',\n",
      "                         'status': 'saved',\n",
      "                         'subtitle': None,\n",
      "                         'tableName': 'water_risk_indicators_normalized',\n",
      "                         'taskId': None,\n",
      "                         'type': None,\n",
      "                         'updatedAt': '2019-02-07T13:12:55.726Z',\n",
      "                         'userId': '5b60606f5a4e04a7f54ff857',\n",
      "                         'verified': False,\n",
      "                         'widgetRelevantProps': []},\n",
      "          'id': 'cbe7cee3-b44b-4e56-8233-9111b4076fe0',\n",
      "          'type': 'dataset'}}\n"
     ]
    }
   ],
   "source": [
    "#Update layers\n",
    "dataset_id = 'cbe7cee3-b44b-4e56-8233-9111b4076fe0'\n",
    "\n",
    "url = f'https://staging-api.globalforestwatch.org/v1/dataset/{dataset_id}'\n",
    "\n",
    "headers = {'Authorization': 'Bearer ' + OAUTH, 'Content-Type': 'application/json'}\n",
    "\n",
    "r = requests.patch(url, data=json.dumps(payload), headers=headers)\n",
    "\n",
    "pprint(r.json())"
   ]
  },
  {
   "cell_type": "markdown",
   "metadata": {},
   "source": [
    "## Registering Layers"
   ]
  },
  {
   "cell_type": "code",
   "execution_count": 20,
   "metadata": {},
   "outputs": [],
   "source": [
    "payload = {\n",
    "\n",
    "            \"name\": \"Aquifers\",\n",
    "            \"application\": [\"aqueduct-water-risk\"],\n",
    "            \"provider\": \"cartodb\",\n",
    "            \"default\": True,\n",
    "            \"protected\": False,\n",
    "            \"published\": True,\n",
    "            \"env\": \"production\",\n",
    "            \"layerConfig\": {\n",
    "                \"account\": \"wri-rw\",\n",
    "                \"body\": {\n",
    "                    \"layers\": [\n",
    "                        {\n",
    "                            \"type\": \"cartodb\",\n",
    "                            \"options\": {\n",
    "                                \"sql\": \"SELECT * FROM aquifer_names_simple_v01\",\n",
    "                                \"cartocss\":  \"#aquifer_names_simple_v01 { polygon-fill: transparent; polygon-opacity: 0; polygon-comp-op: overlay; } #aquifer_names_simple_v01::outline { line-width: 0.5; line-color: #C0C0C0; line-opacity: 0;}\",                               \n",
    "                                \"cartocss_version\": \"2.3.0\"\n",
    "                            }\n",
    "                        }\n",
    "                    ]\n",
    "                }\n",
    "            },\n",
    "\"interactionConfig\": {\n",
    "  \"output\": [\n",
    "      {\n",
    "            \"column\": \"major_aquifer_system_name\",\n",
    "            \"format\": None,\n",
    "            \"prefix\": \"\",\n",
    "            \"property\": \"Aquifer\",\n",
    "            \"suffix\": \"\",\n",
    "            \"type\": \"string\"\n",
    "       }\n",
    "    ]\n",
    "  }\n",
    "}\n"
   ]
  },
  {
   "cell_type": "code",
   "execution_count": 21,
   "metadata": {},
   "outputs": [
    {
     "name": "stdout",
     "output_type": "stream",
     "text": [
      "https://staging-api.globalforestwatch.org/v1/dataset/f239298f-25a1-430d-9723-f0a853b81184/layer/\n",
      "{'data': {'attributes': {'application': ['aqueduct-water-risk'],\n",
      "                         'applicationConfig': {},\n",
      "                         'dataset': 'f239298f-25a1-430d-9723-f0a853b81184',\n",
      "                         'default': True,\n",
      "                         'env': 'production',\n",
      "                         'interactionConfig': {'output': [{'column': 'major_aquifer_system_name',\n",
      "                                                           'format': None,\n",
      "                                                           'prefix': '',\n",
      "                                                           'property': 'Aquifer',\n",
      "                                                           'suffix': '',\n",
      "                                                           'type': 'string'}]},\n",
      "                         'iso': [],\n",
      "                         'layerConfig': {'account': 'wri-rw',\n",
      "                                         'body': {'layers': [{'options': {'cartocss': '#aquifer_names_simple_v01 '\n",
      "                                                                                      '{ '\n",
      "                                                                                      'polygon-fill: '\n",
      "                                                                                      'transparent; '\n",
      "                                                                                      'polygon-opacity: '\n",
      "                                                                                      '0; '\n",
      "                                                                                      'polygon-comp-op: '\n",
      "                                                                                      'overlay; '\n",
      "                                                                                      '} '\n",
      "                                                                                      '#aquifer_names_simple_v01::outline '\n",
      "                                                                                      '{ '\n",
      "                                                                                      'line-width: '\n",
      "                                                                                      '0.5; '\n",
      "                                                                                      'line-color: '\n",
      "                                                                                      '#C0C0C0; '\n",
      "                                                                                      'line-opacity: '\n",
      "                                                                                      '0;}',\n",
      "                                                                          'cartocss_version': '2.3.0',\n",
      "                                                                          'sql': 'SELECT '\n",
      "                                                                                 '* '\n",
      "                                                                                 'FROM '\n",
      "                                                                                 'aquifer_names_simple_v01'},\n",
      "                                                              'type': 'cartodb'}]}},\n",
      "                         'legendConfig': {},\n",
      "                         'name': 'Aquifers',\n",
      "                         'protected': False,\n",
      "                         'provider': 'cartodb',\n",
      "                         'published': True,\n",
      "                         'slug': 'Aquifers',\n",
      "                         'staticImageConfig': {},\n",
      "                         'updatedAt': '2019-04-02T07:53:48.190Z',\n",
      "                         'userId': '5b60606f5a4e04a7f54ff857'},\n",
      "          'id': '728cda48-5164-4c1f-a626-12e527db5874',\n",
      "          'type': 'layer'}}\n"
     ]
    }
   ],
   "source": [
    "#Register layers\n",
    "dataset_id = 'f239298f-25a1-430d-9723-f0a853b81184'\n",
    "\n",
    "url = f'https://staging-api.globalforestwatch.org/v1/dataset/{dataset_id}/layer/'\n",
    "\n",
    "headers = {'Authorization': 'Bearer ' + OAUTH, 'Content-Type': 'application/json'}\n",
    "\n",
    "r = requests.post(url, data=json.dumps(payload), headers=headers)\n",
    "print(r.url)\n",
    "pprint(r.json())\n",
    "layer = r.json().get('data',None)"
   ]
  },
  {
   "cell_type": "markdown",
   "metadata": {},
   "source": [
    "## Updating Layers"
   ]
  },
  {
   "cell_type": "code",
   "execution_count": 14,
   "metadata": {},
   "outputs": [],
   "source": [
    "\"\"\" Copy the old one and change desired values (in this case attributes.description)\n",
    "    NOTE that you cannot update id, or type, only attributes!\n",
    "\"\"\"\n",
    "\n",
    "payload = {\n",
    "    \n",
    "            \"legendConfig\": {\n",
    "                \"type\": \"choropleth\",\n",
    "                \"items\": [\n",
    "                    {\n",
    "                        \"name\": \"1.7x or greater decrease\",\n",
    "                        \"color\": \"#0099CD\"\n",
    "                    },\n",
    "                    {\n",
    "                        \"name\": \"1.4x decrease\",\n",
    "                        \"color\": \"#74AFD1\"\n",
    "                    },\n",
    "                    {\n",
    "                        \"name\": \"1.2x decrease\",\n",
    "                        \"color\": \"#AAC7D8\"\n",
    "                    },\n",
    "                    {\n",
    "                        \"name\": \"Near normal\",\n",
    "                        \"color\": \"#DEDEDD\"\n",
    "                    },\n",
    "                    {\n",
    "                        \"name\": \"1.2x increase\",\n",
    "                        \"color\": \"#F8AB95\"\n",
    "                    },\n",
    "                    {\n",
    "                        \"name\": \"1.4x increase\",\n",
    "                        \"color\": \"#F27454\"\n",
    "                    },\n",
    "                    {\n",
    "                        \"name\": \"1.7x or greater increase\",\n",
    "                        \"color\": \"#ED2924\"\n",
    "                    }\n",
    "                ],\n",
    "                \"disclaimer\": [\n",
    "                    {\n",
    "                        \"name\": \"No data\",\n",
    "                        \"color\": \"#4E4E4E\"\n",
    "                    }\n",
    "                ]\n",
    "            },\n",
    "\n",
    "}"
   ]
  },
  {
   "cell_type": "code",
   "execution_count": 15,
   "metadata": {},
   "outputs": [
    {
     "name": "stdout",
     "output_type": "stream",
     "text": [
      "{'data': {'attributes': {'application': ['aqueduct-water-risk'],\n",
      "                         'applicationConfig': {},\n",
      "                         'dataset': '17f3b259-b3b9-4bd6-910d-852fb3c1c510',\n",
      "                         'default': True,\n",
      "                         'env': 'production',\n",
      "                         'interactionConfig': {'output': [{'column': 'label',\n",
      "                                                           'format': None,\n",
      "                                                           'prefix': '',\n",
      "                                                           'property': 'Category',\n",
      "                                                           'suffix': '',\n",
      "                                                           'type': 'string'}]},\n",
      "                         'iso': [],\n",
      "                         'layerConfig': {'account': 'wri-rw',\n",
      "                                         'body': {'layers': [{'options': {'cartocss': '#water_risk_indicators_projections{ '\n",
      "                                                                                      'polygon-fill:transparent; '\n",
      "                                                                                      'polygon-opacity: '\n",
      "                                                                                      '1; '\n",
      "                                                                                      'line-color:transparent; '\n",
      "                                                                                      'line-width: '\n",
      "                                                                                      '1; '\n",
      "                                                                                      'line-opacity: '\n",
      "                                                                                      '1; '\n",
      "                                                                                      '} '\n",
      "                                                                                      '#water_risk_indicators_projections '\n",
      "                                                                                      \"[label='1.7x \"\n",
      "                                                                                      'or '\n",
      "                                                                                      'greater '\n",
      "                                                                                      \"decrease'] \"\n",
      "                                                                                      '{ '\n",
      "                                                                                      'polygon-fill:#0099CD; '\n",
      "                                                                                      'line-color:#0099CD '\n",
      "                                                                                      '} '\n",
      "                                                                                      '#water_risk_indicators_projections '\n",
      "                                                                                      \"[label='1.4x \"\n",
      "                                                                                      \"decrease'] \"\n",
      "                                                                                      '{ '\n",
      "                                                                                      'polygon-fill:  '\n",
      "                                                                                      '#74AFD1; '\n",
      "                                                                                      'line-color:  '\n",
      "                                                                                      '#74AFD1 '\n",
      "                                                                                      '} '\n",
      "                                                                                      '#water_risk_indicators_projections '\n",
      "                                                                                      \"[label='1.2x \"\n",
      "                                                                                      \"decrease'] \"\n",
      "                                                                                      '{ '\n",
      "                                                                                      'polygon-fill: '\n",
      "                                                                                      '#AAC7D8; '\n",
      "                                                                                      'line-color: '\n",
      "                                                                                      '#AAC7D8 '\n",
      "                                                                                      '} '\n",
      "                                                                                      '#water_risk_indicators_projections '\n",
      "                                                                                      \"[label='Near \"\n",
      "                                                                                      \"normal'] \"\n",
      "                                                                                      '{ '\n",
      "                                                                                      'polygon-fill: '\n",
      "                                                                                      '#DEDEDD; '\n",
      "                                                                                      'line-color:  '\n",
      "                                                                                      '#DEDEDD '\n",
      "                                                                                      '} '\n",
      "                                                                                      '#water_risk_indicators_projections '\n",
      "                                                                                      \"[label='1.2x \"\n",
      "                                                                                      \"increase'] \"\n",
      "                                                                                      '{ '\n",
      "                                                                                      'polygon-fill: '\n",
      "                                                                                      '#F8AB95; '\n",
      "                                                                                      'line-color:  '\n",
      "                                                                                      '#F8AB95 '\n",
      "                                                                                      '} '\n",
      "                                                                                      '#water_risk_indicators_projections '\n",
      "                                                                                      \"[label='1.4x \"\n",
      "                                                                                      \"increase'] \"\n",
      "                                                                                      '{ '\n",
      "                                                                                      'polygon-fill: '\n",
      "                                                                                      '#F27454; '\n",
      "                                                                                      'line-color:  '\n",
      "                                                                                      '#F27454 '\n",
      "                                                                                      '} '\n",
      "                                                                                      '#water_risk_indicators_projections '\n",
      "                                                                                      \"[label='1.7x \"\n",
      "                                                                                      'or '\n",
      "                                                                                      'greater '\n",
      "                                                                                      \"increase'] \"\n",
      "                                                                                      '{ '\n",
      "                                                                                      'polygon-fill: '\n",
      "                                                                                      '#ED2924; '\n",
      "                                                                                      'line-color:  '\n",
      "                                                                                      '#ED2924 '\n",
      "                                                                                      '} '\n",
      "                                                                                      '#water_risk_indicators_projections '\n",
      "                                                                                      \"[label='No \"\n",
      "                                                                                      \"data'] \"\n",
      "                                                                                      '{ '\n",
      "                                                                                      'polygon-fill: '\n",
      "                                                                                      '#4F4F4F; '\n",
      "                                                                                      'line-color:  '\n",
      "                                                                                      '#4F4F4F '\n",
      "                                                                                      '}',\n",
      "                                                                          'cartocss_version': '2.3.0',\n",
      "                                                                          'sql': 'with '\n",
      "                                                                                 'r '\n",
      "                                                                                 'as '\n",
      "                                                                                 '(SELECT '\n",
      "                                                                                 'basinid, '\n",
      "                                                                                 'label '\n",
      "                                                                                 'FROM '\n",
      "                                                                                 'water_risk_indicators_projections '\n",
      "                                                                                 'WHERE '\n",
      "                                                                                 'year '\n",
      "                                                                                 '= '\n",
      "                                                                                 '{{year}} '\n",
      "                                                                                 'and '\n",
      "                                                                                 'type '\n",
      "                                                                                 '= '\n",
      "                                                                                 \"'change_from_baseline' \"\n",
      "                                                                                 'and '\n",
      "                                                                                 'indicator '\n",
      "                                                                                 '= '\n",
      "                                                                                 \"'water_demand' \"\n",
      "                                                                                 'and '\n",
      "                                                                                 'scenario '\n",
      "                                                                                 '= '\n",
      "                                                                                 \"'{{scenario}}') \"\n",
      "                                                                                 'SELECT '\n",
      "                                                                                 's.cartodb_id, '\n",
      "                                                                                 's.basinid, '\n",
      "                                                                                 's.the_geom, '\n",
      "                                                                                 's.the_geom_webmercator, '\n",
      "                                                                                 'r.label '\n",
      "                                                                                 'FROM '\n",
      "                                                                                 'wri_subcatchements '\n",
      "                                                                                 's  '\n",
      "                                                                                 'LEFT '\n",
      "                                                                                 'JOIN '\n",
      "                                                                                 'r '\n",
      "                                                                                 'on '\n",
      "                                                                                 's.basinid=r.basinid '\n",
      "                                                                                 'WHERE '\n",
      "                                                                                 's.the_geom '\n",
      "                                                                                 'is '\n",
      "                                                                                 'not '\n",
      "                                                                                 'null '\n",
      "                                                                                 'and '\n",
      "                                                                                 'r.label '\n",
      "                                                                                 'is '\n",
      "                                                                                 'not '\n",
      "                                                                                 'null'},\n",
      "                                                              'type': 'cartodb'}]},\n",
      "                                         'params_config': [{'key': 'year',\n",
      "                                                            'required': True},\n",
      "                                                           {'key': 'scenario',\n",
      "                                                            'required': True}],\n",
      "                                         'sql_config': []},\n",
      "                         'legendConfig': {'disclaimer': [{'color': '#4E4E4E',\n",
      "                                                          'name': 'No data'}],\n",
      "                                          'items': [{'color': '#0099CD',\n",
      "                                                     'name': '1.7x or greater '\n",
      "                                                             'decrease'},\n",
      "                                                    {'color': '#74AFD1',\n",
      "                                                     'name': '1.4x decrease'},\n",
      "                                                    {'color': '#AAC7D8',\n",
      "                                                     'name': '1.2x decrease'},\n",
      "                                                    {'color': '#DEDEDD',\n",
      "                                                     'name': 'Near normal'},\n",
      "                                                    {'color': '#F8AB95',\n",
      "                                                     'name': '1.2x increase'},\n",
      "                                                    {'color': '#F27454',\n",
      "                                                     'name': '1.4x increase'},\n",
      "                                                    {'color': '#ED2924',\n",
      "                                                     'name': '1.7x or greater '\n",
      "                                                             'increase'}],\n",
      "                                          'type': 'choropleth'},\n",
      "                         'name': 'Projected Change in Water Demand',\n",
      "                         'protected': False,\n",
      "                         'provider': 'cartodb',\n",
      "                         'published': True,\n",
      "                         'slug': 'Projected-Change-in-Water-Demand',\n",
      "                         'staticImageConfig': {},\n",
      "                         'updatedAt': '2019-05-06T11:42:56.707Z',\n",
      "                         'userId': '5b60606f5a4e04a7f54ff857'},\n",
      "          'id': 'a3795c06-d2eb-4aa3-8e24-62965b69e5ce',\n",
      "          'type': 'layer'}}\n"
     ]
    }
   ],
   "source": [
    "#Update layers\n",
    "dataset_id = '17f3b259-b3b9-4bd6-910d-852fb3c1c510'\n",
    "layer_id = 'a3795c06-d2eb-4aa3-8e24-62965b69e5ce'\n",
    "\n",
    "url = f'https://staging-api.globalforestwatch.org/v1/dataset/{dataset_id}/layer/{layer_id}'\n",
    "\n",
    "headers = {'Authorization': 'Bearer ' + OAUTH, 'Content-Type': 'application/json'}\n",
    "\n",
    "r = requests.patch(url, data=json.dumps(payload), headers=headers)\n",
    "\n",
    "pprint(r.json())"
   ]
  },
  {
   "cell_type": "code",
   "execution_count": null,
   "metadata": {},
   "outputs": [],
   "source": []
  }
 ],
 "metadata": {
  "kernelspec": {
   "display_name": "Python 3",
   "language": "python",
   "name": "python3"
  },
  "language_info": {
   "codemirror_mode": {
    "name": "ipython",
    "version": 3
   },
   "file_extension": ".py",
   "mimetype": "text/x-python",
   "name": "python",
   "nbconvert_exporter": "python",
   "pygments_lexer": "ipython3",
   "version": "3.6.8"
  }
 },
 "nbformat": 4,
 "nbformat_minor": 2
}
