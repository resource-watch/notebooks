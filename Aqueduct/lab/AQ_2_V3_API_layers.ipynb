{
 "cells": [
  {
   "cell_type": "markdown",
   "metadata": {},
   "source": [
    "# Registering Datasets and Layers into the API\n",
    "\n",
    "- All Aqueduct Water Risk Atlas datasets: https://staging-api.globalforestwatch.org/v1/dataset?application=aqueduct-water-risk&status=saved&page[size]=1000\n",
    "\n",
    "- All Aqueduct Water Risk Atlas layers: https://staging-api.globalforestwatch.org/v1/layer?application=aqueduct-water-risk&status=saved&page[size]=1000"
   ]
  },
  {
   "cell_type": "code",
   "execution_count": 1,
   "metadata": {},
   "outputs": [],
   "source": [
    "import json\n",
    "import requests\n",
    "from pprint import pprint\n",
    "import random\n",
    "import getpass"
   ]
  },
  {
   "cell_type": "code",
   "execution_count": 2,
   "metadata": {},
   "outputs": [],
   "source": [
    "s = requests.session()\n",
    "s.cookies.clear()"
   ]
  },
  {
   "cell_type": "code",
   "execution_count": 3,
   "metadata": {},
   "outputs": [
    {
     "name": "stdin",
     "output_type": "stream",
     "text": [
      "RW Token_ID: ·······························································································································································································································································································································································································\n"
     ]
    }
   ],
   "source": [
    "OAUTH = getpass.getpass('RW Token_ID:')"
   ]
  },
  {
   "cell_type": "markdown",
   "metadata": {},
   "source": [
    "## Register Dataset"
   ]
  },
  {
   "cell_type": "markdown",
   "metadata": {},
   "source": [
    "**Annual indicator layers**"
   ]
  },
  {
   "cell_type": "code",
   "execution_count": 8,
   "metadata": {},
   "outputs": [],
   "source": [
    "payload = {\"dataset\": {\n",
    "            \"name\": \"Annual indicator layers\",\n",
    "            \"application\": [\"aqueduct-water-risk\"],\n",
    "            \"connectorType\": \"rest\",\n",
    "            \"provider\": \"cartodb\",\n",
    "            \"connectorUrl\": \"https://wri-rw.carto.com/tables/water_risk_indicators_annual/public\",\n",
    "            \"tableName\": \"water_risk_indicators_annual\",\n",
    "            \"status\": \"saved\",\n",
    "            \"published\": True,\n",
    "            \"overwrite\": False,\n",
    "            \"verified\": False,\n",
    "            \"env\": \"production\",\n",
    "        }\n",
    "}"
   ]
  },
  {
   "cell_type": "markdown",
   "metadata": {},
   "source": [
    "**Monthly indicator layers**"
   ]
  },
  {
   "cell_type": "code",
   "execution_count": 33,
   "metadata": {},
   "outputs": [],
   "source": [
    "payload = {\"dataset\": {\n",
    "            \"name\": \"Monthly indicator layers\",\n",
    "            \"application\": [\"aqueduct-water-risk\"],\n",
    "            \"connectorType\": \"rest\",\n",
    "            \"provider\": \"cartodb\",\n",
    "            \"connectorUrl\": \"https://wri-rw.carto.com/tables/water_risk_indicators_monthly/public\",\n",
    "            \"tableName\": \"water_risk_indicators_monthly\",\n",
    "            \"status\": \"saved\",\n",
    "            \"published\": True,\n",
    "            \"overwrite\": False,\n",
    "            \"verified\": False,\n",
    "            \"env\": \"production\",\n",
    "        }\n",
    "}"
   ]
  },
  {
   "cell_type": "markdown",
   "metadata": {},
   "source": [
    "**Projected indicator layers**"
   ]
  },
  {
   "cell_type": "code",
   "execution_count": 43,
   "metadata": {},
   "outputs": [],
   "source": [
    "payload = {\"dataset\": {\n",
    "            \"name\": \"Projected indicator layers\",\n",
    "            \"application\": [\"aqueduct-water-risk\"],\n",
    "            \"connectorType\": \"rest\",\n",
    "            \"provider\": \"cartodb\",\n",
    "            \"connectorUrl\": \"https://wri-rw.carto.com/tables/water_risk_indicators_projections/public\",\n",
    "            \"tableName\": \"water_risk_indicators_projections\",\n",
    "            \"status\": \"saved\",\n",
    "            \"published\": True,\n",
    "            \"overwrite\": False,\n",
    "            \"verified\": False,\n",
    "            \"env\": \"production\",\n",
    "        }\n",
    "}"
   ]
  },
  {
   "cell_type": "markdown",
   "metadata": {},
   "source": [
    "**Predefined weights layers**"
   ]
  },
  {
   "cell_type": "code",
   "execution_count": 5,
   "metadata": {},
   "outputs": [],
   "source": [
    "payload = {\"dataset\": {\n",
    "            \"name\": \"Predefined weights layers\",\n",
    "            \"application\": [\"aqueduct-water-risk\"],\n",
    "            \"connectorType\": \"rest\",\n",
    "            \"provider\": \"cartodb\",\n",
    "            \"connectorUrl\": \"https://wri-rw.carto.com/tables/water_risk_indicators_annual/public\",\n",
    "            \"tableName\": \"water_risk_indicators_annual\",\n",
    "            \"status\": \"saved\",\n",
    "            \"published\": True,\n",
    "            \"overwrite\": False,\n",
    "            \"verified\": False,\n",
    "            \"env\": \"production\",\n",
    "        }\n",
    "}"
   ]
  },
  {
   "cell_type": "markdown",
   "metadata": {},
   "source": [
    "**Custom weights layers**"
   ]
  },
  {
   "cell_type": "code",
   "execution_count": 4,
   "metadata": {},
   "outputs": [],
   "source": [
    "payload = {\"dataset\": {\n",
    "            \"name\": \"Custom weights layers\",\n",
    "            \"application\": [\"aqueduct-water-risk\"],\n",
    "            \"connectorType\": \"rest\",\n",
    "            \"provider\": \"cartodb\",\n",
    "            \"connectorUrl\": \"https://wri-rw.carto.com/tables/water_risk_indicators_annual/public\",\n",
    "            \"tableName\": \"water_risk_indicators_normalized\",\n",
    "            \"status\": \"saved\",\n",
    "            \"published\": True,\n",
    "            \"overwrite\": False,\n",
    "            \"verified\": False,\n",
    "            \"env\": \"production\",\n",
    "        }\n",
    "}"
   ]
  },
  {
   "cell_type": "markdown",
   "metadata": {},
   "source": [
    "**FAO hydrobasins layer**"
   ]
  },
  {
   "cell_type": "code",
   "execution_count": 5,
   "metadata": {},
   "outputs": [],
   "source": [
    "payload = {\"dataset\": {\n",
    "            \"name\": \"FAO hydrobasins\",\n",
    "            \"application\": [\"aqueduct-water-risk\"],\n",
    "            \"connectorType\": \"rest\",\n",
    "            \"provider\": \"cartodb\",\n",
    "            \"connectorUrl\": \"https://wri-rw.carto.com/tables/hydrobasins_fao_fiona_merged_v01/public\",\n",
    "            \"tableName\": \"hydrobasins_fao_fiona_merged_v01\",\n",
    "            \"status\": \"saved\",\n",
    "            \"published\": True,\n",
    "            \"overwrite\": False,\n",
    "            \"verified\": False,\n",
    "            \"env\": \"production\",\n",
    "        }\n",
    "}"
   ]
  },
  {
   "cell_type": "code",
   "execution_count": 6,
   "metadata": {},
   "outputs": [
    {
     "name": "stdout",
     "output_type": "stream",
     "text": [
      "{'data': {'id': '57de0a79-caaa-4caa-bcfd-a1faff7103b8', 'type': 'dataset', 'attributes': {'name': 'FAO hydrobasins', 'slug': 'FAO-hydrobasins', 'type': None, 'subtitle': None, 'application': ['aqueduct-water-risk'], 'dataPath': None, 'attributesPath': None, 'connectorType': 'rest', 'provider': 'cartodb', 'userId': '5b60606f5a4e04a7f54ff857', 'connectorUrl': 'https://wri-rw.carto.com/tables/hydrobasins_fao_fiona_merged_v01/public', 'tableName': 'hydrobasins_fao_fiona_merged_v01', 'status': 'pending', 'published': True, 'overwrite': False, 'verified': False, 'blockchain': {}, 'mainDateField': None, 'env': 'production', 'geoInfo': False, 'protected': False, 'legend': {'date': [], 'region': [], 'country': [], 'nested': []}, 'clonedHost': {}, 'errorMessage': None, 'taskId': None, 'updatedAt': '2019-03-28T12:13:09.742Z', 'dataLastUpdated': None, 'widgetRelevantProps': [], 'layerRelevantProps': []}}}\n"
     ]
    }
   ],
   "source": [
    "#Post new dataset\n",
    "\n",
    "url = f'https://staging-api.globalforestwatch.org/v1/dataset'\n",
    "\n",
    "headers = {'Authorization': 'Bearer ' + OAUTH, 'Content-Type': 'application/json', 'Cache-Control': 'no-cache'}\n",
    "\n",
    "r = requests.post(url, data=json.dumps(payload), headers=headers)\n",
    "print(r.json())"
   ]
  },
  {
   "cell_type": "markdown",
   "metadata": {},
   "source": [
    "## Updating Datasets"
   ]
  },
  {
   "cell_type": "code",
   "execution_count": 11,
   "metadata": {},
   "outputs": [],
   "source": [
    "\"\"\" Copy the old one and change desired values (in this case attributes.description)\n",
    "    NOTE that you cannot update id, or type, only attributes!\n",
    "\"\"\"\n",
    "\n",
    "payload = {\n",
    "        \"tableName\": \"water_risk_indicators_normalized\",\n",
    "}\n"
   ]
  },
  {
   "cell_type": "code",
   "execution_count": 12,
   "metadata": {},
   "outputs": [
    {
     "name": "stdout",
     "output_type": "stream",
     "text": [
      "{'data': {'attributes': {'application': ['aqueduct-water-risk'],\n",
      "                         'attributesPath': None,\n",
      "                         'blockchain': {},\n",
      "                         'clonedHost': {},\n",
      "                         'connectorType': 'rest',\n",
      "                         'connectorUrl': 'https://wri-rw.carto.com/tables/water_risk_indicators_annual/public',\n",
      "                         'dataLastUpdated': None,\n",
      "                         'dataPath': None,\n",
      "                         'env': 'production',\n",
      "                         'errorMessage': '',\n",
      "                         'geoInfo': False,\n",
      "                         'layerRelevantProps': [],\n",
      "                         'legend': {'country': [],\n",
      "                                    'date': [],\n",
      "                                    'nested': [],\n",
      "                                    'region': []},\n",
      "                         'mainDateField': None,\n",
      "                         'name': 'Custom weights layers',\n",
      "                         'overwrite': False,\n",
      "                         'protected': False,\n",
      "                         'provider': 'cartodb',\n",
      "                         'published': True,\n",
      "                         'slug': 'Custom-weights-layers',\n",
      "                         'status': 'saved',\n",
      "                         'subtitle': None,\n",
      "                         'tableName': 'water_risk_indicators_normalized',\n",
      "                         'taskId': None,\n",
      "                         'type': None,\n",
      "                         'updatedAt': '2019-02-07T13:12:55.726Z',\n",
      "                         'userId': '5b60606f5a4e04a7f54ff857',\n",
      "                         'verified': False,\n",
      "                         'widgetRelevantProps': []},\n",
      "          'id': 'cbe7cee3-b44b-4e56-8233-9111b4076fe0',\n",
      "          'type': 'dataset'}}\n"
     ]
    }
   ],
   "source": [
    "#Update layers\n",
    "dataset_id = 'cbe7cee3-b44b-4e56-8233-9111b4076fe0'\n",
    "\n",
    "url = f'https://staging-api.globalforestwatch.org/v1/dataset/{dataset_id}'\n",
    "\n",
    "headers = {'Authorization': 'Bearer ' + OAUTH, 'Content-Type': 'application/json'}\n",
    "\n",
    "r = requests.patch(url, data=json.dumps(payload), headers=headers)\n",
    "\n",
    "pprint(r.json())"
   ]
  },
  {
   "cell_type": "markdown",
   "metadata": {},
   "source": [
    "## Registering Layers"
   ]
  },
  {
   "cell_type": "code",
   "execution_count": 8,
   "metadata": {},
   "outputs": [],
   "source": [
    "payload = {\n",
    "\n",
    "            \"name\": \"FAO hydrobasins\",\n",
    "            \"application\": [\"aqueduct-water-risk\"],\n",
    "            \"provider\": \"cartodb\",\n",
    "            \"default\": True,\n",
    "            \"protected\": False,\n",
    "            \"published\": True,\n",
    "            \"env\": \"production\",\n",
    "            \"layerConfig\": {\n",
    "                \"account\": \"wri-rw\",\n",
    "                \"body\": {\n",
    "                    \"layers\": [\n",
    "                        {\n",
    "                            \"type\": \"cartodb\",\n",
    "                            \"options\": {\n",
    "                                \"sql\": \"SELECT * FROM hydrobasins_fao_fiona_merged_v01\",\n",
    "                                \"cartocss\":  \"#hydrobasins_fao_fiona_merged_v01 { polygon-fill: transparent; polygon-opacity: 0; polygon-comp-op: overlay; } #hydrobasins_fao_fiona_merged_v01::outline { line-width: 0.5; line-color: #C0C0C0; line-opacity: 0.5; [zoom<6]{line-opacity: 0;}}\",                               \n",
    "                                \"cartocss_version\": \"2.3.0\"\n",
    "                            }\n",
    "                        }\n",
    "                    ]\n",
    "                }\n",
    "            },\n",
    "\"interactionConfig\": {\n",
    "  \"output\": [\n",
    "      {\n",
    "            \"column\": \"maj_name\",\n",
    "            \"format\": None,\n",
    "            \"prefix\": \"\",\n",
    "            \"property\": \"FAO major basin\",\n",
    "            \"suffix\": \"\",\n",
    "            \"type\": \"string\"\n",
    "       },\n",
    "      {\n",
    "            \"column\": \"sub_name\",\n",
    "            \"format\": None,\n",
    "            \"prefix\": \"\",\n",
    "            \"property\": \"FAO minor basin\",\n",
    "            \"suffix\": \"\",\n",
    "            \"type\": \"string\"\n",
    "       }\n",
    "    ]\n",
    "  }\n",
    "}\n"
   ]
  },
  {
   "cell_type": "code",
   "execution_count": 9,
   "metadata": {},
   "outputs": [
    {
     "name": "stdout",
     "output_type": "stream",
     "text": [
      "https://staging-api.globalforestwatch.org/v1/dataset/57de0a79-caaa-4caa-bcfd-a1faff7103b8/layer/\n",
      "{'data': {'attributes': {'application': ['aqueduct-water-risk'],\n",
      "                         'applicationConfig': {},\n",
      "                         'dataset': '57de0a79-caaa-4caa-bcfd-a1faff7103b8',\n",
      "                         'default': True,\n",
      "                         'env': 'production',\n",
      "                         'interactionConfig': {'output': [{'column': 'maj_name',\n",
      "                                                           'format': None,\n",
      "                                                           'prefix': '',\n",
      "                                                           'property': 'FAO '\n",
      "                                                                       'major '\n",
      "                                                                       'basin',\n",
      "                                                           'suffix': '',\n",
      "                                                           'type': 'string'},\n",
      "                                                          {'column': 'sub_name',\n",
      "                                                           'format': None,\n",
      "                                                           'prefix': '',\n",
      "                                                           'property': 'FAO '\n",
      "                                                                       'minor '\n",
      "                                                                       'basin',\n",
      "                                                           'suffix': '',\n",
      "                                                           'type': 'string'}]},\n",
      "                         'iso': [],\n",
      "                         'layerConfig': {'account': 'wri-rw',\n",
      "                                         'body': {'layers': [{'options': {'cartocss': '#hydrobasins_fao_fiona_merged_v01 '\n",
      "                                                                                      '{ '\n",
      "                                                                                      'polygon-fill: '\n",
      "                                                                                      'transparent; '\n",
      "                                                                                      'polygon-opacity: '\n",
      "                                                                                      '0; '\n",
      "                                                                                      'polygon-comp-op: '\n",
      "                                                                                      'overlay; '\n",
      "                                                                                      '} '\n",
      "                                                                                      '#hydrobasins_fao_fiona_merged_v01::outline '\n",
      "                                                                                      '{ '\n",
      "                                                                                      'line-width: '\n",
      "                                                                                      '0.5; '\n",
      "                                                                                      'line-color: '\n",
      "                                                                                      '#C0C0C0; '\n",
      "                                                                                      'line-opacity: '\n",
      "                                                                                      '0.5; '\n",
      "                                                                                      '[zoom<6]{line-opacity: '\n",
      "                                                                                      '0;}}',\n",
      "                                                                          'cartocss_version': '2.3.0',\n",
      "                                                                          'sql': 'SELECT '\n",
      "                                                                                 '* '\n",
      "                                                                                 'FROM '\n",
      "                                                                                 'hydrobasins_fao_fiona_merged_v01'},\n",
      "                                                              'type': 'cartodb'}]}},\n",
      "                         'legendConfig': {},\n",
      "                         'name': 'FAO hydrobasins',\n",
      "                         'protected': False,\n",
      "                         'provider': 'cartodb',\n",
      "                         'published': True,\n",
      "                         'slug': 'FAO-hydrobasins',\n",
      "                         'staticImageConfig': {},\n",
      "                         'updatedAt': '2019-03-28T12:18:27.215Z',\n",
      "                         'userId': '5b60606f5a4e04a7f54ff857'},\n",
      "          'id': '0f573be8-71a9-46c1-bee4-a3909212cecc',\n",
      "          'type': 'layer'}}\n"
     ]
    }
   ],
   "source": [
    "#Register layers\n",
    "dataset_id = '57de0a79-caaa-4caa-bcfd-a1faff7103b8'\n",
    "\n",
    "url = f'https://staging-api.globalforestwatch.org/v1/dataset/{dataset_id}/layer/'\n",
    "\n",
    "headers = {'Authorization': 'Bearer ' + OAUTH, 'Content-Type': 'application/json'}\n",
    "\n",
    "r = requests.post(url, data=json.dumps(payload), headers=headers)\n",
    "print(r.url)\n",
    "pprint(r.json())\n",
    "layer = r.json().get('data',None)"
   ]
  },
  {
   "cell_type": "markdown",
   "metadata": {},
   "source": [
    "## Updating Layers"
   ]
  },
  {
   "cell_type": "code",
   "execution_count": 52,
   "metadata": {},
   "outputs": [],
   "source": [
    "\"\"\" Copy the old one and change desired values (in this case attributes.description)\n",
    "    NOTE that you cannot update id, or type, only attributes!\n",
    "\"\"\"\n",
    "\n",
    "payload = {\n",
    "    \n",
    "            \"layerConfig\": {\n",
    "                \"account\": \"wri-rw\",\n",
    "                \"body\": {\n",
    "                    \"layers\": [\n",
    "                        {\n",
    "                            \"type\": \"cartodb\",\n",
    "                            \"options\": {\n",
    "                                \"sql\": \"with r as (SELECT pfaf_id, {{indicator}}, {{label}} FROM water_risk_indicators_monthly WHERE month = {{month}} and pfaf_id != -9999) SELECT s.cartodb_id, s.the_geom, s.the_geom_webmercator, coalesce({{indicator}}, -9999) as water_risk, coalesce(NULLIF({{label}},''), 'No Data') as label FROM y2018m12d06_rh_master_shape_v01 s  LEFT JOIN r on s.pfaf_id=r.pfaf_id WHERE s.pfaf_id != -9999\",\n",
    "                                \"cartocss\": \"#water_risk_indicators_annual [water_risk=4] { polygon-fill:#990000; line-color:#990000 } #water_risk_indicators_annual [water_risk=3] { polygon-fill:  #FF1900; line-color:  #FF1900 } #water_risk_indicators_annual [water_risk=2] { polygon-fill: #FF9900; line-color: #FF9900 } #water_risk_indicators_annual [water_risk=1] { polygon-fill: #FFE600; line-color:  #FFE600 } #water_risk_indicators_annual [water_risk=0] { polygon-fill: #FFFF99; line-color:  #FFFF99 } #water_risk_indicators_annual [water_risk=-1] { polygon-fill: #808080; line-color:  #808080 } #water_risk_indicators_annual [water_risk<-1] { polygon-fill: #4E4E4E; line-color:  #4E4E4E }\",\n",
    "                                \"cartocss_version\": \"2.3.0\"\n",
    "                            }\n",
    "                        }\n",
    "                    ]\n",
    "                },\n",
    "                \"params_config\": [\n",
    "                    {\n",
    "                        \"key\": \"indicator\",\n",
    "                        \"required\": True\n",
    "                    },\n",
    "                    {\n",
    "                        \"key\": \"label\",\n",
    "                        \"required\": True\n",
    "                    },\n",
    "                    {\n",
    "                        \"key\": \"month\",\n",
    "                        \"required\": True\n",
    "                    }\n",
    "                ],\n",
    "                \"sql_config\": []\n",
    "            },\n",
    "    \n",
    "}"
   ]
  },
  {
   "cell_type": "code",
   "execution_count": 53,
   "metadata": {},
   "outputs": [
    {
     "name": "stdout",
     "output_type": "stream",
     "text": [
      "{'data': {'attributes': {'application': ['aqueduct-water-risk'],\n",
      "                         'applicationConfig': {},\n",
      "                         'dataset': 'bd965bd5-9568-4637-a873-2872f39c4803',\n",
      "                         'default': True,\n",
      "                         'env': 'production',\n",
      "                         'interactionConfig': {'output': [{'column': 'label',\n",
      "                                                           'format': None,\n",
      "                                                           'prefix': '',\n",
      "                                                           'property': 'Category',\n",
      "                                                           'suffix': '',\n",
      "                                                           'type': 'string'}]},\n",
      "                         'iso': [],\n",
      "                         'layerConfig': {'account': 'wri-rw',\n",
      "                                         'body': {'layers': [{'options': {'cartocss': '#water_risk_indicators_annual '\n",
      "                                                                                      '[water_risk=4] '\n",
      "                                                                                      '{ '\n",
      "                                                                                      'polygon-fill:#990000; '\n",
      "                                                                                      'line-color:#990000 '\n",
      "                                                                                      '} '\n",
      "                                                                                      '#water_risk_indicators_annual '\n",
      "                                                                                      '[water_risk=3] '\n",
      "                                                                                      '{ '\n",
      "                                                                                      'polygon-fill:  '\n",
      "                                                                                      '#FF1900; '\n",
      "                                                                                      'line-color:  '\n",
      "                                                                                      '#FF1900 '\n",
      "                                                                                      '} '\n",
      "                                                                                      '#water_risk_indicators_annual '\n",
      "                                                                                      '[water_risk=2] '\n",
      "                                                                                      '{ '\n",
      "                                                                                      'polygon-fill: '\n",
      "                                                                                      '#FF9900; '\n",
      "                                                                                      'line-color: '\n",
      "                                                                                      '#FF9900 '\n",
      "                                                                                      '} '\n",
      "                                                                                      '#water_risk_indicators_annual '\n",
      "                                                                                      '[water_risk=1] '\n",
      "                                                                                      '{ '\n",
      "                                                                                      'polygon-fill: '\n",
      "                                                                                      '#FFE600; '\n",
      "                                                                                      'line-color:  '\n",
      "                                                                                      '#FFE600 '\n",
      "                                                                                      '} '\n",
      "                                                                                      '#water_risk_indicators_annual '\n",
      "                                                                                      '[water_risk=0] '\n",
      "                                                                                      '{ '\n",
      "                                                                                      'polygon-fill: '\n",
      "                                                                                      '#FFFF99; '\n",
      "                                                                                      'line-color:  '\n",
      "                                                                                      '#FFFF99 '\n",
      "                                                                                      '} '\n",
      "                                                                                      '#water_risk_indicators_annual '\n",
      "                                                                                      '[water_risk=-1] '\n",
      "                                                                                      '{ '\n",
      "                                                                                      'polygon-fill: '\n",
      "                                                                                      '#808080; '\n",
      "                                                                                      'line-color:  '\n",
      "                                                                                      '#808080 '\n",
      "                                                                                      '} '\n",
      "                                                                                      '#water_risk_indicators_annual '\n",
      "                                                                                      '[water_risk<-1] '\n",
      "                                                                                      '{ '\n",
      "                                                                                      'polygon-fill: '\n",
      "                                                                                      '#4E4E4E; '\n",
      "                                                                                      'line-color:  '\n",
      "                                                                                      '#4E4E4E '\n",
      "                                                                                      '}',\n",
      "                                                                          'cartocss_version': '2.3.0',\n",
      "                                                                          'sql': 'with '\n",
      "                                                                                 'r '\n",
      "                                                                                 'as '\n",
      "                                                                                 '(SELECT '\n",
      "                                                                                 'pfaf_id, '\n",
      "                                                                                 '{{indicator}}, '\n",
      "                                                                                 '{{label}} '\n",
      "                                                                                 'FROM '\n",
      "                                                                                 'water_risk_indicators_monthly '\n",
      "                                                                                 'WHERE '\n",
      "                                                                                 'month '\n",
      "                                                                                 '= '\n",
      "                                                                                 '{{month}} '\n",
      "                                                                                 'and '\n",
      "                                                                                 'pfaf_id '\n",
      "                                                                                 '!= '\n",
      "                                                                                 '-9999) '\n",
      "                                                                                 'SELECT '\n",
      "                                                                                 's.cartodb_id, '\n",
      "                                                                                 's.the_geom, '\n",
      "                                                                                 's.the_geom_webmercator, '\n",
      "                                                                                 'coalesce({{indicator}}, '\n",
      "                                                                                 '-9999) '\n",
      "                                                                                 'as '\n",
      "                                                                                 'water_risk, '\n",
      "                                                                                 \"coalesce(NULLIF({{label}},''), \"\n",
      "                                                                                 \"'No \"\n",
      "                                                                                 \"Data') \"\n",
      "                                                                                 'as '\n",
      "                                                                                 'label '\n",
      "                                                                                 'FROM '\n",
      "                                                                                 'y2018m12d06_rh_master_shape_v01 '\n",
      "                                                                                 's  '\n",
      "                                                                                 'LEFT '\n",
      "                                                                                 'JOIN '\n",
      "                                                                                 'r '\n",
      "                                                                                 'on '\n",
      "                                                                                 's.pfaf_id=r.pfaf_id '\n",
      "                                                                                 'WHERE '\n",
      "                                                                                 's.pfaf_id '\n",
      "                                                                                 '!= '\n",
      "                                                                                 '-9999'},\n",
      "                                                              'type': 'cartodb'}]},\n",
      "                                         'params_config': [{'key': 'indicator',\n",
      "                                                            'required': True},\n",
      "                                                           {'key': 'label',\n",
      "                                                            'required': True},\n",
      "                                                           {'key': 'month',\n",
      "                                                            'required': True}],\n",
      "                                         'sql_config': []},\n",
      "                         'legendConfig': {'items': [{'color': '#990000',\n",
      "                                                     'name': 'Extremely high'},\n",
      "                                                    {'color': '#FF1900',\n",
      "                                                     'name': 'High'},\n",
      "                                                    {'color': '#FF9900',\n",
      "                                                     'name': 'Medium to high'},\n",
      "                                                    {'color': '#FFE600',\n",
      "                                                     'name': 'Low to medium'},\n",
      "                                                    {'color': '#FFFF99',\n",
      "                                                     'name': 'Low'},\n",
      "                                                    {'color': '#808080',\n",
      "                                                     'name': 'Arid & low water '\n",
      "                                                             'use'},\n",
      "                                                    {'color': '#4E4E4E',\n",
      "                                                     'name': 'No data '}],\n",
      "                                          'type': 'choropleth'},\n",
      "                         'name': 'Monthly indicator layer',\n",
      "                         'protected': False,\n",
      "                         'provider': 'cartodb',\n",
      "                         'published': True,\n",
      "                         'slug': 'Monthly-indicator-layer',\n",
      "                         'staticImageConfig': {},\n",
      "                         'updatedAt': '2019-03-11T12:55:41.058Z',\n",
      "                         'userId': '5b60606f5a4e04a7f54ff857'},\n",
      "          'id': 'f4de36cf-c919-4491-9050-396f2084b3aa',\n",
      "          'type': 'layer'}}\n"
     ]
    }
   ],
   "source": [
    "#Update layers\n",
    "dataset_id = 'bd965bd5-9568-4637-a873-2872f39c4803'\n",
    "layer_id = 'f4de36cf-c919-4491-9050-396f2084b3aa'\n",
    "\n",
    "url = f'https://staging-api.globalforestwatch.org/v1/dataset/{dataset_id}/layer/{layer_id}'\n",
    "\n",
    "headers = {'Authorization': 'Bearer ' + OAUTH, 'Content-Type': 'application/json'}\n",
    "\n",
    "r = requests.patch(url, data=json.dumps(payload), headers=headers)\n",
    "\n",
    "pprint(r.json())"
   ]
  },
  {
   "cell_type": "code",
   "execution_count": null,
   "metadata": {},
   "outputs": [],
   "source": []
  }
 ],
 "metadata": {
  "kernelspec": {
   "display_name": "Python 3",
   "language": "python",
   "name": "python3"
  },
  "language_info": {
   "codemirror_mode": {
    "name": "ipython",
    "version": 3
   },
   "file_extension": ".py",
   "mimetype": "text/x-python",
   "name": "python",
   "nbconvert_exporter": "python",
   "pygments_lexer": "ipython3",
   "version": "3.6.8"
  }
 },
 "nbformat": 4,
 "nbformat_minor": 2
}
