{
 "cells": [
  {
   "cell_type": "markdown",
   "metadata": {},
   "source": [
    "# Aqueduct data 3.0"
   ]
  },
  {
   "cell_type": "markdown",
   "metadata": {},
   "source": [
    "Todo List: \n",
    "- [X] Explore data \n",
    "- [X] Zonal statisticts at basin level for the raster datasets\n",
    "- [X] Convert everything to our current format\n",
    "- [X] Add categorization and export table as csv\n",
    "- [X] Rasters visual reclasification 0-5 \n",
    "- [x] Arid - low water use classification\n",
    "- [] Migrate data to RW cartoData account.\n",
    "maybe rework to obtain 2 tables one for the platform and the other one with the data \n",
    "    - "
   ]
  },
  {
   "cell_type": "code",
   "execution_count": 26,
   "metadata": {
    "ExecuteTime": {
     "end_time": "2017-06-05T10:54:33.473401Z",
     "start_time": "2017-06-05T10:54:33.441375Z"
    },
    "collapsed": true
   },
   "outputs": [],
   "source": [
    "%matplotlib inline\n",
    "import __future__\n",
    "from IPython.display import display, Markdown\n",
    "import matplotlib.pyplot as plt\n",
    "from matplotlib.pyplot import cm\n",
    "import pandas as pd\n",
    "import numpy\n",
    "import geopandas as gpd\n",
    "import rasterio\n",
    "import fiona\n",
    "from rasterio.mask import mask\n",
    "from rasterio.plot import show\n",
    "from rasterstats import zonal_stats\n",
    "from math import log, ceil\n",
    "import os"
   ]
  },
  {
   "cell_type": "markdown",
   "metadata": {},
   "source": [
    "## [Data status](https://docs.google.com/spreadsheets/d/1U7He0q8KBcOuZBNO_65XuUo_1TxCYVGYiuylESOoIPk/edit)"
   ]
  },
  {
   "cell_type": "markdown",
   "metadata": {},
   "source": [
    "<img  src=\"HL5Y510A14UMVLTW6EINVGT83ATDHN25.png\"/>"
   ]
  },
  {
   "cell_type": "markdown",
   "metadata": {},
   "source": [
    "## Data exploration:"
   ]
  },
  {
   "cell_type": "markdown",
   "metadata": {},
   "source": [
    "##### Arid & low water use:\n",
    "\n",
    "* Arid : Available Blue Water** : $$ A\\color{blue}BWater  <0.03 m/(m^2*year)$$  \n",
    "* Low water use:  $$waterWithdrawal(WW) < 0.012 m/(m^2*year) $$\n",
    "\n",
    "*A basin needs to satisfy both (AND) conditions to be masked as Arid AND low water use.*  \n",
    "\\*\\* **Available blue water calculation:** $$ A\\color{blue}BWater = upstreamRunoff – upstreamConsumption(WN) + localRunoff $$\n",
    " \n",
    "\n",
    "\n",
    "##### Datasets:\n",
    "\n",
    "* calculatedWS03.csv: Contains the next data attached to it\n",
    "    * baseline water stress monthly and yearly\n",
    "* hybas_merged_custom_level6_V01.shp: contains the geometries of HYDRO BASIN level 6.\n",
    "\n",
    "* rasters:\n",
    "    * global_droughtseveritystandardisedsoilmoisture_5min_1960-2014.tif\n",
    "    * global_droughtseveritystandardisedstreamflow_5min_1960-2014.tif\n",
    "    * global_interannualvariabilitywatersupply_5min_1960-2014.tif\n",
    "    * global_q1seasonalvariabilitywatersupply_5min_1960-2014.tif\n",
    "    * global_q2seasonalvariabilitywatersupply_5min_1960-2014.tif\n",
    "    * global_q3seasonalvariabilitywatersupply_5min_1960-2014.tif\n",
    "    * global_q4seasonalvariabilitywatersupply_5min_1960-2014.tif\n"
   ]
  },
  {
   "cell_type": "markdown",
   "metadata": {},
   "source": [
    "### Baseline water stress, Yearly and monthly"
   ]
  },
  {
   "cell_type": "code",
   "execution_count": 2,
   "metadata": {
    "collapsed": true,
    "scrolled": true
   },
   "outputs": [],
   "source": [
    "base_path=os.getcwd().split('/work')[0]\n",
    "data_path='/work/data/aqueduct/data_source/aqueduct/v3/toAlicia/calculatedWS03.csv'\n",
    "inData = pd.read_csv(base_path+data_path)"
   ]
  },
  {
   "cell_type": "code",
   "execution_count": 3,
   "metadata": {
    "scrolled": true
   },
   "outputs": [
    {
     "data": {
      "text/html": [
       "<div>\n",
       "<style>\n",
       "    .dataframe thead tr:only-child th {\n",
       "        text-align: right;\n",
       "    }\n",
       "\n",
       "    .dataframe thead th {\n",
       "        text-align: left;\n",
       "    }\n",
       "\n",
       "    .dataframe tbody tr th {\n",
       "        vertical-align: top;\n",
       "    }\n",
       "</style>\n",
       "<table border=\"1\" class=\"dataframe\">\n",
       "  <thead>\n",
       "    <tr style=\"text-align: right;\">\n",
       "      <th></th>\n",
       "      <th>PFAF_ID</th>\n",
       "      <th>Unnamed: 0</th>\n",
       "      <th>Unnamed: 0.1</th>\n",
       "      <th>HYBAS_ID</th>\n",
       "      <th>NEXT_DOWN</th>\n",
       "      <th>NEXT_SINK</th>\n",
       "      <th>MAIN_BAS</th>\n",
       "      <th>DIST_SINK</th>\n",
       "      <th>DIST_MAIN</th>\n",
       "      <th>SUB_AREA</th>\n",
       "      <th>...</th>\n",
       "      <th>upstream_sum_volumem3_TotWW_monthY2014M11</th>\n",
       "      <th>upstream_sum_volumem3_TotWN_monthY2014M11</th>\n",
       "      <th>local_sum_volumem3_Runoff_monthY2014M11</th>\n",
       "      <th>ws_monthY2014M11</th>\n",
       "      <th>local_sum_volumem3_TotWW_monthY2014M12</th>\n",
       "      <th>local_sum_volumem3_TotWN_monthY2014M12</th>\n",
       "      <th>upstream_sum_volumem3_TotWW_monthY2014M12</th>\n",
       "      <th>upstream_sum_volumem3_TotWN_monthY2014M12</th>\n",
       "      <th>local_sum_volumem3_Runoff_monthY2014M12</th>\n",
       "      <th>ws_monthY2014M12</th>\n",
       "    </tr>\n",
       "  </thead>\n",
       "  <tbody>\n",
       "    <tr>\n",
       "      <th>0</th>\n",
       "      <td>111011</td>\n",
       "      <td>0</td>\n",
       "      <td>0</td>\n",
       "      <td>1060000010</td>\n",
       "      <td>0</td>\n",
       "      <td>1.060000e+09</td>\n",
       "      <td>1.060000e+09</td>\n",
       "      <td>0.0</td>\n",
       "      <td>0.0</td>\n",
       "      <td>1890.8</td>\n",
       "      <td>...</td>\n",
       "      <td>0.0</td>\n",
       "      <td>0.0</td>\n",
       "      <td>69477.380838</td>\n",
       "      <td>73.173082</td>\n",
       "      <td>5.062878e+06</td>\n",
       "      <td>2.354598e+06</td>\n",
       "      <td>0.0</td>\n",
       "      <td>0.0</td>\n",
       "      <td>81085.620721</td>\n",
       "      <td>62.438667</td>\n",
       "    </tr>\n",
       "    <tr>\n",
       "      <th>1</th>\n",
       "      <td>111012</td>\n",
       "      <td>1</td>\n",
       "      <td>1</td>\n",
       "      <td>1060000100</td>\n",
       "      <td>0</td>\n",
       "      <td>1.060000e+09</td>\n",
       "      <td>1.060000e+09</td>\n",
       "      <td>0.0</td>\n",
       "      <td>0.0</td>\n",
       "      <td>2925.9</td>\n",
       "      <td>...</td>\n",
       "      <td>0.0</td>\n",
       "      <td>0.0</td>\n",
       "      <td>29361.957127</td>\n",
       "      <td>23.245953</td>\n",
       "      <td>6.820849e+05</td>\n",
       "      <td>2.812766e+05</td>\n",
       "      <td>0.0</td>\n",
       "      <td>0.0</td>\n",
       "      <td>35478.575166</td>\n",
       "      <td>19.225262</td>\n",
       "    </tr>\n",
       "  </tbody>\n",
       "</table>\n",
       "<p>2 rows × 623 columns</p>\n",
       "</div>"
      ],
      "text/plain": [
       "   PFAF_ID  Unnamed: 0  Unnamed: 0.1    HYBAS_ID  NEXT_DOWN     NEXT_SINK  \\\n",
       "0   111011           0             0  1060000010          0  1.060000e+09   \n",
       "1   111012           1             1  1060000100          0  1.060000e+09   \n",
       "\n",
       "       MAIN_BAS  DIST_SINK  DIST_MAIN  SUB_AREA        ...         \\\n",
       "0  1.060000e+09        0.0        0.0    1890.8        ...          \n",
       "1  1.060000e+09        0.0        0.0    2925.9        ...          \n",
       "\n",
       "   upstream_sum_volumem3_TotWW_monthY2014M11  \\\n",
       "0                                        0.0   \n",
       "1                                        0.0   \n",
       "\n",
       "   upstream_sum_volumem3_TotWN_monthY2014M11  \\\n",
       "0                                        0.0   \n",
       "1                                        0.0   \n",
       "\n",
       "   local_sum_volumem3_Runoff_monthY2014M11  ws_monthY2014M11  \\\n",
       "0                             69477.380838         73.173082   \n",
       "1                             29361.957127         23.245953   \n",
       "\n",
       "   local_sum_volumem3_TotWW_monthY2014M12  \\\n",
       "0                            5.062878e+06   \n",
       "1                            6.820849e+05   \n",
       "\n",
       "  local_sum_volumem3_TotWN_monthY2014M12  \\\n",
       "0                           2.354598e+06   \n",
       "1                           2.812766e+05   \n",
       "\n",
       "  upstream_sum_volumem3_TotWW_monthY2014M12  \\\n",
       "0                                       0.0   \n",
       "1                                       0.0   \n",
       "\n",
       "   upstream_sum_volumem3_TotWN_monthY2014M12  \\\n",
       "0                                        0.0   \n",
       "1                                        0.0   \n",
       "\n",
       "   local_sum_volumem3_Runoff_monthY2014M12  ws_monthY2014M12  \n",
       "0                             81085.620721         62.438667  \n",
       "1                             35478.575166         19.225262  \n",
       "\n",
       "[2 rows x 623 columns]"
      ]
     },
     "execution_count": 3,
     "metadata": {},
     "output_type": "execute_result"
    }
   ],
   "source": [
    "inData.head(2)"
   ]
  },
  {
   "cell_type": "code",
   "execution_count": 4,
   "metadata": {},
   "outputs": [
    {
     "data": {
      "text/plain": [
       "(16397, 623)"
      ]
     },
     "execution_count": 4,
     "metadata": {},
     "output_type": "execute_result"
    }
   ],
   "source": [
    "inData.shape"
   ]
  },
  {
   "cell_type": "code",
   "execution_count": 5,
   "metadata": {
    "scrolled": true
   },
   "outputs": [
    {
     "name": "stdout",
     "output_type": "stream",
     "text": [
      "['PFAF_ID' 'Unnamed: 0' 'Unnamed: 0.1' 'HYBAS_ID' 'NEXT_DOWN' 'NEXT_SINK'\n",
      " 'MAIN_BAS' 'DIST_SINK' 'DIST_MAIN' 'SUB_AREA' 'UP_AREA' 'ENDO' 'COAST'\n",
      " 'ORDER_' 'SORT' 'Upstream_HYBAS_IDs' 'Upstream_PFAF_IDs' 'PfafIDarea30sm2'\n",
      " 'countarea30sm2' 'meanarea30sm2' 'PfafIDDomWN_monthY2014M01'\n",
      " 'countDomWN_monthY2014M01' 'meanDomWN_monthY2014M01'\n",
      " 'PfafIDDomWN_monthY2014M02' 'countDomWN_monthY2014M02'\n",
      " 'meanDomWN_monthY2014M02' 'PfafIDDomWN_monthY2014M03'\n",
      " 'countDomWN_monthY2014M03' 'meanDomWN_monthY2014M03'\n",
      " 'PfafIDDomWN_monthY2014M04' 'countDomWN_monthY2014M04'\n",
      " 'meanDomWN_monthY2014M04' 'PfafIDDomWN_monthY2014M05'\n",
      " 'countDomWN_monthY2014M05' 'meanDomWN_monthY2014M05'\n",
      " 'PfafIDDomWN_monthY2014M06' 'countDomWN_monthY2014M06'\n",
      " 'meanDomWN_monthY2014M06' 'PfafIDDomWN_monthY2014M07'\n",
      " 'countDomWN_monthY2014M07' 'meanDomWN_monthY2014M07'\n",
      " 'PfafIDDomWN_monthY2014M08' 'countDomWN_monthY2014M08'\n",
      " 'meanDomWN_monthY2014M08' 'PfafIDDomWN_monthY2014M09'\n",
      " 'countDomWN_monthY2014M09' 'meanDomWN_monthY2014M09'\n",
      " 'PfafIDDomWN_monthY2014M10' 'countDomWN_monthY2014M10'\n",
      " 'meanDomWN_monthY2014M10' 'PfafIDDomWN_monthY2014M11'\n",
      " 'countDomWN_monthY2014M11' 'meanDomWN_monthY2014M11'\n",
      " 'PfafIDDomWN_monthY2014M12' 'countDomWN_monthY2014M12'\n",
      " 'meanDomWN_monthY2014M12' 'PfafIDDomWN_yearY2014M12'\n",
      " 'countDomWN_yearY2014M12' 'meanDomWN_yearY2014M12'\n",
      " 'PfafIDDomWW_monthY2014M01' 'countDomWW_monthY2014M01'\n",
      " 'meanDomWW_monthY2014M01' 'PfafIDDomWW_monthY2014M02'\n",
      " 'countDomWW_monthY2014M02' 'meanDomWW_monthY2014M02'\n",
      " 'PfafIDDomWW_monthY2014M03' 'countDomWW_monthY2014M03'\n",
      " 'meanDomWW_monthY2014M03' 'PfafIDDomWW_monthY2014M04'\n",
      " 'countDomWW_monthY2014M04' 'meanDomWW_monthY2014M04'\n",
      " 'PfafIDDomWW_monthY2014M05' 'countDomWW_monthY2014M05'\n",
      " 'meanDomWW_monthY2014M05' 'PfafIDDomWW_monthY2014M06'\n",
      " 'countDomWW_monthY2014M06' 'meanDomWW_monthY2014M06'\n",
      " 'PfafIDDomWW_monthY2014M07' 'countDomWW_monthY2014M07'\n",
      " 'meanDomWW_monthY2014M07' 'PfafIDDomWW_monthY2014M08'\n",
      " 'countDomWW_monthY2014M08' 'meanDomWW_monthY2014M08'\n",
      " 'PfafIDDomWW_monthY2014M09' 'countDomWW_monthY2014M09'\n",
      " 'meanDomWW_monthY2014M09' 'PfafIDDomWW_monthY2014M10'\n",
      " 'countDomWW_monthY2014M10' 'meanDomWW_monthY2014M10'\n",
      " 'PfafIDDomWW_monthY2014M11' 'countDomWW_monthY2014M11'\n",
      " 'meanDomWW_monthY2014M11' 'PfafIDDomWW_monthY2014M12'\n",
      " 'countDomWW_monthY2014M12' 'meanDomWW_monthY2014M12'\n",
      " 'PfafIDDomWW_yearY2014M12' 'countDomWW_yearY2014M12'\n",
      " 'meanDomWW_yearY2014M12' 'PfafIDIndWN_monthY2014M01'\n",
      " 'countIndWN_monthY2014M01' 'meanIndWN_monthY2014M01'\n",
      " 'PfafIDIndWN_monthY2014M02' 'countIndWN_monthY2014M02'\n",
      " 'meanIndWN_monthY2014M02' 'PfafIDIndWN_monthY2014M03'\n",
      " 'countIndWN_monthY2014M03' 'meanIndWN_monthY2014M03'\n",
      " 'PfafIDIndWN_monthY2014M04' 'countIndWN_monthY2014M04'\n",
      " 'meanIndWN_monthY2014M04' 'PfafIDIndWN_monthY2014M05'\n",
      " 'countIndWN_monthY2014M05' 'meanIndWN_monthY2014M05'\n",
      " 'PfafIDIndWN_monthY2014M06' 'countIndWN_monthY2014M06'\n",
      " 'meanIndWN_monthY2014M06' 'PfafIDIndWN_monthY2014M07'\n",
      " 'countIndWN_monthY2014M07' 'meanIndWN_monthY2014M07'\n",
      " 'PfafIDIndWN_monthY2014M08' 'countIndWN_monthY2014M08'\n",
      " 'meanIndWN_monthY2014M08' 'PfafIDIndWN_monthY2014M09'\n",
      " 'countIndWN_monthY2014M09' 'meanIndWN_monthY2014M09'\n",
      " 'PfafIDIndWN_monthY2014M10' 'countIndWN_monthY2014M10'\n",
      " 'meanIndWN_monthY2014M10' 'PfafIDIndWN_monthY2014M11'\n",
      " 'countIndWN_monthY2014M11' 'meanIndWN_monthY2014M11'\n",
      " 'PfafIDIndWN_monthY2014M12' 'countIndWN_monthY2014M12'\n",
      " 'meanIndWN_monthY2014M12' 'PfafIDIndWN_yearY2014M12'\n",
      " 'countIndWN_yearY2014M12' 'meanIndWN_yearY2014M12'\n",
      " 'PfafIDIndWW_monthY2014M01' 'countIndWW_monthY2014M01'\n",
      " 'meanIndWW_monthY2014M01' 'PfafIDIndWW_monthY2014M02'\n",
      " 'countIndWW_monthY2014M02' 'meanIndWW_monthY2014M02'\n",
      " 'PfafIDIndWW_monthY2014M03' 'countIndWW_monthY2014M03'\n",
      " 'meanIndWW_monthY2014M03' 'PfafIDIndWW_monthY2014M04'\n",
      " 'countIndWW_monthY2014M04' 'meanIndWW_monthY2014M04'\n",
      " 'PfafIDIndWW_monthY2014M05' 'countIndWW_monthY2014M05'\n",
      " 'meanIndWW_monthY2014M05' 'PfafIDIndWW_monthY2014M06'\n",
      " 'countIndWW_monthY2014M06' 'meanIndWW_monthY2014M06'\n",
      " 'PfafIDIndWW_monthY2014M07' 'countIndWW_monthY2014M07'\n",
      " 'meanIndWW_monthY2014M07' 'PfafIDIndWW_monthY2014M08'\n",
      " 'countIndWW_monthY2014M08' 'meanIndWW_monthY2014M08'\n",
      " 'PfafIDIndWW_monthY2014M09' 'countIndWW_monthY2014M09'\n",
      " 'meanIndWW_monthY2014M09' 'PfafIDIndWW_monthY2014M10'\n",
      " 'countIndWW_monthY2014M10' 'meanIndWW_monthY2014M10'\n",
      " 'PfafIDIndWW_monthY2014M11' 'countIndWW_monthY2014M11'\n",
      " 'meanIndWW_monthY2014M11' 'PfafIDIndWW_monthY2014M12'\n",
      " 'countIndWW_monthY2014M12' 'meanIndWW_monthY2014M12'\n",
      " 'PfafIDIndWW_yearY2014M12' 'countIndWW_yearY2014M12'\n",
      " 'meanIndWW_yearY2014M12' 'PfafIDIrrWN_monthY2014M01'\n",
      " 'countIrrWN_monthY2014M01' 'meanIrrWN_monthY2014M01'\n",
      " 'PfafIDIrrWN_monthY2014M02' 'countIrrWN_monthY2014M02'\n",
      " 'meanIrrWN_monthY2014M02' 'PfafIDIrrWN_monthY2014M03'\n",
      " 'countIrrWN_monthY2014M03' 'meanIrrWN_monthY2014M03'\n",
      " 'PfafIDIrrWN_monthY2014M04' 'countIrrWN_monthY2014M04'\n",
      " 'meanIrrWN_monthY2014M04' 'PfafIDIrrWN_monthY2014M05'\n",
      " 'countIrrWN_monthY2014M05' 'meanIrrWN_monthY2014M05'\n",
      " 'PfafIDIrrWN_monthY2014M06' 'countIrrWN_monthY2014M06'\n",
      " 'meanIrrWN_monthY2014M06' 'PfafIDIrrWN_monthY2014M07'\n",
      " 'countIrrWN_monthY2014M07' 'meanIrrWN_monthY2014M07'\n",
      " 'PfafIDIrrWN_monthY2014M08' 'countIrrWN_monthY2014M08'\n",
      " 'meanIrrWN_monthY2014M08' 'PfafIDIrrWN_monthY2014M09'\n",
      " 'countIrrWN_monthY2014M09' 'meanIrrWN_monthY2014M09'\n",
      " 'PfafIDIrrWN_monthY2014M10' 'countIrrWN_monthY2014M10'\n",
      " 'meanIrrWN_monthY2014M10' 'PfafIDIrrWN_monthY2014M11'\n",
      " 'countIrrWN_monthY2014M11' 'meanIrrWN_monthY2014M11'\n",
      " 'PfafIDIrrWN_monthY2014M12' 'countIrrWN_monthY2014M12'\n",
      " 'meanIrrWN_monthY2014M12' 'PfafIDIrrWN_yearY2014M12'\n",
      " 'countIrrWN_yearY2014M12' 'meanIrrWN_yearY2014M12'\n",
      " 'PfafIDIrrWW_monthY2014M01' 'countIrrWW_monthY2014M01'\n",
      " 'meanIrrWW_monthY2014M01' 'PfafIDIrrWW_monthY2014M02'\n",
      " 'countIrrWW_monthY2014M02' 'meanIrrWW_monthY2014M02'\n",
      " 'PfafIDIrrWW_monthY2014M03' 'countIrrWW_monthY2014M03'\n",
      " 'meanIrrWW_monthY2014M03' 'PfafIDIrrWW_monthY2014M04'\n",
      " 'countIrrWW_monthY2014M04' 'meanIrrWW_monthY2014M04'\n",
      " 'PfafIDIrrWW_monthY2014M05' 'countIrrWW_monthY2014M05'\n",
      " 'meanIrrWW_monthY2014M05' 'PfafIDIrrWW_monthY2014M06'\n",
      " 'countIrrWW_monthY2014M06' 'meanIrrWW_monthY2014M06'\n",
      " 'PfafIDIrrWW_monthY2014M07' 'countIrrWW_monthY2014M07'\n",
      " 'meanIrrWW_monthY2014M07' 'PfafIDIrrWW_monthY2014M08'\n",
      " 'countIrrWW_monthY2014M08' 'meanIrrWW_monthY2014M08'\n",
      " 'PfafIDIrrWW_monthY2014M09' 'countIrrWW_monthY2014M09'\n",
      " 'meanIrrWW_monthY2014M09' 'PfafIDIrrWW_monthY2014M10'\n",
      " 'countIrrWW_monthY2014M10' 'meanIrrWW_monthY2014M10'\n",
      " 'PfafIDIrrWW_monthY2014M11' 'countIrrWW_monthY2014M11'\n",
      " 'meanIrrWW_monthY2014M11' 'PfafIDIrrWW_monthY2014M12'\n",
      " 'countIrrWW_monthY2014M12' 'meanIrrWW_monthY2014M12'\n",
      " 'PfafIDIrrWW_yearY2014M12' 'countIrrWW_yearY2014M12'\n",
      " 'meanIrrWW_yearY2014M12' 'PfafIDLivWN_monthY2014M01'\n",
      " 'countLivWN_monthY2014M01' 'meanLivWN_monthY2014M01'\n",
      " 'PfafIDLivWN_monthY2014M02' 'countLivWN_monthY2014M02'\n",
      " 'meanLivWN_monthY2014M02' 'PfafIDLivWN_monthY2014M03'\n",
      " 'countLivWN_monthY2014M03' 'meanLivWN_monthY2014M03'\n",
      " 'PfafIDLivWN_monthY2014M04' 'countLivWN_monthY2014M04'\n",
      " 'meanLivWN_monthY2014M04' 'PfafIDLivWN_monthY2014M05'\n",
      " 'countLivWN_monthY2014M05' 'meanLivWN_monthY2014M05'\n",
      " 'PfafIDLivWN_monthY2014M06' 'countLivWN_monthY2014M06'\n",
      " 'meanLivWN_monthY2014M06' 'PfafIDLivWN_monthY2014M07'\n",
      " 'countLivWN_monthY2014M07' 'meanLivWN_monthY2014M07'\n",
      " 'PfafIDLivWN_monthY2014M08' 'countLivWN_monthY2014M08'\n",
      " 'meanLivWN_monthY2014M08' 'PfafIDLivWN_monthY2014M09'\n",
      " 'countLivWN_monthY2014M09' 'meanLivWN_monthY2014M09'\n",
      " 'PfafIDLivWN_monthY2014M10' 'countLivWN_monthY2014M10'\n",
      " 'meanLivWN_monthY2014M10' 'PfafIDLivWN_monthY2014M11'\n",
      " 'countLivWN_monthY2014M11' 'meanLivWN_monthY2014M11'\n",
      " 'PfafIDLivWN_monthY2014M12' 'countLivWN_monthY2014M12'\n",
      " 'meanLivWN_monthY2014M12' 'PfafIDLivWN_yearY2014M12'\n",
      " 'countLivWN_yearY2014M12' 'meanLivWN_yearY2014M12' 'PfafIDrunoff_annua'\n",
      " 'countrunoff_annua' 'meanrunoff_annua' 'PfafIDrunoff_month_M01'\n",
      " 'countrunoff_month_M01' 'meanrunoff_month_M01' 'PfafIDrunoff_month_M02'\n",
      " 'countrunoff_month_M02' 'meanrunoff_month_M02' 'PfafIDrunoff_month_M03'\n",
      " 'countrunoff_month_M03' 'meanrunoff_month_M03' 'PfafIDrunoff_month_M04'\n",
      " 'countrunoff_month_M04' 'meanrunoff_month_M04' 'PfafIDrunoff_month_M05'\n",
      " 'countrunoff_month_M05' 'meanrunoff_month_M05' 'PfafIDrunoff_month_M06'\n",
      " 'countrunoff_month_M06' 'meanrunoff_month_M06' 'PfafIDrunoff_month_M07'\n",
      " 'countrunoff_month_M07' 'meanrunoff_month_M07' 'PfafIDrunoff_month_M08'\n",
      " 'countrunoff_month_M08' 'meanrunoff_month_M08' 'PfafIDrunoff_month_M09'\n",
      " 'countrunoff_month_M09' 'meanrunoff_month_M09' 'PfafIDrunoff_month_M10'\n",
      " 'countrunoff_month_M10' 'meanrunoff_month_M10' 'PfafIDrunoff_month_M11'\n",
      " 'countrunoff_month_M11' 'meanrunoff_month_M11' 'PfafIDrunoff_month_M12'\n",
      " 'countrunoff_month_M12' 'meanrunoff_month_M12' 'upstream_sum_aream2'\n",
      " 'upstream_sum_countIrrWN_monthY2014M09'\n",
      " 'upstream_sum_volumem3IrrWN_monthY2014M09'\n",
      " 'upstream_sum_countrunoff_month_M11'\n",
      " 'upstream_sum_volumem3runoff_month_M11'\n",
      " 'upstream_sum_countrunoff_month_M10'\n",
      " 'upstream_sum_volumem3runoff_month_M10'\n",
      " 'upstream_sum_countIrrWN_monthY2014M01'\n",
      " 'upstream_sum_volumem3IrrWN_monthY2014M01'\n",
      " 'upstream_sum_countDomWN_monthY2014M01'\n",
      " 'upstream_sum_volumem3DomWN_monthY2014M01'\n",
      " 'upstream_sum_countDomWN_monthY2014M07'\n",
      " 'upstream_sum_volumem3DomWN_monthY2014M07'\n",
      " 'upstream_sum_countIrrWW_monthY2014M11'\n",
      " 'upstream_sum_volumem3IrrWW_monthY2014M11'\n",
      " 'upstream_sum_countDomWW_monthY2014M02'\n",
      " 'upstream_sum_volumem3DomWW_monthY2014M02'\n",
      " 'upstream_sum_countDomWW_monthY2014M12'\n",
      " 'upstream_sum_volumem3DomWW_monthY2014M12' 'upstream_sum_countarea30sm2'\n",
      " 'upstream_sum_volumem3area30sm2' 'upstream_sum_countDomWN_monthY2014M11'\n",
      " 'upstream_sum_volumem3DomWN_monthY2014M11'\n",
      " 'upstream_sum_countLivWN_monthY2014M08'\n",
      " 'upstream_sum_volumem3LivWN_monthY2014M08'\n",
      " 'upstream_sum_countIrrWW_monthY2014M08'\n",
      " 'upstream_sum_volumem3IrrWW_monthY2014M08'\n",
      " 'upstream_sum_countIndWN_monthY2014M03'\n",
      " 'upstream_sum_volumem3IndWN_monthY2014M03'\n",
      " 'upstream_sum_countIrrWW_monthY2014M02'\n",
      " 'upstream_sum_volumem3IrrWW_monthY2014M02'\n",
      " 'upstream_sum_countrunoff_month_M05'\n",
      " 'upstream_sum_volumem3runoff_month_M05'\n",
      " 'upstream_sum_countDomWN_yearY2014M12'\n",
      " 'upstream_sum_volumem3DomWN_yearY2014M12'\n",
      " 'upstream_sum_countDomWN_monthY2014M05'\n",
      " 'upstream_sum_volumem3DomWN_monthY2014M05'\n",
      " 'upstream_sum_countIrrWN_monthY2014M03'\n",
      " 'upstream_sum_volumem3IrrWN_monthY2014M03'\n",
      " 'upstream_sum_countIndWN_monthY2014M07'\n",
      " 'upstream_sum_volumem3IndWN_monthY2014M07'\n",
      " 'upstream_sum_countIrrWW_monthY2014M12'\n",
      " 'upstream_sum_volumem3IrrWW_monthY2014M12'\n",
      " 'upstream_sum_countIrrWW_monthY2014M05'\n",
      " 'upstream_sum_volumem3IrrWW_monthY2014M05'\n",
      " 'upstream_sum_countLivWN_monthY2014M03'\n",
      " 'upstream_sum_volumem3LivWN_monthY2014M03'\n",
      " 'upstream_sum_countIndWN_monthY2014M08'\n",
      " 'upstream_sum_volumem3IndWN_monthY2014M08'\n",
      " 'upstream_sum_countIndWN_monthY2014M02'\n",
      " 'upstream_sum_volumem3IndWN_monthY2014M02'\n",
      " 'upstream_sum_countrunoff_annua' 'upstream_sum_volumem3runoff_annua'\n",
      " 'upstream_sum_countIrrWN_monthY2014M12'\n",
      " 'upstream_sum_volumem3IrrWN_monthY2014M12'\n",
      " 'upstream_sum_countIrrWN_yearY2014M12'\n",
      " 'upstream_sum_volumem3IrrWN_yearY2014M12'\n",
      " 'upstream_sum_countLivWN_monthY2014M09'\n",
      " 'upstream_sum_volumem3LivWN_monthY2014M09'\n",
      " 'upstream_sum_countIndWW_monthY2014M12'\n",
      " 'upstream_sum_volumem3IndWW_monthY2014M12'\n",
      " 'upstream_sum_countIrrWW_monthY2014M01'\n",
      " 'upstream_sum_volumem3IrrWW_monthY2014M01'\n",
      " 'upstream_sum_countrunoff_month_M02'\n",
      " 'upstream_sum_volumem3runoff_month_M02'\n",
      " 'upstream_sum_countIrrWW_monthY2014M06'\n",
      " 'upstream_sum_volumem3IrrWW_monthY2014M06'\n",
      " 'upstream_sum_countDomWN_monthY2014M12'\n",
      " 'upstream_sum_volumem3DomWN_monthY2014M12'\n",
      " 'upstream_sum_countDomWW_monthY2014M09'\n",
      " 'upstream_sum_volumem3DomWW_monthY2014M09'\n",
      " 'upstream_sum_countDomWW_monthY2014M04'\n",
      " 'upstream_sum_volumem3DomWW_monthY2014M04'\n",
      " 'upstream_sum_countrunoff_month_M06'\n",
      " 'upstream_sum_volumem3runoff_month_M06'\n",
      " 'upstream_sum_countIndWW_monthY2014M09'\n",
      " 'upstream_sum_volumem3IndWW_monthY2014M09'\n",
      " 'upstream_sum_countrunoff_month_M08'\n",
      " 'upstream_sum_volumem3runoff_month_M08'\n",
      " 'upstream_sum_countIrrWN_monthY2014M02'\n",
      " 'upstream_sum_volumem3IrrWN_monthY2014M02'\n",
      " 'upstream_sum_countIndWN_monthY2014M10'\n",
      " 'upstream_sum_volumem3IndWN_monthY2014M10'\n",
      " 'upstream_sum_countIrrWW_monthY2014M03'\n",
      " 'upstream_sum_volumem3IrrWW_monthY2014M03'\n",
      " 'upstream_sum_countLivWN_monthY2014M06'\n",
      " 'upstream_sum_volumem3LivWN_monthY2014M06'\n",
      " 'upstream_sum_countrunoff_month_M07'\n",
      " 'upstream_sum_volumem3runoff_month_M07'\n",
      " 'upstream_sum_countIndWW_monthY2014M08'\n",
      " 'upstream_sum_volumem3IndWW_monthY2014M08'\n",
      " 'upstream_sum_countDomWW_monthY2014M11'\n",
      " 'upstream_sum_volumem3DomWW_monthY2014M11'\n",
      " 'upstream_sum_countIndWW_monthY2014M11'\n",
      " 'upstream_sum_volumem3IndWW_monthY2014M11'\n",
      " 'upstream_sum_countLivWN_monthY2014M01'\n",
      " 'upstream_sum_volumem3LivWN_monthY2014M01'\n",
      " 'upstream_sum_countIrrWN_monthY2014M07'\n",
      " 'upstream_sum_volumem3IrrWN_monthY2014M07'\n",
      " 'upstream_sum_countIndWW_monthY2014M01'\n",
      " 'upstream_sum_volumem3IndWW_monthY2014M01'\n",
      " 'upstream_sum_countIrrWW_yearY2014M12'\n",
      " 'upstream_sum_volumem3IrrWW_yearY2014M12'\n",
      " 'upstream_sum_countIrrWN_monthY2014M10'\n",
      " 'upstream_sum_volumem3IrrWN_monthY2014M10'\n",
      " 'upstream_sum_countDomWW_monthY2014M05'\n",
      " 'upstream_sum_volumem3DomWW_monthY2014M05'\n",
      " 'upstream_sum_countIndWN_monthY2014M09'\n",
      " 'upstream_sum_volumem3IndWN_monthY2014M09'\n",
      " 'upstream_sum_countLivWN_monthY2014M12'\n",
      " 'upstream_sum_volumem3LivWN_monthY2014M12'\n",
      " 'upstream_sum_countIndWN_yearY2014M12'\n",
      " 'upstream_sum_volumem3IndWN_yearY2014M12'\n",
      " 'upstream_sum_countrunoff_month_M09'\n",
      " 'upstream_sum_volumem3runoff_month_M09'\n",
      " 'upstream_sum_countDomWN_monthY2014M02'\n",
      " 'upstream_sum_volumem3DomWN_monthY2014M02'\n",
      " 'upstream_sum_countDomWN_monthY2014M06'\n",
      " 'upstream_sum_volumem3DomWN_monthY2014M06'\n",
      " 'upstream_sum_countIndWW_monthY2014M02'\n",
      " 'upstream_sum_volumem3IndWW_monthY2014M02'\n",
      " 'upstream_sum_countIndWW_monthY2014M07'\n",
      " 'upstream_sum_volumem3IndWW_monthY2014M07'\n",
      " 'upstream_sum_countIrrWN_monthY2014M08'\n",
      " 'upstream_sum_volumem3IrrWN_monthY2014M08'\n",
      " 'upstream_sum_countIrrWN_monthY2014M11'\n",
      " 'upstream_sum_volumem3IrrWN_monthY2014M11'\n",
      " 'upstream_sum_countDomWW_monthY2014M06'\n",
      " 'upstream_sum_volumem3DomWW_monthY2014M06'\n",
      " 'upstream_sum_countDomWW_monthY2014M08'\n",
      " 'upstream_sum_volumem3DomWW_monthY2014M08'\n",
      " 'upstream_sum_countrunoff_month_M01'\n",
      " 'upstream_sum_volumem3runoff_month_M01'\n",
      " 'upstream_sum_countLivWN_monthY2014M10'\n",
      " 'upstream_sum_volumem3LivWN_monthY2014M10'\n",
      " 'upstream_sum_countIrrWN_monthY2014M04'\n",
      " 'upstream_sum_volumem3IrrWN_monthY2014M04'\n",
      " 'upstream_sum_countDomWN_monthY2014M10'\n",
      " 'upstream_sum_volumem3DomWN_monthY2014M10'\n",
      " 'upstream_sum_countDomWN_monthY2014M03'\n",
      " 'upstream_sum_volumem3DomWN_monthY2014M03'\n",
      " 'upstream_sum_countIndWN_monthY2014M05'\n",
      " 'upstream_sum_volumem3IndWN_monthY2014M05'\n",
      " 'upstream_sum_countIndWW_monthY2014M03'\n",
      " 'upstream_sum_volumem3IndWW_monthY2014M03'\n",
      " 'upstream_sum_countIrrWW_monthY2014M04'\n",
      " 'upstream_sum_volumem3IrrWW_monthY2014M04'\n",
      " 'upstream_sum_countIrrWN_monthY2014M05'\n",
      " 'upstream_sum_volumem3IrrWN_monthY2014M05'\n",
      " 'upstream_sum_countLivWN_monthY2014M02'\n",
      " 'upstream_sum_volumem3LivWN_monthY2014M02'\n",
      " 'upstream_sum_countLivWN_monthY2014M11'\n",
      " 'upstream_sum_volumem3LivWN_monthY2014M11'\n",
      " 'upstream_sum_countIndWN_monthY2014M06'\n",
      " 'upstream_sum_volumem3IndWN_monthY2014M06'\n",
      " 'upstream_sum_countLivWN_monthY2014M04'\n",
      " 'upstream_sum_volumem3LivWN_monthY2014M04'\n",
      " 'upstream_sum_countIrrWN_monthY2014M06'\n",
      " 'upstream_sum_volumem3IrrWN_monthY2014M06'\n",
      " 'upstream_sum_countrunoff_month_M12'\n",
      " 'upstream_sum_volumem3runoff_month_M12'\n",
      " 'upstream_sum_countIndWN_monthY2014M12'\n",
      " 'upstream_sum_volumem3IndWN_monthY2014M12'\n",
      " 'upstream_sum_countIndWN_monthY2014M04'\n",
      " 'upstream_sum_volumem3IndWN_monthY2014M04'\n",
      " 'upstream_sum_countIndWN_monthY2014M11'\n",
      " 'upstream_sum_volumem3IndWN_monthY2014M11'\n",
      " 'upstream_sum_countDomWW_monthY2014M01'\n",
      " 'upstream_sum_volumem3DomWW_monthY2014M01'\n",
      " 'upstream_sum_countIndWW_yearY2014M12'\n",
      " 'upstream_sum_volumem3IndWW_yearY2014M12'\n",
      " 'upstream_sum_countIndWW_monthY2014M06'\n",
      " 'upstream_sum_volumem3IndWW_monthY2014M06'\n",
      " 'upstream_sum_countIrrWW_monthY2014M10'\n",
      " 'upstream_sum_volumem3IrrWW_monthY2014M10'\n",
      " 'upstream_sum_countrunoff_month_M03'\n",
      " 'upstream_sum_volumem3runoff_month_M03'\n",
      " 'upstream_sum_countDomWW_yearY2014M12'\n",
      " 'upstream_sum_volumem3DomWW_yearY2014M12'\n",
      " 'upstream_sum_countDomWW_monthY2014M10'\n",
      " 'upstream_sum_volumem3DomWW_monthY2014M10'\n",
      " 'upstream_sum_countIndWN_monthY2014M01'\n",
      " 'upstream_sum_volumem3IndWN_monthY2014M01'\n",
      " 'upstream_sum_countLivWN_monthY2014M05'\n",
      " 'upstream_sum_volumem3LivWN_monthY2014M05'\n",
      " 'upstream_sum_countDomWW_monthY2014M03'\n",
      " 'upstream_sum_volumem3DomWW_monthY2014M03'\n",
      " 'upstream_sum_countIndWW_monthY2014M05'\n",
      " 'upstream_sum_volumem3IndWW_monthY2014M05'\n",
      " 'upstream_sum_countDomWN_monthY2014M04'\n",
      " 'upstream_sum_volumem3DomWN_monthY2014M04'\n",
      " 'upstream_sum_countLivWN_monthY2014M07'\n",
      " 'upstream_sum_volumem3LivWN_monthY2014M07'\n",
      " 'upstream_sum_countDomWN_monthY2014M09'\n",
      " 'upstream_sum_volumem3DomWN_monthY2014M09'\n",
      " 'upstream_sum_countDomWW_monthY2014M07'\n",
      " 'upstream_sum_volumem3DomWW_monthY2014M07'\n",
      " 'upstream_sum_countIndWW_monthY2014M04'\n",
      " 'upstream_sum_volumem3IndWW_monthY2014M04'\n",
      " 'upstream_sum_countDomWN_monthY2014M08'\n",
      " 'upstream_sum_volumem3DomWN_monthY2014M08'\n",
      " 'upstream_sum_countrunoff_month_M04'\n",
      " 'upstream_sum_volumem3runoff_month_M04'\n",
      " 'upstream_sum_countIndWW_monthY2014M10'\n",
      " 'upstream_sum_volumem3IndWW_monthY2014M10'\n",
      " 'upstream_sum_countIrrWW_monthY2014M09'\n",
      " 'upstream_sum_volumem3IrrWW_monthY2014M09'\n",
      " 'upstream_sum_countIrrWW_monthY2014M07'\n",
      " 'upstream_sum_volumem3IrrWW_monthY2014M07'\n",
      " 'upstream_sum_countLivWN_yearY2014M12'\n",
      " 'upstream_sum_volumem3LivWN_yearY2014M12' 'errorCode' 'local_sum_aream2'\n",
      " 'local_sum_volumem3_TotWW_yearY2014' 'local_sum_volumem3_TotWN_yearY2014'\n",
      " 'upstream_sum_volumem3_TotWW_yearY2014'\n",
      " 'upstream_sum_volumem3_TotWN_yearY2014'\n",
      " 'local_sum_volumem3_Runoff_yearY2014' 'ws_yearY2014'\n",
      " 'local_sum_volumem3_TotWW_monthY2014M01'\n",
      " 'local_sum_volumem3_TotWN_monthY2014M01'\n",
      " 'upstream_sum_volumem3_TotWW_monthY2014M01'\n",
      " 'upstream_sum_volumem3_TotWN_monthY2014M01'\n",
      " 'local_sum_volumem3_Runoff_monthY2014M01' 'ws_monthY2014M01'\n",
      " 'local_sum_volumem3_TotWW_monthY2014M02'\n",
      " 'local_sum_volumem3_TotWN_monthY2014M02'\n",
      " 'upstream_sum_volumem3_TotWW_monthY2014M02'\n",
      " 'upstream_sum_volumem3_TotWN_monthY2014M02'\n",
      " 'local_sum_volumem3_Runoff_monthY2014M02' 'ws_monthY2014M02'\n",
      " 'local_sum_volumem3_TotWW_monthY2014M03'\n",
      " 'local_sum_volumem3_TotWN_monthY2014M03'\n",
      " 'upstream_sum_volumem3_TotWW_monthY2014M03'\n",
      " 'upstream_sum_volumem3_TotWN_monthY2014M03'\n",
      " 'local_sum_volumem3_Runoff_monthY2014M03' 'ws_monthY2014M03'\n",
      " 'local_sum_volumem3_TotWW_monthY2014M04'\n",
      " 'local_sum_volumem3_TotWN_monthY2014M04'\n",
      " 'upstream_sum_volumem3_TotWW_monthY2014M04'\n",
      " 'upstream_sum_volumem3_TotWN_monthY2014M04'\n",
      " 'local_sum_volumem3_Runoff_monthY2014M04' 'ws_monthY2014M04'\n",
      " 'local_sum_volumem3_TotWW_monthY2014M05'\n",
      " 'local_sum_volumem3_TotWN_monthY2014M05'\n",
      " 'upstream_sum_volumem3_TotWW_monthY2014M05'\n",
      " 'upstream_sum_volumem3_TotWN_monthY2014M05'\n",
      " 'local_sum_volumem3_Runoff_monthY2014M05' 'ws_monthY2014M05'\n",
      " 'local_sum_volumem3_TotWW_monthY2014M06'\n",
      " 'local_sum_volumem3_TotWN_monthY2014M06'\n",
      " 'upstream_sum_volumem3_TotWW_monthY2014M06'\n",
      " 'upstream_sum_volumem3_TotWN_monthY2014M06'\n",
      " 'local_sum_volumem3_Runoff_monthY2014M06' 'ws_monthY2014M06'\n",
      " 'local_sum_volumem3_TotWW_monthY2014M07'\n",
      " 'local_sum_volumem3_TotWN_monthY2014M07'\n",
      " 'upstream_sum_volumem3_TotWW_monthY2014M07'\n",
      " 'upstream_sum_volumem3_TotWN_monthY2014M07'\n",
      " 'local_sum_volumem3_Runoff_monthY2014M07' 'ws_monthY2014M07'\n",
      " 'local_sum_volumem3_TotWW_monthY2014M08'\n",
      " 'local_sum_volumem3_TotWN_monthY2014M08'\n",
      " 'upstream_sum_volumem3_TotWW_monthY2014M08'\n",
      " 'upstream_sum_volumem3_TotWN_monthY2014M08'\n",
      " 'local_sum_volumem3_Runoff_monthY2014M08' 'ws_monthY2014M08'\n",
      " 'local_sum_volumem3_TotWW_monthY2014M09'\n",
      " 'local_sum_volumem3_TotWN_monthY2014M09'\n",
      " 'upstream_sum_volumem3_TotWW_monthY2014M09'\n",
      " 'upstream_sum_volumem3_TotWN_monthY2014M09'\n",
      " 'local_sum_volumem3_Runoff_monthY2014M09' 'ws_monthY2014M09'\n",
      " 'local_sum_volumem3_TotWW_monthY2014M10'\n",
      " 'local_sum_volumem3_TotWN_monthY2014M10'\n",
      " 'upstream_sum_volumem3_TotWW_monthY2014M10'\n",
      " 'upstream_sum_volumem3_TotWN_monthY2014M10'\n",
      " 'local_sum_volumem3_Runoff_monthY2014M10' 'ws_monthY2014M10'\n",
      " 'local_sum_volumem3_TotWW_monthY2014M11'\n",
      " 'local_sum_volumem3_TotWN_monthY2014M11'\n",
      " 'upstream_sum_volumem3_TotWW_monthY2014M11'\n",
      " 'upstream_sum_volumem3_TotWN_monthY2014M11'\n",
      " 'local_sum_volumem3_Runoff_monthY2014M11' 'ws_monthY2014M11'\n",
      " 'local_sum_volumem3_TotWW_monthY2014M12'\n",
      " 'local_sum_volumem3_TotWN_monthY2014M12'\n",
      " 'upstream_sum_volumem3_TotWW_monthY2014M12'\n",
      " 'upstream_sum_volumem3_TotWN_monthY2014M12'\n",
      " 'local_sum_volumem3_Runoff_monthY2014M12' 'ws_monthY2014M12']\n"
     ]
    }
   ],
   "source": [
    "print(inData.columns.values)"
   ]
  },
  {
   "cell_type": "markdown",
   "metadata": {},
   "source": [
    "* Columns to be keept for the data visualization and to be transform into indicators table:   "
   ]
  },
  {
   "cell_type": "code",
   "execution_count": 6,
   "metadata": {
    "scrolled": true
   },
   "outputs": [
    {
     "data": {
      "text/plain": [
       "['PFAF_ID',\n",
       " 'ws_yearY2014',\n",
       " 'ws_monthY2014M01',\n",
       " 'ws_monthY2014M02',\n",
       " 'ws_monthY2014M03',\n",
       " 'ws_monthY2014M04',\n",
       " 'ws_monthY2014M05',\n",
       " 'ws_monthY2014M06',\n",
       " 'ws_monthY2014M07',\n",
       " 'ws_monthY2014M08',\n",
       " 'ws_monthY2014M09',\n",
       " 'ws_monthY2014M10',\n",
       " 'ws_monthY2014M11',\n",
       " 'ws_monthY2014M12']"
      ]
     },
     "execution_count": 6,
     "metadata": {},
     "output_type": "execute_result"
    }
   ],
   "source": [
    "column_list = ['PFAF_ID','ws_yearY2014']\n",
    "for month in list(range(1,13)):\n",
    "    column_list.append(\"ws_monthY2014M%02d\" % (month))\n",
    "column_list"
   ]
  },
  {
   "cell_type": "markdown",
   "metadata": {},
   "source": [
    "* Columns to use as a Arid and low water use"
   ]
  },
  {
   "cell_type": "code",
   "execution_count": 7,
   "metadata": {},
   "outputs": [
    {
     "data": {
      "text/plain": [
       "['PFAF_ID',\n",
       " 'local_sum_volumem3_TotWW_yearY2014',\n",
       " 'local_sum_volumem3_Runoff_yearY2014',\n",
       " 'upstream_sum_volumem3runoff_annua',\n",
       " 'upstream_sum_volumem3_TotWN_yearY2014']"
      ]
     },
     "execution_count": 7,
     "metadata": {},
     "output_type": "execute_result"
    }
   ],
   "source": [
    "col_list = ['PFAF_ID','local_sum_volumem3_TotWW_yearY2014','local_sum_volumem3_Runoff_yearY2014', 'upstream_sum_volumem3runoff_annua','upstream_sum_volumem3_TotWN_yearY2014']\n",
    "col_list"
   ]
  },
  {
   "cell_type": "markdown",
   "metadata": {},
   "source": [
    "### Geometries"
   ]
  },
  {
   "cell_type": "code",
   "execution_count": 8,
   "metadata": {
    "collapsed": true
   },
   "outputs": [],
   "source": [
    "geoInData = gpd.read_file(base_path+'/work/data/aqueduct/data_source/aqueduct/v3/toAlicia/shape/unionADM01Hybas6V02WHYMAPV05.shp')"
   ]
  },
  {
   "cell_type": "code",
   "execution_count": 9,
   "metadata": {},
   "outputs": [
    {
     "data": {
      "text/html": [
       "<div>\n",
       "<style>\n",
       "    .dataframe thead tr:only-child th {\n",
       "        text-align: right;\n",
       "    }\n",
       "\n",
       "    .dataframe thead th {\n",
       "        text-align: left;\n",
       "    }\n",
       "\n",
       "    .dataframe tbody tr th {\n",
       "        vertical-align: top;\n",
       "    }\n",
       "</style>\n",
       "<table border=\"1\" class=\"dataframe\">\n",
       "  <thead>\n",
       "    <tr style=\"text-align: right;\">\n",
       "      <th></th>\n",
       "      <th>AQ30ID</th>\n",
       "      <th>AqID</th>\n",
       "      <th>ISO</th>\n",
       "      <th>PFAF_ID</th>\n",
       "      <th>geometry</th>\n",
       "      <th>provinceID</th>\n",
       "    </tr>\n",
       "  </thead>\n",
       "  <tbody>\n",
       "    <tr>\n",
       "      <th>0</th>\n",
       "      <td>1</td>\n",
       "      <td>2501</td>\n",
       "      <td></td>\n",
       "      <td>0</td>\n",
       "      <td>(POLYGON ((-37.60435027558478 -4.6124528796255...</td>\n",
       "      <td>0</td>\n",
       "    </tr>\n",
       "    <tr>\n",
       "      <th>1</th>\n",
       "      <td>2</td>\n",
       "      <td>2517</td>\n",
       "      <td></td>\n",
       "      <td>0</td>\n",
       "      <td>(POLYGON ((-35.51175937859333 -5.1496952318965...</td>\n",
       "      <td>0</td>\n",
       "    </tr>\n",
       "  </tbody>\n",
       "</table>\n",
       "</div>"
      ],
      "text/plain": [
       "   AQ30ID  AqID ISO  PFAF_ID  \\\n",
       "0       1  2501            0   \n",
       "1       2  2517            0   \n",
       "\n",
       "                                            geometry  provinceID  \n",
       "0  (POLYGON ((-37.60435027558478 -4.6124528796255...           0  \n",
       "1  (POLYGON ((-35.51175937859333 -5.1496952318965...           0  "
      ]
     },
     "execution_count": 9,
     "metadata": {},
     "output_type": "execute_result"
    }
   ],
   "source": [
    "geoInData.head(2)"
   ]
  },
  {
   "cell_type": "code",
   "execution_count": null,
   "metadata": {
    "ExecuteTime": {
     "end_time": "2017-06-05T11:03:23.347745Z",
     "start_time": "2017-06-05T10:54:52.480271Z"
    },
    "scrolled": true
   },
   "outputs": [],
   "source": [
    "#geoInData.plot()"
   ]
  },
  {
   "cell_type": "code",
   "execution_count": 10,
   "metadata": {},
   "outputs": [
    {
     "name": "stdout",
     "output_type": "stream",
     "text": [
      "AQ30ID\n",
      "AqID\n",
      "ISO\n",
      "PFAF_ID\n",
      "geometry\n",
      "provinceID\n"
     ]
    }
   ],
   "source": [
    "for column in geoInData.columns.values:\n",
    "    print(column)"
   ]
  },
  {
   "cell_type": "markdown",
   "metadata": {},
   "source": [
    "Keep all columns; "
   ]
  },
  {
   "cell_type": "markdown",
   "metadata": {},
   "source": [
    "### Pixel level datasets: \n",
    "\n",
    "* drought severity:\n",
    "    * soil moisture\n",
    "    * streamflow\n",
    "* interannual variability\n",
    "* seasonal variability\n",
    "    * q1\n",
    "    * q2\n",
    "    * q3\n",
    "    * q4"
   ]
  },
  {
   "cell_type": "code",
   "execution_count": 23,
   "metadata": {
    "collapsed": true,
    "scrolled": false
   },
   "outputs": [],
   "source": [
    "\"\"\"\n",
    "Tiff config object:\n",
    "[\n",
    "{'dataset': , 'indicator': , \n",
    "'period': , 'period_value': , \n",
    "'year': 2014, \n",
    "'data_type': 'absolute', \n",
    "'scenario': 'historic'}\n",
    "]\n",
    "\"\"\"\n",
    "baseLocation = base_path+'/work/data/aqueduct/data_source/aqueduct/v3/pixelIndicatorsAlicia/' \n",
    "\n",
    "tifss= [{'dataset': \"global_droughtseveritystandardisedsoilmoisture_5min_1960-2014.tif\", 'indicator': 'drought_severity_soil', 'period': 'year', 'period_value': None, 'year': 2014, 'data_type': 'absolute', 'scenario': 'historic'},\n",
    "        {'dataset': \"global_droughtseveritystandardisedstreamflow_5min_1960-2014.tif\", 'indicator': 'drought_severity_flow', 'period': 'year', 'period_value': None, 'year': 2014, 'data_type': 'absolute', 'scenario': 'historic'},\n",
    "        {'dataset': \"global_interannualvariabilitywatersupply_5min_1960-2014.tif\", 'indicator': 'interannual_variability', 'period': 'year', 'period_value': None, 'year': 2014, 'data_type': 'absolute', 'scenario': 'historic'},\n",
    "        {'dataset': \"global_q1seasonalvariabilitywatersupply_5min_1960-2014.tif\", 'indicator': 'seasonal_variability', 'period': 'quarter', 'period_value': 1, 'year': 2014, 'data_type': 'absolute', 'scenario': 'historic'},\n",
    "        {'dataset': \"global_q2seasonalvariabilitywatersupply_5min_1960-2014.tif\", 'indicator': 'seasonal_variability', 'period': 'quarter', 'period_value': 2, 'year': 2014, 'data_type': 'absolute', 'scenario': 'historic'},\n",
    "        {'dataset': \"global_q3seasonalvariabilitywatersupply_5min_1960-2014.tif\", 'indicator': 'seasonal_variability', 'period': 'quarter', 'period_value': 3, 'year': 2014, 'data_type': 'absolute', 'scenario': 'historic'},\n",
    "        {'dataset': \"global_q4seasonalvariabilitywatersupply_5min_1960-2014.tif\", 'indicator': 'seasonal_variability', 'period': 'quarter', 'period_value': 4, 'year': 2014, 'data_type': 'absolute', 'scenario': 'historic'}\n",
    "] "
   ]
  },
  {
   "cell_type": "code",
   "execution_count": 39,
   "metadata": {
    "scrolled": false
   },
   "outputs": [
    {
     "data": {
      "text/markdown": [
       "### global_droughtseveritystandardisedsoilmoisture_5min_1960-2014"
      ],
      "text/plain": [
       "<IPython.core.display.Markdown object>"
      ]
     },
     "metadata": {},
     "output_type": "display_data"
    },
    {
     "name": "stdout",
     "output_type": "stream",
     "text": [
      "{'driver': 'GTiff', 'dtype': 'float32', 'nodata': -9999.0, 'width': 4320, 'height': 2160, 'count': 1, 'crs': CRS({'init': 'epsg:4326'}), 'transform': Affine(0.0833333309780367, 0.0, -179.99999491255934,\n",
      "       0.0, -0.0833333309780367, 90.00000254430942), 'tiled': False, 'compress': 'lzw', 'interleave': 'band'}\n",
      "[[-- -- -- ..., -- -- --]\n",
      " [-- -- -- ..., -- -- --]\n",
      " [-- -- -- ..., -- -- --]\n",
      " ..., \n",
      " [0.0 0.0 0.0 ..., 0.0 0.0 0.0]\n",
      " [0.0 0.0 0.0 ..., 0.0 0.0 0.0]\n",
      " [0.0 0.0 0.0 ..., 0.0 0.0 0.0]]\n"
     ]
    },
    {
     "name": "stderr",
     "output_type": "stream",
     "text": [
      "/Users/alicia/miniconda3/lib/python3.6/site-packages/matplotlib/figure.py:403: UserWarning: matplotlib is currently using a non-GUI backend, so cannot show the figure\n",
      "  \"matplotlib is currently using a non-GUI backend, \"\n"
     ]
    },
    {
     "data": {
      "text/markdown": [
       "### global_droughtseveritystandardisedstreamflow_5min_1960-2014"
      ],
      "text/plain": [
       "<IPython.core.display.Markdown object>"
      ]
     },
     "metadata": {},
     "output_type": "display_data"
    },
    {
     "name": "stdout",
     "output_type": "stream",
     "text": [
      "{'driver': 'GTiff', 'dtype': 'float32', 'nodata': -9999.0, 'width': 4320, 'height': 2160, 'count': 1, 'crs': CRS({'init': 'epsg:4326'}), 'transform': Affine(0.0833333309780367, 0.0, -179.99999491255934,\n",
      "       0.0, -0.0833333309780367, 90.00000254430942), 'tiled': False, 'compress': 'lzw', 'interleave': 'band'}\n",
      "[[-- -- -- ..., -- -- --]\n",
      " [-- -- -- ..., -- -- --]\n",
      " [-- -- -- ..., -- -- --]\n",
      " ..., \n",
      " [0.0 0.0 0.0 ..., 0.0 0.0 0.0]\n",
      " [0.0 0.0 0.0 ..., 0.0 0.0 0.0]\n",
      " [0.0 0.0 0.0 ..., 0.0 0.0 0.0]]\n"
     ]
    },
    {
     "data": {
      "text/markdown": [
       "### global_interannualvariabilitywatersupply_5min_1960-2014"
      ],
      "text/plain": [
       "<IPython.core.display.Markdown object>"
      ]
     },
     "metadata": {},
     "output_type": "display_data"
    },
    {
     "name": "stdout",
     "output_type": "stream",
     "text": [
      "{'driver': 'GTiff', 'dtype': 'float32', 'nodata': -9999.0, 'width': 4320, 'height': 2160, 'count': 1, 'crs': CRS({'init': 'epsg:4326'}), 'transform': Affine(0.0833333309780367, 0.0, -179.99999491255934,\n",
      "       0.0, -0.0833333309780367, 90.00000254430942), 'tiled': False, 'compress': 'lzw', 'interleave': 'band'}\n",
      "[[-- -- -- ..., -- -- --]\n",
      " [-- -- -- ..., -- -- --]\n",
      " [-- -- -- ..., -- -- --]\n",
      " ..., \n",
      " [0.0 0.0 0.0 ..., 0.0 0.0 0.0]\n",
      " [0.0 0.0 0.0 ..., 0.0 0.0 0.0]\n",
      " [0.0 0.0 0.0 ..., 0.0 0.0 0.0]]\n"
     ]
    },
    {
     "data": {
      "text/markdown": [
       "### global_q1seasonalvariabilitywatersupply_5min_1960-2014"
      ],
      "text/plain": [
       "<IPython.core.display.Markdown object>"
      ]
     },
     "metadata": {},
     "output_type": "display_data"
    },
    {
     "name": "stdout",
     "output_type": "stream",
     "text": [
      "{'driver': 'GTiff', 'dtype': 'float32', 'nodata': -9999.0, 'width': 4320, 'height': 2160, 'count': 1, 'crs': CRS({'init': 'epsg:4326'}), 'transform': Affine(0.0833333309780367, 0.0, -179.99999491255934,\n",
      "       0.0, -0.0833333309780367, 90.00000254430942), 'tiled': False, 'compress': 'lzw', 'interleave': 'band'}\n",
      "[[-- -- -- ..., -- -- --]\n",
      " [-- -- -- ..., -- -- --]\n",
      " [-- -- -- ..., -- -- --]\n",
      " ..., \n",
      " [0.0 0.0 0.0 ..., 0.0 0.0 0.0]\n",
      " [0.0 0.0 0.0 ..., 0.0 0.0 0.0]\n",
      " [0.0 0.0 0.0 ..., 0.0 0.0 0.0]]\n"
     ]
    },
    {
     "data": {
      "text/markdown": [
       "### global_q2seasonalvariabilitywatersupply_5min_1960-2014"
      ],
      "text/plain": [
       "<IPython.core.display.Markdown object>"
      ]
     },
     "metadata": {},
     "output_type": "display_data"
    },
    {
     "name": "stdout",
     "output_type": "stream",
     "text": [
      "{'driver': 'GTiff', 'dtype': 'float32', 'nodata': -9999.0, 'width': 4320, 'height': 2160, 'count': 1, 'crs': CRS({'init': 'epsg:4326'}), 'transform': Affine(0.0833333309780367, 0.0, -179.99999491255934,\n",
      "       0.0, -0.0833333309780367, 90.00000254430942), 'tiled': False, 'compress': 'lzw', 'interleave': 'band'}\n",
      "[[-- -- -- ..., -- -- --]\n",
      " [-- -- -- ..., -- -- --]\n",
      " [-- -- -- ..., -- -- --]\n",
      " ..., \n",
      " [0.0 0.0 0.0 ..., 0.0 0.0 0.0]\n",
      " [0.0 0.0 0.0 ..., 0.0 0.0 0.0]\n",
      " [0.0 0.0 0.0 ..., 0.0 0.0 0.0]]\n"
     ]
    },
    {
     "data": {
      "text/markdown": [
       "### global_q3seasonalvariabilitywatersupply_5min_1960-2014"
      ],
      "text/plain": [
       "<IPython.core.display.Markdown object>"
      ]
     },
     "metadata": {},
     "output_type": "display_data"
    },
    {
     "name": "stdout",
     "output_type": "stream",
     "text": [
      "{'driver': 'GTiff', 'dtype': 'float32', 'nodata': -9999.0, 'width': 4320, 'height': 2160, 'count': 1, 'crs': CRS({'init': 'epsg:4326'}), 'transform': Affine(0.0833333309780367, 0.0, -179.99999491255934,\n",
      "       0.0, -0.0833333309780367, 90.00000254430942), 'tiled': False, 'compress': 'lzw', 'interleave': 'band'}\n",
      "[[-- -- -- ..., -- -- --]\n",
      " [-- -- -- ..., -- -- --]\n",
      " [-- -- -- ..., -- -- --]\n",
      " ..., \n",
      " [0.0 0.0 0.0 ..., 0.0 0.0 0.0]\n",
      " [0.0 0.0 0.0 ..., 0.0 0.0 0.0]\n",
      " [0.0 0.0 0.0 ..., 0.0 0.0 0.0]]\n"
     ]
    },
    {
     "data": {
      "text/markdown": [
       "### global_q4seasonalvariabilitywatersupply_5min_1960-2014"
      ],
      "text/plain": [
       "<IPython.core.display.Markdown object>"
      ]
     },
     "metadata": {},
     "output_type": "display_data"
    },
    {
     "name": "stdout",
     "output_type": "stream",
     "text": [
      "{'driver': 'GTiff', 'dtype': 'float32', 'nodata': -9999.0, 'width': 4320, 'height': 2160, 'count': 1, 'crs': CRS({'init': 'epsg:4326'}), 'transform': Affine(0.0833333309780367, 0.0, -179.99999491255934,\n",
      "       0.0, -0.0833333309780367, 90.00000254430942), 'tiled': False, 'compress': 'lzw', 'interleave': 'band'}\n",
      "[[-- -- -- ..., -- -- --]\n",
      " [-- -- -- ..., -- -- --]\n",
      " [-- -- -- ..., -- -- --]\n",
      " ..., \n",
      " [0.0 0.0 0.0 ..., 0.0 0.0 0.0]\n",
      " [0.0 0.0 0.0 ..., 0.0 0.0 0.0]\n",
      " [0.0 0.0 0.0 ..., 0.0 0.0 0.0]]\n"
     ]
    },
    {
     "data": {
      "image/png": "[encoded data removed]",
      "text/plain": [
       "<matplotlib.figure.Figure at 0x135e95780>"
      ]
     },
     "metadata": {},
     "output_type": "display_data"
    },
    {
     "data": {
      "image/png": "[encoded data removed]",
      "text/plain": [
       "<matplotlib.figure.Figure at 0x1365ac860>"
      ]
     },
     "metadata": {},
     "output_type": "display_data"
    },
    {
     "data": {
      "image/png": "[encoded data removed]",
      "text/plain": [
       "<matplotlib.figure.Figure at 0x134ebd208>"
      ]
     },
     "metadata": {},
     "output_type": "display_data"
    },
    {
     "data": {
      "image/png": "[encoded data removed]",
      "text/plain": [
       "<matplotlib.figure.Figure at 0x136296e48>"
      ]
     },
     "metadata": {},
     "output_type": "display_data"
    },
    {
     "data": {
      "image/png": "[encoded data removed]",
      "text/plain": [
       "<matplotlib.figure.Figure at 0x136037e10>"
      ]
     },
     "metadata": {},
     "output_type": "display_data"
    },
    {
     "data": {
      "image/png": "[encoded data removed]",
      "text/plain": [
       "<matplotlib.figure.Figure at 0x1353637b8>"
      ]
     },
     "metadata": {},
     "output_type": "display_data"
    },
    {
     "data": {
      "image/png": "[encoded data removed]",
      "text/plain": [
       "<matplotlib.figure.Figure at 0x136629630>"
      ]
     },
     "metadata": {},
     "output_type": "display_data"
    },
    {
     "data": {
      "image/png": "[encoded data removed]",
      "text/plain": [
       "<matplotlib.figure.Figure at 0x134f6b0f0>"
      ]
     },
     "metadata": {},
     "output_type": "display_data"
    },
    {
     "data": {
      "image/png": "[encoded data removed]",
      "text/plain": [
       "<matplotlib.figure.Figure at 0x1392d2358>"
      ]
     },
     "metadata": {},
     "output_type": "display_data"
    },
    {
     "data": {
      "image/png": "[encoded data removed]",
      "text/plain": [
       "<matplotlib.figure.Figure at 0x1351899e8>"
      ]
     },
     "metadata": {},
     "output_type": "display_data"
    },
    {
     "data": {
      "image/png": "[encoded data removed]",
      "text/plain": [
       "<matplotlib.figure.Figure at 0x135164d30>"
      ]
     },
     "metadata": {},
     "output_type": "display_data"
    },
    {
     "data": {
      "image/png": "[encoded data removed]",
      "text/plain": [
       "<matplotlib.figure.Figure at 0x13949c940>"
      ]
     },
     "metadata": {},
     "output_type": "display_data"
    },
    {
     "data": {
      "image/png": "[encoded data removed]",
      "text/plain": [
       "<matplotlib.figure.Figure at 0x134eeffd0>"
      ]
     },
     "metadata": {},
     "output_type": "display_data"
    },
    {
     "data": {
      "image/png": "[encoded data removed]",
      "text/plain": [
       "<matplotlib.figure.Figure at 0x134f535f8>"
      ]
     },
     "metadata": {},
     "output_type": "display_data"
    }
   ],
   "source": [
    "n = 1\n",
    "for image in tifss:\n",
    "    with rasterio.open(baseLocation+image['dataset']) as tif:\n",
    "        display(Markdown('### '+image['dataset'].split('.')[0]))\n",
    "        print(tif.profile)\n",
    "        rasterData=tif.read(1, masked=True)\n",
    "        print(rasterData)\n",
    "        profile = tif.profile\n",
    "        f1 = plt.figure(n)\n",
    "        plt.imshow(rasterData[:,:],  cmap='pink')\n",
    "        f1.show()\n",
    "        f2= plt.figure(n+1)\n",
    "        plt.hist(rasterData.compressed().ravel(),bins=[0,0.1,0.2,0.3,0.4,0.5,0.6,0.7,0.8,0.9,1,1.5,2])\n",
    "        f2.show()\n",
    "    n=n+2\n",
    "    \n",
    "    "
   ]
  },
  {
   "cell_type": "markdown",
   "metadata": {},
   "source": [
    "## Zonal statistics, generate subasin level stats"
   ]
  },
  {
   "cell_type": "markdown",
   "metadata": {},
   "source": [
    "What's are the stats that i need to perform? The mean  \n"
   ]
  },
  {
   "cell_type": "code",
   "execution_count": 15,
   "metadata": {
    "collapsed": true
   },
   "outputs": [],
   "source": [
    "def zonal_statistics(baseLocation, geomDatasets, cfgTif):\n",
    "    dataset=[]\n",
    "    with rasterio.open(baseLocation + cfgTif['dataset']) as tif:\n",
    "        rasterData=tif.read(1)\n",
    "        profile = tif.profile\n",
    "    for index, row in geoInData.iterrows():\n",
    "        mean = zonal_stats(row['geometry'], rasterData, stats=['mean'], band=1, all_touched=True,raster_out=False, affine=profile['transform'], nodata=profile['nodata'])\n",
    "        dataset.append({'indicator': cfgTif['indicator'], \n",
    "                        'value': mean[0]['mean'], \n",
    "                        'basinid':row['PFAF_ID'],\n",
    "                        'period': cfgTif['period'], \n",
    "                        'period_value': cfgTif['period_value'], \n",
    "                        'year': cfgTif['year'], \n",
    "                        'data_type': cfgTif['data_type'], \n",
    "                        'scenario': cfgTif['scenario']\n",
    "                       })\n",
    "    return pd.DataFrame(dataset, columns=dataset[0].keys())\n",
    "\n",
    "\n"
   ]
  },
  {
   "cell_type": "markdown",
   "metadata": {},
   "source": [
    "## Baseline Water stress reconfiguration"
   ]
  },
  {
   "cell_type": "code",
   "execution_count": 16,
   "metadata": {
    "collapsed": true
   },
   "outputs": [],
   "source": [
    "def unpivot(frame):\n",
    "    mapK={\n",
    "        'ws':'water_stess'\n",
    "    }\n",
    "    N, K = frame.shape\n",
    "    indicator = [mapK[i.split('_')[0]] for  i in frame.columns]\n",
    "    period = [i.split('_')[1].split('Y')[0] for  i in frame.columns]\n",
    "    period_value = [int(i.split('_')[1].split('Y')[1].split('M')[1]) if len(i.split('_')[1].split('Y')[1].split('M')) > 1 else None for  i in frame.columns]\n",
    "    year= [int(i.split('_')[1].split('Y')[1].split('M')[0]) for  i in frame.columns]\n",
    "\n",
    "    \n",
    "    data = {'value' : frame.values.ravel('F'),\n",
    "            'indicator' : numpy.array(indicator).repeat(N),\n",
    "            'basinid' : numpy.tile(numpy.asarray(frame.index), K),\n",
    "            'period': numpy.array(period).repeat(N),\n",
    "            'period_value': numpy.asarray(period_value).repeat(N),\n",
    "            'year': numpy.array(year).repeat(N),\n",
    "            'data_type': 'absolute',\n",
    "            'scenario': 'historic'\n",
    "           }\n",
    "    return pd.DataFrame(data, columns=['basinid', 'indicator', 'period','period_value','year','data_type','scenario','value'])\n"
   ]
  },
  {
   "cell_type": "markdown",
   "metadata": {},
   "source": [
    "## Arid and low water use basins"
   ]
  },
  {
   "cell_type": "code",
   "execution_count": 17,
   "metadata": {
    "collapsed": true
   },
   "outputs": [],
   "source": [
    "def Blue_water(x):\n",
    "    '''\n",
    "    Will generate Available blue water column \n",
    "    '''  \n",
    "    return x['upstream_sum_volumem3runoff_annua']-x['upstream_sum_volumem3_TotWN_yearY2014']+x['local_sum_volumem3_Runoff_yearY2014']\n",
    "\n",
    "def arLoWa(x):\n",
    "    '''\n",
    "    Will generate a boolean column that will indicate if that geometry is arid or not \n",
    "    '''  \n",
    "    if x['local_sum_volumem3_TotWW_yearY2014']<0.012 and x['ABWater']<0.03:\n",
    "        return True\n",
    "    else:\n",
    "        return False\n",
    "\n",
    "def arid(dataframe):\n",
    "    '''\n",
    "    Will return f dataframe with ['PFAF_ID', 'is_AridLoW'] columns\n",
    "    '''\n",
    "    dataframe['ABWater']=dataframe.apply(Blue_water, axis=1)\n",
    "    dataframe['is_AridLoW']=dataframe.apply(arLoWa, axis=1)\n",
    "    \n",
    "    return dataframe[['PFAF_ID', 'is_AridLoW']]\n",
    "    \n",
    "    \n",
    "    \n",
    "    "
   ]
  },
  {
   "cell_type": "code",
   "execution_count": 18,
   "metadata": {},
   "outputs": [
    {
     "name": "stderr",
     "output_type": "stream",
     "text": [
      "/Users/alicia/miniconda3/lib/python3.6/site-packages/ipykernel_launcher.py:20: SettingWithCopyWarning: \n",
      "A value is trying to be set on a copy of a slice from a DataFrame.\n",
      "Try using .loc[row_indexer,col_indexer] = value instead\n",
      "\n",
      "See the caveats in the documentation: http://pandas.pydata.org/pandas-docs/stable/indexing.html#indexing-view-versus-copy\n",
      "/Users/alicia/miniconda3/lib/python3.6/site-packages/ipykernel_launcher.py:21: SettingWithCopyWarning: \n",
      "A value is trying to be set on a copy of a slice from a DataFrame.\n",
      "Try using .loc[row_indexer,col_indexer] = value instead\n",
      "\n",
      "See the caveats in the documentation: http://pandas.pydata.org/pandas-docs/stable/indexing.html#indexing-view-versus-copy\n"
     ]
    }
   ],
   "source": [
    "wv_arid = arid(inData[col_list])"
   ]
  },
  {
   "cell_type": "code",
   "execution_count": 19,
   "metadata": {},
   "outputs": [
    {
     "data": {
      "text/html": [
       "<div>\n",
       "<style>\n",
       "    .dataframe thead tr:only-child th {\n",
       "        text-align: right;\n",
       "    }\n",
       "\n",
       "    .dataframe thead th {\n",
       "        text-align: left;\n",
       "    }\n",
       "\n",
       "    .dataframe tbody tr th {\n",
       "        vertical-align: top;\n",
       "    }\n",
       "</style>\n",
       "<table border=\"1\" class=\"dataframe\">\n",
       "  <thead>\n",
       "    <tr style=\"text-align: right;\">\n",
       "      <th></th>\n",
       "      <th>PFAF_ID</th>\n",
       "      <th>is_AridLoW</th>\n",
       "    </tr>\n",
       "  </thead>\n",
       "  <tbody>\n",
       "    <tr>\n",
       "      <th>16392</th>\n",
       "      <td>312042</td>\n",
       "      <td>False</td>\n",
       "    </tr>\n",
       "    <tr>\n",
       "      <th>16393</th>\n",
       "      <td>312016</td>\n",
       "      <td>False</td>\n",
       "    </tr>\n",
       "    <tr>\n",
       "      <th>16394</th>\n",
       "      <td>312804</td>\n",
       "      <td>False</td>\n",
       "    </tr>\n",
       "    <tr>\n",
       "      <th>16395</th>\n",
       "      <td>322660</td>\n",
       "      <td>False</td>\n",
       "    </tr>\n",
       "    <tr>\n",
       "      <th>16396</th>\n",
       "      <td>312670</td>\n",
       "      <td>False</td>\n",
       "    </tr>\n",
       "  </tbody>\n",
       "</table>\n",
       "</div>"
      ],
      "text/plain": [
       "       PFAF_ID  is_AridLoW\n",
       "16392   312042       False\n",
       "16393   312016       False\n",
       "16394   312804       False\n",
       "16395   322660       False\n",
       "16396   312670       False"
      ]
     },
     "execution_count": 19,
     "metadata": {},
     "output_type": "execute_result"
    }
   ],
   "source": [
    "wv_arid.tail(5)"
   ]
  },
  {
   "cell_type": "code",
   "execution_count": 20,
   "metadata": {},
   "outputs": [
    {
     "data": {
      "text/plain": [
       "is_AridLoW\n",
       "False    16033\n",
       "True       364\n",
       "Name: is_AridLoW, dtype: int64"
      ]
     },
     "execution_count": 20,
     "metadata": {},
     "output_type": "execute_result"
    }
   ],
   "source": [
    "wv_arid.groupby('is_AridLoW')['is_AridLoW'].count()"
   ]
  },
  {
   "cell_type": "code",
   "execution_count": 21,
   "metadata": {},
   "outputs": [],
   "source": [
    "arid_list=wv_arid.loc[wv_arid['is_AridLoW']==True]['PFAF_ID'].values"
   ]
  },
  {
   "cell_type": "markdown",
   "metadata": {},
   "source": [
    "## All together to rule them"
   ]
  },
  {
   "cell_type": "code",
   "execution_count": 24,
   "metadata": {},
   "outputs": [],
   "source": [
    "outData=[]\n",
    "for dataset in tifss:\n",
    "    outData.append(zonal_statistics(baseLocation, geoInData, dataset))\n",
    "outData.append(unpivot(inData[column_list].set_index(['PFAF_ID'])))\n",
    "f = pd.concat(outData)"
   ]
  },
  {
   "cell_type": "markdown",
   "metadata": {},
   "source": [
    "## Categorization computation "
   ]
  },
  {
   "cell_type": "markdown",
   "metadata": {},
   "source": [
    "* **Baseline water stress:** $$x = \\frac{{LN([rawValue])-LN(0.1)}}{LN(2) } + 1$$\n",
    "    - 0.1 represents minimum interest value  \n",
    "    - 2 represent the maximum interest value  \n",
    "    ##### Arid & low water use:\n",
    "\n",
    "    * Arid : Available Blue Water** : $$ A\\color{blue}BWater  <0.03 m/(m^2*year)$$  \n",
    "    * Low water use:  $$waterWithdrawal(WW) < 0.012 m/(m^2*year) $$\n",
    "\n",
    "    *A basin needs to satisfy both (AND) conditions to be masked as Arid AND low water use.*  \n",
    "    \\*\\* **Available blue water calculation:** $$ A\\color{blue}BWater = upstreamRunoff – upstreamConsumption(WN) + localRunoff $$\n",
    " \n",
    "* **Drought severity:** $$x = 5\\frac{{[rawValue]-min}}{max-min} + 1$$\n",
    "* **Interannual variability:** $$x = 5\\frac{{[rawValue]-min}}{max-min} + 1$$\n",
    "* **Seasonal variability:** $$x = 5\\frac{{[rawValue]-min}}{max-min} + 1$$\n"
   ]
  },
  {
   "cell_type": "code",
   "execution_count": 28,
   "metadata": {
    "scrolled": true
   },
   "outputs": [
    {
     "data": {
      "text/html": [
       "<div>\n",
       "<style>\n",
       "    .dataframe thead tr:only-child th {\n",
       "        text-align: right;\n",
       "    }\n",
       "\n",
       "    .dataframe thead th {\n",
       "        text-align: left;\n",
       "    }\n",
       "\n",
       "    .dataframe tbody tr th {\n",
       "        vertical-align: top;\n",
       "    }\n",
       "</style>\n",
       "<table border=\"1\" class=\"dataframe\">\n",
       "  <thead>\n",
       "    <tr style=\"text-align: right;\">\n",
       "      <th></th>\n",
       "      <th>basinid</th>\n",
       "      <th>data_type</th>\n",
       "      <th>indicator</th>\n",
       "      <th>period</th>\n",
       "      <th>period_value</th>\n",
       "      <th>scenario</th>\n",
       "      <th>value</th>\n",
       "      <th>year</th>\n",
       "    </tr>\n",
       "  </thead>\n",
       "  <tbody>\n",
       "    <tr>\n",
       "      <th>0</th>\n",
       "      <td>0</td>\n",
       "      <td>absolute</td>\n",
       "      <td>drought_severity_soil</td>\n",
       "      <td>year</td>\n",
       "      <td>None</td>\n",
       "      <td>historic</td>\n",
       "      <td>0.265479</td>\n",
       "      <td>2014</td>\n",
       "    </tr>\n",
       "    <tr>\n",
       "      <th>1</th>\n",
       "      <td>0</td>\n",
       "      <td>absolute</td>\n",
       "      <td>drought_severity_soil</td>\n",
       "      <td>year</td>\n",
       "      <td>None</td>\n",
       "      <td>historic</td>\n",
       "      <td>0.042162</td>\n",
       "      <td>2014</td>\n",
       "    </tr>\n",
       "  </tbody>\n",
       "</table>\n",
       "</div>"
      ],
      "text/plain": [
       "   basinid data_type              indicator period period_value  scenario  \\\n",
       "0        0  absolute  drought_severity_soil   year         None  historic   \n",
       "1        0  absolute  drought_severity_soil   year         None  historic   \n",
       "\n",
       "      value  year  \n",
       "0  0.265479  2014  \n",
       "1  0.042162  2014  "
      ]
     },
     "execution_count": 28,
     "metadata": {},
     "output_type": "execute_result"
    }
   ],
   "source": [
    "f.head(2)"
   ]
  },
  {
   "cell_type": "code",
   "execution_count": 29,
   "metadata": {
    "collapsed": true,
    "scrolled": false
   },
   "outputs": [],
   "source": [
    "\n",
    "def indicatorStc(frame):\n",
    "    '''\n",
    "    Calculates the basic statistics needed for categorization definition\n",
    "    '''\n",
    "    indicator_stats = {}\n",
    "    for indicator in frame.indicator.unique():\n",
    "        subsample = frame[frame['indicator'] == indicator]\n",
    "        indicator_stats[indicator]={'min':subsample.value.min(),'max':subsample.value.max()}\n",
    "        print(indicator,': ', indicator_stats[indicator]['min'],', ', indicator_stats[indicator]['max'])\n",
    "    return indicator_stats"
   ]
  },
  {
   "cell_type": "code",
   "execution_count": 32,
   "metadata": {
    "collapsed": true
   },
   "outputs": [],
   "source": [
    "def categorize(row):\n",
    "    '''\n",
    "    Categorize the raw data on 0-5 range\n",
    "    '''\n",
    "    if row['basinid'] in arid_list:\n",
    "        return -1\n",
    "    elif row['indicator']!='water_stess':\n",
    "        return 5*((row['value']-indicator_stats[row['indicator']]['min'])/(indicator_stats[row['indicator']]['max']-indicator_stats[row['indicator']]['min']))\n",
    "    elif row['value']>=0.1 and row['value']<=2:\n",
    "        return (((log(row['value'])-log(0.1))/(log(2)))+1)\n",
    "    elif row['value']>2:\n",
    "        return 5.25\n",
    "    else:\n",
    "        return 10\n",
    "    "
   ]
  },
  {
   "cell_type": "code",
   "execution_count": 33,
   "metadata": {},
   "outputs": [
    {
     "name": "stdout",
     "output_type": "stream",
     "text": [
      "drought_severity_soil :  0.0 ,  5.70747098658\n",
      "drought_severity_flow :  0.0 ,  57.9761009216\n",
      "interannual_variability :  0.0 ,  7.62683010101\n",
      "seasonal_variability :  0.0 ,  13.0383996964\n",
      "water_stess :  -3.67572715908e+25 ,  inf\n"
     ]
    }
   ],
   "source": [
    "indicator_stats = indicatorStc(f)\n",
    "f['cat'] = f.apply(categorize, axis=1)"
   ]
  },
  {
   "cell_type": "code",
   "execution_count": 34,
   "metadata": {},
   "outputs": [
    {
     "data": {
      "text/html": [
       "<div>\n",
       "<style>\n",
       "    .dataframe thead tr:only-child th {\n",
       "        text-align: right;\n",
       "    }\n",
       "\n",
       "    .dataframe thead th {\n",
       "        text-align: left;\n",
       "    }\n",
       "\n",
       "    .dataframe tbody tr th {\n",
       "        vertical-align: top;\n",
       "    }\n",
       "</style>\n",
       "<table border=\"1\" class=\"dataframe\">\n",
       "  <thead>\n",
       "    <tr style=\"text-align: right;\">\n",
       "      <th></th>\n",
       "      <th>basinid</th>\n",
       "      <th>data_type</th>\n",
       "      <th>indicator</th>\n",
       "      <th>period</th>\n",
       "      <th>period_value</th>\n",
       "      <th>scenario</th>\n",
       "      <th>value</th>\n",
       "      <th>year</th>\n",
       "      <th>cat</th>\n",
       "    </tr>\n",
       "  </thead>\n",
       "  <tbody>\n",
       "    <tr>\n",
       "      <th>0</th>\n",
       "      <td>0</td>\n",
       "      <td>absolute</td>\n",
       "      <td>drought_severity_soil</td>\n",
       "      <td>year</td>\n",
       "      <td>None</td>\n",
       "      <td>historic</td>\n",
       "      <td>0.265479</td>\n",
       "      <td>2014</td>\n",
       "      <td>0.232571</td>\n",
       "    </tr>\n",
       "    <tr>\n",
       "      <th>1</th>\n",
       "      <td>0</td>\n",
       "      <td>absolute</td>\n",
       "      <td>drought_severity_soil</td>\n",
       "      <td>year</td>\n",
       "      <td>None</td>\n",
       "      <td>historic</td>\n",
       "      <td>0.042162</td>\n",
       "      <td>2014</td>\n",
       "      <td>0.036935</td>\n",
       "    </tr>\n",
       "  </tbody>\n",
       "</table>\n",
       "</div>"
      ],
      "text/plain": [
       "   basinid data_type              indicator period period_value  scenario  \\\n",
       "0        0  absolute  drought_severity_soil   year         None  historic   \n",
       "1        0  absolute  drought_severity_soil   year         None  historic   \n",
       "\n",
       "      value  year       cat  \n",
       "0  0.265479  2014  0.232571  \n",
       "1  0.042162  2014  0.036935  "
      ]
     },
     "execution_count": 34,
     "metadata": {},
     "output_type": "execute_result"
    }
   ],
   "source": [
    "f.head(2)"
   ]
  },
  {
   "cell_type": "code",
   "execution_count": 35,
   "metadata": {},
   "outputs": [
    {
     "name": "stdout",
     "output_type": "stream",
     "text": [
      "drought_severity_soil :  -1.0 ,  5.0\n",
      "drought_severity_flow :  -1.0 ,  5.0\n",
      "interannual_variability :  -1.0 ,  5.0\n",
      "seasonal_variability :  -1.0 ,  5.0\n",
      "water_stess :  -1.0 ,  10.0\n"
     ]
    }
   ],
   "source": [
    "for indicator in f.indicator.unique():\n",
    "    subsample = f[f['indicator'] == indicator]\n",
    "    print(indicator,': ', subsample.cat.min(),', ', subsample.cat.max())"
   ]
  },
  {
   "cell_type": "code",
   "execution_count": 36,
   "metadata": {
    "collapsed": true
   },
   "outputs": [],
   "source": [
    "f.to_csv(base_path+'/work/data/aqueduct/dst/aqueduct/v3/water_risk_indicators_v3.csv')"
   ]
  },
  {
   "cell_type": "markdown",
   "metadata": {},
   "source": [
    "## Raster reclassification"
   ]
  },
  {
   "cell_type": "markdown",
   "metadata": {},
   "source": [
    "For those indicators that are going to be shown at pixel level on the visualization we need to agreed on a name convention so we can call them independenly and reclasify them following the same categorization formulas used for the basin level data."
   ]
  },
  {
   "cell_type": "markdown",
   "metadata": {},
   "source": [
    "* **Drought severity:** $$x = 5\\frac{{[rawValue]-min}}{max-min} + 1$$\n",
    "* **Interannual variability:** $$x = 5\\frac{{[rawValue]-min}}{max-min} + 1$$\n",
    "* **Seasonal variability:** $$x = 5\\frac{{[rawValue]-min}}{max-min} + 1$$"
   ]
  },
  {
   "cell_type": "code",
   "execution_count": null,
   "metadata": {
    "collapsed": true
   },
   "outputs": [],
   "source": [
    "def rCat(x):\n",
    "    return 5*((x-data['min'])/(data['max']-data['min']))\n",
    "\n"
   ]
  },
  {
   "cell_type": "code",
   "execution_count": null,
   "metadata": {},
   "outputs": [],
   "source": [
    "tifStats = []\n",
    "for data in tifss:\n",
    "    with rasterio.open(baseLocation + data['dataset']) as tif:\n",
    "        dataset = tif.read(1, masked=True)\n",
    "        data['min'] = numpy.amin(dataset)\n",
    "        data['max'] = numpy.amax(dataset)\n",
    "        tifStats.append(data)\n",
    "    \n",
    "#print(tifStats)    \n",
    "#asdf={x:{'min':[],'max':[]} for x in numpy.unique([x['indicator'] for x in tifss])} \n",
    "\n",
    "#for data in tifStats:\n",
    "#    asdf[data['indicator']]['min'].append(data['min'])\n",
    "#    asdf[data['indicator']]['max'].append(data['max'])\n",
    "#asdf\n",
    "tifStats"
   ]
  },
  {
   "cell_type": "code",
   "execution_count": null,
   "metadata": {
    "collapsed": true
   },
   "outputs": [],
   "source": [
    "rCat = numpy.vectorize(rCat)\n",
    "for data in tifStats:\n",
    "    with rasterio.open(baseLocation + data['dataset']) as tif:\n",
    "        dataset = tif.read(1, masked=True)\n",
    "        result_dataset = rCat(dataset)\n",
    "        profile = tif.profile\n",
    "        profile['dtype']='uint8'\n",
    "        profile['compress']='lzw'\n",
    "        profile['nodata']=255\n",
    "        fileName = '{0}-{1}-{2}-{3}{4}'.format(data['indicator'],data['scenario'],data['period'],str(data['year']),('-'+str(data['period_value'])) if data['period_value']!= None else '')\n",
    "        filedir=base_path + '/work/data/aqueduct/dst/aqueduct/v3/' +  fileName\n",
    "        with rasterio.open(filedir, 'w', **profile) as dst:\n",
    "            dst.write(result_dataset.astype(profile['dtype']), 1)\n"
   ]
  },
  {
   "cell_type": "markdown",
   "metadata": {},
   "source": [
    "## Data Migration from wri-01 account to wri-rw"
   ]
  },
  {
   "cell_type": "markdown",
   "metadata": {},
   "source": [
    "Carto has an issue with big tables > 1000000 rows tables. In order to ingest\n",
    "### todolist\n",
    "- [x] split crops, and crops_geo table\n",
    "- [] upload it to carto"
   ]
  },
  {
   "cell_type": "code",
   "execution_count": 40,
   "metadata": {
    "collapsed": true
   },
   "outputs": [],
   "source": [
    "import requests\n",
    "import json"
   ]
  },
  {
   "cell_type": "code",
   "execution_count": 41,
   "metadata": {
    "scrolled": false
   },
   "outputs": [
    {
     "data": {
      "text/html": [
       "<div>\n",
       "<style>\n",
       "    .dataframe thead tr:only-child th {\n",
       "        text-align: right;\n",
       "    }\n",
       "\n",
       "    .dataframe thead th {\n",
       "        text-align: left;\n",
       "    }\n",
       "\n",
       "    .dataframe tbody tr th {\n",
       "        vertical-align: top;\n",
       "    }\n",
       "</style>\n",
       "<table border=\"1\" class=\"dataframe\">\n",
       "  <thead>\n",
       "    <tr style=\"text-align: right;\">\n",
       "      <th></th>\n",
       "      <th>active_child</th>\n",
       "      <th>active_layer_id</th>\n",
       "      <th>attributions</th>\n",
       "      <th>auth_tokens</th>\n",
       "      <th>children</th>\n",
       "      <th>created_at</th>\n",
       "      <th>description</th>\n",
       "      <th>display_name</th>\n",
       "      <th>external_source</th>\n",
       "      <th>id</th>\n",
       "      <th>...</th>\n",
       "      <th>synchronization</th>\n",
       "      <th>table</th>\n",
       "      <th>tags</th>\n",
       "      <th>title</th>\n",
       "      <th>transition_options</th>\n",
       "      <th>type</th>\n",
       "      <th>updated_at</th>\n",
       "      <th>url</th>\n",
       "      <th>uses_builder_features</th>\n",
       "      <th>version</th>\n",
       "    </tr>\n",
       "  </thead>\n",
       "  <tbody>\n",
       "    <tr>\n",
       "      <th>0</th>\n",
       "      <td>NaN</td>\n",
       "      <td>NaN</td>\n",
       "      <td>None</td>\n",
       "      <td>[]</td>\n",
       "      <td>[]</td>\n",
       "      <td>2017-06-29 09:11:51</td>\n",
       "      <td>floods per country</td>\n",
       "      <td>NaN</td>\n",
       "      <td>{}</td>\n",
       "      <td>2db6482d-fe51-4247-8c5d-0c9994ace908</td>\n",
       "      <td>...</td>\n",
       "      <td>NaN</td>\n",
       "      <td>{'id': '12036b1e-3d24-494d-9c68-e1645904e6db',...</td>\n",
       "      <td>[water, dashboard, Aqueduct, alicia]</td>\n",
       "      <td>NaN</td>\n",
       "      <td>{'time': 0}</td>\n",
       "      <td>table</td>\n",
       "      <td>2017-06-29 09:13:16</td>\n",
       "      <td>https://wri-rw.carto.com/tables/aqueduct_globa...</td>\n",
       "      <td>True</td>\n",
       "      <td>3</td>\n",
       "    </tr>\n",
       "    <tr>\n",
       "      <th>1</th>\n",
       "      <td>NaN</td>\n",
       "      <td>NaN</td>\n",
       "      <td>None</td>\n",
       "      <td>[]</td>\n",
       "      <td>[]</td>\n",
       "      <td>2017-06-01 16:28:02</td>\n",
       "      <td>aqueuduct v3.0 geometry</td>\n",
       "      <td>NaN</td>\n",
       "      <td>{}</td>\n",
       "      <td>f3d869d2-3a25-4e4d-a3db-206c6df9ae2b</td>\n",
       "      <td>...</td>\n",
       "      <td>NaN</td>\n",
       "      <td>{'id': 'fb2f0d31-7f9e-42dd-b3d4-8dd46923c3e0',...</td>\n",
       "      <td>[aqueduct, alicia]</td>\n",
       "      <td>NaN</td>\n",
       "      <td>{'time': 0}</td>\n",
       "      <td>table</td>\n",
       "      <td>2017-06-01 16:28:46</td>\n",
       "      <td>https://wri-rw.carto.com/tables/hybas_merged_c...</td>\n",
       "      <td>True</td>\n",
       "      <td>3</td>\n",
       "    </tr>\n",
       "    <tr>\n",
       "      <th>2</th>\n",
       "      <td>NaN</td>\n",
       "      <td>NaN</td>\n",
       "      <td>None</td>\n",
       "      <td>[]</td>\n",
       "      <td>[]</td>\n",
       "      <td>2017-06-01 16:25:48</td>\n",
       "      <td>aqueuduct v3.0 data</td>\n",
       "      <td>NaN</td>\n",
       "      <td>{}</td>\n",
       "      <td>9c78a8f5-468f-4616-a567-e93758eb2c52</td>\n",
       "      <td>...</td>\n",
       "      <td>NaN</td>\n",
       "      <td>{'id': '4ff269f9-0e14-49e2-a018-2ebef8047b4d',...</td>\n",
       "      <td>[aqueduct, alicia]</td>\n",
       "      <td>NaN</td>\n",
       "      <td>{'time': 0}</td>\n",
       "      <td>table</td>\n",
       "      <td>2017-06-01 16:27:52</td>\n",
       "      <td>https://wri-rw.carto.com/tables/aqv3</td>\n",
       "      <td>True</td>\n",
       "      <td>3</td>\n",
       "    </tr>\n",
       "    <tr>\n",
       "      <th>3</th>\n",
       "      <td>NaN</td>\n",
       "      <td>NaN</td>\n",
       "      <td>None</td>\n",
       "      <td>[]</td>\n",
       "      <td>[]</td>\n",
       "      <td>2017-06-01 16:25:49</td>\n",
       "      <td>None</td>\n",
       "      <td>NaN</td>\n",
       "      <td>{}</td>\n",
       "      <td>b2b20447-283e-4e82-9367-e9c1e4a5b52a</td>\n",
       "      <td>...</td>\n",
       "      <td>NaN</td>\n",
       "      <td>{'id': 'c25bb692-cb47-4f3a-b4d4-593187e011e7',...</td>\n",
       "      <td>[aqueduct, alicia]</td>\n",
       "      <td>NaN</td>\n",
       "      <td>{'time': 0}</td>\n",
       "      <td>table</td>\n",
       "      <td>2017-06-01 16:27:31</td>\n",
       "      <td>https://wri-rw.carto.com/tables/drought_severi...</td>\n",
       "      <td>True</td>\n",
       "      <td>3</td>\n",
       "    </tr>\n",
       "    <tr>\n",
       "      <th>4</th>\n",
       "      <td>NaN</td>\n",
       "      <td>NaN</td>\n",
       "      <td>None</td>\n",
       "      <td>[]</td>\n",
       "      <td>[]</td>\n",
       "      <td>2017-06-01 16:25:48</td>\n",
       "      <td>None</td>\n",
       "      <td>NaN</td>\n",
       "      <td>{}</td>\n",
       "      <td>46326c5c-357e-4e34-94bf-7f29c90e597f</td>\n",
       "      <td>...</td>\n",
       "      <td>NaN</td>\n",
       "      <td>{'id': '717f5d0b-b3bb-4a14-bc4d-4a7e27acafcd',...</td>\n",
       "      <td>[aqueduct, alicia]</td>\n",
       "      <td>NaN</td>\n",
       "      <td>{'time': 0}</td>\n",
       "      <td>table</td>\n",
       "      <td>2017-06-01 16:27:24</td>\n",
       "      <td>https://wri-rw.carto.com/tables/seasonal_varia...</td>\n",
       "      <td>True</td>\n",
       "      <td>3</td>\n",
       "    </tr>\n",
       "    <tr>\n",
       "      <th>5</th>\n",
       "      <td>NaN</td>\n",
       "      <td>NaN</td>\n",
       "      <td>None</td>\n",
       "      <td>[]</td>\n",
       "      <td>[]</td>\n",
       "      <td>2017-05-24 11:31:52</td>\n",
       "      <td>aqueduct v2 - MAPSPAM  - Marinekko dataset</td>\n",
       "      <td>NaN</td>\n",
       "      <td>{}</td>\n",
       "      <td>104c500f-d9b6-491e-bba9-299e347a699e</td>\n",
       "      <td>...</td>\n",
       "      <td>NaN</td>\n",
       "      <td>{'id': 'adfd52e7-5aac-4aae-83ed-db14720089f5',...</td>\n",
       "      <td>[aqueduct, alicia]</td>\n",
       "      <td>NaN</td>\n",
       "      <td>{'time': 0}</td>\n",
       "      <td>table</td>\n",
       "      <td>2017-05-24 11:51:21</td>\n",
       "      <td>https://wri-rw.carto.com/tables/crops_stats</td>\n",
       "      <td>True</td>\n",
       "      <td>3</td>\n",
       "    </tr>\n",
       "    <tr>\n",
       "      <th>6</th>\n",
       "      <td>NaN</td>\n",
       "      <td>NaN</td>\n",
       "      <td>None</td>\n",
       "      <td>[]</td>\n",
       "      <td>[]</td>\n",
       "      <td>2017-05-24 11:31:52</td>\n",
       "      <td>aqueduct v2 - geometries</td>\n",
       "      <td>NaN</td>\n",
       "      <td>{}</td>\n",
       "      <td>e5bca5ae-1d28-4166-bf0e-ce91d7e69f62</td>\n",
       "      <td>...</td>\n",
       "      <td>NaN</td>\n",
       "      <td>{'id': 'f084e530-e941-446f-9d2a-1d48c9c5561f',...</td>\n",
       "      <td>[aqueduct, alicia]</td>\n",
       "      <td>NaN</td>\n",
       "      <td>{'time': 0}</td>\n",
       "      <td>table</td>\n",
       "      <td>2017-05-24 11:50:05</td>\n",
       "      <td>https://wri-rw.carto.com/tables/wri_subcatchem...</td>\n",
       "      <td>True</td>\n",
       "      <td>3</td>\n",
       "    </tr>\n",
       "    <tr>\n",
       "      <th>7</th>\n",
       "      <td>NaN</td>\n",
       "      <td>NaN</td>\n",
       "      <td>None</td>\n",
       "      <td>[]</td>\n",
       "      <td>[]</td>\n",
       "      <td>2017-05-24 11:29:52</td>\n",
       "      <td>ifript data</td>\n",
       "      <td>NaN</td>\n",
       "      <td>{}</td>\n",
       "      <td>70d45bea-16b3-47e5-9673-f21281a49f8f</td>\n",
       "      <td>...</td>\n",
       "      <td>NaN</td>\n",
       "      <td>{'id': '33e83d0f-99e6-4601-b0a5-c7f5a4412a4a',...</td>\n",
       "      <td>[Aqueduct, alicia]</td>\n",
       "      <td>NaN</td>\n",
       "      <td>{'time': 0}</td>\n",
       "      <td>table</td>\n",
       "      <td>2017-05-24 11:49:28</td>\n",
       "      <td>https://wri-rw.carto.com/tables/combined01_pre...</td>\n",
       "      <td>True</td>\n",
       "      <td>3</td>\n",
       "    </tr>\n",
       "    <tr>\n",
       "      <th>8</th>\n",
       "      <td>NaN</td>\n",
       "      <td>NaN</td>\n",
       "      <td>None</td>\n",
       "      <td>[]</td>\n",
       "      <td>[]</td>\n",
       "      <td>2017-05-24 11:29:41</td>\n",
       "      <td>aqueduct v2 - curate table</td>\n",
       "      <td>NaN</td>\n",
       "      <td>{}</td>\n",
       "      <td>a1bd3c81-08bd-4ed4-8e95-9102ce7b13c8</td>\n",
       "      <td>...</td>\n",
       "      <td>NaN</td>\n",
       "      <td>{'id': 'ad43773d-b8f6-4687-80c8-fcdb4bfa5f6b',...</td>\n",
       "      <td>[aqueduct, alicia]</td>\n",
       "      <td>NaN</td>\n",
       "      <td>{'time': 0}</td>\n",
       "      <td>table</td>\n",
       "      <td>2017-05-24 11:49:04</td>\n",
       "      <td>https://wri-rw.carto.com/tables/water_risk_ind...</td>\n",
       "      <td>True</td>\n",
       "      <td>3</td>\n",
       "    </tr>\n",
       "    <tr>\n",
       "      <th>9</th>\n",
       "      <td>NaN</td>\n",
       "      <td>NaN</td>\n",
       "      <td>None</td>\n",
       "      <td>[]</td>\n",
       "      <td>[]</td>\n",
       "      <td>2017-05-24 11:28:44</td>\n",
       "      <td>yield-area stats per crop and per basin</td>\n",
       "      <td>NaN</td>\n",
       "      <td>{}</td>\n",
       "      <td>b9bd590d-04a4-4255-a63d-c4272cd76f0f</td>\n",
       "      <td>...</td>\n",
       "      <td>NaN</td>\n",
       "      <td>{'id': '59407874-5017-422e-a8a5-09a7af9307f5',...</td>\n",
       "      <td>[aqueduct, alicia]</td>\n",
       "      <td>NaN</td>\n",
       "      <td>{'time': 0}</td>\n",
       "      <td>table</td>\n",
       "      <td>2017-05-24 11:47:59</td>\n",
       "      <td>https://wri-rw.carto.com/tables/all_crops_stats</td>\n",
       "      <td>True</td>\n",
       "      <td>3</td>\n",
       "    </tr>\n",
       "    <tr>\n",
       "      <th>10</th>\n",
       "      <td>NaN</td>\n",
       "      <td>NaN</td>\n",
       "      <td>None</td>\n",
       "      <td>[]</td>\n",
       "      <td>[]</td>\n",
       "      <td>2017-05-24 11:31:53</td>\n",
       "      <td>aqueduct v2 tool-2 - weights for baseline pres...</td>\n",
       "      <td>NaN</td>\n",
       "      <td>{}</td>\n",
       "      <td>2bcaa848-23b7-4ca7-b77f-2598a78b2f49</td>\n",
       "      <td>...</td>\n",
       "      <td>NaN</td>\n",
       "      <td>{'id': '6382d55d-fa6f-47e2-b4dc-7b07242736f8',...</td>\n",
       "      <td>[aqueduct, alicia]</td>\n",
       "      <td>NaN</td>\n",
       "      <td>{'time': 0}</td>\n",
       "      <td>table</td>\n",
       "      <td>2017-05-24 11:47:13</td>\n",
       "      <td>https://wri-rw.carto.com/tables/water_risk_wei...</td>\n",
       "      <td>True</td>\n",
       "      <td>3</td>\n",
       "    </tr>\n",
       "    <tr>\n",
       "      <th>11</th>\n",
       "      <td>NaN</td>\n",
       "      <td>NaN</td>\n",
       "      <td>You, L., U. Wood-Sichra, S. Fritz, Z. Guo, L. ...</td>\n",
       "      <td>[]</td>\n",
       "      <td>[]</td>\n",
       "      <td>2017-05-24 11:28:41</td>\n",
       "      <td>Yield-area per SPAM-crops per country</td>\n",
       "      <td>NaN</td>\n",
       "      <td>{}</td>\n",
       "      <td>cc7a52f8-5661-40b1-b0b7-26d145c30a70</td>\n",
       "      <td>...</td>\n",
       "      <td>NaN</td>\n",
       "      <td>{'id': 'a1d098ab-becb-4623-a4e5-01c5ff6c087a',...</td>\n",
       "      <td>[aqueduct, alicia]</td>\n",
       "      <td>NaN</td>\n",
       "      <td>{'time': 0}</td>\n",
       "      <td>table</td>\n",
       "      <td>2017-05-24 11:46:20</td>\n",
       "      <td>https://wri-rw.carto.com/tables/crops_countrie...</td>\n",
       "      <td>True</td>\n",
       "      <td>3</td>\n",
       "    </tr>\n",
       "    <tr>\n",
       "      <th>12</th>\n",
       "      <td>NaN</td>\n",
       "      <td>NaN</td>\n",
       "      <td>None</td>\n",
       "      <td>[]</td>\n",
       "      <td>[]</td>\n",
       "      <td>2017-05-24 11:30:50</td>\n",
       "      <td>aqueduct v2 - country regions</td>\n",
       "      <td>NaN</td>\n",
       "      <td>{}</td>\n",
       "      <td>5aed45ca-be75-4be5-80ba-d08aec96d4d5</td>\n",
       "      <td>...</td>\n",
       "      <td>NaN</td>\n",
       "      <td>{'id': '01add1ff-ef6a-4042-bdea-25d2d62c109c',...</td>\n",
       "      <td>[aqueduct, ALICIA]</td>\n",
       "      <td>NaN</td>\n",
       "      <td>{'time': 0}</td>\n",
       "      <td>table</td>\n",
       "      <td>2017-05-24 11:43:55</td>\n",
       "      <td>https://wri-rw.carto.com/tables/impact_regions...</td>\n",
       "      <td>True</td>\n",
       "      <td>3</td>\n",
       "    </tr>\n",
       "    <tr>\n",
       "      <th>13</th>\n",
       "      <td>NaN</td>\n",
       "      <td>NaN</td>\n",
       "      <td>None</td>\n",
       "      <td>[]</td>\n",
       "      <td>[]</td>\n",
       "      <td>2017-05-24 11:31:30</td>\n",
       "      <td>None</td>\n",
       "      <td>NaN</td>\n",
       "      <td>{}</td>\n",
       "      <td>f0729de5-23ef-4014-8bba-8465a2ee8126</td>\n",
       "      <td>...</td>\n",
       "      <td>NaN</td>\n",
       "      <td>{'id': '43636ea3-f039-43cb-a49c-38ea23fdb83c',...</td>\n",
       "      <td>[aqueduct, ronny]</td>\n",
       "      <td>NaN</td>\n",
       "      <td>{'time': 0}</td>\n",
       "      <td>table</td>\n",
       "      <td>2017-05-24 11:43:29</td>\n",
       "      <td>https://wri-rw.carto.com/tables/all_crop_data_...</td>\n",
       "      <td>True</td>\n",
       "      <td>3</td>\n",
       "    </tr>\n",
       "    <tr>\n",
       "      <th>14</th>\n",
       "      <td>NaN</td>\n",
       "      <td>NaN</td>\n",
       "      <td>None</td>\n",
       "      <td>[]</td>\n",
       "      <td>[]</td>\n",
       "      <td>2017-05-24 11:25:54</td>\n",
       "      <td>aqueduct v2 - baseline raw table</td>\n",
       "      <td>NaN</td>\n",
       "      <td>{}</td>\n",
       "      <td>e45449ea-11a5-4211-a0df-29ee6e3a3416</td>\n",
       "      <td>...</td>\n",
       "      <td>NaN</td>\n",
       "      <td>{'id': '7346f304-1502-4c1a-8967-a1c532602e36',...</td>\n",
       "      <td>[AQUEDUCT, ALICIA]</td>\n",
       "      <td>NaN</td>\n",
       "      <td>{'time': 0}</td>\n",
       "      <td>table</td>\n",
       "      <td>2017-05-24 11:43:23</td>\n",
       "      <td>https://wri-rw.carto.com/tables/aqueduct_globa...</td>\n",
       "      <td>True</td>\n",
       "      <td>3</td>\n",
       "    </tr>\n",
       "    <tr>\n",
       "      <th>15</th>\n",
       "      <td>NaN</td>\n",
       "      <td>NaN</td>\n",
       "      <td>None</td>\n",
       "      <td>[]</td>\n",
       "      <td>[]</td>\n",
       "      <td>2017-05-24 11:27:16</td>\n",
       "      <td>aqueduct v2 - projections raw table</td>\n",
       "      <td>NaN</td>\n",
       "      <td>{}</td>\n",
       "      <td>bc72861d-d87d-41ea-980a-3070eb33ba9d</td>\n",
       "      <td>...</td>\n",
       "      <td>NaN</td>\n",
       "      <td>{'id': '9818072f-4c26-4e0f-b956-1f6559b48a1e',...</td>\n",
       "      <td>[AQUEDUCT, alicia]</td>\n",
       "      <td>NaN</td>\n",
       "      <td>{'time': 0}</td>\n",
       "      <td>table</td>\n",
       "      <td>2017-05-24 11:43:17</td>\n",
       "      <td>https://wri-rw.carto.com/tables/aqueduct_proje...</td>\n",
       "      <td>True</td>\n",
       "      <td>3</td>\n",
       "    </tr>\n",
       "    <tr>\n",
       "      <th>16</th>\n",
       "      <td>NaN</td>\n",
       "      <td>NaN</td>\n",
       "      <td>None</td>\n",
       "      <td>[]</td>\n",
       "      <td>[]</td>\n",
       "      <td>2017-05-24 11:28:42</td>\n",
       "      <td>aqueduct v2 - baseline ranking</td>\n",
       "      <td>NaN</td>\n",
       "      <td>{}</td>\n",
       "      <td>bfdadbd1-0898-40d1-8a2e-e0543a045e3c</td>\n",
       "      <td>...</td>\n",
       "      <td>NaN</td>\n",
       "      <td>{'id': 'c65c7482-6199-4568-ba7b-176bf2e7f864',...</td>\n",
       "      <td>[aqueduct, ronny]</td>\n",
       "      <td>NaN</td>\n",
       "      <td>{'time': 0}</td>\n",
       "      <td>table</td>\n",
       "      <td>2017-05-24 11:35:33</td>\n",
       "      <td>https://wri-rw.carto.com/tables/aqueduct_water...</td>\n",
       "      <td>True</td>\n",
       "      <td>3</td>\n",
       "    </tr>\n",
       "  </tbody>\n",
       "</table>\n",
       "<p>17 rows × 34 columns</p>\n",
       "</div>"
      ],
      "text/plain": [
       "    active_child  active_layer_id  \\\n",
       "0            NaN              NaN   \n",
       "1            NaN              NaN   \n",
       "2            NaN              NaN   \n",
       "3            NaN              NaN   \n",
       "4            NaN              NaN   \n",
       "5            NaN              NaN   \n",
       "6            NaN              NaN   \n",
       "7            NaN              NaN   \n",
       "8            NaN              NaN   \n",
       "9            NaN              NaN   \n",
       "10           NaN              NaN   \n",
       "11           NaN              NaN   \n",
       "12           NaN              NaN   \n",
       "13           NaN              NaN   \n",
       "14           NaN              NaN   \n",
       "15           NaN              NaN   \n",
       "16           NaN              NaN   \n",
       "\n",
       "                                         attributions auth_tokens children  \\\n",
       "0                                                None          []       []   \n",
       "1                                                None          []       []   \n",
       "2                                                None          []       []   \n",
       "3                                                None          []       []   \n",
       "4                                                None          []       []   \n",
       "5                                                None          []       []   \n",
       "6                                                None          []       []   \n",
       "7                                                None          []       []   \n",
       "8                                                None          []       []   \n",
       "9                                                None          []       []   \n",
       "10                                               None          []       []   \n",
       "11  You, L., U. Wood-Sichra, S. Fritz, Z. Guo, L. ...          []       []   \n",
       "12                                               None          []       []   \n",
       "13                                               None          []       []   \n",
       "14                                               None          []       []   \n",
       "15                                               None          []       []   \n",
       "16                                               None          []       []   \n",
       "\n",
       "            created_at                                        description  \\\n",
       "0  2017-06-29 09:11:51                                 floods per country   \n",
       "1  2017-06-01 16:28:02                            aqueuduct v3.0 geometry   \n",
       "2  2017-06-01 16:25:48                                aqueuduct v3.0 data   \n",
       "3  2017-06-01 16:25:49                                               None   \n",
       "4  2017-06-01 16:25:48                                               None   \n",
       "5  2017-05-24 11:31:52         aqueduct v2 - MAPSPAM  - Marinekko dataset   \n",
       "6  2017-05-24 11:31:52                           aqueduct v2 - geometries   \n",
       "7  2017-05-24 11:29:52                                        ifript data   \n",
       "8  2017-05-24 11:29:41                         aqueduct v2 - curate table   \n",
       "9  2017-05-24 11:28:44            yield-area stats per crop and per basin   \n",
       "10 2017-05-24 11:31:53  aqueduct v2 tool-2 - weights for baseline pres...   \n",
       "11 2017-05-24 11:28:41              Yield-area per SPAM-crops per country   \n",
       "12 2017-05-24 11:30:50                      aqueduct v2 - country regions   \n",
       "13 2017-05-24 11:31:30                                               None   \n",
       "14 2017-05-24 11:25:54                   aqueduct v2 - baseline raw table   \n",
       "15 2017-05-24 11:27:16                aqueduct v2 - projections raw table   \n",
       "16 2017-05-24 11:28:42                     aqueduct v2 - baseline ranking   \n",
       "\n",
       "    display_name external_source                                    id  \\\n",
       "0            NaN              {}  2db6482d-fe51-4247-8c5d-0c9994ace908   \n",
       "1            NaN              {}  f3d869d2-3a25-4e4d-a3db-206c6df9ae2b   \n",
       "2            NaN              {}  9c78a8f5-468f-4616-a567-e93758eb2c52   \n",
       "3            NaN              {}  b2b20447-283e-4e82-9367-e9c1e4a5b52a   \n",
       "4            NaN              {}  46326c5c-357e-4e34-94bf-7f29c90e597f   \n",
       "5            NaN              {}  104c500f-d9b6-491e-bba9-299e347a699e   \n",
       "6            NaN              {}  e5bca5ae-1d28-4166-bf0e-ce91d7e69f62   \n",
       "7            NaN              {}  70d45bea-16b3-47e5-9673-f21281a49f8f   \n",
       "8            NaN              {}  a1bd3c81-08bd-4ed4-8e95-9102ce7b13c8   \n",
       "9            NaN              {}  b9bd590d-04a4-4255-a63d-c4272cd76f0f   \n",
       "10           NaN              {}  2bcaa848-23b7-4ca7-b77f-2598a78b2f49   \n",
       "11           NaN              {}  cc7a52f8-5661-40b1-b0b7-26d145c30a70   \n",
       "12           NaN              {}  5aed45ca-be75-4be5-80ba-d08aec96d4d5   \n",
       "13           NaN              {}  f0729de5-23ef-4014-8bba-8465a2ee8126   \n",
       "14           NaN              {}  e45449ea-11a5-4211-a0df-29ee6e3a3416   \n",
       "15           NaN              {}  bc72861d-d87d-41ea-980a-3070eb33ba9d   \n",
       "16           NaN              {}  bfdadbd1-0898-40d1-8a2e-e0543a045e3c   \n",
       "\n",
       "     ...   synchronization                                              table  \\\n",
       "0    ...               NaN  {'id': '12036b1e-3d24-494d-9c68-e1645904e6db',...   \n",
       "1    ...               NaN  {'id': 'fb2f0d31-7f9e-42dd-b3d4-8dd46923c3e0',...   \n",
       "2    ...               NaN  {'id': '4ff269f9-0e14-49e2-a018-2ebef8047b4d',...   \n",
       "3    ...               NaN  {'id': 'c25bb692-cb47-4f3a-b4d4-593187e011e7',...   \n",
       "4    ...               NaN  {'id': '717f5d0b-b3bb-4a14-bc4d-4a7e27acafcd',...   \n",
       "5    ...               NaN  {'id': 'adfd52e7-5aac-4aae-83ed-db14720089f5',...   \n",
       "6    ...               NaN  {'id': 'f084e530-e941-446f-9d2a-1d48c9c5561f',...   \n",
       "7    ...               NaN  {'id': '33e83d0f-99e6-4601-b0a5-c7f5a4412a4a',...   \n",
       "8    ...               NaN  {'id': 'ad43773d-b8f6-4687-80c8-fcdb4bfa5f6b',...   \n",
       "9    ...               NaN  {'id': '59407874-5017-422e-a8a5-09a7af9307f5',...   \n",
       "10   ...               NaN  {'id': '6382d55d-fa6f-47e2-b4dc-7b07242736f8',...   \n",
       "11   ...               NaN  {'id': 'a1d098ab-becb-4623-a4e5-01c5ff6c087a',...   \n",
       "12   ...               NaN  {'id': '01add1ff-ef6a-4042-bdea-25d2d62c109c',...   \n",
       "13   ...               NaN  {'id': '43636ea3-f039-43cb-a49c-38ea23fdb83c',...   \n",
       "14   ...               NaN  {'id': '7346f304-1502-4c1a-8967-a1c532602e36',...   \n",
       "15   ...               NaN  {'id': '9818072f-4c26-4e0f-b956-1f6559b48a1e',...   \n",
       "16   ...               NaN  {'id': 'c65c7482-6199-4568-ba7b-176bf2e7f864',...   \n",
       "\n",
       "                                    tags  title  transition_options   type  \\\n",
       "0   [water, dashboard, Aqueduct, alicia]    NaN         {'time': 0}  table   \n",
       "1                     [aqueduct, alicia]    NaN         {'time': 0}  table   \n",
       "2                     [aqueduct, alicia]    NaN         {'time': 0}  table   \n",
       "3                     [aqueduct, alicia]    NaN         {'time': 0}  table   \n",
       "4                     [aqueduct, alicia]    NaN         {'time': 0}  table   \n",
       "5                     [aqueduct, alicia]    NaN         {'time': 0}  table   \n",
       "6                     [aqueduct, alicia]    NaN         {'time': 0}  table   \n",
       "7                     [Aqueduct, alicia]    NaN         {'time': 0}  table   \n",
       "8                     [aqueduct, alicia]    NaN         {'time': 0}  table   \n",
       "9                     [aqueduct, alicia]    NaN         {'time': 0}  table   \n",
       "10                    [aqueduct, alicia]    NaN         {'time': 0}  table   \n",
       "11                    [aqueduct, alicia]    NaN         {'time': 0}  table   \n",
       "12                    [aqueduct, ALICIA]    NaN         {'time': 0}  table   \n",
       "13                     [aqueduct, ronny]    NaN         {'time': 0}  table   \n",
       "14                    [AQUEDUCT, ALICIA]    NaN         {'time': 0}  table   \n",
       "15                    [AQUEDUCT, alicia]    NaN         {'time': 0}  table   \n",
       "16                     [aqueduct, ronny]    NaN         {'time': 0}  table   \n",
       "\n",
       "            updated_at                                                url  \\\n",
       "0  2017-06-29 09:13:16  https://wri-rw.carto.com/tables/aqueduct_globa...   \n",
       "1  2017-06-01 16:28:46  https://wri-rw.carto.com/tables/hybas_merged_c...   \n",
       "2  2017-06-01 16:27:52               https://wri-rw.carto.com/tables/aqv3   \n",
       "3  2017-06-01 16:27:31  https://wri-rw.carto.com/tables/drought_severi...   \n",
       "4  2017-06-01 16:27:24  https://wri-rw.carto.com/tables/seasonal_varia...   \n",
       "5  2017-05-24 11:51:21        https://wri-rw.carto.com/tables/crops_stats   \n",
       "6  2017-05-24 11:50:05  https://wri-rw.carto.com/tables/wri_subcatchem...   \n",
       "7  2017-05-24 11:49:28  https://wri-rw.carto.com/tables/combined01_pre...   \n",
       "8  2017-05-24 11:49:04  https://wri-rw.carto.com/tables/water_risk_ind...   \n",
       "9  2017-05-24 11:47:59    https://wri-rw.carto.com/tables/all_crops_stats   \n",
       "10 2017-05-24 11:47:13  https://wri-rw.carto.com/tables/water_risk_wei...   \n",
       "11 2017-05-24 11:46:20  https://wri-rw.carto.com/tables/crops_countrie...   \n",
       "12 2017-05-24 11:43:55  https://wri-rw.carto.com/tables/impact_regions...   \n",
       "13 2017-05-24 11:43:29  https://wri-rw.carto.com/tables/all_crop_data_...   \n",
       "14 2017-05-24 11:43:23  https://wri-rw.carto.com/tables/aqueduct_globa...   \n",
       "15 2017-05-24 11:43:17  https://wri-rw.carto.com/tables/aqueduct_proje...   \n",
       "16 2017-05-24 11:35:33  https://wri-rw.carto.com/tables/aqueduct_water...   \n",
       "\n",
       "    uses_builder_features version  \n",
       "0                    True       3  \n",
       "1                    True       3  \n",
       "2                    True       3  \n",
       "3                    True       3  \n",
       "4                    True       3  \n",
       "5                    True       3  \n",
       "6                    True       3  \n",
       "7                    True       3  \n",
       "8                    True       3  \n",
       "9                    True       3  \n",
       "10                   True       3  \n",
       "11                   True       3  \n",
       "12                   True       3  \n",
       "13                   True       3  \n",
       "14                   True       3  \n",
       "15                   True       3  \n",
       "16                   True       3  \n",
       "\n",
       "[17 rows x 34 columns]"
      ]
     },
     "execution_count": 41,
     "metadata": {},
     "output_type": "execute_result"
    }
   ],
   "source": [
    "url = 'https://wri-rw.carto.com/api/v1/viz/?tag_name=aqueduct&type=&exclude_shared=false&per_page=1000&tags=aqueduct&types=table'\n",
    "r = requests.get(url)\n",
    "tableStructure= pd.read_json(json.dumps(r.json()['visualizations']), orient='records')\n",
    "tableStructure.head(17)\n",
    "\n"
   ]
  },
  {
   "cell_type": "code",
   "execution_count": null,
   "metadata": {
    "collapsed": true
   },
   "outputs": [],
   "source": [
    "\"\"\"\n",
    "https://carto.com/docs/carto-engine/import-api/quickstart\n",
    "\"\"\"\n",
    "\n",
    "\n",
    "def split_table(dataset, name):\n",
    "    \"\"\"\n",
    "    this function splits a table in x datasets to make it uploable to a carto account\n",
    "    \"\"\"\n",
    "    i=1\n",
    "    dataset_data=[]\n",
    "    for data in np.array_split(dataset, 1000000):\n",
    "        split_dataset_name = 'split'+'_'+name+'_'+str(i)+'.csv'\n",
    "        full_d_path = base_path+'/work/data/aqueduct/dst/aqueduct/v3/'+split_dataset_name\n",
    "        dataset.to_csv(full_d_path)\n",
    "        i=i+1\n",
    "        dataset_data.append({\"part_name\":split_dataset_name.split('.')[0],\"path\":full_d_path})\n",
    "    return {\"table_name\":name,\"parts\":dataset_data}\n",
    "    \n",
    "    \n",
    "    \n",
    "def upload_carto(parts):\n",
    "    \"\"\"\n",
    "    this function will upload a dataset into carto\n",
    "    \"\"\"\n",
    "    \n",
    "    \n",
    "def merge_carto(parts):\n",
    "    \"\"\"\n",
    "    this function will merge datasets into carto\n",
    "    \"\"\"\n",
    "    meta_sql = \"SELECT * INTO job_result FROM ({{query}}) AS job\"\n",
    "    sql=\"select {{columns}} from {{datasets}}\""
   ]
  }
 ],
 "metadata": {
  "kernelspec": {
   "display_name": "Python 3",
   "language": "python",
   "name": "python3"
  },
  "language_info": {
   "codemirror_mode": {
    "name": "ipython",
    "version": 3
   },
   "file_extension": ".py",
   "mimetype": "text/x-python",
   "name": "python",
   "nbconvert_exporter": "python",
   "pygments_lexer": "ipython3",
   "version": "3.6.1"
  },
  "latex_envs": {
   "LaTeX_envs_menu_present": true,
   "autocomplete": true,
   "bibliofile": "biblio.bib",
   "cite_by": "apalike",
   "current_citInitial": 1,
   "eqLabelWithNumbers": true,
   "eqNumInitial": 1,
   "hotkeys": {
    "equation": "Ctrl-E",
    "itemize": "Ctrl-I"
   },
   "labels_anchors": false,
   "latex_user_defs": false,
   "report_style_numbering": false,
   "user_envs_cfg": false
  },
  "varInspector": {
   "cols": {
    "lenName": 16,
    "lenType": 16,
    "lenVar": 40
   },
   "kernels_config": {
    "python": {
     "delete_cmd_postfix": "",
     "delete_cmd_prefix": "del ",
     "library": "var_list.py",
     "varRefreshCmd": "print(var_dic_list())"
    },
    "r": {
     "delete_cmd_postfix": ") ",
     "delete_cmd_prefix": "rm(",
     "library": "var_list.r",
     "varRefreshCmd": "cat(var_dic_list()) "
    }
   },
   "types_to_exclude": [
    "module",
    "function",
    "builtin_function_or_method",
    "instance",
    "_Feature"
   ],
   "window_display": false
  }
 },
 "nbformat": 4,
 "nbformat_minor": 2
}
