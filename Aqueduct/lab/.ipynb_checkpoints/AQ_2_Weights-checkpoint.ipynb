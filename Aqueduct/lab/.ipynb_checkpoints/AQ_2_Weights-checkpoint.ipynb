{
 "cells": [
  {
   "cell_type": "code",
   "execution_count": 1,
   "metadata": {
    "ExecuteTime": {
     "end_time": "2017-06-07T15:06:55.436145Z",
     "start_time": "2017-06-07T15:06:54.199452Z"
    },
    "collapsed": true
   },
   "outputs": [],
   "source": [
    "%matplotlib inline\n",
    "import numpy as np\n",
    "import matplotlib.pyplot as plt\n",
    "import requests\n",
    "import json\n",
    "import pandas as pd\n",
    "import collections\n",
    "from ipywidgets import *\n",
    "from IPython.display import display"
   ]
  },
  {
   "cell_type": "markdown",
   "metadata": {},
   "source": [
    "# Weights"
   ]
  },
  {
   "cell_type": "markdown",
   "metadata": {},
   "source": [
    "**carto account:** wri-01  \n",
    "**Table that holds weights:** water_risk_weights\n",
    "\n",
    "\n",
    "This is divided on a set of predefined weights layers and a custom one:\n",
    "\n",
    "|Weight indicator name |Weight indicator slug  |  preset weights |\n",
    "|---|---|---| \n",
    "|Default weight overall water risk| _default | [4, 1, 0.5, 1, 1, 2, 2, 1, 0.5, 1, 2, 0.5] |\n",
    "|Default weight physical risk quantity| def_pquant | [] |\n",
    "|Default weight physical risk quality| def_pqual | [] |\n",
    "|Default weight regulatory and reputational risk| def_regrep | [] |\n",
    "\n",
    "* **Predifined weights layers**:  \n",
    "\n",
    "|Weight indicator name |Weight indicator slug  |  preset weights |\n",
    "|---|---|---| \n",
    "|Default weight overall water risk| _default | [4, 1, 0.5, 1, 1, 2, 2, 1, 0.5, 1, 2, 0.5] |  \n",
    "|Default agriculture sector weight overall water risk| w_agr | [4, 2, 0.5, 1, 2, 2, 2, 0.5, 0.25, 0.25, 2, 1] |  \n",
    "|Default power sector weight overall water risk| w_power | [4, 1, 2, 1, 4, 1, 1, 0.25, None, 0.5, 0.5, 2] |  \n",
    "|Default semiconductor sector weight overall water risk| w_semico | [4, 1, 1, 1, 1, 2, 2, 4, 2, 2, 1, 2] |  \n",
    "|Default oil and gas sector weight overall water risk| w_oilgas | [1, 0.5, 0.5, 0.5, 1, 1, 4, 0.25, None, 4, 4, 1] |  \n",
    "|Default chemical sector weight overall water risk| w_chem | [2, 1, 1, 1, 4, 1, 2, 2, 0.5, 4, 4, 2] |  \n",
    "|Default mining sector weight overall water risk| w_mine | [4, 1, 1, 4, 0.5, 1, 4, 1, 0.25, 4, 4, 1] |  \n",
    "|Default food and beverage sector weight overall water risk| w_foodbv | [2, 1, 0.5, 0.5, 1, 2, 1, 2, 1, 2, 1, 0.5] |  \n",
    "|Default construction materials sector weight overall water risk| w_constr | [4, 1, 0.5, 1, 1, 2, 2, 1, 0.5, 0.5, 1, 0.25] |  \n",
    "|Default textile sector weight overall water risk| w_tex | [4, 1, 0.5, 1, 1, 2, 2, 2, 0.5, 1, 2, 0.5] |  \n",
    "\n",
    "\n",
    "* **Custom weight layer calculated by the user**"
   ]
  },
  {
   "cell_type": "markdown",
   "metadata": {},
   "source": [
    "## Predifined weights layers"
   ]
  },
  {
   "cell_type": "markdown",
   "metadata": {},
   "source": [
    "Example query\n",
    "\n",
    "``` sql\n",
    "SELECT s.basinid, _default, r.the_geom_webmercator from water_risk_weights s left join wri_subcatchements r on s.basinid=r.basinid\n",
    "``` \n",
    "```css\n",
    "#water_risk_indicators{\n",
    "  polygon-fill:transparent;\n",
    "  polygon-opacity: 1;\n",
    "  line-color:transparent;\n",
    "  line-width: 1;\n",
    "  line-opacity: 1;\n",
    "}\n",
    "\n",
    "#water_risk_indicators [ _default<1000] {\n",
    "   polygon-fill:#B10026;\n",
    "  line-color:#B10026\n",
    "}\n",
    "#water_risk_indicators [ _default<4] {\n",
    "   polygon-fill:  #FC4E2A;\n",
    "  line-color:  #FC4E2A\n",
    "}\n",
    "#water_risk_indicators [_default<3] {\n",
    "   polygon-fill: #FD8D3C;\n",
    "  line-color: #FD8D3C\n",
    "}\n",
    "#water_risk_indicators [_default<2] {\n",
    "   polygon-fill: #FED976;\n",
    "  line-color:  #FED976\n",
    "}\n",
    "#water_risk_indicators [_default<1] {\n",
    "   polygon-fill: #FFFFB2;\n",
    "  line-color:  #FFFFB2\n",
    "}\n",
    "\n",
    "#water_risk_indicators [_default=0] {\n",
    "   polygon-fill: #eee;\n",
    "  line-color:  #eee\n",
    "}\n",
    "``` \n",
    "Sql Template:\n",
    "``` sql\n",
    "SELECT s.basinid, {{weight_indicator}}, r.the_geom_webmercator from water_risk_weights s left join wri_subcatchements r on s.basinid=r.basinid\n",
    "``` \n",
    "\n",
    "Cartocss:\n",
    "\n",
    "```css\n",
    "#water_risk_indicators{\n",
    "  polygon-fill:transparent;\n",
    "  polygon-opacity: 1;\n",
    "  line-color:transparent;\n",
    "  line-width: 1;\n",
    "  line-opacity: 1;\n",
    "}\n",
    "\n",
    "#water_risk_indicators [ {{weight_indicator}}<1000] {\n",
    "   polygon-fill:#B10026;\n",
    "  line-color:#B10026\n",
    "}\n",
    "#water_risk_indicators [{{weight_indicator}}<4] {\n",
    "   polygon-fill:  #FC4E2A;\n",
    "  line-color:  #FC4E2A\n",
    "}\n",
    "#water_risk_indicators [{{weight_indicator}}<3] {\n",
    "   polygon-fill: #FD8D3C;\n",
    "  line-color: #FD8D3C\n",
    "}\n",
    "#water_risk_indicators [{{weight_indicator}}<2] {\n",
    "   polygon-fill: #FED976;\n",
    "  line-color:  #FED976\n",
    "}\n",
    "#water_risk_indicators [{{weight_indicator}}<1] {\n",
    "   polygon-fill: #FFFFB2;\n",
    "  line-color:  #FFFFB2\n",
    "}\n",
    "\n",
    "#water_risk_indicators [_default=0] {\n",
    "   polygon-fill: #eee;\n",
    "  line-color:  #eee\n",
    "}\n",
    "```\n",
    "\n",
    "* parameters:   \n",
    "\n",
    "``` json \n",
    "\n",
    "``` "
   ]
  },
  {
   "cell_type": "markdown",
   "metadata": {
    "ExecuteTime": {
     "end_time": "2017-03-23T17:05:17.682148",
     "start_time": "2017-03-23T17:05:17.669325"
    }
   },
   "source": [
    "## Old custom weight layer calculated by the user\n",
    "We have 12 indicators. Grouped in 3 categories. Which weight range values are: **[0.25, 0.5, 1, 2, 4]**   \n",
    "\n",
    "This will cover the weight widget calculation and the weights passed to back to generate the custom layer.   "
   ]
  },
  {
   "cell_type": "markdown",
   "metadata": {},
   "source": [
    "### Weight widget data calculation"
   ]
  },
  {
   "cell_type": "code",
   "execution_count": 2,
   "metadata": {
    "ExecuteTime": {
     "end_time": "2017-06-07T15:06:57.005289Z",
     "start_time": "2017-06-07T15:06:56.984798Z"
    },
    "collapsed": true
   },
   "outputs": [],
   "source": [
    "def slider(i):\n",
    "    return widgets.IntSlider(\n",
    "    value=3,\n",
    "    min=1,\n",
    "    max=5,\n",
    "    step=1,\n",
    "    description='Indicator {0}'.format(i),\n",
    "    disabled=False,\n",
    "    continuous_update=False,\n",
    "    orientation='horizontal',\n",
    "    readout=False,\n",
    "    readout_format='.1f',\n",
    "    slider_color='',\n",
    "    layout=widgets.Layout(width='150px', height='30px')\n",
    ")\n"
   ]
  },
  {
   "cell_type": "code",
   "execution_count": 3,
   "metadata": {
    "ExecuteTime": {
     "end_time": "2017-06-07T15:06:58.026663Z",
     "start_time": "2017-06-07T15:06:57.659893Z"
    }
   },
   "outputs": [
    {
     "data": {
      "application/vnd.jupyter.widget-view+json": {
       "model_id": "ad0eec10e10d4ecbaf1c6144e13ccc82"
      }
     },
     "metadata": {},
     "output_type": "display_data"
    }
   ],
   "source": [
    "## Agrupation [  regulatory   ] [  Quality  ] [             Quantity                 ]\n",
    "#  indicator [ 1     2     3 ] [ 4      5  ] [   6      7     8     9   10   11  12 ]\n",
    "#weights = [[0.25, 0.25, 0.25], [0.25, 0.25], [0.25, 0.25, 0.25, 0.25, 2, 0.25, 0.25]]\n",
    "#calculation\n",
    "def weightScheme(**kargs):\n",
    "    wvals= {'1':0.25, '2':0.5, '3':1, '4':2, '5':4}\n",
    "    orderedk= collections.OrderedDict(sorted(kargs.items(), key=lambda t: t[0]))\n",
    "    das = np.asarray([wvals[str(i[1])] for i in orderedk.items()])\n",
    "    weights=[[das[0],das[4]],das[5:8],np.concatenate((das[8:13], das[1:4]), axis=0)]\n",
    "    print(weights)\n",
    "    total = (np.sum(weights[0]) + np.sum(weights[1]) + np.sum(weights[2]))\n",
    "    regulatory = (np.sum(weights[0]) / total)*100\n",
    "    quality = (np.sum(weights[1]) / total)*100\n",
    "    quantity = (np.sum(weights[2]) / total)*100\n",
    "    sizes = [regulatory, quality, quantity]\n",
    "\n",
    "    #vissual\n",
    "    labels = 'Regulatory', 'Quality', 'Quantity'\n",
    "    theta = ('m', 'y', 'w')\n",
    "    explode = (0, 0, 0, 0)\n",
    "    fig1, ax1 = plt.subplots()\n",
    "    ax1.pie(sizes,  labels=labels, autopct='%1.2f%%', colors=theta, shadow=True, startangle=90)\n",
    "    ax1.axis('equal')\n",
    "    plt.show()\n",
    "    \n",
    "#weightScheme(weights)\n",
    "kargs = collections.OrderedDict(sorted({'ind{0}'.format(i): slider(i) for i in range(1,13)}.items(), key=lambda t: t[0]))\n",
    "w = interactive(weightScheme, **kargs)\n",
    "#print(type(w))\n",
    "#print(w.keys)\n",
    "#print(w.children)\n",
    "w.children[12].layout=Layout(width='100%', height='300px')\n",
    "HBox([VBox(sorted(w.children[:11], key=lambda t: t.description.split(' ', 1 ))),w.children[12]], layout = Layout(width='100%', height='300px'))"
   ]
  },
  {
   "cell_type": "markdown",
   "metadata": {},
   "source": [
    "## Weight passed to back for the custom weight layer;\n",
    "\n",
    "Procedure definition:\n",
    "\n",
    "``` sql\n",
    "DROP FUNCTION get_custom_weight(weights_raw TEXT); \n",
    "\n",
    "DROP TYPE weight_water_risk;\n",
    "\n",
    "CREATE TYPE weight_water_risk AS (cartodb_id numeric, basinid numeric, the_geom geometry, the_geom_webmercator geometry, water_risk numeric);\n",
    "\n",
    "CREATE OR REPLACE FUNCTION get_custom_weight(weights_raw TEXT) \n",
    "\tRETURNS SETOF weight_water_risk as $$\n",
    "\tDECLARE\n",
    "    query1 TEXT;\n",
    "    weights TEXT;\n",
    "    weights_sum TEXT;\n",
    "\tBEGIN\n",
    "        query1:='select array_to_string(array_agg(col::text ||''*''|| weights::text), ''+ '') as weights, sum(weights)::text as weights_sum from (select unnest(Array'|| weights_raw||') as weights, unnest(array[''bws_s'', ''wsv_s'', ''sv_s'', ''hfo_s'', ''dro_s'', ''stor_s'', ''gw_s'', ''wri_s'', ''eco_s_s'', ''mc_s'', ''wcg_s'', ''eco_v_s'']) as col) as tables where weights is not null';\n",
    "        EXECUTE query1 into weights, weights_sum;\n",
    "        \n",
    "\t\tRETURN query EXECUTE 'with ranges as (select basinid, average, min(average) over (), max(average) over () from (SELECT basinid, ('|| weights ||')/('|| weights_sum ||') as average FROM water_risk_weights) initial) select cartodb_id::numeric, ranges.basinid::numeric, the_geom, the_geom_webmercator, (((average-min)/(max-min))*5)::numeric as water_risk from ranges left join wri_subcatchements on ranges.basinid=wri_subcatchements.basinid';\n",
    "\t\n",
    "\tEND\n",
    "$$ language 'plpgsql';\n",
    "\n",
    "``` \n",
    "\n",
    "\n",
    "\n",
    "### Old indicators order\n",
    "[New Indicators list reference](https://docs.google.com/spreadsheets/d/11GWSY4HZdskCFoVpGCTmzMw8evifIZfHDi6_UaoGQFE/edit#gid=0)\n",
    "\n",
    "| Family |Indicator name| slug |\n",
    "|---|---|--- |\n",
    "| Physical Risk Quantity |Baseline Water Stress  | water_stress |\n",
    "| Physical Risk Quantity |Interannual Variability  |  interannual_variability |\n",
    "| Physical Risk Quantity |Seasonal Variability  | seasonal_variability  |\n",
    "| Physical Risk Quantity |Flood Occurrence  |  flood_occurrence |\n",
    "| Physical Risk Quantity |Drought Severity  | drought_severity  |\n",
    "| Physical Risk Quantity |Upstream Storage  | upstream_storage |\n",
    "| Physical Risk Quantity |Groundwater Stress  | groundwater_stress|\n",
    "| Physical Risk Quality |Return Flow Ratio  | return_flow_ratio |\n",
    "| Physical Risk Quality |Upstream Protected Land  | upstream_protected_land |\n",
    "| Regulatory & Reputational Risk |Media Coverage   |media_coverage  |\n",
    "| Regulatory & Reputational Risk |Access to Water   |access_to_water  |\n",
    "| Regulatory & Reputational Risk |Threatened Amphibians  |threatened_amphibians|\n",
    "\n",
    "\n",
    "\n",
    "Sql:\n",
    "``` sql\n",
    "select * from get_custom_weight('[4, 1, 0.5, 1, 1, 2, 2, 1, 0.5, 1, 2, 0.5]')\n",
    "\n",
    "``` \n",
    "\n",
    "Cartocss:\n",
    "\n",
    "```css\n",
    "#water_risk_indicators{\n",
    "  polygon-fill:transparent;\n",
    "  polygon-opacity: 1;\n",
    "  line-color:transparent;\n",
    "  line-width: 1;\n",
    "  line-opacity: 1;\n",
    "}\n",
    "\n",
    "#water_risk_indicators [ water_risk<1000] {\n",
    "   polygon-fill:#B10026;\n",
    "  line-color:#B10026\n",
    "}\n",
    "#water_risk_indicators [ water_risk<4] {\n",
    "   polygon-fill:  #FC4E2A;\n",
    "  line-color:  #FC4E2A\n",
    "}\n",
    "#water_risk_indicators [water_risk<3] {\n",
    "   polygon-fill: #FD8D3C;\n",
    "  line-color: #FD8D3C\n",
    "}\n",
    "#water_risk_indicators [water_risk<2] {\n",
    "   polygon-fill: #FED976;\n",
    "  line-color:  #FED976\n",
    "}\n",
    "#water_risk_indicators [water_risk<1] {\n",
    "   polygon-fill: #FFFFB2;\n",
    "  line-color:  #FFFFB2\n",
    "}\n",
    "\n",
    "#water_risk_indicators [water_risk=0] {\n",
    "   polygon-fill: #eee;\n",
    "  line-color:  #eee\n",
    "}\n",
    "```\n",
    "\n",
    "* parameters:   \n",
    "\n",
    "``` json \n",
    "\n",
    "``` \n",
    "\n"
   ]
  },
  {
   "cell_type": "code",
   "execution_count": null,
   "metadata": {
    "ExecuteTime": {
     "end_time": "2017-03-28T15:50:44.820102",
     "start_time": "2017-03-28T15:50:43.349599"
    },
    "collapsed": true
   },
   "outputs": [],
   "source": [
    "payload = {'q': \"SELECT * FROM get_custom_weight('[4, 1, 0.5, 1, 1, 2, 2, 1, 0.5, 1, 2, 0.5]') Limit 1\"}\n",
    "r = requests.get('https://wri-01.carto.com/api/v2/sql', params=payload)\n",
    "\n",
    "tableStructure= pd.read_json(json.dumps(r.json()['rows']), orient='records')\n",
    "tableStructure.head(1)"
   ]
  },
  {
   "cell_type": "markdown",
   "metadata": {},
   "source": [
    "# Anexe: weights table query creation:\n",
    "\n",
    "``` sql\n",
    "\n",
    "```\n"
   ]
  },
  {
   "cell_type": "code",
   "execution_count": null,
   "metadata": {
    "ExecuteTime": {
     "end_time": "2017-03-28T15:50:47.471313",
     "start_time": "2017-03-28T15:50:47.457224"
    },
    "collapsed": true
   },
   "outputs": [],
   "source": [
    "columns = ['BWS_s', 'WSV_s', 'SV_s', 'HFO_s', 'DRO_s', 'STOR_s', 'GW_s', 'WRI_s', 'ECO_S_s', 'MC_s', 'WCG_s', 'ECO_V_s', '_DEFAULT', 'DEF_PQUANT', 'DEF_PQUAL', 'DEF_REGREP', 'W_AGR', 'W_POWER', 'W_SEMICO', 'W_OILGAS', 'W_CHEM', 'W_MINE', 'W_FOODBV', 'W_CONSTR', 'W_TEX']\n",
    "cols=[]\n",
    "for x in columns: \n",
    "    cols.append(x.lower())\n",
    "'select basinid, ' + ', '.join(cols)  + ' from aqueduct_global_dl_20150409'"
   ]
  },
  {
   "cell_type": "markdown",
   "metadata": {},
   "source": [
    "update columns to get ride of value -32767 \n",
    "```sql\n",
    "update water_risk_weights set {{indicator}}=null where {{indicator}}=-32767\n",
    "``` "
   ]
  },
  {
   "cell_type": "code",
   "execution_count": null,
   "metadata": {
    "ExecuteTime": {
     "end_time": "2017-03-28T15:50:59.208121",
     "start_time": "2017-03-28T15:50:59.191613"
    },
    "collapsed": true
   },
   "outputs": [],
   "source": [
    "for indicator in cols:\n",
    "    print('update water_risk_weights set '+indicator+'=0 where '+indicator+' is null;')"
   ]
  },
  {
   "cell_type": "code",
   "execution_count": null,
   "metadata": {
    "collapsed": true
   },
   "outputs": [],
   "source": []
  }
 ],
 "metadata": {
  "kernelspec": {
   "display_name": "Python 3",
   "language": "python",
   "name": "python3"
  },
  "language_info": {
   "codemirror_mode": {
    "name": "ipython",
    "version": 3
   },
   "file_extension": ".py",
   "mimetype": "text/x-python",
   "name": "python",
   "nbconvert_exporter": "python",
   "pygments_lexer": "ipython3",
   "version": "3.5.3"
  },
  "latex_envs": {
   "LaTeX_envs_menu_present": true,
   "autocomplete": true,
   "bibliofile": "biblio.bib",
   "cite_by": "apalike",
   "current_citInitial": 1,
   "eqLabelWithNumbers": true,
   "eqNumInitial": 1,
   "hotkeys": {
    "equation": "Ctrl-E",
    "itemize": "Ctrl-I"
   },
   "labels_anchors": false,
   "latex_user_defs": false,
   "report_style_numbering": false,
   "user_envs_cfg": false
  },
  "varInspector": {
   "cols": {
    "lenName": 16,
    "lenType": 16,
    "lenVar": 40
   },
   "kernels_config": {
    "python": {
     "delete_cmd_postfix": "",
     "delete_cmd_prefix": "del ",
     "library": "var_list.py",
     "varRefreshCmd": "print(var_dic_list())"
    },
    "r": {
     "delete_cmd_postfix": ") ",
     "delete_cmd_prefix": "rm(",
     "library": "var_list.r",
     "varRefreshCmd": "cat(var_dic_list()) "
    }
   },
   "types_to_exclude": [
    "module",
    "function",
    "builtin_function_or_method",
    "instance",
    "_Feature"
   ],
   "window_display": false
  },
  "widgets": {
   "application/vnd.jupyter.widget-state+json": {
    "state": {
     "01a7abfc0ff0457a90911a02b9a9a09a": {
      "model_module": "jupyter-js-widgets",
      "model_module_version": "~2.1.4",
      "model_name": "LayoutModel",
      "state": {
       "_model_module_version": "~2.1.4",
       "_view_module_version": "~2.1.4",
       "height": "300px",
       "width": "100%"
      }
     },
     "02011b4003a04349a28213fd5a388784": {
      "model_module": "jupyter-js-widgets",
      "model_module_version": "~2.1.4",
      "model_name": "LayoutModel",
      "state": {
       "_model_module_version": "~2.1.4",
       "_view_module_version": "~2.1.4",
       "height": "30px",
       "width": "150px"
      }
     },
     "03f01be7919e4140b5cbaa384978537c": {
      "model_module": "jupyter-js-widgets",
      "model_module_version": "~2.1.4",
      "model_name": "VBoxModel",
      "state": {
       "_dom_classes": [
        "widget-interact"
       ],
       "_model_module_version": "~2.1.4",
       "_view_module_version": "~2.1.4",
       "children": [
        "IPY_MODEL_075f3b3c0afb4457a5f3513ed7aa5f20",
        "IPY_MODEL_ae3d04b13626438a9bf049199603a794",
        "IPY_MODEL_e4c0a67e4e7c451d92ac7c49329a6272",
        "IPY_MODEL_c757b4611c7e4c01899391ea190d4acb",
        "IPY_MODEL_8aeab4bb177b47c1ae5a78dd66b14651",
        "IPY_MODEL_7239d9e5fe594978a8c5682c7aef7c81",
        "IPY_MODEL_fd297fb963104b86a36e79e8ac010cf6",
        "IPY_MODEL_6f81fe6483354a64897912719e5f723e",
        "IPY_MODEL_45237781e3c344b1a10ad49d9dc147ff",
        "IPY_MODEL_da0d9a60d34546358ebee11291a4b174",
        "IPY_MODEL_e1b9dd76f0e74fce96e23a978b60f2f2",
        "IPY_MODEL_9bf48aaef0044ecc870469c6a8d7bbd2",
        "IPY_MODEL_c27d20bee6a8425a9ba78873a11fa15e"
       ],
       "layout": "IPY_MODEL_99e031246c7b4bbb9e4f26f8e5ade298"
      }
     },
     "075f3b3c0afb4457a5f3513ed7aa5f20": {
      "model_module": "jupyter-js-widgets",
      "model_module_version": "~2.1.4",
      "model_name": "IntSliderModel",
      "state": {
       "_model_module_version": "~2.1.4",
       "_view_module_version": "~2.1.4",
       "continuous_update": false,
       "description": "Indicator 2",
       "layout": "IPY_MODEL_72e683527e5445a896fb6c90f5ad99f9",
       "max": 5,
       "min": 1,
       "readout": false,
       "readout_format": ".1f",
       "style": "IPY_MODEL_8eb6c0ea785a4faa903af52201a3232f",
       "value": 1
      }
     },
     "09bf7f9e26b74940897ac91cf1190c03": {
      "model_module": "jupyter-js-widgets",
      "model_module_version": "~2.1.4",
      "model_name": "LayoutModel",
      "state": {
       "_model_module_version": "~2.1.4",
       "_view_module_version": "~2.1.4",
       "height": "30px",
       "width": "150px"
      }
     },
     "0cd56758305b41c0aaca5bc4ba3a42a5": {
      "model_module": "jupyter-js-widgets",
      "model_module_version": "~2.1.4",
      "model_name": "SliderStyleModel",
      "state": {
       "_model_module_version": "~2.1.4",
       "_view_module_version": "~2.1.4"
      }
     },
     "0f9b4045201d4d50bd12d908fb447317": {
      "model_module": "jupyter-js-widgets",
      "model_module_version": "~2.1.4",
      "model_name": "SliderStyleModel",
      "state": {
       "_model_module_version": "~2.1.4",
       "_view_module_version": "~2.1.4"
      }
     },
     "0ffa9ba3643044cdafe9968238e4226e": {
      "model_module": "jupyter-js-widgets",
      "model_module_version": "~2.1.4",
      "model_name": "SliderStyleModel",
      "state": {
       "_model_module_version": "~2.1.4",
       "_view_module_version": "~2.1.4"
      }
     },
     "2905833958454f098b7f67c783dbe598": {
      "model_module": "jupyter-js-widgets",
      "model_module_version": "~2.1.4",
      "model_name": "SliderStyleModel",
      "state": {
       "_model_module_version": "~2.1.4",
       "_view_module_version": "~2.1.4"
      }
     },
     "401a75e72baa450795973f315c3868db": {
      "model_module": "jupyter-js-widgets",
      "model_module_version": "~2.1.4",
      "model_name": "SliderStyleModel",
      "state": {
       "_model_module_version": "~2.1.4",
       "_view_module_version": "~2.1.4"
      }
     },
     "45237781e3c344b1a10ad49d9dc147ff": {
      "model_module": "jupyter-js-widgets",
      "model_module_version": "~2.1.4",
      "model_name": "IntSliderModel",
      "state": {
       "_model_module_version": "~2.1.4",
       "_view_module_version": "~2.1.4",
       "continuous_update": false,
       "description": "Indicator 3",
       "layout": "IPY_MODEL_ed28fc182ea34622b8ee2a2b23aaacec",
       "max": 5,
       "min": 1,
       "readout": false,
       "readout_format": ".1f",
       "style": "IPY_MODEL_8cfe98acc18a495f9ea9047ae98d6e59",
       "value": 1
      }
     },
     "48045b801cc14b90a496fcc36d4d4e8c": {
      "model_module": "jupyter-js-widgets",
      "model_module_version": "~2.1.4",
      "model_name": "LayoutModel",
      "state": {
       "_model_module_version": "~2.1.4",
       "_view_module_version": "~2.1.4",
       "height": "30px",
       "width": "150px"
      }
     },
     "4e59004123ee4029aa71ecee969c423c": {
      "model_module": "jupyter-js-widgets",
      "model_module_version": "~2.1.4",
      "model_name": "LayoutModel",
      "state": {
       "_model_module_version": "~2.1.4",
       "_view_module_version": "~2.1.4",
       "height": "30px",
       "width": "150px"
      }
     },
     "4f4e15541d214f919755c8a91eb897e9": {
      "model_module": "jupyter-js-widgets",
      "model_module_version": "~2.1.4",
      "model_name": "SliderStyleModel",
      "state": {
       "_model_module_version": "~2.1.4",
       "_view_module_version": "~2.1.4"
      }
     },
     "5b59e26961474a5da744e7be4ee83ab2": {
      "model_module": "jupyter-js-widgets",
      "model_module_version": "~2.1.4",
      "model_name": "LayoutModel",
      "state": {
       "_model_module_version": "~2.1.4",
       "_view_module_version": "~2.1.4",
       "height": "30px",
       "width": "150px"
      }
     },
     "6f81fe6483354a64897912719e5f723e": {
      "model_module": "jupyter-js-widgets",
      "model_module_version": "~2.1.4",
      "model_name": "IntSliderModel",
      "state": {
       "_model_module_version": "~2.1.4",
       "_view_module_version": "~2.1.4",
       "continuous_update": false,
       "description": "Indicator 8",
       "layout": "IPY_MODEL_4e59004123ee4029aa71ecee969c423c",
       "max": 5,
       "min": 1,
       "readout": false,
       "readout_format": ".1f",
       "style": "IPY_MODEL_aaa5009c7e3c4bb682b16c222ce06a44",
       "value": 5
      }
     },
     "7239d9e5fe594978a8c5682c7aef7c81": {
      "model_module": "jupyter-js-widgets",
      "model_module_version": "~2.1.4",
      "model_name": "IntSliderModel",
      "state": {
       "_model_module_version": "~2.1.4",
       "_view_module_version": "~2.1.4",
       "continuous_update": false,
       "description": "Indicator 11",
       "layout": "IPY_MODEL_48045b801cc14b90a496fcc36d4d4e8c",
       "max": 5,
       "min": 1,
       "readout": false,
       "readout_format": ".1f",
       "style": "IPY_MODEL_0f9b4045201d4d50bd12d908fb447317",
       "value": 5
      }
     },
     "72e683527e5445a896fb6c90f5ad99f9": {
      "model_module": "jupyter-js-widgets",
      "model_module_version": "~2.1.4",
      "model_name": "LayoutModel",
      "state": {
       "_model_module_version": "~2.1.4",
       "_view_module_version": "~2.1.4",
       "height": "30px",
       "width": "150px"
      }
     },
     "81f574278c4d4cd78e499e5b60a734e7": {
      "model_module": "jupyter-js-widgets",
      "model_module_version": "~2.1.4",
      "model_name": "LayoutModel",
      "state": {
       "_model_module_version": "~2.1.4",
       "_view_module_version": "~2.1.4",
       "height": "30px",
       "width": "150px"
      }
     },
     "8aeab4bb177b47c1ae5a78dd66b14651": {
      "model_module": "jupyter-js-widgets",
      "model_module_version": "~2.1.4",
      "model_name": "IntSliderModel",
      "state": {
       "_model_module_version": "~2.1.4",
       "_view_module_version": "~2.1.4",
       "continuous_update": false,
       "description": "Indicator 7",
       "layout": "IPY_MODEL_eee630ae95c447eca0309dff4514a89b",
       "max": 5,
       "min": 1,
       "readout": false,
       "readout_format": ".1f",
       "style": "IPY_MODEL_2905833958454f098b7f67c783dbe598",
       "value": 4
      }
     },
     "8cfe98acc18a495f9ea9047ae98d6e59": {
      "model_module": "jupyter-js-widgets",
      "model_module_version": "~2.1.4",
      "model_name": "SliderStyleModel",
      "state": {
       "_model_module_version": "~2.1.4",
       "_view_module_version": "~2.1.4"
      }
     },
     "8eb6c0ea785a4faa903af52201a3232f": {
      "model_module": "jupyter-js-widgets",
      "model_module_version": "~2.1.4",
      "model_name": "SliderStyleModel",
      "state": {
       "_model_module_version": "~2.1.4",
       "_view_module_version": "~2.1.4"
      }
     },
     "90df999bf4124c68a532082b9885894f": {
      "model_module": "jupyter-js-widgets",
      "model_module_version": "~2.1.4",
      "model_name": "LayoutModel",
      "state": {
       "_model_module_version": "~2.1.4",
       "_view_module_version": "~2.1.4",
       "height": "30px",
       "width": "150px"
      }
     },
     "9522dc1e697340a1971cda73b9613428": {
      "model_module": "jupyter-js-widgets",
      "model_module_version": "~2.1.4",
      "model_name": "SliderStyleModel",
      "state": {
       "_model_module_version": "~2.1.4",
       "_view_module_version": "~2.1.4"
      }
     },
     "9651d1d092a24969a46ff9e890ceccaf": {
      "model_module": "jupyter-js-widgets",
      "model_module_version": "~2.1.4",
      "model_name": "LayoutModel",
      "state": {
       "_model_module_version": "~2.1.4",
       "_view_module_version": "~2.1.4"
      }
     },
     "99e031246c7b4bbb9e4f26f8e5ade298": {
      "model_module": "jupyter-js-widgets",
      "model_module_version": "~2.1.4",
      "model_name": "LayoutModel",
      "state": {
       "_model_module_version": "~2.1.4",
       "_view_module_version": "~2.1.4"
      }
     },
     "9bf48aaef0044ecc870469c6a8d7bbd2": {
      "model_module": "jupyter-js-widgets",
      "model_module_version": "~2.1.4",
      "model_name": "IntSliderModel",
      "state": {
       "_model_module_version": "~2.1.4",
       "_view_module_version": "~2.1.4",
       "continuous_update": false,
       "description": "Indicator 4",
       "layout": "IPY_MODEL_5b59e26961474a5da744e7be4ee83ab2",
       "max": 5,
       "min": 1,
       "readout": false,
       "readout_format": ".1f",
       "style": "IPY_MODEL_a3ecf94587c54a8a9ddffa95364c3f93",
       "value": 3
      }
     },
     "a3ecf94587c54a8a9ddffa95364c3f93": {
      "model_module": "jupyter-js-widgets",
      "model_module_version": "~2.1.4",
      "model_name": "SliderStyleModel",
      "state": {
       "_model_module_version": "~2.1.4",
       "_view_module_version": "~2.1.4"
      }
     },
     "aaa5009c7e3c4bb682b16c222ce06a44": {
      "model_module": "jupyter-js-widgets",
      "model_module_version": "~2.1.4",
      "model_name": "SliderStyleModel",
      "state": {
       "_model_module_version": "~2.1.4",
       "_view_module_version": "~2.1.4"
      }
     },
     "ad0eec10e10d4ecbaf1c6144e13ccc82": {
      "model_module": "jupyter-js-widgets",
      "model_module_version": "~2.1.4",
      "model_name": "HBoxModel",
      "state": {
       "_model_module_version": "~2.1.4",
       "_view_module_version": "~2.1.4",
       "children": [
        "IPY_MODEL_b2f8ba58ef514d76a292d3460144a8ec",
        "IPY_MODEL_c27d20bee6a8425a9ba78873a11fa15e"
       ],
       "layout": "IPY_MODEL_c79cedb5eaec490f81708ea9b16dfabe"
      }
     },
     "ae3d04b13626438a9bf049199603a794": {
      "model_module": "jupyter-js-widgets",
      "model_module_version": "~2.1.4",
      "model_name": "IntSliderModel",
      "state": {
       "_model_module_version": "~2.1.4",
       "_view_module_version": "~2.1.4",
       "continuous_update": false,
       "description": "Indicator 1",
       "layout": "IPY_MODEL_c7f30db9e4cf4e379487519adb58ef79",
       "max": 5,
       "min": 1,
       "readout": false,
       "readout_format": ".1f",
       "style": "IPY_MODEL_0ffa9ba3643044cdafe9968238e4226e",
       "value": 3
      }
     },
     "b2f8ba58ef514d76a292d3460144a8ec": {
      "model_module": "jupyter-js-widgets",
      "model_module_version": "~2.1.4",
      "model_name": "VBoxModel",
      "state": {
       "_model_module_version": "~2.1.4",
       "_view_module_version": "~2.1.4",
       "children": [
        "IPY_MODEL_ae3d04b13626438a9bf049199603a794",
        "IPY_MODEL_e1b9dd76f0e74fce96e23a978b60f2f2",
        "IPY_MODEL_7239d9e5fe594978a8c5682c7aef7c81",
        "IPY_MODEL_c757b4611c7e4c01899391ea190d4acb",
        "IPY_MODEL_075f3b3c0afb4457a5f3513ed7aa5f20",
        "IPY_MODEL_45237781e3c344b1a10ad49d9dc147ff",
        "IPY_MODEL_e4c0a67e4e7c451d92ac7c49329a6272",
        "IPY_MODEL_fd297fb963104b86a36e79e8ac010cf6",
        "IPY_MODEL_8aeab4bb177b47c1ae5a78dd66b14651",
        "IPY_MODEL_6f81fe6483354a64897912719e5f723e",
        "IPY_MODEL_da0d9a60d34546358ebee11291a4b174"
       ],
       "layout": "IPY_MODEL_9651d1d092a24969a46ff9e890ceccaf"
      }
     },
     "b75d733ab36c43b88c088b934b967ee7": {
      "model_module": "jupyter-js-widgets",
      "model_module_version": "~2.1.4",
      "model_name": "LayoutModel",
      "state": {
       "_model_module_version": "~2.1.4",
       "_view_module_version": "~2.1.4",
       "height": "30px",
       "width": "150px"
      }
     },
     "c27d20bee6a8425a9ba78873a11fa15e": {
      "model_module": "jupyter-js-widgets",
      "model_module_version": "~2.1.4",
      "model_name": "OutputModel",
      "state": {
       "_dom_classes": [],
       "_model_module": "jupyter-js-widgets",
       "_model_module_version": "~2.1.4",
       "_view_module": "jupyter-js-widgets",
       "_view_module_version": "~2.1.4",
       "layout": "IPY_MODEL_01a7abfc0ff0457a90911a02b9a9a09a",
       "msg_throttle": 1
      }
     },
     "c757b4611c7e4c01899391ea190d4acb": {
      "model_module": "jupyter-js-widgets",
      "model_module_version": "~2.1.4",
      "model_name": "IntSliderModel",
      "state": {
       "_model_module_version": "~2.1.4",
       "_view_module_version": "~2.1.4",
       "continuous_update": false,
       "description": "Indicator 12",
       "layout": "IPY_MODEL_81f574278c4d4cd78e499e5b60a734e7",
       "max": 5,
       "min": 1,
       "readout": false,
       "readout_format": ".1f",
       "style": "IPY_MODEL_4f4e15541d214f919755c8a91eb897e9",
       "value": 5
      }
     },
     "c79cedb5eaec490f81708ea9b16dfabe": {
      "model_module": "jupyter-js-widgets",
      "model_module_version": "~2.1.4",
      "model_name": "LayoutModel",
      "state": {
       "_model_module_version": "~2.1.4",
       "_view_module_version": "~2.1.4",
       "height": "300px",
       "width": "100%"
      }
     },
     "c7f30db9e4cf4e379487519adb58ef79": {
      "model_module": "jupyter-js-widgets",
      "model_module_version": "~2.1.4",
      "model_name": "LayoutModel",
      "state": {
       "_model_module_version": "~2.1.4",
       "_view_module_version": "~2.1.4",
       "height": "30px",
       "width": "150px"
      }
     },
     "cf41b872f70a48c2a3d19ed5dcb5924e": {
      "model_module": "jupyter-js-widgets",
      "model_module_version": "~2.1.4",
      "model_name": "LayoutModel",
      "state": {
       "_model_module_version": "~2.1.4",
       "_view_module_version": "~2.1.4"
      }
     },
     "da0d9a60d34546358ebee11291a4b174": {
      "model_module": "jupyter-js-widgets",
      "model_module_version": "~2.1.4",
      "model_name": "IntSliderModel",
      "state": {
       "_model_module_version": "~2.1.4",
       "_view_module_version": "~2.1.4",
       "continuous_update": false,
       "description": "Indicator 9",
       "layout": "IPY_MODEL_90df999bf4124c68a532082b9885894f",
       "max": 5,
       "min": 1,
       "readout": false,
       "readout_format": ".1f",
       "style": "IPY_MODEL_0cd56758305b41c0aaca5bc4ba3a42a5",
       "value": 1
      }
     },
     "e1b9dd76f0e74fce96e23a978b60f2f2": {
      "model_module": "jupyter-js-widgets",
      "model_module_version": "~2.1.4",
      "model_name": "IntSliderModel",
      "state": {
       "_model_module_version": "~2.1.4",
       "_view_module_version": "~2.1.4",
       "continuous_update": false,
       "description": "Indicator 10",
       "layout": "IPY_MODEL_09bf7f9e26b74940897ac91cf1190c03",
       "max": 5,
       "min": 1,
       "readout": false,
       "readout_format": ".1f",
       "style": "IPY_MODEL_fdb4b85edaf149a3903ea8e4bd73955b",
       "value": 5
      }
     },
     "e4c0a67e4e7c451d92ac7c49329a6272": {
      "model_module": "jupyter-js-widgets",
      "model_module_version": "~2.1.4",
      "model_name": "IntSliderModel",
      "state": {
       "_model_module_version": "~2.1.4",
       "_view_module_version": "~2.1.4",
       "continuous_update": false,
       "description": "Indicator 5",
       "layout": "IPY_MODEL_02011b4003a04349a28213fd5a388784",
       "max": 5,
       "min": 1,
       "readout": false,
       "readout_format": ".1f",
       "style": "IPY_MODEL_9522dc1e697340a1971cda73b9613428",
       "value": 5
      }
     },
     "ed28fc182ea34622b8ee2a2b23aaacec": {
      "model_module": "jupyter-js-widgets",
      "model_module_version": "~2.1.4",
      "model_name": "LayoutModel",
      "state": {
       "_model_module_version": "~2.1.4",
       "_view_module_version": "~2.1.4",
       "height": "30px",
       "width": "150px"
      }
     },
     "eee630ae95c447eca0309dff4514a89b": {
      "model_module": "jupyter-js-widgets",
      "model_module_version": "~2.1.4",
      "model_name": "LayoutModel",
      "state": {
       "_model_module_version": "~2.1.4",
       "_view_module_version": "~2.1.4",
       "height": "30px",
       "width": "150px"
      }
     },
     "fd297fb963104b86a36e79e8ac010cf6": {
      "model_module": "jupyter-js-widgets",
      "model_module_version": "~2.1.4",
      "model_name": "IntSliderModel",
      "state": {
       "_model_module_version": "~2.1.4",
       "_view_module_version": "~2.1.4",
       "continuous_update": false,
       "description": "Indicator 6",
       "layout": "IPY_MODEL_b75d733ab36c43b88c088b934b967ee7",
       "max": 5,
       "min": 1,
       "readout": false,
       "readout_format": ".1f",
       "style": "IPY_MODEL_401a75e72baa450795973f315c3868db",
       "value": 3
      }
     },
     "fdb4b85edaf149a3903ea8e4bd73955b": {
      "model_module": "jupyter-js-widgets",
      "model_module_version": "~2.1.4",
      "model_name": "SliderStyleModel",
      "state": {
       "_model_module_version": "~2.1.4",
       "_view_module_version": "~2.1.4"
      }
     }
    },
    "version_major": 1,
    "version_minor": 0
   }
  }
 },
 "nbformat": 4,
 "nbformat_minor": 2
}
