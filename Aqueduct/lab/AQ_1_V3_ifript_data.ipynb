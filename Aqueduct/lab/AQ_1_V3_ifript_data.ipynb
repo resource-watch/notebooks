{
 "cells": [
  {
   "cell_type": "markdown",
   "metadata": {},
   "source": [
    "# IFRIPT  data \n",
    "\n",
    "IFPRI impact model\n",
    "\n",
    "- OutFile:\n",
    "\n",
    "  - combined01_prepared_new"
   ]
  },
  {
   "cell_type": "markdown",
   "metadata": {},
   "source": [
    "```sql\n",
    "SELECT gcm_type, impactparameter, iso, irrigation, region, scenario, value, year,\n",
    "    CASE WHEN lower(commodity) = 'all cereals' THEN 'all cereals'\n",
    "         WHEN lower(commodity) = 'all pulses' THEN 'all pulses'\n",
    "         WHEN lower(commodity) = 'banana' THEN 'banana'\n",
    "         WHEN lower(commodity) = 'barley' THEN 'barley'\n",
    "         WHEN lower(commodity) = 'beans' THEN 'bean'\n",
    "         WHEN lower(commodity) = 'cassava' THEN 'cassava'\n",
    "         WHEN lower(commodity) = 'chickpeas' THEN 'chickpea'\n",
    "         WHEN lower(commodity) = 'cowpeas' THEN 'cowpea'\n",
    "         WHEN lower(commodity) = 'groundnut' THEN 'groundnut'\n",
    "         WHEN lower(commodity) = 'lentils' THEN 'lentil'\n",
    "         WHEN lower(commodity) = 'maize' THEN 'maize'\n",
    "         WHEN lower(commodity) = 'millet' THEN 'pearl millet'\n",
    "         WHEN lower(commodity) = 'pigeonpeas' THEN 'pigeonpea'\n",
    "         WHEN lower(commodity) = 'plantain' THEN 'plantain'\n",
    "         WHEN lower(commodity) = 'potato' THEN 'potato'\n",
    "         WHEN lower(commodity) = 'rice' THEN 'rice'\n",
    "         WHEN lower(commodity) = 'sorghum' THEN 'sorghum'\n",
    "         WHEN lower(commodity) = 'soybean' THEN 'soybean'\n",
    "         WHEN lower(commodity) = 'sweet potato' THEN 'sweet potato'\n",
    "         WHEN lower(commodity) = 'wheat' THEN 'wheat'\n",
    "         WHEN lower(commodity) = 'yams' THEN 'yams'\n",
    "         END\n",
    "         AS commodity\n",
    "FROM combined01_prepared\n",
    "```"
   ]
  },
  {
   "cell_type": "code",
   "execution_count": null,
   "metadata": {},
   "outputs": [],
   "source": []
  }
 ],
 "metadata": {
  "anaconda-cloud": {},
  "kernelspec": {
   "display_name": "Python 3",
   "language": "python",
   "name": "python3"
  },
  "language_info": {
   "codemirror_mode": {
    "name": "ipython",
    "version": 3
   },
   "file_extension": ".py",
   "mimetype": "text/x-python",
   "name": "python",
   "nbconvert_exporter": "python",
   "pygments_lexer": "ipython3",
   "version": "3.6.8"
  }
 },
 "nbformat": 4,
 "nbformat_minor": 2
}
