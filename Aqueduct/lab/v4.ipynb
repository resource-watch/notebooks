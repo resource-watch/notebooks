{
 "cells": [
  {
   "cell_type": "code",
   "execution_count": 1,
   "metadata": {},
   "outputs": [
    {
     "name": "stdout",
     "output_type": "stream",
     "text": [
      "PyTables is not installed. No support for HDF output.\n"
     ]
    }
   ],
   "source": [
    "import getpass\n",
    "import requests\n",
    "from tqdm import tqdm\n",
    "import pandas as pd\n",
    "import geopandas as gpd\n",
    "import numpy as np\n",
    "import os\n",
    "import zipfile\n",
    "from simpledbf import Dbf5\n",
    "import fiona\n",
    "import rtree\n",
    "from collections import OrderedDict\n",
    "from shapely.geometry import mapping, shape\n",
    "import matplotlib.pyplot as plt\n",
    "import shapely.wkb \n",
    "from shapely.ops import cascaded_union\n",
    "from shapely.geometry import Polygon, Point, MultiPolygon\n"
   ]
  },
  {
   "cell_type": "code",
   "execution_count": 2,
   "metadata": {},
   "outputs": [],
   "source": [
    "baseFolder = '/home/jovyan/work/datasets'"
   ]
  },
  {
   "cell_type": "code",
   "execution_count": 7,
   "metadata": {},
   "outputs": [
    {
     "data": {
      "text/html": [
       "<div>\n",
       "<style scoped>\n",
       "    .dataframe tbody tr th:only-of-type {\n",
       "        vertical-align: middle;\n",
       "    }\n",
       "\n",
       "    .dataframe tbody tr th {\n",
       "        vertical-align: top;\n",
       "    }\n",
       "\n",
       "    .dataframe thead th {\n",
       "        text-align: right;\n",
       "    }\n",
       "</style>\n",
       "<table border=\"1\" class=\"dataframe\">\n",
       "  <thead>\n",
       "    <tr style=\"text-align: right;\">\n",
       "      <th></th>\n",
       "      <th>FID_April_</th>\n",
       "      <th>alloc_key</th>\n",
       "      <th>Cell5M_ID_</th>\n",
       "      <th>ISO3CODE</th>\n",
       "      <th>FID_baseli</th>\n",
       "      <th>aq30_id</th>\n",
       "      <th>string_id</th>\n",
       "      <th>geometry</th>\n",
       "    </tr>\n",
       "  </thead>\n",
       "  <tbody>\n",
       "    <tr>\n",
       "      <td>0</td>\n",
       "      <td>0</td>\n",
       "      <td>16070037</td>\n",
       "      <td>6937956.0</td>\n",
       "      <td>NZL</td>\n",
       "      <td>-1</td>\n",
       "      <td>0</td>\n",
       "      <td>None</td>\n",
       "      <td>POLYGON ((-176.91667 -43.91667, -177.00000 -43...</td>\n",
       "    </tr>\n",
       "    <tr>\n",
       "      <td>1</td>\n",
       "      <td>1</td>\n",
       "      <td>16070038</td>\n",
       "      <td>6937957.0</td>\n",
       "      <td>NZL</td>\n",
       "      <td>-1</td>\n",
       "      <td>0</td>\n",
       "      <td>None</td>\n",
       "      <td>POLYGON ((-176.87876 -43.83341, -176.87991 -43...</td>\n",
       "    </tr>\n",
       "    <tr>\n",
       "      <td>2</td>\n",
       "      <td>2</td>\n",
       "      <td>16060038</td>\n",
       "      <td>6933637.0</td>\n",
       "      <td>NZL</td>\n",
       "      <td>-1</td>\n",
       "      <td>0</td>\n",
       "      <td>None</td>\n",
       "      <td>POLYGON ((-176.83334 -43.78826, -176.83738 -43...</td>\n",
       "    </tr>\n",
       "    <tr>\n",
       "      <td>3</td>\n",
       "      <td>3</td>\n",
       "      <td>16070039</td>\n",
       "      <td>6937958.0</td>\n",
       "      <td>NZL</td>\n",
       "      <td>-1</td>\n",
       "      <td>0</td>\n",
       "      <td>None</td>\n",
       "      <td>POLYGON ((-176.83333 -43.91667, -176.83350 -43...</td>\n",
       "    </tr>\n",
       "    <tr>\n",
       "      <td>4</td>\n",
       "      <td>4</td>\n",
       "      <td>16060039</td>\n",
       "      <td>6933638.0</td>\n",
       "      <td>NZL</td>\n",
       "      <td>-1</td>\n",
       "      <td>0</td>\n",
       "      <td>None</td>\n",
       "      <td>MULTIPOLYGON (((-176.75000 -43.75000, -176.750...</td>\n",
       "    </tr>\n",
       "  </tbody>\n",
       "</table>\n",
       "</div>"
      ],
      "text/plain": [
       "   FID_April_ alloc_key  Cell5M_ID_ ISO3CODE  FID_baseli  aq30_id string_id  \\\n",
       "0           0  16070037   6937956.0      NZL          -1        0      None   \n",
       "1           1  16070038   6937957.0      NZL          -1        0      None   \n",
       "2           2  16060038   6933637.0      NZL          -1        0      None   \n",
       "3           3  16070039   6937958.0      NZL          -1        0      None   \n",
       "4           4  16060039   6933638.0      NZL          -1        0      None   \n",
       "\n",
       "                                            geometry  \n",
       "0  POLYGON ((-176.91667 -43.91667, -177.00000 -43...  \n",
       "1  POLYGON ((-176.87876 -43.83341, -176.87991 -43...  \n",
       "2  POLYGON ((-176.83334 -43.78826, -176.83738 -43...  \n",
       "3  POLYGON ((-176.83333 -43.91667, -176.83350 -43...  \n",
       "4  MULTIPOLYGON (((-176.75000 -43.75000, -176.750...  "
      ]
     },
     "execution_count": 7,
     "metadata": {},
     "output_type": "execute_result"
    }
   ],
   "source": [
    "cell5M_baseline = gpd.read_file(f'{baseFolder}/aqueduct/dst/spam2010/baseline_geo/union_spam_aqueduct_v01.shp')\n",
    "cell5M_baseline['aq30_id'] = cell5M_baseline['aq30_id'].astype('int64')\n",
    "cell5M_baseline['Cell5M_ID_'] = cell5M_baseline['Cell5M_ID_'].astype('int')\n",
    "cell5M_baseline.head()"
   ]
  },
  {
   "cell_type": "code",
   "execution_count": 3,
   "metadata": {},
   "outputs": [
    {
     "data": {
      "text/html": [
       "<div>\n",
       "<style scoped>\n",
       "    .dataframe tbody tr th:only-of-type {\n",
       "        vertical-align: middle;\n",
       "    }\n",
       "\n",
       "    .dataframe tbody tr th {\n",
       "        vertical-align: top;\n",
       "    }\n",
       "\n",
       "    .dataframe thead th {\n",
       "        text-align: right;\n",
       "    }\n",
       "</style>\n",
       "<table border=\"1\" class=\"dataframe\">\n",
       "  <thead>\n",
       "    <tr style=\"text-align: right;\">\n",
       "      <th></th>\n",
       "      <th>basinid</th>\n",
       "      <th>percentage</th>\n",
       "      <th>cell5m</th>\n",
       "      <th>geometry</th>\n",
       "    </tr>\n",
       "  </thead>\n",
       "  <tbody>\n",
       "    <tr>\n",
       "      <td>0</td>\n",
       "      <td>2650</td>\n",
       "      <td>0.0233</td>\n",
       "      <td>478313</td>\n",
       "      <td>POLYGON ((79.49431 80.83333, 79.41667 80.82917...</td>\n",
       "    </tr>\n",
       "    <tr>\n",
       "      <td>1</td>\n",
       "      <td>7718</td>\n",
       "      <td>0.0024</td>\n",
       "      <td>512301</td>\n",
       "      <td>POLYGON ((31.83333 80.08338, 31.83241 80.08333...</td>\n",
       "    </tr>\n",
       "    <tr>\n",
       "      <td>2</td>\n",
       "      <td>7271</td>\n",
       "      <td>0.0030</td>\n",
       "      <td>978784</td>\n",
       "      <td>POLYGON ((25.39330 71.08333, 25.39972 71.08582...</td>\n",
       "    </tr>\n",
       "    <tr>\n",
       "      <td>3</td>\n",
       "      <td>7271</td>\n",
       "      <td>0.0752</td>\n",
       "      <td>978785</td>\n",
       "      <td>POLYGON ((25.46430 71.08333, 25.47238 71.10228...</td>\n",
       "    </tr>\n",
       "    <tr>\n",
       "      <td>4</td>\n",
       "      <td>7271</td>\n",
       "      <td>0.0625</td>\n",
       "      <td>978786</td>\n",
       "      <td>POLYGON ((25.50000 71.09664, 25.56520 71.08333...</td>\n",
       "    </tr>\n",
       "  </tbody>\n",
       "</table>\n",
       "</div>"
      ],
      "text/plain": [
       "   basinid  percentage  cell5m  \\\n",
       "0     2650      0.0233  478313   \n",
       "1     7718      0.0024  512301   \n",
       "2     7271      0.0030  978784   \n",
       "3     7271      0.0752  978785   \n",
       "4     7271      0.0625  978786   \n",
       "\n",
       "                                            geometry  \n",
       "0  POLYGON ((79.49431 80.83333, 79.41667 80.82917...  \n",
       "1  POLYGON ((31.83333 80.08338, 31.83241 80.08333...  \n",
       "2  POLYGON ((25.39330 71.08333, 25.39972 71.08582...  \n",
       "3  POLYGON ((25.46430 71.08333, 25.47238 71.10228...  \n",
       "4  POLYGON ((25.50000 71.09664, 25.56520 71.08333...  "
      ]
     },
     "execution_count": 3,
     "metadata": {},
     "output_type": "execute_result"
    }
   ],
   "source": [
    "cell5M_projected = gpd.read_file(f'{baseFolder}/aqueduct/dst/spam2010/cell5m_projected/cell5m_projected.shp')\n",
    "cell5M_projected['basinid'] = cell5M_projected['basinid'].astype('int64')\n",
    "cell5M_projected['percentage'] = cell5M_projected['percentage'].astype('float64')\n",
    "cell5M_projected['percentage'] = cell5M_projected['percentage'].apply(lambda x: round(x,4))\n",
    "cell5M_projected['cell5m'] = cell5M_projected['cell5m'].astype('int')\n",
    "cell5M_projected.head()"
   ]
  },
  {
   "cell_type": "code",
   "execution_count": 4,
   "metadata": {},
   "outputs": [
    {
     "data": {
      "text/html": [
       "<div>\n",
       "<style scoped>\n",
       "    .dataframe tbody tr th:only-of-type {\n",
       "        vertical-align: middle;\n",
       "    }\n",
       "\n",
       "    .dataframe tbody tr th {\n",
       "        vertical-align: top;\n",
       "    }\n",
       "\n",
       "    .dataframe thead th {\n",
       "        text-align: right;\n",
       "    }\n",
       "</style>\n",
       "<table border=\"1\" class=\"dataframe\">\n",
       "  <thead>\n",
       "    <tr style=\"text-align: right;\">\n",
       "      <th></th>\n",
       "      <th>iso</th>\n",
       "      <th>prod_level</th>\n",
       "      <th>cell5m</th>\n",
       "      <th>name_cntr</th>\n",
       "      <th>name_adm1</th>\n",
       "      <th>name_adm2</th>\n",
       "      <th>unit_area</th>\n",
       "      <th>crop</th>\n",
       "      <th>area</th>\n",
       "      <th>irrigation</th>\n",
       "      <th>unit_prod</th>\n",
       "      <th>prod</th>\n",
       "    </tr>\n",
       "  </thead>\n",
       "  <tbody>\n",
       "    <tr>\n",
       "      <td>0</td>\n",
       "      <td>AFG</td>\n",
       "      <td>AF01002</td>\n",
       "      <td>2677088</td>\n",
       "      <td>Afghanistan</td>\n",
       "      <td>Badakhshan</td>\n",
       "      <td>Darwaz</td>\n",
       "      <td>ha</td>\n",
       "      <td>wheat</td>\n",
       "      <td>115.6</td>\n",
       "      <td>irrigated</td>\n",
       "      <td>mt</td>\n",
       "      <td>180.4</td>\n",
       "    </tr>\n",
       "    <tr>\n",
       "      <td>1</td>\n",
       "      <td>AFG</td>\n",
       "      <td>AF01002</td>\n",
       "      <td>2677090</td>\n",
       "      <td>Afghanistan</td>\n",
       "      <td>Badakhshan</td>\n",
       "      <td>Darwaz</td>\n",
       "      <td>ha</td>\n",
       "      <td>wheat</td>\n",
       "      <td>120.7</td>\n",
       "      <td>irrigated</td>\n",
       "      <td>mt</td>\n",
       "      <td>190.5</td>\n",
       "    </tr>\n",
       "    <tr>\n",
       "      <td>2</td>\n",
       "      <td>AFG</td>\n",
       "      <td>AF01002</td>\n",
       "      <td>2677093</td>\n",
       "      <td>Afghanistan</td>\n",
       "      <td>Badakhshan</td>\n",
       "      <td>Darwaz</td>\n",
       "      <td>ha</td>\n",
       "      <td>wheat</td>\n",
       "      <td>180.3</td>\n",
       "      <td>irrigated</td>\n",
       "      <td>mt</td>\n",
       "      <td>237.9</td>\n",
       "    </tr>\n",
       "    <tr>\n",
       "      <td>3</td>\n",
       "      <td>AFG</td>\n",
       "      <td>AF01002</td>\n",
       "      <td>2681407</td>\n",
       "      <td>Afghanistan</td>\n",
       "      <td>Badakhshan</td>\n",
       "      <td>Darwaz</td>\n",
       "      <td>ha</td>\n",
       "      <td>wheat</td>\n",
       "      <td>104.1</td>\n",
       "      <td>irrigated</td>\n",
       "      <td>mt</td>\n",
       "      <td>187.1</td>\n",
       "    </tr>\n",
       "    <tr>\n",
       "      <td>4</td>\n",
       "      <td>AFG</td>\n",
       "      <td>AF01002</td>\n",
       "      <td>2681409</td>\n",
       "      <td>Afghanistan</td>\n",
       "      <td>Badakhshan</td>\n",
       "      <td>Darwaz</td>\n",
       "      <td>ha</td>\n",
       "      <td>wheat</td>\n",
       "      <td>43.2</td>\n",
       "      <td>irrigated</td>\n",
       "      <td>mt</td>\n",
       "      <td>27.9</td>\n",
       "    </tr>\n",
       "  </tbody>\n",
       "</table>\n",
       "</div>"
      ],
      "text/plain": [
       "   iso prod_level   cell5m    name_cntr   name_adm1 name_adm2 unit_area  \\\n",
       "0  AFG    AF01002  2677088  Afghanistan  Badakhshan    Darwaz        ha   \n",
       "1  AFG    AF01002  2677090  Afghanistan  Badakhshan    Darwaz        ha   \n",
       "2  AFG    AF01002  2677093  Afghanistan  Badakhshan    Darwaz        ha   \n",
       "3  AFG    AF01002  2681407  Afghanistan  Badakhshan    Darwaz        ha   \n",
       "4  AFG    AF01002  2681409  Afghanistan  Badakhshan    Darwaz        ha   \n",
       "\n",
       "    crop   area irrigation unit_prod   prod  \n",
       "0  wheat  115.6  irrigated        mt  180.4  \n",
       "1  wheat  120.7  irrigated        mt  190.5  \n",
       "2  wheat  180.3  irrigated        mt  237.9  \n",
       "3  wheat  104.1  irrigated        mt  187.1  \n",
       "4  wheat   43.2  irrigated        mt   27.9  "
      ]
     },
     "execution_count": 4,
     "metadata": {},
     "output_type": "execute_result"
    }
   ],
   "source": [
    "df_filtered = pd.read_csv(f'{baseFolder}/aqueduct/dst/spam2010/data_filtered.csv')\n",
    "df_filtered.drop(columns=['Unnamed: 0'], inplace=True)\n",
    "gdf_filtered = gpd.GeoDataFrame(df_filtered)\n",
    "gdf_filtered['cell5m'] = gdf_filtered['cell5m'].astype('int')\n",
    "gdf_filtered.head()"
   ]
  },
  {
   "cell_type": "code",
   "execution_count": 5,
   "metadata": {},
   "outputs": [],
   "source": [
    "filter_geom_ids= gdf_filtered.cell5m.unique()"
   ]
  },
  {
   "cell_type": "code",
   "execution_count": 6,
   "metadata": {},
   "outputs": [],
   "source": [
    "cell5M_baseline_filtered = cell5M_projected[cell5M_projected['cell5m'].isin(filter_geom_ids)]"
   ]
  },
  {
   "cell_type": "code",
   "execution_count": 7,
   "metadata": {},
   "outputs": [
    {
     "data": {
      "text/html": [
       "<div>\n",
       "<style scoped>\n",
       "    .dataframe tbody tr th:only-of-type {\n",
       "        vertical-align: middle;\n",
       "    }\n",
       "\n",
       "    .dataframe tbody tr th {\n",
       "        vertical-align: top;\n",
       "    }\n",
       "\n",
       "    .dataframe thead th {\n",
       "        text-align: right;\n",
       "    }\n",
       "</style>\n",
       "<table border=\"1\" class=\"dataframe\">\n",
       "  <thead>\n",
       "    <tr style=\"text-align: right;\">\n",
       "      <th></th>\n",
       "      <th>basinid</th>\n",
       "      <th>percentage</th>\n",
       "      <th>cell5m</th>\n",
       "      <th>geometry</th>\n",
       "    </tr>\n",
       "  </thead>\n",
       "  <tbody>\n",
       "    <tr>\n",
       "      <td>83</td>\n",
       "      <td>7907</td>\n",
       "      <td>0.3352</td>\n",
       "      <td>2223099</td>\n",
       "      <td>POLYGON ((38.30759 47.13228, 38.26587 47.13044...</td>\n",
       "    </tr>\n",
       "    <tr>\n",
       "      <td>84</td>\n",
       "      <td>7796</td>\n",
       "      <td>0.0942</td>\n",
       "      <td>2223099</td>\n",
       "      <td>POLYGON ((38.33333 47.13340, 38.30759 47.13228...</td>\n",
       "    </tr>\n",
       "    <tr>\n",
       "      <td>85</td>\n",
       "      <td>7908</td>\n",
       "      <td>0.2427</td>\n",
       "      <td>2223100</td>\n",
       "      <td>POLYGON ((38.41667 47.14139, 38.40386 47.13361...</td>\n",
       "    </tr>\n",
       "    <tr>\n",
       "      <td>86</td>\n",
       "      <td>7796</td>\n",
       "      <td>0.1445</td>\n",
       "      <td>2223100</td>\n",
       "      <td>POLYGON ((38.37496 47.16667, 38.37172 47.15787...</td>\n",
       "    </tr>\n",
       "    <tr>\n",
       "      <td>127</td>\n",
       "      <td>3334</td>\n",
       "      <td>0.0007</td>\n",
       "      <td>2842070</td>\n",
       "      <td>POLYGON ((139.17114 35.25000, 139.16667 35.247...</td>\n",
       "    </tr>\n",
       "  </tbody>\n",
       "</table>\n",
       "</div>"
      ],
      "text/plain": [
       "     basinid  percentage   cell5m  \\\n",
       "83      7907      0.3352  2223099   \n",
       "84      7796      0.0942  2223099   \n",
       "85      7908      0.2427  2223100   \n",
       "86      7796      0.1445  2223100   \n",
       "127     3334      0.0007  2842070   \n",
       "\n",
       "                                              geometry  \n",
       "83   POLYGON ((38.30759 47.13228, 38.26587 47.13044...  \n",
       "84   POLYGON ((38.33333 47.13340, 38.30759 47.13228...  \n",
       "85   POLYGON ((38.41667 47.14139, 38.40386 47.13361...  \n",
       "86   POLYGON ((38.37496 47.16667, 38.37172 47.15787...  \n",
       "127  POLYGON ((139.17114 35.25000, 139.16667 35.247...  "
      ]
     },
     "execution_count": 7,
     "metadata": {},
     "output_type": "execute_result"
    }
   ],
   "source": [
    "cell5M_baseline_filtered.head()"
   ]
  },
  {
   "cell_type": "code",
   "execution_count": 8,
   "metadata": {},
   "outputs": [
    {
     "name": "stdout",
     "output_type": "stream",
     "text": [
      "<class 'geopandas.geodataframe.GeoDataFrame'>\n",
      "Int64Index: 971248 entries, 83 to 2863959\n",
      "Data columns (total 4 columns):\n",
      "basinid       971248 non-null int64\n",
      "percentage    971248 non-null float64\n",
      "cell5m        971248 non-null int64\n",
      "geometry      971248 non-null geometry\n",
      "dtypes: float64(1), geometry(1), int64(2)\n",
      "memory usage: 37.1 MB\n"
     ]
    }
   ],
   "source": [
    "cell5M_baseline_filtered.info()"
   ]
  },
  {
   "cell_type": "code",
   "execution_count": 70,
   "metadata": {},
   "outputs": [],
   "source": [
    "def fx(x):\n",
    "    return x.area"
   ]
  },
  {
   "cell_type": "code",
   "execution_count": 71,
   "metadata": {},
   "outputs": [
    {
     "name": "stderr",
     "output_type": "stream",
     "text": [
      "/opt/conda/lib/python3.7/site-packages/ipykernel_launcher.py:1: SettingWithCopyWarning: \n",
      "A value is trying to be set on a copy of a slice from a DataFrame.\n",
      "Try using .loc[row_indexer,col_indexer] = value instead\n",
      "\n",
      "See the caveats in the documentation: http://pandas.pydata.org/pandas-docs/stable/user_guide/indexing.html#returning-a-view-versus-a-copy\n",
      "  \"\"\"Entry point for launching an IPython kernel.\n"
     ]
    }
   ],
   "source": [
    "cell5M_baseline_filtered['area_phys']= cell5M_baseline_filtered['geometry'].to_crs({'init': 'epsg:4326'}).apply(lambda x: fx(x)).round(8)\n",
    "#cell5M_baseline_filtered['percentage']= cell5M_baseline_filtered.to_crs({'init': 'epsg:3395'})['geometry'].area/86056000"
   ]
  },
  {
   "cell_type": "code",
   "execution_count": 72,
   "metadata": {
    "scrolled": false
   },
   "outputs": [
    {
     "data": {
      "text/plain": [
       "<matplotlib.axes._subplots.AxesSubplot at 0x7f70e873d2e8>"
      ]
     },
     "execution_count": 72,
     "metadata": {},
     "output_type": "execute_result"
    },
    {
     "data": {
      "image/png": "[encoded data removed]",
      "text/plain": [
       "<Figure size 432x288 with 1 Axes>"
      ]
     },
     "metadata": {
      "needs_background": "light"
     },
     "output_type": "display_data"
    }
   ],
   "source": [
    "\n",
    "cell5M_baseline_filtered['perrcentage'].plot.hist(bins=12, alpha=0.5)"
   ]
  },
  {
   "cell_type": "code",
   "execution_count": 9,
   "metadata": {},
   "outputs": [
    {
     "data": {
      "text/plain": [
       "<matplotlib.axes._subplots.AxesSubplot at 0x7ff3d8bcd2e8>"
      ]
     },
     "execution_count": 9,
     "metadata": {},
     "output_type": "execute_result"
    },
    {
     "data": {
      "image/png": "[encoded data removed]",
      "text/plain": [
       "<Figure size 432x288 with 1 Axes>"
      ]
     },
     "metadata": {
      "needs_background": "light"
     },
     "output_type": "display_data"
    }
   ],
   "source": [
    "cell5M_baseline_filtered['percentage'].plot.hist(bins=12, alpha=0.5)"
   ]
  },
  {
   "cell_type": "code",
   "execution_count": 77,
   "metadata": {},
   "outputs": [
    {
     "name": "stderr",
     "output_type": "stream",
     "text": [
      "/opt/conda/lib/python3.7/site-packages/ipykernel_launcher.py:3: SettingWithCopyWarning: \n",
      "A value is trying to be set on a copy of a slice from a DataFrame.\n",
      "Try using .loc[row_indexer,col_indexer] = value instead\n",
      "\n",
      "See the caveats in the documentation: http://pandas.pydata.org/pandas-docs/stable/user_guide/indexing.html#returning-a-view-versus-a-copy\n",
      "  This is separate from the ipykernel package so we can avoid doing imports until\n"
     ]
    }
   ],
   "source": [
    "def fx2(x):\n",
    "    return  x/0.0068 if x/0.0068 < 1 else 1\n",
    "cell5M_baseline_filtered['percentage']= cell5M_baseline_filtered['area_phys'].apply(lambda x: fx2(x)).round(3)"
   ]
  },
  {
   "cell_type": "code",
   "execution_count": 78,
   "metadata": {},
   "outputs": [
    {
     "data": {
      "text/plain": [
       "<matplotlib.axes._subplots.AxesSubplot at 0x7f70e83581d0>"
      ]
     },
     "execution_count": 78,
     "metadata": {},
     "output_type": "execute_result"
    },
    {
     "data": {
      "image/png": "[encoded data removed]",
      "text/plain": [
       "<Figure size 432x288 with 1 Axes>"
      ]
     },
     "metadata": {
      "needs_background": "light"
     },
     "output_type": "display_data"
    }
   ],
   "source": [
    "cell5M_baseline_filtered['percentage'].plot.hist(bins=12, alpha=0.5)"
   ]
  },
  {
   "cell_type": "code",
   "execution_count": 79,
   "metadata": {},
   "outputs": [
    {
     "data": {
      "text/html": [
       "<div>\n",
       "<style scoped>\n",
       "    .dataframe tbody tr th:only-of-type {\n",
       "        vertical-align: middle;\n",
       "    }\n",
       "\n",
       "    .dataframe tbody tr th {\n",
       "        vertical-align: top;\n",
       "    }\n",
       "\n",
       "    .dataframe thead th {\n",
       "        text-align: right;\n",
       "    }\n",
       "</style>\n",
       "<table border=\"1\" class=\"dataframe\">\n",
       "  <thead>\n",
       "    <tr style=\"text-align: right;\">\n",
       "      <th></th>\n",
       "      <th>FID_April_</th>\n",
       "      <th>alloc_key</th>\n",
       "      <th>cell5m</th>\n",
       "      <th>ISO3CODE</th>\n",
       "      <th>FID_baseli</th>\n",
       "      <th>aq30_id</th>\n",
       "      <th>string_id</th>\n",
       "      <th>geometry</th>\n",
       "      <th>area</th>\n",
       "      <th>percentage</th>\n",
       "      <th>area_phys</th>\n",
       "    </tr>\n",
       "  </thead>\n",
       "  <tbody>\n",
       "    <tr>\n",
       "      <td>720171</td>\n",
       "      <td>280064</td>\n",
       "      <td>06360961</td>\n",
       "      <td>2744160</td>\n",
       "      <td>USA</td>\n",
       "      <td>54370</td>\n",
       "      <td>54370</td>\n",
       "      <td>742485-USA.17_1-1363</td>\n",
       "      <td>POLYGON ((-99.91667 36.99896, -100.00141 36.99...</td>\n",
       "      <td>11002.711280</td>\n",
       "      <td>1.0</td>\n",
       "      <td>0.007087</td>\n",
       "    </tr>\n",
       "    <tr>\n",
       "      <td>1937300</td>\n",
       "      <td>1102228</td>\n",
       "      <td>06962310</td>\n",
       "      <td>3004709</td>\n",
       "      <td>LBY</td>\n",
       "      <td>10180</td>\n",
       "      <td>10180</td>\n",
       "      <td>156040-LBY.3_1-3330</td>\n",
       "      <td>POLYGON ((12.50040 32.00473, 12.49991 31.99889...</td>\n",
       "      <td>10340.434731</td>\n",
       "      <td>1.0</td>\n",
       "      <td>0.007073</td>\n",
       "    </tr>\n",
       "    <tr>\n",
       "      <td>2432027</td>\n",
       "      <td>1724733</td>\n",
       "      <td>09113372</td>\n",
       "      <td>3934571</td>\n",
       "      <td>THA</td>\n",
       "      <td>33791</td>\n",
       "      <td>33791</td>\n",
       "      <td>443040-THA.26_1-2021</td>\n",
       "      <td>POLYGON ((101.00000 14.16667, 101.00000 14.083...</td>\n",
       "      <td>9032.190017</td>\n",
       "      <td>1.0</td>\n",
       "      <td>0.007068</td>\n",
       "    </tr>\n",
       "    <tr>\n",
       "      <td>189028</td>\n",
       "      <td>819882</td>\n",
       "      <td>14981420</td>\n",
       "      <td>6468459</td>\n",
       "      <td>ARG</td>\n",
       "      <td>49708</td>\n",
       "      <td>49708</td>\n",
       "      <td>651206-ARG.1_1-2939</td>\n",
       "      <td>POLYGON ((-61.66667 -34.75000, -61.66565 -34.8...</td>\n",
       "      <td>10663.161136</td>\n",
       "      <td>1.0</td>\n",
       "      <td>0.007067</td>\n",
       "    </tr>\n",
       "    <tr>\n",
       "      <td>1344823</td>\n",
       "      <td>267750</td>\n",
       "      <td>05410858</td>\n",
       "      <td>2333657</td>\n",
       "      <td>USA</td>\n",
       "      <td>55056</td>\n",
       "      <td>55056</td>\n",
       "      <td>742988-USA.51_1-1048</td>\n",
       "      <td>POLYGON ((-108.49896 45.00082, -108.50000 44.9...</td>\n",
       "      <td>12372.588493</td>\n",
       "      <td>1.0</td>\n",
       "      <td>0.007065</td>\n",
       "    </tr>\n",
       "    <tr>\n",
       "      <td>...</td>\n",
       "      <td>...</td>\n",
       "      <td>...</td>\n",
       "      <td>...</td>\n",
       "      <td>...</td>\n",
       "      <td>...</td>\n",
       "      <td>...</td>\n",
       "      <td>...</td>\n",
       "      <td>...</td>\n",
       "      <td>...</td>\n",
       "      <td>...</td>\n",
       "      <td>...</td>\n",
       "    </tr>\n",
       "    <tr>\n",
       "      <td>595660</td>\n",
       "      <td>2259148</td>\n",
       "      <td>14973971</td>\n",
       "      <td>6466690</td>\n",
       "      <td>AUS</td>\n",
       "      <td>42695</td>\n",
       "      <td>42695</td>\n",
       "      <td>563950-None-None</td>\n",
       "      <td>POLYGON ((150.86943 -34.67429, 150.87000 -34.6...</td>\n",
       "      <td>2.127270</td>\n",
       "      <td>0.0</td>\n",
       "      <td>0.000001</td>\n",
       "    </tr>\n",
       "    <tr>\n",
       "      <td>2576037</td>\n",
       "      <td>1843249</td>\n",
       "      <td>06423676</td>\n",
       "      <td>2772795</td>\n",
       "      <td>KOR</td>\n",
       "      <td>64817</td>\n",
       "      <td>64817</td>\n",
       "      <td>None-KOR.3_1-None</td>\n",
       "      <td>POLYGON ((126.33082 36.50048, 126.32931 36.500...</td>\n",
       "      <td>2.016681</td>\n",
       "      <td>0.0</td>\n",
       "      <td>0.000001</td>\n",
       "    </tr>\n",
       "    <tr>\n",
       "      <td>472140</td>\n",
       "      <td>2174212</td>\n",
       "      <td>11683738</td>\n",
       "      <td>5045177</td>\n",
       "      <td>IDN</td>\n",
       "      <td>64537</td>\n",
       "      <td>64545</td>\n",
       "      <td>None-IDN.19_1-2566</td>\n",
       "      <td>POLYGON ((131.44333 -7.33333, 131.44138 -7.333...</td>\n",
       "      <td>1.597822</td>\n",
       "      <td>0.0</td>\n",
       "      <td>0.000001</td>\n",
       "    </tr>\n",
       "    <tr>\n",
       "      <td>1588834</td>\n",
       "      <td>514983</td>\n",
       "      <td>05211383</td>\n",
       "      <td>2247782</td>\n",
       "      <td>CAN</td>\n",
       "      <td>53485</td>\n",
       "      <td>53485</td>\n",
       "      <td>726071-None-1194</td>\n",
       "      <td>POLYGON ((-64.80386 46.66656, -64.80482 46.665...</td>\n",
       "      <td>2.214194</td>\n",
       "      <td>0.0</td>\n",
       "      <td>0.000001</td>\n",
       "    </tr>\n",
       "    <tr>\n",
       "      <td>2454371</td>\n",
       "      <td>1736562</td>\n",
       "      <td>09203472</td>\n",
       "      <td>3973551</td>\n",
       "      <td>VNM</td>\n",
       "      <td>68447</td>\n",
       "      <td>68447</td>\n",
       "      <td>None-VNM.45_1-None</td>\n",
       "      <td>POLYGON ((109.28146 13.38049, 109.27998 13.379...</td>\n",
       "      <td>1.503284</td>\n",
       "      <td>0.0</td>\n",
       "      <td>0.000001</td>\n",
       "    </tr>\n",
       "  </tbody>\n",
       "</table>\n",
       "<p>1224558 rows × 11 columns</p>\n",
       "</div>"
      ],
      "text/plain": [
       "         FID_April_ alloc_key   cell5m ISO3CODE  FID_baseli  aq30_id  \\\n",
       "720171       280064  06360961  2744160      USA       54370    54370   \n",
       "1937300     1102228  06962310  3004709      LBY       10180    10180   \n",
       "2432027     1724733  09113372  3934571      THA       33791    33791   \n",
       "189028       819882  14981420  6468459      ARG       49708    49708   \n",
       "1344823      267750  05410858  2333657      USA       55056    55056   \n",
       "...             ...       ...      ...      ...         ...      ...   \n",
       "595660      2259148  14973971  6466690      AUS       42695    42695   \n",
       "2576037     1843249  06423676  2772795      KOR       64817    64817   \n",
       "472140      2174212  11683738  5045177      IDN       64537    64545   \n",
       "1588834      514983  05211383  2247782      CAN       53485    53485   \n",
       "2454371     1736562  09203472  3973551      VNM       68447    68447   \n",
       "\n",
       "                    string_id  \\\n",
       "720171   742485-USA.17_1-1363   \n",
       "1937300   156040-LBY.3_1-3330   \n",
       "2432027  443040-THA.26_1-2021   \n",
       "189028    651206-ARG.1_1-2939   \n",
       "1344823  742988-USA.51_1-1048   \n",
       "...                       ...   \n",
       "595660       563950-None-None   \n",
       "2576037     None-KOR.3_1-None   \n",
       "472140     None-IDN.19_1-2566   \n",
       "1588834      726071-None-1194   \n",
       "2454371    None-VNM.45_1-None   \n",
       "\n",
       "                                                  geometry          area  \\\n",
       "720171   POLYGON ((-99.91667 36.99896, -100.00141 36.99...  11002.711280   \n",
       "1937300  POLYGON ((12.50040 32.00473, 12.49991 31.99889...  10340.434731   \n",
       "2432027  POLYGON ((101.00000 14.16667, 101.00000 14.083...   9032.190017   \n",
       "189028   POLYGON ((-61.66667 -34.75000, -61.66565 -34.8...  10663.161136   \n",
       "1344823  POLYGON ((-108.49896 45.00082, -108.50000 44.9...  12372.588493   \n",
       "...                                                    ...           ...   \n",
       "595660   POLYGON ((150.86943 -34.67429, 150.87000 -34.6...      2.127270   \n",
       "2576037  POLYGON ((126.33082 36.50048, 126.32931 36.500...      2.016681   \n",
       "472140   POLYGON ((131.44333 -7.33333, 131.44138 -7.333...      1.597822   \n",
       "1588834  POLYGON ((-64.80386 46.66656, -64.80482 46.665...      2.214194   \n",
       "2454371  POLYGON ((109.28146 13.38049, 109.27998 13.379...      1.503284   \n",
       "\n",
       "         percentage  area_phys  \n",
       "720171          1.0   0.007087  \n",
       "1937300         1.0   0.007073  \n",
       "2432027         1.0   0.007068  \n",
       "189028          1.0   0.007067  \n",
       "1344823         1.0   0.007065  \n",
       "...             ...        ...  \n",
       "595660          0.0   0.000001  \n",
       "2576037         0.0   0.000001  \n",
       "472140          0.0   0.000001  \n",
       "1588834         0.0   0.000001  \n",
       "2454371         0.0   0.000001  \n",
       "\n",
       "[1224558 rows x 11 columns]"
      ]
     },
     "execution_count": 79,
     "metadata": {},
     "output_type": "execute_result"
    }
   ],
   "source": [
    "cell5M_baseline_filtered.sort_values(by='area_phys', ascending=False)"
   ]
  },
  {
   "cell_type": "code",
   "execution_count": 36,
   "metadata": {},
   "outputs": [
    {
     "name": "stderr",
     "output_type": "stream",
     "text": [
      "/opt/conda/lib/python3.7/site-packages/pandas/core/frame.py:4223: SettingWithCopyWarning: \n",
      "A value is trying to be set on a copy of a slice from a DataFrame\n",
      "\n",
      "See the caveats in the documentation: http://pandas.pydata.org/pandas-docs/stable/user_guide/indexing.html#returning-a-view-versus-a-copy\n",
      "  return super().rename(**kwargs)\n"
     ]
    },
    {
     "data": {
      "text/html": [
       "<div>\n",
       "<style scoped>\n",
       "    .dataframe tbody tr th:only-of-type {\n",
       "        vertical-align: middle;\n",
       "    }\n",
       "\n",
       "    .dataframe tbody tr th {\n",
       "        vertical-align: top;\n",
       "    }\n",
       "\n",
       "    .dataframe thead th {\n",
       "        text-align: right;\n",
       "    }\n",
       "</style>\n",
       "<table border=\"1\" class=\"dataframe\">\n",
       "  <thead>\n",
       "    <tr style=\"text-align: right;\">\n",
       "      <th></th>\n",
       "      <th>FID_April_</th>\n",
       "      <th>alloc_key</th>\n",
       "      <th>cell5m</th>\n",
       "      <th>ISO3CODE</th>\n",
       "      <th>FID_baseli</th>\n",
       "      <th>aq30_id</th>\n",
       "      <th>string_id</th>\n",
       "      <th>geometry</th>\n",
       "      <th>area</th>\n",
       "      <th>percentage</th>\n",
       "    </tr>\n",
       "  </thead>\n",
       "  <tbody>\n",
       "    <tr>\n",
       "      <td>143</td>\n",
       "      <td>144</td>\n",
       "      <td>13160060</td>\n",
       "      <td>5680859</td>\n",
       "      <td>TON</td>\n",
       "      <td>-1</td>\n",
       "      <td>0</td>\n",
       "      <td>None</td>\n",
       "      <td>POLYGON ((-174.99998 -19.66302, -175.00333 -19...</td>\n",
       "      <td>8543.279892</td>\n",
       "      <td>0.992758</td>\n",
       "    </tr>\n",
       "    <tr>\n",
       "      <td>147</td>\n",
       "      <td>148</td>\n",
       "      <td>13060065</td>\n",
       "      <td>5637664</td>\n",
       "      <td>TON</td>\n",
       "      <td>-1</td>\n",
       "      <td>0</td>\n",
       "      <td>None</td>\n",
       "      <td>POLYGON ((-174.66667 -18.83333, -174.66651 -18...</td>\n",
       "      <td>7090.271421</td>\n",
       "      <td>0.823914</td>\n",
       "    </tr>\n",
       "  </tbody>\n",
       "</table>\n",
       "</div>"
      ],
      "text/plain": [
       "     FID_April_ alloc_key   cell5m ISO3CODE  FID_baseli  aq30_id string_id  \\\n",
       "143         144  13160060  5680859      TON          -1        0      None   \n",
       "147         148  13060065  5637664      TON          -1        0      None   \n",
       "\n",
       "                                              geometry         area  \\\n",
       "143  POLYGON ((-174.99998 -19.66302, -175.00333 -19...  8543.279892   \n",
       "147  POLYGON ((-174.66667 -18.83333, -174.66651 -18...  7090.271421   \n",
       "\n",
       "     percentage  \n",
       "143    0.992758  \n",
       "147    0.823914  "
      ]
     },
     "execution_count": 36,
     "metadata": {},
     "output_type": "execute_result"
    }
   ],
   "source": [
    "cell5M_baseline_filtered.rename(columns={\"Cell5M_ID_\": \"cell5m\"}, inplace=True)\n",
    "cell5M_baseline_filtered.head(2)"
   ]
  },
  {
   "cell_type": "code",
   "execution_count": 83,
   "metadata": {},
   "outputs": [
    {
     "name": "stderr",
     "output_type": "stream",
     "text": [
      "/opt/conda/lib/python3.7/site-packages/pandas/core/frame.py:4102: SettingWithCopyWarning: \n",
      "A value is trying to be set on a copy of a slice from a DataFrame\n",
      "\n",
      "See the caveats in the documentation: http://pandas.pydata.org/pandas-docs/stable/user_guide/indexing.html#returning-a-view-versus-a-copy\n",
      "  errors=errors,\n"
     ]
    }
   ],
   "source": [
    "cell5M_baseline_filtered.drop(columns=['area', 'area_phys'], inplace=True)"
   ]
  },
  {
   "cell_type": "code",
   "execution_count": 10,
   "metadata": {},
   "outputs": [],
   "source": [
    "cell5M_baseline_merged = pd.merge(left=gdf_filtered, right=cell5M_baseline_filtered, how='left',left_on=['cell5m'], right_on = ['cell5m'] )"
   ]
  },
  {
   "cell_type": "code",
   "execution_count": 11,
   "metadata": {},
   "outputs": [
    {
     "data": {
      "text/plain": [
       "Index(['iso', 'prod_level', 'cell5m', 'name_cntr', 'name_adm1', 'name_adm2',\n",
       "       'unit_area', 'crop', 'area', 'irrigation', 'unit_prod', 'prod',\n",
       "       'basinid', 'percentage', 'geometry'],\n",
       "      dtype='object')"
      ]
     },
     "execution_count": 11,
     "metadata": {},
     "output_type": "execute_result"
    }
   ],
   "source": [
    "cell5M_baseline_merged.columns"
   ]
  },
  {
   "cell_type": "code",
   "execution_count": 12,
   "metadata": {},
   "outputs": [
    {
     "data": {
      "text/html": [
       "<div>\n",
       "<style scoped>\n",
       "    .dataframe tbody tr th:only-of-type {\n",
       "        vertical-align: middle;\n",
       "    }\n",
       "\n",
       "    .dataframe tbody tr th {\n",
       "        vertical-align: top;\n",
       "    }\n",
       "\n",
       "    .dataframe thead th {\n",
       "        text-align: right;\n",
       "    }\n",
       "</style>\n",
       "<table border=\"1\" class=\"dataframe\">\n",
       "  <thead>\n",
       "    <tr style=\"text-align: right;\">\n",
       "      <th></th>\n",
       "      <th>iso</th>\n",
       "      <th>prod_level</th>\n",
       "      <th>cell5m</th>\n",
       "      <th>name_cntr</th>\n",
       "      <th>name_adm1</th>\n",
       "      <th>name_adm2</th>\n",
       "      <th>unit_area</th>\n",
       "      <th>crop</th>\n",
       "      <th>area</th>\n",
       "      <th>irrigation</th>\n",
       "      <th>unit_prod</th>\n",
       "      <th>prod</th>\n",
       "      <th>basinid</th>\n",
       "      <th>percentage</th>\n",
       "      <th>geometry</th>\n",
       "    </tr>\n",
       "  </thead>\n",
       "  <tbody>\n",
       "    <tr>\n",
       "      <td>0</td>\n",
       "      <td>AFG</td>\n",
       "      <td>AF01002</td>\n",
       "      <td>2677088</td>\n",
       "      <td>Afghanistan</td>\n",
       "      <td>Badakhshan</td>\n",
       "      <td>Darwaz</td>\n",
       "      <td>ha</td>\n",
       "      <td>wheat</td>\n",
       "      <td>115.6</td>\n",
       "      <td>irrigated</td>\n",
       "      <td>mt</td>\n",
       "      <td>180.4</td>\n",
       "      <td>6726.0</td>\n",
       "      <td>0.9118</td>\n",
       "      <td>POLYGON ((70.66667 38.37037, 70.67670 38.37492...</td>\n",
       "    </tr>\n",
       "    <tr>\n",
       "      <td>1</td>\n",
       "      <td>AFG</td>\n",
       "      <td>AF01002</td>\n",
       "      <td>2677088</td>\n",
       "      <td>Afghanistan</td>\n",
       "      <td>Badakhshan</td>\n",
       "      <td>Darwaz</td>\n",
       "      <td>ha</td>\n",
       "      <td>wheat</td>\n",
       "      <td>115.6</td>\n",
       "      <td>irrigated</td>\n",
       "      <td>mt</td>\n",
       "      <td>180.4</td>\n",
       "      <td>6726.0</td>\n",
       "      <td>0.0882</td>\n",
       "      <td>POLYGON ((70.70842 38.41667, 70.68331 38.41458...</td>\n",
       "    </tr>\n",
       "  </tbody>\n",
       "</table>\n",
       "</div>"
      ],
      "text/plain": [
       "   iso prod_level   cell5m    name_cntr   name_adm1 name_adm2 unit_area  \\\n",
       "0  AFG    AF01002  2677088  Afghanistan  Badakhshan    Darwaz        ha   \n",
       "1  AFG    AF01002  2677088  Afghanistan  Badakhshan    Darwaz        ha   \n",
       "\n",
       "    crop   area irrigation unit_prod   prod  basinid  percentage  \\\n",
       "0  wheat  115.6  irrigated        mt  180.4   6726.0      0.9118   \n",
       "1  wheat  115.6  irrigated        mt  180.4   6726.0      0.0882   \n",
       "\n",
       "                                            geometry  \n",
       "0  POLYGON ((70.66667 38.37037, 70.67670 38.37492...  \n",
       "1  POLYGON ((70.70842 38.41667, 70.68331 38.41458...  "
      ]
     },
     "execution_count": 12,
     "metadata": {},
     "output_type": "execute_result"
    }
   ],
   "source": [
    "cell5M_baseline_merged.head(2)"
   ]
  },
  {
   "cell_type": "code",
   "execution_count": 13,
   "metadata": {},
   "outputs": [],
   "source": [
    "# Multiply the area and the production with the percentage of each cell fraction\n",
    "def f(*x):\n",
    "    return x[0]*x[1]\n",
    "cell5M_baseline_merged['prod'] = cell5M_baseline_merged[['prod','percentage']].apply(lambda x: f(*x), axis=1).round(1)\n",
    "cell5M_baseline_merged['area'] = cell5M_baseline_merged[['area','percentage']].apply(lambda x: f(*x), axis=1).round(1)\n",
    "cell5M_baseline_merged.drop(columns=['percentage'], inplace=True)\n",
    "# Drop duplicates\n",
    "cell5M_baseline_merged.drop_duplicates(subset=['cell5m', 'crop', 'irrigation', 'prod', 'basinid'], inplace=True)\n"
   ]
  },
  {
   "cell_type": "code",
   "execution_count": 95,
   "metadata": {},
   "outputs": [],
   "source": [
    "cell5M_baseline_merged.to_file(f'{baseFolder}/aqueduct/dst/spam2010/merged_geoms_v1.shp')"
   ]
  },
  {
   "cell_type": "code",
   "execution_count": 112,
   "metadata": {},
   "outputs": [],
   "source": [
    "cell5M_baseline_filtered.to_file(f'{baseFolder}/aqueduct/dst/spam2010/test_geoms.shp')"
   ]
  },
  {
   "cell_type": "code",
   "execution_count": 19,
   "metadata": {},
   "outputs": [
    {
     "name": "stdout",
     "output_type": "stream",
     "text": [
      "<class 'geopandas.geodataframe.GeoDataFrame'>\n",
      "Int64Index: 6856351 entries, 0 to 6859975\n",
      "Data columns (total 14 columns):\n",
      "iso           object\n",
      "prod_level    object\n",
      "cell5m        int64\n",
      "name_cntr     object\n",
      "name_adm1     object\n",
      "name_adm2     object\n",
      "unit_area     object\n",
      "crop          object\n",
      "area          float64\n",
      "irrigation    object\n",
      "unit_prod     object\n",
      "prod          float64\n",
      "basinid       float64\n",
      "geometry      geometry\n",
      "dtypes: float64(3), geometry(1), int64(1), object(9)\n",
      "memory usage: 784.6+ MB\n"
     ]
    }
   ],
   "source": [
    "cell5M_baseline_merged.info()"
   ]
  },
  {
   "cell_type": "code",
   "execution_count": 20,
   "metadata": {},
   "outputs": [],
   "source": [
    "test_groupbt= cell5M_baseline_merged[['iso','cell5m', 'crop', 'irrigation', 'prod','basinid','geometry']].sort_values(['cell5m','irrigation','prod'], ascending=False).groupby(['cell5m','basinid','irrigation']).first().reset_index()\n",
    "\n"
   ]
  },
  {
   "cell_type": "code",
   "execution_count": 17,
   "metadata": {},
   "outputs": [],
   "source": [
    "test_2=cell5M_baseline_merged[['iso','prod_level','cell5m','name_cntr','unit_area','crop','area','irrigation','unit_prod','prod','basinid','geometry']].dissolve(by=['cell5m','basinid','irrigation','crop','iso', 'name_cntr','prod_level'], aggfunc='sum')"
   ]
  },
  {
   "cell_type": "code",
   "execution_count": 20,
   "metadata": {},
   "outputs": [],
   "source": [
    "test_2=test_2.reset_index()"
   ]
  },
  {
   "cell_type": "code",
   "execution_count": 22,
   "metadata": {},
   "outputs": [
    {
     "data": {
      "text/html": [
       "<div>\n",
       "<style scoped>\n",
       "    .dataframe tbody tr th:only-of-type {\n",
       "        vertical-align: middle;\n",
       "    }\n",
       "\n",
       "    .dataframe tbody tr th {\n",
       "        vertical-align: top;\n",
       "    }\n",
       "\n",
       "    .dataframe thead th {\n",
       "        text-align: right;\n",
       "    }\n",
       "</style>\n",
       "<table border=\"1\" class=\"dataframe\">\n",
       "  <thead>\n",
       "    <tr style=\"text-align: right;\">\n",
       "      <th></th>\n",
       "      <th>cell5m</th>\n",
       "      <th>basinid</th>\n",
       "      <th>irrigation</th>\n",
       "      <th>crop</th>\n",
       "      <th>iso</th>\n",
       "      <th>name_cntr</th>\n",
       "      <th>prod_level</th>\n",
       "      <th>geometry</th>\n",
       "      <th>area</th>\n",
       "      <th>prod</th>\n",
       "      <th>rank</th>\n",
       "    </tr>\n",
       "  </thead>\n",
       "  <tbody>\n",
       "    <tr>\n",
       "      <td>0</td>\n",
       "      <td>1069608</td>\n",
       "      <td>7260.0</td>\n",
       "      <td>rainfed</td>\n",
       "      <td>potato</td>\n",
       "      <td>RUS</td>\n",
       "      <td>Russian Federation</td>\n",
       "      <td>RS50001</td>\n",
       "      <td>POLYGON ((34.08333 69.35162, 34.02720 69.35360...</td>\n",
       "      <td>29.7</td>\n",
       "      <td>351.6</td>\n",
       "      <td>1.0</td>\n",
       "    </tr>\n",
       "    <tr>\n",
       "      <td>1</td>\n",
       "      <td>1069609</td>\n",
       "      <td>7260.0</td>\n",
       "      <td>rainfed</td>\n",
       "      <td>potato</td>\n",
       "      <td>RUS</td>\n",
       "      <td>Russian Federation</td>\n",
       "      <td>RS50001</td>\n",
       "      <td>POLYGON ((34.16667 69.34869, 34.08333 69.35162...</td>\n",
       "      <td>57.1</td>\n",
       "      <td>675.1</td>\n",
       "      <td>1.0</td>\n",
       "    </tr>\n",
       "    <tr>\n",
       "      <td>2</td>\n",
       "      <td>1069609</td>\n",
       "      <td>7260.0</td>\n",
       "      <td>rainfed</td>\n",
       "      <td>vegetables</td>\n",
       "      <td>RUS</td>\n",
       "      <td>Russian Federation</td>\n",
       "      <td>RS50001</td>\n",
       "      <td>POLYGON ((34.16667 69.34869, 34.08333 69.35162...</td>\n",
       "      <td>3.8</td>\n",
       "      <td>31.8</td>\n",
       "      <td>2.0</td>\n",
       "    </tr>\n",
       "  </tbody>\n",
       "</table>\n",
       "</div>"
      ],
      "text/plain": [
       "    cell5m  basinid irrigation        crop  iso           name_cntr  \\\n",
       "0  1069608   7260.0    rainfed      potato  RUS  Russian Federation   \n",
       "1  1069609   7260.0    rainfed      potato  RUS  Russian Federation   \n",
       "2  1069609   7260.0    rainfed  vegetables  RUS  Russian Federation   \n",
       "\n",
       "  prod_level                                           geometry  area   prod  \\\n",
       "0    RS50001  POLYGON ((34.08333 69.35162, 34.02720 69.35360...  29.7  351.6   \n",
       "1    RS50001  POLYGON ((34.16667 69.34869, 34.08333 69.35162...  57.1  675.1   \n",
       "2    RS50001  POLYGON ((34.16667 69.34869, 34.08333 69.35162...   3.8   31.8   \n",
       "\n",
       "   rank  \n",
       "0   1.0  \n",
       "1   1.0  \n",
       "2   2.0  "
      ]
     },
     "execution_count": 22,
     "metadata": {},
     "output_type": "execute_result"
    }
   ],
   "source": [
    "\n",
    "ranks = test_2[['iso','cell5m', 'crop', 'irrigation', 'prod','basinid','geometry']].groupby(['cell5m','basinid','irrigation'])['prod'].rank(ascending = False, method = 'first')\n",
    "ranks.name = 'rank'\n",
    "rank_projected = gpd.GeoDataFrame(pd.concat([test_2, ranks], axis = 1))\n",
    "\n",
    "#rank_projected.drop(columns=['name_adm1','name_adm2'], inplace=True)\n",
    "#dataset_forRanks.groupby([['cell5m','basinid','irrigation']]).sum()\n",
    "\n",
    "\n",
    "\n",
    "rank_projected.head(3)"
   ]
  },
  {
   "cell_type": "code",
   "execution_count": 26,
   "metadata": {},
   "outputs": [],
   "source": [
    "rank_projected['unit_area']='ha'\n",
    "rank_projected['unit_prod']='mt'\n",
    "rank_projected['basinid'] = rank_projected['basinid'].astype('int')\n",
    "rank_projected['rank'] = rank_projected['rank'].astype('int')"
   ]
  },
  {
   "cell_type": "code",
   "execution_count": 28,
   "metadata": {},
   "outputs": [],
   "source": [
    "rank_projected.to_file(f'{baseFolder}/aqueduct/dst/spam2010/allcrops_projected/allCrops_v1.shp')"
   ]
  },
  {
   "cell_type": "code",
   "execution_count": 33,
   "metadata": {},
   "outputs": [],
   "source": [
    "def split_table(gdf, filename, size):\n",
    "    \"\"\"\n",
    "    this function splits a table in x datasets to make it uploable to a carto account\n",
    "    \"\"\"\n",
    "    dataset = gdf\n",
    "    for i in range(int(np.ceil(dataset.shape[0]/size))):\n",
    "        split_dataset_name = filename+'_'+str(i)\n",
    "        print(split_dataset_name)\n",
    "        os.mkdir(f'{baseFolder}/aqueduct/dst/spam2010/allcrops_projected/{split_dataset_name}')\n",
    "        full_path = f'{baseFolder}/aqueduct/dst/spam2010/allcrops_projected/{split_dataset_name}.shp'\n",
    "        dataset.iloc[i*size:(i+1)*size].to_file(full_path)"
   ]
  },
  {
   "cell_type": "code",
   "execution_count": 34,
   "metadata": {
    "scrolled": false
   },
   "outputs": [
    {
     "name": "stdout",
     "output_type": "stream",
     "text": [
      "allCrops_v1_0\n",
      "allCrops_v1_1\n",
      "allCrops_v1_2\n",
      "allCrops_v1_3\n"
     ]
    }
   ],
   "source": [
    "basefile =f'{baseFolder}/data/aqueduct/dst/spam2010/allcrops_projected/'\n",
    "split_table(rank_projected, 'allCrops_v1', 2000000)"
   ]
  },
  {
   "cell_type": "code",
   "execution_count": null,
   "metadata": {},
   "outputs": [],
   "source": [
    "gpd.GeoDataFrame(test_groupbt).to_file(f'{baseFolder}/aqueduct/dst/spam2010/merged_allCrops_v1.shp')"
   ]
  },
  {
   "cell_type": "code",
   "execution_count": 115,
   "metadata": {},
   "outputs": [],
   "source": [
    "gpd.GeoDataFrame(test_groupbt).to_file(f'{baseFolder}/aqueduct/dst/spam2010/merged_allCrops_v1.shp')"
   ]
  },
  {
   "cell_type": "code",
   "execution_count": 117,
   "metadata": {},
   "outputs": [
    {
     "ename": "TypeError",
     "evalue": "'<' not supported between instances of 'Polygon' and 'Polygon'",
     "output_type": "error",
     "traceback": [
      "\u001b[0;31m---------------------------------------------------------------------------\u001b[0m",
      "\u001b[0;31mTypeError\u001b[0m                                 Traceback (most recent call last)",
      "\u001b[0;32m/opt/conda/lib/python3.7/site-packages/pandas/core/sorting.py\u001b[0m in \u001b[0;36msafe_sort\u001b[0;34m(values, labels, na_sentinel, assume_unique, verify)\u001b[0m\n\u001b[1;32m    465\u001b[0m         \u001b[0;32mtry\u001b[0m\u001b[0;34m:\u001b[0m\u001b[0;34m\u001b[0m\u001b[0;34m\u001b[0m\u001b[0m\n\u001b[0;32m--> 466\u001b[0;31m             \u001b[0msorter\u001b[0m \u001b[0;34m=\u001b[0m \u001b[0mvalues\u001b[0m\u001b[0;34m.\u001b[0m\u001b[0margsort\u001b[0m\u001b[0;34m(\u001b[0m\u001b[0;34m)\u001b[0m\u001b[0;34m\u001b[0m\u001b[0;34m\u001b[0m\u001b[0m\n\u001b[0m\u001b[1;32m    467\u001b[0m             \u001b[0mordered\u001b[0m \u001b[0;34m=\u001b[0m \u001b[0mvalues\u001b[0m\u001b[0;34m.\u001b[0m\u001b[0mtake\u001b[0m\u001b[0;34m(\u001b[0m\u001b[0msorter\u001b[0m\u001b[0;34m)\u001b[0m\u001b[0;34m\u001b[0m\u001b[0;34m\u001b[0m\u001b[0m\n",
      "\u001b[0;32m/opt/conda/lib/python3.7/site-packages/pandas/core/arrays/base.py\u001b[0m in \u001b[0;36margsort\u001b[0;34m(self, ascending, kind, *args, **kwargs)\u001b[0m\n\u001b[1;32m    457\u001b[0m \u001b[0;34m\u001b[0m\u001b[0m\n\u001b[0;32m--> 458\u001b[0;31m         \u001b[0mresult\u001b[0m \u001b[0;34m=\u001b[0m \u001b[0mnargsort\u001b[0m\u001b[0;34m(\u001b[0m\u001b[0mself\u001b[0m\u001b[0;34m,\u001b[0m \u001b[0mkind\u001b[0m\u001b[0;34m=\u001b[0m\u001b[0mkind\u001b[0m\u001b[0;34m,\u001b[0m \u001b[0mascending\u001b[0m\u001b[0;34m=\u001b[0m\u001b[0mascending\u001b[0m\u001b[0;34m,\u001b[0m \u001b[0mna_position\u001b[0m\u001b[0;34m=\u001b[0m\u001b[0;34m\"last\"\u001b[0m\u001b[0;34m)\u001b[0m\u001b[0;34m\u001b[0m\u001b[0;34m\u001b[0m\u001b[0m\n\u001b[0m\u001b[1;32m    459\u001b[0m         \u001b[0;32mreturn\u001b[0m \u001b[0mresult\u001b[0m\u001b[0;34m\u001b[0m\u001b[0;34m\u001b[0m\u001b[0m\n",
      "\u001b[0;32m/opt/conda/lib/python3.7/site-packages/pandas/core/sorting.py\u001b[0m in \u001b[0;36mnargsort\u001b[0;34m(items, kind, ascending, na_position)\u001b[0m\n\u001b[1;32m    248\u001b[0m     \u001b[0;32mif\u001b[0m \u001b[0mis_extension_array_dtype\u001b[0m\u001b[0;34m(\u001b[0m\u001b[0mitems\u001b[0m\u001b[0;34m)\u001b[0m\u001b[0;34m:\u001b[0m\u001b[0;34m\u001b[0m\u001b[0;34m\u001b[0m\u001b[0m\n\u001b[0;32m--> 249\u001b[0;31m         \u001b[0mitems\u001b[0m \u001b[0;34m=\u001b[0m \u001b[0mitems\u001b[0m\u001b[0;34m.\u001b[0m\u001b[0m_values_for_argsort\u001b[0m\u001b[0;34m(\u001b[0m\u001b[0;34m)\u001b[0m\u001b[0;34m\u001b[0m\u001b[0;34m\u001b[0m\u001b[0m\n\u001b[0m\u001b[1;32m    250\u001b[0m     \u001b[0;32melse\u001b[0m\u001b[0;34m:\u001b[0m\u001b[0;34m\u001b[0m\u001b[0;34m\u001b[0m\u001b[0m\n",
      "\u001b[0;32m/opt/conda/lib/python3.7/site-packages/geopandas/array.py\u001b[0m in \u001b[0;36m_values_for_argsort\u001b[0;34m(self)\u001b[0m\n\u001b[1;32m    970\u001b[0m         \u001b[0;31m# Note: this is used in `ExtensionArray.argsort`.\u001b[0m\u001b[0;34m\u001b[0m\u001b[0;34m\u001b[0m\u001b[0;34m\u001b[0m\u001b[0m\n\u001b[0;32m--> 971\u001b[0;31m         \u001b[0;32mraise\u001b[0m \u001b[0mTypeError\u001b[0m\u001b[0;34m(\u001b[0m\u001b[0;34m\"geometries are not orderable\"\u001b[0m\u001b[0;34m)\u001b[0m\u001b[0;34m\u001b[0m\u001b[0;34m\u001b[0m\u001b[0m\n\u001b[0m\u001b[1;32m    972\u001b[0m \u001b[0;34m\u001b[0m\u001b[0m\n",
      "\u001b[0;31mTypeError\u001b[0m: geometries are not orderable",
      "\nDuring handling of the above exception, another exception occurred:\n",
      "\u001b[0;31mTypeError\u001b[0m                                 Traceback (most recent call last)",
      "\u001b[0;32m<ipython-input-117-d9d9118ebc0e>\u001b[0m in \u001b[0;36m<module>\u001b[0;34m\u001b[0m\n\u001b[0;32m----> 1\u001b[0;31m \u001b[0mtest_group_all\u001b[0m\u001b[0;34m=\u001b[0m \u001b[0mcell5M_baseline_merged\u001b[0m\u001b[0;34m[\u001b[0m\u001b[0;34m[\u001b[0m\u001b[0;34m'iso'\u001b[0m\u001b[0;34m,\u001b[0m\u001b[0;34m'cell5m'\u001b[0m\u001b[0;34m,\u001b[0m \u001b[0;34m'crop'\u001b[0m\u001b[0;34m,\u001b[0m \u001b[0;34m'irrigation'\u001b[0m\u001b[0;34m,\u001b[0m \u001b[0;34m'prod'\u001b[0m\u001b[0;34m,\u001b[0m\u001b[0;34m'aq30_id'\u001b[0m\u001b[0;34m,\u001b[0m\u001b[0;34m'geometry'\u001b[0m\u001b[0;34m]\u001b[0m\u001b[0;34m]\u001b[0m\u001b[0;34m.\u001b[0m\u001b[0msort_values\u001b[0m\u001b[0;34m(\u001b[0m\u001b[0;34m[\u001b[0m\u001b[0;34m'cell5m'\u001b[0m\u001b[0;34m,\u001b[0m\u001b[0;34m'irrigation'\u001b[0m\u001b[0;34m,\u001b[0m\u001b[0;34m'prod'\u001b[0m\u001b[0;34m]\u001b[0m\u001b[0;34m,\u001b[0m \u001b[0mascending\u001b[0m\u001b[0;34m=\u001b[0m\u001b[0;32mFalse\u001b[0m\u001b[0;34m)\u001b[0m\u001b[0;34m.\u001b[0m\u001b[0mgroupby\u001b[0m\u001b[0;34m(\u001b[0m\u001b[0;34m[\u001b[0m\u001b[0;34m'cell5m'\u001b[0m\u001b[0;34m,\u001b[0m\u001b[0;34m'aq30_id'\u001b[0m\u001b[0;34m,\u001b[0m\u001b[0;34m'crop'\u001b[0m\u001b[0;34m,\u001b[0m \u001b[0;34m'geometry'\u001b[0m\u001b[0;34m]\u001b[0m\u001b[0;34m)\u001b[0m\u001b[0;34m.\u001b[0m\u001b[0msum\u001b[0m\u001b[0;34m(\u001b[0m\u001b[0;34m)\u001b[0m\u001b[0;34m.\u001b[0m\u001b[0mreset_index\u001b[0m\u001b[0;34m(\u001b[0m\u001b[0;34m)\u001b[0m\u001b[0;34m\u001b[0m\u001b[0;34m\u001b[0m\u001b[0m\n\u001b[0m\u001b[1;32m      2\u001b[0m \u001b[0mtest_group_all\u001b[0m\u001b[0;34m.\u001b[0m\u001b[0mhead\u001b[0m\u001b[0;34m(\u001b[0m\u001b[0;36m10\u001b[0m\u001b[0;34m)\u001b[0m\u001b[0;34m\u001b[0m\u001b[0;34m\u001b[0m\u001b[0m\n",
      "\u001b[0;32m/opt/conda/lib/python3.7/site-packages/pandas/core/groupby/groupby.py\u001b[0m in \u001b[0;36mf\u001b[0;34m(self, **kwargs)\u001b[0m\n\u001b[1;32m   1375\u001b[0m \u001b[0;34m\u001b[0m\u001b[0m\n\u001b[1;32m   1376\u001b[0m                 \u001b[0;31m# apply a non-cython aggregation\u001b[0m\u001b[0;34m\u001b[0m\u001b[0;34m\u001b[0m\u001b[0;34m\u001b[0m\u001b[0m\n\u001b[0;32m-> 1377\u001b[0;31m                 \u001b[0mresult\u001b[0m \u001b[0;34m=\u001b[0m \u001b[0mself\u001b[0m\u001b[0;34m.\u001b[0m\u001b[0maggregate\u001b[0m\u001b[0;34m(\u001b[0m\u001b[0;32mlambda\u001b[0m \u001b[0mx\u001b[0m\u001b[0;34m:\u001b[0m \u001b[0mnpfunc\u001b[0m\u001b[0;34m(\u001b[0m\u001b[0mx\u001b[0m\u001b[0;34m,\u001b[0m \u001b[0maxis\u001b[0m\u001b[0;34m=\u001b[0m\u001b[0mself\u001b[0m\u001b[0;34m.\u001b[0m\u001b[0maxis\u001b[0m\u001b[0;34m)\u001b[0m\u001b[0;34m)\u001b[0m\u001b[0;34m\u001b[0m\u001b[0;34m\u001b[0m\u001b[0m\n\u001b[0m\u001b[1;32m   1378\u001b[0m \u001b[0;34m\u001b[0m\u001b[0m\n\u001b[1;32m   1379\u001b[0m                 \u001b[0;31m# coerce the resulting columns if we can\u001b[0m\u001b[0;34m\u001b[0m\u001b[0;34m\u001b[0m\u001b[0;34m\u001b[0m\u001b[0m\n",
      "\u001b[0;32m/opt/conda/lib/python3.7/site-packages/pandas/core/groupby/generic.py\u001b[0m in \u001b[0;36maggregate\u001b[0;34m(self, arg, *args, **kwargs)\u001b[0m\n\u001b[1;32m   1453\u001b[0m     \u001b[0;34m@\u001b[0m\u001b[0mAppender\u001b[0m\u001b[0;34m(\u001b[0m\u001b[0m_shared_docs\u001b[0m\u001b[0;34m[\u001b[0m\u001b[0;34m\"aggregate\"\u001b[0m\u001b[0;34m]\u001b[0m\u001b[0;34m)\u001b[0m\u001b[0;34m\u001b[0m\u001b[0;34m\u001b[0m\u001b[0m\n\u001b[1;32m   1454\u001b[0m     \u001b[0;32mdef\u001b[0m \u001b[0maggregate\u001b[0m\u001b[0;34m(\u001b[0m\u001b[0mself\u001b[0m\u001b[0;34m,\u001b[0m \u001b[0marg\u001b[0m\u001b[0;34m=\u001b[0m\u001b[0;32mNone\u001b[0m\u001b[0;34m,\u001b[0m \u001b[0;34m*\u001b[0m\u001b[0margs\u001b[0m\u001b[0;34m,\u001b[0m \u001b[0;34m**\u001b[0m\u001b[0mkwargs\u001b[0m\u001b[0;34m)\u001b[0m\u001b[0;34m:\u001b[0m\u001b[0;34m\u001b[0m\u001b[0;34m\u001b[0m\u001b[0m\n\u001b[0;32m-> 1455\u001b[0;31m         \u001b[0;32mreturn\u001b[0m \u001b[0msuper\u001b[0m\u001b[0;34m(\u001b[0m\u001b[0;34m)\u001b[0m\u001b[0;34m.\u001b[0m\u001b[0maggregate\u001b[0m\u001b[0;34m(\u001b[0m\u001b[0marg\u001b[0m\u001b[0;34m,\u001b[0m \u001b[0;34m*\u001b[0m\u001b[0margs\u001b[0m\u001b[0;34m,\u001b[0m \u001b[0;34m**\u001b[0m\u001b[0mkwargs\u001b[0m\u001b[0;34m)\u001b[0m\u001b[0;34m\u001b[0m\u001b[0;34m\u001b[0m\u001b[0m\n\u001b[0m\u001b[1;32m   1456\u001b[0m \u001b[0;34m\u001b[0m\u001b[0m\n\u001b[1;32m   1457\u001b[0m     \u001b[0magg\u001b[0m \u001b[0;34m=\u001b[0m \u001b[0maggregate\u001b[0m\u001b[0;34m\u001b[0m\u001b[0;34m\u001b[0m\u001b[0m\n",
      "\u001b[0;32m/opt/conda/lib/python3.7/site-packages/pandas/core/groupby/generic.py\u001b[0m in \u001b[0;36maggregate\u001b[0;34m(self, func, *args, **kwargs)\u001b[0m\n\u001b[1;32m    235\u001b[0m             \u001b[0;31m# grouper specific aggregations\u001b[0m\u001b[0;34m\u001b[0m\u001b[0;34m\u001b[0m\u001b[0;34m\u001b[0m\u001b[0m\n\u001b[1;32m    236\u001b[0m             \u001b[0;32mif\u001b[0m \u001b[0mself\u001b[0m\u001b[0;34m.\u001b[0m\u001b[0mgrouper\u001b[0m\u001b[0;34m.\u001b[0m\u001b[0mnkeys\u001b[0m \u001b[0;34m>\u001b[0m \u001b[0;36m1\u001b[0m\u001b[0;34m:\u001b[0m\u001b[0;34m\u001b[0m\u001b[0;34m\u001b[0m\u001b[0m\n\u001b[0;32m--> 237\u001b[0;31m                 \u001b[0;32mreturn\u001b[0m \u001b[0mself\u001b[0m\u001b[0;34m.\u001b[0m\u001b[0m_python_agg_general\u001b[0m\u001b[0;34m(\u001b[0m\u001b[0mfunc\u001b[0m\u001b[0;34m,\u001b[0m \u001b[0;34m*\u001b[0m\u001b[0margs\u001b[0m\u001b[0;34m,\u001b[0m \u001b[0;34m**\u001b[0m\u001b[0mkwargs\u001b[0m\u001b[0;34m)\u001b[0m\u001b[0;34m\u001b[0m\u001b[0;34m\u001b[0m\u001b[0m\n\u001b[0m\u001b[1;32m    238\u001b[0m             \u001b[0;32melse\u001b[0m\u001b[0;34m:\u001b[0m\u001b[0;34m\u001b[0m\u001b[0;34m\u001b[0m\u001b[0m\n\u001b[1;32m    239\u001b[0m \u001b[0;34m\u001b[0m\u001b[0m\n",
      "\u001b[0;32m/opt/conda/lib/python3.7/site-packages/pandas/core/groupby/groupby.py\u001b[0m in \u001b[0;36m_python_agg_general\u001b[0;34m(self, func, *args, **kwargs)\u001b[0m\n\u001b[1;32m    904\u001b[0m \u001b[0;34m\u001b[0m\u001b[0m\n\u001b[1;32m    905\u001b[0m         \u001b[0;32mif\u001b[0m \u001b[0mlen\u001b[0m\u001b[0;34m(\u001b[0m\u001b[0moutput\u001b[0m\u001b[0;34m)\u001b[0m \u001b[0;34m==\u001b[0m \u001b[0;36m0\u001b[0m\u001b[0;34m:\u001b[0m\u001b[0;34m\u001b[0m\u001b[0;34m\u001b[0m\u001b[0m\n\u001b[0;32m--> 906\u001b[0;31m             \u001b[0;32mreturn\u001b[0m \u001b[0mself\u001b[0m\u001b[0;34m.\u001b[0m\u001b[0m_python_apply_general\u001b[0m\u001b[0;34m(\u001b[0m\u001b[0mf\u001b[0m\u001b[0;34m)\u001b[0m\u001b[0;34m\u001b[0m\u001b[0;34m\u001b[0m\u001b[0m\n\u001b[0m\u001b[1;32m    907\u001b[0m \u001b[0;34m\u001b[0m\u001b[0m\n\u001b[1;32m    908\u001b[0m         \u001b[0;32mif\u001b[0m \u001b[0mself\u001b[0m\u001b[0;34m.\u001b[0m\u001b[0mgrouper\u001b[0m\u001b[0;34m.\u001b[0m\u001b[0m_filter_empty_groups\u001b[0m\u001b[0;34m:\u001b[0m\u001b[0;34m\u001b[0m\u001b[0;34m\u001b[0m\u001b[0m\n",
      "\u001b[0;32m/opt/conda/lib/python3.7/site-packages/pandas/core/groupby/groupby.py\u001b[0m in \u001b[0;36m_python_apply_general\u001b[0;34m(self, f)\u001b[0m\n\u001b[1;32m    740\u001b[0m \u001b[0;34m\u001b[0m\u001b[0m\n\u001b[1;32m    741\u001b[0m     \u001b[0;32mdef\u001b[0m \u001b[0m_python_apply_general\u001b[0m\u001b[0;34m(\u001b[0m\u001b[0mself\u001b[0m\u001b[0;34m,\u001b[0m \u001b[0mf\u001b[0m\u001b[0;34m)\u001b[0m\u001b[0;34m:\u001b[0m\u001b[0;34m\u001b[0m\u001b[0;34m\u001b[0m\u001b[0m\n\u001b[0;32m--> 742\u001b[0;31m         \u001b[0mkeys\u001b[0m\u001b[0;34m,\u001b[0m \u001b[0mvalues\u001b[0m\u001b[0;34m,\u001b[0m \u001b[0mmutated\u001b[0m \u001b[0;34m=\u001b[0m \u001b[0mself\u001b[0m\u001b[0;34m.\u001b[0m\u001b[0mgrouper\u001b[0m\u001b[0;34m.\u001b[0m\u001b[0mapply\u001b[0m\u001b[0;34m(\u001b[0m\u001b[0mf\u001b[0m\u001b[0;34m,\u001b[0m \u001b[0mself\u001b[0m\u001b[0;34m.\u001b[0m\u001b[0m_selected_obj\u001b[0m\u001b[0;34m,\u001b[0m \u001b[0mself\u001b[0m\u001b[0;34m.\u001b[0m\u001b[0maxis\u001b[0m\u001b[0;34m)\u001b[0m\u001b[0;34m\u001b[0m\u001b[0;34m\u001b[0m\u001b[0m\n\u001b[0m\u001b[1;32m    743\u001b[0m \u001b[0;34m\u001b[0m\u001b[0m\n\u001b[1;32m    744\u001b[0m         return self._wrap_applied_output(\n",
      "\u001b[0;32m/opt/conda/lib/python3.7/site-packages/pandas/core/groupby/ops.py\u001b[0m in \u001b[0;36mapply\u001b[0;34m(self, f, data, axis)\u001b[0m\n\u001b[1;32m    189\u001b[0m     \u001b[0;32mdef\u001b[0m \u001b[0mapply\u001b[0m\u001b[0;34m(\u001b[0m\u001b[0mself\u001b[0m\u001b[0;34m,\u001b[0m \u001b[0mf\u001b[0m\u001b[0;34m,\u001b[0m \u001b[0mdata\u001b[0m\u001b[0;34m,\u001b[0m \u001b[0maxis\u001b[0m\u001b[0;34m=\u001b[0m\u001b[0;36m0\u001b[0m\u001b[0;34m)\u001b[0m\u001b[0;34m:\u001b[0m\u001b[0;34m\u001b[0m\u001b[0;34m\u001b[0m\u001b[0m\n\u001b[1;32m    190\u001b[0m         \u001b[0mmutated\u001b[0m \u001b[0;34m=\u001b[0m \u001b[0mself\u001b[0m\u001b[0;34m.\u001b[0m\u001b[0mmutated\u001b[0m\u001b[0;34m\u001b[0m\u001b[0;34m\u001b[0m\u001b[0m\n\u001b[0;32m--> 191\u001b[0;31m         \u001b[0msplitter\u001b[0m \u001b[0;34m=\u001b[0m \u001b[0mself\u001b[0m\u001b[0;34m.\u001b[0m\u001b[0m_get_splitter\u001b[0m\u001b[0;34m(\u001b[0m\u001b[0mdata\u001b[0m\u001b[0;34m,\u001b[0m \u001b[0maxis\u001b[0m\u001b[0;34m=\u001b[0m\u001b[0maxis\u001b[0m\u001b[0;34m)\u001b[0m\u001b[0;34m\u001b[0m\u001b[0;34m\u001b[0m\u001b[0m\n\u001b[0m\u001b[1;32m    192\u001b[0m         \u001b[0mgroup_keys\u001b[0m \u001b[0;34m=\u001b[0m \u001b[0mself\u001b[0m\u001b[0;34m.\u001b[0m\u001b[0m_get_group_keys\u001b[0m\u001b[0;34m(\u001b[0m\u001b[0;34m)\u001b[0m\u001b[0;34m\u001b[0m\u001b[0;34m\u001b[0m\u001b[0m\n\u001b[1;32m    193\u001b[0m         \u001b[0mresult_values\u001b[0m \u001b[0;34m=\u001b[0m \u001b[0;32mNone\u001b[0m\u001b[0;34m\u001b[0m\u001b[0;34m\u001b[0m\u001b[0m\n",
      "\u001b[0;32m/opt/conda/lib/python3.7/site-packages/pandas/core/groupby/ops.py\u001b[0m in \u001b[0;36m_get_splitter\u001b[0;34m(self, data, axis)\u001b[0m\n\u001b[1;32m    166\u001b[0m \u001b[0;34m\u001b[0m\u001b[0m\n\u001b[1;32m    167\u001b[0m     \u001b[0;32mdef\u001b[0m \u001b[0m_get_splitter\u001b[0m\u001b[0;34m(\u001b[0m\u001b[0mself\u001b[0m\u001b[0;34m,\u001b[0m \u001b[0mdata\u001b[0m\u001b[0;34m,\u001b[0m \u001b[0maxis\u001b[0m\u001b[0;34m=\u001b[0m\u001b[0;36m0\u001b[0m\u001b[0;34m)\u001b[0m\u001b[0;34m:\u001b[0m\u001b[0;34m\u001b[0m\u001b[0;34m\u001b[0m\u001b[0m\n\u001b[0;32m--> 168\u001b[0;31m         \u001b[0mcomp_ids\u001b[0m\u001b[0;34m,\u001b[0m \u001b[0m_\u001b[0m\u001b[0;34m,\u001b[0m \u001b[0mngroups\u001b[0m \u001b[0;34m=\u001b[0m \u001b[0mself\u001b[0m\u001b[0;34m.\u001b[0m\u001b[0mgroup_info\u001b[0m\u001b[0;34m\u001b[0m\u001b[0;34m\u001b[0m\u001b[0m\n\u001b[0m\u001b[1;32m    169\u001b[0m         \u001b[0;32mreturn\u001b[0m \u001b[0mget_splitter\u001b[0m\u001b[0;34m(\u001b[0m\u001b[0mdata\u001b[0m\u001b[0;34m,\u001b[0m \u001b[0mcomp_ids\u001b[0m\u001b[0;34m,\u001b[0m \u001b[0mngroups\u001b[0m\u001b[0;34m,\u001b[0m \u001b[0maxis\u001b[0m\u001b[0;34m=\u001b[0m\u001b[0maxis\u001b[0m\u001b[0;34m)\u001b[0m\u001b[0;34m\u001b[0m\u001b[0;34m\u001b[0m\u001b[0m\n\u001b[1;32m    170\u001b[0m \u001b[0;34m\u001b[0m\u001b[0m\n",
      "\u001b[0;32mpandas/_libs/properties.pyx\u001b[0m in \u001b[0;36mpandas._libs.properties.CachedProperty.__get__\u001b[0;34m()\u001b[0m\n",
      "\u001b[0;32m/opt/conda/lib/python3.7/site-packages/pandas/core/groupby/ops.py\u001b[0m in \u001b[0;36mgroup_info\u001b[0;34m(self)\u001b[0m\n\u001b[1;32m    294\u001b[0m     \u001b[0;34m@\u001b[0m\u001b[0mcache_readonly\u001b[0m\u001b[0;34m\u001b[0m\u001b[0;34m\u001b[0m\u001b[0m\n\u001b[1;32m    295\u001b[0m     \u001b[0;32mdef\u001b[0m \u001b[0mgroup_info\u001b[0m\u001b[0;34m(\u001b[0m\u001b[0mself\u001b[0m\u001b[0;34m)\u001b[0m\u001b[0;34m:\u001b[0m\u001b[0;34m\u001b[0m\u001b[0;34m\u001b[0m\u001b[0m\n\u001b[0;32m--> 296\u001b[0;31m         \u001b[0mcomp_ids\u001b[0m\u001b[0;34m,\u001b[0m \u001b[0mobs_group_ids\u001b[0m \u001b[0;34m=\u001b[0m \u001b[0mself\u001b[0m\u001b[0;34m.\u001b[0m\u001b[0m_get_compressed_labels\u001b[0m\u001b[0;34m(\u001b[0m\u001b[0;34m)\u001b[0m\u001b[0;34m\u001b[0m\u001b[0;34m\u001b[0m\u001b[0m\n\u001b[0m\u001b[1;32m    297\u001b[0m \u001b[0;34m\u001b[0m\u001b[0m\n\u001b[1;32m    298\u001b[0m         \u001b[0mngroups\u001b[0m \u001b[0;34m=\u001b[0m \u001b[0mlen\u001b[0m\u001b[0;34m(\u001b[0m\u001b[0mobs_group_ids\u001b[0m\u001b[0;34m)\u001b[0m\u001b[0;34m\u001b[0m\u001b[0;34m\u001b[0m\u001b[0m\n",
      "\u001b[0;32m/opt/conda/lib/python3.7/site-packages/pandas/core/groupby/ops.py\u001b[0m in \u001b[0;36m_get_compressed_labels\u001b[0;34m(self)\u001b[0m\n\u001b[1;32m    310\u001b[0m \u001b[0;34m\u001b[0m\u001b[0m\n\u001b[1;32m    311\u001b[0m     \u001b[0;32mdef\u001b[0m \u001b[0m_get_compressed_labels\u001b[0m\u001b[0;34m(\u001b[0m\u001b[0mself\u001b[0m\u001b[0;34m)\u001b[0m\u001b[0;34m:\u001b[0m\u001b[0;34m\u001b[0m\u001b[0;34m\u001b[0m\u001b[0m\n\u001b[0;32m--> 312\u001b[0;31m         \u001b[0mall_labels\u001b[0m \u001b[0;34m=\u001b[0m \u001b[0;34m[\u001b[0m\u001b[0mping\u001b[0m\u001b[0;34m.\u001b[0m\u001b[0mlabels\u001b[0m \u001b[0;32mfor\u001b[0m \u001b[0mping\u001b[0m \u001b[0;32min\u001b[0m \u001b[0mself\u001b[0m\u001b[0;34m.\u001b[0m\u001b[0mgroupings\u001b[0m\u001b[0;34m]\u001b[0m\u001b[0;34m\u001b[0m\u001b[0;34m\u001b[0m\u001b[0m\n\u001b[0m\u001b[1;32m    313\u001b[0m         \u001b[0;32mif\u001b[0m \u001b[0mlen\u001b[0m\u001b[0;34m(\u001b[0m\u001b[0mall_labels\u001b[0m\u001b[0;34m)\u001b[0m \u001b[0;34m>\u001b[0m \u001b[0;36m1\u001b[0m\u001b[0;34m:\u001b[0m\u001b[0;34m\u001b[0m\u001b[0;34m\u001b[0m\u001b[0m\n\u001b[1;32m    314\u001b[0m             \u001b[0mgroup_index\u001b[0m \u001b[0;34m=\u001b[0m \u001b[0mget_group_index\u001b[0m\u001b[0;34m(\u001b[0m\u001b[0mall_labels\u001b[0m\u001b[0;34m,\u001b[0m \u001b[0mself\u001b[0m\u001b[0;34m.\u001b[0m\u001b[0mshape\u001b[0m\u001b[0;34m,\u001b[0m \u001b[0msort\u001b[0m\u001b[0;34m=\u001b[0m\u001b[0;32mTrue\u001b[0m\u001b[0;34m,\u001b[0m \u001b[0mxnull\u001b[0m\u001b[0;34m=\u001b[0m\u001b[0;32mTrue\u001b[0m\u001b[0;34m)\u001b[0m\u001b[0;34m\u001b[0m\u001b[0;34m\u001b[0m\u001b[0m\n",
      "\u001b[0;32m/opt/conda/lib/python3.7/site-packages/pandas/core/groupby/ops.py\u001b[0m in \u001b[0;36m<listcomp>\u001b[0;34m(.0)\u001b[0m\n\u001b[1;32m    310\u001b[0m \u001b[0;34m\u001b[0m\u001b[0m\n\u001b[1;32m    311\u001b[0m     \u001b[0;32mdef\u001b[0m \u001b[0m_get_compressed_labels\u001b[0m\u001b[0;34m(\u001b[0m\u001b[0mself\u001b[0m\u001b[0;34m)\u001b[0m\u001b[0;34m:\u001b[0m\u001b[0;34m\u001b[0m\u001b[0;34m\u001b[0m\u001b[0m\n\u001b[0;32m--> 312\u001b[0;31m         \u001b[0mall_labels\u001b[0m \u001b[0;34m=\u001b[0m \u001b[0;34m[\u001b[0m\u001b[0mping\u001b[0m\u001b[0;34m.\u001b[0m\u001b[0mlabels\u001b[0m \u001b[0;32mfor\u001b[0m \u001b[0mping\u001b[0m \u001b[0;32min\u001b[0m \u001b[0mself\u001b[0m\u001b[0;34m.\u001b[0m\u001b[0mgroupings\u001b[0m\u001b[0;34m]\u001b[0m\u001b[0;34m\u001b[0m\u001b[0;34m\u001b[0m\u001b[0m\n\u001b[0m\u001b[1;32m    313\u001b[0m         \u001b[0;32mif\u001b[0m \u001b[0mlen\u001b[0m\u001b[0;34m(\u001b[0m\u001b[0mall_labels\u001b[0m\u001b[0;34m)\u001b[0m \u001b[0;34m>\u001b[0m \u001b[0;36m1\u001b[0m\u001b[0;34m:\u001b[0m\u001b[0;34m\u001b[0m\u001b[0;34m\u001b[0m\u001b[0m\n\u001b[1;32m    314\u001b[0m             \u001b[0mgroup_index\u001b[0m \u001b[0;34m=\u001b[0m \u001b[0mget_group_index\u001b[0m\u001b[0;34m(\u001b[0m\u001b[0mall_labels\u001b[0m\u001b[0;34m,\u001b[0m \u001b[0mself\u001b[0m\u001b[0;34m.\u001b[0m\u001b[0mshape\u001b[0m\u001b[0;34m,\u001b[0m \u001b[0msort\u001b[0m\u001b[0;34m=\u001b[0m\u001b[0;32mTrue\u001b[0m\u001b[0;34m,\u001b[0m \u001b[0mxnull\u001b[0m\u001b[0;34m=\u001b[0m\u001b[0;32mTrue\u001b[0m\u001b[0;34m)\u001b[0m\u001b[0;34m\u001b[0m\u001b[0;34m\u001b[0m\u001b[0m\n",
      "\u001b[0;32m/opt/conda/lib/python3.7/site-packages/pandas/core/groupby/grouper.py\u001b[0m in \u001b[0;36mlabels\u001b[0;34m(self)\u001b[0m\n\u001b[1;32m    395\u001b[0m     \u001b[0;32mdef\u001b[0m \u001b[0mlabels\u001b[0m\u001b[0;34m(\u001b[0m\u001b[0mself\u001b[0m\u001b[0;34m)\u001b[0m\u001b[0;34m:\u001b[0m\u001b[0;34m\u001b[0m\u001b[0;34m\u001b[0m\u001b[0m\n\u001b[1;32m    396\u001b[0m         \u001b[0;32mif\u001b[0m \u001b[0mself\u001b[0m\u001b[0;34m.\u001b[0m\u001b[0m_labels\u001b[0m \u001b[0;32mis\u001b[0m \u001b[0;32mNone\u001b[0m\u001b[0;34m:\u001b[0m\u001b[0;34m\u001b[0m\u001b[0;34m\u001b[0m\u001b[0m\n\u001b[0;32m--> 397\u001b[0;31m             \u001b[0mself\u001b[0m\u001b[0;34m.\u001b[0m\u001b[0m_make_labels\u001b[0m\u001b[0;34m(\u001b[0m\u001b[0;34m)\u001b[0m\u001b[0;34m\u001b[0m\u001b[0;34m\u001b[0m\u001b[0m\n\u001b[0m\u001b[1;32m    398\u001b[0m         \u001b[0;32mreturn\u001b[0m \u001b[0mself\u001b[0m\u001b[0;34m.\u001b[0m\u001b[0m_labels\u001b[0m\u001b[0;34m\u001b[0m\u001b[0;34m\u001b[0m\u001b[0m\n\u001b[1;32m    399\u001b[0m \u001b[0;34m\u001b[0m\u001b[0m\n",
      "\u001b[0;32m/opt/conda/lib/python3.7/site-packages/pandas/core/groupby/grouper.py\u001b[0m in \u001b[0;36m_make_labels\u001b[0;34m(self)\u001b[0m\n\u001b[1;32m    419\u001b[0m                 \u001b[0muniques\u001b[0m \u001b[0;34m=\u001b[0m \u001b[0mself\u001b[0m\u001b[0;34m.\u001b[0m\u001b[0mgrouper\u001b[0m\u001b[0;34m.\u001b[0m\u001b[0mresult_index\u001b[0m\u001b[0;34m\u001b[0m\u001b[0;34m\u001b[0m\u001b[0m\n\u001b[1;32m    420\u001b[0m             \u001b[0;32melse\u001b[0m\u001b[0;34m:\u001b[0m\u001b[0;34m\u001b[0m\u001b[0;34m\u001b[0m\u001b[0m\n\u001b[0;32m--> 421\u001b[0;31m                 \u001b[0mlabels\u001b[0m\u001b[0;34m,\u001b[0m \u001b[0muniques\u001b[0m \u001b[0;34m=\u001b[0m \u001b[0malgorithms\u001b[0m\u001b[0;34m.\u001b[0m\u001b[0mfactorize\u001b[0m\u001b[0;34m(\u001b[0m\u001b[0mself\u001b[0m\u001b[0;34m.\u001b[0m\u001b[0mgrouper\u001b[0m\u001b[0;34m,\u001b[0m \u001b[0msort\u001b[0m\u001b[0;34m=\u001b[0m\u001b[0mself\u001b[0m\u001b[0;34m.\u001b[0m\u001b[0msort\u001b[0m\u001b[0;34m)\u001b[0m\u001b[0;34m\u001b[0m\u001b[0;34m\u001b[0m\u001b[0m\n\u001b[0m\u001b[1;32m    422\u001b[0m                 \u001b[0muniques\u001b[0m \u001b[0;34m=\u001b[0m \u001b[0mIndex\u001b[0m\u001b[0;34m(\u001b[0m\u001b[0muniques\u001b[0m\u001b[0;34m,\u001b[0m \u001b[0mname\u001b[0m\u001b[0;34m=\u001b[0m\u001b[0mself\u001b[0m\u001b[0;34m.\u001b[0m\u001b[0mname\u001b[0m\u001b[0;34m)\u001b[0m\u001b[0;34m\u001b[0m\u001b[0;34m\u001b[0m\u001b[0m\n\u001b[1;32m    423\u001b[0m             \u001b[0mself\u001b[0m\u001b[0;34m.\u001b[0m\u001b[0m_labels\u001b[0m \u001b[0;34m=\u001b[0m \u001b[0mlabels\u001b[0m\u001b[0;34m\u001b[0m\u001b[0;34m\u001b[0m\u001b[0m\n",
      "\u001b[0;32m/opt/conda/lib/python3.7/site-packages/pandas/util/_decorators.py\u001b[0m in \u001b[0;36mwrapper\u001b[0;34m(*args, **kwargs)\u001b[0m\n\u001b[1;32m    206\u001b[0m                 \u001b[0;32melse\u001b[0m\u001b[0;34m:\u001b[0m\u001b[0;34m\u001b[0m\u001b[0;34m\u001b[0m\u001b[0m\n\u001b[1;32m    207\u001b[0m                     \u001b[0mkwargs\u001b[0m\u001b[0;34m[\u001b[0m\u001b[0mnew_arg_name\u001b[0m\u001b[0;34m]\u001b[0m \u001b[0;34m=\u001b[0m \u001b[0mnew_arg_value\u001b[0m\u001b[0;34m\u001b[0m\u001b[0;34m\u001b[0m\u001b[0m\n\u001b[0;32m--> 208\u001b[0;31m             \u001b[0;32mreturn\u001b[0m \u001b[0mfunc\u001b[0m\u001b[0;34m(\u001b[0m\u001b[0;34m*\u001b[0m\u001b[0margs\u001b[0m\u001b[0;34m,\u001b[0m \u001b[0;34m**\u001b[0m\u001b[0mkwargs\u001b[0m\u001b[0;34m)\u001b[0m\u001b[0;34m\u001b[0m\u001b[0;34m\u001b[0m\u001b[0m\n\u001b[0m\u001b[1;32m    209\u001b[0m \u001b[0;34m\u001b[0m\u001b[0m\n\u001b[1;32m    210\u001b[0m         \u001b[0;32mreturn\u001b[0m \u001b[0mwrapper\u001b[0m\u001b[0;34m\u001b[0m\u001b[0;34m\u001b[0m\u001b[0m\n",
      "\u001b[0;32m/opt/conda/lib/python3.7/site-packages/pandas/core/algorithms.py\u001b[0m in \u001b[0;36mfactorize\u001b[0;34m(values, sort, order, na_sentinel, size_hint)\u001b[0m\n\u001b[1;32m    677\u001b[0m \u001b[0;34m\u001b[0m\u001b[0m\n\u001b[1;32m    678\u001b[0m         uniques, labels = safe_sort(\n\u001b[0;32m--> 679\u001b[0;31m             \u001b[0muniques\u001b[0m\u001b[0;34m,\u001b[0m \u001b[0mlabels\u001b[0m\u001b[0;34m,\u001b[0m \u001b[0mna_sentinel\u001b[0m\u001b[0;34m=\u001b[0m\u001b[0mna_sentinel\u001b[0m\u001b[0;34m,\u001b[0m \u001b[0massume_unique\u001b[0m\u001b[0;34m=\u001b[0m\u001b[0;32mTrue\u001b[0m\u001b[0;34m,\u001b[0m \u001b[0mverify\u001b[0m\u001b[0;34m=\u001b[0m\u001b[0;32mFalse\u001b[0m\u001b[0;34m\u001b[0m\u001b[0;34m\u001b[0m\u001b[0m\n\u001b[0m\u001b[1;32m    680\u001b[0m         )\n\u001b[1;32m    681\u001b[0m \u001b[0;34m\u001b[0m\u001b[0m\n",
      "\u001b[0;32m/opt/conda/lib/python3.7/site-packages/pandas/core/sorting.py\u001b[0m in \u001b[0;36msafe_sort\u001b[0;34m(values, labels, na_sentinel, assume_unique, verify)\u001b[0m\n\u001b[1;32m    468\u001b[0m         \u001b[0;32mexcept\u001b[0m \u001b[0mTypeError\u001b[0m\u001b[0;34m:\u001b[0m\u001b[0;34m\u001b[0m\u001b[0;34m\u001b[0m\u001b[0m\n\u001b[1;32m    469\u001b[0m             \u001b[0;31m# try this anyway\u001b[0m\u001b[0;34m\u001b[0m\u001b[0;34m\u001b[0m\u001b[0;34m\u001b[0m\u001b[0m\n\u001b[0;32m--> 470\u001b[0;31m             \u001b[0mordered\u001b[0m \u001b[0;34m=\u001b[0m \u001b[0msort_mixed\u001b[0m\u001b[0;34m(\u001b[0m\u001b[0mvalues\u001b[0m\u001b[0;34m)\u001b[0m\u001b[0;34m\u001b[0m\u001b[0;34m\u001b[0m\u001b[0m\n\u001b[0m\u001b[1;32m    471\u001b[0m \u001b[0;34m\u001b[0m\u001b[0m\n\u001b[1;32m    472\u001b[0m     \u001b[0;31m# labels:\u001b[0m\u001b[0;34m\u001b[0m\u001b[0;34m\u001b[0m\u001b[0;34m\u001b[0m\u001b[0m\n",
      "\u001b[0;32m/opt/conda/lib/python3.7/site-packages/pandas/core/sorting.py\u001b[0m in \u001b[0;36msort_mixed\u001b[0;34m(values)\u001b[0m\n\u001b[1;32m    451\u001b[0m         \u001b[0;31m# order ints before strings, safe in py3\u001b[0m\u001b[0;34m\u001b[0m\u001b[0;34m\u001b[0m\u001b[0;34m\u001b[0m\u001b[0m\n\u001b[1;32m    452\u001b[0m         \u001b[0mstr_pos\u001b[0m \u001b[0;34m=\u001b[0m \u001b[0mnp\u001b[0m\u001b[0;34m.\u001b[0m\u001b[0marray\u001b[0m\u001b[0;34m(\u001b[0m\u001b[0;34m[\u001b[0m\u001b[0misinstance\u001b[0m\u001b[0;34m(\u001b[0m\u001b[0mx\u001b[0m\u001b[0;34m,\u001b[0m \u001b[0mstr\u001b[0m\u001b[0;34m)\u001b[0m \u001b[0;32mfor\u001b[0m \u001b[0mx\u001b[0m \u001b[0;32min\u001b[0m \u001b[0mvalues\u001b[0m\u001b[0;34m]\u001b[0m\u001b[0;34m,\u001b[0m \u001b[0mdtype\u001b[0m\u001b[0;34m=\u001b[0m\u001b[0mbool\u001b[0m\u001b[0;34m)\u001b[0m\u001b[0;34m\u001b[0m\u001b[0;34m\u001b[0m\u001b[0m\n\u001b[0;32m--> 453\u001b[0;31m         \u001b[0mnums\u001b[0m \u001b[0;34m=\u001b[0m \u001b[0mnp\u001b[0m\u001b[0;34m.\u001b[0m\u001b[0msort\u001b[0m\u001b[0;34m(\u001b[0m\u001b[0mvalues\u001b[0m\u001b[0;34m[\u001b[0m\u001b[0;34m~\u001b[0m\u001b[0mstr_pos\u001b[0m\u001b[0;34m]\u001b[0m\u001b[0;34m)\u001b[0m\u001b[0;34m\u001b[0m\u001b[0;34m\u001b[0m\u001b[0m\n\u001b[0m\u001b[1;32m    454\u001b[0m         \u001b[0mstrs\u001b[0m \u001b[0;34m=\u001b[0m \u001b[0mnp\u001b[0m\u001b[0;34m.\u001b[0m\u001b[0msort\u001b[0m\u001b[0;34m(\u001b[0m\u001b[0mvalues\u001b[0m\u001b[0;34m[\u001b[0m\u001b[0mstr_pos\u001b[0m\u001b[0;34m]\u001b[0m\u001b[0;34m)\u001b[0m\u001b[0;34m\u001b[0m\u001b[0;34m\u001b[0m\u001b[0m\n\u001b[1;32m    455\u001b[0m         \u001b[0;32mreturn\u001b[0m \u001b[0mnp\u001b[0m\u001b[0;34m.\u001b[0m\u001b[0mconcatenate\u001b[0m\u001b[0;34m(\u001b[0m\u001b[0;34m[\u001b[0m\u001b[0mnums\u001b[0m\u001b[0;34m,\u001b[0m \u001b[0mnp\u001b[0m\u001b[0;34m.\u001b[0m\u001b[0masarray\u001b[0m\u001b[0;34m(\u001b[0m\u001b[0mstrs\u001b[0m\u001b[0;34m,\u001b[0m \u001b[0mdtype\u001b[0m\u001b[0;34m=\u001b[0m\u001b[0mobject\u001b[0m\u001b[0;34m)\u001b[0m\u001b[0;34m]\u001b[0m\u001b[0;34m)\u001b[0m\u001b[0;34m\u001b[0m\u001b[0;34m\u001b[0m\u001b[0m\n",
      "\u001b[0;32m<__array_function__ internals>\u001b[0m in \u001b[0;36msort\u001b[0;34m(*args, **kwargs)\u001b[0m\n",
      "\u001b[0;32m/opt/conda/lib/python3.7/site-packages/numpy/core/fromnumeric.py\u001b[0m in \u001b[0;36msort\u001b[0;34m(a, axis, kind, order)\u001b[0m\n\u001b[1;32m    968\u001b[0m     \u001b[0;32melse\u001b[0m\u001b[0;34m:\u001b[0m\u001b[0;34m\u001b[0m\u001b[0;34m\u001b[0m\u001b[0m\n\u001b[1;32m    969\u001b[0m         \u001b[0ma\u001b[0m \u001b[0;34m=\u001b[0m \u001b[0masanyarray\u001b[0m\u001b[0;34m(\u001b[0m\u001b[0ma\u001b[0m\u001b[0;34m)\u001b[0m\u001b[0;34m.\u001b[0m\u001b[0mcopy\u001b[0m\u001b[0;34m(\u001b[0m\u001b[0morder\u001b[0m\u001b[0;34m=\u001b[0m\u001b[0;34m\"K\"\u001b[0m\u001b[0;34m)\u001b[0m\u001b[0;34m\u001b[0m\u001b[0;34m\u001b[0m\u001b[0m\n\u001b[0;32m--> 970\u001b[0;31m     \u001b[0ma\u001b[0m\u001b[0;34m.\u001b[0m\u001b[0msort\u001b[0m\u001b[0;34m(\u001b[0m\u001b[0maxis\u001b[0m\u001b[0;34m=\u001b[0m\u001b[0maxis\u001b[0m\u001b[0;34m,\u001b[0m \u001b[0mkind\u001b[0m\u001b[0;34m=\u001b[0m\u001b[0mkind\u001b[0m\u001b[0;34m,\u001b[0m \u001b[0morder\u001b[0m\u001b[0;34m=\u001b[0m\u001b[0morder\u001b[0m\u001b[0;34m)\u001b[0m\u001b[0;34m\u001b[0m\u001b[0;34m\u001b[0m\u001b[0m\n\u001b[0m\u001b[1;32m    971\u001b[0m     \u001b[0;32mreturn\u001b[0m \u001b[0ma\u001b[0m\u001b[0;34m\u001b[0m\u001b[0;34m\u001b[0m\u001b[0m\n\u001b[1;32m    972\u001b[0m \u001b[0;34m\u001b[0m\u001b[0m\n",
      "\u001b[0;31mTypeError\u001b[0m: '<' not supported between instances of 'Polygon' and 'Polygon'"
     ]
    }
   ],
   "source": [
    "test_group_all= cell5M_baseline_merged[['iso','cell5m', 'crop', 'irrigation', 'prod','aq30_id','geometry']].sort_values(['cell5m','irrigation','prod'], ascending=False).groupby(['cell5m','aq30_id','crop', 'geometry']).sum().reset_index()\n",
    "test_group_all.head(10)"
   ]
  },
  {
   "cell_type": "code",
   "execution_count": null,
   "metadata": {},
   "outputs": [],
   "source": []
  }
 ],
 "metadata": {
  "kernelspec": {
   "display_name": "Python 3",
   "language": "python",
   "name": "python3"
  },
  "language_info": {
   "codemirror_mode": {
    "name": "ipython",
    "version": 3
   },
   "file_extension": ".py",
   "mimetype": "text/x-python",
   "name": "python",
   "nbconvert_exporter": "python",
   "pygments_lexer": "ipython3",
   "version": "3.7.3"
  }
 },
 "nbformat": 4,
 "nbformat_minor": 2
}
