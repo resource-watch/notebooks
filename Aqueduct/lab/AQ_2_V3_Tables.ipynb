{
 "cells": [
  {
   "cell_type": "markdown",
   "metadata": {},
   "source": [
    "# Water Risk Tables"
   ]
  },
  {
   "cell_type": "code",
   "execution_count": 2,
   "metadata": {},
   "outputs": [],
   "source": [
    "import pandas as pd\n",
    "import geopandas as gpd\n",
    "import numpy as np\n",
    "import matplotlib.pyplot as plt"
   ]
  },
  {
   "cell_type": "markdown",
   "metadata": {},
   "source": [
    "##  Framework structure\n",
    "\n",
    "The structure of the framework is as follows. Below we used the default weighting schemes for the groups (quantity, quality and regulatory reputational) and the overall water risk.\n",
    "\n",
    "Overall Water Risk (100%)\n",
    "- Water Quantity Risk (69.4%)\n",
    "    - Baseline Water Stress (16.3%) \n",
    "    - Baseline Water Depletion (16.3%)\n",
    "    - Groundwater Table Decline (16.3%)\n",
    "    - Interannual Variability (2.0%)\n",
    "    - Seasonal Variability (2.0%)\n",
    "    - Drought Risk (8.2%)\n",
    "    - Riverine Flood Risk (4.1%)\n",
    "    - Coastal Flood Risk (4.1%)\n",
    "\n",
    "- Water Quality Risk (12.2%)\n",
    "    - Untreated Collected Wastewater (8.2%)\n",
    "    - Coastal Eutrophication Potential (4.1%)\n",
    "\n",
    "- Regulatory and Reputational (18.4%)\n",
    "    - Unimproved/no drinking water (8.2%)\n",
    "    - Unimproved/no sanitation (8.2%)\n",
    "    - RepRisk Index (2.0%)\n",
    "    \n",
    "\n",
    "**Group names**\n",
    "\n",
    "|Group full \t               |Group short    |\n",
    "|------------------------------|---------------|\n",
    "|Overall Water Risk            |TOT            |\n",
    "|Water Quantity Risk           |QAN            |\n",
    "|Water Quality Risk            |QAL            |\n",
    "|Regulatory and Reputational   |RRR            |\n",
    "\n",
    "**Indicator names**\n",
    "\n",
    "|Indicator full \t                 |Indicator short    |\n",
    "|------------------------------------|-------------------|\n",
    "|Baseline Water Stress               |bws                |    \n",
    "|Baseline Water Depletion            |bwd                |\n",
    "|Groundwater Table Decline           |gtd                |\n",
    "|Interannual Variability             |iav                |\n",
    "|Seasonal Variability                |sev                |\n",
    "|Drought Risk                        |drr                |\n",
    "|Riverine Flood Risk                 |rfr                |\n",
    "|Coastal Flood Risk                  |cfr                |\n",
    "|Untreated Collected Wastewater      |ucw                |\n",
    "|Coastal Eutrophication Potential    |cep                |\n",
    "|Unimproved/no drinking water        |udw                |\n",
    "|Unimproved/no sanitation            |usa                |\n",
    "|RepRisk Index                       |rri                |\n"
   ]
  },
  {
   "cell_type": "markdown",
   "metadata": {},
   "source": [
    "## Weighting Scheme\n",
    "\n",
    "**Weight names**\n",
    "\n",
    "|Industry full \t         |Industry short |\n",
    "|------------------------|---------------|\n",
    "|Default                 |DEF            |\n",
    "|Argiculture             |AGR            |\n",
    "|Electric Power          |ELP            |\n",
    "|Semiconductor           |SMC            |\n",
    "|Oil and gas             |ONG            |\n",
    "|Chemical                |CHE            |\n",
    "|Mining                  |MIN            |\n",
    "|Food and beverage       |FNB            |\n",
    "|Construction materials  |CON            |\n",
    "|Textile                 |TEX            |\n"
   ]
  },
  {
   "cell_type": "markdown",
   "metadata": {},
   "source": [
    "## Annual data"
   ]
  },
  {
   "cell_type": "code",
   "execution_count": 3,
   "metadata": {},
   "outputs": [
    {
     "name": "stderr",
     "output_type": "stream",
     "text": [
      "/anaconda3/lib/python3.6/site-packages/IPython/core/interactiveshell.py:2728: DtypeWarning: Columns (12) have mixed types. Specify dtype option on import or set low_memory=False.\n",
      "  interactivity=interactivity, compiler=compiler, result=result)\n"
     ]
    }
   ],
   "source": [
    "annual_pivot = pd.read_csv('/Users/ikersanchez/Vizzuality/PROIEKTUAK/Aqueduct/work/data/AQ_2_water_risk_atlas/output_V01/annual/annual_pivot.csv')"
   ]
  },
  {
   "cell_type": "code",
   "execution_count": 4,
   "metadata": {},
   "outputs": [
    {
     "data": {
      "text/html": [
       "<div>\n",
       "<style scoped>\n",
       "    .dataframe tbody tr th:only-of-type {\n",
       "        vertical-align: middle;\n",
       "    }\n",
       "\n",
       "    .dataframe tbody tr th {\n",
       "        vertical-align: top;\n",
       "    }\n",
       "\n",
       "    .dataframe thead th {\n",
       "        text-align: right;\n",
       "    }\n",
       "</style>\n",
       "<table border=\"1\" class=\"dataframe\">\n",
       "  <thead>\n",
       "    <tr style=\"text-align: right;\">\n",
       "      <th></th>\n",
       "      <th>Unnamed: 0</th>\n",
       "      <th>aq30_id</th>\n",
       "      <th>aqid</th>\n",
       "      <th>area_km2</th>\n",
       "      <th>bwd_cat</th>\n",
       "      <th>bwd_label</th>\n",
       "      <th>bwd_raw</th>\n",
       "      <th>bwd_score</th>\n",
       "      <th>bws_cat</th>\n",
       "      <th>bws_label</th>\n",
       "      <th>...</th>\n",
       "      <th>w_awr_tex_qan_raw</th>\n",
       "      <th>w_awr_tex_qan_score</th>\n",
       "      <th>w_awr_tex_rrr_cat</th>\n",
       "      <th>w_awr_tex_rrr_label</th>\n",
       "      <th>w_awr_tex_rrr_raw</th>\n",
       "      <th>w_awr_tex_rrr_score</th>\n",
       "      <th>w_awr_tex_tot_cat</th>\n",
       "      <th>w_awr_tex_tot_label</th>\n",
       "      <th>w_awr_tex_tot_raw</th>\n",
       "      <th>w_awr_tex_tot_score</th>\n",
       "    </tr>\n",
       "  </thead>\n",
       "  <tbody>\n",
       "    <tr>\n",
       "      <th>1000</th>\n",
       "      <td>1000</td>\n",
       "      <td>6555</td>\n",
       "      <td>2029</td>\n",
       "      <td>113.398280</td>\n",
       "      <td>0.0</td>\n",
       "      <td>Low</td>\n",
       "      <td>0.009217</td>\n",
       "      <td>0.184346</td>\n",
       "      <td>0.0</td>\n",
       "      <td>Low</td>\n",
       "      <td>...</td>\n",
       "      <td>1.241341</td>\n",
       "      <td>2.299690</td>\n",
       "      <td>2.0</td>\n",
       "      <td>Medium</td>\n",
       "      <td>2.08</td>\n",
       "      <td>2.443003</td>\n",
       "      <td>3.0</td>\n",
       "      <td>Medium - High</td>\n",
       "      <td>2.318940</td>\n",
       "      <td>3.379777</td>\n",
       "    </tr>\n",
       "    <tr>\n",
       "      <th>1001</th>\n",
       "      <td>1001</td>\n",
       "      <td>6591</td>\n",
       "      <td>2029</td>\n",
       "      <td>116.860788</td>\n",
       "      <td>0.0</td>\n",
       "      <td>Low</td>\n",
       "      <td>0.006300</td>\n",
       "      <td>0.126008</td>\n",
       "      <td>0.0</td>\n",
       "      <td>Low</td>\n",
       "      <td>...</td>\n",
       "      <td>1.205297</td>\n",
       "      <td>2.230835</td>\n",
       "      <td>2.0</td>\n",
       "      <td>Medium</td>\n",
       "      <td>2.08</td>\n",
       "      <td>2.443003</td>\n",
       "      <td>3.0</td>\n",
       "      <td>Medium - High</td>\n",
       "      <td>2.304690</td>\n",
       "      <td>3.354922</td>\n",
       "    </tr>\n",
       "    <tr>\n",
       "      <th>1002</th>\n",
       "      <td>1002</td>\n",
       "      <td>2383</td>\n",
       "      <td>2456</td>\n",
       "      <td>20.437585</td>\n",
       "      <td>0.0</td>\n",
       "      <td>Low</td>\n",
       "      <td>0.044543</td>\n",
       "      <td>0.890851</td>\n",
       "      <td>0.0</td>\n",
       "      <td>Low</td>\n",
       "      <td>...</td>\n",
       "      <td>1.193370</td>\n",
       "      <td>2.208051</td>\n",
       "      <td>4.0</td>\n",
       "      <td>High</td>\n",
       "      <td>4.54</td>\n",
       "      <td>4.561620</td>\n",
       "      <td>4.0</td>\n",
       "      <td>High</td>\n",
       "      <td>3.127982</td>\n",
       "      <td>4.194997</td>\n",
       "    </tr>\n",
       "    <tr>\n",
       "      <th>1003</th>\n",
       "      <td>1003</td>\n",
       "      <td>4187</td>\n",
       "      <td>3342</td>\n",
       "      <td>7409.583165</td>\n",
       "      <td>1.0</td>\n",
       "      <td>Low - Medium</td>\n",
       "      <td>0.198013</td>\n",
       "      <td>1.740065</td>\n",
       "      <td>1.0</td>\n",
       "      <td>Low - Medium</td>\n",
       "      <td>...</td>\n",
       "      <td>1.338954</td>\n",
       "      <td>2.486161</td>\n",
       "      <td>4.0</td>\n",
       "      <td>High</td>\n",
       "      <td>4.54</td>\n",
       "      <td>4.561620</td>\n",
       "      <td>4.0</td>\n",
       "      <td>High</td>\n",
       "      <td>3.122204</td>\n",
       "      <td>4.192512</td>\n",
       "    </tr>\n",
       "    <tr>\n",
       "      <th>1004</th>\n",
       "      <td>1004</td>\n",
       "      <td>4195</td>\n",
       "      <td>3342</td>\n",
       "      <td>1937.234078</td>\n",
       "      <td>1.0</td>\n",
       "      <td>Low - Medium</td>\n",
       "      <td>0.171032</td>\n",
       "      <td>1.605162</td>\n",
       "      <td>1.0</td>\n",
       "      <td>Low - Medium</td>\n",
       "      <td>...</td>\n",
       "      <td>1.308785</td>\n",
       "      <td>2.428530</td>\n",
       "      <td>4.0</td>\n",
       "      <td>High</td>\n",
       "      <td>4.54</td>\n",
       "      <td>4.561620</td>\n",
       "      <td>4.0</td>\n",
       "      <td>High</td>\n",
       "      <td>3.106574</td>\n",
       "      <td>4.185791</td>\n",
       "    </tr>\n",
       "  </tbody>\n",
       "</table>\n",
       "<p>5 rows × 228 columns</p>\n",
       "</div>"
      ],
      "text/plain": [
       "      Unnamed: 0  aq30_id  aqid     area_km2  bwd_cat     bwd_label   bwd_raw  \\\n",
       "1000        1000     6555  2029   113.398280      0.0           Low  0.009217   \n",
       "1001        1001     6591  2029   116.860788      0.0           Low  0.006300   \n",
       "1002        1002     2383  2456    20.437585      0.0           Low  0.044543   \n",
       "1003        1003     4187  3342  7409.583165      1.0  Low - Medium  0.198013   \n",
       "1004        1004     4195  3342  1937.234078      1.0  Low - Medium  0.171032   \n",
       "\n",
       "      bwd_score  bws_cat     bws_label         ...           \\\n",
       "1000   0.184346      0.0           Low         ...            \n",
       "1001   0.126008      0.0           Low         ...            \n",
       "1002   0.890851      0.0           Low         ...            \n",
       "1003   1.740065      1.0  Low - Medium         ...            \n",
       "1004   1.605162      1.0  Low - Medium         ...            \n",
       "\n",
       "      w_awr_tex_qan_raw  w_awr_tex_qan_score w_awr_tex_rrr_cat  \\\n",
       "1000           1.241341             2.299690               2.0   \n",
       "1001           1.205297             2.230835               2.0   \n",
       "1002           1.193370             2.208051               4.0   \n",
       "1003           1.338954             2.486161               4.0   \n",
       "1004           1.308785             2.428530               4.0   \n",
       "\n",
       "      w_awr_tex_rrr_label w_awr_tex_rrr_raw  w_awr_tex_rrr_score  \\\n",
       "1000               Medium              2.08             2.443003   \n",
       "1001               Medium              2.08             2.443003   \n",
       "1002                 High              4.54             4.561620   \n",
       "1003                 High              4.54             4.561620   \n",
       "1004                 High              4.54             4.561620   \n",
       "\n",
       "      w_awr_tex_tot_cat  w_awr_tex_tot_label w_awr_tex_tot_raw  \\\n",
       "1000                3.0        Medium - High          2.318940   \n",
       "1001                3.0        Medium - High          2.304690   \n",
       "1002                4.0                 High          3.127982   \n",
       "1003                4.0                 High          3.122204   \n",
       "1004                4.0                 High          3.106574   \n",
       "\n",
       "      w_awr_tex_tot_score  \n",
       "1000             3.379777  \n",
       "1001             3.354922  \n",
       "1002             4.194997  \n",
       "1003             4.192512  \n",
       "1004             4.185791  \n",
       "\n",
       "[5 rows x 228 columns]"
      ]
     },
     "execution_count": 4,
     "metadata": {},
     "output_type": "execute_result"
    }
   ],
   "source": [
    "annual_pivot[1000:1005]"
   ]
  },
  {
   "cell_type": "code",
   "execution_count": 10,
   "metadata": {},
   "outputs": [
    {
     "data": {
      "text/plain": [
       "array([nan, 'Low', 'Extremely High', 'Arid and Low Water Use', 'High',\n",
       "       'Medium - High', 'Low - Medium'], dtype=object)"
      ]
     },
     "execution_count": 10,
     "metadata": {},
     "output_type": "execute_result"
    }
   ],
   "source": [
    "annual_pivot['bwd_label'].unique()"
   ]
  },
  {
   "cell_type": "markdown",
   "metadata": {},
   "source": [
    "**Clean table**"
   ]
  },
  {
   "cell_type": "code",
   "execution_count": 149,
   "metadata": {},
   "outputs": [],
   "source": [
    "columns_default = ['aq30_id']\n",
    "cols = filter(lambda x:x.endswith(\"_cat\"), list(annual_pivot.columns))\n",
    "\n",
    "for n, col in enumerate(list(cols)):    \n",
    "    columns_default.append(col)"
   ]
  },
  {
   "cell_type": "code",
   "execution_count": 150,
   "metadata": {},
   "outputs": [],
   "source": [
    "annual_pivot_default = annual_pivot[columns_default]"
   ]
  },
  {
   "cell_type": "code",
   "execution_count": 151,
   "metadata": {},
   "outputs": [
    {
     "data": {
      "text/html": [
       "<div>\n",
       "<style scoped>\n",
       "    .dataframe tbody tr th:only-of-type {\n",
       "        vertical-align: middle;\n",
       "    }\n",
       "\n",
       "    .dataframe tbody tr th {\n",
       "        vertical-align: top;\n",
       "    }\n",
       "\n",
       "    .dataframe thead th {\n",
       "        text-align: right;\n",
       "    }\n",
       "</style>\n",
       "<table border=\"1\" class=\"dataframe\">\n",
       "  <thead>\n",
       "    <tr style=\"text-align: right;\">\n",
       "      <th></th>\n",
       "      <th>aq30_id</th>\n",
       "      <th>bwd_cat</th>\n",
       "      <th>bws_cat</th>\n",
       "      <th>cep_cat</th>\n",
       "      <th>cfr_cat</th>\n",
       "      <th>drr_cat</th>\n",
       "      <th>gtd_cat</th>\n",
       "      <th>iav_cat</th>\n",
       "      <th>rfr_cat</th>\n",
       "      <th>rri_cat</th>\n",
       "      <th>...</th>\n",
       "      <th>w_awr_ong_rrr_cat</th>\n",
       "      <th>w_awr_ong_tot_cat</th>\n",
       "      <th>w_awr_smc_qal_cat</th>\n",
       "      <th>w_awr_smc_qan_cat</th>\n",
       "      <th>w_awr_smc_rrr_cat</th>\n",
       "      <th>w_awr_smc_tot_cat</th>\n",
       "      <th>w_awr_tex_qal_cat</th>\n",
       "      <th>w_awr_tex_qan_cat</th>\n",
       "      <th>w_awr_tex_rrr_cat</th>\n",
       "      <th>w_awr_tex_tot_cat</th>\n",
       "    </tr>\n",
       "  </thead>\n",
       "  <tbody>\n",
       "    <tr>\n",
       "      <th>1000</th>\n",
       "      <td>6555</td>\n",
       "      <td>0.0</td>\n",
       "      <td>0.0</td>\n",
       "      <td>2.0</td>\n",
       "      <td>0.0</td>\n",
       "      <td>NaN</td>\n",
       "      <td>NaN</td>\n",
       "      <td>3.0</td>\n",
       "      <td>4.0</td>\n",
       "      <td>4.0</td>\n",
       "      <td>...</td>\n",
       "      <td>1.0</td>\n",
       "      <td>1.0</td>\n",
       "      <td>4.0</td>\n",
       "      <td>2.0</td>\n",
       "      <td>2.0</td>\n",
       "      <td>3.0</td>\n",
       "      <td>4.0</td>\n",
       "      <td>2.0</td>\n",
       "      <td>2.0</td>\n",
       "      <td>3.0</td>\n",
       "    </tr>\n",
       "    <tr>\n",
       "      <th>1001</th>\n",
       "      <td>6591</td>\n",
       "      <td>0.0</td>\n",
       "      <td>0.0</td>\n",
       "      <td>2.0</td>\n",
       "      <td>0.0</td>\n",
       "      <td>NaN</td>\n",
       "      <td>NaN</td>\n",
       "      <td>3.0</td>\n",
       "      <td>4.0</td>\n",
       "      <td>4.0</td>\n",
       "      <td>...</td>\n",
       "      <td>1.0</td>\n",
       "      <td>1.0</td>\n",
       "      <td>4.0</td>\n",
       "      <td>2.0</td>\n",
       "      <td>2.0</td>\n",
       "      <td>3.0</td>\n",
       "      <td>4.0</td>\n",
       "      <td>2.0</td>\n",
       "      <td>2.0</td>\n",
       "      <td>3.0</td>\n",
       "    </tr>\n",
       "    <tr>\n",
       "      <th>1002</th>\n",
       "      <td>2383</td>\n",
       "      <td>0.0</td>\n",
       "      <td>0.0</td>\n",
       "      <td>2.0</td>\n",
       "      <td>0.0</td>\n",
       "      <td>2.0</td>\n",
       "      <td>NaN</td>\n",
       "      <td>2.0</td>\n",
       "      <td>2.0</td>\n",
       "      <td>4.0</td>\n",
       "      <td>...</td>\n",
       "      <td>4.0</td>\n",
       "      <td>4.0</td>\n",
       "      <td>4.0</td>\n",
       "      <td>2.0</td>\n",
       "      <td>4.0</td>\n",
       "      <td>4.0</td>\n",
       "      <td>4.0</td>\n",
       "      <td>2.0</td>\n",
       "      <td>4.0</td>\n",
       "      <td>4.0</td>\n",
       "    </tr>\n",
       "    <tr>\n",
       "      <th>1003</th>\n",
       "      <td>4187</td>\n",
       "      <td>1.0</td>\n",
       "      <td>1.0</td>\n",
       "      <td>1.0</td>\n",
       "      <td>0.0</td>\n",
       "      <td>1.0</td>\n",
       "      <td>NaN</td>\n",
       "      <td>1.0</td>\n",
       "      <td>0.0</td>\n",
       "      <td>4.0</td>\n",
       "      <td>...</td>\n",
       "      <td>4.0</td>\n",
       "      <td>4.0</td>\n",
       "      <td>4.0</td>\n",
       "      <td>2.0</td>\n",
       "      <td>4.0</td>\n",
       "      <td>4.0</td>\n",
       "      <td>4.0</td>\n",
       "      <td>2.0</td>\n",
       "      <td>4.0</td>\n",
       "      <td>4.0</td>\n",
       "    </tr>\n",
       "    <tr>\n",
       "      <th>1004</th>\n",
       "      <td>4195</td>\n",
       "      <td>1.0</td>\n",
       "      <td>1.0</td>\n",
       "      <td>1.0</td>\n",
       "      <td>0.0</td>\n",
       "      <td>2.0</td>\n",
       "      <td>NaN</td>\n",
       "      <td>1.0</td>\n",
       "      <td>0.0</td>\n",
       "      <td>4.0</td>\n",
       "      <td>...</td>\n",
       "      <td>4.0</td>\n",
       "      <td>4.0</td>\n",
       "      <td>4.0</td>\n",
       "      <td>2.0</td>\n",
       "      <td>4.0</td>\n",
       "      <td>4.0</td>\n",
       "      <td>4.0</td>\n",
       "      <td>2.0</td>\n",
       "      <td>4.0</td>\n",
       "      <td>4.0</td>\n",
       "    </tr>\n",
       "  </tbody>\n",
       "</table>\n",
       "<p>5 rows × 54 columns</p>\n",
       "</div>"
      ],
      "text/plain": [
       "      aq30_id  bwd_cat  bws_cat  cep_cat  cfr_cat  drr_cat  gtd_cat  iav_cat  \\\n",
       "1000     6555      0.0      0.0      2.0      0.0      NaN      NaN      3.0   \n",
       "1001     6591      0.0      0.0      2.0      0.0      NaN      NaN      3.0   \n",
       "1002     2383      0.0      0.0      2.0      0.0      2.0      NaN      2.0   \n",
       "1003     4187      1.0      1.0      1.0      0.0      1.0      NaN      1.0   \n",
       "1004     4195      1.0      1.0      1.0      0.0      2.0      NaN      1.0   \n",
       "\n",
       "      rfr_cat  rri_cat        ...          w_awr_ong_rrr_cat  \\\n",
       "1000      4.0      4.0        ...                        1.0   \n",
       "1001      4.0      4.0        ...                        1.0   \n",
       "1002      2.0      4.0        ...                        4.0   \n",
       "1003      0.0      4.0        ...                        4.0   \n",
       "1004      0.0      4.0        ...                        4.0   \n",
       "\n",
       "      w_awr_ong_tot_cat  w_awr_smc_qal_cat  w_awr_smc_qan_cat  \\\n",
       "1000                1.0                4.0                2.0   \n",
       "1001                1.0                4.0                2.0   \n",
       "1002                4.0                4.0                2.0   \n",
       "1003                4.0                4.0                2.0   \n",
       "1004                4.0                4.0                2.0   \n",
       "\n",
       "      w_awr_smc_rrr_cat  w_awr_smc_tot_cat  w_awr_tex_qal_cat  \\\n",
       "1000                2.0                3.0                4.0   \n",
       "1001                2.0                3.0                4.0   \n",
       "1002                4.0                4.0                4.0   \n",
       "1003                4.0                4.0                4.0   \n",
       "1004                4.0                4.0                4.0   \n",
       "\n",
       "      w_awr_tex_qan_cat  w_awr_tex_rrr_cat  w_awr_tex_tot_cat  \n",
       "1000                2.0                2.0                3.0  \n",
       "1001                2.0                2.0                3.0  \n",
       "1002                2.0                4.0                4.0  \n",
       "1003                2.0                4.0                4.0  \n",
       "1004                2.0                4.0                4.0  \n",
       "\n",
       "[5 rows x 54 columns]"
      ]
     },
     "execution_count": 151,
     "metadata": {},
     "output_type": "execute_result"
    }
   ],
   "source": [
    "annual_pivot_default[1000:1005]"
   ]
  },
  {
   "cell_type": "markdown",
   "metadata": {},
   "source": [
    "**Save tables**"
   ]
  },
  {
   "cell_type": "code",
   "execution_count": 152,
   "metadata": {},
   "outputs": [],
   "source": [
    "annual_pivot_default.to_csv('/Users/ikersanchez/Vizzuality/PROIEKTUAK/Aqueduct/work/data/AQ_2_water_risk_atlas/water_risk_indicators_annual.csv')"
   ]
  },
  {
   "cell_type": "markdown",
   "metadata": {},
   "source": [
    "## Monthly data"
   ]
  },
  {
   "cell_type": "code",
   "execution_count": 6,
   "metadata": {},
   "outputs": [],
   "source": [
    "monthly_bws = pd.read_csv('/Users/ikersanchez/Vizzuality/PROIEKTUAK/Aqueduct/work/data/AQ_2_water_risk_atlas/output_V01/monthly/monthly_bws.csv')\n",
    "monthly_bwd = pd.read_csv('/Users/ikersanchez/Vizzuality/PROIEKTUAK/Aqueduct/work/data/AQ_2_water_risk_atlas/output_V01/monthly/monthly_bwd.csv')\n",
    "monthly_iav = pd.read_csv('/Users/ikersanchez/Vizzuality/PROIEKTUAK/Aqueduct/work/data/AQ_2_water_risk_atlas/output_V01/monthly/monthly_iav.csv')"
   ]
  },
  {
   "cell_type": "code",
   "execution_count": 7,
   "metadata": {},
   "outputs": [
    {
     "data": {
      "text/html": [
       "<div>\n",
       "<style scoped>\n",
       "    .dataframe tbody tr th:only-of-type {\n",
       "        vertical-align: middle;\n",
       "    }\n",
       "\n",
       "    .dataframe tbody tr th {\n",
       "        vertical-align: top;\n",
       "    }\n",
       "\n",
       "    .dataframe thead th {\n",
       "        text-align: right;\n",
       "    }\n",
       "</style>\n",
       "<table border=\"1\" class=\"dataframe\">\n",
       "  <thead>\n",
       "    <tr style=\"text-align: right;\">\n",
       "      <th></th>\n",
       "      <th>Unnamed: 0</th>\n",
       "      <th>pfaf_id</th>\n",
       "      <th>temporal_resolution</th>\n",
       "      <th>year</th>\n",
       "      <th>month</th>\n",
       "      <th>delta_id</th>\n",
       "      <th>raw</th>\n",
       "      <th>score</th>\n",
       "      <th>cat</th>\n",
       "      <th>label</th>\n",
       "    </tr>\n",
       "  </thead>\n",
       "  <tbody>\n",
       "    <tr>\n",
       "      <th>0</th>\n",
       "      <td>0</td>\n",
       "      <td>913430</td>\n",
       "      <td>month</td>\n",
       "      <td>2014</td>\n",
       "      <td>1</td>\n",
       "      <td>-1</td>\n",
       "      <td>NaN</td>\n",
       "      <td>-9999.0</td>\n",
       "      <td>-9999.0</td>\n",
       "      <td>NoData</td>\n",
       "    </tr>\n",
       "    <tr>\n",
       "      <th>1</th>\n",
       "      <td>1</td>\n",
       "      <td>913430</td>\n",
       "      <td>month</td>\n",
       "      <td>2014</td>\n",
       "      <td>2</td>\n",
       "      <td>-1</td>\n",
       "      <td>NaN</td>\n",
       "      <td>-9999.0</td>\n",
       "      <td>-9999.0</td>\n",
       "      <td>NoData</td>\n",
       "    </tr>\n",
       "    <tr>\n",
       "      <th>2</th>\n",
       "      <td>2</td>\n",
       "      <td>913430</td>\n",
       "      <td>month</td>\n",
       "      <td>2014</td>\n",
       "      <td>3</td>\n",
       "      <td>-1</td>\n",
       "      <td>NaN</td>\n",
       "      <td>-9999.0</td>\n",
       "      <td>-9999.0</td>\n",
       "      <td>NoData</td>\n",
       "    </tr>\n",
       "    <tr>\n",
       "      <th>3</th>\n",
       "      <td>3</td>\n",
       "      <td>913430</td>\n",
       "      <td>month</td>\n",
       "      <td>2014</td>\n",
       "      <td>4</td>\n",
       "      <td>-1</td>\n",
       "      <td>NaN</td>\n",
       "      <td>-9999.0</td>\n",
       "      <td>-9999.0</td>\n",
       "      <td>NoData</td>\n",
       "    </tr>\n",
       "    <tr>\n",
       "      <th>4</th>\n",
       "      <td>4</td>\n",
       "      <td>913430</td>\n",
       "      <td>month</td>\n",
       "      <td>2014</td>\n",
       "      <td>5</td>\n",
       "      <td>-1</td>\n",
       "      <td>NaN</td>\n",
       "      <td>-9999.0</td>\n",
       "      <td>-9999.0</td>\n",
       "      <td>NoData</td>\n",
       "    </tr>\n",
       "  </tbody>\n",
       "</table>\n",
       "</div>"
      ],
      "text/plain": [
       "   Unnamed: 0  pfaf_id temporal_resolution  year  month  delta_id  raw  \\\n",
       "0           0   913430               month  2014      1        -1  NaN   \n",
       "1           1   913430               month  2014      2        -1  NaN   \n",
       "2           2   913430               month  2014      3        -1  NaN   \n",
       "3           3   913430               month  2014      4        -1  NaN   \n",
       "4           4   913430               month  2014      5        -1  NaN   \n",
       "\n",
       "    score     cat   label  \n",
       "0 -9999.0 -9999.0  NoData  \n",
       "1 -9999.0 -9999.0  NoData  \n",
       "2 -9999.0 -9999.0  NoData  \n",
       "3 -9999.0 -9999.0  NoData  \n",
       "4 -9999.0 -9999.0  NoData  "
      ]
     },
     "execution_count": 7,
     "metadata": {},
     "output_type": "execute_result"
    }
   ],
   "source": [
    "monthly_bws.head()"
   ]
  },
  {
   "cell_type": "markdown",
   "metadata": {},
   "source": [
    "**Clean table**"
   ]
  },
  {
   "cell_type": "code",
   "execution_count": 154,
   "metadata": {},
   "outputs": [],
   "source": [
    "monthly_bws = monthly_bws[['pfaf_id', 'year', 'month', 'cat']]\n",
    "monthly_bwd = monthly_bwd[['pfaf_id', 'year', 'month', 'cat']]\n",
    "monthly_iav = monthly_iav[['pfaf_id', 'year', 'month', 'cat']]"
   ]
  },
  {
   "cell_type": "code",
   "execution_count": 155,
   "metadata": {},
   "outputs": [],
   "source": [
    "monthly_bws.rename(columns={'cat': 'bws_cat'}, inplace= True)\n",
    "monthly_bwd.rename(columns={'cat': 'bwd_cat'}, inplace= True)\n",
    "monthly_iav.rename(columns={'cat': 'iav_cat'}, inplace= True)"
   ]
  },
  {
   "cell_type": "code",
   "execution_count": 156,
   "metadata": {},
   "outputs": [],
   "source": [
    "monthly = monthly_bws.merge(monthly_bwd, on=['pfaf_id', 'year', 'month'], how='left')\n",
    "monthly = monthly.merge(monthly_iav, on=['pfaf_id', 'year', 'month'], how='left')"
   ]
  },
  {
   "cell_type": "code",
   "execution_count": 157,
   "metadata": {},
   "outputs": [
    {
     "data": {
      "text/html": [
       "<div>\n",
       "<style scoped>\n",
       "    .dataframe tbody tr th:only-of-type {\n",
       "        vertical-align: middle;\n",
       "    }\n",
       "\n",
       "    .dataframe tbody tr th {\n",
       "        vertical-align: top;\n",
       "    }\n",
       "\n",
       "    .dataframe thead th {\n",
       "        text-align: right;\n",
       "    }\n",
       "</style>\n",
       "<table border=\"1\" class=\"dataframe\">\n",
       "  <thead>\n",
       "    <tr style=\"text-align: right;\">\n",
       "      <th></th>\n",
       "      <th>pfaf_id</th>\n",
       "      <th>year</th>\n",
       "      <th>month</th>\n",
       "      <th>bws_cat</th>\n",
       "      <th>bwd_cat</th>\n",
       "      <th>iav_cat</th>\n",
       "    </tr>\n",
       "  </thead>\n",
       "  <tbody>\n",
       "    <tr>\n",
       "      <th>100100</th>\n",
       "      <td>312414</td>\n",
       "      <td>2014</td>\n",
       "      <td>9</td>\n",
       "      <td>0.0</td>\n",
       "      <td>0.0</td>\n",
       "      <td>0.0</td>\n",
       "    </tr>\n",
       "    <tr>\n",
       "      <th>100101</th>\n",
       "      <td>312414</td>\n",
       "      <td>2014</td>\n",
       "      <td>12</td>\n",
       "      <td>0.0</td>\n",
       "      <td>0.0</td>\n",
       "      <td>1.0</td>\n",
       "    </tr>\n",
       "    <tr>\n",
       "      <th>100102</th>\n",
       "      <td>312414</td>\n",
       "      <td>2014</td>\n",
       "      <td>2</td>\n",
       "      <td>0.0</td>\n",
       "      <td>0.0</td>\n",
       "      <td>1.0</td>\n",
       "    </tr>\n",
       "    <tr>\n",
       "      <th>100103</th>\n",
       "      <td>312414</td>\n",
       "      <td>2014</td>\n",
       "      <td>5</td>\n",
       "      <td>0.0</td>\n",
       "      <td>0.0</td>\n",
       "      <td>1.0</td>\n",
       "    </tr>\n",
       "    <tr>\n",
       "      <th>100104</th>\n",
       "      <td>312414</td>\n",
       "      <td>2014</td>\n",
       "      <td>4</td>\n",
       "      <td>0.0</td>\n",
       "      <td>0.0</td>\n",
       "      <td>4.0</td>\n",
       "    </tr>\n",
       "  </tbody>\n",
       "</table>\n",
       "</div>"
      ],
      "text/plain": [
       "        pfaf_id  year  month  bws_cat  bwd_cat  iav_cat\n",
       "100100   312414  2014      9      0.0      0.0      0.0\n",
       "100101   312414  2014     12      0.0      0.0      1.0\n",
       "100102   312414  2014      2      0.0      0.0      1.0\n",
       "100103   312414  2014      5      0.0      0.0      1.0\n",
       "100104   312414  2014      4      0.0      0.0      4.0"
      ]
     },
     "execution_count": 157,
     "metadata": {},
     "output_type": "execute_result"
    }
   ],
   "source": [
    "monthly[100100:100105]"
   ]
  },
  {
   "cell_type": "markdown",
   "metadata": {},
   "source": [
    "**Save tables**"
   ]
  },
  {
   "cell_type": "code",
   "execution_count": 158,
   "metadata": {},
   "outputs": [],
   "source": [
    "monthly.to_csv('/Users/ikersanchez/Vizzuality/PROIEKTUAK/Aqueduct/work/data/AQ_2_water_risk_atlas/water_risk_indicators_monthly.csv')"
   ]
  },
  {
   "cell_type": "code",
   "execution_count": 119,
   "metadata": {},
   "outputs": [],
   "source": [
    "industry_weights = pd.read_csv('/Users/ikersanchez/Vizzuality/PROIEKTUAK/Aqueduct/work/data/AQ_2_water_risk_atlas/output_V01/industry_weights/industry_weights.csv')"
   ]
  },
  {
   "cell_type": "code",
   "execution_count": 121,
   "metadata": {},
   "outputs": [],
   "source": [
    "industry_weights.drop(labels=['Unnamed: 0', 'id'], axis=1, inplace=True)"
   ]
  },
  {
   "cell_type": "code",
   "execution_count": 122,
   "metadata": {},
   "outputs": [
    {
     "data": {
      "text/html": [
       "<div>\n",
       "<style scoped>\n",
       "    .dataframe tbody tr th:only-of-type {\n",
       "        vertical-align: middle;\n",
       "    }\n",
       "\n",
       "    .dataframe tbody tr th {\n",
       "        vertical-align: top;\n",
       "    }\n",
       "\n",
       "    .dataframe thead th {\n",
       "        text-align: right;\n",
       "    }\n",
       "</style>\n",
       "<table border=\"1\" class=\"dataframe\">\n",
       "  <thead>\n",
       "    <tr style=\"text-align: right;\">\n",
       "      <th></th>\n",
       "      <th>group_full</th>\n",
       "      <th>group_short</th>\n",
       "      <th>indicator_full</th>\n",
       "      <th>indicator_short</th>\n",
       "      <th>industry_full</th>\n",
       "      <th>industry_short</th>\n",
       "      <th>weight_abs</th>\n",
       "      <th>weight_label</th>\n",
       "      <th>weight_interpretation</th>\n",
       "      <th>weight_fraction</th>\n",
       "    </tr>\n",
       "  </thead>\n",
       "  <tbody>\n",
       "    <tr>\n",
       "      <th>0</th>\n",
       "      <td>Physical Risk Quality</td>\n",
       "      <td>QAL</td>\n",
       "      <td>Coastal eutrophication potential</td>\n",
       "      <td>CEP</td>\n",
       "      <td>Oil &amp; Gas</td>\n",
       "      <td>ONG</td>\n",
       "      <td>0.0</td>\n",
       "      <td>No weight</td>\n",
       "      <td>Not relevant</td>\n",
       "      <td>0.000000</td>\n",
       "    </tr>\n",
       "    <tr>\n",
       "      <th>1</th>\n",
       "      <td>Physical Risk Quality</td>\n",
       "      <td>QAL</td>\n",
       "      <td>Untreated collected wastewater</td>\n",
       "      <td>UCW</td>\n",
       "      <td>Default</td>\n",
       "      <td>DEF</td>\n",
       "      <td>2.0</td>\n",
       "      <td>High</td>\n",
       "      <td>Represents high risk to the industry</td>\n",
       "      <td>0.081633</td>\n",
       "    </tr>\n",
       "    <tr>\n",
       "      <th>2</th>\n",
       "      <td>Physical Risk Quality</td>\n",
       "      <td>QAL</td>\n",
       "      <td>Untreated collected wastewater</td>\n",
       "      <td>UCW</td>\n",
       "      <td>Food &amp; Beverage</td>\n",
       "      <td>FNB</td>\n",
       "      <td>2.0</td>\n",
       "      <td>High</td>\n",
       "      <td>Represents high risk to the industry</td>\n",
       "      <td>0.081633</td>\n",
       "    </tr>\n",
       "    <tr>\n",
       "      <th>3</th>\n",
       "      <td>Physical Risk Quality</td>\n",
       "      <td>QAL</td>\n",
       "      <td>Coastal eutrophication potential</td>\n",
       "      <td>CEP</td>\n",
       "      <td>Food &amp; Beverage</td>\n",
       "      <td>FNB</td>\n",
       "      <td>2.0</td>\n",
       "      <td>High</td>\n",
       "      <td>Represents high risk to the industry</td>\n",
       "      <td>0.081633</td>\n",
       "    </tr>\n",
       "    <tr>\n",
       "      <th>4</th>\n",
       "      <td>Physical Risk Quality</td>\n",
       "      <td>QAL</td>\n",
       "      <td>Untreated collected wastewater</td>\n",
       "      <td>UCW</td>\n",
       "      <td>Chemicals</td>\n",
       "      <td>CHE</td>\n",
       "      <td>2.0</td>\n",
       "      <td>High</td>\n",
       "      <td>Represents high risk to the industry</td>\n",
       "      <td>0.076190</td>\n",
       "    </tr>\n",
       "  </tbody>\n",
       "</table>\n",
       "</div>"
      ],
      "text/plain": [
       "               group_full group_short                    indicator_full  \\\n",
       "0  Physical Risk Quality          QAL  Coastal eutrophication potential   \n",
       "1  Physical Risk Quality          QAL    Untreated collected wastewater   \n",
       "2  Physical Risk Quality          QAL    Untreated collected wastewater   \n",
       "3  Physical Risk Quality          QAL  Coastal eutrophication potential   \n",
       "4  Physical Risk Quality          QAL    Untreated collected wastewater   \n",
       "\n",
       "  indicator_short    industry_full industry_short  weight_abs weight_label  \\\n",
       "0             CEP        Oil & Gas            ONG         0.0   No weight    \n",
       "1             UCW          Default            DEF         2.0         High   \n",
       "2             UCW  Food & Beverage            FNB         2.0         High   \n",
       "3             CEP  Food & Beverage            FNB         2.0         High   \n",
       "4             UCW        Chemicals            CHE         2.0         High   \n",
       "\n",
       "                   weight_interpretation  weight_fraction  \n",
       "0                          Not relevant          0.000000  \n",
       "1  Represents high risk to the industry          0.081633  \n",
       "2  Represents high risk to the industry          0.081633  \n",
       "3  Represents high risk to the industry          0.081633  \n",
       "4  Represents high risk to the industry          0.076190  "
      ]
     },
     "execution_count": 122,
     "metadata": {},
     "output_type": "execute_result"
    }
   ],
   "source": [
    "industry_weights.head()"
   ]
  },
  {
   "cell_type": "markdown",
   "metadata": {},
   "source": [
    "**Save table**"
   ]
  },
  {
   "cell_type": "code",
   "execution_count": 123,
   "metadata": {},
   "outputs": [],
   "source": [
    "industry_weights.to_csv('/Users/ikersanchez/Vizzuality/PROIEKTUAK/Aqueduct/work/data/AQ_2_water_risk_atlas/water_risk_industry_weights.csv')"
   ]
  },
  {
   "cell_type": "markdown",
   "metadata": {},
   "source": [
    "## Future projections"
   ]
  },
  {
   "cell_type": "code",
   "execution_count": 156,
   "metadata": {},
   "outputs": [],
   "source": [
    "projections = gpd.read_file('/Users/ikersanchez/Vizzuality/PROIEKTUAK/Aqueduct/work/data/aqueduct_projections_20150309_shp/aqueduct_projections_20150309.shp')"
   ]
  },
  {
   "cell_type": "code",
   "execution_count": 157,
   "metadata": {},
   "outputs": [
    {
     "data": {
      "text/html": [
       "<div>\n",
       "<style scoped>\n",
       "    .dataframe tbody tr th:only-of-type {\n",
       "        vertical-align: middle;\n",
       "    }\n",
       "\n",
       "    .dataframe tbody tr th {\n",
       "        vertical-align: top;\n",
       "    }\n",
       "\n",
       "    .dataframe thead th {\n",
       "        text-align: right;\n",
       "    }\n",
       "</style>\n",
       "<table border=\"1\" class=\"dataframe\">\n",
       "  <thead>\n",
       "    <tr style=\"text-align: right;\">\n",
       "      <th></th>\n",
       "      <th>BasinID</th>\n",
       "      <th>dwnBasinID</th>\n",
       "      <th>Area_km2</th>\n",
       "      <th>Shape_Leng</th>\n",
       "      <th>ws2024tr</th>\n",
       "      <th>ws2024tl</th>\n",
       "      <th>ws3024tr</th>\n",
       "      <th>ws3024tl</th>\n",
       "      <th>ws4024tr</th>\n",
       "      <th>ws4024tl</th>\n",
       "      <th>...</th>\n",
       "      <th>sv4028ul</th>\n",
       "      <th>sv2038ur</th>\n",
       "      <th>sv2038ul</th>\n",
       "      <th>sv3038ur</th>\n",
       "      <th>sv3038ul</th>\n",
       "      <th>sv4038ur</th>\n",
       "      <th>sv4038ul</th>\n",
       "      <th>Shape_Le_1</th>\n",
       "      <th>Shape_Area</th>\n",
       "      <th>geometry</th>\n",
       "    </tr>\n",
       "  </thead>\n",
       "  <tbody>\n",
       "    <tr>\n",
       "      <th>0</th>\n",
       "      <td>1</td>\n",
       "      <td>0</td>\n",
       "      <td>2085</td>\n",
       "      <td>0.0</td>\n",
       "      <td>0.860153</td>\n",
       "      <td>Extremely high (&gt;80%)</td>\n",
       "      <td>1.058204</td>\n",
       "      <td>Extremely high (&gt;80%)</td>\n",
       "      <td>1.098187</td>\n",
       "      <td>Extremely high (&gt;80%)</td>\n",
       "      <td>...</td>\n",
       "      <td>High uncertainty</td>\n",
       "      <td>0.276085</td>\n",
       "      <td>High uncertainty</td>\n",
       "      <td>0.303592</td>\n",
       "      <td>High uncertainty</td>\n",
       "      <td>0.304096</td>\n",
       "      <td>High uncertainty</td>\n",
       "      <td>4.197305</td>\n",
       "      <td>0.196370</td>\n",
       "      <td>POLYGON ((25.95064506611698 30.98011437727672,...</td>\n",
       "    </tr>\n",
       "    <tr>\n",
       "      <th>1</th>\n",
       "      <td>2</td>\n",
       "      <td>0</td>\n",
       "      <td>2373</td>\n",
       "      <td>0.0</td>\n",
       "      <td>3.257008</td>\n",
       "      <td>Extremely high (&gt;80%)</td>\n",
       "      <td>3.086548</td>\n",
       "      <td>Extremely high (&gt;80%)</td>\n",
       "      <td>2.947359</td>\n",
       "      <td>Extremely high (&gt;80%)</td>\n",
       "      <td>...</td>\n",
       "      <td>High uncertainty</td>\n",
       "      <td>0.234488</td>\n",
       "      <td>High uncertainty</td>\n",
       "      <td>0.253703</td>\n",
       "      <td>High uncertainty</td>\n",
       "      <td>0.264467</td>\n",
       "      <td>High uncertainty</td>\n",
       "      <td>3.597165</td>\n",
       "      <td>0.223965</td>\n",
       "      <td>POLYGON ((25.23877293911988 31.29694755848311,...</td>\n",
       "    </tr>\n",
       "    <tr>\n",
       "      <th>2</th>\n",
       "      <td>3</td>\n",
       "      <td>0</td>\n",
       "      <td>1509</td>\n",
       "      <td>0.0</td>\n",
       "      <td>2.595165</td>\n",
       "      <td>Extremely high (&gt;80%)</td>\n",
       "      <td>2.786326</td>\n",
       "      <td>Extremely high (&gt;80%)</td>\n",
       "      <td>2.517074</td>\n",
       "      <td>Extremely high (&gt;80%)</td>\n",
       "      <td>...</td>\n",
       "      <td>High uncertainty</td>\n",
       "      <td>0.276976</td>\n",
       "      <td>High uncertainty</td>\n",
       "      <td>0.304777</td>\n",
       "      <td>High uncertainty</td>\n",
       "      <td>0.304962</td>\n",
       "      <td>High uncertainty</td>\n",
       "      <td>2.478102</td>\n",
       "      <td>0.142297</td>\n",
       "      <td>(POLYGON ((26.94685809182755 31.21755797312204...</td>\n",
       "    </tr>\n",
       "    <tr>\n",
       "      <th>3</th>\n",
       "      <td>4</td>\n",
       "      <td>0</td>\n",
       "      <td>4113</td>\n",
       "      <td>0.0</td>\n",
       "      <td>1.327963</td>\n",
       "      <td>Extremely high (&gt;80%)</td>\n",
       "      <td>1.492594</td>\n",
       "      <td>Extremely high (&gt;80%)</td>\n",
       "      <td>1.520199</td>\n",
       "      <td>Extremely high (&gt;80%)</td>\n",
       "      <td>...</td>\n",
       "      <td>High uncertainty</td>\n",
       "      <td>0.242970</td>\n",
       "      <td>High uncertainty</td>\n",
       "      <td>0.263880</td>\n",
       "      <td>High uncertainty</td>\n",
       "      <td>0.255351</td>\n",
       "      <td>High uncertainty</td>\n",
       "      <td>4.621268</td>\n",
       "      <td>0.386641</td>\n",
       "      <td>POLYGON ((27.6227709095499 30.5666504388667, 2...</td>\n",
       "    </tr>\n",
       "    <tr>\n",
       "      <th>4</th>\n",
       "      <td>5</td>\n",
       "      <td>0</td>\n",
       "      <td>4454</td>\n",
       "      <td>0.0</td>\n",
       "      <td>0.418429</td>\n",
       "      <td>Arid and low water use</td>\n",
       "      <td>0.684660</td>\n",
       "      <td>Arid and low water use</td>\n",
       "      <td>0.943055</td>\n",
       "      <td>Arid and low water use</td>\n",
       "      <td>...</td>\n",
       "      <td>High uncertainty</td>\n",
       "      <td>0.279182</td>\n",
       "      <td>High uncertainty</td>\n",
       "      <td>0.294587</td>\n",
       "      <td>High uncertainty</td>\n",
       "      <td>0.287821</td>\n",
       "      <td>High uncertainty</td>\n",
       "      <td>4.833261</td>\n",
       "      <td>0.417697</td>\n",
       "      <td>POLYGON ((27.6227709095499 30.5666504388667, 2...</td>\n",
       "    </tr>\n",
       "  </tbody>\n",
       "</table>\n",
       "<p>5 rows × 223 columns</p>\n",
       "</div>"
      ],
      "text/plain": [
       "   BasinID  dwnBasinID  Area_km2  Shape_Leng  ws2024tr  \\\n",
       "0        1           0      2085         0.0  0.860153   \n",
       "1        2           0      2373         0.0  3.257008   \n",
       "2        3           0      1509         0.0  2.595165   \n",
       "3        4           0      4113         0.0  1.327963   \n",
       "4        5           0      4454         0.0  0.418429   \n",
       "\n",
       "                 ws2024tl  ws3024tr                ws3024tl  ws4024tr  \\\n",
       "0   Extremely high (>80%)  1.058204   Extremely high (>80%)  1.098187   \n",
       "1   Extremely high (>80%)  3.086548   Extremely high (>80%)  2.947359   \n",
       "2   Extremely high (>80%)  2.786326   Extremely high (>80%)  2.517074   \n",
       "3   Extremely high (>80%)  1.492594   Extremely high (>80%)  1.520199   \n",
       "4  Arid and low water use  0.684660  Arid and low water use  0.943055   \n",
       "\n",
       "                 ws4024tl                        ...                          \\\n",
       "0   Extremely high (>80%)                        ...                           \n",
       "1   Extremely high (>80%)                        ...                           \n",
       "2   Extremely high (>80%)                        ...                           \n",
       "3   Extremely high (>80%)                        ...                           \n",
       "4  Arid and low water use                        ...                           \n",
       "\n",
       "           sv4028ul  sv2038ur          sv2038ul  sv3038ur          sv3038ul  \\\n",
       "0  High uncertainty  0.276085  High uncertainty  0.303592  High uncertainty   \n",
       "1  High uncertainty  0.234488  High uncertainty  0.253703  High uncertainty   \n",
       "2  High uncertainty  0.276976  High uncertainty  0.304777  High uncertainty   \n",
       "3  High uncertainty  0.242970  High uncertainty  0.263880  High uncertainty   \n",
       "4  High uncertainty  0.279182  High uncertainty  0.294587  High uncertainty   \n",
       "\n",
       "   sv4038ur          sv4038ul Shape_Le_1  Shape_Area  \\\n",
       "0  0.304096  High uncertainty   4.197305    0.196370   \n",
       "1  0.264467  High uncertainty   3.597165    0.223965   \n",
       "2  0.304962  High uncertainty   2.478102    0.142297   \n",
       "3  0.255351  High uncertainty   4.621268    0.386641   \n",
       "4  0.287821  High uncertainty   4.833261    0.417697   \n",
       "\n",
       "                                            geometry  \n",
       "0  POLYGON ((25.95064506611698 30.98011437727672,...  \n",
       "1  POLYGON ((25.23877293911988 31.29694755848311,...  \n",
       "2  (POLYGON ((26.94685809182755 31.21755797312204...  \n",
       "3  POLYGON ((27.6227709095499 30.5666504388667, 2...  \n",
       "4  POLYGON ((27.6227709095499 30.5666504388667, 2...  \n",
       "\n",
       "[5 rows x 223 columns]"
      ]
     },
     "execution_count": 157,
     "metadata": {},
     "output_type": "execute_result"
    }
   ],
   "source": [
    "projections.head()"
   ]
  },
  {
   "cell_type": "markdown",
   "metadata": {},
   "source": [
    "**Table reconfiguration**"
   ]
  },
  {
   "cell_type": "code",
   "execution_count": 161,
   "metadata": {},
   "outputs": [
    {
     "data": {
      "text/html": [
       "<div>\n",
       "<style scoped>\n",
       "    .dataframe tbody tr th:only-of-type {\n",
       "        vertical-align: middle;\n",
       "    }\n",
       "\n",
       "    .dataframe tbody tr th {\n",
       "        vertical-align: top;\n",
       "    }\n",
       "\n",
       "    .dataframe thead th {\n",
       "        text-align: right;\n",
       "    }\n",
       "</style>\n",
       "<table border=\"1\" class=\"dataframe\">\n",
       "  <thead>\n",
       "    <tr style=\"text-align: right;\">\n",
       "      <th></th>\n",
       "      <th>basinid</th>\n",
       "      <th>indicator</th>\n",
       "      <th>value</th>\n",
       "      <th>label</th>\n",
       "      <th>year</th>\n",
       "      <th>scenario</th>\n",
       "      <th>type</th>\n",
       "    </tr>\n",
       "  </thead>\n",
       "  <tbody>\n",
       "    <tr>\n",
       "      <th>0</th>\n",
       "      <td>1</td>\n",
       "      <td>water_stress</td>\n",
       "      <td>1.083419</td>\n",
       "      <td>Near normal</td>\n",
       "      <td>2020</td>\n",
       "      <td>optimistic</td>\n",
       "      <td>change_from_baseline</td>\n",
       "    </tr>\n",
       "    <tr>\n",
       "      <th>1</th>\n",
       "      <td>2</td>\n",
       "      <td>water_stress</td>\n",
       "      <td>1.123759</td>\n",
       "      <td>Near normal</td>\n",
       "      <td>2020</td>\n",
       "      <td>optimistic</td>\n",
       "      <td>change_from_baseline</td>\n",
       "    </tr>\n",
       "    <tr>\n",
       "      <th>2</th>\n",
       "      <td>3</td>\n",
       "      <td>water_stress</td>\n",
       "      <td>1.017440</td>\n",
       "      <td>Near normal</td>\n",
       "      <td>2020</td>\n",
       "      <td>optimistic</td>\n",
       "      <td>change_from_baseline</td>\n",
       "    </tr>\n",
       "    <tr>\n",
       "      <th>3</th>\n",
       "      <td>4</td>\n",
       "      <td>water_stress</td>\n",
       "      <td>1.601915</td>\n",
       "      <td>1.4x increase</td>\n",
       "      <td>2020</td>\n",
       "      <td>optimistic</td>\n",
       "      <td>change_from_baseline</td>\n",
       "    </tr>\n",
       "    <tr>\n",
       "      <th>4</th>\n",
       "      <td>5</td>\n",
       "      <td>water_stress</td>\n",
       "      <td>2.024794</td>\n",
       "      <td>2x increase</td>\n",
       "      <td>2020</td>\n",
       "      <td>optimistic</td>\n",
       "      <td>change_from_baseline</td>\n",
       "    </tr>\n",
       "  </tbody>\n",
       "</table>\n",
       "</div>"
      ],
      "text/plain": [
       "   basinid     indicator     value          label  year    scenario  \\\n",
       "0        1  water_stress  1.083419    Near normal  2020  optimistic   \n",
       "1        2  water_stress  1.123759    Near normal  2020  optimistic   \n",
       "2        3  water_stress  1.017440    Near normal  2020  optimistic   \n",
       "3        4  water_stress  1.601915  1.4x increase  2020  optimistic   \n",
       "4        5  water_stress  2.024794    2x increase  2020  optimistic   \n",
       "\n",
       "                   type  \n",
       "0  change_from_baseline  \n",
       "1  change_from_baseline  \n",
       "2  change_from_baseline  \n",
       "3  change_from_baseline  \n",
       "4  change_from_baseline  "
      ]
     },
     "execution_count": 161,
     "metadata": {},
     "output_type": "execute_result"
    }
   ],
   "source": [
    "indicator_codes = {'ws': 'water_stress', 'sv': 'seasonal_variability', 'ut': 'water_demand', 'bt': 'water_supply'}\n",
    "year_codes = {'20': 2020, '30': 2030, '40': 2040}\n",
    "scenario_codes = {'24': 'optimistic', '28': 'business_as_usual', '38': 'pessimistic'}\n",
    "data_types = {'c': 'change_from_baseline', 't': 'future_value'}\n",
    "suffixes = {'l': 'label', 'r': 'value'}\n",
    "\n",
    "projections_vertical = pd.DataFrame(columns=['basinid', 'indicator', 'value', 'label', 'year', 'scenario', 'type'])\n",
    "\n",
    "nRows = projections.shape[0]\n",
    "basinid_col = list(projections['BasinID'])\n",
    "for indicator in indicator_codes.keys():\n",
    "    indicator_col = [indicator_codes[indicator]] * nRows\n",
    "    for year in year_codes.keys():\n",
    "        year_col = [year_codes[year]] * nRows\n",
    "        \n",
    "        for scenario in scenario_codes.keys():\n",
    "            scenario_col = [scenario_codes[scenario]] * nRows\n",
    "            \n",
    "            for type in data_types.keys():\n",
    "                type_col = [data_types[type]] * nRows\n",
    "                \n",
    "                label_col = list(projections[indicator+year+scenario+type+list(suffixes.keys())[0]])\n",
    "                value_col = list(projections[indicator+year+scenario+type+list(suffixes.keys())[1]])\n",
    "                \n",
    "                df = pd.DataFrame({'basinid': basinid_col, 'indicator': indicator_col, 'value': value_col, \n",
    "                                   'label': label_col, 'year': year_col, 'scenario': scenario_col, 'type': type_col})\n",
    "                \n",
    "                projections_vertical = pd.concat([projections_vertical, df])\n",
    "\n",
    "projections_vertical['basinid'] = projections_vertical['basinid'].astype(np.int)\n",
    "projections_vertical.head()"
   ]
  },
  {
   "cell_type": "markdown",
   "metadata": {},
   "source": [
    "**Save table**"
   ]
  },
  {
   "cell_type": "code",
   "execution_count": 164,
   "metadata": {},
   "outputs": [],
   "source": [
    "projections_vertical.to_csv('/Users/ikersanchez/Vizzuality/PROIEKTUAK/Aqueduct/work/data/AQ_2_water_risk_atlas/water_risk_indicators_projections.csv')"
   ]
  },
  {
   "cell_type": "code",
   "execution_count": 201,
   "metadata": {},
   "outputs": [
    {
     "data": {
      "text/plain": [
       "array(['Near normal', '1.4x increase', '2x increase', 'No data',\n",
       "       '1.4x decrease', '2.8x or greater increase', '2x decrease',\n",
       "       '2.8x or greater decrease', 'Extremely high (>80%)',\n",
       "       'Arid and low water use', 'Low (<10%)', 'High (40-80%)',\n",
       "       'Medium-high (20-40%)', 'Low-medium (10-20%)', '1.1x decrease',\n",
       "       '1.1x increase', '1.2x decrease', '1.3x or greater decrease',\n",
       "       '1.2x increase', 'Low-medium (0.33-0.66)', 'Low (<0.33)',\n",
       "       'High (1.0-1.33)', 'Extremely High (>1.33)',\n",
       "       'Medium-high (0.66-1.0)', '1.3x or greater increase',\n",
       "       '1.7x or greater increase', '1.7x or greater decrease', '1-3 cm',\n",
       "       '3-10 cm', '< 1 cm', '10-30 cm', '> 30 cm', '>1000 cm',\n",
       "       '30-100 cm', '100-300 cm', '300-1000 cm'], dtype=object)"
      ]
     },
     "execution_count": 201,
     "metadata": {},
     "output_type": "execute_result"
    }
   ],
   "source": [
    "projections_vertical['label'].unique()"
   ]
  },
  {
   "cell_type": "code",
   "execution_count": 226,
   "metadata": {},
   "outputs": [
    {
     "name": "stdout",
     "output_type": "stream",
     "text": [
      "['Near normal' '1.4x increase' '2x increase' 'No data' '1.4x decrease'\n",
      " '2.8x or greater increase' '2x decrease' '2.8x or greater decrease']\n",
      "['Extremely high (>80%)' 'Arid and low water use' 'Low (<10%)'\n",
      " 'High (40-80%)' 'Medium-high (20-40%)' 'Low-medium (10-20%)' 'No data']\n"
     ]
    }
   ],
   "source": [
    "df = projections_vertical[(projections_vertical['indicator'] == 'water_stress') & (projections_vertical['type'] == 'change_from_baseline')]\n",
    "print(df['label'].unique())\n",
    "df = projections_vertical[(projections_vertical['indicator'] == 'water_stress') & (projections_vertical['type'] == 'future_value')]\n",
    "print(df['label'].unique())"
   ]
  },
  {
   "cell_type": "code",
   "execution_count": 227,
   "metadata": {},
   "outputs": [
    {
     "name": "stdout",
     "output_type": "stream",
     "text": [
      "['Near normal' 'No data' '1.1x decrease' '1.1x increase' '1.2x decrease'\n",
      " '1.3x or greater decrease' '1.2x increase' '1.3x or greater increase']\n",
      "['Low-medium (0.33-0.66)' 'Low (<0.33)' 'No data' 'High (1.0-1.33)'\n",
      " 'Extremely High (>1.33)' 'Medium-high (0.66-1.0)']\n"
     ]
    }
   ],
   "source": [
    "df = projections_vertical[(projections_vertical['indicator'] == 'seasonal_variability') & (projections_vertical['type'] == 'change_from_baseline')]\n",
    "print(df['label'].unique())\n",
    "df = projections_vertical[(projections_vertical['indicator'] == 'seasonal_variability') & (projections_vertical['type'] == 'future_value')]\n",
    "print(df['label'].unique())"
   ]
  },
  {
   "cell_type": "code",
   "execution_count": 228,
   "metadata": {},
   "outputs": [
    {
     "name": "stdout",
     "output_type": "stream",
     "text": [
      "['Near normal' '1.7x or greater increase' '1.4x increase' '1.2x increase'\n",
      " '1.4x decrease' '1.2x decrease' '1.7x or greater decrease' 'No data']\n",
      "['1-3 cm' '3-10 cm' '< 1 cm' '10-30 cm' '> 30 cm']\n"
     ]
    }
   ],
   "source": [
    "df = projections_vertical[(projections_vertical['indicator'] == 'water_demand') & (projections_vertical['type'] == 'change_from_baseline')]\n",
    "print(df['label'].unique())\n",
    "df = projections_vertical[(projections_vertical['indicator'] == 'water_demand') & (projections_vertical['type'] == 'future_value')]\n",
    "print(df['label'].unique())"
   ]
  },
  {
   "cell_type": "code",
   "execution_count": 229,
   "metadata": {},
   "outputs": [
    {
     "name": "stdout",
     "output_type": "stream",
     "text": [
      "['Near normal' '1.2x decrease' 'No data' '1.4x decrease' '1.4x increase'\n",
      " '1.2x increase' '1.7x or greater increase' '1.7x or greater decrease']\n",
      "['1-3 cm' '< 1 cm' '>1000 cm' '3-10 cm' '10-30 cm' '30-100 cm'\n",
      " '100-300 cm' '300-1000 cm']\n"
     ]
    }
   ],
   "source": [
    "df = projections_vertical[(projections_vertical['indicator'] == 'water_supply') & (projections_vertical['type'] == 'change_from_baseline')]\n",
    "print(df['label'].unique())\n",
    "df = projections_vertical[(projections_vertical['indicator'] == 'water_supply') & (projections_vertical['type'] == 'future_value')]\n",
    "print(df['label'].unique())"
   ]
  },
  {
   "cell_type": "markdown",
   "metadata": {},
   "source": [
    "## Custom weights table"
   ]
  },
  {
   "cell_type": "code",
   "execution_count": 75,
   "metadata": {},
   "outputs": [
    {
     "name": "stderr",
     "output_type": "stream",
     "text": [
      "/anaconda3/lib/python3.6/site-packages/IPython/core/interactiveshell.py:2728: DtypeWarning: Columns (11) have mixed types. Specify dtype option on import or set low_memory=False.\n",
      "  interactivity=interactivity, compiler=compiler, result=result)\n"
     ]
    }
   ],
   "source": [
    "df_master = pd.read_csv('./data/y2018m12d04_rh_master_merge_rawdata_gpd_v02_v05.csv')"
   ]
  },
  {
   "cell_type": "code",
   "execution_count": 76,
   "metadata": {},
   "outputs": [
    {
     "data": {
      "text/plain": [
       "(890643, 13)"
      ]
     },
     "execution_count": 76,
     "metadata": {},
     "output_type": "execute_result"
    }
   ],
   "source": [
    "df_master.shape"
   ]
  },
  {
   "cell_type": "code",
   "execution_count": 77,
   "metadata": {},
   "outputs": [
    {
     "data": {
      "text/html": [
       "<div>\n",
       "<style scoped>\n",
       "    .dataframe tbody tr th:only-of-type {\n",
       "        vertical-align: middle;\n",
       "    }\n",
       "\n",
       "    .dataframe tbody tr th {\n",
       "        vertical-align: top;\n",
       "    }\n",
       "\n",
       "    .dataframe thead th {\n",
       "        text-align: right;\n",
       "    }\n",
       "</style>\n",
       "<table border=\"1\" class=\"dataframe\">\n",
       "  <thead>\n",
       "    <tr style=\"text-align: right;\">\n",
       "      <th></th>\n",
       "      <th>aqid</th>\n",
       "      <th>cat</th>\n",
       "      <th>delta_id</th>\n",
       "      <th>gid_0</th>\n",
       "      <th>gid_1</th>\n",
       "      <th>indicator</th>\n",
       "      <th>label</th>\n",
       "      <th>pfaf_id</th>\n",
       "      <th>raw</th>\n",
       "      <th>score</th>\n",
       "      <th>string_id</th>\n",
       "      <th>temporal_resolution</th>\n",
       "      <th>year</th>\n",
       "    </tr>\n",
       "  </thead>\n",
       "  <tbody>\n",
       "    <tr>\n",
       "      <th>0</th>\n",
       "      <td>3365.0</td>\n",
       "      <td>0.0</td>\n",
       "      <td>-1.0</td>\n",
       "      <td>ERI</td>\n",
       "      <td>ERI.2_1</td>\n",
       "      <td>bwd</td>\n",
       "      <td>Low</td>\n",
       "      <td>111081.0</td>\n",
       "      <td>0.038672</td>\n",
       "      <td>0.773434</td>\n",
       "      <td>111081-ERI.2_1-3365</td>\n",
       "      <td>year</td>\n",
       "      <td>2014.0</td>\n",
       "    </tr>\n",
       "  </tbody>\n",
       "</table>\n",
       "</div>"
      ],
      "text/plain": [
       "     aqid  cat  delta_id gid_0    gid_1 indicator label   pfaf_id       raw  \\\n",
       "0  3365.0  0.0      -1.0   ERI  ERI.2_1       bwd   Low  111081.0  0.038672   \n",
       "\n",
       "      score            string_id temporal_resolution    year  \n",
       "0  0.773434  111081-ERI.2_1-3365                year  2014.0  "
      ]
     },
     "execution_count": 77,
     "metadata": {},
     "output_type": "execute_result"
    }
   ],
   "source": [
    "df_master.head(1)"
   ]
  },
  {
   "cell_type": "markdown",
   "metadata": {},
   "source": [
    "**Drop columns**"
   ]
  },
  {
   "cell_type": "code",
   "execution_count": 78,
   "metadata": {},
   "outputs": [
    {
     "data": {
      "text/html": [
       "<div>\n",
       "<style scoped>\n",
       "    .dataframe tbody tr th:only-of-type {\n",
       "        vertical-align: middle;\n",
       "    }\n",
       "\n",
       "    .dataframe tbody tr th {\n",
       "        vertical-align: top;\n",
       "    }\n",
       "\n",
       "    .dataframe thead th {\n",
       "        text-align: right;\n",
       "    }\n",
       "</style>\n",
       "<table border=\"1\" class=\"dataframe\">\n",
       "  <thead>\n",
       "    <tr style=\"text-align: right;\">\n",
       "      <th></th>\n",
       "      <th>indicator</th>\n",
       "      <th>score</th>\n",
       "      <th>string_id</th>\n",
       "    </tr>\n",
       "  </thead>\n",
       "  <tbody>\n",
       "    <tr>\n",
       "      <th>0</th>\n",
       "      <td>bwd</td>\n",
       "      <td>0.773434</td>\n",
       "      <td>111081-ERI.2_1-3365</td>\n",
       "    </tr>\n",
       "  </tbody>\n",
       "</table>\n",
       "</div>"
      ],
      "text/plain": [
       "  indicator     score            string_id\n",
       "0       bwd  0.773434  111081-ERI.2_1-3365"
      ]
     },
     "execution_count": 78,
     "metadata": {},
     "output_type": "execute_result"
    }
   ],
   "source": [
    "df_master.drop(columns=['aqid','cat','delta_id','gid_0','gid_1', 'label', 'pfaf_id', 'raw', 'temporal_resolution', 'year'], inplace=True)\n",
    "df_master.head(1)"
   ]
  },
  {
   "cell_type": "code",
   "execution_count": 79,
   "metadata": {},
   "outputs": [],
   "source": [
    "# certain GUs have invalid 'None' indicators. removing those\n",
    "# This happens when the id exists in the master shapefile but not in te indicator results.\n",
    "df_valid = df_master.loc[df_master[\"indicator\"].notnull()]"
   ]
  },
  {
   "cell_type": "code",
   "execution_count": 80,
   "metadata": {},
   "outputs": [
    {
     "data": {
      "text/plain": [
       "(809557, 3)"
      ]
     },
     "execution_count": 80,
     "metadata": {},
     "output_type": "execute_result"
    }
   ],
   "source": [
    "df_valid.shape"
   ]
  },
  {
   "cell_type": "markdown",
   "metadata": {},
   "source": [
    "**Add group name**"
   ]
  },
  {
   "cell_type": "code",
   "execution_count": 81,
   "metadata": {},
   "outputs": [],
   "source": [
    "df_weights = pd.read_csv('./data/AQ_2_water_risk_atlas/output_V01/industry_weights/industry_weights.csv')"
   ]
  },
  {
   "cell_type": "code",
   "execution_count": 82,
   "metadata": {},
   "outputs": [],
   "source": [
    "# Lowercase some columns\n",
    "df_weights['group_short'] = df_weights['group_short'].astype(str).str.lower()\n",
    "df_weights['indicator_short'] = df_weights['indicator_short'].astype(str).str.lower()\n",
    "df_weights['industry_short'] = df_weights['industry_short'].astype(str).str.lower()\n",
    "\n",
    "# Drop column\n",
    "df_weights.drop(columns='Unnamed: 0', inplace=True)"
   ]
  },
  {
   "cell_type": "code",
   "execution_count": 83,
   "metadata": {},
   "outputs": [],
   "source": [
    "df_groups = df_weights.loc[df_weights[\"industry_short\"] ==\"def\"][[\"indicator_short\",\"group_short\"]]"
   ]
  },
  {
   "cell_type": "code",
   "execution_count": 84,
   "metadata": {},
   "outputs": [
    {
     "data": {
      "text/html": [
       "<div>\n",
       "<style scoped>\n",
       "    .dataframe tbody tr th:only-of-type {\n",
       "        vertical-align: middle;\n",
       "    }\n",
       "\n",
       "    .dataframe tbody tr th {\n",
       "        vertical-align: top;\n",
       "    }\n",
       "\n",
       "    .dataframe thead th {\n",
       "        text-align: right;\n",
       "    }\n",
       "</style>\n",
       "<table border=\"1\" class=\"dataframe\">\n",
       "  <thead>\n",
       "    <tr style=\"text-align: right;\">\n",
       "      <th></th>\n",
       "      <th>indicator_short</th>\n",
       "      <th>group_short</th>\n",
       "    </tr>\n",
       "  </thead>\n",
       "  <tbody>\n",
       "    <tr>\n",
       "      <th>1</th>\n",
       "      <td>ucw</td>\n",
       "      <td>qal</td>\n",
       "    </tr>\n",
       "    <tr>\n",
       "      <th>15</th>\n",
       "      <td>cep</td>\n",
       "      <td>qal</td>\n",
       "    </tr>\n",
       "    <tr>\n",
       "      <th>20</th>\n",
       "      <td>drr</td>\n",
       "      <td>qan</td>\n",
       "    </tr>\n",
       "    <tr>\n",
       "      <th>42</th>\n",
       "      <td>bws</td>\n",
       "      <td>qan</td>\n",
       "    </tr>\n",
       "    <tr>\n",
       "      <th>43</th>\n",
       "      <td>bwd</td>\n",
       "      <td>qan</td>\n",
       "    </tr>\n",
       "    <tr>\n",
       "      <th>44</th>\n",
       "      <td>gtd</td>\n",
       "      <td>qan</td>\n",
       "    </tr>\n",
       "    <tr>\n",
       "      <th>62</th>\n",
       "      <td>iav</td>\n",
       "      <td>qan</td>\n",
       "    </tr>\n",
       "    <tr>\n",
       "      <th>63</th>\n",
       "      <td>sev</td>\n",
       "      <td>qan</td>\n",
       "    </tr>\n",
       "    <tr>\n",
       "      <th>75</th>\n",
       "      <td>rfr</td>\n",
       "      <td>qan</td>\n",
       "    </tr>\n",
       "    <tr>\n",
       "      <th>76</th>\n",
       "      <td>cfr</td>\n",
       "      <td>qan</td>\n",
       "    </tr>\n",
       "    <tr>\n",
       "      <th>100</th>\n",
       "      <td>udw</td>\n",
       "      <td>rrr</td>\n",
       "    </tr>\n",
       "    <tr>\n",
       "      <th>101</th>\n",
       "      <td>usa</td>\n",
       "      <td>rrr</td>\n",
       "    </tr>\n",
       "    <tr>\n",
       "      <th>122</th>\n",
       "      <td>rri</td>\n",
       "      <td>rrr</td>\n",
       "    </tr>\n",
       "  </tbody>\n",
       "</table>\n",
       "</div>"
      ],
      "text/plain": [
       "    indicator_short group_short\n",
       "1               ucw         qal\n",
       "15              cep         qal\n",
       "20              drr         qan\n",
       "42              bws         qan\n",
       "43              bwd         qan\n",
       "44              gtd         qan\n",
       "62              iav         qan\n",
       "63              sev         qan\n",
       "75              rfr         qan\n",
       "76              cfr         qan\n",
       "100             udw         rrr\n",
       "101             usa         rrr\n",
       "122             rri         rrr"
      ]
     },
     "execution_count": 84,
     "metadata": {},
     "output_type": "execute_result"
    }
   ],
   "source": [
    "df_groups "
   ]
  },
  {
   "cell_type": "code",
   "execution_count": 85,
   "metadata": {},
   "outputs": [],
   "source": [
    "# Add group to dataframe\n",
    "df_group = pd.merge(left=df_valid,\n",
    "                 right=df_groups,\n",
    "                 how=\"left\",\n",
    "                 left_on=\"indicator\",\n",
    "                 right_on=\"indicator_short\")\n",
    "# Drop columns\n",
    "df_group.drop([\"indicator_short\"], axis=1,inplace=True)"
   ]
  },
  {
   "cell_type": "code",
   "execution_count": 86,
   "metadata": {},
   "outputs": [
    {
     "data": {
      "text/html": [
       "<div>\n",
       "<style scoped>\n",
       "    .dataframe tbody tr th:only-of-type {\n",
       "        vertical-align: middle;\n",
       "    }\n",
       "\n",
       "    .dataframe tbody tr th {\n",
       "        vertical-align: top;\n",
       "    }\n",
       "\n",
       "    .dataframe thead th {\n",
       "        text-align: right;\n",
       "    }\n",
       "</style>\n",
       "<table border=\"1\" class=\"dataframe\">\n",
       "  <thead>\n",
       "    <tr style=\"text-align: right;\">\n",
       "      <th></th>\n",
       "      <th>indicator</th>\n",
       "      <th>score</th>\n",
       "      <th>string_id</th>\n",
       "      <th>group_short</th>\n",
       "    </tr>\n",
       "  </thead>\n",
       "  <tbody>\n",
       "    <tr>\n",
       "      <th>0</th>\n",
       "      <td>bwd</td>\n",
       "      <td>0.773434</td>\n",
       "      <td>111081-ERI.2_1-3365</td>\n",
       "      <td>qan</td>\n",
       "    </tr>\n",
       "  </tbody>\n",
       "</table>\n",
       "</div>"
      ],
      "text/plain": [
       "  indicator     score            string_id group_short\n",
       "0       bwd  0.773434  111081-ERI.2_1-3365         qan"
      ]
     },
     "execution_count": 86,
     "metadata": {},
     "output_type": "execute_result"
    }
   ],
   "source": [
    "df_group.head(1)"
   ]
  },
  {
   "cell_type": "markdown",
   "metadata": {},
   "source": [
    "**Add aq30_id**"
   ]
  },
  {
   "cell_type": "code",
   "execution_count": 87,
   "metadata": {},
   "outputs": [],
   "source": [
    "df_aq30 = gpd.read_file('./data/AQ_2_water_risk_atlas/Y2018M12D06_RH_Master_Shape_V01/output_V02/Y2018M12D06_RH_Master_Shape_V01.shp')"
   ]
  },
  {
   "cell_type": "code",
   "execution_count": 88,
   "metadata": {},
   "outputs": [
    {
     "data": {
      "text/html": [
       "<div>\n",
       "<style scoped>\n",
       "    .dataframe tbody tr th:only-of-type {\n",
       "        vertical-align: middle;\n",
       "    }\n",
       "\n",
       "    .dataframe tbody tr th {\n",
       "        vertical-align: top;\n",
       "    }\n",
       "\n",
       "    .dataframe thead th {\n",
       "        text-align: right;\n",
       "    }\n",
       "</style>\n",
       "<table border=\"1\" class=\"dataframe\">\n",
       "  <thead>\n",
       "    <tr style=\"text-align: right;\">\n",
       "      <th></th>\n",
       "      <th>aq30_id</th>\n",
       "      <th>string_id</th>\n",
       "    </tr>\n",
       "  </thead>\n",
       "  <tbody>\n",
       "    <tr>\n",
       "      <th>0</th>\n",
       "      <td>0</td>\n",
       "      <td>111011-EGY.11_1-3365</td>\n",
       "    </tr>\n",
       "  </tbody>\n",
       "</table>\n",
       "</div>"
      ],
      "text/plain": [
       "   aq30_id             string_id\n",
       "0        0  111011-EGY.11_1-3365"
      ]
     },
     "execution_count": 88,
     "metadata": {},
     "output_type": "execute_result"
    }
   ],
   "source": [
    "df_aq30.drop(columns=['aqid', 'gid_1', 'pfaf_id', 'type', 'geometry'], inplace=True)\n",
    "df_aq30.head(1)"
   ]
  },
  {
   "cell_type": "code",
   "execution_count": 114,
   "metadata": {},
   "outputs": [
    {
     "data": {
      "text/plain": [
       "(68511, 2)"
      ]
     },
     "execution_count": 114,
     "metadata": {},
     "output_type": "execute_result"
    }
   ],
   "source": [
    "df_aq30.shape"
   ]
  },
  {
   "cell_type": "code",
   "execution_count": 89,
   "metadata": {},
   "outputs": [
    {
     "data": {
      "text/html": [
       "<div>\n",
       "<style scoped>\n",
       "    .dataframe tbody tr th:only-of-type {\n",
       "        vertical-align: middle;\n",
       "    }\n",
       "\n",
       "    .dataframe tbody tr th {\n",
       "        vertical-align: top;\n",
       "    }\n",
       "\n",
       "    .dataframe thead th {\n",
       "        text-align: right;\n",
       "    }\n",
       "</style>\n",
       "<table border=\"1\" class=\"dataframe\">\n",
       "  <thead>\n",
       "    <tr style=\"text-align: right;\">\n",
       "      <th></th>\n",
       "      <th>indicator</th>\n",
       "      <th>score</th>\n",
       "      <th>group_short</th>\n",
       "      <th>aq30_id</th>\n",
       "    </tr>\n",
       "  </thead>\n",
       "  <tbody>\n",
       "    <tr>\n",
       "      <th>614218</th>\n",
       "      <td>rfr</td>\n",
       "      <td>4.180674</td>\n",
       "      <td>qan</td>\n",
       "      <td>0</td>\n",
       "    </tr>\n",
       "  </tbody>\n",
       "</table>\n",
       "</div>"
      ],
      "text/plain": [
       "       indicator     score group_short  aq30_id\n",
       "614218       rfr  4.180674         qan        0"
      ]
     },
     "execution_count": 89,
     "metadata": {},
     "output_type": "execute_result"
    }
   ],
   "source": [
    "df_all = pd.merge(left=df_group,\n",
    "                right=df_aq30,\n",
    "                on = \"string_id\",\n",
    "                how = \"left\")\n",
    "df_all.drop(columns='string_id', inplace=True)\n",
    "df_all.sort_values('aq30_id', inplace=True)\n",
    "df_all.head(1)"
   ]
  },
  {
   "cell_type": "markdown",
   "metadata": {},
   "source": [
    "**Drop rows where score is NaN**"
   ]
  },
  {
   "cell_type": "code",
   "execution_count": 70,
   "metadata": {},
   "outputs": [],
   "source": [
    "df_all.dropna(subset=['score'], inplace=True)"
   ]
  },
  {
   "cell_type": "code",
   "execution_count": 71,
   "metadata": {},
   "outputs": [
    {
     "data": {
      "text/plain": [
       "(736918, 4)"
      ]
     },
     "execution_count": 71,
     "metadata": {},
     "output_type": "execute_result"
    }
   ],
   "source": [
    "df_all.shape"
   ]
  },
  {
   "cell_type": "code",
   "execution_count": 118,
   "metadata": {},
   "outputs": [
    {
     "data": {
      "text/html": [
       "<div>\n",
       "<style scoped>\n",
       "    .dataframe tbody tr th:only-of-type {\n",
       "        vertical-align: middle;\n",
       "    }\n",
       "\n",
       "    .dataframe tbody tr th {\n",
       "        vertical-align: top;\n",
       "    }\n",
       "\n",
       "    .dataframe thead th {\n",
       "        text-align: right;\n",
       "    }\n",
       "</style>\n",
       "<table border=\"1\" class=\"dataframe\">\n",
       "  <thead>\n",
       "    <tr style=\"text-align: right;\">\n",
       "      <th></th>\n",
       "      <th>indicator</th>\n",
       "      <th>score</th>\n",
       "      <th>group_short</th>\n",
       "      <th>aq30_id</th>\n",
       "    </tr>\n",
       "  </thead>\n",
       "  <tbody>\n",
       "    <tr>\n",
       "      <th>614218</th>\n",
       "      <td>rfr</td>\n",
       "      <td>4.180674</td>\n",
       "      <td>qan</td>\n",
       "      <td>0</td>\n",
       "    </tr>\n",
       "    <tr>\n",
       "      <th>414738</th>\n",
       "      <td>gtd</td>\n",
       "      <td>NaN</td>\n",
       "      <td>qan</td>\n",
       "      <td>0</td>\n",
       "    </tr>\n",
       "    <tr>\n",
       "      <th>712413</th>\n",
       "      <td>cep</td>\n",
       "      <td>1.250000</td>\n",
       "      <td>qal</td>\n",
       "      <td>0</td>\n",
       "    </tr>\n",
       "    <tr>\n",
       "      <th>723470</th>\n",
       "      <td>cfr</td>\n",
       "      <td>0.000000</td>\n",
       "      <td>qan</td>\n",
       "      <td>0</td>\n",
       "    </tr>\n",
       "    <tr>\n",
       "      <th>325363</th>\n",
       "      <td>sev</td>\n",
       "      <td>2.887187</td>\n",
       "      <td>qan</td>\n",
       "      <td>0</td>\n",
       "    </tr>\n",
       "  </tbody>\n",
       "</table>\n",
       "</div>"
      ],
      "text/plain": [
       "       indicator     score group_short  aq30_id\n",
       "614218       rfr  4.180674         qan        0\n",
       "414738       gtd       NaN         qan        0\n",
       "712413       cep  1.250000         qal        0\n",
       "723470       cfr  0.000000         qan        0\n",
       "325363       sev  2.887187         qan        0"
      ]
     },
     "execution_count": 118,
     "metadata": {},
     "output_type": "execute_result"
    }
   ],
   "source": [
    "df_all.head()"
   ]
  },
  {
   "cell_type": "markdown",
   "metadata": {},
   "source": [
    "**Save table**"
   ]
  },
  {
   "cell_type": "code",
   "execution_count": 74,
   "metadata": {},
   "outputs": [],
   "source": [
    "df_all.to_csv('/Users/ikersanchez/Vizzuality/PROIEKTUAK/Aqueduct/work/data/AQ_2_water_risk_atlas/water_risk_indicators_normalized.csv')"
   ]
  },
  {
   "cell_type": "markdown",
   "metadata": {},
   "source": [
    "## Water Risk Indicators table for Food\n",
    "\n",
    "We have to modified the new table in such a way that mimics the old one."
   ]
  },
  {
   "cell_type": "markdown",
   "metadata": {},
   "source": [
    "### Read tables\n",
    "\n",
    "**Old table**"
   ]
  },
  {
   "cell_type": "code",
   "execution_count": 4,
   "metadata": {},
   "outputs": [],
   "source": [
    "wri_old = pd.read_csv('/Users/ikersanchez/Vizzuality/PROIEKTUAK/Aqueduct/work/data/AQ_2_water_risk_atlas/water_risk_indicators_v3.csv')"
   ]
  },
  {
   "cell_type": "code",
   "execution_count": 5,
   "metadata": {},
   "outputs": [
    {
     "data": {
      "text/html": [
       "<div>\n",
       "<style scoped>\n",
       "    .dataframe tbody tr th:only-of-type {\n",
       "        vertical-align: middle;\n",
       "    }\n",
       "\n",
       "    .dataframe tbody tr th {\n",
       "        vertical-align: top;\n",
       "    }\n",
       "\n",
       "    .dataframe thead th {\n",
       "        text-align: right;\n",
       "    }\n",
       "</style>\n",
       "<table border=\"1\" class=\"dataframe\">\n",
       "  <thead>\n",
       "    <tr style=\"text-align: right;\">\n",
       "      <th></th>\n",
       "      <th>the_geom</th>\n",
       "      <th>period</th>\n",
       "      <th>field_1</th>\n",
       "      <th>aqid</th>\n",
       "      <th>basinid</th>\n",
       "      <th>data_type</th>\n",
       "      <th>indicator</th>\n",
       "      <th>cartodb_id</th>\n",
       "      <th>period_value</th>\n",
       "      <th>scenario</th>\n",
       "      <th>value</th>\n",
       "      <th>year</th>\n",
       "      <th>cat</th>\n",
       "      <th>label</th>\n",
       "    </tr>\n",
       "  </thead>\n",
       "  <tbody>\n",
       "    <tr>\n",
       "      <th>0</th>\n",
       "      <td>NaN</td>\n",
       "      <td>month</td>\n",
       "      <td>16686</td>\n",
       "      <td>NaN</td>\n",
       "      <td>117709.0</td>\n",
       "      <td>absolute</td>\n",
       "      <td>water_stess</td>\n",
       "      <td>131466</td>\n",
       "      <td>1.0</td>\n",
       "      <td>historic</td>\n",
       "      <td>NaN</td>\n",
       "      <td>2014</td>\n",
       "      <td>-1.0</td>\n",
       "      <td>Arid &amp; low water use</td>\n",
       "    </tr>\n",
       "    <tr>\n",
       "      <th>1</th>\n",
       "      <td>NaN</td>\n",
       "      <td>month</td>\n",
       "      <td>16769</td>\n",
       "      <td>NaN</td>\n",
       "      <td>122721.0</td>\n",
       "      <td>absolute</td>\n",
       "      <td>water_stess</td>\n",
       "      <td>131549</td>\n",
       "      <td>1.0</td>\n",
       "      <td>historic</td>\n",
       "      <td>NaN</td>\n",
       "      <td>2014</td>\n",
       "      <td>5.0</td>\n",
       "      <td>6. Extremely high</td>\n",
       "    </tr>\n",
       "    <tr>\n",
       "      <th>2</th>\n",
       "      <td>NaN</td>\n",
       "      <td>month</td>\n",
       "      <td>18406</td>\n",
       "      <td>NaN</td>\n",
       "      <td>172136.0</td>\n",
       "      <td>absolute</td>\n",
       "      <td>water_stess</td>\n",
       "      <td>133186</td>\n",
       "      <td>1.0</td>\n",
       "      <td>historic</td>\n",
       "      <td>NaN</td>\n",
       "      <td>2014</td>\n",
       "      <td>-1.0</td>\n",
       "      <td>Arid &amp; low water use</td>\n",
       "    </tr>\n",
       "    <tr>\n",
       "      <th>3</th>\n",
       "      <td>NaN</td>\n",
       "      <td>month</td>\n",
       "      <td>19309</td>\n",
       "      <td>NaN</td>\n",
       "      <td>155144.0</td>\n",
       "      <td>absolute</td>\n",
       "      <td>water_stess</td>\n",
       "      <td>134089</td>\n",
       "      <td>1.0</td>\n",
       "      <td>historic</td>\n",
       "      <td>NaN</td>\n",
       "      <td>2014</td>\n",
       "      <td>-1.0</td>\n",
       "      <td>Arid &amp; low water use</td>\n",
       "    </tr>\n",
       "    <tr>\n",
       "      <th>4</th>\n",
       "      <td>NaN</td>\n",
       "      <td>month</td>\n",
       "      <td>24758</td>\n",
       "      <td>NaN</td>\n",
       "      <td>211011.0</td>\n",
       "      <td>absolute</td>\n",
       "      <td>water_stess</td>\n",
       "      <td>139538</td>\n",
       "      <td>1.0</td>\n",
       "      <td>historic</td>\n",
       "      <td>NaN</td>\n",
       "      <td>2014</td>\n",
       "      <td>5.0</td>\n",
       "      <td>6. Extremely high</td>\n",
       "    </tr>\n",
       "  </tbody>\n",
       "</table>\n",
       "</div>"
      ],
      "text/plain": [
       "   the_geom period  field_1  aqid   basinid data_type    indicator  \\\n",
       "0       NaN  month    16686   NaN  117709.0  absolute  water_stess   \n",
       "1       NaN  month    16769   NaN  122721.0  absolute  water_stess   \n",
       "2       NaN  month    18406   NaN  172136.0  absolute  water_stess   \n",
       "3       NaN  month    19309   NaN  155144.0  absolute  water_stess   \n",
       "4       NaN  month    24758   NaN  211011.0  absolute  water_stess   \n",
       "\n",
       "   cartodb_id  period_value  scenario  value  year  cat                 label  \n",
       "0      131466           1.0  historic    NaN  2014 -1.0  Arid & low water use  \n",
       "1      131549           1.0  historic    NaN  2014  5.0     6. Extremely high  \n",
       "2      133186           1.0  historic    NaN  2014 -1.0  Arid & low water use  \n",
       "3      134089           1.0  historic    NaN  2014 -1.0  Arid & low water use  \n",
       "4      139538           1.0  historic    NaN  2014  5.0     6. Extremely high  "
      ]
     },
     "execution_count": 5,
     "metadata": {},
     "output_type": "execute_result"
    }
   ],
   "source": [
    "wri_old.head()"
   ]
  },
  {
   "cell_type": "code",
   "execution_count": 7,
   "metadata": {},
   "outputs": [
    {
     "data": {
      "text/plain": [
       "array(['historic'], dtype=object)"
      ]
     },
     "execution_count": 7,
     "metadata": {},
     "output_type": "execute_result"
    }
   ],
   "source": [
    "wri_old['scenario'].unique()"
   ]
  },
  {
   "cell_type": "code",
   "execution_count": 18,
   "metadata": {},
   "outputs": [
    {
     "data": {
      "text/plain": [
       "array(['water_stess', 'drought_severity_soil', 'drought_severity_flow',\n",
       "       'interannual_variability', 'seasonal_variability',\n",
       "       'groundwater_stress', 'groundwater_decline_trend'], dtype=object)"
      ]
     },
     "execution_count": 18,
     "metadata": {},
     "output_type": "execute_result"
    }
   ],
   "source": [
    "wri_old['indicator'].unique()"
   ]
  },
  {
   "cell_type": "markdown",
   "metadata": {},
   "source": [
    "**New table**"
   ]
  },
  {
   "cell_type": "code",
   "execution_count": 19,
   "metadata": {},
   "outputs": [],
   "source": [
    "wri_new = pd.read_csv('/Users/ikersanchez/Vizzuality/PROIEKTUAK/Aqueduct/work/data/AQ_2_water_risk_atlas/output_V01/annual/annual_normalized.csv')"
   ]
  },
  {
   "cell_type": "code",
   "execution_count": 20,
   "metadata": {},
   "outputs": [
    {
     "data": {
      "text/html": [
       "<div>\n",
       "<style scoped>\n",
       "    .dataframe tbody tr th:only-of-type {\n",
       "        vertical-align: middle;\n",
       "    }\n",
       "\n",
       "    .dataframe tbody tr th {\n",
       "        vertical-align: top;\n",
       "    }\n",
       "\n",
       "    .dataframe thead th {\n",
       "        text-align: right;\n",
       "    }\n",
       "</style>\n",
       "<table border=\"1\" class=\"dataframe\">\n",
       "  <thead>\n",
       "    <tr style=\"text-align: right;\">\n",
       "      <th></th>\n",
       "      <th>Unnamed: 0</th>\n",
       "      <th>cat</th>\n",
       "      <th>group_short</th>\n",
       "      <th>indicator</th>\n",
       "      <th>industry_short</th>\n",
       "      <th>label</th>\n",
       "      <th>raw</th>\n",
       "      <th>score</th>\n",
       "      <th>string_id</th>\n",
       "      <th>weight_fraction</th>\n",
       "      <th>weighted_score</th>\n",
       "    </tr>\n",
       "  </thead>\n",
       "  <tbody>\n",
       "    <tr>\n",
       "      <th>0</th>\n",
       "      <td>0</td>\n",
       "      <td>4.0</td>\n",
       "      <td>qan</td>\n",
       "      <td>bwd</td>\n",
       "      <td>che</td>\n",
       "      <td>Extremely High</td>\n",
       "      <td>0.987061</td>\n",
       "      <td>4.948243</td>\n",
       "      <td>111011-EGY.11_1-3365</td>\n",
       "      <td>0.076190</td>\n",
       "      <td>0.377009</td>\n",
       "    </tr>\n",
       "    <tr>\n",
       "      <th>1</th>\n",
       "      <td>1</td>\n",
       "      <td>4.0</td>\n",
       "      <td>qan</td>\n",
       "      <td>bwd</td>\n",
       "      <td>smc</td>\n",
       "      <td>Extremely High</td>\n",
       "      <td>0.987061</td>\n",
       "      <td>4.948243</td>\n",
       "      <td>111011-EGY.11_1-3365</td>\n",
       "      <td>0.095238</td>\n",
       "      <td>0.471261</td>\n",
       "    </tr>\n",
       "    <tr>\n",
       "      <th>2</th>\n",
       "      <td>2</td>\n",
       "      <td>4.0</td>\n",
       "      <td>qan</td>\n",
       "      <td>bwd</td>\n",
       "      <td>min</td>\n",
       "      <td>Extremely High</td>\n",
       "      <td>0.987061</td>\n",
       "      <td>4.948243</td>\n",
       "      <td>111011-EGY.11_1-3365</td>\n",
       "      <td>0.061069</td>\n",
       "      <td>0.302183</td>\n",
       "    </tr>\n",
       "    <tr>\n",
       "      <th>3</th>\n",
       "      <td>3</td>\n",
       "      <td>4.0</td>\n",
       "      <td>qan</td>\n",
       "      <td>bwd</td>\n",
       "      <td>con</td>\n",
       "      <td>Extremely High</td>\n",
       "      <td>0.987061</td>\n",
       "      <td>4.948243</td>\n",
       "      <td>111011-EGY.11_1-3365</td>\n",
       "      <td>0.142857</td>\n",
       "      <td>0.706892</td>\n",
       "    </tr>\n",
       "    <tr>\n",
       "      <th>4</th>\n",
       "      <td>4</td>\n",
       "      <td>4.0</td>\n",
       "      <td>qan</td>\n",
       "      <td>bwd</td>\n",
       "      <td>tex</td>\n",
       "      <td>Extremely High</td>\n",
       "      <td>0.987061</td>\n",
       "      <td>4.948243</td>\n",
       "      <td>111011-EGY.11_1-3365</td>\n",
       "      <td>0.081633</td>\n",
       "      <td>0.403938</td>\n",
       "    </tr>\n",
       "  </tbody>\n",
       "</table>\n",
       "</div>"
      ],
      "text/plain": [
       "   Unnamed: 0  cat group_short indicator industry_short           label  \\\n",
       "0           0  4.0         qan       bwd            che  Extremely High   \n",
       "1           1  4.0         qan       bwd            smc  Extremely High   \n",
       "2           2  4.0         qan       bwd            min  Extremely High   \n",
       "3           3  4.0         qan       bwd            con  Extremely High   \n",
       "4           4  4.0         qan       bwd            tex  Extremely High   \n",
       "\n",
       "        raw     score             string_id  weight_fraction  weighted_score  \n",
       "0  0.987061  4.948243  111011-EGY.11_1-3365         0.076190        0.377009  \n",
       "1  0.987061  4.948243  111011-EGY.11_1-3365         0.095238        0.471261  \n",
       "2  0.987061  4.948243  111011-EGY.11_1-3365         0.061069        0.302183  \n",
       "3  0.987061  4.948243  111011-EGY.11_1-3365         0.142857        0.706892  \n",
       "4  0.987061  4.948243  111011-EGY.11_1-3365         0.081633        0.403938  "
      ]
     },
     "execution_count": 20,
     "metadata": {},
     "output_type": "execute_result"
    }
   ],
   "source": [
    "wri_new.head()"
   ]
  },
  {
   "cell_type": "markdown",
   "metadata": {},
   "source": [
    "**Take only default weighting**"
   ]
  },
  {
   "cell_type": "code",
   "execution_count": 21,
   "metadata": {},
   "outputs": [],
   "source": [
    "wri_new = wri_new[wri_new['industry_short'] == 'def']"
   ]
  },
  {
   "cell_type": "markdown",
   "metadata": {},
   "source": [
    "### Create `PFAF_ID` and `aqid` columns\n",
    "\n",
    "The `string_id` is a composite index of `PFAF_ID` + \"-\" + `GID_1` + \"-\" + `aqid` \n",
    "\n",
    "**Polygon names**\n",
    "\n",
    "|What \t                                |Name             |unique_identifier_integer |\n",
    "|---------------------------------------|-----------------|--------------------------|\n",
    "|hydrological sub-basins                |Hydrobasin6      |PFAF_ID                   |\n",
    "|sub-national administrative boundaries |GADM_1           |GID_1_ID                  |\n",
    "|Groundwater Aquifers                   |WHYMAP           |aquid                     |\n",
    "|Union of the geometries above          |Aqueduct_Union   |aq30_id                   |\n",
    "\n",
    "In old table (water_risk_indicators_v3) `basinid` = `PFAF_ID`\n"
   ]
  },
  {
   "cell_type": "code",
   "execution_count": 22,
   "metadata": {},
   "outputs": [],
   "source": [
    "wri_new['PFAF_ID'] = wri_new.apply(lambda x: x['string_id'].split('-')[0], axis=1)\n",
    "wri_new['aqid'] = wri_new.apply(lambda x: x['string_id'].split('-')[2], axis=1)"
   ]
  },
  {
   "cell_type": "markdown",
   "metadata": {},
   "source": [
    "**We remove the sub-national administrative boundaries level** "
   ]
  },
  {
   "cell_type": "code",
   "execution_count": 23,
   "metadata": {},
   "outputs": [],
   "source": [
    "wri_new.drop_duplicates(subset=['indicator', 'PFAF_ID', 'aqid'], keep='first', inplace=True)"
   ]
  },
  {
   "cell_type": "markdown",
   "metadata": {},
   "source": [
    "**Drop some columns**"
   ]
  },
  {
   "cell_type": "code",
   "execution_count": 24,
   "metadata": {},
   "outputs": [],
   "source": [
    "wri_new.drop(labels=['Unnamed: 0', 'industry_short', 'raw', \n",
    "                       'string_id', 'weight_fraction', 'weighted_score'], axis=1, inplace=True)"
   ]
  },
  {
   "cell_type": "code",
   "execution_count": 25,
   "metadata": {},
   "outputs": [
    {
     "data": {
      "text/html": [
       "<div>\n",
       "<style scoped>\n",
       "    .dataframe tbody tr th:only-of-type {\n",
       "        vertical-align: middle;\n",
       "    }\n",
       "\n",
       "    .dataframe tbody tr th {\n",
       "        vertical-align: top;\n",
       "    }\n",
       "\n",
       "    .dataframe thead th {\n",
       "        text-align: right;\n",
       "    }\n",
       "</style>\n",
       "<table border=\"1\" class=\"dataframe\">\n",
       "  <thead>\n",
       "    <tr style=\"text-align: right;\">\n",
       "      <th></th>\n",
       "      <th>cat</th>\n",
       "      <th>group_short</th>\n",
       "      <th>indicator</th>\n",
       "      <th>label</th>\n",
       "      <th>score</th>\n",
       "      <th>PFAF_ID</th>\n",
       "      <th>aqid</th>\n",
       "    </tr>\n",
       "  </thead>\n",
       "  <tbody>\n",
       "    <tr>\n",
       "      <th>5</th>\n",
       "      <td>4.0</td>\n",
       "      <td>qan</td>\n",
       "      <td>bwd</td>\n",
       "      <td>Extremely High</td>\n",
       "      <td>4.948243</td>\n",
       "      <td>111011</td>\n",
       "      <td>3365</td>\n",
       "    </tr>\n",
       "    <tr>\n",
       "      <th>14</th>\n",
       "      <td>4.0</td>\n",
       "      <td>qan</td>\n",
       "      <td>rfr</td>\n",
       "      <td>Extremely High (more than 1 in 100)</td>\n",
       "      <td>4.180674</td>\n",
       "      <td>111011</td>\n",
       "      <td>3365</td>\n",
       "    </tr>\n",
       "    <tr>\n",
       "      <th>25</th>\n",
       "      <td>NaN</td>\n",
       "      <td>qan</td>\n",
       "      <td>gtd</td>\n",
       "      <td>Insignificant Trend</td>\n",
       "      <td>NaN</td>\n",
       "      <td>111011</td>\n",
       "      <td>3365</td>\n",
       "    </tr>\n",
       "    <tr>\n",
       "      <th>30</th>\n",
       "      <td>0.0</td>\n",
       "      <td>rrr</td>\n",
       "      <td>udw</td>\n",
       "      <td>Low (&lt; 2.5%)</td>\n",
       "      <td>0.000000</td>\n",
       "      <td>111011</td>\n",
       "      <td>3365</td>\n",
       "    </tr>\n",
       "    <tr>\n",
       "      <th>41</th>\n",
       "      <td>4.0</td>\n",
       "      <td>qan</td>\n",
       "      <td>iav</td>\n",
       "      <td>Extremely High</td>\n",
       "      <td>4.141657</td>\n",
       "      <td>111011</td>\n",
       "      <td>3365</td>\n",
       "    </tr>\n",
       "  </tbody>\n",
       "</table>\n",
       "</div>"
      ],
      "text/plain": [
       "    cat group_short indicator                                label     score  \\\n",
       "5   4.0         qan       bwd                       Extremely High  4.948243   \n",
       "14  4.0         qan       rfr  Extremely High (more than 1 in 100)  4.180674   \n",
       "25  NaN         qan       gtd                  Insignificant Trend       NaN   \n",
       "30  0.0         rrr       udw                         Low (< 2.5%)  0.000000   \n",
       "41  4.0         qan       iav                       Extremely High  4.141657   \n",
       "\n",
       "   PFAF_ID  aqid  \n",
       "5   111011  3365  \n",
       "14  111011  3365  \n",
       "25  111011  3365  \n",
       "30  111011  3365  \n",
       "41  111011  3365  "
      ]
     },
     "execution_count": 25,
     "metadata": {},
     "output_type": "execute_result"
    }
   ],
   "source": [
    "wri_new.head()"
   ]
  },
  {
   "cell_type": "code",
   "execution_count": 26,
   "metadata": {},
   "outputs": [],
   "source": [
    "wri_new['aqid'].replace('None', np.nan, inplace=True)\n",
    "wri_new['PFAF_ID'].replace('None', np.nan, inplace=True)"
   ]
  },
  {
   "cell_type": "markdown",
   "metadata": {},
   "source": [
    "**Save table**"
   ]
  },
  {
   "cell_type": "code",
   "execution_count": null,
   "metadata": {},
   "outputs": [],
   "source": [
    "wri_new.to_csv('/Users/ikersanchez/Vizzuality/PROIEKTUAK/Aqueduct/work/data/AQ_2_water_risk_atlas/water_risk_indicators_food.csv')"
   ]
  },
  {
   "cell_type": "code",
   "execution_count": null,
   "metadata": {},
   "outputs": [],
   "source": []
  }
 ],
 "metadata": {
  "kernelspec": {
   "display_name": "Python 3",
   "language": "python",
   "name": "python3"
  },
  "language_info": {
   "codemirror_mode": {
    "name": "ipython",
    "version": 3
   },
   "file_extension": ".py",
   "mimetype": "text/x-python",
   "name": "python",
   "nbconvert_exporter": "python",
   "pygments_lexer": "ipython3",
   "version": "3.6.4"
  }
 },
 "nbformat": 4,
 "nbformat_minor": 2
}
