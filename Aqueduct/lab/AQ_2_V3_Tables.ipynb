{
 "cells": [
  {
   "cell_type": "markdown",
   "metadata": {},
   "source": [
    "# Water Risk Tables"
   ]
  },
  {
   "cell_type": "code",
   "execution_count": 2,
   "metadata": {},
   "outputs": [],
   "source": [
    "import pandas as pd\n",
    "import geopandas as gpd\n",
    "import numpy as np\n",
    "import matplotlib.pyplot as plt"
   ]
  },
  {
   "cell_type": "markdown",
   "metadata": {},
   "source": [
    "##  Framework structure\n",
    "\n",
    "The structure of the framework is as follows. Below we used the default weighting schemes for the groups (quantity, quality and regulatory reputational) and the overall water risk.\n",
    "\n",
    "Overall Water Risk (100%)\n",
    "- Water Quantity Risk (69.4%)\n",
    "    - Baseline Water Stress (16.3%) \n",
    "    - Baseline Water Depletion (16.3%)\n",
    "    - Groundwater Table Decline (16.3%)\n",
    "    - Interannual Variability (2.0%)\n",
    "    - Seasonal Variability (2.0%)\n",
    "    - Drought Risk (8.2%)\n",
    "    - Riverine Flood Risk (4.1%)\n",
    "    - Coastal Flood Risk (4.1%)\n",
    "\n",
    "- Water Quality Risk (12.2%)\n",
    "    - Untreated Collected Wastewater (8.2%)\n",
    "    - Coastal Eutrophication Potential (4.1%)\n",
    "\n",
    "- Regulatory and Reputational (18.4%)\n",
    "    - Unimproved/no drinking water (8.2%)\n",
    "    - Unimproved/no sanitation (8.2%)\n",
    "    - RepRisk Index (2.0%)\n",
    "    \n",
    "\n",
    "**Group names**\n",
    "\n",
    "|Group full \t               |Group short    |\n",
    "|------------------------------|---------------|\n",
    "|Overall Water Risk            |TOT            |\n",
    "|Water Quantity Risk           |QAN            |\n",
    "|Water Quality Risk            |QAL            |\n",
    "|Regulatory and Reputational   |RRR            |\n",
    "\n",
    "**Indicator names**\n",
    "\n",
    "|Indicator full \t                 |Indicator short    |\n",
    "|------------------------------------|-------------------|\n",
    "|Baseline Water Stress               |bws                |    \n",
    "|Baseline Water Depletion            |bwd                |\n",
    "|Groundwater Table Decline           |gtd                |\n",
    "|Interannual Variability             |iav                |\n",
    "|Seasonal Variability                |sev                |\n",
    "|Drought Risk                        |drr                |\n",
    "|Riverine Flood Risk                 |rfr                |\n",
    "|Coastal Flood Risk                  |cfr                |\n",
    "|Untreated Collected Wastewater      |ucw                |\n",
    "|Coastal Eutrophication Potential    |cep                |\n",
    "|Unimproved/no drinking water        |udw                |\n",
    "|Unimproved/no sanitation            |usa                |\n",
    "|RepRisk Index                       |rri                |\n"
   ]
  },
  {
   "cell_type": "markdown",
   "metadata": {},
   "source": [
    "## Weighting Scheme\n",
    "\n",
    "**Weight names**\n",
    "\n",
    "|Industry full \t         |Industry short |\n",
    "|------------------------|---------------|\n",
    "|Default                 |DEF            |\n",
    "|Argiculture             |AGR            |\n",
    "|Electric Power          |ELP            |\n",
    "|Semiconductor           |SMC            |\n",
    "|Oil and gas             |ONG            |\n",
    "|Chemical                |CHE            |\n",
    "|Mining                  |MIN            |\n",
    "|Food and beverage       |FNB            |\n",
    "|Construction materials  |CON            |\n",
    "|Textile                 |TEX            |\n"
   ]
  },
  {
   "cell_type": "markdown",
   "metadata": {},
   "source": [
    "## Annual data"
   ]
  },
  {
   "cell_type": "code",
   "execution_count": 82,
   "metadata": {},
   "outputs": [
    {
     "name": "stderr",
     "output_type": "stream",
     "text": [
      "/anaconda3/lib/python3.6/site-packages/IPython/core/interactiveshell.py:2728: DtypeWarning: Columns (12) have mixed types. Specify dtype option on import or set low_memory=False.\n",
      "  interactivity=interactivity, compiler=compiler, result=result)\n"
     ]
    }
   ],
   "source": [
    "annual_pivot = pd.read_csv('/Users/ikersanchez/Vizzuality/PROIEKTUAK/Aqueduct/work/data/AQ_2_water_risk_atlas/output_V01/annual/annual_pivot.csv')"
   ]
  },
  {
   "cell_type": "markdown",
   "metadata": {},
   "source": [
    "**Clean table**"
   ]
  },
  {
   "cell_type": "code",
   "execution_count": 84,
   "metadata": {},
   "outputs": [],
   "source": [
    "columns_default = ['aq30_id']\n",
    "cols = filter(lambda x:x.endswith(tuple([\"_cat\", \"_label\"])), list(annual_pivot.columns))\n",
    "\n",
    "for n, col in enumerate(list(cols)):    \n",
    "    columns_default.append(col)"
   ]
  },
  {
   "cell_type": "code",
   "execution_count": 85,
   "metadata": {},
   "outputs": [],
   "source": [
    "annual_pivot_default = annual_pivot[columns_default]"
   ]
  },
  {
   "cell_type": "code",
   "execution_count": 87,
   "metadata": {},
   "outputs": [
    {
     "data": {
      "text/html": [
       "<div>\n",
       "<style scoped>\n",
       "    .dataframe tbody tr th:only-of-type {\n",
       "        vertical-align: middle;\n",
       "    }\n",
       "\n",
       "    .dataframe tbody tr th {\n",
       "        vertical-align: top;\n",
       "    }\n",
       "\n",
       "    .dataframe thead th {\n",
       "        text-align: right;\n",
       "    }\n",
       "</style>\n",
       "<table border=\"1\" class=\"dataframe\">\n",
       "  <thead>\n",
       "    <tr style=\"text-align: right;\">\n",
       "      <th></th>\n",
       "      <th>aq30_id</th>\n",
       "      <th>bwd_cat</th>\n",
       "      <th>bwd_label</th>\n",
       "      <th>bws_cat</th>\n",
       "      <th>bws_label</th>\n",
       "      <th>cep_cat</th>\n",
       "      <th>cep_label</th>\n",
       "      <th>cfr_cat</th>\n",
       "      <th>cfr_label</th>\n",
       "      <th>drr_cat</th>\n",
       "      <th>...</th>\n",
       "      <th>w_awr_smc_tot_cat</th>\n",
       "      <th>w_awr_smc_tot_label</th>\n",
       "      <th>w_awr_tex_qal_cat</th>\n",
       "      <th>w_awr_tex_qal_label</th>\n",
       "      <th>w_awr_tex_qan_cat</th>\n",
       "      <th>w_awr_tex_qan_label</th>\n",
       "      <th>w_awr_tex_rrr_cat</th>\n",
       "      <th>w_awr_tex_rrr_label</th>\n",
       "      <th>w_awr_tex_tot_cat</th>\n",
       "      <th>w_awr_tex_tot_label</th>\n",
       "    </tr>\n",
       "  </thead>\n",
       "  <tbody>\n",
       "    <tr>\n",
       "      <th>1000</th>\n",
       "      <td>6555</td>\n",
       "      <td>0.0</td>\n",
       "      <td>Low</td>\n",
       "      <td>0.0</td>\n",
       "      <td>Low</td>\n",
       "      <td>2.0</td>\n",
       "      <td>Medium to high (0 to +1)</td>\n",
       "      <td>0.0</td>\n",
       "      <td>Low (0 to 9 in 1,000,000)</td>\n",
       "      <td>NaN</td>\n",
       "      <td>...</td>\n",
       "      <td>3.0</td>\n",
       "      <td>Medium - High</td>\n",
       "      <td>4.0</td>\n",
       "      <td>High</td>\n",
       "      <td>2.0</td>\n",
       "      <td>Medium</td>\n",
       "      <td>2.0</td>\n",
       "      <td>Medium</td>\n",
       "      <td>3.0</td>\n",
       "      <td>Medium - High</td>\n",
       "    </tr>\n",
       "    <tr>\n",
       "      <th>1001</th>\n",
       "      <td>6591</td>\n",
       "      <td>0.0</td>\n",
       "      <td>Low</td>\n",
       "      <td>0.0</td>\n",
       "      <td>Low</td>\n",
       "      <td>2.0</td>\n",
       "      <td>Medium to high (0 to +1)</td>\n",
       "      <td>0.0</td>\n",
       "      <td>Low (0 to 9 in 1,000,000)</td>\n",
       "      <td>NaN</td>\n",
       "      <td>...</td>\n",
       "      <td>3.0</td>\n",
       "      <td>Medium - High</td>\n",
       "      <td>4.0</td>\n",
       "      <td>High</td>\n",
       "      <td>2.0</td>\n",
       "      <td>Medium</td>\n",
       "      <td>2.0</td>\n",
       "      <td>Medium</td>\n",
       "      <td>3.0</td>\n",
       "      <td>Medium - High</td>\n",
       "    </tr>\n",
       "    <tr>\n",
       "      <th>1002</th>\n",
       "      <td>2383</td>\n",
       "      <td>0.0</td>\n",
       "      <td>Low</td>\n",
       "      <td>0.0</td>\n",
       "      <td>Low</td>\n",
       "      <td>2.0</td>\n",
       "      <td>Medium to high (0 to +1)</td>\n",
       "      <td>0.0</td>\n",
       "      <td>Low (0 to 9 in 1,000,000)</td>\n",
       "      <td>2.0</td>\n",
       "      <td>...</td>\n",
       "      <td>4.0</td>\n",
       "      <td>High</td>\n",
       "      <td>4.0</td>\n",
       "      <td>High</td>\n",
       "      <td>2.0</td>\n",
       "      <td>Medium</td>\n",
       "      <td>4.0</td>\n",
       "      <td>High</td>\n",
       "      <td>4.0</td>\n",
       "      <td>High</td>\n",
       "    </tr>\n",
       "    <tr>\n",
       "      <th>1003</th>\n",
       "      <td>4187</td>\n",
       "      <td>1.0</td>\n",
       "      <td>Low - Medium</td>\n",
       "      <td>1.0</td>\n",
       "      <td>Low - Medium</td>\n",
       "      <td>1.0</td>\n",
       "      <td>Low to medium (-5 to 0)</td>\n",
       "      <td>0.0</td>\n",
       "      <td>Low (0 to 9 in 1,000,000)</td>\n",
       "      <td>1.0</td>\n",
       "      <td>...</td>\n",
       "      <td>4.0</td>\n",
       "      <td>High</td>\n",
       "      <td>4.0</td>\n",
       "      <td>High</td>\n",
       "      <td>2.0</td>\n",
       "      <td>Medium</td>\n",
       "      <td>4.0</td>\n",
       "      <td>High</td>\n",
       "      <td>4.0</td>\n",
       "      <td>High</td>\n",
       "    </tr>\n",
       "    <tr>\n",
       "      <th>1004</th>\n",
       "      <td>4195</td>\n",
       "      <td>1.0</td>\n",
       "      <td>Low - Medium</td>\n",
       "      <td>1.0</td>\n",
       "      <td>Low - Medium</td>\n",
       "      <td>1.0</td>\n",
       "      <td>Low to medium (-5 to 0)</td>\n",
       "      <td>0.0</td>\n",
       "      <td>Low (0 to 9 in 1,000,000)</td>\n",
       "      <td>2.0</td>\n",
       "      <td>...</td>\n",
       "      <td>4.0</td>\n",
       "      <td>High</td>\n",
       "      <td>4.0</td>\n",
       "      <td>High</td>\n",
       "      <td>2.0</td>\n",
       "      <td>Medium</td>\n",
       "      <td>4.0</td>\n",
       "      <td>High</td>\n",
       "      <td>4.0</td>\n",
       "      <td>High</td>\n",
       "    </tr>\n",
       "  </tbody>\n",
       "</table>\n",
       "<p>5 rows × 107 columns</p>\n",
       "</div>"
      ],
      "text/plain": [
       "      aq30_id  bwd_cat     bwd_label  bws_cat     bws_label  cep_cat  \\\n",
       "1000     6555      0.0           Low      0.0           Low      2.0   \n",
       "1001     6591      0.0           Low      0.0           Low      2.0   \n",
       "1002     2383      0.0           Low      0.0           Low      2.0   \n",
       "1003     4187      1.0  Low - Medium      1.0  Low - Medium      1.0   \n",
       "1004     4195      1.0  Low - Medium      1.0  Low - Medium      1.0   \n",
       "\n",
       "                     cep_label  cfr_cat                  cfr_label  drr_cat  \\\n",
       "1000  Medium to high (0 to +1)      0.0  Low (0 to 9 in 1,000,000)      NaN   \n",
       "1001  Medium to high (0 to +1)      0.0  Low (0 to 9 in 1,000,000)      NaN   \n",
       "1002  Medium to high (0 to +1)      0.0  Low (0 to 9 in 1,000,000)      2.0   \n",
       "1003   Low to medium (-5 to 0)      0.0  Low (0 to 9 in 1,000,000)      1.0   \n",
       "1004   Low to medium (-5 to 0)      0.0  Low (0 to 9 in 1,000,000)      2.0   \n",
       "\n",
       "             ...          w_awr_smc_tot_cat  w_awr_smc_tot_label  \\\n",
       "1000         ...                        3.0        Medium - High   \n",
       "1001         ...                        3.0        Medium - High   \n",
       "1002         ...                        4.0                 High   \n",
       "1003         ...                        4.0                 High   \n",
       "1004         ...                        4.0                 High   \n",
       "\n",
       "     w_awr_tex_qal_cat  w_awr_tex_qal_label w_awr_tex_qan_cat  \\\n",
       "1000               4.0                 High               2.0   \n",
       "1001               4.0                 High               2.0   \n",
       "1002               4.0                 High               2.0   \n",
       "1003               4.0                 High               2.0   \n",
       "1004               4.0                 High               2.0   \n",
       "\n",
       "      w_awr_tex_qan_label w_awr_tex_rrr_cat  w_awr_tex_rrr_label  \\\n",
       "1000               Medium               2.0               Medium   \n",
       "1001               Medium               2.0               Medium   \n",
       "1002               Medium               4.0                 High   \n",
       "1003               Medium               4.0                 High   \n",
       "1004               Medium               4.0                 High   \n",
       "\n",
       "     w_awr_tex_tot_cat  w_awr_tex_tot_label  \n",
       "1000               3.0        Medium - High  \n",
       "1001               3.0        Medium - High  \n",
       "1002               4.0                 High  \n",
       "1003               4.0                 High  \n",
       "1004               4.0                 High  \n",
       "\n",
       "[5 rows x 107 columns]"
      ]
     },
     "execution_count": 87,
     "metadata": {},
     "output_type": "execute_result"
    }
   ],
   "source": [
    "annual_pivot_default[1000:1005]"
   ]
  },
  {
   "cell_type": "markdown",
   "metadata": {},
   "source": [
    "**Add `string_id` and `gid_1`**"
   ]
  },
  {
   "cell_type": "code",
   "execution_count": 88,
   "metadata": {},
   "outputs": [],
   "source": [
    "df_ids = gpd.read_file('/Users/ikersanchez/Vizzuality/PROIEKTUAK/Aqueduct/work/data/AQ_2_water_risk_atlas/Y2018M12D06_RH_Master_Shape_V01/output_V02/Y2018M12D06_RH_Master_Shape_V01.shp')"
   ]
  },
  {
   "cell_type": "code",
   "execution_count": 89,
   "metadata": {},
   "outputs": [
    {
     "data": {
      "text/html": [
       "<div>\n",
       "<style scoped>\n",
       "    .dataframe tbody tr th:only-of-type {\n",
       "        vertical-align: middle;\n",
       "    }\n",
       "\n",
       "    .dataframe tbody tr th {\n",
       "        vertical-align: top;\n",
       "    }\n",
       "\n",
       "    .dataframe thead th {\n",
       "        text-align: right;\n",
       "    }\n",
       "</style>\n",
       "<table border=\"1\" class=\"dataframe\">\n",
       "  <thead>\n",
       "    <tr style=\"text-align: right;\">\n",
       "      <th></th>\n",
       "      <th>aq30_id</th>\n",
       "      <th>gid_1</th>\n",
       "      <th>pfaf_id</th>\n",
       "      <th>string_id</th>\n",
       "    </tr>\n",
       "  </thead>\n",
       "  <tbody>\n",
       "    <tr>\n",
       "      <th>0</th>\n",
       "      <td>0</td>\n",
       "      <td>EGY.11_1</td>\n",
       "      <td>111011</td>\n",
       "      <td>111011-EGY.11_1-3365</td>\n",
       "    </tr>\n",
       "  </tbody>\n",
       "</table>\n",
       "</div>"
      ],
      "text/plain": [
       "   aq30_id     gid_1  pfaf_id             string_id\n",
       "0        0  EGY.11_1   111011  111011-EGY.11_1-3365"
      ]
     },
     "execution_count": 89,
     "metadata": {},
     "output_type": "execute_result"
    }
   ],
   "source": [
    "df_ids.drop(columns=['aqid', 'type', 'geometry'], inplace=True)\n",
    "df_ids.head(1)"
   ]
  },
  {
   "cell_type": "code",
   "execution_count": 91,
   "metadata": {},
   "outputs": [
    {
     "data": {
      "text/html": [
       "<div>\n",
       "<style scoped>\n",
       "    .dataframe tbody tr th:only-of-type {\n",
       "        vertical-align: middle;\n",
       "    }\n",
       "\n",
       "    .dataframe tbody tr th {\n",
       "        vertical-align: top;\n",
       "    }\n",
       "\n",
       "    .dataframe thead th {\n",
       "        text-align: right;\n",
       "    }\n",
       "</style>\n",
       "<table border=\"1\" class=\"dataframe\">\n",
       "  <thead>\n",
       "    <tr style=\"text-align: right;\">\n",
       "      <th></th>\n",
       "      <th>aq30_id</th>\n",
       "      <th>bwd_cat</th>\n",
       "      <th>bwd_label</th>\n",
       "      <th>bws_cat</th>\n",
       "      <th>bws_label</th>\n",
       "      <th>cep_cat</th>\n",
       "      <th>cep_label</th>\n",
       "      <th>cfr_cat</th>\n",
       "      <th>cfr_label</th>\n",
       "      <th>drr_cat</th>\n",
       "      <th>...</th>\n",
       "      <th>w_awr_tex_qal_label</th>\n",
       "      <th>w_awr_tex_qan_cat</th>\n",
       "      <th>w_awr_tex_qan_label</th>\n",
       "      <th>w_awr_tex_rrr_cat</th>\n",
       "      <th>w_awr_tex_rrr_label</th>\n",
       "      <th>w_awr_tex_tot_cat</th>\n",
       "      <th>w_awr_tex_tot_label</th>\n",
       "      <th>gid_1</th>\n",
       "      <th>pfaf_id</th>\n",
       "      <th>string_id</th>\n",
       "    </tr>\n",
       "  </thead>\n",
       "  <tbody>\n",
       "    <tr>\n",
       "      <th>1000</th>\n",
       "      <td>6555</td>\n",
       "      <td>0.0</td>\n",
       "      <td>Low</td>\n",
       "      <td>0.0</td>\n",
       "      <td>Low</td>\n",
       "      <td>2.0</td>\n",
       "      <td>Medium to high (0 to +1)</td>\n",
       "      <td>0.0</td>\n",
       "      <td>Low (0 to 9 in 1,000,000)</td>\n",
       "      <td>NaN</td>\n",
       "      <td>...</td>\n",
       "      <td>High</td>\n",
       "      <td>2.0</td>\n",
       "      <td>Medium</td>\n",
       "      <td>2.0</td>\n",
       "      <td>Medium</td>\n",
       "      <td>3.0</td>\n",
       "      <td>Medium - High</td>\n",
       "      <td>NER.1_1</td>\n",
       "      <td>142651</td>\n",
       "      <td>142651-NER.1_1-2029</td>\n",
       "    </tr>\n",
       "    <tr>\n",
       "      <th>1001</th>\n",
       "      <td>6591</td>\n",
       "      <td>0.0</td>\n",
       "      <td>Low</td>\n",
       "      <td>0.0</td>\n",
       "      <td>Low</td>\n",
       "      <td>2.0</td>\n",
       "      <td>Medium to high (0 to +1)</td>\n",
       "      <td>0.0</td>\n",
       "      <td>Low (0 to 9 in 1,000,000)</td>\n",
       "      <td>NaN</td>\n",
       "      <td>...</td>\n",
       "      <td>High</td>\n",
       "      <td>2.0</td>\n",
       "      <td>Medium</td>\n",
       "      <td>2.0</td>\n",
       "      <td>Medium</td>\n",
       "      <td>3.0</td>\n",
       "      <td>Medium - High</td>\n",
       "      <td>NER.1_1</td>\n",
       "      <td>142670</td>\n",
       "      <td>142670-NER.1_1-2029</td>\n",
       "    </tr>\n",
       "    <tr>\n",
       "      <th>1002</th>\n",
       "      <td>2383</td>\n",
       "      <td>0.0</td>\n",
       "      <td>Low</td>\n",
       "      <td>0.0</td>\n",
       "      <td>Low</td>\n",
       "      <td>2.0</td>\n",
       "      <td>Medium to high (0 to +1)</td>\n",
       "      <td>0.0</td>\n",
       "      <td>Low (0 to 9 in 1,000,000)</td>\n",
       "      <td>2.0</td>\n",
       "      <td>...</td>\n",
       "      <td>High</td>\n",
       "      <td>2.0</td>\n",
       "      <td>Medium</td>\n",
       "      <td>4.0</td>\n",
       "      <td>High</td>\n",
       "      <td>4.0</td>\n",
       "      <td>High</td>\n",
       "      <td>AGO.15_1</td>\n",
       "      <td>122943</td>\n",
       "      <td>122943-AGO.15_1-2456</td>\n",
       "    </tr>\n",
       "    <tr>\n",
       "      <th>1003</th>\n",
       "      <td>4187</td>\n",
       "      <td>1.0</td>\n",
       "      <td>Low - Medium</td>\n",
       "      <td>1.0</td>\n",
       "      <td>Low - Medium</td>\n",
       "      <td>1.0</td>\n",
       "      <td>Low to medium (-5 to 0)</td>\n",
       "      <td>0.0</td>\n",
       "      <td>Low (0 to 9 in 1,000,000)</td>\n",
       "      <td>1.0</td>\n",
       "      <td>...</td>\n",
       "      <td>High</td>\n",
       "      <td>2.0</td>\n",
       "      <td>Medium</td>\n",
       "      <td>4.0</td>\n",
       "      <td>High</td>\n",
       "      <td>4.0</td>\n",
       "      <td>High</td>\n",
       "      <td>AGO.3_1</td>\n",
       "      <td>129980</td>\n",
       "      <td>129980-AGO.3_1-3342</td>\n",
       "    </tr>\n",
       "    <tr>\n",
       "      <th>1004</th>\n",
       "      <td>4195</td>\n",
       "      <td>1.0</td>\n",
       "      <td>Low - Medium</td>\n",
       "      <td>1.0</td>\n",
       "      <td>Low - Medium</td>\n",
       "      <td>1.0</td>\n",
       "      <td>Low to medium (-5 to 0)</td>\n",
       "      <td>0.0</td>\n",
       "      <td>Low (0 to 9 in 1,000,000)</td>\n",
       "      <td>2.0</td>\n",
       "      <td>...</td>\n",
       "      <td>High</td>\n",
       "      <td>2.0</td>\n",
       "      <td>Medium</td>\n",
       "      <td>4.0</td>\n",
       "      <td>High</td>\n",
       "      <td>4.0</td>\n",
       "      <td>High</td>\n",
       "      <td>AGO.3_1</td>\n",
       "      <td>129990</td>\n",
       "      <td>129990-AGO.3_1-3342</td>\n",
       "    </tr>\n",
       "  </tbody>\n",
       "</table>\n",
       "<p>5 rows × 110 columns</p>\n",
       "</div>"
      ],
      "text/plain": [
       "      aq30_id  bwd_cat     bwd_label  bws_cat     bws_label  cep_cat  \\\n",
       "1000     6555      0.0           Low      0.0           Low      2.0   \n",
       "1001     6591      0.0           Low      0.0           Low      2.0   \n",
       "1002     2383      0.0           Low      0.0           Low      2.0   \n",
       "1003     4187      1.0  Low - Medium      1.0  Low - Medium      1.0   \n",
       "1004     4195      1.0  Low - Medium      1.0  Low - Medium      1.0   \n",
       "\n",
       "                     cep_label  cfr_cat                  cfr_label  drr_cat  \\\n",
       "1000  Medium to high (0 to +1)      0.0  Low (0 to 9 in 1,000,000)      NaN   \n",
       "1001  Medium to high (0 to +1)      0.0  Low (0 to 9 in 1,000,000)      NaN   \n",
       "1002  Medium to high (0 to +1)      0.0  Low (0 to 9 in 1,000,000)      2.0   \n",
       "1003   Low to medium (-5 to 0)      0.0  Low (0 to 9 in 1,000,000)      1.0   \n",
       "1004   Low to medium (-5 to 0)      0.0  Low (0 to 9 in 1,000,000)      2.0   \n",
       "\n",
       "              ...          w_awr_tex_qal_label  w_awr_tex_qan_cat  \\\n",
       "1000          ...                         High                2.0   \n",
       "1001          ...                         High                2.0   \n",
       "1002          ...                         High                2.0   \n",
       "1003          ...                         High                2.0   \n",
       "1004          ...                         High                2.0   \n",
       "\n",
       "     w_awr_tex_qan_label  w_awr_tex_rrr_cat w_awr_tex_rrr_label  \\\n",
       "1000              Medium                2.0              Medium   \n",
       "1001              Medium                2.0              Medium   \n",
       "1002              Medium                4.0                High   \n",
       "1003              Medium                4.0                High   \n",
       "1004              Medium                4.0                High   \n",
       "\n",
       "      w_awr_tex_tot_cat w_awr_tex_tot_label     gid_1 pfaf_id  \\\n",
       "1000                3.0       Medium - High   NER.1_1  142651   \n",
       "1001                3.0       Medium - High   NER.1_1  142670   \n",
       "1002                4.0                High  AGO.15_1  122943   \n",
       "1003                4.0                High   AGO.3_1  129980   \n",
       "1004                4.0                High   AGO.3_1  129990   \n",
       "\n",
       "                 string_id  \n",
       "1000   142651-NER.1_1-2029  \n",
       "1001   142670-NER.1_1-2029  \n",
       "1002  122943-AGO.15_1-2456  \n",
       "1003   129980-AGO.3_1-3342  \n",
       "1004   129990-AGO.3_1-3342  \n",
       "\n",
       "[5 rows x 110 columns]"
      ]
     },
     "execution_count": 91,
     "metadata": {},
     "output_type": "execute_result"
    }
   ],
   "source": [
    "annual_pivot_default = pd.merge(left=annual_pivot_default,\n",
    "                right=df_ids,\n",
    "                on = \"aq30_id\",\n",
    "                how = \"left\")\n",
    "annual_pivot_default[1000:1005]"
   ]
  },
  {
   "cell_type": "markdown",
   "metadata": {},
   "source": [
    "**Save tables**"
   ]
  },
  {
   "cell_type": "code",
   "execution_count": 93,
   "metadata": {},
   "outputs": [],
   "source": [
    "annual_pivot_default.to_csv('/Users/ikersanchez/Vizzuality/PROIEKTUAK/Aqueduct/work/data/AQ_2_water_risk_atlas/water_risk_indicators_annual.csv')"
   ]
  },
  {
   "cell_type": "markdown",
   "metadata": {},
   "source": [
    "## Monthly data"
   ]
  },
  {
   "cell_type": "code",
   "execution_count": 61,
   "metadata": {},
   "outputs": [],
   "source": [
    "monthly_bws = pd.read_csv('/Users/ikersanchez/Vizzuality/PROIEKTUAK/Aqueduct/work/data/AQ_2_water_risk_atlas/output_V01/monthly/monthly_bws.csv')\n",
    "monthly_bwd = pd.read_csv('/Users/ikersanchez/Vizzuality/PROIEKTUAK/Aqueduct/work/data/AQ_2_water_risk_atlas/output_V01/monthly/monthly_bwd.csv')\n",
    "monthly_iav = pd.read_csv('/Users/ikersanchez/Vizzuality/PROIEKTUAK/Aqueduct/work/data/AQ_2_water_risk_atlas/output_V01/monthly/monthly_iav.csv')"
   ]
  },
  {
   "cell_type": "code",
   "execution_count": 62,
   "metadata": {},
   "outputs": [
    {
     "data": {
      "text/html": [
       "<div>\n",
       "<style scoped>\n",
       "    .dataframe tbody tr th:only-of-type {\n",
       "        vertical-align: middle;\n",
       "    }\n",
       "\n",
       "    .dataframe tbody tr th {\n",
       "        vertical-align: top;\n",
       "    }\n",
       "\n",
       "    .dataframe thead th {\n",
       "        text-align: right;\n",
       "    }\n",
       "</style>\n",
       "<table border=\"1\" class=\"dataframe\">\n",
       "  <thead>\n",
       "    <tr style=\"text-align: right;\">\n",
       "      <th></th>\n",
       "      <th>Unnamed: 0</th>\n",
       "      <th>pfaf_id</th>\n",
       "      <th>temporal_resolution</th>\n",
       "      <th>year</th>\n",
       "      <th>month</th>\n",
       "      <th>delta_id</th>\n",
       "      <th>raw</th>\n",
       "      <th>score</th>\n",
       "      <th>cat</th>\n",
       "      <th>label</th>\n",
       "    </tr>\n",
       "  </thead>\n",
       "  <tbody>\n",
       "    <tr>\n",
       "      <th>0</th>\n",
       "      <td>0</td>\n",
       "      <td>913430</td>\n",
       "      <td>month</td>\n",
       "      <td>2014</td>\n",
       "      <td>1</td>\n",
       "      <td>-1</td>\n",
       "      <td>NaN</td>\n",
       "      <td>-9999.0</td>\n",
       "      <td>-9999.0</td>\n",
       "      <td>NoData</td>\n",
       "    </tr>\n",
       "    <tr>\n",
       "      <th>1</th>\n",
       "      <td>1</td>\n",
       "      <td>913430</td>\n",
       "      <td>month</td>\n",
       "      <td>2014</td>\n",
       "      <td>2</td>\n",
       "      <td>-1</td>\n",
       "      <td>NaN</td>\n",
       "      <td>-9999.0</td>\n",
       "      <td>-9999.0</td>\n",
       "      <td>NoData</td>\n",
       "    </tr>\n",
       "    <tr>\n",
       "      <th>2</th>\n",
       "      <td>2</td>\n",
       "      <td>913430</td>\n",
       "      <td>month</td>\n",
       "      <td>2014</td>\n",
       "      <td>3</td>\n",
       "      <td>-1</td>\n",
       "      <td>NaN</td>\n",
       "      <td>-9999.0</td>\n",
       "      <td>-9999.0</td>\n",
       "      <td>NoData</td>\n",
       "    </tr>\n",
       "    <tr>\n",
       "      <th>3</th>\n",
       "      <td>3</td>\n",
       "      <td>913430</td>\n",
       "      <td>month</td>\n",
       "      <td>2014</td>\n",
       "      <td>4</td>\n",
       "      <td>-1</td>\n",
       "      <td>NaN</td>\n",
       "      <td>-9999.0</td>\n",
       "      <td>-9999.0</td>\n",
       "      <td>NoData</td>\n",
       "    </tr>\n",
       "    <tr>\n",
       "      <th>4</th>\n",
       "      <td>4</td>\n",
       "      <td>913430</td>\n",
       "      <td>month</td>\n",
       "      <td>2014</td>\n",
       "      <td>5</td>\n",
       "      <td>-1</td>\n",
       "      <td>NaN</td>\n",
       "      <td>-9999.0</td>\n",
       "      <td>-9999.0</td>\n",
       "      <td>NoData</td>\n",
       "    </tr>\n",
       "  </tbody>\n",
       "</table>\n",
       "</div>"
      ],
      "text/plain": [
       "   Unnamed: 0  pfaf_id temporal_resolution  year  month  delta_id  raw  \\\n",
       "0           0   913430               month  2014      1        -1  NaN   \n",
       "1           1   913430               month  2014      2        -1  NaN   \n",
       "2           2   913430               month  2014      3        -1  NaN   \n",
       "3           3   913430               month  2014      4        -1  NaN   \n",
       "4           4   913430               month  2014      5        -1  NaN   \n",
       "\n",
       "    score     cat   label  \n",
       "0 -9999.0 -9999.0  NoData  \n",
       "1 -9999.0 -9999.0  NoData  \n",
       "2 -9999.0 -9999.0  NoData  \n",
       "3 -9999.0 -9999.0  NoData  \n",
       "4 -9999.0 -9999.0  NoData  "
      ]
     },
     "execution_count": 62,
     "metadata": {},
     "output_type": "execute_result"
    }
   ],
   "source": [
    "monthly_bws.head()"
   ]
  },
  {
   "cell_type": "markdown",
   "metadata": {},
   "source": [
    "**Clean table**"
   ]
  },
  {
   "cell_type": "code",
   "execution_count": 63,
   "metadata": {},
   "outputs": [],
   "source": [
    "monthly_bws = monthly_bws[['pfaf_id', 'year', 'month', 'cat', 'label']]\n",
    "monthly_bwd = monthly_bwd[['pfaf_id', 'year', 'month', 'cat', 'label']]\n",
    "monthly_iav = monthly_iav[['pfaf_id', 'year', 'month', 'cat', 'label']]"
   ]
  },
  {
   "cell_type": "code",
   "execution_count": 64,
   "metadata": {},
   "outputs": [],
   "source": [
    "monthly_bws.rename(columns={'cat': 'bws_cat', 'label': 'bws_label'}, inplace= True)\n",
    "monthly_bwd.rename(columns={'cat': 'bwd_cat', 'label': 'bwd_label'}, inplace= True)\n",
    "monthly_iav.rename(columns={'cat': 'iav_cat', 'label': 'iav_label'}, inplace= True)"
   ]
  },
  {
   "cell_type": "code",
   "execution_count": 65,
   "metadata": {},
   "outputs": [],
   "source": [
    "monthly = monthly_bws.merge(monthly_bwd, on=['pfaf_id', 'year', 'month'], how='left')\n",
    "monthly = monthly.merge(monthly_iav, on=['pfaf_id', 'year', 'month'], how='left')"
   ]
  },
  {
   "cell_type": "code",
   "execution_count": 66,
   "metadata": {},
   "outputs": [
    {
     "data": {
      "text/html": [
       "<div>\n",
       "<style scoped>\n",
       "    .dataframe tbody tr th:only-of-type {\n",
       "        vertical-align: middle;\n",
       "    }\n",
       "\n",
       "    .dataframe tbody tr th {\n",
       "        vertical-align: top;\n",
       "    }\n",
       "\n",
       "    .dataframe thead th {\n",
       "        text-align: right;\n",
       "    }\n",
       "</style>\n",
       "<table border=\"1\" class=\"dataframe\">\n",
       "  <thead>\n",
       "    <tr style=\"text-align: right;\">\n",
       "      <th></th>\n",
       "      <th>pfaf_id</th>\n",
       "      <th>year</th>\n",
       "      <th>month</th>\n",
       "      <th>bws_cat</th>\n",
       "      <th>bws_label</th>\n",
       "      <th>bwd_cat</th>\n",
       "      <th>bwd_label</th>\n",
       "      <th>iav_cat</th>\n",
       "      <th>iav_label</th>\n",
       "    </tr>\n",
       "  </thead>\n",
       "  <tbody>\n",
       "    <tr>\n",
       "      <th>100100</th>\n",
       "      <td>312414</td>\n",
       "      <td>2014</td>\n",
       "      <td>9</td>\n",
       "      <td>0.0</td>\n",
       "      <td>Low</td>\n",
       "      <td>0.0</td>\n",
       "      <td>Low</td>\n",
       "      <td>0.0</td>\n",
       "      <td>Low</td>\n",
       "    </tr>\n",
       "    <tr>\n",
       "      <th>100101</th>\n",
       "      <td>312414</td>\n",
       "      <td>2014</td>\n",
       "      <td>12</td>\n",
       "      <td>0.0</td>\n",
       "      <td>Low</td>\n",
       "      <td>0.0</td>\n",
       "      <td>Low</td>\n",
       "      <td>1.0</td>\n",
       "      <td>Low - Medium</td>\n",
       "    </tr>\n",
       "    <tr>\n",
       "      <th>100102</th>\n",
       "      <td>312414</td>\n",
       "      <td>2014</td>\n",
       "      <td>2</td>\n",
       "      <td>0.0</td>\n",
       "      <td>Low</td>\n",
       "      <td>0.0</td>\n",
       "      <td>Low</td>\n",
       "      <td>1.0</td>\n",
       "      <td>Low - Medium</td>\n",
       "    </tr>\n",
       "    <tr>\n",
       "      <th>100103</th>\n",
       "      <td>312414</td>\n",
       "      <td>2014</td>\n",
       "      <td>5</td>\n",
       "      <td>0.0</td>\n",
       "      <td>Low</td>\n",
       "      <td>0.0</td>\n",
       "      <td>Low</td>\n",
       "      <td>1.0</td>\n",
       "      <td>Low - Medium</td>\n",
       "    </tr>\n",
       "    <tr>\n",
       "      <th>100104</th>\n",
       "      <td>312414</td>\n",
       "      <td>2014</td>\n",
       "      <td>4</td>\n",
       "      <td>0.0</td>\n",
       "      <td>Low</td>\n",
       "      <td>0.0</td>\n",
       "      <td>Low</td>\n",
       "      <td>4.0</td>\n",
       "      <td>Extremely High</td>\n",
       "    </tr>\n",
       "  </tbody>\n",
       "</table>\n",
       "</div>"
      ],
      "text/plain": [
       "        pfaf_id  year  month  bws_cat bws_label  bwd_cat bwd_label  iav_cat  \\\n",
       "100100   312414  2014      9      0.0       Low      0.0       Low      0.0   \n",
       "100101   312414  2014     12      0.0       Low      0.0       Low      1.0   \n",
       "100102   312414  2014      2      0.0       Low      0.0       Low      1.0   \n",
       "100103   312414  2014      5      0.0       Low      0.0       Low      1.0   \n",
       "100104   312414  2014      4      0.0       Low      0.0       Low      4.0   \n",
       "\n",
       "             iav_label  \n",
       "100100             Low  \n",
       "100101    Low - Medium  \n",
       "100102    Low - Medium  \n",
       "100103    Low - Medium  \n",
       "100104  Extremely High  "
      ]
     },
     "execution_count": 66,
     "metadata": {},
     "output_type": "execute_result"
    }
   ],
   "source": [
    "monthly[100100:100105]"
   ]
  },
  {
   "cell_type": "markdown",
   "metadata": {},
   "source": [
    "**Save tables**"
   ]
  },
  {
   "cell_type": "code",
   "execution_count": 23,
   "metadata": {},
   "outputs": [],
   "source": [
    "monthly.to_csv('/Users/ikersanchez/Vizzuality/PROIEKTUAK/Aqueduct/work/data/AQ_2_water_risk_atlas/water_risk_indicators_monthly.csv')"
   ]
  },
  {
   "cell_type": "code",
   "execution_count": null,
   "metadata": {},
   "outputs": [],
   "source": [
    "industry_weights = pd.read_csv('/Users/ikersanchez/Vizzuality/PROIEKTUAK/Aqueduct/work/data/AQ_2_water_risk_atlas/output_V01/industry_weights/industry_weights.csv')"
   ]
  },
  {
   "cell_type": "code",
   "execution_count": null,
   "metadata": {},
   "outputs": [],
   "source": [
    "industry_weights.drop(labels=['Unnamed: 0', 'id'], axis=1, inplace=True)"
   ]
  },
  {
   "cell_type": "code",
   "execution_count": null,
   "metadata": {},
   "outputs": [],
   "source": [
    "industry_weights.head()"
   ]
  },
  {
   "cell_type": "markdown",
   "metadata": {},
   "source": [
    "**Save table**"
   ]
  },
  {
   "cell_type": "code",
   "execution_count": null,
   "metadata": {},
   "outputs": [],
   "source": [
    "industry_weights.to_csv('/Users/ikersanchez/Vizzuality/PROIEKTUAK/Aqueduct/work/data/AQ_2_water_risk_atlas/water_risk_industry_weights.csv')"
   ]
  },
  {
   "cell_type": "markdown",
   "metadata": {},
   "source": [
    "## Future projections"
   ]
  },
  {
   "cell_type": "code",
   "execution_count": 80,
   "metadata": {},
   "outputs": [],
   "source": [
    "projections = gpd.read_file('/Users/ikersanchez/Vizzuality/PROIEKTUAK/Aqueduct/work/data/aqueduct_projections_20150309_shp/aqueduct_projections_20150309.shp')"
   ]
  },
  {
   "cell_type": "code",
   "execution_count": 81,
   "metadata": {},
   "outputs": [
    {
     "data": {
      "text/html": [
       "<div>\n",
       "<style scoped>\n",
       "    .dataframe tbody tr th:only-of-type {\n",
       "        vertical-align: middle;\n",
       "    }\n",
       "\n",
       "    .dataframe tbody tr th {\n",
       "        vertical-align: top;\n",
       "    }\n",
       "\n",
       "    .dataframe thead th {\n",
       "        text-align: right;\n",
       "    }\n",
       "</style>\n",
       "<table border=\"1\" class=\"dataframe\">\n",
       "  <thead>\n",
       "    <tr style=\"text-align: right;\">\n",
       "      <th></th>\n",
       "      <th>BasinID</th>\n",
       "      <th>dwnBasinID</th>\n",
       "      <th>Area_km2</th>\n",
       "      <th>Shape_Leng</th>\n",
       "      <th>ws2024tr</th>\n",
       "      <th>ws2024tl</th>\n",
       "      <th>ws3024tr</th>\n",
       "      <th>ws3024tl</th>\n",
       "      <th>ws4024tr</th>\n",
       "      <th>ws4024tl</th>\n",
       "      <th>...</th>\n",
       "      <th>sv4028ul</th>\n",
       "      <th>sv2038ur</th>\n",
       "      <th>sv2038ul</th>\n",
       "      <th>sv3038ur</th>\n",
       "      <th>sv3038ul</th>\n",
       "      <th>sv4038ur</th>\n",
       "      <th>sv4038ul</th>\n",
       "      <th>Shape_Le_1</th>\n",
       "      <th>Shape_Area</th>\n",
       "      <th>geometry</th>\n",
       "    </tr>\n",
       "  </thead>\n",
       "  <tbody>\n",
       "    <tr>\n",
       "      <th>0</th>\n",
       "      <td>1</td>\n",
       "      <td>0</td>\n",
       "      <td>2085</td>\n",
       "      <td>0.0</td>\n",
       "      <td>0.860153</td>\n",
       "      <td>Extremely high (&gt;80%)</td>\n",
       "      <td>1.058204</td>\n",
       "      <td>Extremely high (&gt;80%)</td>\n",
       "      <td>1.098187</td>\n",
       "      <td>Extremely high (&gt;80%)</td>\n",
       "      <td>...</td>\n",
       "      <td>High uncertainty</td>\n",
       "      <td>0.276085</td>\n",
       "      <td>High uncertainty</td>\n",
       "      <td>0.303592</td>\n",
       "      <td>High uncertainty</td>\n",
       "      <td>0.304096</td>\n",
       "      <td>High uncertainty</td>\n",
       "      <td>4.197305</td>\n",
       "      <td>0.196370</td>\n",
       "      <td>POLYGON ((25.95064506611698 30.98011437727672,...</td>\n",
       "    </tr>\n",
       "    <tr>\n",
       "      <th>1</th>\n",
       "      <td>2</td>\n",
       "      <td>0</td>\n",
       "      <td>2373</td>\n",
       "      <td>0.0</td>\n",
       "      <td>3.257008</td>\n",
       "      <td>Extremely high (&gt;80%)</td>\n",
       "      <td>3.086548</td>\n",
       "      <td>Extremely high (&gt;80%)</td>\n",
       "      <td>2.947359</td>\n",
       "      <td>Extremely high (&gt;80%)</td>\n",
       "      <td>...</td>\n",
       "      <td>High uncertainty</td>\n",
       "      <td>0.234488</td>\n",
       "      <td>High uncertainty</td>\n",
       "      <td>0.253703</td>\n",
       "      <td>High uncertainty</td>\n",
       "      <td>0.264467</td>\n",
       "      <td>High uncertainty</td>\n",
       "      <td>3.597165</td>\n",
       "      <td>0.223965</td>\n",
       "      <td>POLYGON ((25.23877293911988 31.29694755848311,...</td>\n",
       "    </tr>\n",
       "    <tr>\n",
       "      <th>2</th>\n",
       "      <td>3</td>\n",
       "      <td>0</td>\n",
       "      <td>1509</td>\n",
       "      <td>0.0</td>\n",
       "      <td>2.595165</td>\n",
       "      <td>Extremely high (&gt;80%)</td>\n",
       "      <td>2.786326</td>\n",
       "      <td>Extremely high (&gt;80%)</td>\n",
       "      <td>2.517074</td>\n",
       "      <td>Extremely high (&gt;80%)</td>\n",
       "      <td>...</td>\n",
       "      <td>High uncertainty</td>\n",
       "      <td>0.276976</td>\n",
       "      <td>High uncertainty</td>\n",
       "      <td>0.304777</td>\n",
       "      <td>High uncertainty</td>\n",
       "      <td>0.304962</td>\n",
       "      <td>High uncertainty</td>\n",
       "      <td>2.478102</td>\n",
       "      <td>0.142297</td>\n",
       "      <td>(POLYGON ((26.94685809182755 31.21755797312204...</td>\n",
       "    </tr>\n",
       "    <tr>\n",
       "      <th>3</th>\n",
       "      <td>4</td>\n",
       "      <td>0</td>\n",
       "      <td>4113</td>\n",
       "      <td>0.0</td>\n",
       "      <td>1.327963</td>\n",
       "      <td>Extremely high (&gt;80%)</td>\n",
       "      <td>1.492594</td>\n",
       "      <td>Extremely high (&gt;80%)</td>\n",
       "      <td>1.520199</td>\n",
       "      <td>Extremely high (&gt;80%)</td>\n",
       "      <td>...</td>\n",
       "      <td>High uncertainty</td>\n",
       "      <td>0.242970</td>\n",
       "      <td>High uncertainty</td>\n",
       "      <td>0.263880</td>\n",
       "      <td>High uncertainty</td>\n",
       "      <td>0.255351</td>\n",
       "      <td>High uncertainty</td>\n",
       "      <td>4.621268</td>\n",
       "      <td>0.386641</td>\n",
       "      <td>POLYGON ((27.6227709095499 30.5666504388667, 2...</td>\n",
       "    </tr>\n",
       "    <tr>\n",
       "      <th>4</th>\n",
       "      <td>5</td>\n",
       "      <td>0</td>\n",
       "      <td>4454</td>\n",
       "      <td>0.0</td>\n",
       "      <td>0.418429</td>\n",
       "      <td>Arid and low water use</td>\n",
       "      <td>0.684660</td>\n",
       "      <td>Arid and low water use</td>\n",
       "      <td>0.943055</td>\n",
       "      <td>Arid and low water use</td>\n",
       "      <td>...</td>\n",
       "      <td>High uncertainty</td>\n",
       "      <td>0.279182</td>\n",
       "      <td>High uncertainty</td>\n",
       "      <td>0.294587</td>\n",
       "      <td>High uncertainty</td>\n",
       "      <td>0.287821</td>\n",
       "      <td>High uncertainty</td>\n",
       "      <td>4.833261</td>\n",
       "      <td>0.417697</td>\n",
       "      <td>POLYGON ((27.6227709095499 30.5666504388667, 2...</td>\n",
       "    </tr>\n",
       "  </tbody>\n",
       "</table>\n",
       "<p>5 rows × 223 columns</p>\n",
       "</div>"
      ],
      "text/plain": [
       "   BasinID  dwnBasinID  Area_km2  Shape_Leng  ws2024tr  \\\n",
       "0        1           0      2085         0.0  0.860153   \n",
       "1        2           0      2373         0.0  3.257008   \n",
       "2        3           0      1509         0.0  2.595165   \n",
       "3        4           0      4113         0.0  1.327963   \n",
       "4        5           0      4454         0.0  0.418429   \n",
       "\n",
       "                 ws2024tl  ws3024tr                ws3024tl  ws4024tr  \\\n",
       "0   Extremely high (>80%)  1.058204   Extremely high (>80%)  1.098187   \n",
       "1   Extremely high (>80%)  3.086548   Extremely high (>80%)  2.947359   \n",
       "2   Extremely high (>80%)  2.786326   Extremely high (>80%)  2.517074   \n",
       "3   Extremely high (>80%)  1.492594   Extremely high (>80%)  1.520199   \n",
       "4  Arid and low water use  0.684660  Arid and low water use  0.943055   \n",
       "\n",
       "                 ws4024tl                        ...                          \\\n",
       "0   Extremely high (>80%)                        ...                           \n",
       "1   Extremely high (>80%)                        ...                           \n",
       "2   Extremely high (>80%)                        ...                           \n",
       "3   Extremely high (>80%)                        ...                           \n",
       "4  Arid and low water use                        ...                           \n",
       "\n",
       "           sv4028ul  sv2038ur          sv2038ul  sv3038ur          sv3038ul  \\\n",
       "0  High uncertainty  0.276085  High uncertainty  0.303592  High uncertainty   \n",
       "1  High uncertainty  0.234488  High uncertainty  0.253703  High uncertainty   \n",
       "2  High uncertainty  0.276976  High uncertainty  0.304777  High uncertainty   \n",
       "3  High uncertainty  0.242970  High uncertainty  0.263880  High uncertainty   \n",
       "4  High uncertainty  0.279182  High uncertainty  0.294587  High uncertainty   \n",
       "\n",
       "   sv4038ur          sv4038ul Shape_Le_1  Shape_Area  \\\n",
       "0  0.304096  High uncertainty   4.197305    0.196370   \n",
       "1  0.264467  High uncertainty   3.597165    0.223965   \n",
       "2  0.304962  High uncertainty   2.478102    0.142297   \n",
       "3  0.255351  High uncertainty   4.621268    0.386641   \n",
       "4  0.287821  High uncertainty   4.833261    0.417697   \n",
       "\n",
       "                                            geometry  \n",
       "0  POLYGON ((25.95064506611698 30.98011437727672,...  \n",
       "1  POLYGON ((25.23877293911988 31.29694755848311,...  \n",
       "2  (POLYGON ((26.94685809182755 31.21755797312204...  \n",
       "3  POLYGON ((27.6227709095499 30.5666504388667, 2...  \n",
       "4  POLYGON ((27.6227709095499 30.5666504388667, 2...  \n",
       "\n",
       "[5 rows x 223 columns]"
      ]
     },
     "execution_count": 81,
     "metadata": {},
     "output_type": "execute_result"
    }
   ],
   "source": [
    "projections.head()"
   ]
  },
  {
   "cell_type": "markdown",
   "metadata": {},
   "source": [
    "**Table reconfiguration**"
   ]
  },
  {
   "cell_type": "code",
   "execution_count": null,
   "metadata": {},
   "outputs": [],
   "source": [
    "indicator_codes = {'ws': 'water_stress', 'sv': 'seasonal_variability', 'ut': 'water_demand', 'bt': 'water_supply'}\n",
    "year_codes = {'20': 2020, '30': 2030, '40': 2040}\n",
    "scenario_codes = {'24': 'optimistic', '28': 'business_as_usual', '38': 'pessimistic'}\n",
    "data_types = {'c': 'change_from_baseline', 't': 'future_value'}\n",
    "suffixes = {'l': 'label', 'r': 'value'}\n",
    "\n",
    "projections_vertical = pd.DataFrame(columns=['basinid', 'indicator', 'value', 'label', 'year', 'scenario', 'type'])\n",
    "\n",
    "nRows = projections.shape[0]\n",
    "basinid_col = list(projections['BasinID'])\n",
    "for indicator in indicator_codes.keys():\n",
    "    indicator_col = [indicator_codes[indicator]] * nRows\n",
    "    for year in year_codes.keys():\n",
    "        year_col = [year_codes[year]] * nRows\n",
    "        \n",
    "        for scenario in scenario_codes.keys():\n",
    "            scenario_col = [scenario_codes[scenario]] * nRows\n",
    "            \n",
    "            for type in data_types.keys():\n",
    "                type_col = [data_types[type]] * nRows\n",
    "                \n",
    "                label_col = list(projections[indicator+year+scenario+type+list(suffixes.keys())[0]])\n",
    "                value_col = list(projections[indicator+year+scenario+type+list(suffixes.keys())[1]])\n",
    "                \n",
    "                df = pd.DataFrame({'basinid': basinid_col, 'indicator': indicator_col, 'value': value_col, \n",
    "                                   'label': label_col, 'year': year_col, 'scenario': scenario_col, 'type': type_col})\n",
    "                \n",
    "                projections_vertical = pd.concat([projections_vertical, df])\n",
    "\n",
    "projections_vertical['basinid'] = projections_vertical['basinid'].astype(np.int)\n",
    "projections_vertical.head()"
   ]
  },
  {
   "cell_type": "code",
   "execution_count": null,
   "metadata": {},
   "outputs": [],
   "source": [
    "df[(df['indicator'] == 'water_supply') & (df['type'] == 'future_value')]['label'].unique()"
   ]
  },
  {
   "cell_type": "markdown",
   "metadata": {},
   "source": [
    "**Save table**"
   ]
  },
  {
   "cell_type": "code",
   "execution_count": null,
   "metadata": {},
   "outputs": [],
   "source": [
    "projections_vertical.to_csv('/Users/ikersanchez/Vizzuality/PROIEKTUAK/Aqueduct/work/data/AQ_2_water_risk_atlas/water_risk_indicators_projections.csv')"
   ]
  },
  {
   "cell_type": "code",
   "execution_count": null,
   "metadata": {},
   "outputs": [],
   "source": [
    "projections_vertical['label'].unique()"
   ]
  },
  {
   "cell_type": "code",
   "execution_count": null,
   "metadata": {},
   "outputs": [],
   "source": [
    "df = projections_vertical[(projections_vertical['indicator'] == 'water_stress') & (projections_vertical['type'] == 'change_from_baseline')]\n",
    "print(df['label'].unique())\n",
    "df = projections_vertical[(projections_vertical['indicator'] == 'water_stress') & (projections_vertical['type'] == 'future_value')]\n",
    "print(df['label'].unique())"
   ]
  },
  {
   "cell_type": "code",
   "execution_count": null,
   "metadata": {},
   "outputs": [],
   "source": [
    "df = projections_vertical[(projections_vertical['indicator'] == 'seasonal_variability') & (projections_vertical['type'] == 'change_from_baseline')]\n",
    "print(df['label'].unique())\n",
    "df = projections_vertical[(projections_vertical['indicator'] == 'seasonal_variability') & (projections_vertical['type'] == 'future_value')]\n",
    "print(df['label'].unique())"
   ]
  },
  {
   "cell_type": "code",
   "execution_count": null,
   "metadata": {},
   "outputs": [],
   "source": [
    "df = projections_vertical[(projections_vertical['indicator'] == 'water_demand') & (projections_vertical['type'] == 'change_from_baseline')]\n",
    "print(df['label'].unique())\n",
    "df = projections_vertical[(projections_vertical['indicator'] == 'water_demand') & (projections_vertical['type'] == 'future_value')]\n",
    "print(df['label'].unique())"
   ]
  },
  {
   "cell_type": "code",
   "execution_count": null,
   "metadata": {},
   "outputs": [],
   "source": [
    "df = projections_vertical[(projections_vertical['indicator'] == 'water_supply') & (projections_vertical['type'] == 'change_from_baseline')]\n",
    "print(df['label'].unique())\n",
    "df = projections_vertical[(projections_vertical['indicator'] == 'water_supply') & (projections_vertical['type'] == 'future_value')]\n",
    "print(df['label'].unique())"
   ]
  },
  {
   "cell_type": "markdown",
   "metadata": {},
   "source": [
    "## Custom weights table"
   ]
  },
  {
   "cell_type": "code",
   "execution_count": null,
   "metadata": {},
   "outputs": [],
   "source": [
    "df_master = pd.read_csv('./data/y2018m12d04_rh_master_merge_rawdata_gpd_v02_v05.csv')"
   ]
  },
  {
   "cell_type": "code",
   "execution_count": null,
   "metadata": {},
   "outputs": [],
   "source": [
    "df_master.shape"
   ]
  },
  {
   "cell_type": "code",
   "execution_count": null,
   "metadata": {},
   "outputs": [],
   "source": [
    "df_master.head(1)"
   ]
  },
  {
   "cell_type": "markdown",
   "metadata": {},
   "source": [
    "**Drop columns**"
   ]
  },
  {
   "cell_type": "code",
   "execution_count": null,
   "metadata": {},
   "outputs": [],
   "source": [
    "df_master.drop(columns=['aqid','cat','delta_id','gid_0','gid_1', 'label', 'pfaf_id', 'raw', 'temporal_resolution', 'year'], inplace=True)\n",
    "df_master.head(1)"
   ]
  },
  {
   "cell_type": "code",
   "execution_count": null,
   "metadata": {},
   "outputs": [],
   "source": [
    "# certain GUs have invalid 'None' indicators. removing those\n",
    "# This happens when the id exists in the master shapefile but not in te indicator results.\n",
    "df_valid = df_master.loc[df_master[\"indicator\"].notnull()]"
   ]
  },
  {
   "cell_type": "code",
   "execution_count": null,
   "metadata": {},
   "outputs": [],
   "source": [
    "df_valid.shape"
   ]
  },
  {
   "cell_type": "markdown",
   "metadata": {},
   "source": [
    "**Add group name**"
   ]
  },
  {
   "cell_type": "code",
   "execution_count": null,
   "metadata": {},
   "outputs": [],
   "source": [
    "df_weights = pd.read_csv('./data/AQ_2_water_risk_atlas/output_V01/industry_weights/industry_weights.csv')"
   ]
  },
  {
   "cell_type": "code",
   "execution_count": null,
   "metadata": {},
   "outputs": [],
   "source": [
    "# Lowercase some columns\n",
    "df_weights['group_short'] = df_weights['group_short'].astype(str).str.lower()\n",
    "df_weights['indicator_short'] = df_weights['indicator_short'].astype(str).str.lower()\n",
    "df_weights['industry_short'] = df_weights['industry_short'].astype(str).str.lower()\n",
    "\n",
    "# Drop column\n",
    "df_weights.drop(columns='Unnamed: 0', inplace=True)"
   ]
  },
  {
   "cell_type": "code",
   "execution_count": null,
   "metadata": {},
   "outputs": [],
   "source": [
    "df_groups = df_weights.loc[df_weights[\"industry_short\"] ==\"def\"][[\"indicator_short\",\"group_short\"]]"
   ]
  },
  {
   "cell_type": "code",
   "execution_count": null,
   "metadata": {},
   "outputs": [],
   "source": [
    "df_groups "
   ]
  },
  {
   "cell_type": "code",
   "execution_count": null,
   "metadata": {},
   "outputs": [],
   "source": [
    "# Add group to dataframe\n",
    "df_group = pd.merge(left=df_valid,\n",
    "                 right=df_groups,\n",
    "                 how=\"left\",\n",
    "                 left_on=\"indicator\",\n",
    "                 right_on=\"indicator_short\")\n",
    "# Drop columns\n",
    "df_group.drop([\"indicator_short\"], axis=1,inplace=True)"
   ]
  },
  {
   "cell_type": "code",
   "execution_count": null,
   "metadata": {},
   "outputs": [],
   "source": [
    "df_group.head(1)"
   ]
  },
  {
   "cell_type": "markdown",
   "metadata": {},
   "source": [
    "**Add aq30_id**"
   ]
  },
  {
   "cell_type": "code",
   "execution_count": null,
   "metadata": {},
   "outputs": [],
   "source": [
    "df_aq30 = gpd.read_file('./data/AQ_2_water_risk_atlas/Y2018M12D06_RH_Master_Shape_V01/output_V02/Y2018M12D06_RH_Master_Shape_V01.shp')"
   ]
  },
  {
   "cell_type": "code",
   "execution_count": null,
   "metadata": {},
   "outputs": [],
   "source": [
    "df_aq30.drop(columns=['aqid', 'gid_1', 'pfaf_id', 'type', 'geometry'], inplace=True)\n",
    "df_aq30.head(1)"
   ]
  },
  {
   "cell_type": "code",
   "execution_count": null,
   "metadata": {},
   "outputs": [],
   "source": [
    "df_aq30.shape"
   ]
  },
  {
   "cell_type": "code",
   "execution_count": null,
   "metadata": {},
   "outputs": [],
   "source": [
    "df_all = pd.merge(left=df_group,\n",
    "                right=df_aq30,\n",
    "                on = \"string_id\",\n",
    "                how = \"left\")\n",
    "df_all.drop(columns='string_id', inplace=True)\n",
    "df_all.sort_values('aq30_id', inplace=True)\n",
    "df_all.head(1)"
   ]
  },
  {
   "cell_type": "markdown",
   "metadata": {},
   "source": [
    "**Drop rows where score is NaN**"
   ]
  },
  {
   "cell_type": "code",
   "execution_count": null,
   "metadata": {},
   "outputs": [],
   "source": [
    "df_all.dropna(subset=['score'], inplace=True)"
   ]
  },
  {
   "cell_type": "code",
   "execution_count": null,
   "metadata": {},
   "outputs": [],
   "source": [
    "df_all.shape"
   ]
  },
  {
   "cell_type": "code",
   "execution_count": null,
   "metadata": {},
   "outputs": [],
   "source": [
    "df_all.head()"
   ]
  },
  {
   "cell_type": "markdown",
   "metadata": {},
   "source": [
    "**Save table**"
   ]
  },
  {
   "cell_type": "code",
   "execution_count": null,
   "metadata": {},
   "outputs": [],
   "source": [
    "df_all.to_csv('/Users/ikersanchez/Vizzuality/PROIEKTUAK/Aqueduct/work/data/AQ_2_water_risk_atlas/water_risk_indicators_normalized.csv')"
   ]
  },
  {
   "cell_type": "markdown",
   "metadata": {},
   "source": [
    "## Basin name table"
   ]
  },
  {
   "cell_type": "code",
   "execution_count": 132,
   "metadata": {},
   "outputs": [],
   "source": [
    "fao_major = pd.read_csv('/Users/ikersanchez/Vizzuality/PROIEKTUAK/Aqueduct/work/data/AQ_2_water_risk_atlas/output_V01/fao/fao_major.csv')\n",
    "fao_minor = pd.read_csv('/Users/ikersanchez/Vizzuality/PROIEKTUAK/Aqueduct/work/data/AQ_2_water_risk_atlas/output_V01/fao/fao_minor.csv')\n",
    "fao_link = pd.read_csv('/Users/ikersanchez/Vizzuality/PROIEKTUAK/Aqueduct/work/data/AQ_2_water_risk_atlas/output_V01/fao/fao_link.csv')\n",
    "fao_major.drop(labels=['Unnamed: 0'], axis=1, inplace=True)\n",
    "fao_minor.drop(labels=['Unnamed: 0'], axis=1, inplace=True)\n",
    "fao_link.drop(labels=['Unnamed: 0'], axis=1, inplace=True)"
   ]
  },
  {
   "cell_type": "code",
   "execution_count": 133,
   "metadata": {},
   "outputs": [
    {
     "data": {
      "text/html": [
       "<div>\n",
       "<style scoped>\n",
       "    .dataframe tbody tr th:only-of-type {\n",
       "        vertical-align: middle;\n",
       "    }\n",
       "\n",
       "    .dataframe tbody tr th {\n",
       "        vertical-align: top;\n",
       "    }\n",
       "\n",
       "    .dataframe thead th {\n",
       "        text-align: right;\n",
       "    }\n",
       "</style>\n",
       "<table border=\"1\" class=\"dataframe\">\n",
       "  <thead>\n",
       "    <tr style=\"text-align: right;\">\n",
       "      <th></th>\n",
       "      <th>maj_bas</th>\n",
       "      <th>maj_name</th>\n",
       "      <th>maj_area</th>\n",
       "    </tr>\n",
       "  </thead>\n",
       "  <tbody>\n",
       "    <tr>\n",
       "      <th>0</th>\n",
       "      <td>1001</td>\n",
       "      <td>Gulf of Mexico, North Atlantic Coast</td>\n",
       "      <td>701385</td>\n",
       "    </tr>\n",
       "  </tbody>\n",
       "</table>\n",
       "</div>"
      ],
      "text/plain": [
       "   maj_bas                              maj_name  maj_area\n",
       "0     1001  Gulf of Mexico, North Atlantic Coast    701385"
      ]
     },
     "execution_count": 133,
     "metadata": {},
     "output_type": "execute_result"
    }
   ],
   "source": [
    "fao_major.head(1)"
   ]
  },
  {
   "cell_type": "code",
   "execution_count": 134,
   "metadata": {},
   "outputs": [
    {
     "data": {
      "text/html": [
       "<div>\n",
       "<style scoped>\n",
       "    .dataframe tbody tr th:only-of-type {\n",
       "        vertical-align: middle;\n",
       "    }\n",
       "\n",
       "    .dataframe tbody tr th {\n",
       "        vertical-align: top;\n",
       "    }\n",
       "\n",
       "    .dataframe thead th {\n",
       "        text-align: right;\n",
       "    }\n",
       "</style>\n",
       "<table border=\"1\" class=\"dataframe\">\n",
       "  <thead>\n",
       "    <tr style=\"text-align: right;\">\n",
       "      <th></th>\n",
       "      <th>fao_id</th>\n",
       "      <th>sub_bas</th>\n",
       "      <th>to_bas</th>\n",
       "      <th>maj_bas</th>\n",
       "      <th>sub_name</th>\n",
       "      <th>sub_area</th>\n",
       "    </tr>\n",
       "  </thead>\n",
       "  <tbody>\n",
       "    <tr>\n",
       "      <th>0</th>\n",
       "      <td>MAJ_BAS_1001_SUB_BAS_0001001</td>\n",
       "      <td>1001</td>\n",
       "      <td>1005</td>\n",
       "      <td>1001</td>\n",
       "      <td>Upper Roanoke</td>\n",
       "      <td>8689</td>\n",
       "    </tr>\n",
       "  </tbody>\n",
       "</table>\n",
       "</div>"
      ],
      "text/plain": [
       "                         fao_id  sub_bas  to_bas  maj_bas       sub_name  \\\n",
       "0  MAJ_BAS_1001_SUB_BAS_0001001     1001    1005     1001  Upper Roanoke   \n",
       "\n",
       "   sub_area  \n",
       "0      8689  "
      ]
     },
     "execution_count": 134,
     "metadata": {},
     "output_type": "execute_result"
    }
   ],
   "source": [
    "fao_minor.head(1)"
   ]
  },
  {
   "cell_type": "code",
   "execution_count": 135,
   "metadata": {},
   "outputs": [
    {
     "data": {
      "text/html": [
       "<div>\n",
       "<style scoped>\n",
       "    .dataframe tbody tr th:only-of-type {\n",
       "        vertical-align: middle;\n",
       "    }\n",
       "\n",
       "    .dataframe tbody tr th {\n",
       "        vertical-align: top;\n",
       "    }\n",
       "\n",
       "    .dataframe thead th {\n",
       "        text-align: right;\n",
       "    }\n",
       "</style>\n",
       "<table border=\"1\" class=\"dataframe\">\n",
       "  <thead>\n",
       "    <tr style=\"text-align: right;\">\n",
       "      <th></th>\n",
       "      <th>pfaf_id</th>\n",
       "      <th>fao_id</th>\n",
       "    </tr>\n",
       "  </thead>\n",
       "  <tbody>\n",
       "    <tr>\n",
       "      <th>0</th>\n",
       "      <td>611001</td>\n",
       "      <td>MAJ_BAS_3001_SUB_BAS_0001002</td>\n",
       "    </tr>\n",
       "  </tbody>\n",
       "</table>\n",
       "</div>"
      ],
      "text/plain": [
       "   pfaf_id                        fao_id\n",
       "0   611001  MAJ_BAS_3001_SUB_BAS_0001002"
      ]
     },
     "execution_count": 135,
     "metadata": {},
     "output_type": "execute_result"
    }
   ],
   "source": [
    "fao_link.head(1)"
   ]
  },
  {
   "cell_type": "code",
   "execution_count": 136,
   "metadata": {},
   "outputs": [
    {
     "data": {
      "text/html": [
       "<div>\n",
       "<style scoped>\n",
       "    .dataframe tbody tr th:only-of-type {\n",
       "        vertical-align: middle;\n",
       "    }\n",
       "\n",
       "    .dataframe tbody tr th {\n",
       "        vertical-align: top;\n",
       "    }\n",
       "\n",
       "    .dataframe thead th {\n",
       "        text-align: right;\n",
       "    }\n",
       "</style>\n",
       "<table border=\"1\" class=\"dataframe\">\n",
       "  <thead>\n",
       "    <tr style=\"text-align: right;\">\n",
       "      <th></th>\n",
       "      <th>pfaf_id</th>\n",
       "      <th>maj_name</th>\n",
       "    </tr>\n",
       "  </thead>\n",
       "  <tbody>\n",
       "    <tr>\n",
       "      <th>0</th>\n",
       "      <td>611001</td>\n",
       "      <td>Caribbean Coast</td>\n",
       "    </tr>\n",
       "    <tr>\n",
       "      <th>2</th>\n",
       "      <td>611002</td>\n",
       "      <td>Caribbean Coast</td>\n",
       "    </tr>\n",
       "    <tr>\n",
       "      <th>5</th>\n",
       "      <td>611003</td>\n",
       "      <td>Caribbean Coast</td>\n",
       "    </tr>\n",
       "    <tr>\n",
       "      <th>7</th>\n",
       "      <td>611004</td>\n",
       "      <td>Caribbean Coast</td>\n",
       "    </tr>\n",
       "    <tr>\n",
       "      <th>8</th>\n",
       "      <td>611005</td>\n",
       "      <td>Caribbean Coast</td>\n",
       "    </tr>\n",
       "  </tbody>\n",
       "</table>\n",
       "</div>"
      ],
      "text/plain": [
       "   pfaf_id         maj_name\n",
       "0   611001  Caribbean Coast\n",
       "2   611002  Caribbean Coast\n",
       "5   611003  Caribbean Coast\n",
       "7   611004  Caribbean Coast\n",
       "8   611005  Caribbean Coast"
      ]
     },
     "execution_count": 136,
     "metadata": {},
     "output_type": "execute_result"
    }
   ],
   "source": [
    "df = pd.merge(left=fao_minor, right=fao_major, on = \"maj_bas\", how = \"left\")\n",
    "df = pd.merge(left=fao_link, right=df, on = \"fao_id\", how = \"left\")\n",
    "df.drop(labels=['fao_id', 'sub_bas', 'to_bas', 'maj_bas', 'sub_name', 'sub_area', 'maj_area'], axis=1, inplace=True)\n",
    "df.drop_duplicates(subset=['pfaf_id', 'maj_name'], keep='first', inplace=True)\n",
    "df.head()"
   ]
  },
  {
   "cell_type": "markdown",
   "metadata": {},
   "source": [
    "**Save table**"
   ]
  },
  {
   "cell_type": "code",
   "execution_count": 137,
   "metadata": {},
   "outputs": [],
   "source": [
    "df.to_csv('/Users/ikersanchez/Vizzuality/PROIEKTUAK/Aqueduct/work/data/AQ_2_water_risk_atlas/basin_names.csv')"
   ]
  },
  {
   "cell_type": "markdown",
   "metadata": {},
   "source": [
    "## Water Risk Indicators table for Food\n",
    "\n",
    "We have to modified the new table in such a way that mimics the old one."
   ]
  },
  {
   "cell_type": "markdown",
   "metadata": {},
   "source": [
    "### Read tables\n",
    "\n",
    "**Old table**"
   ]
  },
  {
   "cell_type": "code",
   "execution_count": null,
   "metadata": {},
   "outputs": [],
   "source": [
    "wri_old = pd.read_csv('/Users/ikersanchez/Vizzuality/PROIEKTUAK/Aqueduct/work/data/AQ_2_water_risk_atlas/water_risk_indicators_v3.csv')"
   ]
  },
  {
   "cell_type": "code",
   "execution_count": null,
   "metadata": {},
   "outputs": [],
   "source": [
    "wri_old.head()"
   ]
  },
  {
   "cell_type": "code",
   "execution_count": null,
   "metadata": {},
   "outputs": [],
   "source": [
    "wri_old['scenario'].unique()"
   ]
  },
  {
   "cell_type": "code",
   "execution_count": null,
   "metadata": {},
   "outputs": [],
   "source": [
    "wri_old['indicator'].unique()"
   ]
  },
  {
   "cell_type": "markdown",
   "metadata": {},
   "source": [
    "**New table**"
   ]
  },
  {
   "cell_type": "code",
   "execution_count": null,
   "metadata": {},
   "outputs": [],
   "source": [
    "wri_new = pd.read_csv('/Users/ikersanchez/Vizzuality/PROIEKTUAK/Aqueduct/work/data/AQ_2_water_risk_atlas/output_V01/annual/annual_normalized.csv')"
   ]
  },
  {
   "cell_type": "code",
   "execution_count": null,
   "metadata": {},
   "outputs": [],
   "source": [
    "wri_new.head()"
   ]
  },
  {
   "cell_type": "markdown",
   "metadata": {},
   "source": [
    "**Take only default weighting**"
   ]
  },
  {
   "cell_type": "code",
   "execution_count": null,
   "metadata": {},
   "outputs": [],
   "source": [
    "wri_new = wri_new[wri_new['industry_short'] == 'def']"
   ]
  },
  {
   "cell_type": "markdown",
   "metadata": {},
   "source": [
    "### Create `PFAF_ID` and `aqid` columns\n",
    "\n",
    "The `string_id` is a composite index of `PFAF_ID` + \"-\" + `GID_1` + \"-\" + `aqid` \n",
    "\n",
    "**Polygon names**\n",
    "\n",
    "|What \t                                |Name             |unique_identifier_integer |\n",
    "|---------------------------------------|-----------------|--------------------------|\n",
    "|hydrological sub-basins                |Hydrobasin6      |PFAF_ID                   |\n",
    "|sub-national administrative boundaries |GADM_1           |GID_1_ID                  |\n",
    "|Groundwater Aquifers                   |WHYMAP           |aquid                     |\n",
    "|Union of the geometries above          |Aqueduct_Union   |aq30_id                   |\n",
    "\n",
    "In old table (water_risk_indicators_v3) `basinid` = `PFAF_ID`\n"
   ]
  },
  {
   "cell_type": "code",
   "execution_count": null,
   "metadata": {},
   "outputs": [],
   "source": [
    "wri_new['PFAF_ID'] = wri_new.apply(lambda x: x['string_id'].split('-')[0], axis=1)\n",
    "wri_new['aqid'] = wri_new.apply(lambda x: x['string_id'].split('-')[2], axis=1)"
   ]
  },
  {
   "cell_type": "markdown",
   "metadata": {},
   "source": [
    "**We remove the sub-national administrative boundaries level** "
   ]
  },
  {
   "cell_type": "code",
   "execution_count": null,
   "metadata": {},
   "outputs": [],
   "source": [
    "wri_new.drop_duplicates(subset=['indicator', 'PFAF_ID', 'aqid'], keep='first', inplace=True)"
   ]
  },
  {
   "cell_type": "markdown",
   "metadata": {},
   "source": [
    "**Drop some columns**"
   ]
  },
  {
   "cell_type": "code",
   "execution_count": null,
   "metadata": {},
   "outputs": [],
   "source": [
    "wri_new.drop(labels=['Unnamed: 0', 'industry_short', 'raw', \n",
    "                       'string_id', 'weight_fraction', 'weighted_score'], axis=1, inplace=True)"
   ]
  },
  {
   "cell_type": "code",
   "execution_count": null,
   "metadata": {},
   "outputs": [],
   "source": [
    "wri_new.head()"
   ]
  },
  {
   "cell_type": "code",
   "execution_count": null,
   "metadata": {},
   "outputs": [],
   "source": [
    "wri_new['aqid'].replace('None', np.nan, inplace=True)\n",
    "wri_new['PFAF_ID'].replace('None', np.nan, inplace=True)"
   ]
  },
  {
   "cell_type": "markdown",
   "metadata": {},
   "source": [
    "**Save table**"
   ]
  },
  {
   "cell_type": "code",
   "execution_count": null,
   "metadata": {},
   "outputs": [],
   "source": [
    "wri_new.to_csv('/Users/ikersanchez/Vizzuality/PROIEKTUAK/Aqueduct/work/data/AQ_2_water_risk_atlas/water_risk_indicators_food.csv')"
   ]
  },
  {
   "cell_type": "code",
   "execution_count": null,
   "metadata": {},
   "outputs": [],
   "source": []
  }
 ],
 "metadata": {
  "kernelspec": {
   "display_name": "Python 3",
   "language": "python",
   "name": "python3"
  },
  "language_info": {
   "codemirror_mode": {
    "name": "ipython",
    "version": 3
   },
   "file_extension": ".py",
   "mimetype": "text/x-python",
   "name": "python",
   "nbconvert_exporter": "python",
   "pygments_lexer": "ipython3",
   "version": "3.6.4"
  }
 },
 "nbformat": 4,
 "nbformat_minor": 2
}
