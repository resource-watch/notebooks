{
 "cells": [
  {
   "cell_type": "markdown",
   "metadata": {},
   "source": [
    "# Water Risk Tables"
   ]
  },
  {
   "cell_type": "code",
   "execution_count": 2,
   "metadata": {},
   "outputs": [],
   "source": [
    "import pandas as pd\n",
    "import geopandas as gpd\n",
    "import numpy as np\n",
    "import matplotlib.pyplot as plt"
   ]
  },
  {
   "cell_type": "markdown",
   "metadata": {},
   "source": [
    "##  Framework structure\n",
    "\n",
    "The structure of the framework is as follows. Below we used the default weighting schemes for the groups (quantity, quality and regulatory reputational) and the overall water risk.\n",
    "\n",
    "Overall Water Risk (100%)\n",
    "- Water Quantity Risk (69.4%)\n",
    "    - Baseline Water Stress (16.3%) \n",
    "    - Baseline Water Depletion (16.3%)\n",
    "    - Groundwater Table Decline (16.3%)\n",
    "    - Interannual Variability (2.0%)\n",
    "    - Seasonal Variability (2.0%)\n",
    "    - Drought Risk (8.2%)\n",
    "    - Riverine Flood Risk (4.1%)\n",
    "    - Coastal Flood Risk (4.1%)\n",
    "\n",
    "- Water Quality Risk (12.2%)\n",
    "    - Untreated Collected Wastewater (8.2%)\n",
    "    - Coastal Eutrophication Potential (4.1%)\n",
    "\n",
    "- Regulatory and Reputational (18.4%)\n",
    "    - Unimproved/no drinking water (8.2%)\n",
    "    - Unimproved/no sanitation (8.2%)\n",
    "    - RepRisk Index (2.0%)\n",
    "    \n",
    "\n",
    "**Group names**\n",
    "\n",
    "|Group full \t               |Group short    |\n",
    "|------------------------------|---------------|\n",
    "|Overall Water Risk            |TOT            |\n",
    "|Water Quantity Risk           |QAN            |\n",
    "|Water Quality Risk            |QAL            |\n",
    "|Regulatory and Reputational   |RRR            |\n",
    "\n",
    "**Indicator names**\n",
    "\n",
    "|Indicator full \t                 |Indicator short    |\n",
    "|------------------------------------|-------------------|\n",
    "|Baseline Water Stress               |bws                |    \n",
    "|Baseline Water Depletion            |bwd                |\n",
    "|Groundwater Table Decline           |gtd                |\n",
    "|Interannual Variability             |iav                |\n",
    "|Seasonal Variability                |sev                |\n",
    "|Drought Risk                        |drr                |\n",
    "|Riverine Flood Risk                 |rfr                |\n",
    "|Coastal Flood Risk                  |cfr                |\n",
    "|Untreated Collected Wastewater      |ucw                |\n",
    "|Coastal Eutrophication Potential    |cep                |\n",
    "|Unimproved/no drinking water        |udw                |\n",
    "|Unimproved/no sanitation            |usa                |\n",
    "|RepRisk Index                       |rri                |\n"
   ]
  },
  {
   "cell_type": "markdown",
   "metadata": {},
   "source": [
    "## Weighting Scheme\n",
    "\n",
    "**Weight names**\n",
    "\n",
    "|Industry full \t         |Industry short |\n",
    "|------------------------|---------------|\n",
    "|Default                 |DEF            |\n",
    "|Argiculture             |AGR            |\n",
    "|Electric Power          |ELP            |\n",
    "|Semiconductor           |SMC            |\n",
    "|Oil and gas             |ONG            |\n",
    "|Chemical                |CHE            |\n",
    "|Mining                  |MIN            |\n",
    "|Food and beverage       |FNB            |\n",
    "|Construction materials  |CON            |\n",
    "|Textile                 |TEX            |\n"
   ]
  },
  {
   "cell_type": "markdown",
   "metadata": {},
   "source": [
    "## Annual data\n",
    "\n",
    "### Pivot"
   ]
  },
  {
   "cell_type": "code",
   "execution_count": 29,
   "metadata": {},
   "outputs": [
    {
     "name": "stderr",
     "output_type": "stream",
     "text": [
      "/anaconda3/lib/python3.6/site-packages/IPython/core/interactiveshell.py:2728: DtypeWarning: Columns (12,39) have mixed types. Specify dtype option on import or set low_memory=False.\n",
      "  interactivity=interactivity, compiler=compiler, result=result)\n"
     ]
    }
   ],
   "source": [
    "annual_pivot = pd.read_csv('/Volumes/MacBook HD/data/aqueduct/data_source/AQ_2_water_risk_atlas/output_V04/annual/annual_pivot.csv')"
   ]
  },
  {
   "cell_type": "markdown",
   "metadata": {},
   "source": [
    "**Clean table**"
   ]
  },
  {
   "cell_type": "code",
   "execution_count": 10,
   "metadata": {},
   "outputs": [],
   "source": [
    "columns_default = ['aq30_id']\n",
    "cols = filter(lambda x:x.endswith(tuple([\"_cat\", \"_label\", \"_weight_fraction\"])), list(annual_pivot.columns))\n",
    "\n",
    "for n, col in enumerate(list(cols)):    \n",
    "    columns_default.append(col)"
   ]
  },
  {
   "cell_type": "code",
   "execution_count": 11,
   "metadata": {},
   "outputs": [],
   "source": [
    "annual_pivot_default = annual_pivot[columns_default]"
   ]
  },
  {
   "cell_type": "markdown",
   "metadata": {},
   "source": [
    "**Add `string_id` and `gid_1`**"
   ]
  },
  {
   "cell_type": "code",
   "execution_count": 12,
   "metadata": {},
   "outputs": [],
   "source": [
    "df_ids = gpd.read_file('/Volumes/MacBook HD/data/aqueduct/data_source/AQ_2_water_risk_atlas/Y2018M12D06_RH_Master_Shape_V01/output_V02/Y2018M12D06_RH_Master_Shape_V01.shp')"
   ]
  },
  {
   "cell_type": "code",
   "execution_count": 13,
   "metadata": {},
   "outputs": [
    {
     "data": {
      "text/html": [
       "<div>\n",
       "<style scoped>\n",
       "    .dataframe tbody tr th:only-of-type {\n",
       "        vertical-align: middle;\n",
       "    }\n",
       "\n",
       "    .dataframe tbody tr th {\n",
       "        vertical-align: top;\n",
       "    }\n",
       "\n",
       "    .dataframe thead th {\n",
       "        text-align: right;\n",
       "    }\n",
       "</style>\n",
       "<table border=\"1\" class=\"dataframe\">\n",
       "  <thead>\n",
       "    <tr style=\"text-align: right;\">\n",
       "      <th></th>\n",
       "      <th>aq30_id</th>\n",
       "      <th>gid_1</th>\n",
       "      <th>pfaf_id</th>\n",
       "      <th>string_id</th>\n",
       "    </tr>\n",
       "  </thead>\n",
       "  <tbody>\n",
       "    <tr>\n",
       "      <th>0</th>\n",
       "      <td>0</td>\n",
       "      <td>EGY.11_1</td>\n",
       "      <td>111011</td>\n",
       "      <td>111011-EGY.11_1-3365</td>\n",
       "    </tr>\n",
       "  </tbody>\n",
       "</table>\n",
       "</div>"
      ],
      "text/plain": [
       "   aq30_id     gid_1  pfaf_id             string_id\n",
       "0        0  EGY.11_1   111011  111011-EGY.11_1-3365"
      ]
     },
     "execution_count": 13,
     "metadata": {},
     "output_type": "execute_result"
    }
   ],
   "source": [
    "df_ids.drop(columns=['aqid', 'type', 'geometry'], inplace=True)\n",
    "df_ids.head(1)"
   ]
  },
  {
   "cell_type": "code",
   "execution_count": 31,
   "metadata": {},
   "outputs": [
    {
     "data": {
      "text/html": [
       "<div>\n",
       "<style scoped>\n",
       "    .dataframe tbody tr th:only-of-type {\n",
       "        vertical-align: middle;\n",
       "    }\n",
       "\n",
       "    .dataframe tbody tr th {\n",
       "        vertical-align: top;\n",
       "    }\n",
       "\n",
       "    .dataframe thead th {\n",
       "        text-align: right;\n",
       "    }\n",
       "</style>\n",
       "<table border=\"1\" class=\"dataframe\">\n",
       "  <thead>\n",
       "    <tr style=\"text-align: right;\">\n",
       "      <th></th>\n",
       "      <th>aq30_id</th>\n",
       "      <th>aqid</th>\n",
       "      <th>area_km2</th>\n",
       "      <th>bwd_cat</th>\n",
       "      <th>bwd_label</th>\n",
       "      <th>bwd_raw</th>\n",
       "      <th>bwd_score</th>\n",
       "      <th>bws_cat</th>\n",
       "      <th>bws_label</th>\n",
       "      <th>bws_raw</th>\n",
       "      <th>...</th>\n",
       "      <th>w_awr_tex_rrr_score</th>\n",
       "      <th>w_awr_tex_rrr_weight_fraction</th>\n",
       "      <th>w_awr_tex_tot_cat</th>\n",
       "      <th>w_awr_tex_tot_label</th>\n",
       "      <th>w_awr_tex_tot_raw</th>\n",
       "      <th>w_awr_tex_tot_score</th>\n",
       "      <th>w_awr_tex_tot_weight_fraction</th>\n",
       "      <th>gid_1_y</th>\n",
       "      <th>pfaf_id_y</th>\n",
       "      <th>string_id_y</th>\n",
       "    </tr>\n",
       "  </thead>\n",
       "  <tbody>\n",
       "    <tr>\n",
       "      <th>1000</th>\n",
       "      <td>6130</td>\n",
       "      <td>2063</td>\n",
       "      <td>152.467311</td>\n",
       "      <td>0.0</td>\n",
       "      <td>Low (&lt;5%)</td>\n",
       "      <td>0.001819</td>\n",
       "      <td>0.036378</td>\n",
       "      <td>0.0</td>\n",
       "      <td>Low (&lt;10%)</td>\n",
       "      <td>0.002408</td>\n",
       "      <td>...</td>\n",
       "      <td>4.962650</td>\n",
       "      <td>0.326531</td>\n",
       "      <td>4.0</td>\n",
       "      <td>Extremely High (4-5)</td>\n",
       "      <td>3.159958</td>\n",
       "      <td>4.207300</td>\n",
       "      <td>0.918367</td>\n",
       "      <td>TCD.11_1</td>\n",
       "      <td>142289</td>\n",
       "      <td>142289-TCD.11_1-2063</td>\n",
       "    </tr>\n",
       "    <tr>\n",
       "      <th>1001</th>\n",
       "      <td>6136</td>\n",
       "      <td>2048</td>\n",
       "      <td>301.945201</td>\n",
       "      <td>0.0</td>\n",
       "      <td>Low (&lt;5%)</td>\n",
       "      <td>0.011710</td>\n",
       "      <td>0.234200</td>\n",
       "      <td>0.0</td>\n",
       "      <td>Low (&lt;10%)</td>\n",
       "      <td>0.017621</td>\n",
       "      <td>...</td>\n",
       "      <td>4.512383</td>\n",
       "      <td>0.326531</td>\n",
       "      <td>4.0</td>\n",
       "      <td>Extremely High (4-5)</td>\n",
       "      <td>3.050613</td>\n",
       "      <td>4.160193</td>\n",
       "      <td>0.918367</td>\n",
       "      <td>NGA.16_1</td>\n",
       "      <td>142291</td>\n",
       "      <td>142291-NGA.16_1-2048</td>\n",
       "    </tr>\n",
       "    <tr>\n",
       "      <th>1002</th>\n",
       "      <td>6149</td>\n",
       "      <td>2105</td>\n",
       "      <td>39.452115</td>\n",
       "      <td>0.0</td>\n",
       "      <td>Low (&lt;5%)</td>\n",
       "      <td>0.003625</td>\n",
       "      <td>0.072501</td>\n",
       "      <td>0.0</td>\n",
       "      <td>Low (&lt;10%)</td>\n",
       "      <td>0.010812</td>\n",
       "      <td>...</td>\n",
       "      <td>4.512383</td>\n",
       "      <td>0.326531</td>\n",
       "      <td>4.0</td>\n",
       "      <td>Extremely High (4-5)</td>\n",
       "      <td>3.035225</td>\n",
       "      <td>4.153564</td>\n",
       "      <td>0.918367</td>\n",
       "      <td>NGA.8_1</td>\n",
       "      <td>142293</td>\n",
       "      <td>142293-NGA.8_1-2105</td>\n",
       "    </tr>\n",
       "    <tr>\n",
       "      <th>1003</th>\n",
       "      <td>6176</td>\n",
       "      <td>2048</td>\n",
       "      <td>400.165407</td>\n",
       "      <td>0.0</td>\n",
       "      <td>Low (&lt;5%)</td>\n",
       "      <td>0.020451</td>\n",
       "      <td>0.409024</td>\n",
       "      <td>0.0</td>\n",
       "      <td>Low (&lt;10%)</td>\n",
       "      <td>0.032026</td>\n",
       "      <td>...</td>\n",
       "      <td>4.430684</td>\n",
       "      <td>0.326531</td>\n",
       "      <td>4.0</td>\n",
       "      <td>Extremely High (4-5)</td>\n",
       "      <td>2.924938</td>\n",
       "      <td>4.106052</td>\n",
       "      <td>0.918367</td>\n",
       "      <td>NGA.26_1</td>\n",
       "      <td>142320</td>\n",
       "      <td>142320-NGA.26_1-2048</td>\n",
       "    </tr>\n",
       "    <tr>\n",
       "      <th>1004</th>\n",
       "      <td>6181</td>\n",
       "      <td>2080</td>\n",
       "      <td>97.618874</td>\n",
       "      <td>0.0</td>\n",
       "      <td>Low (&lt;5%)</td>\n",
       "      <td>0.000327</td>\n",
       "      <td>0.006542</td>\n",
       "      <td>0.0</td>\n",
       "      <td>Low (&lt;10%)</td>\n",
       "      <td>0.000757</td>\n",
       "      <td>...</td>\n",
       "      <td>4.449170</td>\n",
       "      <td>0.326531</td>\n",
       "      <td>4.0</td>\n",
       "      <td>Extremely High (4-5)</td>\n",
       "      <td>2.859952</td>\n",
       "      <td>4.078056</td>\n",
       "      <td>0.918367</td>\n",
       "      <td>NGA.15_1</td>\n",
       "      <td>142330</td>\n",
       "      <td>142330-NGA.15_1-2080</td>\n",
       "    </tr>\n",
       "  </tbody>\n",
       "</table>\n",
       "<p>5 rows × 270 columns</p>\n",
       "</div>"
      ],
      "text/plain": [
       "      aq30_id  aqid    area_km2  bwd_cat  bwd_label   bwd_raw  bwd_score  \\\n",
       "1000     6130  2063  152.467311      0.0  Low (<5%)  0.001819   0.036378   \n",
       "1001     6136  2048  301.945201      0.0  Low (<5%)  0.011710   0.234200   \n",
       "1002     6149  2105   39.452115      0.0  Low (<5%)  0.003625   0.072501   \n",
       "1003     6176  2048  400.165407      0.0  Low (<5%)  0.020451   0.409024   \n",
       "1004     6181  2080   97.618874      0.0  Low (<5%)  0.000327   0.006542   \n",
       "\n",
       "      bws_cat   bws_label   bws_raw          ...           \\\n",
       "1000      0.0  Low (<10%)  0.002408          ...            \n",
       "1001      0.0  Low (<10%)  0.017621          ...            \n",
       "1002      0.0  Low (<10%)  0.010812          ...            \n",
       "1003      0.0  Low (<10%)  0.032026          ...            \n",
       "1004      0.0  Low (<10%)  0.000757          ...            \n",
       "\n",
       "      w_awr_tex_rrr_score w_awr_tex_rrr_weight_fraction  w_awr_tex_tot_cat  \\\n",
       "1000             4.962650                      0.326531                4.0   \n",
       "1001             4.512383                      0.326531                4.0   \n",
       "1002             4.512383                      0.326531                4.0   \n",
       "1003             4.430684                      0.326531                4.0   \n",
       "1004             4.449170                      0.326531                4.0   \n",
       "\n",
       "       w_awr_tex_tot_label  w_awr_tex_tot_raw  w_awr_tex_tot_score  \\\n",
       "1000  Extremely High (4-5)           3.159958             4.207300   \n",
       "1001  Extremely High (4-5)           3.050613             4.160193   \n",
       "1002  Extremely High (4-5)           3.035225             4.153564   \n",
       "1003  Extremely High (4-5)           2.924938             4.106052   \n",
       "1004  Extremely High (4-5)           2.859952             4.078056   \n",
       "\n",
       "      w_awr_tex_tot_weight_fraction   gid_1_y  pfaf_id_y           string_id_y  \n",
       "1000                       0.918367  TCD.11_1     142289  142289-TCD.11_1-2063  \n",
       "1001                       0.918367  NGA.16_1     142291  142291-NGA.16_1-2048  \n",
       "1002                       0.918367   NGA.8_1     142293   142293-NGA.8_1-2105  \n",
       "1003                       0.918367  NGA.26_1     142320  142320-NGA.26_1-2048  \n",
       "1004                       0.918367  NGA.15_1     142330  142330-NGA.15_1-2080  \n",
       "\n",
       "[5 rows x 270 columns]"
      ]
     },
     "execution_count": 31,
     "metadata": {},
     "output_type": "execute_result"
    }
   ],
   "source": [
    "annual_pivot_default = pd.merge(left=annual_pivot_default,\n",
    "                right=df_ids,\n",
    "                on = \"aq30_id\",\n",
    "                how = \"left\")\n",
    "annual_pivot_default[1000:1005]"
   ]
  },
  {
   "cell_type": "markdown",
   "metadata": {},
   "source": [
    "**Save tables**"
   ]
  },
  {
   "cell_type": "code",
   "execution_count": 15,
   "metadata": {},
   "outputs": [],
   "source": [
    "annual_pivot_default.to_csv('/Volumes/MacBook HD/data/aqueduct/data_source/AQ_2_water_risk_atlas/water_risk_indicators_annual_new.csv')"
   ]
  },
  {
   "cell_type": "markdown",
   "metadata": {},
   "source": [
    "### Pivot All"
   ]
  },
  {
   "cell_type": "code",
   "execution_count": 67,
   "metadata": {},
   "outputs": [
    {
     "name": "stderr",
     "output_type": "stream",
     "text": [
      "/anaconda3/lib/python3.6/site-packages/IPython/core/interactiveshell.py:2728: DtypeWarning: Columns (12,39) have mixed types. Specify dtype option on import or set low_memory=False.\n",
      "  interactivity=interactivity, compiler=compiler, result=result)\n"
     ]
    }
   ],
   "source": [
    "annual_pivot_all = pd.read_csv('/Volumes/MacBook HD/data/aqueduct/data_source/AQ_2_water_risk_atlas/output_V04/annual/annual_pivot.csv')"
   ]
  },
  {
   "cell_type": "code",
   "execution_count": 68,
   "metadata": {},
   "outputs": [],
   "source": [
    "annual_pivot_all.drop(columns='Unnamed: 0', inplace=True)"
   ]
  },
  {
   "cell_type": "markdown",
   "metadata": {},
   "source": [
    "**Add `string_id` and `gid_1`**"
   ]
  },
  {
   "cell_type": "code",
   "execution_count": 34,
   "metadata": {},
   "outputs": [
    {
     "data": {
      "text/html": [
       "<div>\n",
       "<style scoped>\n",
       "    .dataframe tbody tr th:only-of-type {\n",
       "        vertical-align: middle;\n",
       "    }\n",
       "\n",
       "    .dataframe tbody tr th {\n",
       "        vertical-align: top;\n",
       "    }\n",
       "\n",
       "    .dataframe thead th {\n",
       "        text-align: right;\n",
       "    }\n",
       "</style>\n",
       "<table border=\"1\" class=\"dataframe\">\n",
       "  <thead>\n",
       "    <tr style=\"text-align: right;\">\n",
       "      <th></th>\n",
       "      <th>aq30_id</th>\n",
       "      <th>aqid</th>\n",
       "      <th>area_km2</th>\n",
       "      <th>bwd_cat</th>\n",
       "      <th>bwd_label</th>\n",
       "      <th>bwd_raw</th>\n",
       "      <th>bwd_score</th>\n",
       "      <th>bws_cat</th>\n",
       "      <th>bws_label</th>\n",
       "      <th>bws_raw</th>\n",
       "      <th>...</th>\n",
       "      <th>w_awr_tex_rrr_score</th>\n",
       "      <th>w_awr_tex_rrr_weight_fraction</th>\n",
       "      <th>w_awr_tex_tot_cat</th>\n",
       "      <th>w_awr_tex_tot_label</th>\n",
       "      <th>w_awr_tex_tot_raw</th>\n",
       "      <th>w_awr_tex_tot_score</th>\n",
       "      <th>w_awr_tex_tot_weight_fraction</th>\n",
       "      <th>gid_1_y</th>\n",
       "      <th>pfaf_id_y</th>\n",
       "      <th>string_id_y</th>\n",
       "    </tr>\n",
       "  </thead>\n",
       "  <tbody>\n",
       "    <tr>\n",
       "      <th>1000</th>\n",
       "      <td>6130</td>\n",
       "      <td>2063</td>\n",
       "      <td>152.467311</td>\n",
       "      <td>0.0</td>\n",
       "      <td>Low (&lt;5%)</td>\n",
       "      <td>0.001819</td>\n",
       "      <td>0.036378</td>\n",
       "      <td>0.0</td>\n",
       "      <td>Low (&lt;10%)</td>\n",
       "      <td>0.002408</td>\n",
       "      <td>...</td>\n",
       "      <td>4.962650</td>\n",
       "      <td>0.326531</td>\n",
       "      <td>4.0</td>\n",
       "      <td>Extremely High (4-5)</td>\n",
       "      <td>3.159958</td>\n",
       "      <td>4.207300</td>\n",
       "      <td>0.918367</td>\n",
       "      <td>TCD.11_1</td>\n",
       "      <td>142289</td>\n",
       "      <td>142289-TCD.11_1-2063</td>\n",
       "    </tr>\n",
       "    <tr>\n",
       "      <th>1001</th>\n",
       "      <td>6136</td>\n",
       "      <td>2048</td>\n",
       "      <td>301.945201</td>\n",
       "      <td>0.0</td>\n",
       "      <td>Low (&lt;5%)</td>\n",
       "      <td>0.011710</td>\n",
       "      <td>0.234200</td>\n",
       "      <td>0.0</td>\n",
       "      <td>Low (&lt;10%)</td>\n",
       "      <td>0.017621</td>\n",
       "      <td>...</td>\n",
       "      <td>4.512383</td>\n",
       "      <td>0.326531</td>\n",
       "      <td>4.0</td>\n",
       "      <td>Extremely High (4-5)</td>\n",
       "      <td>3.050613</td>\n",
       "      <td>4.160193</td>\n",
       "      <td>0.918367</td>\n",
       "      <td>NGA.16_1</td>\n",
       "      <td>142291</td>\n",
       "      <td>142291-NGA.16_1-2048</td>\n",
       "    </tr>\n",
       "    <tr>\n",
       "      <th>1002</th>\n",
       "      <td>6149</td>\n",
       "      <td>2105</td>\n",
       "      <td>39.452115</td>\n",
       "      <td>0.0</td>\n",
       "      <td>Low (&lt;5%)</td>\n",
       "      <td>0.003625</td>\n",
       "      <td>0.072501</td>\n",
       "      <td>0.0</td>\n",
       "      <td>Low (&lt;10%)</td>\n",
       "      <td>0.010812</td>\n",
       "      <td>...</td>\n",
       "      <td>4.512383</td>\n",
       "      <td>0.326531</td>\n",
       "      <td>4.0</td>\n",
       "      <td>Extremely High (4-5)</td>\n",
       "      <td>3.035225</td>\n",
       "      <td>4.153564</td>\n",
       "      <td>0.918367</td>\n",
       "      <td>NGA.8_1</td>\n",
       "      <td>142293</td>\n",
       "      <td>142293-NGA.8_1-2105</td>\n",
       "    </tr>\n",
       "    <tr>\n",
       "      <th>1003</th>\n",
       "      <td>6176</td>\n",
       "      <td>2048</td>\n",
       "      <td>400.165407</td>\n",
       "      <td>0.0</td>\n",
       "      <td>Low (&lt;5%)</td>\n",
       "      <td>0.020451</td>\n",
       "      <td>0.409024</td>\n",
       "      <td>0.0</td>\n",
       "      <td>Low (&lt;10%)</td>\n",
       "      <td>0.032026</td>\n",
       "      <td>...</td>\n",
       "      <td>4.430684</td>\n",
       "      <td>0.326531</td>\n",
       "      <td>4.0</td>\n",
       "      <td>Extremely High (4-5)</td>\n",
       "      <td>2.924938</td>\n",
       "      <td>4.106052</td>\n",
       "      <td>0.918367</td>\n",
       "      <td>NGA.26_1</td>\n",
       "      <td>142320</td>\n",
       "      <td>142320-NGA.26_1-2048</td>\n",
       "    </tr>\n",
       "    <tr>\n",
       "      <th>1004</th>\n",
       "      <td>6181</td>\n",
       "      <td>2080</td>\n",
       "      <td>97.618874</td>\n",
       "      <td>0.0</td>\n",
       "      <td>Low (&lt;5%)</td>\n",
       "      <td>0.000327</td>\n",
       "      <td>0.006542</td>\n",
       "      <td>0.0</td>\n",
       "      <td>Low (&lt;10%)</td>\n",
       "      <td>0.000757</td>\n",
       "      <td>...</td>\n",
       "      <td>4.449170</td>\n",
       "      <td>0.326531</td>\n",
       "      <td>4.0</td>\n",
       "      <td>Extremely High (4-5)</td>\n",
       "      <td>2.859952</td>\n",
       "      <td>4.078056</td>\n",
       "      <td>0.918367</td>\n",
       "      <td>NGA.15_1</td>\n",
       "      <td>142330</td>\n",
       "      <td>142330-NGA.15_1-2080</td>\n",
       "    </tr>\n",
       "  </tbody>\n",
       "</table>\n",
       "<p>5 rows × 270 columns</p>\n",
       "</div>"
      ],
      "text/plain": [
       "      aq30_id  aqid    area_km2  bwd_cat  bwd_label   bwd_raw  bwd_score  \\\n",
       "1000     6130  2063  152.467311      0.0  Low (<5%)  0.001819   0.036378   \n",
       "1001     6136  2048  301.945201      0.0  Low (<5%)  0.011710   0.234200   \n",
       "1002     6149  2105   39.452115      0.0  Low (<5%)  0.003625   0.072501   \n",
       "1003     6176  2048  400.165407      0.0  Low (<5%)  0.020451   0.409024   \n",
       "1004     6181  2080   97.618874      0.0  Low (<5%)  0.000327   0.006542   \n",
       "\n",
       "      bws_cat   bws_label   bws_raw          ...           \\\n",
       "1000      0.0  Low (<10%)  0.002408          ...            \n",
       "1001      0.0  Low (<10%)  0.017621          ...            \n",
       "1002      0.0  Low (<10%)  0.010812          ...            \n",
       "1003      0.0  Low (<10%)  0.032026          ...            \n",
       "1004      0.0  Low (<10%)  0.000757          ...            \n",
       "\n",
       "      w_awr_tex_rrr_score w_awr_tex_rrr_weight_fraction  w_awr_tex_tot_cat  \\\n",
       "1000             4.962650                      0.326531                4.0   \n",
       "1001             4.512383                      0.326531                4.0   \n",
       "1002             4.512383                      0.326531                4.0   \n",
       "1003             4.430684                      0.326531                4.0   \n",
       "1004             4.449170                      0.326531                4.0   \n",
       "\n",
       "       w_awr_tex_tot_label  w_awr_tex_tot_raw  w_awr_tex_tot_score  \\\n",
       "1000  Extremely High (4-5)           3.159958             4.207300   \n",
       "1001  Extremely High (4-5)           3.050613             4.160193   \n",
       "1002  Extremely High (4-5)           3.035225             4.153564   \n",
       "1003  Extremely High (4-5)           2.924938             4.106052   \n",
       "1004  Extremely High (4-5)           2.859952             4.078056   \n",
       "\n",
       "      w_awr_tex_tot_weight_fraction   gid_1_y  pfaf_id_y           string_id_y  \n",
       "1000                       0.918367  TCD.11_1     142289  142289-TCD.11_1-2063  \n",
       "1001                       0.918367  NGA.16_1     142291  142291-NGA.16_1-2048  \n",
       "1002                       0.918367   NGA.8_1     142293   142293-NGA.8_1-2105  \n",
       "1003                       0.918367  NGA.26_1     142320  142320-NGA.26_1-2048  \n",
       "1004                       0.918367  NGA.15_1     142330  142330-NGA.15_1-2080  \n",
       "\n",
       "[5 rows x 270 columns]"
      ]
     },
     "execution_count": 34,
     "metadata": {},
     "output_type": "execute_result"
    }
   ],
   "source": [
    "annual_pivot_all = pd.merge(left=annual_pivot_all,\n",
    "                right=df_ids,\n",
    "                on = \"aq30_id\",\n",
    "                how = \"left\")\n",
    "annual_pivot_all[1000:1005]"
   ]
  },
  {
   "cell_type": "code",
   "execution_count": 62,
   "metadata": {},
   "outputs": [],
   "source": [
    "columns = list(annual_pivot_all.columns)\n",
    "columns1 = columns[:150]\n",
    "columns2.insert(0,columns1[0])"
   ]
  },
  {
   "cell_type": "code",
   "execution_count": null,
   "metadata": {},
   "outputs": [],
   "source": [
    "B.w_awr_elp_qal_score, B.w_awr_elp_qal_weight_fraction, B.w_awr_elp_qan_cat, B.w_awr_elp_qan_label, B.w_awr_elp_qan_raw, B.w_awr_elp_qan_score, B.w_awr_elp_qan_weight_fraction, B.w_awr_elp_rrr_cat, B.w_awr_elp_rrr_label, B.w_awr_elp_rrr_raw, B.w_awr_elp_rrr_score, B.w_awr_elp_rrr_weight_fraction, B.w_awr_elp_tot_cat, B.w_awr_elp_tot_label, B.w_awr_elp_tot_raw, B.w_awr_elp_tot_score, B.w_awr_elp_tot_weight_fraction, B.w_awr_fnb_qal_cat, B.w_awr_fnb_qal_label, B.w_awr_fnb_qal_raw, B.w_awr_fnb_qal_score, B.w_awr_fnb_qal_weight_fraction, B.w_awr_fnb_qan_cat, B.w_awr_fnb_qan_label, B.w_awr_fnb_qan_raw, B.w_awr_fnb_qan_score, B.w_awr_fnb_qan_weight_fraction, B.w_awr_fnb_rrr_cat, B.w_awr_fnb_rrr_label, B.w_awr_fnb_rrr_raw, B.w_awr_fnb_rrr_score, B.w_awr_fnb_rrr_weight_fraction, B.w_awr_fnb_tot_cat, B.w_awr_fnb_tot_label, B.w_awr_fnb_tot_raw, B.w_awr_fnb_tot_score, B.w_awr_fnb_tot_weight_fraction, B.w_awr_min_qal_cat, B.w_awr_min_qal_label, B.w_awr_min_qal_raw, B.w_awr_min_qal_score, B.w_awr_min_qal_weight_fraction, B.w_awr_min_qan_cat, B.w_awr_min_qan_label, B.w_awr_min_qan_raw, B.w_awr_min_qan_score, B.w_awr_min_qan_weight_fraction, B.w_awr_min_rrr_cat, B.w_awr_min_rrr_label, B.w_awr_min_rrr_raw, B.w_awr_min_rrr_score, B.w_awr_min_rrr_weight_fraction, B.w_awr_min_tot_cat, B.w_awr_min_tot_label, B.w_awr_min_tot_raw, B.w_awr_min_tot_score, B.w_awr_min_tot_weight_fraction, B.w_awr_ong_qal_cat, B.w_awr_ong_qal_label, B.w_awr_ong_qal_raw, B.w_awr_ong_qal_score, B.w_awr_ong_qal_weight_fraction, B.w_awr_ong_qan_cat, B.w_awr_ong_qan_label, B.w_awr_ong_qan_raw, B.w_awr_ong_qan_score, B.w_awr_ong_qan_weight_fraction, B.w_awr_ong_rrr_cat, B.w_awr_ong_rrr_label, B.w_awr_ong_rrr_raw, B.w_awr_ong_rrr_score, B.w_awr_ong_rrr_weight_fraction, B.w_awr_ong_tot_cat, B.w_awr_ong_tot_label, B.w_awr_ong_tot_raw, B.w_awr_ong_tot_score, B.w_awr_ong_tot_weight_fraction, B.w_awr_smc_qal_cat, B.w_awr_smc_qal_label, B.w_awr_smc_qal_raw, B.w_awr_smc_qal_score, B.w_awr_smc_qal_weight_fraction, B.w_awr_smc_qan_cat, B.w_awr_smc_qan_label, B.w_awr_smc_qan_raw, B.w_awr_smc_qan_score, B.w_awr_smc_qan_weight_fraction, B.w_awr_smc_rrr_cat, B.w_awr_smc_rrr_label, B.w_awr_smc_rrr_raw, B.w_awr_smc_rrr_score, B.w_awr_smc_rrr_weight_fraction, B.w_awr_smc_tot_cat, B.w_awr_smc_tot_label, B.w_awr_smc_tot_raw, B.w_awr_smc_tot_score, B.w_awr_smc_tot_weight_fraction, B.w_awr_tex_qal_cat, B.w_awr_tex_qal_label, B.w_awr_tex_qal_raw, B.w_awr_tex_qal_score, B.w_awr_tex_qal_weight_fraction, B.w_awr_tex_qan_cat, B.w_awr_tex_qan_label, B.w_awr_tex_qan_raw, B.w_awr_tex_qan_score, B.w_awr_tex_qan_weight_fraction, B.w_awr_tex_rrr_cat, B.w_awr_tex_rrr_label, B.w_awr_tex_rrr_raw, B.w_awr_tex_rrr_score, B.w_awr_tex_rrr_weight_fraction, B.w_awr_tex_tot_cat, B.w_awr_tex_tot_label, B.w_awr_tex_tot_raw, B.w_awr_tex_tot_score, B.w_awr_tex_tot_weight_fraction, B.gid_1_y, B.pfaf_id_y, B.string_id_y']"
   ]
  },
  {
   "cell_type": "code",
   "execution_count": 66,
   "metadata": {},
   "outputs": [
    {
     "data": {
      "text/plain": [
       "['aq30_id',\n",
       " 'aq30_id',\n",
       " 'w_awr_elp_qal_score',\n",
       " 'w_awr_elp_qal_weight_fraction',\n",
       " 'w_awr_elp_qan_cat',\n",
       " 'w_awr_elp_qan_label',\n",
       " 'w_awr_elp_qan_raw',\n",
       " 'w_awr_elp_qan_score',\n",
       " 'w_awr_elp_qan_weight_fraction',\n",
       " 'w_awr_elp_rrr_cat',\n",
       " 'w_awr_elp_rrr_label',\n",
       " 'w_awr_elp_rrr_raw',\n",
       " 'w_awr_elp_rrr_score',\n",
       " 'w_awr_elp_rrr_weight_fraction',\n",
       " 'w_awr_elp_tot_cat',\n",
       " 'w_awr_elp_tot_label',\n",
       " 'w_awr_elp_tot_raw',\n",
       " 'w_awr_elp_tot_score',\n",
       " 'w_awr_elp_tot_weight_fraction',\n",
       " 'w_awr_fnb_qal_cat',\n",
       " 'w_awr_fnb_qal_label',\n",
       " 'w_awr_fnb_qal_raw',\n",
       " 'w_awr_fnb_qal_score',\n",
       " 'w_awr_fnb_qal_weight_fraction',\n",
       " 'w_awr_fnb_qan_cat',\n",
       " 'w_awr_fnb_qan_label',\n",
       " 'w_awr_fnb_qan_raw',\n",
       " 'w_awr_fnb_qan_score',\n",
       " 'w_awr_fnb_qan_weight_fraction',\n",
       " 'w_awr_fnb_rrr_cat',\n",
       " 'w_awr_fnb_rrr_label',\n",
       " 'w_awr_fnb_rrr_raw',\n",
       " 'w_awr_fnb_rrr_score',\n",
       " 'w_awr_fnb_rrr_weight_fraction',\n",
       " 'w_awr_fnb_tot_cat',\n",
       " 'w_awr_fnb_tot_label',\n",
       " 'w_awr_fnb_tot_raw',\n",
       " 'w_awr_fnb_tot_score',\n",
       " 'w_awr_fnb_tot_weight_fraction',\n",
       " 'w_awr_min_qal_cat',\n",
       " 'w_awr_min_qal_label',\n",
       " 'w_awr_min_qal_raw',\n",
       " 'w_awr_min_qal_score',\n",
       " 'w_awr_min_qal_weight_fraction',\n",
       " 'w_awr_min_qan_cat',\n",
       " 'w_awr_min_qan_label',\n",
       " 'w_awr_min_qan_raw',\n",
       " 'w_awr_min_qan_score',\n",
       " 'w_awr_min_qan_weight_fraction',\n",
       " 'w_awr_min_rrr_cat',\n",
       " 'w_awr_min_rrr_label',\n",
       " 'w_awr_min_rrr_raw',\n",
       " 'w_awr_min_rrr_score',\n",
       " 'w_awr_min_rrr_weight_fraction',\n",
       " 'w_awr_min_tot_cat',\n",
       " 'w_awr_min_tot_label',\n",
       " 'w_awr_min_tot_raw',\n",
       " 'w_awr_min_tot_score',\n",
       " 'w_awr_min_tot_weight_fraction',\n",
       " 'w_awr_ong_qal_cat',\n",
       " 'w_awr_ong_qal_label',\n",
       " 'w_awr_ong_qal_raw',\n",
       " 'w_awr_ong_qal_score',\n",
       " 'w_awr_ong_qal_weight_fraction',\n",
       " 'w_awr_ong_qan_cat',\n",
       " 'w_awr_ong_qan_label',\n",
       " 'w_awr_ong_qan_raw',\n",
       " 'w_awr_ong_qan_score',\n",
       " 'w_awr_ong_qan_weight_fraction',\n",
       " 'w_awr_ong_rrr_cat',\n",
       " 'w_awr_ong_rrr_label',\n",
       " 'w_awr_ong_rrr_raw',\n",
       " 'w_awr_ong_rrr_score',\n",
       " 'w_awr_ong_rrr_weight_fraction',\n",
       " 'w_awr_ong_tot_cat',\n",
       " 'w_awr_ong_tot_label',\n",
       " 'w_awr_ong_tot_raw',\n",
       " 'w_awr_ong_tot_score',\n",
       " 'w_awr_ong_tot_weight_fraction',\n",
       " 'w_awr_smc_qal_cat',\n",
       " 'w_awr_smc_qal_label',\n",
       " 'w_awr_smc_qal_raw',\n",
       " 'w_awr_smc_qal_score',\n",
       " 'w_awr_smc_qal_weight_fraction',\n",
       " 'w_awr_smc_qan_cat',\n",
       " 'w_awr_smc_qan_label',\n",
       " 'w_awr_smc_qan_raw',\n",
       " 'w_awr_smc_qan_score',\n",
       " 'w_awr_smc_qan_weight_fraction',\n",
       " 'w_awr_smc_rrr_cat',\n",
       " 'w_awr_smc_rrr_label',\n",
       " 'w_awr_smc_rrr_raw',\n",
       " 'w_awr_smc_rrr_score',\n",
       " 'w_awr_smc_rrr_weight_fraction',\n",
       " 'w_awr_smc_tot_cat',\n",
       " 'w_awr_smc_tot_label',\n",
       " 'w_awr_smc_tot_raw',\n",
       " 'w_awr_smc_tot_score',\n",
       " 'w_awr_smc_tot_weight_fraction',\n",
       " 'w_awr_tex_qal_cat',\n",
       " 'w_awr_tex_qal_label',\n",
       " 'w_awr_tex_qal_raw',\n",
       " 'w_awr_tex_qal_score',\n",
       " 'w_awr_tex_qal_weight_fraction',\n",
       " 'w_awr_tex_qan_cat',\n",
       " 'w_awr_tex_qan_label',\n",
       " 'w_awr_tex_qan_raw',\n",
       " 'w_awr_tex_qan_score',\n",
       " 'w_awr_tex_qan_weight_fraction',\n",
       " 'w_awr_tex_rrr_cat',\n",
       " 'w_awr_tex_rrr_label',\n",
       " 'w_awr_tex_rrr_raw',\n",
       " 'w_awr_tex_rrr_score',\n",
       " 'w_awr_tex_rrr_weight_fraction',\n",
       " 'w_awr_tex_tot_cat',\n",
       " 'w_awr_tex_tot_label',\n",
       " 'w_awr_tex_tot_raw',\n",
       " 'w_awr_tex_tot_score',\n",
       " 'w_awr_tex_tot_weight_fraction',\n",
       " 'gid_1_y',\n",
       " 'pfaf_id_y',\n",
       " 'string_id_y']"
      ]
     },
     "execution_count": 66,
     "metadata": {},
     "output_type": "execute_result"
    }
   ],
   "source": [
    "columns2"
   ]
  },
  {
   "cell_type": "markdown",
   "metadata": {},
   "source": [
    "**Save tables**"
   ]
  },
  {
   "cell_type": "code",
   "execution_count": 63,
   "metadata": {},
   "outputs": [],
   "source": [
    "annual_pivot_all[columns1].to_csv('/Volumes/MacBook HD/data/aqueduct/data_source/AQ_2_water_risk_atlas/water_risk_indicators_annual_all_1.csv')"
   ]
  },
  {
   "cell_type": "code",
   "execution_count": 64,
   "metadata": {},
   "outputs": [],
   "source": [
    "annual_pivot_all[columns2].to_csv('/Volumes/MacBook HD/data/aqueduct/data_source/AQ_2_water_risk_atlas/water_risk_indicators_annual_all_2.csv')"
   ]
  },
  {
   "cell_type": "markdown",
   "metadata": {},
   "source": [
    "### Normalized"
   ]
  },
  {
   "cell_type": "code",
   "execution_count": 17,
   "metadata": {},
   "outputs": [],
   "source": [
    "annual_normalized = pd.read_csv('/Volumes/MacBook HD/data/aqueduct/data_source/AQ_2_water_risk_atlas/output_V04/annual/annual_normalized.csv')"
   ]
  },
  {
   "cell_type": "code",
   "execution_count": 18,
   "metadata": {},
   "outputs": [
    {
     "data": {
      "text/html": [
       "<div>\n",
       "<style scoped>\n",
       "    .dataframe tbody tr th:only-of-type {\n",
       "        vertical-align: middle;\n",
       "    }\n",
       "\n",
       "    .dataframe tbody tr th {\n",
       "        vertical-align: top;\n",
       "    }\n",
       "\n",
       "    .dataframe thead th {\n",
       "        text-align: right;\n",
       "    }\n",
       "</style>\n",
       "<table border=\"1\" class=\"dataframe\">\n",
       "  <thead>\n",
       "    <tr style=\"text-align: right;\">\n",
       "      <th></th>\n",
       "      <th>Unnamed: 0</th>\n",
       "      <th>cat</th>\n",
       "      <th>group_short</th>\n",
       "      <th>indicator</th>\n",
       "      <th>industry_short</th>\n",
       "      <th>label</th>\n",
       "      <th>raw</th>\n",
       "      <th>score</th>\n",
       "      <th>string_id</th>\n",
       "      <th>weight_fraction</th>\n",
       "      <th>weighted_score</th>\n",
       "    </tr>\n",
       "  </thead>\n",
       "  <tbody>\n",
       "    <tr>\n",
       "      <th>0</th>\n",
       "      <td>0</td>\n",
       "      <td>4.0</td>\n",
       "      <td>qan</td>\n",
       "      <td>bwd</td>\n",
       "      <td>che</td>\n",
       "      <td>Extremely High</td>\n",
       "      <td>0.987061</td>\n",
       "      <td>4.948243</td>\n",
       "      <td>111011-EGY.11_1-3365</td>\n",
       "      <td>0.07619</td>\n",
       "      <td>0.377009</td>\n",
       "    </tr>\n",
       "  </tbody>\n",
       "</table>\n",
       "</div>"
      ],
      "text/plain": [
       "   Unnamed: 0  cat group_short indicator industry_short           label  \\\n",
       "0           0  4.0         qan       bwd            che  Extremely High   \n",
       "\n",
       "        raw     score             string_id  weight_fraction  weighted_score  \n",
       "0  0.987061  4.948243  111011-EGY.11_1-3365          0.07619        0.377009  "
      ]
     },
     "execution_count": 18,
     "metadata": {},
     "output_type": "execute_result"
    }
   ],
   "source": [
    "annual_normalized.head(1)"
   ]
  },
  {
   "cell_type": "code",
   "execution_count": 19,
   "metadata": {},
   "outputs": [
    {
     "data": {
      "text/html": [
       "<div>\n",
       "<style scoped>\n",
       "    .dataframe tbody tr th:only-of-type {\n",
       "        vertical-align: middle;\n",
       "    }\n",
       "\n",
       "    .dataframe tbody tr th {\n",
       "        vertical-align: top;\n",
       "    }\n",
       "\n",
       "    .dataframe thead th {\n",
       "        text-align: right;\n",
       "    }\n",
       "</style>\n",
       "<table border=\"1\" class=\"dataframe\">\n",
       "  <thead>\n",
       "    <tr style=\"text-align: right;\">\n",
       "      <th></th>\n",
       "      <th>group_short</th>\n",
       "      <th>indicator</th>\n",
       "      <th>score</th>\n",
       "      <th>string_id</th>\n",
       "    </tr>\n",
       "  </thead>\n",
       "  <tbody>\n",
       "    <tr>\n",
       "      <th>0</th>\n",
       "      <td>qan</td>\n",
       "      <td>bwd</td>\n",
       "      <td>4.948243</td>\n",
       "      <td>111011-EGY.11_1-3365</td>\n",
       "    </tr>\n",
       "  </tbody>\n",
       "</table>\n",
       "</div>"
      ],
      "text/plain": [
       "  group_short indicator     score             string_id\n",
       "0         qan       bwd  4.948243  111011-EGY.11_1-3365"
      ]
     },
     "execution_count": 19,
     "metadata": {},
     "output_type": "execute_result"
    }
   ],
   "source": [
    "annual_normalized.drop(columns=['Unnamed: 0','cat','industry_short', 'label', 'raw', 'weight_fraction', 'weighted_score'], inplace=True)\n",
    "annual_normalized.head(1)"
   ]
  },
  {
   "cell_type": "markdown",
   "metadata": {},
   "source": [
    "**Add aq30_id**"
   ]
  },
  {
   "cell_type": "code",
   "execution_count": 23,
   "metadata": {},
   "outputs": [],
   "source": [
    "df_aq30 = gpd.read_file('/Volumes/MacBook HD/data/aqueduct/data_source/AQ_2_water_risk_atlas/Y2018M12D06_RH_Master_Shape_V01/output_V02/Y2018M12D06_RH_Master_Shape_V01.shp')"
   ]
  },
  {
   "cell_type": "code",
   "execution_count": 26,
   "metadata": {},
   "outputs": [
    {
     "data": {
      "text/html": [
       "<div>\n",
       "<style scoped>\n",
       "    .dataframe tbody tr th:only-of-type {\n",
       "        vertical-align: middle;\n",
       "    }\n",
       "\n",
       "    .dataframe tbody tr th {\n",
       "        vertical-align: top;\n",
       "    }\n",
       "\n",
       "    .dataframe thead th {\n",
       "        text-align: right;\n",
       "    }\n",
       "</style>\n",
       "<table border=\"1\" class=\"dataframe\">\n",
       "  <thead>\n",
       "    <tr style=\"text-align: right;\">\n",
       "      <th></th>\n",
       "      <th>aq30_id</th>\n",
       "      <th>string_id</th>\n",
       "    </tr>\n",
       "  </thead>\n",
       "  <tbody>\n",
       "    <tr>\n",
       "      <th>0</th>\n",
       "      <td>0</td>\n",
       "      <td>111011-EGY.11_1-3365</td>\n",
       "    </tr>\n",
       "  </tbody>\n",
       "</table>\n",
       "</div>"
      ],
      "text/plain": [
       "   aq30_id             string_id\n",
       "0        0  111011-EGY.11_1-3365"
      ]
     },
     "execution_count": 26,
     "metadata": {},
     "output_type": "execute_result"
    }
   ],
   "source": [
    "df_aq30.drop(columns=['aqid', 'gid_1', 'pfaf_id', 'type', 'geometry'], inplace=True)\n",
    "df_aq30.head(1)"
   ]
  },
  {
   "cell_type": "code",
   "execution_count": 27,
   "metadata": {},
   "outputs": [
    {
     "data": {
      "text/plain": [
       "(68511, 2)"
      ]
     },
     "execution_count": 27,
     "metadata": {},
     "output_type": "execute_result"
    }
   ],
   "source": [
    "df_aq30.shape"
   ]
  },
  {
   "cell_type": "code",
   "execution_count": 28,
   "metadata": {},
   "outputs": [
    {
     "data": {
      "text/html": [
       "<div>\n",
       "<style scoped>\n",
       "    .dataframe tbody tr th:only-of-type {\n",
       "        vertical-align: middle;\n",
       "    }\n",
       "\n",
       "    .dataframe tbody tr th {\n",
       "        vertical-align: top;\n",
       "    }\n",
       "\n",
       "    .dataframe thead th {\n",
       "        text-align: right;\n",
       "    }\n",
       "</style>\n",
       "<table border=\"1\" class=\"dataframe\">\n",
       "  <thead>\n",
       "    <tr style=\"text-align: right;\">\n",
       "      <th></th>\n",
       "      <th>group_short</th>\n",
       "      <th>indicator</th>\n",
       "      <th>score</th>\n",
       "      <th>string_id</th>\n",
       "      <th>aq30_id</th>\n",
       "    </tr>\n",
       "  </thead>\n",
       "  <tbody>\n",
       "    <tr>\n",
       "      <th>0</th>\n",
       "      <td>qan</td>\n",
       "      <td>bwd</td>\n",
       "      <td>4.948243</td>\n",
       "      <td>111011-EGY.11_1-3365</td>\n",
       "      <td>0</td>\n",
       "    </tr>\n",
       "  </tbody>\n",
       "</table>\n",
       "</div>"
      ],
      "text/plain": [
       "  group_short indicator     score             string_id  aq30_id\n",
       "0         qan       bwd  4.948243  111011-EGY.11_1-3365        0"
      ]
     },
     "execution_count": 28,
     "metadata": {},
     "output_type": "execute_result"
    }
   ],
   "source": [
    "df_all = pd.merge(left=annual_normalized,\n",
    "                right=df_aq30,\n",
    "                on = \"string_id\",\n",
    "                how = \"left\")\n",
    "#df_all.drop(columns='string_id', inplace=True)\n",
    "df_all.sort_values('aq30_id', inplace=True)\n",
    "df_all.head(1)"
   ]
  },
  {
   "cell_type": "markdown",
   "metadata": {},
   "source": [
    "**Drop rows where score is NaN**"
   ]
  },
  {
   "cell_type": "code",
   "execution_count": 29,
   "metadata": {},
   "outputs": [],
   "source": [
    "df_all.dropna(subset=['score'], inplace=True)"
   ]
  },
  {
   "cell_type": "code",
   "execution_count": 33,
   "metadata": {},
   "outputs": [
    {
     "data": {
      "text/plain": [
       "(9968327, 5)"
      ]
     },
     "execution_count": 33,
     "metadata": {},
     "output_type": "execute_result"
    }
   ],
   "source": [
    "df_all.shape"
   ]
  },
  {
   "cell_type": "code",
   "execution_count": 31,
   "metadata": {},
   "outputs": [
    {
     "data": {
      "text/html": [
       "<div>\n",
       "<style scoped>\n",
       "    .dataframe tbody tr th:only-of-type {\n",
       "        vertical-align: middle;\n",
       "    }\n",
       "\n",
       "    .dataframe tbody tr th {\n",
       "        vertical-align: top;\n",
       "    }\n",
       "\n",
       "    .dataframe thead th {\n",
       "        text-align: right;\n",
       "    }\n",
       "</style>\n",
       "<table border=\"1\" class=\"dataframe\">\n",
       "  <thead>\n",
       "    <tr style=\"text-align: right;\">\n",
       "      <th></th>\n",
       "      <th>group_short</th>\n",
       "      <th>indicator</th>\n",
       "      <th>score</th>\n",
       "      <th>string_id</th>\n",
       "      <th>aq30_id</th>\n",
       "    </tr>\n",
       "  </thead>\n",
       "  <tbody>\n",
       "    <tr>\n",
       "      <th>0</th>\n",
       "      <td>qan</td>\n",
       "      <td>bwd</td>\n",
       "      <td>4.948243</td>\n",
       "      <td>111011-EGY.11_1-3365</td>\n",
       "      <td>0</td>\n",
       "    </tr>\n",
       "    <tr>\n",
       "      <th>109</th>\n",
       "      <td>rrr</td>\n",
       "      <td>usa</td>\n",
       "      <td>1.019067</td>\n",
       "      <td>111011-EGY.11_1-3365</td>\n",
       "      <td>0</td>\n",
       "    </tr>\n",
       "    <tr>\n",
       "      <th>120</th>\n",
       "      <td>rrr</td>\n",
       "      <td>rri</td>\n",
       "      <td>2.800000</td>\n",
       "      <td>111011-EGY.11_1-3365</td>\n",
       "      <td>0</td>\n",
       "    </tr>\n",
       "    <tr>\n",
       "      <th>121</th>\n",
       "      <td>rrr</td>\n",
       "      <td>rri</td>\n",
       "      <td>2.800000</td>\n",
       "      <td>111011-EGY.11_1-3365</td>\n",
       "      <td>0</td>\n",
       "    </tr>\n",
       "    <tr>\n",
       "      <th>122</th>\n",
       "      <td>rrr</td>\n",
       "      <td>rri</td>\n",
       "      <td>2.800000</td>\n",
       "      <td>111011-EGY.11_1-3365</td>\n",
       "      <td>0</td>\n",
       "    </tr>\n",
       "  </tbody>\n",
       "</table>\n",
       "</div>"
      ],
      "text/plain": [
       "    group_short indicator     score             string_id  aq30_id\n",
       "0           qan       bwd  4.948243  111011-EGY.11_1-3365        0\n",
       "109         rrr       usa  1.019067  111011-EGY.11_1-3365        0\n",
       "120         rrr       rri  2.800000  111011-EGY.11_1-3365        0\n",
       "121         rrr       rri  2.800000  111011-EGY.11_1-3365        0\n",
       "122         rrr       rri  2.800000  111011-EGY.11_1-3365        0"
      ]
     },
     "execution_count": 31,
     "metadata": {},
     "output_type": "execute_result"
    }
   ],
   "source": [
    "df_all.head()"
   ]
  },
  {
   "cell_type": "code",
   "execution_count": 34,
   "metadata": {},
   "outputs": [],
   "source": [
    "df_all.drop_duplicates(subset=['group_short','indicator', 'score', 'string_id', 'aq30_id'], inplace=True)"
   ]
  },
  {
   "cell_type": "code",
   "execution_count": 35,
   "metadata": {},
   "outputs": [
    {
     "data": {
      "text/plain": [
       "(3002974, 5)"
      ]
     },
     "execution_count": 35,
     "metadata": {},
     "output_type": "execute_result"
    }
   ],
   "source": [
    "df_all.shape"
   ]
  },
  {
   "cell_type": "markdown",
   "metadata": {},
   "source": [
    "**Save table**"
   ]
  },
  {
   "cell_type": "code",
   "execution_count": 36,
   "metadata": {},
   "outputs": [],
   "source": [
    "df_all.to_csv('/Users/ikersanchez/Vizzuality/PROIEKTUAK/Aqueduct/work/data/AQ_2_water_risk_atlas/water_risk_indicators_normalized.csv')"
   ]
  },
  {
   "cell_type": "markdown",
   "metadata": {},
   "source": [
    "## Monthly data"
   ]
  },
  {
   "cell_type": "code",
   "execution_count": 54,
   "metadata": {},
   "outputs": [],
   "source": [
    "monthly_bws = pd.read_csv('/Users/ikersanchez/Vizzuality/PROIEKTUAK/Aqueduct/work/data/AQ_2_water_risk_atlas/output_V01/monthly/monthly_bws.csv')\n",
    "monthly_bwd = pd.read_csv('/Users/ikersanchez/Vizzuality/PROIEKTUAK/Aqueduct/work/data/AQ_2_water_risk_atlas/output_V01/monthly/monthly_bwd.csv')\n",
    "monthly_iav = pd.read_csv('/Users/ikersanchez/Vizzuality/PROIEKTUAK/Aqueduct/work/data/AQ_2_water_risk_atlas/output_V01/monthly/monthly_iav.csv')"
   ]
  },
  {
   "cell_type": "code",
   "execution_count": 55,
   "metadata": {},
   "outputs": [
    {
     "data": {
      "text/html": [
       "<div>\n",
       "<style scoped>\n",
       "    .dataframe tbody tr th:only-of-type {\n",
       "        vertical-align: middle;\n",
       "    }\n",
       "\n",
       "    .dataframe tbody tr th {\n",
       "        vertical-align: top;\n",
       "    }\n",
       "\n",
       "    .dataframe thead th {\n",
       "        text-align: right;\n",
       "    }\n",
       "</style>\n",
       "<table border=\"1\" class=\"dataframe\">\n",
       "  <thead>\n",
       "    <tr style=\"text-align: right;\">\n",
       "      <th></th>\n",
       "      <th>Unnamed: 0</th>\n",
       "      <th>pfaf_id</th>\n",
       "      <th>temporal_resolution</th>\n",
       "      <th>year</th>\n",
       "      <th>month</th>\n",
       "      <th>delta_id</th>\n",
       "      <th>raw</th>\n",
       "      <th>score</th>\n",
       "      <th>cat</th>\n",
       "      <th>label</th>\n",
       "    </tr>\n",
       "  </thead>\n",
       "  <tbody>\n",
       "    <tr>\n",
       "      <th>0</th>\n",
       "      <td>0</td>\n",
       "      <td>913430</td>\n",
       "      <td>month</td>\n",
       "      <td>2014</td>\n",
       "      <td>1</td>\n",
       "      <td>-1</td>\n",
       "      <td>NaN</td>\n",
       "      <td>-9999.0</td>\n",
       "      <td>-9999.0</td>\n",
       "      <td>NoData</td>\n",
       "    </tr>\n",
       "    <tr>\n",
       "      <th>1</th>\n",
       "      <td>1</td>\n",
       "      <td>913430</td>\n",
       "      <td>month</td>\n",
       "      <td>2014</td>\n",
       "      <td>2</td>\n",
       "      <td>-1</td>\n",
       "      <td>NaN</td>\n",
       "      <td>-9999.0</td>\n",
       "      <td>-9999.0</td>\n",
       "      <td>NoData</td>\n",
       "    </tr>\n",
       "    <tr>\n",
       "      <th>2</th>\n",
       "      <td>2</td>\n",
       "      <td>913430</td>\n",
       "      <td>month</td>\n",
       "      <td>2014</td>\n",
       "      <td>3</td>\n",
       "      <td>-1</td>\n",
       "      <td>NaN</td>\n",
       "      <td>-9999.0</td>\n",
       "      <td>-9999.0</td>\n",
       "      <td>NoData</td>\n",
       "    </tr>\n",
       "    <tr>\n",
       "      <th>3</th>\n",
       "      <td>3</td>\n",
       "      <td>913430</td>\n",
       "      <td>month</td>\n",
       "      <td>2014</td>\n",
       "      <td>4</td>\n",
       "      <td>-1</td>\n",
       "      <td>NaN</td>\n",
       "      <td>-9999.0</td>\n",
       "      <td>-9999.0</td>\n",
       "      <td>NoData</td>\n",
       "    </tr>\n",
       "    <tr>\n",
       "      <th>4</th>\n",
       "      <td>4</td>\n",
       "      <td>913430</td>\n",
       "      <td>month</td>\n",
       "      <td>2014</td>\n",
       "      <td>5</td>\n",
       "      <td>-1</td>\n",
       "      <td>NaN</td>\n",
       "      <td>-9999.0</td>\n",
       "      <td>-9999.0</td>\n",
       "      <td>NoData</td>\n",
       "    </tr>\n",
       "  </tbody>\n",
       "</table>\n",
       "</div>"
      ],
      "text/plain": [
       "   Unnamed: 0  pfaf_id temporal_resolution  year  month  delta_id  raw  \\\n",
       "0           0   913430               month  2014      1        -1  NaN   \n",
       "1           1   913430               month  2014      2        -1  NaN   \n",
       "2           2   913430               month  2014      3        -1  NaN   \n",
       "3           3   913430               month  2014      4        -1  NaN   \n",
       "4           4   913430               month  2014      5        -1  NaN   \n",
       "\n",
       "    score     cat   label  \n",
       "0 -9999.0 -9999.0  NoData  \n",
       "1 -9999.0 -9999.0  NoData  \n",
       "2 -9999.0 -9999.0  NoData  \n",
       "3 -9999.0 -9999.0  NoData  \n",
       "4 -9999.0 -9999.0  NoData  "
      ]
     },
     "execution_count": 55,
     "metadata": {},
     "output_type": "execute_result"
    }
   ],
   "source": [
    "monthly_bws.head()"
   ]
  },
  {
   "cell_type": "markdown",
   "metadata": {},
   "source": [
    "**Clean table**"
   ]
  },
  {
   "cell_type": "code",
   "execution_count": 56,
   "metadata": {},
   "outputs": [],
   "source": [
    "monthly_bws = monthly_bws[['pfaf_id', 'year', 'month', 'cat', 'label', 'raw', 'score']]\n",
    "monthly_bwd = monthly_bwd[['pfaf_id', 'year', 'month', 'cat', 'label', 'raw', 'score']]\n",
    "monthly_iav = monthly_iav[['pfaf_id', 'year', 'month', 'cat', 'label', 'raw', 'score']]"
   ]
  },
  {
   "cell_type": "code",
   "execution_count": 57,
   "metadata": {},
   "outputs": [],
   "source": [
    "monthly_bws.rename(columns={'cat': 'bws_cat', 'label': 'bws_label', 'raw': 'bws_raw', 'score': 'bws_score'}, inplace= True)\n",
    "monthly_bwd.rename(columns={'cat': 'bwd_cat', 'label': 'bwd_label', 'raw': 'bwd_raw', 'score': 'bwd_score'}, inplace= True)\n",
    "monthly_iav.rename(columns={'cat': 'iav_cat', 'label': 'iav_label', 'raw': 'iav_raw', 'score': 'iav_score'}, inplace= True)"
   ]
  },
  {
   "cell_type": "code",
   "execution_count": 58,
   "metadata": {},
   "outputs": [],
   "source": [
    "monthly = monthly_bws.merge(monthly_bwd, on=['pfaf_id', 'year', 'month'], how='left')\n",
    "monthly = monthly.merge(monthly_iav, on=['pfaf_id', 'year', 'month'], how='left')"
   ]
  },
  {
   "cell_type": "code",
   "execution_count": 59,
   "metadata": {},
   "outputs": [
    {
     "data": {
      "text/html": [
       "<div>\n",
       "<style scoped>\n",
       "    .dataframe tbody tr th:only-of-type {\n",
       "        vertical-align: middle;\n",
       "    }\n",
       "\n",
       "    .dataframe tbody tr th {\n",
       "        vertical-align: top;\n",
       "    }\n",
       "\n",
       "    .dataframe thead th {\n",
       "        text-align: right;\n",
       "    }\n",
       "</style>\n",
       "<table border=\"1\" class=\"dataframe\">\n",
       "  <thead>\n",
       "    <tr style=\"text-align: right;\">\n",
       "      <th></th>\n",
       "      <th>pfaf_id</th>\n",
       "      <th>year</th>\n",
       "      <th>month</th>\n",
       "      <th>bws_cat</th>\n",
       "      <th>bws_label</th>\n",
       "      <th>bws_raw</th>\n",
       "      <th>bws_score</th>\n",
       "      <th>bwd_cat</th>\n",
       "      <th>bwd_label</th>\n",
       "      <th>bwd_raw</th>\n",
       "      <th>bwd_score</th>\n",
       "      <th>iav_cat</th>\n",
       "      <th>iav_label</th>\n",
       "      <th>iav_raw</th>\n",
       "      <th>iav_score</th>\n",
       "    </tr>\n",
       "  </thead>\n",
       "  <tbody>\n",
       "    <tr>\n",
       "      <th>100100</th>\n",
       "      <td>312414</td>\n",
       "      <td>2014</td>\n",
       "      <td>9</td>\n",
       "      <td>0.0</td>\n",
       "      <td>Low</td>\n",
       "      <td>0.004141</td>\n",
       "      <td>0.0</td>\n",
       "      <td>0.0</td>\n",
       "      <td>Low</td>\n",
       "      <td>0.000904</td>\n",
       "      <td>0.018082</td>\n",
       "      <td>0.0</td>\n",
       "      <td>Low</td>\n",
       "      <td>0.238772</td>\n",
       "      <td>0.955087</td>\n",
       "    </tr>\n",
       "    <tr>\n",
       "      <th>100101</th>\n",
       "      <td>312414</td>\n",
       "      <td>2014</td>\n",
       "      <td>12</td>\n",
       "      <td>0.0</td>\n",
       "      <td>Low</td>\n",
       "      <td>0.007512</td>\n",
       "      <td>0.0</td>\n",
       "      <td>0.0</td>\n",
       "      <td>Low</td>\n",
       "      <td>0.001670</td>\n",
       "      <td>0.033394</td>\n",
       "      <td>1.0</td>\n",
       "      <td>Low - Medium</td>\n",
       "      <td>0.374989</td>\n",
       "      <td>1.499956</td>\n",
       "    </tr>\n",
       "    <tr>\n",
       "      <th>100102</th>\n",
       "      <td>312414</td>\n",
       "      <td>2014</td>\n",
       "      <td>2</td>\n",
       "      <td>0.0</td>\n",
       "      <td>Low</td>\n",
       "      <td>0.018577</td>\n",
       "      <td>0.0</td>\n",
       "      <td>0.0</td>\n",
       "      <td>Low</td>\n",
       "      <td>0.004148</td>\n",
       "      <td>0.082956</td>\n",
       "      <td>1.0</td>\n",
       "      <td>Low - Medium</td>\n",
       "      <td>0.382703</td>\n",
       "      <td>1.530813</td>\n",
       "    </tr>\n",
       "    <tr>\n",
       "      <th>100103</th>\n",
       "      <td>312414</td>\n",
       "      <td>2014</td>\n",
       "      <td>5</td>\n",
       "      <td>0.0</td>\n",
       "      <td>Low</td>\n",
       "      <td>0.001603</td>\n",
       "      <td>0.0</td>\n",
       "      <td>0.0</td>\n",
       "      <td>Low</td>\n",
       "      <td>0.000358</td>\n",
       "      <td>0.007162</td>\n",
       "      <td>1.0</td>\n",
       "      <td>Low - Medium</td>\n",
       "      <td>0.399210</td>\n",
       "      <td>1.596841</td>\n",
       "    </tr>\n",
       "    <tr>\n",
       "      <th>100104</th>\n",
       "      <td>312414</td>\n",
       "      <td>2014</td>\n",
       "      <td>4</td>\n",
       "      <td>0.0</td>\n",
       "      <td>Low</td>\n",
       "      <td>0.005071</td>\n",
       "      <td>0.0</td>\n",
       "      <td>0.0</td>\n",
       "      <td>Low</td>\n",
       "      <td>0.001138</td>\n",
       "      <td>0.022768</td>\n",
       "      <td>4.0</td>\n",
       "      <td>Extremely High</td>\n",
       "      <td>1.043020</td>\n",
       "      <td>4.172082</td>\n",
       "    </tr>\n",
       "  </tbody>\n",
       "</table>\n",
       "</div>"
      ],
      "text/plain": [
       "        pfaf_id  year  month  bws_cat bws_label   bws_raw  bws_score  bwd_cat  \\\n",
       "100100   312414  2014      9      0.0       Low  0.004141        0.0      0.0   \n",
       "100101   312414  2014     12      0.0       Low  0.007512        0.0      0.0   \n",
       "100102   312414  2014      2      0.0       Low  0.018577        0.0      0.0   \n",
       "100103   312414  2014      5      0.0       Low  0.001603        0.0      0.0   \n",
       "100104   312414  2014      4      0.0       Low  0.005071        0.0      0.0   \n",
       "\n",
       "       bwd_label   bwd_raw  bwd_score  iav_cat       iav_label   iav_raw  \\\n",
       "100100       Low  0.000904   0.018082      0.0             Low  0.238772   \n",
       "100101       Low  0.001670   0.033394      1.0    Low - Medium  0.374989   \n",
       "100102       Low  0.004148   0.082956      1.0    Low - Medium  0.382703   \n",
       "100103       Low  0.000358   0.007162      1.0    Low - Medium  0.399210   \n",
       "100104       Low  0.001138   0.022768      4.0  Extremely High  1.043020   \n",
       "\n",
       "        iav_score  \n",
       "100100   0.955087  \n",
       "100101   1.499956  \n",
       "100102   1.530813  \n",
       "100103   1.596841  \n",
       "100104   4.172082  "
      ]
     },
     "execution_count": 59,
     "metadata": {},
     "output_type": "execute_result"
    }
   ],
   "source": [
    "monthly[100100:100105]"
   ]
  },
  {
   "cell_type": "markdown",
   "metadata": {},
   "source": [
    "**Save tables**"
   ]
  },
  {
   "cell_type": "code",
   "execution_count": 60,
   "metadata": {},
   "outputs": [],
   "source": [
    "monthly.to_csv('/Users/ikersanchez/Vizzuality/PROIEKTUAK/Aqueduct/work/data/AQ_2_water_risk_atlas/water_risk_indicators_monthly.csv')"
   ]
  },
  {
   "cell_type": "code",
   "execution_count": null,
   "metadata": {},
   "outputs": [],
   "source": [
    "industry_weights = pd.read_csv('/Users/ikersanchez/Vizzuality/PROIEKTUAK/Aqueduct/work/data/AQ_2_water_risk_atlas/output_V01/industry_weights/industry_weights.csv')"
   ]
  },
  {
   "cell_type": "code",
   "execution_count": null,
   "metadata": {},
   "outputs": [],
   "source": [
    "industry_weights.drop(labels=['Unnamed: 0', 'id'], axis=1, inplace=True)"
   ]
  },
  {
   "cell_type": "code",
   "execution_count": null,
   "metadata": {},
   "outputs": [],
   "source": [
    "industry_weights.head()"
   ]
  },
  {
   "cell_type": "markdown",
   "metadata": {},
   "source": [
    "**Save table**"
   ]
  },
  {
   "cell_type": "code",
   "execution_count": null,
   "metadata": {},
   "outputs": [],
   "source": [
    "industry_weights.to_csv('/Users/ikersanchez/Vizzuality/PROIEKTUAK/Aqueduct/work/data/AQ_2_water_risk_atlas/water_risk_industry_weights.csv')"
   ]
  },
  {
   "cell_type": "markdown",
   "metadata": {},
   "source": [
    "## Future projections"
   ]
  },
  {
   "cell_type": "code",
   "execution_count": 71,
   "metadata": {},
   "outputs": [],
   "source": [
    "projections = gpd.read_file('/Volumes/MacBook HD/data/aqueduct/data_source/aqueduct/v2/projections/aqueduct_projections_20150309.shp')"
   ]
  },
  {
   "cell_type": "code",
   "execution_count": 74,
   "metadata": {},
   "outputs": [
    {
     "data": {
      "text/html": [
       "<div>\n",
       "<style scoped>\n",
       "    .dataframe tbody tr th:only-of-type {\n",
       "        vertical-align: middle;\n",
       "    }\n",
       "\n",
       "    .dataframe tbody tr th {\n",
       "        vertical-align: top;\n",
       "    }\n",
       "\n",
       "    .dataframe thead th {\n",
       "        text-align: right;\n",
       "    }\n",
       "</style>\n",
       "<table border=\"1\" class=\"dataframe\">\n",
       "  <thead>\n",
       "    <tr style=\"text-align: right;\">\n",
       "      <th></th>\n",
       "      <th>BasinID</th>\n",
       "      <th>dwnBasinID</th>\n",
       "      <th>Area_km2</th>\n",
       "      <th>Shape_Leng</th>\n",
       "      <th>ws2024tr</th>\n",
       "      <th>ws2024tl</th>\n",
       "      <th>ws3024tr</th>\n",
       "      <th>ws3024tl</th>\n",
       "      <th>ws4024tr</th>\n",
       "      <th>ws4024tl</th>\n",
       "      <th>...</th>\n",
       "      <th>sv4028ul</th>\n",
       "      <th>sv2038ur</th>\n",
       "      <th>sv2038ul</th>\n",
       "      <th>sv3038ur</th>\n",
       "      <th>sv3038ul</th>\n",
       "      <th>sv4038ur</th>\n",
       "      <th>sv4038ul</th>\n",
       "      <th>Shape_Le_1</th>\n",
       "      <th>Shape_Area</th>\n",
       "      <th>geometry</th>\n",
       "    </tr>\n",
       "  </thead>\n",
       "  <tbody>\n",
       "    <tr>\n",
       "      <th>0</th>\n",
       "      <td>1</td>\n",
       "      <td>0</td>\n",
       "      <td>2085</td>\n",
       "      <td>0.0</td>\n",
       "      <td>0.860153</td>\n",
       "      <td>Extremely high (&gt;80%)</td>\n",
       "      <td>1.058204</td>\n",
       "      <td>Extremely high (&gt;80%)</td>\n",
       "      <td>1.098187</td>\n",
       "      <td>Extremely high (&gt;80%)</td>\n",
       "      <td>...</td>\n",
       "      <td>High uncertainty</td>\n",
       "      <td>0.276085</td>\n",
       "      <td>High uncertainty</td>\n",
       "      <td>0.303592</td>\n",
       "      <td>High uncertainty</td>\n",
       "      <td>0.304096</td>\n",
       "      <td>High uncertainty</td>\n",
       "      <td>4.197305</td>\n",
       "      <td>0.196370</td>\n",
       "      <td>POLYGON ((25.95064506611698 30.98011437727672,...</td>\n",
       "    </tr>\n",
       "    <tr>\n",
       "      <th>1</th>\n",
       "      <td>2</td>\n",
       "      <td>0</td>\n",
       "      <td>2373</td>\n",
       "      <td>0.0</td>\n",
       "      <td>3.257008</td>\n",
       "      <td>Extremely high (&gt;80%)</td>\n",
       "      <td>3.086548</td>\n",
       "      <td>Extremely high (&gt;80%)</td>\n",
       "      <td>2.947359</td>\n",
       "      <td>Extremely high (&gt;80%)</td>\n",
       "      <td>...</td>\n",
       "      <td>High uncertainty</td>\n",
       "      <td>0.234488</td>\n",
       "      <td>High uncertainty</td>\n",
       "      <td>0.253703</td>\n",
       "      <td>High uncertainty</td>\n",
       "      <td>0.264467</td>\n",
       "      <td>High uncertainty</td>\n",
       "      <td>3.597165</td>\n",
       "      <td>0.223965</td>\n",
       "      <td>POLYGON ((25.23877293911988 31.29694755848311,...</td>\n",
       "    </tr>\n",
       "    <tr>\n",
       "      <th>2</th>\n",
       "      <td>3</td>\n",
       "      <td>0</td>\n",
       "      <td>1509</td>\n",
       "      <td>0.0</td>\n",
       "      <td>2.595165</td>\n",
       "      <td>Extremely high (&gt;80%)</td>\n",
       "      <td>2.786326</td>\n",
       "      <td>Extremely high (&gt;80%)</td>\n",
       "      <td>2.517074</td>\n",
       "      <td>Extremely high (&gt;80%)</td>\n",
       "      <td>...</td>\n",
       "      <td>High uncertainty</td>\n",
       "      <td>0.276976</td>\n",
       "      <td>High uncertainty</td>\n",
       "      <td>0.304777</td>\n",
       "      <td>High uncertainty</td>\n",
       "      <td>0.304962</td>\n",
       "      <td>High uncertainty</td>\n",
       "      <td>2.478102</td>\n",
       "      <td>0.142297</td>\n",
       "      <td>(POLYGON ((26.94685809182755 31.21755797312204...</td>\n",
       "    </tr>\n",
       "    <tr>\n",
       "      <th>3</th>\n",
       "      <td>4</td>\n",
       "      <td>0</td>\n",
       "      <td>4113</td>\n",
       "      <td>0.0</td>\n",
       "      <td>1.327963</td>\n",
       "      <td>Extremely high (&gt;80%)</td>\n",
       "      <td>1.492594</td>\n",
       "      <td>Extremely high (&gt;80%)</td>\n",
       "      <td>1.520199</td>\n",
       "      <td>Extremely high (&gt;80%)</td>\n",
       "      <td>...</td>\n",
       "      <td>High uncertainty</td>\n",
       "      <td>0.242970</td>\n",
       "      <td>High uncertainty</td>\n",
       "      <td>0.263880</td>\n",
       "      <td>High uncertainty</td>\n",
       "      <td>0.255351</td>\n",
       "      <td>High uncertainty</td>\n",
       "      <td>4.621268</td>\n",
       "      <td>0.386641</td>\n",
       "      <td>POLYGON ((27.6227709095499 30.5666504388667, 2...</td>\n",
       "    </tr>\n",
       "    <tr>\n",
       "      <th>4</th>\n",
       "      <td>5</td>\n",
       "      <td>0</td>\n",
       "      <td>4454</td>\n",
       "      <td>0.0</td>\n",
       "      <td>0.418429</td>\n",
       "      <td>Arid and low water use</td>\n",
       "      <td>0.684660</td>\n",
       "      <td>Arid and low water use</td>\n",
       "      <td>0.943055</td>\n",
       "      <td>Arid and low water use</td>\n",
       "      <td>...</td>\n",
       "      <td>High uncertainty</td>\n",
       "      <td>0.279182</td>\n",
       "      <td>High uncertainty</td>\n",
       "      <td>0.294587</td>\n",
       "      <td>High uncertainty</td>\n",
       "      <td>0.287821</td>\n",
       "      <td>High uncertainty</td>\n",
       "      <td>4.833261</td>\n",
       "      <td>0.417697</td>\n",
       "      <td>POLYGON ((27.6227709095499 30.5666504388667, 2...</td>\n",
       "    </tr>\n",
       "  </tbody>\n",
       "</table>\n",
       "<p>5 rows × 223 columns</p>\n",
       "</div>"
      ],
      "text/plain": [
       "   BasinID  dwnBasinID  Area_km2  Shape_Leng  ws2024tr  \\\n",
       "0        1           0      2085         0.0  0.860153   \n",
       "1        2           0      2373         0.0  3.257008   \n",
       "2        3           0      1509         0.0  2.595165   \n",
       "3        4           0      4113         0.0  1.327963   \n",
       "4        5           0      4454         0.0  0.418429   \n",
       "\n",
       "                 ws2024tl  ws3024tr                ws3024tl  ws4024tr  \\\n",
       "0   Extremely high (>80%)  1.058204   Extremely high (>80%)  1.098187   \n",
       "1   Extremely high (>80%)  3.086548   Extremely high (>80%)  2.947359   \n",
       "2   Extremely high (>80%)  2.786326   Extremely high (>80%)  2.517074   \n",
       "3   Extremely high (>80%)  1.492594   Extremely high (>80%)  1.520199   \n",
       "4  Arid and low water use  0.684660  Arid and low water use  0.943055   \n",
       "\n",
       "                 ws4024tl                        ...                          \\\n",
       "0   Extremely high (>80%)                        ...                           \n",
       "1   Extremely high (>80%)                        ...                           \n",
       "2   Extremely high (>80%)                        ...                           \n",
       "3   Extremely high (>80%)                        ...                           \n",
       "4  Arid and low water use                        ...                           \n",
       "\n",
       "           sv4028ul  sv2038ur          sv2038ul  sv3038ur          sv3038ul  \\\n",
       "0  High uncertainty  0.276085  High uncertainty  0.303592  High uncertainty   \n",
       "1  High uncertainty  0.234488  High uncertainty  0.253703  High uncertainty   \n",
       "2  High uncertainty  0.276976  High uncertainty  0.304777  High uncertainty   \n",
       "3  High uncertainty  0.242970  High uncertainty  0.263880  High uncertainty   \n",
       "4  High uncertainty  0.279182  High uncertainty  0.294587  High uncertainty   \n",
       "\n",
       "   sv4038ur          sv4038ul Shape_Le_1  Shape_Area  \\\n",
       "0  0.304096  High uncertainty   4.197305    0.196370   \n",
       "1  0.264467  High uncertainty   3.597165    0.223965   \n",
       "2  0.304962  High uncertainty   2.478102    0.142297   \n",
       "3  0.255351  High uncertainty   4.621268    0.386641   \n",
       "4  0.287821  High uncertainty   4.833261    0.417697   \n",
       "\n",
       "                                            geometry  \n",
       "0  POLYGON ((25.95064506611698 30.98011437727672,...  \n",
       "1  POLYGON ((25.23877293911988 31.29694755848311,...  \n",
       "2  (POLYGON ((26.94685809182755 31.21755797312204...  \n",
       "3  POLYGON ((27.6227709095499 30.5666504388667, 2...  \n",
       "4  POLYGON ((27.6227709095499 30.5666504388667, 2...  \n",
       "\n",
       "[5 rows x 223 columns]"
      ]
     },
     "execution_count": 74,
     "metadata": {},
     "output_type": "execute_result"
    }
   ],
   "source": [
    "projections.head()"
   ]
  },
  {
   "cell_type": "code",
   "execution_count": 2,
   "metadata": {},
   "outputs": [],
   "source": [
    "projections = gpd.read_file('/Users/ikersanchez/Vizzuality/PROIEKTUAK/Aqueduct/work/data/aqueduct_projections_20150309_shp/aqueduct_projections_20150309.shp')"
   ]
  },
  {
   "cell_type": "markdown",
   "metadata": {},
   "source": [
    "**Table reconfiguration**"
   ]
  },
  {
   "cell_type": "code",
   "execution_count": null,
   "metadata": {},
   "outputs": [],
   "source": [
    "indicator_codes = {'ws': 'water_stress', 'sv': 'seasonal_variability', 'ut': 'water_demand', 'bt': 'water_supply'}\n",
    "year_codes = {'20': 2020, '30': 2030, '40': 2040}\n",
    "scenario_codes = {'24': 'optimistic', '28': 'business_as_usual', '38': 'pessimistic'}\n",
    "data_types = {'c': 'change_from_baseline', 't': 'future_value'}\n",
    "suffixes = {'l': 'label', 'r': 'value'}\n",
    "\n",
    "projections_vertical = pd.DataFrame(columns=['basinid', 'indicator', 'value', 'label', 'year', 'scenario', 'type'])\n",
    "\n",
    "nRows = projections.shape[0]\n",
    "basinid_col = list(projections['BasinID'])\n",
    "for indicator in indicator_codes.keys():\n",
    "    indicator_col = [indicator_codes[indicator]] * nRows\n",
    "    for year in year_codes.keys():\n",
    "        year_col = [year_codes[year]] * nRows\n",
    "        \n",
    "        for scenario in scenario_codes.keys():\n",
    "            scenario_col = [scenario_codes[scenario]] * nRows\n",
    "            \n",
    "            for type in data_types.keys():\n",
    "                type_col = [data_types[type]] * nRows\n",
    "                \n",
    "                label_col = list(projections[indicator+year+scenario+type+list(suffixes.keys())[0]])\n",
    "                value_col = list(projections[indicator+year+scenario+type+list(suffixes.keys())[1]])\n",
    "                \n",
    "                df = pd.DataFrame({'basinid': basinid_col, 'indicator': indicator_col, 'value': value_col, \n",
    "                                   'label': label_col, 'year': year_col, 'scenario': scenario_col, 'type': type_col})\n",
    "                \n",
    "                projections_vertical = pd.concat([projections_vertical, df])\n",
    "\n",
    "projections_vertical['basinid'] = projections_vertical['basinid'].astype(np.int)\n",
    "projections_vertical.head()"
   ]
  },
  {
   "cell_type": "code",
   "execution_count": null,
   "metadata": {},
   "outputs": [],
   "source": [
    "df[(df['indicator'] == 'water_supply') & (df['type'] == 'future_value')]['label'].unique()"
   ]
  },
  {
   "cell_type": "markdown",
   "metadata": {},
   "source": [
    "**Save table**"
   ]
  },
  {
   "cell_type": "code",
   "execution_count": null,
   "metadata": {},
   "outputs": [],
   "source": [
    "projections_vertical.to_csv('/Users/ikersanchez/Vizzuality/PROIEKTUAK/Aqueduct/work/data/AQ_2_water_risk_atlas/water_risk_indicators_projections.csv')"
   ]
  },
  {
   "cell_type": "code",
   "execution_count": null,
   "metadata": {},
   "outputs": [],
   "source": [
    "projections_vertical['label'].unique()"
   ]
  },
  {
   "cell_type": "code",
   "execution_count": null,
   "metadata": {},
   "outputs": [],
   "source": [
    "df = projections_vertical[(projections_vertical['indicator'] == 'water_stress') & (projections_vertical['type'] == 'change_from_baseline')]\n",
    "print(df['label'].unique())\n",
    "df = projections_vertical[(projections_vertical['indicator'] == 'water_stress') & (projections_vertical['type'] == 'future_value')]\n",
    "print(df['label'].unique())"
   ]
  },
  {
   "cell_type": "code",
   "execution_count": null,
   "metadata": {},
   "outputs": [],
   "source": [
    "df = projections_vertical[(projections_vertical['indicator'] == 'seasonal_variability') & (projections_vertical['type'] == 'change_from_baseline')]\n",
    "print(df['label'].unique())\n",
    "df = projections_vertical[(projections_vertical['indicator'] == 'seasonal_variability') & (projections_vertical['type'] == 'future_value')]\n",
    "print(df['label'].unique())"
   ]
  },
  {
   "cell_type": "code",
   "execution_count": null,
   "metadata": {},
   "outputs": [],
   "source": [
    "df = projections_vertical[(projections_vertical['indicator'] == 'water_demand') & (projections_vertical['type'] == 'change_from_baseline')]\n",
    "print(df['label'].unique())\n",
    "df = projections_vertical[(projections_vertical['indicator'] == 'water_demand') & (projections_vertical['type'] == 'future_value')]\n",
    "print(df['label'].unique())"
   ]
  },
  {
   "cell_type": "code",
   "execution_count": null,
   "metadata": {},
   "outputs": [],
   "source": [
    "df = projections_vertical[(projections_vertical['indicator'] == 'water_supply') & (projections_vertical['type'] == 'change_from_baseline')]\n",
    "print(df['label'].unique())\n",
    "df = projections_vertical[(projections_vertical['indicator'] == 'water_supply') & (projections_vertical['type'] == 'future_value')]\n",
    "print(df['label'].unique())"
   ]
  },
  {
   "cell_type": "markdown",
   "metadata": {},
   "source": [
    "## Custom weights table"
   ]
  },
  {
   "cell_type": "code",
   "execution_count": 3,
   "metadata": {},
   "outputs": [
    {
     "name": "stderr",
     "output_type": "stream",
     "text": [
      "/anaconda3/lib/python3.6/site-packages/IPython/core/interactiveshell.py:2728: DtypeWarning: Columns (11) have mixed types. Specify dtype option on import or set low_memory=False.\n",
      "  interactivity=interactivity, compiler=compiler, result=result)\n"
     ]
    }
   ],
   "source": [
    "df_master = pd.read_csv('/Users/ikersanchez/Vizzuality/PROIEKTUAK/Aqueduct/work/data/y2018m12d04_rh_master_merge_rawdata_gpd_v02_v05.csv')"
   ]
  },
  {
   "cell_type": "code",
   "execution_count": 4,
   "metadata": {},
   "outputs": [
    {
     "data": {
      "text/plain": [
       "(890643, 13)"
      ]
     },
     "execution_count": 4,
     "metadata": {},
     "output_type": "execute_result"
    }
   ],
   "source": [
    "df_master.shape"
   ]
  },
  {
   "cell_type": "code",
   "execution_count": 5,
   "metadata": {},
   "outputs": [
    {
     "data": {
      "text/html": [
       "<div>\n",
       "<style scoped>\n",
       "    .dataframe tbody tr th:only-of-type {\n",
       "        vertical-align: middle;\n",
       "    }\n",
       "\n",
       "    .dataframe tbody tr th {\n",
       "        vertical-align: top;\n",
       "    }\n",
       "\n",
       "    .dataframe thead th {\n",
       "        text-align: right;\n",
       "    }\n",
       "</style>\n",
       "<table border=\"1\" class=\"dataframe\">\n",
       "  <thead>\n",
       "    <tr style=\"text-align: right;\">\n",
       "      <th></th>\n",
       "      <th>aqid</th>\n",
       "      <th>cat</th>\n",
       "      <th>delta_id</th>\n",
       "      <th>gid_0</th>\n",
       "      <th>gid_1</th>\n",
       "      <th>indicator</th>\n",
       "      <th>label</th>\n",
       "      <th>pfaf_id</th>\n",
       "      <th>raw</th>\n",
       "      <th>score</th>\n",
       "      <th>string_id</th>\n",
       "      <th>temporal_resolution</th>\n",
       "      <th>year</th>\n",
       "    </tr>\n",
       "  </thead>\n",
       "  <tbody>\n",
       "    <tr>\n",
       "      <th>0</th>\n",
       "      <td>3365.0</td>\n",
       "      <td>0.0</td>\n",
       "      <td>-1.0</td>\n",
       "      <td>ERI</td>\n",
       "      <td>ERI.2_1</td>\n",
       "      <td>bwd</td>\n",
       "      <td>Low</td>\n",
       "      <td>111081.0</td>\n",
       "      <td>0.038672</td>\n",
       "      <td>0.773434</td>\n",
       "      <td>111081-ERI.2_1-3365</td>\n",
       "      <td>year</td>\n",
       "      <td>2014.0</td>\n",
       "    </tr>\n",
       "  </tbody>\n",
       "</table>\n",
       "</div>"
      ],
      "text/plain": [
       "     aqid  cat  delta_id gid_0    gid_1 indicator label   pfaf_id       raw  \\\n",
       "0  3365.0  0.0      -1.0   ERI  ERI.2_1       bwd   Low  111081.0  0.038672   \n",
       "\n",
       "      score            string_id temporal_resolution    year  \n",
       "0  0.773434  111081-ERI.2_1-3365                year  2014.0  "
      ]
     },
     "execution_count": 5,
     "metadata": {},
     "output_type": "execute_result"
    }
   ],
   "source": [
    "df_master.head(1)"
   ]
  },
  {
   "cell_type": "markdown",
   "metadata": {},
   "source": [
    "**Drop columns**"
   ]
  },
  {
   "cell_type": "code",
   "execution_count": 6,
   "metadata": {},
   "outputs": [
    {
     "data": {
      "text/html": [
       "<div>\n",
       "<style scoped>\n",
       "    .dataframe tbody tr th:only-of-type {\n",
       "        vertical-align: middle;\n",
       "    }\n",
       "\n",
       "    .dataframe tbody tr th {\n",
       "        vertical-align: top;\n",
       "    }\n",
       "\n",
       "    .dataframe thead th {\n",
       "        text-align: right;\n",
       "    }\n",
       "</style>\n",
       "<table border=\"1\" class=\"dataframe\">\n",
       "  <thead>\n",
       "    <tr style=\"text-align: right;\">\n",
       "      <th></th>\n",
       "      <th>indicator</th>\n",
       "      <th>score</th>\n",
       "      <th>string_id</th>\n",
       "    </tr>\n",
       "  </thead>\n",
       "  <tbody>\n",
       "    <tr>\n",
       "      <th>0</th>\n",
       "      <td>bwd</td>\n",
       "      <td>0.773434</td>\n",
       "      <td>111081-ERI.2_1-3365</td>\n",
       "    </tr>\n",
       "  </tbody>\n",
       "</table>\n",
       "</div>"
      ],
      "text/plain": [
       "  indicator     score            string_id\n",
       "0       bwd  0.773434  111081-ERI.2_1-3365"
      ]
     },
     "execution_count": 6,
     "metadata": {},
     "output_type": "execute_result"
    }
   ],
   "source": [
    "df_master.drop(columns=['aqid','cat','delta_id','gid_0','gid_1', 'label', 'pfaf_id', 'raw', 'temporal_resolution', 'year'], inplace=True)\n",
    "df_master.head(1)"
   ]
  },
  {
   "cell_type": "code",
   "execution_count": 7,
   "metadata": {},
   "outputs": [],
   "source": [
    "# certain GUs have invalid 'None' indicators. removing those\n",
    "# This happens when the id exists in the master shapefile but not in te indicator results.\n",
    "df_valid = df_master.loc[df_master[\"indicator\"].notnull()]"
   ]
  },
  {
   "cell_type": "code",
   "execution_count": 8,
   "metadata": {},
   "outputs": [
    {
     "data": {
      "text/plain": [
       "(809557, 3)"
      ]
     },
     "execution_count": 8,
     "metadata": {},
     "output_type": "execute_result"
    }
   ],
   "source": [
    "df_valid.shape"
   ]
  },
  {
   "cell_type": "markdown",
   "metadata": {},
   "source": [
    "**Add group name**"
   ]
  },
  {
   "cell_type": "code",
   "execution_count": 9,
   "metadata": {},
   "outputs": [],
   "source": [
    "df_weights = pd.read_csv('/Users/ikersanchez/Vizzuality/PROIEKTUAK/Aqueduct/work/data/AQ_2_water_risk_atlas/output_V01/industry_weights/industry_weights.csv')"
   ]
  },
  {
   "cell_type": "code",
   "execution_count": 10,
   "metadata": {},
   "outputs": [],
   "source": [
    "# Lowercase some columns\n",
    "df_weights['group_short'] = df_weights['group_short'].astype(str).str.lower()\n",
    "df_weights['indicator_short'] = df_weights['indicator_short'].astype(str).str.lower()\n",
    "df_weights['industry_short'] = df_weights['industry_short'].astype(str).str.lower()\n",
    "\n",
    "# Drop column\n",
    "df_weights.drop(columns='Unnamed: 0', inplace=True)"
   ]
  },
  {
   "cell_type": "code",
   "execution_count": 11,
   "metadata": {},
   "outputs": [],
   "source": [
    "df_groups = df_weights.loc[df_weights[\"industry_short\"] ==\"def\"][[\"indicator_short\",\"group_short\"]]"
   ]
  },
  {
   "cell_type": "code",
   "execution_count": 12,
   "metadata": {},
   "outputs": [
    {
     "data": {
      "text/html": [
       "<div>\n",
       "<style scoped>\n",
       "    .dataframe tbody tr th:only-of-type {\n",
       "        vertical-align: middle;\n",
       "    }\n",
       "\n",
       "    .dataframe tbody tr th {\n",
       "        vertical-align: top;\n",
       "    }\n",
       "\n",
       "    .dataframe thead th {\n",
       "        text-align: right;\n",
       "    }\n",
       "</style>\n",
       "<table border=\"1\" class=\"dataframe\">\n",
       "  <thead>\n",
       "    <tr style=\"text-align: right;\">\n",
       "      <th></th>\n",
       "      <th>indicator_short</th>\n",
       "      <th>group_short</th>\n",
       "    </tr>\n",
       "  </thead>\n",
       "  <tbody>\n",
       "    <tr>\n",
       "      <th>1</th>\n",
       "      <td>ucw</td>\n",
       "      <td>qal</td>\n",
       "    </tr>\n",
       "    <tr>\n",
       "      <th>15</th>\n",
       "      <td>cep</td>\n",
       "      <td>qal</td>\n",
       "    </tr>\n",
       "    <tr>\n",
       "      <th>20</th>\n",
       "      <td>drr</td>\n",
       "      <td>qan</td>\n",
       "    </tr>\n",
       "    <tr>\n",
       "      <th>42</th>\n",
       "      <td>bws</td>\n",
       "      <td>qan</td>\n",
       "    </tr>\n",
       "    <tr>\n",
       "      <th>43</th>\n",
       "      <td>bwd</td>\n",
       "      <td>qan</td>\n",
       "    </tr>\n",
       "    <tr>\n",
       "      <th>44</th>\n",
       "      <td>gtd</td>\n",
       "      <td>qan</td>\n",
       "    </tr>\n",
       "    <tr>\n",
       "      <th>62</th>\n",
       "      <td>iav</td>\n",
       "      <td>qan</td>\n",
       "    </tr>\n",
       "    <tr>\n",
       "      <th>63</th>\n",
       "      <td>sev</td>\n",
       "      <td>qan</td>\n",
       "    </tr>\n",
       "    <tr>\n",
       "      <th>75</th>\n",
       "      <td>rfr</td>\n",
       "      <td>qan</td>\n",
       "    </tr>\n",
       "    <tr>\n",
       "      <th>76</th>\n",
       "      <td>cfr</td>\n",
       "      <td>qan</td>\n",
       "    </tr>\n",
       "    <tr>\n",
       "      <th>100</th>\n",
       "      <td>udw</td>\n",
       "      <td>rrr</td>\n",
       "    </tr>\n",
       "    <tr>\n",
       "      <th>101</th>\n",
       "      <td>usa</td>\n",
       "      <td>rrr</td>\n",
       "    </tr>\n",
       "    <tr>\n",
       "      <th>122</th>\n",
       "      <td>rri</td>\n",
       "      <td>rrr</td>\n",
       "    </tr>\n",
       "  </tbody>\n",
       "</table>\n",
       "</div>"
      ],
      "text/plain": [
       "    indicator_short group_short\n",
       "1               ucw         qal\n",
       "15              cep         qal\n",
       "20              drr         qan\n",
       "42              bws         qan\n",
       "43              bwd         qan\n",
       "44              gtd         qan\n",
       "62              iav         qan\n",
       "63              sev         qan\n",
       "75              rfr         qan\n",
       "76              cfr         qan\n",
       "100             udw         rrr\n",
       "101             usa         rrr\n",
       "122             rri         rrr"
      ]
     },
     "execution_count": 12,
     "metadata": {},
     "output_type": "execute_result"
    }
   ],
   "source": [
    "df_groups "
   ]
  },
  {
   "cell_type": "code",
   "execution_count": 13,
   "metadata": {},
   "outputs": [],
   "source": [
    "# Add group to dataframe\n",
    "df_group = pd.merge(left=df_valid,\n",
    "                 right=df_groups,\n",
    "                 how=\"left\",\n",
    "                 left_on=\"indicator\",\n",
    "                 right_on=\"indicator_short\")\n",
    "# Drop columns\n",
    "df_group.drop([\"indicator_short\"], axis=1,inplace=True)"
   ]
  },
  {
   "cell_type": "code",
   "execution_count": 14,
   "metadata": {},
   "outputs": [
    {
     "data": {
      "text/html": [
       "<div>\n",
       "<style scoped>\n",
       "    .dataframe tbody tr th:only-of-type {\n",
       "        vertical-align: middle;\n",
       "    }\n",
       "\n",
       "    .dataframe tbody tr th {\n",
       "        vertical-align: top;\n",
       "    }\n",
       "\n",
       "    .dataframe thead th {\n",
       "        text-align: right;\n",
       "    }\n",
       "</style>\n",
       "<table border=\"1\" class=\"dataframe\">\n",
       "  <thead>\n",
       "    <tr style=\"text-align: right;\">\n",
       "      <th></th>\n",
       "      <th>indicator</th>\n",
       "      <th>score</th>\n",
       "      <th>string_id</th>\n",
       "      <th>group_short</th>\n",
       "    </tr>\n",
       "  </thead>\n",
       "  <tbody>\n",
       "    <tr>\n",
       "      <th>0</th>\n",
       "      <td>bwd</td>\n",
       "      <td>0.773434</td>\n",
       "      <td>111081-ERI.2_1-3365</td>\n",
       "      <td>qan</td>\n",
       "    </tr>\n",
       "  </tbody>\n",
       "</table>\n",
       "</div>"
      ],
      "text/plain": [
       "  indicator     score            string_id group_short\n",
       "0       bwd  0.773434  111081-ERI.2_1-3365         qan"
      ]
     },
     "execution_count": 14,
     "metadata": {},
     "output_type": "execute_result"
    }
   ],
   "source": [
    "df_group.head(1)"
   ]
  },
  {
   "cell_type": "markdown",
   "metadata": {},
   "source": [
    "**Add aq30_id**"
   ]
  },
  {
   "cell_type": "code",
   "execution_count": 15,
   "metadata": {},
   "outputs": [],
   "source": [
    "df_aq30 = gpd.read_file('/Users/ikersanchez/Vizzuality/PROIEKTUAK/Aqueduct/work//data/AQ_2_water_risk_atlas/Y2018M12D06_RH_Master_Shape_V01/output_V02/Y2018M12D06_RH_Master_Shape_V01.shp')"
   ]
  },
  {
   "cell_type": "code",
   "execution_count": 16,
   "metadata": {},
   "outputs": [
    {
     "data": {
      "text/html": [
       "<div>\n",
       "<style scoped>\n",
       "    .dataframe tbody tr th:only-of-type {\n",
       "        vertical-align: middle;\n",
       "    }\n",
       "\n",
       "    .dataframe tbody tr th {\n",
       "        vertical-align: top;\n",
       "    }\n",
       "\n",
       "    .dataframe thead th {\n",
       "        text-align: right;\n",
       "    }\n",
       "</style>\n",
       "<table border=\"1\" class=\"dataframe\">\n",
       "  <thead>\n",
       "    <tr style=\"text-align: right;\">\n",
       "      <th></th>\n",
       "      <th>aq30_id</th>\n",
       "      <th>string_id</th>\n",
       "    </tr>\n",
       "  </thead>\n",
       "  <tbody>\n",
       "    <tr>\n",
       "      <th>0</th>\n",
       "      <td>0</td>\n",
       "      <td>111011-EGY.11_1-3365</td>\n",
       "    </tr>\n",
       "  </tbody>\n",
       "</table>\n",
       "</div>"
      ],
      "text/plain": [
       "   aq30_id             string_id\n",
       "0        0  111011-EGY.11_1-3365"
      ]
     },
     "execution_count": 16,
     "metadata": {},
     "output_type": "execute_result"
    }
   ],
   "source": [
    "df_aq30.drop(columns=['aqid', 'gid_1', 'pfaf_id', 'type', 'geometry'], inplace=True)\n",
    "df_aq30.head(1)"
   ]
  },
  {
   "cell_type": "code",
   "execution_count": 17,
   "metadata": {},
   "outputs": [
    {
     "data": {
      "text/plain": [
       "(68511, 2)"
      ]
     },
     "execution_count": 17,
     "metadata": {},
     "output_type": "execute_result"
    }
   ],
   "source": [
    "df_aq30.shape"
   ]
  },
  {
   "cell_type": "code",
   "execution_count": 18,
   "metadata": {},
   "outputs": [
    {
     "data": {
      "text/html": [
       "<div>\n",
       "<style scoped>\n",
       "    .dataframe tbody tr th:only-of-type {\n",
       "        vertical-align: middle;\n",
       "    }\n",
       "\n",
       "    .dataframe tbody tr th {\n",
       "        vertical-align: top;\n",
       "    }\n",
       "\n",
       "    .dataframe thead th {\n",
       "        text-align: right;\n",
       "    }\n",
       "</style>\n",
       "<table border=\"1\" class=\"dataframe\">\n",
       "  <thead>\n",
       "    <tr style=\"text-align: right;\">\n",
       "      <th></th>\n",
       "      <th>indicator</th>\n",
       "      <th>score</th>\n",
       "      <th>string_id</th>\n",
       "      <th>group_short</th>\n",
       "      <th>aq30_id</th>\n",
       "    </tr>\n",
       "  </thead>\n",
       "  <tbody>\n",
       "    <tr>\n",
       "      <th>614218</th>\n",
       "      <td>rfr</td>\n",
       "      <td>4.180674</td>\n",
       "      <td>111011-EGY.11_1-3365</td>\n",
       "      <td>qan</td>\n",
       "      <td>0</td>\n",
       "    </tr>\n",
       "  </tbody>\n",
       "</table>\n",
       "</div>"
      ],
      "text/plain": [
       "       indicator     score             string_id group_short  aq30_id\n",
       "614218       rfr  4.180674  111011-EGY.11_1-3365         qan        0"
      ]
     },
     "execution_count": 18,
     "metadata": {},
     "output_type": "execute_result"
    }
   ],
   "source": [
    "df_all = pd.merge(left=df_group,\n",
    "                right=df_aq30,\n",
    "                on = \"string_id\",\n",
    "                how = \"left\")\n",
    "#df_all.drop(columns='string_id', inplace=True)\n",
    "df_all.sort_values('aq30_id', inplace=True)\n",
    "df_all.head(1)"
   ]
  },
  {
   "cell_type": "markdown",
   "metadata": {},
   "source": [
    "**Drop rows where score is NaN**"
   ]
  },
  {
   "cell_type": "code",
   "execution_count": 91,
   "metadata": {},
   "outputs": [],
   "source": [
    "df_all.dropna(subset=['score'], inplace=True)"
   ]
  },
  {
   "cell_type": "code",
   "execution_count": 92,
   "metadata": {},
   "outputs": [
    {
     "data": {
      "text/plain": [
       "(736918, 5)"
      ]
     },
     "execution_count": 92,
     "metadata": {},
     "output_type": "execute_result"
    }
   ],
   "source": [
    "df_all.shape"
   ]
  },
  {
   "cell_type": "code",
   "execution_count": 93,
   "metadata": {},
   "outputs": [
    {
     "data": {
      "text/html": [
       "<div>\n",
       "<style scoped>\n",
       "    .dataframe tbody tr th:only-of-type {\n",
       "        vertical-align: middle;\n",
       "    }\n",
       "\n",
       "    .dataframe tbody tr th {\n",
       "        vertical-align: top;\n",
       "    }\n",
       "\n",
       "    .dataframe thead th {\n",
       "        text-align: right;\n",
       "    }\n",
       "</style>\n",
       "<table border=\"1\" class=\"dataframe\">\n",
       "  <thead>\n",
       "    <tr style=\"text-align: right;\">\n",
       "      <th></th>\n",
       "      <th>indicator</th>\n",
       "      <th>score</th>\n",
       "      <th>string_id</th>\n",
       "      <th>group_short</th>\n",
       "      <th>aq30_id</th>\n",
       "    </tr>\n",
       "  </thead>\n",
       "  <tbody>\n",
       "    <tr>\n",
       "      <th>614218</th>\n",
       "      <td>rfr</td>\n",
       "      <td>4.180674</td>\n",
       "      <td>111011-EGY.11_1-3365</td>\n",
       "      <td>qan</td>\n",
       "      <td>0</td>\n",
       "    </tr>\n",
       "    <tr>\n",
       "      <th>712413</th>\n",
       "      <td>cep</td>\n",
       "      <td>1.250000</td>\n",
       "      <td>111011-EGY.11_1-3365</td>\n",
       "      <td>qal</td>\n",
       "      <td>0</td>\n",
       "    </tr>\n",
       "    <tr>\n",
       "      <th>723470</th>\n",
       "      <td>cfr</td>\n",
       "      <td>0.000000</td>\n",
       "      <td>111011-EGY.11_1-3365</td>\n",
       "      <td>qan</td>\n",
       "      <td>0</td>\n",
       "    </tr>\n",
       "    <tr>\n",
       "      <th>325363</th>\n",
       "      <td>sev</td>\n",
       "      <td>2.887187</td>\n",
       "      <td>111011-EGY.11_1-3365</td>\n",
       "      <td>qan</td>\n",
       "      <td>0</td>\n",
       "    </tr>\n",
       "    <tr>\n",
       "      <th>552901</th>\n",
       "      <td>usa</td>\n",
       "      <td>1.019067</td>\n",
       "      <td>111011-EGY.11_1-3365</td>\n",
       "      <td>rrr</td>\n",
       "      <td>0</td>\n",
       "    </tr>\n",
       "  </tbody>\n",
       "</table>\n",
       "</div>"
      ],
      "text/plain": [
       "       indicator     score             string_id group_short  aq30_id\n",
       "614218       rfr  4.180674  111011-EGY.11_1-3365         qan        0\n",
       "712413       cep  1.250000  111011-EGY.11_1-3365         qal        0\n",
       "723470       cfr  0.000000  111011-EGY.11_1-3365         qan        0\n",
       "325363       sev  2.887187  111011-EGY.11_1-3365         qan        0\n",
       "552901       usa  1.019067  111011-EGY.11_1-3365         rrr        0"
      ]
     },
     "execution_count": 93,
     "metadata": {},
     "output_type": "execute_result"
    }
   ],
   "source": [
    "df_all.head()"
   ]
  },
  {
   "cell_type": "markdown",
   "metadata": {},
   "source": [
    "**Save table**"
   ]
  },
  {
   "cell_type": "code",
   "execution_count": 95,
   "metadata": {},
   "outputs": [],
   "source": [
    "df_all.to_csv('/Users/ikersanchez/Vizzuality/PROIEKTUAK/Aqueduct/work/data/AQ_2_water_risk_atlas/water_risk_indicators_normalized.csv')"
   ]
  },
  {
   "cell_type": "markdown",
   "metadata": {},
   "source": [
    "## Basin name table"
   ]
  },
  {
   "cell_type": "code",
   "execution_count": 21,
   "metadata": {},
   "outputs": [],
   "source": [
    "fao_major = pd.read_csv('/Users/ikersanchez/Vizzuality/PROIEKTUAK/Aqueduct/work/data/AQ_2_water_risk_atlas/output_V01/fao/fao_major.csv')\n",
    "fao_minor = pd.read_csv('/Users/ikersanchez/Vizzuality/PROIEKTUAK/Aqueduct/work/data/AQ_2_water_risk_atlas/output_V01/fao/fao_minor.csv')\n",
    "fao_link = pd.read_csv('/Users/ikersanchez/Vizzuality/PROIEKTUAK/Aqueduct/work/data/AQ_2_water_risk_atlas/output_V01/fao/fao_link.csv')\n",
    "fao_major.drop(labels=['Unnamed: 0'], axis=1, inplace=True)\n",
    "fao_minor.drop(labels=['Unnamed: 0'], axis=1, inplace=True)\n",
    "fao_link.drop(labels=['Unnamed: 0'], axis=1, inplace=True)"
   ]
  },
  {
   "cell_type": "code",
   "execution_count": 22,
   "metadata": {},
   "outputs": [
    {
     "data": {
      "text/html": [
       "<div>\n",
       "<style scoped>\n",
       "    .dataframe tbody tr th:only-of-type {\n",
       "        vertical-align: middle;\n",
       "    }\n",
       "\n",
       "    .dataframe tbody tr th {\n",
       "        vertical-align: top;\n",
       "    }\n",
       "\n",
       "    .dataframe thead th {\n",
       "        text-align: right;\n",
       "    }\n",
       "</style>\n",
       "<table border=\"1\" class=\"dataframe\">\n",
       "  <thead>\n",
       "    <tr style=\"text-align: right;\">\n",
       "      <th></th>\n",
       "      <th>maj_bas</th>\n",
       "      <th>maj_name</th>\n",
       "      <th>maj_area</th>\n",
       "    </tr>\n",
       "  </thead>\n",
       "  <tbody>\n",
       "    <tr>\n",
       "      <th>0</th>\n",
       "      <td>1001</td>\n",
       "      <td>Gulf of Mexico, North Atlantic Coast</td>\n",
       "      <td>701385</td>\n",
       "    </tr>\n",
       "  </tbody>\n",
       "</table>\n",
       "</div>"
      ],
      "text/plain": [
       "   maj_bas                              maj_name  maj_area\n",
       "0     1001  Gulf of Mexico, North Atlantic Coast    701385"
      ]
     },
     "execution_count": 22,
     "metadata": {},
     "output_type": "execute_result"
    }
   ],
   "source": [
    "fao_major.head(1)"
   ]
  },
  {
   "cell_type": "code",
   "execution_count": 23,
   "metadata": {},
   "outputs": [
    {
     "data": {
      "text/html": [
       "<div>\n",
       "<style scoped>\n",
       "    .dataframe tbody tr th:only-of-type {\n",
       "        vertical-align: middle;\n",
       "    }\n",
       "\n",
       "    .dataframe tbody tr th {\n",
       "        vertical-align: top;\n",
       "    }\n",
       "\n",
       "    .dataframe thead th {\n",
       "        text-align: right;\n",
       "    }\n",
       "</style>\n",
       "<table border=\"1\" class=\"dataframe\">\n",
       "  <thead>\n",
       "    <tr style=\"text-align: right;\">\n",
       "      <th></th>\n",
       "      <th>fao_id</th>\n",
       "      <th>sub_bas</th>\n",
       "      <th>to_bas</th>\n",
       "      <th>maj_bas</th>\n",
       "      <th>sub_name</th>\n",
       "      <th>sub_area</th>\n",
       "    </tr>\n",
       "  </thead>\n",
       "  <tbody>\n",
       "    <tr>\n",
       "      <th>0</th>\n",
       "      <td>MAJ_BAS_1001_SUB_BAS_0001001</td>\n",
       "      <td>1001</td>\n",
       "      <td>1005</td>\n",
       "      <td>1001</td>\n",
       "      <td>Upper Roanoke</td>\n",
       "      <td>8689</td>\n",
       "    </tr>\n",
       "  </tbody>\n",
       "</table>\n",
       "</div>"
      ],
      "text/plain": [
       "                         fao_id  sub_bas  to_bas  maj_bas       sub_name  \\\n",
       "0  MAJ_BAS_1001_SUB_BAS_0001001     1001    1005     1001  Upper Roanoke   \n",
       "\n",
       "   sub_area  \n",
       "0      8689  "
      ]
     },
     "execution_count": 23,
     "metadata": {},
     "output_type": "execute_result"
    }
   ],
   "source": [
    "fao_minor.head(1)"
   ]
  },
  {
   "cell_type": "code",
   "execution_count": 24,
   "metadata": {},
   "outputs": [
    {
     "data": {
      "text/html": [
       "<div>\n",
       "<style scoped>\n",
       "    .dataframe tbody tr th:only-of-type {\n",
       "        vertical-align: middle;\n",
       "    }\n",
       "\n",
       "    .dataframe tbody tr th {\n",
       "        vertical-align: top;\n",
       "    }\n",
       "\n",
       "    .dataframe thead th {\n",
       "        text-align: right;\n",
       "    }\n",
       "</style>\n",
       "<table border=\"1\" class=\"dataframe\">\n",
       "  <thead>\n",
       "    <tr style=\"text-align: right;\">\n",
       "      <th></th>\n",
       "      <th>pfaf_id</th>\n",
       "      <th>fao_id</th>\n",
       "    </tr>\n",
       "  </thead>\n",
       "  <tbody>\n",
       "    <tr>\n",
       "      <th>0</th>\n",
       "      <td>611001</td>\n",
       "      <td>MAJ_BAS_3001_SUB_BAS_0001002</td>\n",
       "    </tr>\n",
       "  </tbody>\n",
       "</table>\n",
       "</div>"
      ],
      "text/plain": [
       "   pfaf_id                        fao_id\n",
       "0   611001  MAJ_BAS_3001_SUB_BAS_0001002"
      ]
     },
     "execution_count": 24,
     "metadata": {},
     "output_type": "execute_result"
    }
   ],
   "source": [
    "fao_link.head(1)"
   ]
  },
  {
   "cell_type": "code",
   "execution_count": 25,
   "metadata": {},
   "outputs": [],
   "source": [
    "df = pd.merge(left=fao_minor, right=fao_major, on = \"maj_bas\", how = \"left\")\n",
    "df = pd.merge(left=fao_link, right=df, on = \"fao_id\", how = \"left\")\n",
    "df.drop(labels=['sub_bas', 'to_bas', 'maj_bas', 'sub_area', 'maj_area'], axis=1, inplace=True)"
   ]
  },
  {
   "cell_type": "code",
   "execution_count": 26,
   "metadata": {},
   "outputs": [],
   "source": [
    "fao_ids = []\n",
    "sub_names = []\n",
    "for n in df['pfaf_id'].unique():\n",
    "    fao_ids.append(list(df[df['pfaf_id'] == n]['fao_id']))\n",
    "    sub_names.append(list(df[df['pfaf_id'] == n]['sub_name']))"
   ]
  },
  {
   "cell_type": "code",
   "execution_count": 27,
   "metadata": {},
   "outputs": [],
   "source": [
    "df.drop(labels=['fao_id', 'sub_name'], axis=1, inplace=True)\n",
    "df.drop_duplicates(subset=['pfaf_id'], keep='first', inplace=True)"
   ]
  },
  {
   "cell_type": "code",
   "execution_count": 28,
   "metadata": {},
   "outputs": [],
   "source": [
    "df['sub_names'] = sub_names\n",
    "df['fao_ids'] = fao_ids"
   ]
  },
  {
   "cell_type": "code",
   "execution_count": 29,
   "metadata": {},
   "outputs": [
    {
     "data": {
      "text/html": [
       "<div>\n",
       "<style scoped>\n",
       "    .dataframe tbody tr th:only-of-type {\n",
       "        vertical-align: middle;\n",
       "    }\n",
       "\n",
       "    .dataframe tbody tr th {\n",
       "        vertical-align: top;\n",
       "    }\n",
       "\n",
       "    .dataframe thead th {\n",
       "        text-align: right;\n",
       "    }\n",
       "</style>\n",
       "<table border=\"1\" class=\"dataframe\">\n",
       "  <thead>\n",
       "    <tr style=\"text-align: right;\">\n",
       "      <th></th>\n",
       "      <th>pfaf_id</th>\n",
       "      <th>maj_name</th>\n",
       "      <th>sub_names</th>\n",
       "      <th>fao_ids</th>\n",
       "    </tr>\n",
       "  </thead>\n",
       "  <tbody>\n",
       "    <tr>\n",
       "      <th>0</th>\n",
       "      <td>611001</td>\n",
       "      <td>Caribbean Coast</td>\n",
       "      <td>[Archipielago de San Blas Coast, Altrato 1]</td>\n",
       "      <td>[MAJ_BAS_3001_SUB_BAS_0001002, MAJ_BAS_3001_SU...</td>\n",
       "    </tr>\n",
       "    <tr>\n",
       "      <th>2</th>\n",
       "      <td>611002</td>\n",
       "      <td>Caribbean Coast</td>\n",
       "      <td>[Altrato 2, Sucio, Altrato 1]</td>\n",
       "      <td>[MAJ_BAS_3001_SUB_BAS_0001005, MAJ_BAS_3001_SU...</td>\n",
       "    </tr>\n",
       "    <tr>\n",
       "      <th>5</th>\n",
       "      <td>611003</td>\n",
       "      <td>Caribbean Coast</td>\n",
       "      <td>[Altrato 1, Golfo del Darien Coast]</td>\n",
       "      <td>[MAJ_BAS_3001_SUB_BAS_0001003, MAJ_BAS_3001_SU...</td>\n",
       "    </tr>\n",
       "    <tr>\n",
       "      <th>7</th>\n",
       "      <td>611004</td>\n",
       "      <td>Caribbean Coast</td>\n",
       "      <td>[Golfo del Darien Coast]</td>\n",
       "      <td>[MAJ_BAS_3001_SUB_BAS_0001006]</td>\n",
       "    </tr>\n",
       "    <tr>\n",
       "      <th>8</th>\n",
       "      <td>611005</td>\n",
       "      <td>Caribbean Coast</td>\n",
       "      <td>[Sinu, Golfo del Darien Coast]</td>\n",
       "      <td>[MAJ_BAS_3001_SUB_BAS_0001007, MAJ_BAS_3001_SU...</td>\n",
       "    </tr>\n",
       "  </tbody>\n",
       "</table>\n",
       "</div>"
      ],
      "text/plain": [
       "   pfaf_id         maj_name                                    sub_names  \\\n",
       "0   611001  Caribbean Coast  [Archipielago de San Blas Coast, Altrato 1]   \n",
       "2   611002  Caribbean Coast                [Altrato 2, Sucio, Altrato 1]   \n",
       "5   611003  Caribbean Coast          [Altrato 1, Golfo del Darien Coast]   \n",
       "7   611004  Caribbean Coast                     [Golfo del Darien Coast]   \n",
       "8   611005  Caribbean Coast               [Sinu, Golfo del Darien Coast]   \n",
       "\n",
       "                                             fao_ids  \n",
       "0  [MAJ_BAS_3001_SUB_BAS_0001002, MAJ_BAS_3001_SU...  \n",
       "2  [MAJ_BAS_3001_SUB_BAS_0001005, MAJ_BAS_3001_SU...  \n",
       "5  [MAJ_BAS_3001_SUB_BAS_0001003, MAJ_BAS_3001_SU...  \n",
       "7                     [MAJ_BAS_3001_SUB_BAS_0001006]  \n",
       "8  [MAJ_BAS_3001_SUB_BAS_0001007, MAJ_BAS_3001_SU...  "
      ]
     },
     "execution_count": 29,
     "metadata": {},
     "output_type": "execute_result"
    }
   ],
   "source": [
    "df.head()"
   ]
  },
  {
   "cell_type": "markdown",
   "metadata": {},
   "source": [
    "**Save table**"
   ]
  },
  {
   "cell_type": "code",
   "execution_count": 34,
   "metadata": {},
   "outputs": [],
   "source": [
    "df.to_csv('/Users/ikersanchez/Vizzuality/PROIEKTUAK/Aqueduct/work/data/AQ_2_water_risk_atlas/basin_names.csv')"
   ]
  },
  {
   "cell_type": "markdown",
   "metadata": {},
   "source": [
    "## FAO geometries"
   ]
  },
  {
   "cell_type": "code",
   "execution_count": 128,
   "metadata": {},
   "outputs": [],
   "source": [
    "fao_major = pd.read_csv('/Users/ikersanchez/Vizzuality/PROIEKTUAK/Aqueduct/work/data/AQ_2_water_risk_atlas/output_V01/fao/fao_major.csv')\n",
    "fao_minor = pd.read_csv('/Users/ikersanchez/Vizzuality/PROIEKTUAK/Aqueduct/work/data/AQ_2_water_risk_atlas/output_V01/fao/fao_minor.csv')\n",
    "fao_link = pd.read_csv('/Users/ikersanchez/Vizzuality/PROIEKTUAK/Aqueduct/work/data/AQ_2_water_risk_atlas/output_V01/fao/fao_link.csv')\n",
    "fao_major.drop(labels=['Unnamed: 0'], axis=1, inplace=True)\n",
    "fao_minor.drop(labels=['Unnamed: 0'], axis=1, inplace=True)\n",
    "fao_link.drop(labels=['Unnamed: 0'], axis=1, inplace=True)\n",
    "\n",
    "df = pd.merge(left=fao_minor, right=fao_major, on = \"maj_bas\", how = \"left\")\n",
    "df = pd.merge(left=fao_link, right=df, on = \"fao_id\", how = \"left\")\n",
    "df.drop(labels=['sub_name', 'maj_name', 'sub_area', 'maj_area'], axis=1, inplace=True)\n",
    "df = df.dropna(subset=['sub_bas'])\n",
    "df['sub_bas']=df['sub_bas'].apply(lambda x: int(x))\n",
    "df['to_bas']=df['to_bas'].apply(lambda x: int(x))\n",
    "df['maj_bas']=df['maj_bas'].apply(lambda x: int(x))"
   ]
  },
  {
   "cell_type": "code",
   "execution_count": 129,
   "metadata": {},
   "outputs": [
    {
     "data": {
      "text/html": [
       "<div>\n",
       "<style scoped>\n",
       "    .dataframe tbody tr th:only-of-type {\n",
       "        vertical-align: middle;\n",
       "    }\n",
       "\n",
       "    .dataframe tbody tr th {\n",
       "        vertical-align: top;\n",
       "    }\n",
       "\n",
       "    .dataframe thead th {\n",
       "        text-align: right;\n",
       "    }\n",
       "</style>\n",
       "<table border=\"1\" class=\"dataframe\">\n",
       "  <thead>\n",
       "    <tr style=\"text-align: right;\">\n",
       "      <th></th>\n",
       "      <th>pfaf_id</th>\n",
       "      <th>fao_id</th>\n",
       "      <th>sub_bas</th>\n",
       "      <th>to_bas</th>\n",
       "      <th>maj_bas</th>\n",
       "    </tr>\n",
       "  </thead>\n",
       "  <tbody>\n",
       "    <tr>\n",
       "      <th>0</th>\n",
       "      <td>611001</td>\n",
       "      <td>MAJ_BAS_3001_SUB_BAS_0001002</td>\n",
       "      <td>1002</td>\n",
       "      <td>-999</td>\n",
       "      <td>3001</td>\n",
       "    </tr>\n",
       "    <tr>\n",
       "      <th>1</th>\n",
       "      <td>611001</td>\n",
       "      <td>MAJ_BAS_3001_SUB_BAS_0001003</td>\n",
       "      <td>1003</td>\n",
       "      <td>-999</td>\n",
       "      <td>3001</td>\n",
       "    </tr>\n",
       "    <tr>\n",
       "      <th>2</th>\n",
       "      <td>611002</td>\n",
       "      <td>MAJ_BAS_3001_SUB_BAS_0001005</td>\n",
       "      <td>1005</td>\n",
       "      <td>1003</td>\n",
       "      <td>3001</td>\n",
       "    </tr>\n",
       "    <tr>\n",
       "      <th>3</th>\n",
       "      <td>611002</td>\n",
       "      <td>MAJ_BAS_3001_SUB_BAS_0001004</td>\n",
       "      <td>1004</td>\n",
       "      <td>1003</td>\n",
       "      <td>3001</td>\n",
       "    </tr>\n",
       "    <tr>\n",
       "      <th>4</th>\n",
       "      <td>611002</td>\n",
       "      <td>MAJ_BAS_3001_SUB_BAS_0001003</td>\n",
       "      <td>1003</td>\n",
       "      <td>-999</td>\n",
       "      <td>3001</td>\n",
       "    </tr>\n",
       "  </tbody>\n",
       "</table>\n",
       "</div>"
      ],
      "text/plain": [
       "   pfaf_id                        fao_id  sub_bas  to_bas  maj_bas\n",
       "0   611001  MAJ_BAS_3001_SUB_BAS_0001002     1002    -999     3001\n",
       "1   611001  MAJ_BAS_3001_SUB_BAS_0001003     1003    -999     3001\n",
       "2   611002  MAJ_BAS_3001_SUB_BAS_0001005     1005    1003     3001\n",
       "3   611002  MAJ_BAS_3001_SUB_BAS_0001004     1004    1003     3001\n",
       "4   611002  MAJ_BAS_3001_SUB_BAS_0001003     1003    -999     3001"
      ]
     },
     "execution_count": 129,
     "metadata": {},
     "output_type": "execute_result"
    }
   ],
   "source": [
    "df.head()"
   ]
  },
  {
   "cell_type": "code",
   "execution_count": 103,
   "metadata": {},
   "outputs": [],
   "source": [
    "fao_geo = gpd.read_file('/Users/ikersanchez/Vizzuality/PROIEKTUAK/Aqueduct/work/data/AQ_2_water_risk_atlas/output_V01/fao/Y2017M08D23_RH_Merge_FAONames_V01/output_V02/hydrobasins_fao_fiona_merged_v01.shp')\n",
    "fao_geo.columns = [x.lower() for x in fao_geo.columns]"
   ]
  },
  {
   "cell_type": "code",
   "execution_count": 108,
   "metadata": {},
   "outputs": [
    {
     "data": {
      "text/html": [
       "<div>\n",
       "<style scoped>\n",
       "    .dataframe tbody tr th:only-of-type {\n",
       "        vertical-align: middle;\n",
       "    }\n",
       "\n",
       "    .dataframe tbody tr th {\n",
       "        vertical-align: top;\n",
       "    }\n",
       "\n",
       "    .dataframe thead th {\n",
       "        text-align: right;\n",
       "    }\n",
       "</style>\n",
       "<table border=\"1\" class=\"dataframe\">\n",
       "  <thead>\n",
       "    <tr style=\"text-align: right;\">\n",
       "      <th></th>\n",
       "      <th>sub_bas</th>\n",
       "      <th>to_bas</th>\n",
       "      <th>maj_bas</th>\n",
       "      <th>sub_name</th>\n",
       "      <th>maj_name</th>\n",
       "      <th>sub_area</th>\n",
       "      <th>maj_area</th>\n",
       "      <th>legend</th>\n",
       "      <th>geometry</th>\n",
       "    </tr>\n",
       "  </thead>\n",
       "  <tbody>\n",
       "    <tr>\n",
       "      <th>0</th>\n",
       "      <td>1001</td>\n",
       "      <td>1019</td>\n",
       "      <td>5001</td>\n",
       "      <td>Herlen Gol /  Hulun Nur</td>\n",
       "      <td>Amur</td>\n",
       "      <td>104012</td>\n",
       "      <td>2086009</td>\n",
       "      <td>1</td>\n",
       "      <td>(POLYGON ((115.5416666666659 48.0041666666659,...</td>\n",
       "    </tr>\n",
       "    <tr>\n",
       "      <th>1</th>\n",
       "      <td>1002</td>\n",
       "      <td>1006</td>\n",
       "      <td>5001</td>\n",
       "      <td>Onon</td>\n",
       "      <td>Amur</td>\n",
       "      <td>59873</td>\n",
       "      <td>2086009</td>\n",
       "      <td>1</td>\n",
       "      <td>POLYGON ((113.3541666666661 51.10416666666587,...</td>\n",
       "    </tr>\n",
       "    <tr>\n",
       "      <th>2</th>\n",
       "      <td>1003</td>\n",
       "      <td>-888</td>\n",
       "      <td>5001</td>\n",
       "      <td>Solonchak Zun Torey / Solonchak</td>\n",
       "      <td>Amur</td>\n",
       "      <td>50635</td>\n",
       "      <td>2086009</td>\n",
       "      <td>1</td>\n",
       "      <td>POLYGON ((115.4333333333327 50.52916666666587,...</td>\n",
       "    </tr>\n",
       "    <tr>\n",
       "      <th>3</th>\n",
       "      <td>1004</td>\n",
       "      <td>1011</td>\n",
       "      <td>5001</td>\n",
       "      <td>Ingoda</td>\n",
       "      <td>Amur</td>\n",
       "      <td>37746</td>\n",
       "      <td>2086009</td>\n",
       "      <td>1</td>\n",
       "      <td>POLYGON ((114.4583333333327 53.0624999999991, ...</td>\n",
       "    </tr>\n",
       "    <tr>\n",
       "      <th>4</th>\n",
       "      <td>1005</td>\n",
       "      <td>1010</td>\n",
       "      <td>5001</td>\n",
       "      <td>Aga</td>\n",
       "      <td>Amur</td>\n",
       "      <td>8627</td>\n",
       "      <td>2086009</td>\n",
       "      <td>1</td>\n",
       "      <td>POLYGON ((115.2874999999993 51.69583333333254,...</td>\n",
       "    </tr>\n",
       "  </tbody>\n",
       "</table>\n",
       "</div>"
      ],
      "text/plain": [
       "   sub_bas  to_bas  maj_bas                         sub_name maj_name  \\\n",
       "0     1001    1019     5001          Herlen Gol /  Hulun Nur     Amur   \n",
       "1     1002    1006     5001                             Onon     Amur   \n",
       "2     1003    -888     5001  Solonchak Zun Torey / Solonchak     Amur   \n",
       "3     1004    1011     5001                           Ingoda     Amur   \n",
       "4     1005    1010     5001                              Aga     Amur   \n",
       "\n",
       "   sub_area  maj_area  legend  \\\n",
       "0    104012   2086009       1   \n",
       "1     59873   2086009       1   \n",
       "2     50635   2086009       1   \n",
       "3     37746   2086009       1   \n",
       "4      8627   2086009       1   \n",
       "\n",
       "                                            geometry  \n",
       "0  (POLYGON ((115.5416666666659 48.0041666666659,...  \n",
       "1  POLYGON ((113.3541666666661 51.10416666666587,...  \n",
       "2  POLYGON ((115.4333333333327 50.52916666666587,...  \n",
       "3  POLYGON ((114.4583333333327 53.0624999999991, ...  \n",
       "4  POLYGON ((115.2874999999993 51.69583333333254,...  "
      ]
     },
     "execution_count": 108,
     "metadata": {},
     "output_type": "execute_result"
    }
   ],
   "source": [
    "fao_geo.head()"
   ]
  },
  {
   "cell_type": "code",
   "execution_count": 133,
   "metadata": {},
   "outputs": [
    {
     "data": {
      "text/html": [
       "<div>\n",
       "<style scoped>\n",
       "    .dataframe tbody tr th:only-of-type {\n",
       "        vertical-align: middle;\n",
       "    }\n",
       "\n",
       "    .dataframe tbody tr th {\n",
       "        vertical-align: top;\n",
       "    }\n",
       "\n",
       "    .dataframe thead th {\n",
       "        text-align: right;\n",
       "    }\n",
       "</style>\n",
       "<table border=\"1\" class=\"dataframe\">\n",
       "  <thead>\n",
       "    <tr style=\"text-align: right;\">\n",
       "      <th></th>\n",
       "      <th>sub_bas</th>\n",
       "      <th>to_bas_x</th>\n",
       "      <th>maj_bas_x</th>\n",
       "      <th>sub_name</th>\n",
       "      <th>maj_name</th>\n",
       "      <th>sub_area</th>\n",
       "      <th>maj_area</th>\n",
       "      <th>legend</th>\n",
       "      <th>geometry</th>\n",
       "      <th>pfaf_id</th>\n",
       "      <th>fao_id</th>\n",
       "      <th>to_bas_y</th>\n",
       "      <th>maj_bas_y</th>\n",
       "    </tr>\n",
       "  </thead>\n",
       "  <tbody>\n",
       "    <tr>\n",
       "      <th>0</th>\n",
       "      <td>1001</td>\n",
       "      <td>1019</td>\n",
       "      <td>5001</td>\n",
       "      <td>Herlen Gol /  Hulun Nur</td>\n",
       "      <td>Amur</td>\n",
       "      <td>104012</td>\n",
       "      <td>2086009</td>\n",
       "      <td>1</td>\n",
       "      <td>(POLYGON ((115.5416666666659 48.0041666666659,...</td>\n",
       "      <td>672099</td>\n",
       "      <td>MAJ_BAS_3001_SUB_BAS_0001001</td>\n",
       "      <td>-999</td>\n",
       "      <td>3001</td>\n",
       "    </tr>\n",
       "    <tr>\n",
       "      <th>1</th>\n",
       "      <td>1001</td>\n",
       "      <td>1019</td>\n",
       "      <td>5001</td>\n",
       "      <td>Herlen Gol /  Hulun Nur</td>\n",
       "      <td>Amur</td>\n",
       "      <td>104012</td>\n",
       "      <td>2086009</td>\n",
       "      <td>1</td>\n",
       "      <td>(POLYGON ((115.5416666666659 48.0041666666659,...</td>\n",
       "      <td>422991</td>\n",
       "      <td>MAJ_BAS_5001_SUB_BAS_0001001</td>\n",
       "      <td>1019</td>\n",
       "      <td>5001</td>\n",
       "    </tr>\n",
       "    <tr>\n",
       "      <th>2</th>\n",
       "      <td>1001</td>\n",
       "      <td>1019</td>\n",
       "      <td>5001</td>\n",
       "      <td>Herlen Gol /  Hulun Nur</td>\n",
       "      <td>Amur</td>\n",
       "      <td>104012</td>\n",
       "      <td>2086009</td>\n",
       "      <td>1</td>\n",
       "      <td>(POLYGON ((115.5416666666659 48.0041666666659,...</td>\n",
       "      <td>422993</td>\n",
       "      <td>MAJ_BAS_5001_SUB_BAS_0001001</td>\n",
       "      <td>1019</td>\n",
       "      <td>5001</td>\n",
       "    </tr>\n",
       "    <tr>\n",
       "      <th>3</th>\n",
       "      <td>1001</td>\n",
       "      <td>1019</td>\n",
       "      <td>5001</td>\n",
       "      <td>Herlen Gol /  Hulun Nur</td>\n",
       "      <td>Amur</td>\n",
       "      <td>104012</td>\n",
       "      <td>2086009</td>\n",
       "      <td>1</td>\n",
       "      <td>(POLYGON ((115.5416666666659 48.0041666666659,...</td>\n",
       "      <td>422992</td>\n",
       "      <td>MAJ_BAS_5001_SUB_BAS_0001001</td>\n",
       "      <td>1019</td>\n",
       "      <td>5001</td>\n",
       "    </tr>\n",
       "    <tr>\n",
       "      <th>4</th>\n",
       "      <td>1001</td>\n",
       "      <td>1019</td>\n",
       "      <td>5001</td>\n",
       "      <td>Herlen Gol /  Hulun Nur</td>\n",
       "      <td>Amur</td>\n",
       "      <td>104012</td>\n",
       "      <td>2086009</td>\n",
       "      <td>1</td>\n",
       "      <td>(POLYGON ((115.5416666666659 48.0041666666659,...</td>\n",
       "      <td>422995</td>\n",
       "      <td>MAJ_BAS_5001_SUB_BAS_0001001</td>\n",
       "      <td>1019</td>\n",
       "      <td>5001</td>\n",
       "    </tr>\n",
       "  </tbody>\n",
       "</table>\n",
       "</div>"
      ],
      "text/plain": [
       "   sub_bas  to_bas_x  maj_bas_x                 sub_name maj_name  sub_area  \\\n",
       "0     1001      1019       5001  Herlen Gol /  Hulun Nur     Amur    104012   \n",
       "1     1001      1019       5001  Herlen Gol /  Hulun Nur     Amur    104012   \n",
       "2     1001      1019       5001  Herlen Gol /  Hulun Nur     Amur    104012   \n",
       "3     1001      1019       5001  Herlen Gol /  Hulun Nur     Amur    104012   \n",
       "4     1001      1019       5001  Herlen Gol /  Hulun Nur     Amur    104012   \n",
       "\n",
       "   maj_area  legend                                           geometry  \\\n",
       "0   2086009       1  (POLYGON ((115.5416666666659 48.0041666666659,...   \n",
       "1   2086009       1  (POLYGON ((115.5416666666659 48.0041666666659,...   \n",
       "2   2086009       1  (POLYGON ((115.5416666666659 48.0041666666659,...   \n",
       "3   2086009       1  (POLYGON ((115.5416666666659 48.0041666666659,...   \n",
       "4   2086009       1  (POLYGON ((115.5416666666659 48.0041666666659,...   \n",
       "\n",
       "   pfaf_id                        fao_id  to_bas_y  maj_bas_y  \n",
       "0   672099  MAJ_BAS_3001_SUB_BAS_0001001      -999       3001  \n",
       "1   422991  MAJ_BAS_5001_SUB_BAS_0001001      1019       5001  \n",
       "2   422993  MAJ_BAS_5001_SUB_BAS_0001001      1019       5001  \n",
       "3   422992  MAJ_BAS_5001_SUB_BAS_0001001      1019       5001  \n",
       "4   422995  MAJ_BAS_5001_SUB_BAS_0001001      1019       5001  "
      ]
     },
     "execution_count": 133,
     "metadata": {},
     "output_type": "execute_result"
    }
   ],
   "source": [
    "df_all = pd.merge(left=fao_geo,\n",
    "                right=df,\n",
    "                on = [\"sub_bas\"],\n",
    "                how = \"left\")\n",
    "df_all.head()"
   ]
  },
  {
   "cell_type": "markdown",
   "metadata": {},
   "source": [
    "## Water Risk Indicators table for Food\n",
    "\n",
    "We have to modified the new table in such a way that mimics the old one."
   ]
  },
  {
   "cell_type": "markdown",
   "metadata": {},
   "source": [
    "### Read tables\n",
    "\n",
    "**Old table**"
   ]
  },
  {
   "cell_type": "code",
   "execution_count": null,
   "metadata": {},
   "outputs": [],
   "source": [
    "wri_old = pd.read_csv('/Users/ikersanchez/Vizzuality/PROIEKTUAK/Aqueduct/work/data/AQ_2_water_risk_atlas/water_risk_indicators_v3.csv')"
   ]
  },
  {
   "cell_type": "code",
   "execution_count": null,
   "metadata": {},
   "outputs": [],
   "source": [
    "wri_old.head()"
   ]
  },
  {
   "cell_type": "code",
   "execution_count": null,
   "metadata": {},
   "outputs": [],
   "source": [
    "wri_old['scenario'].unique()"
   ]
  },
  {
   "cell_type": "code",
   "execution_count": null,
   "metadata": {},
   "outputs": [],
   "source": [
    "wri_old['indicator'].unique()"
   ]
  },
  {
   "cell_type": "markdown",
   "metadata": {},
   "source": [
    "**New table**"
   ]
  },
  {
   "cell_type": "code",
   "execution_count": null,
   "metadata": {},
   "outputs": [],
   "source": [
    "wri_new = pd.read_csv('/Users/ikersanchez/Vizzuality/PROIEKTUAK/Aqueduct/work/data/AQ_2_water_risk_atlas/output_V01/annual/annual_normalized.csv')"
   ]
  },
  {
   "cell_type": "code",
   "execution_count": null,
   "metadata": {},
   "outputs": [],
   "source": [
    "wri_new.head()"
   ]
  },
  {
   "cell_type": "markdown",
   "metadata": {},
   "source": [
    "**Take only default weighting**"
   ]
  },
  {
   "cell_type": "code",
   "execution_count": null,
   "metadata": {},
   "outputs": [],
   "source": [
    "wri_new = wri_new[wri_new['industry_short'] == 'def']"
   ]
  },
  {
   "cell_type": "markdown",
   "metadata": {},
   "source": [
    "### Create `PFAF_ID` and `aqid` columns\n",
    "\n",
    "The `string_id` is a composite index of `PFAF_ID` + \"-\" + `GID_1` + \"-\" + `aqid` \n",
    "\n",
    "**Polygon names**\n",
    "\n",
    "|What \t                                |Name             |unique_identifier_integer |\n",
    "|---------------------------------------|-----------------|--------------------------|\n",
    "|hydrological sub-basins                |Hydrobasin6      |PFAF_ID                   |\n",
    "|sub-national administrative boundaries |GADM_1           |GID_1_ID                  |\n",
    "|Groundwater Aquifers                   |WHYMAP           |aquid                     |\n",
    "|Union of the geometries above          |Aqueduct_Union   |aq30_id                   |\n",
    "\n",
    "In old table (water_risk_indicators_v3) `basinid` = `PFAF_ID`\n"
   ]
  },
  {
   "cell_type": "code",
   "execution_count": null,
   "metadata": {},
   "outputs": [],
   "source": [
    "wri_new['PFAF_ID'] = wri_new.apply(lambda x: x['string_id'].split('-')[0], axis=1)\n",
    "wri_new['aqid'] = wri_new.apply(lambda x: x['string_id'].split('-')[2], axis=1)"
   ]
  },
  {
   "cell_type": "markdown",
   "metadata": {},
   "source": [
    "**We remove the sub-national administrative boundaries level** "
   ]
  },
  {
   "cell_type": "code",
   "execution_count": null,
   "metadata": {},
   "outputs": [],
   "source": [
    "wri_new.drop_duplicates(subset=['indicator', 'PFAF_ID', 'aqid'], keep='first', inplace=True)"
   ]
  },
  {
   "cell_type": "markdown",
   "metadata": {},
   "source": [
    "**Drop some columns**"
   ]
  },
  {
   "cell_type": "code",
   "execution_count": null,
   "metadata": {},
   "outputs": [],
   "source": [
    "wri_new.drop(labels=['Unnamed: 0', 'industry_short', 'raw', \n",
    "                       'string_id', 'weight_fraction', 'weighted_score'], axis=1, inplace=True)"
   ]
  },
  {
   "cell_type": "code",
   "execution_count": null,
   "metadata": {},
   "outputs": [],
   "source": [
    "wri_new.head()"
   ]
  },
  {
   "cell_type": "code",
   "execution_count": null,
   "metadata": {},
   "outputs": [],
   "source": [
    "wri_new['aqid'].replace('None', np.nan, inplace=True)\n",
    "wri_new['PFAF_ID'].replace('None', np.nan, inplace=True)"
   ]
  },
  {
   "cell_type": "markdown",
   "metadata": {},
   "source": [
    "**Save table**"
   ]
  },
  {
   "cell_type": "code",
   "execution_count": null,
   "metadata": {},
   "outputs": [],
   "source": [
    "wri_new.to_csv('/Users/ikersanchez/Vizzuality/PROIEKTUAK/Aqueduct/work/data/AQ_2_water_risk_atlas/water_risk_indicators_food.csv')"
   ]
  },
  {
   "cell_type": "code",
   "execution_count": null,
   "metadata": {},
   "outputs": [],
   "source": []
  }
 ],
 "metadata": {
  "kernelspec": {
   "display_name": "Python 3",
   "language": "python",
   "name": "python3"
  },
  "language_info": {
   "codemirror_mode": {
    "name": "ipython",
    "version": 3
   },
   "file_extension": ".py",
   "mimetype": "text/x-python",
   "name": "python",
   "nbconvert_exporter": "python",
   "pygments_lexer": "ipython3",
   "version": "3.7.3"
  }
 },
 "nbformat": 4,
 "nbformat_minor": 2
}
