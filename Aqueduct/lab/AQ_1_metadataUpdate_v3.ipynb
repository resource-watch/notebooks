{
 "cells": [
  {
   "cell_type": "code",
   "execution_count": 32,
   "metadata": {},
   "outputs": [
    {
     "data": {
      "application/json": {
       "Software versions": [
        {
         "module": "Python",
         "version": "3.7.3 64bit [GCC 7.3.0]"
        },
        {
         "module": "IPython",
         "version": "7.8.0"
        },
        {
         "module": "OS",
         "version": "Linux 5.0.0 32 generic x86_64 with debian buster sid"
        },
        {
         "module": "vega",
         "version": "0.5.0"
        },
        {
         "module": "pandas",
         "version": "0.25.1"
        },
        {
         "module": "IPython",
         "version": "7.8.0"
        },
        {
         "module": "ipywidgets",
         "version": "7.5.1"
        },
        {
         "module": "re",
         "version": "2.2.1"
        }
       ]
      },
      "text/html": [
       "<table><tr><th>Software</th><th>Version</th></tr><tr><td>Python</td><td>3.7.3 64bit [GCC 7.3.0]</td></tr><tr><td>IPython</td><td>7.8.0</td></tr><tr><td>OS</td><td>Linux 5.0.0 32 generic x86_64 with debian buster sid</td></tr><tr><td>vega</td><td>0.5.0</td></tr><tr><td>pandas</td><td>0.25.1</td></tr><tr><td>IPython</td><td>7.8.0</td></tr><tr><td>ipywidgets</td><td>7.5.1</td></tr><tr><td>re</td><td>2.2.1</td></tr><tr><td colspan='2'>Wed Nov 20 11:26:06 2019 UTC</td></tr></table>"
      ],
      "text/latex": [
       "\\begin{tabular}{|l|l|}\\hline\n",
       "{\\bf Software} & {\\bf Version} \\\\ \\hline\\hline\n",
       "Python & 3.7.3 64bit [GCC 7.3.0] \\\\ \\hline\n",
       "IPython & 7.8.0 \\\\ \\hline\n",
       "OS & Linux 5.0.0 32 generic x86\\_64 with debian buster sid \\\\ \\hline\n",
       "vega & 0.5.0 \\\\ \\hline\n",
       "pandas & 0.25.1 \\\\ \\hline\n",
       "IPython & 7.8.0 \\\\ \\hline\n",
       "ipywidgets & 7.5.1 \\\\ \\hline\n",
       "re & 2.2.1 \\\\ \\hline\n",
       "\\hline \\multicolumn{2}{|l|}{Wed Nov 20 11:26:06 2019 UTC} \\\\ \\hline\n",
       "\\end{tabular}\n"
      ],
      "text/plain": [
       "Software versions\n",
       "Python 3.7.3 64bit [GCC 7.3.0]\n",
       "IPython 7.8.0\n",
       "OS Linux 5.0.0 32 generic x86_64 with debian buster sid\n",
       "vega 0.5.0\n",
       "pandas 0.25.1\n",
       "IPython 7.8.0\n",
       "ipywidgets 7.5.1\n",
       "re 2.2.1\n",
       "Wed Nov 20 11:26:06 2019 UTC"
      ]
     },
     "execution_count": 32,
     "metadata": {},
     "output_type": "execute_result"
    }
   ],
   "source": [
    "import getpass\n",
    "import requests\n",
    "from tqdm import tqdm\n",
    "import ipywidgets as widgets\n",
    "from IPython.display import display, HTML, JSON, Code, Markdown\n",
    "import json\n",
    "%reload_ext version_information\n",
    "%version_information vega, pandas, IPython, ipywidgets, re"
   ]
  },
  {
   "cell_type": "code",
   "execution_count": 2,
   "metadata": {},
   "outputs": [
    {
     "name": "stdout",
     "output_type": "stream",
     "text": [
      "enter token········\n"
     ]
    }
   ],
   "source": [
    "token = getpass.getpass('enter token')"
   ]
  },
  {
   "cell_type": "code",
   "execution_count": 33,
   "metadata": {},
   "outputs": [],
   "source": [
    "staging_server='https://staging-api.globalforestwatch.org'\n",
    "prod_server = \"https://api.resourcewatch.org\"\n",
    "app = [\"aqueduct\"]\n",
    "env = 'production'\n",
    "object_type = ['dataset']\n",
    "search_term = ''"
   ]
  },
  {
   "cell_type": "code",
   "execution_count": 8,
   "metadata": {},
   "outputs": [
    {
     "data": {
      "application/vnd.jupyter.widget-view+json": {
       "model_id": "b2de7852990046848602cee054e27302",
       "version_major": 2,
       "version_minor": 0
      },
      "text/plain": [
       "TwoByTwoLayout(children=(Button(description='Update Layer', layout=Layout(grid_area='top-left'), style=ButtonS…"
      ]
     },
     "metadata": {},
     "output_type": "display_data"
    },
    {
     "ename": "NameError",
     "evalue": "name 'OAUTH' is not defined",
     "output_type": "error",
     "traceback": [
      "\u001b[0;31m---------------------------------------------------------------------------\u001b[0m",
      "\u001b[0;31mNameError\u001b[0m                                 Traceback (most recent call last)",
      "\u001b[0;32m<ipython-input-8-405bc20fd783>\u001b[0m in \u001b[0;36mon_revert_layer\u001b[0;34m(b)\u001b[0m\n\u001b[1;32m     33\u001b[0m     \u001b[0;32mdef\u001b[0m \u001b[0mon_revert_layer\u001b[0m\u001b[0;34m(\u001b[0m\u001b[0mb\u001b[0m\u001b[0;34m)\u001b[0m\u001b[0;34m:\u001b[0m\u001b[0;34m\u001b[0m\u001b[0;34m\u001b[0m\u001b[0m\n\u001b[1;32m     34\u001b[0m         \u001b[0;31m#print(status.children)\u001b[0m\u001b[0;34m\u001b[0m\u001b[0;34m\u001b[0m\u001b[0;34m\u001b[0m\u001b[0m\n\u001b[0;32m---> 35\u001b[0;31m         \u001b[0mUpdateWidget\u001b[0m\u001b[0;34m(\u001b[0m\u001b[0mCurrentWidget\u001b[0m\u001b[0;34m[\u001b[0m\u001b[0;34m'data'\u001b[0m\u001b[0;34m]\u001b[0m\u001b[0;34m[\u001b[0m\u001b[0;34m'attributes'\u001b[0m\u001b[0;34m]\u001b[0m\u001b[0;34m[\u001b[0m\u001b[0;34m'dataset'\u001b[0m\u001b[0;34m]\u001b[0m\u001b[0;34m,\u001b[0m \u001b[0mwidgetId\u001b[0m\u001b[0;34m,\u001b[0m \u001b[0;34m{\u001b[0m\u001b[0;34m'widgetConfig'\u001b[0m\u001b[0;34m:\u001b[0m\u001b[0mCurrentWidget\u001b[0m\u001b[0;34m[\u001b[0m\u001b[0;34m'data'\u001b[0m\u001b[0;34m]\u001b[0m\u001b[0;34m[\u001b[0m\u001b[0;34m'attributes'\u001b[0m\u001b[0;34m]\u001b[0m\u001b[0;34m[\u001b[0m\u001b[0;34m'widgetConfig'\u001b[0m\u001b[0;34m]\u001b[0m\u001b[0;34m}\u001b[0m\u001b[0;34m)\u001b[0m\u001b[0;34m\u001b[0m\u001b[0;34m\u001b[0m\u001b[0m\n\u001b[0m\u001b[1;32m     36\u001b[0m         \u001b[0mstatusRevertL\u001b[0m\u001b[0;34m.\u001b[0m\u001b[0mvalue\u001b[0m \u001b[0;34m=\u001b[0m \u001b[0;34mf\"Widget reverted\"\u001b[0m\u001b[0;34m\u001b[0m\u001b[0;34m\u001b[0m\u001b[0m\n\u001b[1;32m     37\u001b[0m         \u001b[0mb\u001b[0m\u001b[0;34m.\u001b[0m\u001b[0mbutton_style\u001b[0m \u001b[0;34m=\u001b[0m \u001b[0;34m'success'\u001b[0m\u001b[0;34m\u001b[0m\u001b[0;34m\u001b[0m\u001b[0m\n",
      "\u001b[0;32m<ipython-input-8-405bc20fd783>\u001b[0m in \u001b[0;36mUpdateWidget\u001b[0;34m(datasetId, widgetId, body)\u001b[0m\n\u001b[1;32m     68\u001b[0m     \u001b[0;32mtry\u001b[0m\u001b[0;34m:\u001b[0m\u001b[0;34m\u001b[0m\u001b[0;34m\u001b[0m\u001b[0m\n\u001b[1;32m     69\u001b[0m         \u001b[0murl\u001b[0m \u001b[0;34m=\u001b[0m \u001b[0;34mf'{envUrl}/v1/dataset/{datasetId}/widget/{widgetId}'\u001b[0m\u001b[0;34m\u001b[0m\u001b[0;34m\u001b[0m\u001b[0m\n\u001b[0;32m---> 70\u001b[0;31m         \u001b[0mheaders\u001b[0m \u001b[0;34m=\u001b[0m \u001b[0;34m{\u001b[0m\u001b[0;34m'Authorization'\u001b[0m\u001b[0;34m:\u001b[0m \u001b[0;34mf'{OAUTH}'\u001b[0m\u001b[0;34m,\u001b[0m \u001b[0;34m'Content-Type'\u001b[0m\u001b[0;34m:\u001b[0m \u001b[0;34m'application/json'\u001b[0m\u001b[0;34m}\u001b[0m\u001b[0;34m\u001b[0m\u001b[0;34m\u001b[0m\u001b[0m\n\u001b[0m\u001b[1;32m     71\u001b[0m         \u001b[0mr\u001b[0m \u001b[0;34m=\u001b[0m \u001b[0mrequests\u001b[0m\u001b[0;34m.\u001b[0m\u001b[0mpatch\u001b[0m\u001b[0;34m(\u001b[0m\u001b[0murl\u001b[0m\u001b[0;34m,\u001b[0m \u001b[0mdata\u001b[0m\u001b[0;34m=\u001b[0m\u001b[0mjson\u001b[0m\u001b[0;34m.\u001b[0m\u001b[0mdumps\u001b[0m\u001b[0;34m(\u001b[0m\u001b[0mbody\u001b[0m\u001b[0;34m)\u001b[0m\u001b[0;34m,\u001b[0m \u001b[0mheaders\u001b[0m\u001b[0;34m=\u001b[0m\u001b[0mheaders\u001b[0m\u001b[0;34m)\u001b[0m\u001b[0;34m\u001b[0m\u001b[0;34m\u001b[0m\u001b[0m\n\u001b[1;32m     72\u001b[0m         \u001b[0;32mif\u001b[0m \u001b[0mr\u001b[0m\u001b[0;34m.\u001b[0m\u001b[0mstatus_code\u001b[0m \u001b[0;34m==\u001b[0m \u001b[0;36m200\u001b[0m\u001b[0;34m:\u001b[0m\u001b[0;34m\u001b[0m\u001b[0;34m\u001b[0m\u001b[0m\n",
      "\u001b[0;31mNameError\u001b[0m: name 'OAUTH' is not defined"
     ]
    }
   ],
   "source": [
    "def testButton(widgetId):\n",
    "    buttonUpdateL = widgets.Button(description=\"Update Layer\")\n",
    "    statusUpdateL = widgets.HTML(\n",
    "    value=\"\",\n",
    "    placeholder='',\n",
    "    description='',\n",
    "    )\n",
    "    buttonRevertL = widgets.Button(description=\"Revert Layer\")\n",
    "    statusRevertL = widgets.HTML(\n",
    "    value=\"\",\n",
    "    placeholder='',\n",
    "    description='',\n",
    "    )\n",
    "    layout_2x2 = widgets.TwoByTwoLayout(top_left=buttonUpdateL, \n",
    "                                        top_right=statusUpdateL,\n",
    "                                        bottom_left=buttonRevertL, \n",
    "                                        bottom_right=statusRevertL,\n",
    "                                        justify_items='left',\n",
    "                                        width=\"100%\",\n",
    "                                        align_items=\"flex-start\")\n",
    "    CurrentWidget = GetWidget(widgetId)\n",
    "    #New\n",
    "    \n",
    "    def on_update_layer(b):\n",
    "        #print(status.children)\n",
    "        statusUpdateL.value = f\"Hello <b>Status: {CurrentWidget['data']['attributes']['dataset']} </b>\"\n",
    "        b.button_style = 'success'\n",
    "        b.disabled=True\n",
    "        buttonRevertL.disabled=False\n",
    "        buttonRevertL.button_style = ''\n",
    "        statusRevertL.value = ''\n",
    "        return b\n",
    "    def on_revert_layer(b):\n",
    "        #print(status.children)\n",
    "        UpdateWidget(CurrentWidget['data']['attributes']['dataset'], widgetId, {'widgetConfig':CurrentWidget['data']['attributes']['widgetConfig']})\n",
    "        statusRevertL.value = f\"Widget reverted\"\n",
    "        b.button_style = 'success'\n",
    "        b.disabled=True\n",
    "        buttonUpdateL.disabled=False\n",
    "        buttonUpdateL.button_style = ''\n",
    "        statusUpdateL.value = ''\n",
    "        \n",
    "        return b\n",
    "        \n",
    "    buttonUpdateL.on_click(on_update_layer)\n",
    "    buttonRevertL.on_click(on_revert_layer)\n",
    "    return layout_2x2\n",
    "\n",
    "class Error(Exception):\n",
    "    def __init__(self, m):\n",
    "        self.message = m\n",
    "    def __str__(self):\n",
    "        return self.message\n",
    "\n",
    "def GetWidget(widgetId: str):\n",
    "    try:\n",
    "        widgetUrl=f\"{envUrl}/v1/widget/{widgetId}\"\n",
    "        s=requests.get(widgetUrl)\n",
    "        if s.status_code == 200:\n",
    "            return s.json()\n",
    "        else:\n",
    "                raise Error(f'status code {r.status_code}, {r.text}')\n",
    "    except Error as e:\n",
    "        raise e\n",
    "\n",
    "        \n",
    "def UpdateWidget(datasetId: str, widgetId: str, body: dict):\n",
    "    try:\n",
    "        url = f'{envUrl}/v1/dataset/{datasetId}/widget/{widgetId}'\n",
    "        headers = {'Authorization': f'{OAUTH}', 'Content-Type': 'application/json'}\n",
    "        r = requests.patch(url, data=json.dumps(body), headers=headers)\n",
    "        if r.status_code == 200:\n",
    "            return r.json()\n",
    "        else:\n",
    "            raise Error(f'status code {r.status_code}, {r.text}')\n",
    "    except Error as e:\n",
    "        raise e\n",
    "        \n",
    "def displayWidgetMetadata(name, widgetID, sqlOld, confOld, sqlNew, confNew, newVegaSpec={}, visualize=True):\n",
    "    header = widgets.Output()\n",
    "    with header:\n",
    "        display(Markdown(f'#### {name}'))\n",
    "        display(Markdown(f'**Widget ID**: [{widgetID}]({envUrl}/v1/widget/{widgetID})  '))\n",
    "    \n",
    "    accOld = widgets.Output()\n",
    "    with accOld:\n",
    "        display(Markdown(f\"\"\">```PLSQL {sqlOld} ``` \"\"\"))\n",
    "        display(Markdown(f\"\"\">```JSON\n",
    "    {json.dumps(confOld, indent=2)}``` \"\"\"))\n",
    "        getData(sqlOld, confOld, testscenario)\n",
    "        display(Markdown('---'))\n",
    "    \n",
    "    accNew = widgets.Output()\n",
    "    with accNew:\n",
    "        display(Markdown(f\"\"\">```PLSQL {sqlNew} ``` \"\"\"))\n",
    "        display(Markdown(f\"\"\">```JSON \n",
    "    {json.dumps(confNew, indent=2)} ``` \"\"\"))\n",
    "        display(Markdown('---'))\n",
    "        display(Markdown('**Example result**'))\n",
    "        getData(sqlNew, confNew, testscenario)\n",
    "        \n",
    "        \n",
    "    accordionData = widgets.Accordion(children=[accOld, accNew])\n",
    "    accordionData.set_title(0, 'Old data')\n",
    "    accordionData.set_title(1, 'New data')\n",
    "    accordionData.selected_index = 1\n",
    "    tab_nest = widgets.Tab()\n",
    "    tab_childs = [accordionData]\n",
    "    visual = []\n",
    "    if visualize:\n",
    "        vegaView = widgets.Output()\n",
    "        with vegaView:\n",
    "            display(visualizeWidget(widgetID, confNew, testscenario))\n",
    "        visual.append(vegaView)\n",
    "    tab_childs.append(widgets.VBox(visual))\n",
    "        \n",
    "    tab_nest.children = tab_childs\n",
    "    tab_nest.set_title(0, 'Query Information')\n",
    "    tab_nest.set_title(1, 'Current api Visualization')\n",
    "\n",
    "    app = widgets.AppLayout(header=header,\n",
    "                    center=tab_nest,\n",
    "                    pane_widths=[1, 5, 1],\n",
    "                    pane_heights=[1, 5, 1],\n",
    "                    width=\"100%\",\n",
    "                    height=\"100%\",\n",
    "                    align_items='top',\n",
    "          grid_gap=\"1px\")\n",
    "    ####\n",
    "    display(app)\n",
    "\n",
    "testButton('9391e42c-f32b-40d9-a282-3083e617464f')"
   ]
  },
  {
   "cell_type": "code",
   "execution_count": 34,
   "metadata": {},
   "outputs": [],
   "source": [
    "def createMetadata(widgetId, body):\n",
    "    try:\n",
    "        headers = {\n",
    "            'Authorization': f'{token}',\n",
    "            'Content-Type': 'application/json'\n",
    "        }\n",
    "        datasetId = GetWidget(widgetId)['data']['attributes']['dataset']\n",
    "        getData = requests.get(f'{staging_server}/v1/dataset/{datasetId}/metadata')\n",
    "        if len(getData.json()['data']) > 0:\n",
    "            r = requests.patch(f'{staging_server}/v1/dataset/{datasetId}/metadata', data=json.dumps(body), headers=headers)\n",
    "            if r.status_code == 200:\n",
    "                return r.json()\n",
    "            else:\n",
    "                \n",
    "                raise Error(f'status code {r.status_code}, {r.url}, {r.text}')\n",
    "        else:\n",
    "            r = requests.post(f'{staging_server}/v1/dataset/{datasetId}/metadata', data=json.dumps(body), headers=headers)\n",
    "            if r.status_code == 200:\n",
    "                return r.json()\n",
    "            else:\n",
    "                raise Error(f'status code {r.status_code}, {r.text}')\n",
    "    except Error as e:\n",
    "        raise e\n",
    "\n",
    "def GetWidget(widgetId: str):\n",
    "    try:\n",
    "        widgetUrl=f\"{staging_server}/v1/widget/{widgetId}\"\n",
    "        s=requests.get(widgetUrl)\n",
    "        if s.status_code == 200:\n",
    "            return s.json()\n",
    "        else:\n",
    "            raise Error(f'status code {s.status_code}, {s.text}')\n",
    "    except Error as e:\n",
    "        raise e"
   ]
  },
  {
   "cell_type": "code",
   "execution_count": 37,
   "metadata": {
    "scrolled": true
   },
   "outputs": [
    {
     "data": {
      "text/plain": [
       "{'data': [{'id': '5a6073b001fa4b00134da6c3',\n",
       "   'type': 'metadata',\n",
       "   'attributes': {'dataset': 'fc85eac5-d27c-49d2-a248-dee26ec858bc',\n",
       "    'application': 'aqueduct',\n",
       "    'resource': {'id': 'fc85eac5-d27c-49d2-a248-dee26ec858bc',\n",
       "     'type': 'dataset'},\n",
       "    'language': 'en',\n",
       "    'name': 'Percentage of global [crop] area that is irrigated vs. rainfed',\n",
       "    'description': 'This figure displays the share of harvested land that is irrigated versus rainfed for the selected crop(s) and timeframe.',\n",
       "    'source': '',\n",
       "    'info': {'sources': [{'source-url': 'https://www.ifpri.org/program/impact-model',\n",
       "       'id': 0,\n",
       "       'source-name': 'IFPRI IMPACT Model 2015'}]},\n",
       "    'createdAt': '2018-01-18T10:15:12.957Z',\n",
       "    'updatedAt': '2019-11-20T15:25:52.431Z',\n",
       "    'status': 'published'}}]}"
      ]
     },
     "execution_count": 37,
     "metadata": {},
     "output_type": "execute_result"
    }
   ],
   "source": [
    "widgetId = '606c813b-d716-4b0b-8717-9389425c9262'\n",
    "body = {\n",
    "    \"application\": \"aqueduct\",\n",
    "    \"language\": \"en\",\n",
    "    \"name\": \"Percentage of global [crop] area that is irrigated vs. rainfed\",\n",
    "    \"description\": \"This figure displays the share of harvested land that is irrigated versus rainfed for the selected crop(s) and timeframe.\",\n",
    "    \"info\": {\n",
    "        \"sources\": [\n",
    "            {\n",
    "                \"source-url\": \"https://www.ifpri.org/program/impact-model\",\n",
    "                \"id\": 0,\n",
    "                \"source-name\": \"IFPRI IMPACT Model 2015\"\n",
    "            }\n",
    "        ]\n",
    "    }\n",
    "}\n",
    "createMetadata(widgetId, body)"
   ]
  },
  {
   "cell_type": "code",
   "execution_count": 35,
   "metadata": {},
   "outputs": [
    {
     "data": {
      "text/plain": [
       "{'data': [{'id': '5a250cf46b2ad20012d9a289',\n",
       "   'type': 'metadata',\n",
       "   'attributes': {'dataset': '202c67a5-5370-4578-b8d6-16533fc44980',\n",
       "    'application': 'aqueduct',\n",
       "    'resource': {'id': '202c67a5-5370-4578-b8d6-16533fc44980',\n",
       "     'type': 'dataset'},\n",
       "    'language': 'en',\n",
       "    'name': 'Kilocalories per capita in [Country] in [year]',\n",
       "    'description': \"This figure displays the selected country's average availability of kilocalories per person per day, benchmarked against a globally applied minimum requirement to prevent malnourishment (FAO 1996).\",\n",
       "    'info': {'sources': [{'source-url': 'https://www.ifpri.org/program/impact-model',\n",
       "       'source-name': 'IFPRI IMPACT Model 2015'}],\n",
       "     'units': 'Kcal/person/day',\n",
       "     'resolution': 'national'},\n",
       "    'columns': {},\n",
       "    'createdAt': '2017-12-04T08:53:08.013Z',\n",
       "    'updatedAt': '2019-11-20T11:26:28.821Z',\n",
       "    'status': 'published'}}]}"
      ]
     },
     "execution_count": 35,
     "metadata": {},
     "output_type": "execute_result"
    }
   ],
   "source": [
    "widgetId = 'af969fd8-fd47-430d-ad13-9113e42e9fed'\n",
    "body = {\n",
    "   \"application\": \"aqueduct\",\n",
    "   \"language\": \"en\",\n",
    "    \"name\": \"Kilocalories per capita in [Country] in [year]\",\n",
    "    \"description\": \"This figure displays the selected country's average availability of kilocalories per person per day, benchmarked against a globally applied minimum requirement to prevent malnourishment (FAO 1996).\",\n",
    "    \"info\": {\n",
    "        \"sources\": [\n",
    "{\n",
    "\"source-url\": \"https://www.ifpri.org/program/impact-model\",\n",
    "\"source-name\": \"IFPRI IMPACT Model 2015\"\n",
    "}\n",
    "],\n",
    "\"units\": \"Kcal/person/day\",\n",
    "\"resolution\": \"national\"\n",
    "    }\n",
    "}\n",
    "createMetadata( widgetId, body)"
   ]
  },
  {
   "cell_type": "code",
   "execution_count": 46,
   "metadata": {},
   "outputs": [
    {
     "data": {
      "text/plain": [
       "{'data': [{'id': '5dd51fbb68b94e00103b7bad',\n",
       "   'type': 'metadata',\n",
       "   'attributes': {'dataset': '19fcbe42-69d7-48fb-a64b-ae1469dd14d3',\n",
       "    'application': 'aqueduct',\n",
       "    'resource': {'id': '19fcbe42-69d7-48fb-a64b-ae1469dd14d3',\n",
       "     'type': 'dataset'},\n",
       "    'language': 'en',\n",
       "    'description': 'This figure displays the percentage of crop production by level of groundwater table decline for the timeframe selected.',\n",
       "    'info': {'sources': [{'source-url': 'https://www.wri.org/publication/aqueduct-30',\n",
       "       'source-name': 'WRI Aqueduct 2019'},\n",
       "      {'source-url': 'http://mapspam.info/', 'source-name': 'MapSPAM 2010'}]},\n",
       "    'createdAt': '2019-11-20T11:12:59.775Z',\n",
       "    'updatedAt': '2019-11-20T15:41:19.322Z',\n",
       "    'status': 'published'}}]}"
      ]
     },
     "execution_count": 46,
     "metadata": {},
     "output_type": "execute_result"
    }
   ],
   "source": [
    "widgetId = 'b759392b-96be-440f-80f5-c14929aac11b'\n",
    "body = {\n",
    "   \"application\": \"aqueduct\",\n",
    "   \"language\": \"en\",\n",
    " \"info\": {\n",
    "\"sources\": [\n",
    "{\n",
    "\"source-url\": \"https://www.wri.org/publication/aqueduct-30\",\n",
    "\"source-name\": \"WRI Aqueduct 2019\"\n",
    "},\n",
    "{\n",
    "\"source-url\": \"http://mapspam.info/\",\n",
    "\"source-name\": \"MapSPAM 2010\"\n",
    "}\n",
    "]\n",
    "}\n",
    "}\n",
    "createMetadata( widgetId, body)"
   ]
  },
  {
   "cell_type": "code",
   "execution_count": null,
   "metadata": {},
   "outputs": [],
   "source": []
  }
 ],
 "metadata": {
  "kernelspec": {
   "display_name": "Python 3",
   "language": "python",
   "name": "python3"
  },
  "language_info": {
   "codemirror_mode": {
    "name": "ipython",
    "version": 3
   },
   "file_extension": ".py",
   "mimetype": "text/x-python",
   "name": "python",
   "nbconvert_exporter": "python",
   "pygments_lexer": "ipython3",
   "version": "3.8.6"
  }
 },
 "nbformat": 4,
 "nbformat_minor": 2
}
