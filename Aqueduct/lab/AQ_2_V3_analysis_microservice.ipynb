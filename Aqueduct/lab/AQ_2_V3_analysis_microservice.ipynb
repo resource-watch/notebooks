{
 "cells": [
  {
   "cell_type": "markdown",
   "metadata": {
    "toc": "true"
   },
   "source": [
    "# Table of Contents\n",
    " <p><div class=\"lev1 toc-item\"><a href=\"#Point-analysis-endpoint-definition\" data-toc-modified-id=\"Point-analysis-endpoint-definition-1\"><span class=\"toc-item-num\">1&nbsp;&nbsp;</span>Point analysis endpoint definition</a></div><div class=\"lev1 toc-item\"><a href=\"#Geocoding-endpoint-definition\" data-toc-modified-id=\"Geocoding-endpoint-definition-2\"><span class=\"toc-item-num\">2&nbsp;&nbsp;</span>Geocoding endpoint definition</a></div>"
   ]
  },
  {
   "cell_type": "markdown",
   "metadata": {},
   "source": [
    "# Point analysis endpoint definition\n",
    "\n",
    "**Repo**: ```https://github.com/resource-watch/aqueduct-analysis-microservice``` \n",
    "\n",
    "**GET**:  ```<api-url>/aqueduct/analysis?geostore=<geostore>&analysis_type=<analysis type>&wscheme=<weight scheme>&year=<year>&change_type=<changetype>&indicator=<indicator>&scenario=<scenario>&locations=<locations array>&input_address=<input address array>&match_address=<match address array>``` \n",
    "\n",
    "**Example**: `0.0.0.0:9000/v1/aqueduct/analysis?geostore=3180551e745d2977a0ee51ca85118fe3&locations=[''Location_1'', ''Location_2'']&input_address=[''address_1'', ''address_2'']&match_address=[null, ''address_2'']&analysis_type=projected&month=1&wscheme='[0.,0.25,0.5,1.,1.,1.,null,1.,1.,0.25,1.,1.,1.]'&year=2030&change_type=change_from_baseline&indicator=water_stress&scenario=business_as_usual`\n",
    "\n",
    "The parameters are: \n",
    "\n",
    "- **geostore** =  3180551e745d2977a0ee51ca85118fe3\n",
    "\n",
    "     geostore id of a MultiPoint type geometry. \n",
    "   \n",
    "- **locations** = [''Location_1'', ''Location_2'']\n",
    "\n",
    "    list with locations' names.\n",
    " \n",
    "- **input_address** = [''address_1'', ''address_2'']\n",
    "\n",
    "    list with input address names.\n",
    "\n",
    "- **match_address** = [''address_1'', null]\n",
    "\n",
    "    list with input match names.\n",
    "\n",
    "- **analysis_type** = {annual, monthly, projected, custom}\n",
    "    - *annual*: Analysis for the annual baseline indicators\n",
    "    - *monthly*: Analysis for the monthly baseline indicators\n",
    "    - *projected*: Analysis for the  annual projected indicators\n",
    "    - *custom*: Analysis for the  annual projected indicators\n",
    "    \n",
    "- **month** = integers from 1 to 12.\n",
    "\n",
    "     This parameter is only used for the *monthly* indicators.\n",
    "     \n",
    "- **wscheme** = '[0.,0.25,0.5,1.,1.,1.,null,1.,1.,0.25,1.,1.,1.]'\n",
    "\n",
    "     list with the 13 indicators' weights. weight can take the following values: {null, 0.25, 0.5, 1, 2, 4}. \n",
    "     \n",
    "     This parameter is only use for the *custom* analysis.\n",
    "\n",
    "- **year** = {2030, 2040}\n",
    "\n",
    "     projection years. T\n",
    "     \n",
    "     This parameter is only use for the *projected* analysis.\n",
    "     \n",
    "- **change_type** = {future_value, change_from_baseline}\n",
    "    - *future_value*: Absolute value of the selected indicator\n",
    "    - *change_from_baseline*: Change from baseline of the selected indicator\n",
    "\n",
    "     This parameter is only use for the *projected* analysis.\n",
    "     \n",
    "- **indicator** = {water_stress, seasonal_variability, water_supply, water_demand}\n",
    "    - *water_stress*: The ratio of water use to supply.\n",
    "    - *seasonal_variability*: The variability of water supply between the months of the year.\n",
    "    - *water_supply*: Water supply. \n",
    "    - *water_demand*: Water demand.\n",
    "\n",
    "     This parameter is only use for the *projected* analysis.\n",
    "\n",
    "# Geocoding endpoint definition\n",
    "\n",
    "I have added a new endpoint into the microservice to perform the geocoding of addresses.\n",
    "The endpoints support `.csv` and `.xlsx` files as an input. The input files should contain a column called `address`.\n",
    "\n",
    "**Example**: `0.0.0.0:9000/v1/aqueduct/geocoding`"
   ]
  },
  {
   "cell_type": "code",
   "execution_count": null,
   "metadata": {},
   "outputs": [],
   "source": []
  }
 ],
 "metadata": {
  "kernelspec": {
   "display_name": "Python 3",
   "language": "python",
   "name": "python3"
  },
  "language_info": {
   "codemirror_mode": {
    "name": "ipython",
    "version": 3
   },
   "file_extension": ".py",
   "mimetype": "text/x-python",
   "name": "python",
   "nbconvert_exporter": "python",
   "pygments_lexer": "ipython3",
   "version": "3.7.3"
  },
  "toc": {
   "colors": {
    "hover_highlight": "#DAA520",
    "navigate_num": "#000000",
    "navigate_text": "#333333",
    "running_highlight": "#FF0000",
    "selected_highlight": "#FFD700",
    "sidebar_border": "#EEEEEE",
    "wrapper_background": "#FFFFFF"
   },
   "moveMenuLeft": true,
   "nav_menu": {
    "height": "48px",
    "width": "252px"
   },
   "navigate_menu": true,
   "number_sections": true,
   "sideBar": true,
   "threshold": "2",
   "toc_cell": true,
   "toc_section_display": "block",
   "toc_window_display": true,
   "widenNotebook": false
  },
  "varInspector": {
   "cols": {
    "lenName": 16,
    "lenType": 16,
    "lenVar": 40
   },
   "kernels_config": {
    "python": {
     "delete_cmd_postfix": "",
     "delete_cmd_prefix": "del ",
     "library": "var_list.py",
     "varRefreshCmd": "print(var_dic_list())"
    },
    "r": {
     "delete_cmd_postfix": ") ",
     "delete_cmd_prefix": "rm(",
     "library": "var_list.r",
     "varRefreshCmd": "cat(var_dic_list()) "
    }
   },
   "types_to_exclude": [
    "module",
    "function",
    "builtin_function_or_method",
    "instance",
    "_Feature"
   ],
   "window_display": false
  }
 },
 "nbformat": 4,
 "nbformat_minor": 2
}
