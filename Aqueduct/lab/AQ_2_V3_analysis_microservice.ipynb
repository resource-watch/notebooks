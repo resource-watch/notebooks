{
 "cells": [
  {
   "cell_type": "markdown",
   "metadata": {},
   "source": [
    "# Point analysis endpoint definition\n",
    "\n",
    "**Repo**: ```https://github.com/resource-watch/aqueduct-analysis-microservice``` \n",
    "\n",
    "**GET**:  ```<api-url>/aqueduct/analysis?geostore=<geostore>&analysis_type=<analysis type>&wscheme=<weight scheme>&year=<year>&change_type=<changetype>&indicator=<indicator>&scenario=<scenario>``` \n",
    "\n",
    "**Example**: `0.0.0.0:9000/v1/aqueduct/analysis?geostore=3180551e745d2977a0ee51ca85118fe3&analysis_type=projected&month=1&wscheme='[0.,0.25,0.5,1.,1.,1.,null,1.,1.,0.25,1.,1.,1.]'&year=2030&change_type=change_from_baseline&indicator=water_stress&scenario=business_as_usual`\n",
    "\n",
    "The parameters are: \n",
    "\n",
    "- **geostore** =  3180551e745d2977a0ee51ca85118fe3\n",
    "\n",
    "     geostore id of a MultiPoint type geometry. \n",
    "\n",
    "- **analysis_type** = {annual, monthly, projected, custom}\n",
    "    - *annual*: Analysis for the annual baseline indicators\n",
    "    - *monthly*: Analysis for the monthly baseline indicators\n",
    "    - *projected*: Analysis for the  annual projected indicators\n",
    "    - *custom*: Analysis for the  annual projected indicators\n",
    "    \n",
    "- **month** = integers from 1 to 12.\n",
    "\n",
    "     this parameter is only used for the *monthly* indicators.\n",
    "     \n",
    "- **wscheme** = '[0.,0.25,0.5,1.,1.,1.,null,1.,1.,0.25,1.,1.,1.]'\n",
    "\n",
    "     list with the 13 indicators' weights. weight can take the following values: {null, 0.25, 0.5, 1, 2, 4}. This parameter is only use for the *custom* analysis.\n",
    "\n",
    "- **year** = {2030, 2040}\n",
    "\n",
    "     projection years. This parameter is only use for the *projected* analysis.\n",
    "     \n",
    "- **change_type** = {future_value, change_from_baseline}\n",
    "    - *future_value*: Absolute value of the selected indicator\n",
    "    - *change_from_baseline*: Change from baseline of the selected indicator\n",
    "\n",
    "     This parameter is only use for the *projected* analysis.\n",
    "     \n",
    "- **indicator** = {water_stress, seasonal_variability, water_supply, water_demand}\n",
    "    - *water_stress*: The ratio of water use to supply.\n",
    "    - *seasonal_variability*: The variability of water supply between the months of the year.\n",
    "    - *water_supply*: Water supply. \n",
    "    - *water_demand*: Water demand.\n",
    "\n",
    "     This parameter is only use for the *projected* analysis.\n",
    "     \n",
    "\n",
    "# Geocoding endpoint definition\n",
    "\n",
    "I have added a new endpoint into the microservice to perform the geocoding of addresses.\n",
    "The endpoints support `.csv` and `.xlsx` files as an input. The input files should contain a column called `address`.\n",
    "\n",
    "**Example**: `0.0.0.0:9000/v1/aqueduct/geocoding`"
   ]
  },
  {
   "cell_type": "code",
   "execution_count": null,
   "metadata": {},
   "outputs": [],
   "source": []
  }
 ],
 "metadata": {
  "kernelspec": {
   "display_name": "Python 3",
   "language": "python",
   "name": "python3"
  },
  "language_info": {
   "codemirror_mode": {
    "name": "ipython",
    "version": 3
   },
   "file_extension": ".py",
   "mimetype": "text/x-python",
   "name": "python",
   "nbconvert_exporter": "python",
   "pygments_lexer": "ipython3",
   "version": "3.6.8"
  }
 },
 "nbformat": 4,
 "nbformat_minor": 2
}
